{
 "cells": [
  {
   "cell_type": "code",
   "execution_count": 1,
   "metadata": {
    "collapsed": false
   },
   "outputs": [],
   "source": [
    "import circuit\n",
    "circuit.test_circuit()"
   ]
  },
  {
   "cell_type": "code",
   "execution_count": 2,
   "metadata": {
    "collapsed": false
   },
   "outputs": [],
   "source": [
    "import pygsti\n",
    "from pygsti.objects import Circuit\n",
    "from pygsti.objects import GateString\n",
    "from pygsti.baseobjs import Label\n",
    "from pygsti.objects import ProcessorSpec"
   ]
  },
  {
   "cell_type": "code",
   "execution_count": 3,
   "metadata": {
    "collapsed": false
   },
   "outputs": [],
   "source": [
    "# Tests init a pspec using standard gatenames, and all standards.\n",
    "n = 3\n",
    "gate_names = ['Gi','Gh','Gp','Gxpi','Gypi','Gzpi','Gpdag','Gcphase']\n",
    "ps = ProcessorSpec(n,gate_names=gate_names)"
   ]
  },
  {
   "cell_type": "code",
   "execution_count": 6,
   "metadata": {
    "collapsed": false
   },
   "outputs": [
    {
     "data": {
      "text/plain": [
       "defaultdict(list,\n",
       "            {(0,): [Label[Gi:0],\n",
       "              Label[Gh:0],\n",
       "              Label[Gp:0],\n",
       "              Label[Gxpi:0],\n",
       "              Label[Gypi:0],\n",
       "              Label[Gzpi:0],\n",
       "              Label[Gpdag:0]],\n",
       "             (0, 1): [Label[Gcphase:0:1], Label[Gcphase:1:0]],\n",
       "             (0, 2): [Label[Gcphase:0:2], Label[Gcphase:2:0]],\n",
       "             (1,): [Label[Gi:1],\n",
       "              Label[Gh:1],\n",
       "              Label[Gp:1],\n",
       "              Label[Gxpi:1],\n",
       "              Label[Gypi:1],\n",
       "              Label[Gzpi:1],\n",
       "              Label[Gpdag:1]],\n",
       "             (1, 0): [Label[Gcphase:0:1], Label[Gcphase:1:0]],\n",
       "             (1, 2): [Label[Gcphase:1:2], Label[Gcphase:2:1]],\n",
       "             (2,): [Label[Gi:2],\n",
       "              Label[Gh:2],\n",
       "              Label[Gp:2],\n",
       "              Label[Gxpi:2],\n",
       "              Label[Gypi:2],\n",
       "              Label[Gzpi:2],\n",
       "              Label[Gpdag:2]],\n",
       "             (2, 0): [Label[Gcphase:0:2], Label[Gcphase:2:0]],\n",
       "             (2, 1): [Label[Gcphase:1:2], Label[Gcphase:2:1]]})"
      ]
     },
     "execution_count": 6,
     "metadata": {},
     "output_type": "execute_result"
    }
   ],
   "source": [
    "ps.clifford_gates_on_qubits"
   ]
  },
  {
   "cell_type": "code",
   "execution_count": null,
   "metadata": {
    "collapsed": true
   },
   "outputs": [],
   "source": [
    "# Tests init a pspec using standard gatenames, nonstandard labels, and doing all compilations\n",
    "n = 7\n",
    "gate_names = ['Gi','Gh','Gp','Gxpi','Gypi','Gzpi','Gpdag','Gcphase']\n",
    "qubit_labels = ['Q'+str(i) for i in range(0,7)]\n",
    "print(qubit_labels)\n",
    "availability = {'Gcphase':[('Q'+str(i),'Q'+str(i+1)) for i in range(0,n-2)]}\n",
    "ps = ProcessorSpec(n,gate_names=gate_names,availability=availability, qubit_labels=qubit_labels,  construct_clifford_compilations = {'paulieq' : ('1Qcliffords','allcnots'), \n",
    "                'absolute': ('paulis','1Qcliffords')}, verbosity=0)"
   ]
  },
  {
   "cell_type": "code",
   "execution_count": null,
   "metadata": {
    "collapsed": true
   },
   "outputs": [],
   "source": []
  },
  {
   "cell_type": "code",
   "execution_count": null,
   "metadata": {
    "collapsed": true
   },
   "outputs": [],
   "source": []
  },
  {
   "cell_type": "code",
   "execution_count": null,
   "metadata": {
    "collapsed": true
   },
   "outputs": [],
   "source": []
  },
  {
   "cell_type": "code",
   "execution_count": null,
   "metadata": {
    "collapsed": true
   },
   "outputs": [],
   "source": []
  },
  {
   "cell_type": "code",
   "execution_count": null,
   "metadata": {
    "collapsed": true
   },
   "outputs": [],
   "source": [
    "c = Circuit(gatestring=[Label(('Gi','Q1')),Label(('Gxpi','Q1')),Label('Gcnot',('Q1','Q2'))],line_labels=['Q1','Q2'],identity='Gi')\n",
    "c.insert_idling_wires(['Q'+str(i) for i in range(8)])\n",
    "print(c)\n",
    "s = c.convert_to_quil()\n",
    "print(s)"
   ]
  }
 ],
 "metadata": {
  "kernelspec": {
   "display_name": "Python 3",
   "language": "python",
   "name": "python3"
  },
  "language_info": {
   "codemirror_mode": {
    "name": "ipython",
    "version": 3
   },
   "file_extension": ".py",
   "mimetype": "text/x-python",
   "name": "python",
   "nbconvert_exporter": "python",
   "pygments_lexer": "ipython3",
   "version": "3.6.3"
  }
 },
 "nbformat": 4,
 "nbformat_minor": 2
}
