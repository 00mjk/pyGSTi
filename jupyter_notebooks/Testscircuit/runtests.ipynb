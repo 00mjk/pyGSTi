{
 "cells": [
  {
   "cell_type": "code",
   "execution_count": 1,
   "metadata": {
    "collapsed": false
   },
   "outputs": [],
   "source": [
    "import circuit\n",
    "circuit.test_circuit()\n",
    "import processorspec\n",
    "processorspec.test_processorspec()\n",
    "import compilecliffordcircuit\n",
    "compilecliffordcircuit.test_compilecliffordcircuit()"
   ]
  },
  {
   "cell_type": "code",
   "execution_count": null,
   "metadata": {
    "collapsed": false
   },
   "outputs": [],
   "source": [
    "import pygsti\n",
    "from pygsti.objects import Circuit\n",
    "from pygsti.objects import GateString\n",
    "from pygsti.baseobjs import Label\n",
    "from pygsti.objects import ProcessorSpec\n",
    "from pygsti.tools import symplectic\n",
    "from pygsti.algorithms import compilecliffordcircuit as ccc\n",
    "import numpy as np"
   ]
  },
  {
   "cell_type": "code",
   "execution_count": null,
   "metadata": {
    "collapsed": false
   },
   "outputs": [],
   "source": [
    "n = 1\n",
    "# Pick a random Clifford to compile\n",
    "s, p = symplectic.random_clifford(1)\n",
    "c = ccc.compile_clifford(s, p)\n",
    "sout, pout = symplectic.symplectic_rep_of_clifford_circuit(c)\n",
    "assert(np.array_equal(s,sout))"
   ]
  },
  {
   "cell_type": "code",
   "execution_count": null,
   "metadata": {
    "collapsed": false
   },
   "outputs": [],
   "source": [
    "pspec.compilations['absolute']"
   ]
  },
  {
   "cell_type": "code",
   "execution_count": null,
   "metadata": {
    "collapsed": false
   },
   "outputs": [],
   "source": [
    "c.change_gate_library({Label('I','Q3'):Circuit(gatestring=[],num_lines=2)},allow_unchanged_gates=True)"
   ]
  },
  {
   "cell_type": "code",
   "execution_count": null,
   "metadata": {
    "collapsed": false
   },
   "outputs": [],
   "source": [
    "print(c)"
   ]
  },
  {
   "cell_type": "code",
   "execution_count": null,
   "metadata": {
    "collapsed": false
   },
   "outputs": [],
   "source": [
    "availability"
   ]
  },
  {
   "cell_type": "code",
   "execution_count": null,
   "metadata": {
    "collapsed": false
   },
   "outputs": [],
   "source": [
    "pspec.compilations['paulieq'].get_compilation_of(Label('CNOT',('Q0','Q3')), allowed_filter=set(['Q1','Q2','Q3']))"
   ]
  },
  {
   "cell_type": "code",
   "execution_count": null,
   "metadata": {
    "collapsed": false
   },
   "outputs": [],
   "source": [
    "pspec.compilations['absolute'][Label('I','Q1')]"
   ]
  },
  {
   "cell_type": "code",
   "execution_count": null,
   "metadata": {
    "collapsed": false
   },
   "outputs": [],
   "source": [
    "c = Circuit(gatestring=[Label('I',0)],num_lines=2)\n",
    "print(c)"
   ]
  },
  {
   "cell_type": "code",
   "execution_count": null,
   "metadata": {
    "collapsed": false
   },
   "outputs": [],
   "source": [
    "c.change_gate_library({},allow_unchanged_gates=True,depth_compression=False)"
   ]
  },
  {
   "cell_type": "code",
   "execution_count": null,
   "metadata": {
    "collapsed": false
   },
   "outputs": [],
   "source": [
    "c.line_items"
   ]
  },
  {
   "cell_type": "code",
   "execution_count": null,
   "metadata": {
    "collapsed": false
   },
   "outputs": [],
   "source": [
    "pspec.compilations['paulieq']"
   ]
  },
  {
   "cell_type": "code",
   "execution_count": null,
   "metadata": {
    "collapsed": false
   },
   "outputs": [],
   "source": [
    "print(c)"
   ]
  },
  {
   "cell_type": "code",
   "execution_count": null,
   "metadata": {
    "collapsed": false
   },
   "outputs": [],
   "source": [
    "pygsti.tools.symplectic.get_internal_gate_symplectic_representations()['P']"
   ]
  },
  {
   "cell_type": "code",
   "execution_count": null,
   "metadata": {
    "collapsed": false
   },
   "outputs": [],
   "source": [
    "def internal_gate_symplectic_action(m):\n",
    "    m[0,0] += 1"
   ]
  },
  {
   "cell_type": "code",
   "execution_count": null,
   "metadata": {
    "collapsed": true
   },
   "outputs": [],
   "source": [
    "a = np.zeros((4,4))"
   ]
  },
  {
   "cell_type": "code",
   "execution_count": null,
   "metadata": {
    "collapsed": true
   },
   "outputs": [],
   "source": [
    "internal_gate_symplectic_action(a)"
   ]
  },
  {
   "cell_type": "code",
   "execution_count": null,
   "metadata": {
    "collapsed": false
   },
   "outputs": [],
   "source": [
    "print(a)"
   ]
  },
  {
   "cell_type": "code",
   "execution_count": null,
   "metadata": {
    "collapsed": false
   },
   "outputs": [],
   "source": []
  },
  {
   "cell_type": "code",
   "execution_count": null,
   "metadata": {
    "collapsed": false
   },
   "outputs": [],
   "source": [
    "# Tests init a pspec using standard gatenames, and all standards.\n",
    "n = 3\n",
    "gate_names = ['Gi','Gh','Gp','Gxpi','Gypi','Gzpi','Gpdag','Gcphase']\n",
    "ps = ProcessorSpec(n,gate_names=gate_names)"
   ]
  },
  {
   "cell_type": "code",
   "execution_count": null,
   "metadata": {
    "collapsed": false
   },
   "outputs": [],
   "source": [
    "std_gates = pygsti.tools.internalgates.get_standard_gatename_unitaries()"
   ]
  },
  {
   "cell_type": "code",
   "execution_count": null,
   "metadata": {
    "collapsed": false
   },
   "outputs": [],
   "source": [
    "pygsti.symplectic.unitary_to_symplectic(np.dot(std_gates['Gxpi2'],std_gates['Gzmpi2']))"
   ]
  },
  {
   "cell_type": "code",
   "execution_count": null,
   "metadata": {
    "collapsed": false
   },
   "outputs": [],
   "source": [
    "pygsti.tools.internalgates.is_gate_pauli_equivalent_to_this_standard_unitary(np.dot(std_gates['Gxpi2'],std_gates['Gzpi2']),'PH')"
   ]
  },
  {
   "cell_type": "code",
   "execution_count": null,
   "metadata": {
    "collapsed": false
   },
   "outputs": [],
   "source": [
    "# Tests init a pspec using standard gatenames, and all standards.\n",
    "n = 3\n",
    "gate_names = ['Gi','Gh','Gp','Gxpi','Gypi','Gzpi','Gpdag','Gcphase']\n",
    "ps = ProcessorSpec(n,gate_names=gate_names)\n",
    "\n",
    "# Tests init a pspec containing 1 qubit (as special case which could break)\n",
    "n = 1\n",
    "gate_names = ['Gi','Gh','Gp','Gxpi','Gypi','Gzpi','Gpdag','Gcphase']\n",
    "ps = ProcessorSpec(n,gate_names=gate_names)\n",
    "\n",
    "# Tests init a pspec with limited availability, user-specified labels.\n",
    "n = 12\n",
    "qubit_labels = ['Q'+str(i) for i in range(n)]\n",
    "availability = {'Gcnot':[('Q'+str(i),'Q'+str(i+1)) for i in range(0,n-1)]}\n",
    "gate_names = ['Gi','Gh','Gp','Gxpi','Gpdag','Gcnot']\n",
    "ps = ProcessorSpec(n,gate_names=gate_names,qubit_labels=qubit_labels)\n"
   ]
  },
  {
   "cell_type": "code",
   "execution_count": null,
   "metadata": {
    "collapsed": true
   },
   "outputs": [],
   "source": [
    "# Tests the circuit simulator\n",
    "c = Circuit(gatestring=[Label('Gh','Q0'),Label('Gcnot',('Q0','Q1'))],line_labels=['Q0','Q1'],identity='Gi')\n",
    "out = c.simulate(ps.models['clifford'])\n",
    "assert(abs(out['00'] - 0.5) < 10**-10)\n",
    "assert(abs(out['11'] - 0.5) < 10**-10)"
   ]
  },
  {
   "cell_type": "code",
   "execution_count": null,
   "metadata": {
    "collapsed": true
   },
   "outputs": [],
   "source": [
    "c = Circuit(gatestring=[Label('Gh','Q0'),Label('Gcnot',('Q0','Q1'))],line_labels=['Q'+str(i) for i in range(12)],identity='Gi')"
   ]
  },
  {
   "cell_type": "code",
   "execution_count": null,
   "metadata": {
    "collapsed": true
   },
   "outputs": [],
   "source": [
    "out = c.simulate(ps.models['clifford'])"
   ]
  },
  {
   "cell_type": "code",
   "execution_count": null,
   "metadata": {
    "collapsed": false
   },
   "outputs": [],
   "source": [
    "print(out)"
   ]
  },
  {
   "cell_type": "code",
   "execution_count": null,
   "metadata": {
    "collapsed": false
   },
   "outputs": [],
   "source": [
    "gs = ps.models['target']"
   ]
  },
  {
   "cell_type": "code",
   "execution_count": null,
   "metadata": {
    "collapsed": false
   },
   "outputs": [],
   "source": [
    "labels = copy(gs.stateSpaceLabels.labels[0])"
   ]
  },
  {
   "cell_type": "code",
   "execution_count": null,
   "metadata": {
    "collapsed": false
   },
   "outputs": [],
   "source": [
    "x = '001100'\n",
    "spls = ['Q6', 'Q0','Q1','Q2','Q5']\n",
    "cls = ['Q1','Q2','Q0']\n",
    "\n"
   ]
  },
  {
   "cell_type": "code",
   "execution_count": null,
   "metadata": {
    "collapsed": false
   },
   "outputs": [],
   "source": [
    "relabel_results"
   ]
  },
  {
   "cell_type": "code",
   "execution_count": null,
   "metadata": {
    "collapsed": false
   },
   "outputs": [],
   "source": [
    "newx = ''\n",
    "for l in cls: newx += x[spls.index(l)]"
   ]
  },
  {
   "cell_type": "code",
   "execution_count": null,
   "metadata": {
    "collapsed": false
   },
   "outputs": [],
   "source": [
    "newx"
   ]
  },
  {
   "cell_type": "code",
   "execution_count": null,
   "metadata": {
    "collapsed": false
   },
   "outputs": [],
   "source": [
    "spls.labels"
   ]
  },
  {
   "cell_type": "code",
   "execution_count": null,
   "metadata": {
    "collapsed": false
   },
   "outputs": [],
   "source": [
    "import pygsti\n",
    "from pygsti.objects import Circuit\n",
    "from pygsti.objects import ProcessorSpec\n",
    "from pygsti.baseobjs import Label\n",
    "\n",
    "n = 2\n",
    "qubit_labels = ['Q'+str(i) for i in range(n)]\n",
    "gate_names = ['Gi','Gh','Gp','Gcnot']\n",
    "ps = ProcessorSpec(n,gate_names=gate_names,qubit_labels=qubit_labels)\n",
    "c = Circuit(gatestring=[Label('Gh','Q0'),Label('Gcnot',('Q0','Q1'))],line_labels=['Q0','Q1'],identity='Gi')\n",
    "out = c.simulate(ps.models['target'])\n",
    "print(out)"
   ]
  },
  {
   "cell_type": "code",
   "execution_count": null,
   "metadata": {
    "collapsed": true
   },
   "outputs": [],
   "source": []
  },
  {
   "cell_type": "code",
   "execution_count": null,
   "metadata": {
    "collapsed": true
   },
   "outputs": [],
   "source": []
  },
  {
   "cell_type": "code",
   "execution_count": null,
   "metadata": {
    "collapsed": true
   },
   "outputs": [],
   "source": []
  },
  {
   "cell_type": "code",
   "execution_count": null,
   "metadata": {
    "collapsed": true
   },
   "outputs": [],
   "source": [
    "c = Circuit(gatestring=[Label(('Gi','Q1')),Label(('Gxpi','Q1')),Label('Gcnot',('Q1','Q2'))],line_labels=['Q1','Q2'],identity='Gi')\n",
    "c.insert_idling_wires(['Q'+str(i) for i in range(8)])\n",
    "print(c)\n",
    "s = c.convert_to_quil()\n",
    "print(s)"
   ]
  }
 ],
 "metadata": {
  "kernelspec": {
   "display_name": "Python 3",
   "language": "python",
   "name": "python3"
  },
  "language_info": {
   "codemirror_mode": {
    "name": "ipython",
    "version": 3
   },
   "file_extension": ".py",
   "mimetype": "text/x-python",
   "name": "python",
   "nbconvert_exporter": "python",
   "pygments_lexer": "ipython3",
   "version": "3.6.3"
  }
 },
 "nbformat": 4,
 "nbformat_minor": 2
}
