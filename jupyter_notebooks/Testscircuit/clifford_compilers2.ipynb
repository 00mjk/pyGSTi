{
 "cells": [
  {
   "cell_type": "code",
   "execution_count": 7,
   "metadata": {
    "collapsed": true
   },
   "outputs": [],
   "source": [
    "import pygsti\n",
    "from pygsti.objects import Circuit\n",
    "from pygsti.baseobjs import Label\n",
    "from pygsti.objects import ProcessorSpec\n",
    "import numpy as np"
   ]
  },
  {
   "cell_type": "code",
   "execution_count": 8,
   "metadata": {
    "collapsed": false
   },
   "outputs": [],
   "source": [
    "from pygsti.extras import rb"
   ]
  },
  {
   "cell_type": "code",
   "execution_count": 9,
   "metadata": {
    "collapsed": false
   },
   "outputs": [],
   "source": [
    "cl = rb.group.construct_1Q_Clifford_group()"
   ]
  },
  {
   "cell_type": "code",
   "execution_count": 10,
   "metadata": {
    "collapsed": false
   },
   "outputs": [],
   "source": [
    "#pygsti.tools.get_symplectic_matrix(0,1)"
   ]
  },
  {
   "cell_type": "code",
   "execution_count": 11,
   "metadata": {
    "collapsed": false
   },
   "outputs": [],
   "source": [
    "d = pygsti.tools.internalgates.std_unitaries"
   ]
  },
  {
   "cell_type": "code",
   "execution_count": 20,
   "metadata": {
    "collapsed": false
   },
   "outputs": [
    {
     "name": "stdout",
     "output_type": "stream",
     "text": [
      "0\n",
      "[[1 0]\n",
      " [0 1]]\n",
      "[0 0]\n",
      "1\n",
      "[[1 1]\n",
      " [1 0]]\n",
      "[1 0]\n",
      "2\n",
      "[[0 1]\n",
      " [1 1]]\n",
      "[0 1]\n",
      "3\n",
      "[[1 0]\n",
      " [0 1]]\n",
      "[0 2]\n",
      "4\n",
      "[[1 1]\n",
      " [1 0]]\n",
      "[1 2]\n",
      "5\n",
      "[[0 1]\n",
      " [1 1]]\n",
      "[0 3]\n",
      "6\n",
      "[[1 0]\n",
      " [0 1]]\n",
      "[2 2]\n",
      "7\n",
      "[[1 1]\n",
      " [1 0]]\n",
      "[3 2]\n",
      "8\n",
      "[[0 1]\n",
      " [1 1]]\n",
      "[2 3]\n",
      "9\n",
      "[[1 0]\n",
      " [0 1]]\n",
      "[2 0]\n",
      "10\n",
      "[[1 1]\n",
      " [1 0]]\n",
      "[3 0]\n",
      "11\n",
      "[[0 1]\n",
      " [1 1]]\n",
      "[2 1]\n",
      "12\n",
      "[[0 1]\n",
      " [1 0]]\n",
      "[0 0]\n",
      "13\n",
      "[[1 1]\n",
      " [0 1]]\n",
      "[0 1]\n",
      "14\n",
      "[[1 0]\n",
      " [1 1]]\n",
      "[1 0]\n",
      "15\n",
      "[[0 1]\n",
      " [1 0]]\n",
      "[0 2]\n",
      "16\n",
      "[[1 1]\n",
      " [0 1]]\n",
      "[0 3]\n",
      "17\n",
      "[[1 0]\n",
      " [1 1]]\n",
      "[1 2]\n",
      "18\n",
      "[[0 1]\n",
      " [1 0]]\n",
      "[2 2]\n",
      "19\n",
      "[[1 1]\n",
      " [0 1]]\n",
      "[2 3]\n",
      "20\n",
      "[[1 0]\n",
      " [1 1]]\n",
      "[3 2]\n",
      "21\n",
      "[[0 1]\n",
      " [1 0]]\n",
      "[2 0]\n",
      "22\n",
      "[[1 1]\n",
      " [0 1]]\n",
      "[2 1]\n",
      "23\n",
      "[[1 0]\n",
      " [1 1]]\n",
      "[3 0]\n"
     ]
    }
   ],
   "source": [
    "for l in range(24):\n",
    "    assert(np.allclose(pygsti.unitary_to_pauligate(d['C'+str(l)]),cl.get_matrix(l)))\n",
    "    print(l)\n",
    "    s, p = pygsti.symplectic.unitary_to_symplectic(d['C'+str(l)])\n",
    "    print(s)\n",
    "    print(p)"
   ]
  },
  {
   "cell_type": "code",
   "execution_count": 12,
   "metadata": {
    "collapsed": false
   },
   "outputs": [
    {
     "name": "stdout",
     "output_type": "stream",
     "text": [
      "Gc0 [[ 1.+0.j  0.+0.j]\n",
      " [ 0.+0.j  1.+0.j]]\n",
      "Gc1 [[ 0.70710678+0.j          0.00000000-0.70710678j]\n",
      " [ 0.70710678+0.j          0.00000000+0.70710678j]]\n",
      "Gc2 [[ 0.70710678+0.j          0.70710678+0.j        ]\n",
      " [ 0.00000000+0.70710678j  0.00000000-0.70710678j]]\n",
      "Gc3 [[ 0.+0.j  1.+0.j]\n",
      " [ 1.+0.j  0.+0.j]]\n",
      "Gc4 [[-0.70710678+0.j          0.00000000-0.70710678j]\n",
      " [ 0.70710678+0.j          0.00000000-0.70710678j]]\n",
      "Gc5 [[ 0.70710678+0.j          0.70710678+0.j        ]\n",
      " [ 0.00000000-0.70710678j  0.00000000+0.70710678j]]\n",
      "Gc6 [[ 0.+0.j  0.-1.j]\n",
      " [ 0.+1.j  0.+0.j]]\n",
      "Gc7 [[ 0.00000000+0.70710678j  0.70710678+0.j        ]\n",
      " [ 0.00000000-0.70710678j  0.70710678+0.j        ]]\n",
      "Gc8 [[ 0.00000000+0.70710678j  0.00000000-0.70710678j]\n",
      " [ 0.70710678+0.j          0.70710678+0.j        ]]\n",
      "Gc9 [[ 1.+0.j  0.+0.j]\n",
      " [ 0.+0.j -1.+0.j]]\n",
      "Gc10 [[ 0.70710678+0.j          0.00000000+0.70710678j]\n",
      " [ 0.70710678+0.j          0.00000000-0.70710678j]]\n",
      "Gc11 [[ 0.70710678+0.j         -0.70710678+0.j        ]\n",
      " [ 0.00000000+0.70710678j  0.00000000+0.70710678j]]\n",
      "Gc12 [[ 0.70710678+0.j  0.70710678+0.j]\n",
      " [ 0.70710678+0.j -0.70710678+0.j]]\n",
      "Gc13 [[ 0.5-0.5j  0.5+0.5j]\n",
      " [ 0.5+0.5j  0.5-0.5j]]\n",
      "Gc14 [[ 1.+0.j  0.+0.j]\n",
      " [ 0.+0.j  0.+1.j]]\n",
      "Gc15 [[ 0.70710678+0.j  0.70710678+0.j]\n",
      " [-0.70710678+0.j  0.70710678+0.j]]\n",
      "Gc16 [[ 0.5+0.5j  0.5-0.5j]\n",
      " [ 0.5-0.5j  0.5+0.5j]]\n",
      "Gc17 [[ 0.+0.j  1.+0.j]\n",
      " [ 0.+1.j  0.+0.j]]\n",
      "Gc18 [[ 0.+0.70710678j  0.-0.70710678j]\n",
      " [ 0.-0.70710678j  0.-0.70710678j]]\n",
      "Gc19 [[ 0.5+0.5j -0.5+0.5j]\n",
      " [ 0.5-0.5j -0.5-0.5j]]\n",
      "Gc20 [[ 0.+0.j  0.-1.j]\n",
      " [-1.+0.j  0.+0.j]]\n",
      "Gc21 [[ 0.70710678+0.j -0.70710678+0.j]\n",
      " [ 0.70710678+0.j  0.70710678+0.j]]\n",
      "Gc22 [[ 0.5+0.5j  0.5-0.5j]\n",
      " [-0.5+0.5j -0.5-0.5j]]\n",
      "Gc23 [[ 1.+0.j  0.+0.j]\n",
      " [ 0.+0.j  0.-1.j]]\n"
     ]
    }
   ],
   "source": [
    "for l in cl.label_indices:\n",
    "    leaveloop = False\n",
    "    for unitary1 in d.values():\n",
    "        for unitary2 in d.values():\n",
    "            for unitary3 in d.values(): \n",
    "                u = np.dot(unitary1,unitary2)\n",
    "                u = np.dot(unitary3,u)\n",
    "                if np.allclose(pygsti.unitary_to_pauligate(u),cl.get_matrix(l)):\n",
    "                    print(l,u,)\n",
    "                    leaveloop = True\n",
    "                    break\n",
    "            if leaveloop:\n",
    "                break\n",
    "        if leaveloop:\n",
    "            break"
   ]
  },
  {
   "cell_type": "code",
   "execution_count": null,
   "metadata": {
    "collapsed": false
   },
   "outputs": [],
   "source": [
    "cl.label_indices"
   ]
  },
  {
   "cell_type": "code",
   "execution_count": null,
   "metadata": {
    "collapsed": false
   },
   "outputs": [],
   "source": [
    "a = orderedqubits.copy()"
   ]
  },
  {
   "cell_type": "code",
   "execution_count": null,
   "metadata": {
    "collapsed": true
   },
   "outputs": [],
   "source": [
    "del a[0]"
   ]
  },
  {
   "cell_type": "code",
   "execution_count": null,
   "metadata": {
    "collapsed": false
   },
   "outputs": [],
   "source": [
    "print(orderedqubits)"
   ]
  },
  {
   "cell_type": "code",
   "execution_count": null,
   "metadata": {
    "collapsed": false
   },
   "outputs": [],
   "source": [
    "orderedqubits = [1,[2,3],4]\n",
    "[q for sublist in orderedqubits for q in sublist]"
   ]
  },
  {
   "cell_type": "code",
   "execution_count": null,
   "metadata": {
    "collapsed": false
   },
   "outputs": [],
   "source": [
    "n = 7\n",
    "gate_names=['Gi','Gh','Gp','Ghp','Gcphase']\n",
    "qubit_labels=['Q'+str(i) for i in range(0,7)]\n",
    "print(qubit_labels)\n",
    "availability = {'Gcphase':[('Q'+str(i),'Q'+str(i+1)) for i in range(0,n-2)]+[('Q'+str(n-2),'Q'+str(0)),]+[('Q'+str(i),'Q'+str(n-1)) for i in range(0,n-1)]}\n",
    "ps = ProcessorSpec(n,gate_names=gate_names,availability=availability, qubit_labels=qubit_labels,  construct_clifford_compilations = {'paulieq' : ('1Qcliffords','allcnots'), \n",
    "                'absolute': ('paulis',)}, verbosity=0)"
   ]
  },
  {
   "cell_type": "code",
   "execution_count": null,
   "metadata": {
    "collapsed": false
   },
   "outputs": [],
   "source": [
    "s, p = pygsti.symplectic.random_clifford(n)"
   ]
  },
  {
   "cell_type": "code",
   "execution_count": null,
   "metadata": {
    "collapsed": false
   },
   "outputs": [],
   "source": [
    "c = pygsti.algorithms.compile_clifford(s,p)"
   ]
  },
  {
   "cell_type": "code",
   "execution_count": null,
   "metadata": {
    "collapsed": false
   },
   "outputs": [],
   "source": [
    "#print(c)"
   ]
  },
  {
   "cell_type": "code",
   "execution_count": null,
   "metadata": {
    "collapsed": false
   },
   "outputs": [],
   "source": [
    "c = pygsti.algorithms.compile_clifford(s,p,pspec=ps)"
   ]
  },
  {
   "cell_type": "code",
   "execution_count": null,
   "metadata": {
    "collapsed": false
   },
   "outputs": [],
   "source": [
    "print(c)"
   ]
  },
  {
   "cell_type": "code",
   "execution_count": null,
   "metadata": {
    "collapsed": true
   },
   "outputs": [],
   "source": []
  }
 ],
 "metadata": {
  "kernelspec": {
   "display_name": "Python 3",
   "language": "python",
   "name": "python3"
  },
  "language_info": {
   "codemirror_mode": {
    "name": "ipython",
    "version": 3
   },
   "file_extension": ".py",
   "mimetype": "text/x-python",
   "name": "python",
   "nbconvert_exporter": "python",
   "pygments_lexer": "ipython3",
   "version": "3.6.3"
  }
 },
 "nbformat": 4,
 "nbformat_minor": 2
}
