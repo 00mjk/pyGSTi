{
 "cells": [
  {
   "cell_type": "code",
   "execution_count": 1,
   "metadata": {
    "collapsed": false,
    "deletable": true,
    "editable": true
   },
   "outputs": [
    {
     "name": "stderr",
     "output_type": "stream",
     "text": [
      "/Users/tjproct/pyGSTi/packages/pygsti/tools/matrixtools.py:23: UserWarning: Could not import Cython extension - falling back to slower pure-python routines\n",
      "  _warnings.warn(\"Could not import Cython extension - falling back to slower pure-python routines\")\n"
     ]
    }
   ],
   "source": [
    "from __future__ import division, print_function, absolute_import, unicode_literals\n",
    "import numpy as np\n",
    "\n",
    "import pygsti\n",
    "from pygsti.construction import std1Q_XYI as std\n",
    "from pygsti.construction import std2Q_XYICNOT as std2Q\n",
    "from pygsti.extras import circuit\n",
    "from pygsti.extras import newrb as prb"
   ]
  },
  {
   "cell_type": "code",
   "execution_count": 2,
   "metadata": {
    "collapsed": true
   },
   "outputs": [],
   "source": [
    "# A list of standard hard-coded gate labels\n",
    "gllist = ['Gi','Gh','Gp','Gcnot'] \n",
    "\n",
    "# The number of qubits\n",
    "n = 4\n",
    "\n",
    "# The availiability of gates that are not available to all qubit / qubit pairs\n",
    "availability = {}\n",
    "\n",
    "a = [(i,i+1) for i in range(0,n-1)] + [(n-1,0)]\n",
    "availability={'Gcnot':a}\n",
    "\n",
    "pspec = pygsti.obj.ProcessorSpec(n, gllist, availability=availability, verbosity=0)"
   ]
  },
  {
   "cell_type": "code",
   "execution_count": 4,
   "metadata": {
    "collapsed": false
   },
   "outputs": [],
   "source": [
    "sectors = [[pygsti.objects.Label('Gcnot',(0,1))],[pygsti.objects.Label('Gcnot',(1,2))]]"
   ]
  },
  {
   "cell_type": "code",
   "execution_count": 5,
   "metadata": {
    "collapsed": false
   },
   "outputs": [],
   "source": [
    "#c = prb.sample_crb_circuit(pspec,1)"
   ]
  },
  {
   "cell_type": "code",
   "execution_count": 6,
   "metadata": {
    "collapsed": false
   },
   "outputs": [],
   "source": [
    "c1, c2, c3 = prb.sample_prb_circuit(pspec,10,sampler='sectors',sampler_args={'sectors':sectors,'two_qubit_prob':0.5},return_partitioned=True)"
   ]
  },
  {
   "cell_type": "code",
   "execution_count": 7,
   "metadata": {
    "collapsed": false
   },
   "outputs": [
    {
     "name": "stdout",
     "output_type": "stream",
     "text": [
      "Qubit 0 ---|Gi |-|Gh |-|Gi |-|Gh |-Gcnot:0:1|-|Gcnot:0:1|-|Gcnot:0:1|-||Gh |-|Gp |-Gcnot:0:1|-|--\n",
      "Qubit 1 ---|Gp |-|Gi |-|Gh |-Gcnot:1:2|-|Gcnot:0:1|-|Gcnot:0:1|-|Gcnot:0:1|-||Gi |-Gcnot:1:2|-|Gcnot:0:1|-|--\n",
      "Qubit 2 ---|Gh |-|Gh |-|Gh |-Gcnot:1:2|-||Gp |-|Gp |-|Gh |-|Gi |-Gcnot:1:2|-||Gp |---\n",
      "Qubit 3 ---|Gp |-|Gp |-|Gp |-|Gp |-|Gi |-|Gi |-|Gi |-|Gi |-|Gi |-|Gh |---\n",
      "\n"
     ]
    }
   ],
   "source": [
    "print(c2)"
   ]
  },
  {
   "cell_type": "code",
   "execution_count": 37,
   "metadata": {
    "collapsed": true
   },
   "outputs": [],
   "source": [
    "c1, c2, c3 = prb.sample_prb_circuit(pspec,10,sampler='weights',sampler_args={'two_qubit_weighting':0.25},\n",
    "                                    return_partitioned=True)"
   ]
  },
  {
   "cell_type": "code",
   "execution_count": 38,
   "metadata": {
    "collapsed": false
   },
   "outputs": [
    {
     "name": "stdout",
     "output_type": "stream",
     "text": [
      "Qubit 0 ---|Gp |-Gcnot:0:1|-|Gcnot:3:0|-|Gcnot:0:1|-||Gp |-Gcnot:3:0|-||Gp |-Gcnot:3:0|-|Gcnot:3:0|-||Gp |---\n",
      "Qubit 1 ---Gcnot:1:2|-|Gcnot:0:1|-||Gh |-Gcnot:0:1|-||Gp |-Gcnot:1:2|-||Gi |-|Gh |-|Gh |-|Gh |---\n",
      "Qubit 2 ---Gcnot:1:2|-||Gi |-|Gh |-|Gp |-|Gh |-Gcnot:1:2|-|Gcnot:2:3|-||Gh |-|Gi |-Gcnot:2:3|-|--\n",
      "Qubit 3 ---|Gi |-|Gh |-Gcnot:3:0|-||Gi |-|Gi |-Gcnot:3:0|-|Gcnot:2:3|-|Gcnot:3:0|-|Gcnot:3:0|-|Gcnot:2:3|-|--\n",
      "\n"
     ]
    }
   ],
   "source": [
    "print(c2)"
   ]
  },
  {
   "cell_type": "markdown",
   "metadata": {},
   "source": [
    "## Test Labels"
   ]
  },
  {
   "cell_type": "code",
   "execution_count": 14,
   "metadata": {
    "collapsed": false,
    "deletable": true,
    "editable": true
   },
   "outputs": [
    {
     "name": "stdout",
     "output_type": "stream",
     "text": [
      "['Gi', 'Gx', 'Gy']\n",
      "odict_keys([Label('Gi',), Label('Gx',), Label('Gy',)])\n"
     ]
    }
   ],
   "source": [
    "print(list(map(str,std.gs_target.gates.keys())))\n",
    "print(std.gs_target.gates.keys())"
   ]
  },
  {
   "cell_type": "code",
   "execution_count": null,
   "metadata": {
    "collapsed": false,
    "deletable": true,
    "editable": true
   },
   "outputs": [],
   "source": [
    "print(std.gs_target['Gx'])"
   ]
  },
  {
   "cell_type": "code",
   "execution_count": null,
   "metadata": {
    "collapsed": false,
    "deletable": true,
    "editable": true
   },
   "outputs": [],
   "source": [
    "std.gs_target.probs(('Gx','Gy'))"
   ]
  },
  {
   "cell_type": "markdown",
   "metadata": {},
   "source": [
    "## Test Circuit"
   ]
  },
  {
   "cell_type": "code",
   "execution_count": null,
   "metadata": {
    "collapsed": false
   },
   "outputs": [],
   "source": [
    "ps.models['clifford']['Gh',0].embedded_gate"
   ]
  },
  {
   "cell_type": "code",
   "execution_count": null,
   "metadata": {
    "collapsed": false
   },
   "outputs": [],
   "source": [
    "y = x.embedded_gate"
   ]
  },
  {
   "cell_type": "code",
   "execution_count": null,
   "metadata": {
    "collapsed": false
   },
   "outputs": [],
   "source": [
    "y.smatrix"
   ]
  },
  {
   "cell_type": "code",
   "execution_count": null,
   "metadata": {
    "collapsed": false,
    "deletable": true,
    "editable": true
   },
   "outputs": [],
   "source": [
    "c = pygsti.obj.Circuit(gatestring=('Gx','Gy'), num_lines=1)"
   ]
  },
  {
   "cell_type": "code",
   "execution_count": null,
   "metadata": {
    "collapsed": false,
    "deletable": true,
    "editable": true
   },
   "outputs": [],
   "source": [
    "print(c.line_items)\n",
    "print(c.tup)\n",
    "print(c.str)\n",
    "print(c)"
   ]
  },
  {
   "cell_type": "code",
   "execution_count": null,
   "metadata": {
    "collapsed": false,
    "deletable": true,
    "editable": true
   },
   "outputs": [],
   "source": [
    "from pygsti.objects import Label as L\n",
    "gs = pygsti.obj.GateString( (L('Gx',0),L('Gy',1),L('Gcnot',(1,2)) ))\n",
    "c2 = pygsti.obj.Circuit(gatestring=gs, num_lines=3)"
   ]
  },
  {
   "cell_type": "code",
   "execution_count": null,
   "metadata": {
    "collapsed": false
   },
   "outputs": [],
   "source": [
    "print(c2.line_items)\n",
    "print(c2.tup)\n",
    "print(c2.str)\n",
    "print(c2)"
   ]
  },
  {
   "cell_type": "code",
   "execution_count": null,
   "metadata": {
    "collapsed": false
   },
   "outputs": [],
   "source": [
    "c3 = pygsti.obj.Circuit(gatestring=[ ('Gx','Q0'), ('Gy','Q1'), ('Gcnot','Q1','Q2') ], line_labels=('Q0','Q1','Q2'))\n",
    "print(c3.line_items)\n",
    "print(c3.tup)\n",
    "print(c3.str)\n",
    "print(c3)"
   ]
  },
  {
   "cell_type": "code",
   "execution_count": null,
   "metadata": {
    "collapsed": true
   },
   "outputs": [],
   "source": [
    "c3.done_editing()"
   ]
  },
  {
   "cell_type": "markdown",
   "metadata": {},
   "source": [
    "### Probabilities from circuit (simulation)"
   ]
  },
  {
   "cell_type": "code",
   "execution_count": null,
   "metadata": {
    "collapsed": false
   },
   "outputs": [],
   "source": [
    "gs1 = std.gs_target.copy()\n",
    "print(gs1.probs(c))\n",
    "print(c.simulate(gs1))"
   ]
  },
  {
   "cell_type": "code",
   "execution_count": null,
   "metadata": {
    "collapsed": false
   },
   "outputs": [],
   "source": [
    "from pygsti.objects.gatemapcalc import GateMapCalc                                                                                                                                   \n",
    "nQubits = 3\n",
    "basis1Q = pygsti.obj.Basis(\"pp\",2)\n",
    "v0 = pygsti.construction.basis_build_vector(\"0\", basis1Q)\n",
    "v1 = pygsti.construction.basis_build_vector(\"1\", basis1Q)\n",
    "\n",
    "gs3 = pygsti.obj.GateSet()\n",
    "gs3.stateSpaceLabels = ('Q0','Q1','Q2')\n",
    "gs3.preps['rho0'] = pygsti.obj.TensorProdSPAMVec('prep',\n",
    "    [pygsti.obj.TPParameterizedSPAMVec(v0) for i in range(nQubits)] )\n",
    "gs3.povms['Mdefault'] = pygsti.obj.TensorProdPOVM( \n",
    "    [ pygsti.obj.TPPOVM([('0',v0),('1',v1)] ) for i in range(nQubits) ] )\n",
    "Gx = std.gs_target['Gx'].copy()\n",
    "Gy = std.gs_target['Gy'].copy()\n",
    "for i in range(nQubits):\n",
    "    gs3[('Gx','Q%d' % i)] = Gx\n",
    "    gs3[('Gy','Q%d' % i)] = Gy\n",
    "\n",
    "Gcnot = std2Q.gs_target['Gcnot'].copy()\n",
    "gs3[('Gcnot','Q0','Q1')] = Gcnot\n",
    "gs3[('Gcnot','Q1','Q2')] = Gcnot\n",
    "\n",
    "gs3._calcClass = GateMapCalc\n",
    "print(gs3.probs(c3))\n",
    "print(c3.simulate(gs3))"
   ]
  },
  {
   "cell_type": "code",
   "execution_count": null,
   "metadata": {
    "collapsed": false
   },
   "outputs": [],
   "source": [
    "from pygsti.objects.gatemapcalc import GateMapCalc     \n",
    "from pygsti.objects.labeldicts import StateSpaceLabels\n",
    "nQubits = 3\n",
    "basis1Q = pygsti.obj.Basis(\"pp\",2)\n",
    "v0 = pygsti.construction.basis_build_vector(\"0\", basis1Q)\n",
    "v1 = pygsti.construction.basis_build_vector(\"1\", basis1Q)\n",
    "\n",
    "gs2 = pygsti.obj.GateSet()\n",
    "gs2.stateSpaceLabels = (0,1,2)\n",
    "gs2.preps['rho0'] = pygsti.obj.TensorProdSPAMVec('prep',\n",
    "    [pygsti.obj.TPParameterizedSPAMVec(v0) for i in range(nQubits)] )\n",
    "gs2.povms['Mdefault'] = pygsti.obj.TensorProdPOVM( \n",
    "    [ pygsti.obj.TPPOVM([('0',v0),('1',v1)] ) for i in range(nQubits) ] )\n",
    "\n",
    "Gx = std.gs_target['Gx'].copy()\n",
    "Gy = std.gs_target['Gy'].copy()\n",
    "for i in range(nQubits):\n",
    "    gs2[('Gx',i)] = Gx\n",
    "    gs2[('Gy',i)] = Gy\n",
    "\n",
    "Gcnot = std2Q.gs_target['Gcnot'].copy()\n",
    "gs2[('Gcnot',0,1)] = Gcnot\n",
    "gs2[('Gcnot',1,2)] = Gcnot\n",
    "\n",
    "gs2._calcClass = GateMapCalc\n",
    "print(gs2.probs(c2))\n",
    "print(c2.simulate(gs2))"
   ]
  },
  {
   "cell_type": "markdown",
   "metadata": {},
   "source": [
    "## Unitary evolution in pyGSTi"
   ]
  },
  {
   "cell_type": "code",
   "execution_count": null,
   "metadata": {
    "collapsed": false,
    "deletable": true,
    "editable": true
   },
   "outputs": [],
   "source": [
    "#Unitary gateset in pygsti\n",
    "import scipy.linalg as spl\n",
    "from pygsti.objects.gatematrixcalc import UnitaryGateMatrixCalc\n",
    "from pygsti.objects.gatemapcalc import UnitaryGateMapCalc\n",
    "X = np.array([[0.,1.],[1.,0.]])\n",
    "Ut = np.array([[1.,0.],[0.,np.exp(np.pi*1j/4)]])\n",
    "Ux = 1j*spl.expm( -1j* np.pi/4 * X) # pi/2\n",
    "#Ux = np.array([[0.,1.],[1.,0.]]) # pi\n",
    "v0 = np.array([[1],[0]],'d')\n",
    "v1 = np.array([[0],[1]],'d')\n",
    "\n",
    "gs = pygsti.obj.GateSet()\n",
    "#gs._calcClass = UnitaryGateMatrixCalc\n",
    "gs._calcClass = UnitaryGateMapCalc\n",
    "gs['Gt'] = pygsti.obj.StaticGate(Ut)\n",
    "gs['Gx'] = pygsti.obj.StaticGate(Ux)\n",
    "gs['rho0'] = pygsti.obj.StaticSPAMVec( v0 )\n",
    "gs['M0'] = pygsti.obj.UnconstrainedPOVM({'0': pygsti.obj.StaticSPAMVec( v0 ), '1': pygsti.obj.StaticSPAMVec( v1 )})\n",
    "             "
   ]
  },
  {
   "cell_type": "code",
   "execution_count": null,
   "metadata": {
    "collapsed": false
   },
   "outputs": [],
   "source": [
    "Ux"
   ]
  },
  {
   "cell_type": "code",
   "execution_count": null,
   "metadata": {
    "collapsed": false
   },
   "outputs": [],
   "source": [
    "#print(gs.product(()))\n",
    "#print()\n",
    "print(gs.probs(()))"
   ]
  },
  {
   "cell_type": "code",
   "execution_count": null,
   "metadata": {
    "collapsed": false,
    "deletable": true,
    "editable": true
   },
   "outputs": [],
   "source": [
    "#print(gs.product(('Gx',)))\n",
    "#print()\n",
    "print(gs.probs(('Gx',)))"
   ]
  },
  {
   "cell_type": "code",
   "execution_count": null,
   "metadata": {
    "collapsed": false
   },
   "outputs": [],
   "source": [
    "#print(gs.product(('Gt',)))\n",
    "#print()\n",
    "print(gs.probs(('Gt',)))"
   ]
  },
  {
   "cell_type": "code",
   "execution_count": null,
   "metadata": {
    "collapsed": false,
    "deletable": true,
    "editable": true
   },
   "outputs": [],
   "source": [
    "#print(gs.product(('Gt','Gx')))\n",
    "#print()\n",
    "print(gs.probs(('Gt','Gx')))"
   ]
  },
  {
   "cell_type": "code",
   "execution_count": null,
   "metadata": {
    "collapsed": false
   },
   "outputs": [],
   "source": [
    "#print(gs.product(('Gx','Gx')))\n",
    "#print()\n",
    "print(gs.probs(('Gx','Gx')))"
   ]
  },
  {
   "cell_type": "markdown",
   "metadata": {},
   "source": [
    "## Simulation of a \"standard\" n-qubit gate set\n",
    "Based off of some of the initial cells in other test notebook."
   ]
  },
  {
   "cell_type": "code",
   "execution_count": null,
   "metadata": {
    "collapsed": false,
    "deletable": true,
    "editable": true
   },
   "outputs": [],
   "source": [
    "import pygsti\n",
    "import numpy as np\n",
    "# A list of standard hard-coded gate labels\n",
    "#gllist = ['I', 'H','P','CNOT']\n",
    "gllist = ['Gi','Gh','Gp','Gcnot','Gt'] # note: must include Gt here in addition to in 'unitaries' below\n",
    "\n",
    "# A dictionary of unitaries that do not need to be already known to the code\n",
    "#unitaries={'T' : np.array([[1.,0.],[0.,np.exp(np.pi*1j/4)]])}\n",
    "unitaries={'Gt' : np.array([[1.,0.],[0.,np.exp(np.pi*1j/4)]])}\n",
    "\n",
    "# The number of qubits\n",
    "n = 10\n",
    "\n",
    "# The availiability of gates that are not available to all qubit / qubit pairs\n",
    "availability = {}\n",
    "\n",
    "# Let's make a the CNOT gate be connected in a directed ring.\n",
    "# a = np.zeros((n,n),int)\n",
    "# for i in range(0,n-1):\n",
    "#     a[i,i+1] = 1\n",
    "# a[n-1,0] = 1\n",
    "a = [(i,i+1) for i in range(0,n-1)] + [(n-1,0)]\n",
    "\n",
    "#availability={'CNOT':a}\n",
    "availability={'Gcnot':a}\n",
    "\n",
    "BGS = pygsti.construction.build_nqubit_standard_gateset(\n",
    "    nQubits=n, gate_names=gllist, nonstd_gate_unitaries=unitaries,\n",
    "    availability=availability, parameterization='static', sim_type=\"dmmap\")"
   ]
  },
  {
   "cell_type": "code",
   "execution_count": null,
   "metadata": {
    "collapsed": false
   },
   "outputs": [],
   "source": [
    "#print(BGS.preps['rho0'])\n",
    "#print(list(map(str,BGS.gates.keys())))\n",
    "#print(BGS)"
   ]
  },
  {
   "cell_type": "code",
   "execution_count": null,
   "metadata": {
    "collapsed": false
   },
   "outputs": [],
   "source": [
    "# test circuit simulation\n",
    "circuit = pygsti.obj.Circuit(gatestring=( ('Gh',1),('Gp',2),('Gcnot',1,2),('Gt',3) ), num_lines=n)\n",
    "%time print(BGS.probs(circuit))\n",
    "# ~9 min for 10Q"
   ]
  },
  {
   "cell_type": "markdown",
   "metadata": {},
   "source": [
    "## Processor Specs"
   ]
  },
  {
   "cell_type": "code",
   "execution_count": null,
   "metadata": {
    "collapsed": false,
    "deletable": true,
    "editable": true
   },
   "outputs": [],
   "source": [
    "gllist = ['Gi', 'Gh','Gp','Gcnot','Gt']\n",
    "ps = pygsti.obj.ProcessorSpec(nQubits=n, gate_names=gllist,\n",
    "                              nonstd_gate_unitaries=unitaries,\n",
    "                              availability=availability, verbosity=0)\n",
    "  # automatically creates 'clifford' and 'target' models and std compilations\n",
    "    \n",
    "# To manually add another model, for example one w/density matrix simulation:\n",
    "ps.models['dmsim'] = pygsti.construction.build_nqubit_standard_gateset(\n",
    "    n, gllist, unitaries, availability, parameterization=\"static\", sim_type=\"dmmap\")\n",
    "# OR, more conveniently\n",
    "ps.add_std_model('dmsim', parameterization=\"static\", sim_type=\"dmmap\")"
   ]
  },
  {
   "cell_type": "code",
   "execution_count": null,
   "metadata": {
    "collapsed": false
   },
   "outputs": [],
   "source": [
    "print(ps.models['target']['Gcnot',0,1])"
   ]
  },
  {
   "cell_type": "code",
   "execution_count": null,
   "metadata": {
    "collapsed": false
   },
   "outputs": [],
   "source": [
    "ps.add_std_model('test', parameterization=\"static\", sim_type=\"svmap\")"
   ]
  },
  {
   "cell_type": "code",
   "execution_count": null,
   "metadata": {
    "collapsed": true
   },
   "outputs": [],
   "source": [
    "gs =  ps.models['test']"
   ]
  },
  {
   "cell_type": "code",
   "execution_count": null,
   "metadata": {
    "collapsed": false
   },
   "outputs": [],
   "source": [
    "print(gs['Gi',0])"
   ]
  },
  {
   "cell_type": "code",
   "execution_count": null,
   "metadata": {
    "collapsed": false
   },
   "outputs": [],
   "source": [
    "gs['Gi',0] = pygsti.objects.StaticGate(np.array([[1.,0.],[0.,1j]]))"
   ]
  },
  {
   "cell_type": "code",
   "execution_count": null,
   "metadata": {
    "collapsed": true
   },
   "outputs": [],
   "source": [
    "pygsti.tools.unitary_to_process_mx"
   ]
  },
  {
   "cell_type": "code",
   "execution_count": null,
   "metadata": {
    "collapsed": false
   },
   "outputs": [],
   "source": [
    "print(gs['Gi',0])"
   ]
  },
  {
   "cell_type": "code",
   "execution_count": null,
   "metadata": {
    "collapsed": false
   },
   "outputs": [],
   "source": [
    "#See where symplectic reps are stored (could also extract via gs.get_clifford_symplectic_reps() )\n",
    "gs = ps.models['clifford']\n",
    "print(gs[('Gcnot',0,1)].embedded_gate.smatrix) # each gate has it's own symplectic rep\n",
    "assert(gs[('Gcnot',1,2)].embedded_gate is gs[('Gcnot',0,1)].embedded_gate) # different CNOT's share same \"root\""
   ]
  },
  {
   "cell_type": "code",
   "execution_count": null,
   "metadata": {
    "collapsed": false,
    "deletable": true,
    "editable": true
   },
   "outputs": [],
   "source": [
    "# Let's pick a random Clifford, and the inverse of that Clifford, and create an identity circuit\n",
    "s, p = pygsti.tools.random_clifford(n)\n",
    "sin, pin = pygsti.tools.inverse_clifford(s,p)\n",
    "\n",
    "%time c = pygsti.alg.compile_clifford(s, p, pspec=ps)\n",
    "%time c.append_circuit(pygsti.alg.compile_clifford(sin, pin, pspec=ps))\n",
    "# ~3.5min each for 8Q, ~14min each for 10Q\n",
    "\n",
    "print(len(c)) # 1389 for 8Q, 3057 for 10Q\n",
    "print(c.depth()) # 1539 for 10Q"
   ]
  },
  {
   "cell_type": "code",
   "execution_count": null,
   "metadata": {
    "collapsed": false,
    "deletable": true,
    "editable": true
   },
   "outputs": [],
   "source": [
    "# As we can see, the output is (0,0,0,0) with probability 1. (when no input is given to the simulators, the input\n",
    "# is taken to be (0,0,0,0)).\n",
    "\n",
    "%time simout = c.simulate(ps.models['target'])\n",
    "# ~ 3.5s for 8Q, 47s fo 10Q\n",
    "\n",
    "print(simout['0'*n])\n",
    "x = 0\n",
    "for key in list(simout.keys()):\n",
    "    x += simout[key]\n",
    "x = x - simout['0'*n]\n",
    "print(x)"
   ]
  },
  {
   "cell_type": "code",
   "execution_count": null,
   "metadata": {
    "collapsed": true
   },
   "outputs": [],
   "source": []
  }
 ],
 "metadata": {
  "kernelspec": {
   "display_name": "Python 3",
   "language": "python",
   "name": "python3"
  },
  "language_info": {
   "codemirror_mode": {
    "name": "ipython",
    "version": 3
   },
   "file_extension": ".py",
   "mimetype": "text/x-python",
   "name": "python",
   "nbconvert_exporter": "python",
   "pygments_lexer": "ipython3",
   "version": "3.6.3"
  }
 },
 "nbformat": 4,
 "nbformat_minor": 2
}
