{
 "cells": [
  {
   "cell_type": "code",
   "execution_count": 1,
   "metadata": {
    "collapsed": false
   },
   "outputs": [],
   "source": [
    "import pygsti\n",
    "from pygsti.objects import Circuit\n",
    "from pygsti.baseobjs import Label\n",
    "from pygsti.objects import ProcessorSpec\n",
    "import pickle\n",
    "import numpy as np\n",
    "from pygsti.extras import rb"
   ]
  },
  {
   "cell_type": "code",
   "execution_count": 2,
   "metadata": {
    "collapsed": true
   },
   "outputs": [],
   "source": [
    "a = [1,2,3,4]"
   ]
  },
  {
   "cell_type": "code",
   "execution_count": 3,
   "metadata": {
    "collapsed": false
   },
   "outputs": [
    {
     "data": {
      "text/plain": [
       "[4]"
      ]
     },
     "execution_count": 3,
     "metadata": {},
     "output_type": "execute_result"
    }
   ],
   "source": [
    "a[3:]"
   ]
  },
  {
   "cell_type": "code",
   "execution_count": 4,
   "metadata": {
    "collapsed": false,
    "scrolled": true
   },
   "outputs": [
    {
     "name": "stdout",
     "output_type": "stream",
     "text": [
      "['Q0', 'Q1', 'Q2', 'Q3', 'Q4', 'Q5', 'Q6']\n"
     ]
    }
   ],
   "source": []
  },
  {
   "cell_type": "code",
   "execution_count": 22,
   "metadata": {
    "collapsed": false
   },
   "outputs": [],
   "source": [
    "sectors = [[Label('Gcphase',('Q'+str(i),'Q'+str(i+1))),] for i in [3,]]"
   ]
  },
  {
   "cell_type": "code",
   "execution_count": 23,
   "metadata": {
    "collapsed": false
   },
   "outputs": [],
   "source": [
    "#sectors "
   ]
  },
  {
   "cell_type": "code",
   "execution_count": 24,
   "metadata": {
    "collapsed": false
   },
   "outputs": [],
   "source": [
    "c = ps.compilations['absolute'].get_compilation_of(Label('X','Q2'))"
   ]
  },
  {
   "cell_type": "code",
   "execution_count": 25,
   "metadata": {
    "collapsed": false
   },
   "outputs": [
    {
     "name": "stdout",
     "output_type": "stream",
     "text": [
      "Qubit Q0 ---******---\n",
      "Qubit Q1 ---******---\n",
      "Qubit Q2 ---|Gxpi|---\n",
      "Qubit Q3 ---******---\n",
      "Qubit Q4 ---******---\n",
      "Qubit Q5 ---******---\n",
      "Qubit Q6 ---******---\n",
      "\n"
     ]
    }
   ],
   "source": [
    "print(c)"
   ]
  },
  {
   "cell_type": "code",
   "execution_count": 28,
   "metadata": {
    "collapsed": false
   },
   "outputs": [
    {
     "name": "stdout",
     "output_type": "stream",
     "text": [
      "['Q3', 'Q4']\n",
      "[[Label[Gcphase:Q3:Q4]]]\n",
      "Gcphase:Q3:Q4\n",
      "['Q3', 'Q4']\n",
      "[[Label[Gcphase:Q3:Q4]]]\n",
      "Gcphase:Q3:Q4\n",
      "['Q3', 'Q4']\n",
      "[[Label[Gcphase:Q3:Q4]]]\n",
      "Gcphase:Q3:Q4\n",
      "['Q3', 'Q4']\n",
      "[[Label[Gcphase:Q3:Q4]]]\n",
      "Gcphase:Q3:Q4\n",
      "['Q3', 'Q4']\n",
      "[[Label[Gcphase:Q3:Q4]]]\n",
      "Gcphase:Q3:Q4\n",
      "['Q3', 'Q4']\n",
      "[[Label[Gcphase:Q3:Q4]]]\n",
      "Gcphase:Q3:Q4\n"
     ]
    }
   ],
   "source": [
    "# Insert layer is failing?\n",
    "# Appending the circuits at the start and end is failing?\n",
    "c, o = rb.sample.mirror_rb_circuit(ps, 6, subsetQs=['Q3','Q4'], sampler='sectors', samplerargs=[sectors,])"
   ]
  },
  {
   "cell_type": "code",
   "execution_count": 29,
   "metadata": {
    "collapsed": false
   },
   "outputs": [
    {
     "name": "stdout",
     "output_type": "stream",
     "text": [
      "Qubit Q3 ---|Gpdag|-|Gh|-|Gypi |-|Gypi|-|Gcphase:Q3:Q4|-|Gzpi|-|Gcphase:Q3:Q4|-|Gzpi|-|Gcphase:Q3:Q4|-******-|Gcphase:Q3:Q4|-|Gxpi|-|Gcphase:Q3:Q4|-|Gypi|-|Gcphase:Q3:Q4|-******-|Gcphase:Q3:Q4|-|Gxpi|-|Gcphase:Q3:Q4|-******-|Gcphase:Q3:Q4|-|Gxpi|-|Gcphase:Q3:Q4|-|Gxpi|-|Gcphase:Q3:Q4|-******-|Gcphase:Q3:Q4|-|Gxpi|-|Gypi|-|Gh|-|Gp|---\n",
      "Qubit Q4 ---|Gpdag|-|Gh|-|Gpdag|-|Gxpi|-|Gcphase:Q3:Q4|-|Gzpi|-|Gcphase:Q3:Q4|-|Gzpi|-|Gcphase:Q3:Q4|-|Gypi|-|Gcphase:Q3:Q4|-|Gzpi|-|Gcphase:Q3:Q4|-|Gypi|-|Gcphase:Q3:Q4|-|Gypi|-|Gcphase:Q3:Q4|-|Gzpi|-|Gcphase:Q3:Q4|-|Gxpi|-|Gcphase:Q3:Q4|-|Gzpi|-|Gcphase:Q3:Q4|-|Gypi|-|Gcphase:Q3:Q4|-|Gypi|-|Gcphase:Q3:Q4|-******-| Gp |-|Gh|-|Gp|---\n",
      "\n"
     ]
    }
   ],
   "source": [
    "print(c)"
   ]
  },
  {
   "cell_type": "code",
   "execution_count": null,
   "metadata": {
    "collapsed": false
   },
   "outputs": [],
   "source": [
    "print(c.depth())\n",
    "print(6*4)"
   ]
  },
  {
   "cell_type": "code",
   "execution_count": null,
   "metadata": {
    "collapsed": false
   },
   "outputs": [],
   "source": [
    "s, p = pygsti.symplectic.random_clifford(n)\n",
    "c = pygsti.algorithms.compilesymplectic.compile_symplectic(s, pspec=None, iterations=20, algorithms='RBGGE', costfunction='2QGC', paulirandomize=False, aargs=None)"
   ]
  },
  {
   "cell_type": "code",
   "execution_count": null,
   "metadata": {
    "collapsed": true
   },
   "outputs": [],
   "source": []
  },
  {
   "cell_type": "code",
   "execution_count": null,
   "metadata": {
    "collapsed": false
   },
   "outputs": [],
   "source": [
    "print(c)"
   ]
  },
  {
   "cell_type": "code",
   "execution_count": null,
   "metadata": {
    "collapsed": false
   },
   "outputs": [],
   "source": [
    "comp = ps.compilations['paulieq']"
   ]
  },
  {
   "cell_type": "code",
   "execution_count": null,
   "metadata": {
    "collapsed": false
   },
   "outputs": [],
   "source": [
    "comp.get_compilation_of(Label('P','Q0'),allowed_filter=None)"
   ]
  },
  {
   "cell_type": "code",
   "execution_count": null,
   "metadata": {
    "collapsed": false
   },
   "outputs": [],
   "source": [
    "c.change_gate_library(ps.compilations['paulieq'],allow_unchanged_gates=False)"
   ]
  },
  {
   "cell_type": "code",
   "execution_count": null,
   "metadata": {
    "collapsed": false
   },
   "outputs": [],
   "source": [
    "print(c)"
   ]
  },
  {
   "cell_type": "code",
   "execution_count": null,
   "metadata": {
    "collapsed": false
   },
   "outputs": [],
   "source": [
    "{i:i+1 for i in range(10) }"
   ]
  },
  {
   "cell_type": "code",
   "execution_count": null,
   "metadata": {
    "collapsed": false
   },
   "outputs": [],
   "source": [
    "com = ps.compilations['paulieq']"
   ]
  },
  {
   "cell_type": "code",
   "execution_count": null,
   "metadata": {
    "collapsed": false
   },
   "outputs": [],
   "source": [
    "isinstance(com,CompilationLibrary)"
   ]
  },
  {
   "cell_type": "code",
   "execution_count": null,
   "metadata": {
    "collapsed": false
   },
   "outputs": [],
   "source": [
    "subset = set(['Q'+str(i) for i in range(0,6)])\n",
    "print(subset)"
   ]
  },
  {
   "cell_type": "code",
   "execution_count": null,
   "metadata": {
    "collapsed": false
   },
   "outputs": [],
   "source": [
    "circuit = com.get_compilation_of(Label('CNOT',('Q1','Q4')),allowed_filter=subset)\n",
    "print(circuit)"
   ]
  },
  {
   "cell_type": "code",
   "execution_count": null,
   "metadata": {
    "collapsed": false
   },
   "outputs": [],
   "source": [
    "com.add_compilation_of(Label('CNOT',('Q1','Q4')),allowed_filter=subset)"
   ]
  },
  {
   "cell_type": "code",
   "execution_count": null,
   "metadata": {
    "collapsed": false
   },
   "outputs": [],
   "source": [
    "from pygsti.objects import CompilationLibrary\n",
    "isinstance(com,CompilationLibrary)"
   ]
  },
  {
   "cell_type": "code",
   "execution_count": null,
   "metadata": {
    "collapsed": false
   },
   "outputs": [],
   "source": [
    "print(list(com.keys()))"
   ]
  },
  {
   "cell_type": "code",
   "execution_count": null,
   "metadata": {
    "collapsed": true
   },
   "outputs": [],
   "source": [
    "fs = {}"
   ]
  },
  {
   "cell_type": "code",
   "execution_count": null,
   "metadata": {
    "collapsed": true
   },
   "outputs": [],
   "source": [
    "fs['a',None] = 1"
   ]
  },
  {
   "cell_type": "code",
   "execution_count": null,
   "metadata": {
    "collapsed": false
   },
   "outputs": [],
   "source": [
    "fs.keys()"
   ]
  },
  {
   "cell_type": "code",
   "execution_count": null,
   "metadata": {
    "collapsed": true
   },
   "outputs": [],
   "source": [
    "d = O {'a':1,'b':2}"
   ]
  },
  {
   "cell_type": "code",
   "execution_count": null,
   "metadata": {
    "collapsed": false
   },
   "outputs": [],
   "source": [
    "fs = frozenset(d.items())"
   ]
  },
  {
   "cell_type": "code",
   "execution_count": null,
   "metadata": {
    "collapsed": false
   },
   "outputs": [],
   "source": [
    "fs = dict(fs)"
   ]
  },
  {
   "cell_type": "code",
   "execution_count": null,
   "metadata": {
    "collapsed": false
   },
   "outputs": [],
   "source": [
    "isinstance(fs, dict)"
   ]
  },
  {
   "cell_type": "code",
   "execution_count": null,
   "metadata": {
    "collapsed": false
   },
   "outputs": [],
   "source": [
    "gs = ps.models['clifford']"
   ]
  },
  {
   "cell_type": "code",
   "execution_count": null,
   "metadata": {
    "collapsed": false
   },
   "outputs": [],
   "source": [
    "gs.stateSpaceLabels.labels"
   ]
  },
  {
   "cell_type": "code",
   "execution_count": null,
   "metadata": {
    "collapsed": false
   },
   "outputs": [],
   "source": [
    "d = {'a':0}\n",
    "d.get('a',1)"
   ]
  },
  {
   "cell_type": "code",
   "execution_count": null,
   "metadata": {
    "collapsed": false
   },
   "outputs": [],
   "source": [
    "#ps.models['clifford'].gates"
   ]
  },
  {
   "cell_type": "code",
   "execution_count": null,
   "metadata": {
    "collapsed": false
   },
   "outputs": [],
   "source": [
    "ps.compilations['paulieq'].connectivity"
   ]
  },
  {
   "cell_type": "code",
   "execution_count": null,
   "metadata": {
    "collapsed": false
   },
   "outputs": [],
   "source": [
    "ps.compilations"
   ]
  },
  {
   "cell_type": "code",
   "execution_count": null,
   "metadata": {
    "collapsed": false
   },
   "outputs": [],
   "source": [
    "ps = ProcessorSpec(1,['Gi','Gh','Gp'],qubit_labels=['Q1',], verbosity=0)"
   ]
  },
  {
   "cell_type": "code",
   "execution_count": null,
   "metadata": {
    "collapsed": false
   },
   "outputs": [],
   "source": [
    "ps.fafs"
   ]
  },
  {
   "cell_type": "code",
   "execution_count": null,
   "metadata": {
    "collapsed": false
   },
   "outputs": [],
   "source": [
    "ps.oneQgate_algebra"
   ]
  },
  {
   "cell_type": "code",
   "execution_count": null,
   "metadata": {
    "collapsed": false
   },
   "outputs": [],
   "source": [
    "ps.oneQgate_inversions"
   ]
  },
  {
   "cell_type": "code",
   "execution_count": null,
   "metadata": {
    "collapsed": false
   },
   "outputs": [],
   "source": [
    "gs = ps.models['clifford']"
   ]
  },
  {
   "cell_type": "code",
   "execution_count": null,
   "metadata": {
    "collapsed": false
   },
   "outputs": [],
   "source": [
    "gs."
   ]
  },
  {
   "cell_type": "code",
   "execution_count": null,
   "metadata": {
    "collapsed": true
   },
   "outputs": [],
   "source": [
    "import itertools"
   ]
  },
  {
   "cell_type": "code",
   "execution_count": null,
   "metadata": {
    "collapsed": false
   },
   "outputs": [],
   "source": [
    "a = itertools.permutations(['a','b','c'], 2)"
   ]
  },
  {
   "cell_type": "code",
   "execution_count": null,
   "metadata": {
    "collapsed": false
   },
   "outputs": [],
   "source": [
    "list(a)"
   ]
  },
  {
   "cell_type": "code",
   "execution_count": null,
   "metadata": {
    "collapsed": false
   },
   "outputs": [],
   "source": [
    "ps.compilations['paulieq']"
   ]
  },
  {
   "cell_type": "code",
   "execution_count": null,
   "metadata": {
    "collapsed": false
   },
   "outputs": [],
   "source": [
    "ps.qubitgraph.subgraph?"
   ]
  },
  {
   "cell_type": "code",
   "execution_count": null,
   "metadata": {
    "collapsed": false
   },
   "outputs": [],
   "source": [
    "with open('test19.pkl','wb') as f:\n",
    "    pickle.dump(ps,f)"
   ]
  },
  {
   "cell_type": "code",
   "execution_count": null,
   "metadata": {
    "collapsed": false
   },
   "outputs": [],
   "source": [
    "ps.compilations"
   ]
  },
  {
   "cell_type": "code",
   "execution_count": null,
   "metadata": {
    "collapsed": false
   },
   "outputs": [],
   "source": [
    "ps = ProcessorSpec(4,['Gi','Gh','Gp','Gcnot'],qubit_labels=['Q0','Q1','Q2','Q3'])"
   ]
  },
  {
   "cell_type": "code",
   "execution_count": null,
   "metadata": {
    "collapsed": false
   },
   "outputs": [],
   "source": [
    "# Circuit initialization tests\n",
    "gatestring=[Label('Gh','Q1'),Label('Gcnot',('Q1','Q2'))]\n",
    "line_items =[[Label('Gh','Q0')],[Label('Gh','Q1')],[Label('Gh','Q2')],[Label('Gh','Q3')]]\n",
    "\n",
    "# Check can initialize with gatestring\n",
    "c = pygsti.obj.Circuit(gatestring=gatestring,line_labels=['Q0','Q1','Q2','Q3'],identity='Gi')\n",
    "s = c.__str__()\n",
    "size = c.size()\n",
    "depth = c.depth()\n",
    "twoQgc = c.twoqubit_gatecount()\n",
    "assert(depth == 2)\n",
    "assert(size == 3)\n",
    "assert(twoQgc == 1)\n",
    "\n",
    "# Check can initialize with line_items\n",
    "c = pygsti.obj.Circuit(line_items=line_items,line_labels=['Q0','Q1','Q2','Q3'],identity='Gi')\n",
    "s = c.__str__()\n",
    "depth = c.depth()\n",
    "size = c.size()\n",
    "twoQgc = c.twoqubit_gatecount()\n",
    "assert(depth == 1)\n",
    "assert(size == 4)\n",
    "assert(twoQgc == 0)\n",
    "\n",
    "# Check can't give line_items and gatestring.\n",
    "try:\n",
    "    c = pygsti.obj.Circuit(line_items=line_items,gatestring=gatestring)\n",
    "    failed = False\n",
    "except:\n",
    "    failed = True\n",
    "assert(failed)\n",
    "\n"
   ]
  },
  {
   "cell_type": "code",
   "execution_count": null,
   "metadata": {
    "collapsed": false
   },
   "outputs": [],
   "source": [
    "c2 = c.copy()"
   ]
  },
  {
   "cell_type": "code",
   "execution_count": null,
   "metadata": {
    "collapsed": false
   },
   "outputs": [],
   "source": [
    "c.replace_gatename('Gh','Gp')\n",
    "print(c)"
   ]
  },
  {
   "cell_type": "code",
   "execution_count": null,
   "metadata": {
    "collapsed": false
   },
   "outputs": [],
   "source": [
    "c2"
   ]
  },
  {
   "cell_type": "code",
   "execution_count": null,
   "metadata": {
    "collapsed": true
   },
   "outputs": [],
   "source": [
    "# Check we can create an empty circuit\n",
    "c = pygsti.obj.Circuit(num_lines=10)\n",
    "depth = c.depth()\n",
    "size = c.size()\n",
    "twoQgc = c.twoqubit_gatecount()\n",
    "assert(depth == 0)\n",
    "assert(size == 0)\n",
    "assert(twoQgc == 0)"
   ]
  },
  {
   "cell_type": "code",
   "execution_count": null,
   "metadata": {
    "collapsed": false
   },
   "outputs": [],
   "source": [
    "gatestring= [Label('Gh','Q1'),Label('Gh','Q2'),Label('Gh','Q3')]\n",
    "c = pygsti.obj.Circuit(gatestring=gatestring,num_lines=3,identity='Gi')"
   ]
  },
  {
   "cell_type": "code",
   "execution_count": null,
   "metadata": {
    "collapsed": false
   },
   "outputs": [],
   "source": [
    "c"
   ]
  },
  {
   "cell_type": "code",
   "execution_count": null,
   "metadata": {
    "collapsed": false
   },
   "outputs": [],
   "source": [
    "c.line_items"
   ]
  },
  {
   "cell_type": "code",
   "execution_count": null,
   "metadata": {
    "collapsed": false
   },
   "outputs": [],
   "source": [
    "c.line_labels"
   ]
  },
  {
   "cell_type": "code",
   "execution_count": null,
   "metadata": {
    "collapsed": false
   },
   "outputs": [],
   "source": [
    "for q in Label('Gh','Q1').qubits:\n",
    "    assert(q in c.line_labels)"
   ]
  },
  {
   "cell_type": "code",
   "execution_count": null,
   "metadata": {
    "collapsed": true
   },
   "outputs": [],
   "source": [
    "ProcessorSpec?"
   ]
  },
  {
   "cell_type": "code",
   "execution_count": null,
   "metadata": {
    "collapsed": false
   },
   "outputs": [],
   "source": []
  },
  {
   "cell_type": "code",
   "execution_count": null,
   "metadata": {
    "collapsed": false
   },
   "outputs": [],
   "source": [
    "ps."
   ]
  },
  {
   "cell_type": "code",
   "execution_count": null,
   "metadata": {
    "collapsed": true
   },
   "outputs": [],
   "source": []
  }
 ],
 "metadata": {
  "kernelspec": {
   "display_name": "Python 3",
   "language": "python",
   "name": "python3"
  },
  "language_info": {
   "codemirror_mode": {
    "name": "ipython",
    "version": 3
   },
   "file_extension": ".py",
   "mimetype": "text/x-python",
   "name": "python",
   "nbconvert_exporter": "python",
   "pygments_lexer": "ipython3",
   "version": "3.6.3"
  }
 },
 "nbformat": 4,
 "nbformat_minor": 2
}
