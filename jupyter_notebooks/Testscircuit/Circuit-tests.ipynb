{
 "cells": [
  {
   "cell_type": "code",
   "execution_count": null,
   "metadata": {
    "collapsed": true
   },
   "outputs": [],
   "source": []
  },
  {
   "cell_type": "code",
   "execution_count": 14,
   "metadata": {
    "collapsed": false
   },
   "outputs": [
    {
     "name": "stdout",
     "output_type": "stream",
     "text": [
      "OutcomeLabelDict([(('0',), 1.0), (('1',), 1.0)])\n",
      "OutcomeLabelDict([(('0',), 0.4999999999999999), (('1',), 0.4999999999999999)])\n",
      "OutcomeLabelDict([(('00',), 0.4999999999999999), (('01',), 0.4999999999999999), (('10',), 0.4999999999999999), (('11',), 0.4999999999999999)])\n",
      "OutcomeLabelDict([(('00',), 1.0), (('01',), 1.0), (('10',), 1.0), (('11',), 1.0)])\n"
     ]
    }
   ],
   "source": [
    "import pygsti\n",
    "\n",
    "gate_names = ['Gp','Gh']\n",
    "pspec = pygsti.obj.ProcessorSpec(nQubits=1,gate_names=gate_names,verbosity=0)\n",
    "\n",
    "c = pygsti.obj.Circuit(gatestring=[pygsti.obj.Label('Gp',0)],num_lines=1)\n",
    "print(c.simulate(pspec.models['target']))\n",
    "\n",
    "c = pygsti.obj.Circuit(gatestring=[pygsti.obj.Label('Gh',0)],num_lines=1)\n",
    "print(c.simulate(pspec.models['target']))\n",
    "\n",
    "gate_names = ['Gi','Gp','Gh','Gcnot']\n",
    "pspec = pygsti.obj.ProcessorSpec(nQubits=2,gate_names=gate_names,verbosity=0)\n",
    "c = pygsti.obj.Circuit(gatestring=[pygsti.obj.Label('Gh',0)],num_lines=4)\n",
    "print(c.simulate(pspec.models['target']))\n",
    "\n",
    "gate_names = ['Gi','Gp','Gh','Gcnot','Gxpi','Gypi','Gzpi']\n",
    "pspec = pygsti.obj.ProcessorSpec(nQubits=2,gate_names=gate_names,verbosity=0)\n",
    "c = pygsti.obj.Circuit(num_lines=2)\n",
    "print(c.simulate(pspec.models['target']))"
   ]
  },
  {
   "cell_type": "code",
   "execution_count": 15,
   "metadata": {
    "collapsed": true
   },
   "outputs": [],
   "source": [
    "circuit = pygsti.obj.Circuit(gatestring=[pygsti.obj.Label('Gh',0),pygsti.obj.Label('Gh',1),pygsti.obj.Label('Gp',0)],num_lines=2)"
   ]
  },
  {
   "cell_type": "code",
   "execution_count": 16,
   "metadata": {
    "collapsed": false
   },
   "outputs": [
    {
     "name": "stdout",
     "output_type": "stream",
     "text": [
      "Qubit 0 ---|Gh |-|Gp |---\n",
      "Qubit 1 ---|Gh |-|  |---\n",
      "\n"
     ]
    }
   ],
   "source": [
    "print(circuit)"
   ]
  },
  {
   "cell_type": "code",
   "execution_count": 17,
   "metadata": {
    "collapsed": false
   },
   "outputs": [],
   "source": [
    "import numpy as np\n",
    "n = pspec.number_of_qubits\n",
    "paulilist = ['I','X','Y','Z']\n",
    "d = circuit.depth()\n",
    "for i in range(0,d+1):\n",
    "    pcircuit = pygsti.obj.Circuit(gatestring=[pygsti.obj.Label(paulilist[np.random.randint(4)],k) for k in range(n)],num_lines=n)\n",
    "    pcircuit.change_gate_library(pspec.compilations['absolute'])\n",
    "    circuit.insert_circuit(pcircuit,d-i)\n",
    "    circuit.replace_gatename('I','Gi')"
   ]
  },
  {
   "cell_type": "code",
   "execution_count": 18,
   "metadata": {
    "collapsed": false
   },
   "outputs": [
    {
     "name": "stdout",
     "output_type": "stream",
     "text": [
      "Qubit 0 ---|Gzpi |-|Gh |-|Gzpi |-|Gp |-|Gi |---\n",
      "Qubit 1 ---|Gzpi |-|Gh |-|Gypi |-|Gi |-|Gxpi |---\n",
      "\n"
     ]
    }
   ],
   "source": [
    "print(circuit)"
   ]
  },
  {
   "cell_type": "code",
   "execution_count": 10,
   "metadata": {
    "collapsed": true
   },
   "outputs": [],
   "source": [
    "s,p = pygsti.random_clifford(2)"
   ]
  },
  {
   "cell_type": "code",
   "execution_count": 11,
   "metadata": {
    "collapsed": true
   },
   "outputs": [],
   "source": [
    "c = pygsti.algorithms.compile_clifford"
   ]
  },
  {
   "cell_type": "code",
   "execution_count": 12,
   "metadata": {
    "collapsed": false
   },
   "outputs": [],
   "source": [
    "c = pygsti.algorithms.compile_clifford(s,p,pspec,pauli_randomize=True)\n",
    "c.replace_gatename('I','Gi')"
   ]
  },
  {
   "cell_type": "code",
   "execution_count": 13,
   "metadata": {
    "collapsed": false
   },
   "outputs": [
    {
     "name": "stdout",
     "output_type": "stream",
     "text": [
      "Qubit 0 ---|Gzpi |-|Gh |-|Gypi |-Gcnot:1:0|-||Gxpi |-|Gh |-|Gzpi |-|Gp |-|Gypi |-Gcnot:0:1|-||Gypi |-|Gh |-|Gxpi |---\n",
      "Qubit 1 ---|Gypi |-|Gi |-|Gxpi |-Gcnot:1:0|-||Gypi |-|Gi |-|Gzpi |-|Gi |-|Gxpi |-Gcnot:0:1|-||Gypi |-|Gi |-|Gi |---\n",
      "\n"
     ]
    }
   ],
   "source": [
    "print(c)"
   ]
  }
 ],
 "metadata": {
  "kernelspec": {
   "display_name": "Python 3",
   "language": "python",
   "name": "python3"
  },
  "language_info": {
   "codemirror_mode": {
    "name": "ipython",
    "version": 3
   },
   "file_extension": ".py",
   "mimetype": "text/x-python",
   "name": "python",
   "nbconvert_exporter": "python",
   "pygments_lexer": "ipython3",
   "version": "3.6.3"
  }
 },
 "nbformat": 4,
 "nbformat_minor": 2
}
