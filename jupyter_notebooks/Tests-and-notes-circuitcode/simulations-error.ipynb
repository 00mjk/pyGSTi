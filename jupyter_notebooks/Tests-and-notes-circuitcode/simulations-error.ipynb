{
 "cells": [
  {
   "cell_type": "code",
   "execution_count": 1,
   "metadata": {
    "collapsed": false
   },
   "outputs": [],
   "source": [
    "# need to be in the feature-circuit branch of pyGSTi.\n",
    "from __future__ import division, print_function, absolute_import, unicode_literals\n",
    "from ipyparallel import Client\n",
    "import os\n",
    "import numpy as np\n",
    "import matplotlib.pyplot as plt\n",
    "import numpy as np\n",
    "from scipy.linalg import fractional_matrix_power\n",
    "from scipy.linalg import expm\n",
    "import pygsti\n",
    "from pygsti.extras import newrb as prb\n",
    "from pygsti.extras import rb"
   ]
  },
  {
   "cell_type": "markdown",
   "metadata": {
    "collapsed": false
   },
   "source": [
    "##### Commented out below to make it work on Tim's machine\n",
    "rw = Client()\n",
    "#rw = Client(profile=\"mpi2\")\n",
    "size = len(rw)\n",
    "dw = rw[:]\n",
    "dw.scatter('rank', range(size), flatten=True)\n",
    "dw['size'] = size\n",
    "cwd = os.getcwd()\n",
    "dw['cwd'] = cwd"
   ]
  },
  {
   "cell_type": "code",
   "execution_count": 6,
   "metadata": {
    "collapsed": false
   },
   "outputs": [],
   "source": [
    "#%%px \n",
    "from __future__ import division, print_function, absolute_import, unicode_literals\n",
    "\n",
    "# ----- File title (get inserted as the start of the filenames) ----- #\n",
    "title = 'sectors-one-qubit-bad'\n",
    "\n",
    "# Whether to add the data to the end of already-existing files\n",
    "appenddata=False\n",
    "\n",
    "# Whether to run crb as well as prb simulations\n",
    "runcrb = False\n",
    "\n",
    "# ----- The specification of the perfect device ---- #\n",
    "\n",
    "# The gateset (probably best not to change without talking to Tim)\n",
    "gllist = ['Gi','Gh','Gp','Gcphase'] #+ ['X','Y','Z']\n",
    "\n",
    "# Fill in manual connectivity here (linear chain is available as a default, below)\n",
    "availability = {} \n",
    "\n",
    "#If false, full connectivity (or whatever is given by \"availability\" above).\n",
    "linearchain = True\n",
    "\n",
    "# A list of the different numbers of qubits to run sim on. n = 1 cause a failure (will fix soon).\n",
    "nlist = [8] #[2,3,4]#,5,6,7,8]\n",
    "\n",
    "# ----- The specification of the perfect device ---- #\n",
    "\n",
    "# Uncomment for an error model whereby every gate is followed by a coherent error with fixed rot. angle\n",
    "#errortype = 'fixed-over-rotation'\n",
    "# The over-rotation parameter [the over-rotations are of the form exp(-i theta*pi*(unit-vec*paulis)/2)],\n",
    "# as a function of n\n",
    "def thetawithn(n):\n",
    "    return 0.01 \n",
    "\n",
    "# Uncomment for an error model whereby every gate is followed by a coh. error with error increasing with q. number\n",
    "#errortype = 'variable-over-rotation'\n",
    "# The min and max theta, with the thetas taken to vary linearly between these values.\n",
    "def maxminthetawithn(n):\n",
    "    mintheta = 0.000 \n",
    "    maxtheta = 0.015\n",
    "    return mintheta, maxtheta\n",
    "\n",
    "# Uncomment for an error model one qubit has fairly large coherent Z-rotation errors after every gate\n",
    "errortype = 'one-qubit-bad'\n",
    "badqubit = 0\n",
    "badqubittheta = 0.03\n",
    "\n",
    "# ----- The specification of the PRB parameters ---- #\n",
    "\n",
    "# The num of seqs sampled at each length, on each core (having 200-300 total seqs/length is a good idea )\n",
    "def numseqswithn(n): return 40\n",
    "# Function gives the lengths used for each number of qubits (allows different lengths as a function of n).\n",
    "def rblengths(n,rbtype='prb'):\n",
    "    if rbtype == 'prb': \n",
    "        if n == 2:\n",
    "            #return [0,1,2,3,4,5,6,7,8,9,10,20,40]\n",
    "            return [0,10,20,30,40,50,60,70,80,90,100,200,400,600,800,1000]\n",
    "        if n == 3:\n",
    "            #return [0,1,2,3,4,5,6,7,8,9,10,20,40]\n",
    "            return [0,10,20,30,40,50,60,70,80,90,100,200,300,400,600,800]\n",
    "        if n == 4:\n",
    "            #return [0,1,2,3,4,5,6,7,8,9,10,20,40]\n",
    "            return [0,10,20,30,40,50,60,70,80,90,100,200,300,400,500,600]\n",
    "        if n == 5:\n",
    "            return [0,10,20,30,40,50,60,70,80,90,100,150,200,250,300,400]\n",
    "        if n == 6:\n",
    "            return [0,10,20,30,40,50,60,70,80,90,100,125,150,200,250,300]\n",
    "        if n == 7:\n",
    "            return [0,10,20,30,40,50,60,70,80,90,100,125,150,175,200,250]\n",
    "        if n == 8:\n",
    "            return [0,10,20,30,40,50,60,70,80,90,100,110,125,150,175,200,400,600,800,1000]\n",
    "        \n",
    "    if rbtype == 'crb': \n",
    "        if n == 2:\n",
    "            return [1,2,3,4,5,6,7,8,9,10,11,20,40,60,80,100]\n",
    "        if n == 3:\n",
    "            return [1,2,3,4,5,6,7,8,9,10,11,20,30,40,50,60]\n",
    "        if n == 4:\n",
    "            return [1,2,3,4,5,6,7,8,9,10,11,15,20,25,30,40]\n",
    "        if n == 5:\n",
    "            return [1,2,3,4,5,6,7,8,9,10,11,13,15,20,25,30]\n",
    "        if n == 6:\n",
    "            return [1,2,3,4,5,6,7,8,9,10,11,13,15,18,20,25]\n",
    "        if n == 7:\n",
    "            return [1,2,3,4,5,6,7,8,9,10,11,13,14,15,17,20]\n",
    "        if n == 8:\n",
    "            return [1,2,3,4,5,6,7,8,9,10,11,12,13,14,15,16]\n",
    "    \n",
    "# Pick the desired sampling-distribution labels. If \"weights\", then each qubit is looked at in turn (in a\n",
    "# random order), the possible gates still available is considered and if a two-qubit gate is still possible\n",
    "# then we decide with probability twoprobwithn(n) (see below) to implement one of these. If so, one of the\n",
    "# available two-qubit gates is picked uniformly at random, if not one of the single qubit gates is picked uniformly\n",
    "# at random. If \"sectors\", then sectors of two-qubit gates are defined (in a fixed way -- see code below) containing\n",
    "# two-qubit gates that can be applied in parallel. Then one of the sectors is picked at uniformly at random, and each\n",
    "# two-qubit gate in it is implemented with a probability twoprobwithn(n) (see below).\n",
    "\n",
    "# sampler = 'weights'\n",
    "sampler = \"sectors\"\n",
    "\n",
    "# If sampler = \"weights\", this is the probability that a two-qubit gate is implemented on any given\n",
    "# qubit, *if*, given what has been chosen in the layer already, this is still possible. (so, it roughly\n",
    "# corresponds to the probability that any given two-qubit gate is implemented in the layer). If sample =\n",
    "# \"sectors\", this is the probability that each two-qubit gate is implemented in the sampled sector of\n",
    "# two-qubit gates. In that case, the chance of implementing any given two qubit gate is then this value\n",
    "# multiplied by the number of sectors a two-qubit gate appears in (fixed to 1 here) divided by the\n",
    "# number of sectors (fixed to 2 here).\n",
    "def twoqprobwithn(n): return 1/2\n",
    "\n",
    "#\n",
    "alternatewithlocal=False\n",
    "#\n",
    "localtype='paulis'"
   ]
  },
  {
   "cell_type": "code",
   "execution_count": 7,
   "metadata": {
    "collapsed": false,
    "scrolled": true
   },
   "outputs": [],
   "source": [
    "#%%px\n",
    "from __future__ import division, print_function, absolute_import, unicode_literals\n",
    "import numpy as np\n",
    "from scipy.linalg import fractional_matrix_power\n",
    "from scipy.linalg import expm\n",
    "import pygsti\n",
    "from pygsti.extras import newrb as prb\n",
    "from pygsti.extras import rb\n",
    "import os\n",
    "#np.random.seed(size*rank + 134567)"
   ]
  },
  {
   "cell_type": "code",
   "execution_count": 16,
   "metadata": {
    "collapsed": false
   },
   "outputs": [],
   "source": [
    "#%%px \n",
    "\n",
    "x = np.array([[0,1.],[1.,0]])\n",
    "y = np.array([[0,-1j],[1j,0]])\n",
    "z = np.array([[1.,0],[0,-1.]])\n",
    "\n",
    "pspec = {}\n",
    "lengths_prb = {}\n",
    "lengths_crb = {}\n",
    "K = {}\n",
    "sampler_args = {}\n",
    "\n",
    "for i in range(0,len(nlist)):\n",
    "    \n",
    "    availability = {}\n",
    "    n = nlist[i]\n",
    "    if linearchain == True:\n",
    "        connectedlist = []\n",
    "        for i in range(0,n-1):\n",
    "            connectedlist.append((i,i+1))\n",
    "        availability['Gcphase'] = connectedlist\n",
    "        \n",
    "    pspec[n] = pygsti.obj.ProcessorSpec(n, gllist, availability=availability, verbosity=0)    \n",
    "\n",
    "    # Over-rotation-like-error with fixed rotation-angle-over/pi theta\n",
    "    pspec[n].add_std_model('fixed-over-rotation', parameterization=\"static\", sim_type=\"svmap\")\n",
    "\n",
    "    theta = thetawithn(n)\n",
    "    for gate in list(pspec[n].models['fixed-over-rotation'].gates.keys()):\n",
    "        if gate.name == 'Gp':\n",
    "            uerror = expm(-1j*np.pi*theta*z/2)\n",
    "        elif gate.name == 'Gcphase':\n",
    "            uerror = np.kron(expm(-1j*np.pi*theta*z/2),expm(-1j*np.pi*theta*z/2))\n",
    "        elif gate.name == 'Gh':\n",
    "            uerror = expm(-1j*np.pi*theta*(x + z)/(2*np.sqrt(2)))\n",
    "        else:\n",
    "            uerror = np.identity(2)\n",
    "        tunitary = pspec[n].models['target'].gates[gate].embedded_gate\n",
    "        tunitary = tunitary.convert_to_matrix(tunitary)\n",
    "        pspec[n].models['fixed-over-rotation'].gates[gate] = np.dot(uerror,tunitary)\n",
    "        \n",
    "            \n",
    "    # Over-rotation-like-error with rotation-angle-over/pi theta varying linearly with qubit num.\n",
    "    pspec[n].add_std_model('variable-over-rotation', parameterization=\"static\", sim_type=\"svmap\")\n",
    "    mintheta,maxtheta = maxminthetawithn(n)\n",
    "    theta = np.linspace(mintheta,maxtheta,n)\n",
    "    for gate in list(pspec[n].models['variable-over-rotation'].gates.keys()):\n",
    "        if gate.name == 'Gp':\n",
    "            uerror = expm(-1j*np.pi*theta[gate.qubits[0]]*z/2)\n",
    "        elif gate.name == 'Gcphase':\n",
    "            uerror = np.kron(expm(-1j*np.pi*theta[gate.qubits[0]]*z/2),expm(-1j*np.pi*theta[gate.qubits[1]]*z/2))\n",
    "        elif gate.name == 'Ch':\n",
    "            uerror = expm(-1j*np.pi*theta[gate.qubits[0]]*(x + z)/(2*np.sqrt(2)))\n",
    "        else:\n",
    "            uerror = np.identity(2)\n",
    "        tunitary = pspec[n].models['target'].gates[gate].embedded_gate\n",
    "        tunitary = tunitary.convert_to_matrix(tunitary)\n",
    "        pspec[n].models['variable-over-rotation'].gates[gate] = np.dot(uerror,tunitary)\n",
    "        \n",
    "    # Over-rotation-like-error on all single-qubit gates on a particular qubit.\n",
    "    pspec[n].add_std_model('one-qubit-bad', parameterization=\"static\", sim_type=\"svmap\")\n",
    "    \n",
    "    for gate in list(pspec[n].models['one-qubit-bad'].gates.keys()):\n",
    "        if gate.name == 'Gp' and (badqubit in gate.qubits):\n",
    "            uerror = expm(-1j*np.pi*badqubittheta*z/2)\n",
    "        elif gate.name == 'Gcphase':\n",
    "            uerror = np.identity(4)\n",
    "        elif gate.name == 'Ch' and (badqubit in gate.qubits):\n",
    "            uerror = expm(-1j*np.pi*badqubittheta*(x + z)/(2*np.sqrt(2)))\n",
    "        else:\n",
    "            uerror = np.identity(2)\n",
    "        tunitary = pspec[n].models['target'].gates[gate].embedded_gate\n",
    "        tunitary = tunitary.convert_to_matrix(tunitary)\n",
    "        pspec[n].models['one-qubit-bad'].gates[gate] = np.dot(uerror,tunitary)\n",
    "\n",
    "    # The PRB and CRB sampling parameters\n",
    "    lengths_prb[n] = rblengths(n,rbtype='prb')\n",
    "    lengths_crb[n] = rblengths(n,rbtype='crb')\n",
    "    K[n] = numseqswithn(n)\n",
    "    \n",
    "    if sampler == 'weights':\n",
    "        sampler_args[n]={'two_qubit_weighting' : twoqprobwithn(n)}\n",
    "    if sampler == 'sectors':\n",
    "        sector1 = [pygsti.objects.Label('Gcphase',(2*i,2*i+1)) for i in range(0,int(np.floor((n-2)/2))+ 1)]\n",
    "        sector2 = [pygsti.objects.Label('Gcphase',(2*i+1,2*i+2)) for i in range(0,int(np.floor((n-1)/2)))]\n",
    "        sectors = [sector1,sector2]\n",
    "        sampler_args[n]={'sectors' : sectors, 'two_qubit_prob' : twoqprobwithn(n)}"
   ]
  },
  {
   "cell_type": "code",
   "execution_count": 81,
   "metadata": {
    "collapsed": false
   },
   "outputs": [
    {
     "name": "stdout",
     "output_type": "stream",
     "text": [
      "True\n"
     ]
    }
   ],
   "source": [
    "c = prb.sample_prb_circuit(pspec[8],0,sampler=sampler, sampler_args=sampler_args[8], alternatewithlocal=alternatewithlocal,\n",
    "                           localtype=localtype) \n",
    "\n",
    "# Fails with and without this.\n",
    "c.replace_gatename('I','Gi')\n",
    "print(c._tup_dirty)"
   ]
  },
  {
   "cell_type": "code",
   "execution_count": 82,
   "metadata": {
    "collapsed": true
   },
   "outputs": [],
   "source": [
    "# No fail if this is called\n",
    "#c._reinit_base()"
   ]
  },
  {
   "cell_type": "code",
   "execution_count": 83,
   "metadata": {
    "collapsed": false
   },
   "outputs": [
    {
     "ename": "KeyError",
     "evalue": "Label('H', 0)",
     "output_type": "error",
     "traceback": [
      "\u001b[0;31m---------------------------------------------------------------------------\u001b[0m",
      "\u001b[0;31mKeyError\u001b[0m                                  Traceback (most recent call last)",
      "\u001b[0;32m<ipython-input-83-ff52c2e042cc>\u001b[0m in \u001b[0;36m<module>\u001b[0;34m()\u001b[0m\n\u001b[1;32m      1\u001b[0m \u001b[0;31m# This is where the fail happens\u001b[0m\u001b[0;34m\u001b[0m\u001b[0;34m\u001b[0m\u001b[0m\n\u001b[0;32m----> 2\u001b[0;31m \u001b[0mc\u001b[0m\u001b[0;34m.\u001b[0m\u001b[0msimulate\u001b[0m\u001b[0;34m(\u001b[0m\u001b[0mpspec\u001b[0m\u001b[0;34m[\u001b[0m\u001b[0;36m8\u001b[0m\u001b[0;34m]\u001b[0m\u001b[0;34m.\u001b[0m\u001b[0mmodels\u001b[0m\u001b[0;34m[\u001b[0m\u001b[0;34m'one-qubit-bad'\u001b[0m\u001b[0;34m]\u001b[0m\u001b[0;34m)\u001b[0m\u001b[0;34m\u001b[0m\u001b[0m\n\u001b[0m",
      "\u001b[0;32m~/pyGSTi/packages/pygsti/objects/circuit.py\u001b[0m in \u001b[0;36msimulate\u001b[0;34m(self, gateset)\u001b[0m\n\u001b[1;32m    841\u001b[0m         \u001b[0mbeing\u001b[0m \u001b[0mable\u001b[0m \u001b[0mto\u001b[0m \u001b[0mdo\u001b[0m \u001b[0mcircuit\u001b[0m\u001b[0;34m.\u001b[0m\u001b[0msimulate\u001b[0m\u001b[0;34m(\u001b[0m\u001b[0;34m)\u001b[0m\u001b[0;34m...\u001b[0m\u001b[0;31m!\u001b[0m\u001b[0;34m\u001b[0m\u001b[0m\n\u001b[1;32m    842\u001b[0m         \"\"\"\n\u001b[0;32m--> 843\u001b[0;31m         \u001b[0;32mreturn\u001b[0m \u001b[0mgateset\u001b[0m\u001b[0;34m.\u001b[0m\u001b[0mprobs\u001b[0m\u001b[0;34m(\u001b[0m\u001b[0mself\u001b[0m\u001b[0;34m)\u001b[0m\u001b[0;34m\u001b[0m\u001b[0m\n\u001b[0m\u001b[1;32m    844\u001b[0m         \u001b[0;31m#return _sim.simulate(self,model,inputstate=inputstate,store=store,returnall=returnall)\u001b[0m\u001b[0;34m\u001b[0m\u001b[0;34m\u001b[0m\u001b[0m\n\u001b[1;32m    845\u001b[0m \u001b[0;34m\u001b[0m\u001b[0m\n",
      "\u001b[0;32m~/pyGSTi/packages/pygsti/objects/gateset.py\u001b[0m in \u001b[0;36mprobs\u001b[0;34m(self, gatestring, clipTo)\u001b[0m\n\u001b[1;32m   1343\u001b[0m             \u001b[0;32mfor\u001b[0m \u001b[0meach\u001b[0m \u001b[0mspam\u001b[0m \u001b[0mlabel\u001b[0m \u001b[0;34m(\u001b[0m\u001b[0mstring\u001b[0m\u001b[0;34m)\u001b[0m \u001b[0mSL\u001b[0m\u001b[0;34m.\u001b[0m\u001b[0;34m\u001b[0m\u001b[0m\n\u001b[1;32m   1344\u001b[0m         \"\"\"\n\u001b[0;32m-> 1345\u001b[0;31m         \u001b[0;32mreturn\u001b[0m \u001b[0mself\u001b[0m\u001b[0;34m.\u001b[0m\u001b[0m_calc\u001b[0m\u001b[0;34m(\u001b[0m\u001b[0;34m)\u001b[0m\u001b[0;34m.\u001b[0m\u001b[0mprobs\u001b[0m\u001b[0;34m(\u001b[0m\u001b[0mself\u001b[0m\u001b[0;34m.\u001b[0m\u001b[0mcompile_gatestring\u001b[0m\u001b[0;34m(\u001b[0m\u001b[0mgatestring\u001b[0m\u001b[0;34m)\u001b[0m\u001b[0;34m,\u001b[0m \u001b[0mclipTo\u001b[0m\u001b[0;34m)\u001b[0m\u001b[0;34m\u001b[0m\u001b[0m\n\u001b[0m\u001b[1;32m   1346\u001b[0m \u001b[0;34m\u001b[0m\u001b[0m\n\u001b[1;32m   1347\u001b[0m \u001b[0;34m\u001b[0m\u001b[0m\n",
      "\u001b[0;32m~/pyGSTi/packages/pygsti/objects/gatecalc.py\u001b[0m in \u001b[0;36mprobs\u001b[0;34m(self, compiled_gatestring, clipTo)\u001b[0m\n\u001b[1;32m    734\u001b[0m             \u001b[0;32mfor\u001b[0m \u001b[0mspamTuple\u001b[0m \u001b[0;32min\u001b[0m \u001b[0mspamTuples\u001b[0m\u001b[0;34m:\u001b[0m\u001b[0;34m\u001b[0m\u001b[0m\n\u001b[1;32m    735\u001b[0m                 probs[outcomeLbls[iOut]] = self.pr(\n\u001b[0;32m--> 736\u001b[0;31m                     spamTuple, raw_gatestring, clipTo, False)\n\u001b[0m\u001b[1;32m    737\u001b[0m                 \u001b[0miOut\u001b[0m \u001b[0;34m+=\u001b[0m \u001b[0;36m1\u001b[0m\u001b[0;34m\u001b[0m\u001b[0m\n\u001b[1;32m    738\u001b[0m         \u001b[0;32mreturn\u001b[0m \u001b[0mprobs\u001b[0m\u001b[0;34m\u001b[0m\u001b[0m\n",
      "\u001b[0;32m~/pyGSTi/packages/pygsti/objects/gatemapcalc.py\u001b[0m in \u001b[0;36mpr\u001b[0;34m(self, spamTuple, gatestring, clipTo, bUseScaling)\u001b[0m\n\u001b[1;32m    149\u001b[0m         \"\"\"\n\u001b[1;32m    150\u001b[0m         \u001b[0mrho\u001b[0m\u001b[0;34m,\u001b[0m\u001b[0mE\u001b[0m \u001b[0;34m=\u001b[0m \u001b[0mself\u001b[0m\u001b[0;34m.\u001b[0m\u001b[0m_rhoE_from_spamTuple\u001b[0m\u001b[0;34m(\u001b[0m\u001b[0mspamTuple\u001b[0m\u001b[0;34m)\u001b[0m\u001b[0;34m\u001b[0m\u001b[0m\n\u001b[0;32m--> 151\u001b[0;31m         \u001b[0mrho\u001b[0m \u001b[0;34m=\u001b[0m \u001b[0mself\u001b[0m\u001b[0;34m.\u001b[0m\u001b[0mpropagate_state\u001b[0m\u001b[0;34m(\u001b[0m\u001b[0mrho\u001b[0m\u001b[0;34m,\u001b[0m \u001b[0mgatestring\u001b[0m\u001b[0;34m)\u001b[0m\u001b[0;34m\u001b[0m\u001b[0m\n\u001b[0m\u001b[1;32m    152\u001b[0m         \u001b[0;32mif\u001b[0m \u001b[0mself\u001b[0m\u001b[0;34m.\u001b[0m\u001b[0munitary_evolution\u001b[0m\u001b[0;34m:\u001b[0m\u001b[0;34m\u001b[0m\u001b[0m\n\u001b[1;32m    153\u001b[0m             \u001b[0mp\u001b[0m \u001b[0;34m=\u001b[0m \u001b[0mfloat\u001b[0m\u001b[0;34m(\u001b[0m\u001b[0mabs\u001b[0m\u001b[0;34m(\u001b[0m\u001b[0m_np\u001b[0m\u001b[0;34m.\u001b[0m\u001b[0mdot\u001b[0m\u001b[0;34m(\u001b[0m\u001b[0mE\u001b[0m\u001b[0;34m,\u001b[0m\u001b[0mrho\u001b[0m\u001b[0;34m)\u001b[0m\u001b[0;34m)\u001b[0m\u001b[0;34m**\u001b[0m\u001b[0;36m2\u001b[0m\u001b[0;34m)\u001b[0m\u001b[0;34m\u001b[0m\u001b[0m\n",
      "\u001b[0;32m~/pyGSTi/packages/pygsti/objects/gatemapcalc.py\u001b[0m in \u001b[0;36mpropagate_state\u001b[0;34m(self, rho, gatestring)\u001b[0m\n\u001b[1;32m    116\u001b[0m         \"\"\"\n\u001b[1;32m    117\u001b[0m         \u001b[0;32mfor\u001b[0m \u001b[0mlbl\u001b[0m \u001b[0;32min\u001b[0m \u001b[0mgatestring\u001b[0m\u001b[0;34m:\u001b[0m\u001b[0;34m\u001b[0m\u001b[0m\n\u001b[0;32m--> 118\u001b[0;31m             \u001b[0mrho\u001b[0m \u001b[0;34m=\u001b[0m \u001b[0mself\u001b[0m\u001b[0;34m.\u001b[0m\u001b[0mgates\u001b[0m\u001b[0;34m[\u001b[0m\u001b[0mlbl\u001b[0m\u001b[0;34m]\u001b[0m\u001b[0;34m.\u001b[0m\u001b[0macton\u001b[0m\u001b[0;34m(\u001b[0m\u001b[0mrho\u001b[0m\u001b[0;34m)\u001b[0m \u001b[0;31m# LEXICOGRAPHICAL VS MATRIX ORDER\u001b[0m\u001b[0;34m\u001b[0m\u001b[0m\n\u001b[0m\u001b[1;32m    119\u001b[0m         \u001b[0;32mreturn\u001b[0m \u001b[0mrho\u001b[0m\u001b[0;34m\u001b[0m\u001b[0m\n\u001b[1;32m    120\u001b[0m \u001b[0;34m\u001b[0m\u001b[0m\n",
      "\u001b[0;31mKeyError\u001b[0m: Label('H', 0)"
     ]
    }
   ],
   "source": [
    "# This is where the fail happens\n",
    "c.simulate(pspec[8].models['one-qubit-bad'])"
   ]
  },
  {
   "cell_type": "code",
   "execution_count": 17,
   "metadata": {
    "collapsed": false
   },
   "outputs": [
    {
     "name": "stdout",
     "output_type": "stream",
     "text": [
      "ProcessorSpecs created\n"
     ]
    }
   ],
   "source": [
    "print(\"ProcessorSpecs created\")"
   ]
  },
  {
   "cell_type": "code",
   "execution_count": 18,
   "metadata": {
    "collapsed": false
   },
   "outputs": [],
   "source": [
    "#pspec[8].compilations"
   ]
  },
  {
   "cell_type": "code",
   "execution_count": 19,
   "metadata": {
    "collapsed": false
   },
   "outputs": [
    {
     "name": "stdout",
     "output_type": "stream",
     "text": [
      "Qubit 0 ---|Gh |-|Gp |-|Gp |-|Gi |-|Gi |-|Gi |-Gcphase:0:1|-||Gp |-|Gp |-|Gi |-|Gi |-|Gi |-|Gi |-|Gi |-|Gi |-|Gi |-|Gi |-|Gi |-Gcphase:0:1|-||Gp |-|Gh |-|Gi |-|Gi |-|Gi |-|Gi |-|Gi |-|Gi |-|Gi |-|Gi |-|Gi |-|Gi |-|Gi |-|Gi |-|Gi |-|Gi |-|Gi |-|Gi |-|Gi |-|Gi |-Gcphase:0:1|-||Gh |-|Gh |-|Gi |-|Gi |-|Gi |-|Gi |-|Gi |-|Gi |-|Gi |-|Gi |-|Gi |-Gcphase:0:1|-||Gh |-|Gp |-|Gi |-|Gi |-|Gi |-|Gi |-|Gi |-|Gi |-Gcphase:0:1|-||Gp |-|Gp |-|Gi |-|Gi |-|Gi |-|Gi |-|Gi |-|Gi |-|Gi |-|Gi |-|Gi |-Gcphase:0:1|-||Gp |-|Gp |-|Gi |-|Gi |-|Gi |-|Gi |-|Gi |-|Gi |-|Gi |-|Gi |-|Gi |-Gcphase:0:1|-||Gp |-|Gp |-|Gi |-|Gi |-|Gi |-|Gi |-|Gi |-|Gi |-|Gi |-|Gi |-|Gi |-|Gi |-|Gi |-|Gi |-|Gi |-|Gi |-|Gi |-Gcphase:0:1|-||Gp |-|Gp |-|Gi |-|Gi |-|Gi |-|Gi |-|Gi |-|Gi |-|Gi |-|Gi |-|Gi |-|Gi |-|Gi |-|Gi |-|Gi |-|Gi |-|Gi |-|Gi |-|Gi |-|Gi |-|Gi |-|Gi |-|Gi |-|Gi |-|Gi |-|Gi |-|Gi |-|Gi |-|Gi |-|Gi |-|Gi |-|Gi |-|Gi |-|Gi |-|Gi |-Gcphase:0:1|-||Gp |-|Gp |-|Gi |-|Gi |-|Gi |-|Gi |-|Gi |-|Gi |-|Gi |-|Gi |-|Gi |-|Gi |-|Gi |-|Gi |-|Gi |-|Gi |-|Gi |-|Gi |-|Gi |-|Gi |-|Gi |-|Gi |-|Gi |-|Gi |-|Gi |-|Gi |-|Gi |-|Gi |-|Gi |-Gcphase:0:1|-||Gp |-|Gp |-|Gi |-|Gi |-|Gi |-|Gi |-|Gi |-|Gi |-|Gi |-|Gi |-|Gi |-|Gi |-|Gi |-|Gi |-|Gi |-|Gi |-|Gi |-|Gi |-|Gi |-|Gi |-|Gi |-|Gi |-|Gi |-Gcphase:0:1|-||Gp |-|Gp |-|Gi |-|Gi |-|Gi |-|Gi |-|Gi |-|Gi |-|Gi |-|Gi |-|Gi |-|Gi |-|Gi |-|Gi |-|Gi |-|Gi |-|Gi |-|Gi |-|Gi |-|Gi |-|Gi |-|Gi |-|Gi |-|Gi |-|Gi |-|Gi |-|Gi |-|Gi |-|Gi |-Gcphase:0:1|-||Gp |-|Gp |-|Gi |-|Gi |-|Gi |-|Gi |-|Gi |-|Gi |-|Gi |-|Gi |-|Gi |-|Gi |-|Gi |-|Gi |-|Gi |-|Gi |-|Gi |-|Gi |-|Gi |-|Gi |-|Gi |-|Gi |-|Gi |-|Gi |-|Gi |-|Gi |-|Gi |-|Gi |-|Gi |-Gcphase:0:1|-||Gp |-|Gp |-|Gi |-|Gi |-|Gi |-|Gi |-|Gi |-|Gi |-|Gi |-|Gi |-|Gi |-|Gi |-|Gi |-|Gi |-|Gi |-|Gi |-|Gi |-|Gi |-|Gi |-|Gi |-|Gi |-|Gi |-|Gi |-|Gi |-|Gi |-|Gi |-|Gi |-|Gi |-|Gi |-|Gi |-|Gi |-|Gi |-|Gi |-|Gi |-|Gi |-|Gi |-|Gi |-|Gi |-|Gi |-|Gi |-|Gi |-|Gi |-|Gi |-|Gi |-|Gi |-|Gi |-|Gi |-Gcphase:0:1|-||Gp |-|Gh |-|Gi |-|Gi |-|Gi |-|Gi |-|Gi |-|Gi |-|Gi |-|Gi |-|Gi |-|Gi |-|Gi |-|Gi |-|Gi |-|Gi |-|Gi |-|Gi |-|Gi |-|Gi |-|Gi |-|Gi |-|Gi |-|Gi |-|Gi |-|Gi |-|Gi |-|Gi |-|Gi |-|Gi |-|Gi |-|Gi |-|Gi |-|Gi |-|Gi |-|Gi |-|Gi |-|Gi |-|Gi |-|Gi |-|Gi |-|Gi |-|Gi |-|Gi |-|Gi |-|Gi |-|Gi |-|Gi |-|Gi |-|Gi |-|Gi |-|Gi |-|Gi |-|Gi |-|Gi |-|Gi |-|Gi |-|Gi |-|Gi |-|Gi |-|Gi |-|Gi |-|Gi |-|Gi |-|Gi |-|Gi |-|Gi |-|Gi |-|Gi |-|Gi |-|Gi |-|Gi |-|Gi |-|Gi |-|Gi |-|Gi |-|Gi |-|Gi |-|Gi |-|Gi |-|Gi |-|Gi |-|Gi |-|Gi |-|Gi |-|Gi |-|Gi |-|Gi |-|Gi |-|Gi |-|Gi |-|Gi |-|Gi |-|Gi |-|Gi |-|Gi |-|Gi |-|Gi |-|Gi |-|Gi |-|Gi |-|Gi |-|Gi |-|Gi |-|Gi |-|Gi |-|Gi |-|Gi |-|Gi |-|Gi |-|Gi |-|Gi |-|Gi |-|Gi |-|Gi |-|Gi |-|Gi |-|Gi |-|Gi |-|Gi |-|Gi |-|Gi |-|Gi |-|Gi |-|Gi |-|Gi |-|Gi |-|Gi |-|Gi |-|Gi |-|Gi |-|Gi |-|Gi |-|Gi |-|Gi |-|Gi |-|Gi |-|Gi |-|Gi |-|Gi |-|Gi |-|Gi |-|Gi |-|Gi |-|Gi |-|Gi |-|Gi |-|Gi |-|Gi |-|Gi |-|Gi |-|Gi |-|Gi |-|Gi |-|Gi |-|Gi |-|Gi |-|Gi |-|Gi |-|Gi |-|Gi |-|Gi |-|Gi |-|Gi |-|Gi |-|Gi |-|Gi |-|Gi |-|Gi |-|Gi |-|Gi |-|Gi |-|Gi |-|Gi |-|Gi |-|Gi |-|Gi |-|Gi |-|Gi |-|Gi |-|Gi |-|Gi |-|Gi |-|Gi |-|Gi |-|Gi |-|Gi |-|Gi |-|Gi |-|Gi |-|Gi |-|Gi |-|Gi |-|Gi |-|Gi |-|Gi |-|Gi |-|Gi |-|Gi |-|Gi |-|Gi |-|Gi |-|Gi |-|Gi |-|Gi |-|Gi |-|Gi |-|Gi |-|Gi |-|Gi |-|Gi |-|Gi |-|Gi |-|Gi |-|Gi |-|Gi |-|Gi |-|Gi |-|Gi |-|Gi |-|Gi |-|Gi |-|Gi |-|Gi |-|Gi |-|Gi |-|Gi |-|Gi |-|Gi |-|Gi |-|Gi |-|Gi |-|Gi |-|Gi |-|Gi |-|Gi |-|Gi |-|Gi |-|Gi |-|Gi |-|Gi |-|Gi |-|Gi |-|Gi |-|Gi |-|Gi |-|Gi |-|Gi |-|Gi |-|Gi |-|Gi |-|Gi |-|Gi |-|Gi |-|Gi |-|Gi |-|Gi |-|Gi |-|Gi |-|Gi |-|Gi |-|Gi |-|Gi |-|Gi |-|Gi |-|Gi |-|Gi |-|Gi |-|Gi |-|Gi |-|Gi |-|Gi |-|Gi |-|Gi |-|Gi |-|Gi |-|Gi |-|Gi |-|Gi |-|Gi |-|Gi |-|Gi |-|Gi |-|Gi |-|Gi |-|Gi |-|Gi |-|Gi |-|Gi |-|Gi |-|Gi |-|Gi |-|Gi |-|Gi |-|Gi |-|Gi |-|Gi |-|Gi |-|Gi |-|Gi |-|Gi |-|Gi |-|Gi |-|Gi |-|Gi |-|Gi |-|Gi |-|Gi |-|Gi |-|Gi |-|Gi |-|Gi |-|Gi |-|Gi |-|Gi |-|Gi |-|Gi |-|Gi |-|Gi |-|Gi |-|Gi |-|Gi |-|Gi |-|Gi |-|Gi |-|Gi |-|Gi |-|Gi |-|Gi |-|Gi |-|Gi |-|Gi |-|Gi |-|Gi |-|Gi |-|Gi |-|Gi |-|Gi |-|Gi |-|Gi |-|Gi |-|Gi |-|Gi |-|Gi |-|Gi |-|Gi |-|Gi |-|Gi |-|Gi |-|Gi |-|Gi |-|Gi |-|Gi |-|Gi |-|Gi |-|Gi |-|Gi |-|Gi |-|Gi |-|Gi |-|Gi |-|Gi |-|Gi |-|Gi |-|Gi |-|Gi |-|Gi |-|Gi |-|Gi |-|Gi |-|Gi |-|Gi |-|Gi |-|Gi |-|Gi |-|Gi |-|Gi |-|Gi |-|Gi |-|Gi |-|Gi |-|Gi |-|Gi |-|Gi |-|Gi |-|Gi |-|Gi |-|Gi |-|Gi |-|Gi |-|Gi |-|Gi |-|Gi |-|Gi |-|Gi |-|Gi |-|Gi |-|Gi |-|Gi |-|Gi |-|Gi |-|Gi |-|Gi |-|Gi |-|Gi |-|Gi |-|Gi |-|Gi |-|Gi |-|Gi |-|Gi |-|Gi |-|Gi |-|Gi |-|Gi |-|Gi |-|Gi |-|Gi |-|Gi |-|Gi |-|Gi |-|Gi |-|Gi |-|Gi |-|Gi |-|Gi |-|Gi |-|Gi |-|Gi |-|Gi |-|Gi |-|Gi |-|Gi |-|Gi |-|Gi |-|Gi |-|Gi |-|Gi |-|Gi |-|Gi |-|Gi |-|Gi |-|Gi |-|Gi |-|Gi |-|Gi |-|Gi |-|Gi |-|Gi |-|Gi |-|Gi |-|Gi |-|Gi |-|Gi |-|Gi |-|Gi |-|Gi |-|Gi |-|Gi |-|Gi |-|Gi |-|Gi |-|Gi |-|Gi |-|Gi |-|Gi |-|Gi |-|Gi |-|Gi |-|Gi |-|Gi |-|Gi |-|Gi |-|Gi |-|Gi |-|Gi |-|Gi |-|Gi |-|Gi |-|Gi |-|Gi |-|Gi |-|Gi |-|Gi |-|Gi |-|Gi |-|Gi |-|Gi |-|Gi |-|Gi |-|Gi |-|Gi |-|Gi |-|Gi |-|Gi |-|Gi |-|Gi |-|Gi |-|Gi |-|Gi |-|Gi |-|Gi |-|Gi |-|Gi |-|Gi |-|Gi |-|Gi |-|Gi |-|Gi |-|Gi |-|Gi |-|Gi |-|Gi |-|Gi |-|Gi |-|Gi |-|Gi |-|Gi |-Gcphase:0:1|-||Gh |-|Gh |-|Gi |-|Gi |-|Gi |-|Gi |-|Gi |-|Gi |-|Gi |-|Gi |-|Gi |-|Gi |-|Gi |-|Gi |-|Gi |-|Gi |-|Gi |-|Gi |-|Gi |-|Gi |-|Gi |-|Gi |-|Gi |-|Gi |-|Gi |-|Gi |-|Gi |-|Gi |-|Gi |-|Gi |-|Gi |-|Gi |-|Gi |-|Gi |-|Gi |-Gcphase:0:1|-||Gh |-|Gh |-|Gi |-|Gi |-|Gi |-|Gi |-|Gi |-|Gi |-|Gi |-|Gi |-|Gi |-|Gi |-|Gi |-|Gi |-|Gi |-|Gi |-|Gi |-|Gi |-|Gi |-|Gi |-|Gi |-|Gi |-|Gi |-|Gi |-|Gi |-|Gi |-|Gi |-|Gi |-|Gi |-|Gi |-|Gi |-|Gi |-|Gi |-|Gi |-|Gi |-|Gi |-|Gi |-|Gi |-|Gi |-|Gi |-|Gi |-|Gi |-|Gi |-|Gi |-|Gi |-|Gi |-|Gi |-|Gi |-|Gi |-|Gi |-|Gi |-|Gi |-|Gi |-|Gi |-|Gi |-|Gi |-|Gi |-|Gi |-|Gi |-|Gi |-|Gi |-|Gi |-|Gi |-|Gi |-|Gi |-|Gi |-|Gi |-|Gi |-|Gi |-|Gi |-|Gi |-Gcphase:0:1|-||Gh |-|Gh |-|Gi |-|Gi |-|Gi |-|Gi |-|Gi |-|Gi |-|Gi |-|Gi |-|Gi |-|Gi |-|Gi |-|Gi |-|Gi |-|Gi |-|Gi |-|Gi |-|Gi |-|Gi |-|Gi |-|Gi |-|Gi |-|Gi |-|Gi |-|Gi |-|Gi |-|Gi |-|Gi |-Gcphase:0:1|-||Gh |-|Gh |-|Gi |-|Gi |-|Gi |-|Gi |-|Gi |-|Gi |-|Gi |-|Gi |-|Gi |-|Gi |-|Gi |-|Gi |-|Gi |-|Gi |-|Gi |-|Gi |-|Gi |-|Gi |-|Gi |-|Gi |-|Gi |-|Gi |-|Gi |-|Gi |-|Gi |-|Gi |-|Gi |-|Gi |-|Gi |-|Gi |-|Gi |-|Gi |-|Gi |-|Gi |-|Gi |-|Gi |-|Gi |-|Gi |-|Gi |-|Gi |-|Gi |-|Gi |-|Gi |-|Gi |-|Gi |-Gcphase:0:1|-||Gh |-|Gh |-|Gi |-|Gi |-|Gi |-|Gi |-|Gi |-|Gi |-|Gi |-|Gi |-|Gi |-|Gi |-|Gi |-|Gi |-|Gi |-|Gi |-|Gi |-|Gi |-|Gi |-|Gi |-|Gi |-|Gi |-|Gi |-Gcphase:0:1|-||Gh |-|Gh |-|Gi |-|Gi |-|Gi |-|Gi |-|Gi |-|Gi |-|Gi |-|Gi |-|Gi |-|Gi |-|Gi |-|Gi |-|Gi |-|Gi |-|Gi |-|Gi |-|Gi |-|Gi |-Gcphase:0:1|-||Gh |-|Gh |-|Gi |-|Gi |-|Gi |-|Gi |-|Gi |-|Gi |-|Gi |-|Gi |-|Gi |-|Gi |-|Gi |-|Gi |-|Gi |-|Gi |-|Gi |-Gcphase:0:1|-||Gh |-|Gh |-|Gi |-|Gi |-|Gi |-|Gi |-|Gi |-|Gi |-|Gi |-|Gi |-|Gi |-|Gi |-|Gi |-|Gi |-Gcphase:0:1|-||Gh |-|Gh |-|Gi |-|Gi |-|Gi |-|Gi |-|Gi |-|Gi |-|Gi |-|Gi |-|Gi |-Gcphase:0:1|-||Gh |-|Gh |-|Gi |-|Gi |-|Gi |-Gcphase:0:1|-||Gh |-|Gp |-|Gh |-|Gh |-|Gp |-|Gp |-|Gh |-|Gp |-|Gp |-|Gh |-|Gi |-|Gi |-|Gi |-|Gi |-|Gi |-|Gi |-|Gi |-|Gi |-Gcphase:0:1|-||Gh |-|Gh |-|Gi |-|Gi |-|Gi |-Gcphase:0:1|-||Gh |-|Gh |-|Gi |-|Gi |-|Gi |-|Gi |-|Gi |-|Gi |-|Gi |-|Gi |-|Gi |-Gcphase:0:1|-||Gh |-|Gh |-|Gi |-|Gi |-|Gi |-|Gi |-|Gi |-|Gi |-|Gi |-|Gi |-|Gi |-Gcphase:0:1|-||Gh |-|Gp |-|Gi |-|Gi |-|Gi |-|Gi |-|Gi |-|Gi |-|Gi |-|Gi |-|Gi |-|Gi |-|Gi |-|Gi |-|Gi |-|Gi |-|Gi |-|Gi |-|Gi |-|Gi |-|Gi |-|Gi |-|Gi |-|Gi |-|Gi |-|Gi |-|Gi |-|Gi |-|Gi |-|Gi |-|Gi |-|Gi |-|Gi |-|Gi |-|Gi |-|Gi |-|Gi |-|Gi |-|Gi |-|Gi |-|Gi |-|Gi |-|Gi |-|Gi |-|Gi |-|Gi |-|Gi |-|Gi |-|Gi |-|Gi |-|Gi |-|Gi |-|Gi |-|Gi |-|Gi |-|Gi |-|Gi |-|Gi |-|Gi |-|Gi |-|Gi |-|Gi |-|Gi |-|Gi |-|Gi |-|Gi |-|Gi |-|Gi |-|Gi |-|Gi |-|Gi |-|Gi |-|Gi |-|Gi |-|Gi |-|Gi |-|Gi |-|Gi |-|Gi |-|Gi |-|Gi |-|Gi |-|Gi |-|Gi |-|Gi |-|Gi |-|Gi |-|Gi |-|Gi |-|Gi |-|Gi |-|Gi |-|Gi |-|Gi |-|Gi |-|Gi |-|Gi |-|Gi |-|Gi |-|Gi |-|Gi |-|Gi |-|Gi |-|Gi |-|Gi |-|Gi |-|Gi |-|Gi |-|Gi |-|Gi |-|Gi |-|Gi |-|Gi |-|Gi |-|Gi |-|Gi |-|Gi |-|Gi |-|Gi |-|Gi |-|Gi |-|Gi |-|Gi |-|Gi |-|Gi |-|Gi |-|Gi |-|Gi |-|Gi |-|Gi |-|Gi |-|Gi |-|Gi |-|Gi |-|Gi |-|Gi |-|Gi |-|Gi |-|Gi |-|Gi |-|Gi |-|Gi |-|Gi |-|Gi |-|Gi |-|Gi |-|Gi |-|Gi |-|Gi |-|Gi |-|Gi |-|Gi |-|Gi |-|Gi |-|Gi |-|Gi |-|Gi |-|Gi |-|Gi |-|Gi |-|Gi |-|Gi |-|Gi |-|Gi |-|Gi |-|Gi |-|Gi |-|Gi |-|Gi |-|Gi |-|Gi |-|Gi |-|Gi |-|Gi |-|Gi |-|Gi |-|Gi |-|Gi |-|Gi |-Gcphase:0:1|-||Gp |-|Gp |-|Gi |-|Gi |-|Gi |-|Gi |-|Gi |-|Gi |-|Gi |-|Gi |-|Gi |-|Gi |-|Gi |-|Gi |-|Gi |-|Gi |-|Gi |-|Gi |-|Gi |-|Gi |-|Gi |-|Gi |-|Gi |-|Gi |-|Gi |-|Gi |-|Gi |-|Gi |-|Gi |-|Gi |-|Gi |-|Gi |-|Gi |-|Gi |-|Gi |-|Gi |-|Gi |-|Gi |-|Gi |-|Gi |-|Gi |-|Gi |-|Gi |-|Gi |-|Gi |-|Gi |-|Gi |-|Gi |-|Gi |-|Gi |-|Gi |-|Gi |-|Gi |-|Gi |-|Gi |-|Gi |-|Gi |-|Gi |-|Gi |-|Gi |-|Gi |-|Gi |-|Gi |-|Gi |-|Gi |-|Gi |-|Gi |-|Gi |-|Gi |-|Gi |-|Gi |-|Gi |-|Gi |-|Gi |-|Gi |-|Gi |-|Gi |-|Gi |-|Gi |-|Gi |-|Gi |-|Gi |-|Gi |-|Gi |-|Gi |-|Gi |-|Gi |-|Gi |-|Gi |-|Gi |-|Gi |-|Gi |-|Gi |-|Gi |-|Gi |-|Gi |-|Gi |-|Gi |-|Gi |-|Gi |-|Gi |-|Gi |-|Gi |-|Gi |-|Gi |-|Gi |-|Gi |-|Gi |-|Gi |-|Gi |-|Gi |-|Gi |-|Gi |-|Gi |-|Gi |-|Gi |-|Gi |-|Gi |-|Gi |-|Gi |-|Gi |-|Gi |-|Gi |-|Gi |-|Gi |-|Gi |-|Gi |-|Gi |-|Gi |-|Gi |-|Gi |-|Gi |-|Gi |-|Gi |-|Gi |-|Gi |-|Gi |-|Gi |-|Gi |-|Gi |-|Gi |-|Gi |-|Gi |-|Gi |-|Gi |-|Gi |-|Gi |-|Gi |-|Gi |-|Gi |-|Gi |-|Gi |-|Gi |-|Gi |-|Gi |-|Gi |-|Gi |-|Gi |-|Gi |-|Gi |-|Gi |-|Gi |-|Gi |-|Gi |-|Gi |-|Gi |-|Gi |-|Gi |-|Gi |-|Gi |-|Gi |-|Gi |-|Gi |-|Gi |-|Gi |-|Gi |-|Gi |-|Gi |-|Gi |-|Gi |-|Gi |-|Gi |-|Gi |-|Gi |-|Gi |-|Gi |-|Gi |-|Gi |-|Gi |-|Gi |-|Gi |-|Gi |-|Gi |-|Gi |-|Gi |-|Gi |-|Gi |-|Gi |-|Gi |-|Gi |-|Gi |-|Gi |-|Gi |-|Gi |-|Gi |-|Gi |-|Gi |-|Gi |-|Gi |-|Gi |-|Gi |-|Gi |-|Gi |-|Gi |-|Gi |-|Gi |-|Gi |-|Gi |-|Gi |-|Gi |-|Gi |-|Gi |-|Gi |-|Gi |-|Gi |-|Gi |-|Gi |-|Gi |-|Gi |-|Gi |-|Gi |-|Gi |-|Gi |-Gcphase:0:1|-||Gp |-|Gp |-|Gi |-|Gi |-|Gi |-|Gi |-|Gi |-|Gi |-|Gi |-|Gi |-|Gi |-|Gi |-|Gi |-|Gi |-|Gi |-|Gi |-|Gi |-|Gi |-|Gi |-|Gi |-|Gi |-|Gi |-|Gi |-|Gi |-|Gi |-|Gi |-|Gi |-|Gi |-|Gi |-|Gi |-|Gi |-|Gi |-|Gi |-|Gi |-|Gi |-|Gi |-|Gi |-|Gi |-|Gi |-|Gi |-|Gi |-|Gi |-|Gi |-|Gi |-|Gi |-|Gi |-|Gi |-|Gi |-|Gi |-|Gi |-|Gi |-|Gi |-|Gi |-|Gi |-|Gi |-|Gi |-|Gi |-|Gi |-|Gi |-Gcphase:0:1|-||Gp |-|Gp |-|Gi |-|Gi |-|Gi |-|Gi |-|Gi |-|Gi |-|Gi |-|Gi |-|Gi |-|Gi |-|Gi |-|Gi |-|Gi |-|Gi |-|Gi |-|Gi |-|Gi |-|Gi |-|Gi |-|Gi |-|Gi |-|Gi |-|Gi |-|Gi |-|Gi |-|Gi |-|Gi |-|Gi |-|Gi |-|Gi |-|Gi |-|Gi |-|Gi |-|Gi |-|Gi |-|Gi |-|Gi |-|Gi |-|Gi |-|Gi |-|Gi |-|Gi |-Gcphase:0:1|-||Gp |-|Gp |-|Gi |-|Gi |-|Gi |-|Gi |-|Gi |-|Gi |-|Gi |-|Gi |-|Gi |-|Gi |-|Gi |-|Gi |-|Gi |-|Gi |-|Gi |-|Gi |-|Gi |-|Gi |-|Gi |-|Gi |-|Gi |-Gcphase:0:1|-||Gp |-|Gp |-|Gi |-|Gi |-|Gi |-|Gi |-|Gi |-|Gi |-|Gi |-|Gi |-|Gi |-|Gi |-|Gi |-|Gi |-|Gi |-|Gi |-|Gi |-Gcphase:0:1|-||Gp |-|Gp |-|Gi |-|Gi |-|Gi |-|Gi |-|Gi |-|Gi |-|Gi |-|Gi |-|Gi |-|Gi |-|Gi |-|Gi |-|Gi |-|Gi |-|Gi |-|Gi |-|Gi |-|Gi |-|Gi |-|Gi |-Gcphase:0:1|-||Gp |-|Gp |-|Gi |-|Gi |-|Gi |-Gcphase:0:1|-||Gp |-|Gp |-|Gh |-|Gi |-|Gi |-|Gi |---\n",
      "Qubit 1 ---|Gh |-|Gp |-|Gp |-Gcphase:1:2|-||Gp |-|Gh |-Gcphase:0:1|-||Gh |-|Gp |-Gcphase:1:2|-||Gp |-|Gp |-|Gi |-|Gi |-|Gi |-Gcphase:1:2|-||Gp |-|Gh |-Gcphase:0:1|-||Gh |-|Gp |-Gcphase:1:2|-||Gp |-|Gp |-|Gi |-|Gi |-|Gi |-Gcphase:1:2|-||Gp |-|Gh |-Gcphase:1:2|-||Gh |-|Gh |-|Gi |-|Gi |-|Gi |-Gcphase:1:2|-||Gh |-|Gp |-Gcphase:0:1|-||Gp |-|Gh |-Gcphase:1:2|-||Gh |-|Gh |-|Gi |-|Gi |-|Gi |-Gcphase:1:2|-||Gh |-|Gp |-Gcphase:0:1|-||Gp |-|Gh |-Gcphase:1:2|-||Gh |-|Gp |-Gcphase:1:2|-||Gp |-|Gh |-Gcphase:0:1|-||Gh |-|Gp |-Gcphase:1:2|-||Gp |-|Gp |-|Gi |-|Gi |-|Gi |-Gcphase:1:2|-||Gp |-|Gh |-Gcphase:0:1|-||Gh |-|Gp |-Gcphase:1:2|-||Gp |-|Gp |-|Gi |-|Gi |-|Gi |-Gcphase:1:2|-||Gp |-|Gh |-Gcphase:0:1|-||Gh |-|Gp |-Gcphase:1:2|-||Gp |-|Gp |-|Gi |-|Gi |-|Gi |-|Gi |-|Gi |-|Gi |-|Gi |-|Gi |-|Gi |-Gcphase:1:2|-||Gp |-|Gh |-Gcphase:0:1|-||Gh |-|Gp |-Gcphase:1:2|-||Gp |-|Gp |-|Gi |-|Gi |-|Gi |-|Gi |-|Gi |-|Gi |-|Gi |-|Gi |-|Gi |-Gcphase:1:2|-||Gp |-|Gp |-|Gi |-|Gi |-|Gi |-Gcphase:1:2|-||Gp |-|Gp |-|Gi |-|Gi |-|Gi |-|Gi |-|Gi |-|Gi |-|Gi |-|Gi |-|Gi |-Gcphase:1:2|-||Gp |-|Gh |-Gcphase:0:1|-||Gh |-|Gp |-|Gi |-|Gi |-|Gi |-|Gi |-|Gi |-|Gi |-Gcphase:1:2|-||Gp |-|Gp |-|Gi |-|Gi |-|Gi |-|Gi |-|Gi |-|Gi |-|Gi |-|Gi |-|Gi |-|Gi |-|Gi |-|Gi |-|Gi |-|Gi |-|Gi |-Gcphase:1:2|-||Gp |-|Gh |-Gcphase:0:1|-||Gh |-|Gp |-Gcphase:1:2|-||Gp |-|Gp |-|Gi |-|Gi |-|Gi |-|Gi |-|Gi |-|Gi |-|Gi |-|Gi |-|Gi |-|Gi |-|Gi |-|Gi |-|Gi |-|Gi |-|Gi |-Gcphase:1:2|-||Gp |-|Gh |-Gcphase:0:1|-||Gh |-|Gp |-Gcphase:1:2|-||Gp |-|Gp |-|Gi |-|Gi |-|Gi |-|Gi |-|Gi |-|Gi |-|Gi |-|Gi |-|Gi |-|Gi |-|Gi |-|Gi |-|Gi |-|Gi |-|Gi |-|Gi |-|Gi |-|Gi |-|Gi |-|Gi |-|Gi |-Gcphase:1:2|-||Gp |-|Gh |-Gcphase:0:1|-||Gh |-|Gp |-Gcphase:1:2|-||Gp |-|Gp |-|Gi |-|Gi |-|Gi |-|Gi |-|Gi |-|Gi |-|Gi |-|Gi |-|Gi |-|Gi |-|Gi |-|Gi |-|Gi |-|Gi |-|Gi |-|Gi |-|Gi |-|Gi |-|Gi |-|Gi |-|Gi |-Gcphase:1:2|-||Gp |-|Gh |-Gcphase:0:1|-||Gh |-|Gp |-|Gi |-|Gi |-|Gi |-|Gi |-|Gi |-|Gi |-|Gi |-|Gi |-|Gi |-|Gi |-|Gi |-|Gi |-Gcphase:1:2|-||Gp |-|Gp |-|Gi |-|Gi |-|Gi |-|Gi |-|Gi |-|Gi |-|Gi |-|Gi |-|Gi |-|Gi |-|Gi |-|Gi |-|Gi |-|Gi |-|Gi |-|Gi |-|Gi |-|Gi |-|Gi |-|Gi |-|Gi |-|Gi |-|Gi |-|Gi |-|Gi |-|Gi |-|Gi |-Gcphase:1:2|-||Gp |-|Gh |-Gcphase:0:1|-||Gh |-|Gp |-Gcphase:1:2|-||Gp |-|Gp |-|Gi |-|Gi |-|Gi |-|Gi |-|Gi |-|Gi |-|Gi |-|Gi |-|Gi |-|Gi |-|Gi |-|Gi |-|Gi |-|Gi |-|Gi |-|Gi |-|Gi |-|Gi |-|Gi |-|Gi |-|Gi |-|Gi |-|Gi |-|Gi |-|Gi |-|Gi |-|Gi |-Gcphase:1:2|-||Gp |-|Gp |-Gcphase:1:2|-||Gp |-|Gp |-|Gi |-|Gi |-|Gi |-|Gi |-|Gi |-|Gi |-|Gi |-|Gi |-|Gi |-|Gi |-|Gi |-|Gi |-|Gi |-|Gi |-|Gi |-|Gi |-|Gi |-|Gi |-|Gi |-|Gi |-|Gi |-|Gi |-|Gi |-|Gi |-|Gi |-|Gi |-|Gi |-Gcphase:1:2|-||Gp |-|Gh |-|Gi |-|Gi |-|Gi |-|Gi |-|Gi |-|Gi |-|Gi |-|Gi |-|Gi |-|Gi |-|Gi |-|Gi |-|Gi |-|Gi |-|Gi |-|Gi |-|Gi |-|Gi |-|Gi |-|Gi |-|Gi |-|Gi |-|Gi |-|Gi |-|Gi |-|Gi |-|Gi |-|Gi |-|Gi |-|Gi |-|Gi |-|Gi |-|Gi |-|Gi |-|Gi |-|Gi |-|Gi |-|Gi |-|Gi |-|Gi |-|Gi |-|Gi |-|Gi |-|Gi |-|Gi |-|Gi |-|Gi |-|Gi |-|Gi |-|Gi |-|Gi |-|Gi |-|Gi |-|Gi |-|Gi |-|Gi |-|Gi |-|Gi |-|Gi |-|Gi |-|Gi |-|Gi |-|Gi |-|Gi |-|Gi |-|Gi |-|Gi |-|Gi |-|Gi |-|Gi |-|Gi |-|Gi |-|Gi |-|Gi |-|Gi |-|Gi |-|Gi |-|Gi |-|Gi |-|Gi |-|Gi |-|Gi |-|Gi |-|Gi |-|Gi |-|Gi |-|Gi |-|Gi |-|Gi |-|Gi |-|Gi |-|Gi |-|Gi |-|Gi |-|Gi |-|Gi |-|Gi |-|Gi |-|Gi |-|Gi |-|Gi |-|Gi |-|Gi |-|Gi |-|Gi |-|Gi |-|Gi |-|Gi |-|Gi |-|Gi |-|Gi |-|Gi |-|Gi |-|Gi |-|Gi |-|Gi |-|Gi |-|Gi |-|Gi |-|Gi |-|Gi |-|Gi |-|Gi |-|Gi |-|Gi |-|Gi |-|Gi |-|Gi |-|Gi |-|Gi |-|Gi |-|Gi |-|Gi |-|Gi |-|Gi |-|Gi |-|Gi |-|Gi |-|Gi |-|Gi |-|Gi |-|Gi |-|Gi |-|Gi |-|Gi |-|Gi |-|Gi |-|Gi |-|Gi |-|Gi |-|Gi |-|Gi |-|Gi |-|Gi |-|Gi |-|Gi |-|Gi |-|Gi |-|Gi |-|Gi |-|Gi |-|Gi |-|Gi |-|Gi |-|Gi |-|Gi |-|Gi |-|Gi |-|Gi |-|Gi |-|Gi |-|Gi |-|Gi |-|Gi |-|Gi |-|Gi |-|Gi |-|Gi |-|Gi |-|Gi |-|Gi |-|Gi |-|Gi |-|Gi |-|Gi |-|Gi |-|Gi |-|Gi |-|Gi |-|Gi |-|Gi |-|Gi |-|Gi |-|Gi |-|Gi |-|Gi |-|Gi |-|Gi |-|Gi |-|Gi |-|Gi |-|Gi |-|Gi |-|Gi |-|Gi |-|Gi |-|Gi |-|Gi |-|Gi |-|Gi |-|Gi |-|Gi |-|Gi |-|Gi |-|Gi |-|Gi |-|Gi |-|Gi |-|Gi |-|Gi |-|Gi |-|Gi |-|Gi |-|Gi |-|Gi |-|Gi |-|Gi |-|Gi |-|Gi |-|Gi |-|Gi |-|Gi |-|Gi |-|Gi |-|Gi |-|Gi |-|Gi |-|Gi |-|Gi |-|Gi |-|Gi |-|Gi |-|Gi |-|Gi |-|Gi |-|Gi |-|Gi |-|Gi |-|Gi |-|Gi |-|Gi |-|Gi |-|Gi |-|Gi |-|Gi |-|Gi |-|Gi |-|Gi |-|Gi |-|Gi |-|Gi |-|Gi |-|Gi |-|Gi |-|Gi |-|Gi |-|Gi |-|Gi |-|Gi |-|Gi |-|Gi |-|Gi |-|Gi |-|Gi |-|Gi |-|Gi |-|Gi |-|Gi |-|Gi |-|Gi |-|Gi |-|Gi |-|Gi |-|Gi |-|Gi |-|Gi |-|Gi |-|Gi |-|Gi |-|Gi |-|Gi |-|Gi |-|Gi |-|Gi |-|Gi |-|Gi |-|Gi |-|Gi |-|Gi |-|Gi |-|Gi |-|Gi |-|Gi |-|Gi |-|Gi |-|Gi |-|Gi |-|Gi |-|Gi |-|Gi |-|Gi |-|Gi |-|Gi |-|Gi |-|Gi |-|Gi |-|Gi |-|Gi |-|Gi |-|Gi |-|Gi |-Gcphase:1:2|-||Gh |-|Gh |-|Gi |-|Gi |-|Gi |-|Gi |-|Gi |-|Gi |-|Gi |-|Gi |-|Gi |-|Gi |-|Gi |-|Gi |-|Gi |-|Gi |-|Gi |-|Gi |-|Gi |-|Gi |-|Gi |-|Gi |-|Gi |-|Gi |-|Gi |-|Gi |-|Gi |-|Gi |-|Gi |-Gcphase:1:2|-||Gh |-|Gh |-|Gi |-|Gi |-|Gi |-|Gi |-|Gi |-|Gi |-|Gi |-|Gi |-|Gi |-|Gi |-|Gi |-|Gi |-|Gi |-|Gi |-|Gi |-|Gi |-|Gi |-|Gi |-|Gi |-|Gi |-|Gi |-|Gi |-|Gi |-|Gi |-|Gi |-|Gi |-|Gi |-|Gi |-|Gi |-|Gi |-|Gi |-|Gi |-|Gi |-|Gi |-|Gi |-|Gi |-|Gi |-|Gi |-|Gi |-|Gi |-|Gi |-|Gi |-|Gi |-|Gi |-|Gi |-Gcphase:1:2|-||Gh |-|Gh |-|Gi |-|Gi |-|Gi |-|Gi |-|Gi |-|Gi |-|Gi |-|Gi |-|Gi |-|Gi |-|Gi |-|Gi |-|Gi |-|Gi |-|Gi |-|Gi |-|Gi |-|Gi |-|Gi |-|Gi |-|Gi |-Gcphase:1:2|-||Gh |-|Gh |-|Gi |-|Gi |-|Gi |-|Gi |-|Gi |-|Gi |-|Gi |-|Gi |-|Gi |-|Gi |-|Gi |-|Gi |-|Gi |-|Gi |-|Gi |-|Gi |-|Gi |-|Gi |-|Gi |-|Gi |-|Gi |-Gcphase:1:2|-||Gh |-|Gp |-Gcphase:0:1|-||Gp |-|Gh |-Gcphase:1:2|-||Gh |-|Gh |-|Gi |-|Gi |-|Gi |-|Gi |-|Gi |-|Gi |-|Gi |-|Gi |-|Gi |-|Gi |-|Gi |-|Gi |-|Gi |-|Gi |-|Gi |-|Gi |-|Gi |-|Gi |-|Gi |-|Gi |-|Gi |-|Gi |-|Gi |-|Gi |-|Gi |-|Gi |-|Gi |-Gcphase:1:2|-||Gh |-|Gp |-Gcphase:0:1|-||Gp |-|Gh |-Gcphase:1:2|-||Gh |-|Gh |-|Gi |-|Gi |-|Gi |-|Gi |-|Gi |-|Gi |-|Gi |-|Gi |-|Gi |-|Gi |-|Gi |-|Gi |-|Gi |-|Gi |-|Gi |-|Gi |-|Gi |-|Gi |-|Gi |-|Gi |-|Gi |-|Gi |-|Gi |-|Gi |-|Gi |-|Gi |-|Gi |-Gcphase:1:2|-||Gh |-|Gh |-|Gi |-|Gi |-|Gi |-|Gi |-|Gi |-|Gi |-|Gi |-|Gi |-|Gi |-|Gi |-|Gi |-|Gi |-|Gi |-|Gi |-|Gi |-Gcphase:1:2|-||Gh |-|Gh |-|Gi |-|Gi |-|Gi |-|Gi |-|Gi |-|Gi |-|Gi |-|Gi |-|Gi |-|Gi |-|Gi |-|Gi |-|Gi |-|Gi |-|Gi |-Gcphase:1:2|-||Gh |-|Gp |-Gcphase:0:1|-||Gp |-|Gh |-Gcphase:1:2|-||Gh |-|Gh |-|Gi |-|Gi |-|Gi |-|Gi |-|Gi |-|Gi |-|Gi |-|Gi |-|Gi |-|Gi |-|Gi |-|Gi |-|Gi |-|Gi |-|Gi |-|Gi |-|Gi |-|Gi |-|Gi |-|Gi |-|Gi |-Gcphase:1:2|-||Gh |-|Gp |-Gcphase:0:1|-||Gp |-|Gh |-Gcphase:1:2|-||Gh |-|Gh |-|Gi |-|Gi |-|Gi |-|Gi |-|Gi |-|Gi |-|Gi |-|Gi |-|Gi |-|Gi |-|Gi |-|Gi |-|Gi |-|Gi |-|Gi |-Gcphase:1:2|-||Gh |-|Gh |-|Gi |-|Gi |-|Gi |-|Gi |-|Gi |-|Gi |-|Gi |-|Gi |-|Gi |-Gcphase:1:2|-||Gh |-|Gh |-|Gi |-|Gi |-|Gi |-|Gi |-|Gi |-|Gi |-|Gi |-|Gi |-|Gi |-Gcphase:1:2|-||Gh |-|Gp |-Gcphase:0:1|-||Gp |-|Gh |-Gcphase:1:2|-||Gh |-|Gh |-|Gi |-|Gi |-|Gi |-|Gi |-|Gi |-|Gi |-|Gi |-|Gi |-|Gi |-|Gi |-|Gi |-|Gi |-|Gi |-|Gi |-|Gi |-Gcphase:1:2|-||Gh |-|Gp |-Gcphase:0:1|-||Gp |-|Gh |-Gcphase:1:2|-||Gh |-|Gh |-|Gi |-|Gi |-|Gi |-|Gi |-|Gi |-|Gi |-|Gi |-|Gi |-|Gi |-|Gi |-|Gi |-|Gi |-Gcphase:1:2|-||Gh |-|Gp |-Gcphase:0:1|-||Gp |-|Gh |-Gcphase:1:2|-||Gh |-|Gh |-|Gi |-|Gi |-|Gi |-|Gi |-|Gi |-|Gi |-|Gi |-|Gi |-|Gi |-Gcphase:1:2|-||Gh |-|Gp |-Gcphase:0:1|-||Gp |-|Gh |-Gcphase:1:2|-||Gh |-|Gh |-|Gi |-|Gi |-|Gi |-|Gi |-|Gi |-|Gi |-Gcphase:1:2|-||Gh |-|Gp |-Gcphase:0:1|-||Gp |-|Gh |-Gcphase:1:2|-||Gh |-|Gh |-|Gi |-|Gi |-|Gi |-Gcphase:1:2|-||Gh |-|Gp |-Gcphase:0:1|-||Gp |-|Gh |-Gcphase:1:2|-||Gh |-|Gp |-Gcphase:0:1|-||Gp |-|Gh |-|Gi |-|Gi |-|Gi |-|Gi |-|Gi |-|Gp |-|Gp |-|Gh |-|Gp |-|Gh |-|Gi |-|Gi |-|Gi |-Gcphase:1:2|-||Gh |-|Gp |-Gcphase:0:1|-||Gp |-|Gh |-Gcphase:1:2|-||Gh |-|Gp |-Gcphase:0:1|-||Gp |-|Gh |-Gcphase:1:2|-||Gh |-|Gh |-|Gi |-|Gi |-|Gi |-Gcphase:1:2|-||Gh |-|Gp |-Gcphase:0:1|-||Gp |-|Gh |-Gcphase:1:2|-||Gh |-|Gh |-|Gi |-|Gi |-|Gi |-Gcphase:1:2|-||Gh |-|Gp |-Gcphase:0:1|-||Gp |-|Gh |-Gcphase:1:2|-||Gh |-|Gh |-|Gi |-|Gi |-|Gi |-|Gi |-|Gi |-|Gi |-|Gi |-|Gi |-|Gi |-|Gi |-|Gi |-|Gi |-Gcphase:1:2|-||Gh |-|Gh |-|Gi |-|Gi |-|Gi |-Gcphase:1:2|-||Gh |-|Gh |-|Gi |-|Gi |-|Gi |-|Gi |-|Gi |-|Gi |-|Gi |-|Gi |-|Gi |-|Gi |-|Gi |-|Gi |-|Gi |-|Gi |-|Gi |-|Gi |-|Gi |-|Gi |-|Gi |-|Gi |-|Gi |-|Gi |-|Gi |-|Gi |-|Gi |-|Gi |-|Gi |-Gcphase:1:2|-||Gh |-|Gh |-|Gi |-|Gi |-|Gi |-|Gi |-|Gi |-|Gi |-|Gi |-|Gi |-|Gi |-|Gi |-|Gi |-|Gi |-|Gi |-|Gi |-|Gi |-|Gi |-|Gi |-|Gi |-|Gi |-|Gi |-|Gi |-Gcphase:1:2|-||Gh |-|Gh |-|Gi |-|Gi |-|Gi |-|Gi |-|Gi |-|Gi |-|Gi |-|Gi |-|Gi |-|Gi |-|Gi |-|Gi |-|Gi |-|Gi |-|Gi |-|Gi |-|Gi |-|Gi |-|Gi |-|Gi |-|Gi |-|Gi |-|Gi |-|Gi |-|Gi |-|Gi |-|Gi |-|Gi |-|Gi |-|Gi |-|Gi |-|Gi |-|Gi |-|Gi |-|Gi |-|Gi |-|Gi |-|Gi |-|Gi |-|Gi |-|Gi |-|Gi |-|Gi |-|Gi |-|Gi |-|Gi |-|Gi |-|Gi |-|Gi |-|Gi |-|Gi |-|Gi |-|Gi |-|Gi |-|Gi |-|Gi |-|Gi |-|Gi |-|Gi |-|Gi |-|Gi |-|Gi |-|Gi |-|Gi |-|Gi |-|Gi |-Gcphase:1:2|-||Gh |-|Gh |-|Gi |-|Gi |-|Gi |-|Gi |-|Gi |-|Gi |-|Gi |-|Gi |-|Gi |-|Gi |-|Gi |-|Gi |-|Gi |-|Gi |-|Gi |-|Gi |-|Gi |-|Gi |-|Gi |-|Gi |-|Gi |-|Gi |-|Gi |-|Gi |-|Gi |-|Gi |-|Gi |-Gcphase:1:2|-||Gh |-|Gh |-Gcphase:0:1|-||Gh |-|Gp |-|Gi |-|Gi |-|Gi |-|Gi |-|Gi |-|Gi |-|Gi |-|Gi |-|Gi |-|Gi |-|Gi |-|Gi |-|Gi |-|Gi |-|Gi |-|Gi |-|Gi |-|Gi |-|Gi |-|Gi |-|Gi |-|Gi |-|Gi |-|Gi |-|Gi |-|Gi |-|Gi |-|Gi |-|Gi |-|Gi |-|Gi |-|Gi |-|Gi |-|Gi |-|Gi |-|Gi |-|Gi |-|Gi |-|Gi |-|Gi |-|Gi |-|Gi |-|Gi |-|Gi |-|Gi |-|Gi |-|Gi |-|Gi |-|Gi |-|Gi |-|Gi |-|Gi |-|Gi |-|Gi |-|Gi |-|Gi |-|Gi |-|Gi |-|Gi |-|Gi |-|Gi |-|Gi |-|Gi |-|Gi |-|Gi |-|Gi |-|Gi |-|Gi |-|Gi |-|Gi |-|Gi |-|Gi |-|Gi |-|Gi |-|Gi |-|Gi |-|Gi |-|Gi |-|Gi |-|Gi |-|Gi |-|Gi |-|Gi |-|Gi |-|Gi |-|Gi |-|Gi |-|Gi |-|Gi |-|Gi |-|Gi |-|Gi |-|Gi |-|Gi |-|Gi |-|Gi |-|Gi |-|Gi |-|Gi |-|Gi |-|Gi |-|Gi |-|Gi |-|Gi |-|Gi |-|Gi |-|Gi |-|Gi |-|Gi |-|Gi |-|Gi |-|Gi |-|Gi |-|Gi |-|Gi |-|Gi |-|Gi |-|Gi |-|Gi |-|Gi |-|Gi |-|Gi |-|Gi |-|Gi |-|Gi |-|Gi |-|Gi |-|Gi |-|Gi |-|Gi |-|Gi |-|Gi |-|Gi |-|Gi |-|Gi |-|Gi |-|Gi |-|Gi |-|Gi |-|Gi |-|Gi |-|Gi |-|Gi |-|Gi |-|Gi |-|Gi |-|Gi |-|Gi |-|Gi |-|Gi |-|Gi |-|Gi |-|Gi |-|Gi |-|Gi |-|Gi |-|Gi |-|Gi |-|Gi |-|Gi |-|Gi |-|Gi |-|Gi |-|Gi |-|Gi |-|Gi |-|Gi |-|Gi |-|Gi |-|Gi |-|Gi |-|Gi |-|Gi |-|Gi |-|Gi |-|Gi |-|Gi |-|Gi |-|Gi |-|Gi |-|Gi |-|Gi |-|Gi |-|Gi |-|Gi |-|Gi |-|Gi |-|Gi |-|Gi |-|Gi |-|Gi |-|Gi |-Gcphase:1:2|-||Gp |-|Gp |-|Gi |-|Gi |-|Gi |-|Gi |-|Gi |-|Gi |-|Gi |-|Gi |-|Gi |-|Gi |-|Gi |-|Gi |-|Gi |-|Gi |-|Gi |-|Gi |-|Gi |-|Gi |-|Gi |-|Gi |-|Gi |-|Gi |-|Gi |-|Gi |-|Gi |-|Gi |-|Gi |-|Gi |-|Gi |-|Gi |-|Gi |-|Gi |-|Gi |-Gcphase:1:2|-||Gp |-|Gh |-Gcphase:0:1|-||Gh |-|Gp |-Gcphase:1:2|-||Gp |-|Gp |-|Gi |-|Gi |-|Gi |-|Gi |-|Gi |-|Gi |-|Gi |-|Gi |-|Gi |-|Gi |-|Gi |-|Gi |-|Gi |-|Gi |-|Gi |-|Gi |-|Gi |-|Gi |-|Gi |-|Gi |-|Gi |-Gcphase:1:2|-||Gp |-|Gp |-Gcphase:1:2|-||Gp |-|Gp |-|Gi |-|Gi |-|Gi |-|Gi |-|Gi |-|Gi |-|Gi |-|Gi |-|Gi |-|Gi |-|Gi |-|Gi |-|Gi |-|Gi |-|Gi |-|Gi |-|Gi |-|Gi |-|Gi |-|Gi |-|Gi |-|Gi |-|Gi |-|Gi |-Gcphase:1:2|-||Gp |-|Gh |-Gcphase:0:1|-||Gh |-|Gp |-|Gi |-|Gi |-|Gi |-|Gi |-|Gi |-|Gi |-|Gi |-|Gi |-|Gi |-|Gi |-|Gi |-|Gi |-|Gi |-|Gi |-|Gi |-|Gi |-|Gi |-|Gi |-|Gi |-|Gi |-|Gi |-Gcphase:1:2|-||Gp |-|Gp |-|Gi |-|Gi |-|Gi |-|Gi |-|Gi |-|Gi |-|Gi |-|Gi |-|Gi |-|Gi |-|Gi |-|Gi |-|Gi |-|Gi |-|Gi |-Gcphase:1:2|-||Gp |-|Gh |-Gcphase:0:1|-||Gh |-|Gp |-Gcphase:1:2|-||Gp |-|Gp |-|Gi |-|Gi |-|Gi |-|Gi |-|Gi |-|Gi |-|Gi |-|Gi |-|Gi |-|Gi |-|Gi |-|Gi |-|Gi |-|Gi |-|Gi |-Gcphase:1:2|-||Gp |-|Gh |-Gcphase:0:1|-||Gh |-|Gp |-Gcphase:1:2|-||Gp |-|Gp |-|Gi |-|Gi |-|Gi |-|Gi |-|Gi |-|Gi |-|Gi |-|Gi |-|Gi |-Gcphase:1:2|-||Gp |-|Gh |-Gcphase:0:1|-||Gh |-|Gp |-Gcphase:1:2|-||Gp |-|Gp |-|Gi |-|Gi |-|Gi |-|Gi |-|Gi |-|Gi |-|Gi |-|Gi |-|Gi |-Gcphase:1:2|-||Gp |-|Gp |-Gcphase:1:2|-||Gp |-|Gp |-|Gh |-|Gh |-Gcphase:0:1|-||Gh |-|Gp |-Gcphase:1:2|-||Gp |-|Gh |-Gcphase:0:1|-||Gh |-|Gp |-Gcphase:1:2|-||Gp |-|Gi |-|Gi |---\n",
      "Qubit 2 ---|Gh |-|Gp |-|Gh |-Gcphase:1:2|-||Gh |-|Gh |-|Gi |-|Gi |-|Gi |-Gcphase:1:2|-||Gh |-|Gp |-Gcphase:2:3|-||Gp |-|Gh |-Gcphase:1:2|-||Gh |-|Gh |-|Gi |-|Gi |-|Gi |-Gcphase:1:2|-||Gh |-|Gp |-Gcphase:2:3|-||Gp |-|Gh |-Gcphase:1:2|-||Gh |-|Gp |-Gcphase:1:2|-||Gp |-|Gh |-Gcphase:2:3|-||Gh |-|Gp |-Gcphase:1:2|-||Gp |-|Gp |-|Gi |-|Gi |-|Gi |-Gcphase:1:2|-||Gp |-|Gh |-Gcphase:2:3|-||Gh |-|Gp |-Gcphase:1:2|-||Gp |-|Gp |-|Gi |-|Gi |-|Gi |-Gcphase:1:2|-||Gp |-|Gh |-Gcphase:1:2|-||Gh |-|Gh |-|Gi |-|Gi |-|Gi |-Gcphase:1:2|-||Gh |-|Gp |-Gcphase:2:3|-||Gp |-|Gh |-Gcphase:1:2|-||Gh |-|Gh |-|Gi |-|Gi |-|Gi |-Gcphase:1:2|-||Gh |-|Gp |-Gcphase:2:3|-||Gp |-|Gh |-Gcphase:1:2|-||Gh |-|Gp |-Gcphase:2:3|-||Gp |-|Gh |-Gcphase:1:2|-||Gh |-|Gp |-Gcphase:2:3|-||Gp |-|Gp |-|Gi |-|Gi |-|Gi |-Gcphase:2:3|-||Gp |-|Gh |-Gcphase:1:2|-||Gh |-|Gh |-|Gi |-|Gi |-|Gi |-Gcphase:1:2|-||Gh |-|Gp |-Gcphase:2:3|-||Gp |-|Gp |-|Gi |-|Gi |-|Gi |-Gcphase:2:3|-||Gp |-|Gh |-Gcphase:1:2|-||Gh |-|Gh |-Gcphase:2:3|-||Gh |-|Gh |-Gcphase:1:2|-||Gh |-|Gp |-Gcphase:2:3|-||Gp |-|Gp |-|Gi |-|Gi |-|Gi |-Gcphase:2:3|-||Gp |-|Gh |-Gcphase:1:2|-||Gh |-|Gp |-Gcphase:2:3|-||Gp |-|Gp |-|Gi |-|Gi |-|Gi |-Gcphase:2:3|-||Gp |-|Gh |-Gcphase:1:2|-||Gh |-|Gp |-Gcphase:2:3|-||Gp |-|Gp |-|Gi |-|Gi |-|Gi |-|Gi |-|Gi |-|Gi |-|Gi |-|Gi |-|Gi |-Gcphase:2:3|-||Gp |-|Gh |-Gcphase:1:2|-||Gh |-|Gh |-|Gi |-|Gi |-|Gi |-Gcphase:1:2|-||Gh |-|Gp |-Gcphase:2:3|-||Gp |-|Gp |-|Gi |-|Gi |-|Gi |-|Gi |-|Gi |-|Gi |-|Gi |-|Gi |-|Gi |-Gcphase:2:3|-||Gp |-|Gh |-Gcphase:1:2|-||Gh |-|Gp |-Gcphase:2:3|-||Gp |-|Gh |-Gcphase:1:2|-||Gh |-|Gp |-Gcphase:2:3|-||Gp |-|Gp |-|Gi |-|Gi |-|Gi |-|Gi |-|Gi |-|Gi |-|Gi |-|Gi |-|Gi |-|Gi |-|Gi |-|Gi |-|Gi |-|Gi |-|Gi |-Gcphase:2:3|-||Gp |-|Gh |-Gcphase:1:2|-||Gh |-|Gh |-|Gi |-|Gi |-|Gi |-Gcphase:1:2|-||Gh |-|Gp |-Gcphase:2:3|-||Gp |-|Gp |-|Gi |-|Gi |-|Gi |-|Gi |-|Gi |-|Gi |-|Gi |-|Gi |-|Gi |-|Gi |-|Gi |-|Gi |-|Gi |-|Gi |-|Gi |-Gcphase:2:3|-||Gp |-|Gh |-Gcphase:1:2|-||Gh |-|Gp |-|Gi |-|Gi |-|Gi |-|Gi |-|Gi |-|Gi |-Gcphase:2:3|-||Gp |-|Gp |-|Gi |-|Gi |-|Gi |-Gcphase:2:3|-||Gp |-|Gh |-Gcphase:1:2|-||Gh |-|Gp |-Gcphase:2:3|-||Gp |-|Gp |-|Gi |-|Gi |-|Gi |-|Gi |-|Gi |-|Gi |-|Gi |-|Gi |-|Gi |-|Gi |-|Gi |-|Gi |-|Gi |-|Gi |-|Gi |-|Gi |-|Gi |-|Gi |-|Gi |-|Gi |-|Gi |-Gcphase:2:3|-||Gp |-|Gh |-Gcphase:1:2|-||Gh |-|Gh |-|Gi |-|Gi |-|Gi |-Gcphase:1:2|-||Gh |-|Gp |-Gcphase:2:3|-||Gp |-|Gp |-|Gi |-|Gi |-|Gi |-|Gi |-|Gi |-|Gi |-|Gi |-|Gi |-|Gi |-|Gi |-|Gi |-|Gi |-|Gi |-|Gi |-|Gi |-|Gi |-|Gi |-|Gi |-|Gi |-|Gi |-|Gi |-Gcphase:2:3|-||Gp |-|Gh |-Gcphase:1:2|-||Gh |-|Gh |-Gcphase:1:2|-||Gh |-|Gp |-Gcphase:2:3|-||Gp |-|Gp |-|Gi |-|Gi |-|Gi |-|Gi |-|Gi |-|Gi |-|Gi |-|Gi |-|Gi |-|Gi |-|Gi |-|Gi |-|Gi |-|Gi |-|Gi |-|Gi |-|Gi |-|Gi |-|Gi |-|Gi |-|Gi |-Gcphase:2:3|-||Gp |-|Gh |-Gcphase:1:2|-||Gh |-|Gp |-Gcphase:2:3|-||Gp |-|Gp |-|Gi |-|Gi |-|Gi |-|Gi |-|Gi |-|Gi |-|Gi |-|Gi |-|Gi |-|Gi |-|Gi |-|Gi |-|Gi |-|Gi |-|Gi |-|Gi |-|Gi |-|Gi |-|Gi |-|Gi |-|Gi |-Gcphase:2:3|-||Gp |-|Gp |-Gcphase:2:3|-||Gp |-|Gp |-|Gi |-|Gi |-|Gi |-|Gi |-|Gi |-|Gi |-|Gi |-|Gi |-|Gi |-|Gi |-|Gi |-|Gi |-|Gi |-|Gi |-|Gi |-|Gi |-|Gi |-|Gi |-|Gi |-|Gi |-|Gi |-Gcphase:2:3|-||Gp |-|Gh |-|Gi |-|Gi |-|Gi |-|Gi |-|Gi |-|Gi |-|Gi |-|Gi |-|Gi |-|Gi |-|Gi |-|Gi |-|Gi |-|Gi |-|Gi |-|Gi |-|Gi |-|Gi |-|Gi |-|Gi |-|Gi |-|Gi |-|Gi |-|Gi |-|Gi |-|Gi |-|Gi |-|Gi |-|Gi |-|Gi |-|Gi |-|Gi |-|Gi |-|Gi |-|Gi |-|Gi |-|Gi |-|Gi |-|Gi |-|Gi |-|Gi |-|Gi |-|Gi |-|Gi |-|Gi |-|Gi |-|Gi |-|Gi |-|Gi |-|Gi |-|Gi |-|Gi |-|Gi |-|Gi |-|Gi |-|Gi |-|Gi |-|Gi |-|Gi |-|Gi |-|Gi |-|Gi |-|Gi |-|Gi |-|Gi |-|Gi |-|Gi |-|Gi |-|Gi |-|Gi |-|Gi |-|Gi |-|Gi |-|Gi |-|Gi |-|Gi |-|Gi |-|Gi |-|Gi |-|Gi |-|Gi |-|Gi |-|Gi |-|Gi |-|Gi |-|Gi |-|Gi |-|Gi |-|Gi |-|Gi |-|Gi |-|Gi |-|Gi |-|Gi |-|Gi |-|Gi |-|Gi |-|Gi |-|Gi |-|Gi |-|Gi |-|Gi |-|Gi |-|Gi |-|Gi |-|Gi |-|Gi |-|Gi |-|Gi |-|Gi |-|Gi |-|Gi |-|Gi |-|Gi |-|Gi |-|Gi |-|Gi |-|Gi |-|Gi |-|Gi |-|Gi |-|Gi |-|Gi |-|Gi |-|Gi |-|Gi |-|Gi |-|Gi |-|Gi |-|Gi |-|Gi |-|Gi |-|Gi |-|Gi |-|Gi |-|Gi |-|Gi |-|Gi |-|Gi |-|Gi |-|Gi |-|Gi |-|Gi |-|Gi |-|Gi |-|Gi |-|Gi |-|Gi |-|Gi |-|Gi |-|Gi |-|Gi |-|Gi |-|Gi |-|Gi |-|Gi |-|Gi |-|Gi |-|Gi |-|Gi |-|Gi |-|Gi |-|Gi |-|Gi |-|Gi |-|Gi |-|Gi |-|Gi |-|Gi |-|Gi |-|Gi |-|Gi |-|Gi |-|Gi |-|Gi |-|Gi |-|Gi |-|Gi |-|Gi |-|Gi |-|Gi |-|Gi |-|Gi |-|Gi |-|Gi |-|Gi |-|Gi |-|Gi |-|Gi |-|Gi |-|Gi |-|Gi |-|Gi |-|Gi |-|Gi |-|Gi |-|Gi |-|Gi |-|Gi |-|Gi |-|Gi |-|Gi |-|Gi |-|Gi |-|Gi |-|Gi |-|Gi |-|Gi |-|Gi |-|Gi |-Gcphase:2:3|-||Gh |-|Gh |-|Gi |-|Gi |-|Gi |-|Gi |-|Gi |-|Gi |-|Gi |-|Gi |-|Gi |-|Gi |-|Gi |-|Gi |-|Gi |-|Gi |-|Gi |-|Gi |-|Gi |-|Gi |-|Gi |-|Gi |-|Gi |-Gcphase:2:3|-||Gh |-|Gh |-|Gi |-|Gi |-|Gi |-|Gi |-|Gi |-|Gi |-|Gi |-|Gi |-|Gi |-|Gi |-|Gi |-|Gi |-|Gi |-|Gi |-|Gi |-|Gi |-|Gi |-|Gi |-|Gi |-|Gi |-|Gi |-|Gi |-|Gi |-|Gi |-|Gi |-|Gi |-|Gi |-Gcphase:2:3|-||Gh |-|Gp |-Gcphase:1:2|-||Gp |-|Gh |-Gcphase:2:3|-||Gh |-|Gh |-|Gi |-|Gi |-|Gi |-|Gi |-|Gi |-|Gi |-|Gi |-|Gi |-|Gi |-|Gi |-|Gi |-|Gi |-|Gi |-|Gi |-|Gi |-|Gi |-|Gi |-|Gi |-|Gi |-|Gi |-|Gi |-Gcphase:2:3|-||Gh |-|Gp |-Gcphase:1:2|-||Gp |-|Gh |-Gcphase:2:3|-||Gh |-|Gh |-|Gi |-|Gi |-|Gi |-|Gi |-|Gi |-|Gi |-|Gi |-|Gi |-|Gi |-|Gi |-|Gi |-|Gi |-|Gi |-|Gi |-|Gi |-Gcphase:2:3|-||Gh |-|Gh |-|Gi |-|Gi |-|Gi |-|Gi |-|Gi |-|Gi |-|Gi |-|Gi |-|Gi |-Gcphase:2:3|-||Gh |-|Gh |-|Gi |-|Gi |-|Gi |-|Gi |-|Gi |-|Gi |-|Gi |-|Gi |-|Gi |-Gcphase:2:3|-||Gh |-|Gp |-Gcphase:1:2|-||Gp |-|Gh |-Gcphase:2:3|-||Gh |-|Gh |-|Gi |-|Gi |-|Gi |-|Gi |-|Gi |-|Gi |-|Gi |-|Gi |-|Gi |-|Gi |-|Gi |-|Gi |-|Gi |-|Gi |-|Gi |-Gcphase:2:3|-||Gh |-|Gp |-Gcphase:1:2|-||Gp |-|Gh |-Gcphase:2:3|-||Gh |-|Gh |-|Gi |-|Gi |-|Gi |-|Gi |-|Gi |-|Gi |-|Gi |-|Gi |-|Gi |-|Gi |-|Gi |-|Gi |-|Gi |-|Gi |-|Gi |-Gcphase:2:3|-||Gh |-|Gp |-Gcphase:1:2|-||Gp |-|Gp |-|Gi |-|Gi |-|Gi |-Gcphase:1:2|-||Gp |-|Gh |-Gcphase:2:3|-||Gh |-|Gh |-|Gi |-|Gi |-|Gi |-|Gi |-|Gi |-|Gi |-|Gi |-|Gi |-|Gi |-|Gi |-|Gi |-|Gi |-|Gi |-|Gi |-|Gi |-|Gi |-|Gi |-|Gi |-|Gi |-|Gi |-|Gi |-Gcphase:2:3|-||Gh |-|Gp |-Gcphase:1:2|-||Gp |-|Gp |-|Gi |-|Gi |-|Gi |-Gcphase:1:2|-||Gp |-|Gh |-Gcphase:2:3|-||Gh |-|Gh |-|Gi |-|Gi |-|Gi |-|Gi |-|Gi |-|Gi |-|Gi |-|Gi |-|Gi |-Gcphase:2:3|-||Gh |-|Gh |-|Gi |-|Gi |-|Gi |-Gcphase:2:3|-||Gh |-|Gh |-|Gi |-|Gi |-|Gi |-Gcphase:2:3|-||Gh |-|Gp |-Gcphase:1:2|-||Gp |-|Gh |-Gcphase:2:3|-||Gh |-|Gh |-|Gi |-|Gi |-|Gi |-|Gi |-|Gi |-|Gi |-|Gi |-|Gi |-|Gi |-Gcphase:2:3|-||Gh |-|Gp |-Gcphase:1:2|-||Gp |-|Gh |-Gcphase:2:3|-||Gh |-|Gh |-|Gi |-|Gi |-|Gi |-|Gi |-|Gi |-|Gi |-|Gi |-|Gi |-|Gi |-Gcphase:2:3|-||Gh |-|Gp |-Gcphase:1:2|-||Gp |-|Gp |-|Gi |-|Gi |-|Gi |-Gcphase:1:2|-||Gp |-|Gh |-Gcphase:2:3|-||Gh |-|Gh |-|Gi |-|Gi |-|Gi |-|Gi |-|Gi |-|Gi |-|Gi |-|Gi |-|Gi |-|Gi |-|Gi |-|Gi |-|Gi |-|Gi |-|Gi |-Gcphase:2:3|-||Gh |-|Gp |-Gcphase:1:2|-||Gp |-|Gp |-|Gi |-|Gi |-|Gi |-Gcphase:1:2|-||Gp |-|Gh |-Gcphase:2:3|-||Gh |-|Gh |-|Gi |-|Gi |-|Gi |-Gcphase:2:3|-||Gh |-|Gh |-|Gi |-|Gi |-|Gi |-Gcphase:2:3|-||Gh |-|Gp |-Gcphase:1:2|-||Gp |-|Gh |-Gcphase:2:3|-||Gh |-|Gh |-|Gi |-|Gi |-|Gi |-Gcphase:2:3|-||Gh |-|Gp |-Gcphase:1:2|-||Gp |-|Gh |-Gcphase:2:3|-||Gh |-|Gh |-|Gi |-|Gi |-|Gi |-Gcphase:2:3|-||Gh |-|Gp |-Gcphase:1:2|-||Gp |-|Gp |-|Gi |-|Gi |-|Gi |-Gcphase:1:2|-||Gp |-|Gh |-Gcphase:2:3|-||Gh |-|Gh |-|Gi |-|Gi |-|Gi |-|Gi |-|Gi |-|Gi |-|Gi |-|Gi |-|Gi |-Gcphase:2:3|-||Gh |-|Gp |-Gcphase:1:2|-||Gp |-|Gp |-|Gi |-|Gi |-|Gi |-Gcphase:1:2|-||Gp |-|Gh |-Gcphase:2:3|-||Gh |-|Gp |-|Gh |-|Gi |-|Gi |-|Gi |-|Gi |-|Gi |-Gcphase:2:3|-||Gh |-|Gp |-Gcphase:1:2|-||Gp |-|Gp |-|Gi |-|Gi |-|Gi |-Gcphase:1:2|-||Gp |-|Gh |-Gcphase:2:3|-||Gh |-|Gh |-|Gi |-|Gi |-|Gi |-Gcphase:2:3|-||Gh |-|Gp |-Gcphase:1:2|-||Gp |-|Gp |-|Gi |-|Gi |-|Gi |-Gcphase:1:2|-||Gp |-|Gh |-Gcphase:2:3|-||Gh |-|Gh |-Gcphase:2:3|-||Gh |-|Gp |-Gcphase:1:2|-||Gp |-|Gp |-|Gi |-|Gi |-|Gi |-Gcphase:1:2|-||Gp |-|Gh |-Gcphase:2:3|-||Gh |-|Gp |-Gcphase:1:2|-||Gp |-|Gp |-|Gi |-|Gi |-|Gi |-Gcphase:1:2|-||Gp |-|Gp |-|Gp |-|Gi |-|Gi |-|Gi |-|Gi |-|Gi |-|Gi |-|Gi |-|Gh |-|Gp |-|Gp |-|Gh |-|Gp |-|Gp |-|Gp |-|Gp |-Gcphase:1:2|-||Gp |-|Gp |-|Gi |-|Gi |-|Gi |-Gcphase:1:2|-||Gp |-|Gp |-|Gi |-|Gi |-|Gi |-Gcphase:1:2|-||Gp |-|Gh |-Gcphase:2:3|-||Gh |-|Gp |-Gcphase:1:2|-||Gp |-|Gp |-|Gi |-|Gi |-|Gi |-Gcphase:1:2|-||Gp |-|Gh |-Gcphase:2:3|-||Gh |-|Gp |-Gcphase:1:2|-||Gp |-|Gp |-|Gi |-|Gi |-|Gi |-Gcphase:1:2|-||Gp |-|Gh |-Gcphase:2:3|-||Gh |-|Gh |-|Gi |-|Gi |-|Gi |-Gcphase:2:3|-||Gh |-|Gh |-Gcphase:2:3|-||Gh |-|Gp |-Gcphase:1:2|-||Gp |-|Gh |-Gcphase:2:3|-||Gh |-|Gp |-Gcphase:1:2|-||Gp |-|Gh |-Gcphase:2:3|-||Gh |-|Gh |-|Gi |-|Gi |-|Gi |-|Gi |-|Gi |-|Gi |-|Gi |-|Gi |-|Gi |-Gcphase:2:3|-||Gh |-|Gh |-|Gi |-|Gi |-|Gi |-|Gi |-|Gi |-|Gi |-|Gi |-|Gi |-|Gi |-Gcphase:2:3|-||Gh |-|Gp |-Gcphase:1:2|-||Gp |-|Gh |-Gcphase:2:3|-||Gh |-|Gh |-|Gi |-|Gi |-|Gi |-|Gi |-|Gi |-|Gi |-|Gi |-|Gi |-|Gi |-|Gi |-|Gi |-|Gi |-|Gi |-|Gi |-|Gi |-Gcphase:2:3|-||Gh |-|Gp |-Gcphase:1:2|-||Gp |-|Gh |-Gcphase:2:3|-||Gh |-|Gh |-|Gi |-|Gi |-|Gi |-|Gi |-|Gi |-|Gi |-|Gi |-|Gi |-|Gi |-|Gi |-|Gi |-|Gi |-|Gi |-|Gi |-|Gi |-|Gi |-|Gi |-|Gi |-|Gi |-|Gi |-|Gi |-|Gi |-|Gi |-|Gi |-Gcphase:2:3|-||Gh |-|Gh |-|Gi |-|Gi |-|Gi |-|Gi |-|Gi |-|Gi |-|Gi |-|Gi |-|Gi |-|Gi |-|Gi |-|Gi |-|Gi |-|Gi |-|Gi |-Gcphase:2:3|-||Gh |-|Gh |-|Gi |-|Gi |-|Gi |-|Gi |-|Gi |-|Gi |-|Gi |-|Gi |-|Gi |-|Gi |-|Gi |-|Gi |-|Gi |-|Gi |-|Gi |-Gcphase:2:3|-||Gh |-|Gp |-Gcphase:1:2|-||Gp |-|Gh |-Gcphase:2:3|-||Gh |-|Gh |-|Gi |-|Gi |-|Gi |-|Gi |-|Gi |-|Gi |-|Gi |-|Gi |-|Gi |-|Gi |-|Gi |-|Gi |-|Gi |-|Gi |-|Gi |-|Gi |-|Gi |-|Gi |-|Gi |-|Gi |-|Gi |-Gcphase:2:3|-||Gh |-|Gp |-Gcphase:1:2|-||Gp |-|Gh |-Gcphase:2:3|-||Gh |-|Gp |-|Gi |-|Gi |-|Gi |-Gcphase:2:3|-||Gp |-|Gp |-|Gi |-|Gi |-|Gi |-|Gi |-|Gi |-|Gi |-|Gi |-|Gi |-|Gi |-|Gi |-|Gi |-|Gi |-|Gi |-|Gi |-|Gi |-|Gi |-|Gi |-|Gi |-|Gi |-|Gi |-|Gi |-|Gi |-|Gi |-|Gi |-|Gi |-|Gi |-|Gi |-|Gi |-|Gi |-|Gi |-|Gi |-|Gi |-|Gi |-|Gi |-|Gi |-|Gi |-|Gi |-|Gi |-|Gi |-|Gi |-|Gi |-|Gi |-|Gi |-|Gi |-|Gi |-|Gi |-|Gi |-|Gi |-|Gi |-|Gi |-|Gi |-|Gi |-|Gi |-|Gi |-|Gi |-|Gi |-|Gi |-|Gi |-|Gi |-|Gi |-|Gi |-|Gi |-|Gi |-|Gi |-|Gi |-|Gi |-|Gi |-|Gi |-|Gi |-|Gi |-|Gi |-|Gi |-|Gi |-|Gi |-|Gi |-|Gi |-|Gi |-|Gi |-|Gi |-|Gi |-|Gi |-|Gi |-|Gi |-|Gi |-|Gi |-|Gi |-|Gi |-|Gi |-|Gi |-|Gi |-|Gi |-|Gi |-|Gi |-|Gi |-|Gi |-|Gi |-|Gi |-|Gi |-|Gi |-|Gi |-|Gi |-|Gi |-|Gi |-|Gi |-|Gi |-|Gi |-|Gi |-|Gi |-|Gi |-|Gi |-|Gi |-|Gi |-|Gi |-|Gi |-Gcphase:2:3|-||Gp |-|Gp |-|Gi |-|Gi |-|Gi |-|Gi |-|Gi |-|Gi |-|Gi |-|Gi |-|Gi |-|Gi |-|Gi |-|Gi |-|Gi |-|Gi |-|Gi |-|Gi |-|Gi |-|Gi |-|Gi |-|Gi |-|Gi |-|Gi |-|Gi |-|Gi |-|Gi |-|Gi |-|Gi |-|Gi |-|Gi |-|Gi |-|Gi |-|Gi |-|Gi |-|Gi |-|Gi |-|Gi |-|Gi |-|Gi |-|Gi |-Gcphase:2:3|-||Gp |-|Gp |-|Gi |-|Gi |-|Gi |-|Gi |-|Gi |-|Gi |-|Gi |-|Gi |-|Gi |-|Gi |-|Gi |-|Gi |-|Gi |-|Gi |-|Gi |-|Gi |-|Gi |-|Gi |-|Gi |-|Gi |-|Gi |-|Gi |-|Gi |-|Gi |-Gcphase:2:3|-||Gp |-|Gh |-Gcphase:1:2|-||Gh |-|Gp |-|Gi |-|Gi |-|Gi |-|Gi |-|Gi |-|Gi |-|Gi |-|Gi |-|Gi |-|Gi |-|Gi |-|Gi |-Gcphase:2:3|-||Gp |-|Gp |-|Gi |-|Gi |-|Gi |-|Gi |-|Gi |-|Gi |-|Gi |-|Gi |-|Gi |-|Gi |-|Gi |-|Gi |-|Gi |-|Gi |-|Gi |-Gcphase:2:3|-||Gp |-|Gh |-Gcphase:1:2|-||Gh |-|Gh |-|Gi |-|Gi |-|Gi |-Gcphase:1:2|-||Gh |-|Gp |-Gcphase:2:3|-||Gp |-|Gp |-|Gi |-|Gi |-|Gi |-|Gi |-|Gi |-|Gi |-|Gi |-|Gi |-|Gi |-|Gi |-|Gi |-|Gi |-|Gi |-|Gi |-|Gi |-Gcphase:2:3|-||Gp |-|Gh |-Gcphase:1:2|-||Gh |-|Gh |-Gcphase:1:2|-||Gh |-|Gp |-|Gi |-|Gi |-|Gi |-|Gi |-|Gi |-|Gi |-|Gi |-|Gi |-|Gi |-Gcphase:2:3|-||Gp |-|Gp |-|Gi |-|Gi |-|Gi |-|Gi |-|Gi |-|Gi |-|Gi |-|Gi |-|Gi |-Gcphase:2:3|-||Gp |-|Gh |-Gcphase:1:2|-||Gh |-|Gp |-Gcphase:2:3|-||Gp |-|Gp |-|Gi |-|Gi |-|Gi |-|Gi |-|Gi |-|Gi |-|Gi |-|Gi |-|Gi |-Gcphase:2:3|-||Gp |-|Gp |-Gcphase:2:3|-||Gp |-|Gp |-|Gi |-|Gi |-|Gi |-Gcphase:2:3|-||Gp |-|Gh |-Gcphase:1:2|-||Gh |-|Gp |-Gcphase:2:3|-||Gp |-|Gp |-|Gi |-|Gi |-|Gi |-|Gi |-|Gi |-|Gi |-|Gi |-|Gi |-|Gi |-Gcphase:2:3|-||Gp |-|Gh |-Gcphase:1:2|-||Gh |-|Gh |-|Gi |-|Gi |-|Gi |-Gcphase:1:2|-||Gh |-|Gp |-Gcphase:2:3|-||Gp |-|Gp |-|Gi |-|Gi |-|Gi |-|Gi |-|Gi |-|Gi |-|Gi |-|Gi |-|Gi |-Gcphase:2:3|-||Gp |-|Gh |-Gcphase:1:2|-||Gh |-|Gp |-Gcphase:2:3|-||Gp |-|Gh |-Gcphase:1:2|-||Gh |-|Gp |-Gcphase:2:3|-||Gp |-|Gp |-|Gi |-|Gi |-|Gi |-Gcphase:2:3|-||Gp |-|Gh |-Gcphase:1:2|-||Gh |-|Gh |-|Gi |-|Gi |-|Gi |-Gcphase:1:2|-||Gh |-|Gp |-Gcphase:2:3|-||Gp |-|Gp |-|Gi |-|Gi |-|Gi |-Gcphase:2:3|-||Gp |-|Gh |-Gcphase:1:2|-||Gh |-|Gh |-Gcphase:1:2|-||Gh |-|Gh |-|Gi |-|Gi |-|Gi |-|Gi |-|Gi |-Gcphase:1:2|-||Gh |-|Gh |-|Gi |-|Gi |-|Gi |-Gcphase:1:2|-||Gh |-|Gp |-|Gh |---\n",
      "Qubit 3 ---|Gh |-|Gp |-|Gh |-|Gi |-|Gi |-|Gi |-|Gi |-|Gi |-|Gi |-|Gi |-|Gi |-|Gi |-Gcphase:2:3|-||Gh |-|Gh |-|Gi |-|Gi |-|Gi |-|Gi |-|Gi |-|Gi |-|Gi |-|Gi |-|Gi |-Gcphase:2:3|-||Gh |-|Gp |-|Gi |-|Gi |-|Gi |-|Gi |-|Gi |-|Gi |-Gcphase:2:3|-||Gp |-|Gp |-|Gi |-|Gi |-|Gi |-|Gi |-|Gi |-|Gi |-|Gi |-|Gi |-|Gi |-Gcphase:2:3|-||Gp |-|Gh |-|Gi |-|Gi |-|Gi |-|Gi |-|Gi |-|Gi |-|Gi |-|Gi |-|Gi |-|Gi |-|Gi |-|Gi |-|Gi |-|Gi |-|Gi |-|Gi |-|Gi |-|Gi |-Gcphase:2:3|-||Gh |-|Gh |-|Gi |-|Gi |-|Gi |-|Gi |-|Gi |-|Gi |-|Gi |-|Gi |-|Gi |-Gcphase:2:3|-||Gh |-|Gh |-|Gi |-|Gi |-|Gi |-Gcphase:2:3|-||Gh |-|Gh |-|Gi |-|Gi |-|Gi |-Gcphase:2:3|-||Gh |-|Gp |-Gcphase:3:4|-||Gp |-|Gh |-Gcphase:2:3|-||Gh |-|Gh |-|Gi |-|Gi |-|Gi |-|Gi |-|Gi |-|Gi |-|Gi |-|Gi |-|Gi |-Gcphase:2:3|-||Gh |-|Gp |-Gcphase:3:4|-||Gp |-|Gh |-Gcphase:2:3|-||Gh |-|Gp |-|Gi |-|Gi |-|Gi |-Gcphase:2:3|-||Gp |-|Gh |-|Gi |-|Gi |-|Gi |-Gcphase:2:3|-||Gh |-|Gp |-Gcphase:3:4|-||Gp |-|Gh |-Gcphase:2:3|-||Gh |-|Gh |-|Gi |-|Gi |-|Gi |-Gcphase:2:3|-||Gh |-|Gp |-Gcphase:3:4|-||Gp |-|Gh |-Gcphase:2:3|-||Gh |-|Gh |-|Gi |-|Gi |-|Gi |-Gcphase:2:3|-||Gh |-|Gp |-Gcphase:3:4|-||Gp |-|Gp |-|Gi |-|Gi |-|Gi |-Gcphase:3:4|-||Gp |-|Gh |-Gcphase:2:3|-||Gh |-|Gh |-|Gi |-|Gi |-|Gi |-|Gi |-|Gi |-|Gi |-|Gi |-|Gi |-|Gi |-Gcphase:2:3|-||Gh |-|Gp |-Gcphase:3:4|-||Gp |-|Gp |-|Gi |-|Gi |-|Gi |-Gcphase:3:4|-||Gp |-|Gh |-Gcphase:2:3|-||Gh |-|Gh |-|Gi |-|Gi |-|Gi |-Gcphase:2:3|-||Gh |-|Gh |-|Gi |-|Gi |-|Gi |-Gcphase:2:3|-||Gh |-|Gp |-Gcphase:3:4|-||Gp |-|Gp |-|Gi |-|Gi |-|Gi |-|Gi |-|Gi |-|Gi |-|Gi |-|Gi |-|Gi |-Gcphase:3:4|-||Gp |-|Gh |-Gcphase:2:3|-||Gh |-|Gh |-|Gi |-|Gi |-|Gi |-|Gi |-|Gi |-|Gi |-|Gi |-|Gi |-|Gi |-Gcphase:2:3|-||Gh |-|Gp |-Gcphase:3:4|-||Gp |-|Gp |-|Gi |-|Gi |-|Gi |-|Gi |-|Gi |-|Gi |-|Gi |-|Gi |-|Gi |-Gcphase:3:4|-||Gp |-|Gh |-Gcphase:2:3|-||Gh |-|Gp |-Gcphase:3:4|-||Gp |-|Gp |-|Gi |-|Gi |-|Gi |-Gcphase:3:4|-||Gp |-|Gh |-Gcphase:2:3|-||Gh |-|Gp |-Gcphase:3:4|-||Gp |-|Gh |-Gcphase:2:3|-||Gh |-|Gp |-Gcphase:3:4|-||Gp |-|Gh |-Gcphase:2:3|-||Gh |-|Gp |-Gcphase:3:4|-||Gp |-|Gp |-|Gi |-|Gi |-|Gi |-|Gi |-|Gi |-|Gi |-|Gi |-|Gi |-|Gi |-|Gi |-|Gi |-|Gi |-|Gi |-|Gi |-|Gi |-Gcphase:3:4|-||Gp |-|Gh |-Gcphase:2:3|-||Gh |-|Gh |-|Gi |-|Gi |-|Gi |-|Gi |-|Gi |-|Gi |-|Gi |-|Gi |-|Gi |-Gcphase:2:3|-||Gh |-|Gp |-Gcphase:3:4|-||Gp |-|Gp |-|Gi |-|Gi |-|Gi |-|Gi |-|Gi |-|Gi |-|Gi |-|Gi |-|Gi |-|Gi |-|Gi |-|Gi |-|Gi |-|Gi |-|Gi |-Gcphase:3:4|-||Gp |-|Gh |-Gcphase:2:3|-||Gh |-|Gh |-|Gi |-|Gi |-|Gi |-|Gi |-|Gi |-|Gi |-Gcphase:2:3|-||Gh |-|Gp |-Gcphase:3:4|-||Gp |-|Gp |-|Gi |-|Gi |-|Gi |-|Gi |-|Gi |-|Gi |-|Gi |-|Gi |-|Gi |-|Gi |-|Gi |-|Gi |-|Gi |-|Gi |-|Gi |-Gcphase:3:4|-||Gp |-|Gh |-Gcphase:2:3|-||Gh |-|Gh |-|Gi |-|Gi |-|Gi |-Gcphase:2:3|-||Gh |-|Gp |-Gcphase:3:4|-||Gp |-|Gp |-|Gi |-|Gi |-|Gi |-|Gi |-|Gi |-|Gi |-|Gi |-|Gi |-|Gi |-|Gi |-|Gi |-|Gi |-|Gi |-|Gi |-|Gi |-Gcphase:3:4|-||Gp |-|Gh |-Gcphase:2:3|-||Gh |-|Gh |-Gcphase:2:3|-||Gh |-|Gp |-Gcphase:3:4|-||Gp |-|Gp |-|Gi |-|Gi |-|Gi |-|Gi |-|Gi |-|Gi |-|Gi |-|Gi |-|Gi |-|Gi |-|Gi |-|Gi |-|Gi |-|Gi |-|Gi |-Gcphase:3:4|-||Gp |-|Gh |-Gcphase:2:3|-||Gh |-|Gp |-Gcphase:3:4|-||Gp |-|Gp |-|Gi |-|Gi |-|Gi |-|Gi |-|Gi |-|Gi |-|Gi |-|Gi |-|Gi |-|Gi |-|Gi |-|Gi |-|Gi |-|Gi |-|Gi |-Gcphase:3:4|-||Gp |-|Gh |-|Gi |-|Gi |-|Gi |-|Gi |-|Gi |-|Gi |-|Gi |-|Gi |-|Gi |-|Gi |-|Gi |-|Gi |-|Gi |-|Gi |-|Gi |-|Gi |-|Gi |-|Gi |-|Gi |-|Gi |-|Gi |-|Gi |-|Gi |-|Gi |-|Gi |-|Gi |-|Gi |-|Gi |-|Gi |-|Gi |-|Gi |-|Gi |-|Gi |-|Gi |-|Gi |-|Gi |-|Gi |-|Gi |-|Gi |-|Gi |-|Gi |-|Gi |-|Gi |-|Gi |-|Gi |-|Gi |-|Gi |-|Gi |-|Gi |-|Gi |-|Gi |-|Gi |-|Gi |-|Gi |-|Gi |-|Gi |-|Gi |-|Gi |-|Gi |-|Gi |-|Gi |-|Gi |-|Gi |-|Gi |-|Gi |-|Gi |-|Gi |-|Gi |-|Gi |-|Gi |-|Gi |-|Gi |-|Gi |-|Gi |-|Gi |-|Gi |-|Gi |-|Gi |-|Gi |-|Gi |-|Gi |-|Gi |-|Gi |-|Gi |-|Gi |-|Gi |-|Gi |-|Gi |-|Gi |-|Gi |-|Gi |-|Gi |-|Gi |-|Gi |-|Gi |-|Gi |-|Gi |-|Gi |-|Gi |-|Gi |-|Gi |-|Gi |-|Gi |-|Gi |-|Gi |-|Gi |-|Gi |-|Gi |-|Gi |-|Gi |-|Gi |-|Gi |-|Gi |-|Gi |-|Gi |-|Gi |-|Gi |-|Gi |-|Gi |-|Gi |-|Gi |-|Gi |-|Gi |-|Gi |-|Gi |-|Gi |-|Gi |-|Gi |-|Gi |-Gcphase:3:4|-||Gh |-|Gh |-|Gi |-|Gi |-|Gi |-|Gi |-|Gi |-|Gi |-|Gi |-|Gi |-|Gi |-|Gi |-|Gi |-|Gi |-|Gi |-|Gi |-|Gi |-Gcphase:3:4|-||Gh |-|Gh |-|Gi |-|Gi |-|Gi |-|Gi |-|Gi |-|Gi |-|Gi |-|Gi |-|Gi |-|Gi |-|Gi |-|Gi |-Gcphase:3:4|-||Gh |-|Gh |-|Gi |-|Gi |-|Gi |-|Gi |-|Gi |-|Gi |-|Gi |-|Gi |-|Gi |-Gcphase:3:4|-||Gh |-|Gh |-|Gi |-|Gi |-|Gi |-|Gi |-|Gi |-|Gi |-|Gi |-|Gi |-|Gi |-Gcphase:3:4|-||Gh |-|Gp |-Gcphase:2:3|-||Gp |-|Gh |-Gcphase:3:4|-||Gh |-|Gh |-|Gi |-|Gi |-|Gi |-|Gi |-|Gi |-|Gi |-|Gi |-|Gi |-|Gi |-|Gi |-|Gi |-|Gi |-|Gi |-|Gi |-|Gi |-Gcphase:3:4|-||Gh |-|Gp |-Gcphase:2:3|-||Gp |-|Gh |-Gcphase:3:4|-||Gh |-|Gh |-|Gi |-|Gi |-|Gi |-|Gi |-|Gi |-|Gi |-|Gi |-|Gi |-|Gi |-Gcphase:3:4|-||Gh |-|Gh |-|Gi |-|Gi |-|Gi |-Gcphase:3:4|-||Gh |-|Gh |-|Gi |-|Gi |-|Gi |-Gcphase:3:4|-||Gh |-|Gp |-Gcphase:2:3|-||Gp |-|Gp |-|Gi |-|Gi |-|Gi |-Gcphase:2:3|-||Gp |-|Gh |-Gcphase:3:4|-||Gh |-|Gh |-|Gi |-|Gi |-|Gi |-|Gi |-|Gi |-|Gi |-|Gi |-|Gi |-|Gi |-|Gi |-|Gi |-|Gi |-|Gi |-|Gi |-|Gi |-Gcphase:3:4|-||Gh |-|Gp |-Gcphase:2:3|-||Gp |-|Gp |-|Gi |-|Gi |-|Gi |-Gcphase:2:3|-||Gp |-|Gh |-Gcphase:3:4|-||Gh |-|Gh |-|Gi |-|Gi |-|Gi |-|Gi |-|Gi |-|Gi |-|Gi |-|Gi |-|Gi |-Gcphase:3:4|-||Gh |-|Gp |-Gcphase:2:3|-||Gp |-|Gh |-Gcphase:3:4|-||Gh |-|Gh |-|Gi |-|Gi |-|Gi |-Gcphase:3:4|-||Gh |-|Gp |-Gcphase:2:3|-||Gp |-|Gh |-Gcphase:3:4|-||Gh |-|Gh |-|Gi |-|Gi |-|Gi |-Gcphase:3:4|-||Gh |-|Gp |-Gcphase:2:3|-||Gp |-|Gp |-|Gi |-|Gi |-|Gi |-Gcphase:2:3|-||Gp |-|Gh |-Gcphase:3:4|-||Gh |-|Gh |-|Gi |-|Gi |-|Gi |-|Gi |-|Gi |-|Gi |-|Gi |-|Gi |-|Gi |-Gcphase:3:4|-||Gh |-|Gp |-Gcphase:2:3|-||Gp |-|Gp |-|Gi |-|Gi |-|Gi |-Gcphase:2:3|-||Gp |-|Gh |-Gcphase:3:4|-||Gh |-|Gh |-|Gi |-|Gi |-|Gi |-|Gi |-|Gi |-|Gi |-|Gi |-|Gi |-|Gi |-Gcphase:3:4|-||Gh |-|Gp |-Gcphase:2:3|-||Gp |-|Gp |-|Gi |-|Gi |-|Gi |-|Gi |-|Gi |-|Gi |-|Gi |-|Gi |-|Gi |-Gcphase:2:3|-||Gp |-|Gh |-Gcphase:3:4|-||Gh |-|Gh |-|Gi |-|Gi |-|Gi |-|Gi |-|Gi |-|Gi |-|Gi |-|Gi |-|Gi |-|Gi |-|Gi |-|Gi |-|Gi |-|Gi |-|Gi |-Gcphase:3:4|-||Gh |-|Gp |-Gcphase:2:3|-||Gp |-|Gp |-|Gi |-|Gi |-|Gi |-|Gi |-|Gi |-|Gi |-|Gi |-|Gi |-|Gi |-Gcphase:2:3|-||Gp |-|Gh |-Gcphase:3:4|-||Gh |-|Gh |-|Gi |-|Gi |-|Gi |-Gcphase:3:4|-||Gh |-|Gp |-Gcphase:2:3|-||Gp |-|Gh |-Gcphase:3:4|-||Gh |-|Gp |-Gcphase:2:3|-||Gp |-|Gh |-Gcphase:3:4|-||Gh |-|Gp |-Gcphase:2:3|-||Gp |-|Gp |-|Gi |-|Gi |-|Gi |-Gcphase:2:3|-||Gp |-|Gh |-Gcphase:3:4|-||Gh |-|Gh |-|Gi |-|Gi |-|Gi |-Gcphase:3:4|-||Gh |-|Gp |-Gcphase:2:3|-||Gp |-|Gp |-|Gi |-|Gi |-|Gi |-Gcphase:2:3|-||Gp |-|Gh |-Gcphase:3:4|-||Gh |-|Gh |-|Gi |-|Gi |-|Gi |-Gcphase:3:4|-||Gh |-|Gp |-Gcphase:2:3|-||Gp |-|Gp |-|Gi |-|Gi |-|Gi |-|Gi |-|Gi |-|Gi |-|Gi |-|Gi |-|Gi |-Gcphase:2:3|-||Gp |-|Gh |-Gcphase:3:4|-||Gh |-|Gh |-|Gi |-|Gi |-|Gi |-|Gi |-|Gi |-|Gi |-|Gi |-|Gi |-|Gi |-Gcphase:3:4|-||Gh |-|Gp |-Gcphase:2:3|-||Gp |-|Gp |-|Gi |-|Gi |-|Gi |-|Gi |-|Gi |-|Gi |-|Gi |-|Gi |-|Gi |-Gcphase:2:3|-||Gp |-|Gh |-Gcphase:3:4|-||Gh |-|Gp |-Gcphase:2:3|-||Gp |-|Gh |-Gcphase:3:4|-||Gh |-|Gp |-Gcphase:2:3|-||Gp |-|Gp |-|Gi |-|Gi |-|Gi |-Gcphase:2:3|-||Gp |-|Gh |-Gcphase:3:4|-||Gh |-|Gp |-Gcphase:2:3|-||Gp |-|Gp |-|Gi |-|Gi |-|Gi |-Gcphase:2:3|-||Gp |-|Gh |-Gcphase:3:4|-||Gh |-|Gp |-Gcphase:2:3|-||Gp |-|Gp |-|Gi |-|Gi |-|Gi |-|Gi |-|Gi |-|Gi |-|Gi |-|Gi |-|Gi |-Gcphase:2:3|-||Gp |-|Gh |-Gcphase:3:4|-||Gh |-|Gh |-|Gi |-|Gi |-|Gi |-Gcphase:3:4|-||Gh |-|Gp |-Gcphase:2:3|-||Gp |-|Gp |-|Gi |-|Gi |-|Gi |-|Gi |-|Gi |-|Gi |-|Gi |-|Gi |-|Gi |-Gcphase:2:3|-||Gp |-|Gh |-Gcphase:3:4|-||Gh |-|Gh |-Gcphase:3:4|-||Gh |-|Gp |-Gcphase:2:3|-||Gp |-|Gp |-|Gi |-|Gi |-|Gi |-|Gi |-|Gi |-|Gi |-|Gi |-|Gi |-|Gi |-Gcphase:2:3|-||Gp |-|Gh |-Gcphase:3:4|-||Gh |-|Gp |-Gcphase:2:3|-||Gp |-|Gp |-|Gi |-|Gi |-|Gi |-|Gi |-|Gi |-|Gi |-|Gi |-|Gi |-|Gi |-Gcphase:2:3|-||Gp |-|Gp |-Gcphase:2:3|-||Gp |-|Gp |-|Gi |-|Gi |-|Gi |-|Gi |-|Gi |-|Gi |-|Gi |-|Gi |-|Gi |-Gcphase:2:3|-||Gp |-|Gp |-|Gp |-|Gp |-|Gi |-|Gi |-|Gi |-|Gi |-|Gi |-|Gi |-|Gi |-|Gi |-|Gi |-|Gi |-|Gi |-|Gi |-|Gi |-|Gi |-|Gi |-|Gh |-|Gp |-|Gp |-|Gh |-|Gp |-|Gp |-|Gp |-|Gp |-|Gi |-|Gi |-|Gi |-|Gi |-|Gi |-|Gi |-|Gi |-|Gi |-|Gi |-|Gi |-|Gi |-|Gi |-|Gi |-|Gi |-|Gi |-Gcphase:2:3|-||Gp |-|Gp |-|Gi |-|Gi |-|Gi |-|Gi |-|Gi |-|Gi |-|Gi |-|Gi |-|Gi |-Gcphase:2:3|-||Gp |-|Gh |-Gcphase:3:4|-||Gh |-|Gp |-|Gi |-|Gi |-|Gi |-|Gi |-|Gi |-|Gi |-Gcphase:2:3|-||Gp |-|Gh |-Gcphase:3:4|-||Gh |-|Gp |-Gcphase:2:3|-||Gp |-|Gp |-Gcphase:2:3|-||Gp |-|Gp |-|Gi |-|Gi |-|Gi |-Gcphase:2:3|-||Gp |-|Gh |-Gcphase:3:4|-||Gh |-|Gp |-Gcphase:2:3|-||Gp |-|Gh |-Gcphase:3:4|-||Gh |-|Gh |-|Gi |-|Gi |-|Gi |-Gcphase:3:4|-||Gh |-|Gp |-Gcphase:2:3|-||Gp |-|Gh |-Gcphase:3:4|-||Gh |-|Gh |-|Gi |-|Gi |-|Gi |-Gcphase:3:4|-||Gh |-|Gp |-Gcphase:2:3|-||Gp |-|Gp |-|Gi |-|Gi |-|Gi |-Gcphase:2:3|-||Gp |-|Gh |-Gcphase:3:4|-||Gh |-|Gh |-|Gi |-|Gi |-|Gi |-|Gi |-|Gi |-|Gi |-|Gi |-|Gi |-|Gi |-Gcphase:3:4|-||Gh |-|Gp |-Gcphase:2:3|-||Gp |-|Gp |-|Gi |-|Gi |-|Gi |-Gcphase:2:3|-||Gp |-|Gh |-Gcphase:3:4|-||Gh |-|Gh |-|Gi |-|Gi |-|Gi |-|Gi |-|Gi |-|Gi |-Gcphase:3:4|-||Gh |-|Gh |-|Gi |-|Gi |-|Gi |-Gcphase:3:4|-||Gh |-|Gh |-|Gi |-|Gi |-|Gi |-Gcphase:3:4|-||Gh |-|Gp |-Gcphase:2:3|-||Gp |-|Gh |-Gcphase:3:4|-||Gh |-|Gh |-|Gi |-|Gi |-|Gi |-|Gi |-|Gi |-|Gi |-|Gi |-|Gi |-|Gi |-Gcphase:3:4|-||Gh |-|Gp |-Gcphase:2:3|-||Gp |-|Gh |-Gcphase:3:4|-||Gh |-|Gh |-|Gi |-|Gi |-|Gi |-|Gi |-|Gi |-|Gi |-|Gi |-|Gi |-|Gi |-Gcphase:3:4|-||Gh |-|Gp |-Gcphase:2:3|-||Gp |-|Gp |-|Gi |-|Gi |-|Gi |-Gcphase:2:3|-||Gp |-|Gh |-Gcphase:3:4|-||Gh |-|Gh |-|Gi |-|Gi |-|Gi |-|Gi |-|Gi |-|Gi |-|Gi |-|Gi |-|Gi |-|Gi |-|Gi |-|Gi |-|Gi |-|Gi |-|Gi |-Gcphase:3:4|-||Gh |-|Gp |-Gcphase:2:3|-||Gp |-|Gp |-|Gi |-|Gi |-|Gi |-Gcphase:2:3|-||Gp |-|Gh |-Gcphase:3:4|-||Gh |-|Gh |-Gcphase:2:3|-||Gh |-|Gp |-|Gi |-|Gi |-|Gi |-|Gi |-|Gi |-|Gi |-|Gi |-|Gi |-|Gi |-|Gi |-|Gi |-|Gi |-|Gi |-|Gi |-|Gi |-|Gi |-|Gi |-|Gi |-|Gi |-|Gi |-|Gi |-|Gi |-|Gi |-|Gi |-|Gi |-|Gi |-|Gi |-|Gi |-|Gi |-|Gi |-|Gi |-|Gi |-|Gi |-|Gi |-|Gi |-|Gi |-|Gi |-|Gi |-|Gi |-|Gi |-|Gi |-|Gi |-|Gi |-|Gi |-|Gi |-|Gi |-|Gi |-|Gi |-|Gi |-|Gi |-|Gi |-|Gi |-|Gi |-|Gi |-|Gi |-|Gi |-|Gi |-|Gi |-|Gi |-|Gi |-|Gi |-|Gi |-|Gi |-|Gi |-|Gi |-|Gi |-|Gi |-|Gi |-|Gi |-|Gi |-|Gi |-|Gi |-|Gi |-|Gi |-|Gi |-|Gi |-|Gi |-|Gi |-|Gi |-|Gi |-|Gi |-|Gi |-|Gi |-|Gi |-|Gi |-|Gi |-|Gi |-|Gi |-|Gi |-|Gi |-|Gi |-|Gi |-|Gi |-Gcphase:3:4|-||Gp |-|Gp |-|Gi |-|Gi |-|Gi |-|Gi |-|Gi |-|Gi |-|Gi |-|Gi |-|Gi |-|Gi |-|Gi |-|Gi |-|Gi |-|Gi |-|Gi |-Gcphase:3:4|-||Gp |-|Gh |-Gcphase:2:3|-||Gh |-|Gp |-Gcphase:3:4|-||Gp |-|Gp |-|Gi |-|Gi |-|Gi |-|Gi |-|Gi |-|Gi |-|Gi |-|Gi |-|Gi |-|Gi |-|Gi |-|Gi |-|Gi |-|Gi |-|Gi |-Gcphase:3:4|-||Gp |-|Gp |-|Gi |-|Gi |-|Gi |-Gcphase:3:4|-||Gp |-|Gp |-|Gi |-|Gi |-|Gi |-|Gi |-|Gi |-|Gi |-|Gi |-|Gi |-|Gi |-Gcphase:3:4|-||Gp |-|Gh |-Gcphase:2:3|-||Gh |-|Gp |-|Gi |-|Gi |-|Gi |-|Gi |-|Gi |-|Gi |-|Gi |-|Gi |-|Gi |-Gcphase:3:4|-||Gp |-|Gp |-|Gi |-|Gi |-|Gi |-|Gi |-|Gi |-|Gi |-|Gi |-|Gi |-|Gi |-Gcphase:3:4|-||Gp |-|Gh |-Gcphase:2:3|-||Gh |-|Gp |-Gcphase:3:4|-||Gp |-|Gp |-|Gi |-|Gi |-|Gi |-|Gi |-|Gi |-|Gi |-|Gi |-|Gi |-|Gi |-Gcphase:3:4|-||Gp |-|Gh |-Gcphase:2:3|-||Gh |-|Gp |-Gcphase:3:4|-||Gp |-|Gp |-|Gi |-|Gi |-|Gi |-|Gi |-|Gi |-|Gi |-|Gi |-|Gi |-|Gi |-Gcphase:3:4|-||Gp |-|Gh |-Gcphase:2:3|-||Gh |-|Gh |-|Gi |-|Gi |-|Gi |-|Gi |-|Gi |-|Gi |-|Gi |-|Gi |-|Gi |-Gcphase:2:3|-||Gh |-|Gp |-Gcphase:3:4|-||Gp |-|Gp |-|Gi |-|Gi |-|Gi |-|Gi |-|Gi |-|Gi |-|Gi |-|Gi |-|Gi |-Gcphase:3:4|-||Gp |-|Gh |-Gcphase:2:3|-||Gh |-|Gp |-Gcphase:3:4|-||Gp |-|Gp |-|Gi |-|Gi |-|Gi |-Gcphase:3:4|-||Gp |-|Gp |-|Gi |-|Gi |-|Gi |-Gcphase:3:4|-||Gp |-|Gh |-Gcphase:2:3|-||Gh |-|Gp |-Gcphase:3:4|-||Gp |-|Gp |-|Gi |-|Gi |-|Gi |-Gcphase:3:4|-||Gp |-|Gh |-Gcphase:2:3|-||Gh |-|Gh |-|Gi |-|Gi |-|Gi |-Gcphase:2:3|-||Gh |-|Gp |-Gcphase:3:4|-||Gp |-|Gp |-|Gi |-|Gi |-|Gi |-Gcphase:3:4|-||Gp |-|Gh |-Gcphase:2:3|-||Gh |-|Gh |-Gcphase:2:3|-||Gh |-|Gp |-Gcphase:3:4|-||Gp |-|Gh |-Gcphase:2:3|-||Gh |-|Gp |-Gcphase:3:4|-||Gp |-|Gh |-Gcphase:2:3|-||Gh |-|Gp |-Gcphase:3:4|-||Gp |-|Gp |-|Gi |-|Gi |-|Gi |-Gcphase:3:4|-||Gp |-|Gh |-Gcphase:2:3|-||Gh |-|Gh |-|Gi |-|Gi |-|Gi |-|Gi |-|Gi |-|Gi |-|Gi |-|Gi |-|Gi |-Gcphase:2:3|-||Gh |-|Gp |-Gcphase:3:4|-||Gp |-|Gp |-|Gi |-|Gi |-|Gi |-Gcphase:3:4|-||Gp |-|Gh |-Gcphase:2:3|-||Gh |-|Gh |-|Gi |-|Gi |-|Gi |-Gcphase:2:3|-||Gh |-|Gh |-|Gi |-|Gi |-|Gi |-Gcphase:2:3|-||Gh |-|Gp |-Gcphase:3:4|-||Gp |-|Gh |-Gcphase:2:3|-||Gh |-|Gh |-|Gi |-|Gi |-|Gi |-|Gi |-|Gi |-|Gi |-|Gi |-|Gi |-|Gi |-Gcphase:2:3|-||Gh |-|Gp |-Gcphase:3:4|-||Gp |-|Gh |-Gcphase:2:3|-||Gh |-|Gp |-|Gh |-|Gi |-|Gi |-|Gi |-|Gi |-|Gi |-|Gi |-|Gi |-|Gi |-|Gi |-|Gi |-|Gi |-|Gi |-|Gi |-|Gi |-|Gi |-|Gi |-|Gi |-|Gi |-|Gi |-|Gi |---\n",
      "Qubit 4 ---|Gh |-|Gp |-|Gh |-|Gi |-|Gi |-|Gi |-|Gi |-|Gi |-|Gi |-|Gi |-|Gi |-|Gi |-|Gi |-|Gi |-|Gi |-|Gi |-|Gi |-|Gi |-|Gi |-|Gi |-|Gi |-|Gi |-|Gi |-|Gi |-|Gi |-|Gi |-|Gi |-|Gi |-|Gi |-|Gi |-|Gi |-|Gi |-|Gi |-|Gi |-|Gi |-|Gi |-|Gi |-|Gi |-|Gi |-|Gi |-|Gi |-|Gi |-|Gi |-|Gi |-|Gi |-|Gi |-|Gi |-|Gi |-|Gi |-|Gi |-|Gi |-|Gi |-|Gi |-|Gi |-|Gi |-|Gi |-|Gi |-|Gi |-|Gi |-|Gi |-|Gi |-|Gi |-|Gi |-|Gi |-|Gi |-|Gi |-|Gi |-|Gi |-|Gi |-|Gi |-|Gi |-|Gi |-|Gi |-|Gi |-|Gi |-|Gi |-|Gi |-|Gi |-|Gi |-|Gi |-|Gi |-|Gi |-|Gi |-|Gi |-|Gi |-|Gi |-|Gi |-|Gi |-|Gi |-|Gi |-|Gi |-|Gi |-|Gi |-Gcphase:3:4|-||Gh |-|Gh |-|Gi |-|Gi |-|Gi |-|Gi |-|Gi |-|Gi |-|Gi |-|Gi |-|Gi |-|Gi |-|Gi |-|Gi |-|Gi |-|Gi |-|Gi |-Gcphase:3:4|-||Gh |-|Gh |-|Gi |-|Gi |-|Gi |-|Gi |-|Gi |-|Gi |-|Gi |-|Gi |-|Gi |-|Gi |-|Gi |-|Gi |-|Gi |-|Gi |-|Gi |-Gcphase:3:4|-||Gh |-|Gh |-|Gi |-|Gi |-|Gi |-|Gi |-|Gi |-|Gi |-|Gi |-|Gi |-|Gi |-Gcphase:3:4|-||Gh |-|Gh |-|Gi |-|Gi |-|Gi |-|Gi |-|Gi |-|Gi |-|Gi |-|Gi |-|Gi |-Gcphase:3:4|-||Gh |-|Gp |-Gcphase:4:5|-||Gp |-|Gh |-Gcphase:3:4|-||Gh |-|Gh |-|Gi |-|Gi |-|Gi |-|Gi |-|Gi |-|Gi |-|Gi |-|Gi |-|Gi |-|Gi |-|Gi |-|Gi |-|Gi |-|Gi |-|Gi |-Gcphase:3:4|-||Gh |-|Gp |-Gcphase:4:5|-||Gp |-|Gh |-Gcphase:3:4|-||Gh |-|Gh |-|Gi |-|Gi |-|Gi |-|Gi |-|Gi |-|Gi |-|Gi |-|Gi |-|Gi |-|Gi |-|Gi |-|Gi |-|Gi |-|Gi |-|Gi |-Gcphase:3:4|-||Gh |-|Gp |-Gcphase:4:5|-||Gp |-|Gp |-|Gi |-|Gi |-|Gi |-Gcphase:4:5|-||Gp |-|Gh |-Gcphase:3:4|-||Gh |-|Gh |-|Gi |-|Gi |-|Gi |-|Gi |-|Gi |-|Gi |-|Gi |-|Gi |-|Gi |-|Gi |-|Gi |-|Gi |-|Gi |-|Gi |-|Gi |-Gcphase:3:4|-||Gh |-|Gp |-Gcphase:4:5|-||Gp |-|Gp |-|Gi |-|Gi |-|Gi |-Gcphase:4:5|-||Gp |-|Gh |-Gcphase:3:4|-||Gh |-|Gh |-|Gi |-|Gi |-|Gi |-Gcphase:3:4|-||Gh |-|Gp |-Gcphase:4:5|-||Gp |-|Gh |-Gcphase:3:4|-||Gh |-|Gp |-Gcphase:4:5|-||Gp |-|Gh |-Gcphase:3:4|-||Gh |-|Gh |-|Gi |-|Gi |-|Gi |-Gcphase:3:4|-||Gh |-|Gh |-|Gi |-|Gi |-|Gi |-Gcphase:3:4|-||Gh |-|Gp |-Gcphase:4:5|-||Gp |-|Gp |-|Gi |-|Gi |-|Gi |-|Gi |-|Gi |-|Gi |-|Gi |-|Gi |-|Gi |-Gcphase:4:5|-||Gp |-|Gh |-Gcphase:3:4|-||Gh |-|Gh |-|Gi |-|Gi |-|Gi |-|Gi |-|Gi |-|Gi |-|Gi |-|Gi |-|Gi |-|Gi |-|Gi |-|Gi |-|Gi |-|Gi |-|Gi |-Gcphase:3:4|-||Gh |-|Gp |-Gcphase:4:5|-||Gp |-|Gp |-|Gi |-|Gi |-|Gi |-|Gi |-|Gi |-|Gi |-|Gi |-|Gi |-|Gi |-Gcphase:4:5|-||Gp |-|Gh |-Gcphase:3:4|-||Gh |-|Gh |-|Gi |-|Gi |-|Gi |-|Gi |-|Gi |-|Gi |-|Gi |-|Gi |-|Gi |-|Gi |-|Gi |-|Gi |-Gcphase:3:4|-||Gh |-|Gp |-Gcphase:4:5|-||Gp |-|Gp |-|Gi |-|Gi |-|Gi |-|Gi |-|Gi |-|Gi |-|Gi |-|Gi |-|Gi |-Gcphase:4:5|-||Gp |-|Gh |-Gcphase:3:4|-||Gh |-|Gh |-|Gi |-|Gi |-|Gi |-|Gi |-|Gi |-|Gi |-|Gi |-|Gi |-|Gi |-Gcphase:3:4|-||Gh |-|Gp |-Gcphase:4:5|-||Gp |-|Gp |-|Gi |-|Gi |-|Gi |-|Gi |-|Gi |-|Gi |-|Gi |-|Gi |-|Gi |-Gcphase:4:5|-||Gp |-|Gh |-Gcphase:3:4|-||Gh |-|Gh |-|Gi |-|Gi |-|Gi |-|Gi |-|Gi |-|Gi |-Gcphase:3:4|-||Gh |-|Gp |-Gcphase:4:5|-||Gp |-|Gp |-|Gi |-|Gi |-|Gi |-|Gi |-|Gi |-|Gi |-|Gi |-|Gi |-|Gi |-Gcphase:4:5|-||Gp |-|Gh |-Gcphase:3:4|-||Gh |-|Gh |-|Gi |-|Gi |-|Gi |-Gcphase:3:4|-||Gh |-|Gp |-Gcphase:4:5|-||Gp |-|Gp |-|Gi |-|Gi |-|Gi |-|Gi |-|Gi |-|Gi |-|Gi |-|Gi |-|Gi |-Gcphase:4:5|-||Gp |-|Gh |-Gcphase:3:4|-||Gh |-|Gp |-Gcphase:4:5|-||Gp |-|Gp |-|Gi |-|Gi |-|Gi |-|Gi |-|Gi |-|Gi |-|Gi |-|Gi |-|Gi |-Gcphase:4:5|-||Gp |-|Gh |-|Gi |-|Gi |-|Gi |-|Gi |-|Gi |-|Gi |-|Gi |-|Gi |-|Gi |-|Gi |-|Gi |-|Gi |-|Gi |-|Gi |-|Gi |-Gcphase:4:5|-||Gh |-|Gh |-|Gi |-|Gi |-|Gi |-|Gi |-|Gi |-|Gi |-|Gi |-|Gi |-|Gi |-Gcphase:4:5|-||Gh |-|Gp |-|Gi |-|Gi |-|Gi |-Gcphase:4:5|-||Gp |-|Gp |-|Gi |-|Gi |-|Gi |-|Gi |-|Gi |-|Gi |-|Gi |-|Gi |-|Gi |-Gcphase:4:5|-||Gp |-|Gh |-|Gi |-|Gi |-|Gi |-|Gi |-|Gi |-|Gi |-|Gi |-|Gi |-|Gi |-|Gi |-|Gi |-|Gi |-|Gi |-|Gi |-|Gi |-|Gi |-|Gi |-|Gi |-|Gi |-|Gi |-|Gi |-|Gi |-|Gi |-|Gi |-|Gi |-|Gi |-|Gi |-|Gi |-|Gi |-|Gi |-|Gi |-|Gi |-|Gi |-|Gi |-|Gi |-|Gi |-|Gi |-|Gi |-|Gi |-Gcphase:4:5|-||Gh |-|Gh |-|Gi |-|Gi |-|Gi |-|Gi |-|Gi |-|Gi |-|Gi |-|Gi |-|Gi |-Gcphase:4:5|-||Gh |-|Gh |-|Gi |-|Gi |-|Gi |-|Gi |-|Gi |-|Gi |-|Gi |-|Gi |-|Gi |-Gcphase:4:5|-||Gh |-|Gp |-Gcphase:3:4|-||Gp |-|Gh |-Gcphase:4:5|-||Gh |-|Gh |-|Gi |-|Gi |-|Gi |-|Gi |-|Gi |-|Gi |-|Gi |-|Gi |-|Gi |-Gcphase:4:5|-||Gh |-|Gp |-Gcphase:3:4|-||Gp |-|Gh |-Gcphase:4:5|-||Gh |-|Gh |-|Gi |-|Gi |-|Gi |-|Gi |-|Gi |-|Gi |-Gcphase:4:5|-||Gh |-|Gp |-Gcphase:3:4|-||Gp |-|Gh |-Gcphase:4:5|-||Gh |-|Gh |-|Gi |-|Gi |-|Gi |-Gcphase:4:5|-||Gh |-|Gp |-Gcphase:3:4|-||Gp |-|Gh |-Gcphase:4:5|-||Gh |-|Gh |-|Gi |-|Gi |-|Gi |-Gcphase:4:5|-||Gh |-|Gp |-Gcphase:3:4|-||Gp |-|Gp |-|Gi |-|Gi |-|Gi |-Gcphase:3:4|-||Gp |-|Gh |-Gcphase:4:5|-||Gh |-|Gh |-|Gi |-|Gi |-|Gi |-|Gi |-|Gi |-|Gi |-|Gi |-|Gi |-|Gi |-Gcphase:4:5|-||Gh |-|Gp |-Gcphase:3:4|-||Gp |-|Gp |-|Gi |-|Gi |-|Gi |-Gcphase:3:4|-||Gp |-|Gh |-Gcphase:4:5|-||Gh |-|Gh |-|Gi |-|Gi |-|Gi |-Gcphase:4:5|-||Gh |-|Gp |-Gcphase:3:4|-||Gp |-|Gh |-Gcphase:4:5|-||Gh |-|Gp |-Gcphase:3:4|-||Gp |-|Gh |-Gcphase:4:5|-||Gh |-|Gp |-Gcphase:3:4|-||Gp |-|Gp |-|Gi |-|Gi |-|Gi |-|Gi |-|Gi |-|Gi |-|Gi |-|Gi |-|Gi |-Gcphase:3:4|-||Gp |-|Gh |-Gcphase:4:5|-||Gh |-|Gh |-|Gi |-|Gi |-|Gi |-|Gi |-|Gi |-|Gi |-|Gi |-|Gi |-|Gi |-Gcphase:4:5|-||Gh |-|Gp |-Gcphase:3:4|-||Gp |-|Gp |-|Gi |-|Gi |-|Gi |-|Gi |-|Gi |-|Gi |-|Gi |-|Gi |-|Gi |-Gcphase:3:4|-||Gp |-|Gh |-Gcphase:4:5|-||Gh |-|Gh |-|Gi |-|Gi |-|Gi |-Gcphase:4:5|-||Gh |-|Gp |-Gcphase:3:4|-||Gp |-|Gp |-|Gi |-|Gi |-|Gi |-Gcphase:3:4|-||Gp |-|Gh |-Gcphase:4:5|-||Gh |-|Gp |-Gcphase:3:4|-||Gp |-|Gp |-|Gi |-|Gi |-|Gi |-Gcphase:3:4|-||Gp |-|Gh |-Gcphase:4:5|-||Gh |-|Gp |-Gcphase:3:4|-||Gp |-|Gp |-|Gi |-|Gi |-|Gi |-|Gi |-|Gi |-|Gi |-|Gi |-|Gi |-|Gi |-Gcphase:3:4|-||Gp |-|Gh |-Gcphase:4:5|-||Gh |-|Gh |-|Gi |-|Gi |-|Gi |-Gcphase:4:5|-||Gh |-|Gp |-Gcphase:3:4|-||Gp |-|Gp |-|Gi |-|Gi |-|Gi |-|Gi |-|Gi |-|Gi |-|Gi |-|Gi |-|Gi |-Gcphase:3:4|-||Gp |-|Gh |-Gcphase:4:5|-||Gh |-|Gh |-|Gi |-|Gi |-|Gi |-Gcphase:4:5|-||Gh |-|Gp |-Gcphase:3:4|-||Gp |-|Gp |-|Gi |-|Gi |-|Gi |-|Gi |-|Gi |-|Gi |-|Gi |-|Gi |-|Gi |-|Gi |-|Gi |-|Gi |-|Gi |-|Gi |-|Gi |-Gcphase:3:4|-||Gp |-|Gh |-Gcphase:4:5|-||Gh |-|Gh |-|Gi |-|Gi |-|Gi |-|Gi |-|Gi |-|Gi |-|Gi |-|Gi |-|Gi |-Gcphase:4:5|-||Gh |-|Gp |-Gcphase:3:4|-||Gp |-|Gp |-|Gi |-|Gi |-|Gi |-|Gi |-|Gi |-|Gi |-|Gi |-|Gi |-|Gi |-|Gi |-|Gi |-|Gi |-|Gi |-|Gi |-|Gi |-Gcphase:3:4|-||Gp |-|Gh |-Gcphase:4:5|-||Gh |-|Gp |-Gcphase:3:4|-||Gp |-|Gp |-|Gi |-|Gi |-|Gi |-Gcphase:3:4|-||Gp |-|Gh |-Gcphase:4:5|-||Gh |-|Gp |-Gcphase:3:4|-||Gp |-|Gp |-|Gi |-|Gi |-|Gi |-|Gi |-|Gi |-|Gi |-|Gi |-|Gi |-|Gi |-Gcphase:3:4|-||Gp |-|Gh |-Gcphase:4:5|-||Gh |-|Gp |-Gcphase:3:4|-||Gp |-|Gp |-|Gi |-|Gi |-|Gi |-|Gi |-|Gi |-|Gi |-|Gi |-|Gi |-|Gi |-Gcphase:3:4|-||Gp |-|Gh |-Gcphase:4:5|-||Gh |-|Gp |-Gcphase:3:4|-||Gp |-|Gp |-|Gi |-|Gi |-|Gi |-|Gi |-|Gi |-|Gi |-|Gi |-|Gi |-|Gi |-|Gi |-|Gi |-|Gi |-|Gi |-|Gi |-|Gi |-Gcphase:3:4|-||Gp |-|Gh |-Gcphase:4:5|-||Gh |-|Gh |-|Gi |-|Gi |-|Gi |-Gcphase:4:5|-||Gh |-|Gp |-Gcphase:3:4|-||Gp |-|Gp |-|Gi |-|Gi |-|Gi |-|Gi |-|Gi |-|Gi |-|Gi |-|Gi |-|Gi |-|Gi |-|Gi |-|Gi |-|Gi |-|Gi |-|Gi |-Gcphase:3:4|-||Gp |-|Gh |-Gcphase:4:5|-||Gh |-|Gp |-Gcphase:3:4|-||Gp |-|Gp |-|Gi |-|Gi |-|Gi |-|Gi |-|Gi |-|Gi |-|Gi |-|Gi |-|Gi |-Gcphase:3:4|-||Gp |-|Gh |-Gcphase:4:5|-||Gh |-|Gp |-|Gi |-|Gi |-|Gi |-|Gi |-|Gi |-|Gi |-Gcphase:3:4|-||Gp |-|Gp |-|Gi |-|Gi |-|Gi |-|Gi |-|Gi |-|Gi |-|Gi |-|Gi |-|Gi |-|Gi |-|Gi |-|Gi |-|Gi |-|Gi |-|Gi |-Gcphase:3:4|-||Gp |-|Gh |-Gcphase:4:5|-||Gh |-|Gp |-Gcphase:3:4|-||Gp |-|Gp |-|Gi |-|Gi |-|Gi |-|Gi |-|Gi |-|Gi |-|Gi |-|Gi |-|Gi |-|Gi |-|Gi |-|Gi |-|Gi |-|Gi |-|Gi |-Gcphase:3:4|-||Gp |-|Gp |-Gcphase:3:4|-||Gp |-|Gp |-|Gi |-|Gi |-|Gi |-|Gi |-|Gi |-|Gi |-|Gi |-|Gi |-|Gi |-|Gi |-|Gi |-|Gi |-|Gi |-|Gi |-|Gi |-Gcphase:3:4|-||Gp |-|Gp |-|Gh |-|Gi |-|Gi |-|Gi |-|Gi |-|Gi |-|Gi |-|Gi |-|Gi |-|Gi |-|Gi |-|Gi |-|Gi |-|Gi |-|Gi |-|Gi |-|Gi |-|Gi |-|Gi |-|Gi |-|Gi |-|Gi |-|Gi |-|Gi |-|Gi |-|Gi |-|Gi |-|Gi |-|Gi |-|Gi |-|Gi |-|Gi |-|Gi |-|Gi |-|Gi |-|Gi |-|Gi |-|Gi |-|Gi |-|Gi |-|Gi |-|Gi |-|Gi |-|Gi |-|Gi |-|Gi |-|Gi |-|Gh |-|Gp |-|Gp |-|Gh |-|Gp |-|Gp |-|Gi |-|Gi |-|Gi |-|Gi |-|Gi |-|Gi |-|Gi |-|Gi |-|Gi |-|Gi |-|Gi |-|Gi |-|Gi |-|Gi |-|Gi |-|Gi |-|Gi |-|Gi |-|Gi |-|Gi |-|Gi |-|Gi |-|Gi |-|Gi |-|Gi |-|Gi |-|Gi |-|Gi |-|Gi |-|Gi |-|Gi |-|Gi |-Gcphase:3:4|-||Gp |-|Gp |-|Gi |-|Gi |-|Gi |-|Gi |-|Gi |-|Gi |-|Gi |-|Gi |-|Gi |-Gcphase:3:4|-||Gp |-|Gh |-Gcphase:4:5|-||Gh |-|Gp |-|Gi |-|Gi |-|Gi |-|Gi |-|Gi |-|Gi |-|Gi |-|Gi |-|Gi |-Gcphase:3:4|-||Gp |-|Gp |-|Gi |-|Gi |-|Gi |-Gcphase:3:4|-||Gp |-|Gh |-Gcphase:4:5|-||Gh |-|Gp |-Gcphase:3:4|-||Gp |-|Gp |-|Gi |-|Gi |-|Gi |-Gcphase:3:4|-||Gp |-|Gh |-Gcphase:4:5|-||Gh |-|Gp |-Gcphase:3:4|-||Gp |-|Gp |-|Gi |-|Gi |-|Gi |-|Gi |-|Gi |-|Gi |-|Gi |-|Gi |-|Gi |-Gcphase:3:4|-||Gp |-|Gh |-Gcphase:4:5|-||Gh |-|Gh |-|Gi |-|Gi |-|Gi |-Gcphase:4:5|-||Gh |-|Gp |-Gcphase:3:4|-||Gp |-|Gp |-|Gi |-|Gi |-|Gi |-|Gi |-|Gi |-|Gi |-|Gi |-|Gi |-|Gi |-Gcphase:3:4|-||Gp |-|Gh |-Gcphase:4:5|-||Gh |-|Gh |-Gcphase:4:5|-||Gh |-|Gp |-Gcphase:3:4|-||Gp |-|Gh |-Gcphase:4:5|-||Gh |-|Gp |-Gcphase:3:4|-||Gp |-|Gh |-Gcphase:4:5|-||Gh |-|Gp |-Gcphase:3:4|-||Gp |-|Gp |-|Gi |-|Gi |-|Gi |-Gcphase:3:4|-||Gp |-|Gh |-Gcphase:4:5|-||Gh |-|Gh |-|Gi |-|Gi |-|Gi |-Gcphase:4:5|-||Gh |-|Gp |-Gcphase:3:4|-||Gp |-|Gp |-|Gi |-|Gi |-|Gi |-Gcphase:3:4|-||Gp |-|Gh |-Gcphase:4:5|-||Gh |-|Gh |-|Gi |-|Gi |-|Gi |-Gcphase:4:5|-||Gh |-|Gp |-Gcphase:3:4|-||Gp |-|Gp |-|Gi |-|Gi |-|Gi |-|Gi |-|Gi |-|Gi |-|Gi |-|Gi |-|Gi |-Gcphase:3:4|-||Gp |-|Gh |-Gcphase:4:5|-||Gh |-|Gh |-|Gi |-|Gi |-|Gi |-|Gi |-|Gi |-|Gi |-|Gi |-|Gi |-|Gi |-Gcphase:4:5|-||Gh |-|Gp |-Gcphase:3:4|-||Gp |-|Gp |-|Gi |-|Gi |-|Gi |-|Gi |-|Gi |-|Gi |-|Gi |-|Gi |-|Gi |-Gcphase:3:4|-||Gp |-|Gh |-Gcphase:4:5|-||Gh |-|Gh |-|Gi |-|Gi |-|Gi |-|Gi |-|Gi |-|Gi |-Gcphase:4:5|-||Gh |-|Gh |-|Gi |-|Gi |-|Gi |-Gcphase:4:5|-||Gh |-|Gh |-|Gi |-|Gi |-|Gi |-|Gi |-|Gi |-|Gi |-|Gi |-|Gi |-|Gi |-Gcphase:4:5|-||Gh |-|Gh |-|Gi |-|Gi |-|Gi |-|Gi |-|Gi |-|Gi |-|Gi |-|Gi |-|Gi |-Gcphase:4:5|-||Gh |-|Gp |-|Gi |-|Gi |-|Gi |-|Gi |-|Gi |-|Gi |-|Gi |-|Gi |-|Gi |-|Gi |-|Gi |-|Gi |-|Gi |-|Gi |-|Gi |-|Gi |-|Gi |-|Gi |-|Gi |-|Gi |-|Gi |-Gcphase:4:5|-||Gp |-|Gp |-|Gi |-|Gi |-|Gi |-|Gi |-|Gi |-|Gi |-|Gi |-|Gi |-|Gi |-Gcphase:4:5|-||Gp |-|Gp |-|Gi |-|Gi |-|Gi |-|Gi |-|Gi |-|Gi |-|Gi |-|Gi |-|Gi |-Gcphase:4:5|-||Gp |-|Gp |-|Gi |-|Gi |-|Gi |-Gcphase:4:5|-||Gp |-|Gh |-Gcphase:3:4|-||Gh |-|Gp |-Gcphase:4:5|-||Gp |-|Gp |-|Gi |-|Gi |-|Gi |-|Gi |-|Gi |-|Gi |-|Gi |-|Gi |-|Gi |-Gcphase:4:5|-||Gp |-|Gh |-Gcphase:3:4|-||Gh |-|Gh |-|Gi |-|Gi |-|Gi |-Gcphase:3:4|-||Gh |-|Gp |-Gcphase:4:5|-||Gp |-|Gp |-|Gi |-|Gi |-|Gi |-|Gi |-|Gi |-|Gi |-|Gi |-|Gi |-|Gi |-Gcphase:4:5|-||Gp |-|Gh |-Gcphase:3:4|-||Gh |-|Gp |-Gcphase:4:5|-||Gp |-|Gh |-Gcphase:3:4|-||Gh |-|Gp |-Gcphase:4:5|-||Gp |-|Gp |-|Gi |-|Gi |-|Gi |-Gcphase:4:5|-||Gp |-|Gh |-Gcphase:3:4|-||Gh |-|Gp |-Gcphase:4:5|-||Gp |-|Gp |-|Gi |-|Gi |-|Gi |-Gcphase:4:5|-||Gp |-|Gh |-Gcphase:4:5|-||Gh |-|Gh |-Gcphase:3:4|-||Gh |-|Gp |-Gcphase:4:5|-||Gp |-|Gp |-|Gi |-|Gi |-|Gi |-Gcphase:4:5|-||Gp |-|Gh |-Gcphase:3:4|-||Gh |-|Gh |-|Gi |-|Gi |-|Gi |-Gcphase:3:4|-||Gh |-|Gp |-Gcphase:4:5|-||Gp |-|Gp |-|Gi |-|Gi |-|Gi |-Gcphase:4:5|-||Gp |-|Gh |-Gcphase:3:4|-||Gh |-|Gp |-Gcphase:4:5|-||Gp |-|Gh |-Gcphase:3:4|-||Gh |-|Gp |-Gcphase:4:5|-||Gp |-|Gp |-|Gi |-|Gi |-|Gi |-Gcphase:4:5|-||Gp |-|Gh |-Gcphase:3:4|-||Gh |-|Gh |-|Gi |-|Gi |-|Gi |-|Gi |-|Gi |-|Gi |-|Gi |-|Gi |-|Gi |-|Gi |-|Gi |-|Gi |-|Gi |-|Gi |-|Gi |-Gcphase:3:4|-||Gh |-|Gp |-Gcphase:4:5|-||Gp |-|Gp |-|Gi |-|Gi |-|Gi |-Gcphase:4:5|-||Gp |-|Gh |-Gcphase:3:4|-||Gh |-|Gh |-|Gi |-|Gi |-|Gi |-Gcphase:3:4|-||Gh |-|Gp |-Gcphase:4:5|-||Gp |-|Gh |-Gcphase:3:4|-||Gh |-|Gp |-Gcphase:4:5|-||Gp |-|Gh |-Gcphase:3:4|-||Gh |-|Gh |-|Gi |-|Gi |-|Gi |-Gcphase:3:4|-||Gh |-|Gp |-Gcphase:4:5|-||Gp |-|Gh |-Gcphase:3:4|-||Gh |-|Gh |-|Gi |-|Gi |-|Gi |-|Gi |-|Gi |-|Gi |-|Gi |-|Gi |-|Gi |-Gcphase:3:4|-||Gh |-|Gp |-Gcphase:4:5|-||Gp |-|Gh |-Gcphase:3:4|-||Gh |-|Gh |-|Gi |-|Gi |-|Gi |-|Gi |-|Gi |-|Gi |-Gcphase:3:4|-||Gh |-|Gh |-|Gi |-|Gi |-|Gi |-Gcphase:3:4|-||Gh |-|Gh |-|Gi |-|Gi |-|Gi |-Gcphase:3:4|-||Gh |-|Gp |-Gcphase:4:5|-||Gp |-|Gh |-Gcphase:3:4|-||Gh |-|Gh |-|Gi |-|Gi |-|Gi |-|Gi |-|Gi |-|Gi |-|Gi |-|Gi |-|Gi |-|Gi |-|Gi |-|Gi |-|Gi |-|Gi |-|Gi |-Gcphase:3:4|-||Gh |-|Gp |-Gcphase:4:5|-||Gp |-|Gh |-Gcphase:3:4|-||Gh |-|Gh |-|Gi |-|Gi |-|Gi |-|Gi |-|Gi |-|Gi |-|Gi |-|Gi |-|Gi |-|Gi |-|Gi |-|Gi |-|Gi |-|Gi |-|Gi |-Gcphase:3:4|-||Gh |-|Gh |-|Gi |-|Gi |-|Gi |-|Gi |-|Gi |-|Gi |-|Gi |-|Gi |-|Gi |-|Gi |-|Gi |-|Gi |-|Gi |-|Gi |-|Gi |-Gcphase:3:4|-||Gh |-|Gp |-|Gh |-|Gi |-|Gi |-|Gi |-|Gi |-|Gi |-|Gi |-|Gi |-|Gi |-|Gi |-|Gi |-|Gi |-|Gi |-|Gi |-|Gi |-|Gi |-|Gi |-|Gi |-|Gi |-|Gi |-|Gi |-|Gi |-|Gi |-|Gi |---\n",
      "Qubit 5 ---|Gh |-|Gp |-|Gh |-|Gi |-|Gi |-|Gi |-|Gi |-|Gi |-|Gi |-|Gi |-|Gi |-|Gi |-|Gi |-|Gi |-|Gi |-|Gi |-|Gi |-|Gi |-|Gi |-|Gi |-|Gi |-|Gi |-|Gi |-|Gi |-|Gi |-|Gi |-|Gi |-|Gi |-|Gi |-|Gi |-|Gi |-|Gi |-|Gi |-|Gi |-|Gi |-|Gi |-|Gi |-|Gi |-|Gi |-|Gi |-|Gi |-|Gi |-|Gi |-|Gi |-|Gi |-|Gi |-|Gi |-|Gi |-|Gi |-|Gi |-|Gi |-|Gi |-|Gi |-|Gi |-|Gi |-|Gi |-|Gi |-|Gi |-|Gi |-|Gi |-|Gi |-|Gi |-|Gi |-|Gi |-|Gi |-|Gi |-|Gi |-|Gi |-|Gi |-|Gi |-|Gi |-|Gi |-|Gi |-|Gi |-|Gi |-|Gi |-|Gi |-|Gi |-|Gi |-|Gi |-|Gi |-|Gi |-|Gi |-|Gi |-|Gi |-|Gi |-|Gi |-|Gi |-|Gi |-|Gi |-|Gi |-|Gi |-|Gi |-|Gi |-|Gi |-|Gi |-|Gi |-|Gi |-|Gi |-|Gi |-|Gi |-|Gi |-|Gi |-|Gi |-|Gi |-|Gi |-|Gi |-|Gi |-|Gi |-|Gi |-|Gi |-|Gi |-|Gi |-|Gi |-|Gi |-|Gi |-|Gi |-|Gi |-|Gi |-|Gi |-|Gi |-|Gi |-|Gi |-|Gi |-|Gi |-|Gi |-|Gi |-|Gi |-|Gi |-|Gi |-|Gi |-|Gi |-|Gi |-|Gi |-|Gi |-|Gi |-|Gi |-|Gi |-|Gi |-|Gi |-|Gi |-|Gi |-|Gi |-|Gi |-|Gi |-|Gi |-|Gi |-|Gi |-|Gi |-|Gi |-|Gi |-|Gi |-|Gi |-|Gi |-|Gi |-|Gi |-Gcphase:4:5|-||Gh |-|Gh |-|Gi |-|Gi |-|Gi |-|Gi |-|Gi |-|Gi |-|Gi |-|Gi |-|Gi |-|Gi |-|Gi |-|Gi |-|Gi |-|Gi |-|Gi |-|Gi |-|Gi |-|Gi |-|Gi |-|Gi |-|Gi |-Gcphase:4:5|-||Gh |-|Gh |-|Gi |-|Gi |-|Gi |-|Gi |-|Gi |-|Gi |-|Gi |-|Gi |-|Gi |-|Gi |-|Gi |-|Gi |-|Gi |-|Gi |-|Gi |-|Gi |-|Gi |-|Gi |-|Gi |-|Gi |-|Gi |-Gcphase:4:5|-||Gh |-|Gp |-Gcphase:5:6|-||Gp |-|Gh |-Gcphase:4:5|-||Gh |-|Gh |-|Gi |-|Gi |-|Gi |-|Gi |-|Gi |-|Gi |-|Gi |-|Gi |-|Gi |-|Gi |-|Gi |-|Gi |-|Gi |-|Gi |-|Gi |-|Gi |-|Gi |-|Gi |-|Gi |-|Gi |-|Gi |-Gcphase:4:5|-||Gh |-|Gp |-Gcphase:5:6|-||Gp |-|Gh |-Gcphase:4:5|-||Gh |-|Gh |-|Gi |-|Gi |-|Gi |-|Gi |-|Gi |-|Gi |-|Gi |-|Gi |-|Gi |-Gcphase:4:5|-||Gh |-|Gh |-|Gi |-|Gi |-|Gi |-Gcphase:4:5|-||Gh |-|Gh |-|Gi |-|Gi |-|Gi |-|Gi |-|Gi |-|Gi |-|Gi |-|Gi |-|Gi |-|Gi |-|Gi |-|Gi |-|Gi |-|Gi |-|Gi |-Gcphase:4:5|-||Gh |-|Gp |-Gcphase:5:6|-||Gp |-|Gp |-|Gi |-|Gi |-|Gi |-Gcphase:5:6|-||Gp |-|Gh |-Gcphase:4:5|-||Gh |-|Gh |-|Gi |-|Gi |-|Gi |-|Gi |-|Gi |-|Gi |-|Gi |-|Gi |-|Gi |-|Gi |-|Gi |-|Gi |-|Gi |-|Gi |-|Gi |-|Gi |-|Gi |-|Gi |-|Gi |-|Gi |-|Gi |-Gcphase:4:5|-||Gh |-|Gp |-Gcphase:5:6|-||Gp |-|Gp |-|Gi |-|Gi |-|Gi |-Gcphase:5:6|-||Gp |-|Gh |-Gcphase:4:5|-||Gh |-|Gp |-Gcphase:5:6|-||Gp |-|Gh |-|Gi |-|Gi |-|Gi |-|Gi |-|Gi |-|Gi |-|Gi |-|Gi |-|Gi |-|Gi |-|Gi |-|Gi |-|Gi |-|Gi |-|Gi |-Gcphase:4:5|-||Gh |-|Gp |-Gcphase:5:6|-||Gp |-|Gp |-|Gi |-|Gi |-|Gi |-Gcphase:5:6|-||Gp |-|Gh |-Gcphase:4:5|-||Gh |-|Gh |-|Gi |-|Gi |-|Gi |-|Gi |-|Gi |-|Gi |-|Gi |-|Gi |-|Gi |-|Gi |-|Gi |-|Gi |-|Gi |-|Gi |-|Gi |-Gcphase:4:5|-||Gh |-|Gp |-Gcphase:5:6|-||Gp |-|Gp |-|Gi |-|Gi |-|Gi |-Gcphase:5:6|-||Gp |-|Gh |-Gcphase:4:5|-||Gh |-|Gh |-|Gi |-|Gi |-|Gi |-|Gi |-|Gi |-|Gi |-|Gi |-|Gi |-|Gi |-|Gi |-|Gi |-|Gi |-Gcphase:4:5|-||Gh |-|Gp |-Gcphase:5:6|-||Gp |-|Gp |-|Gi |-|Gi |-|Gi |-Gcphase:5:6|-||Gp |-|Gh |-Gcphase:4:5|-||Gh |-|Gh |-|Gi |-|Gi |-|Gi |-|Gi |-|Gi |-|Gi |-|Gi |-|Gi |-|Gi |-Gcphase:4:5|-||Gh |-|Gp |-Gcphase:5:6|-||Gp |-|Gp |-|Gi |-|Gi |-|Gi |-Gcphase:5:6|-||Gp |-|Gh |-Gcphase:4:5|-||Gh |-|Gh |-|Gi |-|Gi |-|Gi |-Gcphase:4:5|-||Gh |-|Gp |-Gcphase:5:6|-||Gp |-|Gp |-|Gi |-|Gi |-|Gi |-Gcphase:5:6|-||Gp |-|Gh |-Gcphase:4:5|-||Gh |-|Gp |-Gcphase:5:6|-||Gp |-|Gp |-|Gi |-|Gi |-|Gi |-Gcphase:5:6|-||Gp |-|Gh |-|Gi |-|Gi |-|Gi |-Gcphase:5:6|-||Gh |-|Gp |-Gcphase:4:5|-||Gp |-|Gh |-Gcphase:5:6|-||Gh |-|Gh |-|Gi |-|Gi |-|Gi |-Gcphase:5:6|-||Gh |-|Gp |-Gcphase:4:5|-||Gp |-|Gh |-Gcphase:5:6|-||Gh |-|Gh |-Gcphase:4:5|-||Gh |-|Gp |-Gcphase:5:6|-||Gp |-|Gp |-|Gi |-|Gi |-|Gi |-Gcphase:5:6|-||Gp |-|Gh |-Gcphase:4:5|-||Gh |-|Gp |-Gcphase:5:6|-||Gp |-|Gp |-|Gi |-|Gi |-|Gi |-Gcphase:5:6|-||Gp |-|Gp |-Gcphase:5:6|-||Gp |-|Gp |-|Gi |-|Gi |-|Gi |-Gcphase:5:6|-||Gp |-|Gh |-|Gi |-|Gi |-|Gi |-|Gi |-|Gi |-|Gi |-Gcphase:5:6|-||Gh |-|Gh |-|Gi |-|Gi |-|Gi |-Gcphase:5:6|-||Gh |-|Gh |-|Gi |-|Gi |-|Gi |-Gcphase:5:6|-||Gh |-|Gp |-Gcphase:4:5|-||Gp |-|Gh |-Gcphase:5:6|-||Gh |-|Gh |-|Gi |-|Gi |-|Gi |-Gcphase:5:6|-||Gh |-|Gp |-Gcphase:4:5|-||Gp |-|Gh |-Gcphase:5:6|-||Gh |-|Gh |-|Gi |-|Gi |-|Gi |-Gcphase:5:6|-||Gh |-|Gp |-Gcphase:4:5|-||Gp |-|Gp |-|Gi |-|Gi |-|Gi |-Gcphase:4:5|-||Gp |-|Gh |-Gcphase:5:6|-||Gh |-|Gh |-|Gi |-|Gi |-|Gi |-Gcphase:5:6|-||Gh |-|Gp |-Gcphase:4:5|-||Gp |-|Gp |-|Gi |-|Gi |-|Gi |-Gcphase:4:5|-||Gp |-|Gh |-Gcphase:5:6|-||Gh |-|Gh |-Gcphase:5:6|-||Gh |-|Gp |-Gcphase:4:5|-||Gp |-|Gp |-|Gi |-|Gi |-|Gi |-Gcphase:4:5|-||Gp |-|Gh |-Gcphase:5:6|-||Gh |-|Gp |-Gcphase:4:5|-||Gp |-|Gp |-|Gi |-|Gi |-|Gi |-Gcphase:4:5|-||Gp |-|Gh |-Gcphase:5:6|-||Gh |-|Gp |-Gcphase:4:5|-||Gp |-|Gp |-|Gi |-|Gi |-|Gi |-|Gi |-|Gi |-|Gi |-|Gi |-|Gi |-|Gi |-Gcphase:4:5|-||Gp |-|Gh |-Gcphase:5:6|-||Gh |-|Gh |-|Gi |-|Gi |-|Gi |-Gcphase:5:6|-||Gh |-|Gp |-Gcphase:4:5|-||Gp |-|Gp |-|Gi |-|Gi |-|Gi |-|Gi |-|Gi |-|Gi |-|Gi |-|Gi |-|Gi |-Gcphase:4:5|-||Gp |-|Gh |-Gcphase:5:6|-||Gh |-|Gp |-Gcphase:4:5|-||Gp |-|Gp |-|Gi |-|Gi |-|Gi |-Gcphase:4:5|-||Gp |-|Gh |-Gcphase:5:6|-||Gh |-|Gp |-Gcphase:4:5|-||Gp |-|Gp |-|Gi |-|Gi |-|Gi |-|Gi |-|Gi |-|Gi |-|Gi |-|Gi |-|Gi |-|Gi |-|Gi |-|Gi |-|Gi |-|Gi |-|Gi |-Gcphase:4:5|-||Gp |-|Gh |-Gcphase:5:6|-||Gh |-|Gh |-|Gi |-|Gi |-|Gi |-Gcphase:5:6|-||Gh |-|Gp |-Gcphase:4:5|-||Gp |-|Gp |-|Gi |-|Gi |-|Gi |-|Gi |-|Gi |-|Gi |-|Gi |-|Gi |-|Gi |-|Gi |-|Gi |-|Gi |-|Gi |-|Gi |-|Gi |-Gcphase:4:5|-||Gp |-|Gh |-Gcphase:5:6|-||Gh |-|Gp |-Gcphase:4:5|-||Gp |-|Gp |-|Gi |-|Gi |-|Gi |-|Gi |-|Gi |-|Gi |-|Gi |-|Gi |-|Gi |-Gcphase:4:5|-||Gp |-|Gh |-Gcphase:5:6|-||Gh |-|Gp |-|Gi |-|Gi |-|Gi |-|Gi |-|Gi |-|Gi |-Gcphase:4:5|-||Gp |-|Gp |-|Gi |-|Gi |-|Gi |-|Gi |-|Gi |-|Gi |-|Gi |-|Gi |-|Gi |-|Gi |-|Gi |-|Gi |-|Gi |-|Gi |-|Gi |-Gcphase:4:5|-||Gp |-|Gh |-Gcphase:5:6|-||Gh |-|Gp |-Gcphase:4:5|-||Gp |-|Gp |-|Gi |-|Gi |-|Gi |-|Gi |-|Gi |-|Gi |-|Gi |-|Gi |-|Gi |-|Gi |-|Gi |-|Gi |-|Gi |-|Gi |-|Gi |-Gcphase:4:5|-||Gp |-|Gh |-Gcphase:5:6|-||Gh |-|Gp |-Gcphase:4:5|-||Gp |-|Gp |-|Gi |-|Gi |-|Gi |-|Gi |-|Gi |-|Gi |-|Gi |-|Gi |-|Gi |-|Gi |-|Gi |-|Gi |-|Gi |-|Gi |-|Gi |-|Gi |-|Gi |-|Gi |-|Gi |-|Gi |-|Gi |-Gcphase:4:5|-||Gp |-|Gh |-Gcphase:5:6|-||Gh |-|Gh |-|Gi |-|Gi |-|Gi |-Gcphase:5:6|-||Gh |-|Gp |-Gcphase:4:5|-||Gp |-|Gp |-|Gi |-|Gi |-|Gi |-|Gi |-|Gi |-|Gi |-|Gi |-|Gi |-|Gi |-|Gi |-|Gi |-|Gi |-|Gi |-|Gi |-|Gi |-|Gi |-|Gi |-|Gi |-|Gi |-|Gi |-|Gi |-Gcphase:4:5|-||Gp |-|Gh |-Gcphase:5:6|-||Gh |-|Gp |-|Gi |-|Gi |-|Gi |-|Gi |-|Gi |-|Gi |-Gcphase:4:5|-||Gp |-|Gp |-|Gi |-|Gi |-|Gi |-|Gi |-|Gi |-|Gi |-|Gi |-|Gi |-|Gi |-|Gi |-|Gi |-|Gi |-|Gi |-|Gi |-|Gi |-Gcphase:4:5|-||Gp |-|Gh |-Gcphase:5:6|-||Gh |-|Gp |-|Gi |-|Gi |-|Gi |-|Gi |-|Gi |-|Gi |-|Gi |-|Gi |-|Gi |-|Gi |-|Gi |-|Gi |-Gcphase:4:5|-||Gp |-|Gp |-|Gi |-|Gi |-|Gi |-|Gi |-|Gi |-|Gi |-|Gi |-|Gi |-|Gi |-|Gi |-|Gi |-|Gi |-|Gi |-|Gi |-|Gi |-|Gi |-|Gi |-|Gi |-|Gi |-|Gi |-|Gi |-Gcphase:4:5|-||Gp |-|Gh |-Gcphase:5:6|-||Gh |-|Gp |-Gcphase:4:5|-||Gp |-|Gp |-|Gi |-|Gi |-|Gi |-|Gi |-|Gi |-|Gi |-|Gi |-|Gi |-|Gi |-|Gi |-|Gi |-|Gi |-|Gi |-|Gi |-|Gi |-|Gi |-|Gi |-|Gi |-|Gi |-|Gi |-|Gi |-Gcphase:4:5|-||Gp |-|Gp |-|Gi |-|Gi |-|Gi |-|Gi |-|Gi |-|Gi |-|Gi |-|Gi |-|Gi |-|Gi |-|Gi |-|Gi |-|Gi |-|Gi |-|Gi |-Gcphase:4:5|-||Gp |-|Gp |-|Gi |-|Gi |-|Gi |-|Gi |-|Gi |-|Gi |-|Gi |-|Gi |-|Gi |-|Gi |-|Gi |-|Gi |-|Gi |-|Gi |-|Gi |-|Gi |-|Gi |-|Gi |-|Gi |-|Gi |-|Gi |-|Gi |-|Gi |-|Gi |-|Gi |-|Gi |-|Gi |-Gcphase:4:5|-||Gp |-|Gh |-|Gi |-|Gi |-|Gi |-|Gi |-|Gi |-|Gi |-|Gi |-|Gi |-|Gi |-|Gi |-|Gi |-|Gi |-|Gi |-|Gi |-|Gi |-|Gi |-|Gi |-|Gi |-|Gi |-|Gi |-|Gi |-|Gi |-|Gi |-|Gi |-|Gi |-|Gi |-|Gi |-|Gi |-|Gi |-|Gi |-|Gi |-|Gi |-|Gi |-|Gi |-|Gi |-|Gi |-|Gi |-|Gi |-|Gi |-|Gi |-|Gi |-|Gi |-|Gi |-|Gi |-|Gi |-|Gi |-|Gi |-|Gi |-|Gi |-|Gi |-|Gi |-|Gi |-|Gi |-|Gi |-|Gi |-|Gi |-|Gi |-|Gi |-|Gi |-|Gi |-|Gi |-|Gi |-|Gi |-|Gi |-|Gi |-|Gi |-|Gi |-|Gi |-|Gi |-|Gi |-|Gi |-|Gi |-|Gi |-|Gi |-|Gi |-|Gi |-|Gi |-|Gi |-|Gi |-|Gi |-|Gi |-|Gi |-|Gi |-|Gi |-|Gi |-|Gi |-|Gi |-|Gi |-|Gi |-|Gp |-|Gi |-|Gi |-|Gi |-|Gi |-|Gi |-|Gi |-|Gi |-|Gi |-|Gi |-|Gi |-|Gi |-|Gi |-|Gi |-|Gi |-|Gi |-|Gi |-|Gi |-|Gi |-|Gi |-|Gi |-|Gi |-|Gi |-|Gi |-|Gi |-|Gi |-|Gi |-|Gi |-|Gi |-|Gi |-|Gi |-|Gi |-|Gi |-|Gi |-|Gi |-|Gi |-|Gi |-|Gi |-|Gi |-|Gi |-|Gi |-|Gi |-|Gi |-|Gi |-|Gi |-|Gi |-|Gi |-|Gi |-|Gi |-|Gi |-|Gi |-|Gi |-|Gi |-Gcphase:4:5|-||Gp |-|Gp |-|Gi |-|Gi |-|Gi |-|Gi |-|Gi |-|Gi |-|Gi |-|Gi |-|Gi |-|Gi |-|Gi |-|Gi |-|Gi |-|Gi |-|Gi |-|Gi |-|Gi |-|Gi |-Gcphase:4:5|-||Gp |-|Gh |-Gcphase:5:6|-||Gh |-|Gp |-|Gi |-|Gi |-|Gi |-|Gi |-|Gi |-|Gi |-Gcphase:4:5|-||Gp |-|Gp |-|Gi |-|Gi |-|Gi |-|Gi |-|Gi |-|Gi |-|Gi |-|Gi |-|Gi |-|Gi |-|Gi |-|Gi |-|Gi |-|Gi |-|Gi |-Gcphase:4:5|-||Gp |-|Gh |-Gcphase:5:6|-||Gh |-|Gp |-Gcphase:4:5|-||Gp |-|Gp |-|Gi |-|Gi |-|Gi |-|Gi |-|Gi |-|Gi |-|Gi |-|Gi |-|Gi |-|Gi |-|Gi |-|Gi |-|Gi |-|Gi |-|Gi |-Gcphase:4:5|-||Gp |-|Gp |-Gcphase:4:5|-||Gp |-|Gp |-|Gi |-|Gi |-|Gi |-Gcphase:4:5|-||Gp |-|Gh |-Gcphase:5:6|-||Gh |-|Gp |-Gcphase:4:5|-||Gp |-|Gp |-|Gi |-|Gi |-|Gi |-|Gi |-|Gi |-|Gi |-|Gi |-|Gi |-|Gi |-Gcphase:4:5|-||Gp |-|Gh |-Gcphase:5:6|-||Gh |-|Gp |-Gcphase:4:5|-||Gp |-|Gp |-|Gi |-|Gi |-|Gi |-|Gi |-|Gi |-|Gi |-|Gi |-|Gi |-|Gi |-Gcphase:4:5|-||Gp |-|Gh |-Gcphase:5:6|-||Gh |-|Gp |-Gcphase:4:5|-||Gp |-|Gp |-|Gi |-|Gi |-|Gi |-|Gi |-|Gi |-|Gi |-|Gi |-|Gi |-|Gi |-|Gi |-|Gi |-|Gi |-|Gi |-|Gi |-|Gi |-Gcphase:4:5|-||Gp |-|Gh |-Gcphase:5:6|-||Gh |-|Gh |-|Gi |-|Gi |-|Gi |-Gcphase:5:6|-||Gh |-|Gp |-Gcphase:4:5|-||Gp |-|Gp |-|Gi |-|Gi |-|Gi |-|Gi |-|Gi |-|Gi |-|Gi |-|Gi |-|Gi |-|Gi |-|Gi |-|Gi |-|Gi |-|Gi |-|Gi |-Gcphase:4:5|-||Gp |-|Gh |-Gcphase:5:6|-||Gh |-|Gh |-Gcphase:5:6|-||Gh |-|Gp |-Gcphase:4:5|-||Gp |-|Gh |-Gcphase:5:6|-||Gh |-|Gp |-Gcphase:4:5|-||Gp |-|Gh |-Gcphase:5:6|-||Gh |-|Gh |-|Gi |-|Gi |-|Gi |-Gcphase:5:6|-||Gh |-|Gp |-Gcphase:4:5|-||Gp |-|Gh |-Gcphase:5:6|-||Gh |-|Gh |-|Gi |-|Gi |-|Gi |-Gcphase:5:6|-||Gh |-|Gp |-Gcphase:4:5|-||Gp |-|Gh |-Gcphase:5:6|-||Gh |-|Gh |-|Gi |-|Gi |-|Gi |-Gcphase:5:6|-||Gh |-|Gh |-|Gi |-|Gi |-|Gi |-Gcphase:5:6|-||Gh |-|Gp |-|Gi |-|Gi |-|Gi |-Gcphase:5:6|-||Gp |-|Gh |-Gcphase:4:5|-||Gh |-|Gp |-Gcphase:5:6|-||Gp |-|Gp |-|Gi |-|Gi |-|Gi |-Gcphase:5:6|-||Gp |-|Gh |-Gcphase:4:5|-||Gh |-|Gp |-Gcphase:5:6|-||Gp |-|Gp |-|Gi |-|Gi |-|Gi |-Gcphase:5:6|-||Gp |-|Gh |-Gcphase:4:5|-||Gh |-|Gp |-Gcphase:5:6|-||Gp |-|Gh |-Gcphase:4:5|-||Gh |-|Gp |-Gcphase:5:6|-||Gp |-|Gh |-Gcphase:4:5|-||Gh |-|Gp |-Gcphase:5:6|-||Gp |-|Gp |-|Gi |-|Gi |-|Gi |-Gcphase:5:6|-||Gp |-|Gh |-Gcphase:4:5|-||Gh |-|Gh |-|Gi |-|Gi |-|Gi |-|Gi |-|Gi |-|Gi |-|Gi |-|Gi |-|Gi |-Gcphase:4:5|-||Gh |-|Gp |-Gcphase:5:6|-||Gp |-|Gp |-|Gi |-|Gi |-|Gi |-Gcphase:5:6|-||Gp |-|Gh |-Gcphase:4:5|-||Gh |-|Gh |-|Gi |-|Gi |-|Gi |-Gcphase:4:5|-||Gh |-|Gh |-|Gi |-|Gi |-|Gi |-Gcphase:4:5|-||Gh |-|Gp |-Gcphase:5:6|-||Gp |-|Gh |-Gcphase:4:5|-||Gh |-|Gh |-|Gi |-|Gi |-|Gi |-Gcphase:4:5|-||Gh |-|Gp |-Gcphase:5:6|-||Gp |-|Gh |-Gcphase:4:5|-||Gh |-|Gp |-Gcphase:4:5|-||Gp |-|Gh |-|Gi |-|Gi |-|Gi |-Gcphase:4:5|-||Gh |-|Gp |-Gcphase:5:6|-||Gp |-|Gh |-Gcphase:4:5|-||Gh |-|Gh |-|Gi |-|Gi |-|Gi |-|Gi |-|Gi |-|Gi |-|Gi |-|Gi |-|Gi |-Gcphase:4:5|-||Gh |-|Gp |-Gcphase:5:6|-||Gp |-|Gh |-Gcphase:4:5|-||Gh |-|Gh |-|Gi |-|Gi |-|Gi |-Gcphase:4:5|-||Gh |-|Gh |-|Gi |-|Gi |-|Gi |-Gcphase:4:5|-||Gh |-|Gp |-Gcphase:5:6|-||Gp |-|Gh |-Gcphase:4:5|-||Gh |-|Gh |-|Gi |-|Gi |-|Gi |-|Gi |-|Gi |-|Gi |-|Gi |-|Gi |-|Gi |-|Gi |-|Gi |-|Gi |-|Gi |-|Gi |-|Gi |-|Gi |-|Gi |-|Gi |-|Gi |-|Gi |-|Gi |-Gcphase:4:5|-||Gh |-|Gp |-Gcphase:5:6|-||Gp |-|Gh |-Gcphase:4:5|-||Gh |-|Gh |-|Gi |-|Gi |-|Gi |-|Gi |-|Gi |-|Gi |-|Gi |-|Gi |-|Gi |-Gcphase:4:5|-||Gh |-|Gh |-|Gi |-|Gi |-|Gi |-Gcphase:4:5|-||Gh |-|Gh |-|Gi |-|Gi |-|Gi |-|Gi |-|Gi |-|Gi |-|Gi |-|Gi |-|Gi |-Gcphase:4:5|-||Gh |-|Gh |-|Gi |-|Gi |-|Gi |-|Gi |-|Gi |-|Gi |-|Gi |-|Gi |-|Gi |-|Gi |-|Gi |-|Gi |-|Gi |-|Gi |-|Gi |-Gcphase:4:5|-||Gh |-|Gh |-|Gi |-|Gi |-|Gi |-|Gi |-|Gi |-|Gi |-|Gi |-|Gi |-|Gi |-|Gi |-|Gi |-|Gi |-|Gi |-|Gi |-|Gi |-|Gi |-|Gi |-|Gi |-|Gi |-|Gi |-|Gi |-|Gi |-|Gi |-|Gi |-Gcphase:4:5|-||Gh |-|Gh |-|Gi |-|Gi |-|Gi |-|Gi |-|Gi |-|Gi |-|Gi |-|Gi |-|Gi |-|Gi |-|Gi |-|Gi |-|Gi |-|Gi |-|Gi |-|Gi |-|Gi |-|Gi |-|Gi |-|Gi |-|Gi |-Gcphase:4:5|-||Gh |-|Gp |-|Gh |-|Gi |-|Gi |-|Gi |-|Gi |-|Gi |-|Gi |-|Gi |-|Gi |-|Gi |-|Gi |-|Gi |-|Gi |-|Gi |-|Gi |-|Gi |-|Gi |-|Gi |-|Gi |-|Gi |-|Gi |-|Gi |-|Gi |-|Gi |-|Gi |-|Gi |-|Gi |-|Gi |-|Gi |-|Gi |-|Gi |-|Gi |-|Gi |-|Gi |-|Gi |-|Gi |-|Gi |-|Gi |-|Gi |-|Gi |-|Gi |-|Gi |-|Gi |-|Gi |-|Gi |-|Gi |-|Gi |-|Gi |-|Gi |-|Gi |-|Gi |-|Gi |-|Gi |-|Gi |-|Gi |-|Gi |-|Gi |-|Gi |-|Gi |-|Gi |-|Gi |-|Gi |-|Gi |---\n",
      "Qubit 6 ---|Gh |-|Gp |-|Gh |-|Gi |-|Gi |-|Gi |-|Gi |-|Gi |-|Gi |-|Gi |-|Gi |-|Gi |-|Gi |-|Gi |-|Gi |-|Gi |-|Gi |-|Gi |-|Gi |-|Gi |-|Gi |-|Gi |-|Gi |-|Gi |-|Gi |-|Gi |-|Gi |-|Gi |-|Gi |-|Gi |-|Gi |-|Gi |-|Gi |-|Gi |-|Gi |-|Gi |-|Gi |-|Gi |-|Gi |-|Gi |-|Gi |-|Gi |-|Gi |-|Gi |-|Gi |-|Gi |-|Gi |-|Gi |-|Gi |-|Gi |-|Gi |-|Gi |-|Gi |-|Gi |-|Gi |-|Gi |-|Gi |-|Gi |-|Gi |-|Gi |-|Gi |-|Gi |-|Gi |-|Gi |-|Gi |-|Gi |-|Gi |-|Gi |-|Gi |-|Gi |-|Gi |-|Gi |-|Gi |-|Gi |-|Gi |-|Gi |-|Gi |-|Gi |-|Gi |-|Gi |-|Gi |-|Gi |-|Gi |-|Gi |-|Gi |-|Gi |-|Gi |-|Gi |-|Gi |-|Gi |-|Gi |-|Gi |-|Gi |-|Gi |-|Gi |-|Gi |-|Gi |-|Gi |-|Gi |-|Gi |-|Gi |-|Gi |-|Gi |-|Gi |-|Gi |-|Gi |-|Gi |-|Gi |-|Gi |-|Gi |-|Gi |-|Gi |-|Gi |-|Gi |-|Gi |-|Gi |-|Gi |-|Gi |-|Gi |-|Gi |-|Gi |-|Gi |-|Gi |-|Gi |-|Gi |-|Gi |-|Gi |-|Gi |-|Gi |-|Gi |-|Gi |-|Gi |-|Gi |-|Gi |-|Gi |-|Gi |-|Gi |-|Gi |-|Gi |-|Gi |-|Gi |-|Gi |-|Gi |-|Gi |-|Gi |-|Gi |-|Gi |-|Gi |-|Gi |-|Gi |-|Gi |-|Gi |-|Gi |-|Gi |-|Gi |-|Gi |-|Gi |-|Gi |-|Gi |-|Gi |-|Gi |-|Gi |-|Gi |-|Gi |-|Gi |-|Gi |-|Gi |-|Gi |-|Gi |-|Gi |-|Gi |-|Gi |-|Gi |-|Gi |-|Gi |-|Gi |-|Gi |-|Gi |-|Gi |-|Gi |-|Gi |-|Gi |-|Gi |-|Gi |-|Gi |-|Gi |-|Gi |-|Gi |-|Gi |-|Gi |-|Gi |-|Gi |-|Gi |-|Gi |-|Gi |-|Gi |-|Gi |-|Gi |-|Gi |-|Gi |-|Gi |-|Gi |-|Gi |-|Gi |-|Gi |-|Gi |-|Gi |-Gcphase:5:6|-||Gh |-|Gh |-|Gi |-|Gi |-|Gi |-|Gi |-|Gi |-|Gi |-|Gi |-|Gi |-|Gi |-|Gi |-|Gi |-|Gi |-|Gi |-|Gi |-|Gi |-|Gi |-|Gi |-|Gi |-|Gi |-|Gi |-|Gi |-|Gi |-|Gi |-|Gi |-|Gi |-|Gi |-|Gi |-Gcphase:5:6|-||Gh |-|Gh |-|Gi |-|Gi |-|Gi |-|Gi |-|Gi |-|Gi |-|Gi |-|Gi |-|Gi |-|Gi |-|Gi |-|Gi |-|Gi |-|Gi |-|Gi |-|Gi |-|Gi |-|Gi |-|Gi |-|Gi |-|Gi |-|Gi |-|Gi |-|Gi |-|Gi |-|Gi |-|Gi |-|Gi |-|Gi |-|Gi |-|Gi |-|Gi |-|Gi |-|Gi |-|Gi |-|Gi |-|Gi |-|Gi |-|Gi |-Gcphase:5:6|-||Gh |-|Gp |-Gcphase:6:7|-||Gp |-|Gh |-Gcphase:5:6|-||Gh |-|Gh |-|Gi |-|Gi |-|Gi |-|Gi |-|Gi |-|Gi |-|Gi |-|Gi |-|Gi |-|Gi |-|Gi |-|Gi |-|Gi |-|Gi |-|Gi |-|Gi |-|Gi |-|Gi |-|Gi |-|Gi |-|Gi |-|Gi |-|Gi |-|Gi |-|Gi |-|Gi |-|Gi |-Gcphase:5:6|-||Gh |-|Gp |-Gcphase:6:7|-||Gp |-|Gh |-Gcphase:5:6|-||Gh |-|Gh |-|Gi |-|Gi |-|Gi |-Gcphase:5:6|-||Gh |-|Gh |-|Gi |-|Gi |-|Gi |-|Gi |-|Gi |-|Gi |-|Gi |-|Gi |-|Gi |-|Gi |-|Gi |-|Gi |-|Gi |-|Gi |-|Gi |-|Gi |-|Gi |-|Gi |-Gcphase:5:6|-||Gh |-|Gp |-Gcphase:6:7|-||Gp |-|Gh |-Gcphase:5:6|-||Gh |-|Gh |-|Gi |-|Gi |-|Gi |-|Gi |-|Gi |-|Gi |-|Gi |-|Gi |-|Gi |-|Gi |-|Gi |-|Gi |-|Gi |-|Gi |-|Gi |-|Gi |-|Gi |-|Gi |-|Gi |-|Gi |-|Gi |-Gcphase:5:6|-||Gh |-|Gp |-Gcphase:6:7|-||Gp |-|Gh |-Gcphase:5:6|-||Gh |-|Gh |-|Gi |-|Gi |-|Gi |-|Gi |-|Gi |-|Gi |-|Gi |-|Gi |-|Gi |-|Gi |-|Gi |-|Gi |-|Gi |-|Gi |-|Gi |-|Gi |-|Gi |-|Gi |-Gcphase:5:6|-||Gh |-|Gp |-Gcphase:6:7|-||Gp |-|Gh |-Gcphase:5:6|-||Gh |-|Gh |-|Gi |-|Gi |-|Gi |-|Gi |-|Gi |-|Gi |-|Gi |-|Gi |-|Gi |-|Gi |-|Gi |-|Gi |-|Gi |-|Gi |-|Gi |-Gcphase:5:6|-||Gh |-|Gp |-Gcphase:6:7|-||Gp |-|Gh |-Gcphase:5:6|-||Gh |-|Gh |-|Gi |-|Gi |-|Gi |-|Gi |-|Gi |-|Gi |-|Gi |-|Gi |-|Gi |-Gcphase:5:6|-||Gh |-|Gp |-Gcphase:6:7|-||Gp |-|Gh |-Gcphase:5:6|-||Gh |-|Gh |-|Gi |-|Gi |-|Gi |-Gcphase:5:6|-||Gh |-|Gp |-Gcphase:6:7|-||Gp |-|Gh |-Gcphase:5:6|-||Gh |-|Gh |-Gcphase:6:7|-||Gh |-|Gp |-Gcphase:5:6|-||Gp |-|Gp |-|Gi |-|Gi |-|Gi |-Gcphase:5:6|-||Gp |-|Gh |-Gcphase:6:7|-||Gh |-|Gp |-Gcphase:5:6|-||Gp |-|Gp |-|Gi |-|Gi |-|Gi |-Gcphase:5:6|-||Gp |-|Gh |-|Gi |-|Gi |-|Gi |-Gcphase:5:6|-||Gh |-|Gp |-Gcphase:6:7|-||Gp |-|Gh |-Gcphase:5:6|-||Gh |-|Gh |-|Gi |-|Gi |-|Gi |-Gcphase:5:6|-||Gh |-|Gp |-Gcphase:6:7|-||Gp |-|Gh |-Gcphase:5:6|-||Gh |-|Gh |-Gcphase:5:6|-||Gh |-|Gp |-Gcphase:6:7|-||Gp |-|Gh |-Gcphase:5:6|-||Gh |-|Gp |-Gcphase:6:7|-||Gp |-|Gh |-Gcphase:6:7|-||Gh |-|Gp |-Gcphase:5:6|-||Gp |-|Gh |-Gcphase:6:7|-||Gh |-|Gp |-Gcphase:5:6|-||Gp |-|Gh |-Gcphase:6:7|-||Gh |-|Gp |-Gcphase:5:6|-||Gp |-|Gp |-|Gi |-|Gi |-|Gi |-Gcphase:5:6|-||Gp |-|Gh |-Gcphase:6:7|-||Gh |-|Gp |-Gcphase:5:6|-||Gp |-|Gp |-|Gi |-|Gi |-|Gi |-Gcphase:5:6|-||Gp |-|Gh |-Gcphase:6:7|-||Gh |-|Gp |-Gcphase:5:6|-||Gp |-|Gp |-|Gi |-|Gi |-|Gi |-|Gi |-|Gi |-|Gi |-|Gi |-|Gi |-|Gi |-Gcphase:5:6|-||Gp |-|Gh |-Gcphase:6:7|-||Gh |-|Gp |-Gcphase:5:6|-||Gp |-|Gp |-|Gi |-|Gi |-|Gi |-|Gi |-|Gi |-|Gi |-|Gi |-|Gi |-|Gi |-Gcphase:5:6|-||Gp |-|Gp |-Gcphase:5:6|-||Gp |-|Gp |-|Gi |-|Gi |-|Gi |-|Gi |-|Gi |-|Gi |-|Gi |-|Gi |-|Gi |-Gcphase:5:6|-||Gp |-|Gh |-Gcphase:6:7|-||Gh |-|Gp |-|Gi |-|Gi |-|Gi |-|Gi |-|Gi |-|Gi |-Gcphase:5:6|-||Gp |-|Gp |-|Gi |-|Gi |-|Gi |-|Gi |-|Gi |-|Gi |-|Gi |-|Gi |-|Gi |-|Gi |-|Gi |-|Gi |-|Gi |-|Gi |-|Gi |-Gcphase:5:6|-||Gp |-|Gh |-Gcphase:6:7|-||Gh |-|Gp |-Gcphase:5:6|-||Gp |-|Gp |-|Gi |-|Gi |-|Gi |-|Gi |-|Gi |-|Gi |-|Gi |-|Gi |-|Gi |-|Gi |-|Gi |-|Gi |-|Gi |-|Gi |-|Gi |-Gcphase:5:6|-||Gp |-|Gh |-Gcphase:6:7|-||Gh |-|Gp |-|Gi |-|Gi |-|Gi |-|Gi |-|Gi |-|Gi |-Gcphase:5:6|-||Gp |-|Gp |-|Gi |-|Gi |-|Gi |-|Gi |-|Gi |-|Gi |-|Gi |-|Gi |-|Gi |-|Gi |-|Gi |-|Gi |-|Gi |-|Gi |-|Gi |-|Gi |-|Gi |-|Gi |-|Gi |-|Gi |-|Gi |-Gcphase:5:6|-||Gp |-|Gh |-Gcphase:6:7|-||Gh |-|Gp |-Gcphase:5:6|-||Gp |-|Gp |-|Gi |-|Gi |-|Gi |-|Gi |-|Gi |-|Gi |-|Gi |-|Gi |-|Gi |-|Gi |-|Gi |-|Gi |-|Gi |-|Gi |-|Gi |-|Gi |-|Gi |-|Gi |-|Gi |-|Gi |-|Gi |-Gcphase:5:6|-||Gp |-|Gp |-|Gi |-|Gi |-|Gi |-|Gi |-|Gi |-|Gi |-|Gi |-|Gi |-|Gi |-|Gi |-|Gi |-|Gi |-|Gi |-|Gi |-|Gi |-Gcphase:5:6|-||Gp |-|Gp |-|Gi |-|Gi |-|Gi |-|Gi |-|Gi |-|Gi |-|Gi |-|Gi |-|Gi |-|Gi |-|Gi |-|Gi |-|Gi |-|Gi |-|Gi |-|Gi |-|Gi |-|Gi |-|Gi |-|Gi |-|Gi |-|Gi |-|Gi |-|Gi |-|Gi |-|Gi |-|Gi |-Gcphase:5:6|-||Gp |-|Gh |-Gcphase:6:7|-||Gh |-|Gp |-|Gi |-|Gi |-|Gi |-|Gi |-|Gi |-|Gi |-|Gi |-|Gi |-|Gi |-|Gi |-|Gi |-|Gi |-|Gi |-|Gi |-|Gi |-|Gi |-|Gi |-|Gi |-Gcphase:5:6|-||Gp |-|Gp |-|Gi |-|Gi |-|Gi |-|Gi |-|Gi |-|Gi |-|Gi |-|Gi |-|Gi |-|Gi |-|Gi |-|Gi |-|Gi |-|Gi |-|Gi |-|Gi |-|Gi |-|Gi |-|Gi |-|Gi |-|Gi |-|Gi |-|Gi |-|Gi |-|Gi |-|Gi |-|Gi |-Gcphase:5:6|-||Gp |-|Gh |-Gcphase:6:7|-||Gh |-|Gp |-Gcphase:5:6|-||Gp |-|Gp |-|Gi |-|Gi |-|Gi |-|Gi |-|Gi |-|Gi |-|Gi |-|Gi |-|Gi |-|Gi |-|Gi |-|Gi |-|Gi |-|Gi |-|Gi |-|Gi |-|Gi |-|Gi |-|Gi |-|Gi |-|Gi |-|Gi |-|Gi |-|Gi |-|Gi |-|Gi |-|Gi |-Gcphase:5:6|-||Gp |-|Gp |-|Gi |-|Gi |-|Gi |-|Gi |-|Gi |-|Gi |-|Gi |-|Gi |-|Gi |-|Gi |-|Gi |-|Gi |-|Gi |-|Gi |-|Gi |-|Gi |-|Gi |-|Gi |-|Gi |-|Gi |-|Gi |-|Gi |-|Gi |-|Gi |-|Gi |-|Gi |-|Gi |-Gcphase:5:6|-||Gp |-|Gp |-|Gi |-|Gi |-|Gi |-|Gi |-|Gi |-|Gi |-|Gi |-|Gi |-|Gi |-|Gi |-|Gi |-|Gi |-|Gi |-|Gi |-|Gi |-|Gi |-|Gi |-|Gi |-|Gi |-|Gi |-|Gi |-|Gi |-|Gi |-|Gi |-|Gi |-|Gi |-|Gi |-|Gi |-|Gi |-|Gi |-|Gi |-|Gi |-|Gi |-|Gi |-|Gi |-|Gi |-|Gi |-|Gi |-|Gi |-Gcphase:5:6|-||Gp |-|Gp |-|Gh |-|Gi |-|Gi |-|Gi |-|Gi |-|Gi |-|Gi |-|Gi |-|Gi |-|Gi |-|Gi |-|Gi |-|Gi |-|Gi |-|Gi |-|Gi |-|Gi |-|Gi |-|Gi |-|Gi |-|Gi |-|Gi |-|Gi |-|Gi |-|Gi |-|Gi |-|Gi |-|Gi |-|Gi |-|Gi |-|Gi |-|Gi |-|Gi |-|Gi |-|Gi |-|Gi |-|Gi |-|Gi |-|Gi |-|Gi |-|Gi |-|Gi |-|Gi |-|Gi |-|Gi |-|Gi |-|Gi |-|Gi |-|Gi |-|Gi |-|Gi |-|Gi |-|Gi |-|Gi |-|Gi |-|Gi |-|Gi |-|Gi |-|Gi |-|Gi |-|Gi |-|Gi |-|Gi |-|Gi |-|Gi |-|Gi |-|Gi |-|Gi |-|Gi |-|Gi |-|Gi |-|Gi |-|Gi |-|Gi |-|Gi |-|Gi |-|Gi |-|Gi |-|Gi |-|Gi |-|Gi |-|Gi |-|Gi |-|Gi |-|Gi |-|Gi |-|Gi |-|Gi |-|Gi |-|Gi |-|Gi |-|Gi |-|Gi |-|Gi |-|Gi |-|Gi |-|Gi |-|Gi |-|Gi |-|Gi |-|Gi |-|Gi |-|Gi |-|Gi |-|Gi |-|Gi |-|Gi |-|Gi |-|Gi |-|Gi |-|Gi |-|Gi |-|Gi |-|Gi |-|Gi |-|Gi |-|Gi |-|Gi |-|Gi |-|Gi |-|Gi |-|Gi |-|Gi |-|Gi |-|Gi |-|Gi |-|Gi |-|Gi |-|Gi |-|Gi |-|Gi |-|Gi |-|Gi |-|Gi |-|Gi |-|Gi |-|Gi |-|Gi |-|Gi |-|Gi |-|Gi |-|Gi |-|Gi |-|Gi |-|Gi |-|Gi |-|Gi |-|Gi |-|Gi |-|Gi |-|Gi |-|Gi |-|Gi |-|Gi |-|Gi |-|Gi |-|Gi |-|Gi |-|Gi |-|Gi |-|Gi |-|Gi |-|Gi |-|Gi |-|Gh |-|Gp |-|Gp |-|Gh |-|Gp |-|Gp |-|Gp |-|Gp |-|Gi |-|Gi |-|Gi |-|Gi |-|Gi |-|Gi |-|Gi |-|Gi |-|Gi |-|Gi |-|Gi |-|Gi |-|Gi |-|Gi |-|Gi |-|Gi |-|Gi |-|Gi |-|Gi |-|Gi |-|Gi |-|Gi |-|Gi |-|Gi |-|Gi |-|Gi |-|Gi |-|Gi |-|Gi |-|Gi |-|Gi |-|Gi |-|Gi |-|Gi |-|Gi |-|Gi |-|Gi |-|Gi |-|Gi |-|Gi |-|Gi |-|Gi |-|Gi |-|Gi |-|Gi |-|Gi |-|Gi |-|Gi |-|Gi |-|Gi |-|Gi |-|Gi |-|Gi |-|Gi |-|Gi |-|Gi |-|Gi |-|Gi |-|Gi |-|Gi |-|Gi |-|Gi |-|Gi |-|Gi |-|Gi |-|Gi |-|Gi |-|Gi |-|Gi |-Gcphase:5:6|-||Gp |-|Gp |-|Gi |-|Gi |-|Gi |-|Gi |-|Gi |-|Gi |-|Gi |-|Gi |-|Gi |-|Gi |-|Gi |-|Gi |-|Gi |-|Gi |-|Gi |-|Gi |-|Gi |-|Gi |-|Gi |-|Gi |-|Gi |-|Gi |-|Gi |-|Gi |-|Gi |-|Gi |-|Gi |-Gcphase:5:6|-||Gp |-|Gp |-|Gi |-|Gi |-|Gi |-|Gi |-|Gi |-|Gi |-|Gi |-|Gi |-|Gi |-|Gi |-|Gi |-|Gi |-|Gi |-|Gi |-|Gi |-|Gi |-|Gi |-|Gi |-|Gi |-|Gi |-|Gi |-|Gi |-|Gi |-|Gi |-|Gi |-|Gi |-|Gi |-|Gi |-|Gi |-|Gi |-Gcphase:5:6|-||Gp |-|Gp |-|Gi |-|Gi |-|Gi |-|Gi |-|Gi |-|Gi |-|Gi |-|Gi |-|Gi |-|Gi |-|Gi |-|Gi |-|Gi |-|Gi |-|Gi |-Gcphase:5:6|-||Gp |-|Gh |-Gcphase:6:7|-||Gh |-|Gp |-|Gi |-|Gi |-|Gi |-|Gi |-|Gi |-|Gi |-|Gi |-|Gi |-|Gi |-|Gi |-|Gi |-|Gi |-Gcphase:5:6|-||Gp |-|Gp |-|Gi |-|Gi |-|Gi |-|Gi |-|Gi |-|Gi |-|Gi |-|Gi |-|Gi |-|Gi |-|Gi |-|Gi |-|Gi |-|Gi |-|Gi |-|Gi |-|Gi |-|Gi |-|Gi |-|Gi |-|Gi |-Gcphase:5:6|-||Gp |-|Gh |-Gcphase:6:7|-||Gh |-|Gp |-Gcphase:5:6|-||Gp |-|Gp |-|Gi |-|Gi |-|Gi |-|Gi |-|Gi |-|Gi |-|Gi |-|Gi |-|Gi |-|Gi |-|Gi |-|Gi |-|Gi |-|Gi |-|Gi |-|Gi |-|Gi |-|Gi |-|Gi |-|Gi |-|Gi |-Gcphase:5:6|-||Gp |-|Gp |-Gcphase:5:6|-||Gp |-|Gp |-|Gi |-|Gi |-|Gi |-Gcphase:5:6|-||Gp |-|Gp |-|Gi |-|Gi |-|Gi |-Gcphase:5:6|-||Gp |-|Gh |-Gcphase:6:7|-||Gh |-|Gp |-Gcphase:5:6|-||Gp |-|Gp |-|Gi |-|Gi |-|Gi |-Gcphase:5:6|-||Gp |-|Gh |-Gcphase:6:7|-||Gh |-|Gp |-Gcphase:5:6|-||Gp |-|Gp |-|Gi |-|Gi |-|Gi |-Gcphase:5:6|-||Gp |-|Gh |-Gcphase:6:7|-||Gh |-|Gp |-Gcphase:5:6|-||Gp |-|Gh |-Gcphase:6:7|-||Gh |-|Gp |-Gcphase:5:6|-||Gp |-|Gh |-Gcphase:6:7|-||Gh |-|Gh |-Gcphase:5:6|-||Gh |-|Gh |-|Gi |-|Gi |-|Gi |-Gcphase:5:6|-||Gh |-|Gp |-Gcphase:6:7|-||Gp |-|Gh |-Gcphase:5:6|-||Gh |-|Gh |-|Gi |-|Gi |-|Gi |-Gcphase:5:6|-||Gh |-|Gp |-Gcphase:6:7|-||Gp |-|Gh |-Gcphase:5:6|-||Gh |-|Gh |-|Gi |-|Gi |-|Gi |-Gcphase:5:6|-||Gh |-|Gh |-|Gi |-|Gi |-|Gi |-Gcphase:5:6|-||Gh |-|Gh |-|Gi |-|Gi |-|Gi |-Gcphase:5:6|-||Gh |-|Gp |-Gcphase:6:7|-||Gp |-|Gh |-Gcphase:5:6|-||Gh |-|Gh |-|Gi |-|Gi |-|Gi |-|Gi |-|Gi |-|Gi |-|Gi |-|Gi |-|Gi |-|Gi |-|Gi |-|Gi |-|Gi |-|Gi |-|Gi |-Gcphase:5:6|-||Gh |-|Gp |-Gcphase:6:7|-||Gp |-|Gh |-Gcphase:5:6|-||Gh |-|Gh |-|Gi |-|Gi |-|Gi |-|Gi |-|Gi |-|Gi |-|Gi |-|Gi |-|Gi |-|Gi |-|Gi |-|Gi |-|Gi |-|Gi |-|Gi |-Gcphase:5:6|-||Gh |-|Gh |-|Gi |-|Gi |-|Gi |-|Gi |-|Gi |-|Gi |-|Gi |-|Gi |-|Gi |-Gcphase:5:6|-||Gh |-|Gh |-|Gi |-|Gi |-|Gi |-|Gi |-|Gi |-|Gi |-|Gi |-|Gi |-|Gi |-|Gi |-|Gi |-|Gi |-Gcphase:5:6|-||Gh |-|Gh |-|Gi |-|Gi |-|Gi |-|Gi |-|Gi |-|Gi |-|Gi |-|Gi |-|Gi |-|Gi |-|Gi |-|Gi |-|Gi |-|Gi |-|Gi |-Gcphase:5:6|-||Gh |-|Gh |-|Gi |-|Gi |-|Gi |-|Gi |-|Gi |-|Gi |-|Gi |-|Gi |-|Gi |-|Gi |-|Gi |-|Gi |-|Gi |-|Gi |-|Gi |-Gcphase:5:6|-||Gh |-|Gh |-|Gi |-|Gi |-|Gi |-|Gi |-|Gi |-|Gi |-|Gi |-|Gi |-|Gi |-|Gi |-|Gi |-|Gi |-|Gi |-|Gi |-|Gi |-|Gi |-|Gi |-|Gi |-|Gi |-|Gi |-|Gi |-|Gi |-|Gi |-|Gi |-|Gi |-|Gi |-|Gi |-Gcphase:5:6|-||Gh |-|Gp |-|Gh |-|Gi |-|Gi |-|Gi |-|Gi |-|Gi |-|Gi |-|Gi |-|Gi |-|Gi |-|Gi |-|Gi |-|Gi |-|Gi |-|Gi |-|Gi |-|Gi |-|Gi |-|Gi |-|Gi |-|Gi |-|Gi |-|Gi |-|Gi |-|Gi |-|Gi |-|Gi |-|Gi |-|Gi |-|Gi |-|Gi |-|Gi |-|Gi |-|Gi |-|Gi |-|Gi |-|Gi |-|Gi |-|Gi |-|Gi |-|Gi |-|Gi |-|Gi |-|Gi |-|Gi |-|Gi |-|Gi |-|Gi |-|Gi |-|Gi |-|Gi |-|Gi |-|Gi |-|Gi |-|Gi |-|Gi |-|Gi |-|Gi |-|Gi |-|Gi |-|Gi |-|Gi |-|Gi |-|Gi |-|Gi |-|Gi |-|Gi |-|Gi |-|Gi |-|Gi |-|Gi |-|Gi |-|Gi |-|Gi |-|Gi |-|Gi |-|Gi |-|Gi |-|Gi |-|Gi |-|Gi |-|Gi |-|Gi |-|Gi |-|Gi |-|Gi |-|Gi |-|Gi |-|Gi |-|Gi |-|Gi |-|Gi |-|Gi |-|Gi |-|Gi |-|Gi |-|Gi |-|Gi |-|Gi |-|Gi |-|Gi |-|Gi |-|Gi |-|Gi |-|Gi |-|Gi |-|Gi |-|Gi |-|Gi |-|Gi |-|Gi |-|Gi |-|Gi |-|Gi |-|Gi |-|Gi |-|Gi |-|Gi |-|Gi |-|Gi |-|Gi |-|Gi |-|Gi |-|Gi |-|Gi |-|Gi |-|Gi |-|Gi |-|Gi |-|Gi |-|Gi |-|Gi |-|Gi |-|Gi |-|Gi |-|Gi |-|Gi |-|Gi |-|Gi |-|Gi |-|Gi |-|Gi |-|Gi |-|Gi |-|Gi |-|Gi |-|Gi |-|Gi |-|Gi |-|Gi |-|Gi |-|Gi |-|Gi |-|Gi |-|Gi |-|Gi |-|Gi |-|Gi |-|Gi |-|Gi |-|Gi |-|Gi |-|Gi |-|Gi |-|Gi |---\n",
      "Qubit 7 ---|Gh |-|Gp |-|Gh |-|Gi |-|Gi |-|Gi |-|Gi |-|Gi |-|Gi |-|Gi |-|Gi |-|Gi |-|Gi |-|Gi |-|Gi |-|Gi |-|Gi |-|Gi |-|Gi |-|Gi |-|Gi |-|Gi |-|Gi |-|Gi |-|Gi |-|Gi |-|Gi |-|Gi |-|Gi |-|Gi |-|Gi |-|Gi |-|Gi |-|Gi |-|Gi |-|Gi |-|Gi |-|Gi |-|Gi |-|Gi |-|Gi |-|Gi |-|Gi |-|Gi |-|Gi |-|Gi |-|Gi |-|Gi |-|Gi |-|Gi |-|Gi |-|Gi |-|Gi |-|Gi |-|Gi |-|Gi |-|Gi |-|Gi |-|Gi |-|Gi |-|Gi |-|Gi |-|Gi |-|Gi |-|Gi |-|Gi |-|Gi |-|Gi |-|Gi |-|Gi |-|Gi |-|Gi |-|Gi |-|Gi |-|Gi |-|Gi |-|Gi |-|Gi |-|Gi |-|Gi |-|Gi |-|Gi |-|Gi |-|Gi |-|Gi |-|Gi |-|Gi |-|Gi |-|Gi |-|Gi |-|Gi |-|Gi |-|Gi |-|Gi |-|Gi |-|Gi |-|Gi |-|Gi |-|Gi |-|Gi |-|Gi |-|Gi |-|Gi |-|Gi |-|Gi |-|Gi |-|Gi |-|Gi |-|Gi |-|Gi |-|Gi |-|Gi |-|Gi |-|Gi |-|Gi |-|Gi |-|Gi |-|Gi |-|Gi |-|Gi |-|Gi |-|Gi |-|Gi |-|Gi |-|Gi |-|Gi |-|Gi |-|Gi |-|Gi |-|Gi |-|Gi |-|Gi |-|Gi |-|Gi |-|Gi |-|Gi |-|Gi |-|Gi |-|Gi |-|Gi |-|Gi |-|Gi |-|Gi |-|Gi |-|Gi |-|Gi |-|Gi |-|Gi |-|Gi |-|Gi |-|Gi |-|Gi |-|Gi |-|Gi |-|Gi |-|Gi |-|Gi |-|Gi |-|Gi |-|Gi |-|Gi |-|Gi |-|Gi |-|Gi |-|Gi |-|Gi |-|Gi |-|Gi |-|Gi |-|Gi |-|Gi |-|Gi |-|Gi |-|Gi |-|Gi |-|Gi |-|Gi |-|Gi |-|Gi |-|Gi |-|Gi |-|Gi |-|Gi |-|Gi |-|Gi |-|Gi |-|Gi |-|Gi |-|Gi |-|Gi |-|Gi |-|Gi |-|Gi |-|Gi |-|Gi |-|Gi |-|Gi |-|Gi |-|Gi |-|Gi |-|Gi |-|Gi |-|Gi |-|Gi |-|Gi |-|Gi |-|Gi |-|Gi |-|Gi |-|Gi |-|Gi |-|Gi |-|Gi |-|Gi |-|Gi |-|Gi |-|Gi |-|Gi |-|Gi |-|Gi |-|Gi |-|Gi |-|Gi |-|Gi |-|Gi |-|Gi |-|Gi |-|Gi |-|Gi |-|Gi |-|Gi |-|Gi |-|Gi |-|Gi |-|Gi |-|Gi |-|Gi |-|Gi |-|Gi |-|Gi |-|Gi |-|Gi |-|Gi |-|Gi |-|Gi |-|Gi |-|Gi |-|Gi |-|Gi |-|Gi |-|Gi |-|Gi |-|Gi |-|Gi |-|Gi |-|Gi |-|Gi |-|Gi |-|Gi |-|Gi |-|Gi |-|Gi |-|Gi |-|Gi |-|Gi |-|Gi |-|Gi |-|Gi |-|Gi |-|Gi |-|Gi |-|Gi |-|Gi |-|Gi |-|Gi |-|Gi |-|Gi |-|Gi |-|Gi |-|Gi |-|Gi |-|Gi |-Gcphase:6:7|-||Gh |-|Gh |-|Gi |-|Gi |-|Gi |-|Gi |-|Gi |-|Gi |-|Gi |-|Gi |-|Gi |-|Gi |-|Gi |-|Gi |-|Gi |-|Gi |-|Gi |-|Gi |-|Gi |-|Gi |-|Gi |-|Gi |-|Gi |-|Gi |-|Gi |-|Gi |-|Gi |-|Gi |-|Gi |-|Gi |-|Gi |-|Gi |-|Gi |-|Gi |-|Gi |-Gcphase:6:7|-||Gh |-|Gh |-|Gi |-|Gi |-|Gi |-|Gi |-|Gi |-|Gi |-|Gi |-|Gi |-|Gi |-|Gi |-|Gi |-|Gi |-|Gi |-|Gi |-|Gi |-|Gi |-|Gi |-|Gi |-|Gi |-|Gi |-|Gi |-|Gi |-|Gi |-|Gi |-|Gi |-|Gi |-|Gi |-|Gi |-|Gi |-|Gi |-Gcphase:6:7|-||Gh |-|Gh |-|Gi |-|Gi |-|Gi |-|Gi |-|Gi |-|Gi |-|Gi |-|Gi |-|Gi |-|Gi |-|Gi |-|Gi |-|Gi |-|Gi |-|Gi |-|Gi |-|Gi |-|Gi |-|Gi |-|Gi |-|Gi |-|Gi |-|Gi |-|Gi |-|Gi |-|Gi |-|Gi |-Gcphase:6:7|-||Gh |-|Gh |-|Gi |-|Gi |-|Gi |-|Gi |-|Gi |-|Gi |-|Gi |-|Gi |-|Gi |-|Gi |-|Gi |-|Gi |-|Gi |-|Gi |-|Gi |-|Gi |-|Gi |-|Gi |-|Gi |-|Gi |-|Gi |-|Gi |-|Gi |-|Gi |-Gcphase:6:7|-||Gh |-|Gh |-|Gi |-|Gi |-|Gi |-|Gi |-|Gi |-|Gi |-|Gi |-|Gi |-|Gi |-|Gi |-|Gi |-|Gi |-|Gi |-|Gi |-|Gi |-|Gi |-|Gi |-|Gi |-|Gi |-|Gi |-|Gi |-Gcphase:6:7|-||Gh |-|Gh |-|Gi |-|Gi |-|Gi |-|Gi |-|Gi |-|Gi |-|Gi |-|Gi |-|Gi |-|Gi |-|Gi |-|Gi |-|Gi |-|Gi |-|Gi |-Gcphase:6:7|-||Gh |-|Gh |-|Gi |-|Gi |-|Gi |-|Gi |-|Gi |-|Gi |-|Gi |-|Gi |-|Gi |-Gcphase:6:7|-||Gh |-|Gp |-|Gi |-|Gi |-|Gi |-Gcphase:6:7|-||Gp |-|Gp |-|Gi |-|Gi |-|Gi |-|Gi |-|Gi |-|Gi |-|Gi |-|Gi |-|Gi |-Gcphase:6:7|-||Gp |-|Gh |-|Gi |-|Gi |-|Gi |-|Gi |-|Gi |-|Gi |-|Gi |-|Gi |-|Gi |-|Gi |-|Gi |-|Gi |-|Gi |-|Gi |-|Gi |-Gcphase:6:7|-||Gh |-|Gh |-|Gi |-|Gi |-|Gi |-|Gi |-|Gi |-|Gi |-|Gi |-|Gi |-|Gi |-Gcphase:6:7|-||Gh |-|Gh |-|Gi |-|Gi |-|Gi |-|Gi |-|Gi |-|Gi |-Gcphase:6:7|-||Gh |-|Gh |-|Gi |-|Gi |-|Gi |-Gcphase:6:7|-||Gh |-|Gp |-Gcphase:6:7|-||Gp |-|Gp |-|Gi |-|Gi |-|Gi |-Gcphase:6:7|-||Gp |-|Gp |-|Gi |-|Gi |-|Gi |-Gcphase:6:7|-||Gp |-|Gp |-|Gi |-|Gi |-|Gi |-|Gi |-|Gi |-|Gi |-|Gi |-|Gi |-|Gi |-Gcphase:6:7|-||Gp |-|Gp |-|Gi |-|Gi |-|Gi |-|Gi |-|Gi |-|Gi |-|Gi |-|Gi |-|Gi |-Gcphase:6:7|-||Gp |-|Gp |-|Gi |-|Gi |-|Gi |-|Gi |-|Gi |-|Gi |-|Gi |-|Gi |-|Gi |-|Gi |-|Gi |-|Gi |-|Gi |-|Gi |-|Gi |-Gcphase:6:7|-||Gp |-|Gp |-|Gi |-|Gi |-|Gi |-|Gi |-|Gi |-|Gi |-|Gi |-|Gi |-|Gi |-|Gi |-|Gi |-|Gi |-|Gi |-|Gi |-|Gi |-|Gi |-|Gi |-|Gi |-|Gi |-|Gi |-|Gi |-|Gi |-|Gi |-|Gi |-|Gi |-|Gi |-|Gi |-|Gi |-|Gi |-|Gi |-Gcphase:6:7|-||Gp |-|Gp |-|Gi |-|Gi |-|Gi |-|Gi |-|Gi |-|Gi |-|Gi |-|Gi |-|Gi |-|Gi |-|Gi |-|Gi |-|Gi |-|Gi |-|Gi |-|Gi |-|Gi |-|Gi |-|Gi |-|Gi |-|Gi |-|Gi |-|Gi |-|Gi |-|Gi |-|Gi |-|Gi |-Gcphase:6:7|-||Gp |-|Gp |-|Gi |-|Gi |-|Gi |-|Gi |-|Gi |-|Gi |-|Gi |-|Gi |-|Gi |-|Gi |-|Gi |-|Gi |-|Gi |-|Gi |-|Gi |-|Gi |-|Gi |-|Gi |-|Gi |-|Gi |-|Gi |-Gcphase:6:7|-||Gp |-|Gp |-|Gi |-|Gi |-|Gi |-|Gi |-|Gi |-|Gi |-|Gi |-|Gi |-|Gi |-|Gi |-|Gi |-|Gi |-|Gi |-|Gi |-|Gi |-|Gi |-|Gi |-|Gi |-|Gi |-|Gi |-|Gi |-|Gi |-|Gi |-|Gi |-|Gi |-|Gi |-|Gi |-|Gi |-|Gi |-|Gi |-|Gi |-|Gi |-|Gi |-Gcphase:6:7|-||Gp |-|Gp |-|Gi |-|Gi |-|Gi |-|Gi |-|Gi |-|Gi |-|Gi |-|Gi |-|Gi |-|Gi |-|Gi |-|Gi |-|Gi |-|Gi |-|Gi |-|Gi |-|Gi |-|Gi |-|Gi |-|Gi |-|Gi |-|Gi |-|Gi |-|Gi |-|Gi |-|Gi |-|Gi |-|Gi |-|Gi |-|Gi |-|Gi |-|Gi |-|Gi |-|Gi |-|Gi |-|Gi |-|Gi |-|Gi |-|Gi |-|Gi |-|Gi |-|Gi |-|Gi |-|Gi |-|Gi |-|Gi |-|Gi |-|Gi |-|Gi |-|Gi |-|Gi |-|Gi |-|Gi |-|Gi |-|Gi |-|Gi |-|Gi |-|Gi |-|Gi |-|Gi |-|Gi |-|Gi |-|Gi |-|Gi |-|Gi |-|Gi |-|Gi |-|Gi |-|Gi |-|Gi |-|Gi |-|Gi |-|Gi |-|Gi |-|Gi |-Gcphase:6:7|-||Gp |-|Gp |-|Gi |-|Gi |-|Gi |-|Gi |-|Gi |-|Gi |-|Gi |-|Gi |-|Gi |-|Gi |-|Gi |-|Gi |-|Gi |-|Gi |-|Gi |-|Gi |-|Gi |-|Gi |-|Gi |-|Gi |-|Gi |-|Gi |-|Gi |-|Gi |-|Gi |-|Gi |-|Gi |-|Gi |-|Gi |-|Gi |-|Gi |-|Gi |-|Gi |-|Gi |-|Gi |-|Gi |-|Gi |-|Gi |-|Gi |-|Gi |-|Gi |-|Gi |-|Gi |-|Gi |-|Gi |-|Gi |-|Gi |-|Gi |-|Gi |-|Gi |-|Gi |-Gcphase:6:7|-||Gp |-|Gh |-|Gh |-|Gp |-|Gp |-|Gh |-|Gi |-|Gi |-|Gi |-|Gi |-|Gi |-|Gi |-|Gi |-|Gi |-|Gi |-|Gi |-|Gi |-|Gi |-|Gi |-|Gi |-|Gi |-|Gi |-|Gi |-|Gi |-|Gi |-|Gi |-|Gi |-|Gi |-|Gi |-|Gi |-|Gi |-|Gi |-|Gi |-|Gi |-|Gi |-|Gi |-|Gi |-|Gi |-|Gi |-|Gi |-|Gi |-|Gi |-|Gi |-|Gi |-|Gi |-|Gi |-|Gi |-|Gi |-|Gi |-|Gi |-|Gi |-|Gi |-|Gi |-|Gi |-|Gi |-|Gi |-|Gi |-|Gi |-|Gi |-|Gi |-|Gi |-|Gi |-|Gi |-|Gi |-|Gi |-|Gi |-|Gi |-|Gi |-|Gi |-|Gi |-|Gi |-|Gi |-|Gi |-|Gi |-|Gi |-|Gi |-|Gi |-|Gi |-|Gi |-|Gi |-|Gi |-|Gi |-|Gi |-|Gi |-|Gi |-|Gi |-|Gi |-|Gi |-|Gi |-|Gi |-|Gi |-|Gi |-|Gi |-|Gi |-|Gi |-|Gi |-|Gi |-|Gi |-|Gi |-|Gi |-|Gi |-|Gi |-|Gi |-|Gi |-|Gi |-|Gi |-|Gi |-|Gi |-|Gi |-|Gi |-|Gi |-|Gi |-|Gi |-|Gi |-|Gi |-|Gi |-|Gi |-|Gi |-|Gi |-|Gi |-|Gi |-|Gi |-|Gi |-|Gi |-|Gi |-|Gi |-|Gi |-|Gi |-|Gi |-|Gi |-|Gi |-|Gi |-|Gi |-|Gi |-|Gi |-|Gi |-|Gi |-|Gi |-|Gi |-|Gi |-|Gi |-|Gi |-|Gi |-|Gi |-|Gi |-|Gi |-|Gi |-|Gi |-|Gi |-|Gi |-|Gi |-|Gi |-|Gi |-|Gi |-|Gi |-|Gi |-|Gi |-|Gi |-|Gi |-|Gi |-|Gi |-|Gi |-|Gi |-|Gi |-|Gi |-|Gi |-|Gi |-|Gi |-|Gi |-|Gi |-|Gi |-|Gi |-|Gi |-|Gi |-|Gi |-|Gi |-|Gi |-|Gi |-|Gi |-|Gi |-|Gi |-|Gi |-|Gi |-|Gi |-|Gi |-|Gi |-|Gi |-|Gi |-|Gi |-|Gi |-|Gi |-|Gi |-|Gi |-|Gi |-|Gi |-|Gi |-|Gi |-|Gi |-|Gi |-|Gi |-|Gi |-|Gi |-|Gi |-|Gi |-|Gi |-|Gi |-|Gi |-|Gi |-|Gi |-|Gi |-|Gi |-|Gi |-|Gi |-|Gi |-|Gi |-|Gi |-|Gi |-|Gi |-|Gi |-|Gi |-|Gi |-|Gi |-|Gi |-|Gi |-|Gi |-|Gi |-|Gi |-|Gi |-|Gi |-|Gi |-|Gi |-|Gi |-|Gi |-|Gi |-|Gi |-|Gi |-|Gi |-|Gi |-|Gi |-|Gi |-|Gi |-|Gi |-|Gi |-|Gi |-|Gi |-|Gi |-|Gi |-|Gi |-|Gi |-|Gi |-|Gi |-|Gi |-|Gi |-|Gi |-|Gi |-|Gi |-|Gi |-|Gi |-|Gi |-|Gi |-|Gi |-|Gi |-|Gi |-|Gi |-|Gi |-|Gi |-|Gi |-|Gi |-|Gi |-|Gi |-|Gi |-|Gh |-|Gp |-|Gp |-|Gh |-|Gp |-|Gi |-|Gi |-|Gi |-|Gi |-|Gi |-|Gi |-|Gi |-|Gi |-|Gi |-|Gi |-|Gi |-|Gi |-|Gi |-|Gi |-|Gi |-|Gi |-|Gi |-|Gi |-|Gi |-|Gi |-|Gi |-|Gi |-|Gi |-|Gi |-|Gi |-|Gi |-|Gi |-|Gi |-|Gi |-|Gi |-|Gi |-|Gi |-|Gi |-|Gi |-|Gi |-|Gi |-|Gi |-|Gi |-|Gi |-|Gi |-|Gi |-|Gi |-|Gi |-|Gi |-|Gi |-|Gi |-|Gi |-|Gi |-|Gi |-|Gi |-|Gi |-|Gi |-|Gi |-|Gi |-|Gi |-|Gi |-|Gi |-|Gi |-|Gi |-|Gi |-|Gi |-|Gi |-|Gi |-|Gi |-|Gi |-|Gi |-|Gi |-|Gi |-|Gi |-|Gi |-|Gi |-|Gi |-|Gi |-|Gi |-|Gi |-|Gi |-|Gi |-|Gi |-|Gi |-|Gi |-|Gi |-|Gi |-|Gi |-|Gi |-|Gi |-|Gi |-|Gi |-|Gi |-|Gi |-|Gi |-|Gi |-|Gi |-|Gi |-|Gi |-|Gi |-|Gi |-|Gi |-|Gi |-|Gi |-|Gi |-|Gi |-|Gi |-|Gi |-|Gi |-|Gi |-|Gi |-|Gi |-|Gi |-|Gi |-|Gi |-|Gi |-|Gi |-|Gi |-|Gi |-|Gi |-|Gi |-|Gi |-|Gi |-|Gi |-|Gi |-|Gi |-|Gi |-|Gi |-|Gi |-|Gi |-|Gi |-|Gi |-|Gi |-|Gi |-|Gi |-|Gi |-|Gi |-|Gi |-|Gi |-|Gi |-|Gi |-|Gi |-|Gi |-|Gi |-|Gi |-|Gi |-|Gi |-|Gi |-|Gi |-|Gi |-|Gi |-|Gi |-|Gi |-|Gi |-|Gi |-|Gi |-|Gi |-|Gi |-|Gi |-|Gi |-|Gi |-Gcphase:6:7|-||Gp |-|Gp |-|Gi |-|Gi |-|Gi |-|Gi |-|Gi |-|Gi |-|Gi |-|Gi |-|Gi |-|Gi |-|Gi |-|Gi |-|Gi |-|Gi |-|Gi |-|Gi |-|Gi |-|Gi |-|Gi |-|Gi |-|Gi |-|Gi |-|Gi |-|Gi |-|Gi |-|Gi |-|Gi |-|Gi |-|Gi |-|Gi |-|Gi |-|Gi |-|Gi |-|Gi |-|Gi |-|Gi |-|Gi |-|Gi |-|Gi |-Gcphase:6:7|-||Gp |-|Gp |-|Gi |-|Gi |-|Gi |-|Gi |-|Gi |-|Gi |-|Gi |-|Gi |-|Gi |-|Gi |-|Gi |-|Gi |-|Gi |-|Gi |-|Gi |-|Gi |-|Gi |-|Gi |-|Gi |-|Gi |-|Gi |-|Gi |-|Gi |-|Gi |-|Gi |-|Gi |-|Gi |-|Gi |-|Gi |-|Gi |-|Gi |-|Gi |-|Gi |-|Gi |-|Gi |-|Gi |-|Gi |-|Gi |-|Gi |-|Gi |-|Gi |-|Gi |-Gcphase:6:7|-||Gp |-|Gp |-|Gi |-|Gi |-|Gi |-|Gi |-|Gi |-|Gi |-|Gi |-|Gi |-|Gi |-Gcphase:6:7|-||Gp |-|Gp |-|Gi |-|Gi |-|Gi |-|Gi |-|Gi |-|Gi |-|Gi |-|Gi |-|Gi |-Gcphase:6:7|-||Gp |-|Gp |-|Gi |-|Gi |-|Gi |-Gcphase:6:7|-||Gp |-|Gp |-|Gi |-|Gi |-|Gi |-Gcphase:6:7|-||Gp |-|Gh |-|Gi |-|Gi |-|Gi |-|Gi |-|Gi |-|Gi |-|Gi |-|Gi |-|Gi |-Gcphase:6:7|-||Gh |-|Gh |-|Gi |-|Gi |-|Gi |-|Gi |-|Gi |-|Gi |-|Gi |-|Gi |-|Gi |-Gcphase:6:7|-||Gh |-|Gh |-|Gi |-|Gi |-|Gi |-|Gi |-|Gi |-|Gi |-|Gi |-|Gi |-|Gi |-|Gi |-|Gi |-|Gi |-|Gi |-|Gi |-|Gi |-|Gi |-|Gi |-|Gi |-|Gi |-|Gi |-|Gi |-Gcphase:6:7|-||Gh |-|Gh |-|Gi |-|Gi |-|Gi |-|Gi |-|Gi |-|Gi |-|Gi |-|Gi |-|Gi |-|Gi |-|Gi |-|Gi |-|Gi |-|Gi |-|Gi |-|Gi |-|Gi |-|Gi |-|Gi |-|Gi |-|Gi |-Gcphase:6:7|-||Gh |-|Gp |-|Gh |-|Gi |-|Gi |-|Gi |-|Gi |-|Gi |-|Gi |-|Gi |-|Gi |-|Gi |-|Gi |-|Gi |-|Gi |-|Gi |-|Gi |-|Gi |-|Gi |-|Gi |-|Gi |-|Gi |-|Gi |-|Gi |-|Gi |-|Gi |-|Gi |-|Gi |-|Gi |-|Gi |-|Gi |-|Gi |-|Gi |-|Gi |-|Gi |-|Gi |-|Gi |-|Gi |-|Gi |-|Gi |-|Gi |-|Gi |-|Gi |-|Gi |-|Gi |-|Gi |-|Gi |-|Gi |-|Gi |-|Gi |-|Gi |-|Gi |-|Gi |-|Gi |-|Gi |-|Gi |-|Gi |-|Gi |-|Gi |-|Gi |-|Gi |-|Gi |-|Gi |-|Gi |-|Gi |-|Gi |-|Gi |-|Gi |-|Gi |-|Gi |-|Gi |-|Gi |-|Gi |-|Gi |-|Gi |-|Gi |-|Gi |-|Gi |-|Gi |-|Gi |-|Gi |-|Gi |-|Gi |-|Gi |-|Gi |-|Gi |-|Gi |-|Gi |-|Gi |-|Gi |-|Gi |-|Gi |-|Gi |-|Gi |-|Gi |-|Gi |-|Gi |-|Gi |-|Gi |-|Gi |-|Gi |-|Gi |-|Gi |-|Gi |-|Gi |-|Gi |-|Gi |-|Gi |-|Gi |-|Gi |-|Gi |-|Gi |-|Gi |-|Gi |-|Gi |-|Gi |-|Gi |-|Gi |-|Gi |-|Gi |-|Gi |-|Gi |-|Gi |-|Gi |-|Gi |-|Gi |-|Gi |-|Gi |-|Gi |-|Gi |-|Gi |-|Gi |-|Gi |-|Gi |-|Gi |-|Gi |-|Gi |-|Gi |-|Gi |-|Gi |-|Gi |-|Gi |-|Gi |-|Gi |-|Gi |-|Gi |-|Gi |-|Gi |-|Gi |-|Gi |-|Gi |-|Gi |-|Gi |-|Gi |-|Gi |-|Gi |-|Gi |-|Gi |-|Gi |-|Gi |-|Gi |-|Gi |-|Gi |-|Gi |-|Gi |-|Gi |-|Gi |-|Gi |-|Gi |-|Gi |-|Gi |-|Gi |-|Gi |-|Gi |-|Gi |-|Gi |-|Gi |-|Gi |-|Gi |-|Gi |-|Gi |-|Gi |-|Gi |-|Gi |-|Gi |-|Gi |-|Gi |-|Gi |-|Gi |-|Gi |-|Gi |-|Gi |-|Gi |-|Gi |-|Gi |-|Gi |-|Gi |-|Gi |-|Gi |-|Gi |-|Gi |-|Gi |-|Gi |-|Gi |-|Gi |-|Gi |-|Gi |-|Gi |-|Gi |-|Gi |-|Gi |-|Gi |-|Gi |-|Gi |-|Gi |-|Gi |-|Gi |-|Gi |-|Gi |-|Gi |-|Gi |-|Gi |-|Gi |-|Gi |-|Gi |-|Gi |-|Gi |-|Gi |-|Gi |-|Gi |-|Gi |-|Gi |-|Gi |-|Gi |-|Gi |-|Gi |-|Gi |-|Gi |-|Gi |-|Gi |-|Gi |-|Gi |-|Gi |-|Gi |-|Gi |-|Gi |-|Gi |-|Gi |-|Gi |-|Gi |-|Gi |-|Gi |-|Gi |-|Gi |-|Gi |-|Gi |-|Gi |-|Gi |-|Gi |-|Gi |-|Gi |-|Gi |-|Gi |-|Gi |-|Gi |-|Gi |-|Gi |-|Gi |-|Gi |-|Gi |-|Gi |-|Gi |-|Gi |-|Gi |-|Gi |-|Gi |-|Gi |-|Gi |-|Gi |-|Gi |-|Gi |---\n",
      "\n"
     ]
    },
    {
     "ename": "KeyError",
     "evalue": "Label('H', 0)",
     "output_type": "error",
     "traceback": [
      "\u001b[0;31m---------------------------------------------------------------------------\u001b[0m",
      "\u001b[0;31mKeyError\u001b[0m                                  Traceback (most recent call last)",
      "\u001b[0;32m<ipython-input-19-7a0797bd1bd1>\u001b[0m in \u001b[0;36m<module>\u001b[0;34m()\u001b[0m\n\u001b[1;32m    108\u001b[0m     simulate_rb(pspec[n], K[n], lengths_prb[n], filename+'_prb.txt', errortype, 'PRB', sampler,\n\u001b[1;32m    109\u001b[0m                 \u001b[0msampler_args\u001b[0m\u001b[0;34m[\u001b[0m\u001b[0mn\u001b[0m\u001b[0;34m]\u001b[0m\u001b[0;34m,\u001b[0m \u001b[0mappenddata\u001b[0m\u001b[0;34m=\u001b[0m\u001b[0mappenddata\u001b[0m\u001b[0;34m,\u001b[0m \u001b[0malternatewithlocal\u001b[0m\u001b[0;34m=\u001b[0m\u001b[0malternatewithlocal\u001b[0m\u001b[0;34m,\u001b[0m\u001b[0;34m\u001b[0m\u001b[0m\n\u001b[0;32m--> 110\u001b[0;31m                 localtype=localtype, returndata=False)\n\u001b[0m\u001b[1;32m    111\u001b[0m \u001b[0;34m\u001b[0m\u001b[0m\n\u001b[1;32m    112\u001b[0m     \u001b[0;32mif\u001b[0m \u001b[0mruncrb\u001b[0m\u001b[0;34m:\u001b[0m\u001b[0;34m\u001b[0m\u001b[0m\n",
      "\u001b[0;32m<ipython-input-19-7a0797bd1bd1>\u001b[0m in \u001b[0;36msimulate_rb\u001b[0;34m(pspec, k, lengths, filename, mname, rbtype, sampler, sampler_args, appenddata, alternatewithlocal, localtype, returndata)\u001b[0m\n\u001b[1;32m     69\u001b[0m                      \u001b[0mf\u001b[0m\u001b[0;34m.\u001b[0m\u001b[0mwrite\u001b[0m\u001b[0;34m(\u001b[0m\u001b[0;34m'Starting simulation... '\u001b[0m\u001b[0;34m)\u001b[0m\u001b[0;34m\u001b[0m\u001b[0m\n\u001b[1;32m     70\u001b[0m \u001b[0;34m\u001b[0m\u001b[0m\n\u001b[0;32m---> 71\u001b[0;31m                 \u001b[0mout\u001b[0m \u001b[0;34m=\u001b[0m \u001b[0mc\u001b[0m\u001b[0;34m.\u001b[0m\u001b[0msimulate\u001b[0m\u001b[0;34m(\u001b[0m\u001b[0mpspec\u001b[0m\u001b[0;34m.\u001b[0m\u001b[0mmodels\u001b[0m\u001b[0;34m[\u001b[0m\u001b[0mmname\u001b[0m\u001b[0;34m]\u001b[0m\u001b[0;34m)\u001b[0m\u001b[0;34m\u001b[0m\u001b[0m\n\u001b[0m\u001b[1;32m     72\u001b[0m                 \u001b[0mpm\u001b[0m \u001b[0;34m=\u001b[0m \u001b[0mout\u001b[0m\u001b[0;34m[\u001b[0m\u001b[0;34m'0'\u001b[0m\u001b[0;34m*\u001b[0m\u001b[0mn\u001b[0m\u001b[0;34m]\u001b[0m\u001b[0;34m\u001b[0m\u001b[0m\n\u001b[1;32m     73\u001b[0m \u001b[0;34m\u001b[0m\u001b[0m\n",
      "\u001b[0;32m~/pyGSTi/packages/pygsti/objects/circuit.py\u001b[0m in \u001b[0;36msimulate\u001b[0;34m(self, gateset)\u001b[0m\n\u001b[1;32m    841\u001b[0m         \u001b[0mbeing\u001b[0m \u001b[0mable\u001b[0m \u001b[0mto\u001b[0m \u001b[0mdo\u001b[0m \u001b[0mcircuit\u001b[0m\u001b[0;34m.\u001b[0m\u001b[0msimulate\u001b[0m\u001b[0;34m(\u001b[0m\u001b[0;34m)\u001b[0m\u001b[0;34m...\u001b[0m\u001b[0;31m!\u001b[0m\u001b[0;34m\u001b[0m\u001b[0m\n\u001b[1;32m    842\u001b[0m         \"\"\"\n\u001b[0;32m--> 843\u001b[0;31m         \u001b[0;32mreturn\u001b[0m \u001b[0mgateset\u001b[0m\u001b[0;34m.\u001b[0m\u001b[0mprobs\u001b[0m\u001b[0;34m(\u001b[0m\u001b[0mself\u001b[0m\u001b[0;34m)\u001b[0m\u001b[0;34m\u001b[0m\u001b[0m\n\u001b[0m\u001b[1;32m    844\u001b[0m         \u001b[0;31m#return _sim.simulate(self,model,inputstate=inputstate,store=store,returnall=returnall)\u001b[0m\u001b[0;34m\u001b[0m\u001b[0;34m\u001b[0m\u001b[0m\n\u001b[1;32m    845\u001b[0m \u001b[0;34m\u001b[0m\u001b[0m\n",
      "\u001b[0;32m~/pyGSTi/packages/pygsti/objects/gateset.py\u001b[0m in \u001b[0;36mprobs\u001b[0;34m(self, gatestring, clipTo)\u001b[0m\n\u001b[1;32m   1343\u001b[0m             \u001b[0;32mfor\u001b[0m \u001b[0meach\u001b[0m \u001b[0mspam\u001b[0m \u001b[0mlabel\u001b[0m \u001b[0;34m(\u001b[0m\u001b[0mstring\u001b[0m\u001b[0;34m)\u001b[0m \u001b[0mSL\u001b[0m\u001b[0;34m.\u001b[0m\u001b[0;34m\u001b[0m\u001b[0m\n\u001b[1;32m   1344\u001b[0m         \"\"\"\n\u001b[0;32m-> 1345\u001b[0;31m         \u001b[0;32mreturn\u001b[0m \u001b[0mself\u001b[0m\u001b[0;34m.\u001b[0m\u001b[0m_calc\u001b[0m\u001b[0;34m(\u001b[0m\u001b[0;34m)\u001b[0m\u001b[0;34m.\u001b[0m\u001b[0mprobs\u001b[0m\u001b[0;34m(\u001b[0m\u001b[0mself\u001b[0m\u001b[0;34m.\u001b[0m\u001b[0mcompile_gatestring\u001b[0m\u001b[0;34m(\u001b[0m\u001b[0mgatestring\u001b[0m\u001b[0;34m)\u001b[0m\u001b[0;34m,\u001b[0m \u001b[0mclipTo\u001b[0m\u001b[0;34m)\u001b[0m\u001b[0;34m\u001b[0m\u001b[0m\n\u001b[0m\u001b[1;32m   1346\u001b[0m \u001b[0;34m\u001b[0m\u001b[0m\n\u001b[1;32m   1347\u001b[0m \u001b[0;34m\u001b[0m\u001b[0m\n",
      "\u001b[0;32m~/pyGSTi/packages/pygsti/objects/gatecalc.py\u001b[0m in \u001b[0;36mprobs\u001b[0;34m(self, compiled_gatestring, clipTo)\u001b[0m\n\u001b[1;32m    734\u001b[0m             \u001b[0;32mfor\u001b[0m \u001b[0mspamTuple\u001b[0m \u001b[0;32min\u001b[0m \u001b[0mspamTuples\u001b[0m\u001b[0;34m:\u001b[0m\u001b[0;34m\u001b[0m\u001b[0m\n\u001b[1;32m    735\u001b[0m                 probs[outcomeLbls[iOut]] = self.pr(\n\u001b[0;32m--> 736\u001b[0;31m                     spamTuple, raw_gatestring, clipTo, False)\n\u001b[0m\u001b[1;32m    737\u001b[0m                 \u001b[0miOut\u001b[0m \u001b[0;34m+=\u001b[0m \u001b[0;36m1\u001b[0m\u001b[0;34m\u001b[0m\u001b[0m\n\u001b[1;32m    738\u001b[0m         \u001b[0;32mreturn\u001b[0m \u001b[0mprobs\u001b[0m\u001b[0;34m\u001b[0m\u001b[0m\n",
      "\u001b[0;32m~/pyGSTi/packages/pygsti/objects/gatemapcalc.py\u001b[0m in \u001b[0;36mpr\u001b[0;34m(self, spamTuple, gatestring, clipTo, bUseScaling)\u001b[0m\n\u001b[1;32m    149\u001b[0m         \"\"\"\n\u001b[1;32m    150\u001b[0m         \u001b[0mrho\u001b[0m\u001b[0;34m,\u001b[0m\u001b[0mE\u001b[0m \u001b[0;34m=\u001b[0m \u001b[0mself\u001b[0m\u001b[0;34m.\u001b[0m\u001b[0m_rhoE_from_spamTuple\u001b[0m\u001b[0;34m(\u001b[0m\u001b[0mspamTuple\u001b[0m\u001b[0;34m)\u001b[0m\u001b[0;34m\u001b[0m\u001b[0m\n\u001b[0;32m--> 151\u001b[0;31m         \u001b[0mrho\u001b[0m \u001b[0;34m=\u001b[0m \u001b[0mself\u001b[0m\u001b[0;34m.\u001b[0m\u001b[0mpropagate_state\u001b[0m\u001b[0;34m(\u001b[0m\u001b[0mrho\u001b[0m\u001b[0;34m,\u001b[0m \u001b[0mgatestring\u001b[0m\u001b[0;34m)\u001b[0m\u001b[0;34m\u001b[0m\u001b[0m\n\u001b[0m\u001b[1;32m    152\u001b[0m         \u001b[0;32mif\u001b[0m \u001b[0mself\u001b[0m\u001b[0;34m.\u001b[0m\u001b[0munitary_evolution\u001b[0m\u001b[0;34m:\u001b[0m\u001b[0;34m\u001b[0m\u001b[0m\n\u001b[1;32m    153\u001b[0m             \u001b[0mp\u001b[0m \u001b[0;34m=\u001b[0m \u001b[0mfloat\u001b[0m\u001b[0;34m(\u001b[0m\u001b[0mabs\u001b[0m\u001b[0;34m(\u001b[0m\u001b[0m_np\u001b[0m\u001b[0;34m.\u001b[0m\u001b[0mdot\u001b[0m\u001b[0;34m(\u001b[0m\u001b[0mE\u001b[0m\u001b[0;34m,\u001b[0m\u001b[0mrho\u001b[0m\u001b[0;34m)\u001b[0m\u001b[0;34m)\u001b[0m\u001b[0;34m**\u001b[0m\u001b[0;36m2\u001b[0m\u001b[0;34m)\u001b[0m\u001b[0;34m\u001b[0m\u001b[0m\n",
      "\u001b[0;32m~/pyGSTi/packages/pygsti/objects/gatemapcalc.py\u001b[0m in \u001b[0;36mpropagate_state\u001b[0;34m(self, rho, gatestring)\u001b[0m\n\u001b[1;32m    116\u001b[0m         \"\"\"\n\u001b[1;32m    117\u001b[0m         \u001b[0;32mfor\u001b[0m \u001b[0mlbl\u001b[0m \u001b[0;32min\u001b[0m \u001b[0mgatestring\u001b[0m\u001b[0;34m:\u001b[0m\u001b[0;34m\u001b[0m\u001b[0m\n\u001b[0;32m--> 118\u001b[0;31m             \u001b[0mrho\u001b[0m \u001b[0;34m=\u001b[0m \u001b[0mself\u001b[0m\u001b[0;34m.\u001b[0m\u001b[0mgates\u001b[0m\u001b[0;34m[\u001b[0m\u001b[0mlbl\u001b[0m\u001b[0;34m]\u001b[0m\u001b[0;34m.\u001b[0m\u001b[0macton\u001b[0m\u001b[0;34m(\u001b[0m\u001b[0mrho\u001b[0m\u001b[0;34m)\u001b[0m \u001b[0;31m# LEXICOGRAPHICAL VS MATRIX ORDER\u001b[0m\u001b[0;34m\u001b[0m\u001b[0m\n\u001b[0m\u001b[1;32m    119\u001b[0m         \u001b[0;32mreturn\u001b[0m \u001b[0mrho\u001b[0m\u001b[0;34m\u001b[0m\u001b[0m\n\u001b[1;32m    120\u001b[0m \u001b[0;34m\u001b[0m\u001b[0m\n",
      "\u001b[0;31mKeyError\u001b[0m: Label('H', 0)"
     ]
    }
   ],
   "source": [
    "#%%px\n",
    "\n",
    "def simulate_rb(pspec, k, lengths, filename, mname, rbtype='PRB', sampler=None, sampler_args=None, appenddata=False,\n",
    "                alternatewithlocal=False, localtype='primitives', returndata=False):\n",
    "    \n",
    "    import time\n",
    "    \n",
    "    n = pspec.number_of_qubits\n",
    "    \n",
    "    if not appenddata:\n",
    "        with open(filename,'w') as f:\n",
    "            f.write('#length Pm circuitdepth 2Qgatecount\\n')\n",
    "    \n",
    "    # Temporary aux-file writing\n",
    "    auxfn = filename[:(len(filename)-4)] + '_aux.txt'\n",
    "    with open(auxfn,'w') as f:\n",
    "        f.write('# Aux\\n')\n",
    "            \n",
    "    if returndata:\n",
    "        pm_lst = []\n",
    "        circuit_2Qcount_lst = []\n",
    "        circuit_depth_lst = []\n",
    "\n",
    "        for l in lengths:\n",
    "            pm_lst.append([])\n",
    "            circuit_2Qcount_lst.append([])\n",
    "            circuit_depth_lst.append([])\n",
    "            \n",
    "    counter = 0\n",
    "    for i in range(0,k):\n",
    "        for j in range(0,len(lengths)):\n",
    "            l = lengths[j]\n",
    "            passed = False\n",
    "            \n",
    "            with open(auxfn,'a') as f:\n",
    "                    f.write('Start generating RB circuit... ')\n",
    "            \n",
    "            if rbtype == 'PRB':\n",
    "                t1 = time.time()\n",
    "                                  \n",
    "                while not passed:\n",
    "                    \n",
    "                    try:\n",
    "                        c = prb.sample_prb_circuit(pspec,l,sampler=sampler, sampler_args=sampler_args,   \n",
    "                                                   alternatewithlocal=alternatewithlocal,localtype=localtype) \n",
    "                        c.replace_gatename('I','Gi')\n",
    "                        print(c)\n",
    "                        passed = True\n",
    "                        counter += 1\n",
    "                    except:\n",
    "                        counter += 1\n",
    "                        if counter > 100:\n",
    "                            break\n",
    "                        \n",
    "            if rbtype == 'CRB':\n",
    "                c = prb.sample_crb_circuit(ds,l)\n",
    "                passed = True\n",
    "            \n",
    "            t2 = time.time()\n",
    "            with open(auxfn,'a') as f:\n",
    "                f.write('Finshed. Circuit depth is {}. Time taken is {} \\n'.format(c.depth(),t1-t2))                                    \n",
    "            \n",
    "            if passed:\n",
    "                circuit_2Qcount = c.twoqubit_gatecount()\n",
    "                circuit_depth = c.depth()\n",
    "                                                   \n",
    "                t3 = time.time()\n",
    "                with open(auxfn,'a') as f:\n",
    "                     f.write('Starting simulation... ')\n",
    "                                                   \n",
    "                out = c.simulate(pspec.models[mname])\n",
    "                pm = out['0'*n]     \n",
    "                \n",
    "                t4 = time.time()\n",
    "                                                   \n",
    "                with open(auxfn,'a') as f:\n",
    "                    f.write('Finished. Take takin is {}\\n'.format(t4-t3))\n",
    "                                                   \n",
    "                if returndata:\n",
    "                    circuit_2Qcount_lst[j].append(circuit_2Qcount)\n",
    "                    circuit_depth_lst[j].append(circuit_depth)\n",
    "                    pm_lst[j].append(pm)\n",
    "                with open(filename,'a') as f:\n",
    "                    f.write('{} {} {} {}\\n'.format(l,pm,circuit_depth,circuit_2Qcount)) \n",
    "                                                   \n",
    "            if not passed:\n",
    "                with open(filename,'a') as f:\n",
    "                    f.write('F F F F\\n'.format(l,pm,circuit_depth,circuit_2Qcount))\n",
    "    if returndata:\n",
    "        return [pm_lst, circuit_2Qcount_lst, circuit_depth_lst, passed]\n",
    "\n",
    "pm_prb = {}\n",
    "pm_crb = {}\n",
    "circuit_2Qcount_prb = {}\n",
    "circuit_2Qcount_crb = {}\n",
    "circuit_depth_prb = {}\n",
    "circuit_depth_crb = {}\n",
    "passed_prb = {}\n",
    "passed_crb = {}\n",
    "\n",
    "cwd = os.getcwd()\n",
    "\n",
    "for i in range(0,len(nlist)):\n",
    "    n = nlist[i]\n",
    "    #filename =  cwd + '/output/sims/data/'+title+'_{}'.format(rank)+ '_{}qubits'.format(n)\n",
    "    filename =  cwd + '/output/sims/data/'+title+'_{}'.format(0)+ '_{}qubits'.format(n)\n",
    "    \n",
    "    simulate_rb(pspec[n], K[n], lengths_prb[n], filename+'_prb.txt', errortype, 'PRB', sampler,\n",
    "                sampler_args[n], appenddata=appenddata, alternatewithlocal=alternatewithlocal, \n",
    "                localtype=localtype, returndata=False)\n",
    "\n",
    "    if runcrb:\n",
    "        simulate_rb(pspec[n], K[n], lengths_crb[n], filename+'_crb.txt', errortype, 'CRB', returndata=True)"
   ]
  },
  {
   "cell_type": "markdown",
   "metadata": {},
   "source": [
    "### Code that predicts the decay rate *if* we had full twirling at every stage"
   ]
  },
  {
   "cell_type": "code",
   "execution_count": null,
   "metadata": {
    "collapsed": false
   },
   "outputs": [],
   "source": [
    "predictedp = {}\n",
    "samples = 50\n",
    "for n in nlist:\n",
    "    for i in range(0,samples):\n",
    "         layer = prb.sample_primitives_circuit(ds,1,sampler=sampler, sampler_args=sampler_args).get_layer(0)"
   ]
  },
  {
   "cell_type": "markdown",
   "metadata": {},
   "source": [
    "for ind in range(size):\n",
    "    for n in nlist:\n",
    "        print(rw[ind]['pm_prb'][n])"
   ]
  },
  {
   "cell_type": "markdown",
   "metadata": {},
   "source": [
    "nlist =rw[0]['nlist']\n",
    "\n",
    "results_PRB = {}\n",
    "results_CRB = {}\n",
    "asp_PRB = {}\n",
    "asp_CRB = {}\n",
    "varsp_PRB = {}\n",
    "varsp_CRB = {}\n",
    "lengths_PRB = {}\n",
    "lengths_CRB = {}\n",
    "circuit_2Qcount_PRB = {}\n",
    "circuit_2Qcount_CRB = {}\n",
    "circuit_depth_PRB = {}\n",
    "circuit_depth_CRB = {}\n",
    "a2QC_PRB = {}\n",
    "a2QC_CRB = {}\n",
    "adepth_PRB = {}\n",
    "adepth_CRB = {}\n",
    "var2QC_PRB = {}\n",
    "var2QC_CRB = {}\n",
    "vardepth_PRB = {}\n",
    "vardepth_CRB = {}\n",
    "\n",
    "for n in nlist:\n",
    "    results_PRB[n] = np.concatenate([np.array(rw[ind]['pm_prb'][n]) for ind in range(size) if rw[ind]['passed_prb'][n]], axis=1)\n",
    "    results_CRB[n] = np.concatenate([np.array(rw[ind]['pm_crb'][n]) for ind in range(size) if rw[ind]['passed_crb'][n]], axis=1)\n",
    "    lengths_PRB[n] = np.array(rw[0]['lengths_prb'][n])\n",
    "    lengths_CRB[n] = np.array(rw[0]['lengths_crb'][n])\n",
    "    circuit_depth_PRB[n] = np.concatenate([np.array(rw[ind]['circuit_depth_prb'][n]) for ind in range(size) if rw[ind]['passed_prb'][n]], axis=1)\n",
    "    circuit_depth_CRB[n] = np.concatenate([np.array(rw[ind]['circuit_depth_crb'][n]) for ind in range(size) if rw[ind]['passed_crb'][n]], axis=1)\n",
    "    circuit_2Qcount_PRB[n] = np.concatenate([np.array(rw[ind]['circuit_2Qcount_prb'][n]) for ind in range(size) if rw[ind]['passed_prb'][n]], axis=1)\n",
    "    circuit_2Qcount_CRB[n] = np.concatenate([np.array(rw[ind]['circuit_2Qcount_crb'][n]) for ind in range(size) if rw[ind]['passed_crb'][n]], axis=1)\n",
    "    asp_PRB[n] =  np.mean(results_PRB[n],axis=1)\n",
    "    asp_CRB[n] =  np.mean(results_CRB[n],axis=1)\n",
    "    a2QC_PRB[n] =  np.mean(circuit_2Qcount_PRB[n],axis=1)\n",
    "    a2QC_CRB[n] =  np.mean(circuit_2Qcount_CRB[n],axis=1)\n",
    "    adepth_PRB[n] =  np.mean(circuit_depth_PRB[n],axis=1)\n",
    "    adepth_CRB[n] =  np.mean(circuit_depth_CRB[n],axis=1)\n",
    "    varsp_PRB[n] =  np.std(results_PRB[n],axis=1)**2\n",
    "    varsp_CRB[n] =  np.std(results_CRB[n],axis=1)**2\n",
    "    var2QC_PRB[n] =  np.std(circuit_2Qcount_PRB[n],axis=1)**2\n",
    "    var2QC_CRB[n] =  np.std(circuit_2Qcount_CRB[n],axis=1)**2\n",
    "    vardepth_PRB[n] =  np.std(circuit_depth_PRB[n],axis=1)**2\n",
    "    vardepth_CRB[n] =  np.std(circuit_depth_CRB[n],axis=1)**2"
   ]
  },
  {
   "cell_type": "markdown",
   "metadata": {},
   "source": [
    "** Below is code for creating figures. It is commented out to avoid getting to lots of analysis (instead use the analysis notebook). **"
   ]
  },
  {
   "cell_type": "markdown",
   "metadata": {},
   "source": [
    "import matplotlib.pyplot as plt\n",
    "%matplotlib inline\n",
    "\n",
    "for n in nlist:\n",
    "    plt.figure(figsize=(15,7))\n",
    "    plt.title(\"{} qubit RB\".format(n))\n",
    "    plt.plot(lengths_CRB[n]-1, asp_CRB[n],'.-',label='CRB')\n",
    "    plt.plot(lengths_PRB[n], asp_PRB[n],'.-',label='PRB')\n",
    "    plt.legend()\n",
    "    plt.ylim(0,1)\n",
    "    \n",
    "    filename =  cwd + \"/fig_outs/\"+title+\" - {} qubit RB.pdf\".format(n)\n",
    "    plt.savefig(filename)\n",
    "    plt.show()"
   ]
  },
  {
   "cell_type": "markdown",
   "metadata": {},
   "source": [
    "for n in nlist:\n",
    "    plt.figure(figsize=(15,7))\n",
    "    plt.title(\"{} qubit RB surivival probability variance\".format(n))\n",
    "    plt.plot(lengths_CRB[n]-1, varsp_CRB[n],'.-',label='CRB')\n",
    "    plt.plot(lengths_PRB[n], varsp_PRB[n],'.-',label='PRB')\n",
    "    plt.legend()\n",
    "    \n",
    "    filename =  cwd + \"/fig_outs/\"+title+\" - {}  qubit RB surivival probability variance.pdf\".format(n)\n",
    "    plt.savefig(filename)\n",
    "    plt.show()"
   ]
  },
  {
   "cell_type": "markdown",
   "metadata": {},
   "source": [
    "for n in nlist:\n",
    "    plt.figure(figsize=(15,7))\n",
    "    plt.title(\"{} qubit RB average 2-qubit gate count\".format(n))\n",
    "    plt.plot(lengths_CRB[n]-1, a2QC_CRB[n],'.-',label='CRB')\n",
    "    plt.plot(lengths_PRB[n], a2QC_PRB[n],'.-',label='PRB')\n",
    "    plt.legend()\n",
    "    \n",
    "    filename =  cwd + \"/fig_outs/\"+title+\" - {} qubit RB average 2-qubit gate count.pdf\".format(n)\n",
    "    plt.savefig(filename)\n",
    "    plt.show()"
   ]
  },
  {
   "cell_type": "code",
   "execution_count": null,
   "metadata": {
    "collapsed": true
   },
   "outputs": [],
   "source": []
  }
 ],
 "metadata": {
  "kernelspec": {
   "display_name": "Python 3",
   "language": "python",
   "name": "python3"
  },
  "language_info": {
   "codemirror_mode": {
    "name": "ipython",
    "version": 3
   },
   "file_extension": ".py",
   "mimetype": "text/x-python",
   "name": "python",
   "nbconvert_exporter": "python",
   "pygments_lexer": "ipython3",
   "version": "3.6.3"
  }
 },
 "nbformat": 4,
 "nbformat_minor": 2
}
