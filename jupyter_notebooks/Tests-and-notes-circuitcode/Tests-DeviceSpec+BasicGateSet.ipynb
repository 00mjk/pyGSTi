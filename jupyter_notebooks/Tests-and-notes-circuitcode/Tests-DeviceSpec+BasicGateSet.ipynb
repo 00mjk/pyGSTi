{
 "cells": [
  {
   "cell_type": "code",
   "execution_count": 1,
   "metadata": {
    "collapsed": false
   },
   "outputs": [
    {
     "name": "stderr",
     "output_type": "stream",
     "text": [
      "/Users/tjproct/pyGSTi/packages/pygsti/tools/matrixtools.py:23: UserWarning: Could not import Cython extension - falling back to slower pure-python routines\n",
      "  _warnings.warn(\"Could not import Cython extension - falling back to slower pure-python routines\")\n"
     ]
    }
   ],
   "source": [
    "from __future__ import division, print_function, absolute_import, unicode_literals\n",
    "import numpy as np\n",
    "\n",
    "import pygsti\n",
    "from pygsti.extras import circuit"
   ]
  },
  {
   "cell_type": "code",
   "execution_count": 2,
   "metadata": {
    "collapsed": false
   },
   "outputs": [],
   "source": [
    "# The most basic initialization of a BasicGateSet object. It is essentially empty\n",
    "bgs = circuit.BasicGateSet(n=2)"
   ]
  },
  {
   "cell_type": "code",
   "execution_count": 3,
   "metadata": {
    "collapsed": false
   },
   "outputs": [],
   "source": [
    "# A list of standard hard-coded gate labels\n",
    "gllist = ['I', 'H','P','CNOT']\n",
    "\n",
    "# A dictionary of unitaries that do not need to be already known to the code\n",
    "unitaries={'T' : np.array([[1.,0.],[0.,np.exp(np.pi*1j/4)]])}\n",
    "\n",
    "# The number of qubits\n",
    "n = 10\n",
    "\n",
    "# The availiability of gates that are not available to all qubit / qubit pairs\n",
    "availability = {}\n",
    "\n",
    "# Let's make a the CNOT gate be connected in a directed ring.\n",
    "a = np.zeros((n,n),int)\n",
    "for i in range(0,n-1):\n",
    "    a[i,i+1] = 1\n",
    "a[n-1,0] = 1\n",
    "\n",
    "availability={'CNOT':a}\n",
    "\n",
    "# Specifies whether Clifford-only quantities should be populated for the gates that are Clifford\n",
    "clifford = True\n",
    "\n",
    "BGS = circuit.BasicGateSet(n=n,gllist=gllist,unitaries=unitaries,clifford=clifford)"
   ]
  },
  {
   "cell_type": "code",
   "execution_count": 4,
   "metadata": {
    "collapsed": false
   },
   "outputs": [
    {
     "data": {
      "text/plain": [
       "{u'CNOT': array([[1, 0, 0, 0],\n",
       "        [1, 1, 0, 0],\n",
       "        [0, 0, 1, 1],\n",
       "        [0, 0, 0, 1]]), u'H': array([[0, 1],\n",
       "        [1, 0]]), u'I': array([[1, 0],\n",
       "        [0, 1]]), u'P': array([[1, 0],\n",
       "        [1, 1]]), u'T': None}"
      ]
     },
     "execution_count": 4,
     "metadata": {},
     "output_type": "execute_result"
    }
   ],
   "source": [
    "BGS.smatrix"
   ]
  },
  {
   "cell_type": "code",
   "execution_count": 5,
   "metadata": {
    "collapsed": false
   },
   "outputs": [],
   "source": [
    "# We can also populate a DeviceSpec using the same things. When the device spec is made it populates some\n",
    "# extra things that are useful for circuit compiling.\n",
    "\n",
    "# If this is true, if creates compilations for a set of \"standard\" Clifford gates\n",
    "construct_std_compilations=True\n",
    "\n",
    "# Todo : the device spec will give an error when the idle is not in the gateset. This is ok, but it should \n",
    "# do an assert.\n",
    "\n",
    "ds = circuit.DeviceSpec(n, gllist, unitaries, clifford=True, availability=availability,\n",
    "                        construct_std_compilations=construct_std_compilations, verbosity=0)"
   ]
  },
  {
   "cell_type": "code",
   "execution_count": 6,
   "metadata": {
    "collapsed": false
   },
   "outputs": [
    {
     "name": "stdout",
     "output_type": "stream",
     "text": [
      "Qubit 0 ---|  |-|  |-|  |-|  |-|  |-|  |-|  |-|  |---\n",
      "Qubit 1 ---|C2|-|  |-|  |-|  |-|C2|-|  |-|  |-|  |---\n",
      "Qubit 2 ---|T1|-|C3|-|  |-|C3|-|T1|-|C3|-|  |-|C3|---\n",
      "Qubit 3 ---|  |-|T2|-|C4|-|T2|-|  |-|T2|-|C4|-|T2|---\n",
      "Qubit 4 ---|  |-|  |-|T3|-|  |-|  |-|  |-|T3|-|  |---\n",
      "Qubit 5 ---|  |-|  |-|  |-|  |-|  |-|  |-|  |-|  |---\n",
      "Qubit 6 ---|  |-|  |-|  |-|  |-|  |-|  |-|  |-|  |---\n",
      "Qubit 7 ---|  |-|  |-|  |-|  |-|  |-|  |-|  |-|  |---\n",
      "Qubit 8 ---|  |-|  |-|  |-|  |-|  |-|  |-|  |-|  |---\n",
      "Qubit 9 ---|  |-|  |-|  |-|  |-|  |-|  |-|  |-|  |---\n",
      "\n",
      "Qubit 0 ---|  |-|  |-|  |-|  |---\n",
      "Qubit 1 ---|H |-|P |-|P |-|H |---\n",
      "Qubit 2 ---|  |-|  |-|  |-|  |---\n",
      "Qubit 3 ---|  |-|  |-|  |-|  |---\n",
      "Qubit 4 ---|  |-|  |-|  |-|  |---\n",
      "Qubit 5 ---|  |-|  |-|  |-|  |---\n",
      "Qubit 6 ---|  |-|  |-|  |-|  |---\n",
      "Qubit 7 ---|  |-|  |-|  |-|  |---\n",
      "Qubit 8 ---|  |-|  |-|  |-|  |---\n",
      "Qubit 9 ---|  |-|  |-|  |-|  |---\n",
      "\n"
     ]
    }
   ],
   "source": [
    "# This is a CompilationLibraries object, which holds compilations for, e.g., CNOT between 1 and 4\n",
    "compilations = ds.compilations\n",
    "\n",
    "# There are two types of compilation, stored under compilations.paulieq and compilations.absolute.\n",
    "# The latter is a absolute compilation, i.e., the circuit implements the claimed gate. The former only\n",
    "# implements the claimed gate up to Paulis.\n",
    "\n",
    "c = ds.compilations.paulieq[circuit.Gate('CNOT',(1,4))]\n",
    "\n",
    "print(c)\n",
    "\n",
    "c = ds.compilations.absolute[circuit.Gate('X',1)]\n",
    "\n",
    "print(c)"
   ]
  },
  {
   "cell_type": "code",
   "execution_count": 7,
   "metadata": {
    "collapsed": false
   },
   "outputs": [
    {
     "name": "stdout",
     "output_type": "stream",
     "text": [
      "[[-9999     0     1     2     3     4     7     8     9     0]\n",
      " [    1 -9999     1     2     3     4     5     8     9     0]\n",
      " [    1     2 -9999     2     3     4     5     6     9     0]\n",
      " [    1     2     3 -9999     3     4     5     6     7     0]\n",
      " [    1     2     3     4 -9999     4     5     6     7     0]\n",
      " [    1     2     3     4     5 -9999     5     6     7     8]\n",
      " [    9     2     3     4     5     6 -9999     6     7     8]\n",
      " [    9     0     3     4     5     6     7 -9999     7     8]\n",
      " [    9     0     1     4     5     6     7     8 -9999     8]\n",
      " [    9     0     1     2     3     6     7     8     9 -9999]]\n",
      "[[ 0.  1.  2.  3.  4.  5.  4.  3.  2.  1.]\n",
      " [ 1.  0.  1.  2.  3.  4.  5.  4.  3.  2.]\n",
      " [ 2.  1.  0.  1.  2.  3.  4.  5.  4.  3.]\n",
      " [ 3.  2.  1.  0.  1.  2.  3.  4.  5.  4.]\n",
      " [ 4.  3.  2.  1.  0.  1.  2.  3.  4.  5.]\n",
      " [ 5.  4.  3.  2.  1.  0.  1.  2.  3.  4.]\n",
      " [ 4.  5.  4.  3.  2.  1.  0.  1.  2.  3.]\n",
      " [ 3.  4.  5.  4.  3.  2.  1.  0.  1.  2.]\n",
      " [ 2.  3.  4.  5.  4.  3.  2.  1.  0.  1.]\n",
      " [ 1.  2.  3.  4.  5.  4.  3.  2.  1.  0.]]\n"
     ]
    }
   ],
   "source": [
    "# A matrix giving the shorest path between qubits\n",
    "print(ds.shortestpath)\n",
    "\n",
    "# A matrix giving the distance between qubits\n",
    "print(ds.distance)"
   ]
  },
  {
   "cell_type": "code",
   "execution_count": 8,
   "metadata": {
    "collapsed": false
   },
   "outputs": [
    {
     "name": "stdout",
     "output_type": "stream",
     "text": [
      "Qubit 0 ---|  |-|  |-|  |-|  |-|  |-|  |---\n",
      "Qubit 1 ---|  |-|  |-|  |-|  |-|  |-|  |---\n",
      "Qubit 2 ---|P |-|P |-|H |-|P |-|P |-|H |---\n",
      "Qubit 3 ---|  |-|  |-|  |-|  |-|  |-|  |---\n",
      "Qubit 4 ---|  |-|  |-|  |-|  |-|  |-|  |---\n",
      "Qubit 5 ---|  |-|  |-|  |-|  |-|  |-|  |---\n",
      "Qubit 6 ---|  |-|  |-|  |-|  |-|  |-|  |---\n",
      "Qubit 7 ---|  |-|  |-|  |-|  |-|  |-|  |---\n",
      "Qubit 8 ---|  |-|  |-|  |-|  |-|  |-|  |---\n",
      "Qubit 9 ---|  |-|  |-|  |-|  |-|  |-|  |---\n",
      "\n"
     ]
    }
   ],
   "source": [
    "print(ds.compilations.absolute[ds.compilations.absolute.keys()[0]])"
   ]
  },
  {
   "cell_type": "code",
   "execution_count": 9,
   "metadata": {
    "collapsed": false
   },
   "outputs": [],
   "source": [
    "# Device specs can be given \"GateSetModel\" that is stored in the .models dictionary\n",
    "ds.models[\"Null model\"] = circuit.GateSetModel(operators=None,n=n,mtype='purestate')"
   ]
  },
  {
   "cell_type": "code",
   "execution_count": 10,
   "metadata": {
    "collapsed": false
   },
   "outputs": [
    {
     "name": "stdout",
     "output_type": "stream",
     "text": [
      "Generating a pauli-equivalence compilation for the H gate...Complete.\n",
      "Generating a pauli-equivalence compilation for the P gate...Complete.\n",
      "Generating a pauli-equivalence compilation for the PH gate...Complete.\n",
      "Generating a pauli-equivalence compilation for the HP gate...Complete.\n",
      "Generating a pauli-equivalence compilation for the HPH gate...Complete.\n",
      "Generating an absolute compilation for the I gate...Complete.\n",
      "Generating an absolute compilation for the X gate...Complete.\n",
      "Generating an absolute compilation for the Y gate...Complete.\n",
      "Generating an absolute compilation for the Z gate...Complete.\n",
      "Creating a circuit to implement H up to Pauli gates on qubit 0...Complete.\n",
      "Creating a circuit to implement P up to Pauli gates on qubit 0...Complete.\n",
      "Creating a circuit to implement PH up to Pauli gates on qubit 0...Complete.\n",
      "Creating a circuit to implement HP up to Pauli gates on qubit 0...Complete.\n",
      "Creating a circuit to implement HPH up to Pauli gates on qubit 0...Complete.\n",
      "Creating a circuit to implement I on qubit 0...Complete.\n",
      "Creating a circuit to implement X on qubit 0...Complete.\n",
      "Creating a circuit to implement Y on qubit 0...Complete.\n",
      "Creating a circuit to implement Z on qubit 0...Complete.\n",
      "Creating a circuit to implement H up to Pauli gates on qubit 1...Complete.\n",
      "Creating a circuit to implement P up to Pauli gates on qubit 1...Complete.\n",
      "Creating a circuit to implement PH up to Pauli gates on qubit 1...Complete.\n",
      "Creating a circuit to implement HP up to Pauli gates on qubit 1...Complete.\n",
      "Creating a circuit to implement HPH up to Pauli gates on qubit 1...Complete.\n",
      "Creating a circuit to implement I on qubit 1...Complete.\n",
      "Creating a circuit to implement X on qubit 1...Complete.\n",
      "Creating a circuit to implement Y on qubit 1...Complete.\n",
      "Creating a circuit to implement Z on qubit 1...Complete.\n",
      "Creating a circuit to implement H up to Pauli gates on qubit 2...Complete.\n",
      "Creating a circuit to implement P up to Pauli gates on qubit 2...Complete.\n",
      "Creating a circuit to implement PH up to Pauli gates on qubit 2...Complete.\n",
      "Creating a circuit to implement HP up to Pauli gates on qubit 2...Complete.\n",
      "Creating a circuit to implement HPH up to Pauli gates on qubit 2...Complete.\n",
      "Creating a circuit to implement I on qubit 2...Complete.\n",
      "Creating a circuit to implement X on qubit 2...Complete.\n",
      "Creating a circuit to implement Y on qubit 2...Complete.\n",
      "Creating a circuit to implement Z on qubit 2...Complete.\n",
      "Creating a circuit to implement H up to Pauli gates on qubit 3...Complete.\n",
      "Creating a circuit to implement P up to Pauli gates on qubit 3...Complete.\n",
      "Creating a circuit to implement PH up to Pauli gates on qubit 3...Complete.\n",
      "Creating a circuit to implement HP up to Pauli gates on qubit 3...Complete.\n",
      "Creating a circuit to implement HPH up to Pauli gates on qubit 3...Complete.\n",
      "Creating a circuit to implement I on qubit 3...Complete.\n",
      "Creating a circuit to implement X on qubit 3...Complete.\n",
      "Creating a circuit to implement Y on qubit 3...Complete.\n",
      "Creating a circuit to implement Z on qubit 3...Complete.\n",
      "\n",
      "Attempting to generate a compilation for CNOT, up to Paulis,\n",
      "with control qubit = 0 and target qubit = 1\n",
      "\n",
      "Checking all length 1 two-qubit circuits...\n",
      "Checking all length 2 two-qubit circuits...\n",
      "Checking all length 3 two-qubit circuits...\n",
      "Compilation for CNOT found!\n",
      "\n",
      "Attempting to generate a compilation for CNOT, up to Paulis,\n",
      "with control qubit = 0 and target qubit = 2\n",
      "\n",
      "Checking all length 1 two-qubit circuits...\n",
      "Checking all length 2 two-qubit circuits...\n",
      "Checking all length 3 two-qubit circuits...\n",
      "Compilation for CNOT found!\n",
      "\n",
      "Attempting to generate a compilation for CNOT, up to Paulis,\n",
      "with control qubit = 0 and target qubit = 3\n",
      "\n",
      "Checking all length 1 two-qubit circuits...\n",
      "Checking all length 2 two-qubit circuits...\n",
      "Checking all length 3 two-qubit circuits...\n",
      "Compilation for CNOT found!\n",
      "\n",
      "Attempting to generate a compilation for CNOT, up to Paulis,\n",
      "with control qubit = 1 and target qubit = 0\n",
      "\n",
      "Checking all length 1 two-qubit circuits...\n",
      "Checking all length 2 two-qubit circuits...\n",
      "Checking all length 3 two-qubit circuits...\n",
      "Compilation for CNOT found!\n",
      "\n",
      "Attempting to generate a compilation for CNOT, up to Paulis,\n",
      "with control qubit = 1 and target qubit = 2\n",
      "\n",
      "Checking all length 1 two-qubit circuits...\n",
      "Checking all length 2 two-qubit circuits...\n",
      "Checking all length 3 two-qubit circuits...\n",
      "Compilation for CNOT found!\n",
      "\n",
      "Attempting to generate a compilation for CNOT, up to Paulis,\n",
      "with control qubit = 1 and target qubit = 3\n",
      "\n",
      "Checking all length 1 two-qubit circuits...\n",
      "Checking all length 2 two-qubit circuits...\n",
      "Checking all length 3 two-qubit circuits...\n",
      "Compilation for CNOT found!\n",
      "\n",
      "Attempting to generate a compilation for CNOT, up to Paulis,\n",
      "with control qubit = 2 and target qubit = 0\n",
      "\n",
      "Checking all length 1 two-qubit circuits...\n",
      "Checking all length 2 two-qubit circuits...\n",
      "Checking all length 3 two-qubit circuits...\n",
      "Compilation for CNOT found!\n",
      "\n",
      "Attempting to generate a compilation for CNOT, up to Paulis,\n",
      "with control qubit = 2 and target qubit = 1\n",
      "\n",
      "Checking all length 1 two-qubit circuits...\n",
      "Checking all length 2 two-qubit circuits...\n",
      "Checking all length 3 two-qubit circuits...\n",
      "Compilation for CNOT found!\n",
      "\n",
      "Attempting to generate a compilation for CNOT, up to Paulis,\n",
      "with control qubit = 2 and target qubit = 3\n",
      "\n",
      "Checking all length 1 two-qubit circuits...\n",
      "Checking all length 2 two-qubit circuits...\n",
      "Checking all length 3 two-qubit circuits...\n",
      "Compilation for CNOT found!\n",
      "\n",
      "Attempting to generate a compilation for CNOT, up to Paulis,\n",
      "with control qubit = 3 and target qubit = 0\n",
      "\n",
      "Checking all length 1 two-qubit circuits...\n",
      "Checking all length 2 two-qubit circuits...\n",
      "Checking all length 3 two-qubit circuits...\n",
      "Compilation for CNOT found!\n",
      "\n",
      "Attempting to generate a compilation for CNOT, up to Paulis,\n",
      "with control qubit = 3 and target qubit = 1\n",
      "\n",
      "Checking all length 1 two-qubit circuits...\n",
      "Checking all length 2 two-qubit circuits...\n",
      "Checking all length 3 two-qubit circuits...\n",
      "Compilation for CNOT found!\n",
      "\n",
      "Attempting to generate a compilation for CNOT, up to Paulis,\n",
      "with control qubit = 3 and target qubit = 2\n",
      "\n",
      "Checking all length 1 two-qubit circuits...\n",
      "Checking all length 2 two-qubit circuits...\n",
      "Checking all length 3 two-qubit circuits...\n",
      "Compilation for CNOT found!\n"
     ]
    }
   ],
   "source": [
    "# Let's create a new DeviceSpec on less qubits, with full connectivity\n",
    "gllist = ['I', 'H','P','CPHASE']\n",
    "\n",
    "# The number of qubits\n",
    "n = 4\n",
    "\n",
    "ds2 = circuit.DeviceSpec(n, gllist,  clifford=True, verbosity=1)"
   ]
  },
  {
   "cell_type": "code",
   "execution_count": 11,
   "metadata": {
    "collapsed": false
   },
   "outputs": [],
   "source": [
    "# We can also create less trivial examples, which then allow us to do circuit simulations (the model\n",
    "# above fairly obviously won't work if we hand it to a simulator).\n",
    "\n",
    "# Lets construct a model which has perfect gates. Note that the code below wouldn't be correct\n",
    "# for a device with non-symmetric gates -- in that case care has to be taken to input the \n",
    "# unitaries correctly.\n",
    "operators = {}\n",
    "for gate in ds2.allgates:\n",
    "    operators[gate] = ds2.gateset.unitaries[gate.label]\n",
    "    \n",
    "ds2.models['Target'] = circuit.GateSetModel(operators,n,mtype='purestate')"
   ]
  },
  {
   "cell_type": "code",
   "execution_count": 12,
   "metadata": {
    "collapsed": false
   },
   "outputs": [],
   "source": [
    "# Let's pick a random Clifford, and the inverse of that Clifford, and create an identity circuit\n",
    "s, p = circuit.random_clifford(4)\n",
    "sin, pin = circuit.inverse_clifford(s,p)\n",
    "\n",
    "# Creates the circuit, over the gates in ds2.\n",
    "c = circuit.compile_clifford(s, p, ds=ds2)\n",
    "c.append_circuit(circuit.compile_clifford(sin, pin, ds=ds2))\n",
    "\n",
    "#print(c)"
   ]
  },
  {
   "cell_type": "code",
   "execution_count": 17,
   "metadata": {
    "collapsed": false
   },
   "outputs": [
    {
     "name": "stdout",
     "output_type": "stream",
     "text": [
      "1.0\n",
      "0.0\n"
     ]
    }
   ],
   "source": [
    "# As we can see, the output is (0,0,0,0) with probability 1. (when no input is given to the simulators, the input\n",
    "# is taken to be (0,0,0,0)).\n",
    "\n",
    "simout = c.simulate(ds2.models['Target'])\n",
    "print(simout[0,0,0,0])\n",
    "x = 0\n",
    "for key in list(simout.keys()):\n",
    "    x += simout[key]\n",
    "x = x - simout[0,0,0,0]\n",
    "print(x)"
   ]
  }
 ],
 "metadata": {
  "kernelspec": {
   "display_name": "Python 2",
   "language": "python",
   "name": "python2"
  },
  "language_info": {
   "codemirror_mode": {
    "name": "ipython",
    "version": 2
   },
   "file_extension": ".py",
   "mimetype": "text/x-python",
   "name": "python",
   "nbconvert_exporter": "python",
   "pygments_lexer": "ipython2",
   "version": "2.7.11"
  }
 },
 "nbformat": 4,
 "nbformat_minor": 2
}
