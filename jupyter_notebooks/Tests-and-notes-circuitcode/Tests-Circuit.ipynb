{
 "cells": [
  {
   "cell_type": "code",
   "execution_count": 3,
   "metadata": {
    "collapsed": false
   },
   "outputs": [
    {
     "name": "stderr",
     "output_type": "stream",
     "text": [
      "/Users/tjproct/pyGSTi/packages/pygsti/tools/matrixtools.py:23: UserWarning: Could not import Cython extension - falling back to slower pure-python routines\n",
      "  _warnings.warn(\"Could not import Cython extension - falling back to slower pure-python routines\")\n"
     ]
    }
   ],
   "source": [
    "from __future__ import division, print_function, absolute_import, unicode_literals\n",
    "import numpy as np\n",
    "\n",
    "import pygsti\n",
    "from pygsti.extras import circuit"
   ]
  },
  {
   "cell_type": "code",
   "execution_count": 4,
   "metadata": {
    "collapsed": true
   },
   "outputs": [],
   "source": [
    "#\n",
    "#\n",
    "#  THIS NOTEBOOK IS TO BE WRITTEN.\n",
    "#\n",
    "#"
   ]
  },
  {
   "cell_type": "code",
   "execution_count": 9,
   "metadata": {
    "collapsed": false
   },
   "outputs": [],
   "source": [
    "# A list of standard hard-coded gate labels\n",
    "gllist = ['I', 'H','P','CNOT']\n",
    "\n",
    "# The number of qubits\n",
    "n = 10\n",
    "\n",
    "# The availiability of gates that are not available to all qubit / qubit pairs\n",
    "availability = {}\n",
    "\n",
    "# Let's make a the CNOT gate be connected in a directed ring.\n",
    "a = np.zeros((n,n),int)\n",
    "for i in range(0,n-1):\n",
    "    a[i,i+1] = 1\n",
    "a[n-1,0] = 1\n",
    "\n",
    "availability={'CNOT':a}\n",
    "\n",
    "# Specifies whether Clifford-only quantities should be populated for the gates that are Clifford\n",
    "clifford = True\n",
    "\n",
    "ds = circuit.DeviceSpec(n, gllist, availability=availability, verbosity=0)"
   ]
  },
  {
   "cell_type": "code",
   "execution_count": 10,
   "metadata": {
    "collapsed": false
   },
   "outputs": [],
   "source": [
    "s, p = circuit.random_clifford(n)"
   ]
  },
  {
   "cell_type": "code",
   "execution_count": 11,
   "metadata": {
    "collapsed": false
   },
   "outputs": [],
   "source": [
    "c = circuit.stabilizer_measurement_preparation_circuit(s, p, ds=ds)"
   ]
  },
  {
   "cell_type": "code",
   "execution_count": 13,
   "metadata": {
    "collapsed": false
   },
   "outputs": [],
   "source": [
    "#c = newrb.construct_cliffordrb_circuit(ds, 10)\n",
    "#print(c.depth())"
   ]
  },
  {
   "cell_type": "code",
   "execution_count": 14,
   "metadata": {
    "collapsed": false
   },
   "outputs": [],
   "source": [
    "#c = newrb.sampler.construct_grb_circuit(ds, 10)\n",
    "#print(c.depth())"
   ]
  }
 ],
 "metadata": {
  "kernelspec": {
   "display_name": "Python 2",
   "language": "python",
   "name": "python2"
  },
  "language_info": {
   "codemirror_mode": {
    "name": "ipython",
    "version": 2
   },
   "file_extension": ".py",
   "mimetype": "text/x-python",
   "name": "python",
   "nbconvert_exporter": "python",
   "pygments_lexer": "ipython2",
   "version": "2.7.11"
  }
 },
 "nbformat": 4,
 "nbformat_minor": 2
}
