{
 "cells": [
  {
   "cell_type": "code",
   "execution_count": 1,
   "metadata": {
    "collapsed": false,
    "deletable": true,
    "editable": true
   },
   "outputs": [
    {
     "name": "stderr",
     "output_type": "stream",
     "text": [
      "/Users/enielse/research/pyGSTi/packages/pygsti/tools/matrixtools.py:23: UserWarning: Could not import Cython extension - falling back to slower pure-python routines\n",
      "  _warnings.warn(\"Could not import Cython extension - falling back to slower pure-python routines\")\n"
     ]
    }
   ],
   "source": [
    "from __future__ import division, print_function, absolute_import, unicode_literals\n",
    "import numpy as np\n",
    "\n",
    "import pygsti\n",
    "# OLD: from pygsti.extras import circuit"
   ]
  },
  {
   "cell_type": "code",
   "execution_count": 2,
   "metadata": {
    "collapsed": true,
    "deletable": true,
    "editable": true
   },
   "outputs": [],
   "source": [
    "#\n",
    "#\n",
    "#  THIS NOTEBOOK IS TO BE WRITTEN.\n",
    "#\n",
    "#"
   ]
  },
  {
   "cell_type": "code",
   "execution_count": 3,
   "metadata": {
    "collapsed": false,
    "deletable": true,
    "editable": true
   },
   "outputs": [],
   "source": [
    "# A list of standard hard-coded gate labels\n",
    "# OLD: gllist = ['I', 'H','P','CNOT']\n",
    "gllist = ['Gi','Gh','Gp','Gcnot'] \n",
    "\n",
    "# The number of qubits\n",
    "n = 10\n",
    "\n",
    "# The availiability of gates that are not available to all qubit / qubit pairs\n",
    "availability = {}\n",
    "\n",
    "# Let's make a the CNOT gate be connected in a directed ring.\n",
    "# OLD: a = np.zeros((n,n),int)\n",
    "# OLD: for i in range(0,n-1):\n",
    "# OLD:     a[i,i+1] = 1\n",
    "# OLD: a[n-1,0] = 1\n",
    "a = [(i,i+1) for i in range(0,n-1)] + [(n-1,0)]\n",
    "\n",
    "# OLD: availability={'CNOT':a}\n",
    "availability={'Gcnot':a}\n",
    "\n",
    "# Specifies whether Clifford-only quantities should be populated for the gates that are Clifford\n",
    "# OLD: clifford = True (UNUSED)\n",
    "\n",
    "# OLD: ds = circuit.DeviceSpec(n, gllist, availability=availability, verbosity=0)\n",
    "ds = pygsti.obj.ProcessorSpec(n, gllist, availability=availability, verbosity=0)"
   ]
  },
  {
   "cell_type": "code",
   "execution_count": 4,
   "metadata": {
    "collapsed": false,
    "deletable": true,
    "editable": true
   },
   "outputs": [],
   "source": [
    "# OLD: s, p = circuit.random_clifford(n)\n",
    "s, p = pygsti.tools.random_clifford(n)"
   ]
  },
  {
   "cell_type": "code",
   "execution_count": 5,
   "metadata": {
    "collapsed": false,
    "deletable": true,
    "editable": true
   },
   "outputs": [],
   "source": [
    "# OLD: c = circuit.stabilizer_measurement_preparation_circuit(s, p, ds=ds)\n",
    "c = pygsti.alg.stabilizer_measurement_preparation_circuit(s, p, ds=ds)"
   ]
  },
  {
   "cell_type": "code",
   "execution_count": 6,
   "metadata": {
    "collapsed": false,
    "deletable": true,
    "editable": true
   },
   "outputs": [],
   "source": [
    "#c = newrb.construct_cliffordrb_circuit(ds, 10)\n",
    "#print(c.depth())"
   ]
  },
  {
   "cell_type": "code",
   "execution_count": 7,
   "metadata": {
    "collapsed": false,
    "deletable": true,
    "editable": true
   },
   "outputs": [],
   "source": [
    "#c = newrb.sampler.construct_grb_circuit(ds, 10)\n",
    "#print(c.depth())"
   ]
  }
 ],
 "metadata": {
  "kernelspec": {
   "display_name": "Python 2",
   "language": "python",
   "name": "python2"
  },
  "language_info": {
   "codemirror_mode": {
    "name": "ipython",
    "version": 2
   },
   "file_extension": ".py",
   "mimetype": "text/x-python",
   "name": "python",
   "nbconvert_exporter": "python",
   "pygments_lexer": "ipython2",
   "version": "2.7.10"
  }
 },
 "nbformat": 4,
 "nbformat_minor": 2
}
