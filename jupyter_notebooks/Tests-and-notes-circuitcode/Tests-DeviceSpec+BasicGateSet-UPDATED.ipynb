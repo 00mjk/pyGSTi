{
 "cells": [
  {
   "cell_type": "code",
   "execution_count": 1,
   "metadata": {
    "collapsed": false,
    "deletable": true,
    "editable": true
   },
   "outputs": [
    {
     "name": "stderr",
     "output_type": "stream",
     "text": [
      "/Users/enielse/research/pyGSTi/packages/pygsti/tools/matrixtools.py:23: UserWarning: Could not import Cython extension - falling back to slower pure-python routines\n",
      "  _warnings.warn(\"Could not import Cython extension - falling back to slower pure-python routines\")\n"
     ]
    }
   ],
   "source": [
    "from __future__ import division, print_function, absolute_import, unicode_literals\n",
    "import numpy as np\n",
    "\n",
    "import pygsti\n",
    "# OLD: from pygsti.extras import circuit"
   ]
  },
  {
   "cell_type": "code",
   "execution_count": 2,
   "metadata": {
    "collapsed": false,
    "deletable": true,
    "editable": true
   },
   "outputs": [],
   "source": [
    "# The most basic initialization of a BasicGateSet object. It is essentially empty\n",
    "# OLD: bgs = circuit.BasicGateSet(n=2)\n",
    "bgs = pygsti.construction.build_nqubit_standard_gateset(nQubits=2, gate_names=[])"
   ]
  },
  {
   "cell_type": "code",
   "execution_count": 3,
   "metadata": {
    "collapsed": false,
    "deletable": true,
    "editable": true
   },
   "outputs": [
    {
     "name": "stderr",
     "output_type": "stream",
     "text": [
      "/Users/enielse/research/pyGSTi/packages/pygsti/construction/gatesetconstruction.py:1225: UserWarning:\n",
      "\n",
      "Failed to create clifford gate Gt. Dropping it.\n",
      "\n"
     ]
    }
   ],
   "source": [
    "# A list of standard hard-coded gate labels\n",
    "# OLD: gllist = ['I', 'H','P','CNOT']\n",
    "gllist = ['Gi','Gh','Gp','Gcnot','Gt'] \n",
    "  # Note: would need to include 'Gt' here (for ordering) if it was to be in this \n",
    "  # gate set, but since we're making a *Clifford* gate set below and Gt isn't a \n",
    "  # Clifford we can't actually include it.  This would normally result in an\n",
    "  # error except that below we set on_construction_error='warn'.\n",
    "\n",
    "# A dictionary of unitaries that do not need to be already known to the code\n",
    "#OLD: unitaries={'T' : np.array([[1.,0.],[0.,np.exp(np.pi*1j/4)]])}\n",
    "unitaries={'Gt' : np.array([[1.,0.],[0.,np.exp(np.pi*1j/4)]])}\n",
    "\n",
    "# The number of qubits\n",
    "n = 10\n",
    "\n",
    "# The availiability of gates that are not available to all qubit / qubit pairs\n",
    "availability = {}\n",
    "\n",
    "# Let's make a the CNOT gate be connected in a directed ring.\n",
    "# OLD: a = np.zeros((n,n),int)\n",
    "# OLD: for i in range(0,n-1):\n",
    "# OLD:     a[i,i+1] = 1\n",
    "# OLD: a[n-1,0] = 1\n",
    "a = [(i,i+1) for i in range(0,n-1)] + [(n-1,0)]\n",
    "\n",
    "# OLD: availability={'CNOT':a}\n",
    "availability={'Gcnot':a}\n",
    "\n",
    "# Specifies whether Clifford-only quantities should be populated for the gates that are Clifford\n",
    "# OLD: clifford = True\n",
    "parameterization = 'clifford'\n",
    "\n",
    "# OLD: BGS = circuit.BasicGateSet(n=n,gllist=gllist,unitaries=unitaries,clifford=clifford)\n",
    "BGS = pygsti.construction.build_nqubit_standard_gateset(\n",
    "    nQubits=n, gate_names=gllist, nonstd_gate_unitaries=unitaries,\n",
    "    availability=availability, parameterization=parameterization,\n",
    "    on_construction_error='warn')"
   ]
  },
  {
   "cell_type": "code",
   "execution_count": 4,
   "metadata": {
    "collapsed": false,
    "deletable": true,
    "editable": true
   },
   "outputs": [
    {
     "data": {
      "text/plain": [
       "{u'Gcnot': (array([[1, 0, 0, 0],\n",
       "         [1, 1, 0, 0],\n",
       "         [0, 0, 1, 1],\n",
       "         [0, 0, 0, 1]]), array([0, 0, 0, 0])), u'Gh': (array([[0, 1],\n",
       "         [1, 0]]), array([0, 0])), u'Gi': (array([[1, 0],\n",
       "         [0, 1]]), array([0, 0])), u'Gp': (array([[1, 0],\n",
       "         [1, 1]]), array([1, 0]))}"
      ]
     },
     "execution_count": 4,
     "metadata": {},
     "output_type": "execute_result"
    }
   ],
   "source": [
    "# OLD: BGS.smatrix # a dictionary of the smatrices for each \"root\" gate-name\n",
    "BGS.get_clifford_symplectic_reps()"
   ]
  },
  {
   "cell_type": "code",
   "execution_count": 5,
   "metadata": {
    "collapsed": false,
    "deletable": true,
    "editable": true
   },
   "outputs": [],
   "source": [
    "# We can also populate a DeviceSpec using the same things. When the device spec is made it populates some\n",
    "# extra things that are useful for circuit compiling.\n",
    "\n",
    "# If this is true, if creates compilations for a set of \"standard\" Clifford gates\n",
    "# OLD: construct_std_compilations=True\n",
    "construct_std_compilations = ('paulieq','absolute') # now specify which std compilations you want (this is also the default)\n",
    "\n",
    "# Todo : the device spec will give an error when the idle is not in the gateset. This is ok, but it should \n",
    "# do an assert.\n",
    "\n",
    "# OLD: ds = circuit.DeviceSpec(n, gllist, unitaries, clifford=True, availability=availability,\n",
    "# OLD:                         construct_std_compilations=construct_std_compilations, verbosity=0)\n",
    "ds = pygsti.obj.ProcessorSpec(\n",
    "    nQubits=n, gate_names=gllist, nonstd_gate_unitaries=unitaries,\n",
    "    availability=availability, construct_models=(\"clifford\",),\n",
    "    construct_clifford_compilations=construct_std_compilations, verbosity=0)"
   ]
  },
  {
   "cell_type": "code",
   "execution_count": 6,
   "metadata": {
    "collapsed": false,
    "deletable": true,
    "editable": true
   },
   "outputs": [
    {
     "name": "stdout",
     "output_type": "stream",
     "text": [
      "Qubit 0 ---|  |-|  |-|  |-|  |-|  |-|  |-|  |-|  |---\n",
      "Qubit 1 ---Gcnot:1:2|-||  |-|  |-|  |-Gcnot:1:2|-||  |-|  |-|  |---\n",
      "Qubit 2 ---Gcnot:1:2|-|Gcnot:2:3|-||  |-Gcnot:2:3|-|Gcnot:1:2|-|Gcnot:2:3|-||  |-Gcnot:2:3|-|--\n",
      "Qubit 3 ---|  |-Gcnot:2:3|-|Gcnot:3:4|-|Gcnot:2:3|-||  |-Gcnot:2:3|-|Gcnot:3:4|-|Gcnot:2:3|-|--\n",
      "Qubit 4 ---|  |-|  |-Gcnot:3:4|-||  |-|  |-|  |-Gcnot:3:4|-||  |---\n",
      "Qubit 5 ---|  |-|  |-|  |-|  |-|  |-|  |-|  |-|  |---\n",
      "Qubit 6 ---|  |-|  |-|  |-|  |-|  |-|  |-|  |-|  |---\n",
      "Qubit 7 ---|  |-|  |-|  |-|  |-|  |-|  |-|  |-|  |---\n",
      "Qubit 8 ---|  |-|  |-|  |-|  |-|  |-|  |-|  |-|  |---\n",
      "Qubit 9 ---|  |-|  |-|  |-|  |-|  |-|  |-|  |-|  |---\n",
      "\n",
      "Qubit 0 ---|  |-|  |-|  |-|  |---\n",
      "Qubit 1 ---|Gh |-|Gp |-|Gp |-|Gh |---\n",
      "Qubit 2 ---|  |-|  |-|  |-|  |---\n",
      "Qubit 3 ---|  |-|  |-|  |-|  |---\n",
      "Qubit 4 ---|  |-|  |-|  |-|  |---\n",
      "Qubit 5 ---|  |-|  |-|  |-|  |---\n",
      "Qubit 6 ---|  |-|  |-|  |-|  |---\n",
      "Qubit 7 ---|  |-|  |-|  |-|  |---\n",
      "Qubit 8 ---|  |-|  |-|  |-|  |---\n",
      "Qubit 9 ---|  |-|  |-|  |-|  |---\n",
      "\n"
     ]
    }
   ],
   "source": [
    "# This is a CompilationLibraries object, which holds compilations for, e.g., CNOT between 1 and 4\n",
    "compilations = ds.compilations\n",
    "\n",
    "# There are two types of compilation, stored under compilations.paulieq and compilations.absolute.\n",
    "# The latter is a absolute compilation, i.e., the circuit implements the claimed gate. The former only\n",
    "# implements the claimed gate up to Paulis.\n",
    "\n",
    "# OLD: c = ds.compilations.paulieq[circuit.Gate('CNOT',(1,4))]\n",
    "c = ds.compilations['paulieq'][pygsti.obj.Label('CNOT',(1,4))]\n",
    "\n",
    "print(c)\n",
    "\n",
    "# OLD: c = ds.compilations.absolute[circuit.Gate('X',1)]\n",
    "c = ds.compilations['absolute'][pygsti.obj.Label('X',1)]\n",
    "\n",
    "print(c)"
   ]
  },
  {
   "cell_type": "code",
   "execution_count": 7,
   "metadata": {
    "collapsed": false,
    "deletable": true,
    "editable": true
   },
   "outputs": [
    {
     "name": "stdout",
     "output_type": "stream",
     "text": [
      "[[-9999     0     1     2     3     4     7     8     9     0]\n",
      " [    1 -9999     1     2     3     4     5     8     9     0]\n",
      " [    1     2 -9999     2     3     4     5     6     9     0]\n",
      " [    1     2     3 -9999     3     4     5     6     7     0]\n",
      " [    1     2     3     4 -9999     4     5     6     7     0]\n",
      " [    1     2     3     4     5 -9999     5     6     7     8]\n",
      " [    9     2     3     4     5     6 -9999     6     7     8]\n",
      " [    9     0     3     4     5     6     7 -9999     7     8]\n",
      " [    9     0     1     4     5     6     7     8 -9999     8]\n",
      " [    9     0     1     2     3     6     7     8     9 -9999]]\n",
      "[[0. 1. 2. 3. 4. 5. 4. 3. 2. 1.]\n",
      " [1. 0. 1. 2. 3. 4. 5. 4. 3. 2.]\n",
      " [2. 1. 0. 1. 2. 3. 4. 5. 4. 3.]\n",
      " [3. 2. 1. 0. 1. 2. 3. 4. 5. 4.]\n",
      " [4. 3. 2. 1. 0. 1. 2. 3. 4. 5.]\n",
      " [5. 4. 3. 2. 1. 0. 1. 2. 3. 4.]\n",
      " [4. 5. 4. 3. 2. 1. 0. 1. 2. 3.]\n",
      " [3. 4. 5. 4. 3. 2. 1. 0. 1. 2.]\n",
      " [2. 3. 4. 5. 4. 3. 2. 1. 0. 1.]\n",
      " [1. 2. 3. 4. 5. 4. 3. 2. 1. 0.]]\n"
     ]
    }
   ],
   "source": [
    "# A matrix giving the shorest path between qubits\n",
    "print(ds.qubitgraph.shortest_path_predecessor_matrix())\n",
    "\n",
    "# A matrix giving the distance between qubits\n",
    "print(ds.qubitgraph.shortest_path_distance_matrix())"
   ]
  },
  {
   "cell_type": "code",
   "execution_count": 8,
   "metadata": {
    "collapsed": false,
    "deletable": true,
    "editable": true
   },
   "outputs": [
    {
     "name": "stdout",
     "output_type": "stream",
     "text": [
      "Qubit 0 ---|Gi |---\n",
      "Qubit 1 ---|  |---\n",
      "Qubit 2 ---|  |---\n",
      "Qubit 3 ---|  |---\n",
      "Qubit 4 ---|  |---\n",
      "Qubit 5 ---|  |---\n",
      "Qubit 6 ---|  |---\n",
      "Qubit 7 ---|  |---\n",
      "Qubit 8 ---|  |---\n",
      "Qubit 9 ---|  |---\n",
      "\n",
      "Is the compilation for:  I:0\n"
     ]
    }
   ],
   "source": [
    "# OLD: print(ds.compilations.absolute[ds.compilations.absolute.keys()[0]])\n",
    "print(ds.compilations['absolute'][ds.compilations['absolute'].keys()[0]])\n",
    "print(\"Is the compilation for: \",ds.compilations['absolute'].keys()[0])"
   ]
  },
  {
   "cell_type": "code",
   "execution_count": 9,
   "metadata": {
    "collapsed": false,
    "deletable": true,
    "editable": true
   },
   "outputs": [],
   "source": [
    "# Device specs can be given \"GateSetModel\" that is stored in the .models dictionary\n",
    "# OLD: ds.models[\"Null model\"] = circuit.GateSetModel(operators=None,n=n,mtype='purestate')\n",
    "ds.models[\"Null model\"] = pygsti.construction.build_nqubit_standard_gateset(\n",
    "                                nQubits=n, gate_names=[], evotype='statevec', sim_type='map')"
   ]
  },
  {
   "cell_type": "code",
   "execution_count": 10,
   "metadata": {
    "collapsed": false,
    "deletable": true,
    "editable": true
   },
   "outputs": [
    {
     "name": "stdout",
     "output_type": "stream",
     "text": [
      "Creating a circuit to implement H up to Pauli gates on qubit 0...\n",
      "Generating template for a pauli-equivalence compilation of the H gate...\n",
      "Checking all length 1 1-qubit circuits... (3)\n",
      "Compilation template created!\n",
      "Creating a circuit to implement P up to Pauli gates on qubit 0...\n",
      "Generating template for a pauli-equivalence compilation of the P gate...\n",
      "Checking all length 1 1-qubit circuits... (3)\n",
      "Compilation template created!\n",
      "Creating a circuit to implement PH up to Pauli gates on qubit 0...\n",
      "Generating template for a pauli-equivalence compilation of the PH gate...\n",
      "Checking all length 1 1-qubit circuits... (3)\n",
      "Checking all length 2 1-qubit circuits... (9)\n",
      "Compilation template created!\n",
      "Creating a circuit to implement HP up to Pauli gates on qubit 0...\n",
      "Generating template for a pauli-equivalence compilation of the HP gate...\n",
      "Checking all length 1 1-qubit circuits... (3)\n",
      "Checking all length 2 1-qubit circuits... (9)\n",
      "Compilation template created!\n",
      "Creating a circuit to implement HPH up to Pauli gates on qubit 0...\n",
      "Generating template for a pauli-equivalence compilation of the HPH gate...\n",
      "Checking all length 1 1-qubit circuits... (3)\n",
      "Checking all length 2 1-qubit circuits... (9)\n",
      "Checking all length 3 1-qubit circuits... (27)\n",
      "Compilation template created!\n",
      "Complete.\n",
      "Creating a circuit to implement H up to Pauli gates on qubit 1...\n",
      "Existing template found!\n",
      "Creating a circuit to implement P up to Pauli gates on qubit 1...\n",
      "Existing template found!\n",
      "Creating a circuit to implement PH up to Pauli gates on qubit 1...\n",
      "Existing template found!\n",
      "Creating a circuit to implement HP up to Pauli gates on qubit 1...\n",
      "Existing template found!\n",
      "Creating a circuit to implement HPH up to Pauli gates on qubit 1...\n",
      "Existing template found!\n",
      "Complete.\n",
      "Creating a circuit to implement H up to Pauli gates on qubit 2...\n",
      "Existing template found!\n",
      "Creating a circuit to implement P up to Pauli gates on qubit 2...\n",
      "Existing template found!\n",
      "Creating a circuit to implement PH up to Pauli gates on qubit 2...\n",
      "Existing template found!\n",
      "Creating a circuit to implement HP up to Pauli gates on qubit 2...\n",
      "Existing template found!\n",
      "Creating a circuit to implement HPH up to Pauli gates on qubit 2...\n",
      "Existing template found!\n",
      "Complete.\n",
      "Creating a circuit to implement H up to Pauli gates on qubit 3...\n",
      "Existing template found!\n",
      "Creating a circuit to implement P up to Pauli gates on qubit 3...\n",
      "Existing template found!\n",
      "Creating a circuit to implement PH up to Pauli gates on qubit 3...\n",
      "Existing template found!\n",
      "Creating a circuit to implement HP up to Pauli gates on qubit 3...\n",
      "Existing template found!\n",
      "Creating a circuit to implement HPH up to Pauli gates on qubit 3...\n",
      "Existing template found!\n",
      "Complete.\n",
      "Creating a circuit to implement CNOT up to Pauli gates on qubits (0, 1)...\n",
      "Generating template for a pauli-equivalence compilation of the CNOT gate...\n",
      "Checking all length 1 2-qubit circuits... (11)\n",
      "Checking all length 2 2-qubit circuits... (121)\n",
      "Checking all length 3 2-qubit circuits... (1331)\n",
      "Compilation template created!\n",
      "Creating a circuit to implement CNOT up to Pauli gates on qubits (0, 2)...\n",
      "Existing template found!\n",
      "Creating a circuit to implement CNOT up to Pauli gates on qubits (0, 3)...\n",
      "Existing template found!\n",
      "Creating a circuit to implement CNOT up to Pauli gates on qubits (1, 0)...\n",
      "Existing template found!\n",
      "Creating a circuit to implement CNOT up to Pauli gates on qubits (1, 2)...\n",
      "Existing template found!\n",
      "Creating a circuit to implement CNOT up to Pauli gates on qubits (1, 3)...\n",
      "Existing template found!\n",
      "Creating a circuit to implement CNOT up to Pauli gates on qubits (2, 0)...\n",
      "Existing template found!\n",
      "Creating a circuit to implement CNOT up to Pauli gates on qubits (2, 1)...\n",
      "Existing template found!\n",
      "Creating a circuit to implement CNOT up to Pauli gates on qubits (2, 3)...\n",
      "Existing template found!\n",
      "Creating a circuit to implement CNOT up to Pauli gates on qubits (3, 0)...\n",
      "Existing template found!\n",
      "Creating a circuit to implement CNOT up to Pauli gates on qubits (3, 1)...\n",
      "Existing template found!\n",
      "Creating a circuit to implement CNOT up to Pauli gates on qubits (3, 2)...\n",
      "Existing template found!\n",
      "Creating a circuit to implement I  on qubit 0...\n",
      "Generating template for an absolute compilation of the I gate...\n",
      "Checking all length 1 1-qubit circuits... (3)\n",
      "Compilation template created!\n",
      "Creating a circuit to implement X  on qubit 0...\n",
      "Generating template for an absolute compilation of the X gate...\n",
      "Checking all length 1 1-qubit circuits... (3)\n",
      "Checking all length 2 1-qubit circuits... (9)\n",
      "Checking all length 3 1-qubit circuits... (27)\n",
      "Checking all length 4 1-qubit circuits... (81)\n",
      "Compilation template created!\n",
      "Creating a circuit to implement Y  on qubit 0...\n",
      "Generating template for an absolute compilation of the Y gate...\n",
      "Checking all length 1 1-qubit circuits... (3)\n",
      "Checking all length 2 1-qubit circuits... (9)\n",
      "Checking all length 3 1-qubit circuits... (27)\n",
      "Checking all length 4 1-qubit circuits... (81)\n",
      "Checking all length 5 1-qubit circuits... (243)\n",
      "Checking all length 6 1-qubit circuits... (729)\n",
      "Compilation template created!\n",
      "Creating a circuit to implement Z  on qubit 0...\n",
      "Generating template for an absolute compilation of the Z gate...\n",
      "Checking all length 1 1-qubit circuits... (3)\n",
      "Checking all length 2 1-qubit circuits... (9)\n",
      "Compilation template created!\n",
      "Complete.\n",
      "Creating a circuit to implement I  on qubit 1...\n",
      "Existing template found!\n",
      "Creating a circuit to implement X  on qubit 1...\n",
      "Existing template found!\n",
      "Creating a circuit to implement Y  on qubit 1...\n",
      "Existing template found!\n",
      "Creating a circuit to implement Z  on qubit 1...\n",
      "Existing template found!\n",
      "Complete.\n",
      "Creating a circuit to implement I  on qubit 2...\n",
      "Existing template found!\n",
      "Creating a circuit to implement X  on qubit 2...\n",
      "Existing template found!\n",
      "Creating a circuit to implement Y  on qubit 2...\n",
      "Existing template found!\n",
      "Creating a circuit to implement Z  on qubit 2...\n",
      "Existing template found!\n",
      "Complete.\n",
      "Creating a circuit to implement I  on qubit 3...\n",
      "Existing template found!\n",
      "Creating a circuit to implement X  on qubit 3...\n",
      "Existing template found!\n",
      "Creating a circuit to implement Y  on qubit 3...\n",
      "Existing template found!\n",
      "Creating a circuit to implement Z  on qubit 3...\n",
      "Existing template found!\n",
      "Complete.\n"
     ]
    }
   ],
   "source": [
    "# Let's create a new DeviceSpec on less qubits, with full connectivity\n",
    "# OLD: gllist = ['I', 'H','P','CPHASE']\n",
    "gllist = ['Gi','Gh','Gp','Gcphase']\n",
    "\n",
    "# The number of qubits\n",
    "n = 4\n",
    "\n",
    "# OLD: ds2 = circuit.DeviceSpec(n, gllist,  clifford=True, verbosity=1)\n",
    "ds2 = pygsti.obj.ProcessorSpec(n, gllist, construct_models=(\"clifford\",), verbosity=1)"
   ]
  },
  {
   "cell_type": "code",
   "execution_count": 11,
   "metadata": {
    "collapsed": false,
    "deletable": true,
    "editable": true
   },
   "outputs": [],
   "source": [
    "# We can also create less trivial examples, which then allow us to do circuit simulations (the model\n",
    "# above fairly obviously won't work if we hand it to a simulator).\n",
    "\n",
    "# Lets construct a model which has perfect gates. Note that the code below wouldn't be correct\n",
    "# for a device with non-symmetric gates -- in that case care has to be taken to input the \n",
    "# unitaries correctly.\n",
    "# OLD: operators = {}\n",
    "# OLD: for gate in ds2.allgates:\n",
    "# OLD:     operators[gate] = ds2.gateset.unitaries[gate.label]  \n",
    "# OLD: ds2.models['Target'] = circuit.GateSetModel(operators,n,mtype='purestate')\n",
    "\n",
    "#In updated pyGSTi, models are just additional gatesets with non-clifford parameterizations\n",
    "# (which means they can currently be simulated).  \"svmap\" == \"(pure) state vector map-based simulations\"\n",
    "ds2.models['Target'] = pygsti.construction.build_nqubit_standard_gateset(\n",
    "    n, gllist, parameterization=\"static\", evotype=\"statevec\", sim_type=\"map\")\n",
    "# OR you could do this (which replaces ds2.models['Target']), since 'Target' is known as a standard model:\n",
    "ds2.add_std_model('Target')"
   ]
  },
  {
   "cell_type": "code",
   "execution_count": 12,
   "metadata": {
    "collapsed": false,
    "deletable": true,
    "editable": true
   },
   "outputs": [],
   "source": [
    "# OLD: s, p = circuit.random_clifford(4)\n",
    "# OLD: sin, pin = circuit.inverse_clifford(s,p)\n",
    "s, p = pygsti.tools.random_clifford(4)\n",
    "sin, pin = pygsti.tools.inverse_clifford(s,p)\n",
    "\n",
    "# Creates the circuit, over the gates in ds2.\n",
    "# OLD: c = circuit.compile_clifford(s, p, ds=ds2)\n",
    "# OLD: c.append_circuit(circuit.compile_clifford(sin, pin, ds=ds2))\n",
    "\n",
    "c = pygsti.alg.compile_clifford(s, p, pspec=ds2)\n",
    "c.append_circuit(pygsti.alg.compile_clifford(sin, pin, pspec=ds2))\n",
    "\n",
    "\n",
    "#print(c)"
   ]
  },
  {
   "cell_type": "code",
   "execution_count": 13,
   "metadata": {
    "collapsed": false,
    "deletable": true,
    "editable": true
   },
   "outputs": [
    {
     "name": "stdout",
     "output_type": "stream",
     "text": [
      "0.9999999999999871\n",
      "0.0\n"
     ]
    }
   ],
   "source": [
    "# As we can see, the output is (0,0,0,0) with probability 1. (when no input is given to the simulators, the input\n",
    "# is taken to be (0,0,0,0)).\n",
    "\n",
    "simout = c.simulate(ds2.models['Target'])\n",
    "# OLD: print(simout[0,0,0,0])\n",
    "print(simout['0000'])\n",
    "x = 0\n",
    "for key in list(simout.keys()):\n",
    "    x += simout[key]\n",
    "# OLD x = x - simout[0,0,0,0]\n",
    "x = x - simout['0000']\n",
    "print(x)"
   ]
  },
  {
   "cell_type": "code",
   "execution_count": 14,
   "metadata": {
    "collapsed": false,
    "deletable": true,
    "editable": true
   },
   "outputs": [
    {
     "name": "stdout",
     "output_type": "stream",
     "text": [
      "Creating a circuit to implement H up to Pauli gates on qubit 0...\n",
      "Generating template for a pauli-equivalence compilation of the H gate...\n",
      "Checking all length 1 1-qubit circuits... (2)\n",
      "Compilation template created!\n",
      "Creating a circuit to implement P up to Pauli gates on qubit 0...\n",
      "Generating template for a pauli-equivalence compilation of the P gate...\n",
      "Checking all length 1 1-qubit circuits... (2)\n",
      "Compilation template created!\n",
      "Creating a circuit to implement PH up to Pauli gates on qubit 0...\n",
      "Generating template for a pauli-equivalence compilation of the PH gate...\n",
      "Checking all length 1 1-qubit circuits... (2)\n",
      "Checking all length 2 1-qubit circuits... (4)\n",
      "Compilation template created!\n",
      "Creating a circuit to implement HP up to Pauli gates on qubit 0...\n",
      "Generating template for a pauli-equivalence compilation of the HP gate...\n",
      "Checking all length 1 1-qubit circuits... (2)\n",
      "Checking all length 2 1-qubit circuits... (4)\n",
      "Compilation template created!\n",
      "Creating a circuit to implement HPH up to Pauli gates on qubit 0...\n",
      "Generating template for a pauli-equivalence compilation of the HPH gate...\n",
      "Checking all length 1 1-qubit circuits... (2)\n",
      "Checking all length 2 1-qubit circuits... (4)\n",
      "Checking all length 3 1-qubit circuits... (8)\n",
      "Compilation template created!\n",
      "Complete.\n",
      "Creating a circuit to implement H up to Pauli gates on qubit 1...\n",
      "Existing template found!\n",
      "Creating a circuit to implement P up to Pauli gates on qubit 1...\n",
      "Existing template found!\n",
      "Creating a circuit to implement PH up to Pauli gates on qubit 1...\n",
      "Existing template found!\n",
      "Creating a circuit to implement HP up to Pauli gates on qubit 1...\n",
      "Existing template found!\n",
      "Creating a circuit to implement HPH up to Pauli gates on qubit 1...\n",
      "Existing template found!\n",
      "Complete.\n",
      "Creating a circuit to implement H up to Pauli gates on qubit 2...\n",
      "Existing template found!\n",
      "Creating a circuit to implement P up to Pauli gates on qubit 2...\n",
      "Existing template found!\n",
      "Creating a circuit to implement PH up to Pauli gates on qubit 2...\n",
      "Existing template found!\n",
      "Creating a circuit to implement HP up to Pauli gates on qubit 2...\n",
      "Existing template found!\n",
      "Creating a circuit to implement HPH up to Pauli gates on qubit 2...\n",
      "Existing template found!\n",
      "Complete.\n",
      "Creating a circuit to implement CNOT up to Pauli gates on qubits (0, 1)...\n",
      "Existing template found!\n",
      "Creating a circuit to implement CNOT up to Pauli gates on qubits (0, 2)...\n",
      "Existing template found!\n",
      "Creating a circuit to implement CNOT up to Pauli gates on qubits (1, 0)...\n",
      "Existing template found!\n",
      "Creating a circuit to implement CNOT up to Pauli gates on qubits (1, 2)...\n",
      "Existing template found!\n",
      "Creating a circuit to implement CNOT up to Pauli gates on qubits (2, 0)...\n",
      "Existing template found!\n",
      "Creating a circuit to implement CNOT up to Pauli gates on qubits (2, 1)...\n",
      "Existing template found!\n",
      "Creating a circuit to implement I  on qubit 0...\n",
      "Generating template for an absolute compilation of the I gate...\n",
      "Checking all length 1 1-qubit circuits... (2)\n",
      "Checking all length 2 1-qubit circuits... (4)\n",
      "Compilation template created!\n",
      "Creating a circuit to implement X  on qubit 0...\n",
      "Generating template for an absolute compilation of the X gate...\n",
      "Checking all length 1 1-qubit circuits... (2)\n",
      "Checking all length 2 1-qubit circuits... (4)\n",
      "Checking all length 3 1-qubit circuits... (8)\n",
      "Checking all length 4 1-qubit circuits... (16)\n",
      "Compilation template created!\n",
      "Creating a circuit to implement Y  on qubit 0...\n",
      "Generating template for an absolute compilation of the Y gate...\n",
      "Checking all length 1 1-qubit circuits... (2)\n",
      "Checking all length 2 1-qubit circuits... (4)\n",
      "Checking all length 3 1-qubit circuits... (8)\n",
      "Checking all length 4 1-qubit circuits... (16)\n",
      "Checking all length 5 1-qubit circuits... (32)\n",
      "Checking all length 6 1-qubit circuits... (64)\n",
      "Compilation template created!\n",
      "Creating a circuit to implement Z  on qubit 0...\n",
      "Generating template for an absolute compilation of the Z gate...\n",
      "Checking all length 1 1-qubit circuits... (2)\n",
      "Checking all length 2 1-qubit circuits... (4)\n",
      "Compilation template created!\n",
      "Complete.\n",
      "Creating a circuit to implement I  on qubit 1...\n",
      "Existing template found!\n",
      "Creating a circuit to implement X  on qubit 1...\n",
      "Existing template found!\n",
      "Creating a circuit to implement Y  on qubit 1...\n",
      "Existing template found!\n",
      "Creating a circuit to implement Z  on qubit 1...\n",
      "Existing template found!\n",
      "Complete.\n",
      "Creating a circuit to implement I  on qubit 2...\n",
      "Existing template found!\n",
      "Creating a circuit to implement X  on qubit 2...\n",
      "Existing template found!\n",
      "Creating a circuit to implement Y  on qubit 2...\n",
      "Existing template found!\n",
      "Creating a circuit to implement Z  on qubit 2...\n",
      "Existing template found!\n",
      "Complete.\n"
     ]
    },
    {
     "data": {
      "text/plain": [
       "<pygsti.objects.processorspec.ProcessorSpec at 0x110940c50>"
      ]
     },
     "execution_count": 14,
     "metadata": {},
     "output_type": "execute_result"
    }
   ],
   "source": [
    "#Tim's example code that wasn't working before - just to make sure...\n",
    "n = 3\n",
    "glist = ['Gh','Gp','Gcnot']\n",
    "pygsti.obj.ProcessorSpec(n,glist)"
   ]
  },
  {
   "cell_type": "code",
   "execution_count": null,
   "metadata": {
    "collapsed": true
   },
   "outputs": [],
   "source": []
  }
 ],
 "metadata": {
  "kernelspec": {
   "display_name": "Python 2",
   "language": "python",
   "name": "python2"
  },
  "language_info": {
   "codemirror_mode": {
    "name": "ipython",
    "version": 2
   },
   "file_extension": ".py",
   "mimetype": "text/x-python",
   "name": "python",
   "nbconvert_exporter": "python",
   "pygments_lexer": "ipython2",
   "version": "2.7.10"
  }
 },
 "nbformat": 4,
 "nbformat_minor": 2
}
