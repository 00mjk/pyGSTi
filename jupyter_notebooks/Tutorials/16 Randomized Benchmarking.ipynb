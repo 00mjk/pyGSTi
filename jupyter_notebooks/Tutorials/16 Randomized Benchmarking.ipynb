{
 "cells": [
  {
   "cell_type": "markdown",
   "metadata": {},
   "source": [
    "# Randomized Benchmarking Tutorial"
   ]
  },
  {
   "cell_type": "markdown",
   "metadata": {},
   "source": [
    "This tutorial demonstrates how to perform randomized benchmarking (RB) using `pygsti`.  While RB is a very distinct protocol from Gate Set Tomography (GST), `pygsti` includes basic support for RB because of its prevalence in the community, its simplicity, and its considerable use of GST-related concepts and data structures.  Much of the implementation draws from ideas in Wallman and Flammia's [\"Randomized benchmarking with confidence\"](http://iopscience.iop.org/article/10.1088/1367-2630/16/10/103032).\n",
    "\n",
    "This tutorial will show the following, all in the context of benchmarking a single qubit:\n",
    "- how to create a list of random RB sequences (experiments).  These are just a list of pyGSTi `GateString` objects.\n",
    "- how to write a template data file from this list.\n",
    "- how to compute RB fit parameters and average fidelity from a pyGSTi `DataSet` filled with RB sequence data.\n",
    "- how to compute error bars on the various RB parameters and derived quantities.\n",
    "\n",
    "We'll begin by importing relevant modules:"
   ]
  },
  {
   "cell_type": "code",
   "execution_count": 1,
   "metadata": {
    "collapsed": false
   },
   "outputs": [],
   "source": [
    "from __future__ import print_function #python 2 & 3 compatibility\n",
    "\n",
    "import pygsti\n",
    "from pygsti.extras import rb\n",
    "from pygsti.construction import std1Q_XYI\n",
    "\n",
    "%matplotlib inline"
   ]
  },
  {
   "cell_type": "markdown",
   "metadata": {},
   "source": [
    "## Primitive gates, and how they map to Cliffords\n",
    "First, let's choose a \"target\" gateset.  This is the set of physically-implemented, or \"primitive\" gates.  For this tutorial, we'll just use the standard $I$, $X(\\pi/2)$, $Y(\\pi/2)$ set."
   ]
  },
  {
   "cell_type": "code",
   "execution_count": 2,
   "metadata": {
    "collapsed": false
   },
   "outputs": [
    {
     "name": "stdout",
     "output_type": "stream",
     "text": [
      "Primitive gates =  [u'Gi', u'Gx', u'Gy']\n"
     ]
    }
   ],
   "source": [
    "gs_target = std1Q_XYI.gs_target\n",
    "print(\"Primitive gates = \", gs_target.gates.keys())"
   ]
  },
  {
   "cell_type": "markdown",
   "metadata": {},
   "source": [
    "To generate appropriately random RB sequences, we'll need to know how the set of all the 1-qubit Clifford gates map onto the primitive set (since RB requires sequences to be random sequences of *Cliffords*, not of primitive gates).  PyGSTi already contains the group of 1-qubit Cliffords, and defines each operator in terms of a set of seven \"canonical\" Clifford gates, $\\{I,X(\\pi/2),X(\\pi),X(-\\pi/2),Y(\\pi/2),Y(\\pi),Y(-\\pi/2)\\}$.\n",
    "\n",
    "Thus, we only need to know how to express each of these canonical gates as our primitive gates; then we can compose the mappings: {all Cliffords} $\\rightarrow$ {canonical Cliffords} and {canonical Cliffords} $\\rightarrow$ {primitive gates} to get our desired {all Cliffords} $\\rightarrow$ {primitive gates} map."
   ]
  },
  {
   "cell_type": "code",
   "execution_count": 3,
   "metadata": {
    "collapsed": false
   },
   "outputs": [],
   "source": [
    "# get the 1Q Clifford group, used later\n",
    "clifford_group = rb.std1Q.clifford_group\n",
    "\n",
    "# get the all-Cliffords --> canonical-Cliffords map\n",
    "clifford_to_canonical = rb.std1Q.clifford_to_canonical\n",
    "\n",
    "# define the canonical-Cliffords --> primitive-gates map\n",
    "canonical_to_primitive = { 'Gi':['Gi'],\n",
    "            'Gxp2':['Gx'], 'Gxp':['Gx','Gx'], 'Gxmp2':['Gx','Gx','Gx'],\n",
    "            'Gyp2':['Gy'], 'Gyp':['Gy','Gy'], 'Gymp2':['Gy','Gy','Gy'] }\n",
    "\n",
    "#Compose the two maps above to get the all-Cliffords --> primitive-gates map\n",
    "clifford_to_primitive = pygsti.construction.compose_alias_dicts(\n",
    "                            clifford_to_canonical,canonical_to_primitive)"
   ]
  },
  {
   "cell_type": "markdown",
   "metadata": {},
   "source": [
    "## Generating RB sequences\n",
    "Now let's decide what random Clifford sequences to generate.  We use $m$ to denote the length of a Clifford sequence (in Clifford gates) and $K_m$ to denote the number of different random sequences of length $m$ to use."
   ]
  },
  {
   "cell_type": "code",
   "execution_count": 4,
   "metadata": {
    "collapsed": true
   },
   "outputs": [],
   "source": [
    "m_min = 1        # minimum Clifford sequence length\n",
    "m_max = 1000     # maximum Clifford sequence length\n",
    "delta_m = 100    # length step size \n",
    "K_m_sched = 10   # K_m == 10 (constant) for all m\n",
    "\n",
    "#Note: K_m_sched need not be m-independent, and can be a dictionary\n",
    "# with (m,K_m) key-value pairs.  We'll demo this in a later tutorial."
   ]
  },
  {
   "cell_type": "markdown",
   "metadata": {},
   "source": [
    "Now generate the list of random RB Clifford sequences to run.  The `write_empty_rb_files` function handles this job, and does a lot. Here's what this one function call does:\n",
    "\n",
    "- creates lists of random RB gate sequences, one list for each $m$, according to the schedule given by $m_{min}$, $m_{max}$, $\\delta_m$, and $K_m$.  These sequences are expressed as strings of Clifford gate labels and translated using any of the supplied maps (in this case, the string are translated to \"primitive\" labels also).  These lists-of-lists are returned as a dictionary whose keys are \"clifford\" (always present) and \"primitive\" (b/c it's a key of the dict passed as `alias_maps`).\n",
    "- the lists for each set of gate labels (the Cliffords and primitives in this case) is aggregated across all $m$ values (so there's just a single list of all the RB sequences) and saved to a file beginning with the given base filename.\n",
    "- an empty `DataSet` is saved in text format using the RB sequences expressed in terms of Clifford gates.\n"
   ]
  },
  {
   "cell_type": "code",
   "execution_count": 5,
   "metadata": {
    "collapsed": false
   },
   "outputs": [],
   "source": [
    "filename_base = 'tutorial_files/rb_template'\n",
    "rb_sequences = rb.write_empty_rb_files(filename_base, m_min, m_max, delta_m,\n",
    "                                       clifford_group, K_m_sched,\n",
    "                                       {'primitive': clifford_to_primitive},\n",
    "                                       seed=0)\n",
    "\n",
    "#Note: Because K_m_sched is a constant, we cannot use Wallman and Flammia\n",
    "# error bars; if we try, the code warns us accordingly."
   ]
  },
  {
   "cell_type": "markdown",
   "metadata": {
    "collapsed": true
   },
   "source": [
    "There is now an empty template file [tutorial_files/rb_template.txt](tutorial_files/rb_template.txt). For actual physical experiments, this file should be filled with experimental data and read in using `pygsti.io.load_dataset`.  In this tutorial, we will generate fake data instead and just use the resulting dataset object.\n",
    "\n",
    "The files [tutorial_files/rb_template_clifford.txt](tutorial_files/rb_template_clifford.txt) and [tutorial_files/rb_template_primitive.txt](tutorial_files/rb_template_primitive.txt) are text files listing all the RB sequences, expressed in terms of Cliffords and primitives respectively."
   ]
  },
  {
   "cell_type": "markdown",
   "metadata": {},
   "source": [
    "## Generating fake data"
   ]
  },
  {
   "cell_type": "code",
   "execution_count": 6,
   "metadata": {
    "collapsed": true
   },
   "outputs": [],
   "source": [
    "#To generate a dataset, we first need to make a gateset.\n",
    "#Here we assume a gate set that is perfect except for some\n",
    "# small amount of depolarizing noise on each gate.\n",
    "depol_strength = 1e-3\n",
    "gs_experimental = std1Q_XYI.gs_target\n",
    "gs_experimental = gs_experimental.depolarize(gate_noise=depol_strength)"
   ]
  },
  {
   "cell_type": "code",
   "execution_count": 7,
   "metadata": {
    "collapsed": false
   },
   "outputs": [],
   "source": [
    "#Now we choose the number of clicks per experiment and simulate our data.\n",
    "#Note: the time to generate simulated data can be nontrivial, but here it\n",
    "# should only take a few seconds.\n",
    "\n",
    "all_rb_sequences = [] #construct an aggregate list of Clifford sequences\n",
    "for seqs_for_single_cliff_len in rb_sequences['clifford']:\n",
    "    all_rb_sequences.extend(seqs_for_single_cliff_len)\n",
    "    \n",
    "N=100 # number of samples\n",
    "rb_data = pygsti.construction.generate_fake_data(\n",
    "    gs_experimental,all_rb_sequences,N,'binomial',seed=1,\n",
    "    aliasDict=clifford_to_primitive)\n",
    "\n",
    "#Note the use of aliasDict in the line above to generate fake \n",
    "# data for *Clifford-label* sequences using a GateSet  \n",
    "# containing primitive gates."
   ]
  },
  {
   "cell_type": "markdown",
   "metadata": {},
   "source": [
    "## Running the RB analysis\n",
    "Now that we have data, it's time to perform the RB analysis.  The \n",
    "function `do_randomized_benchmarking` returns an `RBResults` object which holds all the relevant (input and output) RB quantities.  This object can (and will!) be used to generate error bars on the computed RB quanties.\n",
    "\n",
    "Some useful arguments are:\n",
    "- success_spamlabel : the spam label corresponding to the *expected* outcome when preparing and immediately measuring.\n",
    "- dim : the Hilbert space dimension.  This defaults to 2 (the 1-qubit case) and so can usually be left out.\n",
    "- pre_avg :  Are we, prior to fitting to the RB decay curve, going to \"pre-average\" the data?  That is, are we using a single survival probability per sequence length or not?  For now we recommend keeping this set to True (the default) for consitency with the literature.\n",
    "- clifford_to_primitive : specifying this map causes per-primitive values to be computed in addition to the usual per-Clifford values (of the average fidelity, for instance) NOTE, however, that RB IS NOT GUARANTEED TO GIVE RELIABLE A PRIMITIVE ANALYSIS (and in general will not!)."
   ]
  },
  {
   "cell_type": "code",
   "execution_count": 8,
   "metadata": {
    "collapsed": false
   },
   "outputs": [],
   "source": [
    "rb_results = rb.do_randomized_benchmarking(rb_data, all_rb_sequences,\n",
    "                                           success_spamlabel='minus', dim=2, pre_avg=True,\n",
    "                                           clifford_to_primitive = clifford_to_primitive)"
   ]
  },
  {
   "cell_type": "markdown",
   "metadata": {},
   "source": [
    "## Examining the output"
   ]
  },
  {
   "cell_type": "markdown",
   "metadata": {},
   "source": [
    "Okay, so we've done RB!  Now let's examine how we can use the returned `RBResults` object to visualize and inspect the results.  First let's plot the decay curves."
   ]
  },
  {
   "cell_type": "code",
   "execution_count": 9,
   "metadata": {
    "collapsed": false
   },
   "outputs": [
    {
     "data": {
      "image/png": "[encoded data removed]",
      "text/plain": [
       "<matplotlib.figure.Figure at 0x10efccc50>"
      ]
     },
     "metadata": {},
     "output_type": "display_data"
    },
    {
     "data": {
      "image/png": "[encoded data removed]",
      "text/plain": [
       "<matplotlib.figure.Figure at 0x10efcc210>"
      ]
     },
     "metadata": {},
     "output_type": "display_data"
    }
   ],
   "source": [
    "#Note: because we pre-averaged, each data blue data point is simply an \n",
    "# average of multiple success rates. However, for the primitives plot,\n",
    "# many sequences have a unique primitive sequence length, so this effect\n",
    "# is not nearly as pronounced.\n",
    "rb_results.plot('clifford')\n",
    "rb_results.plot('primitive')"
   ]
  },
  {
   "cell_type": "markdown",
   "metadata": {},
   "source": [
    "Let's look at the RB fit results.  The parameters are defined as follows,\n",
    "following the Wallman and Flammia article cited above.\n",
    "- `A`,`B`,`f` are fit parameters to the function $F(m) = A+B\\,f^m$, where $F(m)$ is the survival probability for sequences of length $m$.\n",
    "- `F_avg` $= ((d-1)\\,f+1)/d$, where for 1 qubit, $d=2$.  $F_{avg}$ is the average (Clifford or primitive) gate fidelity.\n",
    "- `r` $= 1-F_{avg}$.  For Cliffords, $r$ is the \"RB number.\""
   ]
  },
  {
   "cell_type": "code",
   "execution_count": 10,
   "metadata": {
    "collapsed": false
   },
   "outputs": [
    {
     "name": "stdout",
     "output_type": "stream",
     "text": [
      "clifford results\n",
      "A = 0.51004182865\n",
      "B = 0.497170567102\n",
      "f = 0.996128885349\n",
      "F_avg = 0.998064442675\n",
      "r = 0.00193555732537\n",
      "\n",
      "primitive results\n",
      "A = 0.514750182498\n",
      "B = 0.498550772138\n",
      "f = 0.998865857568\n",
      "F_avg = 0.999432928784\n",
      "r = 0.000567071215815\n",
      "\n"
     ]
    }
   ],
   "source": [
    "rb_results.print_clifford()\n",
    "print\n",
    "rb_results.print_primitive()"
   ]
  },
  {
   "cell_type": "markdown",
   "metadata": {},
   "source": [
    "## Determining error rate\n",
    "Because we generated our data from a known Markovian gate set, we can analytically compute the Clifford RB error rate r."
   ]
  },
  {
   "cell_type": "code",
   "execution_count": 11,
   "metadata": {
    "collapsed": false
   },
   "outputs": [
    {
     "name": "stdout",
     "output_type": "stream",
     "text": [
      "Analytic RB error rate: 0.00176791958146\n",
      "Experimental RB error rate: 0.00193555732537\n"
     ]
    }
   ],
   "source": [
    "#First we make map our experimental gate set of primitive operations\n",
    "#into a dictionary of Cliffords:\n",
    "gs_cliff_experimental = pygsti.construction.build_alias_gateset(\n",
    "                                gs_experimental,clifford_to_primitive)\n",
    "\n",
    "#Then we directly compute the average twirled Clifford error rate:\n",
    "analytic_rb_error_rate = rb.analytic_rb_clifford_gateset_error_rate(\n",
    "                                            gs_cliff_experimental,\n",
    "                                            rb.std1Q.gs_clifford_target,\n",
    "                                            rb.std1Q.clifford_group)\n",
    "\n",
    "print(\"Analytic RB error rate:\", analytic_rb_error_rate)\n",
    "print(\"Experimental RB error rate:\", rb_results.dicts['clifford']['r'])"
   ]
  },
  {
   "cell_type": "markdown",
   "metadata": {},
   "source": [
    "## Error Bars\n",
    "Lastly, let's put some error bars on the estimates. Because we used a constant K_m_sched, we can't compute analytic error bars using the Wallman and Flammia method. We can instead, however, compute bootstrapped error bars. Error bars here are 1-sigma confidence intervals."
   ]
  },
  {
   "cell_type": "code",
   "execution_count": 12,
   "metadata": {
    "collapsed": false
   },
   "outputs": [
    {
     "name": "stdout",
     "output_type": "stream",
     "text": [
      "Generating non-parametric dataset.\n",
      "Generating non-parametric dataset.\n",
      "Generating non-parametric dataset.\n",
      "Generating non-parametric dataset.\n",
      "Generating non-parametric dataset.\n",
      "Generating non-parametric dataset.\n",
      "Generating non-parametric dataset.\n",
      "Generating non-parametric dataset.\n",
      "Generating non-parametric dataset.\n",
      "Generating non-parametric dataset.\n",
      "Generating non-parametric dataset.\n",
      "Generating non-parametric dataset.\n",
      "Generating non-parametric dataset.\n",
      "Generating non-parametric dataset.\n",
      "Generating non-parametric dataset.\n",
      "Generating non-parametric dataset.\n",
      "Generating non-parametric dataset.\n",
      "Generating non-parametric dataset.\n",
      "Generating non-parametric dataset.\n",
      "Generating non-parametric dataset.\n",
      "Generating non-parametric dataset.\n",
      "Generating non-parametric dataset.\n",
      "Generating non-parametric dataset.\n",
      "Generating non-parametric dataset.\n",
      "Generating non-parametric dataset.\n",
      "Generating non-parametric dataset.\n",
      "Generating non-parametric dataset.\n",
      "Generating non-parametric dataset.\n",
      "Generating non-parametric dataset.\n",
      "Generating non-parametric dataset.\n",
      "Generating non-parametric dataset.\n",
      "Generating non-parametric dataset.\n",
      "Generating non-parametric dataset.\n",
      "Generating non-parametric dataset.\n",
      "Generating non-parametric dataset.\n",
      "Generating non-parametric dataset.\n",
      "Generating non-parametric dataset.\n",
      "Generating non-parametric dataset.\n",
      "Generating non-parametric dataset.\n",
      "Generating non-parametric dataset.\n",
      "Generating non-parametric dataset.\n",
      "Generating non-parametric dataset.\n",
      "Generating non-parametric dataset.\n",
      "Generating non-parametric dataset.\n",
      "Generating non-parametric dataset.\n",
      "Generating non-parametric dataset.\n",
      "Generating non-parametric dataset.\n",
      "Generating non-parametric dataset.\n",
      "Generating non-parametric dataset.\n",
      "Generating non-parametric dataset.\n",
      "Generating non-parametric dataset.\n",
      "Generating non-parametric dataset.\n",
      "Generating non-parametric dataset.\n",
      "Generating non-parametric dataset.\n",
      "Generating non-parametric dataset.\n",
      "Generating non-parametric dataset.\n",
      "Generating non-parametric dataset.\n",
      "Generating non-parametric dataset.\n",
      "Generating non-parametric dataset.\n",
      "Generating non-parametric dataset.\n",
      "Generating non-parametric dataset.\n",
      "Generating non-parametric dataset.\n",
      "Generating non-parametric dataset.\n",
      "Generating non-parametric dataset.\n",
      "Generating non-parametric dataset.\n",
      "Generating non-parametric dataset.\n",
      "Generating non-parametric dataset.\n",
      "Generating non-parametric dataset.\n",
      "Generating non-parametric dataset.\n",
      "Generating non-parametric dataset.\n",
      "Generating non-parametric dataset.\n",
      "Generating non-parametric dataset.\n",
      "Generating non-parametric dataset.\n",
      "Generating non-parametric dataset.\n",
      "Generating non-parametric dataset.\n",
      "Generating non-parametric dataset.\n",
      "Generating non-parametric dataset.\n",
      "Generating non-parametric dataset.\n",
      "Generating non-parametric dataset.\n",
      "Generating non-parametric dataset.\n",
      "Generating non-parametric dataset.\n",
      "Generating non-parametric dataset.\n",
      "Generating non-parametric dataset.\n",
      "Generating non-parametric dataset.\n",
      "Generating non-parametric dataset.\n",
      "Generating non-parametric dataset.\n",
      "Generating non-parametric dataset.\n",
      "Generating non-parametric dataset.\n",
      "Generating non-parametric dataset.\n",
      "Generating non-parametric dataset.\n",
      "Generating non-parametric dataset.\n",
      "Generating non-parametric dataset.\n",
      "Generating non-parametric dataset.\n",
      "Generating non-parametric dataset.\n",
      "Generating non-parametric dataset.\n",
      "Generating non-parametric dataset.\n",
      "Generating non-parametric dataset.\n",
      "Generating non-parametric dataset.\n",
      "Generating non-parametric dataset.\n",
      "Generating non-parametric dataset.\n",
      "Bootstrapped error bars computed.  Use print methods to access.\n"
     ]
    }
   ],
   "source": [
    "rb_results.compute_bootstrap_error_bars(('clifford','primitive'),seed=0)"
   ]
  },
  {
   "cell_type": "markdown",
   "metadata": {},
   "source": [
    "Now that we've generated (bootstrapped) error bars, we can print them using the same print methods as before:"
   ]
  },
  {
   "cell_type": "code",
   "execution_count": 13,
   "metadata": {
    "collapsed": false
   },
   "outputs": [
    {
     "name": "stdout",
     "output_type": "stream",
     "text": [
      "clifford results\n",
      "  - with boostrapped-derived error bars (1 sigma):\n",
      "A = 0.51004182865 +/- 0.0141745375849\n",
      "B = 0.497170567102 +/- 0.0138892394841\n",
      "f = 0.996128885349 +/- 0.000316411102072\n",
      "F_avg = 0.998064442675 +/- 0.000158205551036\n",
      "r = 0.00193555732537 +/- 0.000158205551036\n",
      "\n",
      "primitive results\n",
      "  - with boostrapped-derived error bars (1 sigma):\n",
      "A = 0.514750182498 +/- 0.0136532270781\n",
      "B = 0.498550772138 +/- 0.0137744215815\n",
      "f = 0.998865857568 +/- 9.52504051367e-05\n",
      "F_avg = 0.999432928784 +/- 4.76252025684e-05\n",
      "r = 0.000567071215815 +/- 4.76252025684e-05\n",
      "\n"
     ]
    }
   ],
   "source": [
    "rb_results.print_clifford()\n",
    "print\n",
    "rb_results.print_primitive()"
   ]
  },
  {
   "cell_type": "code",
   "execution_count": 14,
   "metadata": {
    "collapsed": false
   },
   "outputs": [
    {
     "name": "stdout",
     "output_type": "stream",
     "text": [
      "0.000158205551036\n"
     ]
    }
   ],
   "source": [
    "#We can also manually extract the error bars now; for example:\n",
    "print(rb_results.dicts['clifford']['r_error_BS'])"
   ]
  },
  {
   "cell_type": "code",
   "execution_count": null,
   "metadata": {
    "collapsed": true
   },
   "outputs": [],
   "source": []
  }
 ],
 "metadata": {
  "kernelspec": {
   "display_name": "Python 2",
   "language": "python",
   "name": "python2"
  },
  "language_info": {
   "codemirror_mode": {
    "name": "ipython",
    "version": 2
   },
   "file_extension": ".py",
   "mimetype": "text/x-python",
   "name": "python",
   "nbconvert_exporter": "python",
   "pygments_lexer": "ipython2",
   "version": "2.7.10"
  }
 },
 "nbformat": 4,
 "nbformat_minor": 0
}
