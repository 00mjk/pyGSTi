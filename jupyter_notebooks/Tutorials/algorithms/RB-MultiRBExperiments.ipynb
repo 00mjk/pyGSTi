{
 "cells": [
  {
   "cell_type": "markdown",
   "metadata": {},
   "source": [
    "# Running Multiple Randomized Benchmarking Experiments"
   ]
  },
  {
   "cell_type": "markdown",
   "metadata": {},
   "source": [
    "This tutorial shows how to easily run multiple RB experiments concurrently. This includes running RB on different subsets of a device, as well as running [simultaneous RB]() experiments. Here we'll demonstrate generating an experiment to run 1, 2, 3 and 4 qubit RB in sequence (i.e., separately), as well as running 1-qubit RB in parallel on all the qubits (i.e., simultaneously).\n",
    "\n",
    "Note that this functionality is not specific to RB: similar code could be used to combine multiple GST experiments, or GST and RB experiments, etc."
   ]
  },
  {
   "cell_type": "code",
   "execution_count": 1,
   "metadata": {},
   "outputs": [
    {
     "name": "stderr",
     "output_type": "stream",
     "text": [
      "/Users/tjproct/.pyenv/versions/3.7.4/lib/python3.7/site-packages/pandas/compat/__init__.py:85: UserWarning: Could not import the lzma module. Your installed Python is incomplete. Attempting to use lzma compression will result in a RuntimeError.\n",
      "  warnings.warn(msg)\n",
      "/Users/tjproct/.pyenv/versions/3.7.4/lib/python3.7/site-packages/pandas/compat/__init__.py:85: UserWarning: Could not import the lzma module. Your installed Python is incomplete. Attempting to use lzma compression will result in a RuntimeError.\n",
      "  warnings.warn(msg)\n"
     ]
    }
   ],
   "source": [
    "import pygsti\n",
    "from pygsti.processors import QubitProcessorSpec as QPS\n",
    "from pygsti.processors import CliffordCompilationRules as CCR"
   ]
  },
  {
   "cell_type": "markdown",
   "metadata": {},
   "source": [
    "Let's define the layout and gates of a 4-qubit device that we want to do this experiment on."
   ]
  },
  {
   "cell_type": "code",
   "execution_count": 2,
   "metadata": {},
   "outputs": [],
   "source": [
    "n_qubits = 4\n",
    "qubit_labels = ['Q'+str(i) for i in range(n_qubits)]\n",
    "gate_names = ['Gc{}'.format(i) for i in range(24)] + ['Gcnot'] \n",
    "pspec = QPS(n_qubits, gate_names, qubit_labels=qubit_labels, geometry='ring')\n",
    "\n",
    "compilations = {'absolute': CCR.create_standard(pspec, 'absolute', ('paulis', '1Qcliffords'), verbosity=0),            \n",
    "                'paulieq': CCR.create_standard(pspec, 'paulieq', ('1Qcliffords', 'allcnots'), verbosity=0)}"
   ]
  },
  {
   "cell_type": "markdown",
   "metadata": {},
   "source": [
    "Now let's generate the separate 1-4 qubit RB experiments. We'll run Mirror RB, but this works for all types of RB."
   ]
  },
  {
   "cell_type": "code",
   "execution_count": 3,
   "metadata": {},
   "outputs": [
    {
     "name": "stdout",
     "output_type": "stream",
     "text": [
      "- Sampling 10 circuits at MRB length 0 (1 of 10 depths) with seed 990426\n",
      "- Sampling 10 circuits at MRB length 2 (2 of 10 depths) with seed 990436\n",
      "- Sampling 10 circuits at MRB length 4 (3 of 10 depths) with seed 990446\n",
      "- Sampling 10 circuits at MRB length 8 (4 of 10 depths) with seed 990456\n",
      "- Sampling 10 circuits at MRB length 16 (5 of 10 depths) with seed 990466\n",
      "- Sampling 10 circuits at MRB length 32 (6 of 10 depths) with seed 990476\n",
      "- Sampling 10 circuits at MRB length 64 (7 of 10 depths) with seed 990486\n",
      "- Sampling 10 circuits at MRB length 128 (8 of 10 depths) with seed 990496\n",
      "- Sampling 10 circuits at MRB length 256 (9 of 10 depths) with seed 990506\n",
      "- Sampling 10 circuits at MRB length 512 (10 of 10 depths) with seed 990516\n",
      "- Sampling 10 circuits at MRB length 0 (1 of 8 depths) with seed 316707\n",
      "- Sampling 10 circuits at MRB length 2 (2 of 8 depths) with seed 316717\n",
      "- Sampling 10 circuits at MRB length 4 (3 of 8 depths) with seed 316727\n",
      "- Sampling 10 circuits at MRB length 8 (4 of 8 depths) with seed 316737\n",
      "- Sampling 10 circuits at MRB length 16 (5 of 8 depths) with seed 316747\n",
      "- Sampling 10 circuits at MRB length 32 (6 of 8 depths) with seed 316757\n",
      "- Sampling 10 circuits at MRB length 64 (7 of 8 depths) with seed 316767\n",
      "- Sampling 10 circuits at MRB length 128 (8 of 8 depths) with seed 316777\n",
      "- Sampling 10 circuits at MRB length 0 (1 of 7 depths) with seed 862398\n",
      "- Sampling 10 circuits at MRB length 2 (2 of 7 depths) with seed 862408\n"
     ]
    },
    {
     "ename": "AssertionError",
     "evalue": "Device has insufficient connectivity!",
     "output_type": "error",
     "traceback": [
      "\u001b[0;31m---------------------------------------------------------------------------\u001b[0m",
      "\u001b[0;31mAssertionError\u001b[0m                            Traceback (most recent call last)",
      "\u001b[0;32m<ipython-input-3-cd303c8df9e5>\u001b[0m in \u001b[0;36m<module>\u001b[0;34m\u001b[0m\n\u001b[1;32m     17\u001b[0m                                                              \u001b[0mclifford_compilations\u001b[0m\u001b[0;34m=\u001b[0m\u001b[0mcompilations\u001b[0m\u001b[0;34m,\u001b[0m\u001b[0;34m\u001b[0m\u001b[0;34m\u001b[0m\u001b[0m\n\u001b[1;32m     18\u001b[0m                                                               \u001b[0msampler\u001b[0m\u001b[0;34m=\u001b[0m\u001b[0;34m'edgegrab'\u001b[0m\u001b[0;34m,\u001b[0m \u001b[0msamplerargs\u001b[0m\u001b[0;34m=\u001b[0m\u001b[0;34m[\u001b[0m\u001b[0mmean2Qgates\u001b[0m\u001b[0;34m[\u001b[0m\u001b[0mn\u001b[0m\u001b[0;34m]\u001b[0m\u001b[0;34m]\u001b[0m\u001b[0;34m,\u001b[0m\u001b[0;34m\u001b[0m\u001b[0;34m\u001b[0m\u001b[0m\n\u001b[0;32m---> 19\u001b[0;31m                                                               add_default_protocol=True)\n\u001b[0m",
      "\u001b[0;32m~/files/software/pyGSTi/pygsti/protocols/rb.py\u001b[0m in \u001b[0;36m__init__\u001b[0;34m(self, pspec, depths, circuits_per_depth, qubit_labels, circuit_type, clifford_compilations, sampler, samplerargs, localclifford, paulirandomize, descriptor, add_default_protocol, seed, num_processes, verbosity)\u001b[0m\n\u001b[1;32m    722\u001b[0m                                     seed=lseed + i) for i in range(circuits_per_depth)]\n\u001b[1;32m    723\u001b[0m                 results = _tools.mptools.starmap_with_kwargs(_rc.create_mirror_rb_circuit, circuits_per_depth,\n\u001b[0;32m--> 724\u001b[0;31m                                                              num_processes, args_list, kwargs_list)\n\u001b[0m\u001b[1;32m    725\u001b[0m \u001b[0;34m\u001b[0m\u001b[0m\n\u001b[1;32m    726\u001b[0m             \u001b[0;32melif\u001b[0m \u001b[0mcircuit_type\u001b[0m \u001b[0;32min\u001b[0m \u001b[0;34m(\u001b[0m\u001b[0;34m'cz+zxzxz-clifford'\u001b[0m\u001b[0;34m,\u001b[0m \u001b[0;34m'clifford+zxzxz-haar'\u001b[0m\u001b[0;34m,\u001b[0m \u001b[0;34m'cz(theta)+zxzxz-haar'\u001b[0m\u001b[0;34m)\u001b[0m\u001b[0;34m:\u001b[0m\u001b[0;34m\u001b[0m\u001b[0;34m\u001b[0m\u001b[0m\n",
      "\u001b[0;32m~/files/software/pyGSTi/pygsti/tools/mptools.py\u001b[0m in \u001b[0;36mstarmap_with_kwargs\u001b[0;34m(fn, num_runs, num_processors, args_list, kwargs_list)\u001b[0m\n\u001b[1;32m     19\u001b[0m     \u001b[0;31m# If only one processor, run serial (makes it easier to profile and avoids any Pool overhead)\u001b[0m\u001b[0;34m\u001b[0m\u001b[0;34m\u001b[0m\u001b[0;34m\u001b[0m\u001b[0m\n\u001b[1;32m     20\u001b[0m     \u001b[0;32mif\u001b[0m \u001b[0mnum_processors\u001b[0m \u001b[0;34m==\u001b[0m \u001b[0;36m1\u001b[0m\u001b[0;34m:\u001b[0m\u001b[0;34m\u001b[0m\u001b[0;34m\u001b[0m\u001b[0m\n\u001b[0;32m---> 21\u001b[0;31m         \u001b[0;32mreturn\u001b[0m \u001b[0;34m[\u001b[0m\u001b[0mfn\u001b[0m\u001b[0;34m(\u001b[0m\u001b[0;34m*\u001b[0m\u001b[0margs_list\u001b[0m\u001b[0;34m[\u001b[0m\u001b[0mi\u001b[0m\u001b[0;34m]\u001b[0m\u001b[0;34m,\u001b[0m \u001b[0;34m**\u001b[0m\u001b[0mkwargs_list\u001b[0m\u001b[0;34m[\u001b[0m\u001b[0mi\u001b[0m\u001b[0;34m]\u001b[0m\u001b[0;34m)\u001b[0m \u001b[0;32mfor\u001b[0m \u001b[0mi\u001b[0m \u001b[0;32min\u001b[0m \u001b[0mrange\u001b[0m\u001b[0;34m(\u001b[0m\u001b[0mnum_runs\u001b[0m\u001b[0;34m)\u001b[0m\u001b[0;34m]\u001b[0m\u001b[0;34m\u001b[0m\u001b[0;34m\u001b[0m\u001b[0m\n\u001b[0m\u001b[1;32m     22\u001b[0m \u001b[0;34m\u001b[0m\u001b[0m\n\u001b[1;32m     23\u001b[0m     \u001b[0;32mwith\u001b[0m \u001b[0m_mp\u001b[0m\u001b[0;34m.\u001b[0m\u001b[0mPool\u001b[0m\u001b[0;34m(\u001b[0m\u001b[0mnum_processors\u001b[0m\u001b[0;34m)\u001b[0m \u001b[0;32mas\u001b[0m \u001b[0mpool\u001b[0m\u001b[0;34m:\u001b[0m\u001b[0;34m\u001b[0m\u001b[0;34m\u001b[0m\u001b[0m\n",
      "\u001b[0;32m~/files/software/pyGSTi/pygsti/tools/mptools.py\u001b[0m in \u001b[0;36m<listcomp>\u001b[0;34m(.0)\u001b[0m\n\u001b[1;32m     19\u001b[0m     \u001b[0;31m# If only one processor, run serial (makes it easier to profile and avoids any Pool overhead)\u001b[0m\u001b[0;34m\u001b[0m\u001b[0;34m\u001b[0m\u001b[0;34m\u001b[0m\u001b[0m\n\u001b[1;32m     20\u001b[0m     \u001b[0;32mif\u001b[0m \u001b[0mnum_processors\u001b[0m \u001b[0;34m==\u001b[0m \u001b[0;36m1\u001b[0m\u001b[0;34m:\u001b[0m\u001b[0;34m\u001b[0m\u001b[0;34m\u001b[0m\u001b[0m\n\u001b[0;32m---> 21\u001b[0;31m         \u001b[0;32mreturn\u001b[0m \u001b[0;34m[\u001b[0m\u001b[0mfn\u001b[0m\u001b[0;34m(\u001b[0m\u001b[0;34m*\u001b[0m\u001b[0margs_list\u001b[0m\u001b[0;34m[\u001b[0m\u001b[0mi\u001b[0m\u001b[0;34m]\u001b[0m\u001b[0;34m,\u001b[0m \u001b[0;34m**\u001b[0m\u001b[0mkwargs_list\u001b[0m\u001b[0;34m[\u001b[0m\u001b[0mi\u001b[0m\u001b[0;34m]\u001b[0m\u001b[0;34m)\u001b[0m \u001b[0;32mfor\u001b[0m \u001b[0mi\u001b[0m \u001b[0;32min\u001b[0m \u001b[0mrange\u001b[0m\u001b[0;34m(\u001b[0m\u001b[0mnum_runs\u001b[0m\u001b[0;34m)\u001b[0m\u001b[0;34m]\u001b[0m\u001b[0;34m\u001b[0m\u001b[0;34m\u001b[0m\u001b[0m\n\u001b[0m\u001b[1;32m     22\u001b[0m \u001b[0;34m\u001b[0m\u001b[0m\n\u001b[1;32m     23\u001b[0m     \u001b[0;32mwith\u001b[0m \u001b[0m_mp\u001b[0m\u001b[0;34m.\u001b[0m\u001b[0mPool\u001b[0m\u001b[0;34m(\u001b[0m\u001b[0mnum_processors\u001b[0m\u001b[0;34m)\u001b[0m \u001b[0;32mas\u001b[0m \u001b[0mpool\u001b[0m\u001b[0;34m:\u001b[0m\u001b[0;34m\u001b[0m\u001b[0;34m\u001b[0m\u001b[0m\n",
      "\u001b[0;32m~/files/software/pyGSTi/pygsti/algorithms/randomcircuit.py\u001b[0m in \u001b[0;36mcreate_mirror_rb_circuit\u001b[0;34m(pspec, absolute_compilation, length, qubit_labels, sampler, samplerargs, localclifford, paulirandomize, seed)\u001b[0m\n\u001b[1;32m   2453\u001b[0m     \u001b[0;31m# Find a random circuit according to the sampling specified; this is the \"out\" circuit.\u001b[0m\u001b[0;34m\u001b[0m\u001b[0;34m\u001b[0m\u001b[0;34m\u001b[0m\u001b[0m\n\u001b[1;32m   2454\u001b[0m     circuit = create_random_circuit(pspec, random_natives_circuit_length, qubit_labels=qubit_labels,\n\u001b[0;32m-> 2455\u001b[0;31m                                     sampler=sampler, samplerargs=samplerargs, rand_state=rand_state)\n\u001b[0m\u001b[1;32m   2456\u001b[0m     \u001b[0mcircuit\u001b[0m \u001b[0;34m=\u001b[0m \u001b[0mcircuit\u001b[0m\u001b[0;34m.\u001b[0m\u001b[0mcopy\u001b[0m\u001b[0;34m(\u001b[0m\u001b[0meditable\u001b[0m\u001b[0;34m=\u001b[0m\u001b[0;32mTrue\u001b[0m\u001b[0;34m)\u001b[0m\u001b[0;34m\u001b[0m\u001b[0;34m\u001b[0m\u001b[0m\n\u001b[1;32m   2457\u001b[0m     \u001b[0;31m# Copy the circuit, to create the \"back\" circuit from the \"out\" circuit.\u001b[0m\u001b[0;34m\u001b[0m\u001b[0;34m\u001b[0m\u001b[0;34m\u001b[0m\u001b[0m\n",
      "\u001b[0;32m~/files/software/pyGSTi/pygsti/algorithms/randomcircuit.py\u001b[0m in \u001b[0;36mcreate_random_circuit\u001b[0;34m(pspec, length, qubit_labels, sampler, samplerargs, addlocal, lsargs, rand_state)\u001b[0m\n\u001b[1;32m    824\u001b[0m     \u001b[0;32mif\u001b[0m \u001b[0;32mnot\u001b[0m \u001b[0maddlocal\u001b[0m\u001b[0;34m:\u001b[0m\u001b[0;34m\u001b[0m\u001b[0;34m\u001b[0m\u001b[0m\n\u001b[1;32m    825\u001b[0m         \u001b[0;32mfor\u001b[0m \u001b[0mi\u001b[0m \u001b[0;32min\u001b[0m \u001b[0mrange\u001b[0m\u001b[0;34m(\u001b[0m\u001b[0;36m0\u001b[0m\u001b[0;34m,\u001b[0m \u001b[0mlength\u001b[0m\u001b[0;34m)\u001b[0m\u001b[0;34m:\u001b[0m\u001b[0;34m\u001b[0m\u001b[0;34m\u001b[0m\u001b[0m\n\u001b[0;32m--> 826\u001b[0;31m             \u001b[0mlayer\u001b[0m \u001b[0;34m=\u001b[0m \u001b[0msampler\u001b[0m\u001b[0;34m(\u001b[0m\u001b[0mpspec\u001b[0m\u001b[0;34m,\u001b[0m \u001b[0mqubit_labels\u001b[0m\u001b[0;34m,\u001b[0m \u001b[0;34m*\u001b[0m\u001b[0msamplerargs\u001b[0m\u001b[0;34m,\u001b[0m \u001b[0mrand_state\u001b[0m\u001b[0;34m=\u001b[0m\u001b[0mrand_state\u001b[0m\u001b[0;34m)\u001b[0m\u001b[0;34m\u001b[0m\u001b[0;34m\u001b[0m\u001b[0m\n\u001b[0m\u001b[1;32m    827\u001b[0m             \u001b[0mcircuit\u001b[0m\u001b[0;34m.\u001b[0m\u001b[0minsert_layer_inplace\u001b[0m\u001b[0;34m(\u001b[0m\u001b[0mlayer\u001b[0m\u001b[0;34m,\u001b[0m \u001b[0;36m0\u001b[0m\u001b[0;34m)\u001b[0m\u001b[0;34m\u001b[0m\u001b[0;34m\u001b[0m\u001b[0m\n\u001b[1;32m    828\u001b[0m \u001b[0;34m\u001b[0m\u001b[0m\n",
      "\u001b[0;32m~/files/software/pyGSTi/pygsti/algorithms/randomcircuit.py\u001b[0m in \u001b[0;36msample_circuit_layer_by_edgegrab\u001b[0;34m(pspec, qubit_labels, two_q_gate_density, one_q_gate_names, gate_args_lists, rand_state)\u001b[0m\n\u001b[1;32m    323\u001b[0m     \u001b[0mnum2Qgates\u001b[0m \u001b[0;34m=\u001b[0m \u001b[0mlen\u001b[0m\u001b[0;34m(\u001b[0m\u001b[0mselectededges\u001b[0m\u001b[0;34m)\u001b[0m\u001b[0;34m\u001b[0m\u001b[0;34m\u001b[0m\u001b[0m\n\u001b[1;32m    324\u001b[0m     \u001b[0mmean_two_q_gates\u001b[0m \u001b[0;34m=\u001b[0m \u001b[0mlen\u001b[0m\u001b[0;34m(\u001b[0m\u001b[0mqubits\u001b[0m\u001b[0;34m)\u001b[0m \u001b[0;34m*\u001b[0m \u001b[0mtwo_q_gate_density\u001b[0m \u001b[0;34m/\u001b[0m \u001b[0;36m2\u001b[0m\u001b[0;34m\u001b[0m\u001b[0;34m\u001b[0m\u001b[0m\n\u001b[0;32m--> 325\u001b[0;31m     \u001b[0;32massert\u001b[0m\u001b[0;34m(\u001b[0m\u001b[0mnum2Qgates\u001b[0m \u001b[0;34m>=\u001b[0m \u001b[0mmean_two_q_gates\u001b[0m\u001b[0;34m)\u001b[0m\u001b[0;34m,\u001b[0m \u001b[0;34m\"Device has insufficient connectivity!\"\u001b[0m\u001b[0;34m\u001b[0m\u001b[0;34m\u001b[0m\u001b[0m\n\u001b[0m\u001b[1;32m    326\u001b[0m \u001b[0;34m\u001b[0m\u001b[0m\n\u001b[1;32m    327\u001b[0m     \u001b[0;32mif\u001b[0m \u001b[0mmean_two_q_gates\u001b[0m \u001b[0;34m>\u001b[0m \u001b[0;36m0\u001b[0m\u001b[0;34m:\u001b[0m\u001b[0;34m\u001b[0m\u001b[0;34m\u001b[0m\u001b[0m\n",
      "\u001b[0;31mAssertionError\u001b[0m: Device has insufficient connectivity!"
     ]
    }
   ],
   "source": [
    "# The qubit sets of each size to benchmark, and sampling details.\n",
    "qubits = {1: ['Q0',], 2:['Q0','Q1'], 3:['Q0','Q1','Q2'], 4:['Q0','Q1','Q2', 'Q3']}\n",
    "# This specifies the mean number of two-qubit gates per layer in the random circuits.\n",
    "mean2Qgates = {n: n*0.25 for n in [2,3,4]}\n",
    "mean2Qgates[1] = 0\n",
    "# The depths for the different number of qubits.\n",
    "depths = {1: [0, 2, 4, 8, 16, 32, 64, 128, 256, 512],\n",
    "          2: [0, 2, 4, 8, 16, 32, 64, 128],\n",
    "          3: [0, 2, 4, 8, 16, 32, 64],\n",
    "          4: [0, 2, 4, 8, 16, 32]}\n",
    "\n",
    "# This loops through an generates the experiment design for each case.\n",
    "designs = {}\n",
    "for n in [1,2,3,4]:\n",
    "    \n",
    "    designs[str(n)+'Q-RB'] = pygsti.protocols.MirrorRBDesign(pspec, depths[n], 10, qubit_labels=qubits[n],\n",
    "                                                             clifford_compilations=compilations,\n",
    "                                                              sampler='edgegrab', samplerargs=[mean2Qgates[n]],\n",
    "                                                              add_default_protocol=True)"
   ]
  },
  {
   "cell_type": "markdown",
   "metadata": {},
   "source": [
    "Next, we generate the simultaneous 1-qubit RB experiment. We do this by constructing each of the 1-qubit experiment designs, and then combining them together in a `SimultaneousExperimentDesign`."
   ]
  },
  {
   "cell_type": "code",
   "execution_count": null,
   "metadata": {},
   "outputs": [],
   "source": [
    "oneQdesigns = []\n",
    "for q in qubit_labels:\n",
    "    oneQdesigns.append(pygsti.protocols.MirrorRBDesign(pspec, depths[1], 10, qubit_labels=[q,], \n",
    "                                                       clifford_compilations=compilations,\n",
    "                                                sampler='edgegrab', samplerargs=[0.],\n",
    "                                                add_default_protocol=True))\n",
    "    \n",
    "sim1Qdesign = pygsti.protocols.SimultaneousExperimentDesign(oneQdesigns)"
   ]
  },
  {
   "cell_type": "markdown",
   "metadata": {},
   "source": [
    "As we want to run this simultanoeus 1-qubit RB experiment alongside the 1-4 qubit RB experiments, we add it to the `designs` dictionary where we're storing all the experiment designs that are to be run together (but not in parallel)."
   ]
  },
  {
   "cell_type": "code",
   "execution_count": null,
   "metadata": {},
   "outputs": [],
   "source": [
    "designs['1Q-SRB'] = sim1Qdesign"
   ]
  },
  {
   "cell_type": "markdown",
   "metadata": {},
   "source": [
    "Then we just combine them together in a `CombinedExperimentDesign`. This is then written to a directory in the same way as with all experiment designs. The dataset template contains all the circuits that need to be run. This will include all the circuits from all the sub-designs, including the simultaneous 1-qubit circuits in the necessary parallel form. After data is added to the template, it is then read-in in the same way as always."
   ]
  },
  {
   "cell_type": "code",
   "execution_count": null,
   "metadata": {},
   "outputs": [],
   "source": [
    "qubit_error_rate = 0.002\n",
    "def simulate_taking_data(data_template_filename):\n",
    "    \"\"\"Simulate taking data and filling the results into a template dataset.txt file\"\"\"\n",
    "    error_rates = {}\n",
    "    for gn in pspec.gate_names:\n",
    "        n = pspec.gate_num_qubits(gn)\n",
    "        gate_error_rate = n * qubit_error_rate\n",
    "        error_rates[gn] = [gate_error_rate/(4**n - 1)] * (4**n - 1)\n",
    "    noisemodel = pygsti.models.create_crosstalk_free_model(pspec, stochastic_error_probs=error_rates)\n",
    "    pygsti.io.fill_in_empty_dataset_with_fake_data(noisemodel, data_template_filename, num_samples=1000, seed=1234)"
   ]
  },
  {
   "cell_type": "code",
   "execution_count": null,
   "metadata": {},
   "outputs": [],
   "source": [
    "combdesign = pygsti.protocols.CombinedExperimentDesign(designs)\n",
    "\n",
    "pygsti.io.write_empty_protocol_data(combdesign, '../tutorial_files/test_combrb_dir', clobber_ok=True)\n",
    "\n",
    "# -- fill in the dataset file in tutorial_files/test_rb_dir/data/dataset.txt --\n",
    "simulate_taking_data('../tutorial_files/test_combrb_dir/data/dataset.txt') # REPLACE with actual data-taking\n",
    "\n",
    "data = pygsti.io.load_data_from_dir('../tutorial_files/test_combrb_dir')"
   ]
  },
  {
   "cell_type": "markdown",
   "metadata": {},
   "source": [
    "We can then run any protocols that we want to on the imported data. Because we set `add_default_protocol=True` when creating the protocols, the imported data contains the `RB` protocols ready to run (with the appropriate optional arguments set for Mirror RB). We can run all these default protocols by creating a `pygsti.protocols.DefaultRunner()` protocol, and running it on the data.\n",
    "\n",
    "We can also run more protocols (e.g., a test for instability if the data is time-stamped) just by creating the relevant protocols objects, and passing them this data."
   ]
  },
  {
   "cell_type": "code",
   "execution_count": null,
   "metadata": {},
   "outputs": [],
   "source": [
    "protocol = pygsti.protocols.DefaultRunner()\n",
    "results = protocol.run(data)"
   ]
  },
  {
   "cell_type": "code",
   "execution_count": null,
   "metadata": {},
   "outputs": [],
   "source": [
    "results['1Q-SRB'].keys()"
   ]
  },
  {
   "cell_type": "markdown",
   "metadata": {},
   "source": [
    "The `results` behaves like a dictionary, for accessing the individual results."
   ]
  },
  {
   "cell_type": "code",
   "execution_count": null,
   "metadata": {},
   "outputs": [],
   "source": [
    "for i in ['1Q-RB', '2Q-RB', '3Q-RB' , '4Q-RB']:\n",
    "    r = results[i].for_protocol['RB'].fits['A-fixed'].estimates['r']\n",
    "    print('The RB error rate on {} qubit is {}'.format(i, r))\n",
    "    \n",
    "print()\n",
    "for i in [('Q0',),('Q1',),('Q2',),('Q3',)]:\n",
    "    r = results['1Q-SRB'][i].for_protocol['RB'].fits['A-fixed'].estimates['r']\n",
    "    print('When running simultaneously, the RB error rate on {} qubit is {}'.format(i, r))"
   ]
  },
  {
   "cell_type": "code",
   "execution_count": null,
   "metadata": {},
   "outputs": [],
   "source": [
    "ws = pygsti.report.Workspace()\n",
    "ws.init_notebook_mode(autodisplay=True)\n",
    "for i in ['1Q-RB', '2Q-RB', '3Q-RB' , '4Q-RB']:\n",
    "    ws.RandomizedBenchmarkingPlot(results[i].for_protocol['RB'])"
   ]
  },
  {
   "cell_type": "markdown",
   "metadata": {},
   "source": [
    "**For more information** and examples on running multiple benchmarking protocols on a processor, check out the [volumetric benchmarking tutorial](VolumetricBenchmarks.ipynb)."
   ]
  }
 ],
 "metadata": {
  "kernelspec": {
   "display_name": "Python 3",
   "language": "python",
   "name": "python3"
  },
  "language_info": {
   "codemirror_mode": {
    "name": "ipython",
    "version": 3
   },
   "file_extension": ".py",
   "mimetype": "text/x-python",
   "name": "python",
   "nbconvert_exporter": "python",
   "pygments_lexer": "ipython3",
   "version": "3.7.4"
  }
 },
 "nbformat": 4,
 "nbformat_minor": 1
}
