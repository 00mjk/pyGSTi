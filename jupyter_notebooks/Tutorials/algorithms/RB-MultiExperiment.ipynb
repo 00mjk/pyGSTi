{
 "cells": [
  {
   "cell_type": "code",
   "execution_count": 22,
   "metadata": {},
   "outputs": [],
   "source": [
    "from __future__ import print_function #python 2 & 3 compatibility\n",
    "\n",
    "import pygsti\n",
    "#from pygsti.extras import rb"
   ]
  },
  {
   "cell_type": "code",
   "execution_count": 23,
   "metadata": {},
   "outputs": [],
   "source": [
    "nQubits = 5 \n",
    "qubit_labels = ['Q0','Q1','Q2','Q3','Q4'] \n",
    "gate_names = ['Gxpi2', 'Gxmpi2', 'Gypi2', 'Gympi2', 'Gcphase'] \n",
    "availability = {'Gcphase':[('Q0','Q1'), ('Q1','Q2'), ('Q2','Q3'), \n",
    "                           ('Q3','Q4'),('Q4','Q0')]}\n",
    "# Construct_models is specified only for the purposes of simulation later in the notebook. To make this step\n",
    "# faster (particular if nQubits is 10+) then set construct_models = ('clifford',).\n",
    "pspec = pygsti.obj.ProcessorSpec(nQubits, gate_names, availability=availability, \n",
    "                                 qubit_labels=qubit_labels, construct_models=('target','clifford','TP'))"
   ]
  },
  {
   "cell_type": "code",
   "execution_count": 24,
   "metadata": {
    "scrolled": true
   },
   "outputs": [
    {
     "name": "stdout",
     "output_type": "stream",
     "text": [
      "\n",
      "Generating experiment design for qubit set ('Q0',)\n",
      "\n",
      "- Sampling 2 circuits at DRB length 0 (1 of 8 depths)\n",
      "  - Number of circuits sampled = 1,2,\n",
      "- Sampling 2 circuits at DRB length 1 (2 of 8 depths)\n",
      "  - Number of circuits sampled = 1,2,\n",
      "- Sampling 2 circuits at DRB length 2 (3 of 8 depths)\n",
      "  - Number of circuits sampled = 1,2,\n",
      "- Sampling 2 circuits at DRB length 4 (4 of 8 depths)\n",
      "  - Number of circuits sampled = 1,2,\n",
      "- Sampling 2 circuits at DRB length 8 (5 of 8 depths)\n",
      "  - Number of circuits sampled = 1,2,\n",
      "- Sampling 2 circuits at DRB length 16 (6 of 8 depths)\n",
      "  - Number of circuits sampled = 1,2,\n",
      "- Sampling 2 circuits at DRB length 32 (7 of 8 depths)\n",
      "  - Number of circuits sampled = 1,2,\n",
      "- Sampling 2 circuits at DRB length 64 (8 of 8 depths)\n",
      "  - Number of circuits sampled = 1,2,\n",
      "\n",
      "Generating experiment design for qubit set ('Q0', 'Q1', 'Q2')\n",
      "\n",
      "- Sampling 2 circuits at DRB length 0 (1 of 8 depths)\n",
      "  - Number of circuits sampled = 1,2,\n",
      "- Sampling 2 circuits at DRB length 1 (2 of 8 depths)\n",
      "  - Number of circuits sampled = 1,2,\n",
      "- Sampling 2 circuits at DRB length 2 (3 of 8 depths)\n",
      "  - Number of circuits sampled = 1,2,\n",
      "- Sampling 2 circuits at DRB length 4 (4 of 8 depths)\n",
      "  - Number of circuits sampled = 1,2,\n",
      "- Sampling 2 circuits at DRB length 8 (5 of 8 depths)\n",
      "  - Number of circuits sampled = 1,2,\n",
      "- Sampling 2 circuits at DRB length 16 (6 of 8 depths)\n",
      "  - Number of circuits sampled = 1,2,\n",
      "- Sampling 2 circuits at DRB length 32 (7 of 8 depths)\n",
      "  - Number of circuits sampled = 1,2,\n",
      "- Sampling 2 circuits at DRB length 64 (8 of 8 depths)\n",
      "  - Number of circuits sampled = 1,2,\n",
      "\n",
      "Generating experiment design for qubit set ('Q0', 'Q1', 'Q2', 'Q3', 'Q4')\n",
      "\n",
      "- Sampling 2 circuits at DRB length 0 (1 of 8 depths)\n",
      "  - Number of circuits sampled = 1,2,\n",
      "- Sampling 2 circuits at DRB length 1 (2 of 8 depths)\n",
      "  - Number of circuits sampled = 1,2,\n",
      "- Sampling 2 circuits at DRB length 2 (3 of 8 depths)\n",
      "  - Number of circuits sampled = 1,2,\n",
      "- Sampling 2 circuits at DRB length 4 (4 of 8 depths)\n",
      "  - Number of circuits sampled = 1,2,\n",
      "- Sampling 2 circuits at DRB length 8 (5 of 8 depths)\n",
      "  - Number of circuits sampled = 1,2,\n",
      "- Sampling 2 circuits at DRB length 16 (6 of 8 depths)\n",
      "  - Number of circuits sampled = 1,2,\n",
      "- Sampling 2 circuits at DRB length 32 (7 of 8 depths)\n",
      "  - Number of circuits sampled = 1,2,\n",
      "- Sampling 2 circuits at DRB length 64 (8 of 8 depths)\n",
      "  - Number of circuits sampled = 1,2,\n"
     ]
    }
   ],
   "source": [
    "lengths = [0,1,2,4,8,16,32,64]\n",
    "k = 2\n",
    "qubit_sets = [('Q0',),('Q0','Q1','Q2'),('Q0','Q1','Q2','Q3','Q4')]\n",
    "designs = {}\n",
    "for qs in qubit_sets:\n",
    "    print(\"\\nGenerating experiment design for qubit set {}\\n\".format(qs))\n",
    "    designs['-'.join(qs)] = pygsti.protocols.DirectRBDesign(pspec, lengths, k, qubit_labels=qs)\n",
    "\n",
    "combdesign = pygsti.protocols.CombinedExperimentDesign(designs)"
   ]
  },
  {
   "cell_type": "markdown",
   "metadata": {},
   "source": [
    "## Step 2: collect data as specified by the experiment design\n",
    "Next, we just follow the instructions in the experiment design to collect data from the quantum processor.  In this example, we'll generate the data using a depolarizing noise model since we don't have a real quantum processor lying around.  The call to `fill_in_empty_dataset_with_fake_data` should be replaced with the user filling out the empty \"template\" data set file with real data.  Note also that we set `clobber_ok=True`; this is so the tutorial can be run multiple times without having to manually remove the dataset.txt file - we recommend you leave this set to False (the default) when using it in your own scripts."
   ]
  },
  {
   "cell_type": "code",
   "execution_count": 27,
   "metadata": {},
   "outputs": [],
   "source": [
    "pygsti.io.write_empty_protocol_data(combdesign, '../tutorial_files/test_rb_dir1', clobber_ok=True)\n",
    "\n",
    "# # -- fill in the dataset file in tutorial_files/test_gst_dir/data/dataset.txt --\n",
    "# # We do this by simulating data with a model.  You should take actual data here.\n",
    "# noisemodel = pspec.models['TP'].copy()\n",
    "# for gate in noisemodel.operation_blks['gates'].values():\n",
    "#     gate.depolarize(0.001)\n",
    "\n",
    "#     pygsti.io.fill_in_empty_dataset_with_fake_data(noisemodel,\n",
    "#     \"../tutorial_files/test_gst_dir/data/dataset.txt\", nSamples=1000, seed=1234)\n",
    "\n",
    "# data = pygsti.io.load_data_from_dir('../tutorial_files/test_gst_dir')"
   ]
  },
  {
   "cell_type": "markdown",
   "metadata": {},
   "source": [
    "## Step 3: Run the RB protocol (exponential curve fitting)\n",
    "Now we just instantiate an `RB` protocol and `.run` it on our data object.  This returns a results object that can be used to generate decay curves, and display error rates.\n",
    "\n",
    "This data analysis is for any RB method whereby average success/survival probabilities ($P_m$) as a function of *RB sequence length* ($m$) are fit to the function\n",
    "$P_m = A + B p^m,$\n",
    "where $A$, $B$ and $p$ are fit parameters (and $A$ may be fixed to a constant). This includes standard RB of the Clifford group, that has been demonstrated in this notebook."
   ]
  },
  {
   "cell_type": "code",
   "execution_count": null,
   "metadata": {},
   "outputs": [],
   "source": [
    "#run the GST protocol and create a report \n",
    "protocol = pygsti.protocols.RB()\n",
    "results = protocol.run(data)"
   ]
  },
  {
   "cell_type": "code",
   "execution_count": null,
   "metadata": {},
   "outputs": [],
   "source": [
    "ws = pygsti.report.Workspace()\n",
    "ws.init_notebook_mode(autodisplay=True)\n",
    "ws.RandomizedBenchmarkingPlot(results)"
   ]
  },
  {
   "cell_type": "markdown",
   "metadata": {},
   "source": []
  }
 ],
 "metadata": {
  "kernelspec": {
   "display_name": "Python 3",
   "language": "python",
   "name": "python3"
  },
  "language_info": {
   "codemirror_mode": {
    "name": "ipython",
    "version": 3
   },
   "file_extension": ".py",
   "mimetype": "text/x-python",
   "name": "python",
   "nbconvert_exporter": "python",
   "pygments_lexer": "ipython3",
   "version": "3.7.4"
  }
 },
 "nbformat": 4,
 "nbformat_minor": 1
}
