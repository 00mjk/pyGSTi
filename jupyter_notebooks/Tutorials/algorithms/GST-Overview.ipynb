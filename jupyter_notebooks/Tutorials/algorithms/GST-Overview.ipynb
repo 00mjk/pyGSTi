{
 "cells": [
  {
   "cell_type": "markdown",
   "metadata": {},
   "source": [
    "# An overview of Gate Set Tomography"
   ]
  },
  {
   "cell_type": "markdown",
   "metadata": {},
   "source": [
    "The `pygsti` package provides multiple levels of abstraction over the core Gate Set Tomography (GST) algorithms.  This tutorial will show you how to run Gate Set Tomography on some simulated (generated) data, hopefully giving you an overall sense of what it takes (and how easy it is!) to run GST.  For more details and options for running GST, see the [GST circuits tutorial](../objects/advanced/GSTCircuitConstruction.ipynb) and the [tutorial covering the different protocols for running GST](GST-Protocols.ipynb).\n",
    "\n",
    "There are three basic steps to running protocols in pyGSTi:\n",
    "\n",
    "## Step 1: create an experiment design\n",
    "The first step is creating an object that specifies what data (from the quantum processor) will be needed to perform GST, and how it should be taken.  This is called an \"experiment design\" in pyGSTi.\n",
    "\n",
    "To run GST, we need the following three inputs:\n",
    "1. a \"**target model**\" which describes the desired, or ideal, operations we want our experimental hardware to perform.  In the example below, we use the target model from one of pyGSTi's build-in \"model packs\" (see the [tutorial on model packs](objects/advanced/ModelPacks.ipynb)) - which acts on a single qubit with the following operations:\n",
    "    - three gates: the identity, and $\\pi/2$ rotations around the $x$- and $y$-axes.\n",
    "    - a single state preparation in the $|0\\rangle$ state.\n",
    "    - a 2-outcome measurement with the label \"0\" associated with measuring $|0\\rangle$ and \"1\" with measuring $|1\\rangle$.\n",
    "    \n",
    "2. a list of circuits tailored to the target model; essentially a list of what experiments we need to run.  Using a standard model makes things especially straightforward here, since the building blocks, called *germ* and *fiducial* circuits, needed to make good GST circuits have already been computed (see the [tutorial on GST circuits](../objects/advanced/GSTCircuitConstruction.ipynb)).  In the example below, the model pack also provides the necessary germ and fiducial lists, so that all that is needed is a list of \"maximum lengths\" describing how long (deep) the circuits should be.\n",
    "\n",
    "3. data, in the form of experimental outcome counts, for each of the required sequences.  In this example we'll generate \"fake\" or \"simulated\" data from a depolarized version of our ideal model.  For more information about `DataSet` objects, see the [tutorial on DataSets](../objects/DataSet.ipynb).\n",
    "\n",
    "The first two inputs form an \"experiment design\", as they describe the experiment that must be performed on a quantum processor (usually running some prescribed set of circuits) in order to run the GST protocol.  The third input - the data counts - is packaged with the experiment design to create a `ProtocolData`, or \"data\" object.  As we will see later, a data object serves as the input to the GST protocol.\n",
    "\n",
    "**The cell below creates an experiment design for running standard GST on the 1-qubit quantum process described by the gates above using circuits whose depth is at most 32.**"
   ]
  },
  {
   "cell_type": "code",
   "execution_count": 1,
   "metadata": {},
   "outputs": [],
   "source": [
    "import pygsti\n",
    "from pygsti.modelpacks import smq1Q_XYI\n",
    "\n",
    "#Step 1: create an \"experiment design\" for doing GST on the std1Q_XYI gate set\n",
    "target_model = smq1Q_XYI.target_model()      # a Model object\n",
    "prep_fiducials = smq1Q_XYI.prep_fiducials()  # a list of Circuit objects\n",
    "meas_fiducials = smq1Q_XYI.meas_fiducials()  # a list of Circuit objects\n",
    "germs = smq1Q_XYI.germs()                    # a list of Circuit objects\n",
    "maxLengths = [1,2,4,8,16,32]\n",
    "exp_design = pygsti.protocols.StandardGSTDesign(target_model, prep_fiducials, meas_fiducials,\n",
    "                                                germs, maxLengths)"
   ]
  },
  {
   "cell_type": "markdown",
   "metadata": {},
   "source": [
    "**Pro tip:** the contents of the cell above (except the imports) could be replaced by the single line:\n",
    "\n",
    "```exp_design = smq1Q_XYI.get_gst_experiment_design(max_max_length=32)```\n",
    "\n",
    "\n",
    "## Step 2: collect data as specified by the experiment design\n",
    "Next, we just follow the instructions in the experiment design to collect data from the quantum processor (or the portion of the processor we're characterizing).  In this example, we'll generate the data using a depolarizing noise model since we don't have a real quantum processor lying around.  The call to `simulate_taking_data` should be replaced with the user filling out the empty \"template\" data set file with real data.  Note also that we set `clobber_ok=True`; this is so the tutorial can be run multiple times without having to manually remove the dataset.txt file - we recommend you leave this set to False (the default) when using it in your own scripts."
   ]
  },
  {
   "cell_type": "code",
   "execution_count": 2,
   "metadata": {},
   "outputs": [],
   "source": [
    "def simulate_taking_data(data_template_filename):\n",
    "    \"\"\"Simulate taking 1-qubit data and filling the results into a template dataset.txt file\"\"\"\n",
    "    datagen_model = smq1Q_XYI.target_model().depolarize(op_noise=0.01, spam_noise=0.001)\n",
    "    pygsti.io.fill_in_empty_dataset_with_fake_data(datagen_model, data_template_filename, nSamples=1000, seed=1234)"
   ]
  },
  {
   "cell_type": "code",
   "execution_count": 3,
   "metadata": {},
   "outputs": [],
   "source": [
    "pygsti.io.write_empty_protocol_data(exp_design, '../tutorial_files/test_gst_dir', clobber_ok=True)\n",
    "\n",
    "# -- fill in the dataset file in tutorial_files/test_gst_dir/data/dataset.txt --\n",
    "simulate_taking_data(\"../tutorial_files/test_gst_dir/data/dataset.txt\")  # REPLACE with actual data-taking\n",
    "\n",
    "data = pygsti.io.load_data_from_dir('../tutorial_files/test_gst_dir')"
   ]
  },
  {
   "cell_type": "markdown",
   "metadata": {},
   "source": [
    "## Step 3: Run the GST protocol and create a report\n",
    "Now we just instantiate a `StandardGST` protocol and `.run` it on our data object.  This returns a results object that can be used to create a report."
   ]
  },
  {
   "cell_type": "code",
   "execution_count": 4,
   "metadata": {},
   "outputs": [
    {
     "name": "stdout",
     "output_type": "stream",
     "text": [
      "-- Std Practice:  Iter 1 of 3  (TP) --: \n",
      "  --- Iterative MLGST: [##################################################] 100.0%  784 operation sequences ---\n",
      "  Iterative MLGST Total Time: 6.4s\n",
      "-- Std Practice:  Iter 2 of 3  (CPTP) --: \n",
      "  --- Iterative MLGST: [##################################################] 100.0%  784 operation sequences ---\n",
      "  Iterative MLGST Total Time: 24.7s\n",
      "-- Std Practice:  Iter 3 of 3  (Target) --: \n",
      "*** Creating workspace ***\n",
      "*** Generating switchboard ***\n",
      "Found standard clifford compilation from smq1Q_XYI\n",
      "Found standard clifford compilation from smq1Q_XYI\n",
      "Found standard clifford compilation from smq1Q_XYI\n",
      "*** Generating tables ***\n",
      "  targetSpamBriefTable                          took 1.003711 seconds\n",
      "  targetGatesBoxTable                           took 0.209845 seconds\n",
      "  datasetOverviewTable                          took 0.054104 seconds\n",
      "  bestGatesetSpamParametersTable                took 0.001216 seconds\n",
      "  bestGatesetSpamBriefTable                     took 0.571015 seconds\n",
      "  bestGatesetSpamVsTargetTable                  took 0.518573 seconds\n",
      "  bestGatesetGaugeOptParamsTable                took 0.001245 seconds\n",
      "  bestGatesetGatesBoxTable                      took 0.386322 seconds\n",
      "  bestGatesetChoiEvalTable                      took 1.204748 seconds\n",
      "  bestGatesetDecompTable                        took 0.763169 seconds\n",
      "  bestGatesetEvalTable                          took 0.009753 seconds\n",
      "  bestGermsEvalTable                            took 0.025116 seconds\n",
      "  bestGatesetVsTargetTable                      took 0.08373 seconds\n",
      "  bestGatesVsTargetTable_gv                     took 0.625911 seconds\n",
      "  bestGatesVsTargetTable_gvgerms                took 0.104062 seconds\n",
      "  bestGatesVsTargetTable_gi                     took 0.02957 seconds\n",
      "  bestGatesVsTargetTable_gigerms                took 0.037727 seconds\n",
      "  bestGIGatesetTable                            took 1.839281 seconds\n",
      "  bestGatesVsTargetTable_sum                    took 0.53147 seconds\n",
      "  bestGatesetErrGenBoxTable                     took 2.184431 seconds\n",
      "  metadataTable                                 took 0.001631 seconds\n",
      "  stdoutBlock                                   took 0.000205 seconds\n",
      "  profilerTable                                 took 0.003017 seconds\n",
      "  softwareEnvTable                              took 0.030565 seconds\n",
      "  exampleTable                                  took 0.070327 seconds\n",
      "  singleMetricTable_gv                          took 0.610108 seconds\n",
      "  singleMetricTable_gi                          took 0.027062 seconds\n",
      "  bestGIMetricTable                             took 4.041693 seconds\n",
      "  fiducialListTable                             took 0.000962 seconds\n",
      "  prepStrListTable                              took 0.000286 seconds\n",
      "  effectStrListTable                            took 0.00027 seconds\n",
      "  colorBoxPlotKeyPlot                           took 0.093708 seconds\n",
      "  germList2ColTable                             took 0.00019 seconds\n",
      "  progressTable                                 took 9.806469 seconds\n",
      "*** Generating plots ***\n",
      "  gramBarPlot                                   took 0.095733 seconds\n",
      "  progressBarPlot                               took 3.264362 seconds\n",
      "  progressBarPlot_sum                           took 0.001449 seconds\n",
      "  finalFitComparePlot                           took 0.062493 seconds\n",
      "  bestEstimateColorBoxPlot                      took 34.168341 seconds\n",
      "  bestEstimateTVDColorBoxPlot                   took 11.268062 seconds\n",
      "  bestEstimateColorScatterPlot                  took 6.716239 seconds\n",
      "  bestEstimateColorHistogram                    took 3.655458 seconds\n",
      "  progressTable_scl                             took 0.000124 seconds\n",
      "  progressBarPlot_scl                           took 0.000111 seconds\n",
      "  bestEstimateColorBoxPlot_scl                  took 0.000384 seconds\n",
      "  bestEstimateColorScatterPlot_scl              took 0.000702 seconds\n",
      "  bestEstimateColorHistogram_scl                took 0.000725 seconds\n",
      "  progressTable_ume                             took 0.000249 seconds\n",
      "  progressBarPlot_ume                           took 0.00023 seconds\n",
      "  bestEstimateColorBoxPlot_ume                  took 0.000763 seconds\n",
      "  bestEstimateColorScatterPlot_ume              took 0.000524 seconds\n",
      "  bestEstimateColorHistogram_ume                took 0.00098 seconds\n",
      "  dataScalingColorBoxPlot                       took 0.000172 seconds\n",
      "  unmodeledErrorBudgetTable                     took 0.000123 seconds\n",
      "*** Merging into template file ***\n",
      "*** Report Generation Complete!  Total time 94.5656s ***\n"
     ]
    }
   ],
   "source": [
    "#run the GST protocol and create a report \n",
    "gst_protocol = pygsti.protocols.StandardGST('TP,CPTP,Target')\n",
    "results = gst_protocol.run(data)\n",
    "\n",
    "report = pygsti.report.create_standard_report(\n",
    "    results, \"../tutorial_files/gettingStartedReport\",\n",
    "    title=\"GST Overview Tutorial Example Report\", verbosity=2)\n",
    "#TODO: report.write_html(\"../tutorial_files/gettingStartedReport\")"
   ]
  },
  {
   "cell_type": "markdown",
   "metadata": {},
   "source": [
    "You can now open the file [../tutorial_files/gettingStartedReport/main.html](../tutorial_files/gettingStartedReport/main.html) in your browser (Firefox works best) to view the report.  **That's it!  You've just run GST!** \n",
    "\n",
    "In the cell above, `results` is a `ModelEstimateResults` object, which is used to generate a HTML report.  For more information see the [Results object tutorial](../objects/advanced/Results.ipynb) and [report generation tutorial](../reporting/ReportGeneration.ipynb)."
   ]
  },
  {
   "cell_type": "code",
   "execution_count": null,
   "metadata": {},
   "outputs": [],
   "source": []
  }
 ],
 "metadata": {
  "kernelspec": {
   "display_name": "Python 3",
   "language": "python",
   "name": "python3"
  },
  "language_info": {
   "codemirror_mode": {
    "name": "ipython",
    "version": 3
   },
   "file_extension": ".py",
   "mimetype": "text/x-python",
   "name": "python",
   "nbconvert_exporter": "python",
   "pygments_lexer": "ipython3",
   "version": "3.7.0"
  }
 },
 "nbformat": 4,
 "nbformat_minor": 1
}
