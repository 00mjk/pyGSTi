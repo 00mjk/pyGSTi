{
 "cells": [
  {
   "cell_type": "markdown",
   "metadata": {},
   "source": [
    "# Simulating Clifford randomized benchmarking using a generic noise model\n",
    "\n",
    "This tutorial demonstrates shows how to simulate Clifford RB sequences using arbitrary $n$-qubit process matrices.  In this example $n=2$."
   ]
  },
  {
   "cell_type": "code",
   "execution_count": 1,
   "metadata": {},
   "outputs": [],
   "source": [
    "import pygsti\n",
    "import numpy as np"
   ]
  },
  {
   "cell_type": "markdown",
   "metadata": {},
   "source": [
    "## Get some CRB circuits\n",
    "\n",
    "First, we follow the [Clifford RB](../CliffordRB.ipynb) tutorial to generate a set of sequences.  If you want to perform Direct RB instead, just replace this cell with the contents of the [Direct RB](../DirectRB.ipynb) tutorial up until the point where it creates `circuitlist`:"
   ]
  },
  {
   "cell_type": "code",
   "execution_count": 2,
   "metadata": {},
   "outputs": [
    {
     "name": "stdout",
     "output_type": "stream",
     "text": [
      "- Sampling 10 circuits at CRB length 0 (1 of 6 depths)\n",
      "  - Number of circuits sampled = 1,2,3,4,5,6,7,8,9,10,\n",
      "- Sampling 10 circuits at CRB length 1 (2 of 6 depths)\n",
      "  - Number of circuits sampled = 1,2,3,4,5,6,7,8,9,10,\n",
      "- Sampling 10 circuits at CRB length 2 (3 of 6 depths)\n",
      "  - Number of circuits sampled = 1,2,3,4,5,6,7,8,9,10,\n",
      "- Sampling 10 circuits at CRB length 4 (4 of 6 depths)\n",
      "  - Number of circuits sampled = 1,2,3,4,5,6,7,8,9,10,\n",
      "- Sampling 10 circuits at CRB length 8 (5 of 6 depths)\n",
      "  - Number of circuits sampled = 1,2,3,4,5,6,7,8,9,10,\n",
      "- Sampling 10 circuits at CRB length 16 (6 of 6 depths)\n",
      "  - Number of circuits sampled = 1,2,3,4,5,6,7,8,9,10,\n"
     ]
    }
   ],
   "source": [
    "#Specify the device to be benchmarked - in this case 2 qubits\n",
    "n_qubits = 2\n",
    "qubit_labels = [0,1] \n",
    "gate_names = ['Gxpi2', 'Gypi2','Gcphase'] \n",
    "availability = {'Gcphase':[(0,1)]}\n",
    "pspec = pygsti.obj.ProcessorSpec(n_qubits, gate_names, availability=availability, \n",
    "                                 qubit_labels=qubit_labels, construct_models=('clifford',))\n",
    "\n",
    "#Specify RB parameters (k = number of repetitions at each length)\n",
    "lengths = [0,1,2,4,8,16]\n",
    "k = 10\n",
    "subsetQs = [0,1]\n",
    "randomizeout = False # ==> all circuits have the *same* ideal outcome (the all-zeros bitstring)\n",
    "\n",
    "#Generate clifford RB circuits\n",
    "exp_design = pygsti.protocols.CliffordRBDesign(pspec, lengths, k, qubit_labels=subsetQs, randomizeout=randomizeout)\n",
    "\n",
    "#Collect all the circuits into one list:\n",
    "circuitlist = exp_design.all_circuits_needing_data"
   ]
  },
  {
   "cell_type": "markdown",
   "metadata": {},
   "source": [
    "## Create a model to simulate these circuits\n",
    "Now we need to create a model that can simulate circuits like this.  Two things to note:\n",
    "\n",
    "1. RB circuits use our \"multi-qubit\" gate naming, so you have gates like `Gxpi2:0` and `Gcphase:0:1`.\n",
    "2. RB circuits do gates in parallel (this only matters for >1 qubits), so you have layers like `[Gypi2:0Gypi2:1]`\n",
    "\n",
    "In this example, we'll make a model with $n$-qubit process matrices, so this will be practically limited to small $n$.  We construct a model based on our standard 2-qubit X, Y, and CPHASE model, since this \n",
    "has all the appropriate gates.  To get a model with the multi-qubit labels, we'll use a standard multi-qubit \"model-pack\", which packages a `Model` object with relevant meta information needed by other protocols (like GST).  If you can't start with a standard model, then you'll need to create an `ExplicitOpModel` object of the appropriate dimension (see the [explicit models tutorial](../../objects/ExplicitModel.ipynb)) and assign to it gates with are, for instance `('Gxpi2',0)` rather than just `'Gxpi2'`.\n",
    "\n",
    "Here we import the `smq2Q_XYCPHASE` model pack:"
   ]
  },
  {
   "cell_type": "code",
   "execution_count": 3,
   "metadata": {},
   "outputs": [],
   "source": [
    "from pygsti.modelpacks import smq2Q_XYCPHASE"
   ]
  },
  {
   "cell_type": "markdown",
   "metadata": {},
   "source": [
    "We'll depolarize the target model and set one of the process matrices to a custom value as a demonstration.  Here is where you can set any 2-qubit process matrices you want to any of the gates:"
   ]
  },
  {
   "cell_type": "code",
   "execution_count": 4,
   "metadata": {},
   "outputs": [
    {
     "data": {
      "text/plain": [
       "odict_keys([Label[Gxpi2:1], Label[Gypi2:1], Label[Gxpi2:0], Label[Gypi2:0], Label[Gcphase:0:1], Label[Gx:0]])"
      ]
     },
     "execution_count": 4,
     "metadata": {},
     "output_type": "execute_result"
    }
   ],
   "source": [
    "myModel = smq2Q_XYCPHASE.target_model().depolarize(op_noise=0.01, spam_noise=0.01)\n",
    "myModel[('Gx',0)] = np.kron( \n",
    "    np.array([[1, 0, 0, 0],\n",
    "              [0, 0.85, 0, 0],\n",
    "              [0, 0, 0, -0.85],\n",
    "              [0, 0, 0.85, 0]], 'd'),\n",
    "    np.array([[1, 0, 0, 0],\n",
    "              [0, 0.95, 0, 0],\n",
    "              [0, 0, 0.95, 0],\n",
    "              [0, 0, 0, 0.95]], 'd'))\n",
    "#print(myModel[('Gx',0)])\n",
    "myModel.operations.keys() #voila! you have gates like \"Gx:0\" rather than \"Gxi\""
   ]
  },
  {
   "cell_type": "markdown",
   "metadata": {},
   "source": [
    "Since, `ExplicitOpModel` objects (e.g., those in the model packs) don't know how to automatically simulate multiple gates in parallel (you'd need to add an operation for each layer explicitly), we'll just *serialize* the circuits so they don't contain any parallel gates.  This addresses point 2) above.  Then we can simulate our circuits using our `ExplicitOpModel`, creating a `DataSet`."
   ]
  },
  {
   "cell_type": "code",
   "execution_count": 5,
   "metadata": {},
   "outputs": [
    {
     "name": "stdout",
     "output_type": "stream",
     "text": [
      "Qubit 0 ---|Gypi2|-|     |-|     |-|     |-|C1|-|     |-|Gypi2|---\n",
      "Qubit 1 ---|     |-|Gxpi2|-|Gypi2|-|Gypi2|-|C0|-|Gypi2|-|     |---\n",
      "\n",
      "Qubit 0 ---|Gypi2|-|     |-|     |-|C1|-|Gypi2|---\n",
      "Qubit 1 ---|Gxpi2|-|Gypi2|-|Gypi2|-|C0|-|Gypi2|---\n",
      "\n"
     ]
    },
    {
     "name": "stderr",
     "output_type": "stream",
     "text": [
      "/Users/sserita/Documents/repos/pyGSTi/pygsti/objects/evaltree.py:192: UserWarning: Created an evaluation tree that is inefficient: tree-size > 10 * #circuits !\n",
      "This is likely due to the fact that the circuits being simulated do not have a\n",
      "periodic structure. Consider using a different forward simulator (e.g. MapForwardSimulator).\n",
      "  _warnings.warn((\"Created an evaluation tree that is inefficient: tree-size > %d * #circuits !\\n\"\n"
     ]
    }
   ],
   "source": [
    "serial_circuits = [c.serialize() for c in circuitlist]\n",
    "ds = pygsti.construction.simulate_data(myModel, serial_circuits, 100, seed=1234)\n",
    "\n",
    "#See how the DataSet contains serialized circuits (just printing the first several layers for clarity)\n",
    "print(list(ds.keys())[10][0:7])\n",
    "print(circuitlist[10][0:5])"
   ]
  },
  {
   "cell_type": "markdown",
   "metadata": {},
   "source": [
    "Next, we \"un-serialize\" the circuits in the resulting data-set (`ds`) using the `process_circuits` function.  This is needed because the RB experiment design calls for the original (parallel-gate) circuits, not the serialized ones.  The cell below updates the circuits for all the data we just simulated so the data counts are associated with the original circuits."
   ]
  },
  {
   "cell_type": "code",
   "execution_count": 6,
   "metadata": {},
   "outputs": [],
   "source": [
    "#map circuits in dataset back to non-serialized RB circuits that we expect to have data for:\n",
    "unserialize_map = { serial_circuit: orig_circuit for (serial_circuit, orig_circuit) in zip(serial_circuits, circuitlist)}\n",
    "ds = ds.copy_nonstatic()\n",
    "ds.process_circuits(lambda c: unserialize_map[c])\n",
    "ds.done_adding_data()"
   ]
  },
  {
   "cell_type": "markdown",
   "metadata": {},
   "source": [
    "## Running RB on the simulated `DataSet`\n",
    "To run an RB analysis, we just package up the experiment design and data set into a `ProtocolData` object and give this to a `RB` protocol's `run` method.  This returns a `RandomizedBenchmarkingResults` object that can be used to plot the RB decay curve.  (See the [RB analysis tutorial](../RBAnalysis.ipynb) for more details.)"
   ]
  },
  {
   "cell_type": "code",
   "execution_count": 7,
   "metadata": {},
   "outputs": [
    {
     "ename": "KeyError",
     "evalue": "Circuit([Gypi2:0Gypi2:1]Gcphase:0:1[Gypi2:1Gypi2:0]Gcphase:0:1Gypi2:0Gxpi2:0Gypi2:0Gypi2:0Gypi2:0[Gxpi2:0Gypi2:1][Gxpi2:1Gypi2:0]Gypi2:1Gcphase:0:1Gypi2:0Gypi2:0Gypi2:0Gcphase:0:1[Gypi2:0Gypi2:1]Gxpi2:0Gypi2:0Gcphase:0:1[Gypi2:1Gypi2:0][Gypi2:0Gypi2:1][Gypi2:0Gypi2:1]@(0,1))",
     "output_type": "error",
     "traceback": [
      "\u001b[0;31m---------------------------------------------------------------------------\u001b[0m",
      "\u001b[0;31mKeyError\u001b[0m                                  Traceback (most recent call last)",
      "\u001b[0;32m<ipython-input-7-24f20a3ffe10>\u001b[0m in \u001b[0;36m<module>\u001b[0;34m\u001b[0m\n\u001b[1;32m      1\u001b[0m \u001b[0mdata\u001b[0m \u001b[0;34m=\u001b[0m \u001b[0mpygsti\u001b[0m\u001b[0;34m.\u001b[0m\u001b[0mprotocols\u001b[0m\u001b[0;34m.\u001b[0m\u001b[0mProtocolData\u001b[0m\u001b[0;34m(\u001b[0m\u001b[0mexp_design\u001b[0m\u001b[0;34m,\u001b[0m \u001b[0mds\u001b[0m\u001b[0;34m)\u001b[0m\u001b[0;34m\u001b[0m\u001b[0;34m\u001b[0m\u001b[0m\n\u001b[1;32m      2\u001b[0m \u001b[0;31m# TODO: Similar issues to other Clifford RB tutorials\u001b[0m\u001b[0;34m\u001b[0m\u001b[0;34m\u001b[0m\u001b[0;34m\u001b[0m\u001b[0m\n\u001b[0;32m----> 3\u001b[0;31m \u001b[0mresults\u001b[0m \u001b[0;34m=\u001b[0m \u001b[0mpygsti\u001b[0m\u001b[0;34m.\u001b[0m\u001b[0mprotocols\u001b[0m\u001b[0;34m.\u001b[0m\u001b[0mRB\u001b[0m\u001b[0;34m(\u001b[0m\u001b[0;34m)\u001b[0m\u001b[0;34m.\u001b[0m\u001b[0mrun\u001b[0m\u001b[0;34m(\u001b[0m\u001b[0mdata\u001b[0m\u001b[0;34m)\u001b[0m\u001b[0;34m\u001b[0m\u001b[0;34m\u001b[0m\u001b[0m\n\u001b[0m",
      "\u001b[0;32m~/Documents/repos/pyGSTi/pygsti/protocols/rb.py\u001b[0m in \u001b[0;36mrun\u001b[0;34m(self, data, memlimit, comm)\u001b[0m\n\u001b[1;32m   1177\u001b[0m \u001b[0;34m\u001b[0m\u001b[0m\n\u001b[1;32m   1178\u001b[0m         \u001b[0;32mif\u001b[0m \u001b[0mself\u001b[0m\u001b[0;34m.\u001b[0m\u001b[0mdatatype\u001b[0m \u001b[0;32mnot\u001b[0m \u001b[0;32min\u001b[0m \u001b[0mdata\u001b[0m\u001b[0;34m.\u001b[0m\u001b[0mcache\u001b[0m\u001b[0;34m:\u001b[0m\u001b[0;34m\u001b[0m\u001b[0;34m\u001b[0m\u001b[0m\n\u001b[0;32m-> 1179\u001b[0;31m             \u001b[0msummary_data_dict\u001b[0m \u001b[0;34m=\u001b[0m \u001b[0mself\u001b[0m\u001b[0;34m.\u001b[0m\u001b[0m_compute_summary_statistics\u001b[0m\u001b[0;34m(\u001b[0m\u001b[0mdata\u001b[0m\u001b[0;34m)\u001b[0m\u001b[0;34m\u001b[0m\u001b[0;34m\u001b[0m\u001b[0m\n\u001b[0m\u001b[1;32m   1180\u001b[0m             \u001b[0mdata\u001b[0m\u001b[0;34m.\u001b[0m\u001b[0mcache\u001b[0m\u001b[0;34m.\u001b[0m\u001b[0mupdate\u001b[0m\u001b[0;34m(\u001b[0m\u001b[0msummary_data_dict\u001b[0m\u001b[0;34m)\u001b[0m\u001b[0;34m\u001b[0m\u001b[0;34m\u001b[0m\u001b[0m\n\u001b[1;32m   1181\u001b[0m         \u001b[0msrc_data\u001b[0m \u001b[0;34m=\u001b[0m \u001b[0mdata\u001b[0m\u001b[0;34m.\u001b[0m\u001b[0mcache\u001b[0m\u001b[0;34m[\u001b[0m\u001b[0mself\u001b[0m\u001b[0;34m.\u001b[0m\u001b[0mdatatype\u001b[0m\u001b[0;34m]\u001b[0m\u001b[0;34m\u001b[0m\u001b[0;34m\u001b[0m\u001b[0m\n",
      "\u001b[0;32m~/Documents/repos/pyGSTi/pygsti/protocols/vb.py\u001b[0m in \u001b[0;36m_compute_summary_statistics\u001b[0;34m(self, data)\u001b[0m\n\u001b[1;32m    363\u001b[0m             \u001b[0;32mreturn\u001b[0m \u001b[0mret\u001b[0m\u001b[0;34m\u001b[0m\u001b[0;34m\u001b[0m\u001b[0m\n\u001b[1;32m    364\u001b[0m \u001b[0;34m\u001b[0m\u001b[0m\n\u001b[0;32m--> 365\u001b[0;31m         return self._compute_dict(data, self.summary_statistics,\n\u001b[0m\u001b[1;32m    366\u001b[0m                                   get_summary_values, for_passes='all')\n\u001b[1;32m    367\u001b[0m \u001b[0;34m\u001b[0m\u001b[0m\n",
      "\u001b[0;32m~/Documents/repos/pyGSTi/pygsti/protocols/vb.py\u001b[0m in \u001b[0;36m_compute_dict\u001b[0;34m(self, data, component_names, compute_fn, for_passes)\u001b[0m\n\u001b[1;32m    470\u001b[0m         \u001b[0;32mfor\u001b[0m \u001b[0mdepth\u001b[0m\u001b[0;34m,\u001b[0m \u001b[0mcircuits_at_depth\u001b[0m\u001b[0;34m,\u001b[0m \u001b[0midealouts_at_depth\u001b[0m \u001b[0;32min\u001b[0m \u001b[0mzip\u001b[0m\u001b[0;34m(\u001b[0m\u001b[0mdepths\u001b[0m\u001b[0;34m,\u001b[0m \u001b[0mdesign\u001b[0m\u001b[0;34m.\u001b[0m\u001b[0mcircuit_lists\u001b[0m\u001b[0;34m,\u001b[0m \u001b[0mdesign\u001b[0m\u001b[0;34m.\u001b[0m\u001b[0midealout_lists\u001b[0m\u001b[0;34m)\u001b[0m\u001b[0;34m:\u001b[0m\u001b[0;34m\u001b[0m\u001b[0;34m\u001b[0m\u001b[0m\n\u001b[1;32m    471\u001b[0m             \u001b[0;32mfor\u001b[0m \u001b[0micirc\u001b[0m\u001b[0;34m,\u001b[0m \u001b[0;34m(\u001b[0m\u001b[0mcirc\u001b[0m\u001b[0;34m,\u001b[0m \u001b[0midealout\u001b[0m\u001b[0;34m)\u001b[0m \u001b[0;32min\u001b[0m \u001b[0menumerate\u001b[0m\u001b[0;34m(\u001b[0m\u001b[0mzip\u001b[0m\u001b[0;34m(\u001b[0m\u001b[0mcircuits_at_depth\u001b[0m\u001b[0;34m,\u001b[0m \u001b[0midealouts_at_depth\u001b[0m\u001b[0;34m)\u001b[0m\u001b[0;34m)\u001b[0m\u001b[0;34m:\u001b[0m\u001b[0;34m\u001b[0m\u001b[0;34m\u001b[0m\u001b[0m\n\u001b[0;32m--> 472\u001b[0;31m                 \u001b[0mdsrow\u001b[0m \u001b[0;34m=\u001b[0m \u001b[0mds\u001b[0m\u001b[0;34m[\u001b[0m\u001b[0mcirc\u001b[0m\u001b[0;34m]\u001b[0m \u001b[0;32mif\u001b[0m \u001b[0;34m(\u001b[0m\u001b[0mds\u001b[0m \u001b[0;32mis\u001b[0m \u001b[0;32mnot\u001b[0m \u001b[0;32mNone\u001b[0m\u001b[0;34m)\u001b[0m \u001b[0;32melse\u001b[0m \u001b[0;32mNone\u001b[0m  \u001b[0;31m# stripOccurrenceTags=True ??\u001b[0m\u001b[0;34m\u001b[0m\u001b[0;34m\u001b[0m\u001b[0m\n\u001b[0m\u001b[1;32m    473\u001b[0m                 \u001b[0;31m# -- this is where Tim thinks there's a bottleneck, as these loops will be called for each\u001b[0m\u001b[0;34m\u001b[0m\u001b[0;34m\u001b[0m\u001b[0;34m\u001b[0m\u001b[0m\n\u001b[1;32m    474\u001b[0m                 \u001b[0;31m# member of a simultaneous experiment separately instead of having an inner-more iteration\u001b[0m\u001b[0;34m\u001b[0m\u001b[0;34m\u001b[0m\u001b[0;34m\u001b[0m\u001b[0m\n",
      "\u001b[0;32m~/Documents/repos/pyGSTi/pygsti/objects/dataset.py\u001b[0m in \u001b[0;36m__getitem__\u001b[0;34m(self, circuit)\u001b[0m\n\u001b[1;32m   1135\u001b[0m \u001b[0;34m\u001b[0m\u001b[0m\n\u001b[1;32m   1136\u001b[0m     \u001b[0;32mdef\u001b[0m \u001b[0m__getitem__\u001b[0m\u001b[0;34m(\u001b[0m\u001b[0mself\u001b[0m\u001b[0;34m,\u001b[0m \u001b[0mcircuit\u001b[0m\u001b[0;34m)\u001b[0m\u001b[0;34m:\u001b[0m\u001b[0;34m\u001b[0m\u001b[0;34m\u001b[0m\u001b[0m\n\u001b[0;32m-> 1137\u001b[0;31m         \u001b[0;32mreturn\u001b[0m \u001b[0mself\u001b[0m\u001b[0;34m.\u001b[0m\u001b[0m_get_row\u001b[0m\u001b[0;34m(\u001b[0m\u001b[0mcircuit\u001b[0m\u001b[0;34m)\u001b[0m\u001b[0;34m\u001b[0m\u001b[0;34m\u001b[0m\u001b[0m\n\u001b[0m\u001b[1;32m   1138\u001b[0m \u001b[0;34m\u001b[0m\u001b[0m\n\u001b[1;32m   1139\u001b[0m     \u001b[0;32mdef\u001b[0m \u001b[0m__setitem__\u001b[0m\u001b[0;34m(\u001b[0m\u001b[0mself\u001b[0m\u001b[0;34m,\u001b[0m \u001b[0mcircuit\u001b[0m\u001b[0;34m,\u001b[0m \u001b[0moutcome_dict_or_series\u001b[0m\u001b[0;34m)\u001b[0m\u001b[0;34m:\u001b[0m\u001b[0;34m\u001b[0m\u001b[0;34m\u001b[0m\u001b[0m\n",
      "\u001b[0;32m~/Documents/repos/pyGSTi/pygsti/objects/dataset.py\u001b[0m in \u001b[0;36m_get_row\u001b[0;34m(self, circuit)\u001b[0m\n\u001b[1;32m   1171\u001b[0m \u001b[0;34m\u001b[0m\u001b[0m\n\u001b[1;32m   1172\u001b[0m         \u001b[0;31m#Note: cirIndex value is either an int (non-static) or a slice (static)\u001b[0m\u001b[0;34m\u001b[0m\u001b[0;34m\u001b[0m\u001b[0;34m\u001b[0m\u001b[0m\n\u001b[0;32m-> 1173\u001b[0;31m         \u001b[0mrepData\u001b[0m \u001b[0;34m=\u001b[0m \u001b[0mself\u001b[0m\u001b[0;34m.\u001b[0m\u001b[0mrepData\u001b[0m\u001b[0;34m[\u001b[0m\u001b[0mself\u001b[0m\u001b[0;34m.\u001b[0m\u001b[0mcirIndex\u001b[0m\u001b[0;34m[\u001b[0m\u001b[0mcircuit\u001b[0m\u001b[0;34m]\u001b[0m\u001b[0;34m]\u001b[0m\u001b[0;31m \u001b[0m\u001b[0;31m\\\u001b[0m\u001b[0;34m\u001b[0m\u001b[0;34m\u001b[0m\u001b[0m\n\u001b[0m\u001b[1;32m   1174\u001b[0m             \u001b[0;32mif\u001b[0m \u001b[0;34m(\u001b[0m\u001b[0mself\u001b[0m\u001b[0;34m.\u001b[0m\u001b[0mrepData\u001b[0m \u001b[0;32mis\u001b[0m \u001b[0;32mnot\u001b[0m \u001b[0;32mNone\u001b[0m\u001b[0;34m)\u001b[0m \u001b[0;32melse\u001b[0m \u001b[0;32mNone\u001b[0m\u001b[0;34m\u001b[0m\u001b[0;34m\u001b[0m\u001b[0m\n\u001b[1;32m   1175\u001b[0m         return _DataSetRow(self, self.oliData[self.cirIndex[circuit]],\n",
      "\u001b[0;31mKeyError\u001b[0m: Circuit([Gypi2:0Gypi2:1]Gcphase:0:1[Gypi2:1Gypi2:0]Gcphase:0:1Gypi2:0Gxpi2:0Gypi2:0Gypi2:0Gypi2:0[Gxpi2:0Gypi2:1][Gxpi2:1Gypi2:0]Gypi2:1Gcphase:0:1Gypi2:0Gypi2:0Gypi2:0Gcphase:0:1[Gypi2:0Gypi2:1]Gxpi2:0Gypi2:0Gcphase:0:1[Gypi2:1Gypi2:0][Gypi2:0Gypi2:1][Gypi2:0Gypi2:1]@(0,1))"
     ]
    }
   ],
   "source": [
    "data = pygsti.protocols.ProtocolData(exp_design, ds)\n",
    "# TODO: Similar issues to other Clifford RB tutorials\n",
    "results = pygsti.protocols.RB().run(data)"
   ]
  },
  {
   "cell_type": "code",
   "execution_count": null,
   "metadata": {},
   "outputs": [],
   "source": [
    "%matplotlib inline\n",
    "results.plot()"
   ]
  }
 ],
 "metadata": {
  "kernelspec": {
   "display_name": "Python 3",
   "language": "python",
   "name": "python3"
  },
  "language_info": {
   "codemirror_mode": {
    "name": "ipython",
    "version": 3
   },
   "file_extension": ".py",
   "mimetype": "text/x-python",
   "name": "python",
   "nbconvert_exporter": "python",
   "pygments_lexer": "ipython3",
   "version": "3.8.6"
  }
 },
 "nbformat": 4,
 "nbformat_minor": 1
}
