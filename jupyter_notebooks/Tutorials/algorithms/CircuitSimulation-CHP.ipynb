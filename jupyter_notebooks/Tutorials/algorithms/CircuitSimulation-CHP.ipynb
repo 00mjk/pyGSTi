{
 "cells": [
  {
   "cell_type": "markdown",
   "metadata": {},
   "source": [
    "# PyGSTi CHP Object Test"
   ]
  },
  {
   "cell_type": "code",
   "execution_count": 1,
   "metadata": {},
   "outputs": [
    {
     "output_type": "execute_result",
     "data": {
      "text/plain": [
       "'0.9.9.2.post715+gcde6e292.d20210315'"
      ]
     },
     "metadata": {},
     "execution_count": 1
    }
   ],
   "source": [
    "from __future__ import print_function #python 2 & 3 compatibility\n",
    "import pygsti\n",
    "\n",
    "from pygsti.objects.operation import LinearOperator, StaticStandardOp, StochasticNoiseOp, DepolarizeOp, ComposedOp, EmbeddedOp\n",
    "from pygsti.objects.labeldicts import StateSpaceLabels\n",
    "pygsti.__version__"
   ]
  },
  {
   "cell_type": "markdown",
   "metadata": {},
   "source": [
    "## LinearOperator and StaticStandardOp\n",
    "\n",
    "Now with 'chp' evotype."
   ]
  },
  {
   "cell_type": "code",
   "execution_count": 2,
   "metadata": {},
   "outputs": [
    {
     "output_type": "stream",
     "name": "stdout",
     "text": [
      "StaticStandardOp with name Gxpi and evotype chp\nCHP operations: h 0,p 0,p 0,h 0\n\nh 0\np 0\np 0\nh 0\n\nh 2\np 2\np 2\nh 2\n\n"
     ]
    }
   ],
   "source": [
    "Gx = StaticStandardOp('Gxpi', 'chp')\n",
    "print(Gx)\n",
    "print(Gx.get_chp_str())\n",
    "print(Gx.get_chp_str([2]))"
   ]
  },
  {
   "cell_type": "code",
   "execution_count": 3,
   "metadata": {},
   "outputs": [],
   "source": [
    "# Can also make custom CHP operations\n",
    "# Here I'm making a (deterministic) Hadamard on qubit 0 and CNOT on qubits 1 and 2\n",
    "rep = pygsti.objects.replib.CHPOpRep(['h 0', 'c 1 2'], nqubits=3)\n",
    "c = LinearOperator(rep, 'chp')"
   ]
  },
  {
   "cell_type": "code",
   "execution_count": 4,
   "metadata": {},
   "outputs": [
    {
     "output_type": "stream",
     "name": "stdout",
     "text": [
      "<pygsti.objects.operation.LinearOperator object at 0x107d6fac0>\nh 0\nc 1 2\n\nh 3\nc 4 5\n\n"
     ]
    }
   ],
   "source": [
    "print(c)\n",
    "print(c.get_chp_str())\n",
    "print(c.get_chp_str([3,4,5]))"
   ]
  },
  {
   "cell_type": "code",
   "execution_count": 5,
   "metadata": {},
   "outputs": [
    {
     "output_type": "stream",
     "name": "stdout",
     "text": [
      "StaticStandardOp with name Gc20 and evotype chp\nCHP operations: p 0,h 0,p 0,p 0,h 0\n\n"
     ]
    }
   ],
   "source": [
    "print(StaticStandardOp('Gc20', 'chp'))"
   ]
  },
  {
   "source": [
    "## StochasticNoiseOp and DepolarizeOp\n",
    "\n",
    "Now with 'chp' evotype"
   ],
   "cell_type": "markdown",
   "metadata": {}
  },
  {
   "cell_type": "code",
   "execution_count": 6,
   "metadata": {},
   "outputs": [
    {
     "output_type": "stream",
     "name": "stdout",
     "text": [
      "Stochastic noise operation map with dim = 2, num params = 3\n\np 1\np 1\n\n\nh 3\np 3\np 3\nh 3\n\nh 4\np 4\np 4\nh 4\n\n"
     ]
    }
   ],
   "source": [
    "nqubits = 1\n",
    "scop = StochasticNoiseOp(4**nqubits, evotype='chp', initial_rates=[0.5, 0.1, 0.1], seed_or_state=2021)\n",
    "print(scop)\n",
    "print(scop.get_chp_str([1])) # With seed 2021, pulls Z\n",
    "print(scop.get_chp_str([2])) # With seed 2021, pulls I (no output)\n",
    "print(scop.get_chp_str([3])) # With seed 2021, pulls X\n",
    "print(scop.get_chp_str([4])) # With seed 2021, pulls X"
   ]
  },
  {
   "cell_type": "code",
   "execution_count": 7,
   "metadata": {},
   "outputs": [
    {
     "output_type": "stream",
     "name": "stdout",
     "text": [
      "Depolarize noise operation map with dim = 2, num params = 1\n\np 1\np 1\n\n\nh 3\np 3\np 3\nh 3\n\np 4\nh 4\np 4\np 4\nh 4\np 4\np 4\np 4\n\n"
     ]
    }
   ],
   "source": [
    "nqubits = 1\n",
    "dop = DepolarizeOp(4**nqubits, evotype='chp', initial_rate=0.7, seed_or_state=2021)\n",
    "print(dop)\n",
    "print(dop.get_chp_str([1])) # With seed 2021, pulls Z\n",
    "print(dop.get_chp_str([2])) # With seed 2021, pulls I (no output)\n",
    "print(dop.get_chp_str([3])) # With seed 2021, pulls X\n",
    "print(dop.get_chp_str([4])) # With seed 2021, pulls Y"
   ]
  },
  {
   "source": [
    "## ComposedOp + EmbeddedOp"
   ],
   "cell_type": "markdown",
   "metadata": {}
  },
  {
   "cell_type": "code",
   "execution_count": 8,
   "metadata": {},
   "outputs": [
    {
     "output_type": "stream",
     "name": "stdout",
     "text": [
      "Composed operation of 2 factors:\nFactor 0:\nStaticStandardOp with name Gzpi and evotype chp\nCHP operations: p 0,p 0\nFactor 1:\nStaticStandardOp with name Gxpi and evotype chp\nCHP operations: h 0,p 0,p 0,h 0\n\np 0\np 0\nh 0\np 0\np 0\nh 0\n\np 2\np 2\nh 2\np 2\np 2\nh 2\n\n"
     ]
    }
   ],
   "source": [
    "# ComposedOp\n",
    "Gzx_composed = ComposedOp([StaticStandardOp('Gzpi', 'chp'), StaticStandardOp('Gxpi', 'chp')])\n",
    "print(Gzx_composed)\n",
    "print(Gzx_composed.get_chp_str())\n",
    "print(Gzx_composed.get_chp_str([2]))"
   ]
  },
  {
   "cell_type": "code",
   "execution_count": 9,
   "metadata": {},
   "outputs": [
    {
     "output_type": "stream",
     "name": "stdout",
     "text": [
      "Embedded operation with full dimension 4 and state space Q0(2)*Q1(2)\n that embeds the following 2-dimensional operation into acting on the ['Q0'] space\nStaticStandardOp with name Gxpi and evotype chp\nCHP operations: h 0,p 0,p 0,h 0\n\nh 0\np 0\np 0\nh 0\n\nh 5\np 5\np 5\nh 5\n\n"
     ]
    }
   ],
   "source": [
    "# EmbeddedOp\n",
    "Gxi_embedded = EmbeddedOp(['Q0', 'Q1'], ['Q0'], StaticStandardOp('Gxpi', 'chp'))\n",
    "print(Gxi_embedded)\n",
    "print(Gxi_embedded.get_chp_str())\n",
    "print(Gxi_embedded.get_chp_str([5,7]))"
   ]
  },
  {
   "cell_type": "code",
   "execution_count": 10,
   "metadata": {},
   "outputs": [
    {
     "output_type": "stream",
     "name": "stdout",
     "text": [
      "Embedded operation with full dimension 4 and state space Q0(2)*Q1(2)\n that embeds the following 2-dimensional operation into acting on the ['Q1'] space\nStaticStandardOp with name Gxpi and evotype chp\nCHP operations: h 0,p 0,p 0,h 0\n\nh 1\np 1\np 1\nh 1\n\nh 7\np 7\np 7\nh 7\n\n"
     ]
    }
   ],
   "source": [
    "Gix_embedded = EmbeddedOp(['Q0', 'Q1'], ['Q1'], StaticStandardOp('Gxpi', 'chp'))\n",
    "print(Gix_embedded)\n",
    "print(Gix_embedded.get_chp_str())\n",
    "print(Gix_embedded.get_chp_str([5,7]))"
   ]
  },
  {
   "cell_type": "code",
   "execution_count": 11,
   "metadata": {},
   "outputs": [
    {
     "output_type": "stream",
     "name": "stdout",
     "text": [
      "Embedded operation with full dimension 16 and state space Q0(2)*Q1(2)*Q2(2)*Q3(2)\n that embeds the following 2-dimensional operation into acting on the ['Q1'] space\nComposed operation of 2 factors:\nFactor 0:\nStaticStandardOp with name Gzpi and evotype chp\nCHP operations: p 0,p 0\nFactor 1:\nStaticStandardOp with name Gxpi and evotype chp\nCHP operations: h 0,p 0,p 0,h 0\n\np 1\np 1\nh 1\np 1\np 1\nh 1\n\np 6\np 6\nh 6\np 6\np 6\nh 6\n\n"
     ]
    }
   ],
   "source": [
    "# EmbeddedOp made of ComposedOps\n",
    "Gzx_comp_embed = EmbeddedOp(['Q0', 'Q1', 'Q2', 'Q3'], ['Q1'], Gzx_composed)\n",
    "print(Gzx_comp_embed)\n",
    "print(Gzx_comp_embed.get_chp_str())\n",
    "print(Gzx_comp_embed.get_chp_str([5, 6, 7, 8]))"
   ]
  },
  {
   "source": [
    "## CHPForwardSimulator + Explicit Model"
   ],
   "cell_type": "markdown",
   "metadata": {}
  },
  {
   "cell_type": "code",
   "execution_count": 12,
   "metadata": {},
   "outputs": [],
   "source": [
    "chpexe = '/Users/sserita/Documents/notebooks/pyGSTi/2021-CHP/chp'\n",
    "sim = pygsti.obj.CHPForwardSimulator(chpexe, shots=100)"
   ]
  },
  {
   "cell_type": "code",
   "execution_count": 13,
   "metadata": {},
   "outputs": [
    {
     "output_type": "stream",
     "name": "stdout",
     "text": [
      "rho0 = Composed operation of 2 factors:\nFactor 0:\nEmbedded operation with full dimension 4 and state space Q0(2)*Q1(2)\n that embeds the following 2-dimensional operation into acting on the ['Q0'] space\nStaticStandardOp with name Gi and evotype chp\nCHP operations: \nFactor 1:\nEmbedded operation with full dimension 4 and state space Q0(2)*Q1(2)\n that embeds the following 2-dimensional operation into acting on the ['Q1'] space\nStaticStandardOp with name Gi and evotype chp\nCHP operations: \n\n\nMdefault = Computational(Z)-basis POVM on 2 qubits and filter None\n\n\nGii = \nComposed operation of 2 factors:\nFactor 0:\nEmbedded operation with full dimension 4 and state space Q0(2)*Q1(2)\n that embeds the following 2-dimensional operation into acting on the ['Q0'] space\nStaticStandardOp with name Gi and evotype chp\nCHP operations: \nFactor 1:\nEmbedded operation with full dimension 4 and state space Q0(2)*Q1(2)\n that embeds the following 2-dimensional operation into acting on the ['Q1'] space\nStaticStandardOp with name Gi and evotype chp\nCHP operations: \n\n\nGxi = \nComposed operation of 2 factors:\nFactor 0:\nEmbedded operation with full dimension 4 and state space Q0(2)*Q1(2)\n that embeds the following 2-dimensional operation into acting on the ['Q0'] space\nStaticStandardOp with name Gxpi and evotype chp\nCHP operations: h 0,p 0,p 0,h 0\nFactor 1:\nEmbedded operation with full dimension 4 and state space Q0(2)*Q1(2)\n that embeds the following 2-dimensional operation into acting on the ['Q1'] space\nStaticStandardOp with name Gi and evotype chp\nCHP operations: \n\n\nGix = \nComposed operation of 2 factors:\nFactor 0:\nEmbedded operation with full dimension 4 and state space Q0(2)*Q1(2)\n that embeds the following 2-dimensional operation into acting on the ['Q0'] space\nStaticStandardOp with name Gi and evotype chp\nCHP operations: \nFactor 1:\nEmbedded operation with full dimension 4 and state space Q0(2)*Q1(2)\n that embeds the following 2-dimensional operation into acting on the ['Q1'] space\nStaticStandardOp with name Gxpi and evotype chp\nCHP operations: h 0,p 0,p 0,h 0\n\n\nGxx = \nComposed operation of 2 factors:\nFactor 0:\nEmbedded operation with full dimension 4 and state space Q0(2)*Q1(2)\n that embeds the following 2-dimensional operation into acting on the ['Q0'] space\nStaticStandardOp with name Gxpi and evotype chp\nCHP operations: h 0,p 0,p 0,h 0\nFactor 1:\nEmbedded operation with full dimension 4 and state space Q0(2)*Q1(2)\n that embeds the following 2-dimensional operation into acting on the ['Q1'] space\nStaticStandardOp with name Gxpi and evotype chp\nCHP operations: h 0,p 0,p 0,h 0\n\n\nGyi = \nComposed operation of 2 factors:\nFactor 0:\nEmbedded operation with full dimension 4 and state space Q0(2)*Q1(2)\n that embeds the following 2-dimensional operation into acting on the ['Q0'] space\nStaticStandardOp with name Gypi and evotype chp\nCHP operations: p 0,h 0,p 0,p 0,h 0,p 0,p 0,p 0\nFactor 1:\nEmbedded operation with full dimension 4 and state space Q0(2)*Q1(2)\n that embeds the following 2-dimensional operation into acting on the ['Q1'] space\nStaticStandardOp with name Gi and evotype chp\nCHP operations: \n\n\nGiy = \nComposed operation of 2 factors:\nFactor 0:\nEmbedded operation with full dimension 4 and state space Q0(2)*Q1(2)\n that embeds the following 2-dimensional operation into acting on the ['Q0'] space\nStaticStandardOp with name Gi and evotype chp\nCHP operations: \nFactor 1:\nEmbedded operation with full dimension 4 and state space Q0(2)*Q1(2)\n that embeds the following 2-dimensional operation into acting on the ['Q1'] space\nStaticStandardOp with name Gypi and evotype chp\nCHP operations: p 0,h 0,p 0,p 0,h 0,p 0,p 0,p 0\n\n\nGyy = \nComposed operation of 2 factors:\nFactor 0:\nEmbedded operation with full dimension 4 and state space Q0(2)*Q1(2)\n that embeds the following 2-dimensional operation into acting on the ['Q0'] space\nStaticStandardOp with name Gypi and evotype chp\nCHP operations: p 0,h 0,p 0,p 0,h 0,p 0,p 0,p 0\nFactor 1:\nEmbedded operation with full dimension 4 and state space Q0(2)*Q1(2)\n that embeds the following 2-dimensional operation into acting on the ['Q1'] space\nStaticStandardOp with name Gypi and evotype chp\nCHP operations: p 0,h 0,p 0,p 0,h 0,p 0,p 0,p 0\n\n\n\n\n"
     ]
    }
   ],
   "source": [
    "#Initialize an empty Model object\n",
    "model = pygsti.objects.ExplicitOpModel(['Q0', 'Q1'], simulator=sim, evotype='chp')\n",
    "\n",
    "def make_2Q_op(name0, name1):\n",
    "    return ComposedOp([\n",
    "        EmbeddedOp(['Q0', 'Q1'], ['Q0'], StaticStandardOp(name0, 'chp')),\n",
    "        EmbeddedOp(['Q0', 'Q1'], ['Q1'], StaticStandardOp(name1, 'chp')),\n",
    "    ])\n",
    "\n",
    "#Populate the Model object with states, effects, gates,\n",
    "model['rho0'] = make_2Q_op('Gi', 'Gi')\n",
    "model['Mdefault'] = pygsti.obj.ComputationalBasisPOVM(2, 'chp')\n",
    "\n",
    "model['Gii'] = make_2Q_op('Gi', 'Gi')\n",
    "model['Gxi'] = make_2Q_op('Gxpi', 'Gi')\n",
    "model['Gix'] = make_2Q_op('Gi', 'Gxpi')\n",
    "model['Gxx'] = make_2Q_op('Gxpi', 'Gxpi')\n",
    "model['Gyi'] = make_2Q_op('Gypi', 'Gi')\n",
    "model['Giy'] = make_2Q_op('Gi', 'Gypi')\n",
    "model['Gyy'] = make_2Q_op('Gypi', 'Gypi')\n",
    "\n",
    "print(model)"
   ]
  },
  {
   "cell_type": "code",
   "execution_count": 14,
   "metadata": {},
   "outputs": [
    {
     "output_type": "execute_result",
     "data": {
      "text/plain": [
       "OutcomeLabelDict([(('00',), 0.0),\n",
       "                  (('01',), 1.0),\n",
       "                  (('10',), 0.0),\n",
       "                  (('11',), 0.0)])"
      ]
     },
     "metadata": {},
     "execution_count": 14
    }
   ],
   "source": [
    "circ = pygsti.obj.Circuit(['Gix'])\n",
    "model.probabilities(circ)"
   ]
  },
  {
   "cell_type": "code",
   "execution_count": 15,
   "metadata": {},
   "outputs": [
    {
     "output_type": "execute_result",
     "data": {
      "text/plain": [
       "OutcomeLabelDict([(('00',), 0.0),\n",
       "                  (('01',), 0.0),\n",
       "                  (('10',), 0.0),\n",
       "                  (('11',), 1.0)])"
      ]
     },
     "metadata": {},
     "execution_count": 15
    }
   ],
   "source": [
    "circ = pygsti.obj.Circuit(['Gix', 'Gxi'])\n",
    "model.probabilities(circ)"
   ]
  },
  {
   "cell_type": "code",
   "execution_count": 16,
   "metadata": {},
   "outputs": [
    {
     "output_type": "execute_result",
     "data": {
      "text/plain": [
       "OutcomeLabelDict([(('00',), 0.0),\n",
       "                  (('01',), 0.0),\n",
       "                  (('10',), 0.0),\n",
       "                  (('11',), 1.0)])"
      ]
     },
     "metadata": {},
     "execution_count": 16
    }
   ],
   "source": [
    "circ = pygsti.obj.Circuit(['rho0', 'Gxx', 'Mdefault'])\n",
    "model.probabilities(circ)"
   ]
  },
  {
   "source": [
    "## CHPForwardSimulator + LocalNoiseModel"
   ],
   "cell_type": "markdown",
   "metadata": {}
  },
  {
   "cell_type": "code",
   "execution_count": 17,
   "metadata": {},
   "outputs": [],
   "source": [
    "# Step 1: Define stochastic Pauli noise operators\n",
    "# Note that the probabilities here are the \"error rates\" that would be model parameters (currently just static)\n",
    "noise_1q = StochasticNoiseOp(4, evotype='chp', initial_rates=[0.1, 0.01, 0.01], seed_or_state=2021)\n",
    "\n",
    "# Also need two-qubit version\n",
    "# Here we just make it independent stochastic Pauli noise\n",
    "noise_2q = ComposedOp([EmbeddedOp([0, 1], [0], noise_1q), EmbeddedOp([0, 1], [1], noise_1q)])"
   ]
  },
  {
   "cell_type": "code",
   "execution_count": 18,
   "metadata": {},
   "outputs": [],
   "source": [
    "# Step 2: Define gate dict of noisy gates\n",
    "# Using equivalent of XYICNOT modelpack\n",
    "gatedict = {}\n",
    "gatedict['Gi'] = noise_1q\n",
    "gatedict['Gx'] = ComposedOp([StaticStandardOp('Gxpi', 'chp'), noise_1q])\n",
    "gatedict['Gy'] = ComposedOp([StaticStandardOp('Gypi', 'chp'), noise_1q])\n",
    "# Note that first Gcnot is now key in model, whereas second Gcnot is a standard gatename known to CHPOp constructor\n",
    "gatedict['Gcnot'] = ComposedOp([StaticStandardOp('Gcnot', 'chp'), noise_2q])"
   ]
  },
  {
   "cell_type": "code",
   "execution_count": 19,
   "metadata": {},
   "outputs": [],
   "source": [
    "from pygsti.objects.localnoisemodel import LocalNoiseModel\n",
    "from pygsti.objects.spamvec import ComputationalSPAMVec\n",
    "\n",
    "# TODO: Much less convenient to generate parallel gates\n",
    "rho0 = ComposedOp([EmbeddedOp(range(3), [i], StaticStandardOp('Gi', 'chp')) for i in range(3)])\n",
    "Mdefault = pygsti.obj.ComputationalBasisPOVM(4, 'chp')\n",
    "\n",
    "chpexe = '/Users/sserita/Documents/notebooks/pyGSTi/2021-CHP/chp'\n",
    "sim = pygsti.obj.CHPForwardSimulator(chpexe, shots=100)\n",
    "\n",
    "ln_model = LocalNoiseModel(num_qubits=4, gatedict=gatedict, prep_layers=rho0, povm_layers=Mdefault,\n",
    "                           availability={'Gcnot': [(0,1),(1,2),(2,3)]}, simulator=sim, evotype='chp')"
   ]
  },
  {
   "cell_type": "code",
   "execution_count": 20,
   "metadata": {},
   "outputs": [
    {
     "output_type": "stream",
     "name": "stdout",
     "text": [
      "State prep building blocks (.prep_blks):\n layers :  rho0\n\nPOVM building blocks (.povm_blks):\n layers :  Mdefault\n\nOperation building blocks (.operation_blks):\n layers :  Gi:0, Gi:1, Gi:2, Gi:3, Gx:0, Gx:1, Gx:2, Gx:3, Gy:0, Gy:1, Gy:2, Gy:3, Gcnot:0:1, Gcnot:1:2, Gcnot:2:3\n gates :  Gi, Gx, Gy, Gcnot\n\n"
     ]
    }
   ],
   "source": [
    "# Step 4: Profit?? Worked way too quickly...\n",
    "def print_implicit_model_blocks(mdl, showSPAM=False):\n",
    "    if showSPAM:\n",
    "        print('State prep building blocks (.prep_blks):')\n",
    "        for blk_lbl,blk in mdl.prep_blks.items():\n",
    "            print(\" \" + blk_lbl, \": \", ', '.join(map(str,blk.keys())))\n",
    "        print()\n",
    "\n",
    "        print('POVM building blocks (.povm_blks):')\n",
    "        for blk_lbl,blk in mdl.povm_blks.items():\n",
    "            print(\" \"  + blk_lbl, \": \", ', '.join(map(str,blk.keys())))\n",
    "        print()\n",
    "    \n",
    "    print('Operation building blocks (.operation_blks):')\n",
    "    for blk_lbl,blk in mdl.operation_blks.items():\n",
    "        print(\" \" + blk_lbl, \": \", ', '.join(map(str,blk.keys())))\n",
    "    print()\n",
    "\n",
    "print_implicit_model_blocks(ln_model, showSPAM=True)"
   ]
  },
  {
   "cell_type": "code",
   "execution_count": 21,
   "metadata": {},
   "outputs": [
    {
     "output_type": "stream",
     "name": "stdout",
     "text": [
      "Composed operation of 2 factors:\nFactor 0:\nStaticStandardOp with name Gxpi and evotype chp\nCHP operations: h 0,p 0,p 0,h 0\nFactor 1:\nStochastic noise operation map with dim = 2, num params = 3\n\n"
     ]
    }
   ],
   "source": [
    "print(ln_model.operation_blks['gates']['Gx'])"
   ]
  },
  {
   "cell_type": "code",
   "execution_count": 22,
   "metadata": {},
   "outputs": [
    {
     "output_type": "stream",
     "name": "stdout",
     "text": [
      "Embedded operation with full dimension 16 and state space 0(2)*1(2)*2(2)*3(2)\n that embeds the following 4-dimensional operation into acting on the (1, 2) space\nComposed operation of 2 factors:\nFactor 0:\nStaticStandardOp with name Gcnot and evotype chp\nCHP operations: c 0 1\nFactor 1:\nComposed operation of 2 factors:\nFactor 0:\nEmbedded operation with full dimension 4 and state space 0(2)*1(2)\n that embeds the following 2-dimensional operation into acting on the [0] space\nStochastic noise operation map with dim = 2, num params = 3\nFactor 1:\nEmbedded operation with full dimension 4 and state space 0(2)*1(2)\n that embeds the following 2-dimensional operation into acting on the [1] space\nStochastic noise operation map with dim = 2, num params = 3\n\n"
     ]
    }
   ],
   "source": [
    "print(ln_model.operation_blks['layers']['Gcnot', 1, 2])"
   ]
  },
  {
   "cell_type": "code",
   "execution_count": 23,
   "metadata": {},
   "outputs": [
    {
     "output_type": "execute_result",
     "data": {
      "text/plain": [
       "OutcomeLabelDict([(('0000',), 0.07),\n",
       "                  (('0001',), 0.0),\n",
       "                  (('0010',), 0.0),\n",
       "                  (('0011',), 0.0),\n",
       "                  (('0100',), 0.93),\n",
       "                  (('0101',), 0.0),\n",
       "                  (('0110',), 0.0),\n",
       "                  (('0111',), 0.0),\n",
       "                  (('1000',), 0.0),\n",
       "                  (('1001',), 0.0),\n",
       "                  (('1010',), 0.0),\n",
       "                  (('1011',), 0.0),\n",
       "                  (('1100',), 0.0),\n",
       "                  (('1101',), 0.0),\n",
       "                  (('1110',), 0.0),\n",
       "                  (('1111',), 0.0)])"
      ]
     },
     "metadata": {},
     "execution_count": 23
    }
   ],
   "source": [
    "# Step 5: Actually run circuits with local noise model\n",
    "# TODO: Marginalized POVMs don't work yet, must specify num_lines as full space\n",
    "circ = pygsti.obj.Circuit([('Gx', 1)], num_lines=4)\n",
    "ln_model.probabilities(circ)"
   ]
  },
  {
   "cell_type": "code",
   "execution_count": 24,
   "metadata": {},
   "outputs": [
    {
     "output_type": "execute_result",
     "data": {
      "text/plain": [
       "OutcomeLabelDict([(('0000',), 0.06),\n",
       "                  (('0001',), 0.0),\n",
       "                  (('0010',), 0.08),\n",
       "                  (('0011',), 0.0),\n",
       "                  (('0100',), 0.1),\n",
       "                  (('0101',), 0.0),\n",
       "                  (('0110',), 0.76),\n",
       "                  (('0111',), 0.0),\n",
       "                  (('1000',), 0.0),\n",
       "                  (('1001',), 0.0),\n",
       "                  (('1010',), 0.0),\n",
       "                  (('1011',), 0.0),\n",
       "                  (('1100',), 0.0),\n",
       "                  (('1101',), 0.0),\n",
       "                  (('1110',), 0.0),\n",
       "                  (('1111',), 0.0)])"
      ]
     },
     "metadata": {},
     "execution_count": 24
    }
   ],
   "source": [
    "circ = pygsti.obj.Circuit([('Gx', 1), ('Gcnot', 1, 2)], num_lines=4)\n",
    "ln_model.probabilities(circ)"
   ]
  },
  {
   "cell_type": "code",
   "execution_count": 25,
   "metadata": {},
   "outputs": [],
   "source": [
    "# Could also define correlated noise for 2-qubit error?\n",
    "pp = pygsti.objects.Basis.cast('pp', 16)\n",
    "initial_rates = [0.01,]*15\n",
    "initial_rates[pp.labels.index('XX')] = 0.1 # Set XX to much higher\n",
    "\n",
    "noise_2q_correlated = StochasticNoiseOp(16, evotype='chp', initial_rates=initial_rates, seed_or_state=2021)\n",
    "\n",
    "gatedict = {}\n",
    "gatedict['Gi'] = noise_1q\n",
    "gatedict['Gx'] = ComposedOp([StaticStandardOp('Gxpi', 'chp'), noise_1q])\n",
    "gatedict['Gy'] = ComposedOp([StaticStandardOp('Gypi', 'chp'), noise_1q])\n",
    "# Note that first Gcnot is now key in model, whereas second Gcnot is a standard gatename known to CHPOp constructor\n",
    "gatedict['Gcnot'] = ComposedOp([StaticStandardOp('Gcnot', 'chp'), noise_2q_correlated])"
   ]
  },
  {
   "cell_type": "code",
   "execution_count": 26,
   "metadata": {},
   "outputs": [],
   "source": [
    "rho0 = ComposedOp([EmbeddedOp(range(3), [i], StaticStandardOp('Gi', 'chp')) for i in range(3)])\n",
    "Mdefault = pygsti.obj.ComputationalBasisPOVM(4, 'chp')\n",
    "\n",
    "chpexe = '/Users/sserita/Documents/notebooks/pyGSTi/2021-CHP/chp'\n",
    "sim = pygsti.obj.CHPForwardSimulator(chpexe, shots=100)\n",
    "\n",
    "ln_model_corr = LocalNoiseModel(num_qubits=4, gatedict=gatedict, prep_layers=rho0, povm_layers=Mdefault,\n",
    "                           availability={'Gcnot': [(0,1),(1,2),(2,3)]}, simulator=sim, evotype='chp')"
   ]
  },
  {
   "cell_type": "code",
   "execution_count": 27,
   "metadata": {},
   "outputs": [
    {
     "output_type": "execute_result",
     "data": {
      "text/plain": [
       "OutcomeLabelDict([(('0000',), 0.16),\n",
       "                  (('0001',), 0.0),\n",
       "                  (('0010',), 0.02),\n",
       "                  (('0011',), 0.0),\n",
       "                  (('0100',), 0.0),\n",
       "                  (('0101',), 0.0),\n",
       "                  (('0110',), 0.82),\n",
       "                  (('0111',), 0.0),\n",
       "                  (('1000',), 0.0),\n",
       "                  (('1001',), 0.0),\n",
       "                  (('1010',), 0.0),\n",
       "                  (('1011',), 0.0),\n",
       "                  (('1100',), 0.0),\n",
       "                  (('1101',), 0.0),\n",
       "                  (('1110',), 0.0),\n",
       "                  (('1111',), 0.0)])"
      ]
     },
     "metadata": {},
     "execution_count": 27
    }
   ],
   "source": [
    "circ = pygsti.obj.Circuit([('Gx', 1), ('Gcnot', 1, 2)], num_lines=4)\n",
    "ln_model_corr.probabilities(circ)"
   ]
  },
  {
   "cell_type": "code",
   "execution_count": 30,
   "metadata": {},
   "outputs": [
    {
     "output_type": "execute_result",
     "data": {
      "text/plain": [
       "OutcomeLabelDict([(('0000',), 0.21),\n",
       "                  (('0001',), 0.0),\n",
       "                  (('0010',), 0.04),\n",
       "                  (('0011',), 0.0),\n",
       "                  (('0100',), 0.03),\n",
       "                  (('0101',), 0.0),\n",
       "                  (('0110',), 0.72),\n",
       "                  (('0111',), 0.0),\n",
       "                  (('1000',), 0.0),\n",
       "                  (('1001',), 0.0),\n",
       "                  (('1010',), 0.0),\n",
       "                  (('1011',), 0.0),\n",
       "                  (('1100',), 0.0),\n",
       "                  (('1101',), 0.0),\n",
       "                  (('1110',), 0.0),\n",
       "                  (('1111',), 0.0)])"
      ]
     },
     "metadata": {},
     "execution_count": 30
    }
   ],
   "source": [
    "circ = pygsti.obj.Circuit([('Gx', 1), ('Gcnot', 1, 2)], num_lines=4)\n",
    "ln_model_corr.probabilities(circ)"
   ]
  },
  {
   "cell_type": "code",
   "execution_count": null,
   "metadata": {},
   "outputs": [],
   "source": []
  },
  {
   "cell_type": "code",
   "execution_count": null,
   "metadata": {},
   "outputs": [],
   "source": []
  }
 ],
 "metadata": {
  "kernelspec": {
   "display_name": "Python 3 (pygsti feature-chp-revive)",
   "language": "python",
   "name": "pygsti-chp"
  },
  "language_info": {
   "codemirror_mode": {
    "name": "ipython",
    "version": 3
   },
   "file_extension": ".py",
   "mimetype": "text/x-python",
   "name": "python",
   "nbconvert_exporter": "python",
   "pygments_lexer": "ipython3",
   "version": "3.8.7"
  }
 },
 "nbformat": 4,
 "nbformat_minor": 1
}