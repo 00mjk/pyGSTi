{
 "cells": [
  {
   "cell_type": "markdown",
   "metadata": {},
   "source": [
    "# PyGSTi CHP Object Test"
   ]
  },
  {
   "cell_type": "code",
   "execution_count": 1,
   "metadata": {},
   "outputs": [
    {
     "output_type": "execute_result",
     "data": {
      "text/plain": [
       "'0.9.9.2.post715+gcde6e292.d20210315'"
      ]
     },
     "metadata": {},
     "execution_count": 1
    }
   ],
   "source": [
    "from __future__ import print_function #python 2 & 3 compatibility\n",
    "import pygsti\n",
    "pygsti.__version__"
   ]
  },
  {
   "cell_type": "code",
   "execution_count": 2,
   "metadata": {},
   "outputs": [],
   "source": [
    "from pygsti.objects.operation import CHPOp, StochasticCHPOp\n",
    "from pygsti.tools.internalgates import standard_gatenames_chp_conversions"
   ]
  },
  {
   "cell_type": "markdown",
   "metadata": {},
   "source": [
    "## CHPOp"
   ]
  },
  {
   "cell_type": "code",
   "execution_count": 3,
   "metadata": {},
   "outputs": [],
   "source": [
    "c = CHPOp(['h 0', 'c 1 2'], 3)"
   ]
  },
  {
   "cell_type": "code",
   "execution_count": 4,
   "metadata": {},
   "outputs": [
    {
     "output_type": "stream",
     "name": "stdout",
     "text": [
      "CHP operation with labels: h 0, c 1 2\n\nh 0\nc 1 2\n\nh 3\nc 4 5\n\n"
     ]
    }
   ],
   "source": [
    "print(c)\n",
    "print(c.get_chp_str())\n",
    "print(c.get_chp_str([3,4,5]))"
   ]
  },
  {
   "cell_type": "code",
   "execution_count": 5,
   "metadata": {},
   "outputs": [
    {
     "output_type": "stream",
     "name": "stdout",
     "text": [
      "CHP operation with labels: h 0, p 0, p 0, h 0\n\nh 0\np 0\np 0\nh 0\n\n"
     ]
    }
   ],
   "source": [
    "Gx = CHPOp('Gxpi 0', 1)\n",
    "print(Gx)\n",
    "print(Gx.get_chp_str())"
   ]
  },
  {
   "cell_type": "code",
   "execution_count": 6,
   "metadata": {},
   "outputs": [
    {
     "output_type": "stream",
     "name": "stdout",
     "text": [
      "CHP operation with labels: p 0, h 0, p 0, p 0, h 0\n\n"
     ]
    }
   ],
   "source": [
    "print(CHPOp('Gc20 0', 1))"
   ]
  },
  {
   "cell_type": "code",
   "execution_count": 7,
   "metadata": {},
   "outputs": [
    {
     "output_type": "stream",
     "name": "stdout",
     "text": [
      "Stochastic CHP operation with probabilities and labels:\n0.2: h 0, p 0, p 0, h 0\n0.8: p 0, h 0, p 0, p 0, h 0\n\np 1\nh 1\np 1\np 1\nh 1\n\np 2\nh 2\np 2\np 2\nh 2\n\nh 3\np 3\np 3\nh 3\n\np 4\nh 4\np 4\np 4\nh 4\n\n"
     ]
    }
   ],
   "source": [
    "sc = StochasticCHPOp(['Gxpi 0', 'Gc20 0'], [0.2, 0.8], nqubits=1, seed_or_state=2021)\n",
    "print(sc)\n",
    "print(sc.get_chp_str([1]))\n",
    "print(sc.get_chp_str([2]))\n",
    "print(sc.get_chp_str([3]))\n",
    "print(sc.get_chp_str([4]))"
   ]
  },
  {
   "source": [
    "## CHPForwardSimulator + Explicit Model"
   ],
   "cell_type": "markdown",
   "metadata": {}
  },
  {
   "cell_type": "code",
   "execution_count": 8,
   "metadata": {},
   "outputs": [],
   "source": [
    "chpexe = '/Users/sserita/Documents/notebooks/pyGSTi/2021-CHP/chp'\n",
    "sim = pygsti.obj.CHPForwardSimulator(chpexe, shots=100)"
   ]
  },
  {
   "cell_type": "code",
   "execution_count": 9,
   "metadata": {},
   "outputs": [
    {
     "output_type": "stream",
     "name": "stdout",
     "text": [
      "rho0 = CHP operation with labels: \n\n\nMdefault = Computational(Z)-basis POVM on 2 qubits and filter None\n\n\nGii = \nCHP operation with labels: \n\n\nGxi = \nCHP operation with labels: h 0, p 0, p 0, h 0\n\n\nGix = \nCHP operation with labels: h 1, p 1, p 1, h 1\n\n\nGyi = \nCHP operation with labels: p 0, p 0, h 0, p 0, p 0, h 0\n\n\nGiy = \nCHP operation with labels: p 1, p 1, h 1, p 1, p 1, h 1\n\n\n\n\n"
     ]
    }
   ],
   "source": [
    "#Initialize an empty Model object\n",
    "model = pygsti.objects.ExplicitOpModel(['Q0', 'Q1'], simulator=sim, evotype='chp')\n",
    "\n",
    "#Populate the Model object with states, effects, gates,\n",
    "model['rho0'] = CHPOp([], nqubits=2)\n",
    "model['Mdefault'] = pygsti.obj.ComputationalBasisPOVM(2, 'chp')\n",
    "\n",
    "model['Gii'] = CHPOp([], nqubits=2)\n",
    "model['Gxi'] = CHPOp(['Gxpi 0'], nqubits=2)\n",
    "model['Gix'] = CHPOp(['Gxpi 1'], nqubits=2)\n",
    "model['Gyi'] = CHPOp(['Gypi 0'], nqubits=2)\n",
    "model['Giy'] = CHPOp(['Gypi 1'], nqubits=2)\n",
    "\n",
    "print(model)"
   ]
  },
  {
   "cell_type": "code",
   "execution_count": 10,
   "metadata": {},
   "outputs": [
    {
     "output_type": "execute_result",
     "data": {
      "text/plain": [
       "OutcomeLabelDict([(('00',), 0.0),\n",
       "                  (('01',), 1.0),\n",
       "                  (('10',), 0.0),\n",
       "                  (('11',), 0.0)])"
      ]
     },
     "metadata": {},
     "execution_count": 10
    }
   ],
   "source": [
    "circ = pygsti.obj.Circuit(['Gix'])\n",
    "model.probabilities(circ)"
   ]
  },
  {
   "cell_type": "code",
   "execution_count": 11,
   "metadata": {},
   "outputs": [
    {
     "output_type": "execute_result",
     "data": {
      "text/plain": [
       "OutcomeLabelDict([(('00',), 0.0),\n",
       "                  (('01',), 0.0),\n",
       "                  (('10',), 0.0),\n",
       "                  (('11',), 1.0)])"
      ]
     },
     "metadata": {},
     "execution_count": 11
    }
   ],
   "source": [
    "circ = pygsti.obj.Circuit(['Gix', 'Gxi'])\n",
    "model.probabilities(circ)"
   ]
  },
  {
   "cell_type": "code",
   "execution_count": 12,
   "metadata": {},
   "outputs": [
    {
     "output_type": "execute_result",
     "data": {
      "text/plain": [
       "OutcomeLabelDict([(('00',), 0.0),\n",
       "                  (('01',), 0.0),\n",
       "                  (('10',), 0.0),\n",
       "                  (('11',), 1.0)])"
      ]
     },
     "metadata": {},
     "execution_count": 12
    }
   ],
   "source": [
    "circ = pygsti.obj.Circuit(['rho0', 'Gix', 'Gxi', 'Mdefault'])\n",
    "model.probabilities(circ)"
   ]
  },
  {
   "source": [
    "## ComposedOp + EmbeddedOp"
   ],
   "cell_type": "markdown",
   "metadata": {}
  },
  {
   "cell_type": "code",
   "execution_count": 13,
   "metadata": {},
   "outputs": [],
   "source": [
    "from pygsti.objects.operation import ComposedOp, EmbeddedOp\n",
    "from pygsti.objects.labeldicts import StateSpaceLabels"
   ]
  },
  {
   "cell_type": "code",
   "execution_count": 15,
   "metadata": {},
   "outputs": [
    {
     "output_type": "stream",
     "name": "stdout",
     "text": [
      "Composed operation of 2 factors:\nFactor 0:\nCHP operation with labels: h 0, p 0, p 0, h 0\nFactor 1:\nCHP operation with labels: h 1, p 1, p 1, h 1\n\nh 0\np 0\np 0\nh 0\nh 1\np 1\np 1\nh 1\n\n"
     ]
    }
   ],
   "source": [
    "# ComposedOp\n",
    "Gxx_composed = ComposedOp([CHPOp('Gxpi 0', nqubits=2), CHPOp('Gxpi 1', nqubits=2)])\n",
    "print(Gxx_composed)\n",
    "print(Gxx_composed.get_chp_str())"
   ]
  },
  {
   "cell_type": "code",
   "execution_count": 16,
   "metadata": {},
   "outputs": [
    {
     "output_type": "stream",
     "name": "stdout",
     "text": [
      "Embedded operation with full dimension 4 and state space Q0(2)*Q1(2)\n that embeds the following 2-dimensional operation into acting on the ['Q0'] space\nCHP operation with labels: h 0, p 0, p 0, h 0\n\nh 0\np 0\np 0\nh 0\n\n"
     ]
    }
   ],
   "source": [
    "# EmbeddedOp\n",
    "Gxi_embedded = EmbeddedOp(['Q0', 'Q1'], ['Q0'], CHPOp('Gxpi 0', nqubits=1))\n",
    "print(Gxi_embedded)\n",
    "print(Gxi_embedded.get_chp_str())"
   ]
  },
  {
   "cell_type": "code",
   "execution_count": 17,
   "metadata": {},
   "outputs": [
    {
     "output_type": "stream",
     "name": "stdout",
     "text": [
      "Embedded operation with full dimension 4 and state space Q0(2)*Q1(2)\n that embeds the following 2-dimensional operation into acting on the ['Q1'] space\nCHP operation with labels: h 0, p 0, p 0, h 0\n\nh 1\np 1\np 1\nh 1\n\n"
     ]
    }
   ],
   "source": [
    "Gix_embedded = EmbeddedOp(['Q0', 'Q1'], ['Q1'], CHPOp('Gxpi 0', nqubits=1))\n",
    "print(Gix_embedded)\n",
    "print(Gix_embedded.get_chp_str())"
   ]
  },
  {
   "cell_type": "code",
   "execution_count": 19,
   "metadata": {},
   "outputs": [
    {
     "output_type": "stream",
     "name": "stdout",
     "text": [
      "h 5\np 5\np 5\nh 5\n\nh 7\np 7\np 7\nh 7\n\n"
     ]
    }
   ],
   "source": [
    "# Also see if I retain flexibility of targets\n",
    "print(Gxi_embedded.get_chp_str([5,7]))\n",
    "print(Gix_embedded.get_chp_str([5,7]))"
   ]
  },
  {
   "cell_type": "code",
   "execution_count": 25,
   "metadata": {},
   "outputs": [
    {
     "output_type": "stream",
     "name": "stdout",
     "text": [
      "Embedded operation with full dimension 16 and state space Q0(2)*Q1(2)*Q2(2)*Q3(2)\n that embeds the following 4-dimensional operation into acting on the ['Q1', 'Q2'] space\nComposed operation of 2 factors:\nFactor 0:\nCHP operation with labels: h 0, p 0, p 0, h 0\nFactor 1:\nCHP operation with labels: h 1, p 1, p 1, h 1\n\nh 1\np 1\np 1\nh 1\nh 2\np 2\np 2\nh 2\n\nh 6\np 6\np 6\nh 6\nh 7\np 7\np 7\nh 7\n\n"
     ]
    }
   ],
   "source": [
    "# EmbeddedOp made of ComposedOps\n",
    "Gxx_comp_embed = EmbeddedOp(['Q0', 'Q1', 'Q2', 'Q3'], ['Q1', 'Q2'], Gxx_composed)\n",
    "print(Gxx_comp_embed)\n",
    "print(Gxx_comp_embed.get_chp_str())\n",
    "print(Gxx_comp_embed.get_chp_str([5, 6, 7, 8]))"
   ]
  },
  {
   "cell_type": "code",
   "execution_count": null,
   "metadata": {},
   "outputs": [],
   "source": []
  }
 ],
 "metadata": {
  "kernelspec": {
   "display_name": "Python 3 (pygsti feature-chp-revive)",
   "language": "python",
   "name": "pygsti-chp"
  },
  "language_info": {
   "codemirror_mode": {
    "name": "ipython",
    "version": 3
   },
   "file_extension": ".py",
   "mimetype": "text/x-python",
   "name": "python",
   "nbconvert_exporter": "python",
   "pygments_lexer": "ipython3",
   "version": "3.8.7-final"
  }
 },
 "nbformat": 4,
 "nbformat_minor": 1
}