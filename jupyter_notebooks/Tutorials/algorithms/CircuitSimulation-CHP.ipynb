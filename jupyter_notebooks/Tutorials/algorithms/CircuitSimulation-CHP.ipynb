{
 "cells": [
  {
   "cell_type": "markdown",
   "metadata": {},
   "source": [
    "# PyGSTi CHP Object Test"
   ]
  },
  {
   "cell_type": "code",
   "execution_count": 1,
   "metadata": {},
   "outputs": [
    {
     "output_type": "execute_result",
     "data": {
      "text/plain": [
       "'0.9.9.2.post715+gcde6e292.d20210315'"
      ]
     },
     "metadata": {},
     "execution_count": 1
    }
   ],
   "source": [
    "from __future__ import print_function #python 2 & 3 compatibility\n",
    "import pygsti\n",
    "pygsti.__version__"
   ]
  },
  {
   "cell_type": "code",
   "execution_count": 2,
   "metadata": {},
   "outputs": [],
   "source": [
    "from pygsti.objects.operation import CHPOp, StochasticCHPOp\n",
    "from pygsti.tools.internalgates import standard_gatenames_chp_conversions"
   ]
  },
  {
   "cell_type": "markdown",
   "metadata": {},
   "source": [
    "## CHPOp"
   ]
  },
  {
   "cell_type": "code",
   "execution_count": 3,
   "metadata": {},
   "outputs": [],
   "source": [
    "c = CHPOp(['h 0', 'c 1 2'], 3)"
   ]
  },
  {
   "cell_type": "code",
   "execution_count": 4,
   "metadata": {},
   "outputs": [
    {
     "output_type": "stream",
     "name": "stdout",
     "text": [
      "CHP operation with labels: h 0, c 1 2\n\nh 0\nc 1 2\n\nh 3\nc 4 5\n\n"
     ]
    }
   ],
   "source": [
    "print(c)\n",
    "print(c.get_chp_str())\n",
    "print(c.get_chp_str([3,4,5]))"
   ]
  },
  {
   "cell_type": "code",
   "execution_count": 5,
   "metadata": {},
   "outputs": [
    {
     "output_type": "stream",
     "name": "stdout",
     "text": [
      "CHP operation with labels: h 0, p 0, p 0, h 0\n\nh 0\np 0\np 0\nh 0\n\n"
     ]
    }
   ],
   "source": [
    "Gx = CHPOp('Gxpi 0', 1)\n",
    "print(Gx)\n",
    "print(Gx.get_chp_str())"
   ]
  },
  {
   "cell_type": "code",
   "execution_count": 6,
   "metadata": {},
   "outputs": [
    {
     "output_type": "stream",
     "name": "stdout",
     "text": [
      "CHP operation with labels: p 0, h 0, p 0, p 0, h 0\n\n"
     ]
    }
   ],
   "source": [
    "print(CHPOp('Gc20 0', 1))"
   ]
  },
  {
   "cell_type": "code",
   "execution_count": 7,
   "metadata": {},
   "outputs": [
    {
     "output_type": "stream",
     "name": "stdout",
     "text": [
      "Stochastic CHP operation with probabilities and labels:\n0.2: h 0, p 0, p 0, h 0\n0.8: p 0, h 0, p 0, p 0, h 0\n\np 1\nh 1\np 1\np 1\nh 1\n\np 2\nh 2\np 2\np 2\nh 2\n\nh 3\np 3\np 3\nh 3\n\np 4\nh 4\np 4\np 4\nh 4\n\n"
     ]
    }
   ],
   "source": [
    "sc = StochasticCHPOp(['Gxpi 0', 'Gc20 0'], [0.2, 0.8], nqubits=1, seed_or_state=2021)\n",
    "print(sc)\n",
    "print(sc.get_chp_str([1]))\n",
    "print(sc.get_chp_str([2]))\n",
    "print(sc.get_chp_str([3]))\n",
    "print(sc.get_chp_str([4]))"
   ]
  },
  {
   "source": [
    "## CHPForwardSimulator + Explicit Model"
   ],
   "cell_type": "markdown",
   "metadata": {}
  },
  {
   "cell_type": "code",
   "execution_count": 8,
   "metadata": {},
   "outputs": [],
   "source": [
    "chpexe = '/Users/sserita/Documents/notebooks/pyGSTi/2021-CHP/chp'\n",
    "sim = pygsti.obj.CHPForwardSimulator(chpexe, shots=100)"
   ]
  },
  {
   "cell_type": "code",
   "execution_count": 9,
   "metadata": {},
   "outputs": [
    {
     "output_type": "stream",
     "name": "stdout",
     "text": [
      "rho0 = CHP operation with labels: \n\n\nMdefault = Computational(Z)-basis POVM on 2 qubits and filter None\n\n\nGii = \nCHP operation with labels: \n\n\nGxi = \nCHP operation with labels: h 0, p 0, p 0, h 0\n\n\nGix = \nCHP operation with labels: h 1, p 1, p 1, h 1\n\n\nGyi = \nCHP operation with labels: p 0, p 0, h 0, p 0, p 0, h 0\n\n\nGiy = \nCHP operation with labels: p 1, p 1, h 1, p 1, p 1, h 1\n\n\n\n\n"
     ]
    }
   ],
   "source": [
    "#Initialize an empty Model object\n",
    "model = pygsti.objects.ExplicitOpModel(['Q0', 'Q1'], simulator=sim, evotype='chp')\n",
    "\n",
    "#Populate the Model object with states, effects, gates,\n",
    "model['rho0'] = CHPOp([], nqubits=2)\n",
    "model['Mdefault'] = pygsti.obj.ComputationalBasisPOVM(2, 'chp')\n",
    "\n",
    "model['Gii'] = CHPOp([], nqubits=2)\n",
    "model['Gxi'] = CHPOp(['Gxpi 0'], nqubits=2)\n",
    "model['Gix'] = CHPOp(['Gxpi 1'], nqubits=2)\n",
    "model['Gyi'] = CHPOp(['Gypi 0'], nqubits=2)\n",
    "model['Giy'] = CHPOp(['Gypi 1'], nqubits=2)\n",
    "\n",
    "print(model)"
   ]
  },
  {
   "cell_type": "code",
   "execution_count": 10,
   "metadata": {},
   "outputs": [
    {
     "output_type": "execute_result",
     "data": {
      "text/plain": [
       "OutcomeLabelDict([(('00',), 1.0),\n",
       "                  (('01',), 0.0),\n",
       "                  (('10',), 0.0),\n",
       "                  (('11',), 0.0)])"
      ]
     },
     "metadata": {},
     "execution_count": 10
    }
   ],
   "source": [
    "circ = pygsti.obj.Circuit(['Gix'])\n",
    "model.probabilities(circ)"
   ]
  },
  {
   "cell_type": "code",
   "execution_count": 11,
   "metadata": {},
   "outputs": [
    {
     "output_type": "execute_result",
     "data": {
      "text/plain": [
       "OutcomeLabelDict([(('00',), 0.0),\n",
       "                  (('01',), 1.0),\n",
       "                  (('10',), 0.0),\n",
       "                  (('11',), 0.0)])"
      ]
     },
     "metadata": {},
     "execution_count": 11
    }
   ],
   "source": [
    "circ = pygsti.obj.Circuit(['Gix', 'Gxi'])\n",
    "model.probabilities(circ)"
   ]
  },
  {
   "cell_type": "code",
   "execution_count": 12,
   "metadata": {},
   "outputs": [
    {
     "output_type": "execute_result",
     "data": {
      "text/plain": [
       "OutcomeLabelDict([(('00',), 0.0),\n",
       "                  (('01',), 1.0),\n",
       "                  (('10',), 0.0),\n",
       "                  (('11',), 0.0)])"
      ]
     },
     "metadata": {},
     "execution_count": 12
    }
   ],
   "source": [
    "circ = pygsti.obj.Circuit(['rho0', 'Gix', 'Gxi', 'Mdefault'])\n",
    "model.probabilities(circ)"
   ]
  },
  {
   "source": [
    "## ComposedOp + EmbeddedOp"
   ],
   "cell_type": "markdown",
   "metadata": {}
  },
  {
   "cell_type": "code",
   "execution_count": 13,
   "metadata": {},
   "outputs": [],
   "source": [
    "from pygsti.objects.operation import ComposedOp, EmbeddedOp\n",
    "from pygsti.objects.labeldicts import StateSpaceLabels"
   ]
  },
  {
   "cell_type": "code",
   "execution_count": 14,
   "metadata": {},
   "outputs": [
    {
     "output_type": "stream",
     "name": "stdout",
     "text": [
      "Composed operation of 2 factors:\nFactor 0:\nCHP operation with labels: h 0, p 0, p 0, h 0\nFactor 1:\nCHP operation with labels: h 1, p 1, p 1, h 1\n\nh 0\np 0\np 0\nh 0\nh 1\np 1\np 1\nh 1\n\n"
     ]
    }
   ],
   "source": [
    "# ComposedOp\n",
    "Gxx_composed = ComposedOp([CHPOp('Gxpi 0', nqubits=2), CHPOp('Gxpi 1', nqubits=2)])\n",
    "print(Gxx_composed)\n",
    "print(Gxx_composed.get_chp_str())"
   ]
  },
  {
   "cell_type": "code",
   "execution_count": 15,
   "metadata": {},
   "outputs": [
    {
     "output_type": "stream",
     "name": "stdout",
     "text": [
      "Embedded operation with full dimension 4 and state space Q0(2)*Q1(2)\n that embeds the following 2-dimensional operation into acting on the ['Q0'] space\nCHP operation with labels: h 0, p 0, p 0, h 0\n\nh 0\np 0\np 0\nh 0\n\n"
     ]
    }
   ],
   "source": [
    "# EmbeddedOp\n",
    "Gxi_embedded = EmbeddedOp(['Q0', 'Q1'], ['Q0'], CHPOp('Gxpi 0', nqubits=1))\n",
    "print(Gxi_embedded)\n",
    "print(Gxi_embedded.get_chp_str())"
   ]
  },
  {
   "cell_type": "code",
   "execution_count": 16,
   "metadata": {},
   "outputs": [
    {
     "output_type": "stream",
     "name": "stdout",
     "text": [
      "Embedded operation with full dimension 4 and state space Q0(2)*Q1(2)\n that embeds the following 2-dimensional operation into acting on the ['Q1'] space\nCHP operation with labels: h 0, p 0, p 0, h 0\n\nh 1\np 1\np 1\nh 1\n\n"
     ]
    }
   ],
   "source": [
    "Gix_embedded = EmbeddedOp(['Q0', 'Q1'], ['Q1'], CHPOp('Gxpi 0', nqubits=1))\n",
    "print(Gix_embedded)\n",
    "print(Gix_embedded.get_chp_str())"
   ]
  },
  {
   "cell_type": "code",
   "execution_count": 17,
   "metadata": {},
   "outputs": [
    {
     "output_type": "stream",
     "name": "stdout",
     "text": [
      "h 5\np 5\np 5\nh 5\n\nh 7\np 7\np 7\nh 7\n\n"
     ]
    }
   ],
   "source": [
    "# Also see if I retain flexibility of targets\n",
    "print(Gxi_embedded.get_chp_str([5,7]))\n",
    "print(Gix_embedded.get_chp_str([5,7]))"
   ]
  },
  {
   "cell_type": "code",
   "execution_count": 18,
   "metadata": {},
   "outputs": [
    {
     "output_type": "stream",
     "name": "stdout",
     "text": [
      "Embedded operation with full dimension 16 and state space Q0(2)*Q1(2)*Q2(2)*Q3(2)\n that embeds the following 4-dimensional operation into acting on the ['Q1', 'Q2'] space\nComposed operation of 2 factors:\nFactor 0:\nCHP operation with labels: h 0, p 0, p 0, h 0\nFactor 1:\nCHP operation with labels: h 1, p 1, p 1, h 1\n\nh 1\np 1\np 1\nh 1\nh 2\np 2\np 2\nh 2\n\nh 6\np 6\np 6\nh 6\nh 7\np 7\np 7\nh 7\n\n"
     ]
    }
   ],
   "source": [
    "# EmbeddedOp made of ComposedOps\n",
    "Gxx_comp_embed = EmbeddedOp(['Q0', 'Q1', 'Q2', 'Q3'], ['Q1', 'Q2'], Gxx_composed)\n",
    "print(Gxx_comp_embed)\n",
    "print(Gxx_comp_embed.get_chp_str())\n",
    "print(Gxx_comp_embed.get_chp_str([5, 6, 7, 8]))"
   ]
  },
  {
   "source": [
    "## CHPForwardSimulator + LocalNoiseModel"
   ],
   "cell_type": "markdown",
   "metadata": {}
  },
  {
   "cell_type": "code",
   "execution_count": 19,
   "metadata": {},
   "outputs": [],
   "source": [
    "# Step 1: Define stochastic Pauli noise operators\n",
    "# Note that the probabilities here are the \"error rates\" that would be model parameters (currently just static)\n",
    "noise_1q = StochasticCHPOp(['Gi 0', 'Gxpi 0', 'Gypi 0', 'Gzpi 0'], [0.97, 0.01, 0.01, 0.01], nqubits=1)\n",
    "\n",
    "# Also need two-qubit version, which is currently just independent stochastic Pauli noise\n",
    "noise_2q = ComposedOp([EmbeddedOp([0, 1], [0], noise_1q), EmbeddedOp([0, 1], [1], noise_1q)])"
   ]
  },
  {
   "cell_type": "code",
   "execution_count": 20,
   "metadata": {},
   "outputs": [],
   "source": [
    "# Step 2: Define gate dict of noisy gates\n",
    "# Using equivalent of XYICNOT modelpack\n",
    "gatedict = {}\n",
    "gatedict['Gi'] = noise_1q\n",
    "gatedict['Gx'] = ComposedOp([CHPOp('Gxpi 0', nqubits=1), noise_1q])\n",
    "gatedict['Gy'] = ComposedOp([CHPOp('Gypi 0', nqubits=1), noise_1q])\n",
    "# Note that first Gcnot is now key in model, whereas second Gcnot is a standard gatename known to CHPOp constructor\n",
    "gatedict['Gcnot'] = ComposedOp([CHPOp('Gcnot 0 1', nqubits=2), noise_2q])"
   ]
  },
  {
   "cell_type": "code",
   "execution_count": 21,
   "metadata": {},
   "outputs": [],
   "source": [
    "from pygsti.objects.localnoisemodel import LocalNoiseModel\n",
    "from pygsti.objects.spamvec import ComputationalSPAMVec\n",
    "\n",
    "rho0 = CHPOp([], nqubits=4)\n",
    "Mdefault = pygsti.obj.ComputationalBasisPOVM(4, 'chp')\n",
    "\n",
    "chpexe = '/Users/sserita/Documents/notebooks/pyGSTi/2021-CHP/chp'\n",
    "sim = pygsti.obj.CHPForwardSimulator(chpexe, shots=100)\n",
    "\n",
    "ln_model = LocalNoiseModel(num_qubits=4, gatedict=gatedict, prep_layers=rho0, povm_layers=Mdefault,\n",
    "                           availability={'Gcnot': [(0,1),(1,2),(2,3)]}, simulator=sim, evotype='chp')"
   ]
  },
  {
   "cell_type": "code",
   "execution_count": 22,
   "metadata": {},
   "outputs": [
    {
     "output_type": "stream",
     "name": "stdout",
     "text": [
      "State prep building blocks (.prep_blks):\n layers :  rho0\n\nPOVM building blocks (.povm_blks):\n layers :  Mdefault\n\nOperation building blocks (.operation_blks):\n layers :  Gi:0, Gi:1, Gi:2, Gi:3, Gx:0, Gx:1, Gx:2, Gx:3, Gy:0, Gy:1, Gy:2, Gy:3, Gcnot:0:1, Gcnot:1:2, Gcnot:2:3\n gates :  Gi, Gx, Gy, Gcnot\n\n"
     ]
    }
   ],
   "source": [
    "# Step 4: Profit?? Worked way too quickly...\n",
    "def print_implicit_model_blocks(mdl, showSPAM=False):\n",
    "    if showSPAM:\n",
    "        print('State prep building blocks (.prep_blks):')\n",
    "        for blk_lbl,blk in mdl.prep_blks.items():\n",
    "            print(\" \" + blk_lbl, \": \", ', '.join(map(str,blk.keys())))\n",
    "        print()\n",
    "\n",
    "        print('POVM building blocks (.povm_blks):')\n",
    "        for blk_lbl,blk in mdl.povm_blks.items():\n",
    "            print(\" \"  + blk_lbl, \": \", ', '.join(map(str,blk.keys())))\n",
    "        print()\n",
    "    \n",
    "    print('Operation building blocks (.operation_blks):')\n",
    "    for blk_lbl,blk in mdl.operation_blks.items():\n",
    "        print(\" \" + blk_lbl, \": \", ', '.join(map(str,blk.keys())))\n",
    "    print()\n",
    "\n",
    "print_implicit_model_blocks(ln_model, showSPAM=True)"
   ]
  },
  {
   "cell_type": "code",
   "execution_count": 23,
   "metadata": {},
   "outputs": [
    {
     "output_type": "stream",
     "name": "stdout",
     "text": [
      "Composed operation of 2 factors:\nFactor 0:\nCHP operation with labels: h 0, p 0, p 0, h 0\nFactor 1:\nStochastic CHP operation with probabilities and labels:\n0.97: \n0.01: h 0, p 0, p 0, h 0\n0.01: p 0, p 0, h 0, p 0, p 0, h 0\n0.01: p 0, p 0\n\n"
     ]
    }
   ],
   "source": [
    "print(ln_model.operation_blks['gates']['Gx'])"
   ]
  },
  {
   "cell_type": "code",
   "execution_count": 24,
   "metadata": {},
   "outputs": [
    {
     "output_type": "stream",
     "name": "stdout",
     "text": [
      "Embedded operation with full dimension 16 and state space 0(2)*1(2)*2(2)*3(2)\n that embeds the following 4-dimensional operation into acting on the (1, 2) space\nComposed operation of 2 factors:\nFactor 0:\nCHP operation with labels: c 0 1\nFactor 1:\nComposed operation of 2 factors:\nFactor 0:\nEmbedded operation with full dimension 4 and state space 0(2)*1(2)\n that embeds the following 2-dimensional operation into acting on the [0] space\nStochastic CHP operation with probabilities and labels:\n0.97: \n0.01: h 0, p 0, p 0, h 0\n0.01: p 0, p 0, h 0, p 0, p 0, h 0\n0.01: p 0, p 0\nFactor 1:\nEmbedded operation with full dimension 4 and state space 0(2)*1(2)\n that embeds the following 2-dimensional operation into acting on the [1] space\nStochastic CHP operation with probabilities and labels:\n0.97: \n0.01: h 0, p 0, p 0, h 0\n0.01: p 0, p 0, h 0, p 0, p 0, h 0\n0.01: p 0, p 0\n\n"
     ]
    }
   ],
   "source": [
    "print(ln_model.operation_blks['layers']['Gcnot', 1, 2])"
   ]
  },
  {
   "cell_type": "code",
   "execution_count": 25,
   "metadata": {},
   "outputs": [
    {
     "output_type": "execute_result",
     "data": {
      "text/plain": [
       "OutcomeLabelDict([(('0000',), 1.0),\n",
       "                  (('0001',), 0.0),\n",
       "                  (('0010',), 0.0),\n",
       "                  (('0011',), 0.0),\n",
       "                  (('0100',), 0.0),\n",
       "                  (('0101',), 0.0),\n",
       "                  (('0110',), 0.0),\n",
       "                  (('0111',), 0.0),\n",
       "                  (('1000',), 0.0),\n",
       "                  (('1001',), 0.0),\n",
       "                  (('1010',), 0.0),\n",
       "                  (('1011',), 0.0),\n",
       "                  (('1100',), 0.0),\n",
       "                  (('1101',), 0.0),\n",
       "                  (('1110',), 0.0),\n",
       "                  (('1111',), 0.0)])"
      ]
     },
     "metadata": {},
     "execution_count": 25
    }
   ],
   "source": [
    "# Step 5: Actually run circuits with local noise model\n",
    "# TODO: Marginalized POVMs don't work yet, must specify num_lines as full space\n",
    "circ = pygsti.obj.Circuit([('Gx', 1)], num_lines=4)\n",
    "ln_model.probabilities(circ)"
   ]
  },
  {
   "cell_type": "code",
   "execution_count": 26,
   "metadata": {},
   "outputs": [
    {
     "output_type": "execute_result",
     "data": {
      "text/plain": [
       "OutcomeLabelDict([(('0000',), 0.01),\n",
       "                  (('0001',), 0.0),\n",
       "                  (('0010',), 0.0),\n",
       "                  (('0011',), 0.0),\n",
       "                  (('0100',), 0.99),\n",
       "                  (('0101',), 0.0),\n",
       "                  (('0110',), 0.0),\n",
       "                  (('0111',), 0.0),\n",
       "                  (('1000',), 0.0),\n",
       "                  (('1001',), 0.0),\n",
       "                  (('1010',), 0.0),\n",
       "                  (('1011',), 0.0),\n",
       "                  (('1100',), 0.0),\n",
       "                  (('1101',), 0.0),\n",
       "                  (('1110',), 0.0),\n",
       "                  (('1111',), 0.0)])"
      ]
     },
     "metadata": {},
     "execution_count": 26
    }
   ],
   "source": [
    "circ = pygsti.obj.Circuit([('Gx', 1), ('Gcnot', 1, 2)], num_lines=4)\n",
    "ln_model.probabilities(circ)"
   ]
  },
  {
   "cell_type": "code",
   "execution_count": 27,
   "metadata": {},
   "outputs": [],
   "source": [
    "# Could also define correlated noise for 2-qubit error?\n",
    "noise_2q_correlated = StochasticCHPOp([\n",
    "    ['Gi 0', 'Gi 1'],       # II\n",
    "    ['Gxpi 0', 'Gi 1'],     # XI\n",
    "    ['Gi 0', 'Gxpi 1'],     # IX\n",
    "    ['Gxpi 0', 'Gxpi 1'],   # XX (Will make 10x more prevalent)\n",
    "    ['Gypi 0', 'Gypi 1'],   # YY\n",
    "    ['Gzpi 0', 'Gzpi 1']],  # ZZ\n",
    "    [0.86, 0.01, 0.01, 0.1, 0.01, 0.01], nqubits=2)\n",
    "\n",
    "gatedict = {}\n",
    "gatedict['Gi'] = CHPOp('Gi 0', nqubits=1)\n",
    "gatedict['Gx'] = CHPOp('Gxpi 0', nqubits=1)\n",
    "gatedict['Gy'] = CHPOp('Gypi 0', nqubits=1)\n",
    "# Note that first Gcnot is now key in model, whereas second Gcnot is a standard gatename known to CHPOp constructor\n",
    "gatedict['Gcnot'] = ComposedOp([CHPOp('Gcnot 0 1', nqubits=2), noise_2q_correlated])"
   ]
  },
  {
   "cell_type": "code",
   "execution_count": 28,
   "metadata": {},
   "outputs": [],
   "source": [
    "rho0 = CHPOp([], nqubits=4)\n",
    "Mdefault = pygsti.obj.ComputationalBasisPOVM(4, 'chp')\n",
    "\n",
    "chpexe = '/Users/sserita/Documents/notebooks/pyGSTi/2021-CHP/chp'\n",
    "sim = pygsti.obj.CHPForwardSimulator(chpexe, shots=100)\n",
    "\n",
    "ln_model_corr = LocalNoiseModel(num_qubits=4, gatedict=gatedict, prep_layers=rho0, povm_layers=Mdefault,\n",
    "                           availability={'Gcnot': [(0,1),(1,2),(2,3)]}, simulator=sim, evotype='chp')"
   ]
  },
  {
   "cell_type": "code",
   "execution_count": 29,
   "metadata": {},
   "outputs": [
    {
     "output_type": "execute_result",
     "data": {
      "text/plain": [
       "OutcomeLabelDict([(('0000',), 0.0),\n",
       "                  (('0001',), 0.0),\n",
       "                  (('0010',), 0.0),\n",
       "                  (('0011',), 0.0),\n",
       "                  (('0100',), 1.0),\n",
       "                  (('0101',), 0.0),\n",
       "                  (('0110',), 0.0),\n",
       "                  (('0111',), 0.0),\n",
       "                  (('1000',), 0.0),\n",
       "                  (('1001',), 0.0),\n",
       "                  (('1010',), 0.0),\n",
       "                  (('1011',), 0.0),\n",
       "                  (('1100',), 0.0),\n",
       "                  (('1101',), 0.0),\n",
       "                  (('1110',), 0.0),\n",
       "                  (('1111',), 0.0)])"
      ]
     },
     "metadata": {},
     "execution_count": 29
    }
   ],
   "source": [
    "circ = pygsti.obj.Circuit([('Gx', 1), ('Gcnot', 1, 2)], num_lines=4)\n",
    "ln_model_corr.probabilities(circ)"
   ]
  },
  {
   "cell_type": "code",
   "execution_count": 30,
   "metadata": {},
   "outputs": [
    {
     "output_type": "error",
     "ename": "AssertionError",
     "evalue": "Invalid evolution type 'chp' for StaticSPAMVec",
     "traceback": [
      "\u001b[0;31m---------------------------------------------------------------------------\u001b[0m",
      "\u001b[0;31mAssertionError\u001b[0m                            Traceback (most recent call last)",
      "\u001b[0;32m<ipython-input-30-d6b46837af47>\u001b[0m in \u001b[0;36m<module>\u001b[0;34m\u001b[0m\n\u001b[1;32m      1\u001b[0m \u001b[0mcirc\u001b[0m \u001b[0;34m=\u001b[0m \u001b[0mpygsti\u001b[0m\u001b[0;34m.\u001b[0m\u001b[0mobj\u001b[0m\u001b[0;34m.\u001b[0m\u001b[0mCircuit\u001b[0m\u001b[0;34m(\u001b[0m\u001b[0;34m[\u001b[0m\u001b[0;34m(\u001b[0m\u001b[0;34m'Gx'\u001b[0m\u001b[0;34m,\u001b[0m \u001b[0;36m1\u001b[0m\u001b[0;34m)\u001b[0m\u001b[0;34m,\u001b[0m \u001b[0;34m(\u001b[0m\u001b[0;34m'Gcnot'\u001b[0m\u001b[0;34m,\u001b[0m \u001b[0;36m1\u001b[0m\u001b[0;34m,\u001b[0m \u001b[0;36m2\u001b[0m\u001b[0;34m)\u001b[0m\u001b[0;34m]\u001b[0m\u001b[0;34m)\u001b[0m\u001b[0;34m\u001b[0m\u001b[0;34m\u001b[0m\u001b[0m\n\u001b[0;32m----> 2\u001b[0;31m \u001b[0mln_model_corr\u001b[0m\u001b[0;34m.\u001b[0m\u001b[0mprobabilities\u001b[0m\u001b[0;34m(\u001b[0m\u001b[0mcirc\u001b[0m\u001b[0;34m)\u001b[0m\u001b[0;34m\u001b[0m\u001b[0;34m\u001b[0m\u001b[0m\n\u001b[0m",
      "\u001b[0;32m~/Documents/repos/pyGSTi-CHP/pygsti/objects/model.py\u001b[0m in \u001b[0;36mprobabilities\u001b[0;34m(self, circuit, outcomes, time)\u001b[0m\n\u001b[1;32m   1242\u001b[0m             \u001b[0mvalues\u001b[0m \u001b[0mequal\u001b[0m \u001b[0mto\u001b[0m \u001b[0mprobabilities\u001b[0m\u001b[0;34m.\u001b[0m\u001b[0;34m\u001b[0m\u001b[0;34m\u001b[0m\u001b[0m\n\u001b[1;32m   1243\u001b[0m         \"\"\"\n\u001b[0;32m-> 1244\u001b[0;31m         \u001b[0;32mreturn\u001b[0m \u001b[0mself\u001b[0m\u001b[0;34m.\u001b[0m\u001b[0msim\u001b[0m\u001b[0;34m.\u001b[0m\u001b[0mprobs\u001b[0m\u001b[0;34m(\u001b[0m\u001b[0mcircuit\u001b[0m\u001b[0;34m,\u001b[0m \u001b[0moutcomes\u001b[0m\u001b[0;34m,\u001b[0m \u001b[0mtime\u001b[0m\u001b[0;34m)\u001b[0m\u001b[0;34m\u001b[0m\u001b[0;34m\u001b[0m\u001b[0m\n\u001b[0m\u001b[1;32m   1245\u001b[0m \u001b[0;34m\u001b[0m\u001b[0m\n\u001b[1;32m   1246\u001b[0m     \u001b[0;32mdef\u001b[0m \u001b[0mbulk_probabilities\u001b[0m\u001b[0;34m(\u001b[0m\u001b[0mself\u001b[0m\u001b[0;34m,\u001b[0m \u001b[0mcircuits\u001b[0m\u001b[0;34m,\u001b[0m \u001b[0mclip_to\u001b[0m\u001b[0;34m=\u001b[0m\u001b[0;32mNone\u001b[0m\u001b[0;34m,\u001b[0m \u001b[0mcomm\u001b[0m\u001b[0;34m=\u001b[0m\u001b[0;32mNone\u001b[0m\u001b[0;34m,\u001b[0m \u001b[0mmem_limit\u001b[0m\u001b[0;34m=\u001b[0m\u001b[0;32mNone\u001b[0m\u001b[0;34m,\u001b[0m \u001b[0msmartc\u001b[0m\u001b[0;34m=\u001b[0m\u001b[0;32mNone\u001b[0m\u001b[0;34m)\u001b[0m\u001b[0;34m:\u001b[0m\u001b[0;34m\u001b[0m\u001b[0;34m\u001b[0m\u001b[0m\n",
      "\u001b[0;32m~/Documents/repos/pyGSTi-CHP/pygsti/objects/forwardsim.py\u001b[0m in \u001b[0;36mprobs\u001b[0;34m(self, circuit, outcomes, time)\u001b[0m\n\u001b[1;32m    209\u001b[0m         \u001b[0mprobs_array\u001b[0m \u001b[0;34m=\u001b[0m \u001b[0m_np\u001b[0m\u001b[0;34m.\u001b[0m\u001b[0mempty\u001b[0m\u001b[0;34m(\u001b[0m\u001b[0mcopa_layout\u001b[0m\u001b[0;34m.\u001b[0m\u001b[0mnum_elements\u001b[0m\u001b[0;34m,\u001b[0m \u001b[0;34m'd'\u001b[0m\u001b[0;34m)\u001b[0m\u001b[0;34m\u001b[0m\u001b[0;34m\u001b[0m\u001b[0m\n\u001b[1;32m    210\u001b[0m         \u001b[0;32mif\u001b[0m \u001b[0mtime\u001b[0m \u001b[0;32mis\u001b[0m \u001b[0;32mNone\u001b[0m\u001b[0;34m:\u001b[0m\u001b[0;34m\u001b[0m\u001b[0;34m\u001b[0m\u001b[0m\n\u001b[0;32m--> 211\u001b[0;31m             \u001b[0mself\u001b[0m\u001b[0;34m.\u001b[0m\u001b[0mbulk_fill_probs\u001b[0m\u001b[0;34m(\u001b[0m\u001b[0mprobs_array\u001b[0m\u001b[0;34m,\u001b[0m \u001b[0mcopa_layout\u001b[0m\u001b[0;34m)\u001b[0m\u001b[0;34m\u001b[0m\u001b[0;34m\u001b[0m\u001b[0m\n\u001b[0m\u001b[1;32m    212\u001b[0m         \u001b[0;32melse\u001b[0m\u001b[0;34m:\u001b[0m\u001b[0;34m\u001b[0m\u001b[0;34m\u001b[0m\u001b[0m\n\u001b[1;32m    213\u001b[0m             \u001b[0mresource_alloc\u001b[0m \u001b[0;34m=\u001b[0m \u001b[0m_ResourceAllocation\u001b[0m\u001b[0;34m.\u001b[0m\u001b[0mcast\u001b[0m\u001b[0;34m(\u001b[0m\u001b[0;32mNone\u001b[0m\u001b[0;34m)\u001b[0m\u001b[0;34m\u001b[0m\u001b[0;34m\u001b[0m\u001b[0m\n",
      "\u001b[0;32m~/Documents/repos/pyGSTi-CHP/pygsti/objects/forwardsim.py\u001b[0m in \u001b[0;36mbulk_fill_probs\u001b[0;34m(self, array_to_fill, layout, resource_alloc)\u001b[0m\n\u001b[1;32m    488\u001b[0m         \"\"\"\n\u001b[1;32m    489\u001b[0m         \u001b[0mresource_alloc\u001b[0m \u001b[0;34m=\u001b[0m \u001b[0m_ResourceAllocation\u001b[0m\u001b[0;34m.\u001b[0m\u001b[0mcast\u001b[0m\u001b[0;34m(\u001b[0m\u001b[0mresource_alloc\u001b[0m\u001b[0;34m)\u001b[0m\u001b[0;34m\u001b[0m\u001b[0;34m\u001b[0m\u001b[0m\n\u001b[0;32m--> 490\u001b[0;31m         \u001b[0;32mreturn\u001b[0m \u001b[0mself\u001b[0m\u001b[0;34m.\u001b[0m\u001b[0m_bulk_fill_probs\u001b[0m\u001b[0;34m(\u001b[0m\u001b[0marray_to_fill\u001b[0m\u001b[0;34m,\u001b[0m \u001b[0mlayout\u001b[0m\u001b[0;34m,\u001b[0m \u001b[0mresource_alloc\u001b[0m\u001b[0;34m)\u001b[0m\u001b[0;34m\u001b[0m\u001b[0;34m\u001b[0m\u001b[0m\n\u001b[0m\u001b[1;32m    491\u001b[0m \u001b[0;34m\u001b[0m\u001b[0m\n\u001b[1;32m    492\u001b[0m     \u001b[0;32mdef\u001b[0m \u001b[0m_bulk_fill_probs\u001b[0m\u001b[0;34m(\u001b[0m\u001b[0mself\u001b[0m\u001b[0;34m,\u001b[0m \u001b[0marray_to_fill\u001b[0m\u001b[0;34m,\u001b[0m \u001b[0mlayout\u001b[0m\u001b[0;34m,\u001b[0m \u001b[0mresource_alloc\u001b[0m\u001b[0;34m)\u001b[0m\u001b[0;34m:\u001b[0m\u001b[0;34m\u001b[0m\u001b[0;34m\u001b[0m\u001b[0m\n",
      "\u001b[0;32m~/Documents/repos/pyGSTi-CHP/pygsti/objects/forwardsim.py\u001b[0m in \u001b[0;36m_bulk_fill_probs\u001b[0;34m(self, array_to_fill, layout, resource_alloc)\u001b[0m\n\u001b[1;32m    491\u001b[0m \u001b[0;34m\u001b[0m\u001b[0m\n\u001b[1;32m    492\u001b[0m     \u001b[0;32mdef\u001b[0m \u001b[0m_bulk_fill_probs\u001b[0m\u001b[0;34m(\u001b[0m\u001b[0mself\u001b[0m\u001b[0;34m,\u001b[0m \u001b[0marray_to_fill\u001b[0m\u001b[0;34m,\u001b[0m \u001b[0mlayout\u001b[0m\u001b[0;34m,\u001b[0m \u001b[0mresource_alloc\u001b[0m\u001b[0;34m)\u001b[0m\u001b[0;34m:\u001b[0m\u001b[0;34m\u001b[0m\u001b[0;34m\u001b[0m\u001b[0m\n\u001b[0;32m--> 493\u001b[0;31m         \u001b[0;32mreturn\u001b[0m \u001b[0mself\u001b[0m\u001b[0;34m.\u001b[0m\u001b[0m_bulk_fill_probs_block\u001b[0m\u001b[0;34m(\u001b[0m\u001b[0marray_to_fill\u001b[0m\u001b[0;34m,\u001b[0m \u001b[0mlayout\u001b[0m\u001b[0;34m,\u001b[0m \u001b[0mresource_alloc\u001b[0m\u001b[0;34m)\u001b[0m\u001b[0;34m\u001b[0m\u001b[0;34m\u001b[0m\u001b[0m\n\u001b[0m\u001b[1;32m    494\u001b[0m \u001b[0;34m\u001b[0m\u001b[0m\n\u001b[1;32m    495\u001b[0m     \u001b[0;32mdef\u001b[0m \u001b[0m_bulk_fill_probs_block\u001b[0m\u001b[0;34m(\u001b[0m\u001b[0mself\u001b[0m\u001b[0;34m,\u001b[0m \u001b[0marray_to_fill\u001b[0m\u001b[0;34m,\u001b[0m \u001b[0mlayout\u001b[0m\u001b[0;34m,\u001b[0m \u001b[0mresource_alloc\u001b[0m\u001b[0;34m)\u001b[0m\u001b[0;34m:\u001b[0m\u001b[0;34m\u001b[0m\u001b[0;34m\u001b[0m\u001b[0m\n",
      "\u001b[0;32m~/Documents/repos/pyGSTi-CHP/pygsti/objects/forwardsim.py\u001b[0m in \u001b[0;36m_bulk_fill_probs_block\u001b[0;34m(self, array_to_fill, layout, resource_alloc)\u001b[0m\n\u001b[1;32m    495\u001b[0m     \u001b[0;32mdef\u001b[0m \u001b[0m_bulk_fill_probs_block\u001b[0m\u001b[0;34m(\u001b[0m\u001b[0mself\u001b[0m\u001b[0;34m,\u001b[0m \u001b[0marray_to_fill\u001b[0m\u001b[0;34m,\u001b[0m \u001b[0mlayout\u001b[0m\u001b[0;34m,\u001b[0m \u001b[0mresource_alloc\u001b[0m\u001b[0;34m)\u001b[0m\u001b[0;34m:\u001b[0m\u001b[0;34m\u001b[0m\u001b[0;34m\u001b[0m\u001b[0m\n\u001b[1;32m    496\u001b[0m         \u001b[0;32mfor\u001b[0m \u001b[0melement_indices\u001b[0m\u001b[0;34m,\u001b[0m \u001b[0mcircuit\u001b[0m\u001b[0;34m,\u001b[0m \u001b[0moutcomes\u001b[0m \u001b[0;32min\u001b[0m \u001b[0mlayout\u001b[0m\u001b[0;34m.\u001b[0m\u001b[0miter_unique_circuits\u001b[0m\u001b[0;34m(\u001b[0m\u001b[0;34m)\u001b[0m\u001b[0;34m:\u001b[0m\u001b[0;34m\u001b[0m\u001b[0;34m\u001b[0m\u001b[0m\n\u001b[0;32m--> 497\u001b[0;31m             self._compute_circuit_outcome_probabilities(array_to_fill[element_indices], circuit,\n\u001b[0m\u001b[1;32m    498\u001b[0m                                                         outcomes, resource_alloc, time=None)\n\u001b[1;32m    499\u001b[0m \u001b[0;34m\u001b[0m\u001b[0m\n",
      "\u001b[0;32m~/Documents/repos/pyGSTi-CHP/pygsti/objects/weakforwardsim.py\u001b[0m in \u001b[0;36m_compute_circuit_outcome_probabilities\u001b[0;34m(self, array_to_fill, circuit, outcomes, resource_alloc, time)\u001b[0m\n\u001b[1;32m     48\u001b[0m             \u001b[0;31m# TODO: For parallelization, block over this for loop\u001b[0m\u001b[0;34m\u001b[0m\u001b[0;34m\u001b[0m\u001b[0;34m\u001b[0m\u001b[0m\n\u001b[1;32m     49\u001b[0m             \u001b[0;32mfor\u001b[0m \u001b[0m_\u001b[0m \u001b[0;32min\u001b[0m \u001b[0mrange\u001b[0m\u001b[0;34m(\u001b[0m\u001b[0mself\u001b[0m\u001b[0;34m.\u001b[0m\u001b[0mshots\u001b[0m\u001b[0;34m)\u001b[0m\u001b[0;34m:\u001b[0m\u001b[0;34m\u001b[0m\u001b[0;34m\u001b[0m\u001b[0m\n\u001b[0;32m---> 50\u001b[0;31m                 \u001b[0mself\u001b[0m\u001b[0;34m.\u001b[0m\u001b[0m_compute_circuit_outcome_for_shot\u001b[0m\u001b[0;34m(\u001b[0m\u001b[0mwork_array\u001b[0m\u001b[0;34m,\u001b[0m \u001b[0mspc\u001b[0m\u001b[0;34m,\u001b[0m \u001b[0mspc_outcomes\u001b[0m\u001b[0;34m,\u001b[0m \u001b[0mresource_alloc\u001b[0m\u001b[0;34m,\u001b[0m \u001b[0mtime\u001b[0m\u001b[0;34m)\u001b[0m\u001b[0;34m\u001b[0m\u001b[0;34m\u001b[0m\u001b[0m\n\u001b[0m\u001b[1;32m     51\u001b[0m \u001b[0;34m\u001b[0m\u001b[0m\n\u001b[1;32m     52\u001b[0m             \u001b[0marray_to_fill\u001b[0m\u001b[0;34m[\u001b[0m\u001b[0mindices\u001b[0m\u001b[0;34m[\u001b[0m\u001b[0;34m:\u001b[0m\u001b[0;34m]\u001b[0m\u001b[0;34m]\u001b[0m \u001b[0;34m=\u001b[0m \u001b[0mwork_array\u001b[0m \u001b[0;34m/\u001b[0m \u001b[0mself\u001b[0m\u001b[0;34m.\u001b[0m\u001b[0mshots\u001b[0m\u001b[0;34m\u001b[0m\u001b[0;34m\u001b[0m\u001b[0m\n",
      "\u001b[0;32m~/Documents/repos/pyGSTi-CHP/pygsti/objects/chpforwardsim.py\u001b[0m in \u001b[0;36m_compute_circuit_outcome_for_shot\u001b[0;34m(self, array_to_fill, spc_circuit, spc_outcomes, resource_alloc, time)\u001b[0m\n\u001b[1;32m     84\u001b[0m \u001b[0;34m\u001b[0m\u001b[0m\n\u001b[1;32m     85\u001b[0m                 \u001b[0;31m# POVM (sort of, actually using it more like a straight PVM)\u001b[0m\u001b[0;34m\u001b[0m\u001b[0;34m\u001b[0m\u001b[0;34m\u001b[0m\u001b[0m\n\u001b[0;32m---> 86\u001b[0;31m                 \u001b[0mpovm\u001b[0m \u001b[0;34m=\u001b[0m \u001b[0mself\u001b[0m\u001b[0;34m.\u001b[0m\u001b[0mmodel\u001b[0m\u001b[0;34m.\u001b[0m\u001b[0mcircuit_layer_operator\u001b[0m\u001b[0;34m(\u001b[0m\u001b[0mspc_circuit\u001b[0m\u001b[0;34m.\u001b[0m\u001b[0mpovm_label\u001b[0m\u001b[0;34m,\u001b[0m \u001b[0;34m'povm'\u001b[0m\u001b[0;34m)\u001b[0m\u001b[0;34m\u001b[0m\u001b[0;34m\u001b[0m\u001b[0m\n\u001b[0m\u001b[1;32m     87\u001b[0m                 \u001b[0;32mfor\u001b[0m \u001b[0mi\u001b[0m \u001b[0;32min\u001b[0m \u001b[0mrange\u001b[0m\u001b[0;34m(\u001b[0m\u001b[0mpovm\u001b[0m\u001b[0;34m.\u001b[0m\u001b[0mnqubits\u001b[0m\u001b[0;34m)\u001b[0m\u001b[0;34m:\u001b[0m\u001b[0;34m\u001b[0m\u001b[0;34m\u001b[0m\u001b[0m\n\u001b[1;32m     88\u001b[0m                     \u001b[0mtmp\u001b[0m\u001b[0;34m.\u001b[0m\u001b[0mwrite\u001b[0m\u001b[0;34m(\u001b[0m\u001b[0;34mf'm {i}\\n'\u001b[0m\u001b[0;34m)\u001b[0m\u001b[0;34m\u001b[0m\u001b[0;34m\u001b[0m\u001b[0m\n",
      "\u001b[0;32m~/Documents/repos/pyGSTi-CHP/pygsti/objects/model.py\u001b[0m in \u001b[0;36mcircuit_layer_operator\u001b[0;34m(self, layerlbl, typ)\u001b[0m\n\u001b[1;32m   1183\u001b[0m         \"\"\"\n\u001b[1;32m   1184\u001b[0m         \u001b[0mself\u001b[0m\u001b[0;34m.\u001b[0m\u001b[0m_clean_paramvec\u001b[0m\u001b[0;34m(\u001b[0m\u001b[0;34m)\u001b[0m\u001b[0;34m\u001b[0m\u001b[0;34m\u001b[0m\u001b[0m\n\u001b[0;32m-> 1185\u001b[0;31m         \u001b[0;32mreturn\u001b[0m \u001b[0mself\u001b[0m\u001b[0;34m.\u001b[0m\u001b[0m_circuit_layer_operator\u001b[0m\u001b[0;34m(\u001b[0m\u001b[0mlayerlbl\u001b[0m\u001b[0;34m,\u001b[0m \u001b[0mtyp\u001b[0m\u001b[0;34m)\u001b[0m\u001b[0;34m\u001b[0m\u001b[0;34m\u001b[0m\u001b[0m\n\u001b[0m\u001b[1;32m   1186\u001b[0m \u001b[0;34m\u001b[0m\u001b[0m\n\u001b[1;32m   1187\u001b[0m     \u001b[0;32mdef\u001b[0m \u001b[0m_circuit_layer_operator\u001b[0m\u001b[0;34m(\u001b[0m\u001b[0mself\u001b[0m\u001b[0;34m,\u001b[0m \u001b[0mlayerlbl\u001b[0m\u001b[0;34m,\u001b[0m \u001b[0mtyp\u001b[0m\u001b[0;34m)\u001b[0m\u001b[0;34m:\u001b[0m\u001b[0;34m\u001b[0m\u001b[0;34m\u001b[0m\u001b[0m\n",
      "\u001b[0;32m~/Documents/repos/pyGSTi-CHP/pygsti/objects/model.py\u001b[0m in \u001b[0;36m_circuit_layer_operator\u001b[0;34m(self, layerlbl, typ)\u001b[0m\n\u001b[1;32m   1198\u001b[0m             \u001b[0;32mraise\u001b[0m \u001b[0mValueError\u001b[0m\u001b[0;34m(\u001b[0m\u001b[0;34m\"Cannot create operator for non-primitive circuit layer: %s\"\u001b[0m \u001b[0;34m%\u001b[0m \u001b[0mstr\u001b[0m\u001b[0;34m(\u001b[0m\u001b[0mlayerlbl\u001b[0m\u001b[0;34m)\u001b[0m\u001b[0;34m)\u001b[0m\u001b[0;34m\u001b[0m\u001b[0;34m\u001b[0m\u001b[0m\n\u001b[1;32m   1199\u001b[0m         \u001b[0;32melse\u001b[0m\u001b[0;34m:\u001b[0m\u001b[0;34m\u001b[0m\u001b[0;34m\u001b[0m\u001b[0m\n\u001b[0;32m-> 1200\u001b[0;31m             \u001b[0;32mreturn\u001b[0m \u001b[0mfns\u001b[0m\u001b[0;34m[\u001b[0m\u001b[0mtyp\u001b[0m\u001b[0;34m]\u001b[0m\u001b[0;34m(\u001b[0m\u001b[0mself\u001b[0m\u001b[0;34m,\u001b[0m \u001b[0mlayerlbl\u001b[0m\u001b[0;34m,\u001b[0m \u001b[0mself\u001b[0m\u001b[0;34m.\u001b[0m\u001b[0m_opcaches\u001b[0m\u001b[0;34m)\u001b[0m\u001b[0;34m\u001b[0m\u001b[0;34m\u001b[0m\u001b[0m\n\u001b[0m\u001b[1;32m   1201\u001b[0m \u001b[0;34m\u001b[0m\u001b[0m\n\u001b[1;32m   1202\u001b[0m     \u001b[0;32mdef\u001b[0m \u001b[0mcircuit_operator\u001b[0m\u001b[0;34m(\u001b[0m\u001b[0mself\u001b[0m\u001b[0;34m,\u001b[0m \u001b[0mcircuit\u001b[0m\u001b[0;34m)\u001b[0m\u001b[0;34m:\u001b[0m\u001b[0;34m\u001b[0m\u001b[0;34m\u001b[0m\u001b[0m\n",
      "\u001b[0;32m~/Documents/repos/pyGSTi-CHP/pygsti/objects/localnoisemodel.py\u001b[0m in \u001b[0;36mpovm_layer_operator\u001b[0;34m(self, model, layerlbl, caches)\u001b[0m\n\u001b[1;32m    956\u001b[0m                                                model.state_space_labels, layerlbl.sslbls)  # cache in FUTURE\n\u001b[1;32m    957\u001b[0m                 \u001b[0mmpovm_lbl\u001b[0m \u001b[0;34m=\u001b[0m \u001b[0m_Lbl\u001b[0m\u001b[0;34m(\u001b[0m\u001b[0mpovmName\u001b[0m\u001b[0;34m,\u001b[0m \u001b[0mlayerlbl\u001b[0m\u001b[0;34m.\u001b[0m\u001b[0msslbls\u001b[0m\u001b[0;34m)\u001b[0m\u001b[0;34m\u001b[0m\u001b[0;34m\u001b[0m\u001b[0m\n\u001b[0;32m--> 958\u001b[0;31m                 \u001b[0mcaches\u001b[0m\u001b[0;34m[\u001b[0m\u001b[0;34m'povm-layers'\u001b[0m\u001b[0;34m]\u001b[0m\u001b[0;34m.\u001b[0m\u001b[0mupdate\u001b[0m\u001b[0;34m(\u001b[0m\u001b[0mmpovm\u001b[0m\u001b[0;34m.\u001b[0m\u001b[0msimplify_effects\u001b[0m\u001b[0;34m(\u001b[0m\u001b[0mmpovm_lbl\u001b[0m\u001b[0;34m)\u001b[0m\u001b[0;34m)\u001b[0m\u001b[0;34m\u001b[0m\u001b[0;34m\u001b[0m\u001b[0m\n\u001b[0m\u001b[1;32m    959\u001b[0m                 \u001b[0;32massert\u001b[0m\u001b[0;34m(\u001b[0m\u001b[0mlayerlbl\u001b[0m \u001b[0;32min\u001b[0m \u001b[0mcaches\u001b[0m\u001b[0;34m[\u001b[0m\u001b[0;34m'povm-layers'\u001b[0m\u001b[0;34m]\u001b[0m\u001b[0;34m)\u001b[0m\u001b[0;34m,\u001b[0m \u001b[0;34m\"Failed to create marginalized effect!\"\u001b[0m\u001b[0;34m\u001b[0m\u001b[0;34m\u001b[0m\u001b[0m\n\u001b[1;32m    960\u001b[0m                 \u001b[0;32mreturn\u001b[0m \u001b[0mcaches\u001b[0m\u001b[0;34m[\u001b[0m\u001b[0;34m'povm-layers'\u001b[0m\u001b[0;34m]\u001b[0m\u001b[0;34m[\u001b[0m\u001b[0mlayerlbl\u001b[0m\u001b[0;34m]\u001b[0m\u001b[0;34m\u001b[0m\u001b[0;34m\u001b[0m\u001b[0m\n",
      "\u001b[0;32m~/Documents/repos/pyGSTi-CHP/pygsti/objects/povm.py\u001b[0m in \u001b[0;36msimplify_effects\u001b[0;34m(self, prefix)\u001b[0m\n\u001b[1;32m   1667\u001b[0m         \u001b[0;32mif\u001b[0m \u001b[0misinstance\u001b[0m\u001b[0;34m(\u001b[0m\u001b[0mprefix\u001b[0m\u001b[0;34m,\u001b[0m \u001b[0m_Label\u001b[0m\u001b[0;34m)\u001b[0m\u001b[0;34m:\u001b[0m  \u001b[0;31m# Deal with case when prefix isn't just a string\u001b[0m\u001b[0;34m\u001b[0m\u001b[0;34m\u001b[0m\u001b[0m\n\u001b[1;32m   1668\u001b[0m             simplified = _collections.OrderedDict(\n\u001b[0;32m-> 1669\u001b[0;31m                 [(_Label(prefix.name + '_' + k, prefix.sslbls), self[k]) for k in self.keys()])\n\u001b[0m\u001b[1;32m   1670\u001b[0m         \u001b[0;32melse\u001b[0m\u001b[0;34m:\u001b[0m\u001b[0;34m\u001b[0m\u001b[0;34m\u001b[0m\u001b[0m\n\u001b[1;32m   1671\u001b[0m             \u001b[0;32mif\u001b[0m \u001b[0mprefix\u001b[0m\u001b[0;34m:\u001b[0m \u001b[0mprefix\u001b[0m \u001b[0;34m+=\u001b[0m \u001b[0;34m\"_\"\u001b[0m\u001b[0;34m\u001b[0m\u001b[0;34m\u001b[0m\u001b[0m\n",
      "\u001b[0;32m~/Documents/repos/pyGSTi-CHP/pygsti/objects/povm.py\u001b[0m in \u001b[0;36m<listcomp>\u001b[0;34m(.0)\u001b[0m\n\u001b[1;32m   1667\u001b[0m         \u001b[0;32mif\u001b[0m \u001b[0misinstance\u001b[0m\u001b[0;34m(\u001b[0m\u001b[0mprefix\u001b[0m\u001b[0;34m,\u001b[0m \u001b[0m_Label\u001b[0m\u001b[0;34m)\u001b[0m\u001b[0;34m:\u001b[0m  \u001b[0;31m# Deal with case when prefix isn't just a string\u001b[0m\u001b[0;34m\u001b[0m\u001b[0;34m\u001b[0m\u001b[0m\n\u001b[1;32m   1668\u001b[0m             simplified = _collections.OrderedDict(\n\u001b[0;32m-> 1669\u001b[0;31m                 [(_Label(prefix.name + '_' + k, prefix.sslbls), self[k]) for k in self.keys()])\n\u001b[0m\u001b[1;32m   1670\u001b[0m         \u001b[0;32melse\u001b[0m\u001b[0;34m:\u001b[0m\u001b[0;34m\u001b[0m\u001b[0;34m\u001b[0m\u001b[0m\n\u001b[1;32m   1671\u001b[0m             \u001b[0;32mif\u001b[0m \u001b[0mprefix\u001b[0m\u001b[0;34m:\u001b[0m \u001b[0mprefix\u001b[0m \u001b[0;34m+=\u001b[0m \u001b[0;34m\"_\"\u001b[0m\u001b[0;34m\u001b[0m\u001b[0;34m\u001b[0m\u001b[0m\n",
      "\u001b[0;32m~/Documents/repos/pyGSTi-CHP/pygsti/objects/povm.py\u001b[0m in \u001b[0;36m__getitem__\u001b[0;34m(self, key)\u001b[0m\n\u001b[1;32m   1543\u001b[0m                 \u001b[0;32melse\u001b[0m\u001b[0;34m:\u001b[0m\u001b[0;34m\u001b[0m\u001b[0;34m\u001b[0m\u001b[0m\n\u001b[1;32m   1544\u001b[0m                     \u001b[0meffect_vec\u001b[0m \u001b[0;34m+=\u001b[0m \u001b[0me\u001b[0m\u001b[0;34m.\u001b[0m\u001b[0mto_dense\u001b[0m\u001b[0;34m(\u001b[0m\u001b[0;34m)\u001b[0m\u001b[0;34m\u001b[0m\u001b[0;34m\u001b[0m\u001b[0m\n\u001b[0;32m-> 1545\u001b[0;31m             \u001b[0meffect\u001b[0m \u001b[0;34m=\u001b[0m \u001b[0m_sv\u001b[0m\u001b[0;34m.\u001b[0m\u001b[0mStaticSPAMVec\u001b[0m\u001b[0;34m(\u001b[0m\u001b[0meffect_vec\u001b[0m\u001b[0;34m,\u001b[0m \u001b[0mself\u001b[0m\u001b[0;34m.\u001b[0m\u001b[0m_evotype\u001b[0m\u001b[0;34m,\u001b[0m \u001b[0;34m'effect'\u001b[0m\u001b[0;34m)\u001b[0m\u001b[0;34m\u001b[0m\u001b[0;34m\u001b[0m\u001b[0m\n\u001b[0m\u001b[1;32m   1546\u001b[0m             \u001b[0meffect\u001b[0m\u001b[0;34m.\u001b[0m\u001b[0mset_gpindices\u001b[0m\u001b[0;34m(\u001b[0m\u001b[0mslice\u001b[0m\u001b[0;34m(\u001b[0m\u001b[0;36m0\u001b[0m\u001b[0;34m,\u001b[0m \u001b[0;36m0\u001b[0m\u001b[0;34m)\u001b[0m\u001b[0;34m,\u001b[0m \u001b[0mself\u001b[0m\u001b[0;34m.\u001b[0m\u001b[0mparent\u001b[0m\u001b[0;34m)\u001b[0m\u001b[0;34m\u001b[0m\u001b[0;34m\u001b[0m\u001b[0m\n\u001b[1;32m   1547\u001b[0m             \u001b[0m_collections\u001b[0m\u001b[0;34m.\u001b[0m\u001b[0mOrderedDict\u001b[0m\u001b[0;34m.\u001b[0m\u001b[0m__setitem__\u001b[0m\u001b[0;34m(\u001b[0m\u001b[0mself\u001b[0m\u001b[0;34m,\u001b[0m \u001b[0mkey\u001b[0m\u001b[0;34m,\u001b[0m \u001b[0meffect\u001b[0m\u001b[0;34m)\u001b[0m\u001b[0;34m\u001b[0m\u001b[0;34m\u001b[0m\u001b[0m\n",
      "\u001b[0;32m~/Documents/repos/pyGSTi-CHP/pygsti/objects/spamvec.py\u001b[0m in \u001b[0;36m__init__\u001b[0;34m(self, vec, evotype, typ)\u001b[0m\n\u001b[1;32m   1158\u001b[0m             \u001b[0mvec\u001b[0m \u001b[0;34m=\u001b[0m \u001b[0m_np\u001b[0m\u001b[0;34m.\u001b[0m\u001b[0masarray\u001b[0m\u001b[0;34m(\u001b[0m\u001b[0mvec\u001b[0m\u001b[0;34m,\u001b[0m \u001b[0mcomplex\u001b[0m\u001b[0;34m)\u001b[0m  \u001b[0;31m# ensure all statevec vecs are complex (densitymx could be either?)\u001b[0m\u001b[0;34m\u001b[0m\u001b[0;34m\u001b[0m\u001b[0m\n\u001b[1;32m   1159\u001b[0m \u001b[0;34m\u001b[0m\u001b[0m\n\u001b[0;32m-> 1160\u001b[0;31m         \u001b[0;32massert\u001b[0m\u001b[0;34m(\u001b[0m\u001b[0mevotype\u001b[0m \u001b[0;32min\u001b[0m \u001b[0;34m(\u001b[0m\u001b[0;34m\"statevec\"\u001b[0m\u001b[0;34m,\u001b[0m \u001b[0;34m\"densitymx\"\u001b[0m\u001b[0;34m)\u001b[0m\u001b[0;34m)\u001b[0m\u001b[0;34m,\u001b[0m\u001b[0;31m \u001b[0m\u001b[0;31m\\\u001b[0m\u001b[0;34m\u001b[0m\u001b[0;34m\u001b[0m\u001b[0m\n\u001b[0m\u001b[1;32m   1161\u001b[0m             \u001b[0;34m\"Invalid evolution type '%s' for %s\"\u001b[0m \u001b[0;34m%\u001b[0m \u001b[0;34m(\u001b[0m\u001b[0mevotype\u001b[0m\u001b[0;34m,\u001b[0m \u001b[0mself\u001b[0m\u001b[0;34m.\u001b[0m\u001b[0m__class__\u001b[0m\u001b[0;34m.\u001b[0m\u001b[0m__name__\u001b[0m\u001b[0;34m)\u001b[0m\u001b[0;34m\u001b[0m\u001b[0;34m\u001b[0m\u001b[0m\n\u001b[1;32m   1162\u001b[0m         \u001b[0mDenseSPAMVec\u001b[0m\u001b[0;34m.\u001b[0m\u001b[0m__init__\u001b[0m\u001b[0;34m(\u001b[0m\u001b[0mself\u001b[0m\u001b[0;34m,\u001b[0m \u001b[0mvec\u001b[0m\u001b[0;34m,\u001b[0m \u001b[0mevotype\u001b[0m\u001b[0;34m,\u001b[0m \u001b[0mtyp\u001b[0m\u001b[0;34m)\u001b[0m\u001b[0;34m\u001b[0m\u001b[0;34m\u001b[0m\u001b[0m\n",
      "\u001b[0;31mAssertionError\u001b[0m: Invalid evolution type 'chp' for StaticSPAMVec"
     ]
    }
   ],
   "source": [
    "circ = pygsti.obj.Circuit([('Gx', 1), ('Gcnot', 1, 2)])\n",
    "ln_model_corr.probabilities(circ)"
   ]
  },
  {
   "cell_type": "code",
   "execution_count": 34,
   "metadata": {},
   "outputs": [],
   "source": [
    "circ = pygsti.obj.Circuit([('Gx', 1), ('Gcnot', 1, 2)])"
   ]
  },
  {
   "cell_type": "code",
   "execution_count": 33,
   "metadata": {},
   "outputs": [],
   "source": [
    "eco = circ.expand_instruments_and_separate_povm(ln_model, None)"
   ]
  },
  {
   "cell_type": "code",
   "execution_count": 38,
   "metadata": {},
   "outputs": [],
   "source": [
    "for spc, out in eco.items():\n",
    "    a = spc\n",
    "    b = out"
   ]
  },
  {
   "cell_type": "code",
   "execution_count": 41,
   "metadata": {},
   "outputs": [
    {
     "output_type": "stream",
     "name": "stdout",
     "text": [
      "SeparatePOVM(rho0Gx:1Gcnot:1:2@(1,2),Mdefault:1:2,('00', '01', '10', '11'))\n"
     ]
    }
   ],
   "source": [
    "print(a)"
   ]
  },
  {
   "cell_type": "code",
   "execution_count": 40,
   "metadata": {},
   "outputs": [
    {
     "output_type": "execute_result",
     "data": {
      "text/plain": [
       "(('00',), ('01',), ('10',), ('11',))"
      ]
     },
     "metadata": {},
     "execution_count": 40
    }
   ],
   "source": [
    "b"
   ]
  },
  {
   "cell_type": "code",
   "execution_count": 42,
   "metadata": {},
   "outputs": [
    {
     "output_type": "execute_result",
     "data": {
      "text/plain": [
       "[Label[Mdefault_00:1:2],\n",
       " Label[Mdefault_01:1:2],\n",
       " Label[Mdefault_10:1:2],\n",
       " Label[Mdefault_11:1:2]]"
      ]
     },
     "metadata": {},
     "execution_count": 42
    }
   ],
   "source": [
    "a.full_effect_labels"
   ]
  },
  {
   "cell_type": "code",
   "execution_count": 11,
   "metadata": {},
   "outputs": [
    {
     "output_type": "error",
     "ename": "NameError",
     "evalue": "name 'ln_model_corr' is not defined",
     "traceback": [
      "\u001b[0;31m---------------------------------------------------------------------------\u001b[0m",
      "\u001b[0;31mNameError\u001b[0m                                 Traceback (most recent call last)",
      "\u001b[0;32m<ipython-input-11-e364bbcdb87d>\u001b[0m in \u001b[0;36m<module>\u001b[0;34m\u001b[0m\n\u001b[0;32m----> 1\u001b[0;31m \u001b[0mln_model_corr\u001b[0m\u001b[0;34m.\u001b[0m\u001b[0mcircuit_layer_operator\u001b[0m\u001b[0;34m(\u001b[0m\u001b[0ma\u001b[0m\u001b[0;34m.\u001b[0m\u001b[0mfull_effect_labels\u001b[0m\u001b[0;34m[\u001b[0m\u001b[0;36m0\u001b[0m\u001b[0;34m]\u001b[0m\u001b[0;34m,\u001b[0m \u001b[0;34m'povm'\u001b[0m\u001b[0;34m)\u001b[0m\u001b[0;34m\u001b[0m\u001b[0;34m\u001b[0m\u001b[0m\n\u001b[0m",
      "\u001b[0;31mNameError\u001b[0m: name 'ln_model_corr' is not defined"
     ]
    }
   ],
   "source": [
    "ln_model_corr.circuit_layer_operator(a.full_effect_labels[0], 'povm')"
   ]
  },
  {
   "cell_type": "code",
   "execution_count": 11,
   "metadata": {},
   "outputs": [
    {
     "output_type": "error",
     "ename": "NameError",
     "evalue": "name 'a' is not defined",
     "traceback": [
      "\u001b[0;31m---------------------------------------------------------------------------\u001b[0m",
      "\u001b[0;31mNameError\u001b[0m                                 Traceback (most recent call last)",
      "\u001b[0;32m<ipython-input-11-42f17f6db9d6>\u001b[0m in \u001b[0;36m<module>\u001b[0;34m\u001b[0m\n\u001b[0;32m----> 1\u001b[0;31m \u001b[0ma\u001b[0m\u001b[0;34m.\u001b[0m\u001b[0mfull_effect_labels\u001b[0m\u001b[0;34m\u001b[0m\u001b[0;34m\u001b[0m\u001b[0m\n\u001b[0m",
      "\u001b[0;31mNameError\u001b[0m: name 'a' is not defined"
     ]
    }
   ],
   "source": [
    "a.full_effect_labels"
   ]
  },
  {
   "cell_type": "code",
   "execution_count": 54,
   "metadata": {},
   "outputs": [],
   "source": [
    "povm = ln_model_corr.circuit_layer_operator(Label('Mdefault'), 'povm')"
   ]
  },
  {
   "cell_type": "code",
   "execution_count": 56,
   "metadata": {},
   "outputs": [],
   "source": [
    "keys = list(povm.keys())"
   ]
  },
  {
   "cell_type": "code",
   "execution_count": 64,
   "metadata": {},
   "outputs": [
    {
     "output_type": "stream",
     "name": "stdout",
     "text": [
      "0000 Computational Z-basis SPAM vec for 4 qubits w/z-values: [0 0 0 0]\n"
     ]
    },
    {
     "output_type": "error",
     "ename": "ValueError",
     "evalue": "Invalid `evotype`: chp",
     "traceback": [
      "\u001b[0;31m---------------------------------------------------------------------------\u001b[0m",
      "\u001b[0;31mValueError\u001b[0m                                Traceback (most recent call last)",
      "\u001b[0;32m<ipython-input-64-ac1ed804ae0f>\u001b[0m in \u001b[0;36m<module>\u001b[0;34m\u001b[0m\n\u001b[1;32m      1\u001b[0m \u001b[0;32mfor\u001b[0m \u001b[0mk\u001b[0m\u001b[0;34m,\u001b[0m\u001b[0mv\u001b[0m \u001b[0;32min\u001b[0m \u001b[0mpovm\u001b[0m\u001b[0;34m.\u001b[0m\u001b[0mitems\u001b[0m\u001b[0;34m(\u001b[0m\u001b[0;34m)\u001b[0m\u001b[0;34m:\u001b[0m\u001b[0;34m\u001b[0m\u001b[0;34m\u001b[0m\u001b[0m\n\u001b[1;32m      2\u001b[0m     \u001b[0mprint\u001b[0m\u001b[0;34m(\u001b[0m\u001b[0mk\u001b[0m\u001b[0;34m,\u001b[0m \u001b[0mv\u001b[0m\u001b[0;34m)\u001b[0m\u001b[0;34m\u001b[0m\u001b[0;34m\u001b[0m\u001b[0m\n\u001b[0;32m----> 3\u001b[0;31m     \u001b[0mprint\u001b[0m\u001b[0;34m(\u001b[0m\u001b[0mv\u001b[0m\u001b[0;34m.\u001b[0m\u001b[0mto_dense\u001b[0m\u001b[0;34m(\u001b[0m\u001b[0;34m)\u001b[0m\u001b[0;34m)\u001b[0m\u001b[0;34m\u001b[0m\u001b[0;34m\u001b[0m\u001b[0m\n\u001b[0m",
      "\u001b[0;32m~/Documents/repos/pyGSTi-CHP/pygsti/objects/spamvec.py\u001b[0m in \u001b[0;36mto_dense\u001b[0;34m(self, scratch)\u001b[0m\n\u001b[1;32m   4046\u001b[0m             raise NotImplementedError(\"to_dense() is not implemented for evotype %s!\" %\n\u001b[1;32m   4047\u001b[0m                                       self._evotype)\n\u001b[0;32m-> 4048\u001b[0;31m         \u001b[0;32melse\u001b[0m\u001b[0;34m:\u001b[0m \u001b[0;32mraise\u001b[0m \u001b[0mValueError\u001b[0m\u001b[0;34m(\u001b[0m\u001b[0;34m\"Invalid `evotype`: %s\"\u001b[0m \u001b[0;34m%\u001b[0m \u001b[0mself\u001b[0m\u001b[0;34m.\u001b[0m\u001b[0m_evotype\u001b[0m\u001b[0;34m)\u001b[0m\u001b[0;34m\u001b[0m\u001b[0;34m\u001b[0m\u001b[0m\n\u001b[0m\u001b[1;32m   4049\u001b[0m \u001b[0;34m\u001b[0m\u001b[0m\n\u001b[1;32m   4050\u001b[0m         \u001b[0mv\u001b[0m \u001b[0;34m=\u001b[0m \u001b[0;34m(\u001b[0m\u001b[0mv0\u001b[0m\u001b[0;34m,\u001b[0m \u001b[0mv1\u001b[0m\u001b[0;34m)\u001b[0m\u001b[0;34m\u001b[0m\u001b[0;34m\u001b[0m\u001b[0m\n",
      "\u001b[0;31mValueError\u001b[0m: Invalid `evotype`: chp"
     ]
    }
   ],
   "source": [
    "for k,v in povm.items():\n",
    "    print(k, v)\n",
    "    print(v.to_dense())"
   ]
  },
  {
   "cell_type": "code",
   "execution_count": null,
   "metadata": {},
   "outputs": [],
   "source": []
  },
  {
   "cell_type": "code",
   "execution_count": null,
   "metadata": {},
   "outputs": [],
   "source": []
  }
 ],
 "metadata": {
  "kernelspec": {
   "display_name": "Python 3 (pygsti feature-chp-revive)",
   "language": "python",
   "name": "pygsti-chp"
  },
  "language_info": {
   "codemirror_mode": {
    "name": "ipython",
    "version": 3
   },
   "file_extension": ".py",
   "mimetype": "text/x-python",
   "name": "python",
   "nbconvert_exporter": "python",
   "pygments_lexer": "ipython3",
   "version": "3.8.7-final"
  }
 },
 "nbformat": 4,
 "nbformat_minor": 1
}