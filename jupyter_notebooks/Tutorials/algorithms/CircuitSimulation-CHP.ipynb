{
 "cells": [
  {
   "cell_type": "markdown",
   "metadata": {},
   "source": [
    "# PyGSTi CHP Object Test"
   ]
  },
  {
   "cell_type": "code",
   "execution_count": 1,
   "metadata": {},
   "outputs": [
    {
     "output_type": "execute_result",
     "data": {
      "text/plain": [
       "'0.9.9.2.post715+gcde6e292.d20210315'"
      ]
     },
     "metadata": {},
     "execution_count": 1
    }
   ],
   "source": [
    "from __future__ import print_function #python 2 & 3 compatibility\n",
    "import pygsti\n",
    "pygsti.__version__"
   ]
  },
  {
   "cell_type": "code",
   "execution_count": 2,
   "metadata": {},
   "outputs": [],
   "source": [
    "from pygsti.objects.operation import CHPOp, StochasticCHPOp\n",
    "from pygsti.tools.internalgates import standard_gatenames_chp_conversions"
   ]
  },
  {
   "cell_type": "markdown",
   "metadata": {},
   "source": [
    "## CHPOp"
   ]
  },
  {
   "cell_type": "code",
   "execution_count": 3,
   "metadata": {},
   "outputs": [],
   "source": [
    "c = CHPOp(['h 0', 'c 1 2'], 3)"
   ]
  },
  {
   "cell_type": "code",
   "execution_count": 4,
   "metadata": {},
   "outputs": [
    {
     "output_type": "stream",
     "name": "stdout",
     "text": [
      "CHP operation with labels: h 0, c 1 2\n\nh 0\nc 1 2\n\nh 3\nc 4 5\n\n"
     ]
    }
   ],
   "source": [
    "print(c)\n",
    "print(c.get_chp_str())\n",
    "print(c.get_chp_str([3,4,5]))"
   ]
  },
  {
   "cell_type": "code",
   "execution_count": 5,
   "metadata": {},
   "outputs": [
    {
     "output_type": "stream",
     "name": "stdout",
     "text": [
      "CHP operation with labels: h 0, p 0, p 0, h 0\n\nh 0\np 0\np 0\nh 0\n\n"
     ]
    }
   ],
   "source": [
    "Gx = CHPOp('Gxpi 0', 1)\n",
    "print(Gx)\n",
    "print(Gx.get_chp_str())"
   ]
  },
  {
   "cell_type": "code",
   "execution_count": 6,
   "metadata": {},
   "outputs": [
    {
     "output_type": "stream",
     "name": "stdout",
     "text": [
      "CHP operation with labels: p 0, h 0, p 0, p 0, h 0\n\n"
     ]
    }
   ],
   "source": [
    "print(CHPOp('Gc20 0', 1))"
   ]
  },
  {
   "cell_type": "code",
   "execution_count": 7,
   "metadata": {},
   "outputs": [
    {
     "output_type": "stream",
     "name": "stdout",
     "text": [
      "Stochastic CHP operation with probabilities and labels:\n0.2: h 0, p 0, p 0, h 0\n0.8: p 0, h 0, p 0, p 0, h 0\n\np 1\nh 1\np 1\np 1\nh 1\n\np 2\nh 2\np 2\np 2\nh 2\n\nh 3\np 3\np 3\nh 3\n\np 4\nh 4\np 4\np 4\nh 4\n\n"
     ]
    }
   ],
   "source": [
    "sc = StochasticCHPOp(['Gxpi 0', 'Gc20 0'], [0.2, 0.8], nqubits=1, seed_or_state=2021)\n",
    "print(sc)\n",
    "print(sc.get_chp_str([1]))\n",
    "print(sc.get_chp_str([2]))\n",
    "print(sc.get_chp_str([3]))\n",
    "print(sc.get_chp_str([4]))"
   ]
  },
  {
   "source": [
    "## CHPForwardSimulator + Explicit Model"
   ],
   "cell_type": "markdown",
   "metadata": {}
  },
  {
   "cell_type": "code",
   "execution_count": 8,
   "metadata": {},
   "outputs": [],
   "source": [
    "chpexe = '/Users/sserita/Documents/notebooks/pyGSTi/2021-CHP/chp'\n",
    "sim = pygsti.obj.CHPForwardSimulator(chpexe, shots=100)"
   ]
  },
  {
   "cell_type": "code",
   "execution_count": 9,
   "metadata": {},
   "outputs": [
    {
     "output_type": "stream",
     "name": "stdout",
     "text": [
      "rho0 = CHP operation with labels: \n\n\nMdefault = Computational(Z)-basis POVM on 2 qubits and filter None\n\n\nGii = \nCHP operation with labels: \n\n\nGxi = \nCHP operation with labels: h 0, p 0, p 0, h 0\n\n\nGix = \nCHP operation with labels: h 1, p 1, p 1, h 1\n\n\nGyi = \nCHP operation with labels: p 0, p 0, h 0, p 0, p 0, h 0\n\n\nGiy = \nCHP operation with labels: p 1, p 1, h 1, p 1, p 1, h 1\n\n\n\n\n"
     ]
    }
   ],
   "source": [
    "#Initialize an empty Model object\n",
    "model = pygsti.objects.ExplicitOpModel(['Q0', 'Q1'], simulator=sim, evotype='chp')\n",
    "\n",
    "#Populate the Model object with states, effects, gates,\n",
    "model['rho0'] = CHPOp([], nqubits=2)\n",
    "model['Mdefault'] = pygsti.obj.ComputationalBasisPOVM(2, 'chp')\n",
    "\n",
    "model['Gii'] = CHPOp([], nqubits=2)\n",
    "model['Gxi'] = CHPOp(['Gxpi 0'], nqubits=2)\n",
    "model['Gix'] = CHPOp(['Gxpi 1'], nqubits=2)\n",
    "model['Gyi'] = CHPOp(['Gypi 0'], nqubits=2)\n",
    "model['Giy'] = CHPOp(['Gypi 1'], nqubits=2)\n",
    "\n",
    "print(model)"
   ]
  },
  {
   "cell_type": "code",
   "execution_count": 10,
   "metadata": {},
   "outputs": [
    {
     "output_type": "execute_result",
     "data": {
      "text/plain": [
       "OutcomeLabelDict([(('00',), 0.0),\n",
       "                  (('01',), 1.0),\n",
       "                  (('10',), 0.0),\n",
       "                  (('11',), 0.0)])"
      ]
     },
     "metadata": {},
     "execution_count": 10
    }
   ],
   "source": [
    "circ = pygsti.obj.Circuit(['Gix'])\n",
    "model.probabilities(circ)"
   ]
  },
  {
   "cell_type": "code",
   "execution_count": 11,
   "metadata": {},
   "outputs": [
    {
     "output_type": "execute_result",
     "data": {
      "text/plain": [
       "OutcomeLabelDict([(('00',), 0.0),\n",
       "                  (('01',), 0.0),\n",
       "                  (('10',), 0.0),\n",
       "                  (('11',), 1.0)])"
      ]
     },
     "metadata": {},
     "execution_count": 11
    }
   ],
   "source": [
    "circ = pygsti.obj.Circuit(['Gix', 'Gxi'])\n",
    "model.probabilities(circ)"
   ]
  },
  {
   "cell_type": "code",
   "execution_count": 12,
   "metadata": {},
   "outputs": [
    {
     "output_type": "execute_result",
     "data": {
      "text/plain": [
       "OutcomeLabelDict([(('00',), 0.0),\n",
       "                  (('01',), 0.0),\n",
       "                  (('10',), 0.0),\n",
       "                  (('11',), 1.0)])"
      ]
     },
     "metadata": {},
     "execution_count": 12
    }
   ],
   "source": [
    "circ = pygsti.obj.Circuit(['rho0', 'Gix', 'Gxi', 'Mdefault'])\n",
    "model.probabilities(circ)"
   ]
  },
  {
   "source": [
    "## ComposedOp + EmbeddedOp"
   ],
   "cell_type": "markdown",
   "metadata": {}
  },
  {
   "cell_type": "code",
   "execution_count": 13,
   "metadata": {},
   "outputs": [],
   "source": [
    "from pygsti.objects.operation import ComposedOp, EmbeddedOp\n",
    "from pygsti.objects.labeldicts import StateSpaceLabels"
   ]
  },
  {
   "cell_type": "code",
   "execution_count": 14,
   "metadata": {},
   "outputs": [
    {
     "output_type": "stream",
     "name": "stdout",
     "text": [
      "Composed operation of 2 factors:\nFactor 0:\nCHP operation with labels: h 0, p 0, p 0, h 0\nFactor 1:\nCHP operation with labels: h 1, p 1, p 1, h 1\n\nh 0\np 0\np 0\nh 0\nh 1\np 1\np 1\nh 1\n\n"
     ]
    }
   ],
   "source": [
    "# ComposedOp\n",
    "Gxx_composed = ComposedOp([CHPOp('Gxpi 0', nqubits=2), CHPOp('Gxpi 1', nqubits=2)])\n",
    "print(Gxx_composed)\n",
    "print(Gxx_composed.get_chp_str())"
   ]
  },
  {
   "cell_type": "code",
   "execution_count": 15,
   "metadata": {},
   "outputs": [
    {
     "output_type": "stream",
     "name": "stdout",
     "text": [
      "Embedded operation with full dimension 4 and state space Q0(2)*Q1(2)\n that embeds the following 2-dimensional operation into acting on the ['Q0'] space\nCHP operation with labels: h 0, p 0, p 0, h 0\n\nh 0\np 0\np 0\nh 0\n\n"
     ]
    }
   ],
   "source": [
    "# EmbeddedOp\n",
    "Gxi_embedded = EmbeddedOp(['Q0', 'Q1'], ['Q0'], CHPOp('Gxpi 0', nqubits=1))\n",
    "print(Gxi_embedded)\n",
    "print(Gxi_embedded.get_chp_str())"
   ]
  },
  {
   "cell_type": "code",
   "execution_count": 16,
   "metadata": {},
   "outputs": [
    {
     "output_type": "stream",
     "name": "stdout",
     "text": [
      "Embedded operation with full dimension 4 and state space Q0(2)*Q1(2)\n that embeds the following 2-dimensional operation into acting on the ['Q1'] space\nCHP operation with labels: h 0, p 0, p 0, h 0\n\nh 1\np 1\np 1\nh 1\n\n"
     ]
    }
   ],
   "source": [
    "Gix_embedded = EmbeddedOp(['Q0', 'Q1'], ['Q1'], CHPOp('Gxpi 0', nqubits=1))\n",
    "print(Gix_embedded)\n",
    "print(Gix_embedded.get_chp_str())"
   ]
  },
  {
   "cell_type": "code",
   "execution_count": 17,
   "metadata": {},
   "outputs": [
    {
     "output_type": "stream",
     "name": "stdout",
     "text": [
      "h 5\np 5\np 5\nh 5\n\nh 7\np 7\np 7\nh 7\n\n"
     ]
    }
   ],
   "source": [
    "# Also see if I retain flexibility of targets\n",
    "print(Gxi_embedded.get_chp_str([5,7]))\n",
    "print(Gix_embedded.get_chp_str([5,7]))"
   ]
  },
  {
   "cell_type": "code",
   "execution_count": 18,
   "metadata": {},
   "outputs": [
    {
     "output_type": "stream",
     "name": "stdout",
     "text": [
      "Embedded operation with full dimension 16 and state space Q0(2)*Q1(2)*Q2(2)*Q3(2)\n that embeds the following 4-dimensional operation into acting on the ['Q1', 'Q2'] space\nComposed operation of 2 factors:\nFactor 0:\nCHP operation with labels: h 0, p 0, p 0, h 0\nFactor 1:\nCHP operation with labels: h 1, p 1, p 1, h 1\n\nh 1\np 1\np 1\nh 1\nh 2\np 2\np 2\nh 2\n\nh 6\np 6\np 6\nh 6\nh 7\np 7\np 7\nh 7\n\n"
     ]
    }
   ],
   "source": [
    "# EmbeddedOp made of ComposedOps\n",
    "Gxx_comp_embed = EmbeddedOp(['Q0', 'Q1', 'Q2', 'Q3'], ['Q1', 'Q2'], Gxx_composed)\n",
    "print(Gxx_comp_embed)\n",
    "print(Gxx_comp_embed.get_chp_str())\n",
    "print(Gxx_comp_embed.get_chp_str([5, 6, 7, 8]))"
   ]
  },
  {
   "source": [
    "## CHPForwardSimulator + LocalNoiseModel"
   ],
   "cell_type": "markdown",
   "metadata": {}
  },
  {
   "cell_type": "code",
   "execution_count": 19,
   "metadata": {},
   "outputs": [],
   "source": [
    "# Step 1: Define stochastic Pauli noise operators\n",
    "# Note that the probabilities here are the \"error rates\" that would be model parameters (currently just static)\n",
    "noise_1q = StochasticCHPOp(['Gi 0', 'Gxpi 0', 'Gypi 0', 'Gzpi 0'], [0.97, 0.01, 0.01, 0.01], nqubits=1)\n",
    "\n",
    "# Also need two-qubit version, which is currently just independent stochastic Pauli noise\n",
    "noise_2q = ComposedOp([EmbeddedOp([0, 1], [0], noise_1q), EmbeddedOp([0, 1], [1], noise_1q)])"
   ]
  },
  {
   "cell_type": "code",
   "execution_count": 20,
   "metadata": {},
   "outputs": [],
   "source": [
    "# Step 2: Define gate dict of noisy gates\n",
    "# Using equivalent of XYICNOT modelpack\n",
    "gatedict = {}\n",
    "gatedict['Gi'] = noise_1q\n",
    "gatedict['Gx'] = ComposedOp([CHPOp('Gxpi 0', nqubits=1), noise_1q])\n",
    "gatedict['Gy'] = ComposedOp([CHPOp('Gypi 0', nqubits=1), noise_1q])\n",
    "# Note that first Gcnot is now key in model, whereas second Gcnot is a standard gatename known to CHPOp constructor\n",
    "gatedict['Gcnot'] = ComposedOp([CHPOp('Gcnot 0 1', nqubits=2), noise_2q])"
   ]
  },
  {
   "cell_type": "code",
   "execution_count": 21,
   "metadata": {},
   "outputs": [],
   "source": [
    "from pygsti.objects.localnoisemodel import LocalNoiseModel\n",
    "from pygsti.objects.spamvec import ComputationalSPAMVec\n",
    "\n",
    "rho0 = CHPOp([], nqubits=4)\n",
    "Mdefault = pygsti.obj.ComputationalBasisPOVM(4, 'chp')\n",
    "\n",
    "chpexe = '/Users/sserita/Documents/notebooks/pyGSTi/2021-CHP/chp'\n",
    "sim = pygsti.obj.CHPForwardSimulator(chpexe, shots=100)\n",
    "\n",
    "ln_model = LocalNoiseModel(num_qubits=4, gatedict=gatedict, prep_layers=rho0, povm_layers=Mdefault,\n",
    "                           availability={'Gcnot': [(0,1),(1,2),(2,3)]}, simulator=sim, evotype='chp')"
   ]
  },
  {
   "cell_type": "code",
   "execution_count": 22,
   "metadata": {},
   "outputs": [
    {
     "output_type": "stream",
     "name": "stdout",
     "text": [
      "State prep building blocks (.prep_blks):\n layers :  rho0\n\nPOVM building blocks (.povm_blks):\n layers :  Mdefault\n\nOperation building blocks (.operation_blks):\n layers :  Gi:0, Gi:1, Gi:2, Gi:3, Gx:0, Gx:1, Gx:2, Gx:3, Gy:0, Gy:1, Gy:2, Gy:3, Gcnot:0:1, Gcnot:1:2, Gcnot:2:3\n gates :  Gi, Gx, Gy, Gcnot\n\n"
     ]
    }
   ],
   "source": [
    "# Step 4: Profit?? Worked way too quickly...\n",
    "def print_implicit_model_blocks(mdl, showSPAM=False):\n",
    "    if showSPAM:\n",
    "        print('State prep building blocks (.prep_blks):')\n",
    "        for blk_lbl,blk in mdl.prep_blks.items():\n",
    "            print(\" \" + blk_lbl, \": \", ', '.join(map(str,blk.keys())))\n",
    "        print()\n",
    "\n",
    "        print('POVM building blocks (.povm_blks):')\n",
    "        for blk_lbl,blk in mdl.povm_blks.items():\n",
    "            print(\" \"  + blk_lbl, \": \", ', '.join(map(str,blk.keys())))\n",
    "        print()\n",
    "    \n",
    "    print('Operation building blocks (.operation_blks):')\n",
    "    for blk_lbl,blk in mdl.operation_blks.items():\n",
    "        print(\" \" + blk_lbl, \": \", ', '.join(map(str,blk.keys())))\n",
    "    print()\n",
    "\n",
    "print_implicit_model_blocks(ln_model, showSPAM=True)"
   ]
  },
  {
   "cell_type": "code",
   "execution_count": 23,
   "metadata": {},
   "outputs": [
    {
     "output_type": "stream",
     "name": "stdout",
     "text": [
      "Composed operation of 2 factors:\nFactor 0:\nCHP operation with labels: h 0, p 0, p 0, h 0\nFactor 1:\nStochastic CHP operation with probabilities and labels:\n0.97: \n0.01: h 0, p 0, p 0, h 0\n0.01: p 0, p 0, h 0, p 0, p 0, h 0\n0.01: p 0, p 0\n\n"
     ]
    }
   ],
   "source": [
    "print(ln_model.operation_blks['gates']['Gx'])"
   ]
  },
  {
   "cell_type": "code",
   "execution_count": 24,
   "metadata": {},
   "outputs": [
    {
     "output_type": "stream",
     "name": "stdout",
     "text": [
      "Embedded operation with full dimension 16 and state space 0(2)*1(2)*2(2)*3(2)\n that embeds the following 4-dimensional operation into acting on the (1, 2) space\nComposed operation of 2 factors:\nFactor 0:\nCHP operation with labels: c 0 1\nFactor 1:\nComposed operation of 2 factors:\nFactor 0:\nEmbedded operation with full dimension 4 and state space 0(2)*1(2)\n that embeds the following 2-dimensional operation into acting on the [0] space\nStochastic CHP operation with probabilities and labels:\n0.97: \n0.01: h 0, p 0, p 0, h 0\n0.01: p 0, p 0, h 0, p 0, p 0, h 0\n0.01: p 0, p 0\nFactor 1:\nEmbedded operation with full dimension 4 and state space 0(2)*1(2)\n that embeds the following 2-dimensional operation into acting on the [1] space\nStochastic CHP operation with probabilities and labels:\n0.97: \n0.01: h 0, p 0, p 0, h 0\n0.01: p 0, p 0, h 0, p 0, p 0, h 0\n0.01: p 0, p 0\n\n"
     ]
    }
   ],
   "source": [
    "print(ln_model.operation_blks['layers']['Gcnot', 1, 2])"
   ]
  },
  {
   "cell_type": "code",
   "execution_count": 25,
   "metadata": {},
   "outputs": [
    {
     "output_type": "execute_result",
     "data": {
      "text/plain": [
       "OutcomeLabelDict([(('0000',), 0.03),\n",
       "                  (('0001',), 0.0),\n",
       "                  (('0010',), 0.0),\n",
       "                  (('0011',), 0.0),\n",
       "                  (('0100',), 0.97),\n",
       "                  (('0101',), 0.0),\n",
       "                  (('0110',), 0.0),\n",
       "                  (('0111',), 0.0),\n",
       "                  (('1000',), 0.0),\n",
       "                  (('1001',), 0.0),\n",
       "                  (('1010',), 0.0),\n",
       "                  (('1011',), 0.0),\n",
       "                  (('1100',), 0.0),\n",
       "                  (('1101',), 0.0),\n",
       "                  (('1110',), 0.0),\n",
       "                  (('1111',), 0.0)])"
      ]
     },
     "metadata": {},
     "execution_count": 25
    }
   ],
   "source": [
    "# Step 5: Actually run circuits with local noise model\n",
    "# TODO: Marginalized POVMs don't work yet, must specify num_lines as full space\n",
    "circ = pygsti.obj.Circuit([('Gx', 1)], num_lines=4)\n",
    "ln_model.probabilities(circ)"
   ]
  },
  {
   "cell_type": "code",
   "execution_count": 26,
   "metadata": {},
   "outputs": [
    {
     "output_type": "execute_result",
     "data": {
      "text/plain": [
       "OutcomeLabelDict([(('0000',), 0.04),\n",
       "                  (('0001',), 0.0),\n",
       "                  (('0010',), 0.03),\n",
       "                  (('0011',), 0.0),\n",
       "                  (('0100',), 0.04),\n",
       "                  (('0101',), 0.0),\n",
       "                  (('0110',), 0.89),\n",
       "                  (('0111',), 0.0),\n",
       "                  (('1000',), 0.0),\n",
       "                  (('1001',), 0.0),\n",
       "                  (('1010',), 0.0),\n",
       "                  (('1011',), 0.0),\n",
       "                  (('1100',), 0.0),\n",
       "                  (('1101',), 0.0),\n",
       "                  (('1110',), 0.0),\n",
       "                  (('1111',), 0.0)])"
      ]
     },
     "metadata": {},
     "execution_count": 26
    }
   ],
   "source": [
    "circ = pygsti.obj.Circuit([('Gx', 1), ('Gcnot', 1, 2)], num_lines=4)\n",
    "ln_model.probabilities(circ)"
   ]
  },
  {
   "cell_type": "code",
   "execution_count": 27,
   "metadata": {},
   "outputs": [],
   "source": [
    "# Could also define correlated noise for 2-qubit error?\n",
    "noise_2q_correlated = StochasticCHPOp([\n",
    "    ['Gi 0', 'Gi 1'],       # II\n",
    "    ['Gxpi 0', 'Gi 1'],     # XI\n",
    "    ['Gi 0', 'Gxpi 1'],     # IX\n",
    "    ['Gxpi 0', 'Gxpi 1'],   # XX (Will make 10x more prevalent)\n",
    "    ['Gypi 0', 'Gypi 1'],   # YY\n",
    "    ['Gzpi 0', 'Gzpi 1']],  # ZZ\n",
    "    [0.86, 0.01, 0.01, 0.1, 0.01, 0.01], nqubits=2)\n",
    "\n",
    "gatedict = {}\n",
    "gatedict['Gi'] = CHPOp('Gi 0', nqubits=1)\n",
    "gatedict['Gx'] = CHPOp('Gxpi 0', nqubits=1)\n",
    "gatedict['Gy'] = CHPOp('Gypi 0', nqubits=1)\n",
    "# Note that first Gcnot is now key in model, whereas second Gcnot is a standard gatename known to CHPOp constructor\n",
    "gatedict['Gcnot'] = ComposedOp([CHPOp('Gcnot 0 1', nqubits=2), noise_2q_correlated])"
   ]
  },
  {
   "cell_type": "code",
   "execution_count": 28,
   "metadata": {},
   "outputs": [],
   "source": [
    "rho0 = CHPOp([], nqubits=4)\n",
    "Mdefault = pygsti.obj.ComputationalBasisPOVM(4, 'chp')\n",
    "\n",
    "chpexe = '/Users/sserita/Documents/notebooks/pyGSTi/2021-CHP/chp'\n",
    "sim = pygsti.obj.CHPForwardSimulator(chpexe, shots=100)\n",
    "\n",
    "ln_model_corr = LocalNoiseModel(num_qubits=4, gatedict=gatedict, prep_layers=rho0, povm_layers=Mdefault,\n",
    "                           availability={'Gcnot': [(0,1),(1,2),(2,3)]}, simulator=sim, evotype='chp')"
   ]
  },
  {
   "cell_type": "code",
   "execution_count": 29,
   "metadata": {},
   "outputs": [
    {
     "output_type": "execute_result",
     "data": {
      "text/plain": [
       "OutcomeLabelDict([(('0000',), 0.09),\n",
       "                  (('0001',), 0.0),\n",
       "                  (('0010',), 0.01),\n",
       "                  (('0011',), 0.0),\n",
       "                  (('0100',), 0.01),\n",
       "                  (('0101',), 0.0),\n",
       "                  (('0110',), 0.89),\n",
       "                  (('0111',), 0.0),\n",
       "                  (('1000',), 0.0),\n",
       "                  (('1001',), 0.0),\n",
       "                  (('1010',), 0.0),\n",
       "                  (('1011',), 0.0),\n",
       "                  (('1100',), 0.0),\n",
       "                  (('1101',), 0.0),\n",
       "                  (('1110',), 0.0),\n",
       "                  (('1111',), 0.0)])"
      ]
     },
     "metadata": {},
     "execution_count": 29
    }
   ],
   "source": [
    "circ = pygsti.obj.Circuit([('Gx', 1), ('Gcnot', 1, 2)], num_lines=4)\n",
    "ln_model_corr.probabilities(circ)"
   ]
  },
  {
   "cell_type": "code",
   "execution_count": 45,
   "metadata": {},
   "outputs": [
    {
     "output_type": "error",
     "ename": "ValueError",
     "evalue": "substring not found",
     "traceback": [
      "\u001b[0;31m---------------------------------------------------------------------------\u001b[0m",
      "\u001b[0;31mValueError\u001b[0m                                Traceback (most recent call last)",
      "\u001b[0;32m<ipython-input-45-d6b46837af47>\u001b[0m in \u001b[0;36m<module>\u001b[0;34m\u001b[0m\n\u001b[1;32m      1\u001b[0m \u001b[0mcirc\u001b[0m \u001b[0;34m=\u001b[0m \u001b[0mpygsti\u001b[0m\u001b[0;34m.\u001b[0m\u001b[0mobj\u001b[0m\u001b[0;34m.\u001b[0m\u001b[0mCircuit\u001b[0m\u001b[0;34m(\u001b[0m\u001b[0;34m[\u001b[0m\u001b[0;34m(\u001b[0m\u001b[0;34m'Gx'\u001b[0m\u001b[0;34m,\u001b[0m \u001b[0;36m1\u001b[0m\u001b[0;34m)\u001b[0m\u001b[0;34m,\u001b[0m \u001b[0;34m(\u001b[0m\u001b[0;34m'Gcnot'\u001b[0m\u001b[0;34m,\u001b[0m \u001b[0;36m1\u001b[0m\u001b[0;34m,\u001b[0m \u001b[0;36m2\u001b[0m\u001b[0;34m)\u001b[0m\u001b[0;34m]\u001b[0m\u001b[0;34m)\u001b[0m\u001b[0;34m\u001b[0m\u001b[0;34m\u001b[0m\u001b[0m\n\u001b[0;32m----> 2\u001b[0;31m \u001b[0mln_model_corr\u001b[0m\u001b[0;34m.\u001b[0m\u001b[0mprobabilities\u001b[0m\u001b[0;34m(\u001b[0m\u001b[0mcirc\u001b[0m\u001b[0;34m)\u001b[0m\u001b[0;34m\u001b[0m\u001b[0;34m\u001b[0m\u001b[0m\n\u001b[0m",
      "\u001b[0;32m~/Documents/repos/pyGSTi-CHP/pygsti/objects/model.py\u001b[0m in \u001b[0;36mprobabilities\u001b[0;34m(self, circuit, outcomes, time)\u001b[0m\n\u001b[1;32m   1242\u001b[0m             \u001b[0mvalues\u001b[0m \u001b[0mequal\u001b[0m \u001b[0mto\u001b[0m \u001b[0mprobabilities\u001b[0m\u001b[0;34m.\u001b[0m\u001b[0;34m\u001b[0m\u001b[0;34m\u001b[0m\u001b[0m\n\u001b[1;32m   1243\u001b[0m         \"\"\"\n\u001b[0;32m-> 1244\u001b[0;31m         \u001b[0;32mreturn\u001b[0m \u001b[0mself\u001b[0m\u001b[0;34m.\u001b[0m\u001b[0msim\u001b[0m\u001b[0;34m.\u001b[0m\u001b[0mprobs\u001b[0m\u001b[0;34m(\u001b[0m\u001b[0mcircuit\u001b[0m\u001b[0;34m,\u001b[0m \u001b[0moutcomes\u001b[0m\u001b[0;34m,\u001b[0m \u001b[0mtime\u001b[0m\u001b[0;34m)\u001b[0m\u001b[0;34m\u001b[0m\u001b[0;34m\u001b[0m\u001b[0m\n\u001b[0m\u001b[1;32m   1245\u001b[0m \u001b[0;34m\u001b[0m\u001b[0m\n\u001b[1;32m   1246\u001b[0m     \u001b[0;32mdef\u001b[0m \u001b[0mbulk_probabilities\u001b[0m\u001b[0;34m(\u001b[0m\u001b[0mself\u001b[0m\u001b[0;34m,\u001b[0m \u001b[0mcircuits\u001b[0m\u001b[0;34m,\u001b[0m \u001b[0mclip_to\u001b[0m\u001b[0;34m=\u001b[0m\u001b[0;32mNone\u001b[0m\u001b[0;34m,\u001b[0m \u001b[0mcomm\u001b[0m\u001b[0;34m=\u001b[0m\u001b[0;32mNone\u001b[0m\u001b[0;34m,\u001b[0m \u001b[0mmem_limit\u001b[0m\u001b[0;34m=\u001b[0m\u001b[0;32mNone\u001b[0m\u001b[0;34m,\u001b[0m \u001b[0msmartc\u001b[0m\u001b[0;34m=\u001b[0m\u001b[0;32mNone\u001b[0m\u001b[0;34m)\u001b[0m\u001b[0;34m:\u001b[0m\u001b[0;34m\u001b[0m\u001b[0;34m\u001b[0m\u001b[0m\n",
      "\u001b[0;32m~/Documents/repos/pyGSTi-CHP/pygsti/objects/forwardsim.py\u001b[0m in \u001b[0;36mprobs\u001b[0;34m(self, circuit, outcomes, time)\u001b[0m\n\u001b[1;32m    209\u001b[0m         \u001b[0mprobs_array\u001b[0m \u001b[0;34m=\u001b[0m \u001b[0m_np\u001b[0m\u001b[0;34m.\u001b[0m\u001b[0mempty\u001b[0m\u001b[0;34m(\u001b[0m\u001b[0mcopa_layout\u001b[0m\u001b[0;34m.\u001b[0m\u001b[0mnum_elements\u001b[0m\u001b[0;34m,\u001b[0m \u001b[0;34m'd'\u001b[0m\u001b[0;34m)\u001b[0m\u001b[0;34m\u001b[0m\u001b[0;34m\u001b[0m\u001b[0m\n\u001b[1;32m    210\u001b[0m         \u001b[0;32mif\u001b[0m \u001b[0mtime\u001b[0m \u001b[0;32mis\u001b[0m \u001b[0;32mNone\u001b[0m\u001b[0;34m:\u001b[0m\u001b[0;34m\u001b[0m\u001b[0;34m\u001b[0m\u001b[0m\n\u001b[0;32m--> 211\u001b[0;31m             \u001b[0mself\u001b[0m\u001b[0;34m.\u001b[0m\u001b[0mbulk_fill_probs\u001b[0m\u001b[0;34m(\u001b[0m\u001b[0mprobs_array\u001b[0m\u001b[0;34m,\u001b[0m \u001b[0mcopa_layout\u001b[0m\u001b[0;34m)\u001b[0m\u001b[0;34m\u001b[0m\u001b[0;34m\u001b[0m\u001b[0m\n\u001b[0m\u001b[1;32m    212\u001b[0m         \u001b[0;32melse\u001b[0m\u001b[0;34m:\u001b[0m\u001b[0;34m\u001b[0m\u001b[0;34m\u001b[0m\u001b[0m\n\u001b[1;32m    213\u001b[0m             \u001b[0mresource_alloc\u001b[0m \u001b[0;34m=\u001b[0m \u001b[0m_ResourceAllocation\u001b[0m\u001b[0;34m.\u001b[0m\u001b[0mcast\u001b[0m\u001b[0;34m(\u001b[0m\u001b[0;32mNone\u001b[0m\u001b[0;34m)\u001b[0m\u001b[0;34m\u001b[0m\u001b[0;34m\u001b[0m\u001b[0m\n",
      "\u001b[0;32m~/Documents/repos/pyGSTi-CHP/pygsti/objects/forwardsim.py\u001b[0m in \u001b[0;36mbulk_fill_probs\u001b[0;34m(self, array_to_fill, layout, resource_alloc)\u001b[0m\n\u001b[1;32m    488\u001b[0m         \"\"\"\n\u001b[1;32m    489\u001b[0m         \u001b[0mresource_alloc\u001b[0m \u001b[0;34m=\u001b[0m \u001b[0m_ResourceAllocation\u001b[0m\u001b[0;34m.\u001b[0m\u001b[0mcast\u001b[0m\u001b[0;34m(\u001b[0m\u001b[0mresource_alloc\u001b[0m\u001b[0;34m)\u001b[0m\u001b[0;34m\u001b[0m\u001b[0;34m\u001b[0m\u001b[0m\n\u001b[0;32m--> 490\u001b[0;31m         \u001b[0;32mreturn\u001b[0m \u001b[0mself\u001b[0m\u001b[0;34m.\u001b[0m\u001b[0m_bulk_fill_probs\u001b[0m\u001b[0;34m(\u001b[0m\u001b[0marray_to_fill\u001b[0m\u001b[0;34m,\u001b[0m \u001b[0mlayout\u001b[0m\u001b[0;34m,\u001b[0m \u001b[0mresource_alloc\u001b[0m\u001b[0;34m)\u001b[0m\u001b[0;34m\u001b[0m\u001b[0;34m\u001b[0m\u001b[0m\n\u001b[0m\u001b[1;32m    491\u001b[0m \u001b[0;34m\u001b[0m\u001b[0m\n\u001b[1;32m    492\u001b[0m     \u001b[0;32mdef\u001b[0m \u001b[0m_bulk_fill_probs\u001b[0m\u001b[0;34m(\u001b[0m\u001b[0mself\u001b[0m\u001b[0;34m,\u001b[0m \u001b[0marray_to_fill\u001b[0m\u001b[0;34m,\u001b[0m \u001b[0mlayout\u001b[0m\u001b[0;34m,\u001b[0m \u001b[0mresource_alloc\u001b[0m\u001b[0;34m)\u001b[0m\u001b[0;34m:\u001b[0m\u001b[0;34m\u001b[0m\u001b[0;34m\u001b[0m\u001b[0m\n",
      "\u001b[0;32m~/Documents/repos/pyGSTi-CHP/pygsti/objects/forwardsim.py\u001b[0m in \u001b[0;36m_bulk_fill_probs\u001b[0;34m(self, array_to_fill, layout, resource_alloc)\u001b[0m\n\u001b[1;32m    491\u001b[0m \u001b[0;34m\u001b[0m\u001b[0m\n\u001b[1;32m    492\u001b[0m     \u001b[0;32mdef\u001b[0m \u001b[0m_bulk_fill_probs\u001b[0m\u001b[0;34m(\u001b[0m\u001b[0mself\u001b[0m\u001b[0;34m,\u001b[0m \u001b[0marray_to_fill\u001b[0m\u001b[0;34m,\u001b[0m \u001b[0mlayout\u001b[0m\u001b[0;34m,\u001b[0m \u001b[0mresource_alloc\u001b[0m\u001b[0;34m)\u001b[0m\u001b[0;34m:\u001b[0m\u001b[0;34m\u001b[0m\u001b[0;34m\u001b[0m\u001b[0m\n\u001b[0;32m--> 493\u001b[0;31m         \u001b[0;32mreturn\u001b[0m \u001b[0mself\u001b[0m\u001b[0;34m.\u001b[0m\u001b[0m_bulk_fill_probs_block\u001b[0m\u001b[0;34m(\u001b[0m\u001b[0marray_to_fill\u001b[0m\u001b[0;34m,\u001b[0m \u001b[0mlayout\u001b[0m\u001b[0;34m,\u001b[0m \u001b[0mresource_alloc\u001b[0m\u001b[0;34m)\u001b[0m\u001b[0;34m\u001b[0m\u001b[0;34m\u001b[0m\u001b[0m\n\u001b[0m\u001b[1;32m    494\u001b[0m \u001b[0;34m\u001b[0m\u001b[0m\n\u001b[1;32m    495\u001b[0m     \u001b[0;32mdef\u001b[0m \u001b[0m_bulk_fill_probs_block\u001b[0m\u001b[0;34m(\u001b[0m\u001b[0mself\u001b[0m\u001b[0;34m,\u001b[0m \u001b[0marray_to_fill\u001b[0m\u001b[0;34m,\u001b[0m \u001b[0mlayout\u001b[0m\u001b[0;34m,\u001b[0m \u001b[0mresource_alloc\u001b[0m\u001b[0;34m)\u001b[0m\u001b[0;34m:\u001b[0m\u001b[0;34m\u001b[0m\u001b[0;34m\u001b[0m\u001b[0m\n",
      "\u001b[0;32m~/Documents/repos/pyGSTi-CHP/pygsti/objects/forwardsim.py\u001b[0m in \u001b[0;36m_bulk_fill_probs_block\u001b[0;34m(self, array_to_fill, layout, resource_alloc)\u001b[0m\n\u001b[1;32m    495\u001b[0m     \u001b[0;32mdef\u001b[0m \u001b[0m_bulk_fill_probs_block\u001b[0m\u001b[0;34m(\u001b[0m\u001b[0mself\u001b[0m\u001b[0;34m,\u001b[0m \u001b[0marray_to_fill\u001b[0m\u001b[0;34m,\u001b[0m \u001b[0mlayout\u001b[0m\u001b[0;34m,\u001b[0m \u001b[0mresource_alloc\u001b[0m\u001b[0;34m)\u001b[0m\u001b[0;34m:\u001b[0m\u001b[0;34m\u001b[0m\u001b[0;34m\u001b[0m\u001b[0m\n\u001b[1;32m    496\u001b[0m         \u001b[0;32mfor\u001b[0m \u001b[0melement_indices\u001b[0m\u001b[0;34m,\u001b[0m \u001b[0mcircuit\u001b[0m\u001b[0;34m,\u001b[0m \u001b[0moutcomes\u001b[0m \u001b[0;32min\u001b[0m \u001b[0mlayout\u001b[0m\u001b[0;34m.\u001b[0m\u001b[0miter_unique_circuits\u001b[0m\u001b[0;34m(\u001b[0m\u001b[0;34m)\u001b[0m\u001b[0;34m:\u001b[0m\u001b[0;34m\u001b[0m\u001b[0;34m\u001b[0m\u001b[0m\n\u001b[0;32m--> 497\u001b[0;31m             self._compute_circuit_outcome_probabilities(array_to_fill[element_indices], circuit,\n\u001b[0m\u001b[1;32m    498\u001b[0m                                                         outcomes, resource_alloc, time=None)\n\u001b[1;32m    499\u001b[0m \u001b[0;34m\u001b[0m\u001b[0m\n",
      "\u001b[0;32m~/Documents/repos/pyGSTi-CHP/pygsti/objects/weakforwardsim.py\u001b[0m in \u001b[0;36m_compute_circuit_outcome_probabilities\u001b[0;34m(self, array_to_fill, circuit, outcomes, resource_alloc, time)\u001b[0m\n\u001b[1;32m     43\u001b[0m         \u001b[0;31m# TODO: For parallelization, block over this for loop\u001b[0m\u001b[0;34m\u001b[0m\u001b[0;34m\u001b[0m\u001b[0;34m\u001b[0m\u001b[0m\n\u001b[1;32m     44\u001b[0m         \u001b[0;32mfor\u001b[0m \u001b[0m_\u001b[0m \u001b[0;32min\u001b[0m \u001b[0mrange\u001b[0m\u001b[0;34m(\u001b[0m\u001b[0mself\u001b[0m\u001b[0;34m.\u001b[0m\u001b[0mshots\u001b[0m\u001b[0;34m)\u001b[0m\u001b[0;34m:\u001b[0m\u001b[0;34m\u001b[0m\u001b[0;34m\u001b[0m\u001b[0m\n\u001b[0;32m---> 45\u001b[0;31m             \u001b[0mself\u001b[0m\u001b[0;34m.\u001b[0m\u001b[0m_compute_circuit_outcome_for_shot\u001b[0m\u001b[0;34m(\u001b[0m\u001b[0mwork_array\u001b[0m\u001b[0;34m,\u001b[0m \u001b[0mcircuit\u001b[0m\u001b[0;34m,\u001b[0m \u001b[0moutcomes\u001b[0m\u001b[0;34m,\u001b[0m \u001b[0mresource_alloc\u001b[0m\u001b[0;34m,\u001b[0m \u001b[0mtime\u001b[0m\u001b[0;34m)\u001b[0m\u001b[0;34m\u001b[0m\u001b[0;34m\u001b[0m\u001b[0m\n\u001b[0m\u001b[1;32m     46\u001b[0m \u001b[0;34m\u001b[0m\u001b[0m\n\u001b[1;32m     47\u001b[0m         \u001b[0marray_to_fill\u001b[0m\u001b[0;34m[\u001b[0m\u001b[0;34m:\u001b[0m\u001b[0;34m]\u001b[0m \u001b[0;34m=\u001b[0m \u001b[0mwork_array\u001b[0m \u001b[0;34m/\u001b[0m \u001b[0mself\u001b[0m\u001b[0;34m.\u001b[0m\u001b[0mshots\u001b[0m\u001b[0;34m\u001b[0m\u001b[0;34m\u001b[0m\u001b[0m\n",
      "\u001b[0;32m~/Documents/repos/pyGSTi-CHP/pygsti/objects/chpforwardsim.py\u001b[0m in \u001b[0;36m_compute_circuit_outcome_for_shot\u001b[0;34m(self, array_to_fill, circuit, outcomes, resource_alloc, time)\u001b[0m\n\u001b[1;32m     80\u001b[0m \u001b[0;34m\u001b[0m\u001b[0m\n\u001b[1;32m     81\u001b[0m                 \u001b[0;31m# POVM (sort of, actually using it more like a straight PVM)\u001b[0m\u001b[0;34m\u001b[0m\u001b[0;34m\u001b[0m\u001b[0;34m\u001b[0m\u001b[0m\n\u001b[0;32m---> 82\u001b[0;31m                 \u001b[0mpovm\u001b[0m \u001b[0;34m=\u001b[0m \u001b[0mself\u001b[0m\u001b[0;34m.\u001b[0m\u001b[0mmodel\u001b[0m\u001b[0;34m.\u001b[0m\u001b[0mcircuit_layer_operator\u001b[0m\u001b[0;34m(\u001b[0m\u001b[0mcomplete_circuit\u001b[0m\u001b[0;34m[\u001b[0m\u001b[0;34m-\u001b[0m\u001b[0;36m1\u001b[0m\u001b[0;34m]\u001b[0m\u001b[0;34m,\u001b[0m \u001b[0;34m'povm'\u001b[0m\u001b[0;34m)\u001b[0m\u001b[0;34m\u001b[0m\u001b[0;34m\u001b[0m\u001b[0m\n\u001b[0m\u001b[1;32m     83\u001b[0m                 \u001b[0;32mfor\u001b[0m \u001b[0mi\u001b[0m \u001b[0;32min\u001b[0m \u001b[0mrange\u001b[0m\u001b[0;34m(\u001b[0m\u001b[0mpovm\u001b[0m\u001b[0;34m.\u001b[0m\u001b[0mnqubits\u001b[0m\u001b[0;34m)\u001b[0m\u001b[0;34m:\u001b[0m\u001b[0;34m\u001b[0m\u001b[0;34m\u001b[0m\u001b[0m\n\u001b[1;32m     84\u001b[0m                     \u001b[0mtmp\u001b[0m\u001b[0;34m.\u001b[0m\u001b[0mwrite\u001b[0m\u001b[0;34m(\u001b[0m\u001b[0;34mf'm {i}\\n'\u001b[0m\u001b[0;34m)\u001b[0m\u001b[0;34m\u001b[0m\u001b[0;34m\u001b[0m\u001b[0m\n",
      "\u001b[0;32m~/Documents/repos/pyGSTi-CHP/pygsti/objects/model.py\u001b[0m in \u001b[0;36mcircuit_layer_operator\u001b[0;34m(self, layerlbl, typ)\u001b[0m\n\u001b[1;32m   1183\u001b[0m         \"\"\"\n\u001b[1;32m   1184\u001b[0m         \u001b[0mself\u001b[0m\u001b[0;34m.\u001b[0m\u001b[0m_clean_paramvec\u001b[0m\u001b[0;34m(\u001b[0m\u001b[0;34m)\u001b[0m\u001b[0;34m\u001b[0m\u001b[0;34m\u001b[0m\u001b[0m\n\u001b[0;32m-> 1185\u001b[0;31m         \u001b[0;32mreturn\u001b[0m \u001b[0mself\u001b[0m\u001b[0;34m.\u001b[0m\u001b[0m_circuit_layer_operator\u001b[0m\u001b[0;34m(\u001b[0m\u001b[0mlayerlbl\u001b[0m\u001b[0;34m,\u001b[0m \u001b[0mtyp\u001b[0m\u001b[0;34m)\u001b[0m\u001b[0;34m\u001b[0m\u001b[0;34m\u001b[0m\u001b[0m\n\u001b[0m\u001b[1;32m   1186\u001b[0m \u001b[0;34m\u001b[0m\u001b[0m\n\u001b[1;32m   1187\u001b[0m     \u001b[0;32mdef\u001b[0m \u001b[0m_circuit_layer_operator\u001b[0m\u001b[0;34m(\u001b[0m\u001b[0mself\u001b[0m\u001b[0;34m,\u001b[0m \u001b[0mlayerlbl\u001b[0m\u001b[0;34m,\u001b[0m \u001b[0mtyp\u001b[0m\u001b[0;34m)\u001b[0m\u001b[0;34m:\u001b[0m\u001b[0;34m\u001b[0m\u001b[0;34m\u001b[0m\u001b[0m\n",
      "\u001b[0;32m~/Documents/repos/pyGSTi-CHP/pygsti/objects/model.py\u001b[0m in \u001b[0;36m_circuit_layer_operator\u001b[0;34m(self, layerlbl, typ)\u001b[0m\n\u001b[1;32m   1198\u001b[0m             \u001b[0;32mraise\u001b[0m \u001b[0mValueError\u001b[0m\u001b[0;34m(\u001b[0m\u001b[0;34m\"Cannot create operator for non-primitive circuit layer: %s\"\u001b[0m \u001b[0;34m%\u001b[0m \u001b[0mstr\u001b[0m\u001b[0;34m(\u001b[0m\u001b[0mlayerlbl\u001b[0m\u001b[0;34m)\u001b[0m\u001b[0;34m)\u001b[0m\u001b[0;34m\u001b[0m\u001b[0;34m\u001b[0m\u001b[0m\n\u001b[1;32m   1199\u001b[0m         \u001b[0;32melse\u001b[0m\u001b[0;34m:\u001b[0m\u001b[0;34m\u001b[0m\u001b[0;34m\u001b[0m\u001b[0m\n\u001b[0;32m-> 1200\u001b[0;31m             \u001b[0;32mreturn\u001b[0m \u001b[0mfns\u001b[0m\u001b[0;34m[\u001b[0m\u001b[0mtyp\u001b[0m\u001b[0;34m]\u001b[0m\u001b[0;34m(\u001b[0m\u001b[0mself\u001b[0m\u001b[0;34m,\u001b[0m \u001b[0mlayerlbl\u001b[0m\u001b[0;34m,\u001b[0m \u001b[0mself\u001b[0m\u001b[0;34m.\u001b[0m\u001b[0m_opcaches\u001b[0m\u001b[0;34m)\u001b[0m\u001b[0;34m\u001b[0m\u001b[0;34m\u001b[0m\u001b[0m\n\u001b[0m\u001b[1;32m   1201\u001b[0m \u001b[0;34m\u001b[0m\u001b[0m\n\u001b[1;32m   1202\u001b[0m     \u001b[0;32mdef\u001b[0m \u001b[0mcircuit_operator\u001b[0m\u001b[0;34m(\u001b[0m\u001b[0mself\u001b[0m\u001b[0;34m,\u001b[0m \u001b[0mcircuit\u001b[0m\u001b[0;34m)\u001b[0m\u001b[0;34m:\u001b[0m\u001b[0;34m\u001b[0m\u001b[0;34m\u001b[0m\u001b[0m\n",
      "\u001b[0;32m~/Documents/repos/pyGSTi-CHP/pygsti/objects/localnoisemodel.py\u001b[0m in \u001b[0;36mpovm_layer_operator\u001b[0;34m(self, model, layerlbl, caches)\u001b[0m\n\u001b[1;32m    946\u001b[0m             \u001b[0;31m# if so, create the marginalized POVM and add its effects to model.effect_blks['layers']\u001b[0m\u001b[0;34m\u001b[0m\u001b[0;34m\u001b[0m\u001b[0;34m\u001b[0m\u001b[0m\n\u001b[1;32m    947\u001b[0m             \u001b[0;32massert\u001b[0m\u001b[0;34m(\u001b[0m\u001b[0misinstance\u001b[0m\u001b[0;34m(\u001b[0m\u001b[0mlayerlbl\u001b[0m\u001b[0;34m,\u001b[0m \u001b[0m_Lbl\u001b[0m\u001b[0;34m)\u001b[0m\u001b[0;34m)\u001b[0m  \u001b[0;31m# Sanity check (REMOVE?)\u001b[0m\u001b[0;34m\u001b[0m\u001b[0;34m\u001b[0m\u001b[0m\n\u001b[0;32m--> 948\u001b[0;31m             \u001b[0mpovmName\u001b[0m \u001b[0;34m=\u001b[0m \u001b[0m_gt\u001b[0m\u001b[0;34m.\u001b[0m\u001b[0meffect_label_to_povm\u001b[0m\u001b[0;34m(\u001b[0m\u001b[0mlayerlbl\u001b[0m\u001b[0;34m)\u001b[0m\u001b[0;34m\u001b[0m\u001b[0;34m\u001b[0m\u001b[0m\n\u001b[0m\u001b[1;32m    949\u001b[0m             \u001b[0;32mif\u001b[0m \u001b[0mpovmName\u001b[0m \u001b[0;32min\u001b[0m \u001b[0mmodel\u001b[0m\u001b[0;34m.\u001b[0m\u001b[0mpovm_blks\u001b[0m\u001b[0;34m[\u001b[0m\u001b[0;34m'layers'\u001b[0m\u001b[0;34m]\u001b[0m\u001b[0;34m:\u001b[0m\u001b[0;34m\u001b[0m\u001b[0;34m\u001b[0m\u001b[0m\n\u001b[1;32m    950\u001b[0m                 \u001b[0;31m# implicit creation of marginalized POVMs whereby an existing POVM name is used with sslbls that\u001b[0m\u001b[0;34m\u001b[0m\u001b[0;34m\u001b[0m\u001b[0;34m\u001b[0m\u001b[0m\n",
      "\u001b[0;32m~/Documents/repos/pyGSTi-CHP/pygsti/tools/optools.py\u001b[0m in \u001b[0;36meffect_label_to_povm\u001b[0;34m(povm_and_effect_lbl)\u001b[0m\n\u001b[1;32m   3564\u001b[0m     \u001b[0;32melse\u001b[0m\u001b[0;34m:\u001b[0m\u001b[0;34m\u001b[0m\u001b[0;34m\u001b[0m\u001b[0m\n\u001b[1;32m   3565\u001b[0m         \u001b[0;32mif\u001b[0m \u001b[0misinstance\u001b[0m\u001b[0;34m(\u001b[0m\u001b[0mpovm_and_effect_lbl\u001b[0m\u001b[0;34m,\u001b[0m \u001b[0m_Label\u001b[0m\u001b[0;34m)\u001b[0m\u001b[0;34m:\u001b[0m\u001b[0;34m\u001b[0m\u001b[0;34m\u001b[0m\u001b[0m\n\u001b[0;32m-> 3566\u001b[0;31m             \u001b[0mlast_underscore\u001b[0m \u001b[0;34m=\u001b[0m \u001b[0mpovm_and_effect_lbl\u001b[0m\u001b[0;34m.\u001b[0m\u001b[0mname\u001b[0m\u001b[0;34m.\u001b[0m\u001b[0mrindex\u001b[0m\u001b[0;34m(\u001b[0m\u001b[0;34m'_'\u001b[0m\u001b[0;34m)\u001b[0m\u001b[0;34m\u001b[0m\u001b[0;34m\u001b[0m\u001b[0m\n\u001b[0m\u001b[1;32m   3567\u001b[0m             \u001b[0mpovm_name\u001b[0m \u001b[0;34m=\u001b[0m \u001b[0mpovm_and_effect_lbl\u001b[0m\u001b[0;34m.\u001b[0m\u001b[0mname\u001b[0m\u001b[0;34m[\u001b[0m\u001b[0;34m:\u001b[0m\u001b[0mlast_underscore\u001b[0m\u001b[0;34m]\u001b[0m\u001b[0;34m\u001b[0m\u001b[0;34m\u001b[0m\u001b[0m\n\u001b[1;32m   3568\u001b[0m         \u001b[0;32melse\u001b[0m\u001b[0;34m:\u001b[0m\u001b[0;34m\u001b[0m\u001b[0;34m\u001b[0m\u001b[0m\n",
      "\u001b[0;31mValueError\u001b[0m: substring not found"
     ]
    }
   ],
   "source": [
    "circ = pygsti.obj.Circuit([('Gx', 1), ('Gcnot', 1, 2)])\n",
    "ln_model_corr.probabilities(circ)"
   ]
  },
  {
   "cell_type": "code",
   "execution_count": null,
   "metadata": {},
   "outputs": [],
   "source": []
  }
 ],
 "metadata": {
  "kernelspec": {
   "display_name": "Python 3 (pygsti feature-chp-revive)",
   "language": "python",
   "name": "pygsti-chp"
  },
  "language_info": {
   "codemirror_mode": {
    "name": "ipython",
    "version": 3
   },
   "file_extension": ".py",
   "mimetype": "text/x-python",
   "name": "python",
   "nbconvert_exporter": "python",
   "pygments_lexer": "ipython3",
   "version": "3.8.7-final"
  }
 },
 "nbformat": 4,
 "nbformat_minor": 1
}