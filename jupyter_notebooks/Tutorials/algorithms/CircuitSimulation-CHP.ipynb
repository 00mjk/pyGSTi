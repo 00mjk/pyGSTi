{
 "cells": [
  {
   "cell_type": "markdown",
   "metadata": {},
   "source": [
    "# PyGSTi CHP Object Test"
   ]
  },
  {
   "cell_type": "code",
   "execution_count": 1,
   "metadata": {},
   "outputs": [
    {
     "output_type": "execute_result",
     "data": {
      "text/plain": [
       "'0.9.9.2.post715+gcde6e292.d20210315'"
      ]
     },
     "metadata": {},
     "execution_count": 1
    }
   ],
   "source": [
    "from __future__ import print_function #python 2 & 3 compatibility\n",
    "import pygsti\n",
    "pygsti.__version__"
   ]
  },
  {
   "cell_type": "code",
   "execution_count": 2,
   "metadata": {},
   "outputs": [],
   "source": [
    "from pygsti.objects.operation import CHPOp, StochasticCHPOp\n",
    "from pygsti.tools.internalgates import standard_gatenames_chp_conversions"
   ]
  },
  {
   "cell_type": "markdown",
   "metadata": {},
   "source": [
    "## CHPOp"
   ]
  },
  {
   "cell_type": "code",
   "execution_count": 3,
   "metadata": {},
   "outputs": [],
   "source": [
    "c = CHPOp(['h', 'c'])"
   ]
  },
  {
   "cell_type": "code",
   "execution_count": 4,
   "metadata": {},
   "outputs": [
    {
     "output_type": "stream",
     "name": "stdout",
     "text": [
      "CHP operation with labels: h,c\n"
     ]
    }
   ],
   "source": [
    "print(c)"
   ]
  },
  {
   "cell_type": "code",
   "execution_count": 5,
   "metadata": {},
   "outputs": [
    {
     "output_type": "stream",
     "name": "stdout",
     "text": [
      "CHP operation with labels: h,p,p,h\nh 0\np 0\np 0\nh 0\n\n"
     ]
    }
   ],
   "source": [
    "Gx = CHPOp('Gxpi')\n",
    "print(Gx)\n",
    "print(Gx.get_chp_str(0))"
   ]
  },
  {
   "cell_type": "code",
   "execution_count": 6,
   "metadata": {},
   "outputs": [
    {
     "output_type": "stream",
     "name": "stdout",
     "text": [
      "CHP operation with labels: p,h,p,p,h\n"
     ]
    }
   ],
   "source": [
    "print(CHPOp('Gc20'))"
   ]
  },
  {
   "cell_type": "code",
   "execution_count": 7,
   "metadata": {},
   "outputs": [
    {
     "output_type": "stream",
     "name": "stdout",
     "text": [
      "Stochastic CHP operation with labels and probabilities:\nh,p,p,h   : 0.4\np,h,p,p,h : 0.6\n\nh 0\np 0\np 0\nh 0\n\nh 0\np 0\np 0\nh 0\n\np 0\nh 0\np 0\np 0\nh 0\n\np 0\nh 0\np 0\np 0\nh 0\n\n"
     ]
    }
   ],
   "source": [
    "sc = StochasticCHPOp([('Gxpi', 0.4), ('Gc20', 0.6)])\n",
    "print(sc)\n",
    "print(sc.get_chp_str(0))\n",
    "print(sc.get_chp_str(0))\n",
    "print(sc.get_chp_str(0))\n",
    "print(sc.get_chp_str(0))"
   ]
  },
  {
   "source": [
    "## CHPForwardSimulator"
   ],
   "cell_type": "markdown",
   "metadata": {}
  },
  {
   "cell_type": "code",
   "execution_count": 8,
   "metadata": {},
   "outputs": [],
   "source": [
    "chpexe = '/Users/sserita/Documents/notebooks/pyGSTi/2021-CHP/chp'\n",
    "sim = pygsti.obj.CHPForwardSimulator(chpexe, shots=100)"
   ]
  },
  {
   "cell_type": "code",
   "execution_count": 9,
   "metadata": {},
   "outputs": [],
   "source": [
    "# TODO: This should be something else probably\n",
    "model = pygsti.construction.create_localnoise_model(num_qubits=2, gate_names=['Gxpi','Gypi','Gcnot'],\n",
    "                                                    simulator=sim)"
   ]
  },
  {
   "cell_type": "code",
   "execution_count": 10,
   "metadata": {},
   "outputs": [
    {
     "output_type": "execute_result",
     "data": {
      "text/plain": [
       "Circuit(Gxpi:0Gxpi:1@(0,1))"
      ]
     },
     "metadata": {},
     "execution_count": 10
    }
   ],
   "source": [
    "# THis is not the circuit actually run\n",
    "# Circuit is currently hardcoded to hadamard on qubit 0\n",
    "dummy_circ = pygsti.obj.Circuit([('Gxpi', 0), ('Gxpi', 1)])\n",
    "dummy_circ"
   ]
  },
  {
   "cell_type": "code",
   "execution_count": 11,
   "metadata": {},
   "outputs": [
    {
     "output_type": "execute_result",
     "data": {
      "text/plain": [
       "OutcomeLabelDict([(('00',), 0.22),\n",
       "                  (('01',), 0.0),\n",
       "                  (('10',), 0.78),\n",
       "                  (('11',), 0.0)])"
      ]
     },
     "metadata": {},
     "execution_count": 11
    }
   ],
   "source": [
    "# This usually gives widely variable probabilities for the Hadamard...\n",
    "model.probabilities(dummy_circ)"
   ]
  },
  {
   "cell_type": "code",
   "execution_count": null,
   "metadata": {},
   "outputs": [],
   "source": []
  }
 ],
 "metadata": {
  "kernelspec": {
   "display_name": "Python 3 (pygsti feature-chp-revive)",
   "language": "python",
   "name": "pygsti-chp"
  },
  "language_info": {
   "codemirror_mode": {
    "name": "ipython",
    "version": 3
   },
   "file_extension": ".py",
   "mimetype": "text/x-python",
   "name": "python",
   "nbconvert_exporter": "python",
   "pygments_lexer": "ipython3",
   "version": "3.8.7-final"
  }
 },
 "nbformat": 4,
 "nbformat_minor": 1
}