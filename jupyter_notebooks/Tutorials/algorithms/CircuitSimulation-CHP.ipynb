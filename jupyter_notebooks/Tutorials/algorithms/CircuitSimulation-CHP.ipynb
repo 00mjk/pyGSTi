{
 "cells": [
  {
   "cell_type": "markdown",
   "metadata": {},
   "source": [
    "# PyGSTi CHP Object Test"
   ]
  },
  {
   "cell_type": "code",
   "execution_count": 1,
   "metadata": {},
   "outputs": [
    {
     "output_type": "execute_result",
     "data": {
      "text/plain": [
       "'0.9.9.2.post715+gcde6e292.d20210315'"
      ]
     },
     "metadata": {},
     "execution_count": 1
    }
   ],
   "source": [
    "from __future__ import print_function #python 2 & 3 compatibility\n",
    "import pygsti\n",
    "pygsti.__version__"
   ]
  },
  {
   "cell_type": "code",
   "execution_count": 2,
   "metadata": {},
   "outputs": [],
   "source": [
    "from pygsti.objects.operation import CHPOp, StochasticCHPOp\n",
    "from pygsti.tools.internalgates import standard_gatenames_chp_conversions"
   ]
  },
  {
   "cell_type": "markdown",
   "metadata": {},
   "source": [
    "## CHPOp"
   ]
  },
  {
   "cell_type": "code",
   "execution_count": 3,
   "metadata": {},
   "outputs": [],
   "source": [
    "c = CHPOp(['h q0', 'c q1 q2'])"
   ]
  },
  {
   "cell_type": "code",
   "execution_count": 4,
   "metadata": {},
   "outputs": [
    {
     "output_type": "stream",
     "name": "stdout",
     "text": [
      "CHP operation with labels: h {q0}, c {q1} {q2}\nh 0\nc 3 4\n\n"
     ]
    }
   ],
   "source": [
    "print(c)\n",
    "print(c.get_chp_str(q0=0,q1=3,q2=4))"
   ]
  },
  {
   "cell_type": "code",
   "execution_count": 5,
   "metadata": {},
   "outputs": [
    {
     "output_type": "stream",
     "name": "stdout",
     "text": [
      "CHP operation with labels: h {q0}, p {q0}, p {q0}, h {q0}\nh 1\np 1\np 1\nh 1\n\n"
     ]
    }
   ],
   "source": [
    "Gx = CHPOp('Gxpi q0')\n",
    "print(Gx)\n",
    "print(Gx.get_chp_str(q0=1))"
   ]
  },
  {
   "cell_type": "code",
   "execution_count": 6,
   "metadata": {},
   "outputs": [
    {
     "output_type": "stream",
     "name": "stdout",
     "text": [
      "CHP operation with labels: p {q0}, h {q0}, p {q0}, p {q0}, h {q0}\n"
     ]
    }
   ],
   "source": [
    "print(CHPOp('Gc20 q0'))"
   ]
  },
  {
   "cell_type": "code",
   "execution_count": 7,
   "metadata": {},
   "outputs": [
    {
     "output_type": "stream",
     "name": "stdout",
     "text": [
      "Stochastic CHP operation with probabilities and labels:\n0.2: h {q0}, p {q0}, p {q0}, h {q0}\n0.8: p {q0}, h {q0}, p {q0}, p {q0}, h {q0}\n\np 0\nh 0\np 0\np 0\nh 0\n\np 0\nh 0\np 0\np 0\nh 0\n\nh 0\np 0\np 0\nh 0\n\np 0\nh 0\np 0\np 0\nh 0\n\n"
     ]
    }
   ],
   "source": [
    "sc = StochasticCHPOp(['Gxpi q0', 'Gc20 q0'], [0.2, 0.8], seed_or_state=2021)\n",
    "print(sc)\n",
    "print(sc.get_chp_str(q0=0))\n",
    "print(sc.get_chp_str(q0=0))\n",
    "print(sc.get_chp_str(q0=0))\n",
    "print(sc.get_chp_str(q0=0))"
   ]
  },
  {
   "source": [
    "## CHPForwardSimulator\n",
    "\n",
    "Trying with an Explicit Model"
   ],
   "cell_type": "markdown",
   "metadata": {}
  },
  {
   "cell_type": "code",
   "execution_count": 8,
   "metadata": {},
   "outputs": [],
   "source": [
    "chpexe = '/Users/sserita/Documents/notebooks/pyGSTi/2021-CHP/chp'\n",
    "sim = pygsti.obj.CHPForwardSimulator(chpexe, shots=100)"
   ]
  },
  {
   "cell_type": "code",
   "execution_count": 9,
   "metadata": {},
   "outputs": [
    {
     "output_type": "stream",
     "name": "stdout",
     "text": [
      "rho0 = CHP operation with labels: \n\nMdefault = Computational(Z)-basis POVM on 2 qubits and filter None\n\n\nGii = \nCHP operation with labels: \n\nGxi = \nCHP operation with labels: h {Q0}, p {Q0}, p {Q0}, h {Q0}\n\nGix = \nCHP operation with labels: h {Q1}, p {Q1}, p {Q1}, h {Q1}\n\nGyi = \nCHP operation with labels: p {Q0}, p {Q0}, h {Q0}, p {Q0}, p {Q0}, h {Q0}\n\n\n\n"
     ]
    }
   ],
   "source": [
    "#Initialize an empty Model object\n",
    "model = pygsti.objects.ExplicitOpModel(['Q0', 'Q1'], simulator=sim, evotype='chp')\n",
    "\n",
    "#Populate the Model object with states, effects, gates,\n",
    "model['rho0'] = CHPOp(['Gi Q0', 'Gi Q1'])\n",
    "model['Mdefault'] = pygsti.obj.ComputationalBasisPOVM(2, 'chp')\n",
    "\n",
    "model['Gii'] = CHPOp(['Gi Q0', 'Gi Q1'])\n",
    "model['Gxi'] = CHPOp(['Gxpi Q0', 'Gi Q1'])\n",
    "model['Gix'] = CHPOp(['Gi Q0', 'Gxpi Q1'])\n",
    "model['Gyi'] = CHPOp(['Gypi Q0', 'Gi Q1'])\n",
    "\n",
    "print(model)"
   ]
  },
  {
   "cell_type": "code",
   "execution_count": 15,
   "metadata": {},
   "outputs": [
    {
     "output_type": "execute_result",
     "data": {
      "text/plain": [
       "OutcomeLabelDict([(('00',), 0.0),\n",
       "                  (('01',), 1.0),\n",
       "                  (('10',), 0.0),\n",
       "                  (('11',), 0.0)])"
      ]
     },
     "metadata": {},
     "execution_count": 15
    }
   ],
   "source": [
    "circ = pygsti.obj.Circuit(['Gix'])\n",
    "model.probabilities(circ)"
   ]
  },
  {
   "cell_type": "code",
   "execution_count": 16,
   "metadata": {},
   "outputs": [
    {
     "output_type": "execute_result",
     "data": {
      "text/plain": [
       "OutcomeLabelDict([(('00',), 0.0),\n",
       "                  (('01',), 0.0),\n",
       "                  (('10',), 0.0),\n",
       "                  (('11',), 1.0)])"
      ]
     },
     "metadata": {},
     "execution_count": 16
    }
   ],
   "source": [
    "circ = pygsti.obj.Circuit(['Gix', 'Gxi'])\n",
    "model.probabilities(circ)"
   ]
  }
 ],
 "metadata": {
  "kernelspec": {
   "display_name": "Python 3 (pygsti feature-chp-revive)",
   "language": "python",
   "name": "pygsti-chp"
  },
  "language_info": {
   "codemirror_mode": {
    "name": "ipython",
    "version": 3
   },
   "file_extension": ".py",
   "mimetype": "text/x-python",
   "name": "python",
   "nbconvert_exporter": "python",
   "pygments_lexer": "ipython3",
   "version": "3.8.7-final"
  }
 },
 "nbformat": 4,
 "nbformat_minor": 1
}