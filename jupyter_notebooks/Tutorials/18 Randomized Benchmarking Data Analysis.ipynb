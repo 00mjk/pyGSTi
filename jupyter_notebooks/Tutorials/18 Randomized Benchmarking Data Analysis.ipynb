{
 "cells": [
  {
   "cell_type": "markdown",
   "metadata": {
    "deletable": true,
    "editable": true
   },
   "source": [
    "# Randomized Benchmarking Data Analysis"
   ]
  },
  {
   "cell_type": "code",
   "execution_count": 1,
   "metadata": {
    "collapsed": false,
    "deletable": true,
    "editable": true
   },
   "outputs": [
    {
     "name": "stderr",
     "output_type": "stream",
     "text": [
      "/Library/Frameworks/Python.framework/Versions/3.6/lib/python3.6/importlib/_bootstrap.py:219: RuntimeWarning: numpy.dtype size changed, may indicate binary incompatibility. Expected 96, got 88\n",
      "  return f(*args, **kwds)\n",
      "/Library/Frameworks/Python.framework/Versions/3.6/lib/python3.6/importlib/_bootstrap.py:219: RuntimeWarning: numpy.dtype size changed, may indicate binary incompatibility. Expected 96, got 88\n",
      "  return f(*args, **kwds)\n"
     ]
    }
   ],
   "source": [
    "from __future__ import print_function #python 2 & 3 compatibility\n",
    "import pygsti\n",
    "from pygsti.extras import rb"
   ]
  },
  {
   "cell_type": "markdown",
   "metadata": {},
   "source": [
    "## Generating some fake data to analyze\n",
    "To show how to do use the RB analysis, we'll generate some fake [\"Direct randomized benchmarking\"](https://arxiv.org/abs/1807.07975) (DRB) data. But note that the analysis is the same for DRB and Clifford RB: fitting observed average success probability (ASP) data to the exponential decay $P_m = A + Bp^m$, so it is not of much importance for this tutorial that the data is from DRB.\n",
    "\n",
    "We'll create 5-qubit DRB data, for an (imaginary) device containing 5 qubits with ring connectivity. We'll assume that the errors consist of local depolarizing after every gate with a gate and qubit independent depolarizing rate. I.e., ....\n",
    "\n",
    "Because these simulations are on 5 qubits, they take "
   ]
  },
  {
   "cell_type": "code",
   "execution_count": 2,
   "metadata": {
    "collapsed": true
   },
   "outputs": [],
   "source": [
    "runsims = True"
   ]
  },
  {
   "cell_type": "code",
   "execution_count": 3,
   "metadata": {
    "collapsed": false
   },
   "outputs": [],
   "source": [
    "if runsims:\n",
    "    \n",
    "    nQubits = 5 \n",
    "    qubit_labels = ['Q0','Q1','Q2','Q3','Q4'] \n",
    "    gate_names = ['Gi', 'Gxpi2', 'Gxmpi2', 'Gypi2', 'Gympi2', 'Gcphase'] \n",
    "    #availability = {'Gcphase':[('Q0','Q1'), ('Q1','Q2'), ('Q2','Q3'), \n",
    "    #                           ('Q3','Q0'),('Q4','Q0'), ('Q4','Q1'),\n",
    "    #                           ('Q4','Q2'),('Q4','Q3')]}\n",
    "    #\n",
    "    availability = {'Gcphase':[('Q0','Q1'), ('Q1','Q2'), ('Q2','Q3'), \n",
    "                               ('Q3','Q4'), ('Q4','Q0')]}\n",
    "    pspec = pygsti.obj.ProcessorSpec(nQubits, gate_names, availability=availability, \n",
    "                                     qubit_labels=qubit_labels)"
   ]
  },
  {
   "cell_type": "code",
   "execution_count": 4,
   "metadata": {
    "collapsed": false
   },
   "outputs": [],
   "source": [
    "if runsims: \n",
    "    \n",
    "    # The local error rate of every qubit\n",
    "    errorrate = 0.001\n",
    "    \n",
    "    # Put these into a dictionary, mapping the qubit label to the error rate (which is qubit-indep here)\n",
    "    gate_errorrate_dict = {q : errorrate for q in qubit_labels}\n",
    "    \n",
    "    # The error type : 'uniform' means locally uniform depolarization.\n",
    "    ptype = 'uniform'\n",
    "    \n",
    "    # This creates this error model in the format needed for the simulator\n",
    "    errormodel = rb.simulate.create_locally_gate_independent_pauli_error_model(pspec, gate_errorrate_dict,\n",
    "                                                                               ptype='uniform')\n",
    "    \n",
    "    # The DRB lengths\n",
    "    lengths = [0,10,20,30,50,100,200,400]\n",
    "\n",
    "    # The number of circuits per length\n",
    "    k = 30\n",
    "    \n",
    "    # The counts for each circuit. Below we use a basic stochastic-unravelling simulator,\n",
    "    # so the time taken is linear in the number of counts.\n",
    "    counts = 50"
   ]
  },
  {
   "cell_type": "markdown",
   "metadata": {},
   "source": [
    "Next, we run the simulations using `rb.simulate.rb_with_pauli_errors()`. This samples DRB circuits as specified (here using the default sampler as we leave it unspecified) and writes the data to file. This simulator is of only tangential interest to this tutorial, so is not explained any further here. See the docstrings for more information."
   ]
  },
  {
   "cell_type": "code",
   "execution_count": null,
   "metadata": {
    "collapsed": false
   },
   "outputs": [
    {
     "name": "stdout",
     "output_type": "stream",
     "text": [
      "- Sampling and simulating circuit 1 of 30 at each of 8 lengths\n",
      "  - Number of circuits complete = 1,2,3,4,5,6,7,8,\n",
      "- Sampling and simulating circuit 2 of 30 at each of 8 lengths\n",
      "  - Number of circuits complete = 1,2,3,4,5,6,7,8,\n",
      "- Sampling and simulating circuit 3 of 30 at each of 8 lengths\n",
      "  - Number of circuits complete = 1,2,3,4,5,6,7,8,\n",
      "- Sampling and simulating circuit 4 of 30 at each of 8 lengths\n",
      "  - Number of circuits complete = 1,2,3,4,5,6,7,"
     ]
    }
   ],
   "source": [
    "if runsims:\n",
    "    \n",
    "    filename = 'tutorial_files/MySimulatedDRBData.txt'\n",
    "    rbdata = rb.simulate.rb_with_pauli_errors(pspec, errormodel, lengths, k, counts, \n",
    "                                              rbtype='DRB', filename=filename, verbosity=1)"
   ]
  },
  {
   "cell_type": "markdown",
   "metadata": {},
   "source": [
    "## Import RB summary data\n",
    "Currently, `pyGSTi` only has functions for analyzing RB data that has already been summarized into a \"success counts\" format. So, if the data is stored in `DataSet` object, this has to be pre-analyzed..."
   ]
  },
  {
   "cell_type": "code",
   "execution_count": null,
   "metadata": {
    "collapsed": false
   },
   "outputs": [],
   "source": [
    "rbdata = rb.io.import_rb_summary_data('tutorial_files/MySimulatedDRBData.txt')"
   ]
  },
  {
   "cell_type": "markdown",
   "metadata": {},
   "source": [
    "## Implementing the analysis\n",
    "Once we have an `RBSummaryDataset` object, implement the analysis is simple. To run a \"standard practice\" analysis this data just needs to be passed to `rb.analysis.std_practice_analysis()`. This function implements an ordinary unweighted least-squares analysis, and estimates \"error bars\" on the extracted parameters using a standard non-parameteric boostrap. Note that this is *not* necessarily the best way to analyze RB data: there has recently been .... . But, we expect that this analysis method performs reasonably well in most circumstances.\n",
    "\n",
    "This function also has some useful optional arguments, which it is sometimes important to adjust:\n",
    "\n",
    "- .... `asymptote` ....\n",
    "- `rtype`. This is..."
   ]
  },
  {
   "cell_type": "code",
   "execution_count": null,
   "metadata": {
    "collapsed": true
   },
   "outputs": [],
   "source": [
    "rbresults = rb.analysis.std_practice_analysis(rbdata)"
   ]
  },
  {
   "cell_type": "markdown",
   "metadata": {},
   "source": [
    "And that's it.\n",
    "\n",
    "## Looking at the results\n",
    "\n",
    "The analysis returns an `RBResults` object, that encapsulates the analysis results and the original RB summary data.\n",
    "\n",
    "### Plotting the data and the fit\n",
    "\n",
    "Once we've done the analysis, we can plot the data and our fit to the data, using the `.plot()` method. By default, this plots the \"full\" fit, whenever this has been implemented (which it has when using `rb.analysis.std_practice_analysis`)"
   ]
  },
  {
   "cell_type": "code",
   "execution_count": null,
   "metadata": {
    "collapsed": false
   },
   "outputs": [],
   "source": [
    "# This requires matplotlib.\n",
    "rbresults.plot()"
   ]
  },
  {
   "cell_type": "markdown",
   "metadata": {},
   "source": [
    "### Getting at the estimates"
   ]
  },
  {
   "cell_type": "code",
   "execution_count": null,
   "metadata": {
    "collapsed": false
   },
   "outputs": [],
   "source": [
    "rbresults.fits.keys()"
   ]
  },
  {
   "cell_type": "code",
   "execution_count": null,
   "metadata": {
    "collapsed": false
   },
   "outputs": [],
   "source": [
    "rbresults.fits['full'].estimates"
   ]
  },
  {
   "cell_type": "code",
   "execution_count": null,
   "metadata": {
    "collapsed": false
   },
   "outputs": [],
   "source": [
    "rbresults.fits['full'].stds"
   ]
  },
  {
   "cell_type": "code",
   "execution_count": null,
   "metadata": {
    "collapsed": false
   },
   "outputs": [],
   "source": [
    "rbresults.fits['full'].bootstraps['r']"
   ]
  },
  {
   "cell_type": "markdown",
   "metadata": {},
   "source": [
    "Because we are doing this analysis on simulated data, we know what the DRB error rate should be according to the theory of DRB from [\"Direct randomized benchmarking for multi-qubit devices\"](https://arxiv.org/abs/1807.07975)."
   ]
  },
  {
   "cell_type": "code",
   "execution_count": null,
   "metadata": {
    "collapsed": false
   },
   "outputs": [],
   "source": [
    "theory_predicted_r = 1 - (1-0.001)**5\n",
    "observed_r = rbresults.fits['full'].estimates['r']\n",
    "observed_r_std = rbresults.fits['full'].stds['r']\n",
    "print(\"The theory-predicted r is: {}\".format(theory_predicted_r))\n",
    "print(\"The (simulated) observeed r is: {} +/- {}\".format(observed_r,observed_r_std))"
   ]
  }
 ],
 "metadata": {
  "kernelspec": {
   "display_name": "Python 3",
   "language": "python",
   "name": "python3"
  },
  "language_info": {
   "codemirror_mode": {
    "name": "ipython",
    "version": 3
   },
   "file_extension": ".py",
   "mimetype": "text/x-python",
   "name": "python",
   "nbconvert_exporter": "python",
   "pygments_lexer": "ipython3",
   "version": "3.6.3"
  }
 },
 "nbformat": 4,
 "nbformat_minor": 0
}
