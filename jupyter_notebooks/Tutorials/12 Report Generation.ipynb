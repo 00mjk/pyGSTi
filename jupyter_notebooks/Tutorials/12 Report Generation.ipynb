{
 "cells": [
  {
   "cell_type": "markdown",
   "metadata": {
    "deletable": true,
    "editable": true
   },
   "source": [
    "# Report Generation Tutorial\n",
    "\n",
    "PyGSTi is able to construct polished report documents, which provide high-level summaries as well as detailed analyses  of GST results.  Reports are intended to be quick and easy way of analyzing a GST estimate, and pyGSTi's report generation functions are specifically designed to interact with its high-level driver functions (see the high-level algorithms tutorial).  Currently there is only a single report generation function, `pygsti.report.create_general_report`, which takes one or more `Results` objects as input and produces an HTML file as output.  The HTML format allows the reports to include **interactive plots** and **switches**, making it easy to compare different types of analysis or data sets.  \n",
    "\n",
    "PyGSTi's \"general\" report creates a stand-alone HTML document which cannot run Python.  Thus, all the results displayed in the report must be pre-computed (in Python).  If you find yourself wanting to fiddle with things and feel that the general report is too static, please consider using a `Workspace` object (see following tutorials) within a Jupyter notebook, where you can intermix report tables/plots and Python.  Internally, `create_general_report` is just a canned routine which uses a `WorkSpace` object to generate various tables and plots and then inserts them into a HTML template.  \n",
    "\n",
    "**Note to veteran users:** PyGSTi has recently transitioned to producing HTML (rather than LaTeX/PDF) reports.  The way to generate such report is largely unchanged, with one important exception.  Previously, the `Results` object had various report-generation methods included within it.  We've found this is too restrictive, as we'd sometimes like to generate a report which utilizes the results from multiple runs of GST (to compare the, for instance).  Thus, the `Results` class is now just a container for a `DataSet` and its related `GateSet`s, `GatestringStructure`s, etc.  All of the report-generation capability is now housed in within separate report functions, which we now demonstrate.\n",
    "\n",
    "\n",
    "### Get some `Results`\n",
    "We start by performing GST using `do_long_sequence_gst`, as usual, to create a `Results` object (we could also have just loaded one from file)."
   ]
  },
  {
   "cell_type": "code",
   "execution_count": 1,
   "metadata": {
    "collapsed": false,
    "deletable": true,
    "editable": true
   },
   "outputs": [
    {
     "name": "stdout",
     "output_type": "stream",
     "text": [
      "Loading from cache file: tutorial_files/Example_Dataset.txt.cache\n",
      "--- Gate Sequence Creation ---\n",
      " 1201 sequences created\n",
      " Dataset has 3121 entries: 1201 utilized, 0 requested sequences were missing\n",
      "--- LGST ---\n",
      "  Singular values of I_tilde (truncating to first 4 of 6) = \n",
      "  4.24503058336\n",
      "  1.17971057338\n",
      "  0.956497891831\n",
      "  0.942353526676\n",
      "  0.0470890214285\n",
      "  0.0153149329552\n",
      "  \n",
      "  Singular values of target I_tilde (truncating to first 4 of 6) = \n",
      "  4.24264068712\n",
      "  1.41421356237\n",
      "  1.41421356237\n",
      "  1.41421356237\n",
      "  3.03015102482e-16\n",
      "  7.09307430818e-17\n",
      "  \n",
      "    Resulting gate set:\n",
      "    \n",
      "    rho0 =    0.7071  -0.0302   0.0396   0.7480\n",
      "    \n",
      "    \n",
      "    E0 =    0.7264  -0.0062   0.0037   0.6492\n",
      "    \n",
      "    \n",
      "    Gi = \n",
      "       1.0000        0        0        0\n",
      "       0.0094   0.9238   0.0542  -0.0155\n",
      "       0.0285  -0.0149   0.9021   0.0200\n",
      "      -0.0142   0.0280   0.0009   0.9057\n",
      "    \n",
      "    \n",
      "    Gx = \n",
      "       1.0000        0        0        0\n",
      "       0.0064   0.9053   0.0281  -0.0044\n",
      "      -0.0006   0.0215  -0.0471  -0.9983\n",
      "      -0.0692  -0.0056   0.8095   0.0090\n",
      "    \n",
      "    \n",
      "    Gy = \n",
      "       1.0000        0        0        0\n",
      "      -0.0152  -0.0245   0.0379   0.9906\n",
      "       0.0076  -0.0126   0.8876  -0.0257\n",
      "      -0.0771  -0.8084  -0.0476   0.0210\n",
      "    \n",
      "    \n",
      "    \n",
      "--- Iterative MLGST: Iter 1 of 5  92 gate strings ---: \n",
      "  --- Minimum Chi^2 GST ---\n",
      "  Created evaluation tree with 1 subtrees.  Will divide 1 procs into 1 (subtree-processing)\n",
      "   groups of ~1 procs each, to distribute over 43 params (taken as 1 param groups of ~43 params).\n",
      "--- Outer Iter 0: norm_f = 62.7837, mu=0\n",
      "--- Outer Iter 1: norm_f = 42.2733, mu=172.193\n",
      "--- Outer Iter 2: norm_f = 41.0782, mu=57.3976\n",
      "--- Outer Iter 3: norm_f = 41.0771, mu=19.1325\n",
      "    Least squares message = Both actual and predicted relative reductions in the sum of squares are at most 1e-06\n",
      "  Sum of Chi^2 = 41.0771 (92 data params - 31 model params = expected mean of 61; p-value = 0.976519)\n",
      "  Completed in 0.1s\n",
      "  2*Delta(log(L)) = 41.2329\n",
      "  Iteration 1 took 0.1s\n",
      "  \n",
      "--- Iterative MLGST: Iter 2 of 5  168 gate strings ---: \n",
      "  --- Minimum Chi^2 GST ---\n",
      "  Created evaluation tree with 1 subtrees.  Will divide 1 procs into 1 (subtree-processing)\n",
      "   groups of ~1 procs each, to distribute over 43 params (taken as 1 param groups of ~43 params).\n",
      "--- Outer Iter 0: norm_f = 230.891, mu=0\n",
      "--- Outer Iter 1: norm_f = 135.568, mu=1805.64\n",
      "--- Outer Iter 2: norm_f = 130.54, mu=601.881\n",
      "--- Outer Iter 3: norm_f = 130.173, mu=200.627\n",
      "--- Outer Iter 4: norm_f = 130.16, mu=66.8756\n",
      "    Least squares message = Both actual and predicted relative reductions in the sum of squares are at most 1e-06\n",
      "  Sum of Chi^2 = 130.16 (168 data params - 31 model params = expected mean of 137; p-value = 0.64796)\n",
      "  Completed in 0.1s\n",
      "  2*Delta(log(L)) = 130.52\n",
      "  Iteration 2 took 0.1s\n",
      "  \n",
      "--- Iterative MLGST: Iter 3 of 5  441 gate strings ---: \n",
      "  --- Minimum Chi^2 GST ---\n",
      "  Created evaluation tree with 1 subtrees.  Will divide 1 procs into 1 (subtree-processing)\n",
      "   groups of ~1 procs each, to distribute over 43 params (taken as 1 param groups of ~43 params).\n",
      "--- Outer Iter 0: norm_f = 532.291, mu=0\n",
      "--- Outer Iter 1: norm_f = 431.073, mu=2007.19\n",
      "--- Outer Iter 2: norm_f = 429.308, mu=669.065\n",
      "--- Outer Iter 3: norm_f = 429.293, mu=223.022\n",
      "    Least squares message = Both actual and predicted relative reductions in the sum of squares are at most 1e-06\n",
      "  Sum of Chi^2 = 429.293 (441 data params - 31 model params = expected mean of 410; p-value = 0.246157)\n",
      "  Completed in 0.1s\n",
      "  2*Delta(log(L)) = 429.948\n",
      "  Iteration 3 took 0.2s\n",
      "  \n",
      "--- Iterative MLGST: Iter 4 of 5  817 gate strings ---: \n",
      "  --- Minimum Chi^2 GST ---\n",
      "  Created evaluation tree with 1 subtrees.  Will divide 1 procs into 1 (subtree-processing)\n",
      "   groups of ~1 procs each, to distribute over 43 params (taken as 1 param groups of ~43 params).\n",
      "--- Outer Iter 0: norm_f = 807.681, mu=0\n",
      "--- Outer Iter 1: norm_f = 776.283, mu=2270.79\n",
      "--- Outer Iter 2: norm_f = 776.117, mu=756.929\n",
      "    Least squares message = Both actual and predicted relative reductions in the sum of squares are at most 1e-06\n",
      "  Sum of Chi^2 = 776.117 (817 data params - 31 model params = expected mean of 786; p-value = 0.59231)\n",
      "  Completed in 0.2s\n",
      "  2*Delta(log(L)) = 777.474\n",
      "  Iteration 4 took 0.3s\n",
      "  \n",
      "--- Iterative MLGST: Iter 5 of 5  1201 gate strings ---: \n",
      "  --- Minimum Chi^2 GST ---\n",
      "  Created evaluation tree with 1 subtrees.  Will divide 1 procs into 1 (subtree-processing)\n",
      "   groups of ~1 procs each, to distribute over 43 params (taken as 1 param groups of ~43 params).\n",
      "--- Outer Iter 0: norm_f = 1169.62, mu=0\n",
      "--- Outer Iter 1: norm_f = 1156.62, mu=2525.81\n",
      "--- Outer Iter 2: norm_f = 1156.54, mu=841.936\n",
      "    Least squares message = Both actual and predicted relative reductions in the sum of squares are at most 1e-06\n",
      "  Sum of Chi^2 = 1156.54 (1201 data params - 31 model params = expected mean of 1170; p-value = 0.604685)\n",
      "  Completed in 0.3s\n",
      "  2*Delta(log(L)) = 1158.12\n",
      "  Iteration 5 took 0.4s\n",
      "  \n",
      "  Switching to ML objective (last iteration)\n",
      "  --- MLGST ---\n",
      "  Created evaluation tree with 1 subtrees.  Will divide 1 procs into 1 (subtree-processing)\n",
      "   groups of ~1 procs each, to distribute over 43 params (taken as 1 param groups of ~43 params).\n",
      "--- Outer Iter 0: norm_f = 579.06, mu=0\n",
      "--- Outer Iter 1: norm_f = 579.034, mu=4401.93\n",
      "    Least squares message = Relative change in |x| is at most 1e-06\n",
      "    Maximum log(L) = 579.034 below upper bound of -2.00032e+06\n",
      "      2*Delta(log(L)) = 1158.07 (1201 data params - 31 model params = expected mean of 1170; p-value = 0.59239)\n",
      "    Completed in 0.3s\n",
      "  2*Delta(log(L)) = 1158.07\n",
      "  Final MLGST took 0.3s\n",
      "  \n",
      "Iterative MLGST Total Time: 1.3s\n"
     ]
    }
   ],
   "source": [
    "import pygsti\n",
    "from pygsti.construction import std1Q_XYI\n",
    "\n",
    "gs_target = std1Q_XYI.gs_target\n",
    "fiducials = std1Q_XYI.fiducials\n",
    "germs = std1Q_XYI.germs\n",
    "maxLengths = [1,2,4,8,16]\n",
    "ds = pygsti.io.load_dataset(\"tutorial_files/Example_Dataset.txt\", cache=True)\n",
    "\n",
    "#Run GST\n",
    "gs_target.set_all_parameterizations(\"TP\") #TP-constrained\n",
    "results = pygsti.do_long_sequence_gst(ds, gs_target, fiducials, fiducials, germs,\n",
    "                                      maxLengths, verbosity=3)"
   ]
  },
  {
   "cell_type": "markdown",
   "metadata": {
    "deletable": true,
    "editable": true
   },
   "source": [
    "### Make the reports\n",
    "Now that we have `results`, we use the methods within `pygsti.report.factory` to generate reports.  These reports are HTML pages that you can open in your browser or email to your friends.  Setting `auto_open=True` makes the finished report open in your web browser automatically.  "
   ]
  },
  {
   "cell_type": "code",
   "execution_count": 2,
   "metadata": {
    "collapsed": false,
    "deletable": true,
    "editable": true
   },
   "outputs": [
    {
     "name": "stdout",
     "output_type": "stream",
     "text": [
      "*** Creating workspace ***\n",
      "*** Generating switchboard tables ***\n",
      "    \n",
      "--- Hessian Projector Optimization for gate CIs (L-BFGS-B) ---\n",
      "   10s           0.0281509441\n",
      "   15s           0.0278846005\n",
      "   20s           0.0278591627\n",
      "   25s           0.0278428572\n",
      "   30s           0.0278372063\n",
      "   35s           0.0278361588\n",
      "   40s           0.0278347895\n",
      "   45s           0.0278341597\n",
      "  The resulting min sqrt(sum(gateCIs**2)): 0.0278342\n",
      "  targetSpamBriefTable                          took 0.000859 seconds\n",
      "  targetGatesBoxTable                           took 0.014751 seconds\n",
      "  datasetOverviewTable                          took 0.059289 seconds\n",
      "  bestGatesetSpamParametersTable                took 0.007657 seconds\n",
      "  bestGatesetSpamBriefTable                     took 0.001428 seconds\n",
      "  bestGatesetSpamVsTargetTable                  took 0.014718 seconds\n",
      "  bestGatesetGaugeOptParamsTable                took 0.000245 seconds\n",
      "  bestGatesetGatesBoxTable                      took 0.026808 seconds\n",
      "  bestGatesetChoiEvalTable                      took 0.076438 seconds\n",
      "  bestGatesetDecompTable                        took 5.743186 seconds\n",
      "  bestGatesetEvalTable                          took 0.376802 seconds\n",
      "  bestGatesetRelEvalTable                       took 0.000894 seconds\n",
      "  bestGatesetVsTargetTable                      took 0.805988 seconds\n",
      "  bestGatesVsTargetTable                        took 1.438057 seconds\n",
      "  bestGatesVsTargetTable_sum                    took 0.000189 seconds\n",
      "  bestGatesetErrGenBoxTable                     took 0.650525 seconds\n",
      "  metadataTable                                 took 0.001038 seconds\n",
      "  softwareEnvTable                              took 0.050017 seconds\n",
      "  fiducialListTable                             took 0.000855 seconds\n",
      "  prepStrListTable                              took 0.000312 seconds\n",
      "  effectStrListTable                            took 0.000176 seconds\n",
      "  germList2ColTable                             took 0.000204 seconds\n",
      "  progressTable                                 took 0.136577 seconds\n",
      "*** Generating plots ***\n",
      "  gramBarPlot                                   took 0.011193 seconds\n",
      "  progressBarPlot                               took 0.07144 seconds\n",
      "  dataScalingColorBoxPlot                       took 0.041551 seconds\n",
      "  bestEstimateColorBoxPlotPages                 took 0.523285 seconds\n",
      "  bestEstimateColorScatterPlot                  took 1.442856 seconds\n",
      "*** Merging into template file ***\n",
      "Output written to tutorial_files/exampleGenReport.html\n",
      "Opening tutorial_files/exampleGenReport.html...\n"
     ]
    },
    {
     "data": {
      "text/plain": [
       "<pygsti.report.workspace.Workspace at 0x101131780>"
      ]
     },
     "execution_count": 2,
     "metadata": {},
     "output_type": "execute_result"
    }
   ],
   "source": [
    "pygsti.report.create_general_report(results, \"tutorial_files/exampleGenReport.html\", \n",
    "                                    title=\"GST Example Report\", confidenceLevel=95, verbosity=2, auto_open=True)"
   ]
  },
  {
   "cell_type": "markdown",
   "metadata": {
    "deletable": true,
    "editable": true
   },
   "source": [
    "There are several features of the report worth noting:\n",
    "1. Moving your mouse over to the far left edge reveals a navigation menu.  Use this menu to change to a different \"tab\" (section) of the report.\n",
    "2. These HTML reports are created quickly but require some time to load within a browser.  This is because the typsetting and figure rendering is done within your browser, rather than up front (by `pdflatex` in earlier versions of pyGSTi).\n",
    "3. The plots are interactive - a primary advantage of the HTML format.\n",
    "4. Plots that show up as a big PyGSTi **pig icon** are those whose rendering has been deferred because they can take a little while to display. **The pig icon can be clicked to trigger rendering of these plots**.\n",
    "\n",
    "Next, let's analyze the same data two different ways: with and without the TP-constraint (i.e. whether the gates *must* be trace-preserving) and furthermore gauge optmimize each case using several different SPAM-weights.  In each case we'll call `do_long_sequence_gst` with `gaugeOptParams=False`, so that no gauge optimization is done, and then perform several gauge optimizations separately and add these to the `Results` object via its `add_gaugeoptimized` function."
   ]
  },
  {
   "cell_type": "code",
   "execution_count": 3,
   "metadata": {
    "collapsed": false,
    "deletable": true,
    "editable": true
   },
   "outputs": [
    {
     "name": "stdout",
     "output_type": "stream",
     "text": [
      "--- Gate Sequence Creation ---\n",
      " 1201 sequences created\n",
      " Dataset has 3121 entries: 1201 utilized, 0 requested sequences were missing\n",
      "--- LGST ---\n",
      "--- Iterative MLGST: [##################################################] 100.0%  1201 gate strings ---\n",
      "Iterative MLGST Total Time: 1.1s\n"
     ]
    }
   ],
   "source": [
    "#Case1: TP-constrained GST\n",
    "tpTarget = gs_target.copy()\n",
    "tpTarget.set_all_parameterizations(\"TP\")\n",
    "results_tp = pygsti.do_long_sequence_gst(ds, tpTarget, fiducials, fiducials, germs,\n",
    "                                      maxLengths, gaugeOptParams=False, verbosity=1)\n",
    "\n",
    "#Gauge optimize\n",
    "est = results_tp.estimates['default']\n",
    "gsFinal = est.gatesets['final iteration estimate']\n",
    "gsTarget = est.gatesets['target']\n",
    "for spamWt in [1e-4,1e-2,1.0]:\n",
    "    gs = pygsti.gaugeopt_to_target(gsFinal,gsTarget,{'gates':1, 'spam':spamWt})\n",
    "    est.add_gaugeoptimized({'itemWeights': {'gates':1, 'spam':spamWt}}, gs, \"Spam %g\" % spamWt)"
   ]
  },
  {
   "cell_type": "code",
   "execution_count": 4,
   "metadata": {
    "collapsed": false,
    "deletable": true,
    "editable": true
   },
   "outputs": [
    {
     "name": "stdout",
     "output_type": "stream",
     "text": [
      "--- Gate Sequence Creation ---\n",
      " 1201 sequences created\n",
      " Dataset has 3121 entries: 1201 utilized, 0 requested sequences were missing\n",
      "--- LGST ---\n",
      "--- Iterative MLGST: [##################################################] 100.0%  1201 gate strings ---\n",
      "Iterative MLGST Total Time: 1.7s\n"
     ]
    }
   ],
   "source": [
    "#Case2: \"Full\" GST\n",
    "fullTarget = gs_target.copy()\n",
    "fullTarget.set_all_parameterizations(\"full\")\n",
    "results_full = pygsti.do_long_sequence_gst(ds, fullTarget, fiducials, fiducials, germs,\n",
    "                                      maxLengths, gaugeOptParams=False, verbosity=1)\n",
    "\n",
    "#Gauge optimize\n",
    "est = results_full.estimates['default']\n",
    "gsFinal = est.gatesets['final iteration estimate']\n",
    "gsTarget = est.gatesets['target']\n",
    "for spamWt in [1e-4,1e-2,1.0]:\n",
    "    gs = pygsti.gaugeopt_to_target(gsFinal,gsTarget,{'gates':1, 'spam':spamWt})\n",
    "    est.add_gaugeoptimized({'itemWeights': {'gates':1, 'spam':spamWt}}, gs, \"Spam %g\" % spamWt)"
   ]
  },
  {
   "cell_type": "markdown",
   "metadata": {
    "deletable": true,
    "editable": true
   },
   "source": [
    "We'll now call the *same* `create_general_report` function but this time instead of passing a single `Results` object as the first argument we'll pass a *dictionary* of them.  This will result in a report that includes switches to select which case (\"TP\" or \"Full\") as well as which gauge optimization to display output quantities for."
   ]
  },
  {
   "cell_type": "code",
   "execution_count": 5,
   "metadata": {
    "collapsed": false,
    "deletable": true,
    "editable": true,
    "scrolled": true
   },
   "outputs": [
    {
     "name": "stdout",
     "output_type": "stream",
     "text": [
      "*** Creating workspace ***\n",
      "*** Generating switchboard tables ***\n",
      "  targetSpamBriefTable                          took 0.001612 seconds\n",
      "  targetGatesBoxTable                           took 0.029592 seconds\n",
      "  datasetOverviewTable                          took 0.068667 seconds\n",
      "  bestGatesetSpamParametersTable                took 0.002909 seconds\n",
      "  bestGatesetSpamBriefTable                     took 0.007615 seconds\n",
      "  bestGatesetSpamVsTargetTable                  took 0.014896 seconds\n",
      "  bestGatesetGaugeOptParamsTable                took 0.00044 seconds\n",
      "  bestGatesetGatesBoxTable                      took 0.088205 seconds\n",
      "  bestGatesetChoiEvalTable                      took 0.039067 seconds\n",
      "  bestGatesetDecompTable                        took 0.042378 seconds\n",
      "  bestGatesetEvalTable                          took 0.095441 seconds\n",
      "  bestGatesetRelEvalTable                       took 0.00445 seconds\n",
      "Predicted RB decay parameter / error rate may be unreliable:\n",
      "Gateset is not (approximately) trace-preserving.\n",
      "Predicted RB decay parameter / error rate may be unreliable:\n",
      "Gateset is not (approximately) trace-preserving.\n",
      "Predicted RB decay parameter / error rate may be unreliable:\n",
      "Gateset is not (approximately) trace-preserving.\n",
      "  bestGatesetVsTargetTable                      took 0.051864 seconds\n",
      "  bestGatesVsTargetTable                        took 0.695493 seconds\n",
      "  bestGatesVsTargetTable_sum                    took 0.000491 seconds\n",
      "  bestGatesetErrGenBoxTable                     took 0.341135 seconds\n",
      "  metadataTable                                 took 0.003223 seconds\n",
      "  softwareEnvTable                              took 0.000392 seconds\n",
      "  fiducialListTable                             took 0.000518 seconds\n",
      "  prepStrListTable                              took 0.000333 seconds\n",
      "  effectStrListTable                            took 0.000248 seconds\n",
      "  germList2ColTable                             took 0.000314 seconds\n",
      "  progressTable                                 took 0.236262 seconds\n",
      "*** Generating plots ***\n",
      "  gramBarPlot                                   took 0.019706 seconds\n",
      "  progressBarPlot                               took 0.133588 seconds\n",
      "  dataScalingColorBoxPlot                       took 0.083694 seconds\n",
      "  bestEstimateColorBoxPlotPages                 took 1.050183 seconds\n",
      "  bestEstimateColorScatterPlot                  took 2.888054 seconds\n",
      "  dsComparisonSummary                           took 0.007402 seconds\n",
      "  dsComparisonHistogram                         took 0.018222 seconds\n",
      "  dsComparisonBoxPlot                           took 0.748796 seconds\n",
      "*** Merging into template file ***\n",
      "    Rendering bestGatesetDecompTable\n",
      "    Rendering fiducialListTable\n",
      "    Rendering bestGatesetEvalTable\n",
      "    Rendering dsComparisonSummary\n",
      "    Rendering progressTable\n",
      "    Rendering targetGatesBoxTable\n",
      "    Rendering bestGatesetErrGenBoxTable\n",
      "    Rendering bestGatesetSpamVsTargetTable\n",
      "    Rendering dscmpSwitchboard\n",
      "    Rendering progressBarPlot\n",
      "    Rendering bestEstimateColorBoxPlotPages\n",
      "    Rendering dsComparisonHistogram\n",
      "    Rendering bestGatesetSpamBriefTable\n",
      "    Rendering effectStrListTable\n",
      "    Rendering bestGatesetGatesBoxTable\n",
      "    Rendering bestGatesetGaugeOptParamsTable\n",
      "    Rendering goSwitchboard2\n",
      "    Rendering datasetOverviewTable\n",
      "    Rendering germList2ColTable\n",
      "    Rendering bestGatesVsTargetTable_sum\n",
      "    Rendering maxLSwitchboard1\n",
      "    Rendering bestEstimateColorScatterPlot\n",
      "    Rendering bestGatesetChoiEvalTable\n",
      "    Rendering bestGatesVsTargetTable\n",
      "    Rendering dataScalingColorBoxPlot\n",
      "    Rendering prepStrListTable\n",
      "    Rendering targetSpamBriefTable\n",
      "    Rendering softwareEnvTable\n",
      "    Rendering dsComparisonBoxPlot\n",
      "    Rendering bestGatesetSpamParametersTable\n",
      "    Rendering topSwitchboard\n",
      "    Rendering bestGatesetVsTargetTable\n",
      "    Rendering metadataTable\n",
      "    Rendering bestGatesetRelEvalTable\n",
      "    Rendering goSwitchboard1\n",
      "    Rendering gramBarPlot\n",
      "Output written to tutorial_files/exampleMultiGenReport.html\n",
      "Opening tutorial_files/exampleMultiGenReport.html...\n"
     ]
    }
   ],
   "source": [
    "ws = pygsti.report.create_general_report({'TP': results_tp, \"Full\": results_full},\n",
    "                                         \"tutorial_files/exampleMultiGenReport.html\",\n",
    "                                         title=\"Example Multi-Dataset Report\", \n",
    "                                         verbosity=3, auto_open=True)"
   ]
  },
  {
   "cell_type": "markdown",
   "metadata": {
    "collapsed": true,
    "deletable": true,
    "editable": true
   },
   "source": [
    "In the above call we capture the return value in the variable `ws` - a `Workspace` object.  PyGSTi's `Workspace` objects function as both a factory for figures and tables as well as a smart cache for computed values.  Within `create_general_report` a `Workspace` object is created and used to create all the figures in the report.  As an intended side effect, each of these figures is cached, along with some of the intermediate results used to create it.  As we'll see below, a `Workspace` can also be specified as input to `create_general_report`, allowing it to utilize previously cached quantities.\n",
    "\n",
    "**Note to veteran users:** Other report formats such as **`beamer`-class PDF presentation and Powerpoint presentation have been dropped from pyGSTi**.  These presentation formats were rarely used and moreover we feel that the HTML format is able to provide all of the functionality that was present in these discontinued formats."
   ]
  },
  {
   "cell_type": "markdown",
   "metadata": {
    "deletable": true,
    "editable": true
   },
   "source": [
    "### Sharing with others\n",
    "The report factory functions may be passed a boolean `connected` argument to specify whether online (`True`) or local (`False`) resources should be used by the generated report HTML files.  If `connected=False` (the default, and so what we used in this notebook), then the HTML files rely on the presence of an `offline` folder being in their directory to operate correctly.  The offline folder is automatically generated for you when you call any of the report factory functions, so when viewing reports on the same machine that generates them you typically don't need to worry about it.  \n",
    "\n",
    "However, *sharing offline reports* (created with `connected=False`) requires that the recipient has pyGSTi's `offline` folder in the same diretory as any report HTML files.  To facilitate sharing, you can get a zipped copy of the offline folder by calling `create_offline_zip` like this:"
   ]
  },
  {
   "cell_type": "code",
   "execution_count": 6,
   "metadata": {
    "collapsed": false,
    "deletable": true,
    "editable": true
   },
   "outputs": [],
   "source": [
    "pygsti.report.create_offline_zip(\"tutorial_files/\")\n",
    "  #creates .../tutorial_files/offline.zip"
   ]
  },
  {
   "cell_type": "markdown",
   "metadata": {
    "collapsed": true,
    "deletable": true,
    "editable": true
   },
   "source": [
    "If you use `connected=True`, then there's no need for the offline folder -- but you'll need to have an internet connection to load the HTML file."
   ]
  },
  {
   "cell_type": "markdown",
   "metadata": {
    "deletable": true,
    "editable": true
   },
   "source": [
    "### Report HTML files too large?\n",
    "Sometimes when you're dealing with a large data set or many different estimates and/or gauge optimizations, the report file size becomes unwieldy (100+ MB HTML files!).  This is due to the reports containing the entire data set and various computed values for *each* experiment that was performed - for each estimate and each data set that is being reported.  To help mitigate this, `create_general_report` accepts the `brief` argument, which, when set to `True` (its default is `False`) omits the most data-hungry figures and tables of the report.  This results in a report in which the omitted figures and tables are replaced with \"**BLANK**\", and an HTML file size which is significantly smaller. "
   ]
  },
  {
   "cell_type": "code",
   "execution_count": 7,
   "metadata": {
    "collapsed": false,
    "deletable": true,
    "editable": true
   },
   "outputs": [
    {
     "name": "stdout",
     "output_type": "stream",
     "text": [
      "*** Creating workspace ***\n",
      "*** Generating switchboard tables ***\n",
      "  targetSpamBriefTable                          took 0.000303 seconds\n",
      "  targetGatesBoxTable                           took 0.00023 seconds\n",
      "  datasetOverviewTable                          took 0.000226 seconds\n",
      "  bestGatesetSpamParametersTable                took 0.000443 seconds\n",
      "  bestGatesetSpamBriefTable                     took 0.000702 seconds\n",
      "  bestGatesetSpamVsTargetTable                  took 0.000521 seconds\n",
      "  bestGatesetGaugeOptParamsTable                took 0.000341 seconds\n",
      "  bestGatesetGatesBoxTable                      took 0.001084 seconds\n",
      "  bestGatesetChoiEvalTable                      took 0.000569 seconds\n",
      "  bestGatesetDecompTable                        took 0.000492 seconds\n",
      "  bestGatesetEvalTable                          took 0.001064 seconds\n",
      "  bestGatesetRelEvalTable                       took 0.000549 seconds\n",
      "  bestGatesetVsTargetTable                      took 0.000531 seconds\n",
      "  bestGatesVsTargetTable                        took 0.000466 seconds\n",
      "  bestGatesVsTargetTable_sum                    took 0.000447 seconds\n",
      "  bestGatesetErrGenBoxTable                     took 0.000606 seconds\n",
      "  metadataTable                                 took 0.002138 seconds\n",
      "  softwareEnvTable                              took 9.3e-05 seconds\n",
      "  fiducialListTable                             took 0.000358 seconds\n",
      "  prepStrListTable                              took 0.000236 seconds\n",
      "  effectStrListTable                            took 0.000255 seconds\n",
      "  germList2ColTable                             took 0.000322 seconds\n",
      "  progressTable                                 took 0.000646 seconds\n",
      "*** Generating plots ***\n",
      "  gramBarPlot                                   took 0.000515 seconds\n",
      "  progressBarPlot                               took 0.00064 seconds\n",
      "  dsComparisonSummary                           took 0.008136 seconds\n",
      "  dsComparisonHistogram                         took 0.015856 seconds\n",
      "*** Merging into template file ***\n",
      "    Rendering bestGatesetDecompTable\n",
      "    Rendering fiducialListTable\n",
      "    Rendering bestGatesetEvalTable\n",
      "    Rendering dsComparisonSummary\n",
      "    Rendering progressTable\n",
      "    Rendering targetGatesBoxTable\n",
      "    Rendering bestGatesetErrGenBoxTable\n",
      "    Rendering bestGatesetSpamVsTargetTable\n",
      "    Rendering dscmpSwitchboard\n",
      "    Rendering progressBarPlot\n",
      "    Rendering targetSpamBriefTable\n",
      "    Rendering dsComparisonHistogram\n",
      "    Rendering bestGatesetSpamBriefTable\n",
      "    Rendering effectStrListTable\n",
      "    Rendering bestGatesetGatesBoxTable\n",
      "    Rendering bestGatesetGaugeOptParamsTable\n",
      "    Rendering goSwitchboard2\n",
      "    Rendering datasetOverviewTable\n",
      "    Rendering germList2ColTable\n",
      "    Rendering bestGatesVsTargetTable_sum\n",
      "    Rendering maxLSwitchboard1\n",
      "    Rendering bestGatesetChoiEvalTable\n",
      "    Rendering bestGatesVsTargetTable\n",
      "    Rendering prepStrListTable\n",
      "    Rendering softwareEnvTable\n",
      "    Rendering bestGatesetSpamParametersTable\n",
      "    Rendering topSwitchboard\n",
      "    Rendering bestGatesetVsTargetTable\n",
      "    Rendering metadataTable\n",
      "    Rendering bestGatesetRelEvalTable\n",
      "    Rendering goSwitchboard1\n",
      "    Rendering gramBarPlot\n",
      "Output written to tutorial_files/exampleMultiGenBriefReport.html\n",
      "Opening tutorial_files/exampleMultiGenBriefReport.html...\n"
     ]
    },
    {
     "data": {
      "text/plain": [
       "<pygsti.report.workspace.Workspace at 0x10d2d9f60>"
      ]
     },
     "execution_count": 7,
     "metadata": {},
     "output_type": "execute_result"
    }
   ],
   "source": [
    "pygsti.report.create_general_report({'TP': results_tp, \"Full\": results_full},\n",
    "                                    \"tutorial_files/exampleMultiGenBriefReport.html\",\n",
    "                                    title=\"Example Multi-Dataset Brief Report\", ws=ws,\n",
    "                                    verbosity=3, auto_open=True, brief=True)"
   ]
  },
  {
   "cell_type": "markdown",
   "metadata": {
    "deletable": true,
    "editable": true
   },
   "source": [
    "The above call also demonstrates the use of the `ws` argument, by which we can give `create_general_report` an *input* `Workspace` object to use instead of internally creating a new one.  This allows the report to generate more quickly because cached figures and intermediate results are used."
   ]
  },
  {
   "cell_type": "markdown",
   "metadata": {
    "collapsed": true,
    "deletable": true,
    "editable": true
   },
   "source": [
    "## Advanced Reports: `create_report_notebook`\n",
    "In addition to the standard HTML-page reports demonstrated above, pyGSTi is able to generate a Jupyter notebook containing the Python commands to create the figures and tables within a general report.  This is facilitated\n",
    "by `Workspace` objects, which are factories for figures and tables (see previous tutorials).  By calling `create_report_notebook`, all of the relevant `Workspace` initialization and calls are dumped to a new notebook file, which can be run (either fully or partially) by the user at their convenience.  Creating such \"report notebooks\" has the advantage that the user may insert Python code amidst the figure and table generation calls to inspect or modify what is display in a highly customizable fashion.  The chief disadvantages of report notebooks is that they require the user to 1) have a Jupyter server up and running and 2) to run the notebook before any figures are displayed.\n",
    "\n",
    "The line below demonstrates how to create a report notebook using `create_report_notebook`.  Note that the argument list is very similar to `create_general_report`."
   ]
  },
  {
   "cell_type": "code",
   "execution_count": 8,
   "metadata": {
    "collapsed": false,
    "deletable": true,
    "editable": true
   },
   "outputs": [],
   "source": [
    "pygsti.report.create_report_notebook(results, \"tutorial_files/exampleGenReport.ipynb\", \n",
    "                                     title=\"GST Example Report Notebook\", confidenceLevel=None,\n",
    "                                     auto_open=True, connected=False, verbosity=3)"
   ]
  }
 ],
 "metadata": {
  "kernelspec": {
   "display_name": "Python 3",
   "language": "python",
   "name": "python3"
  },
  "language_info": {
   "codemirror_mode": {
    "name": "ipython",
    "version": 3
   },
   "file_extension": ".py",
   "mimetype": "text/x-python",
   "name": "python",
   "nbconvert_exporter": "python",
   "pygments_lexer": "ipython3",
   "version": "3.5.2"
  }
 },
 "nbformat": 4,
 "nbformat_minor": 2
}
