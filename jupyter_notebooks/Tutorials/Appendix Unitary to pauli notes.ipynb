{
 "cells": [
  {
   "cell_type": "markdown",
   "metadata": {},
   "source": [
    "# Unitary to pauli\n",
    "\n",
    "One might write a unitary to pauligate conversion function as follows:"
   ]
  },
  {
   "cell_type": "code",
   "execution_count": 2,
   "metadata": {
    "collapsed": true
   },
   "outputs": [],
   "source": [
    "def unitary_to_pauligate_1q(U):\n",
    "    \"\"\"\n",
    "    Get the linear operator on (vectorized) density\n",
    "    matrices corresponding to a 1-qubit unitary\n",
    "    operator on states.\n",
    "    \"\"\"\n",
    "    assert( U.shape == (2,2) )\n",
    "    op_mx = _np.empty( (4,4) ) #, 'complex' )\n",
    "    Udag = _np.conjugate(_np.transpose(U))\n",
    "\n",
    "    sigmaVec = pp_matrices(2)\n",
    "\n",
    "    for i in (0,1,2,3):\n",
    "        for j in (0,1,2,3):\n",
    "            op_mx[i,j] = _np.real(_mt.trace(_np.dot(sigmaVec[i],_np.dot(U,_np.dot(sigmaVec[j],Udag)))))\n",
    "        # in clearer notation: op_mx[i,j] = _mt.trace( sigma[i] * U * sigma[j] * Udag )\n",
    "    return op_mx\n",
    "\n",
    "# single qubit density matrix in 2-qubit pauli basis (16x16 matrix)\n",
    "# U must be a 4x4 matrix\n",
    "def unitary_to_pauligate_2q(U):\n",
    "    \"\"\"\n",
    "    Get the linear operator on (vectorized) density\n",
    "    matrices corresponding to a 2-qubit unitary\n",
    "    operator on states.\n",
    "    \"\"\"\n",
    "\n",
    "    assert( U.shape == (4,4) )\n",
    "    op_mx = _np.empty( (16,16), 'd') #, 'complex' )\n",
    "    Udag = _np.conjugate(_np.transpose(U))\n",
    "\n",
    "    sigmaVec_2Q = pp_matrices(4)\n",
    "\n",
    "    for i in range(16):\n",
    "        for j in range(16):\n",
    "            op_mx[i,j] = _np.real(_mt.trace(_np.dot(sigmaVec_2Q[i],_np.dot(U,_np.dot(sigmaVec_2Q[j],Udag)))))\n",
    "        # in clearer notation: op_mx[i,j] = trace( sigma[i] * U * sigma[j] * Udag )\n",
    "    return op_mx\n",
    "\n"
   ]
  },
  {
   "cell_type": "markdown",
   "metadata": {},
   "source": [
    "Instead, one should use the generalized `unitary_to_pauligate` function in `gatetools.py`, or a `unitary_to_processmx` followed by a call to `change_basis`:"
   ]
  },
  {
   "cell_type": "code",
   "execution_count": 4,
   "metadata": {
    "collapsed": true
   },
   "outputs": [],
   "source": [
    "def unitary_to_pauligate(U):\n",
    "    \"\"\"\n",
    "    Get the linear operator on (vectorized) density\n",
    "    matrices corresponding to a n-qubit unitary\n",
    "    operator on states.\n",
    "\n",
    "    Parameters\n",
    "    ----------\n",
    "    U : numpy array\n",
    "        A dxd array giving the action of the unitary\n",
    "        on a state in the sigma-z basis.\n",
    "        where d = 2 ** n-qubits\n",
    "\n",
    "    Returns\n",
    "    -------\n",
    "    numpy array\n",
    "        The operator on density matrices that have been\n",
    "        vectorized as d**2 vectors in the Pauli basis.\n",
    "    \"\"\"\n",
    "    assert U.shape[0] == U.shape[1], '\"Unitary\" matrix is not square'\n",
    "    return change_basis(unitary_to_process_mx(U), 'std', 'pp')"
   ]
  },
  {
   "cell_type": "code",
   "execution_count": null,
   "metadata": {
    "collapsed": true
   },
   "outputs": [],
   "source": []
  }
 ],
 "metadata": {
  "kernelspec": {
   "display_name": "Python 3",
   "language": "python",
   "name": "python3"
  },
  "language_info": {
   "codemirror_mode": {
    "name": "ipython",
    "version": 3
   },
   "file_extension": ".py",
   "mimetype": "text/x-python",
   "name": "python",
   "nbconvert_exporter": "python",
   "pygments_lexer": "ipython3",
   "version": "3.5.2"
  }
 },
 "nbformat": 4,
 "nbformat_minor": 2
}
