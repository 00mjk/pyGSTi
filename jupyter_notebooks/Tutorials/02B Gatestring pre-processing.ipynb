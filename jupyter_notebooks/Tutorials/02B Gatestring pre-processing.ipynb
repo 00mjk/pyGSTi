{
 "cells": [
  {
   "cell_type": "markdown",
   "metadata": {},
   "source": [
    "# Gatestring pre-processing"
   ]
  },
  {
   "cell_type": "code",
   "execution_count": 1,
   "metadata": {
    "collapsed": false
   },
   "outputs": [
    {
     "ename": "ImportError",
     "evalue": "cannot import name 'apply_seq'",
     "output_type": "error",
     "traceback": [
      "\u001b[0;31m---------------------------------------------------------------------------\u001b[0m",
      "\u001b[0;31mImportError\u001b[0m                               Traceback (most recent call last)",
      "\u001b[0;32m<ipython-input-1-08d785cc534f>\u001b[0m in \u001b[0;36m<module>\u001b[0;34m()\u001b[0m\n\u001b[0;32m----> 1\u001b[0;31m \u001b[0;32mfrom\u001b[0m \u001b[0mpygsti\u001b[0m\u001b[0;34m.\u001b[0m\u001b[0mtools\u001b[0m \u001b[0;32mimport\u001b[0m \u001b[0mapply_seq\u001b[0m\u001b[0;34m\u001b[0m\u001b[0m\n\u001b[0m",
      "\u001b[0;31mImportError\u001b[0m: cannot import name 'apply_seq'"
     ]
    }
   ],
   "source": [
    "from pygsti.tools import apply_seq"
   ]
  },
  {
   "cell_type": "markdown",
   "metadata": {},
   "source": [
    "### Example sequencing rules\n",
    "    AB -> AB' (if B follows A, prime B)\n",
    "\n",
    "    BA -> B''A (if B precedes A, double-prime B)\n",
    "\n",
    "    CA -> CA' (if A follows C, prime A)\n",
    "\n",
    "    BC -> BC' (if C follows B, prime C)\n",
    "\n",
    "### Desired output:\n",
    "\n",
    "     BAB ==> B''AB'\n",
    "\n",
    "     ABA ==> AB'A  (frustrated, so do first replacement: B' not B'')\n",
    "\n",
    "     CAB ==> CA'B'\n",
    "\n",
    "     ABC ==> AB'C'\n",
    "  "
   ]
  },
  {
   "cell_type": "code",
   "execution_count": null,
   "metadata": {
    "collapsed": false
   },
   "outputs": [],
   "source": [
    "sequenceRules = [\n",
    "        (('A', 'B'), ('A', 'B\\'')),\n",
    "        (('B', 'A'), ('B\\'\\'', 'A')),\n",
    "        (('C', 'A'), ('C', 'A\\'')),\n",
    "        (('B', 'C'), ('B', 'C\\''))]\n",
    "\n",
    "run = lambda s : print(''.join(apply_seq(tuple(s), sequenceRules)))\n",
    "run('BAB')\n",
    "run('ABA')\n",
    "run('CAB')\n",
    "run('ABC')"
   ]
  },
  {
   "cell_type": "code",
   "execution_count": null,
   "metadata": {
    "collapsed": true
   },
   "outputs": [],
   "source": []
  }
 ],
 "metadata": {
  "kernelspec": {
   "display_name": "Python 3",
   "language": "python",
   "name": "python3"
  },
  "language_info": {
   "codemirror_mode": {
    "name": "ipython",
    "version": 3
   },
   "file_extension": ".py",
   "mimetype": "text/x-python",
   "name": "python",
   "nbconvert_exporter": "python",
   "pygments_lexer": "ipython3",
   "version": "3.5.2"
  }
 },
 "nbformat": 4,
 "nbformat_minor": 2
}
