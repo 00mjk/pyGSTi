{
 "cells": [
  {
   "cell_type": "markdown",
   "metadata": {
    "deletable": true,
    "editable": true
   },
   "source": [
    "# Gatestring pre-processing"
   ]
  },
  {
   "cell_type": "code",
   "execution_count": 1,
   "metadata": {
    "collapsed": false,
    "deletable": true,
    "editable": true
   },
   "outputs": [],
   "source": [
    "from pygsti.construction import manipulate_gatestring"
   ]
  },
  {
   "cell_type": "markdown",
   "metadata": {
    "deletable": true,
    "editable": true
   },
   "source": [
    "### Example sequencing rules\n",
    "    AB -> AB' (if B follows A, prime B)\n",
    "\n",
    "    BA -> B''A (if B precedes A, double-prime B)\n",
    "\n",
    "    CA -> CA' (if A follows C, prime A)\n",
    "\n",
    "    BC -> BC' (if C follows B, prime C)\n",
    "\n",
    "### Desired output:\n",
    "\n",
    "     BAB ==> B''AB'\n",
    "\n",
    "     ABA ==> AB'A  (frustrated, so do first replacement: B' not B'')\n",
    "\n",
    "     CAB ==> CA'B'\n",
    "\n",
    "     ABC ==> AB'C'\n",
    "  "
   ]
  },
  {
   "cell_type": "code",
   "execution_count": 2,
   "metadata": {
    "collapsed": false,
    "deletable": true,
    "editable": true,
    "scrolled": false
   },
   "outputs": [
    {
     "name": "stdout",
     "output_type": "stream",
     "text": [
      "B''AB'  OK\n",
      "AB'A  OK\n",
      "CA'B'  OK\n",
      "AB'C'  OK\n",
      "EE  OK\n",
      "ABC  OK\n",
      "ABCBCBC  OK\n"
     ]
    }
   ],
   "source": [
    "sequenceRules = [\n",
    "        (('A', 'B'), ('A', 'B\\'')),\n",
    "        (('B', 'A'), ('B\\'\\'', 'A')),\n",
    "        (('C', 'A'), ('C', 'A\\'')),\n",
    "        (('B', 'C'), ('B', 'C\\'')),\n",
    "        (('D',), ('E',)),\n",
    "        (('A','A'), ('A','B','C',))]\n",
    "\n",
    "def run(s, expected):\n",
    "    result = manipulate_gatestring(tuple(s), sequenceRules)\n",
    "    if result != expected:\n",
    "        print(''.join(result), \" != \", ''.join(expected), \" !!!\")\n",
    "    else:\n",
    "        print(''.join(result), \" OK\")\n",
    "\n",
    "run('BAB',(\"B''\",\"A\",\"B'\"))\n",
    "run('ABA', (\"A\",\"B'\",\"A\"))\n",
    "run('CAB', (\"C\",\"A'\",\"B'\"))\n",
    "run('ABC', (\"A\",\"B'\",\"C'\"))\n",
    "run('DD', (\"E\",\"E\"))\n",
    "run('AA', (\"A\",\"B\",\"C\"))\n",
    "run('AAAA', (\"A\",\"B\",\"C\",\"B\",\"C\",\"B\",\"C\"))"
   ]
  },
  {
   "cell_type": "code",
   "execution_count": null,
   "metadata": {
    "collapsed": true,
    "deletable": true,
    "editable": true
   },
   "outputs": [],
   "source": []
  }
 ],
 "metadata": {
  "kernelspec": {
   "display_name": "Python 3",
   "language": "python",
   "name": "python3"
  },
  "language_info": {
   "codemirror_mode": {
    "name": "ipython",
    "version": 3
   },
   "file_extension": ".py",
   "mimetype": "text/x-python",
   "name": "python",
   "nbconvert_exporter": "python",
   "pygments_lexer": "ipython3",
   "version": "3.5.2"
  }
 },
 "nbformat": 4,
 "nbformat_minor": 2
}
