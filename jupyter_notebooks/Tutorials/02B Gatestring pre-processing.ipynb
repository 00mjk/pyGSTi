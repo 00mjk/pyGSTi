{
 "cells": [
  {
   "cell_type": "markdown",
   "metadata": {},
   "source": [
    "# Gatestring pre-processing"
   ]
  },
  {
   "cell_type": "code",
   "execution_count": 16,
   "metadata": {
    "collapsed": true
   },
   "outputs": [],
   "source": [
    "from pygsti.tools.gatestringtools import pre_process_gatestring\n",
    "from functools import partial\n",
    "\n",
    "def demo(gatestring, sequenceRules, replacementRules):\n",
    "    gs = pre_process_gatestring(gatestring, sequenceRules, replacementRules)\n",
    "    print(' '.join(gs))"
   ]
  },
  {
   "cell_type": "markdown",
   "metadata": {},
   "source": [
    "### Example sequencing rules\n",
    "    if B after A, then B becomes B'  \n",
    "    if A after B, then A becomes A'  \n",
    "    (Delayed such that BAB becomes BA'B')  "
   ]
  },
  {
   "cell_type": "code",
   "execution_count": 18,
   "metadata": {
    "collapsed": false
   },
   "outputs": [
    {
     "name": "stdout",
     "output_type": "stream",
     "text": [
      "A B' A'\n"
     ]
    }
   ],
   "source": [
    "sequenceRules = {\n",
    "    ('A', 'B') : ('B\\'',),\n",
    "    ('B', 'A') : ('A\\'',)}\n",
    "demo('ABA', sequenceRules, [])"
   ]
  },
  {
   "cell_type": "markdown",
   "metadata": {},
   "source": [
    "### Example replacement rules\n",
    "    1: A becomes C, C\n",
    "    2: C becomes C'\n",
    "    \n",
    "    Orderable, such that, if rule 1 is added first, then AC becomes C'C'C'\n",
    "    If rule 1 is added second, then AC becomes CCC'"
   ]
  },
  {
   "cell_type": "code",
   "execution_count": 22,
   "metadata": {
    "collapsed": false
   },
   "outputs": [
    {
     "name": "stdout",
     "output_type": "stream",
     "text": [
      "C' C' C'\n",
      "C C C'\n",
      "C C B' A' B' B A' C' C C C'\n"
     ]
    }
   ],
   "source": [
    "replaceRules = [\n",
    "        ('A', ('C', 'C')),\n",
    "        ('C', ('C\\'',))]\n",
    "\n",
    "demo('AC', dict(), replaceRules)\n",
    "\n",
    "replaceRules = [\n",
    "        ('C', ('C\\'',)),\n",
    "        ('A', ('C', 'C'))]\n",
    "\n",
    "demo('AC', dict(), replaceRules)\n",
    "demo('ABABBACAC', sequenceRules, replaceRules)"
   ]
  },
  {
   "cell_type": "code",
   "execution_count": null,
   "metadata": {
    "collapsed": true
   },
   "outputs": [],
   "source": []
  }
 ],
 "metadata": {
  "kernelspec": {
   "display_name": "Python 3",
   "language": "python",
   "name": "python3"
  },
  "language_info": {
   "codemirror_mode": {
    "name": "ipython",
    "version": 3
   },
   "file_extension": ".py",
   "mimetype": "text/x-python",
   "name": "python",
   "nbconvert_exporter": "python",
   "pygments_lexer": "ipython3",
   "version": "3.5.2"
  }
 },
 "nbformat": 4,
 "nbformat_minor": 2
}
