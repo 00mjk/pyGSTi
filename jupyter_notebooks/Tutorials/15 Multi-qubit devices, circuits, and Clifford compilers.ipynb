{
 "cells": [
  {
   "cell_type": "markdown",
   "metadata": {
    "deletable": true,
    "editable": true
   },
   "source": [
    "# Defining multi-qubit devices, quantum circuits, and Clifford compiling\n",
    "This tutorial will cover three inter-related topics:\n",
    "\n",
    "1. `ProccesorSpec` objects, that can be used to define the \"specification\" of a quantum computer (e.g., device connectivity), and which are geared towards multi-qubit devices.\n",
    "2. `Circuit` objects that represent quantum circuits. These are a more structured version of `Gatestring` objects, and they contain various methods that are useful for manipulating quantum circuits (e.g., simple depth compression) and interfacing `pyGSTi` with other quantum circuit standards (e.g., conversion to openqasm).\n",
    "3. Clifford circuit/gate, CNOT circuit, and stabilizer state generation/measurement compilation routines."
   ]
  },
  {
   "cell_type": "code",
   "execution_count": 1,
   "metadata": {
    "collapsed": false,
    "deletable": true,
    "editable": true
   },
   "outputs": [
    {
     "name": "stderr",
     "output_type": "stream",
     "text": [
      "/usr/local/Cellar/python/3.6.4_3/Frameworks/Python.framework/Versions/3.6/lib/python3.6/importlib/_bootstrap.py:219: RuntimeWarning: numpy.dtype size changed, may indicate binary incompatibility. Expected 96, got 88\n",
      "  return f(*args, **kwds)\n",
      "/usr/local/Cellar/python/3.6.4_3/Frameworks/Python.framework/Versions/3.6/lib/python3.6/importlib/_bootstrap.py:219: RuntimeWarning: numpy.dtype size changed, may indicate binary incompatibility. Expected 96, got 88\n",
      "  return f(*args, **kwds)\n"
     ]
    }
   ],
   "source": [
    "from __future__ import print_function\n",
    "import pygsti # the main pyGSTi module"
   ]
  },
  {
   "cell_type": "markdown",
   "metadata": {
    "deletable": true,
    "editable": true
   },
   "source": [
    "## Using a `ProcessorSpec` to specify a multi-qubit device.\n",
    "The `ProcessorSpec` object is designed to encapsulate the specification of a quantum computer, and to hold a variety of useful things that can be derived from this information. The basic information that a `ProcessorSpec` is specified via is\n",
    "\n",
    "1. The number of qubits in the device (and, optional, the labels of these qubits).\n",
    "\n",
    "2. The target gate-set of the device, as either unitary matrices or using names that point to in-built unitary matrices (e.g., 'Gcnot' is a shorthand for specifying a CNOT gate). Normally will be the \"primitive\" gates of the device, although there it may sometimes be useful to choose other gate-sets. Currently only a discrete gate-set is supported. E.g., there is no way to specify an arbitrary $\\sigma_z$-rotation as one of the gates in the device. Parameterized gates will be supported in the future.\n",
    "\n",
    "3. The connectivity of the device."
   ]
  },
  {
   "cell_type": "code",
   "execution_count": 2,
   "metadata": {
    "collapsed": false,
    "deletable": true,
    "editable": true
   },
   "outputs": [],
   "source": [
    "# The number of qubits the device is for.\n",
    "nQubits = 4\n",
    "\n",
    "# Pick some names for the qubits. If not specified, the qubit labels default to 0, 1, 2, ...\n",
    "qubit_labels = ['Q0','Q1','Q2','Q3']\n",
    "\n",
    "# Pick a set of fundamental gates. These can be specified via in-built names,such as 'Gcnot' \n",
    "# for a CNOT gate. The full allowed set is specified in the dictionary returned by\n",
    "# pygsti.tools.internalgates.get_standard_gatename_unitaries().\n",
    "gate_names = ['Gi', # The idle gate\n",
    "              'Gxpi2', # A X rotation by pi/2\n",
    "              'Gypi2', # A Y rotation by pi/2\n",
    "              'Gzpi2', # A Z rotation by pi/2\n",
    "              'Gh', # The Hadamard gate\n",
    "              'Gcphase']  # The controlled-Z gate.\n",
    "\n",
    "# Additionally, we can define gates with user-specified names and actions, via a dictionary\n",
    "# with keys that are strings (gate names) and values that are unitary matrices. For example,\n",
    "# if you want to call the hadamard gate 'Ghad' we could do this here. The gate names should\n",
    "# all start with a 'G', but are otherwise unrestricted. \n",
    "nonstd_gate_unitaries = {}\n",
    "\n",
    "# Specify the \"availability\" of gates: which qubits they can be applied to. When not specified\n",
    "# for a gate, it is assumed that they can be applied to all dimension-appropriate sets of qubits\n",
    "# E.g., a 1-qubit gate will be assumed to be applicable to each qubit; a 2-qubit gate will be\n",
    "# assumed to be applicable to all ordered pairs of qubits.\n",
    "availability = {'Gcphase':[('Q0','Q1'),('Q1','Q2'),('Q2','Q3'),('Q3','Q0')]}\n",
    "\n",
    "# Create a ProcessorSpec by handing it all of this information. This the generates a variety \n",
    "# of information about the device from this input (e.g., compilations for the Pauli operators and CNOT).\n",
    "# The other defaults here will be ok for most purposes. But sometimes they will need to be changed to avoid\n",
    "# slow ProcessorSpec initialization (fixes for these issues will be implemented in the future).\n",
    "pspec = pygsti.obj.ProcessorSpec(nQubits, gate_names, nonstd_gate_unitaries=nonstd_gate_unitaries, \n",
    "                                 availability=availability, qubit_labels=qubit_labels)"
   ]
  },
  {
   "cell_type": "markdown",
   "metadata": {
    "deletable": true,
    "editable": true
   },
   "source": [
    "`ProcessorSpec` objects are not particularly useful on their own. Currently, they are mostly used for interfacing with `Circuit` objects, in-built compilation algorithms, and the RB code. However, in the future we expect that they will be used for constructing circuits/gatestrings for other multi-qubit QCVV methods in `pyGSTi`."
   ]
  },
  {
   "cell_type": "markdown",
   "metadata": {
    "deletable": true,
    "editable": true
   },
   "source": [
    "## Defining quantum circuits with the `Circuit` object"
   ]
  },
  {
   "cell_type": "markdown",
   "metadata": {
    "deletable": true,
    "editable": true
   },
   "source": [
    "We now introduce the `Circuit` objects. These are more a more structured version of a `GateString` object, and these objects can be easily converted between each other.\n",
    "### Initializing circuits\n",
    "\n",
    "Initializing an empty circuit is particularly simple. You just have to specify either a `line_labels` list, which is names for the wires in the circuit, or you can instead specify the number of lines as `num_lines` (the line_labels then default to integers starting at 0).\n",
    "\n",
    "Circuits do not know what the \"gates\" they contain are, with one exception: they are initialized to know that a particular string corresponds to an identity/idle gate (so it will know that idle gates can be deleted and other gates commuted past this gate without changing the action of a circuit). This defaults to the 'I' string, but it can be useful to specify this as something else: often the idle identifier of a `ProcessorSpec`, as we do here."
   ]
  },
  {
   "cell_type": "code",
   "execution_count": 3,
   "metadata": {
    "collapsed": false,
    "deletable": true,
    "editable": true
   },
   "outputs": [
    {
     "name": "stdout",
     "output_type": "stream",
     "text": [
      "Qubit Q0 -----\n",
      "Qubit Q1 -----\n",
      "\n",
      "The circuit size is = 0\n",
      "The circuit depth is = 0\n",
      "The circuit multi-qubit-gate count is = 0\n"
     ]
    }
   ],
   "source": [
    "#Initializing an empty circuit  over qubit 'Q0' and 'Q1'.\n",
    "circuit = pygsti.obj.Circuit(line_labels=['Q0','Q1'], identity=pspec.identity)\n",
    "# We can print out a circuit in a basic string format.\n",
    "print(circuit)\n",
    "# We can print out various properties of the circuit.\n",
    "print(\"The circuit size is = {}\".format(circuit.size()))\n",
    "print(\"The circuit depth is = {}\".format(circuit.depth()))\n",
    "print(\"The circuit multi-qubit-gate count is = {}\".format(circuit.multiQgate_count()))"
   ]
  },
  {
   "cell_type": "markdown",
   "metadata": {
    "deletable": true,
    "editable": true
   },
   "source": [
    "A circuit is essentially just a load of `Label` objects, that specify what gate is applied to each wire at each step. So to specify a non-empty circuit from scratch (they can also be initialized from a GateString object) it is useful to import the `Label` object"
   ]
  },
  {
   "cell_type": "code",
   "execution_count": 4,
   "metadata": {
    "collapsed": true,
    "deletable": true,
    "editable": true
   },
   "outputs": [],
   "source": [
    "from pygsti.baseobjs.label import Label as L # A shorthand for a Label"
   ]
  },
  {
   "cell_type": "markdown",
   "metadata": {
    "deletable": true,
    "editable": true
   },
   "source": [
    "A `Label` is basically just a string, corresponding to a gate name (e.g., 'Gcnot'), and a tuple, corresponding to the qubits the gate acts on. We can initialize a label by specifying these things:"
   ]
  },
  {
   "cell_type": "code",
   "execution_count": 5,
   "metadata": {
    "collapsed": false,
    "deletable": true,
    "editable": true
   },
   "outputs": [
    {
     "name": "stdout",
     "output_type": "stream",
     "text": [
      "Gcnot\n",
      "('Q0', 'Q1')\n"
     ]
    }
   ],
   "source": [
    "label_for_cnot_from_Q0_to_Q1 = L('Gcnot',('Q0','Q1'))\n",
    "print(label_for_cnot_from_Q0_to_Q1.name)\n",
    "print(label_for_cnot_from_Q0_to_Q1.qubits)"
   ]
  },
  {
   "cell_type": "markdown",
   "metadata": {
    "deletable": true,
    "editable": true
   },
   "source": [
    "Using labels, we can initializing a non-trivial circuit. Below we create a bell-state generating circuit over 'Q0' and 'Q1'. \n",
    "\n",
    "There is more than one way to do this ...."
   ]
  },
  {
   "cell_type": "code",
   "execution_count": 6,
   "metadata": {
    "collapsed": false,
    "deletable": true,
    "editable": true
   },
   "outputs": [
    {
     "name": "stdout",
     "output_type": "stream",
     "text": [
      "- A circuit created from a gatestring *without* parallelizing:\n",
      "\n",
      "Qubit Q0 ---|Gh|-|  |-|●Q1|-|Gh|-|  |---\n",
      "Qubit Q1 ---|  |-|Gh|-|●Q0|-|  |-|Gh|---\n",
      "\n",
      "The circuit size is = 6\n",
      "The circuit depth is = 5\n",
      "The circuit multi-qubit-gate count is = 1\n",
      "\n",
      "- A circuit created from a gatestring *with* parallelizing:\n",
      "\n",
      "Qubit Q0 ---|Gh|-|●Q1|-|Gh|---\n",
      "Qubit Q1 ---|Gh|-|●Q0|-|Gh|---\n",
      "\n",
      "The circuit size is = 6\n",
      "The circuit depth is = 3\n",
      "The circuit multi-qubit-gate count is = 1\n"
     ]
    }
   ],
   "source": [
    "gatestring = [L('Gh','Q0'),L('Gh','Q1'),L('Gcphase',('Q0','Q1')),L('Gh','Q0'),L('Gh','Q1')]\n",
    "\n",
    "circuit1 = pygsti.obj.Circuit(gatestring=gatestring, line_labels=['Q0','Q1'], identity=pspec.identity)\n",
    "print(\"- A circuit created from a gatestring *without* parallelizing:\",end='\\n\\n')\n",
    "print(circuit1)\n",
    "print(\"The circuit size is = {}\".format(circuit1.size()))\n",
    "print(\"The circuit depth is = {}\".format(circuit1.depth()))\n",
    "print(\"The circuit multi-qubit-gate count is = {}\".format(circuit1.multiQgate_count()),end='\\n\\n')\n",
    "\n",
    "circuit2 = pygsti.obj.Circuit(gatestring=gatestring, line_labels=['Q0','Q1'], parallelize=True, identity=pspec.identity)\n",
    "print(\"- A circuit created from a gatestring *with* parallelizing:\",end='\\n\\n')\n",
    "print(circuit2)\n",
    "print(\"The circuit size is = {}\".format(circuit2.size()))\n",
    "print(\"The circuit depth is = {}\".format(circuit2.depth()))\n",
    "print(\"The circuit multi-qubit-gate count is = {}\".format(circuit2.multiQgate_count()))"
   ]
  },
  {
   "cell_type": "markdown",
   "metadata": {
    "deletable": true,
    "editable": true
   },
   "source": [
    "To define a gatestring that can be converted to a circuit in an entirely unambigious way do\n",
    "....."
   ]
  },
  {
   "cell_type": "code",
   "execution_count": 7,
   "metadata": {
    "collapsed": false,
    "deletable": true,
    "editable": true
   },
   "outputs": [
    {
     "name": "stdout",
     "output_type": "stream",
     "text": [
      "- A circuit created from a gatestring *with* explicit layers:\n",
      "\n",
      "Qubit Q0 ---|Gh|-|●Q1|-|Gh|-|  |---\n",
      "Qubit Q1 ---|Gh|-|●Q0|-|  |-|Gh|---\n",
      "\n",
      "The circuit size is = 6\n",
      "The circuit depth is = 3\n",
      "The circuit multi-qubit-gate count is = 1\n"
     ]
    }
   ],
   "source": [
    "gatestring = [[L('Gh','Q0'),L('Gh','Q1')],[L('Gcphase',('Q0','Q1')),],[L('Gh','Q0'),],[L('Gh','Q1'),]]\n",
    "\n",
    "circuit3 = pygsti.obj.Circuit(gatestring=gatestring, line_labels=['Q0','Q1'], identity=pspec.identity)\n",
    "print(\"- A circuit created from a gatestring *with* explicit layers:\",end='\\n\\n')\n",
    "print(circuit3)\n",
    "print(\"The circuit size is = {}\".format(circuit2.size()))\n",
    "print(\"The circuit depth is = {}\".format(circuit2.depth()))\n",
    "print(\"The circuit multi-qubit-gate count is = {}\".format(circuit2.multiQgate_count()))"
   ]
  },
  {
   "cell_type": "markdown",
   "metadata": {
    "deletable": true,
    "editable": true
   },
   "source": [
    "### Reading in a circuit from file."
   ]
  },
  {
   "cell_type": "code",
   "execution_count": 8,
   "metadata": {
    "collapsed": true,
    "deletable": true,
    "editable": true
   },
   "outputs": [],
   "source": [
    "nQubits = 5\n",
    "# These names correspond to the 24 1-qubit Cliffords + CNOT.\n",
    "gate_names = ['Gc'+format(i) for i in range(24)] + ['Gcnot']\n",
    "pspec2 = pygsti.obj.ProcessorSpec(nQubits, gate_names)"
   ]
  },
  {
   "cell_type": "code",
   "execution_count": 9,
   "metadata": {
    "collapsed": false,
    "deletable": true,
    "editable": true
   },
   "outputs": [],
   "source": [
    "gsList = pygsti.io.load_gatestring_list(\"tutorial_files/MyCircuits.txt\")\n",
    "line_labels = [0,1,2,3,4]\n",
    "identity=pspec2.identity\n",
    "circuitList = [pygsti.obj.Circuit(gatestring=gs, line_labels=line_labels, identity=identity) for gs in gsList]"
   ]
  },
  {
   "cell_type": "code",
   "execution_count": 10,
   "metadata": {
    "collapsed": false,
    "deletable": true,
    "editable": true
   },
   "outputs": [
    {
     "name": "stdout",
     "output_type": "stream",
     "text": [
      "Qubit 0 -----\n",
      "Qubit 1 -----\n",
      "Qubit 2 -----\n",
      "Qubit 3 -----\n",
      "Qubit 4 -----\n",
      "\n",
      "Qubit 0 ---|Gc11|-| ⊕1 |-|Gc12|---\n",
      "Qubit 1 ---|Gc18|-| ●0 |-| ●2 |---\n",
      "Qubit 2 ---|Gc12|-|Gc22|-| ⊕1 |---\n",
      "Qubit 3 ---| ⊕4 |-|Gc23|-|Gc16|---\n",
      "Qubit 4 ---| ●3 |-|Gc22|-|Gc21|---\n",
      "\n",
      "Qubit 0 ---|Gc6|-|Gc4 |-|Gc5 |-|⊕1 |-|Gc15|-| ⊕1 |-|Gc13|---\n",
      "Qubit 1 ---|   |-|Gc20|-|Gc23|-|●0 |-| ●2 |-| ●0 |-|Gc12|---\n",
      "Qubit 2 ---|●3 |-|Gc11|-|Gc12|-|Gc9|-| ⊕1 |-|Gc12|-|Gc13|---\n",
      "Qubit 3 ---|⊕2 |-|Gc13|-| ⊕4 |-|Gc2|-|Gc11|-|    |-| ⊕4 |---\n",
      "Qubit 4 ---|Gc9|-|Gc17|-| ●3 |-|Gc1|-|Gc2 |-|Gc13|-| ●3 |---\n",
      "\n",
      "Qubit 0 ---|Gc22|-|Gc13|-|Gc17|-|Gc9 |-|⊕1 |-|Gc7|-|Gc20|-|Gc21|-|Gc14|-|Gc17|-|Gc11|-|Gc13|-|Gc6 |-|Gc13|-|Gc6|-|Gc22|-|Gc1 |-|Gc8 |-|Gc5 |-|Gc19|-|Gc15|-| ⊕1 |-|Gc13|-| ⊕1 |-| ⊕1 |-|Gc7 |-| ⊕1 |-|Gc19|-|Gc19|-|Gc18|---\n",
      "Qubit 1 ---|Gc12|-|Gc15|-| ●2 |-|Gc14|-|●0 |-|Gc3|-|Gc10|-| ●2 |-|    |-| ●4 |-|Gc16|-| ●2 |-| ●4 |-|Gc14|-|Gc6|-|Gc13|-| ●2 |-|Gc15|-|Gc16|-|Gc12|-| ●2 |-| ●0 |-| ●4 |-| ●0 |-| ●0 |-|Gc11|-| ●0 |-|Gc18|-| ●4 |-|Gc10|---\n",
      "Qubit 2 ---|Gc2 |-|Gc23|-| ⊕1 |-|Gc21|-|Gc3|-|Gc9|-|Gc5 |-| ⊕1 |-| ●3 |-|Gc13|-| ●3 |-| ⊕1 |-|Gc11|-| ●3 |-|Gc1|-|Gc11|-| ⊕1 |-|Gc21|-|Gc3 |-| ●3 |-| ⊕1 |-|Gc22|-|Gc4 |-|Gc12|-|Gc2 |-|Gc19|-|Gc7 |-|Gc7 |-|Gc21|-|Gc18|---\n",
      "Qubit 3 ---| ⊕4 |-|Gc11|-|Gc10|-| ⊕4 |-|Gc7|-|⊕4 |-| ⊕4 |-|Gc11|-| ⊕2 |-|Gc4 |-| ⊕2 |-|Gc4 |-|Gc23|-| ⊕2 |-|⊕4 |-|Gc4 |-|Gc10|-|Gc4 |-| ⊕4 |-| ⊕2 |-|Gc16|-|Gc12|-|Gc2 |-|Gc16|-|Gc23|-| ⊕4 |-|Gc16|-|Gc19|-|Gc7 |-|Gc14|---\n",
      "Qubit 4 ---| ●3 |-|Gc3 |-|Gc3 |-| ●3 |-|Gc7|-|●3 |-| ●3 |-|Gc8 |-|Gc23|-| ⊕1 |-|    |-|Gc18|-| ⊕1 |-|Gc3 |-|●3 |-|Gc16|-|Gc13|-|Gc9 |-| ●3 |-|Gc8 |-|Gc1 |-|Gc21|-| ⊕1 |-|Gc9 |-|Gc21|-| ●3 |-|Gc14|-|Gc19|-| ⊕1 |-|Gc23|---\n",
      "\n"
     ]
    }
   ],
   "source": [
    "for c in circuitList:\n",
    "    print(c)"
   ]
  },
  {
   "cell_type": "markdown",
   "metadata": {
    "deletable": true,
    "editable": true
   },
   "source": [
    "### Manipulating circuits\n",
    "\n",
    "Depth compression"
   ]
  },
  {
   "cell_type": "code",
   "execution_count": 11,
   "metadata": {
    "collapsed": false,
    "deletable": true,
    "editable": true
   },
   "outputs": [
    {
     "name": "stdout",
     "output_type": "stream",
     "text": [
      "The circuit *before* depth-compression using the 1-qubit gate pair-wise relations:\n",
      "\n",
      "Qubit 0 ---|Gc6|-|Gc4 |-|Gc5 |-|⊕1 |-|Gc15|-| ⊕1 |-|Gc13|---\n",
      "Qubit 1 ---|   |-|Gc20|-|Gc23|-|●0 |-| ●2 |-| ●0 |-|Gc12|---\n",
      "Qubit 2 ---|●3 |-|Gc11|-|Gc12|-|Gc9|-| ⊕1 |-|Gc12|-|Gc13|---\n",
      "Qubit 3 ---|⊕2 |-|Gc13|-| ⊕4 |-|Gc2|-|Gc11|-|    |-| ⊕4 |---\n",
      "Qubit 4 ---|Gc9|-|Gc17|-| ●3 |-|Gc1|-|Gc2 |-|Gc13|-| ●3 |---\n",
      "\n",
      "The circuit *after* depth-compression using the 1-qubit gate pair-wise relations:\n",
      "\n",
      "Qubit 0 ---|    |-| ⊕1 |-|Gc15|-| ⊕1 |-|Gc13|---\n",
      "Qubit 1 ---|Gc6 |-| ●0 |-| ●2 |-| ●0 |-|Gc12|---\n",
      "Qubit 2 ---| ●3 |-|Gc13|-| ⊕1 |-|Gc1 |-|    |---\n",
      "Qubit 3 ---| ⊕2 |-|Gc13|-| ⊕4 |-|Gc4 |-| ⊕4 |---\n",
      "Qubit 4 ---|Gc20|-|    |-| ●3 |-|Gc13|-| ●3 |---\n",
      "\n"
     ]
    }
   ],
   "source": [
    "clifford_circuit = circuitList[2]\n",
    "print(\"The circuit *before* depth-compression using the 1-qubit gate pair-wise relations:\",end='\\n\\n')\n",
    "print(clifford_circuit)\n",
    "\n",
    "clifford_circuit.compress_depth(oneQgate_relations=pspec2.oneQgate_relations)\n",
    "\n",
    "print(\"The circuit *after* depth-compression using the 1-qubit gate pair-wise relations:\",end='\\n\\n')\n",
    "print(clifford_circuit)"
   ]
  },
  {
   "cell_type": "code",
   "execution_count": 12,
   "metadata": {
    "collapsed": false,
    "deletable": true,
    "editable": true
   },
   "outputs": [
    {
     "name": "stdout",
     "output_type": "stream",
     "text": [
      "Qubit 0 ---|    |-|●1 |-| ⊕1 |-|Gc15|-| ⊕1 |-|Gc13|---\n",
      "Qubit 1 ---|Gc6 |-|⊕0 |-| ●0 |-| ●2 |-| ●0 |-|Gc12|---\n",
      "Qubit 2 ---| ●3 |-|   |-|Gc13|-| ⊕1 |-|Gc1 |-|    |---\n",
      "Qubit 3 ---| ⊕2 |-|   |-|Gc13|-| ⊕4 |-|Gc4 |-| ⊕4 |---\n",
      "Qubit 4 ---|Gc20|-|   |-|    |-| ●3 |-|Gc13|-| ●3 |---\n",
      "\n"
     ]
    }
   ],
   "source": [
    "clifford_circuit.insert_layer([L('Gcnot',(0,1)),],1)\n",
    "print(clifford_circuit)"
   ]
  },
  {
   "cell_type": "markdown",
   "metadata": {
    "deletable": true,
    "editable": true
   },
   "source": [
    "### Converting circuits external formats"
   ]
  },
  {
   "cell_type": "code",
   "execution_count": 13,
   "metadata": {
    "collapsed": false,
    "deletable": true,
    "editable": true
   },
   "outputs": [
    {
     "name": "stdout",
     "output_type": "stream",
     "text": [
      "OPENQASM 2.0;\n",
      "include \"qelib1.inc\";\n",
      "\n",
      "qreg q[2];\n",
      "creg cr[2];\n",
      "\n",
      "h q[0];\n",
      "h q[1];\n",
      "barrier q[0], q[1];\n",
      "cz q[0],  q[1];\n",
      "barrier q[0], q[1];\n",
      "h q[0];\n",
      "h q[1];\n",
      "barrier q[0], q[1];\n",
      "measure q[0] -> cr[0];\n",
      "measure q[1] -> cr[1];\n",
      "\n"
     ]
    }
   ],
   "source": [
    "openqasm = circuit2.convert_to_openqasm()\n",
    "print(openqasm)"
   ]
  },
  {
   "cell_type": "markdown",
   "metadata": {
    "deletable": true,
    "editable": true
   },
   "source": [
    "There is also a `convert_to_quil()` method, which (obviously) converts to the quil format. Note that currently not all of the in-built gates can be converted to quil automatically. But, the desired gate-name conversation can be specified for both the conversion to openqasm and the conversion to quil, and a qubit-labelling conversion can also be specified."
   ]
  },
  {
   "cell_type": "markdown",
   "metadata": {
    "deletable": true,
    "editable": true
   },
   "source": [
    "### Simulating circuits"
   ]
  },
  {
   "cell_type": "code",
   "execution_count": 14,
   "metadata": {
    "collapsed": false,
    "deletable": true,
    "editable": true
   },
   "outputs": [],
   "source": [
    "#pspec2.models['clifford'].gates"
   ]
  },
  {
   "cell_type": "code",
   "execution_count": 15,
   "metadata": {
    "collapsed": false,
    "deletable": true,
    "editable": true
   },
   "outputs": [
    {
     "data": {
      "text/plain": [
       "OutcomeLabelDict([(('00000',), 0.031249999999999976),\n",
       "                  (('00001',), 0.031249999999999976),\n",
       "                  (('00010',), 0.031249999999999976),\n",
       "                  (('00011',), 0.031249999999999976),\n",
       "                  (('00100',), 0.031249999999999976),\n",
       "                  (('00101',), 0.031249999999999976),\n",
       "                  (('00110',), 0.031249999999999976),\n",
       "                  (('00111',), 0.031249999999999976),\n",
       "                  (('01000',), 0.031249999999999976),\n",
       "                  (('01001',), 0.031249999999999976),\n",
       "                  (('01010',), 0.031249999999999976),\n",
       "                  (('01011',), 0.031249999999999976),\n",
       "                  (('01100',), 0.031249999999999976),\n",
       "                  (('01101',), 0.031249999999999976),\n",
       "                  (('01110',), 0.031249999999999976),\n",
       "                  (('01111',), 0.031249999999999976),\n",
       "                  (('10000',), 0.031249999999999976),\n",
       "                  (('10001',), 0.031249999999999976),\n",
       "                  (('10010',), 0.031249999999999976),\n",
       "                  (('10011',), 0.031249999999999976),\n",
       "                  (('10100',), 0.031249999999999976),\n",
       "                  (('10101',), 0.031249999999999976),\n",
       "                  (('10110',), 0.031249999999999976),\n",
       "                  (('10111',), 0.031249999999999976),\n",
       "                  (('11000',), 0.031249999999999976),\n",
       "                  (('11001',), 0.031249999999999976),\n",
       "                  (('11010',), 0.031249999999999976),\n",
       "                  (('11011',), 0.031249999999999976),\n",
       "                  (('11100',), 0.031249999999999976),\n",
       "                  (('11101',), 0.031249999999999976),\n",
       "                  (('11110',), 0.031249999999999976),\n",
       "                  (('11111',), 0.031249999999999976)])"
      ]
     },
     "execution_count": 15,
     "metadata": {},
     "output_type": "execute_result"
    }
   ],
   "source": [
    "clifford_circuit = circuitList[3]\n",
    "clifford_circuit.simulate(gateset = pspec2.models['clifford'])"
   ]
  },
  {
   "cell_type": "markdown",
   "metadata": {
    "deletable": true,
    "editable": true
   },
   "source": [
    "## Compiling Clifford gates, CNOT circuits, and stabilizer states and measurements\n"
   ]
  },
  {
   "cell_type": "markdown",
   "metadata": {
    "deletable": true,
    "editable": true
   },
   "source": [
    "### Compiling a Clifford gate/circuit\n",
    " If you have a Clifford circuit that you want to use a compilers to try and create a new shorter circuit ...."
   ]
  },
  {
   "cell_type": "code",
   "execution_count": 16,
   "metadata": {
    "collapsed": false,
    "deletable": true,
    "editable": true
   },
   "outputs": [
    {
     "name": "stdout",
     "output_type": "stream",
     "text": [
      "[[1 1 0 1 0 0 0 1 1 1]\n",
      " [0 1 1 1 0 1 1 1 0 0]\n",
      " [0 1 1 1 0 0 0 0 0 1]\n",
      " [1 1 1 1 1 1 1 1 1 1]\n",
      " [0 1 1 0 0 1 0 0 0 1]\n",
      " [1 1 0 0 0 0 0 1 1 0]\n",
      " [0 1 0 1 0 1 0 0 0 1]\n",
      " [0 1 1 1 1 0 0 1 1 0]\n",
      " [1 0 0 0 1 1 1 1 1 1]\n",
      " [1 1 0 1 0 0 1 1 0 1]]\n",
      "[0 0 1 2 3 2 1 2 2 2]\n"
     ]
    }
   ],
   "source": [
    "circuit = circuitList[3]\n",
    "s, p = pygsti.symplectic_rep_of_clifford_circuit(circuit, pspec=pspec2)\n",
    "print(s)\n",
    "print(p)"
   ]
  },
  {
   "cell_type": "code",
   "execution_count": 17,
   "metadata": {
    "collapsed": false,
    "deletable": true,
    "editable": true
   },
   "outputs": [],
   "source": [
    "new_circuit = pygsti.algorithms.compile_clifford(s,p,pspec=pspec2,iterations=200)"
   ]
  },
  {
   "cell_type": "code",
   "execution_count": 18,
   "metadata": {
    "collapsed": false,
    "deletable": true,
    "editable": true
   },
   "outputs": [
    {
     "name": "stdout",
     "output_type": "stream",
     "text": [
      "Original circuit:\n",
      "\n",
      "Qubit 0 ---|Gc22|-|Gc13|-|Gc17|-|Gc9 |-|⊕1 |-|Gc7|-|Gc20|-|Gc21|-|Gc14|-|Gc17|-|Gc11|-|Gc13|-|Gc6 |-|Gc13|-|Gc6|-|Gc22|-|Gc1 |-|Gc8 |-|Gc5 |-|Gc19|-|Gc15|-| ⊕1 |-|Gc13|-| ⊕1 |-| ⊕1 |-|Gc7 |-| ⊕1 |-|Gc19|-|Gc19|-|Gc18|---\n",
      "Qubit 1 ---|Gc12|-|Gc15|-| ●2 |-|Gc14|-|●0 |-|Gc3|-|Gc10|-| ●2 |-|    |-| ●4 |-|Gc16|-| ●2 |-| ●4 |-|Gc14|-|Gc6|-|Gc13|-| ●2 |-|Gc15|-|Gc16|-|Gc12|-| ●2 |-| ●0 |-| ●4 |-| ●0 |-| ●0 |-|Gc11|-| ●0 |-|Gc18|-| ●4 |-|Gc10|---\n",
      "Qubit 2 ---|Gc2 |-|Gc23|-| ⊕1 |-|Gc21|-|Gc3|-|Gc9|-|Gc5 |-| ⊕1 |-| ●3 |-|Gc13|-| ●3 |-| ⊕1 |-|Gc11|-| ●3 |-|Gc1|-|Gc11|-| ⊕1 |-|Gc21|-|Gc3 |-| ●3 |-| ⊕1 |-|Gc22|-|Gc4 |-|Gc12|-|Gc2 |-|Gc19|-|Gc7 |-|Gc7 |-|Gc21|-|Gc18|---\n",
      "Qubit 3 ---| ⊕4 |-|Gc11|-|Gc10|-| ⊕4 |-|Gc7|-|⊕4 |-| ⊕4 |-|Gc11|-| ⊕2 |-|Gc4 |-| ⊕2 |-|Gc4 |-|Gc23|-| ⊕2 |-|⊕4 |-|Gc4 |-|Gc10|-|Gc4 |-| ⊕4 |-| ⊕2 |-|Gc16|-|Gc12|-|Gc2 |-|Gc16|-|Gc23|-| ⊕4 |-|Gc16|-|Gc19|-|Gc7 |-|Gc14|---\n",
      "Qubit 4 ---| ●3 |-|Gc3 |-|Gc3 |-| ●3 |-|Gc7|-|●3 |-| ●3 |-|Gc8 |-|Gc23|-| ⊕1 |-|    |-|Gc18|-| ⊕1 |-|Gc3 |-|●3 |-|Gc16|-|Gc13|-|Gc9 |-| ●3 |-|Gc8 |-|Gc1 |-|Gc21|-| ⊕1 |-|Gc9 |-|Gc21|-| ●3 |-|Gc14|-|Gc19|-| ⊕1 |-|Gc23|---\n",
      "\n",
      "Original circuit depth = 30\n",
      "Original circuit size = 148\n",
      "Original circuit mulit-qubit-gate count = 25\n",
      "New circuit:\n",
      "\n",
      "Qubit 0 ---|Gc15|-|   |-|   |-|   |-|   |-|   |-|    |-|   |-|    |-|   |-|   |-| ●4 |-|   |-|   |-|    |-|●3 |-|Gc15|-|⊕1 |-|⊕3 |-|Gc15|-|⊕4 |-|⊕3 |-|Gc15|-|●3 |-|Gc9|---\n",
      "Qubit 1 ---|Gc15|-|●2 |-|Gc7|-|●4 |-|   |-|   |-|    |-|   |-|    |-|●3 |-|⊕2 |-|    |-|   |-|⊕3 |-| ⊕4 |-|   |-|    |-|●0 |-|Gc6|-|    |-|   |-|   |-|    |-|   |-|   |---\n",
      "Qubit 2 ---|Gc14|-|⊕1 |-|●4 |-|   |-|   |-|⊕4 |-| ●3 |-|   |-|    |-|   |-|●1 |-|    |-|⊕3 |-|Gc9|-|    |-|   |-|    |-|   |-|   |-|    |-|   |-|   |-|    |-|   |-|   |---\n",
      "Qubit 3 ---|    |-|   |-|   |-|   |-|   |-|   |-| ⊕2 |-|⊕4 |-|Gc15|-|⊕1 |-|⊕4 |-|Gc15|-|●2 |-|●1 |-|Gc15|-|⊕0 |-|    |-|   |-|●0 |-|    |-|   |-|●0 |-|    |-|⊕0 |-|Gc9|---\n",
      "Qubit 4 ---|Gc2 |-|   |-|⊕2 |-|⊕1 |-|Gc2|-|●2 |-|Gc15|-|●3 |-|    |-|   |-|●3 |-| ⊕0 |-|   |-|   |-| ●1 |-|   |-|    |-|   |-|   |-|    |-|●0 |-|   |-|    |-|   |-|   |---\n",
      "\n",
      "Original circuit depth = 25\n",
      "Original circuit size = 55\n",
      "Original circuit mulit-qubit-gate count = 19\n"
     ]
    }
   ],
   "source": [
    "print(\"Original circuit:\",end='\\n\\n')\n",
    "print(circuit)\n",
    "print(\"Original circuit depth =\", circuit.depth())\n",
    "print(\"Original circuit size =\", circuit.size())\n",
    "print(\"Original circuit mulit-qubit-gate count =\", circuit.multiQgate_count())\n",
    "print(\"New circuit:\",end='\\n\\n')\n",
    "print(new_circuit)\n",
    "print(\"Original circuit depth =\", new_circuit.depth())\n",
    "print(\"Original circuit size =\", new_circuit.size())\n",
    "print(\"Original circuit mulit-qubit-gate count =\", new_circuit.multiQgate_count())"
   ]
  },
  {
   "cell_type": "code",
   "execution_count": 19,
   "metadata": {
    "collapsed": true,
    "deletable": true,
    "editable": true
   },
   "outputs": [],
   "source": [
    "stateprep_circuit = pygsti.algorithms.compile_stabilizer_state(s, p, pspec=pspec2, iterations=1000)"
   ]
  },
  {
   "cell_type": "code",
   "execution_count": 20,
   "metadata": {
    "collapsed": false,
    "deletable": true,
    "editable": true
   },
   "outputs": [
    {
     "name": "stdout",
     "output_type": "stream",
     "text": [
      "Qubit 0 ---|Gc2|-|⊕2 |-|Gc9 |---\n",
      "Qubit 1 ---|Gc2|-|⊕4 |-|Gc14|---\n",
      "Qubit 2 ---|Gc2|-|●0 |-|Gc17|---\n",
      "Qubit 3 ---|Gc2|-|   |-|    |---\n",
      "Qubit 4 ---|Gc2|-|●1 |-|Gc17|---\n",
      "\n"
     ]
    }
   ],
   "source": [
    "print(stateprep_circuit)"
   ]
  },
  {
   "cell_type": "markdown",
   "metadata": {
    "deletable": true,
    "editable": true
   },
   "source": [
    "Samples a uniformly random Clifford in the \"symplectic rep\". This is the format that a Clifford should be provided to the Clifford compiling function in."
   ]
  },
  {
   "cell_type": "code",
   "execution_count": 21,
   "metadata": {
    "collapsed": false,
    "deletable": true,
    "editable": true
   },
   "outputs": [],
   "source": [
    "nQubits_for_clifford = 2\n",
    "s, p = pygsti.random_clifford(nQubits_for_clifford)"
   ]
  },
  {
   "cell_type": "code",
   "execution_count": 22,
   "metadata": {
    "collapsed": false,
    "deletable": true,
    "editable": true
   },
   "outputs": [
    {
     "name": "stdout",
     "output_type": "stream",
     "text": [
      "Qubit Q1 ---|Gxpi2|-|●Q2|-|Gh|-|Gypi2|-|  |---\n",
      "Qubit Q2 ---| Gh  |-|●Q1|-|Gh|-|Gypi2|-|Gh|---\n",
      "\n"
     ]
    }
   ],
   "source": [
    "# The qubits to compile the Clifford for. This doesn't need to be passed to the compiler\n",
    "# if this is all the qubits in `pspec`. Nor is it necessary to specify `pspec`, ....\n",
    "subsetQs = ['Q1','Q2']\n",
    "circuit = pygsti.algorithms.compile_clifford(s,p,pspec=pspec,subsetQs=subsetQs)\n",
    "print(circuit)"
   ]
  },
  {
   "cell_type": "code",
   "execution_count": 23,
   "metadata": {
    "collapsed": false,
    "deletable": true,
    "editable": true
   },
   "outputs": [
    {
     "name": "stdout",
     "output_type": "stream",
     "text": [
      "Qubit Q1 ---|Gypi2|-|Gzpi2|-|Gh|-|●Q2|-|Gypi2|---\n",
      "Qubit Q2 ---|Gypi2|-|Gzpi2|-|  |-|●Q1|-|Gypi2|---\n",
      "\n"
     ]
    }
   ],
   "source": [
    "circuit = pygsti.algorithms.compile_stabilizer_state(s,p,pspec=pspec,subsetQs=subsetQs)\n",
    "print(circuit)"
   ]
  },
  {
   "cell_type": "code",
   "execution_count": null,
   "metadata": {
    "collapsed": true,
    "deletable": true,
    "editable": true
   },
   "outputs": [],
   "source": []
  }
 ],
 "metadata": {
  "kernelspec": {
   "display_name": "Python 3",
   "language": "python",
   "name": "python3"
  },
  "language_info": {
   "codemirror_mode": {
    "name": "ipython",
    "version": 3
   },
   "file_extension": ".py",
   "mimetype": "text/x-python",
   "name": "python",
   "nbconvert_exporter": "python",
   "pygments_lexer": "ipython3",
   "version": "3.6.4"
  }
 },
 "nbformat": 4,
 "nbformat_minor": 1
}
