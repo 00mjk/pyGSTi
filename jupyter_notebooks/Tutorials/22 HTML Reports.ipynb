{
 "cells": [
  {
   "cell_type": "markdown",
   "metadata": {
    "deletable": true,
    "editable": true
   },
   "source": [
    "## Tutorial showing new \"HTML\" reports\n",
    "\n",
    "PyGSTi has transitioned to producing HTML (rather than LaTeX/PDF) reports.  The way to generate such report is largely unchanged, with one important exception.  Previously, the `Results` object had various report-generation methods included within it.  We've found this is too restrictive, as we'd sometimes like to generate a report which utilizes the results from multiple runs of GST (to compare the, for instance).  Thus, the `Results` class is now just a container for a `DataSet` and its related `GateSet`s, `GatestringStructure`s, etc.  All of the report-generation capability is now housed in within separate report functions, which we now demonstrate.\n",
    "\n",
    "This change allows the reports to include **interactive plots** and **switches**, making it easier to compare different types of analysis or data sets. \n",
    "\n",
    "\n",
    "### Get some data\n",
    "We start by performing GST using `do_long_sequence_gst`, as usual, to create a `Results` object (we could also have just loaded one from file)."
   ]
  },
  {
   "cell_type": "code",
   "execution_count": 1,
   "metadata": {
    "collapsed": false,
    "deletable": true,
    "editable": true
   },
   "outputs": [],
   "source": [
    "import pygsti\n",
    "from pygsti.construction import std1Q_XYI\n",
    "from pygsti.tools        import timed_block # For high-level, low detail profiling info"
   ]
  },
  {
   "cell_type": "code",
   "execution_count": 2,
   "metadata": {
    "collapsed": false,
    "deletable": true,
    "editable": true
   },
   "outputs": [],
   "source": [
    "gs_target = std1Q_XYI.gs_target\n",
    "fiducials = std1Q_XYI.fiducials\n",
    "germs = std1Q_XYI.germs\n",
    "maxLengths = [1,2,4] #,8,16,32,64]"
   ]
  },
  {
   "cell_type": "code",
   "execution_count": 3,
   "metadata": {
    "collapsed": false,
    "deletable": true,
    "editable": true
   },
   "outputs": [],
   "source": [
    "#Generate some data\n",
    "gs_datagen = gs_target.depolarize(gate_noise=0.1, spam_noise=0.001)\n",
    "gs_datagen = gs_datagen.rotate(rotate=0.04)\n",
    "listOfExperiments = pygsti.construction.make_lsgst_experiment_list(gs_target, fiducials, fiducials, germs, maxLengths)\n",
    "ds = pygsti.construction.generate_fake_data(gs_datagen, listOfExperiments, nSamples=1000,\n",
    "                                            sampleError=\"binomial\", seed=1234)"
   ]
  },
  {
   "cell_type": "code",
   "execution_count": 4,
   "metadata": {
    "collapsed": false,
    "deletable": true,
    "editable": true
   },
   "outputs": [],
   "source": [
    "#Run GST\n",
    "gs_target.set_all_parameterizations(\"TP\") #TP-constrained\n",
    "results = pygsti.do_long_sequence_gst(ds, gs_target, fiducials, fiducials, germs,\n",
    "                                      maxLengths, verbosity=0)"
   ]
  },
  {
   "cell_type": "markdown",
   "metadata": {
    "deletable": true,
    "editable": true
   },
   "source": [
    "### Make the reports\n",
    "Now that we have `results`, we use the methods within `pygsti.report.factory` to generate reports.  These reports are HTML pages that you can open in your browser or email to your friends.  Setting `auto_open=True` makes the finished report open in your web browser automatically.  "
   ]
  },
  {
   "cell_type": "code",
   "execution_count": 5,
   "metadata": {
    "collapsed": false,
    "deletable": true,
    "editable": true
   },
   "outputs": [
    {
     "name": "stdout",
     "output_type": "stream",
     "text": [
      "*** Creating workspace ***\n",
      "  Adding metadata\n",
      "*** Generating switchboard tables ***\n",
      "  Adding topSwitchboard:\n",
      "  topSwitchboard                                took 5e-06 seconds\n",
      "  \n",
      "  Adding goSwitchboard1:\n",
      "  goSwitchboard1                                took 2e-05 seconds\n",
      "  \n",
      "  Adding goSwitchboard2:\n",
      "  goSwitchboard2                                took 1e-05 seconds\n",
      "  \n",
      "  Adding maxLSwitchboard1:\n",
      "  maxLSwitchboard1                              took 1.5e-05 seconds\n",
      "  \n",
      "  Adding targetSpamBriefTable:\n",
      "Added SpamTable._create to hash-ineffective functions\n",
      "  targetSpamBriefTable                          took 0.007863 seconds\n",
      "  \n",
      "  Adding targetGatesBoxTable:\n",
      "  targetGatesBoxTable                           took 0.034991 seconds\n",
      "  \n",
      "  Adding datasetOverviewTable:\n",
      "  datasetOverviewTable                          took 0.011814 seconds\n",
      "  \n",
      "None\n",
      "  Adding bestGatesetSpamParametersTable:\n",
      "Added SpamParametersTable._create to hash-ineffective functions\n",
      "  bestGatesetSpamParametersTable                took 0.003499 seconds\n",
      "  \n",
      "  Adding bestGatesetSpamBriefTable:\n",
      "  bestGatesetSpamBriefTable                     took 0.001664 seconds\n",
      "  \n",
      "  Adding bestGatesetSpamVsTargetTable:\n",
      "Added SpamVsTargetTable._create to hash-ineffective functions\n",
      "  bestGatesetSpamVsTargetTable                  took 0.008075 seconds\n",
      "  \n",
      "  Adding bestGatesetGaugeOptParamsTable:\n",
      "Added GaugeOptParamsTable._create to hash-ineffective functions\n",
      "  bestGatesetGaugeOptParamsTable                took 0.002877 seconds\n",
      "  \n",
      "  Adding bestGatesetGatesBoxTable:\n",
      "  bestGatesetGatesBoxTable                      took 0.02301 seconds\n",
      "  \n",
      "  Adding bestGatesetChoiEvalTable:\n",
      "  bestGatesetChoiEvalTable                      took 0.011031 seconds\n",
      "  \n",
      "  Adding bestGatesetDecompTable:\n",
      "  bestGatesetDecompTable                        took 0.501217 seconds\n",
      "  \n",
      "  Adding bestGatesetEvalTable:\n",
      "Added GateEigenvalueTable._create to hash-ineffective functions\n",
      "  bestGatesetEvalTable                          took 0.006639 seconds\n",
      "  \n",
      "  Adding bestGatesetRelEvalTable:\n",
      "  bestGatesetRelEvalTable                       took 0.00121 seconds\n",
      "  \n",
      "  Adding bestGatesetVsTargetTable:\n",
      "  bestGatesetVsTargetTable                      took 0.234329 seconds\n",
      "  \n",
      "  Adding bestGatesetVsTargetTable_sum:\n",
      "  bestGatesetVsTargetTable_sum                  took 0.005636 seconds\n",
      "  \n",
      "  Adding bestGatesetErrGenBoxTable:\n",
      "  bestGatesetErrGenBoxTable                     took 0.083172 seconds\n",
      "  \n",
      "  Adding metadataTable:\n",
      "Added MetadataTable._create to hash-ineffective functions\n",
      "  metadataTable                                 took 0.017083 seconds\n",
      "  \n",
      "  Adding softwareEnvTable:\n",
      "  softwareEnvTable                              took 0.012866 seconds\n",
      "  \n",
      "  Adding fiducialListTable:\n",
      "Added GatestringTable._create to hash-ineffective functions\n",
      "  fiducialListTable                             took 0.001107 seconds\n",
      "  \n",
      "  Adding prepStrListTable:\n",
      "  prepStrListTable                              took 0.00013 seconds\n",
      "  \n",
      "  Adding effectStrListTable:\n",
      "  effectStrListTable                            took 0.000223 seconds\n",
      "  \n",
      "  Adding germList2ColTable:\n",
      "  germList2ColTable                             took 0.000288 seconds\n",
      "  \n",
      "  Adding progressTable:\n",
      "  progressTable                                 took 0.064298 seconds\n",
      "  \n",
      "*** Generating plots ***\n",
      "  Adding gramBarPlot:\n",
      "  gramBarPlot                                   took 0.012547 seconds\n",
      "  \n",
      "  Adding progressBarPlot:\n",
      "  progressBarPlot                               took 0.064082 seconds\n",
      "  \n",
      "  Adding dataScalingColorBoxPlot:\n",
      "  dataScalingColorBoxPlot                       took 0.023141 seconds\n",
      "  \n",
      "  Adding bestEstimateColorScatterPlot:\n",
      "  bestEstimateColorScatterPlot                  took 0.529656 seconds\n",
      "  \n",
      "*** Merging into template file ***\n",
      "Output written to tutorial_files/exampleGenReport.html\n",
      "Opening tutorial_files/exampleGenReport.html...\n",
      "general report took 1.84834 seconds\n",
      "\n"
     ]
    }
   ],
   "source": [
    "#This report is very similar to the \"general\" PDF report in previous\n",
    "# versions of pyGSTi, and is geared toward data from one or more\n",
    "# qubits or qutrits.\n",
    "with timed_block('general report'):\n",
    "    pygsti.report.create_general_report(results, \"tutorial_files/exampleGenReport.html\",\n",
    "                                        verbosity=3, auto_open=True)"
   ]
  },
  {
   "cell_type": "markdown",
   "metadata": {
    "deletable": true,
    "editable": true
   },
   "source": [
    "Next, let's analyze the same data two different ways: with and without the TP-constraint (i.e. whether the gates *must* be trace-preserving) and furthermore gauge optmimize each case using several different SPAM-weights.  In each case we'll call `do_long_sequence_gst` with `gaugeOptParams=False`, so that no gauge optimization is done, and then perform several gauge optimizations separately and add these to the `Results` object via its `add_gaugeoptimized` function."
   ]
  },
  {
   "cell_type": "code",
   "execution_count": 6,
   "metadata": {
    "collapsed": false,
    "deletable": true,
    "editable": true
   },
   "outputs": [],
   "source": [
    "#Case1: TP-constrained GST\n",
    "tpTarget = gs_target.copy()\n",
    "tpTarget.set_all_parameterizations(\"TP\")\n",
    "results_tp = pygsti.do_long_sequence_gst(ds, tpTarget, fiducials, fiducials, germs,\n",
    "                                      maxLengths, gaugeOptParams=False, verbosity=0)\n",
    "\n",
    "#Gauge optimize\n",
    "est = results_tp.estimates['default']\n",
    "gsFinal = est.gatesets['final iteration estimate']\n",
    "gsTarget = est.gatesets['target']\n",
    "for spamWt in [1e-4,1e-3,1e-2,1e-1,1.0]:\n",
    "    gs = pygsti.gaugeopt_to_target(gsFinal,gsTarget,{'gates':1, 'spam':spamWt})\n",
    "    est.add_gaugeoptimized({'itemWeights': {'gates':1, 'spam':spamWt}}, gs, \"Spam %g\" % spamWt)"
   ]
  },
  {
   "cell_type": "code",
   "execution_count": 7,
   "metadata": {
    "collapsed": false,
    "deletable": true,
    "editable": true
   },
   "outputs": [],
   "source": [
    "#Case2: \"Full\" GST\n",
    "fullTarget = gs_target.copy()\n",
    "fullTarget.set_all_parameterizations(\"full\")\n",
    "results_full = pygsti.do_long_sequence_gst(ds, fullTarget, fiducials, fiducials, germs,\n",
    "                                      maxLengths, gaugeOptParams=False, verbosity=0)\n",
    "\n",
    "#Gauge optimize\n",
    "est = results_full.estimates['default']\n",
    "gsFinal = est.gatesets['final iteration estimate']\n",
    "gsTarget = est.gatesets['target']\n",
    "for spamWt in [1e-4,1e-3,1e-2,1e-1,1.0]:\n",
    "    gs = pygsti.gaugeopt_to_target(gsFinal,gsTarget,{'gates':1, 'spam':spamWt})\n",
    "    est.add_gaugeoptimized({'itemWeights': {'gates':1, 'spam':spamWt}}, gs, \"Spam %g\" % spamWt)"
   ]
  },
  {
   "cell_type": "markdown",
   "metadata": {
    "deletable": true,
    "editable": true
   },
   "source": [
    "We'll now call the *same* report factory functions but this time instead of passing a single `Results` object as the first argument we'll pass a *dictionary* of them.  This will result in a report that includes switches to select which case (\"TP\" or \"Full\") as well as which gauge optimization to display output quantities for."
   ]
  },
  {
   "cell_type": "code",
   "execution_count": 8,
   "metadata": {
    "collapsed": false,
    "deletable": true,
    "editable": true,
    "scrolled": true
   },
   "outputs": [
    {
     "name": "stdout",
     "output_type": "stream",
     "text": [
      "*** Creating workspace ***\n",
      "  Adding metadata\n",
      "*** Generating switchboard tables ***\n",
      "  Adding topSwitchboard:\n",
      "  topSwitchboard                                took 5e-06 seconds\n",
      "  \n",
      "  Adding goSwitchboard1:\n",
      "  goSwitchboard1                                took 2.1e-05 seconds\n",
      "  \n",
      "  Adding goSwitchboard2:\n",
      "  goSwitchboard2                                took 1.3e-05 seconds\n",
      "  \n",
      "  Adding maxLSwitchboard1:\n",
      "  maxLSwitchboard1                              took 9e-06 seconds\n",
      "  \n",
      "  Adding targetSpamBriefTable:\n",
      "Added SpamTable._create to hash-ineffective functions\n",
      "  targetSpamBriefTable                          took 0.003968 seconds\n",
      "  \n",
      "  Adding targetGatesBoxTable:\n",
      "  targetGatesBoxTable                           took 0.039057 seconds\n",
      "  \n",
      "  Adding datasetOverviewTable:\n",
      "  datasetOverviewTable                          took 0.013787 seconds\n",
      "  \n",
      "None\n",
      "  Adding bestGatesetSpamParametersTable:\n",
      "Added SpamParametersTable._create to hash-ineffective functions\n",
      "  bestGatesetSpamParametersTable                took 0.005704 seconds\n",
      "  \n",
      "  Adding bestGatesetSpamBriefTable:\n",
      "  bestGatesetSpamBriefTable                     took 0.024336 seconds\n",
      "  \n",
      "  Adding bestGatesetSpamVsTargetTable:\n",
      "Added SpamVsTargetTable._create to hash-ineffective functions\n",
      "  bestGatesetSpamVsTargetTable                  took 0.042975 seconds\n",
      "  \n",
      "  Adding bestGatesetGaugeOptParamsTable:\n",
      "Added GaugeOptParamsTable._create to hash-ineffective functions\n",
      "  bestGatesetGaugeOptParamsTable                took 0.000623 seconds\n",
      "  \n",
      "  Adding bestGatesetGatesBoxTable:\n",
      "  bestGatesetGatesBoxTable                      took 0.271353 seconds\n",
      "  \n",
      "  Adding bestGatesetChoiEvalTable:\n",
      "  bestGatesetChoiEvalTable                      took 0.097321 seconds\n",
      "  \n",
      "  Adding bestGatesetDecompTable:\n",
      "  bestGatesetDecompTable                        took 4.58059 seconds\n",
      "  \n",
      "  Adding bestGatesetEvalTable:\n",
      "Added GateEigenvalueTable._create to hash-ineffective functions\n",
      "  bestGatesetEvalTable                          took 0.014217 seconds\n",
      "  \n",
      "  Adding bestGatesetRelEvalTable:\n",
      "  bestGatesetRelEvalTable                       took 0.010202 seconds\n",
      "  \n",
      "  Adding bestGatesetVsTargetTable:\n",
      "  bestGatesetVsTargetTable                      took 1.241062 seconds\n",
      "  \n",
      "  Adding bestGatesetVsTargetTable_sum:\n",
      "  bestGatesetVsTargetTable_sum                  took 0.044135 seconds\n",
      "  \n",
      "  Adding bestGatesetErrGenBoxTable:\n",
      "  bestGatesetErrGenBoxTable                     took 0.857524 seconds\n",
      "  \n",
      "  Adding metadataTable:\n",
      "Added MetadataTable._create to hash-ineffective functions\n",
      "  metadataTable                                 took 0.022293 seconds\n",
      "  \n",
      "  Adding softwareEnvTable:\n",
      "  softwareEnvTable                              took 0.000361 seconds\n",
      "  \n",
      "  Adding fiducialListTable:\n",
      "Added GatestringTable._create to hash-ineffective functions\n",
      "  fiducialListTable                             took 0.001196 seconds\n",
      "  \n",
      "  Adding prepStrListTable:\n",
      "  prepStrListTable                              took 0.000246 seconds\n",
      "  \n",
      "  Adding effectStrListTable:\n",
      "  effectStrListTable                            took 0.000291 seconds\n",
      "  \n",
      "  Adding germList2ColTable:\n",
      "  germList2ColTable                             took 0.000286 seconds\n",
      "  \n",
      "  Adding progressTable:\n",
      "  progressTable                                 took 0.124972 seconds\n",
      "  \n",
      "*** Generating plots ***\n",
      "  Adding gramBarPlot:\n",
      "  gramBarPlot                                   took 0.021188 seconds\n",
      "  \n",
      "  Adding progressBarPlot:\n",
      "  progressBarPlot                               took 0.128061 seconds\n",
      "  \n",
      "  Adding dataScalingColorBoxPlot:\n",
      "  dataScalingColorBoxPlot                       took 0.046884 seconds\n",
      "  \n",
      "  Adding bestEstimateColorScatterPlot:\n",
      "  bestEstimateColorScatterPlot                  took 1.067793 seconds\n",
      "  \n",
      "  Adding multidataset:\n",
      "  Adding dataset comparison switchboard:\n",
      "  dataset comparison switchboard                took 8.9e-05 seconds\n",
      "  \n",
      "  Adding datacomparators:\n",
      "  datacomparators                               took 0.341156 seconds\n",
      "  \n",
      "  Adding dscmpSwitchBoard:\n",
      "  dscmpSwitchBoard                              took 3e-06 seconds\n",
      "  \n",
      "  Adding dsComparisonHistogram:\n",
      "  dsComparisonHistogram                         took 0.011797 seconds\n",
      "  \n",
      "  Adding dsComparisonBoxPlot:\n",
      "  dsComparisonBoxPlot                           took 0.136049 seconds\n",
      "  \n",
      "  multidataset                                  took 0.493959 seconds\n",
      "  \n",
      "*** Merging into template file ***\n",
      "Output written to tutorial_files/exampleMultiGenReport.html\n",
      "Opening tutorial_files/exampleMultiGenReport.html...\n",
      "TP/Full multi report took 9.952556 seconds\n",
      "\n"
     ]
    }
   ],
   "source": [
    "with timed_block('TP/Full multi report'):\n",
    "    pygsti.report.create_general_report({'TP': results_tp, \"Full\": results_full},\n",
    "                                        \"tutorial_files/exampleMultiGenReport.html\",verbosity=3,\n",
    "                                        auto_open=True)"
   ]
  },
  {
   "cell_type": "markdown",
   "metadata": {
    "collapsed": true,
    "deletable": true,
    "editable": true
   },
   "source": [
    "Note that these HTML reports are created quickly but require some time to load within a browser.  This is because the typsetting and figure rendering is done within your browser, rather than up front by `pdflatex`.  Also note that the plots in the new HTML reports are  interactive - a primary advantage of the HTML format.\n",
    "\n",
    "Other report formats such as **`beamer`-class PDF presentation and Powerpoint presentation have been dropped from pyGSTi**.  These presentation formats were rarely used and moreover we feel that the HTML format is able to provide all of the functionality that was present in these discontinued formats."
   ]
  },
  {
   "cell_type": "markdown",
   "metadata": {
    "collapsed": true,
    "deletable": true,
    "editable": true
   },
   "source": [
    "### Veteran users\n",
    "Try setting `brief` to `True` to produce more data-dense and useful versions of the reports."
   ]
  },
  {
   "cell_type": "code",
   "execution_count": 9,
   "metadata": {
    "collapsed": false,
    "deletable": true,
    "editable": true
   },
   "outputs": [
    {
     "name": "stdout",
     "output_type": "stream",
     "text": [
      "brief report took 1.1e-05 seconds\n",
      "\n"
     ]
    },
    {
     "ename": "TypeError",
     "evalue": "create_general_report() got an unexpected keyword argument 'brief'",
     "output_type": "error",
     "traceback": [
      "\u001b[0;31m---------------------------------------------------------------------------\u001b[0m",
      "\u001b[0;31mTypeError\u001b[0m                                 Traceback (most recent call last)",
      "\u001b[0;32m<ipython-input-9-6cb55b419a15>\u001b[0m in \u001b[0;36m<module>\u001b[0;34m()\u001b[0m\n\u001b[1;32m      1\u001b[0m \u001b[0;32mwith\u001b[0m \u001b[0mtimed_block\u001b[0m\u001b[0;34m(\u001b[0m\u001b[0;34m'brief report'\u001b[0m\u001b[0;34m)\u001b[0m\u001b[0;34m:\u001b[0m\u001b[0;34m\u001b[0m\u001b[0m\n\u001b[1;32m      2\u001b[0m     pygsti.report.create_general_report(results,\"tutorial_files/exampleGenReportBrief.html\", \n\u001b[0;32m----> 3\u001b[0;31m                                         brief=True, verbosity=3, auto_open=True)\n\u001b[0m",
      "\u001b[0;31mTypeError\u001b[0m: create_general_report() got an unexpected keyword argument 'brief'"
     ]
    }
   ],
   "source": [
    "with timed_block('brief report'):\n",
    "    pygsti.report.create_general_report(results,\"tutorial_files/exampleGenReportBrief.html\", \n",
    "                                        brief=True, verbosity=3, auto_open=True)"
   ]
  },
  {
   "cell_type": "markdown",
   "metadata": {
    "deletable": true,
    "editable": true
   },
   "source": [
    "### Sharing with others\n",
    "The report factory functions may be passed a boolean `connected` argument to specify whether online (`True`) or local (`False`) resources should be used by the generated report HTML files.  If `connected=False` (the default, and so what we used in this notebook), then the HTML files rely on the presence of an `offline` folder being in their directory to operate correctly.  The offline folder is automatically generated for you when you call any of the report factory functions, so you typically don't need to worry about it.  \n",
    "\n",
    "However, *sharing offline reports* (created with `connected=False`) requires the recipeint has pyGSTi's `offline` folder in the same diretory as any report HTML files.  To facilitate sharing, you can get a zipped copy of the offline folder by calling `create_offline_zip` like this:"
   ]
  },
  {
   "cell_type": "code",
   "execution_count": null,
   "metadata": {
    "collapsed": false,
    "deletable": true,
    "editable": true
   },
   "outputs": [],
   "source": [
    "pygsti.report.create_offline_zip(\"tutorial_files/\")\n",
    "  #creates .../tutorial_files/offline.zip"
   ]
  },
  {
   "cell_type": "markdown",
   "metadata": {
    "collapsed": true,
    "deletable": true,
    "editable": true
   },
   "source": [
    "If you use `connected=True`, then there's no need for the offline folder -- but you'll need to have an internet connection to load the HTML file."
   ]
  },
  {
   "cell_type": "code",
   "execution_count": null,
   "metadata": {
    "collapsed": true,
    "deletable": true,
    "editable": true
   },
   "outputs": [],
   "source": []
  }
 ],
 "metadata": {
  "kernelspec": {
   "display_name": "Python 3",
   "language": "python",
   "name": "python3"
  },
  "language_info": {
   "codemirror_mode": {
    "name": "ipython",
    "version": 3
   },
   "file_extension": ".py",
   "mimetype": "text/x-python",
   "name": "python",
   "nbconvert_exporter": "python",
   "pygments_lexer": "ipython3",
   "version": "3.5.2"
  }
 },
 "nbformat": 4,
 "nbformat_minor": 2
}
