{
 "cells": [
  {
   "cell_type": "markdown",
   "metadata": {},
   "source": [
    "# Demo of benchmarking a 4-qubit parity check\n",
    "This notebook demonstrates how to compute the \"weight-X disturbance\" error metric between a *reference* and *test* data set using pyGSTi."
   ]
  },
  {
   "cell_type": "code",
   "execution_count": 1,
   "metadata": {},
   "outputs": [
    {
     "name": "stdout",
     "output_type": "stream",
     "text": [
      "['CVXOPT', 'ECOS', 'ECOS_BB', 'GLPK', 'GLPK_MI', 'OSQP', 'SCS']\n"
     ]
    }
   ],
   "source": [
    "import numpy as np\n",
    "import scipy as sp\n",
    "import itertools\n",
    "from matplotlib import pyplot as plt\n",
    "import seaborn as sns\n",
    "import time\n",
    "import cvxpy\n",
    "sns.set_style('white')\n",
    "%matplotlib inline\n",
    "\n",
    "import pygsti.extras.paritybenchmarking as pb\n",
    "#Note: if you don't want to install pyGSTi to run this notebook,\n",
    "# just grab the pygsti/extras/paritybenchmarking/disturbancecalc.py file, put it\n",
    "# in the same directory as this notebook, and use this line instead of the one above:\n",
    "# import disturbancecalc as pb\n",
    "\n",
    "print(cvxpy.installed_solvers())\n",
    "SOLVER='SCS'  # if you see 'MOSEK' as an option below, change this to SOLVER='MOSEK' \n",
    "              # as this is a better (but less widely available) solver"
   ]
  },
  {
   "cell_type": "markdown",
   "metadata": {},
   "source": [
    "## Setup\n",
    "Here's some setup so we can easily work with probability distributions as arrays of probabilities, indexed by bitstring."
   ]
  },
  {
   "cell_type": "code",
   "execution_count": 2,
   "metadata": {},
   "outputs": [],
   "source": [
    "n_bits = 4\n",
    "n_data_points = 10000\n",
    "\n",
    "class ProbabilityDistribution(np.ndarray):\n",
    "    def __new__(cls, n_bits):\n",
    "        self = super().__new__(cls, (2**n_bits,), float, np.zeros(2**n_bits, 'd'))\n",
    "        self.n_bits = n_bits\n",
    "        self.bs = [\"\".join(x) for x in itertools.product(*([('0', '1')] * n_bits))]\n",
    "        self.bi = {s: i for i,s in enumerate(self.bs)}\n",
    "        return self\n",
    "  \n",
    "    def __getitem__(self, key):\n",
    "        if isinstance(key, str):\n",
    "            return super().__getitem__(self.bi[key])\n",
    "        else:\n",
    "            return super().__getitem__(key)\n",
    "    \n",
    "    def __setitem__(self, key, val):\n",
    "        if isinstance(key, str):\n",
    "            return super().__setitem__(self.bi[key], val)\n",
    "        else:\n",
    "            return super().__setitem__(key, val)\n",
    "    \n",
    "    def __str__(self):\n",
    "        return '\\n'.join([\"%s: %g\" % (s, v) for s,v in zip(self.bs, self)]) + '\\n'"
   ]
  },
  {
   "cell_type": "markdown",
   "metadata": {},
   "source": [
    "## The main demo: a simple example\n",
    "Let's start with an example problem, computing the weight-1 to weight-4 disturbances based on some data.  This demonstrates the main interface to using the `disturbancecalc.py` code: the `compute_disturbances` function."
   ]
  },
  {
   "cell_type": "code",
   "execution_count": 3,
   "metadata": {},
   "outputs": [],
   "source": [
    "# Define the reference distribution - in this case, it's equal to the target distribution\n",
    "p_ref = ProbabilityDistribution(n_bits)\n",
    "p_ref['0000'] = .5\n",
    "p_ref['1111'] = .5\n",
    "data_ref = np.array( p_ref * n_data_points, dtype='int')  # no finite sample error\n",
    "# data_ref = np.random.multinomial(n_data_points, p_ref)\n",
    "\n",
    "# Define the reference distribution - we get this by moving \n",
    "#    .05 from 0000 to 0001 (a weight-1 error)\n",
    "#    .05 from 0000 to 1111 (a weight-4 error)\n",
    "p_test = ProbabilityDistribution(n_bits)\n",
    "p_test['0000'] = .40\n",
    "p_test['0001'] = .05\n",
    "p_test['1111'] = .55\n",
    "data_test = np.array(p_test * n_data_points, dtype='int')  # no finite sample error\n",
    "# data_test = np.random.multinomial(n_data_points, p_test)"
   ]
  },
  {
   "cell_type": "code",
   "execution_count": 4,
   "metadata": {},
   "outputs": [
    {
     "name": "stdout",
     "output_type": "stream",
     "text": [
      "Computing base disturbances\n",
      "Analyzing bootstrap sample 1 of 20\n",
      "Analyzing bootstrap sample 2 of 20\n",
      "Analyzing bootstrap sample 3 of 20\n",
      "Analyzing bootstrap sample 4 of 20\n",
      "Analyzing bootstrap sample 5 of 20\n",
      "Analyzing bootstrap sample 6 of 20\n",
      "Analyzing bootstrap sample 7 of 20\n",
      "Analyzing bootstrap sample 8 of 20\n",
      "Analyzing bootstrap sample 9 of 20\n",
      "Analyzing bootstrap sample 10 of 20\n",
      "Analyzing bootstrap sample 11 of 20\n",
      "Analyzing bootstrap sample 12 of 20\n",
      "Analyzing bootstrap sample 13 of 20\n",
      "Analyzing bootstrap sample 14 of 20\n",
      "Analyzing bootstrap sample 15 of 20\n",
      "Analyzing bootstrap sample 16 of 20\n",
      "Analyzing bootstrap sample 17 of 20\n",
      "Analyzing bootstrap sample 18 of 20\n",
      "Analyzing bootstrap sample 19 of 20\n",
      "Analyzing bootstrap sample 20 of 20\n"
     ]
    }
   ],
   "source": [
    "# The actual disturbance computation\n",
    "disturbances = pb.compute_disturbances(n_bits, data_ref, data_test, solver=SOLVER)"
   ]
  },
  {
   "cell_type": "code",
   "execution_count": 5,
   "metadata": {},
   "outputs": [
    {
     "name": "stdout",
     "output_type": "stream",
     "text": [
      "Weight-1 disturbance = 0.0499999 +/- 0.00242537\n",
      "Weight-2 disturbance = 5.89902e-08 +/- 0.0003648\n",
      "Weight-3 disturbance = 6.93889e-18 +/- 0.000304087\n",
      "Weight-4 disturbance = 0.05 +/- 0.00670467\n"
     ]
    }
   ],
   "source": [
    "# This shows how the returned `disturbances` list is interpreted (see the dostring too)\n",
    "for i,d in enumerate(disturbances):\n",
    "    print(\"Weight-%d disturbance = %g +/- %g\" % (i+1,d[0],d[1]))"
   ]
  },
  {
   "cell_type": "markdown",
   "metadata": {},
   "source": [
    "**That's all there is to computing the disturbance metrics!**  From this point on, this notebook just shows some of the other things the QPL has done to test and verify that the disturbance metrics are computed correctly and behave as they're supposed to.\n",
    "\n",
    "-----------------\n",
    "\n",
    "## Testing and verification"
   ]
  },
  {
   "cell_type": "markdown",
   "metadata": {},
   "source": [
    "### Test problems.\n",
    "Below we put what we did above in the \"main demo\" section into a function so it's easier to run, and perform a bunch of simple tests to ensure that the disturbance behavior agrees with our intuition."
   ]
  },
  {
   "cell_type": "code",
   "execution_count": 6,
   "metadata": {},
   "outputs": [],
   "source": [
    "def gen_data(p_test_dict, p_ref_dict = None, include_finite_sample_error=False, seed=12345):\n",
    "    # Define the reference distribution - in this case, it's equal to the target distribution\n",
    "    p_ref = ProbabilityDistribution(n_bits)\n",
    "    for k,v in p_ref_dict.items(): p_ref[k] = v\n",
    "        \n",
    "    if include_finite_sample_error:\n",
    "        np.random.seed(seed)\n",
    "        data_ref = np.random.multinomial(n_data_points, p_ref)\n",
    "    else:\n",
    "        data_ref = np.array( p_ref * n_data_points, dtype='int')  # no finite sample error\n",
    "   \n",
    "    # Define the reference distribution - we get this by moving \n",
    "    p_test = ProbabilityDistribution(n_bits)\n",
    "    for k,v in p_test_dict.items(): p_test[k] = v\n",
    "        \n",
    "    if include_finite_sample_error:\n",
    "        data_test = np.random.multinomial(n_data_points, p_test)\n",
    "    else:\n",
    "        data_test = np.array( p_test * n_data_points, dtype='int')  # no finite sample error\n",
    "        \n",
    "    return data_ref, data_test\n",
    "        \n",
    "\n",
    "def test(p_test_dict, p_ref_dict = None, include_finite_sample_error=False, seed=12345, confidence_percent=68):\n",
    "    if p_ref_dict is None:\n",
    "        p_ref_dict = {'0000': 0.5, '1111': 0.5}\n",
    "    \n",
    "    data_ref, data_test = gen_data(p_test_dict, p_ref_dict, include_finite_sample_error, seed)\n",
    "    disturbances = pb.compute_disturbances(n_bits, data_ref, data_test, verbosity=0, solver=SOLVER)\n",
    "    print(\"TEST (finite sampling = %s)\" % include_finite_sample_error)\n",
    "    print(\"p_ref = \", p_ref_dict)\n",
    "    print(\"p_test = \", p_test_dict)\n",
    "    for i,d in enumerate(disturbances):\n",
    "        if d[1] is None:\n",
    "            print(\"Weight-%d disturbance = %g\" % (i+1,d[0]))\n",
    "        else:\n",
    "            print(\"Weight-%d disturbance = %g +/- %g\" % (i+1,d[0],d[1]))\n",
    "    print()"
   ]
  },
  {
   "cell_type": "markdown",
   "metadata": {},
   "source": [
    "#### No finite sample error\n",
    "The tests below have no sample error.  In other words, we've just constructed fake \"data\" where the observed frequencies are equal to known probabilities for which we know what the disturbance metrics should be.  So these tests are crafted to make it easy to interpret the outcome disturbances, and to make sure (for instance) that if we've constructed a pair of distributions that differ by a weight-2 error, we get a nonzero weight-2 disturbance (but approximately zero for the other disturbance metrics)."
   ]
  },
  {
   "cell_type": "code",
   "execution_count": 7,
   "metadata": {},
   "outputs": [
    {
     "name": "stdout",
     "output_type": "stream",
     "text": [
      "TEST (finite sampling = False)\n",
      "p_ref =  {'0000': 0.5, '1111': 0.5}\n",
      "p_test =  {'0000': 0.45, '0001': 0.05, '1111': 0.5}\n",
      "Weight-1 disturbance = 0.05 +/- 0.00495578\n",
      "Weight-2 disturbance = 1.10086e-09 +/- 0.00037692\n",
      "Weight-3 disturbance = 0 +/- 0.00461371\n",
      "Weight-4 disturbance = 0 +/- 0.00482594\n",
      "\n",
      "TEST (finite sampling = False)\n",
      "p_ref =  {'0000': 0.5, '1111': 0.5}\n",
      "p_test =  {'0000': 0.45, '0011': 0.05, '1111': 0.5}\n",
      "Weight-1 disturbance = 0 +/- 0.0005025\n",
      "Weight-2 disturbance = 0.0499994 +/- 0.00183641\n",
      "Weight-3 disturbance = 5.68003e-07 +/- 0.000166949\n",
      "Weight-4 disturbance = 0 +/- 0.00402055\n",
      "\n",
      "TEST (finite sampling = False)\n",
      "p_ref =  {'0000': 0.5, '1111': 0.5}\n",
      "p_test =  {'0000': 0.45, '0111': 0.05, '1111': 0.5}\n",
      "Weight-1 disturbance = 0 +/- 0.00561147\n",
      "Weight-2 disturbance = 0 +/- 0.000406019\n",
      "Weight-3 disturbance = 0.0499999 +/- 0.00542124\n",
      "Weight-4 disturbance = 1.28928e-07 +/- 0.00422853\n",
      "\n",
      "TEST (finite sampling = False)\n",
      "p_ref =  {'0000': 0.5, '1111': 0.5}\n",
      "p_test =  {'0000': 0.45, '1111': 0.55}\n",
      "Weight-1 disturbance = 0 +/- 0.000300306\n",
      "Weight-2 disturbance = 0 +/- 0.000390241\n",
      "Weight-3 disturbance = 0 +/- 0.000328765\n",
      "Weight-4 disturbance = 0.05 +/- 0.0062986\n",
      "\n"
     ]
    }
   ],
   "source": [
    "#Simple tests - no finite sample error\n",
    "test({'0000': 0.45, '0001': 0.05, '1111': 0.5}) # weight 1 movement \n",
    "test({'0000': 0.45, '0011': 0.05, '1111': 0.5}) # weight 2 movement \n",
    "test({'0000': 0.45, '0111': 0.05, '1111': 0.5}) # weight 3 movement\n",
    "test({'0000': 0.45, '1111': 0.55}) # weight 4 movement"
   ]
  },
  {
   "cell_type": "code",
   "execution_count": 8,
   "metadata": {},
   "outputs": [
    {
     "name": "stdout",
     "output_type": "stream",
     "text": [
      "TEST (finite sampling = False)\n",
      "p_ref =  {'0000': 0.5, '1111': 0.5}\n",
      "p_test =  {'0000': 0.4, '0001': 0.05, '1111': 0.55}\n",
      "Weight-1 disturbance = 0.0499999 +/- 0.00242537\n",
      "Weight-2 disturbance = 5.89902e-08 +/- 0.0003648\n",
      "Weight-3 disturbance = 6.93889e-18 +/- 0.000304087\n",
      "Weight-4 disturbance = 0.05 +/- 0.00670467\n",
      "\n",
      "TEST (finite sampling = False)\n",
      "p_ref =  {'0000': 0.5, '1111': 0.5}\n",
      "p_test =  {'0000': 0.4, '0011': 0.05, '1111': 0.55}\n",
      "Weight-1 disturbance = 0 +/- 0.000312496\n",
      "Weight-2 disturbance = 0.0499999 +/- 0.00183393\n",
      "Weight-3 disturbance = 7.38905e-08 +/- 0.000338506\n",
      "Weight-4 disturbance = 0.05 +/- 0.00655944\n",
      "\n",
      "TEST (finite sampling = False)\n",
      "p_ref =  {'0000': 0.5, '1111': 0.5}\n",
      "p_test =  {'0000': 0.4, '0111': 0.05, '1111': 0.55}\n",
      "Weight-1 disturbance = 0 +/- 0.000263019\n",
      "Weight-2 disturbance = 0 +/- 0.000408173\n",
      "Weight-3 disturbance = 0.0499985 +/- 0.00198718\n",
      "Weight-4 disturbance = 0.0500015 +/- 0.00689566\n",
      "\n"
     ]
    }
   ],
   "source": [
    "#More complex tests\n",
    "test({'0000': 0.40, '0001': 0.05, '1111': 0.55}) # weight 1+4 movement \n",
    "test({'0000': 0.40, '0011': 0.05, '1111': 0.55}) # weight 2+4 movement \n",
    "test({'0000': 0.40, '0111': 0.05, '1111': 0.55}) # weight 3+4 movement"
   ]
  },
  {
   "cell_type": "code",
   "execution_count": 9,
   "metadata": {},
   "outputs": [
    {
     "name": "stdout",
     "output_type": "stream",
     "text": [
      "TEST (finite sampling = False)\n",
      "p_ref =  {'0000': 0.5, '1111': 0.5}\n",
      "p_test =  {'0000': 0.3, '0011': 0.1, '1111': 0.6}\n",
      "Weight-1 disturbance = 0 +/- 0.000318766\n",
      "Weight-2 disturbance = 0.1 +/- 0.00303416\n",
      "Weight-3 disturbance = 3.27893e-08 +/- 0.000276455\n",
      "Weight-4 disturbance = 0.1 +/- 0.00560245\n",
      "\n",
      "TEST (finite sampling = False)\n",
      "p_ref =  {'0000': 0.5, '1111': 0.5}\n",
      "p_test =  {'0000': 0.35, '0011': 0.08, '1111': 0.57}\n",
      "Weight-1 disturbance = 0 +/- 0.000311\n",
      "Weight-2 disturbance = 0.080007 +/- 0.00262872\n",
      "Weight-3 disturbance = 8.15726e-07 +/- 0.00028705\n",
      "Weight-4 disturbance = 0.0699571 +/- 0.00610216\n",
      "\n",
      "TEST (finite sampling = False)\n",
      "p_ref =  {'0000': 0.5, '1111': 0.5}\n",
      "p_test =  {'0000': 0.4, '0011': 0.08, '1111': 0.52}\n",
      "Weight-1 disturbance = 0 +/- 0.000313056\n",
      "Weight-2 disturbance = 0.08 +/- 0.00217089\n",
      "Weight-3 disturbance = -1.21828e-07 +/- 0.000285301\n",
      "Weight-4 disturbance = 0.0200001 +/- 0.00644852\n",
      "\n"
     ]
    }
   ],
   "source": [
    "#Different magnitudes of weight-2+4 movement\n",
    "test({'0000': 0.30, '0011': 0.1, '1111': 0.6})\n",
    "test({'0000': 0.35, '0011': 0.08, '1111': 0.57})\n",
    "test({'0000': 0.40, '0011': 0.08, '1111': 0.52})"
   ]
  },
  {
   "cell_type": "markdown",
   "metadata": {},
   "source": [
    "#### With finite sample error\n",
    "Now we add finite sample error.  In other words, we start with *known* probability distributions (constructed by hand like the ones above), then simulate N=10^4 samples from those distributions, and analyze the resulting empirical frequency distributions.  The point here is to (1) make sure that the estimated weight-2 disturbances are fairly close to the true ones, and (2) check that the error bar calculations correctly quantify the estimation error (i.e., provide valid confidence regions).\n",
    "\n",
    "We begin (next cell) by just making sure the results make sense."
   ]
  },
  {
   "cell_type": "code",
   "execution_count": 10,
   "metadata": {},
   "outputs": [
    {
     "name": "stdout",
     "output_type": "stream",
     "text": [
      "TEST (finite sampling = True)\n",
      "p_ref =  {'0000': 0.5, '1111': 0.5}\n",
      "p_test =  {'0000': 0.45, '0001': 0.05, '1111': 0.5}\n",
      "Weight-1 disturbance = 0.0487 +/- 0.00488947\n",
      "Weight-2 disturbance = -1.07682e-07 +/- 0.000372112\n",
      "Weight-3 disturbance = 0.000700073 +/- 0.00471902\n",
      "Weight-4 disturbance = 3.59135e-08 +/- 0.00441878\n",
      "\n",
      "TEST (finite sampling = True)\n",
      "p_ref =  {'0000': 0.5, '1111': 0.5}\n",
      "p_test =  {'0000': 0.45, '0011': 0.05, '1111': 0.5}\n",
      "Weight-1 disturbance = 0 +/- 0.000502397\n",
      "Weight-2 disturbance = 0.0493999 +/- 0.00184531\n",
      "Weight-3 disturbance = 9.04023e-08 +/- 0.000175917\n",
      "Weight-4 disturbance = 0 +/- 0.00361799\n",
      "\n",
      "TEST (finite sampling = True)\n",
      "p_ref =  {'0000': 0.5, '1111': 0.5}\n",
      "p_test =  {'0000': 0.45, '0111': 0.05, '1111': 0.5}\n",
      "Weight-1 disturbance = 0.000699997 +/- 0.00561825\n",
      "Weight-2 disturbance = -1.72458e-09 +/- 0.000410862\n",
      "Weight-3 disturbance = 0.0486987 +/- 0.00535869\n",
      "Weight-4 disturbance = 1.34224e-06 +/- 0.00386624\n",
      "\n",
      "TEST (finite sampling = True)\n",
      "p_ref =  {'0000': 0.5, '1111': 0.5}\n",
      "p_test =  {'0000': 0.45, '1111': 0.55}\n",
      "Weight-1 disturbance = 0 +/- 0.000299771\n",
      "Weight-2 disturbance = 2.08167e-17 +/- 0.000394631\n",
      "Weight-3 disturbance = -2.08167e-17 +/- 0.000316363\n",
      "Weight-4 disturbance = 0.0487 +/- 0.00629802\n",
      "\n"
     ]
    }
   ],
   "source": [
    "#Simple tests - *with* finite sample error\n",
    "test({'0000': 0.45, '0001': 0.05, '1111': 0.5}, include_finite_sample_error=True) # weight 1 movement \n",
    "test({'0000': 0.45, '0011': 0.05, '1111': 0.5}, include_finite_sample_error=True) # weight 2 movement \n",
    "test({'0000': 0.45, '0111': 0.05, '1111': 0.5}, include_finite_sample_error=True) # weight 3 movement\n",
    "test({'0000': 0.45, '1111': 0.55}, include_finite_sample_error=True) # weight 4 movement"
   ]
  },
  {
   "cell_type": "markdown",
   "metadata": {},
   "source": [
    "#### Check error bars\n",
    "Finally, we check that the error bars on the disturbances capture the \"true\" value of the disturbance an appropriate fraction of the time.  The histograms at the end of each of the cells below should show that the mean deviation/errorbar-lengths is around 1.0 (it should be $\\chi^2_1$-distributed).  **Note: these tests run a lot of calculations and can take a while to run.**  (Increasing `num_checks` will give better estimates of the distribution but will take longer.)"
   ]
  },
  {
   "cell_type": "code",
   "execution_count": 11,
   "metadata": {},
   "outputs": [],
   "source": [
    "def test_errorbars(p_test_dict, p_ref_dict = None, num_checks=20, confidence_percent=68):\n",
    "    if p_ref_dict is None:\n",
    "        p_ref_dict = {'0000': 0.5, '1111': 0.5}\n",
    "    \n",
    "    data_ref, data_test = gen_data(p_test_dict, p_ref_dict, False)\n",
    "    base_disturbances = pb.compute_disturbances(n_bits, data_ref, data_test, num_bootstrap_samples=0,\n",
    "                                                verbosity=0, solver=SOLVER)\n",
    "    for i,d in enumerate(base_disturbances):\n",
    "        print(\"Base weight-%d disturbance = %g\" % (i+1,d[0]))\n",
    "    \n",
    "    deviation_over_ebs = {i: [] for i in range(4)}\n",
    "    seeds = [ np.random.randint(1000000000) for i in range(num_checks) ]\n",
    "    for i,s in enumerate(seeds):\n",
    "        print(\"Check %d of %d\" % (i+1, num_checks))\n",
    "        data_ref, data_test = gen_data(p_test_dict, p_ref_dict, True, seed=s)\n",
    "        try:\n",
    "            disturbances = pb.compute_disturbances(n_bits, data_ref, data_test, num_bootstrap_samples=10,\n",
    "                                                   verbosity=0, solver=SOLVER)\n",
    "        except Exception as e:\n",
    "            print(\"EXCEPTION: \", str(e))\n",
    "            continue\n",
    "\n",
    "        for i,(d,dbase) in enumerate(zip(disturbances, base_disturbances)):\n",
    "            deviation_over_eb = abs((d[0] - dbase[0]) / (d[1] + 1e-6))  # add 1e-6 to avoid divide-by-zero errors\n",
    "            deviation_over_ebs[i].append(deviation_over_eb)\n",
    "            print(\"Weight-%d disturbance = %g +/- %g  (deviation=%s)\" % (i+1,d[0],d[1],deviation_over_eb))\n",
    "    \n",
    "    print(\"Percentanges within %d%% confidence region:\" % confidence_percent)\n",
    "    for i, pts in deviation_over_ebs.items():\n",
    "        print(\"Weight %d: \" % (i+1), pts)\n",
    "        plt.figure()\n",
    "        plt.title(\"Weight %d ResidualTVD deviation distribution\" % (i+1))\n",
    "        plt.xlabel(\"deviation / error_bar_length\")\n",
    "        plt.ylabel(\"counts\")\n",
    "        plt.hist(pts) \n",
    "    print()"
   ]
  },
  {
   "cell_type": "code",
   "execution_count": 12,
   "metadata": {
    "scrolled": true
   },
   "outputs": [
    {
     "name": "stdout",
     "output_type": "stream",
     "text": [
      "Base weight-1 disturbance = 0.05\n",
      "Base weight-2 disturbance = 1.10086e-09\n",
      "Base weight-3 disturbance = 0\n",
      "Base weight-4 disturbance = 0\n",
      "Check 1 of 20\n",
      "Weight-1 disturbance = 0.0494 +/- 0.00460153  (deviation=0.13036299308475294)\n",
      "Weight-2 disturbance = -1.34469e-08 +/- 0.000425477  (deviation=3.411133328408226e-05)\n",
      "Weight-3 disturbance = 0.000799972 +/- 0.00468402  (deviation=0.17075094687779507)\n",
      "Weight-4 disturbance = 4.1963e-08 +/- 0.00406563  (deviation=1.031886271500472e-05)\n",
      "Check 2 of 20\n",
      "Weight-1 disturbance = 0.0457965 +/- 0.00138025  (deviation=3.0432869303305115)\n",
      "Weight-2 disturbance = 3.51462e-06 +/- 0.000407241  (deviation=0.00860649619253985)\n",
      "Weight-3 disturbance = -5.40749e-07 +/- 0.00142931  (deviation=0.000378065474991224)\n",
      "Weight-4 disturbance = 0.00280057 +/- 0.00679057  (deviation=0.41235961190612186)\n",
      "Check 3 of 20\n",
      "Weight-1 disturbance = 0.0464 +/- 0.00520311  (deviation=0.6917617087805618)\n",
      "Weight-2 disturbance = -1.8487e-07 +/- 0.000428362  (deviation=0.00043313172368726914)\n",
      "Weight-3 disturbance = 0.00360008 +/- 0.00503328  (deviation=0.715113599208818)\n",
      "Weight-4 disturbance = 1.10842e-07 +/- 0.00277362  (deviation=3.994837217561931e-05)\n",
      "Check 4 of 20\n",
      "Weight-1 disturbance = 0.0391993 +/- 0.00630984  (deviation=1.7114549933777028)\n",
      "Weight-2 disturbance = 7.17334e-07 +/- 0.000399273  (deviation=0.0017893598163647604)\n",
      "Weight-3 disturbance = 0.00949987 +/- 0.00615116  (deviation=1.5441512055918392)\n",
      "Weight-4 disturbance = 1.42267e-07 +/- 0.000949762  (deviation=0.00014963433331613744)\n",
      "Check 5 of 20\n",
      "Weight-1 disturbance = 0.0491 +/- 0.00400245  (deviation=0.22480682863387044)\n",
      "Weight-2 disturbance = -1.1895e-07 +/- 0.000386118  (deviation=0.00031011488949726963)\n",
      "Weight-3 disturbance = -2.15182e-07 +/- 0.00413946  (deviation=5.197049842586825e-05)\n",
      "Weight-4 disturbance = 0.000900338 +/- 0.00442171  (deviation=0.2035713232122587)\n",
      "Check 6 of 20\n",
      "Weight-1 disturbance = 0.0481999 +/- 0.0047884  (deviation=0.3758519141715708)\n",
      "Weight-2 disturbance = -8.12725e-07 +/- 0.000408653  (deviation=0.001986622674206851)\n",
      "Weight-3 disturbance = 0.00500077 +/- 0.00434266  (deviation=1.1512805730258522)\n",
      "Weight-4 disturbance = 1.48783e-07 +/- 0.00330193  (deviation=4.504589548871245e-05)\n",
      "Check 7 of 20\n",
      "Weight-1 disturbance = 0.0410999 +/- 0.00606265  (deviation=1.4677757728575789)\n",
      "Weight-2 disturbance = -1.3574e-07 +/- 0.000396628  (deviation=0.0003441422196887432)\n",
      "Weight-3 disturbance = 0.00770012 +/- 0.00591765  (deviation=1.3009912857095018)\n",
      "Weight-4 disturbance = 1.05135e-07 +/- 0.0013204  (deviation=7.956290170478062e-05)\n",
      "Check 8 of 20\n",
      "Weight-1 disturbance = 0.0436999 +/- 0.00369935  (deviation=1.7025758061980663)\n",
      "Weight-2 disturbance = 1.02072e-07 +/- 0.000407083  (deviation=0.0002474283010042589)\n",
      "Weight-3 disturbance = 2.08918e-08 +/- 0.00389374  (deviation=5.364113576085157e-06)\n",
      "Weight-4 disturbance = 0.00140001 +/- 0.0044924  (deviation=0.3115693738822206)\n",
      "Check 9 of 20\n",
      "Weight-1 disturbance = 0.049 +/- 0.00153498  (deviation=0.6510605861442279)\n",
      "Weight-2 disturbance = -1.92296e-09 +/- 0.000427332  (deviation=7.059516335540246e-06)\n",
      "Weight-3 disturbance = 6.56146e-11 +/- 0.000204078  (deviation=3.1995009893113515e-07)\n",
      "Weight-4 disturbance = 0.0172 +/- 0.00727298  (deviation=2.3645943850018902)\n",
      "Check 10 of 20\n",
      "Weight-1 disturbance = 0.051 +/- 0.00155017  (deviation=0.644656218519854)\n",
      "Weight-2 disturbance = -1.55572e-08 +/- 0.000409156  (deviation=4.061394037115412e-05)\n",
      "Weight-3 disturbance = -7.70704e-07 +/- 0.000243923  (deviation=0.0031467148786949264)\n",
      "Weight-4 disturbance = 0.00840082 +/- 0.00726629  (deviation=1.1559763524888307)\n",
      "Check 11 of 20\n",
      "Weight-1 disturbance = 0.0478 +/- 0.00367509  (deviation=0.5984629786406477)\n",
      "Weight-2 disturbance = -4.19113e-08 +/- 0.000390338  (deviation=0.00010991058197595481)\n",
      "Weight-3 disturbance = 2.46873e-08 +/- 0.00388255  (deviation=6.356887605973564e-06)\n",
      "Weight-4 disturbance = 0.00150002 +/- 0.0044416  (deviation=0.33764515636566994)\n",
      "Check 12 of 20\n",
      "Weight-1 disturbance = 0.0505 +/- 0.00383913  (deviation=0.13020188506928176)\n",
      "Weight-2 disturbance = -6.72864e-07 +/- 0.000371334  (deviation=0.0018101064109753006)\n",
      "Weight-3 disturbance = 5.02413e-07 +/- 0.00404649  (deviation=0.0001241296600360815)\n",
      "Weight-4 disturbance = 0.00120018 +/- 0.0044335  (deviation=0.2706461268468286)\n",
      "Check 13 of 20\n",
      "Weight-1 disturbance = 0.0470997 +/- 0.00527469  (deviation=0.5497564102421243)\n",
      "Weight-2 disturbance = 3.3278e-07 +/- 0.000421978  (deviation=0.0007841516759242299)\n",
      "Weight-3 disturbance = 0.00399968 +/- 0.00510645  (deviation=0.7831071611964454)\n",
      "Weight-4 disturbance = 3.3488e-07 +/- 0.00261234  (deviation=0.00012814236976152195)\n",
      "Check 14 of 20\n",
      "Weight-1 disturbance = 0.0490999 +/- 0.00151974  (deviation=0.5918683226944166)\n",
      "Weight-2 disturbance = 4.77471e-08 +/- 0.000403914  (deviation=0.0001152002422557359)\n",
      "Weight-3 disturbance = 3.02097e-08 +/- 0.000208373  (deviation=0.00014428662402285496)\n",
      "Weight-4 disturbance = 0.0075 +/- 0.00720461  (deviation=1.0408555004516056)\n",
      "Check 15 of 20\n",
      "Weight-1 disturbance = 0.0396 +/- 0.00592799  (deviation=1.7540942971137634)\n",
      "Weight-2 disturbance = -9.15572e-08 +/- 0.000395286  (deviation=0.00023381618366450366)\n",
      "Weight-3 disturbance = 0.00689987 +/- 0.00575399  (deviation=1.1989358733607138)\n",
      "Weight-4 disturbance = 2.26353e-07 +/- 0.00152246  (deviation=0.00014857797460997543)\n",
      "Check 16 of 20\n",
      "Weight-1 disturbance = 0.0514998 +/- 0.00155396  (deviation=0.9645372280619622)\n",
      "Weight-2 disturbance = 1.57994e-07 +/- 0.00038668  (deviation=0.000404697015450638)\n",
      "Weight-3 disturbance = 1.17611e-09 +/- 0.000260638  (deviation=4.495181876899909e-06)\n",
      "Weight-4 disturbance = 0.00890002 +/- 0.00726666  (deviation=1.2246068481883179)\n",
      "Check 17 of 20\n",
      "Weight-1 disturbance = 0.0498 +/- 0.00144973  (deviation=0.13786158251070554)\n",
      "Weight-2 disturbance = -9.91346e-08 +/- 0.000415729  (deviation=0.00024052909867752862)\n",
      "Weight-3 disturbance = -4.93842e-07 +/- 0.000262644  (deviation=0.0018731406060165257)\n",
      "Weight-4 disturbance = 0.00670059 +/- 0.00713344  (deviation=0.939190480810915)\n",
      "Check 18 of 20\n",
      "Weight-1 disturbance = 0.05 +/- 0.0013605  (deviation=8.085647807974222e-07)\n",
      "Weight-2 disturbance = -2.5792e-09 +/- 0.000426781  (deviation=8.602673494584736e-06)\n",
      "Weight-3 disturbance = -7.36839e-07 +/- 0.000969855  (deviation=0.0007589582623792673)\n",
      "Weight-4 disturbance = 0.00410074 +/- 0.00686469  (deviation=0.5972796341427669)\n",
      "Check 19 of 20\n",
      "Weight-1 disturbance = 0.0491 +/- 0.00452157  (deviation=0.19900170765093023)\n",
      "Weight-2 disturbance = -7.16515e-08 +/- 0.000408548  (deviation=0.00017764046238518335)\n",
      "Weight-3 disturbance = 0.000199863 +/- 0.00464607  (deviation=0.04300834096376842)\n",
      "Weight-4 disturbance = 2.08933e-07 +/- 0.00436015  (deviation=4.7907833157453754e-05)\n",
      "Check 20 of 20\n",
      "Weight-1 disturbance = 0.0484 +/- 0.00261844  (deviation=0.6108304844885156)\n",
      "Weight-2 disturbance = -2.58755e-07 +/- 0.00043263  (deviation=0.0005992583238272744)\n",
      "Weight-3 disturbance = 0.0013 +/- 0.00270506  (deviation=0.480404301227886)\n",
      "Weight-4 disturbance = 2.87071e-07 +/- 0.00582998  (deviation=4.92319305073905e-05)\n",
      "Percentanges within 68% confidence region:\n",
      "Weight 1:  [0.13036299308475294, 3.0432869303305115, 0.6917617087805618, 1.7114549933777028, 0.22480682863387044, 0.3758519141715708, 1.4677757728575789, 1.7025758061980663, 0.6510605861442279, 0.644656218519854, 0.5984629786406477, 0.13020188506928176, 0.5497564102421243, 0.5918683226944166, 1.7540942971137634, 0.9645372280619622, 0.13786158251070554, 8.085647807974222e-07, 0.19900170765093023, 0.6108304844885156]\n",
      "Weight 2:  [3.411133328408226e-05, 0.00860649619253985, 0.00043313172368726914, 0.0017893598163647604, 0.00031011488949726963, 0.001986622674206851, 0.0003441422196887432, 0.0002474283010042589, 7.059516335540246e-06, 4.061394037115412e-05, 0.00010991058197595481, 0.0018101064109753006, 0.0007841516759242299, 0.0001152002422557359, 0.00023381618366450366, 0.000404697015450638, 0.00024052909867752862, 8.602673494584736e-06, 0.00017764046238518335, 0.0005992583238272744]\n",
      "Weight 3:  [0.17075094687779507, 0.000378065474991224, 0.715113599208818, 1.5441512055918392, 5.197049842586825e-05, 1.1512805730258522, 1.3009912857095018, 5.364113576085157e-06, 3.1995009893113515e-07, 0.0031467148786949264, 6.356887605973564e-06, 0.0001241296600360815, 0.7831071611964454, 0.00014428662402285496, 1.1989358733607138, 4.495181876899909e-06, 0.0018731406060165257, 0.0007589582623792673, 0.04300834096376842, 0.480404301227886]\n",
      "Weight 4:  [1.031886271500472e-05, 0.41235961190612186, 3.994837217561931e-05, 0.00014963433331613744, 0.2035713232122587, 4.504589548871245e-05, 7.956290170478062e-05, 0.3115693738822206, 2.3645943850018902, 1.1559763524888307, 0.33764515636566994, 0.2706461268468286, 0.00012814236976152195, 1.0408555004516056, 0.00014857797460997543, 1.2246068481883179, 0.939190480810915, 0.5972796341427669, 4.7907833157453754e-05, 4.92319305073905e-05]\n",
      "\n"
     ]
    },
    {
     "data": {
      "image/png": "[encoded data removed]",
      "text/plain": [
       "<Figure size 432x288 with 1 Axes>"
      ]
     },
     "metadata": {
      "needs_background": "light"
     },
     "output_type": "display_data"
    },
    {
     "data": {
      "image/png": "[encoded data removed]",
      "text/plain": [
       "<Figure size 432x288 with 1 Axes>"
      ]
     },
     "metadata": {
      "needs_background": "light"
     },
     "output_type": "display_data"
    },
    {
     "data": {
      "image/png": "[encoded data removed]",
      "text/plain": [
       "<Figure size 432x288 with 1 Axes>"
      ]
     },
     "metadata": {
      "needs_background": "light"
     },
     "output_type": "display_data"
    },
    {
     "data": {
      "image/png": "[encoded data removed]",
      "text/plain": [
       "<Figure size 432x288 with 1 Axes>"
      ]
     },
     "metadata": {
      "needs_background": "light"
     },
     "output_type": "display_data"
    }
   ],
   "source": [
    "test_errorbars({'0000': 0.45, '0001': 0.05, '1111': 0.5}) # weight 1 movement "
   ]
  },
  {
   "cell_type": "code",
   "execution_count": 13,
   "metadata": {},
   "outputs": [
    {
     "name": "stdout",
     "output_type": "stream",
     "text": [
      "Base weight-1 disturbance = 0\n",
      "Base weight-2 disturbance = 0.0499994\n",
      "Base weight-3 disturbance = 5.68003e-07\n",
      "Base weight-4 disturbance = 0\n",
      "Check 1 of 20\n",
      "Weight-1 disturbance = 1.38778e-17 +/- 0.000320143  (deviation=4.321370412922579e-14)\n",
      "Weight-2 disturbance = 0.0501998 +/- 0.00190977  (deviation=0.1048497139707642)\n",
      "Weight-3 disturbance = 2.2448e-07 +/- 0.000111828  (deviation=0.003044661006617764)\n",
      "Weight-4 disturbance = 0 +/- 0.00137199  (deviation=0.0)\n",
      "Check 2 of 20\n",
      "Weight-1 disturbance = 0 +/- 0.000326376  (deviation=0.0)\n",
      "Weight-2 disturbance = 0.0517998 +/- 0.00214741  (deviation=0.8380095916323549)\n",
      "Weight-3 disturbance = 1.79505e-07 +/- 0.000166554  (deviation=0.002318640379285062)\n",
      "Weight-4 disturbance = 0 +/- 0.00359922  (deviation=0.0)\n",
      "Check 3 of 20\n",
      "Weight-1 disturbance = 0 +/- 0.000292728  (deviation=0.0)\n",
      "Weight-2 disturbance = 0.0490989 +/- 0.00204205  (deviation=0.4407733279442509)\n",
      "Weight-3 disturbance = 1.09152e-06 +/- 0.000142393  (deviation=0.0036509258660646043)\n",
      "Weight-4 disturbance = 0 +/- 0.00343862  (deviation=0.0)\n",
      "Check 4 of 20\n",
      "Weight-1 disturbance = 0 +/- 0.000169186  (deviation=0.0)\n",
      "Weight-2 disturbance = 0.0514 +/- 0.00197378  (deviation=0.7092169956767989)\n",
      "Weight-3 disturbance = -2.83181e-07 +/- 0.000242627  (deviation=0.003493804551419251)\n",
      "Weight-4 disturbance = 0.0046003 +/- 0.00757071  (deviation=0.6075648450542208)\n",
      "Check 5 of 20\n",
      "Weight-1 disturbance = 0 +/- 0.000320426  (deviation=0.0)\n",
      "Weight-2 disturbance = 0.0485999 +/- 0.00187997  (deviation=0.7440542924191461)\n",
      "Weight-3 disturbance = 1.12241e-07 +/- 0.000125987  (deviation=0.003589054964757562)\n",
      "Weight-4 disturbance = 0 +/- 0.00238678  (deviation=0.0)\n",
      "Check 6 of 20\n",
      "Weight-1 disturbance = 0 +/- 0.00032006  (deviation=0.0)\n",
      "Weight-2 disturbance = 0.0500999 +/- 0.00192323  (deviation=0.052210684761222044)\n",
      "Weight-3 disturbance = 1.02657e-07 +/- 0.000129524  (deviation=0.0035652202081997)\n",
      "Weight-4 disturbance = 0 +/- 0.000731621  (deviation=0.0)\n",
      "Check 7 of 20\n",
      "Weight-1 disturbance = 0 +/- 0.000151045  (deviation=0.0)\n",
      "Weight-2 disturbance = 0.0508998 +/- 0.00194073  (deviation=0.46371307503213893)\n",
      "Weight-3 disturbance = -6.63111e-07 +/- 0.000208018  (deviation=0.0058899764959843524)\n",
      "Weight-4 disturbance = 0.00410082 +/- 0.00756026  (deviation=0.5423468993245196)\n",
      "Check 8 of 20\n",
      "Weight-1 disturbance = 0 +/- 0.000188308  (deviation=0.0)\n",
      "Weight-2 disturbance = 0.0526999 +/- 0.00215928  (deviation=1.2500695194215865)\n",
      "Weight-3 disturbance = -5.04397e-07 +/- 0.000225531  (deviation=0.004734018686096562)\n",
      "Weight-4 disturbance = 0.00720057 +/- 0.00621022  (deviation=1.159284027593758)\n",
      "Check 9 of 20\n",
      "Weight-1 disturbance = 0 +/- 0.000153916  (deviation=0.0)\n",
      "Weight-2 disturbance = 0.0469 +/- 0.00184103  (deviation=1.6826167306150703)\n",
      "Weight-3 disturbance = -6.93769e-08 +/- 0.000202627  (deviation=0.003130135224171079)\n",
      "Weight-4 disturbance = 0.0148001 +/- 0.00773547  (deviation=1.9130264864880588)\n",
      "Check 10 of 20\n",
      "Weight-1 disturbance = 0 +/- 0.000287445  (deviation=0.0)\n",
      "Weight-2 disturbance = 0.0502999 +/- 0.00200877  (deviation=0.14949660570870302)\n",
      "Weight-3 disturbance = 1.13786e-07 +/- 0.000188183  (deviation=0.0024009424155815025)\n",
      "Weight-4 disturbance = 0 +/- 0.00501188  (deviation=0.0)\n",
      "Check 11 of 20\n",
      "Weight-1 disturbance = 0 +/- 0.000330155  (deviation=0.0)\n",
      "Weight-2 disturbance = 0.0512999 +/- 0.00198356  (deviation=0.6553146913557816)\n",
      "Weight-3 disturbance = 5.79567e-08 +/- 8.62894e-05  (deviation=0.005843163751647294)\n",
      "Weight-4 disturbance = 0 +/- 0.00411975  (deviation=0.0)\n",
      "Check 12 of 20\n",
      "Weight-1 disturbance = 6.93889e-18 +/- 0.000290985  (deviation=2.3764547153928866e-14)\n",
      "Weight-2 disturbance = 0.0503996 +/- 0.00204656  (deviation=0.1954579298426156)\n",
      "Weight-3 disturbance = 3.56462e-07 +/- 0.000156503  (deviation=0.0013430886062166028)\n",
      "Weight-4 disturbance = 0 +/- 0.00376239  (deviation=0.0)\n",
      "Check 13 of 20\n",
      "Weight-1 disturbance = 0 +/- 0.000379958  (deviation=0.0)\n",
      "Weight-2 disturbance = 0.0514997 +/- 0.00205514  (deviation=0.7296548819774351)\n",
      "Weight-3 disturbance = 2.93949e-07 +/- 0.000112178  (deviation=0.0024214404278410334)\n",
      "Weight-4 disturbance = 0 +/- 0.000761511  (deviation=0.0)\n",
      "Check 14 of 20\n",
      "Weight-1 disturbance = 0 +/- 0.000260287  (deviation=0.0)\n",
      "Weight-2 disturbance = 0.0502 +/- 0.00208661  (deviation=0.09606974842186117)\n",
      "Weight-3 disturbance = -1.7438e-08 +/- 0.000186216  (deviation=0.003127080103260582)\n",
      "Weight-4 disturbance = 0.00480003 +/- 0.00593297  (deviation=0.8089070408218147)\n",
      "Check 15 of 20\n",
      "Weight-1 disturbance = 0 +/- 0.000332352  (deviation=0.0)\n",
      "Weight-2 disturbance = 0.0508999 +/- 0.00205921  (deviation=0.4370773860622111)\n",
      "Weight-3 disturbance = 9.81487e-08 +/- 0.000189502  (deviation=0.0024663980694930457)\n",
      "Weight-4 disturbance = 0 +/- 0.0007582  (deviation=0.0)\n",
      "Check 16 of 20\n",
      "Weight-1 disturbance = 0 +/- 0.000358406  (deviation=0.0)\n",
      "Weight-2 disturbance = 0.0523999 +/- 0.00202567  (deviation=1.184453596677444)\n",
      "Weight-3 disturbance = 6.88369e-08 +/- 0.000143156  (deviation=0.003462683736809353)\n",
      "Weight-4 disturbance = 0 +/- 0.000759774  (deviation=0.0)\n",
      "Check 17 of 20\n",
      "Weight-1 disturbance = 0 +/- 0.000292598  (deviation=0.0)\n",
      "Weight-2 disturbance = 0.0509994 +/- 0.00208188  (deviation=0.48008374624941635)\n",
      "Weight-3 disturbance = 6.10514e-07 +/- 0.000182451  (deviation=0.00023173150753014074)\n",
      "Weight-4 disturbance = 0 +/- 0.00355102  (deviation=0.0)\n",
      "Check 18 of 20\n",
      "Weight-1 disturbance = 0 +/- 0.000292593  (deviation=0.0)\n",
      "Weight-2 disturbance = 0.0509 +/- 0.00209256  (deviation=0.4301552190116609)\n",
      "Weight-3 disturbance = 1.15603e-08 +/- 0.000120204  (deviation=0.004590954038096677)\n",
      "Weight-4 disturbance = 0 +/- 0.00305525  (deviation=0.0)\n",
      "Check 19 of 20\n",
      "Weight-1 disturbance = 0 +/- 0.000321846  (deviation=0.0)\n",
      "Weight-2 disturbance = 0.0511996 +/- 0.00217183  (deviation=0.5523501453062256)\n",
      "Weight-3 disturbance = 4.0661e-07 +/- 0.000193339  (deviation=0.0008304687029223967)\n",
      "Weight-4 disturbance = 0 +/- 0.00492007  (deviation=0.0)\n",
      "Check 20 of 20\n",
      "Weight-1 disturbance = 0 +/- 0.000332442  (deviation=0.0)\n",
      "Weight-2 disturbance = 0.0429992 +/- 0.00181613  (deviation=3.8523514964490593)\n",
      "Weight-3 disturbance = 7.7964e-07 +/- 0.000185022  (deviation=0.0011376982687986775)\n",
      "Weight-4 disturbance = 0 +/- 0.00239221  (deviation=0.0)\n",
      "Percentanges within 68% confidence region:\n",
      "Weight 1:  [4.321370412922579e-14, 0.0, 0.0, 0.0, 0.0, 0.0, 0.0, 0.0, 0.0, 0.0, 0.0, 2.3764547153928866e-14, 0.0, 0.0, 0.0, 0.0, 0.0, 0.0, 0.0, 0.0]\n",
      "Weight 2:  [0.1048497139707642, 0.8380095916323549, 0.4407733279442509, 0.7092169956767989, 0.7440542924191461, 0.052210684761222044, 0.46371307503213893, 1.2500695194215865, 1.6826167306150703, 0.14949660570870302, 0.6553146913557816, 0.1954579298426156, 0.7296548819774351, 0.09606974842186117, 0.4370773860622111, 1.184453596677444, 0.48008374624941635, 0.4301552190116609, 0.5523501453062256, 3.8523514964490593]\n",
      "Weight 3:  [0.003044661006617764, 0.002318640379285062, 0.0036509258660646043, 0.003493804551419251, 0.003589054964757562, 0.0035652202081997, 0.0058899764959843524, 0.004734018686096562, 0.003130135224171079, 0.0024009424155815025, 0.005843163751647294, 0.0013430886062166028, 0.0024214404278410334, 0.003127080103260582, 0.0024663980694930457, 0.003462683736809353, 0.00023173150753014074, 0.004590954038096677, 0.0008304687029223967, 0.0011376982687986775]\n",
      "Weight 4:  [0.0, 0.0, 0.0, 0.6075648450542208, 0.0, 0.0, 0.5423468993245196, 1.159284027593758, 1.9130264864880588, 0.0, 0.0, 0.0, 0.0, 0.8089070408218147, 0.0, 0.0, 0.0, 0.0, 0.0, 0.0]\n",
      "\n"
     ]
    },
    {
     "data": {
      "image/png": "[encoded data removed]",
      "text/plain": [
       "<Figure size 432x288 with 1 Axes>"
      ]
     },
     "metadata": {
      "needs_background": "light"
     },
     "output_type": "display_data"
    },
    {
     "data": {
      "image/png": "[encoded data removed]",
      "text/plain": [
       "<Figure size 432x288 with 1 Axes>"
      ]
     },
     "metadata": {
      "needs_background": "light"
     },
     "output_type": "display_data"
    },
    {
     "data": {
      "image/png": "[encoded data removed]",
      "text/plain": [
       "<Figure size 432x288 with 1 Axes>"
      ]
     },
     "metadata": {
      "needs_background": "light"
     },
     "output_type": "display_data"
    },
    {
     "data": {
      "image/png": "[encoded data removed]",
      "text/plain": [
       "<Figure size 432x288 with 1 Axes>"
      ]
     },
     "metadata": {
      "needs_background": "light"
     },
     "output_type": "display_data"
    }
   ],
   "source": [
    "test_errorbars({'0000': 0.45, '0011': 0.05, '1111': 0.5}) # weight 2 movement "
   ]
  },
  {
   "cell_type": "code",
   "execution_count": 14,
   "metadata": {},
   "outputs": [
    {
     "name": "stdout",
     "output_type": "stream",
     "text": [
      "Base weight-1 disturbance = 0\n",
      "Base weight-2 disturbance = 0\n",
      "Base weight-3 disturbance = 0.0499999\n",
      "Base weight-4 disturbance = 1.28928e-07\n",
      "Check 1 of 20\n",
      "Weight-1 disturbance = 0.0107 +/- 0.00737062  (deviation=1.4515119564371375)\n",
      "Weight-2 disturbance = -4.86884e-08 +/- 0.000275193  (deviation=0.00017628385990157717)\n",
      "Weight-3 disturbance = 0.0394992 +/- 0.00669392  (deviation=1.5684587035086426)\n",
      "Weight-4 disturbance = 8.78201e-07 +/- 0.0007964  (deviation=0.0009396458817763907)\n",
      "Check 2 of 20\n",
      "Weight-1 disturbance = 0.00369893 +/- 0.00563239  (deviation=0.6566092783354704)\n",
      "Weight-2 disturbance = 8.06074e-07 +/- 0.000272582  (deviation=0.0029463681967091693)\n",
      "Weight-3 disturbance = 0.0480998 +/- 0.00516763  (deviation=0.3676228193039768)\n",
      "Weight-4 disturbance = 4.95954e-07 +/- 0.00359656  (deviation=0.00010202075217761323)\n",
      "Check 3 of 20\n",
      "Weight-1 disturbance = 0.004 +/- 0.00564926  (deviation=0.7079323793674774)\n",
      "Weight-2 disturbance = -7.03393e-08 +/- 0.000273583  (deviation=0.0002561679830795309)\n",
      "Weight-3 disturbance = 0.0450982 +/- 0.00519799  (deviation=0.9428070953571733)\n",
      "Weight-4 disturbance = 1.84795e-06 +/- 0.00339706  (deviation=0.0005058821551472314)\n",
      "Check 4 of 20\n",
      "Weight-1 disturbance = 0 +/- 0.000890463  (deviation=0.0)\n",
      "Weight-2 disturbance = 0 +/- 0.000282394  (deviation=0.0)\n",
      "Weight-3 disturbance = 0.0513999 +/- 0.00302241  (deviation=0.4630555858913784)\n",
      "Weight-4 disturbance = 0.00460012 +/- 0.00617989  (deviation=0.7442287041230919)\n",
      "Check 5 of 20\n",
      "Weight-1 disturbance = 0.0072 +/- 0.0064892  (deviation=1.1093653452917098)\n",
      "Weight-2 disturbance = 2.46935e-10 +/- 0.000274698  (deviation=8.956722033454692e-07)\n",
      "Weight-3 disturbance = 0.0413997 +/- 0.0059923  (deviation=1.4349685232810692)\n",
      "Weight-4 disturbance = 3.29599e-07 +/- 0.00188878  (deviation=0.00010618776423039992)\n",
      "Check 6 of 20\n",
      "Weight-1 disturbance = 0.0142995 +/- 0.0074789  (deviation=1.9117245899609905)\n",
      "Weight-2 disturbance = 4.35125e-07 +/- 0.000275663  (deviation=0.0015727626286096928)\n",
      "Weight-3 disturbance = 0.0357997 +/- 0.0066526  (deviation=2.134216119687671)\n",
      "Weight-4 disturbance = 4.04815e-07 +/- 0.000830464  (deviation=0.00033180955869126683)\n",
      "Check 7 of 20\n",
      "Weight-1 disturbance = 0 +/- 0.00104322  (deviation=0.0)\n",
      "Weight-2 disturbance = 7.06654e-09 +/- 0.000281481  (deviation=2.5015988132121906e-05)\n",
      "Weight-3 disturbance = 0.0508986 +/- 0.00304199  (deviation=0.2953532627234787)\n",
      "Weight-4 disturbance = 0.00410136 +/- 0.00614178  (deviation=0.6676515513529221)\n",
      "Check 8 of 20\n",
      "Weight-1 disturbance = 0 +/- 0.00206638  (deviation=0.0)\n",
      "Weight-2 disturbance = 0 +/- 0.000273599  (deviation=0.0)\n",
      "Weight-3 disturbance = 0.0526998 +/- 0.00322495  (deviation=0.8369401720400156)\n",
      "Weight-4 disturbance = 0.00720021 +/- 0.00651885  (deviation=1.1043311860171734)\n",
      "Check 9 of 20\n",
      "Weight-1 disturbance = 0 +/- 0.00027696  (deviation=0.0)\n",
      "Weight-2 disturbance = 0 +/- 0.000282244  (deviation=0.0)\n",
      "Weight-3 disturbance = 0.0468998 +/- 0.00282929  (deviation=1.0953115623875223)\n",
      "Weight-4 disturbance = 0.0148002 +/- 0.00646405  (deviation=2.2892388029260275)\n",
      "Check 10 of 20\n",
      "Weight-1 disturbance = 0.0006 +/- 0.00526896  (deviation=0.11385280252736922)\n",
      "Weight-2 disturbance = -1.45636e-08 +/- 0.000277605  (deviation=5.227342364147448e-05)\n",
      "Weight-3 disturbance = 0.0496999 +/- 0.00491294  (deviation=0.06105309815363978)\n",
      "Weight-4 disturbance = 1.54855e-07 +/- 0.00519842  (deviation=4.9864837075466004e-06)\n",
      "Check 11 of 20\n",
      "Weight-1 disturbance = 0.00519988 +/- 0.00447278  (deviation=1.162301034598822)\n",
      "Weight-2 disturbance = 5.52633e-08 +/- 0.000283631  (deviation=0.0001941575027319027)\n",
      "Weight-3 disturbance = 0.0460991 +/- 0.00604572  (deviation=0.6451074501201042)\n",
      "Weight-4 disturbance = 9.79033e-07 +/- 0.00254173  (deviation=0.00033432801696753973)\n",
      "Check 12 of 20\n",
      "Weight-1 disturbance = 0.0033 +/- 0.00552755  (deviation=0.5969019554141087)\n",
      "Weight-2 disturbance = -6.42603e-08 +/- 0.000274597  (deviation=0.00023316797279683524)\n",
      "Weight-3 disturbance = 0.0470999 +/- 0.00511836  (deviation=0.5664769451392441)\n",
      "Weight-4 disturbance = 1.94414e-07 +/- 0.00379032  (deviation=1.727265956276122e-05)\n",
      "Check 13 of 20\n",
      "Weight-1 disturbance = 0.0157999 +/- 0.0075316  (deviation=2.097539421582143)\n",
      "Weight-2 disturbance = 5.98761e-08 +/- 0.000272529  (deviation=0.00021890187786560952)\n",
      "Weight-3 disturbance = 0.0356998 +/- 0.00668297  (deviation=2.1394526947366983)\n",
      "Weight-4 disturbance = 1.68024e-07 +/- 0.000825548  (deviation=4.730112153220894e-05)\n",
      "Check 14 of 20\n",
      "Weight-1 disturbance = 6.39506e-07 +/- 0.00283295  (deviation=0.00022565860307574058)\n",
      "Weight-2 disturbance = -6.39506e-07 +/- 0.000256849  (deviation=0.0024801553954719455)\n",
      "Weight-3 disturbance = 0.0501994 +/- 0.00339334  (deviation=0.05878243573808458)\n",
      "Weight-4 disturbance = 0.0048006 +/- 0.00609439  (deviation=0.7875574524648112)\n",
      "Check 15 of 20\n",
      "Weight-1 disturbance = 0.0145 +/- 0.00744651  (deviation=1.9469571073964416)\n",
      "Weight-2 disturbance = -9.14679e-07 +/- 0.000274789  (deviation=0.003316591574908845)\n",
      "Weight-3 disturbance = 0.0364006 +/- 0.00692587  (deviation=1.9632609862094168)\n",
      "Weight-4 disturbance = 3.09861e-07 +/- 0.000744438  (deviation=0.00024272073707340175)\n",
      "Check 16 of 20\n",
      "Weight-1 disturbance = 0.0146 +/- 0.00753985  (deviation=1.9361213340527237)\n",
      "Weight-2 disturbance = -5.86985e-07 +/- 0.000276102  (deviation=0.0021183009606961984)\n",
      "Weight-3 disturbance = 0.0377997 +/- 0.00670365  (deviation=1.819658943488428)\n",
      "Weight-4 disturbance = 9.01165e-07 +/- 0.000786795  (deviation=0.0009802516964029222)\n",
      "Check 17 of 20\n",
      "Weight-1 disturbance = 0.0038 +/- 0.00563425  (deviation=0.674326226312253)\n",
      "Weight-2 disturbance = 5.77813e-10 +/- 0.000273395  (deviation=2.10576906070954e-06)\n",
      "Weight-3 disturbance = 0.0471995 +/- 0.00515662  (deviation=0.5429616379401759)\n",
      "Weight-4 disturbance = 5.20471e-07 +/- 0.00354058  (deviation=0.0001105562866187132)\n",
      "Check 18 of 20\n",
      "Weight-1 disturbance = 0.00509854 +/- 0.00591666  (deviation=0.8615807843848562)\n",
      "Weight-2 disturbance = 1.35797e-06 +/- 0.00025569  (deviation=0.005290314921761506)\n",
      "Weight-3 disturbance = 0.0457996 +/- 0.00541633  (deviation=0.7753475079599479)\n",
      "Weight-4 disturbance = 5.43948e-07 +/- 0.00289277  (deviation=0.0001434184300672931)\n",
      "Check 19 of 20\n",
      "Weight-1 disturbance = 0.000799997 +/- 0.00530322  (deviation=0.1508228790281702)\n",
      "Weight-2 disturbance = -9.35292e-09 +/- 0.000274129  (deviation=3.3994626808127795e-05)\n",
      "Weight-3 disturbance = 0.0503997 +/- 0.00487705  (deviation=0.08195932443160789)\n",
      "Weight-4 disturbance = 3.38957e-07 +/- 0.00510563  (deviation=4.112872561514907e-05)\n",
      "Check 20 of 20\n",
      "Weight-1 disturbance = 0.00699999 +/- 0.00629469  (deviation=1.1118707029665509)\n",
      "Weight-2 disturbance = 1.07475e-08 +/- 0.000273952  (deviation=3.908855752224876e-05)\n",
      "Weight-3 disturbance = 0.0359994 +/- 0.00617821  (deviation=2.2657450264274157)\n",
      "Weight-4 disturbance = 6.3856e-07 +/- 0.00191713  (deviation=0.00026569183297241536)\n",
      "Percentanges within 68% confidence region:\n",
      "Weight 1:  [1.4515119564371375, 0.6566092783354704, 0.7079323793674774, 0.0, 1.1093653452917098, 1.9117245899609905, 0.0, 0.0, 0.0, 0.11385280252736922, 1.162301034598822, 0.5969019554141087, 2.097539421582143, 0.00022565860307574058, 1.9469571073964416, 1.9361213340527237, 0.674326226312253, 0.8615807843848562, 0.1508228790281702, 1.1118707029665509]\n",
      "Weight 2:  [0.00017628385990157717, 0.0029463681967091693, 0.0002561679830795309, 0.0, 8.956722033454692e-07, 0.0015727626286096928, 2.5015988132121906e-05, 0.0, 0.0, 5.227342364147448e-05, 0.0001941575027319027, 0.00023316797279683524, 0.00021890187786560952, 0.0024801553954719455, 0.003316591574908845, 0.0021183009606961984, 2.10576906070954e-06, 0.005290314921761506, 3.3994626808127795e-05, 3.908855752224876e-05]\n",
      "Weight 3:  [1.5684587035086426, 0.3676228193039768, 0.9428070953571733, 0.4630555858913784, 1.4349685232810692, 2.134216119687671, 0.2953532627234787, 0.8369401720400156, 1.0953115623875223, 0.06105309815363978, 0.6451074501201042, 0.5664769451392441, 2.1394526947366983, 0.05878243573808458, 1.9632609862094168, 1.819658943488428, 0.5429616379401759, 0.7753475079599479, 0.08195932443160789, 2.2657450264274157]\n",
      "Weight 4:  [0.0009396458817763907, 0.00010202075217761323, 0.0005058821551472314, 0.7442287041230919, 0.00010618776423039992, 0.00033180955869126683, 0.6676515513529221, 1.1043311860171734, 2.2892388029260275, 4.9864837075466004e-06, 0.00033432801696753973, 1.727265956276122e-05, 4.730112153220894e-05, 0.7875574524648112, 0.00024272073707340175, 0.0009802516964029222, 0.0001105562866187132, 0.0001434184300672931, 4.112872561514907e-05, 0.00026569183297241536]\n",
      "\n"
     ]
    },
    {
     "data": {
      "image/png": "[encoded data removed]",
      "text/plain": [
       "<Figure size 432x288 with 1 Axes>"
      ]
     },
     "metadata": {
      "needs_background": "light"
     },
     "output_type": "display_data"
    },
    {
     "data": {
      "image/png": "[encoded data removed]",
      "text/plain": [
       "<Figure size 432x288 with 1 Axes>"
      ]
     },
     "metadata": {
      "needs_background": "light"
     },
     "output_type": "display_data"
    },
    {
     "data": {
      "image/png": "[encoded data removed]",
      "text/plain": [
       "<Figure size 432x288 with 1 Axes>"
      ]
     },
     "metadata": {
      "needs_background": "light"
     },
     "output_type": "display_data"
    },
    {
     "data": {
      "image/png": "[encoded data removed]",
      "text/plain": [
       "<Figure size 432x288 with 1 Axes>"
      ]
     },
     "metadata": {
      "needs_background": "light"
     },
     "output_type": "display_data"
    }
   ],
   "source": [
    "test_errorbars({'0000': 0.45, '0111': 0.05, '1111': 0.5}) # weight 3 movement "
   ]
  },
  {
   "cell_type": "code",
   "execution_count": 15,
   "metadata": {},
   "outputs": [
    {
     "name": "stdout",
     "output_type": "stream",
     "text": [
      "Base weight-1 disturbance = 0\n",
      "Base weight-2 disturbance = 0\n",
      "Base weight-3 disturbance = 0\n",
      "Base weight-4 disturbance = 0.05\n",
      "Check 1 of 20\n",
      "Weight-1 disturbance = 0 +/- 0.0002231  (deviation=0.0)\n",
      "Weight-2 disturbance = 0 +/- 0.000230238  (deviation=0.0)\n",
      "Weight-3 disturbance = 0 +/- 0.000324488  (deviation=0.0)\n",
      "Weight-4 disturbance = 0.0395 +/- 0.00661195  (deviation=1.5877929004641103)\n",
      "Check 2 of 20\n",
      "Weight-1 disturbance = 0 +/- 0.000222987  (deviation=0.0)\n",
      "Weight-2 disturbance = 0 +/- 0.000269416  (deviation=0.0)\n",
      "Weight-3 disturbance = 2.77556e-17 +/- 0.000316966  (deviation=8.729092859246193e-14)\n",
      "Weight-4 disturbance = 0.0481 +/- 0.0066116  (deviation=0.28733032462986097)\n",
      "Check 3 of 20\n",
      "Weight-1 disturbance = 1.38778e-17 +/- 0.000223029  (deviation=6.194648809883684e-14)\n",
      "Weight-2 disturbance = -6.93889e-18 +/- 0.000275509  (deviation=2.5094680927992896e-14)\n",
      "Weight-3 disturbance = -6.93889e-18 +/- 0.000315479  (deviation=2.192526972759921e-14)\n",
      "Weight-4 disturbance = 0.0451 +/- 0.00661162  (deviation=0.741006922298939)\n",
      "Check 4 of 20\n",
      "Weight-1 disturbance = 0 +/- 0.000223184  (deviation=0.0)\n",
      "Weight-2 disturbance = 1.38778e-17 +/- 0.000237745  (deviation=5.812809222688059e-14)\n",
      "Weight-3 disturbance = -1.38778e-17 +/- 0.000332763  (deviation=4.1579800851617576e-14)\n",
      "Weight-4 disturbance = 0.056 +/- 0.00773357  (deviation=0.775738152963356)\n",
      "Check 5 of 20\n",
      "Weight-1 disturbance = 0 +/- 0.00022314  (deviation=0.0)\n",
      "Weight-2 disturbance = 0 +/- 0.000260308  (deviation=0.0)\n",
      "Weight-3 disturbance = 0 +/- 0.00031977  (deviation=0.0)\n",
      "Weight-4 disturbance = 0.0414 +/- 0.00661196  (deviation=1.3004765270275271)\n",
      "Check 6 of 20\n",
      "Weight-1 disturbance = 0 +/- 0.000222252  (deviation=0.0)\n",
      "Weight-2 disturbance = 0 +/- 0.000259137  (deviation=0.0)\n",
      "Weight-3 disturbance = 0 +/- 0.000320872  (deviation=0.0)\n",
      "Weight-4 disturbance = 0.0358 +/- 0.00661179  (deviation=2.1473532656891936)\n",
      "Check 7 of 20\n",
      "Weight-1 disturbance = 4.16334e-17 +/- 0.000223114  (deviation=1.8576857806372571e-13)\n",
      "Weight-2 disturbance = -4.16334e-17 +/- 0.000278371  (deviation=1.4902527586144075e-13)\n",
      "Weight-3 disturbance = 0 +/- 0.000316338  (deviation=0.0)\n",
      "Weight-4 disturbance = 0.055 +/- 0.00773436  (deviation=0.6463824009462872)\n",
      "Check 8 of 20\n",
      "Weight-1 disturbance = 0 +/- 0.000223146  (deviation=0.0)\n",
      "Weight-2 disturbance = 3.46945e-17 +/- 0.000246722  (deviation=1.4005389623330297e-13)\n",
      "Weight-3 disturbance = -3.46945e-17 +/- 0.000320866  (deviation=1.0779176592291318e-13)\n",
      "Weight-4 disturbance = 0.0599 +/- 0.00661116  (deviation=1.4972411608749843)\n",
      "Check 9 of 20\n",
      "Weight-1 disturbance = 0 +/- 0.000223083  (deviation=0.0)\n",
      "Weight-2 disturbance = 0 +/- 0.000238617  (deviation=0.0)\n",
      "Weight-3 disturbance = 0 +/- 0.000331771  (deviation=0.0)\n",
      "Weight-4 disturbance = 0.0617 +/- 0.00772863  (deviation=1.5136567124550315)\n",
      "Check 10 of 20\n",
      "Weight-1 disturbance = 0 +/- 0.000223164  (deviation=0.0)\n",
      "Weight-2 disturbance = 0 +/- 0.000269988  (deviation=0.0)\n",
      "Weight-3 disturbance = 0 +/- 0.000316534  (deviation=0.0)\n",
      "Weight-4 disturbance = 0.0497 +/- 0.00661127  (deviation=0.04537016981381529)\n",
      "Check 11 of 20\n",
      "Weight-1 disturbance = 0 +/- 0.000223185  (deviation=0.0)\n",
      "Weight-2 disturbance = 0 +/- 0.000280511  (deviation=0.0)\n",
      "Weight-3 disturbance = 0 +/- 0.000315256  (deviation=0.0)\n",
      "Weight-4 disturbance = 0.0461 +/- 0.00774231  (deviation=0.5036605584313613)\n",
      "Check 12 of 20\n",
      "Weight-1 disturbance = 0 +/- 0.000222929  (deviation=0.0)\n",
      "Weight-2 disturbance = 0 +/- 0.000267131  (deviation=0.0)\n",
      "Weight-3 disturbance = 0 +/- 0.000316039  (deviation=0.0)\n",
      "Weight-4 disturbance = 0.0471 +/- 0.00661165  (deviation=0.4385531017590273)\n",
      "Check 13 of 20\n",
      "Weight-1 disturbance = 0 +/- 0.000223125  (deviation=0.0)\n",
      "Weight-2 disturbance = 0 +/- 0.000275705  (deviation=0.0)\n",
      "Weight-3 disturbance = 0 +/- 0.000314888  (deviation=0.0)\n",
      "Weight-4 disturbance = 0.0357 +/- 0.00661164  (deviation=2.16252625772116)\n",
      "Check 14 of 20\n",
      "Weight-1 disturbance = 0 +/- 0.000221307  (deviation=0.0)\n",
      "Weight-2 disturbance = 0 +/- 0.000242266  (deviation=0.0)\n",
      "Weight-3 disturbance = 0 +/- 0.000323276  (deviation=0.0)\n",
      "Weight-4 disturbance = 0.055 +/- 0.00661137  (deviation=0.7561589684491152)\n",
      "Check 15 of 20\n",
      "Weight-1 disturbance = 1.38778e-17 +/- 0.000223096  (deviation=6.19278003232917e-14)\n",
      "Weight-2 disturbance = -1.38778e-17 +/- 0.000289139  (deviation=4.7831543812622175e-14)\n",
      "Weight-3 disturbance = 0 +/- 0.000309548  (deviation=0.0)\n",
      "Weight-4 disturbance = 0.0364 +/- 0.00680915  (deviation=1.997018474590179)\n",
      "Check 16 of 20\n",
      "Weight-1 disturbance = 0 +/- 0.000223213  (deviation=0.0)\n",
      "Weight-2 disturbance = 0 +/- 0.000234095  (deviation=0.0)\n",
      "Weight-3 disturbance = 0 +/- 0.000325157  (deviation=0.0)\n",
      "Weight-4 disturbance = 0.0378 +/- 0.00661198  (deviation=1.844855545466621)\n",
      "Check 17 of 20\n",
      "Weight-1 disturbance = 0 +/- 0.000223009  (deviation=0.0)\n",
      "Weight-2 disturbance = 0 +/- 0.000273284  (deviation=0.0)\n",
      "Weight-3 disturbance = 0 +/- 0.000318436  (deviation=0.0)\n",
      "Weight-4 disturbance = 0.0472 +/- 0.00661161  (deviation=0.42343370510804434)\n",
      "Check 18 of 20\n",
      "Weight-1 disturbance = 0 +/- 0.000223197  (deviation=0.0)\n",
      "Weight-2 disturbance = 0 +/- 0.000273547  (deviation=0.0)\n",
      "Weight-3 disturbance = 0 +/- 0.000315722  (deviation=0.0)\n",
      "Weight-4 disturbance = 0.0458 +/- 0.00661163  (deviation=0.6351483207487161)\n",
      "Check 19 of 20\n",
      "Weight-1 disturbance = 0 +/- 0.000223131  (deviation=0.0)\n",
      "Weight-2 disturbance = 0 +/- 0.000275302  (deviation=0.0)\n",
      "Weight-3 disturbance = 0 +/- 0.000315366  (deviation=0.0)\n",
      "Weight-4 disturbance = 0.0504 +/- 0.00661134  (deviation=0.06049294032711746)\n",
      "Check 20 of 20\n",
      "Weight-1 disturbance = 0 +/- 0.000222762  (deviation=0.0)\n",
      "Weight-2 disturbance = 0 +/- 0.000280669  (deviation=0.0)\n",
      "Weight-3 disturbance = 0 +/- 0.00030881  (deviation=0.0)\n",
      "Weight-4 disturbance = 0.036 +/- 0.00680917  (deviation=2.055747527728838)\n",
      "Percentanges within 68% confidence region:\n",
      "Weight 1:  [0.0, 0.0, 6.194648809883684e-14, 0.0, 0.0, 0.0, 1.8576857806372571e-13, 0.0, 0.0, 0.0, 0.0, 0.0, 0.0, 0.0, 6.19278003232917e-14, 0.0, 0.0, 0.0, 0.0, 0.0]\n",
      "Weight 2:  [0.0, 0.0, 2.5094680927992896e-14, 5.812809222688059e-14, 0.0, 0.0, 1.4902527586144075e-13, 1.4005389623330297e-13, 0.0, 0.0, 0.0, 0.0, 0.0, 0.0, 4.7831543812622175e-14, 0.0, 0.0, 0.0, 0.0, 0.0]\n",
      "Weight 3:  [0.0, 8.729092859246193e-14, 2.192526972759921e-14, 4.1579800851617576e-14, 0.0, 0.0, 0.0, 1.0779176592291318e-13, 0.0, 0.0, 0.0, 0.0, 0.0, 0.0, 0.0, 0.0, 0.0, 0.0, 0.0, 0.0]\n",
      "Weight 4:  [1.5877929004641103, 0.28733032462986097, 0.741006922298939, 0.775738152963356, 1.3004765270275271, 2.1473532656891936, 0.6463824009462872, 1.4972411608749843, 1.5136567124550315, 0.04537016981381529, 0.5036605584313613, 0.4385531017590273, 2.16252625772116, 0.7561589684491152, 1.997018474590179, 1.844855545466621, 0.42343370510804434, 0.6351483207487161, 0.06049294032711746, 2.055747527728838]\n",
      "\n"
     ]
    },
    {
     "data": {
      "image/png": "[encoded data removed]",
      "text/plain": [
       "<Figure size 432x288 with 1 Axes>"
      ]
     },
     "metadata": {
      "needs_background": "light"
     },
     "output_type": "display_data"
    },
    {
     "data": {
      "image/png": "[encoded data removed]",
      "text/plain": [
       "<Figure size 432x288 with 1 Axes>"
      ]
     },
     "metadata": {
      "needs_background": "light"
     },
     "output_type": "display_data"
    },
    {
     "data": {
      "image/png": "[encoded data removed]",
      "text/plain": [
       "<Figure size 432x288 with 1 Axes>"
      ]
     },
     "metadata": {
      "needs_background": "light"
     },
     "output_type": "display_data"
    },
    {
     "data": {
      "image/png": "[encoded data removed]",
      "text/plain": [
       "<Figure size 432x288 with 1 Axes>"
      ]
     },
     "metadata": {
      "needs_background": "light"
     },
     "output_type": "display_data"
    }
   ],
   "source": [
    "test_errorbars({'0000': 0.45, '1111': 0.55}) # weight 4 movement "
   ]
  }
 ],
 "metadata": {
  "kernelspec": {
   "display_name": "Python 3",
   "language": "python",
   "name": "python3"
  },
  "language_info": {
   "codemirror_mode": {
    "name": "ipython",
    "version": 3
   },
   "file_extension": ".py",
   "mimetype": "text/x-python",
   "name": "python",
   "nbconvert_exporter": "python",
   "pygments_lexer": "ipython3",
   "version": "3.8.2"
  }
 },
 "nbformat": 4,
 "nbformat_minor": 2
}
