{
 "cells": [
  {
   "cell_type": "markdown",
   "metadata": {},
   "source": [
    "# An example of how to run GST on a 2-qubit system\n",
    "This tutorial gives an overview of the typical steps used to perform an end-to-end (i.e. experimental-data-to-report) Gate Set Tomography analysis on a 2-qubit system.  The steps are very similar to the single-qubit case; the main differences are:\n",
    "- the use of more general syntax when constructing 2-qubit gate sets\n",
    "- the increased number of fiducial and germ gate sequences\n",
    "- the increased run time required to compute GST estimates\n",
    "- a different report style "
   ]
  },
  {
   "cell_type": "code",
   "execution_count": 1,
   "metadata": {
    "collapsed": true
   },
   "outputs": [],
   "source": [
    "from __future__ import print_function\n",
    "import matplotlib\n",
    "matplotlib.use('Agg')"
   ]
  },
  {
   "cell_type": "code",
   "execution_count": 2,
   "metadata": {
    "collapsed": true
   },
   "outputs": [],
   "source": [
    "import pygsti"
   ]
  },
  {
   "cell_type": "markdown",
   "metadata": {},
   "source": [
    "### Step 1: Construct the desired 2-qubit gateset\n",
    "There are several ways to do this, as outlined by the comments in the cell below."
   ]
  },
  {
   "cell_type": "code",
   "execution_count": 3,
   "metadata": {
    "collapsed": false
   },
   "outputs": [],
   "source": [
    "# via build_gateset:\n",
    "#   [4] = a 4-dimensional Hilbert (state) space\n",
    "#   [('Q0','Q1')] = interpret this 4-d space as that of two qubits 'Q0', and 'Q1' (note these labels *must* begin with 'Q'!)\n",
    "#   \"Gix\" = gate label; can be anything that begins with 'G' and is followed by lowercase letters\n",
    "#   \"X(pi/2,Q1)\" = pi/2 single-qubit x-rotation gate on the qubit labeled Q1\n",
    "#   \"CX(pi,Q0,Q1)\" = controlled pi x-rotation using qubits Q0 (control) and Q1 (target) \n",
    "#   \"rho0\" = prep label; can be anything that begins with \"rho\"\n",
    "#   \"E1\" = effect label; can be anything that begins with \"E\"\n",
    "#   \"2\" = a prep or effect expression indicating a projection/preparation of the 3rd (b/c 0-based) computational basis element\n",
    "#   'dnup': ('rho0','E2') = designate the SPAM label \"dnup\" to mean preparation using \"rho0\" (a prep label) and measuring the outcome \"E2\" (an effect label)\n",
    "#   \"pp\" = create all of these gate & SPAM operators in the Pauli-product basis.\n",
    "gs_target = pygsti.construction.build_gateset( \n",
    "            [4], [('Q0','Q1')],['Gix','Giy','Gxi','Gyi','Gcnot'], \n",
    "            [ \"X(pi/2,Q1)\", \"Y(pi/2,Q1)\", \"X(pi/2,Q0)\", \"Y(pi/2,Q0)\", \"CX(pi,Q0,Q1)\" ],\n",
    "            prepLabels=['rho0'], prepExpressions=[\"0\"],\n",
    "            effectLabels=['E0','E1','E2'], effectExpressions=[\"0\",\"1\",\"2\"], \n",
    "            spamdefs={'upup': ('rho0','E0'), 'updn': ('rho0','E1'),\n",
    "                      'dnup': ('rho0','E2'), 'dndn': ('rho0','remainder') }, basis=\"pp\")\n",
    "\n",
    "# Note that you can also explicity add identity operations, e.g. \"I(Q0)\" to get the same gate set,\n",
    "#  and that this same syntax could be used for non-entangling 2-qubit gates, e.g. \"X(pi/2,Q0):X(pi/2,Q1)\".\n",
    "gs_targetB = pygsti.construction.build_gateset( \n",
    "            [4], [('Q0','Q1')],['Gix','Giy','Gxi','Gyi','Gcnot'], \n",
    "            [ \"I(Q0):X(pi/2,Q1)\", \"I(Q0):Y(pi/2,Q1)\", \"X(pi/2,Q0):I(Q1)\", \"Y(pi/2,Q0):I(Q1)\", \"CX(pi,Q0,Q1)\" ],\n",
    "            prepLabels=['rho0'], prepExpressions=[\"0\"], \n",
    "            effectLabels=['E0','E1','E2'], effectExpressions=[\"0\",\"1\",\"2\"], \n",
    "            spamdefs={'upup': ('rho0','E0'), 'updn': ('rho0','E1'),\n",
    "                      'dnup': ('rho0','E2'), 'dndn': ('rho0','remainder') }, basis=\"pp\")\n",
    "\n",
    "# If you're lucky and your gateset is one of pyGSTi's \"standard\" gate sets, you can just import it.\n",
    "from pygsti.construction import std2Q_XYCNOT\n",
    "gs_targetC = std2Q_XYCNOT.gs_target\n",
    "\n",
    "#check that these are all the same\n",
    "assert(abs(gs_target.frobeniusdist(gs_targetB)) < 1e-6)\n",
    "assert(abs(gs_target.frobeniusdist(gs_targetC)) < 1e-6)"
   ]
  },
  {
   "cell_type": "markdown",
   "metadata": {},
   "source": [
    "### Step 2: Obtain lists of fiducial and germ gate sequences\n",
    "These are the building blocks of the gate sequences performed in the experiment. Typically, these lists are either given to you by the folks at Sandia National Labs (email pygsti@sandia.gov), provided by pyGSTi because you're using a \"standard\" gate set, or computed using \"fiducial selection\" and \"germ selection\" algorithms (which are a part of pyGSTi, but not covered in this tutorial)."
   ]
  },
  {
   "cell_type": "code",
   "execution_count": 4,
   "metadata": {
    "collapsed": false
   },
   "outputs": [],
   "source": [
    "#If you know the fiducial strings you can create a list manually.  Note\n",
    "# that in general there can be different \"preparation\" and \"measurement\"\n",
    "# (or \"effect\") fiducials.\n",
    "prep_fiducials = pygsti.construction.gatestring_list( \\\n",
    "[ (), ('Gix',), ('Giy',), ('Gix','Gix'), \n",
    "('Gxi',), ('Gxi','Gix'), ('Gxi','Giy'), ('Gxi','Gix','Gix'), \n",
    "('Gyi',), ('Gyi','Gix'), ('Gyi','Giy'), ('Gyi','Gix','Gix'), \n",
    "('Gxi','Gxi'), ('Gxi','Gxi','Gix'), ('Gxi','Gxi','Giy'), ('Gxi','Gxi','Gix','Gix') ] )\n",
    "\n",
    "effect_fiducials = pygsti.construction.gatestring_list( \\\n",
    "[ (), ('Gix',), ('Giy',), ('Gxi',), ('Gyi',),\n",
    "('Gix','Gxi'), ('Gxi','Giy'), ('Gyi','Gix'),\n",
    "('Gyi','Giy'), ('Gxi','Gxi') ] )\n",
    "\n",
    "#Or, if you're lucky, you can just import them\n",
    "prep_fiducialsB = std2Q_XYCNOT.prepStrs\n",
    "effect_fiducialsB = std2Q_XYCNOT.effectStrs\n",
    "\n",
    "#check that these are the same\n",
    "assert(prep_fiducials == prep_fiducialsB)\n",
    "assert(effect_fiducials == effect_fiducialsB)\n",
    "\n",
    "#Use fiducial sequences to create a \"spam specifiers\" object, telling\n",
    "# GST which preparation and measurement fiducials to follow and precede which\n",
    "# state preparation and effect operators, respectively.\n",
    "specs = pygsti.construction.build_spam_specs(\n",
    "    prepStrs=prep_fiducials,\n",
    "    effectStrs=effect_fiducials,\n",
    "    prep_labels=gs_target.get_prep_labels(),\n",
    "    effect_labels=gs_target.get_effect_labels() )\n",
    "\n",
    "#Alternatively, if you're lucky, you can grab the specs directly:\n",
    "specsB = std2Q_XYCNOT.specs\n",
    "assert(specs[0] == specsB[0])"
   ]
  },
  {
   "cell_type": "code",
   "execution_count": 5,
   "metadata": {
    "collapsed": true
   },
   "outputs": [],
   "source": [
    "#germ lists can be specified in the same way.  In this case, there are\n",
    "# 71 germs required to do honest GST.  Since this would crowd this tutorial\n",
    "# notebook, we create some smaller lists of germs manually and import the\n",
    "# full 71-germ list from std2Q_XYCNOT\n",
    "germs4 = pygsti.construction.gatestring_list(\n",
    "    [ ('Gix',), ('Giy',), ('Gxi',), ('Gyi',) ] )\n",
    "\n",
    "germs11 = pygsti.construction.gatestring_list(\n",
    "    [ ('Gix',), ('Giy',), ('Gxi',), ('Gyi',), ('Gcnot',), ('Gxi','Gyi'), ('Gix','Giy'),\n",
    "      ('Gix','Gcnot'), ('Gxi','Gcnot'), ('Giy','Gcnot'), ('Gyi','Gcnot') ] )\n",
    "\n",
    "germs71 = std2Q_XYCNOT.germs"
   ]
  },
  {
   "cell_type": "markdown",
   "metadata": {},
   "source": [
    "### Step 3: Data generation\n",
    "Now that fiducial and germ strings have been found, we can generate the list of experiments needed to run GST, just like in the 1-qubit case.  As an additional input we'll need a list of lengths indicating the maximum length strings to use on each successive GST iteration."
   ]
  },
  {
   "cell_type": "code",
   "execution_count": 6,
   "metadata": {
    "collapsed": false
   },
   "outputs": [],
   "source": [
    "#A list of maximum lengths for each GST iteration\n",
    "maxLengths = [1,2,4]\n",
    "\n",
    "#Create a list of GST experiments for this gateset, with\n",
    "#the specified fiducials, germs, and maximum lengths.  We use\n",
    "#\"germs4\" here so that the tutorial runs quickly; really, you'd\n",
    "#want to use germs71!\n",
    "listOfExperiments = pygsti.construction.make_lsgst_experiment_list(gs_target.gates.keys(), prep_fiducials,\n",
    "                                                                   effect_fiducials, germs4, maxLengths)\n",
    "\n",
    "#Create an empty dataset file, which stores the list of experiments\n",
    "# and zerod-out columns where data should be inserted.  Note the use of the SPAM\n",
    "# labels in the \"Columns\" header line.\n",
    "pygsti.io.write_empty_dataset(\"tutorial_files/My2QDataTemplate.txt\", listOfExperiments,\n",
    "                              \"## Columns = upup count, updn count, dnup count, dndn count\")"
   ]
  },
  {
   "cell_type": "code",
   "execution_count": 7,
   "metadata": {
    "collapsed": true
   },
   "outputs": [],
   "source": [
    "#Generate some \"fake\" (simulated) data based on a depolarized version of the target gateset\n",
    "gs_datagen = gs_target.depolarize(gate_noise=0.1, spam_noise=0.001)\n",
    "ds = pygsti.construction.generate_fake_data(gs_datagen, listOfExperiments, nSamples=1000,\n",
    "                                            sampleError=\"multinomial\", seed=2016)\n",
    "\n",
    "#if you have a dataset file with real data in it, load it using something like:\n",
    "#ds = pygsti.io.load_dataset(\"mydir/My2QDataset.txt\")"
   ]
  },
  {
   "cell_type": "markdown",
   "metadata": {},
   "source": [
    "### Step 4: Run GST using `do_long_sequence_gst`\n",
    "Just like for 1-qubit GST, we call the driver routine `do_long_sequence_gst` to compute the GST estimates.  Usually for two qubits this could take a long time (hours) based on the number of gate sequences used.  However, since we chose an incomplete set of only 4 germs and set our maximum max-length to 4, this will run fairly quickly (~20min).\n",
    "\n",
    "Some notes about the options/arguments to `do_long_sequence_gst` that are particularly relevant to 2-qubit GST:\n",
    "- `mxBasis` indicates which basis the target gateset matrices are in -- this should be the same as that used to create the gateset.  Here `'pp'` denotes the Pauli-product basis.\n",
    "- `advancedOptions` expects a dictionary of with option names as the keys.  Relevant options are:\n",
    "  - `memoryLimitInBytes` gives an estimate of how much memory is available to use on your system (in bytes).  This is currently *not* a hard limit, and pyGSTi may require 50-100% more memory than this \"limit\".  So you'll need to be conservative in the value you place here: if your machine has 10GB of RAM, set this to 3 or 5 GB initially and increase it as you see how much memory is actually used using a separate OS performance monitor tool.\n",
    "  - `depolarizeLGST` gives an amount (in [0,1]) to depolarize the initial LGST estimate that is used as the initial guess for long-sequence GST.  In practice, we find that in the larger 2-qubit Hilbert space, the LGST estimate may be so poor as to adversely affect the subsequent long-sequence GST (e.g. very slow convergence).  Depolarizing the LGST estimate remedies this.  If you're unsure what to put here, either don't specify `depolarizeLGST` at all (the same as using 0.0), or just use 0.1.\n",
    "  - `verbosity` tells the routine how much detail to print to stdout.  If you don't mind waiting a while without getting any output, you can leave this at its default value (2).  If you can't standing wondering whether GST is still running or has locked up, set this to 3."
   ]
  },
  {
   "cell_type": "code",
   "execution_count": 8,
   "metadata": {
    "collapsed": false,
    "scrolled": true
   },
   "outputs": [
    {
     "name": "stdout",
     "output_type": "stream",
     "text": [
      "--- LGST ---\n",
      "  Singular values of I_tilde (truncating to first 16 of 16) = \n",
      "  6.44208839965\n",
      "  2.18531244807\n",
      "  2.1072237613\n",
      "  1.20625794644\n",
      "  1.20264307771\n",
      "  1.06003884129\n",
      "  0.861452563925\n",
      "  0.850668013307\n",
      "  0.528005865244\n",
      "  0.516811937485\n",
      "  0.377725852852\n",
      "  0.365559517005\n",
      "  0.352185657591\n",
      "  0.233084458256\n",
      "  0.224060274123\n",
      "  0.131238615888\n",
      "  \n",
      "  Singular values of target I_tilde (truncating to first 16 of 16) = \n",
      "  6.57115719171\n",
      "  2.87363965825\n",
      "  2.87363965825\n",
      "  1.76923693223\n",
      "  1.76923693223\n",
      "  1.41421356237\n",
      "  1.22982666126\n",
      "  1.22474487139\n",
      "  0.707106781187\n",
      "  0.707106781187\n",
      "  0.5\n",
      "  0.492133228435\n",
      "  0.492133228435\n",
      "  0.346122344917\n",
      "  0.346122344917\n",
      "  0.239623757378\n",
      "  \n",
      "    Resulting gate set:\n",
      "    \n",
      "    rho0 =    0.5000        0        0   0.5000        0        0        0        0        0        0        0        0   0.5000        0        0   0.5000\n",
      "    \n",
      "    \n",
      "    E0 =    0.5810  -0.0200   0.0390   0.4620  -0.0260  -0.0370   0.0560  -0.0530   0.0140  -0.0010   0.0020   0.0510   0.4580  -0.0350   0.0520   0.4950\n",
      "    \n",
      "    E1 =    0.5060   0.0360  -0.0420  -0.4540  -0.0670  -0.0350  -0.0170   0.0610   0.0430   0.0190  -0.0030  -0.0290   0.3640   0.0160  -0.0380  -0.4160\n",
      "    \n",
      "    E2 =    0.5010  -0.0620   0.0060   0.3640   0.0390   0.0640   0.0140   0.0520  -0.0240  -0.0590  -0.0490  -0.0350  -0.4540   0.0710  -0.0170  -0.4090\n",
      "    \n",
      "    \n",
      "    Gix = \n",
      "       0.9998   0.0002  -0.0002   0.0002   0.0006  -0.0006   0.0006  -0.0006  -0.0001   0.0002  -0.0001   0.0001        0        0        0        0\n",
      "       0.0057   0.9140   0.0057  -0.0057  -0.0123   0.0203  -0.0123   0.0123   0.0019  -0.0042   0.0019  -0.0019   0.0484  -0.0538   0.0484  -0.0484\n",
      "      -0.0938   0.0870  -0.0938  -0.9062  -0.0040   0.0070  -0.0040   0.0040   0.0296  -0.0796   0.0296  -0.0296   0.0056   0.0156   0.0056  -0.0056\n",
      "      -0.0932   0.0745   0.9068   0.0932  -0.0158   0.0846  -0.0158   0.0158  -0.0156   0.0782  -0.0156   0.0156  -0.0019  -0.0191  -0.0019   0.0019\n",
      "      -0.0360   0.0877  -0.0360   0.0360   0.9275  -0.0609  -0.0725   0.0725  -0.0187   0.1020  -0.0187   0.0187  -0.0005  -0.0056  -0.0005   0.0005\n",
      "      -0.0111   0.0338  -0.0111   0.0111  -0.0320   0.7854  -0.0320   0.0320  -0.0056   0.0511  -0.0056   0.0056  -0.0553   0.0748  -0.0553   0.0553\n",
      "       0.0178   0.0136   0.0178  -0.0178  -0.1584   0.1465  -0.1584  -0.8416   0.0456  -0.0531   0.0456  -0.0456   0.0344  -0.0704   0.0344  -0.0344\n",
      "      -0.0298   0.0277  -0.0298   0.0298  -0.1197   0.0082   0.8803   0.1197  -0.0705   0.0623  -0.0705   0.0705   0.0021   0.0212   0.0021  -0.0021\n",
      "       0.0018   0.0097   0.0018  -0.0018   0.0090  -0.0407   0.0090  -0.0090   0.9043  -0.0141  -0.0957   0.0957   0.0133  -0.0336   0.0133  -0.0133\n",
      "       0.0215  -0.0242   0.0215  -0.0215  -0.0038   0.0673  -0.0038   0.0038   0.0484   0.8397   0.0484  -0.0484  -0.0043   0.0163  -0.0043   0.0043\n",
      "       0.0053  -0.0123   0.0053  -0.0053   0.0361  -0.0716   0.0361  -0.0361  -0.1122  -0.0050  -0.1122  -0.8878   0.0051  -0.0138   0.0051  -0.0051\n",
      "      -0.0274   0.0145  -0.0274   0.0274   0.0094   0.0641   0.0094  -0.0094  -0.1077   0.1182   0.8923   0.1077  -0.0534   0.0095  -0.0534   0.0534\n",
      "      -0.0177   0.0137  -0.0177   0.0177   0.0120   0.0491   0.0120  -0.0120   0.0119   0.0284   0.0119  -0.0119   0.8991  -0.0120  -0.1009   0.1009\n",
      "       0.0200  -0.0310   0.0200  -0.0200   0.0244   0.0290   0.0244  -0.0244   0.0432  -0.0401   0.0432  -0.0432   0.0003   0.9076   0.0003  -0.0003\n",
      "      -0.0004  -0.0138  -0.0004   0.0004   0.0626  -0.0323   0.0626  -0.0626   0.0593  -0.0553   0.0593  -0.0593  -0.1291   0.0893  -0.1291  -0.8709\n",
      "      -0.0226   0.0183  -0.0226   0.0226  -0.0242  -0.0004  -0.0242   0.0242  -0.0111  -0.0529  -0.0111   0.0111  -0.0743   0.1096   0.9257   0.0743\n",
      "    \n",
      "    \n",
      "    Giy = \n",
      "       0.9998        0  -0.0002   0.0002   0.0004        0   0.0007  -0.0004  -0.0002  -0.0002  -0.0003   0.0002        0        0   0.0001        0\n",
      "       0.0990  -0.0960   0.0810   0.9010   0.0074   0.0165   0.0078  -0.0074  -0.0080   0.0303  -0.0496   0.0080   0.0279   0.0323   0.0158  -0.0279\n",
      "      -0.0208  -0.0104   0.8955   0.0208   0.0548   0.0132   0.0200  -0.0548  -0.0022  -0.0314  -0.0248   0.0022   0.0165  -0.0071   0.0296  -0.0165\n",
      "      -0.1041  -0.9239  -0.0890   0.1041   0.0114   0.0367  -0.0116  -0.0114  -0.0246   0.0118  -0.0359   0.0246   0.0093  -0.0208   0.0191  -0.0093\n",
      "      -0.0214  -0.0149  -0.0428   0.0214   0.9190   0.1040   0.0278   0.0810  -0.0140  -0.0002  -0.0359   0.0140  -0.0037   0.0235  -0.0376   0.0037\n",
      "       0.0121   0.0505   0.0203  -0.0121   0.1165  -0.1896   0.0138   0.8835   0.0285   0.0453   0.0367  -0.0285  -0.0256  -0.0634  -0.0754   0.0256\n",
      "       0.0311  -0.0641   0.0474  -0.0311   0.0038   0.0135   0.8318  -0.0038   0.1011  -0.1270   0.0997  -0.1011   0.0029   0.0495  -0.0119  -0.0029\n",
      "      -0.0237   0.0481  -0.0494   0.0237  -0.0562  -0.9723  -0.1302   0.0562  -0.0385  -0.0317  -0.0592   0.0385  -0.0193  -0.0533   0.0202   0.0193\n",
      "      -0.0035   0.0105   0.0014   0.0035   0.0183  -0.0502   0.0106  -0.0183   0.9168   0.0820   0.0376   0.0832   0.0091  -0.0092   0.0391  -0.0091\n",
      "       0.0038  -0.0106   0.0617  -0.0038   0.0423  -0.0645   0.1059  -0.0423   0.1405  -0.0592   0.1496   0.8595   0.0218  -0.0204   0.0200  -0.0218\n",
      "      -0.0060   0.0295  -0.0132   0.0060   0.0143   0.0793   0.0409  -0.0143  -0.1135   0.0792   0.7464   0.1135   0.0006   0.0483   0.0485  -0.0006\n",
      "      -0.0192  -0.0054   0.0262   0.0192  -0.0172   0.0478  -0.1165   0.0172  -0.0884  -0.9413  -0.0374   0.0884  -0.0152  -0.0341  -0.0272   0.0152\n",
      "      -0.0109   0.0088  -0.0020   0.0109   0.0238   0.0177  -0.0505  -0.0238  -0.0052  -0.0339  -0.0295   0.0052   0.9104   0.0800  -0.0101   0.0896\n",
      "       0.0337   0.0169   0.0374  -0.0337  -0.0771   0.0464  -0.1094   0.0771  -0.0017  -0.0197  -0.0654   0.0017   0.0845  -0.1255   0.0498   0.9155\n",
      "       0.0354  -0.0617   0.0175  -0.0354  -0.0082   0.1035   0.0971   0.0082   0.0492   0.0401   0.0598  -0.0492  -0.0411   0.0297   0.8679   0.0411\n",
      "       0.0177  -0.0114  -0.0333  -0.0177  -0.0357   0.0120   0.0090   0.0357   0.0238  -0.0224  -0.0037  -0.0238  -0.0729  -0.9404  -0.0416   0.0729\n",
      "    \n",
      "    \n",
      "    Gxi = \n",
      "       0.9998   0.0002  -0.0002   0.0002   0.0005  -0.0007   0.0006  -0.0002        0  -0.0004        0        0   0.0001  -0.0002   0.0001  -0.0001\n",
      "       0.0125   0.9004   0.0052  -0.0089  -0.0075  -0.0025  -0.0092  -0.0099  -0.0014  -0.0773  -0.0626   0.0050  -0.0009   0.0705  -0.0033  -0.0027\n",
      "       0.0082  -0.0115   0.8935  -0.0051  -0.0077  -0.0483  -0.0238   0.0046   0.0313   0.0005  -0.0475  -0.0282  -0.0021   0.0692   0.1001  -0.0010\n",
      "      -0.0100  -0.0039   0.0231   0.8965  -0.0115   0.0387  -0.0369  -0.0314  -0.0027   0.0006   0.0334  -0.1109   0.0137  -0.0537   0.0118   0.0999\n",
      "       0.0002   0.0247  -0.0139  -0.0161   0.8989  -0.0061  -0.0094  -0.0231   0.0057   0.0351  -0.0547  -0.0216  -0.0138  -0.0424   0.0502   0.0298\n",
      "       0.0044   0.0050   0.0436   0.0338   0.0065   0.8042  -0.0945   0.0065  -0.0372   0.0327   0.0456   0.0755  -0.0586   0.0335  -0.0125   0.0204\n",
      "       0.0304   0.0144   0.0989  -0.0076  -0.0309  -0.1435   0.7341   0.0270   0.0484  -0.0074   0.0338  -0.0256  -0.0107   0.0890  -0.1012  -0.0121\n",
      "       0.0039   0.0293  -0.0183   0.0316  -0.0007   0.0311  -0.0514   0.8769  -0.0048  -0.0055   0.0458   0.0403   0.0163   0.0245   0.0926  -0.0518\n",
      "      -0.0947   0.0212  -0.0173  -0.0168   0.1143  -0.0352   0.0233   0.0513  -0.1263   0.0093  -0.0680   0.0148  -0.8880  -0.0202  -0.0257  -0.0005\n",
      "       0.0042  -0.0977  -0.0235   0.0121  -0.0535   0.1303  -0.0248  -0.0753   0.0008  -0.1531  -0.0369   0.0154  -0.0565  -0.9097  -0.0640   0.0403\n",
      "       0.0073  -0.0535  -0.1402   0.0246   0.0207  -0.0092   0.1430   0.0136   0.0257  -0.0080  -0.0404   0.0063   0.0231   0.0094  -0.8291  -0.0551\n",
      "      -0.0420   0.0311  -0.0512  -0.0747   0.0451   0.0538   0.0464   0.0851  -0.0104  -0.0131  -0.0148  -0.1064   0.0011  -0.0337  -0.0285  -0.8844\n",
      "      -0.1076  -0.0077  -0.0069   0.0059   0.1470   0.0060   0.0305  -0.0128   0.9006   0.0325  -0.0332  -0.0023   0.1082  -0.0073   0.0376  -0.0065\n",
      "       0.0349  -0.1647   0.0328   0.0008   0.0063   0.2281  -0.0483   0.0449  -0.0082   0.8419   0.0314   0.0440   0.0011   0.0761  -0.0074  -0.0369\n",
      "       0.0489  -0.0255  -0.0247   0.0165   0.0078  -0.0840   0.1117  -0.0191   0.0230  -0.1180   0.8663   0.0424  -0.0670   0.0411  -0.0362   0.0016\n",
      "       0.0214   0.0078  -0.0188  -0.0805  -0.0152  -0.0154  -0.0036   0.1839   0.0261  -0.0565   0.0699   0.9147   0.0079   0.0298   0.0616   0.0513\n",
      "    \n",
      "    \n",
      "    Gyi = \n",
      "       0.9998   0.0003  -0.0004        0        0   0.0003   0.0001        0  -0.0003   0.0003  -0.0004        0   0.0003  -0.0004   0.0005        0\n",
      "       0.0033   0.9081   0.0051   0.0007  -0.0618   0.1488  -0.0509  -0.0480  -0.0187   0.0243   0.0221   0.0237  -0.0065   0.0954  -0.0185   0.0026\n",
      "      -0.0161   0.0037   0.8821  -0.0244  -0.0396   0.0671   0.1010   0.0154  -0.0147  -0.0448  -0.0431  -0.0125   0.0286  -0.0509   0.0748   0.0118\n",
      "      -0.0053   0.0015   0.0194   0.9116   0.0051  -0.0091  -0.0352   0.0854   0.0104   0.0707   0.0317   0.0140   0.0275  -0.0038  -0.0269   0.0662\n",
      "       0.0916   0.0006  -0.0259  -0.0146  -0.0686  -0.0317   0.0643   0.0134   0.0952   0.0636  -0.0809  -0.0067   0.9322  -0.0338   0.0305  -0.0092\n",
      "       0.0225   0.0668   0.0070  -0.0362   0.0279  -0.1005   0.1003   0.0065   0.0609   0.0540   0.0238  -0.0518  -0.0089   0.8418  -0.1091   0.0226\n",
      "      -0.0217   0.0256   0.0722   0.0183   0.0314  -0.0717  -0.0088   0.1288  -0.0781  -0.0310   0.0719  -0.0167   0.0199  -0.0675   0.8061  -0.0166\n",
      "       0.0007  -0.0051   0.0034   0.1093   0.0366  -0.0367  -0.0057  -0.1150   0.0386  -0.1505   0.0330   0.1354  -0.0012   0.0584  -0.0467   0.8912\n",
      "       0.0008   0.0011  -0.0103  -0.0289  -0.0227   0.0863  -0.0383   0.0346   0.8831  -0.0261  -0.0364  -0.0474   0.0071  -0.0097   0.0038   0.0210\n",
      "       0.0501  -0.0642   0.0901  -0.0329  -0.0432   0.1346  -0.1123   0.0235   0.0859   0.8225   0.0552  -0.1137  -0.0097  -0.0090   0.0876  -0.0076\n",
      "      -0.0105   0.0099  -0.0308  -0.0044   0.0424  -0.1818  -0.0182   0.0235  -0.0226   0.0337   0.8196   0.0420   0.0091  -0.0487  -0.0053   0.0058\n",
      "       0.0129  -0.0017  -0.0171   0.0278  -0.0300   0.0538   0.0517  -0.0174   0.0074   0.0236  -0.0778   0.8893  -0.0124   0.0908  -0.0543  -0.0283\n",
      "      -0.1197   0.0387  -0.0433  -0.0138  -0.8829  -0.0578   0.0480  -0.0076  -0.0929   0.0629  -0.0880   0.0094   0.1534  -0.0168   0.0188  -0.0199\n",
      "       0.0447  -0.1141   0.0375  -0.0085  -0.0427  -0.9156  -0.1237   0.0229   0.0793  -0.1220   0.0640  -0.0315  -0.0196   0.1784  -0.0763  -0.0167\n",
      "       0.0274  -0.0194  -0.0560   0.0541   0.0908  -0.1286  -0.8324   0.0484   0.0607  -0.0803  -0.0252   0.0160   0.0093  -0.0789   0.1408  -0.0907\n",
      "      -0.0041   0.0182  -0.0809  -0.0970   0.0123   0.0091  -0.0293  -0.8891   0.0253  -0.0809  -0.0496  -0.0298  -0.0348   0.0676  -0.0084   0.1360\n",
      "    \n",
      "    \n",
      "    Gcnot = \n",
      "       1.0000   0.0003   0.0002        0  -0.0004   0.0001  -0.0004  -0.0005  -0.0004   0.0004        0   0.0001        0  -0.0002  -0.0002   0.0002\n",
      "       0.0187   0.8701   0.0522  -0.0021  -0.0377   0.0577  -0.0090   0.0128   0.0793  -0.1168   0.1132  -0.0414   0.0530  -0.0350   0.0431  -0.0010\n",
      "      -0.0162   0.0295  -0.0033   0.0021   0.0808  -0.0884   0.0165   0.0158  -0.0574   0.0394   0.0475  -0.0184  -0.0076   0.0142   0.8906   0.0063\n",
      "      -0.0987   0.0509   0.0155  -0.0031  -0.0962   0.0850  -0.0842  -0.0716   0.0723  -0.0678   0.0508   0.1426   0.0874  -0.0946  -0.0198   0.8981\n",
      "      -0.0186   0.0171  -0.0015   0.0002  -0.0794   0.0632  -0.2132   0.0070  -0.0714   0.9377  -0.1343   0.0522  -0.0021   0.0084  -0.0462  -0.0253\n",
      "       0.0168   0.0203  -0.0769   0.0160   0.0623  -0.0154   0.0479   0.1111   0.8399  -0.0629  -0.0775   0.0475  -0.0292   0.0084  -0.0132  -0.0488\n",
      "       0.0069  -0.0104   0.0138  -0.0414  -0.0231   0.0918  -0.1048  -0.8355  -0.0799   0.0712   0.0029  -0.0649   0.0143  -0.0757  -0.0059  -0.0134\n",
      "            0   0.0574  -0.0168   0.0207   0.0733  -0.0678   0.9416   0.0919   0.1132  -0.0473   0.1049   0.0396   0.0168  -0.0859   0.0167   0.0003\n",
      "      -0.0079   0.0152   0.0513  -0.0202   0.0007  -0.8875  -0.0483   0.0155  -0.0274  -0.0043  -0.1217  -0.0350  -0.0055  -0.0110  -0.0407  -0.0212\n",
      "      -0.0178  -0.0092   0.0265   0.0213  -0.9529   0.0337  -0.0800  -0.1443  -0.0750  -0.0776  -0.1287  -0.0164   0.0041  -0.0327  -0.0011  -0.0018\n",
      "       0.0388  -0.1140   0.1666  -0.0395   0.0054   0.0509  -0.0379  -0.0212  -0.0310  -0.0459   0.0071  -0.8467   0.0083  -0.0119  -0.0383   0.0119\n",
      "      -0.0203   0.0037   0.0167   0.0043  -0.1384   0.1933  -0.1297   0.0291   0.0554   0.0002   0.9106   0.1062  -0.0355   0.0226  -0.0488   0.0026\n",
      "      -0.0203  -0.0181   0.0055  -0.0559  -0.1350   0.1590  -0.0578  -0.0840   0.1042   0.1214   0.0288   0.1019   0.8917   0.0036  -0.0179   0.0864\n",
      "       0.0493  -0.0232   0.0855  -0.0094   0.0084   0.0282  -0.0984  -0.0320   0.2182   0.1176   0.1517  -0.0085   0.0172   0.8570   0.0336   0.0032\n",
      "       0.0222  -0.0748   0.8521  -0.0207   0.0119   0.0421  -0.0284  -0.1757  -0.0426  -0.0370  -0.0436   0.0396  -0.0322  -0.0075  -0.0202   0.0432\n",
      "       0.1022  -0.0651  -0.0059   0.8902   0.0566  -0.0356   0.1157   0.0123   0.0534   0.0426  -0.0654  -0.0396  -0.0670   0.0285   0.0345  -0.0184\n",
      "    \n",
      "    \n",
      "    \n",
      "--- Iterative MLGST: Iter 1 of 3  666 gate strings ---: \n",
      "  --- Minimum Chi^2 GST ---\n",
      "  Memory limit = 3.00GB\n",
      "  Cur, Persist, Gather = 0.08, 0.03, 0.30 GB\n",
      "  Evaltree generation (deriv) w/mem limit = 2.59GB\n",
      "    bulk_evaltree: created initial tree (666 strs) in 0s\n",
      "    bulk_evaltree: split tree (1 subtrees) in 0s\n",
      "   mem(1 subtrees, 1 param-grps, 1 proc-grps) in 0s = 1.71GB (2.22GB fc)\n",
      "  Created evaluation tree with 1 subtrees.  Will divide 1 procs into 1 (subtree-processing)\n",
      "   groups of ~1 procs each, to distribute over 1344 params (taken as 1 param groups of ~1344 params).\n",
      "   Memory estimate = 1.71GB (cache=666, wrtLen=1344, subsPerProc=1).\n",
      "--- Outer Iter 0: norm_f = 28663.8, mu=0\n",
      "--- Outer Iter 1: norm_f = 25659.8, mu=3.44243e+06\n",
      "--- Outer Iter 2: norm_f = 22085.1, mu=1.14748e+06\n",
      "--- Outer Iter 3: norm_f = 15799.5, mu=382492\n",
      "--- Outer Iter 4: norm_f = 8470.74, mu=127497\n",
      "--- Outer Iter 5: norm_f = 4445.09, mu=42499.1\n",
      "--- Outer Iter 6: norm_f = 2690.75, mu=14166.4\n",
      "--- Outer Iter 7: norm_f = 1823.64, mu=4722.13\n",
      "--- Outer Iter 8: norm_f = 1324.61, mu=1574.04\n",
      "--- Outer Iter 9: norm_f = 1072.98, mu=524.681\n",
      "--- Outer Iter 10: norm_f = 973.622, mu=174.894\n",
      "--- Outer Iter 11: norm_f = 940.107, mu=58.2978\n",
      "--- Outer Iter 12: norm_f = 930.392, mu=19.4326\n",
      "--- Outer Iter 13: norm_f = 927.859, mu=6.47754\n",
      "--- Outer Iter 14: norm_f = 927.294, mu=2.15918\n",
      "--- Outer Iter 15: norm_f = 927.223, mu=0.719727\n",
      "--- Outer Iter 16: norm_f = 927.218, mu=0.239909\n",
      "    Least squares message = Both actual and predicted relative reductions in the sum of squares are at most 1e-06\n",
      "  Sum of Chi^2 = 927.218 (1998 data params - 1088 model params = expected mean of 910; p-value = 0.338453)\n",
      "  Completed in 290.7s\n",
      "  2*Delta(log(L)) = 929.913\n",
      "  Iteration 1 took 290.7s\n",
      "  \n",
      "--- Iterative MLGST: Iter 2 of 3  1041 gate strings ---: \n",
      "  --- Minimum Chi^2 GST ---\n",
      "  Memory limit = 3.00GB\n",
      "  Cur, Persist, Gather = 0.18, 0.04, 0.30 GB\n",
      "  Evaltree generation (deriv) w/mem limit = 2.49GB\n",
      "    bulk_evaltree: created initial tree (1041 strs) in 0s\n",
      "    bulk_evaltree: split tree (1 subtrees) in 0s\n",
      "   mem(1 subtrees, 1 param-grps, 1 proc-grps) in 0s = 2.67GB (3.47GB fc)\n",
      "  Created evaluation tree with 1 subtrees.  Will divide 1 procs into 1 (subtree-processing)\n",
      "   groups of ~1 procs each, to distribute over 1344 params (taken as 2 param groups of ~672 params).\n",
      "   Memory estimate = 1.34GB (cache=1041, wrtLen=672, subsPerProc=1).\n",
      "--- Outer Iter 0: norm_f = 3875.9, mu=0\n",
      "--- Outer Iter 1: norm_f = 2781.78, mu=2980.57\n",
      "--- Outer Iter 2: norm_f = 2395.28, mu=993.525\n",
      "--- Outer Iter 3: norm_f = 2202.91, mu=331.175\n",
      "--- Outer Iter 4: norm_f = 2134.35, mu=110.392\n",
      "--- Outer Iter 5: norm_f = 2119.46, mu=36.7972\n",
      "--- Outer Iter 6: norm_f = 2117.66, mu=12.2657\n",
      "--- Outer Iter 7: norm_f = 2117.56, mu=4.08858\n",
      "--- Outer Iter 8: norm_f = 2117.56, mu=1.36286\n",
      "    Least squares message = Both actual and predicted relative reductions in the sum of squares are at most 1e-06\n",
      "  Sum of Chi^2 = 2117.56 (3123 data params - 1088 model params = expected mean of 2035; p-value = 0.0989822)\n",
      "  Completed in 223.5s\n",
      "  2*Delta(log(L)) = 2123.48\n",
      "  Iteration 2 took 223.5s\n",
      "  \n",
      "--- Iterative MLGST: Iter 3 of 3  1582 gate strings ---: \n",
      "  --- Minimum Chi^2 GST ---\n",
      "  Memory limit = 3.00GB\n",
      "  Cur, Persist, Gather = 0.17, 0.06, 0.29 GB\n",
      "  Evaltree generation (deriv) w/mem limit = 2.47GB\n",
      "    bulk_evaltree: created initial tree (1582 strs) in 0s\n",
      "    bulk_evaltree: split tree (1 subtrees) in 0s\n",
      "   mem(1 subtrees, 1 param-grps, 1 proc-grps) in 0s = 4.06GB (5.28GB fc)\n",
      "  Created evaluation tree with 1 subtrees.  Will divide 1 procs into 1 (subtree-processing)\n",
      "   groups of ~1 procs each, to distribute over 1344 params (taken as 2 param groups of ~672 params).\n",
      "   Memory estimate = 2.03GB (cache=1582, wrtLen=672, subsPerProc=1).\n",
      "--- Outer Iter 0: norm_f = 4546.06, mu=0\n",
      "--- Outer Iter 1: norm_f = 3974.46, mu=3859.92\n",
      "--- Outer Iter 2: norm_f = 3859.86, mu=1286.64\n",
      "--- Outer Iter 3: norm_f = 3823.08, mu=428.88\n",
      "--- Outer Iter 4: norm_f = 3813.66, mu=142.96\n",
      "--- Outer Iter 5: norm_f = 3812.14, mu=47.6533\n",
      "--- Outer Iter 6: norm_f = 3811.99, mu=15.8844\n",
      "--- Outer Iter 7: norm_f = 3811.98, mu=5.29481\n",
      "    Least squares message = Both actual and predicted relative reductions in the sum of squares are at most 1e-06\n",
      "  Sum of Chi^2 = 3811.98 (4746 data params - 1088 model params = expected mean of 3658; p-value = 0.0372611)\n",
      "  Completed in 304.2s\n",
      "  2*Delta(log(L)) = 3823.44\n",
      "  Iteration 3 took 304.3s\n",
      "  \n",
      "  Switching to ML objective (last iteration)\n",
      "  --- MLGST ---\n",
      "  Memory: limit = 3.00GB(cur, persist, gthr = 0.21, 0.06, 0.29 GB)\n",
      "  Evaltree generation (deriv) w/mem limit = 2.43GB\n",
      "    bulk_evaltree: created initial tree (1582 strs) in 0s\n",
      "    bulk_evaltree: split tree (1 subtrees) in 0s\n",
      "   mem(1 subtrees, 1 param-grps, 1 proc-grps) in 0s = 4.06GB (5.28GB fc)\n",
      "  Created evaluation tree with 1 subtrees.  Will divide 1 procs into 1 (subtree-processing)\n",
      "   groups of ~1 procs each, to distribute over 1344 params (taken as 2 param groups of ~672 params).\n",
      "   Memory estimate = 2.03GB (cache=1582, wrtLen=672, subsPerProc=1).\n",
      "--- Outer Iter 0: norm_f = 1911.72, mu=0\n",
      "--- Outer Iter 1: norm_f = 1911.39, mu=59593.9\n",
      "--- Outer Iter 2: norm_f = 1909.73, mu=19864.6\n",
      "--- Outer Iter 3: norm_f = 1909.63, mu=19291.2\n",
      "--- Outer Iter 4: norm_f = 1909.61, mu=1.38018e+07\n",
      "--- Outer Iter 5: norm_f = 1909.61, mu=1.38018e+07\n",
      "    Least squares message = Relative change in |x| is at most 1e-06\n",
      "    Maximum log(L) = 1909.61 below upper bound of -3.58927e+06\n",
      "      2*Delta(log(L)) = 3819.22 (4746 data params - 1088 model params = expected mean of 3658; p-value = 0.0310436)\n",
      "    Completed in 222.6s\n",
      "  2*Delta(log(L)) = 3819.22\n",
      "  Final MLGST took 222.6s\n",
      "  \n",
      "Iterative MLGST Total Time: 1041.1s\n",
      "Total time=0.296057 hours\n"
     ]
    }
   ],
   "source": [
    "import time\n",
    "start = time.time()\n",
    "results = pygsti.do_long_sequence_gst(ds, gs_target, prep_fiducials, effect_fiducials, germs4,\n",
    "                                    maxLengths, gaugeOptParams={'itemWeights': {'spam':0.1,'gates': 1.0}},\n",
    "                                    advancedOptions={ 'depolarizeStart' : 0.1 }, memLimit=3*(1024)**3,\n",
    "                                    verbosity=3 )\n",
    "end = time.time()\n",
    "print(\"Total time=%f hours\" % ((end - start) / 3600.0))\n",
    "\n",
    "#If you wanted to, you could pickle the results for later analysis:\n",
    "#pickle.dump(results, open(\"MySavedResults.pkl\", \"w\"))"
   ]
  },
  {
   "cell_type": "markdown",
   "metadata": {},
   "source": [
    "### Step 5: Create report(s) using the returned `Results` object\n",
    "The `Results` object returned from `do_long_sequence_gst` is able to generate several different types of reports.  Most of these are designed to display single-qubit results (for historical reasons).  The \"general\"-type report was designed with 2-qubit data presentation in mind, so creating reports with `create_general_report` will be the most useful."
   ]
  },
  {
   "cell_type": "code",
   "execution_count": 9,
   "metadata": {
    "collapsed": false
   },
   "outputs": [
    {
     "name": "stdout",
     "output_type": "stream",
     "text": [
      "pp\n",
      "[4]\n"
     ]
    }
   ],
   "source": [
    "results.gatesets['final estimate'].set_basis(\"pp\", [4])\n",
    "print(results.gatesets['final estimate'].get_basis_name())\n",
    "print(results.gatesets['final estimate'].get_basis_dimension())"
   ]
  },
  {
   "cell_type": "code",
   "execution_count": 10,
   "metadata": {
    "collapsed": false
   },
   "outputs": [
    {
     "name": "stdout",
     "output_type": "stream",
     "text": [
      "*** Generating tables *** (0.0s elapsed)\n",
      "  Generating table: targetSpamBriefTable  [0.0s]\n",
      "  Generating table: bestGatesetSpamBriefTable  [0.0s]\n",
      "  Generating table: bestGatesetSpamParametersTable  [0.0s]\n",
      "  Generating table: bestGatesetVsTargetTable  [6.1s]\n",
      "  Generating table: bestGatesetSpamVsTargetTable  [0.0s]\n",
      "  Generating table: bestGatesetGaugeOptParamsTable  [0.0s]\n",
      "  Generating table: bestGatesetChoiEvalTable  [5.0s]\n",
      "  Generating table: datasetOverviewTable  [0.1s]\n",
      "  Generating table: bestGatesetEvalTable  [1.3s]\n",
      "  Generating table: bestGatesetRelEvalTable  [1.1s]\n",
      "  Generating table: targetGatesBoxTable  [6.6s]\n",
      "  Generating table: bestGatesetGatesBoxTable  [13.2s]\n",
      "  Generating table: bestGatesetErrGenBoxTable  [11.1s]\n",
      "  Generating table: fiducialListTable  [0.0s]\n",
      "  Generating table: prepStrListTable  [0.0s]\n",
      "  Generating table: effectStrListTable  [0.0s]\n",
      "  Generating table: germList2ColTable  [0.0s]\n",
      "  Generating table: progressTable  [12.8s]\n",
      "*** Generating plots *** (97.2s elapsed)\n",
      " -- LogL plots:  Iter 1 of 3 :   Generating figure: colorBoxPlotKeyPlot  [1.8s]\n",
      " Iter 2 of 3 :   Generating figure: bestEstimateSummedColorBoxPlot  [0.6s]\n",
      " Iter 3 of 3 :   Generating special: bestEstimateColorBoxPlotPages  [8.9s]\n",
      "\n",
      "*** Merging into template file *** (118.2s elapsed)\n",
      "Latex file(s) successfully generated.  Attempting to compile with pdflatex...\n",
      "Initial output PDF tutorial_files/easy_2q_general.pdf successfully generated.\n",
      "Final output PDF tutorial_files/easy_2q_general.pdf successfully generated. Cleaning up .aux and .log files.\n",
      "Report generation complete! [total time 120s]\n"
     ]
    }
   ],
   "source": [
    "results.create_general_report_pdf(filename=\"tutorial_files/easy_2q_general.pdf\",verbosity=2)"
   ]
  },
  {
   "cell_type": "markdown",
   "metadata": {},
   "source": [
    "Now open [tutorial_files/easy_2q_general.pdf](tutorial_files/easy_2q_general.pdf) to see the results.  You've run 2-qubit GST!"
   ]
  },
  {
   "cell_type": "code",
   "execution_count": 11,
   "metadata": {
    "collapsed": true
   },
   "outputs": [],
   "source": [
    "import pickle\n",
    "with open(\"tutorial_files/easy_2q_results.pkl\",\"wb\") as pklfile:\n",
    "        pickle.dump(results, pklfile)"
   ]
  },
  {
   "cell_type": "code",
   "execution_count": null,
   "metadata": {
    "collapsed": true
   },
   "outputs": [],
   "source": []
  }
 ],
 "metadata": {
  "kernelspec": {
   "display_name": "Python 3",
   "language": "python",
   "name": "python3"
  },
  "language_info": {
   "codemirror_mode": {
    "name": "ipython",
    "version": 3
   },
   "file_extension": ".py",
   "mimetype": "text/x-python",
   "name": "python",
   "nbconvert_exporter": "python",
   "pygments_lexer": "ipython3",
   "version": "3.5.2"
  }
 },
 "nbformat": 4,
 "nbformat_minor": 0
}
