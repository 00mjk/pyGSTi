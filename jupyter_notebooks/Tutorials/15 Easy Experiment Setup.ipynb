{
 "cells": [
  {
   "cell_type": "markdown",
   "metadata": {},
   "source": [
    "# Easy experiment setup"
   ]
  },
  {
   "cell_type": "markdown",
   "metadata": {},
   "source": [
    "This notebook demonstrates some convenience functions for coming up with the\n",
    "experiments needed to do GST on a new gateset."
   ]
  },
  {
   "cell_type": "code",
   "execution_count": 1,
   "metadata": {
    "collapsed": true
   },
   "outputs": [],
   "source": [
    "import pygsti\n",
    "import pygsti.algorithms.germselection as germsel\n",
    "import pygsti.algorithms.fiducialselection as fidsel\n",
    "import pygsti.construction as constr"
   ]
  },
  {
   "cell_type": "markdown",
   "metadata": {},
   "source": [
    "Let's use the 1-qubit $X(\\pi/2)$, $Y(\\pi/2)$, $I$ gateset already packaged with pyGSTi, but pretend that\n",
    "we don't have precomputed germs and fiducials available."
   ]
  },
  {
   "cell_type": "code",
   "execution_count": 2,
   "metadata": {
    "collapsed": true
   },
   "outputs": [],
   "source": [
    "import pygsti.construction.std1Q_XYI as std\n",
    "gs_target = std.gs_target"
   ]
  },
  {
   "cell_type": "markdown",
   "metadata": {},
   "source": [
    "## Hands-off"
   ]
  },
  {
   "cell_type": "markdown",
   "metadata": {},
   "source": [
    "We begin by demonstrating the most hands-off approach."
   ]
  },
  {
   "cell_type": "markdown",
   "metadata": {},
   "source": [
    "We can generate a germ set simply by providing the target gateset."
   ]
  },
  {
   "cell_type": "code",
   "execution_count": 3,
   "metadata": {
    "collapsed": true
   },
   "outputs": [],
   "source": [
    "germs = germsel.generate_germs(gs_target)"
   ]
  },
  {
   "cell_type": "markdown",
   "metadata": {},
   "source": [
    "We can also generate preparation and measurement fiducials, although in addition to the\n",
    "target gateset we also need to identify gates from the target gateset not to use in the\n",
    "fiducials (in this case we don't want the identity gate included in our fiducials)."
   ]
  },
  {
   "cell_type": "code",
   "execution_count": 4,
   "metadata": {
    "collapsed": false
   },
   "outputs": [
    {
     "name": "stdout",
     "output_type": "stream",
     "text": [
      "Complete initial fiducial set succeeds.\n",
      "Now searching for best fiducial set.\n",
      "Final fiducial set succeeds.\n",
      "Complete initial fiducial set succeeds.\n",
      "Now searching for best fiducial set.\n",
      "Final fiducial set succeeds.\n"
     ]
    },
    {
     "name": "stderr",
     "output_type": "stream",
     "text": [
      "/Users/jongros/src/python/pyGSTi/packages/pygsti/algorithms/scoring.py:38: RuntimeWarning: divide by zero encountered in true_divide\n",
      "  score = sum(1. / _np.abs(input_array))\n"
     ]
    }
   ],
   "source": [
    "gatesToOmit = ['Gi']\n",
    "prepFiducials, measFiducials = fidsel.generate_fiducials(gs_target, gatesToOmit)"
   ]
  },
  {
   "cell_type": "markdown",
   "metadata": {},
   "source": [
    "Now that we have germs and fiducials, we can construct the list of experiments we need to perform in\n",
    "order to do GST. The only new things to provide at this point are the sizes for the experiments we want\n",
    "to perform (in this case we want to perform between 0 and 256 gates between fiducial pairs, going up\n",
    "by a factor of 2 at each stage)."
   ]
  },
  {
   "cell_type": "code",
   "execution_count": 5,
   "metadata": {
    "collapsed": true
   },
   "outputs": [],
   "source": [
    "maxLengths = [0] + [2**n for n in range(8 + 1)]\n",
    "listOfExperiments = constr.make_lsgst_experiment_list(gs_target.gates.keys(), prepFiducials,\n",
    "                                                      measFiducials, germs, maxLengths)"
   ]
  },
  {
   "cell_type": "markdown",
   "metadata": {},
   "source": [
    "The list of `GateString` that the previous function gave us isn't necessarily the most readable\n",
    "form to present the information in, so we can write the experiment list out to an empty data\n",
    "file to be filled in after the experiments are performed."
   ]
  },
  {
   "cell_type": "code",
   "execution_count": 6,
   "metadata": {
    "collapsed": true
   },
   "outputs": [],
   "source": [
    "pygsti.io.write_empty_dataset(\"tutorial_files/EasyDataTemplate.txt\", listOfExperiments)"
   ]
  },
  {
   "cell_type": "markdown",
   "metadata": {},
   "source": [
    "That's it! You can now take the data this file is asking for and come back to analyze the data."
   ]
  },
  {
   "cell_type": "markdown",
   "metadata": {},
   "source": [
    "## More control"
   ]
  },
  {
   "cell_type": "markdown",
   "metadata": {},
   "source": [
    "There are many ways you can assume more control over the experiment design process. We'll only demonstrate\n",
    "a few here, but all options are discussed in the documentation for the various functions we've used."
   ]
  },
  {
   "cell_type": "markdown",
   "metadata": {},
   "source": [
    "There are a number of different algorithms available for germ selection. You can choose a non-default\n",
    "algorithm by specifying the `algorithm` keyword argument."
   ]
  },
  {
   "cell_type": "markdown",
   "metadata": {},
   "source": [
    "Each of the available algorithms has a set of keyword arguments of its own with which you\n",
    "can more precisely specify how you want it to behave. These keyword arguments can be passed\n",
    "as a dictionary to `generate_germs` through the keyword argument `algorithm_kwargs`."
   ]
  },
  {
   "cell_type": "code",
   "execution_count": 7,
   "metadata": {
    "collapsed": false,
    "scrolled": true
   },
   "outputs": [],
   "source": [
    "slackGerms = germsel.generate_germs(gs_target, algorithm='slack', algorithm_kwargs={'maxIter': 15})"
   ]
  },
  {
   "cell_type": "code",
   "execution_count": 9,
   "metadata": {
    "collapsed": false
   },
   "outputs": [
    {
     "data": {
      "text/plain": [
       "181"
      ]
     },
     "execution_count": 9,
     "metadata": {},
     "output_type": "execute_result"
    }
   ],
   "source": [
    "len(slackGerms)"
   ]
  },
  {
   "cell_type": "markdown",
   "metadata": {},
   "source": [
    "We got an unwieldy germ set, but that's because we set the maximum number of iterations very low\n",
    "for run-time considerations."
   ]
  },
  {
   "cell_type": "markdown",
   "metadata": {},
   "source": [
    "Fiducial selection can be controlled in much the same way."
   ]
  },
  {
   "cell_type": "code",
   "execution_count": 8,
   "metadata": {
    "collapsed": false
   },
   "outputs": [
    {
     "name": "stderr",
     "output_type": "stream",
     "text": [
      "/Users/jongros/src/python/pyGSTi/packages/pygsti/algorithms/scoring.py:38: RuntimeWarning: divide by zero encountered in true_divide\n",
      "  score = sum(1. / _np.abs(input_array))\n"
     ]
    }
   ],
   "source": [
    "graspPrepFids, graspMeasFids = fidsel.generate_fiducials(gs_target, gatesToOmit, algorithm='grasp',\n",
    "                                                         algorithm_kwargs={'alpha': 0.2})"
   ]
  },
  {
   "cell_type": "code",
   "execution_count": null,
   "metadata": {
    "collapsed": true
   },
   "outputs": [],
   "source": []
  }
 ],
 "metadata": {
  "anaconda-cloud": {},
  "kernelspec": {
   "display_name": "Python [Root]",
   "language": "python",
   "name": "Python [Root]"
  },
  "language_info": {
   "codemirror_mode": {
    "name": "ipython",
    "version": 3
   },
   "file_extension": ".py",
   "mimetype": "text/x-python",
   "name": "python",
   "nbconvert_exporter": "python",
   "pygments_lexer": "ipython3",
   "version": "3.5.1"
  }
 },
 "nbformat": 4,
 "nbformat_minor": 0
}
