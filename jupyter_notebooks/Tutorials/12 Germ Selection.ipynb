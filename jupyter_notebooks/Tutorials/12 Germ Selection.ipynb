{
 "cells": [
  {
   "cell_type": "markdown",
   "metadata": {},
   "source": [
    "# Germ Selection\n",
    "The purpose of this tutorial is to illustrate \"germ selection\".  Germ selection is the process by which a complete set of germ gate sequences is constructed.  The defining property which makes a set of gate sequences a \"complete germ set\" is the amplification of *all* possible gate errors.  More precisely, the repetition of a complete set of germs, sandwiched between preparation and measurement fiducial sequences, will yield a sensitivity to *all* gate errors that scales with the number of times each germ is repeated.  This completeness is relative to the set of gates under consideration, typically a set of desired or \"target\" gates.\n",
    "\n",
    "In this tutorial, we find a complete germ set for the standard $X(\\pi/2)$, $Y(\\pi/2)$, $I$ gate set.\n",
    "\n",
    "Before proceeding, however, we note the following:  This tutorial notebook is slightly different from others.  At present, germ selection is a bit of a \"dark art\".  While we have a simple function (pygsti.algorithms.germselection.test_germ_list_infl) for determining whether or not a germ set is \"amplificationally complete\" (AC), we do not at present have a method for *optimally* selecting such a set (in particular, selecting a set that is as small as possible).  This is in part because the germ list scoring function does a good job of distinguishing between AC and non-AC sets, it does less well distinguishing between sets that are both AC.\n",
    "\n",
    "This notebook demonstrates how to generate an AC germ set, as well as demonstrating the functionality of several auxiliary functions we've developed to assist in the process.  However, it should not be taken as optimal; in particular, one may find better (smaller) AC germ sets by repeatedly running the germ selection function, seeded with an AC germ set plus a collection of further candidate germs, as demonstrated below.\n",
    "\n",
    "For more details on the theory of germ selection, please see arXiv:1605.07674."
   ]
  },
  {
   "cell_type": "code",
   "execution_count": 1,
   "metadata": {
    "collapsed": false
   },
   "outputs": [],
   "source": [
    "import pygsti\n",
    "from pygsti.construction import std1Q_XYI as std\n",
    "import time\n",
    "%matplotlib inline\n",
    "from matplotlib import pyplot as plt\n",
    "import numpy as _np"
   ]
  },
  {
   "cell_type": "code",
   "execution_count": 2,
   "metadata": {
    "collapsed": false
   },
   "outputs": [
    {
     "name": "stdout",
     "output_type": "stream",
     "text": [
      "Is the standard germ set AC? True\n",
      "Is the germ set {Gx, Gy, Gi} AC? False\n"
     ]
    }
   ],
   "source": [
    "#A germ set is AC if and only if there are a number of non-zero eigenvalues (to machine precision) of J^\\dagger J equal\n",
    "#to the number of non-SPAM non-gauge parameters in a gate set, where J is the \"twirled derivative\" of the germ set with\n",
    "#respect to the gate set.\n",
    "\n",
    "#The gate set(s) we wish to test should have random unitary noise added to it, in order to break any accidental degeneracies.\n",
    "#Additionally, even though experimental gate sets will have stochastic error,\n",
    "#the gate set used for testing MUST have only unitary error, otherwise the selection procedure will fail.\n",
    "#When actually running germ selection, the germ selection function can add random unitary noise; however,\n",
    "#this does not automatically happen when calling test_germ_list_infl to test if a particular germ set is AC for a particular\n",
    "#gate set.  Hence we manually randomize:\n",
    "\n",
    "gs_real = std.gs_target.randomize_with_unitary(.1,seed=0)\n",
    "\n",
    "#Let's see if a couple different germ sets are AC:\n",
    "\n",
    "print \"Is the standard germ set AC?\", pygsti.algorithms.germselection.test_germ_list_infl(gs_real,std.germs)\n",
    "print \"Is the germ set {Gx, Gy, Gi} AC?\", pygsti.algorithms.germselection.test_germ_list_infl(gs_real,pygsti.construction.gatestring_list([('Gx',),('Gy',),('Gi',)]))"
   ]
  },
  {
   "cell_type": "code",
   "execution_count": 3,
   "metadata": {
    "collapsed": false
   },
   "outputs": [
    {
     "data": {
      "text/plain": [
       "<matplotlib.legend.Legend at 0x10f539450>"
      ]
     },
     "execution_count": 3,
     "metadata": {},
     "output_type": "execute_result"
    },
    {
     "data": {
      "image/png": "[encoded data removed]",
      "text/plain": [
       "<matplotlib.figure.Figure at 0x10ec22d10>"
      ]
     },
     "metadata": {},
     "output_type": "display_data"
    }
   ],
   "source": [
    "#Let's plot the sorted* eigenvalues of AC and non-AC germ sets.\n",
    "#The horizontal line delineates gauge from non-gauge parameters.  We can never be sensitive to gauge parameters,\n",
    "#but to be AC, we must be sensitive to all other parameters.\n",
    "\n",
    "#*Due to numerical stability issues, some of the vanishingly small eigenvalues are negative;\n",
    "#we plot their absolute values here.\n",
    "\n",
    "plt.semilogy(sorted(_np.abs(pygsti.algorithms.germselection.test_germ_list_infl(gs_real,std.germs,returnSpectrum=True)[1])),'o',label='Std. XYI germs')\n",
    "plt.semilogy(sorted(_np.abs(pygsti.algorithms.germselection.test_germ_list_infl(gs_real,pygsti.construction.gatestring_list([('Gx',),('Gy',),('Gi',)]),returnSpectrum=True)[1])),'o',label='{Gx,Gy,Gi}')\n",
    "plt.axvline(pygsti.algorithms.germselection.num_non_spam_gauge_params(gs_real))\n",
    "plt.legend(loc='best')"
   ]
  },
  {
   "cell_type": "markdown",
   "metadata": {},
   "source": [
    "Let's now try to actually pick out a gate set.  The germ selection output will strongly depend on several different inputs to the function optimize_integer_germs_slack (argument name given in parenthesis):\n",
    "\n",
    "1.  The gate set(s) to be optimized for.  (gatesetList)\n",
    "2.  How strong the unitary randomization added is. (randomizationStrength; default is 1e-3.  Can be turned off by setting to 0 or by setting randomize=False; this should only be done if the input gate set(s) have already been subjected to some random unitary errors.\n",
    "3.  How many different randomized instances of the input gate set to be tested (numCopies; only to be used if only one gate set is passed in.  The larger this number (or the larger the size of gatesetList), the more robust the output germ list will be in general, but the slower the runtime.\n",
    "4.  How much adding a germ to the germ set \"costs\". (l1Penalty; default is 1e-2.  Increasing this *may* nudge the optimizer towards picking a smaller germ set.)\n",
    "5.  How much making an individual germ longer \"costs\". (gatePenalty; default is 0.  Increasing this *may* nudge the optimizer towards picking a germ set with shorter germs.\n",
    "6.  Whether the entire non-gauge portion of the spectrum to contributes to the germ score, or only the smallest eigenvalue.  (scoreFunc = 'all' or 'worst', respectively.)\n",
    "7.  The relaxation scheme used to reduce the germ list size:\n",
    "\n",
    "    7a.  The absolute score a germ set is allowed to achieve (fixedSlack) OR\n",
    "    \n",
    "    7b.  The relative score a germ set is allowed to achieve (slackFrac)\n",
    "8.  Whether or not the germ set *must* contain each bare gate as a germ (forceSingletons)\n",
    "\n",
    "The output should depend much more weakly (but not necessarily not at all) on the tolerance value (tol) passed to the optimizer.\n",
    "\n",
    "Here we demonstrate particular choices for the above inputs.  However, we make no claims of optimality for these choices.  End users are encouraged to experiment themselves with these inputs.  They are also welcome to email pygsti@sandia.gov; the pyGSTi development team will try to assist."
   ]
  },
  {
   "cell_type": "markdown",
   "metadata": {},
   "source": [
    "The germ selection algorithm works by throwing unnecessary germs away from an initial (large) list that is assumed to be complete.  In this example, our initial list includes all gatestrings up to length six that are distinct up to powers and cycles.  Since germ sequences are repeated and sandwiched between fiducial sequences, a germ that is a power of another germ (i.e. the other germ repeated some number of times) or that is a cyclic permutation of another germ is effectively the same as the other germ.  (I.e., if Gx is included as a germ, then GxGx will not be.\n",
    "Similarly, if GxGyGi is included as a germ, then GxiGxGy will not be.)\n",
    "The `list_all_gatestrings_without_powers_and_cycles` function provides a convenient way to list sequences gate sequences that are distinct up to such powers and cycles. "
   ]
  },
  {
   "cell_type": "code",
   "execution_count": 4,
   "metadata": {
    "collapsed": false
   },
   "outputs": [],
   "source": [
    "max_length = 6\n",
    "gates = std.gs_target.gates.keys()\n",
    "\n",
    "testGermList = pygsti.construction.list_all_gatestrings_without_powers_and_cycles(gates,max_length)"
   ]
  },
  {
   "cell_type": "code",
   "execution_count": 5,
   "metadata": {
    "collapsed": false
   },
   "outputs": [
    {
     "name": "stdout",
     "output_type": "stream",
     "text": [
      "testGermList has 196 germs in it.\n",
      "testGermList is AC.\n"
     ]
    }
   ],
   "source": [
    "print \"testGermList has\", len(testGermList), \"germs in it.\"\n",
    "print \"testGermList is\", \"not \"*(1-pygsti.algorithms.germselection.test_germ_list_infl(gs_real,testGermList))+\"AC.\""
   ]
  },
  {
   "cell_type": "code",
   "execution_count": 6,
   "metadata": {
    "collapsed": false
   },
   "outputs": [
    {
     "name": "stdout",
     "output_type": "stream",
     "text": [
      "  Starting germ set optimization. Lower score is better.\n",
      "  Gateset has 16 gauge params.\n",
      "  Progress: Iter 00 of 99 score=12.0189, nGerms=14: \n",
      "    No better neighbor. Relaxing score w/slack: 12.0189 => 12.1189\n",
      "    Found better neighbor: nGerms = 13 score = 12.084\n",
      "  Moving to better neighbor\n",
      "  Progress: Iter 01 of 99 score=12.084, nGerms=13: \n",
      "    No better neighbor. Relaxing score w/slack: 12.084 => 12.184\n",
      "    Found better neighbor: nGerms = 12 score = 12.0849\n",
      "  Moving to better neighbor\n",
      "  Progress: Iter 02 of 99 score=12.0849, nGerms=12: \n",
      "    No better neighbor. Relaxing score w/slack: 12.0849 => 12.1849\n",
      "    Found better neighbor: nGerms = 11 score = 12.0984\n",
      "  Moving to better neighbor\n",
      "  Progress: Iter 03 of 99 score=12.0984, nGerms=11: \n",
      "    No better neighbor. Relaxing score w/slack: 12.0984 => 12.1984\n",
      "    Found better neighbor: nGerms = 10 score = 12.1251\n",
      "  Moving to better neighbor\n",
      "  Progress: Iter 04 of 99 score=12.1251, nGerms=10: \n",
      "    No better neighbor. Relaxing score w/slack: 12.1251 => 12.2251\n",
      "  Stationary point found!\n",
      "  score = 12.2251346428\n",
      "  weights = [1 1 1 1 0 0 1 1 0 1 1 0 1 1]\n",
      "  L1(weights) = 10\n"
     ]
    }
   ],
   "source": [
    "#Can we reduce the number of germs and still be AC?\n",
    "#Let's start with:\n",
    "#All 196 germs (germsList=testGermList, initialWeights=None),\n",
    "#slackFrac=0.1, forceSingletons=True.\n",
    "#Let's also try to score against 5 randomized gate sets (numCopies=5)\n",
    "\n",
    "start = time.time()\n",
    "germList1 = pygsti.algorithms.germselection.optimize_integer_germs_slack(std.gs_target,testGermList,numCopies=5,\n",
    "                                                                         initialWeights=None,slackFrac=0.1,\n",
    "                                                                         forceSingletons=True,\n",
    "                                                                         maxIter=300,\n",
    "                                                                         verbosity=2)\n",
    "end = time.time()\n",
    "print\n",
    "print \"Germ selection completed in\", end-start, \"seconds.\"\n",
    "print \"germList1 is\", \"not \"*(1-pygsti.algorithms.germselection.test_germ_list_infl(gs_real,germList1))+\"AC.\""
   ]
  },
  {
   "cell_type": "code",
   "execution_count": 7,
   "metadata": {
    "collapsed": false
   },
   "outputs": [
    {
     "name": "stdout",
     "output_type": "stream",
     "text": [
      "Gi\n",
      "Gx\n",
      "Gy\n",
      "GiGxGyGyGiGy\n",
      "GiGxGyGyGyGx\n",
      "GiGyGiGyGxGy\n",
      "GiGyGiGyGyGx\n",
      "GiGyGxGyGxGy\n",
      "GiGyGyGxGxGy\n",
      "GiGyGyGyGxGx\n",
      "GiGyGyGyGxGy\n",
      "GxGxGyGyGxGy\n",
      "GxGyGyGyGyGy\n"
     ]
    }
   ],
   "source": [
    "#We have a germ set now!  Let's see what it looks like:\n",
    "for germ in germList1:\n",
    "    print germ"
   ]
  },
  {
   "cell_type": "code",
   "execution_count": 8,
   "metadata": {
    "collapsed": false
   },
   "outputs": [
    {
     "name": "stdout",
     "output_type": "stream",
     "text": [
      "Complete initial germ set succeeds on all input gatesets.\n",
      "Now searching for best germ set.\n",
      "Starting germ set optimization. Lower score is better.\n",
      "Gateset has 14 gauge params.\n",
      "Iteration 0: score=233.247, nGerms=46\n",
      "Found better neighbor: nGerms = 45 score = 227.666\n",
      "Found better neighbor: nGerms = 45 score = 227.478\n",
      "Found better neighbor: nGerms = 45 score = 227.328\n",
      "Moving to better neighbor\n",
      "Iteration 1: score=227.328, nGerms=45\n",
      "Found better neighbor: nGerms = 44 score = 221.748\n",
      "Found better neighbor: nGerms = 44 score = 221.561\n",
      "Found better neighbor: nGerms = 44 score = 221.413\n",
      "Moving to better neighbor\n",
      "Iteration 2: score=221.413, nGerms=44\n",
      "Found better neighbor: nGerms = 43 score = 215.833\n",
      "Found better neighbor: nGerms = 43 score = 215.647\n",
      "Moving to better neighbor\n",
      "Iteration 3: score=215.647, nGerms=43\n",
      "Found better neighbor: nGerms = 42 score = 210.072\n",
      "Moving to better neighbor\n",
      "Iteration 4: score=210.072, nGerms=42\n",
      "Found better neighbor: nGerms = 41 score = 209.755\n",
      "Found better neighbor: nGerms = 41 score = 205.29\n",
      "Found better neighbor: nGerms = 41 score = 205.191\n",
      "Found better neighbor: nGerms = 41 score = 205.164\n",
      "Found better neighbor: nGerms = 41 score = 205.164\n",
      "Moving to better neighbor\n",
      "Iteration 5: score=205.164, nGerms=41\n",
      "Found better neighbor: nGerms = 40 score = 204.851\n",
      "Found better neighbor: nGerms = 40 score = 200.381\n",
      "Found better neighbor: nGerms = 40 score = 200.282\n",
      "Found better neighbor: nGerms = 40 score = 200.268\n",
      "Moving to better neighbor\n",
      "Iteration 6: score=200.268, nGerms=40\n",
      "Found better neighbor: nGerms = 39 score = 199.961\n",
      "Found better neighbor: nGerms = 39 score = 195.485\n",
      "Found better neighbor: nGerms = 39 score = 195.387\n",
      "Moving to better neighbor\n",
      "Iteration 7: score=195.387, nGerms=39\n",
      "Found better neighbor: nGerms = 38 score = 195.08\n",
      "Found better neighbor: nGerms = 38 score = 190.604\n",
      "Moving to better neighbor\n",
      "Iteration 8: score=190.604, nGerms=38\n",
      "Found better neighbor: nGerms = 37 score = 190.478\n",
      "Found better neighbor: nGerms = 37 score = 189.023\n",
      "Found better neighbor: nGerms = 37 score = 187.997\n",
      "Found better neighbor: nGerms = 37 score = 187.982\n",
      "Found better neighbor: nGerms = 37 score = 187.147\n",
      "Found better neighbor: nGerms = 37 score = 186.928\n",
      "Found better neighbor: nGerms = 37 score = 186.793\n",
      "Found better neighbor: nGerms = 37 score = 186.755\n",
      "Found better neighbor: nGerms = 37 score = 185.882\n",
      "Moving to better neighbor\n",
      "Iteration 9: score=185.882, nGerms=37\n",
      "Found better neighbor: nGerms = 36 score = 185.771\n",
      "Found better neighbor: nGerms = 36 score = 184.304\n",
      "Found better neighbor: nGerms = 36 score = 183.279\n",
      "Found better neighbor: nGerms = 36 score = 183.259\n",
      "Found better neighbor: nGerms = 36 score = 182.423\n",
      "Found better neighbor: nGerms = 36 score = 182.213\n",
      "Found better neighbor: nGerms = 36 score = 182.077\n",
      "Found better neighbor: nGerms = 36 score = 182.035\n",
      "Found better neighbor: nGerms = 36 score = 181.552\n",
      "Found better neighbor: nGerms = 36 score = 181.165\n",
      "Moving to better neighbor\n",
      "Iteration 10: score=181.165, nGerms=36\n",
      "Found better neighbor: nGerms = 35 score = 181.062\n",
      "Found better neighbor: nGerms = 35 score = 179.588\n",
      "Found better neighbor: nGerms = 35 score = 179.588\n",
      "Found better neighbor: nGerms = 35 score = 178.562\n",
      "Found better neighbor: nGerms = 35 score = 178.562\n",
      "Found better neighbor: nGerms = 35 score = 177.879\n",
      "Found better neighbor: nGerms = 35 score = 177.497\n",
      "Found better neighbor: nGerms = 35 score = 177.429\n",
      "Found better neighbor: nGerms = 35 score = 177.318\n",
      "Found better neighbor: nGerms = 35 score = 177.043\n",
      "Found better neighbor: nGerms = 35 score = 176.552\n",
      "Moving to better neighbor\n",
      "Iteration 11: score=176.552, nGerms=35\n",
      "Found better neighbor: nGerms = 34 score = 176.461\n",
      "Found better neighbor: nGerms = 34 score = 174.977\n",
      "Found better neighbor: nGerms = 34 score = 173.949\n",
      "Found better neighbor: nGerms = 34 score = 173.555\n",
      "Found better neighbor: nGerms = 34 score = 172.884\n",
      "Found better neighbor: nGerms = 34 score = 172.705\n",
      "Moving to better neighbor\n",
      "Iteration 12: score=172.705, nGerms=34\n",
      "Found better neighbor: nGerms = 33 score = 172.639\n",
      "Found better neighbor: nGerms = 33 score = 171.13\n",
      "Found better neighbor: nGerms = 33 score = 170.107\n",
      "Found better neighbor: nGerms = 33 score = 170.107\n",
      "Found better neighbor: nGerms = 33 score = 169.708\n",
      "Found better neighbor: nGerms = 33 score = 169.042\n",
      "Found better neighbor: nGerms = 33 score = 168.996\n",
      "Found better neighbor: nGerms = 33 score = 168.934\n",
      "Moving to better neighbor\n",
      "Iteration 13: score=168.934, nGerms=33\n",
      "Found better neighbor: nGerms = 32 score = 167.366\n",
      "Found better neighbor: nGerms = 32 score = 167.366\n",
      "Found better neighbor: nGerms = 32 score = 166.344\n",
      "Found better neighbor: nGerms = 32 score = 166.344\n",
      "Found better neighbor: nGerms = 32 score = 165.276\n",
      "Found better neighbor: nGerms = 32 score = 165.237\n",
      "Moving to better neighbor\n",
      "Iteration 14: score=165.237, nGerms=32\n",
      "Found better neighbor: nGerms = 31 score = 163.686\n",
      "Found better neighbor: nGerms = 31 score = 162.662\n",
      "Found better neighbor: nGerms = 31 score = 162.662\n",
      "Found better neighbor: nGerms = 31 score = 161.595\n",
      "Moving to better neighbor\n",
      "Iteration 15: score=161.595, nGerms=31\n",
      "Found better neighbor: nGerms = 30 score = 160.065\n",
      "Found better neighbor: nGerms = 30 score = 159.135\n",
      "Found better neighbor: nGerms = 30 score = 158.3\n",
      "Moving to better neighbor\n",
      "Iteration 16: score=158.3, nGerms=30\n",
      "Found better neighbor: nGerms = 29 score = 156.778\n",
      "Found better neighbor: nGerms = 29 score = 156.778\n",
      "Found better neighbor: nGerms = 29 score = 155.84\n",
      "Found better neighbor: nGerms = 29 score = 155.84\n",
      "Found better neighbor: nGerms = 29 score = 155.076\n",
      "Moving to better neighbor\n",
      "Iteration 17: score=155.076, nGerms=29\n",
      "Found better neighbor: nGerms = 28 score = 153.558\n",
      "Found better neighbor: nGerms = 28 score = 152.616\n",
      "Found better neighbor: nGerms = 28 score = 152.616\n",
      "Found better neighbor: nGerms = 28 score = 152.151\n",
      "Moving to better neighbor\n",
      "Iteration 18: score=152.151, nGerms=28\n",
      "Found better neighbor: nGerms = 27 score = 150.647\n",
      "Found better neighbor: nGerms = 27 score = 150.647\n",
      "Found better neighbor: nGerms = 27 score = 149.692\n",
      "Found better neighbor: nGerms = 27 score = 149.692\n",
      "Found better neighbor: nGerms = 27 score = 149.35\n",
      "Found better neighbor: nGerms = 27 score = 149.329\n",
      "Moving to better neighbor\n",
      "Iteration 19: score=149.329, nGerms=27\n",
      "Found better neighbor: nGerms = 26 score = 147.824\n",
      "Found better neighbor: nGerms = 26 score = 147.824\n",
      "Found better neighbor: nGerms = 26 score = 146.925\n",
      "Moving to better neighbor\n",
      "Iteration 20: score=146.925, nGerms=26\n",
      "Found better neighbor: nGerms = 25 score = 145.526\n",
      "Found better neighbor: nGerms = 25 score = 145.526\n",
      "Found better neighbor: nGerms = 25 score = 144.727\n",
      "Moving to better neighbor\n",
      "Iteration 21: score=144.727, nGerms=25\n",
      "Found better neighbor: nGerms = 24 score = 143.332\n",
      "Found better neighbor: nGerms = 24 score = 143.332\n",
      "Found better neighbor: nGerms = 24 score = 142.559\n",
      "Moving to better neighbor\n",
      "Iteration 22: score=142.559, nGerms=24\n",
      "Found better neighbor: nGerms = 23 score = 141.296\n",
      "Found better neighbor: nGerms = 23 score = 140.482\n",
      "Moving to better neighbor\n",
      "Iteration 23: score=140.482, nGerms=23\n",
      "Found better neighbor: nGerms = 22 score = 139.228\n",
      "Found better neighbor: nGerms = 22 score = 139.228\n",
      "Found better neighbor: nGerms = 22 score = 139.18\n",
      "Found better neighbor: nGerms = 22 score = 138.972\n",
      "Moving to better neighbor\n",
      "Iteration 24: score=138.972, nGerms=22\n",
      "Found better neighbor: nGerms = 21 score = 137.956\n",
      "Moving to better neighbor\n",
      "Iteration 25: score=137.956, nGerms=21\n",
      "Found better neighbor: nGerms = 20 score = 137.427\n",
      "Moving to better neighbor\n",
      "Iteration 26: score=137.427, nGerms=20\n",
      "Found better neighbor: nGerms = 19 score = 137.076\n",
      "Moving to better neighbor\n",
      "Iteration 27: score=137.076, nGerms=19\n",
      "No better neighbor. Relaxing score w/slack: 137.076 => 171.346\n",
      "Found better neighbor: nGerms = 18 score = 148.089\n",
      "Moving to better neighbor\n",
      "Iteration 28: score=148.089, nGerms=18\n",
      "No better neighbor. Relaxing score w/slack: 148.089 => 185.111\n",
      "Found better neighbor: nGerms = 17 score = 183.271\n",
      "Moving to better neighbor\n",
      "Iteration 29: score=183.271, nGerms=17\n",
      "No better neighbor. Relaxing score w/slack: 183.271 => 229.089\n",
      "Found better neighbor: nGerms = 16 score = 183.926\n",
      "Moving to better neighbor\n",
      "Iteration 30: score=183.926, nGerms=16\n",
      "No better neighbor. Relaxing score w/slack: 183.926 => 229.908\n",
      "Found better neighbor: nGerms = 15 score = 187.688\n",
      "Moving to better neighbor\n",
      "Iteration 31: score=187.688, nGerms=15\n",
      "No better neighbor. Relaxing score w/slack: 187.688 => 234.61\n",
      "Found better neighbor: nGerms = 14 score = 189.09\n",
      "Moving to better neighbor\n",
      "Iteration 32: score=189.09, nGerms=14\n",
      "No better neighbor. Relaxing score w/slack: 189.09 => 236.362\n",
      "Found better neighbor: nGerms = 13 score = 190.07\n",
      "Moving to better neighbor\n",
      "Iteration 33: score=190.07, nGerms=13\n",
      "No better neighbor. Relaxing score w/slack: 190.07 => 237.587\n",
      "Found better neighbor: nGerms = 12 score = 197.23\n",
      "Moving to better neighbor\n",
      "Iteration 34: score=197.23, nGerms=12\n",
      "No better neighbor. Relaxing score w/slack: 197.23 => 246.537\n",
      "Found better neighbor: nGerms = 11 score = 198.403\n",
      "Moving to better neighbor\n",
      "Iteration 35: score=198.403, nGerms=11\n",
      "No better neighbor. Relaxing score w/slack: 198.403 => 248.004\n",
      "Stationary point found!\n",
      "score =  248.004162285\n",
      "weights =  [1 1 1 0 0 0 0 0 1 1 0 1 0 0 0 0 0 0 0 0 0 0 0 1 0 1 0 0 1 1 0 0 0 0 0 1 0\n",
      " 0 0 0 0 0 0 0 0 0]\n",
      "L1(weights) =  11\n",
      "\n",
      "Germ selection completed in 6.34168791771 seconds.\n",
      "germList2 is AC.\n"
     ]
    }
   ],
   "source": [
    "#Can we reduce this set in size and make some of the germs shorter by:\n",
    "#1.  Adding extra random germs of varying lengths\n",
    "#2.  Turning up the gatePenalty parameter\n",
    "#3.  Relaxing slackFrac to 0.25?\n",
    "\n",
    "testGermList1 = germList1 +\\\n",
    "                            pygsti.construction.list_random_gatestrings_onelen(std.gates,2,10,0)+\\\n",
    "                            pygsti.construction.list_random_gatestrings_onelen(std.gates,3,10,0)+\\\n",
    "                            pygsti.construction.list_random_gatestrings_onelen(std.gates,4,10,1)+\\\n",
    "                            pygsti.construction.list_random_gatestrings_onelen(std.gates,5,10,2)\n",
    "\n",
    "testGermList1 = pygsti.listtools.remove_duplicates(testGermList1)\n",
    "\n",
    "start = time.time()\n",
    "germList2 = pygsti.algorithms.germselection.optimize_integer_germs_slack(std.gs_target,testGermList1,numCopies=5,\n",
    "                                                                         initialWeights=None,slackFrac=0.25,\n",
    "                                                                         gatePenalty = 1e0,\n",
    "                                                                         forceSingletons=True,\n",
    "                                                                         maxIter=300,\n",
    "                                                                         verbosity=2)\n",
    "end = time.time()\n",
    "print\n",
    "print \"Germ selection completed in\", end-start, \"seconds.\"\n",
    "print \"germList2 is\", \"not \"*(1-pygsti.algorithms.germselection.test_germ_list_infl(gs_real,germList1))+\"AC.\""
   ]
  },
  {
   "cell_type": "code",
   "execution_count": 9,
   "metadata": {
    "collapsed": false
   },
   "outputs": [
    {
     "name": "stdout",
     "output_type": "stream",
     "text": [
      "Gi\n",
      "Gx\n",
      "Gy\n",
      "GiGyGyGxGxGy\n",
      "GiGyGyGyGxGx\n",
      "GxGxGyGyGxGy\n",
      "GiGiGy\n",
      "GyGxGy\n",
      "GxGyGiGi\n",
      "GiGiGiGx\n",
      "GiGyGiGx\n"
     ]
    }
   ],
   "source": [
    "for germ in germList2:\n",
    "    print germ"
   ]
  },
  {
   "cell_type": "code",
   "execution_count": 10,
   "metadata": {
    "collapsed": false
   },
   "outputs": [
    {
     "name": "stdout",
     "output_type": "stream",
     "text": [
      "Germ set fails on 0 gate sets out of 100.\n"
     ]
    }
   ],
   "source": [
    "#Success!  Let's see if this germ set is AC for a bunch of random gate sets:\n",
    "\n",
    "num_fails = 0\n",
    "for i in xrange(100):\n",
    "    if not pygsti.alg.germselection.test_germ_list_infl(std.gs_target.randomize_with_unitary(0.01,i),germList2):\n",
    "        num_fails += 1\n",
    "print 'Germ set fails on', num_fails, 'gate sets out of 100.'"
   ]
  },
  {
   "cell_type": "code",
   "execution_count": 6,
   "metadata": {
    "collapsed": true
   },
   "outputs": [],
   "source": [
    "#Success!  We've selected a single-qubit germ set that has only 11 germs and is robust against noise.\n",
    "#Further testing is possible by simulating GST data on a unitarily noisy gate set using these germs, and\n",
    "#examinining whether or not 1/L scaling is achieved.\n",
    "\n",
    "#Also, you can write your newfound germs to file:  \n",
    "#pygsti.io.write_gatestring_list(\"mygerms.lst\",germList2,\"List of germs from tutorial\")"
   ]
  }
 ],
 "metadata": {
  "kernelspec": {
   "display_name": "Python 3",
   "language": "python",
   "name": "python3"
  },
  "language_info": {
   "codemirror_mode": {
    "name": "ipython",
    "version": 3
   },
   "file_extension": ".py",
   "mimetype": "text/x-python",
   "name": "python",
   "nbconvert_exporter": "python",
   "pygments_lexer": "ipython2",
   "version": "2.7.9"
  }
 },
 "nbformat": 4,
 "nbformat_minor": 0
}
