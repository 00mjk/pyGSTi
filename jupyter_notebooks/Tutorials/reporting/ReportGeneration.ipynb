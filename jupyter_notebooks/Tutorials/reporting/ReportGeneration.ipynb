{
 "cells": [
  {
   "cell_type": "markdown",
   "metadata": {},
   "source": [
    "# Report Generation Tutorial\n",
    "\n",
    "PyGSTi is able to construct polished report documents, which provide high-level summaries as well as detailed analyses of results (Gate Set Tomography (GST) and model-testing results in particular).  Reports are intended to be quick and easy way of analyzing `Model`-type estimates, and pyGSTi's report generation functions are specifically designed to interact with the `ModelEstimateResults` object (producted by several high-level algorithm functions - see, for example, the [GST overview tutorial](../algorithms/GST-Overview.ipynb) and [GST functions tutorial](../algorithms/GST-Drivers.ipynb).).  The report generation functions in pyGSTi takes one or more results (often `ModelEstimateResults`-type) objects as input and produces an HTML file as output.  The HTML format allows the reports to include **interactive plots** and **switches** (see the [workspace switchboard tutorial](advanced/WorkspaceSwitchboards.ipynb), making it easy to compare different types of analysis or data sets.  \n",
    "\n",
    "PyGSTi's reports are stand-alone HTML documents which cannot run Python.  Thus, all the results displayed in a report must be pre-computed (in Python).  If you find yourself wanting to fiddle with things and feel that these reports are too static, please consider using a `Workspace` object (see the [Workspace tutorial](Workspace.ipynb)) within a Jupyter notebook, where you can intermix report tables/plots and Python.  Internally, functions like `construct_standard_report` (see below) are simple factories for `Report` objects, which are in turn little more than a wrapper around a `Workspace` object and a set of instructions for how to generate reports of different output formats.\n",
    "\n",
    "\n",
    "### Get some `ModelEstimateResults`\n",
    "We start by performing GST using `run_long_sequence_gst`, as usual, to create a `ModelEstimateResults` object (we could also have just loaded one from file).  See the [GST functions tutorial](../algorithms/GST-Driverfunctions.ipynb) for more details."
   ]
  },
  {
   "cell_type": "code",
   "execution_count": 1,
   "metadata": {},
   "outputs": [
    {
     "name": "stdout",
     "output_type": "stream",
     "text": [
      "Loading from cache file: ../tutorial_files/Example_Dataset.txt.cache\n",
      "--- Circuit Creation ---\n",
      "   616 circuits created\n",
      "   Dataset has 1120 entries: 616 utilized, 0 requested circuits were missing\n",
      "--- LGST ---\n",
      "  Singular values of I_tilde (truncating to first 4 of 6) = \n",
      "  4.2448383395140565\n",
      "  1.1797098845149432\n",
      "  0.9634439008898883\n",
      "  0.9362764670582103\n",
      "  0.043526347617574755\n",
      "  0.016484656607311327\n",
      "  \n",
      "  Singular values of target I_tilde (truncating to first 4 of 6) = \n",
      "  4.242640687119283\n",
      "  1.4142135623730956\n",
      "  1.414213562373095\n",
      "  1.4142135623730938\n",
      "  6.033024285550424e-16\n",
      "  1.158109689322031e-16\n",
      "  \n"
     ]
    },
    {
     "name": "stderr",
     "output_type": "stream",
     "text": [
      "/Users/sserita/Documents/repos/pyGSTi/pygsti/objects/evaltree.py:192: UserWarning: Created an evaluation tree that is inefficient: tree-size > 3 * #circuits !\n",
      "This is likely due to the fact that the circuits being simulated do not have a\n",
      "periodic structure. Consider using a different forward simulator (e.g. MapForwardSimulator).\n",
      "  _warnings.warn((\"Created an evaluation tree that is inefficient: tree-size > %d * #circuits !\\n\"\n"
     ]
    },
    {
     "name": "stdout",
     "output_type": "stream",
     "text": [
      "--- Iterative GST: Iter 1 of 5  92 circuits ---: \n",
      "  --- chi2 GST ---\n",
      "    --- Outer Iter 0: norm_f = 78.9405, mu=1, |x|=2.97086, |J|=1399.82\n",
      "    --- Outer Iter 1: norm_f = 54.0573, mu=218.635, |x|=2.97863, |J|=4004\n",
      "    --- Outer Iter 2: norm_f = 51.8745, mu=72.8784, |x|=2.98084, |J|=4003.02\n",
      "    --- Outer Iter 3: norm_f = 51.8719, mu=24.2928, |x|=2.98111, |J|=4003.04\n",
      "    Least squares message = Both actual and predicted relative reductions in the sum of squares are at most 1e-06\n",
      "  Sum of Chi^2 = 51.8719 (92 data params - 31 model params = expected mean of 61; p-value = 0.791166)\n",
      "  Completed in 0.1s\n",
      "  Iteration 1 took 0.1s\n",
      "  \n",
      "--- Iterative GST: Iter 2 of 5  168 circuits ---: \n",
      "  --- chi2 GST ---\n",
      "    --- Outer Iter 0: norm_f = 157.079, mu=1, |x|=2.98112, |J|=4118.85\n",
      "    --- Outer Iter 1: norm_f = 127.64, mu=1805.26, |x|=2.97344, |J|=4115.26\n",
      "    --- Outer Iter 2: norm_f = 123.007, mu=601.752, |x|=2.9702, |J|=4114.74\n",
      "    --- Outer Iter 3: norm_f = 122.594, mu=200.584, |x|=2.96944, |J|=4114.66\n",
      "    --- Outer Iter 4: norm_f = 122.583, mu=66.8613, |x|=2.9694, |J|=4114.65\n",
      "    Least squares message = Both actual and predicted relative reductions in the sum of squares are at most 1e-06\n",
      "  Sum of Chi^2 = 122.583 (168 data params - 31 model params = expected mean of 137; p-value = 0.805892)\n",
      "  Completed in 0.1s\n",
      "  Iteration 2 took 0.2s\n",
      "  \n",
      "--- Iterative GST: Iter 3 of 5  285 circuits ---: \n",
      "  --- chi2 GST ---\n",
      "    --- Outer Iter 0: norm_f = 271.406, mu=1, |x|=2.9694, |J|=4310.15\n",
      "    --- Outer Iter 1: norm_f = 226.962, mu=1889.51, |x|=2.96631, |J|=4313.38\n",
      "    --- Outer Iter 2: norm_f = 226.01, mu=629.835, |x|=2.96593, |J|=4313.16\n",
      "    --- Outer Iter 3: norm_f = 226.001, mu=209.945, |x|=2.96595, |J|=4313.15\n",
      "    Least squares message = Both actual and predicted relative reductions in the sum of squares are at most 1e-06\n",
      "  Sum of Chi^2 = 226.001 (285 data params - 31 model params = expected mean of 254; p-value = 0.896387)\n",
      "  Completed in 0.2s\n",
      "  Iteration 3 took 0.3s\n",
      "  \n",
      "--- Iterative GST: Iter 4 of 5  448 circuits ---: \n",
      "  --- chi2 GST ---\n",
      "    --- Outer Iter 0: norm_f = 440.307, mu=1, |x|=2.96595, |J|=4652.44\n",
      "    --- Outer Iter 1: norm_f = 414.453, mu=2003.81, |x|=2.96508, |J|=4647.78\n",
      "    --- Outer Iter 2: norm_f = 414.127, mu=667.938, |x|=2.96511, |J|=4647.89\n",
      "    --- Outer Iter 3: norm_f = 414.124, mu=222.646, |x|=2.96511, |J|=4647.9\n",
      "    Least squares message = Both actual and predicted relative reductions in the sum of squares are at most 1e-06\n",
      "  Sum of Chi^2 = 414.124 (448 data params - 31 model params = expected mean of 417; p-value = 0.530579)\n",
      "  Completed in 0.3s\n",
      "  Iteration 4 took 0.4s\n",
      "  \n",
      "--- Iterative GST: Iter 5 of 5  616 circuits ---: \n",
      "  --- chi2 GST ---\n",
      "    --- Outer Iter 0: norm_f = 585.586, mu=1, |x|=2.96511, |J|=5096.79\n",
      "    --- Outer Iter 1: norm_f = 568.787, mu=2115.74, |x|=2.96463, |J|=5095.76\n",
      "    --- Outer Iter 2: norm_f = 568.717, mu=705.248, |x|=2.96472, |J|=5096.35\n",
      "    Least squares message = Both actual and predicted relative reductions in the sum of squares are at most 1e-06\n",
      "  Sum of Chi^2 = 568.717 (616 data params - 31 model params = expected mean of 585; p-value = 0.677595)\n",
      "  Completed in 0.3s\n",
      "  Iteration 5 took 0.5s\n",
      "  \n",
      "  Last iteration:\n",
      "  --- dlogl GST ---\n",
      "    --- Outer Iter 0: norm_f = 284.683, mu=1, |x|=2.96473, |J|=2390.34\n",
      "    --- Outer Iter 1: norm_f = 284.682, mu=7.40595e+06, |x|=2.96474, |J|=2353.23\n",
      "    --- Outer Iter 2: norm_f = 284.681, mu=2.22178e+06, |x|=2.96475, |J|=2341.74\n",
      "    --- Outer Iter 3: norm_f = 284.68, mu=666535, |x|=2.96476, |J|=2488.37\n",
      "    --- Outer Iter 4: norm_f = 284.679, mu=1.27975e+07, |x|=2.96476, |J|=2419.02\n",
      "    --- Outer Iter 5: norm_f = 284.678, mu=3.83924e+06, |x|=2.96477, |J|=2339.88\n",
      "    --- Outer Iter 6: norm_f = 284.677, mu=1.15177e+06, |x|=2.96477, |J|=2347.14\n",
      "    --- Outer Iter 7: norm_f = 284.676, mu=691064, |x|=2.96479, |J|=2393.41\n",
      "    --- Outer Iter 8: norm_f = 284.676, mu=1.32684e+07, |x|=2.96479, |J|=2358.78\n",
      "    --- Outer Iter 9: norm_f = 284.675, mu=3.98053e+06, |x|=2.96479, |J|=2342.95\n",
      "    --- Outer Iter 10: norm_f = 284.675, mu=1.19416e+06, |x|=2.9648, |J|=2340.57\n",
      "    --- Outer Iter 11: norm_f = 284.675, mu=716495, |x|=2.96481, |J|=2425.44\n",
      "    --- Outer Iter 12: norm_f = 284.674, mu=1.37567e+07, |x|=2.96481, |J|=2387.13\n",
      "    --- Outer Iter 13: norm_f = 284.674, mu=4.12701e+06, |x|=2.96481, |J|=2340.92\n",
      "    --- Outer Iter 14: norm_f = 284.673, mu=1.2381e+06, |x|=2.96482, |J|=2342.75\n",
      "    --- Outer Iter 15: norm_f = 284.672, mu=371431, |x|=2.96483, |J|=2344.48\n",
      "    Least squares message = Both actual and predicted relative reductions in the sum of squares are at most 1e-06\n",
      "  2*Delta(log(L)) = 569.344 (616 data params - 31 model params = expected mean of 585; p-value = 0.670872)\n",
      "  Completed in 1.4s\n",
      "  Final optimization took 1.4s\n",
      "  \n",
      "Iterative GST Total Time: 2.9s\n",
      "    -- Performing 'go0' gauge optimization on GateSetTomography estimate --\n"
     ]
    }
   ],
   "source": [
    "import pygsti\n",
    "from pygsti.modelpacks import smq1Q_XYI\n",
    "\n",
    "target_model = smq1Q_XYI.target_model()\n",
    "prep_fiducials = smq1Q_XYI.prep_fiducials()\n",
    "meas_fiducials = smq1Q_XYI.meas_fiducials()\n",
    "germs = smq1Q_XYI.germs()\n",
    "maxLengths = [1,2,4,8,16]\n",
    "ds = pygsti.io.load_dataset(\"../tutorial_files/Example_Dataset.txt\", cache=True)\n",
    "\n",
    "#Run GST\n",
    "target_model.set_all_parameterizations(\"TP\") #TP-constrained\n",
    "results = pygsti.run_long_sequence_gst(ds, target_model, prep_fiducials, meas_fiducials, germs,\n",
    "                                      maxLengths, verbosity=3)"
   ]
  },
  {
   "cell_type": "markdown",
   "metadata": {},
   "source": [
    "### Make a report\n",
    "Now that we have `results`, we use the `construct_standard_report` method within `pygsti.report` to generate a `Report`.  \n",
    "`pygsti.report.construct_standard_report` is the most commonly used report factory function in pyGSTi, as it is appropriate for smaller models (1- and 2-qubit) which have *operations that are or can be represeted as dense matrices and/or vectors*.  \n",
    "\n",
    "Once constructed, a `Report` object can be used to write a report as an HTML document, PDF, or notebook.  To open a HTML-format report, you open the `main.html` file directly inside the report's folder.  Setting `auto_open=True` makes the finished report open in your web browser automatically.  "
   ]
  },
  {
   "cell_type": "code",
   "execution_count": 2,
   "metadata": {},
   "outputs": [
    {
     "name": "stdout",
     "output_type": "stream",
     "text": [
      "Running idle tomography\n",
      "Computing switchable properties\n",
      "Found standard clifford compilation from smq1Q_XYI\n"
     ]
    },
    {
     "name": "stderr",
     "output_type": "stream",
     "text": [
      "/Users/sserita/Documents/repos/pyGSTi/pygsti/objects/evaltree.py:192: UserWarning:\n",
      "\n",
      "Created an evaluation tree that is inefficient: tree-size > 3 * #circuits !\n",
      "This is likely due to the fact that the circuits being simulated do not have a\n",
      "periodic structure. Consider using a different forward simulator (e.g. MapForwardSimulator).\n",
      "\n",
      "/Users/sserita/Documents/repos/pyGSTi/pygsti/objects/evaltree.py:192: UserWarning:\n",
      "\n",
      "Created an evaluation tree that is inefficient: tree-size > 10 * #circuits !\n",
      "This is likely due to the fact that the circuits being simulated do not have a\n",
      "periodic structure. Consider using a different forward simulator (e.g. MapForwardSimulator).\n",
      "\n"
     ]
    },
    {
     "name": "stdout",
     "output_type": "stream",
     "text": [
      "\n",
      "\n",
      "Generating LaTeX source...\n"
     ]
    },
    {
     "name": "stderr",
     "output_type": "stream",
     "text": [
      "/Users/sserita/Documents/repos/pyGSTi/pygsti/report/mpl_colormaps.py:656: UserWarning:\n",
      "\n",
      "FixedFormatter should only be used together with FixedLocator\n",
      "\n",
      "/Users/sserita/Documents/repos/pyGSTi/pygsti/report/mpl_colormaps.py:657: UserWarning:\n",
      "\n",
      "FixedFormatter should only be used together with FixedLocator\n",
      "\n"
     ]
    },
    {
     "ename": "AttributeError",
     "evalue": "'tuple' object has no attribute 'strip'",
     "output_type": "error",
     "traceback": [
      "\u001b[0;31m---------------------------------------------------------------------------\u001b[0m",
      "\u001b[0;31mAttributeError\u001b[0m                            Traceback (most recent call last)",
      "\u001b[0;32m<ipython-input-2-671e6de2dcb6>\u001b[0m in \u001b[0;36m<module>\u001b[0;34m\u001b[0m\n\u001b[1;32m      6\u001b[0m \u001b[0;34m\u001b[0m\u001b[0m\n\u001b[1;32m      7\u001b[0m \u001b[0;31m#PDF\u001b[0m\u001b[0;34m\u001b[0m\u001b[0;34m\u001b[0m\u001b[0;34m\u001b[0m\u001b[0m\n\u001b[0;32m----> 8\u001b[0;31m \u001b[0mreport\u001b[0m\u001b[0;34m.\u001b[0m\u001b[0mwrite_pdf\u001b[0m\u001b[0;34m(\u001b[0m\u001b[0;34m\"../tutorial_files/exampleReport.pdf\"\u001b[0m\u001b[0;34m,\u001b[0m \u001b[0mauto_open\u001b[0m\u001b[0;34m=\u001b[0m\u001b[0;32mTrue\u001b[0m\u001b[0;34m,\u001b[0m \u001b[0mverbosity\u001b[0m\u001b[0;34m=\u001b[0m\u001b[0;36m1\u001b[0m\u001b[0;34m)\u001b[0m\u001b[0;34m\u001b[0m\u001b[0;34m\u001b[0m\u001b[0m\n\u001b[0m",
      "\u001b[0;32m~/Documents/repos/pyGSTi/pygsti/report/report.py\u001b[0m in \u001b[0;36mwrite_pdf\u001b[0;34m(self, path, latex_cmd, latex_flags, build_options, brevity, precision, auto_open, comm, verbosity)\u001b[0m\n\u001b[1;32m    439\u001b[0m \u001b[0;34m\u001b[0m\u001b[0m\n\u001b[1;32m    440\u001b[0m         \u001b[0mprinter\u001b[0m\u001b[0;34m.\u001b[0m\u001b[0mlog\u001b[0m\u001b[0;34m(\u001b[0m\u001b[0;34m\"Generating LaTeX source...\"\u001b[0m\u001b[0;34m)\u001b[0m\u001b[0;34m\u001b[0m\u001b[0;34m\u001b[0m\u001b[0m\n\u001b[0;32m--> 441\u001b[0;31m         _merge.merge_latex_template(\n\u001b[0m\u001b[1;32m    442\u001b[0m             \u001b[0mqtys\u001b[0m\u001b[0;34m,\u001b[0m \u001b[0mself\u001b[0m\u001b[0;34m.\u001b[0m\u001b[0m_templates\u001b[0m\u001b[0;34m[\u001b[0m\u001b[0;34m'pdf'\u001b[0m\u001b[0;34m]\u001b[0m\u001b[0;34m,\u001b[0m \u001b[0mstr\u001b[0m\u001b[0;34m(\u001b[0m\u001b[0mpath\u001b[0m\u001b[0;34m.\u001b[0m\u001b[0mwith_suffix\u001b[0m\u001b[0;34m(\u001b[0m\u001b[0;34m'.tex'\u001b[0m\u001b[0;34m)\u001b[0m\u001b[0;34m)\u001b[0m\u001b[0;34m,\u001b[0m\u001b[0;34m\u001b[0m\u001b[0;34m\u001b[0m\u001b[0m\n\u001b[1;32m    443\u001b[0m             \u001b[0mtoggles\u001b[0m\u001b[0;34m,\u001b[0m \u001b[0mprecision\u001b[0m\u001b[0;34m,\u001b[0m \u001b[0mprinter\u001b[0m\u001b[0;34m\u001b[0m\u001b[0;34m\u001b[0m\u001b[0m\n",
      "\u001b[0;32m~/Documents/repos/pyGSTi/pygsti/report/merge_helpers.py\u001b[0m in \u001b[0;36mmerge_latex_template\u001b[0;34m(qtys, template_filename, output_filename, toggles, precision, verbosity)\u001b[0m\n\u001b[1;32m    824\u001b[0m             \u001b[0m_os\u001b[0m\u001b[0;34m.\u001b[0m\u001b[0mmkdir\u001b[0m\u001b[0;34m(\u001b[0m\u001b[0mfig_dir\u001b[0m\u001b[0;34m)\u001b[0m\u001b[0;34m\u001b[0m\u001b[0;34m\u001b[0m\u001b[0m\n\u001b[1;32m    825\u001b[0m \u001b[0;34m\u001b[0m\u001b[0m\n\u001b[0;32m--> 826\u001b[0;31m         qtys_latex = render_as_latex(qtys, dict(switched_item_mode=\"inline\",\n\u001b[0m\u001b[1;32m    827\u001b[0m                                                 \u001b[0moutput_dir\u001b[0m\u001b[0;34m=\u001b[0m\u001b[0mfig_dir\u001b[0m\u001b[0;34m,\u001b[0m\u001b[0;34m\u001b[0m\u001b[0;34m\u001b[0m\u001b[0m\n\u001b[1;32m    828\u001b[0m                                                 precision=precision), printer)\n",
      "\u001b[0;32m~/Documents/repos/pyGSTi/pygsti/report/merge_helpers.py\u001b[0m in \u001b[0;36mrender_as_latex\u001b[0;34m(qtys, render_options, verbosity)\u001b[0m\n\u001b[1;32m    408\u001b[0m             \u001b[0;32mif\u001b[0m \u001b[0mhasattr\u001b[0m\u001b[0;34m(\u001b[0m\u001b[0mval\u001b[0m\u001b[0;34m,\u001b[0m \u001b[0;34m'set_render_options'\u001b[0m\u001b[0;34m)\u001b[0m\u001b[0;34m:\u001b[0m\u001b[0;34m\u001b[0m\u001b[0;34m\u001b[0m\u001b[0m\n\u001b[1;32m    409\u001b[0m                 \u001b[0mval\u001b[0m\u001b[0;34m.\u001b[0m\u001b[0mset_render_options\u001b[0m\u001b[0;34m(\u001b[0m\u001b[0;34m**\u001b[0m\u001b[0mrender_options\u001b[0m\u001b[0;34m)\u001b[0m\u001b[0;34m\u001b[0m\u001b[0;34m\u001b[0m\u001b[0m\n\u001b[0;32m--> 410\u001b[0;31m             \u001b[0mrender_out\u001b[0m \u001b[0;34m=\u001b[0m \u001b[0mval\u001b[0m\u001b[0;34m.\u001b[0m\u001b[0mrender\u001b[0m\u001b[0;34m(\u001b[0m\u001b[0;34m\"latex\"\u001b[0m\u001b[0;34m)\u001b[0m\u001b[0;34m\u001b[0m\u001b[0;34m\u001b[0m\u001b[0m\n\u001b[0m\u001b[1;32m    411\u001b[0m \u001b[0;34m\u001b[0m\u001b[0m\n\u001b[1;32m    412\u001b[0m             \u001b[0;31m# Note: render_out is a dictionary of rendered portions\u001b[0m\u001b[0;34m\u001b[0m\u001b[0;34m\u001b[0m\u001b[0;34m\u001b[0m\u001b[0m\n",
      "\u001b[0;32m~/Documents/repos/pyGSTi/pygsti/report/workspace.py\u001b[0m in \u001b[0;36mrender\u001b[0;34m(self, typ, id)\u001b[0m\n\u001b[1;32m   2611\u001b[0m                 \u001b[0;32mif\u001b[0m \u001b[0mself\u001b[0m\u001b[0;34m.\u001b[0m\u001b[0moptions\u001b[0m\u001b[0;34m.\u001b[0m\u001b[0mget\u001b[0m\u001b[0;34m(\u001b[0m\u001b[0;34m'render_includes'\u001b[0m\u001b[0;34m,\u001b[0m \u001b[0;32mTrue\u001b[0m\u001b[0;34m)\u001b[0m\u001b[0;34m:\u001b[0m\u001b[0;34m\u001b[0m\u001b[0;34m\u001b[0m\u001b[0m\n\u001b[1;32m   2612\u001b[0m                     \u001b[0mfilename\u001b[0m \u001b[0;34m=\u001b[0m \u001b[0m_os\u001b[0m\u001b[0;34m.\u001b[0m\u001b[0mpath\u001b[0m\u001b[0;34m.\u001b[0m\u001b[0mjoin\u001b[0m\u001b[0;34m(\u001b[0m\u001b[0mstr\u001b[0m\u001b[0;34m(\u001b[0m\u001b[0moutput_dir\u001b[0m\u001b[0;34m)\u001b[0m\u001b[0;34m,\u001b[0m \u001b[0mplotDivID\u001b[0m \u001b[0;34m+\u001b[0m \u001b[0;34m\".pdf\"\u001b[0m\u001b[0;34m)\u001b[0m\u001b[0;34m\u001b[0m\u001b[0;34m\u001b[0m\u001b[0m\n\u001b[0;32m-> 2613\u001b[0;31m                     \u001b[0m_plotly_to_matplotlib\u001b[0m\u001b[0;34m(\u001b[0m\u001b[0mfig\u001b[0m\u001b[0;34m,\u001b[0m \u001b[0mfilename\u001b[0m\u001b[0;34m)\u001b[0m\u001b[0;34m\u001b[0m\u001b[0;34m\u001b[0m\u001b[0m\n\u001b[0m\u001b[1;32m   2614\u001b[0m \u001b[0;34m\u001b[0m\u001b[0m\n\u001b[1;32m   2615\u001b[0m                     \u001b[0mW\u001b[0m\u001b[0;34m,\u001b[0m \u001b[0mH\u001b[0m \u001b[0;34m=\u001b[0m \u001b[0mmaxW\u001b[0m\u001b[0;34m,\u001b[0m \u001b[0mmaxH\u001b[0m\u001b[0;34m\u001b[0m\u001b[0;34m\u001b[0m\u001b[0m\n",
      "\u001b[0;32m~/Documents/repos/pyGSTi/pygsti/report/mpl_colormaps.py\u001b[0m in \u001b[0;36mplotly_to_matplotlib\u001b[0;34m(pygsti_fig, save_to, fontsize, prec, box_labels_font_size)\u001b[0m\n\u001b[1;32m    458\u001b[0m             \u001b[0;32mif\u001b[0m \u001b[0mcolor\u001b[0m \u001b[0;32mis\u001b[0m \u001b[0;32mNone\u001b[0m\u001b[0;34m:\u001b[0m\u001b[0;34m\u001b[0m\u001b[0;34m\u001b[0m\u001b[0m\n\u001b[1;32m    459\u001b[0m                 \u001b[0mcolor\u001b[0m \u001b[0;34m=\u001b[0m \u001b[0;34m'rgb(0,0,0)'\u001b[0m\u001b[0;34m\u001b[0m\u001b[0;34m\u001b[0m\u001b[0m\n\u001b[0;32m--> 460\u001b[0;31m             \u001b[0mcolor\u001b[0m \u001b[0;34m=\u001b[0m \u001b[0mmpl_color\u001b[0m\u001b[0;34m(\u001b[0m\u001b[0mcolor\u001b[0m\u001b[0;34m)\u001b[0m\u001b[0;34m\u001b[0m\u001b[0;34m\u001b[0m\u001b[0m\n\u001b[0m\u001b[1;32m    461\u001b[0m \u001b[0;34m\u001b[0m\u001b[0m\n\u001b[1;32m    462\u001b[0m             \u001b[0mlinewidth\u001b[0m \u001b[0;34m=\u001b[0m \u001b[0mfloat\u001b[0m\u001b[0;34m(\u001b[0m\u001b[0mline\u001b[0m\u001b[0;34m[\u001b[0m\u001b[0;34m'width'\u001b[0m\u001b[0;34m]\u001b[0m\u001b[0;34m)\u001b[0m \u001b[0;32mif\u001b[0m \u001b[0;34m(\u001b[0m\u001b[0mline\u001b[0m \u001b[0;32mand\u001b[0m \u001b[0mget\u001b[0m\u001b[0;34m(\u001b[0m\u001b[0mline\u001b[0m\u001b[0;34m,\u001b[0m \u001b[0;34m'width'\u001b[0m\u001b[0;34m,\u001b[0m \u001b[0;32mNone\u001b[0m\u001b[0;34m)\u001b[0m \u001b[0;32mis\u001b[0m \u001b[0;32mnot\u001b[0m \u001b[0;32mNone\u001b[0m\u001b[0;34m)\u001b[0m \u001b[0;32melse\u001b[0m \u001b[0;36m1.0\u001b[0m\u001b[0;34m\u001b[0m\u001b[0;34m\u001b[0m\u001b[0m\n",
      "\u001b[0;32m~/Documents/repos/pyGSTi/pygsti/report/mpl_colormaps.py\u001b[0m in \u001b[0;36mmpl_color\u001b[0;34m(plotly_color)\u001b[0m\n\u001b[1;32m    223\u001b[0m     \u001b[0mstr\u001b[0m\u001b[0;34m\u001b[0m\u001b[0;34m\u001b[0m\u001b[0m\n\u001b[1;32m    224\u001b[0m     \"\"\"\n\u001b[0;32m--> 225\u001b[0;31m     \u001b[0mplotly_color\u001b[0m \u001b[0;34m=\u001b[0m \u001b[0mplotly_color\u001b[0m\u001b[0;34m.\u001b[0m\u001b[0mstrip\u001b[0m\u001b[0;34m(\u001b[0m\u001b[0;34m)\u001b[0m  \u001b[0;31m# remove any whitespace\u001b[0m\u001b[0;34m\u001b[0m\u001b[0;34m\u001b[0m\u001b[0m\n\u001b[0m\u001b[1;32m    226\u001b[0m     \u001b[0;32mif\u001b[0m \u001b[0mplotly_color\u001b[0m\u001b[0;34m.\u001b[0m\u001b[0mstartswith\u001b[0m\u001b[0;34m(\u001b[0m\u001b[0;34m'#'\u001b[0m\u001b[0;34m)\u001b[0m\u001b[0;34m:\u001b[0m\u001b[0;34m\u001b[0m\u001b[0;34m\u001b[0m\u001b[0m\n\u001b[1;32m    227\u001b[0m         \u001b[0;32mreturn\u001b[0m \u001b[0mplotly_color\u001b[0m  \u001b[0;31m# matplotlib understands \"#FF0013\"\u001b[0m\u001b[0;34m\u001b[0m\u001b[0;34m\u001b[0m\u001b[0m\n",
      "\u001b[0;31mAttributeError\u001b[0m: 'tuple' object has no attribute 'strip'"
     ]
    },
    {
     "data": {
      "image/png": "[encoded data removed]",
      "text/plain": [
       "<Figure size 288x288 with 1 Axes>"
      ]
     },
     "metadata": {
      "needs_background": "light"
     },
     "output_type": "display_data"
    }
   ],
   "source": [
    "report = pygsti.report.construct_standard_report(results, title=\"GST Example Report\", verbosity=1)\n",
    "#HTML\n",
    "report.write_html(\"../tutorial_files/exampleReport\", auto_open=True, verbosity=1)\n",
    "\n",
    "print(\"\\n\")\n",
    "\n",
    "#PDF\n",
    "report.write_pdf(\"../tutorial_files/exampleReport.pdf\", auto_open=True, verbosity=1)"
   ]
  },
  {
   "cell_type": "markdown",
   "metadata": {},
   "source": [
    "There are several remarks about these reports worth noting:\n",
    "1. The **HTML reports are the primary report type in pyGSTi**, and are much more flexible.  The PDF reports are more limited (they can only display a *single* estimate and gauge optimization), and essentially contain a subset of the information and descriptive text of a HTML report.  So, if you can, use the HTML reports.  The PDF report's strength is its portability: PDFs are easily displayed by many devices, and they embed all that they need neatly into a single file.  **If you need to generate a PDF report** from `Results` objects that have multiple estimates and/or gauge optimizations, consider using the `Results` object's `view` method to single out the estimate and gauge optimization you're after.\n",
    "2. It's best to use **Firefox** when opening the HTML reports. (If there's a problem with your brower's capabilities it will be shown on the screen when you try to load the report.)\n",
    "3. You'll need **`pdflatex`** on your system to compile PDF reports.\n",
    "4. To familiarize yourself with the layout of an HTML report, click on the gray **\"Help\" link** on the black sidebar."
   ]
  },
  {
   "cell_type": "markdown",
   "metadata": {},
   "source": [
    "### Multiple estimates in a single report\n",
    "Next, let's analyze the same data two different ways: with and without the TP-constraint (i.e. whether the gates *must* be trace-preserving) and furthermore gauge optmimize each case using several different SPAM-weights.  In each case we'll call `run_long_sequence_gst` with `gauge_opt_params=False`, so that no gauge optimization is done, and then perform several gauge optimizations separately and add these to the `Results` object via its `add_gaugeoptimized` function."
   ]
  },
  {
   "cell_type": "code",
   "execution_count": null,
   "metadata": {},
   "outputs": [],
   "source": [
    "#Case1: TP-constrained GST\n",
    "tpTarget = target_model.copy()\n",
    "tpTarget.set_all_parameterizations(\"TP\")\n",
    "results_tp = pygsti.run_long_sequence_gst(ds, tpTarget, prep_fiducials, meas_fiducials, germs,\n",
    "                                      maxLengths, gauge_opt_params=False, verbosity=1)\n",
    "\n",
    "#Gauge optimize\n",
    "est = results_tp.estimates['GateSetTomography']\n",
    "mdlFinal = est.models['final iteration estimate']\n",
    "mdlTarget = est.models['target']\n",
    "for spamWt in [1e-4,1e-2,1.0]:\n",
    "    mdl = pygsti.gaugeopt_to_target(mdlFinal,mdlTarget,{'gates':1, 'spam':spamWt})\n",
    "    est.add_gaugeoptimized({'item_weights': {'gates':1, 'spam':spamWt}}, mdl, \"Spam %g\" % spamWt)"
   ]
  },
  {
   "cell_type": "code",
   "execution_count": null,
   "metadata": {},
   "outputs": [],
   "source": [
    "#Case2: \"Full\" GST\n",
    "fullTarget = target_model.copy()\n",
    "fullTarget.set_all_parameterizations(\"full\")\n",
    "results_full = pygsti.run_long_sequence_gst(ds, fullTarget, prep_fiducials, meas_fiducials, germs,\n",
    "                                           maxLengths, gauge_opt_params=False, verbosity=1)\n",
    "\n",
    "#Gauge optimize\n",
    "est = results_full.estimates['GateSetTomography']\n",
    "mdlFinal = est.models['final iteration estimate']\n",
    "mdlTarget = est.models['target']\n",
    "for spamWt in [1e-4,1e-2,1.0]:\n",
    "    mdl = pygsti.gaugeopt_to_target(mdlFinal,mdlTarget,{'gates':1, 'spam':spamWt})\n",
    "    est.add_gaugeoptimized({'item_weights': {'gates':1, 'spam':spamWt}}, mdl, \"Spam %g\" % spamWt)"
   ]
  },
  {
   "cell_type": "markdown",
   "metadata": {},
   "source": [
    "We'll now call the *same* `construct_standard_report` function but this time instead of passing a single `Results` object as the first argument we'll pass a *dictionary* of them.  This will result in a **HTML report that includes switches** to select which case (\"TP\" or \"Full\") as well as which gauge optimization to display output quantities for.  PDF reports cannot support this interactivity, and so **if you try to generate a PDF report you'll get an error**."
   ]
  },
  {
   "cell_type": "code",
   "execution_count": null,
   "metadata": {
    "scrolled": true
   },
   "outputs": [],
   "source": [
    "ws = pygsti.report.Workspace()\n",
    "report = pygsti.report.construct_standard_report(\n",
    "    {'TP': results_tp, \"Full\": results_full}, title=\"Example Multi-Estimate Report\", ws=ws, verbosity=2)\n",
    "report.write_html(\"../tutorial_files/exampleMultiEstimateReport\", auto_open=True, verbosity=2)"
   ]
  },
  {
   "cell_type": "markdown",
   "metadata": {
    "collapsed": true
   },
   "source": [
    "In the above call we construct `ws` - a `Workspace` object.  PyGSTi's `Workspace` objects function as both a factory for figures and tables as well as a smart cache for computed values.  A `Workspace` object can optionally be passed as an argument to `construct_standard_report`, where it is used to create all figures in the report.  As an intended side effect, each of these figures is cached, along with some of the intermediate results used to create it.  By passing a preconstructed `Workspace` object to `construct_standard_report`, we allow it to utilize previously cached quantities.\n",
    "\n",
    "**Another way**: Because both `results_tp` and `results_full` above used the same dataset and operation sequences, we could have combined them as two estimates in a single `ModelEstimateResults` object (see the previous tutorial on pyGSTi's results objects).  This can be done by renaming at least one of the `\"default\"`-named estimates in `results_tp` or `results_full` (below we rename both) and then adding the estimate within `results_full` to the estimates already contained in `results_tp`: "
   ]
  },
  {
   "cell_type": "code",
   "execution_count": null,
   "metadata": {},
   "outputs": [],
   "source": [
    "results_tp.rename_estimate('GateSetTomography','TP')\n",
    "results_full.rename_estimate('GateSetTomography','Full')\n",
    "results_both = results_tp.copy() #copy just for neatness\n",
    "results_both.add_estimates(results_full, estimatesToAdd=['Full'])"
   ]
  },
  {
   "cell_type": "markdown",
   "metadata": {},
   "source": [
    "Creating a report using `results_both` will result in the same report we just generated.  We'll demonstrate this anyway, but in addition we'll supply `construct_standard_report` with the same `Workspace` we previously used to generate a report.  This tells the constructed `Report` to use any cached values contained in a given *input* `Workspace` to expedite report generation.  Since our workspace object has the exact quantities we need cached in it, you'll notice a significant speedup.  Finally, note that even though there's just a single `Results` object, you **still can't generate a PDF report** from it because it contains multiple estimates."
   ]
  },
  {
   "cell_type": "code",
   "execution_count": null,
   "metadata": {},
   "outputs": [],
   "source": [
    "pygsti.report.construct_standard_report(\n",
    "    results_both,\n",
    "    title=\"Example Multi-Estimate Report (v2)\", \n",
    "    ws=ws, verbosity=2\n",
    ").write_html(\"../tutorial_files/exampleMultiEstimateReport2\", auto_open=True, verbosity=2)"
   ]
  },
  {
   "cell_type": "markdown",
   "metadata": {},
   "source": [
    "### Multiple estimates and `run_stdpractice_gst`\n",
    "It's no coincidence that a `Results` object containing multiple estimates using the same data is precisely what's returned from `run_stdpractice_gst` (see docstring for information on its arguments, and see the [GST functions tutorial](../algorithms/GST-Drivers.ipynb)).  This allows one to run GST multiple times, creating several different \"standard\" estimates and gauge optimizations, and plot them all in a single (HTML) report. "
   ]
  },
  {
   "cell_type": "code",
   "execution_count": null,
   "metadata": {
    "scrolled": true
   },
   "outputs": [],
   "source": [
    "results_std = pygsti.run_stdpractice_gst(ds, target_model, prep_fiducials, meas_fiducials, germs,\n",
    "                                        maxLengths, verbosity=4, modes=\"TP,CPTP,Target\",\n",
    "                                        gauge_opt_suite=('stdgaugeopt','toggleValidSpam'))\n",
    "\n",
    "# Generate a report with \"TP\", \"CPTP\", and \"Target\" estimates\n",
    "pygsti.report.construct_standard_report(\n",
    "    results_std, title=\"Post StdPractice Report\", verbosity=1\n",
    ").write_html(\"../tutorial_files/exampleStdReport\", auto_open=True, verbosity=1)"
   ]
  },
  {
   "cell_type": "markdown",
   "metadata": {},
   "source": [
    "### Reports with confidence regions\n",
    "To display confidence intervals for reported quantities, you must do two things:\n",
    "\n",
    "1. you must specify the `confidenceLevel` argument to `construct_standard_report`.\n",
    "2. the estimate(s) being reported must have a valid confidence-region-factory.\n",
    "\n",
    "Constructing a factory often means computing a Hessian, which can be time consuming, and so this is *not* done automatically.  Here we demonstrate how to construct a valid factory for the \"Spam 0.001\" gauge-optimization of the \"CPTP\" estimate by computing and then projecting the Hessian of the likelihood function. "
   ]
  },
  {
   "cell_type": "code",
   "execution_count": null,
   "metadata": {},
   "outputs": [],
   "source": [
    "#Construct and initialize a \"confidence region factory\" for the CPTP estimate\n",
    "crfact = results_std.estimates[\"CPTP\"].add_confidence_region_factory('Spam 0.001', 'final')\n",
    "crfact.compute_hessian(comm=None) #we could use more processors\n",
    "crfact.project_hessian('intrinsic error')\n",
    "\n",
    "pygsti.report.construct_standard_report(\n",
    "    results_std, title=\"Post StdPractice Report (w/CIs on CPTP)\",\n",
    "    confidenceLevel=95, verbosity=1\n",
    ").write_html(\"../tutorial_files/exampleStdReport2\", auto_open=True, verbosity=1)"
   ]
  },
  {
   "cell_type": "markdown",
   "metadata": {},
   "source": [
    "### Reports with multiple *different* data sets\n",
    "We've already seen above that `construct_standard_report` can be given a dictionary of `Results` objects instead of a single one.  This allows the creation of reports containing estimates for different `DataSet`s (each `Results` object only holds estimates for a single `DataSet`).  Furthermore, when the data sets have the same operation sequences, they will be compared within a tab of the HTML report.\n",
    "\n",
    "Below, we generate a new data set with the same sequences as the one loaded at the beginning of this tutorial, proceed to run standard-practice GST on that dataset, and create a report of the results along with those of the original dataset.  Look at the **\"Data Comparison\" tab** within the gauge-invariant error metrics category."
   ]
  },
  {
   "cell_type": "code",
   "execution_count": null,
   "metadata": {},
   "outputs": [],
   "source": [
    "#Make another dataset & estimates\n",
    "depol_gateset = target_model.depolarize(op_noise=0.1)\n",
    "datagen_gateset = depol_gateset.rotate((0.05,0,0.03))\n",
    "\n",
    "#Compute the sequences needed to perform Long Sequence GST on \n",
    "# this Model with sequences up to lenth 512\n",
    "circuit_list = pygsti.construction.create_lsgst_circuits(\n",
    "    smq1Q_XYI.target_model(), smq1Q_XYI.prep_fiducials(), smq1Q_XYI.meas_fiducials(),\n",
    "    smq1Q_XYI.germs(), [1,2,4,8,16,32,64,128,256,512])\n",
    "ds2 = pygsti.construction.simulate_data(datagen_gateset, circuit_list, n_samples=1000,\n",
    "                                             sample_error='binomial', seed=2018)\n",
    "results_std2 = pygsti.run_stdpractice_gst(ds2, target_model, prep_fiducials, meas_fiducials, germs,\n",
    "                                     maxLengths, verbosity=3, modes=\"TP,CPTP,Target\",\n",
    "                                     gauge_opt_suite=('stdgaugeopt','toggleValidSpam'))\n",
    "\n",
    "pygsti.report.construct_standard_report(\n",
    "    {'DS1': results_std, 'DS2': results_std2},\n",
    "    title=\"Example Multi-Dataset Report\", verbosity=1\n",
    ").write_html(\"../tutorial_files/exampleMultiDataSetReport\", auto_open=True, verbosity=1)"
   ]
  },
  {
   "cell_type": "markdown",
   "metadata": {},
   "source": [
    "### Other cool `Report` tricks\n",
    "Finally, let us highlight a few of the additional arguments one can supply to the respective `Report` output methods that allows further control over what gets included in the generated report.\n",
    "\n",
    "- Setting the `link_to` argument to a tuple of `'pkl'`, `'tex'`, and/or `'pdf'` will create hyperlinks within the plots or below the tables of the HTML linking to Python pickle, LaTeX source, and PDF versions of the content, respectively.  The Python pickle files for tables contain pickled pandas `DataFrame` objects, wheras those of plots contain ordinary Python dictionaries of the data that is plotted.  Applies to HTML reports only.\n",
    "\n",
    "- Setting the `brevity` argument to an integer higher than $0$ (the default) will reduce the amount of information included in the report (for details on what is included for each value, see the doc string).  Using `brevity > 0` will reduce the time required to create, and later load, the report, as well as the output file/folder size.  This applies to both HTML and PDF reports.\n",
    "\n",
    "Below, we demonstrate both of these options in very brief (`brevity=4`) report with links to pickle and PDF files.  Note that to generate the PDF files you must have `pdflatex` installed."
   ]
  },
  {
   "cell_type": "code",
   "execution_count": null,
   "metadata": {},
   "outputs": [],
   "source": [
    "pygsti.report.construct_standard_report(\n",
    "    results_std, title=\"Example Brief Report\", verbosity=1\n",
    ").write_html(\"../tutorial_files/exampleBriefReport\", auto_open=True, verbosity=1,\n",
    "             brevity=4, link_to=('pkl', 'pdf'))"
   ]
  },
  {
   "cell_type": "markdown",
   "metadata": {
    "collapsed": true
   },
   "source": [
    "## Advanced Reports: `Report.write_notebook`\n",
    "In addition to the standard HTML-page reports demonstrated above, pyGSTi is able to generate a Jupyter notebook containing the Python commands to create the figures and tables within a general report.  This is facilitated\n",
    "by `Workspace` objects, which are factories for figures and tables (see previous tutorials).  By calling `Report.write_notebook`, all of the relevant `Workspace` initialization and calls are dumped to a new notebook file, which can be run (either fully or partially) by the user at their convenience.  Creating such \"report notebooks\" has the advantage that the user may insert Python code amidst the figure and table generation calls to inspect or modify what is display in a highly customizable fashion.  The chief disadvantages of report notebooks is that they require the user to 1) have a Jupyter server up and running and 2) to run the notebook before any figures are displayed.\n",
    "\n",
    "The line below demonstrates how to create a report notebook using `write_notebook`.  Note that the argument list is very similar to the other `Report` output methods."
   ]
  },
  {
   "cell_type": "code",
   "execution_count": null,
   "metadata": {},
   "outputs": [],
   "source": [
    "pygsti.report.construct_standard_report(\n",
    "    results, title=\"GST Example Report Notebook\", confidenceLevel=None, verbosity=3\n",
    ").write_notebook(\"../tutorial_files/exampleReport.ipynb\", auto_open=True, connected=False, verbosity=3)"
   ]
  },
  {
   "cell_type": "markdown",
   "metadata": {},
   "source": [
    "## Multi-qubit reports\n",
    "The dimension of the density matrix space with with more than 2 qubits starts to become quite large, and Models for 3+ qubits rarely allow every element of the operation process matrices to vary independently.  As such, many of the figures generated by `construct_standard_report` are both too unwieldy (displaying a $64 \\times 64$ grid of colored boxes for each operation) and not very helpful (you don't often care about what each element of an operation matrix is).  For this purpose, we are developing a report that doesn't just dump out and analyze operation matrices as a whole, but looks at a `Model`'s structure to determine how best to report quantities.  This \"n-qubit report\" is invoked using `pygsti.report.construct_nqnoise_report`, and has similar arguments to `construct_standard_report`.  It is, however <b style=\"color:red\">still under development</b>, and while you're welcome to try it out, it may crash or not work in other weird ways."
   ]
  }
 ],
 "metadata": {
  "kernelspec": {
   "display_name": "Python 3",
   "language": "python",
   "name": "python3"
  },
  "language_info": {
   "codemirror_mode": {
    "name": "ipython",
    "version": 3
   },
   "file_extension": ".py",
   "mimetype": "text/x-python",
   "name": "python",
   "nbconvert_exporter": "python",
   "pygments_lexer": "ipython3",
   "version": "3.8.6"
  }
 },
 "nbformat": 4,
 "nbformat_minor": 2
}
