{
 "cells": [
  {
   "cell_type": "markdown",
   "metadata": {},
   "source": [
    "# Report Generation Tutorial\n",
    "\n",
    "PyGSTi is able to construct polished report documents, which provide high-level summaries as well as detailed analyses of results (Gate Set Tomography (GST) and model-testing results in particular).  Reports are intended to be quick and easy way of analyzing `Model`-type estimates, and pyGSTi's report generation functions are specifically designed to interact with the `ModelEstimateResults` object (producted by several high-level algorithm functions - see, for example, the [GST overview tutorial](../algorithms/GST-Overview.ipynb) and [GST functions tutorial](../algorithms/GST-Drivers.ipynb).).  The report generation functions in pyGSTi takes one or more results (often `ModelEstimateResults`-type) objects as input and produces an HTML file as output.  The HTML format allows the reports to include **interactive plots** and **switches** (see the [workspace switchboard tutorial](advanced/WorkspaceSwitchboards.ipynb), making it easy to compare different types of analysis or data sets.  \n",
    "\n",
    "PyGSTi's reports are stand-alone HTML documents which cannot run Python.  Thus, all the results displayed in a report must be pre-computed (in Python).  If you find yourself wanting to fiddle with things and feel that these reports are too static, please consider using a `Workspace` object (see the [Workspace tutorial](Workspace.ipynb)) within a Jupyter notebook, where you can intermix report tables/plots and Python.  Internally, functions like `construct_standard_report` (see below) are simple factories for `Report` objects, which are in turn little more than a wrapper around a `Workspace` object and a set of instructions for how to generate reports of different output formats.\n",
    "\n",
    "\n",
    "### Get some `ModelEstimateResults`\n",
    "We start by performing GST using `run_long_sequence_gst`, as usual, to create a `ModelEstimateResults` object (we could also have just loaded one from file).  See the [GST functions tutorial](../algorithms/GST-Driverfunctions.ipynb) for more details."
   ]
  },
  {
   "cell_type": "code",
   "execution_count": 1,
   "metadata": {},
   "outputs": [
    {
     "name": "stdout",
     "output_type": "stream",
     "text": [
      "Loading from cache file: ../tutorial_files/Example_Dataset.txt.cache\n",
      "--- Circuit Creation ---\n",
      "   616 circuits created\n",
      "   Dataset has 1120 entries: 616 utilized, 0 requested circuits were missing\n",
      "--- LGST ---\n",
      "  Singular values of I_tilde (truncating to first 4 of 6) = \n",
      "  4.2448383395140565\n",
      "  1.1797098845149432\n",
      "  0.9634439008898883\n",
      "  0.9362764670582103\n",
      "  0.043526347617574755\n",
      "  0.016484656607311327\n",
      "  \n",
      "  Singular values of target I_tilde (truncating to first 4 of 6) = \n",
      "  4.242640687119283\n",
      "  1.4142135623730956\n",
      "  1.414213562373095\n",
      "  1.4142135623730938\n",
      "  6.033024285550424e-16\n",
      "  1.158109689322031e-16\n",
      "  \n"
     ]
    },
    {
     "name": "stderr",
     "output_type": "stream",
     "text": [
      "/Users/sserita/Documents/repos/pyGSTi/pygsti/objects/evaltree.py:192: UserWarning: Created an evaluation tree that is inefficient: tree-size > 3 * #circuits !\n",
      "This is likely due to the fact that the circuits being simulated do not have a\n",
      "periodic structure. Consider using a different forward simulator (e.g. MapForwardSimulator).\n",
      "  _warnings.warn((\"Created an evaluation tree that is inefficient: tree-size > %d * #circuits !\\n\"\n"
     ]
    },
    {
     "name": "stdout",
     "output_type": "stream",
     "text": [
      "--- Iterative GST: Iter 1 of 5  92 circuits ---: \n",
      "  --- chi2 GST ---\n",
      "    --- Outer Iter 0: norm_f = 78.9405, mu=1, |x|=2.97086, |J|=1399.82\n",
      "    --- Outer Iter 1: norm_f = 54.0573, mu=218.635, |x|=2.97863, |J|=4004\n",
      "    --- Outer Iter 2: norm_f = 51.8745, mu=72.8784, |x|=2.98084, |J|=4003.02\n",
      "    --- Outer Iter 3: norm_f = 51.8719, mu=24.2928, |x|=2.98111, |J|=4003.04\n",
      "    Least squares message = Both actual and predicted relative reductions in the sum of squares are at most 1e-06\n",
      "  Sum of Chi^2 = 51.8719 (92 data params - 31 model params = expected mean of 61; p-value = 0.791166)\n",
      "  Completed in 0.1s\n",
      "  Iteration 1 took 0.1s\n",
      "  \n",
      "--- Iterative GST: Iter 2 of 5  168 circuits ---: \n",
      "  --- chi2 GST ---\n",
      "    --- Outer Iter 0: norm_f = 157.079, mu=1, |x|=2.98112, |J|=4118.85\n",
      "    --- Outer Iter 1: norm_f = 127.64, mu=1805.26, |x|=2.97344, |J|=4115.26\n",
      "    --- Outer Iter 2: norm_f = 123.007, mu=601.752, |x|=2.9702, |J|=4114.74\n",
      "    --- Outer Iter 3: norm_f = 122.594, mu=200.584, |x|=2.96944, |J|=4114.66\n",
      "    --- Outer Iter 4: norm_f = 122.583, mu=66.8613, |x|=2.9694, |J|=4114.65\n",
      "    Least squares message = Both actual and predicted relative reductions in the sum of squares are at most 1e-06\n",
      "  Sum of Chi^2 = 122.583 (168 data params - 31 model params = expected mean of 137; p-value = 0.805892)\n",
      "  Completed in 0.1s\n",
      "  Iteration 2 took 0.2s\n",
      "  \n",
      "--- Iterative GST: Iter 3 of 5  285 circuits ---: \n",
      "  --- chi2 GST ---\n",
      "    --- Outer Iter 0: norm_f = 271.406, mu=1, |x|=2.9694, |J|=4310.15\n",
      "    --- Outer Iter 1: norm_f = 226.962, mu=1889.51, |x|=2.96631, |J|=4313.38\n",
      "    --- Outer Iter 2: norm_f = 226.01, mu=629.835, |x|=2.96593, |J|=4313.16\n",
      "    --- Outer Iter 3: norm_f = 226.001, mu=209.945, |x|=2.96595, |J|=4313.15\n",
      "    Least squares message = Both actual and predicted relative reductions in the sum of squares are at most 1e-06\n",
      "  Sum of Chi^2 = 226.001 (285 data params - 31 model params = expected mean of 254; p-value = 0.896387)\n",
      "  Completed in 0.2s\n",
      "  Iteration 3 took 0.3s\n",
      "  \n",
      "--- Iterative GST: Iter 4 of 5  448 circuits ---: \n",
      "  --- chi2 GST ---\n",
      "    --- Outer Iter 0: norm_f = 440.307, mu=1, |x|=2.96595, |J|=4652.44\n",
      "    --- Outer Iter 1: norm_f = 414.453, mu=2003.81, |x|=2.96508, |J|=4647.78\n",
      "    --- Outer Iter 2: norm_f = 414.127, mu=667.938, |x|=2.96511, |J|=4647.89\n",
      "    --- Outer Iter 3: norm_f = 414.124, mu=222.646, |x|=2.96511, |J|=4647.9\n",
      "    Least squares message = Both actual and predicted relative reductions in the sum of squares are at most 1e-06\n",
      "  Sum of Chi^2 = 414.124 (448 data params - 31 model params = expected mean of 417; p-value = 0.530579)\n",
      "  Completed in 0.3s\n",
      "  Iteration 4 took 0.4s\n",
      "  \n",
      "--- Iterative GST: Iter 5 of 5  616 circuits ---: \n",
      "  --- chi2 GST ---\n",
      "    --- Outer Iter 0: norm_f = 585.586, mu=1, |x|=2.96511, |J|=5096.79\n",
      "    --- Outer Iter 1: norm_f = 568.787, mu=2115.74, |x|=2.96463, |J|=5095.76\n",
      "    --- Outer Iter 2: norm_f = 568.717, mu=705.248, |x|=2.96472, |J|=5096.35\n",
      "    Least squares message = Both actual and predicted relative reductions in the sum of squares are at most 1e-06\n",
      "  Sum of Chi^2 = 568.717 (616 data params - 31 model params = expected mean of 585; p-value = 0.677595)\n",
      "  Completed in 0.3s\n",
      "  Iteration 5 took 0.5s\n",
      "  \n",
      "  Last iteration:\n",
      "  --- dlogl GST ---\n",
      "    --- Outer Iter 0: norm_f = 284.683, mu=1, |x|=2.96473, |J|=2390.34\n",
      "    --- Outer Iter 1: norm_f = 284.682, mu=7.40595e+06, |x|=2.96474, |J|=2353.23\n",
      "    --- Outer Iter 2: norm_f = 284.681, mu=2.22178e+06, |x|=2.96475, |J|=2341.74\n",
      "    --- Outer Iter 3: norm_f = 284.68, mu=666535, |x|=2.96476, |J|=2488.37\n",
      "    --- Outer Iter 4: norm_f = 284.679, mu=1.27975e+07, |x|=2.96476, |J|=2419.02\n",
      "    --- Outer Iter 5: norm_f = 284.678, mu=3.83924e+06, |x|=2.96477, |J|=2339.88\n",
      "    --- Outer Iter 6: norm_f = 284.677, mu=1.15177e+06, |x|=2.96477, |J|=2347.14\n",
      "    --- Outer Iter 7: norm_f = 284.676, mu=691064, |x|=2.96479, |J|=2393.41\n",
      "    --- Outer Iter 8: norm_f = 284.676, mu=1.32684e+07, |x|=2.96479, |J|=2358.78\n",
      "    --- Outer Iter 9: norm_f = 284.675, mu=3.98053e+06, |x|=2.96479, |J|=2342.95\n",
      "    --- Outer Iter 10: norm_f = 284.675, mu=1.19416e+06, |x|=2.9648, |J|=2340.57\n",
      "    --- Outer Iter 11: norm_f = 284.675, mu=716495, |x|=2.96481, |J|=2425.44\n",
      "    --- Outer Iter 12: norm_f = 284.674, mu=1.37567e+07, |x|=2.96481, |J|=2387.13\n",
      "    --- Outer Iter 13: norm_f = 284.674, mu=4.12701e+06, |x|=2.96481, |J|=2340.92\n",
      "    --- Outer Iter 14: norm_f = 284.673, mu=1.2381e+06, |x|=2.96482, |J|=2342.75\n",
      "    --- Outer Iter 15: norm_f = 284.672, mu=371431, |x|=2.96483, |J|=2344.48\n",
      "    Least squares message = Both actual and predicted relative reductions in the sum of squares are at most 1e-06\n",
      "  2*Delta(log(L)) = 569.344 (616 data params - 31 model params = expected mean of 585; p-value = 0.670872)\n",
      "  Completed in 1.4s\n",
      "  Final optimization took 1.4s\n",
      "  \n",
      "Iterative GST Total Time: 2.9s\n",
      "    -- Performing 'go0' gauge optimization on GateSetTomography estimate --\n"
     ]
    }
   ],
   "source": [
    "import pygsti\n",
    "from pygsti.modelpacks import smq1Q_XYI\n",
    "\n",
    "target_model = smq1Q_XYI.target_model()\n",
    "prep_fiducials = smq1Q_XYI.prep_fiducials()\n",
    "meas_fiducials = smq1Q_XYI.meas_fiducials()\n",
    "germs = smq1Q_XYI.germs()\n",
    "maxLengths = [1,2,4,8,16]\n",
    "ds = pygsti.io.load_dataset(\"../tutorial_files/Example_Dataset.txt\", cache=True)\n",
    "\n",
    "#Run GST\n",
    "target_model.set_all_parameterizations(\"TP\") #TP-constrained\n",
    "results = pygsti.run_long_sequence_gst(ds, target_model, prep_fiducials, meas_fiducials, germs,\n",
    "                                      maxLengths, verbosity=3)"
   ]
  },
  {
   "cell_type": "markdown",
   "metadata": {},
   "source": [
    "### Make a report\n",
    "Now that we have `results`, we use the `construct_standard_report` method within `pygsti.report` to generate a `Report`.  \n",
    "`pygsti.report.construct_standard_report` is the most commonly used report factory function in pyGSTi, as it is appropriate for smaller models (1- and 2-qubit) which have *operations that are or can be represeted as dense matrices and/or vectors*.  \n",
    "\n",
    "Once constructed, a `Report` object can be used to write a report as an HTML document, PDF, or notebook.  To open a HTML-format report, you open the `main.html` file directly inside the report's folder.  Setting `auto_open=True` makes the finished report open in your web browser automatically.  "
   ]
  },
  {
   "cell_type": "code",
   "execution_count": 20,
   "metadata": {},
   "outputs": [
    {
     "name": "stdout",
     "output_type": "stream",
     "text": [
      "Running idle tomography\n",
      "Computing switchable properties\n",
      "Found standard clifford compilation from smq1Q_XYI\n"
     ]
    },
    {
     "name": "stderr",
     "output_type": "stream",
     "text": [
      "/Users/sserita/Documents/repos/pyGSTi/pygsti/objects/evaltree.py:192: UserWarning:\n",
      "\n",
      "Created an evaluation tree that is inefficient: tree-size > 3 * #circuits !\n",
      "This is likely due to the fact that the circuits being simulated do not have a\n",
      "periodic structure. Consider using a different forward simulator (e.g. MapForwardSimulator).\n",
      "\n",
      "/Users/sserita/Documents/repos/pyGSTi/pygsti/objects/evaltree.py:192: UserWarning:\n",
      "\n",
      "Created an evaluation tree that is inefficient: tree-size > 10 * #circuits !\n",
      "This is likely due to the fact that the circuits being simulated do not have a\n",
      "periodic structure. Consider using a different forward simulator (e.g. MapForwardSimulator).\n",
      "\n"
     ]
    },
    {
     "name": "stdout",
     "output_type": "stream",
     "text": [
      "\n",
      "\n",
      "Generating LaTeX source...\n"
     ]
    },
    {
     "name": "stderr",
     "output_type": "stream",
     "text": [
      "/Users/sserita/Documents/repos/pyGSTi/pygsti/report/mpl_colormaps.py:669: UserWarning:\n",
      "\n",
      "FixedFormatter should only be used together with FixedLocator\n",
      "\n",
      "/Users/sserita/Documents/repos/pyGSTi/pygsti/report/mpl_colormaps.py:670: UserWarning:\n",
      "\n",
      "FixedFormatter should only be used together with FixedLocator\n",
      "\n"
     ]
    },
    {
     "name": "stdout",
     "output_type": "stream",
     "text": [
      "Compiling with `pdflatex -interaction=nonstopmode -halt-on-error -shell-escape`\n",
      "Initial output PDF ../tutorial_files/exampleReport.pdf successfully generated.\n",
      "Final output PDF ../tutorial_files/exampleReport.pdf successfully generated. Cleaning up .aux and .log files.\n",
      "Opening ../tutorial_files/exampleReport.pdf...\n"
     ]
    }
   ],
   "source": [
    "report = pygsti.report.construct_standard_report(results, title=\"GST Example Report\", verbosity=1)\n",
    "#HTML\n",
    "report.write_html(\"../tutorial_files/exampleReport\", auto_open=True, verbosity=1)\n",
    "\n",
    "print(\"\\n\")\n",
    "\n",
    "#PDF\n",
    "report.write_pdf(\"../tutorial_files/exampleReport.pdf\", auto_open=True, verbosity=1)"
   ]
  },
  {
   "cell_type": "markdown",
   "metadata": {},
   "source": [
    "There are several remarks about these reports worth noting:\n",
    "1. The **HTML reports are the primary report type in pyGSTi**, and are much more flexible.  The PDF reports are more limited (they can only display a *single* estimate and gauge optimization), and essentially contain a subset of the information and descriptive text of a HTML report.  So, if you can, use the HTML reports.  The PDF report's strength is its portability: PDFs are easily displayed by many devices, and they embed all that they need neatly into a single file.  **If you need to generate a PDF report** from `Results` objects that have multiple estimates and/or gauge optimizations, consider using the `Results` object's `view` method to single out the estimate and gauge optimization you're after.\n",
    "2. It's best to use **Firefox** when opening the HTML reports. (If there's a problem with your brower's capabilities it will be shown on the screen when you try to load the report.)\n",
    "3. You'll need **`pdflatex`** on your system to compile PDF reports.\n",
    "4. To familiarize yourself with the layout of an HTML report, click on the gray **\"Help\" link** on the black sidebar."
   ]
  },
  {
   "cell_type": "markdown",
   "metadata": {},
   "source": [
    "### Multiple estimates in a single report\n",
    "Next, let's analyze the same data two different ways: with and without the TP-constraint (i.e. whether the gates *must* be trace-preserving) and furthermore gauge optmimize each case using several different SPAM-weights.  In each case we'll call `run_long_sequence_gst` with `gauge_opt_params=False`, so that no gauge optimization is done, and then perform several gauge optimizations separately and add these to the `Results` object via its `add_gaugeoptimized` function."
   ]
  },
  {
   "cell_type": "code",
   "execution_count": 3,
   "metadata": {},
   "outputs": [
    {
     "name": "stdout",
     "output_type": "stream",
     "text": [
      "--- Circuit Creation ---\n",
      "--- LGST ---\n",
      "  Singular values of I_tilde (truncating to first 4 of 6) = \n",
      "  4.2448383395140565\n",
      "  1.1797098845149432\n",
      "  0.9634439008898883\n",
      "  0.9362764670582103\n",
      "  0.043526347617574755\n",
      "  0.016484656607311327\n",
      "  \n",
      "  Singular values of target I_tilde (truncating to first 4 of 6) = \n",
      "  4.242640687119283\n",
      "  1.4142135623730956\n",
      "  1.414213562373095\n",
      "  1.4142135623730938\n",
      "  6.033024285550424e-16\n",
      "  1.158109689322031e-16\n",
      "  \n"
     ]
    },
    {
     "name": "stderr",
     "output_type": "stream",
     "text": [
      "/Users/sserita/Documents/repos/pyGSTi/pygsti/objects/evaltree.py:192: UserWarning:\n",
      "\n",
      "Created an evaluation tree that is inefficient: tree-size > 3 * #circuits !\n",
      "This is likely due to the fact that the circuits being simulated do not have a\n",
      "periodic structure. Consider using a different forward simulator (e.g. MapForwardSimulator).\n",
      "\n"
     ]
    },
    {
     "name": "stdout",
     "output_type": "stream",
     "text": [
      "--- Iterative GST: [##################################################] 100.0%  616 circuits ---\n",
      "Iterative GST Total Time: 2.7s\n"
     ]
    }
   ],
   "source": [
    "#Case1: TP-constrained GST\n",
    "tpTarget = target_model.copy()\n",
    "tpTarget.set_all_parameterizations(\"TP\")\n",
    "results_tp = pygsti.run_long_sequence_gst(ds, tpTarget, prep_fiducials, meas_fiducials, germs,\n",
    "                                      maxLengths, gauge_opt_params=False, verbosity=1)\n",
    "\n",
    "#Gauge optimize\n",
    "est = results_tp.estimates['GateSetTomography']\n",
    "mdlFinal = est.models['final iteration estimate']\n",
    "mdlTarget = est.models['target']\n",
    "for spamWt in [1e-4,1e-2,1.0]:\n",
    "    mdl = pygsti.gaugeopt_to_target(mdlFinal,mdlTarget,{'gates':1, 'spam':spamWt})\n",
    "    est.add_gaugeoptimized({'item_weights': {'gates':1, 'spam':spamWt}}, mdl, \"Spam %g\" % spamWt)"
   ]
  },
  {
   "cell_type": "code",
   "execution_count": 4,
   "metadata": {},
   "outputs": [
    {
     "name": "stdout",
     "output_type": "stream",
     "text": [
      "--- Circuit Creation ---\n",
      "--- LGST ---\n",
      "  Singular values of I_tilde (truncating to first 4 of 6) = \n",
      "  4.2448383395140565\n",
      "  1.1797098845149432\n",
      "  0.9634439008898883\n",
      "  0.9362764670582103\n",
      "  0.043526347617574755\n",
      "  0.016484656607311327\n",
      "  \n",
      "  Singular values of target I_tilde (truncating to first 4 of 6) = \n",
      "  4.242640687119283\n",
      "  1.4142135623730956\n",
      "  1.414213562373095\n",
      "  1.4142135623730938\n",
      "  6.033024285550424e-16\n",
      "  1.158109689322031e-16\n",
      "  \n",
      "--- Iterative GST: [--------------------------------------------------] 0.0%  92 circuits ---\r"
     ]
    },
    {
     "name": "stderr",
     "output_type": "stream",
     "text": [
      "/Users/sserita/Documents/repos/pyGSTi/pygsti/objects/evaltree.py:192: UserWarning:\n",
      "\n",
      "Created an evaluation tree that is inefficient: tree-size > 3 * #circuits !\n",
      "This is likely due to the fact that the circuits being simulated do not have a\n",
      "periodic structure. Consider using a different forward simulator (e.g. MapForwardSimulator).\n",
      "\n"
     ]
    },
    {
     "name": "stdout",
     "output_type": "stream",
     "text": [
      "--- Iterative GST: [##################################################] 100.0%  616 circuits ---\n",
      "Iterative GST Total Time: 4.8s\n"
     ]
    }
   ],
   "source": [
    "#Case2: \"Full\" GST\n",
    "fullTarget = target_model.copy()\n",
    "fullTarget.set_all_parameterizations(\"full\")\n",
    "results_full = pygsti.run_long_sequence_gst(ds, fullTarget, prep_fiducials, meas_fiducials, germs,\n",
    "                                           maxLengths, gauge_opt_params=False, verbosity=1)\n",
    "\n",
    "#Gauge optimize\n",
    "est = results_full.estimates['GateSetTomography']\n",
    "mdlFinal = est.models['final iteration estimate']\n",
    "mdlTarget = est.models['target']\n",
    "for spamWt in [1e-4,1e-2,1.0]:\n",
    "    mdl = pygsti.gaugeopt_to_target(mdlFinal,mdlTarget,{'gates':1, 'spam':spamWt})\n",
    "    est.add_gaugeoptimized({'item_weights': {'gates':1, 'spam':spamWt}}, mdl, \"Spam %g\" % spamWt)"
   ]
  },
  {
   "cell_type": "markdown",
   "metadata": {},
   "source": [
    "We'll now call the *same* `construct_standard_report` function but this time instead of passing a single `Results` object as the first argument we'll pass a *dictionary* of them.  This will result in a **HTML report that includes switches** to select which case (\"TP\" or \"Full\") as well as which gauge optimization to display output quantities for.  PDF reports cannot support this interactivity, and so **if you try to generate a PDF report you'll get an error**."
   ]
  },
  {
   "cell_type": "code",
   "execution_count": 5,
   "metadata": {
    "scrolled": true
   },
   "outputs": [
    {
     "name": "stdout",
     "output_type": "stream",
     "text": [
      "Running idle tomography\n",
      "Computing switchable properties\n",
      "Found standard clifford compilation from smq1Q_XYI\n",
      "Found standard clifford compilation from smq1Q_XYI\n"
     ]
    },
    {
     "name": "stderr",
     "output_type": "stream",
     "text": [
      "/Users/sserita/Documents/repos/pyGSTi/pygsti/objects/evaltree.py:192: UserWarning:\n",
      "\n",
      "Created an evaluation tree that is inefficient: tree-size > 10 * #circuits !\n",
      "This is likely due to the fact that the circuits being simulated do not have a\n",
      "periodic structure. Consider using a different forward simulator (e.g. MapForwardSimulator).\n",
      "\n"
     ]
    },
    {
     "name": "stdout",
     "output_type": "stream",
     "text": [
      "Statistical hypothesis tests did NOT find inconsistency between the datasets at 5.00% significance.\n",
      "Statistical hypothesis tests did NOT find inconsistency between the datasets at 5.00% significance.\n",
      "Statistical hypothesis tests did NOT find inconsistency between the datasets at 5.00% significance.\n",
      "Statistical hypothesis tests did NOT find inconsistency between the datasets at 5.00% significance.\n"
     ]
    }
   ],
   "source": [
    "ws = pygsti.report.Workspace()\n",
    "report = pygsti.report.construct_standard_report(\n",
    "    {'TP': results_tp, \"Full\": results_full}, title=\"Example Multi-Estimate Report\", ws=ws, verbosity=2)\n",
    "report.write_html(\"../tutorial_files/exampleMultiEstimateReport\", auto_open=True, verbosity=2)"
   ]
  },
  {
   "cell_type": "markdown",
   "metadata": {
    "collapsed": true
   },
   "source": [
    "In the above call we construct `ws` - a `Workspace` object.  PyGSTi's `Workspace` objects function as both a factory for figures and tables as well as a smart cache for computed values.  A `Workspace` object can optionally be passed as an argument to `construct_standard_report`, where it is used to create all figures in the report.  As an intended side effect, each of these figures is cached, along with some of the intermediate results used to create it.  By passing a preconstructed `Workspace` object to `construct_standard_report`, we allow it to utilize previously cached quantities.\n",
    "\n",
    "**Another way**: Because both `results_tp` and `results_full` above used the same dataset and operation sequences, we could have combined them as two estimates in a single `ModelEstimateResults` object (see the previous tutorial on pyGSTi's results objects).  This can be done by adding the estimate within `results_full` to the estimates already contained in `results_tp`: "
   ]
  },
  {
   "cell_type": "code",
   "execution_count": 10,
   "metadata": {},
   "outputs": [],
   "source": [
    "results_both = results_tp.copy() #copy just for neatness\n",
    "results_both.add_estimates(results_full, estimates_to_add=['Full'])"
   ]
  },
  {
   "cell_type": "markdown",
   "metadata": {},
   "source": [
    "Creating a report using `results_both` will result in the same report we just generated.  We'll demonstrate this anyway, but in addition we'll supply `construct_standard_report` with the same `Workspace` we previously used to generate a report.  This tells the constructed `Report` to use any cached values contained in a given *input* `Workspace` to expedite report generation.  Since our workspace object has the exact quantities we need cached in it, you'll notice a significant speedup.  Finally, note that even though there's just a single `Results` object, you **still can't generate a PDF report** from it because it contains multiple estimates."
   ]
  },
  {
   "cell_type": "code",
   "execution_count": 11,
   "metadata": {},
   "outputs": [
    {
     "name": "stdout",
     "output_type": "stream",
     "text": [
      "Running idle tomography\n",
      "Computing switchable properties\n",
      "Found standard clifford compilation from smq1Q_XYI\n",
      "Found standard clifford compilation from smq1Q_XYI\n"
     ]
    }
   ],
   "source": [
    "pygsti.report.construct_standard_report(\n",
    "    results_both,\n",
    "    title=\"Example Multi-Estimate Report (v2)\", \n",
    "    ws=ws, verbosity=2\n",
    ").write_html(\"../tutorial_files/exampleMultiEstimateReport2\", auto_open=True, verbosity=2)"
   ]
  },
  {
   "cell_type": "markdown",
   "metadata": {},
   "source": [
    "### Multiple estimates and `run_stdpractice_gst`\n",
    "It's no coincidence that a `Results` object containing multiple estimates using the same data is precisely what's returned from `run_stdpractice_gst` (see docstring for information on its arguments, and see the [GST functions tutorial](../algorithms/GST-Drivers.ipynb)).  This allows one to run GST multiple times, creating several different \"standard\" estimates and gauge optimizations, and plot them all in a single (HTML) report. "
   ]
  },
  {
   "cell_type": "code",
   "execution_count": 13,
   "metadata": {
    "scrolled": true
   },
   "outputs": [
    {
     "name": "stdout",
     "output_type": "stream",
     "text": [
      "--- Circuit Creation ---\n",
      "   616 circuits created\n",
      "   Dataset has 1120 entries: 616 utilized, 0 requested circuits were missing\n",
      "-- Std Practice:  Iter 1 of 3  (TP) --: \n",
      "  --- Iterative GST: Iter 1 of 5  92 circuits ---: \n",
      "    --- chi2 GST ---\n",
      "      --- Outer Iter 0: norm_f = 1.10824e+07, mu=1, |x|=3.24037, |J|=35581.8\n",
      "      --- Outer Iter 1: norm_f = 307.637, mu=51711.6, |x|=3.05021, |J|=1134.95\n",
      "      --- Outer Iter 2: norm_f = 122.286, mu=17237.2, |x|=3.03187, |J|=1044.1\n",
      "      --- Outer Iter 3: norm_f = 83.0254, mu=5745.74, |x|=3.0196, |J|=1032.4\n",
      "      --- Outer Iter 4: norm_f = 61.3337, mu=1915.25, |x|=3.00526, |J|=1100.46\n",
      "      --- Outer Iter 5: norm_f = 58.9225, mu=13390.3, |x|=3.00128, |J|=4005.56\n",
      "      --- Outer Iter 6: norm_f = 56.3284, mu=4463.43, |x|=2.99847, |J|=4004.41\n",
      "      --- Outer Iter 7: norm_f = 54.4681, mu=1487.81, |x|=2.99364, |J|=4004.16\n",
      "      --- Outer Iter 8: norm_f = 52.6902, mu=495.936, |x|=2.98718, |J|=4004.02\n",
      "      --- Outer Iter 9: norm_f = 51.9577, mu=165.312, |x|=2.98263, |J|=4004\n",
      "      --- Outer Iter 10: norm_f = 51.8738, mu=55.104, |x|=2.98128, |J|=4004.01\n",
      "      --- Outer Iter 11: norm_f = 51.8719, mu=18.368, |x|=2.98112, |J|=4004.02\n",
      "      Least squares message = Both actual and predicted relative reductions in the sum of squares are at most 1e-06\n",
      "    Sum of Chi^2 = 51.8719 (92 data params - 31 model params = expected mean of 61; p-value = 0.791166)\n",
      "    Completed in 0.2s\n",
      "    Iteration 1 took 0.2s\n",
      "    \n",
      "  --- Iterative GST: Iter 2 of 5  168 circuits ---: \n",
      "    --- chi2 GST ---\n",
      "      --- Outer Iter 0: norm_f = 157.078, mu=1, |x|=2.98112, |J|=4119.87\n",
      "      --- Outer Iter 1: norm_f = 127.657, mu=1805.26, |x|=2.97344, |J|=4116.3\n",
      "      --- Outer Iter 2: norm_f = 123.01, mu=601.752, |x|=2.9702, |J|=4115.77\n",
      "      --- Outer Iter 3: norm_f = 122.594, mu=200.584, |x|=2.96944, |J|=4115.68\n",
      "      --- Outer Iter 4: norm_f = 122.583, mu=66.8613, |x|=2.96939, |J|=4115.67\n",
      "      Least squares message = Both actual and predicted relative reductions in the sum of squares are at most 1e-06\n",
      "    Sum of Chi^2 = 122.583 (168 data params - 31 model params = expected mean of 137; p-value = 0.805891)\n",
      "    Completed in 0.1s\n",
      "    Iteration 2 took 0.2s\n",
      "    \n",
      "  --- Iterative GST: Iter 3 of 5  285 circuits ---: \n",
      "    --- chi2 GST ---\n",
      "      --- Outer Iter 0: norm_f = 271.406, mu=1, |x|=2.96939, |J|=4311.31\n",
      "      --- Outer Iter 1: norm_f = 226.966, mu=1889.51, |x|=2.9663, |J|=4314.54\n",
      "      --- Outer Iter 2: norm_f = 226.01, mu=629.835, |x|=2.96592, |J|=4314.31\n",
      "      --- Outer Iter 3: norm_f = 226.001, mu=209.945, |x|=2.96594, |J|=4314.31\n",
      "      Least squares message = Both actual and predicted relative reductions in the sum of squares are at most 1e-06\n",
      "    Sum of Chi^2 = 226.001 (285 data params - 31 model params = expected mean of 254; p-value = 0.896387)\n",
      "    Completed in 0.2s\n",
      "    Iteration 3 took 0.3s\n",
      "    \n",
      "  --- Iterative GST: Iter 4 of 5  448 circuits ---: \n",
      "    --- chi2 GST ---\n",
      "      --- Outer Iter 0: norm_f = 440.307, mu=1, |x|=2.96594, |J|=4653.95\n",
      "      --- Outer Iter 1: norm_f = 414.453, mu=2003.81, |x|=2.96507, |J|=4649.28\n",
      "      --- Outer Iter 2: norm_f = 414.127, mu=667.938, |x|=2.9651, |J|=4649.39\n",
      "      --- Outer Iter 3: norm_f = 414.124, mu=222.646, |x|=2.9651, |J|=4649.4\n",
      "      Least squares message = Both actual and predicted relative reductions in the sum of squares are at most 1e-06\n",
      "    Sum of Chi^2 = 414.124 (448 data params - 31 model params = expected mean of 417; p-value = 0.530579)\n",
      "    Completed in 0.3s\n",
      "    Iteration 4 took 0.4s\n",
      "    \n",
      "  --- Iterative GST: Iter 5 of 5  616 circuits ---: \n",
      "    --- chi2 GST ---\n",
      "      --- Outer Iter 0: norm_f = 585.586, mu=1, |x|=2.9651, |J|=5098.94\n",
      "      --- Outer Iter 1: norm_f = 568.787, mu=2115.74, |x|=2.96462, |J|=5097.9\n",
      "      --- Outer Iter 2: norm_f = 568.717, mu=705.248, |x|=2.96471, |J|=5098.49\n",
      "      Least squares message = Both actual and predicted relative reductions in the sum of squares are at most 1e-06\n",
      "    Sum of Chi^2 = 568.717 (616 data params - 31 model params = expected mean of 585; p-value = 0.677595)\n",
      "    Completed in 0.3s\n",
      "    Iteration 5 took 0.5s\n",
      "    \n",
      "    Last iteration:\n",
      "    --- dlogl GST ---\n",
      "      --- Outer Iter 0: norm_f = 284.683, mu=1, |x|=2.96473, |J|=2391.89\n",
      "      --- Outer Iter 1: norm_f = 284.682, mu=7.40594e+06, |x|=2.96473, |J|=2354.78\n",
      "      --- Outer Iter 2: norm_f = 284.681, mu=2.22178e+06, |x|=2.96474, |J|=2343.3\n",
      "      --- Outer Iter 3: norm_f = 284.68, mu=666535, |x|=2.96475, |J|=2490.09\n",
      "      --- Outer Iter 4: norm_f = 284.679, mu=1.27975e+07, |x|=2.96475, |J|=2420.64\n",
      "      --- Outer Iter 5: norm_f = 284.678, mu=3.83924e+06, |x|=2.96476, |J|=2341.43\n",
      "      --- Outer Iter 6: norm_f = 284.677, mu=1.15177e+06, |x|=2.96476, |J|=2348.76\n",
      "      --- Outer Iter 7: norm_f = 284.676, mu=691063, |x|=2.96478, |J|=2395.84\n",
      "      --- Outer Iter 8: norm_f = 284.676, mu=1.32684e+07, |x|=2.96478, |J|=2360.66\n",
      "      --- Outer Iter 9: norm_f = 284.675, mu=3.98053e+06, |x|=2.96478, |J|=2344.54\n",
      "      --- Outer Iter 10: norm_f = 284.675, mu=1.19416e+06, |x|=2.96479, |J|=2342.16\n",
      "      --- Outer Iter 11: norm_f = 284.675, mu=716495, |x|=2.9648, |J|=2428.68\n",
      "      --- Outer Iter 12: norm_f = 284.674, mu=1.37567e+07, |x|=2.9648, |J|=2389.61\n",
      "      --- Outer Iter 13: norm_f = 284.674, mu=4.12701e+06, |x|=2.9648, |J|=2342.48\n",
      "      --- Outer Iter 14: norm_f = 284.673, mu=1.2381e+06, |x|=2.96481, |J|=2344.31\n",
      "      --- Outer Iter 15: norm_f = 284.672, mu=371431, |x|=2.96483, |J|=2346.11\n",
      "      Least squares message = Both actual and predicted relative reductions in the sum of squares are at most 1e-06\n",
      "    2*Delta(log(L)) = 569.344 (616 data params - 31 model params = expected mean of 585; p-value = 0.670872)\n",
      "    Completed in 1.4s\n",
      "    Final optimization took 1.4s\n",
      "    \n",
      "  Iterative GST Total Time: 3.0s\n",
      "      -- Performing 'stdgaugeopt' gauge optimization on TP estimate --\n",
      "      -- Performing 'Spam 0.001' gauge optimization on TP estimate --\n",
      "      -- Performing 'Spam 0.001+v' gauge optimization on TP estimate --\n",
      "-- Std Practice:  Iter 2 of 3  (CPTP) --: \n",
      "  --- Iterative GST: Iter 1 of 5  92 circuits ---: \n",
      "    --- chi2 GST ---\n",
      "      --- Outer Iter 0: norm_f = 1.10824e+07, mu=1, |x|=3.87298e-08, |J|=776.628\n",
      "      --- Outer Iter 1: norm_f = 13747.4, mu=76.022, |x|=0.18621, |J|=1597.06\n",
      "      --- Outer Iter 2: norm_f = 555.862, mu=25.3407, |x|=0.402207, |J|=787.594\n",
      "      --- Outer Iter 3: norm_f = 309.152, mu=25.3407, |x|=0.565921, |J|=624.206\n",
      "      --- Outer Iter 4: norm_f = 64.7614, mu=8.4469, |x|=0.489444, |J|=677.318\n",
      "      --- Outer Iter 5: norm_f = 53.2366, mu=4.41792, |x|=0.481306, |J|=690.161\n",
      "      --- Outer Iter 6: norm_f = 53.1158, mu=6.90498, |x|=0.478779, |J|=693.91\n",
      "      --- Outer Iter 7: norm_f = 52.4368, mu=6.90377, |x|=0.479244, |J|=693.414\n",
      "      --- Outer Iter 8: norm_f = 52.2241, mu=444.238, |x|=0.477938, |J|=694.695\n",
      "      --- Outer Iter 9: norm_f = 52.2042, mu=735.52, |x|=0.477856, |J|=694.791\n",
      "      --- Outer Iter 10: norm_f = 52.1175, mu=753.929, |x|=0.477699, |J|=694.799\n",
      "      --- Outer Iter 11: norm_f = 52.1045, mu=1098.61, |x|=0.477556, |J|=694.966\n",
      "      --- Outer Iter 12: norm_f = 52.0737, mu=1129.37, |x|=0.477508, |J|=694.928\n",
      "      --- Outer Iter 13: norm_f = 52.0617, mu=1147.47, |x|=0.47745, |J|=694.979\n",
      "      --- Outer Iter 14: norm_f = 52.0531, mu=1148.23, |x|=0.477435, |J|=694.999\n",
      "      --- Outer Iter 15: norm_f = 52.0458, mu=1145.94, |x|=0.477428, |J|=695.026\n",
      "      --- Outer Iter 16: norm_f = 52.0391, mu=1103.69, |x|=0.477424, |J|=695.056\n",
      "      --- Outer Iter 17: norm_f = 52.0326, mu=973.289, |x|=0.477422, |J|=695.097\n",
      "      --- Outer Iter 18: norm_f = 52.0259, mu=826.925, |x|=0.477421, |J|=695.149\n",
      "      --- Outer Iter 19: norm_f = 52.0189, mu=792.798, |x|=0.477423, |J|=695.223\n",
      "      --- Outer Iter 20: norm_f = 52.0129, mu=794.517, |x|=0.477428, |J|=695.313\n",
      "      --- Outer Iter 21: norm_f = 52.0091, mu=989.028, |x|=0.477439, |J|=695.424\n",
      "      --- Outer Iter 22: norm_f = 52.0027, mu=1132.67, |x|=0.477446, |J|=695.485\n",
      "      --- Outer Iter 23: norm_f = 51.9957, mu=1164.61, |x|=0.47744, |J|=695.545\n",
      "      --- Outer Iter 24: norm_f = 51.9867, mu=1048, |x|=0.477434, |J|=696.67\n",
      "      --- Outer Iter 25: norm_f = 51.9751, mu=1056.79, |x|=0.477435, |J|=696.727\n",
      "      --- Outer Iter 26: norm_f = 51.975, mu=2093.55, |x|=0.477459, |J|=696.996\n"
     ]
    },
    {
     "name": "stdout",
     "output_type": "stream",
     "text": [
      "      --- Outer Iter 27: norm_f = 51.9568, mu=2093.79, |x|=0.477451, |J|=696.563\n",
      "      --- Outer Iter 28: norm_f = 51.9518, mu=1837.74, |x|=0.477436, |J|=696.541\n",
      "      --- Outer Iter 29: norm_f = 51.9475, mu=729.488, |x|=0.477437, |J|=696.556\n",
      "      --- Outer Iter 30: norm_f = 51.9389, mu=265.185, |x|=0.477451, |J|=696.635\n",
      "      --- Outer Iter 31: norm_f = 51.9362, mu=371.729, |x|=0.47752, |J|=697.485\n",
      "      --- Outer Iter 32: norm_f = 51.9288, mu=956.759, |x|=0.477543, |J|=697.438\n",
      "      --- Outer Iter 33: norm_f = 51.9215, mu=1079.96, |x|=0.477534, |J|=697.367\n",
      "      --- Outer Iter 34: norm_f = 51.9162, mu=1154, |x|=0.47753, |J|=697.32\n",
      "      --- Outer Iter 35: norm_f = 51.9124, mu=1174.17, |x|=0.47753, |J|=697.318\n",
      "      --- Outer Iter 36: norm_f = 51.9095, mu=1174.23, |x|=0.477534, |J|=697.338\n",
      "      --- Outer Iter 37: norm_f = 51.9072, mu=1157.59, |x|=0.47754, |J|=697.38\n",
      "      --- Outer Iter 38: norm_f = 51.9051, mu=993.752, |x|=0.477547, |J|=697.43\n",
      "      --- Outer Iter 39: norm_f = 51.9031, mu=658.467, |x|=0.477557, |J|=697.498\n",
      "      --- Outer Iter 40: norm_f = 51.9005, mu=495.899, |x|=0.477574, |J|=697.609\n",
      "      --- Outer Iter 41: norm_f = 51.8985, mu=496.263, |x|=0.477597, |J|=697.807\n",
      "      --- Outer Iter 42: norm_f = 51.8964, mu=995.901, |x|=0.477607, |J|=697.827\n",
      "      --- Outer Iter 43: norm_f = 51.8949, mu=988.406, |x|=0.477613, |J|=697.876\n",
      "      --- Outer Iter 44: norm_f = 51.8936, mu=831.404, |x|=0.477621, |J|=697.932\n",
      "      --- Outer Iter 45: norm_f = 51.8923, mu=487.041, |x|=0.477632, |J|=698.004\n",
      "      --- Outer Iter 46: norm_f = 51.8905, mu=344.576, |x|=0.477651, |J|=698.128\n",
      "      --- Outer Iter 47: norm_f = 51.8894, mu=360.219, |x|=0.477679, |J|=698.371\n",
      "      --- Outer Iter 48: norm_f = 51.8879, mu=759.332, |x|=0.477691, |J|=698.396\n",
      "      --- Outer Iter 49: norm_f = 51.8868, mu=763.132, |x|=0.477697, |J|=698.437\n",
      "      --- Outer Iter 50: norm_f = 51.8858, mu=762.376, |x|=0.477705, |J|=698.486\n",
      "      --- Outer Iter 51: norm_f = 51.8851, mu=714.385, |x|=0.477713, |J|=698.541\n",
      "      --- Outer Iter 52: norm_f = 51.8843, mu=531.661, |x|=0.477722, |J|=698.6\n",
      "      --- Outer Iter 53: norm_f = 51.8835, mu=352.094, |x|=0.477734, |J|=698.681\n",
      "      --- Outer Iter 54: norm_f = 51.8826, mu=337.733, |x|=0.477752, |J|=698.809\n",
      "      --- Outer Iter 55: norm_f = 51.8823, mu=495.351, |x|=0.477772, |J|=698.989\n",
      "      --- Outer Iter 56: norm_f = 51.8816, mu=596.317, |x|=0.477786, |J|=699.038\n",
      "      --- Outer Iter 57: norm_f = 51.8807, mu=614.253, |x|=0.477791, |J|=699.054\n",
      "      --- Outer Iter 58: norm_f = 51.8802, mu=614.416, |x|=0.477796, |J|=699.09\n",
      "      --- Outer Iter 59: norm_f = 51.8797, mu=602.39, |x|=0.477803, |J|=699.134\n",
      "      --- Outer Iter 60: norm_f = 51.8793, mu=484.374, |x|=0.47781, |J|=699.181\n",
      "      --- Outer Iter 61: norm_f = 51.8789, mu=288.102, |x|=0.477819, |J|=699.241\n",
      "      --- Outer Iter 62: norm_f = 51.8783, mu=232.287, |x|=0.477835, |J|=699.341\n",
      "      --- Outer Iter 63: norm_f = 51.8781, mu=275.314, |x|=0.477855, |J|=699.498\n",
      "      --- Outer Iter 64: norm_f = 51.8775, mu=554.91, |x|=0.477862, |J|=699.499\n",
      "      --- Outer Iter 65: norm_f = 51.8772, mu=550.764, |x|=0.477866, |J|=699.533\n",
      "      --- Outer Iter 66: norm_f = 51.877, mu=410.104, |x|=0.477872, |J|=699.572\n",
      "      --- Outer Iter 67: norm_f = 51.8767, mu=172.864, |x|=0.477881, |J|=699.625\n",
      "      --- Outer Iter 68: norm_f = 51.8762, mu=129.523, |x|=0.477901, |J|=699.748\n",
      "      --- Outer Iter 69: norm_f = 51.876, mu=279.64, |x|=0.477914, |J|=699.841\n",
      "      --- Outer Iter 70: norm_f = 51.8759, mu=440.366, |x|=0.477926, |J|=699.926\n",
      "      --- Outer Iter 71: norm_f = 51.8755, mu=446.873, |x|=0.477932, |J|=699.925\n",
      "      --- Outer Iter 72: norm_f = 51.8753, mu=446.606, |x|=0.477935, |J|=699.954\n",
      "      --- Outer Iter 73: norm_f = 51.8752, mu=382.214, |x|=0.477941, |J|=699.987\n",
      "      --- Outer Iter 74: norm_f = 51.8751, mu=193.489, |x|=0.477948, |J|=700.027\n",
      "      --- Outer Iter 75: norm_f = 51.8748, mu=112.528, |x|=0.477961, |J|=700.104\n",
      "      --- Outer Iter 76: norm_f = 51.8747, mu=135.848, |x|=0.477984, |J|=700.264\n",
      "      --- Outer Iter 77: norm_f = 51.8745, mu=343.951, |x|=0.477993, |J|=700.296\n",
      "      --- Outer Iter 78: norm_f = 51.8743, mu=354.404, |x|=0.477997, |J|=700.306\n",
      "      --- Outer Iter 79: norm_f = 51.8742, mu=354.435, |x|=0.478002, |J|=700.331\n",
      "      --- Outer Iter 80: norm_f = 51.8741, mu=339.248, |x|=0.478007, |J|=700.36\n",
      "      --- Outer Iter 81: norm_f = 51.874, mu=233.476, |x|=0.478012, |J|=700.391\n",
      "      --- Outer Iter 82: norm_f = 51.8739, mu=121.347, |x|=0.478021, |J|=700.436\n",
      "      --- Outer Iter 83: norm_f = 51.8737, mu=115.228, |x|=0.478036, |J|=700.522\n",
      "      --- Outer Iter 84: norm_f = 51.8736, mu=241.658, |x|=0.478044, |J|=700.565\n",
      "      --- Outer Iter 85: norm_f = 51.8736, mu=253.437, |x|=0.478051, |J|=700.6\n",
      "      --- Outer Iter 86: norm_f = 51.8735, mu=257.975, |x|=0.478057, |J|=700.631\n",
      "      --- Outer Iter 87: norm_f = 51.8734, mu=258.266, |x|=0.478063, |J|=700.66\n",
      "      --- Outer Iter 88: norm_f = 51.8733, mu=258.072, |x|=0.478068, |J|=700.689\n",
      "      --- Outer Iter 89: norm_f = 51.8733, mu=250.695, |x|=0.478074, |J|=700.717\n",
      "      --- Outer Iter 90: norm_f = 51.8732, mu=218.794, |x|=0.47808, |J|=700.746\n",
      "      --- Outer Iter 91: norm_f = 51.8732, mu=169.978, |x|=0.478086, |J|=700.779\n",
      "      --- Outer Iter 92: norm_f = 51.8731, mu=149.252, |x|=0.478094, |J|=700.82\n",
      "      --- Outer Iter 93: norm_f = 51.873, mu=149.252, |x|=0.478103, |J|=700.868\n",
      "      --- Outer Iter 94: norm_f = 51.873, mu=198.053, |x|=0.478112, |J|=700.918\n",
      "      --- Outer Iter 95: norm_f = 51.873, mu=228.401, |x|=0.478118, |J|=700.942\n",
      "      --- Outer Iter 96: norm_f = 51.8729, mu=233.419, |x|=0.478123, |J|=700.96\n",
      "      --- Outer Iter 97: norm_f = 51.8729, mu=233.419, |x|=0.478127, |J|=700.981\n",
      "      --- Outer Iter 98: norm_f = 51.8728, mu=221.234, |x|=0.478132, |J|=701.003\n",
      "      Least squares message = Both actual and predicted relative reductions in the sum of squares are at most 1e-06\n",
      "    Sum of Chi^2 = 51.8728 (92 data params - 31 model params = expected mean of 61; p-value = 0.791139)\n",
      "    Completed in 3.1s\n",
      "    Iteration 1 took 3.1s\n",
      "    \n",
      "  --- Iterative GST: Iter 2 of 5  168 circuits ---: \n",
      "    --- chi2 GST ---\n",
      "      --- Outer Iter 0: norm_f = 157.049, mu=1, |x|=0.478137, |J|=971.846\n",
      "      --- Outer Iter 1: norm_f = 154.464, mu=187.611, |x|=0.507081, |J|=928.65\n",
      "      --- Outer Iter 2: norm_f = 122.935, mu=62.5369, |x|=0.486728, |J|=948.515\n",
      "      --- Outer Iter 3: norm_f = 122.649, mu=45.7954, |x|=0.485412, |J|=947.724\n",
      "      --- Outer Iter 4: norm_f = 122.629, mu=1669.25, |x|=0.485219, |J|=947.82\n",
      "      --- Outer Iter 5: norm_f = 122.625, mu=603.716, |x|=0.485201, |J|=947.666\n",
      "      --- Outer Iter 6: norm_f = 122.62, mu=201.239, |x|=0.485175, |J|=947.27\n",
      "      --- Outer Iter 7: norm_f = 122.617, mu=214.625, |x|=0.48513, |J|=946.532\n",
      "      --- Outer Iter 8: norm_f = 122.61, mu=1709.85, |x|=0.485104, |J|=946.238\n",
      "      --- Outer Iter 9: norm_f = 122.609, mu=569.95, |x|=0.485091, |J|=946.143\n",
      "      --- Outer Iter 10: norm_f = 122.606, mu=189.983, |x|=0.485073, |J|=945.851\n",
      "      --- Outer Iter 11: norm_f = 122.601, mu=63.3277, |x|=0.485036, |J|=945.099\n",
      "      --- Outer Iter 12: norm_f = 122.595, mu=58.6068, |x|=0.484986, |J|=943.655\n",
      "      --- Outer Iter 13: norm_f = 122.594, mu=544.714, |x|=0.484929, |J|=943.637\n",
      "      --- Outer Iter 14: norm_f = 122.593, mu=624.092, |x|=0.484919, |J|=943.495\n",
      "      --- Outer Iter 15: norm_f = 122.592, mu=645.156, |x|=0.48491, |J|=943.369\n",
      "      --- Outer Iter 16: norm_f = 122.592, mu=645.495, |x|=0.484903, |J|=943.262\n",
      "      --- Outer Iter 17: norm_f = 122.591, mu=634.571, |x|=0.484896, |J|=943.162\n",
      "      --- Outer Iter 18: norm_f = 122.591, mu=513.144, |x|=0.48489, |J|=943.067\n",
      "      --- Outer Iter 19: norm_f = 122.59, mu=304.011, |x|=0.484884, |J|=942.955\n",
      "      --- Outer Iter 20: norm_f = 122.59, mu=241.709, |x|=0.484874, |J|=942.783\n",
      "      --- Outer Iter 21: norm_f = 122.59, mu=284.347, |x|=0.484864, |J|=942.616\n",
      "      --- Outer Iter 22: norm_f = 122.589, mu=576.507, |x|=0.484859, |J|=942.514\n",
      "      --- Outer Iter 23: norm_f = 122.589, mu=575.688, |x|=0.484853, |J|=942.433\n",
      "      --- Outer Iter 24: norm_f = 122.589, mu=478.998, |x|=0.484849, |J|=942.359\n",
      "      --- Outer Iter 25: norm_f = 122.588, mu=235.049, |x|=0.484844, |J|=942.273\n"
     ]
    },
    {
     "name": "stdout",
     "output_type": "stream",
     "text": [
      "      --- Outer Iter 26: norm_f = 122.588, mu=147.522, |x|=0.484836, |J|=942.112\n",
      "      --- Outer Iter 27: norm_f = 122.588, mu=225.336, |x|=0.484826, |J|=941.926\n",
      "      --- Outer Iter 28: norm_f = 122.587, mu=468.542, |x|=0.484821, |J|=941.831\n",
      "      --- Outer Iter 29: norm_f = 122.587, mu=469.768, |x|=0.484816, |J|=941.761\n",
      "      --- Outer Iter 30: norm_f = 122.587, mu=463.291, |x|=0.484813, |J|=941.698\n",
      "      --- Outer Iter 31: norm_f = 122.587, mu=359.159, |x|=0.484809, |J|=941.636\n",
      "      --- Outer Iter 32: norm_f = 122.587, mu=188.029, |x|=0.484805, |J|=941.56\n",
      "      --- Outer Iter 33: norm_f = 122.587, mu=151.217, |x|=0.484799, |J|=941.427\n",
      "      --- Outer Iter 34: norm_f = 122.586, mu=302.542, |x|=0.484795, |J|=941.351\n",
      "      --- Outer Iter 35: norm_f = 122.586, mu=309.207, |x|=0.484791, |J|=941.279\n",
      "      --- Outer Iter 36: norm_f = 122.586, mu=327.028, |x|=0.484788, |J|=941.212\n",
      "      --- Outer Iter 37: norm_f = 122.586, mu=341.732, |x|=0.484785, |J|=941.149\n",
      "      --- Outer Iter 38: norm_f = 122.586, mu=346.323, |x|=0.484782, |J|=941.09\n",
      "      --- Outer Iter 39: norm_f = 122.586, mu=346.454, |x|=0.484779, |J|=941.034\n",
      "      --- Outer Iter 40: norm_f = 122.586, mu=345.769, |x|=0.484776, |J|=940.981\n",
      "      Least squares message = Both actual and predicted relative reductions in the sum of squares are at most 1e-06\n",
      "    Sum of Chi^2 = 122.586 (168 data params - 31 model params = expected mean of 137; p-value = 0.805848)\n",
      "    Completed in 1.8s\n",
      "    Iteration 2 took 1.8s\n",
      "    \n",
      "  --- Iterative GST: Iter 3 of 5  285 circuits ---: \n",
      "    --- chi2 GST ---\n",
      "      --- Outer Iter 0: norm_f = 271.425, mu=1, |x|=0.484774, |J|=1281.34\n",
      "      --- Outer Iter 1: norm_f = 226.915, mu=63.183, |x|=0.489936, |J|=1269.7\n",
      "      --- Outer Iter 2: norm_f = 226.002, mu=21.061, |x|=0.487586, |J|=1273.08\n",
      "      --- Outer Iter 3: norm_f = 226.002, mu=76.2968, |x|=0.487565, |J|=1272.89\n",
      "      --- Outer Iter 4: norm_f = 226.001, mu=74.4239, |x|=0.48756, |J|=1272.68\n",
      "      Least squares message = Both actual and predicted relative reductions in the sum of squares are at most 1e-06\n",
      "    Sum of Chi^2 = 226.001 (285 data params - 31 model params = expected mean of 254; p-value = 0.896382)\n",
      "    Completed in 0.4s\n",
      "    Iteration 3 took 0.5s\n",
      "    \n",
      "  --- Iterative GST: Iter 4 of 5  448 circuits ---: \n",
      "    --- chi2 GST ---\n",
      "      --- Outer Iter 0: norm_f = 440.323, mu=1, |x|=0.487551, |J|=1691.02\n",
      "      --- Outer Iter 1: norm_f = 414.512, mu=92.1912, |x|=0.48878, |J|=1680.14\n",
      "      --- Outer Iter 2: norm_f = 414.505, mu=173.929, |x|=0.488282, |J|=1681.35\n",
      "      --- Outer Iter 3: norm_f = 414.212, mu=139.762, |x|=0.488262, |J|=1681.39\n",
      "      --- Outer Iter 4: norm_f = 414.183, mu=1117.56, |x|=0.488042, |J|=1681.66\n",
      "      --- Outer Iter 5: norm_f = 414.18, mu=1528.6, |x|=0.488036, |J|=1681.2\n",
      "      --- Outer Iter 6: norm_f = 414.173, mu=1567.06, |x|=0.488026, |J|=1680.82\n",
      "      --- Outer Iter 7: norm_f = 414.169, mu=1567.72, |x|=0.488016, |J|=1680.47\n",
      "      --- Outer Iter 8: norm_f = 414.167, mu=1531.03, |x|=0.48801, |J|=1680.14\n",
      "      --- Outer Iter 9: norm_f = 414.165, mu=1163.15, |x|=0.488005, |J|=1679.81\n",
      "      --- Outer Iter 10: norm_f = 414.163, mu=631.351, |x|=0.488, |J|=1679.39\n",
      "      --- Outer Iter 11: norm_f = 414.159, mu=531.629, |x|=0.487994, |J|=1678.7\n",
      "      --- Outer Iter 12: norm_f = 414.159, mu=1040.58, |x|=0.48799, |J|=1678.04\n",
      "      --- Outer Iter 13: norm_f = 414.156, mu=1205.38, |x|=0.487988, |J|=1677.7\n",
      "      --- Outer Iter 14: norm_f = 414.154, mu=1243.9, |x|=0.487982, |J|=1677.42\n",
      "      --- Outer Iter 15: norm_f = 414.152, mu=1244.19, |x|=0.487977, |J|=1677.16\n",
      "      --- Outer Iter 16: norm_f = 414.151, mu=1210.45, |x|=0.487974, |J|=1676.91\n",
      "      --- Outer Iter 17: norm_f = 414.15, mu=917.856, |x|=0.487972, |J|=1676.67\n",
      "      --- Outer Iter 18: norm_f = 414.148, mu=516.552, |x|=0.48797, |J|=1676.35\n",
      "      --- Outer Iter 19: norm_f = 414.147, mu=449.863, |x|=0.487968, |J|=1675.85\n",
      "      --- Outer Iter 20: norm_f = 414.147, mu=894.918, |x|=0.487968, |J|=1675.37\n",
      "      --- Outer Iter 21: norm_f = 414.145, mu=1024.27, |x|=0.487967, |J|=1675.13\n",
      "      --- Outer Iter 22: norm_f = 414.144, mu=1050.49, |x|=0.487964, |J|=1674.92\n",
      "      --- Outer Iter 23: norm_f = 414.143, mu=1050.49, |x|=0.487962, |J|=1674.73\n",
      "      --- Outer Iter 24: norm_f = 414.142, mu=988.971, |x|=0.487961, |J|=1674.55\n",
      "      --- Outer Iter 25: norm_f = 414.141, mu=660.837, |x|=0.487961, |J|=1674.36\n",
      "      --- Outer Iter 26: norm_f = 414.141, mu=366.894, |x|=0.487961, |J|=1674.09\n",
      "      --- Outer Iter 27: norm_f = 414.14, mu=361.317, |x|=0.487962, |J|=1673.66\n",
      "      --- Outer Iter 28: norm_f = 414.139, mu=774.823, |x|=0.487962, |J|=1673.46\n",
      "      --- Outer Iter 29: norm_f = 414.139, mu=806.301, |x|=0.487963, |J|=1673.28\n",
      "      --- Outer Iter 30: norm_f = 414.138, mu=812.331, |x|=0.487963, |J|=1673.11\n",
      "      --- Outer Iter 31: norm_f = 414.138, mu=812.331, |x|=0.487963, |J|=1672.95\n",
      "      --- Outer Iter 32: norm_f = 414.137, mu=803.756, |x|=0.487964, |J|=1672.8\n",
      "      --- Outer Iter 33: norm_f = 414.137, mu=737.233, |x|=0.487964, |J|=1672.65\n",
      "      --- Outer Iter 34: norm_f = 414.136, mu=589.488, |x|=0.487965, |J|=1672.49\n",
      "      --- Outer Iter 35: norm_f = 414.136, mu=483.124, |x|=0.487967, |J|=1672.31\n",
      "      --- Outer Iter 36: norm_f = 414.136, mu=479.464, |x|=0.487969, |J|=1672.1\n",
      "      --- Outer Iter 37: norm_f = 414.135, mu=551.474, |x|=0.487972, |J|=1671.9\n",
      "      --- Outer Iter 38: norm_f = 414.135, mu=818.484, |x|=0.487974, |J|=1671.75\n",
      "      --- Outer Iter 39: norm_f = 414.135, mu=836.538, |x|=0.487975, |J|=1671.63\n",
      "      --- Outer Iter 40: norm_f = 414.134, mu=836.248, |x|=0.487976, |J|=1671.53\n",
      "      Least squares message = Both actual and predicted relative reductions in the sum of squares are at most 1e-06\n",
      "    Sum of Chi^2 = 414.134 (448 data params - 31 model params = expected mean of 417; p-value = 0.530434)\n",
      "    Completed in 3.9s\n",
      "    Iteration 4 took 4.1s\n",
      "    \n",
      "  --- Iterative GST: Iter 5 of 5  616 circuits ---: \n",
      "    --- chi2 GST ---\n",
      "      --- Outer Iter 0: norm_f = 585.583, mu=1, |x|=0.487977, |J|=2047.49\n",
      "      --- Outer Iter 1: norm_f = 568.911, mu=159.225, |x|=0.488764, |J|=2032.06\n",
      "      --- Outer Iter 2: norm_f = 568.726, mu=53.0749, |x|=0.48823, |J|=2033.75\n",
      "      --- Outer Iter 3: norm_f = 568.726, mu=522.26, |x|=0.488221, |J|=2033.64\n",
      "      --- Outer Iter 4: norm_f = 568.725, mu=707.819, |x|=0.488224, |J|=2033.51\n",
      "      --- Outer Iter 5: norm_f = 568.725, mu=727.554, |x|=0.488225, |J|=2033.42\n",
      "      Least squares message = Both actual and predicted relative reductions in the sum of squares are at most 1e-06\n",
      "    Sum of Chi^2 = 568.725 (616 data params - 31 model params = expected mean of 585; p-value = 0.677513)\n",
      "    Completed in 0.8s\n",
      "    Iteration 5 took 1.0s\n",
      "    \n",
      "    Last iteration:\n",
      "    --- dlogl GST ---\n",
      "      --- Outer Iter 0: norm_f = 284.691, mu=1, |x|=0.488226, |J|=1437.43\n",
      "      --- Outer Iter 1: norm_f = 284.676, mu=77.8981, |x|=0.487991, |J|=1438.04\n",
      "      --- Outer Iter 2: norm_f = 284.676, mu=660.276, |x|=0.487993, |J|=1437.98\n",
      "      --- Outer Iter 3: norm_f = 284.675, mu=660.659, |x|=0.487995, |J|=1437.93\n",
      "      Least squares message = Both actual and predicted relative reductions in the sum of squares are at most 1e-06\n",
      "    2*Delta(log(L)) = 569.351 (616 data params - 31 model params = expected mean of 585; p-value = 0.670797)\n",
      "    Completed in 0.6s\n",
      "    Final optimization took 0.6s\n",
      "    \n",
      "  Iterative GST Total Time: 11.1s\n",
      "      -- Performing 'stdgaugeopt' gauge optimization on CPTP estimate --\n",
      "      -- Performing 'Spam 0.001' gauge optimization on CPTP estimate --\n",
      "      -- Performing 'Spam 0.001+v' gauge optimization on CPTP estimate --\n",
      "-- Std Practice:  Iter 3 of 3  (Target) --: \n",
      "      -- Performing 'stdgaugeopt' gauge optimization on Target estimate --\n",
      "      -- Performing 'Spam 0.001' gauge optimization on Target estimate --\n",
      "      -- Performing 'Spam 0.001+v' gauge optimization on Target estimate --\n",
      "Running idle tomography\n",
      "Computing switchable properties\n",
      "Found standard clifford compilation from smq1Q_XYI\n",
      "Found standard clifford compilation from smq1Q_XYI\n",
      "Found standard clifford compilation from smq1Q_XYI\n"
     ]
    },
    {
     "name": "stderr",
     "output_type": "stream",
     "text": [
      "/Users/sserita/Documents/repos/pyGSTi/pygsti/objects/evaltree.py:192: UserWarning:\n",
      "\n",
      "Created an evaluation tree that is inefficient: tree-size > 3 * #circuits !\n",
      "This is likely due to the fact that the circuits being simulated do not have a\n",
      "periodic structure. Consider using a different forward simulator (e.g. MapForwardSimulator).\n",
      "\n",
      "/Users/sserita/Documents/repos/pyGSTi/pygsti/objects/evaltree.py:192: UserWarning:\n",
      "\n",
      "Created an evaluation tree that is inefficient: tree-size > 10 * #circuits !\n",
      "This is likely due to the fact that the circuits being simulated do not have a\n",
      "periodic structure. Consider using a different forward simulator (e.g. MapForwardSimulator).\n",
      "\n"
     ]
    }
   ],
   "source": [
    "results_std = pygsti.run_stdpractice_gst(ds, target_model, prep_fiducials, meas_fiducials, germs,\n",
    "                                        maxLengths, verbosity=4, modes=\"TP,CPTP,Target\",\n",
    "                                        gaugeopt_suite=('stdgaugeopt','toggleValidSpam'))\n",
    "\n",
    "# Generate a report with \"TP\", \"CPTP\", and \"Target\" estimates\n",
    "pygsti.report.construct_standard_report(\n",
    "    results_std, title=\"Post StdPractice Report\", verbosity=1\n",
    ").write_html(\"../tutorial_files/exampleStdReport\", auto_open=True, verbosity=1)"
   ]
  },
  {
   "cell_type": "markdown",
   "metadata": {},
   "source": [
    "### Reports with confidence regions\n",
    "To display confidence intervals for reported quantities, you must do two things:\n",
    "\n",
    "1. you must specify the `confidenceLevel` argument to `construct_standard_report`.\n",
    "2. the estimate(s) being reported must have a valid confidence-region-factory.\n",
    "\n",
    "Constructing a factory often means computing a Hessian, which can be time consuming, and so this is *not* done automatically.  Here we demonstrate how to construct a valid factory for the \"Spam 0.001\" gauge-optimization of the \"CPTP\" estimate by computing and then projecting the Hessian of the likelihood function. "
   ]
  },
  {
   "cell_type": "code",
   "execution_count": 15,
   "metadata": {},
   "outputs": [
    {
     "name": "stderr",
     "output_type": "stream",
     "text": [
      "/Users/sserita/Documents/repos/pyGSTi/pygsti/protocols/estimate.py:302: UserWarning:\n",
      "\n",
      "Confidence region factory for CRFkey(model='Spam 0.001', circuit_list='final') already exists - overwriting!\n",
      "\n"
     ]
    },
    {
     "name": "stdout",
     "output_type": "stream",
     "text": [
      "    \n",
      "--- Hessian Projector Optimization from separate SPAM and Gate weighting ---\n",
      "  Resulting intrinsic errors: 0.0119644 (gates), 0.0075392 (spam)\n",
      "  Resulting sqrt(mean(operationCIs**2)): 0.0325806\n",
      "  Resulting sqrt(mean(spamCIs**2)): 0.0125152\n",
      "Running idle tomography\n",
      "Computing switchable properties\n",
      "Found standard clifford compilation from smq1Q_XYI\n",
      "Found standard clifford compilation from smq1Q_XYI\n",
      "Found standard clifford compilation from smq1Q_XYI\n"
     ]
    }
   ],
   "source": [
    "#Construct and initialize a \"confidence region factory\" for the CPTP estimate\n",
    "crfact = results_std.estimates[\"CPTP\"].add_confidence_region_factory('Spam 0.001', 'final')\n",
    "crfact.compute_hessian(comm=None) #we could use more processors\n",
    "crfact.project_hessian('intrinsic error')\n",
    "\n",
    "pygsti.report.construct_standard_report(\n",
    "    results_std, title=\"Post StdPractice Report (w/CIs on CPTP)\",\n",
    "    confidence_level=95, verbosity=1\n",
    ").write_html(\"../tutorial_files/exampleStdReport2\", auto_open=True, verbosity=1)"
   ]
  },
  {
   "cell_type": "markdown",
   "metadata": {},
   "source": [
    "### Reports with multiple *different* data sets\n",
    "We've already seen above that `construct_standard_report` can be given a dictionary of `Results` objects instead of a single one.  This allows the creation of reports containing estimates for different `DataSet`s (each `Results` object only holds estimates for a single `DataSet`).  Furthermore, when the data sets have the same operation sequences, they will be compared within a tab of the HTML report.\n",
    "\n",
    "Below, we generate a new data set with the same sequences as the one loaded at the beginning of this tutorial, proceed to run standard-practice GST on that dataset, and create a report of the results along with those of the original dataset.  Look at the **\"Data Comparison\" tab** within the gauge-invariant error metrics category."
   ]
  },
  {
   "cell_type": "code",
   "execution_count": 16,
   "metadata": {
    "scrolled": true
   },
   "outputs": [
    {
     "name": "stdout",
     "output_type": "stream",
     "text": [
      "--- Circuit Creation ---\n",
      "   616 circuits created\n",
      "   Dataset has 1456 entries: 616 utilized, 0 requested circuits were missing\n",
      "-- Std Practice:  Iter 1 of 3  (TP) --: \n",
      "  --- Iterative GST: Iter 1 of 5  92 circuits ---: \n",
      "    --- chi2 GST ---\n",
      "    Sum of Chi^2 = 50.2567 (92 data params - 31 model params = expected mean of 61; p-value = 0.835246)\n",
      "    Completed in 0.2s\n",
      "    Iteration 1 took 0.2s\n",
      "    \n",
      "  --- Iterative GST: Iter 2 of 5  168 circuits ---: \n",
      "    --- chi2 GST ---\n",
      "    Sum of Chi^2 = 112.85 (168 data params - 31 model params = expected mean of 137; p-value = 0.934965)\n",
      "    Completed in 0.1s\n",
      "    Iteration 2 took 0.2s\n",
      "    \n",
      "  --- Iterative GST: Iter 3 of 5  285 circuits ---: \n",
      "    --- chi2 GST ---\n",
      "    Sum of Chi^2 = 222.419 (285 data params - 31 model params = expected mean of 254; p-value = 0.924211)\n",
      "    Completed in 0.2s\n",
      "    Iteration 3 took 0.3s\n",
      "    \n",
      "  --- Iterative GST: Iter 4 of 5  448 circuits ---: \n",
      "    --- chi2 GST ---\n",
      "    Sum of Chi^2 = 405.964 (448 data params - 31 model params = expected mean of 417; p-value = 0.641484)\n",
      "    Completed in 0.3s\n",
      "    Iteration 4 took 0.4s\n",
      "    \n",
      "  --- Iterative GST: Iter 5 of 5  616 circuits ---: \n",
      "    --- chi2 GST ---\n",
      "    Sum of Chi^2 = 607.118 (616 data params - 31 model params = expected mean of 585; p-value = 0.255239)\n",
      "    Completed in 0.4s\n",
      "    Iteration 5 took 0.5s\n",
      "    \n",
      "    Last iteration:\n",
      "    --- dlogl GST ---\n",
      "    2*Delta(log(L)) = 607.155 (616 data params - 31 model params = expected mean of 585; p-value = 0.254907)\n",
      "    Completed in 0.4s\n",
      "    Final optimization took 0.4s\n",
      "    \n",
      "  Iterative GST Total Time: 2.0s\n",
      "-- Std Practice:  Iter 2 of 3  (CPTP) --: \n",
      "  --- Iterative GST: Iter 1 of 5  92 circuits ---: \n",
      "    --- chi2 GST ---\n",
      "    Sum of Chi^2 = 50.2601 (92 data params - 31 model params = expected mean of 61; p-value = 0.83516)\n",
      "    Completed in 3.1s\n",
      "    Iteration 1 took 3.1s\n",
      "    \n",
      "  --- Iterative GST: Iter 2 of 5  168 circuits ---: \n",
      "    --- chi2 GST ---\n",
      "    Sum of Chi^2 = 112.852 (168 data params - 31 model params = expected mean of 137; p-value = 0.934946)\n",
      "    Completed in 1.1s\n",
      "    Iteration 2 took 1.2s\n",
      "    \n",
      "  --- Iterative GST: Iter 3 of 5  285 circuits ---: \n",
      "    --- chi2 GST ---\n",
      "    Sum of Chi^2 = 222.42 (285 data params - 31 model params = expected mean of 254; p-value = 0.9242)\n",
      "    Completed in 1.3s\n",
      "    Iteration 3 took 1.3s\n",
      "    \n",
      "  --- Iterative GST: Iter 4 of 5  448 circuits ---: \n",
      "    --- chi2 GST ---\n",
      "    Sum of Chi^2 = 405.971 (448 data params - 31 model params = expected mean of 417; p-value = 0.641398)\n",
      "    Completed in 0.6s\n",
      "    Iteration 4 took 0.7s\n",
      "    \n",
      "  --- Iterative GST: Iter 5 of 5  616 circuits ---: \n",
      "    --- chi2 GST ---\n",
      "    Sum of Chi^2 = 607.12 (616 data params - 31 model params = expected mean of 585; p-value = 0.255226)\n",
      "    Completed in 0.8s\n",
      "    Iteration 5 took 1.0s\n",
      "    \n",
      "    Last iteration:\n",
      "    --- dlogl GST ---\n",
      "    2*Delta(log(L)) = 607.156 (616 data params - 31 model params = expected mean of 585; p-value = 0.254895)\n",
      "    Completed in 0.7s\n",
      "    Final optimization took 0.7s\n",
      "    \n",
      "  Iterative GST Total Time: 8.0s\n",
      "-- Std Practice:  Iter 3 of 3  (Target) --: \n",
      "Running idle tomography\n",
      "Computing switchable properties\n",
      "Found standard clifford compilation from smq1Q_XYI\n",
      "Found standard clifford compilation from smq1Q_XYI\n",
      "Found standard clifford compilation from smq1Q_XYI\n",
      "Found standard clifford compilation from smq1Q_XYI\n",
      "Found standard clifford compilation from smq1Q_XYI\n",
      "Found standard clifford compilation from smq1Q_XYI\n"
     ]
    },
    {
     "name": "stderr",
     "output_type": "stream",
     "text": [
      "/Users/sserita/Documents/repos/pyGSTi/pygsti/report/factory.py:1281: UserWarning:\n",
      "\n",
      "Not all data sets are comparable - no comparisions will be made.\n",
      "\n"
     ]
    }
   ],
   "source": [
    "#Make another dataset & estimates\n",
    "depol_gateset = target_model.depolarize(op_noise=0.1)\n",
    "datagen_gateset = depol_gateset.rotate((0.05,0,0.03))\n",
    "\n",
    "#Compute the sequences needed to perform Long Sequence GST on \n",
    "# this Model with sequences up to lenth 512\n",
    "circuit_list = pygsti.construction.create_lsgst_circuits(\n",
    "    smq1Q_XYI.target_model(), smq1Q_XYI.prep_fiducials(), smq1Q_XYI.meas_fiducials(),\n",
    "    smq1Q_XYI.germs(), [1,2,4,8,16,32,64,128,256,512])\n",
    "ds2 = pygsti.construction.simulate_data(datagen_gateset, circuit_list, num_samples=1000,\n",
    "                                             sample_error='binomial', seed=2018)\n",
    "results_std2 = pygsti.run_stdpractice_gst(ds2, target_model, prep_fiducials, meas_fiducials, germs,\n",
    "                                     maxLengths, verbosity=3, modes=\"TP,CPTP,Target\",\n",
    "                                     gaugeopt_suite=('stdgaugeopt','toggleValidSpam'))\n",
    "\n",
    "pygsti.report.construct_standard_report(\n",
    "    {'DS1': results_std, 'DS2': results_std2},\n",
    "    title=\"Example Multi-Dataset Report\", verbosity=1\n",
    ").write_html(\"../tutorial_files/exampleMultiDataSetReport\", auto_open=True, verbosity=1)"
   ]
  },
  {
   "cell_type": "markdown",
   "metadata": {},
   "source": [
    "### Other cool `Report` tricks\n",
    "Finally, let us highlight a few of the additional arguments one can supply to the respective `Report` output methods that allows further control over what gets included in the generated report.\n",
    "\n",
    "- Setting the `link_to` argument to a tuple of `'pkl'`, `'tex'`, and/or `'pdf'` will create hyperlinks within the plots or below the tables of the HTML linking to Python pickle, LaTeX source, and PDF versions of the content, respectively.  The Python pickle files for tables contain pickled pandas `DataFrame` objects, wheras those of plots contain ordinary Python dictionaries of the data that is plotted.  Applies to HTML reports only.\n",
    "\n",
    "- Setting the `brevity` argument to an integer higher than $0$ (the default) will reduce the amount of information included in the report (for details on what is included for each value, see the doc string).  Using `brevity > 0` will reduce the time required to create, and later load, the report, as well as the output file/folder size.  This applies to both HTML and PDF reports.\n",
    "\n",
    "Below, we demonstrate both of these options in very brief (`brevity=4`) report with links to pickle and PDF files.  Note that to generate the PDF files you must have `pdflatex` installed."
   ]
  },
  {
   "cell_type": "code",
   "execution_count": 17,
   "metadata": {},
   "outputs": [
    {
     "name": "stdout",
     "output_type": "stream",
     "text": [
      "Running idle tomography\n",
      "Computing switchable properties\n",
      "Found standard clifford compilation from smq1Q_XYI\n",
      "Found standard clifford compilation from smq1Q_XYI\n",
      "Found standard clifford compilation from smq1Q_XYI\n"
     ]
    }
   ],
   "source": [
    "pygsti.report.construct_standard_report(\n",
    "    results_std, title=\"Example Brief Report\", verbosity=1\n",
    ").write_html(\"../tutorial_files/exampleBriefReport\", auto_open=True, verbosity=1,\n",
    "             brevity=4, link_to=('pkl', 'pdf'))"
   ]
  },
  {
   "cell_type": "markdown",
   "metadata": {
    "collapsed": true
   },
   "source": [
    "## Advanced Reports: `Report.write_notebook`\n",
    "In addition to the standard HTML-page reports demonstrated above, pyGSTi is able to generate a Jupyter notebook containing the Python commands to create the figures and tables within a general report.  This is facilitated\n",
    "by `Workspace` objects, which are factories for figures and tables (see previous tutorials).  By calling `Report.write_notebook`, all of the relevant `Workspace` initialization and calls are dumped to a new notebook file, which can be run (either fully or partially) by the user at their convenience.  Creating such \"report notebooks\" has the advantage that the user may insert Python code amidst the figure and table generation calls to inspect or modify what is display in a highly customizable fashion.  The chief disadvantages of report notebooks is that they require the user to 1) have a Jupyter server up and running and 2) to run the notebook before any figures are displayed.\n",
    "\n",
    "The line below demonstrates how to create a report notebook using `write_notebook`.  Note that the argument list is very similar to the other `Report` output methods."
   ]
  },
  {
   "cell_type": "code",
   "execution_count": 19,
   "metadata": {},
   "outputs": [
    {
     "name": "stdout",
     "output_type": "stream",
     "text": [
      "Running idle tomography\n",
      "Computing switchable properties\n",
      "Found standard clifford compilation from smq1Q_XYI\n",
      "Report Notebook created as ../tutorial_files/exampleReport.ipynb\n"
     ]
    }
   ],
   "source": [
    "pygsti.report.construct_standard_report(\n",
    "    results, title=\"GST Example Report Notebook\", confidence_level=None, verbosity=3\n",
    ").write_notebook(\"../tutorial_files/exampleReport.ipynb\", auto_open=True, connected=False, verbosity=3)"
   ]
  },
  {
   "cell_type": "markdown",
   "metadata": {},
   "source": [
    "## Multi-qubit reports\n",
    "The dimension of the density matrix space with with more than 2 qubits starts to become quite large, and Models for 3+ qubits rarely allow every element of the operation process matrices to vary independently.  As such, many of the figures generated by `construct_standard_report` are both too unwieldy (displaying a $64 \\times 64$ grid of colored boxes for each operation) and not very helpful (you don't often care about what each element of an operation matrix is).  For this purpose, we are developing a report that doesn't just dump out and analyze operation matrices as a whole, but looks at a `Model`'s structure to determine how best to report quantities.  This \"n-qubit report\" is invoked using `pygsti.report.construct_nqnoise_report`, and has similar arguments to `construct_standard_report`.  It is, however <b style=\"color:red\">still under development</b>, and while you're welcome to try it out, it may crash or not work in other weird ways."
   ]
  }
 ],
 "metadata": {
  "kernelspec": {
   "display_name": "Python 3",
   "language": "python",
   "name": "python3"
  },
  "language_info": {
   "codemirror_mode": {
    "name": "ipython",
    "version": 3
   },
   "file_extension": ".py",
   "mimetype": "text/x-python",
   "name": "python",
   "nbconvert_exporter": "python",
   "pygments_lexer": "ipython3",
   "version": "3.8.6"
  }
 },
 "nbformat": 4,
 "nbformat_minor": 2
}
