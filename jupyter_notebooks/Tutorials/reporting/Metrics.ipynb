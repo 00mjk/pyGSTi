{
 "cells": [
  {
   "cell_type": "markdown",
   "metadata": {},
   "source": [
    "# Metrics in pyGSTi\n",
    "PyGSTi contains implementation of common ways to compare quantum processes and models.  You may just want to `import pygsti` just for this functionality, as many of the functions below act on standard NumPy arrays.  Here are some of the most common functions (this tutorial is <font style=\"color:red\">under construction, and we plan to expand it in future releases.  We apologize for it's current brevity</font>.\n",
    "\n",
    "Let's begin by getting some gate (process) matrices for several simple 1-qubit operations.  Note that `Gx`, `Gy` and `Gi` below are superoperator matrices in the Pauli basis - they're $4 \\times 4$ *real* matrices.  We do this for a model pack (see the [model packs tutorial](../objects/advanced/ModelPacks.ipynb)) and a version of this model with slightly rotated gates."
   ]
  },
  {
   "cell_type": "code",
   "execution_count": null,
   "metadata": {},
   "outputs": [],
   "source": [
    "import pygsti.tools as tls\n",
    "import pygsti.report.reportables as rptbls\n",
    "from pygsti.modelpacks import smq1Q_XYI as std\n",
    "import numpy as np\n",
    "\n",
    "mdl = std.target_model()\n",
    "Gx = mdl[('Gxpi2',0)].to_dense()\n",
    "Gy = mdl[('Gypi2',0)].to_dense()\n",
    "Gi = mdl[()].to_dense()\n",
    "\n",
    "mdl_overrot = mdl.rotate( (0.1,0,0) )\n",
    "Gx_overrot = mdl_overrot[('Gxpi2',0)].to_dense()\n",
    "Gy_overrot = mdl_overrot[('Gypi2',0)].to_dense()\n",
    "Gi_overrot = mdl_overrot[()].to_dense()\n",
    "\n",
    "tls.print_mx(Gx_overrot)"
   ]
  },
  {
   "cell_type": "markdown",
   "metadata": {},
   "source": [
    "## Process matrix comparisons\n",
    "### Fidelities"
   ]
  },
  {
   "cell_type": "code",
   "execution_count": null,
   "metadata": {},
   "outputs": [],
   "source": [
    "rptbls.entanglement_infidelity(Gx, Gx_overrot, 'pp')"
   ]
  },
  {
   "cell_type": "code",
   "execution_count": null,
   "metadata": {},
   "outputs": [],
   "source": [
    "rptbls.avg_gate_infidelity(Gx, Gx_overrot, 'pp')"
   ]
  },
  {
   "cell_type": "code",
   "execution_count": null,
   "metadata": {},
   "outputs": [],
   "source": [
    "rptbls.eigenvalue_entanglement_infidelity(Gx, Gx_overrot, 'pp')"
   ]
  },
  {
   "cell_type": "code",
   "execution_count": null,
   "metadata": {},
   "outputs": [],
   "source": [
    "rptbls.eigenvalue_avg_gate_infidelity(Gx, Gx_overrot, 'pp')"
   ]
  },
  {
   "cell_type": "markdown",
   "metadata": {},
   "source": [
    "### Diamond distance"
   ]
  },
  {
   "cell_type": "code",
   "execution_count": null,
   "metadata": {},
   "outputs": [],
   "source": [
    "rptbls.half_diamond_norm(Gx, Gx_overrot, 'pp')"
   ]
  },
  {
   "cell_type": "code",
   "execution_count": null,
   "metadata": {},
   "outputs": [],
   "source": [
    "rptbls.eigenvalue_diamondnorm(Gx, Gx_overrot, 'pp')"
   ]
  },
  {
   "cell_type": "markdown",
   "metadata": {},
   "source": [
    "### Unitarity"
   ]
  },
  {
   "cell_type": "code",
   "execution_count": null,
   "metadata": {},
   "outputs": [],
   "source": [
    "tls.unitarity(Gx_overrot)"
   ]
  },
  {
   "cell_type": "markdown",
   "metadata": {},
   "source": [
    "### Jamiolkowski trace distance"
   ]
  },
  {
   "cell_type": "code",
   "execution_count": null,
   "metadata": {},
   "outputs": [],
   "source": [
    "rptbls.jtrace_diff(Gx, Gx_overrot, 'pp')"
   ]
  },
  {
   "cell_type": "markdown",
   "metadata": {},
   "source": [
    "## State comparisons\n",
    "\n",
    "### State fidelity"
   ]
  },
  {
   "cell_type": "code",
   "execution_count": null,
   "metadata": {},
   "outputs": [],
   "source": [
    "rhoA = tls.ppvec_to_stdmx(mdl['rho0'].to_dense())\n",
    "rhoB = np.array( [ [0.9,   0],\n",
    "                   [ 0,  0.1]], complex)\n",
    "tls.fidelity(rhoA, rhoB)"
   ]
  }
 ],
 "metadata": {
  "kernelspec": {
   "display_name": "Python 3",
   "language": "python",
   "name": "python3"
  },
  "language_info": {
   "codemirror_mode": {
    "name": "ipython",
    "version": 3
   },
   "file_extension": ".py",
   "mimetype": "text/x-python",
   "name": "python",
   "nbconvert_exporter": "python",
   "pygments_lexer": "ipython3",
   "version": "3.8.6"
  }
 },
 "nbformat": 4,
 "nbformat_minor": 2
}
