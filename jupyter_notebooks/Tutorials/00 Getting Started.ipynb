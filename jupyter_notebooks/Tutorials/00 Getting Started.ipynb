{
 "cells": [
  {
   "cell_type": "markdown",
   "metadata": {
    "deletable": true,
    "editable": true
   },
   "source": [
    "# Getting started with pyGSTi and Gate Set Tomography"
   ]
  },
  {
   "cell_type": "markdown",
   "metadata": {
    "deletable": true,
    "editable": true
   },
   "source": [
    "The `pygsti` package provides multiple levels of abstraction over the core Gate Set Tomography (GST) algorithms.  This initial tutorial will show you how to run Gate Set Tomography on some simulated (generated) data, hopefully giving you an overall sense of what it takes (and how easy it is!) to run GST.  Subsequent tutorials will delve into the details of `pygsti` objects and algorithms, and how to use them in detail.\n",
    "\n",
    "To run GST, we need three inputs:\n",
    "1. a \"**target gate set**\" which describes the desired, or ideal, operations we want our experimental hardware to perform.  In the example below, we use one of pyGSTi's \"standard\" gate sets - the on acting on a single qubit with the following operations:\n",
    "    - three gates: the identity, and $\\pi/2$ rotations around the $x$- and $y$-axes.\n",
    "    - a single state preparation in the $|0\\rangle$ state.\n",
    "    - a 2-outcome measurement with the label \"0\" associated with measuring $|0\\rangle$ and \"1\" with measuring $|1\\rangle$.\n",
    "    \n",
    "2. a list of GST sequences corresponding to the target gate set; essentially a list of what experiments (= gate sequences) we need to run.  Using a standard gate set makes things especially straightforward here, since the building blocks, called *germ* and *fiducial* sequences needed to make good GST sequences have already been computed.\n",
    "\n",
    "3. data, in the form of experimental outcome counts, for each of the required sequences.  In this example we'll generate \"fake\" or \"simulated\" data from a depolarized version of our ideal gate set.\n"
   ]
  },
  {
   "cell_type": "code",
   "execution_count": 1,
   "metadata": {
    "collapsed": false,
    "deletable": true,
    "editable": true
   },
   "outputs": [],
   "source": [
    "#Make print statements compatible with Python 2 and 3\n",
    "from __future__ import print_function\n",
    "\n",
    "#Import the pygsti module (always do this) and the standard XYI gate set\n",
    "import pygsti\n",
    "from pygsti.construction import std1Q_XYI\n",
    "\n",
    "# 1) get the target GateSet\n",
    "gs_target = std1Q_XYI.gs_target\n",
    "\n",
    "# 2) get the building blocks needed to specify which gate sequences are needed\n",
    "prep_fiducials, meas_fiducials = std1Q_XYI.prepStrs, std1Q_XYI.effectStrs\n",
    "germs = std1Q_XYI.germs\n",
    "maxLengths = [1,2,4,8,16,32] # roughly gives the length of the sequences used by GST\n",
    "\n",
    "# 3) generate \"fake\" data from a depolarized version of gs_target\n",
    "gs_datagen = gs_target.depolarize(gate_noise=0.1, spam_noise=0.001)\n",
    "listOfExperiments = pygsti.construction.make_lsgst_experiment_list(\n",
    "    gs_target, prep_fiducials, meas_fiducials, germs, maxLengths)\n",
    "ds = pygsti.construction.generate_fake_data(gs_datagen, listOfExperiments, nSamples=1000,\n",
    "                                            sampleError=\"binomial\", seed=1234)\n",
    "\n",
    "#Note: from listOfExperiments we can also create an empty dataset file\n",
    "# which has columns of zeros where actual data should go. \n",
    "pygsti.io.write_empty_dataset(\"tutorial_files/GettingStartedDataTemplate.txt\", listOfExperiments,\n",
    "                              \"## Columns = 1 count, count total\")\n",
    "# After replacing the zeros with actual data, the data set can be \n",
    "# loaded back into pyGSTi using the line below and used in the rest\n",
    "# of this tutorial. \n",
    "#ds = pygsti.io.load_dataset(\"tutorial_files/GettingStartedDataTemplate.txt\")\n"
   ]
  },
  {
   "cell_type": "markdown",
   "metadata": {
    "deletable": true,
    "editable": true
   },
   "source": [
    "Now that we have all of the inputs, we can run GST in a standard way using the `do_stdpractice_gst` high-level driver function.  This returns a `pygsti.report.Results` object, from which we can generate a report giving us a summary of the analysis.   "
   ]
  },
  {
   "cell_type": "code",
   "execution_count": 2,
   "metadata": {
    "collapsed": false,
    "deletable": true,
    "editable": true
   },
   "outputs": [
    {
     "name": "stdout",
     "output_type": "stream",
     "text": [
      "-- Std Practice:  Iter 1 of 1  (TP) --: \n",
      "  --- Gate Sequence Creation ---\n",
      "     92 sequences created\n",
      "     Dataset has 1702 entries: 92 utilized, 0 requested sequences were missing\n",
      "  --- LGST ---\n",
      "    Singular values of I_tilde (truncating to first 4 of 6) = \n",
      "    4.244260747379201\n",
      "    1.1584455050153553\n",
      "    0.9653318308376435\n",
      "    0.9299255834269221\n",
      "    0.04811754926043677\n",
      "    0.03165892099831828\n",
      "    \n",
      "    Singular values of target I_tilde (truncating to first 4 of 6) = \n",
      "    4.242640687119285\n",
      "    1.4142135623730954\n",
      "    1.4142135623730947\n",
      "    1.4142135623730945\n",
      "    3.1723744950054595e-16\n",
      "    1.0852733691121267e-16\n",
      "    \n"
     ]
    },
    {
     "name": "stderr",
     "output_type": "stream",
     "text": [
      "/Users/enielse/research/pyGSTi/packages/pygsti/construction/stdlists.py:384: UserWarning:\n",
      "\n",
      "Setting the first element of a max-length list to zero to ensure the inclusion of LGST sequences has been replaced by the `includeLGST` parameter which defaults to `True`.  Thus, in most cases, you can simply remove the leading 0 and start your max-length list at 1 now.\n",
      "\n"
     ]
    },
    {
     "name": "stdout",
     "output_type": "stream",
     "text": [
      "      Resulting gate set:\n",
      "      \n",
      "      rho0 = TPParameterizedSPAMVec with dimension 4\n",
      "       0.71-0.01   0 0.75\n",
      "      \n",
      "      \n",
      "      Mdefault = TPPOVM with effect vectors:\n",
      "      0: FullyParameterizedSPAMVec with dimension 4\n",
      "       0.73   0 0.02 0.64\n",
      "      \n",
      "      1: ComplementSPAMVec with dimension 4\n",
      "       0.68   0-0.02-0.64\n",
      "      \n",
      "      \n",
      "      \n",
      "      Gi = \n",
      "      TPParameterizedGate with shape (4, 4)\n",
      "       1.00   0   0   0\n",
      "       0.02 0.88-0.05-0.02\n",
      "         0 0.02 0.89   0\n",
      "         0-0.02-0.03 0.92\n",
      "      \n",
      "      \n",
      "      Gx = \n",
      "      TPParameterizedGate with shape (4, 4)\n",
      "       1.00   0   0   0\n",
      "      -0.01 0.87-0.02   0\n",
      "      -0.01   0   0-1.00\n",
      "      -0.06-0.01 0.82   0\n",
      "      \n",
      "      \n",
      "      Gy = \n",
      "      TPParameterizedGate with shape (4, 4)\n",
      "       1.00   0   0   0\n",
      "         0-0.03   0 1.03\n",
      "         0-0.02 0.90 0.02\n",
      "      -0.06-0.83-0.02   0\n",
      "      \n",
      "      \n",
      "      \n",
      "      \n",
      "  -- Performing 'single' gauge optimization on TP estimate --\n",
      "      -- Adding Gauge Optimized (single) --\n",
      "*** Creating workspace ***\n",
      "*** Generating switchboard ***\n",
      "Found standard clifford compilation from std1Q_XYI\n",
      "*** Generating tables ***\n",
      "  targetSpamBriefTable                          took 0.018863 seconds\n",
      "  targetGatesBoxTable                           took 0.018223 seconds\n",
      "  datasetOverviewTable                          took 0.088041 seconds\n",
      "  bestGatesetSpamParametersTable                took 0.000485 seconds\n",
      "  bestGatesetSpamBriefTable                     took 0.027286 seconds\n"
     ]
    },
    {
     "name": "stderr",
     "output_type": "stream",
     "text": [
      "/Users/enielse/research/pyGSTi/packages/pygsti/report/factory.py:719: UserWarning:\n",
      "\n",
      "Setting the first 'max-length' to zero, e.g. using [0,1,2,4] instead of [1,2,4], is deprecated and may cause 'no data to plot' errors when creating this report.  Please remove this leading zero.\n",
      "\n"
     ]
    },
    {
     "name": "stdout",
     "output_type": "stream",
     "text": [
      "  bestGatesetSpamVsTargetTable                  took 0.052241 seconds\n",
      "  bestGatesetGaugeOptParamsTable                took 0.000705 seconds\n",
      "  bestGatesetGatesBoxTable                      took 0.034158 seconds\n",
      "  bestGatesetChoiEvalTable                      took 0.031269 seconds\n",
      "  bestGatesetDecompTable                        took 0.028479 seconds\n",
      "  bestGatesetEvalTable                          took 0.002427 seconds\n",
      "  bestGermsEvalTable                            took 0.011918 seconds\n",
      "  bestGatesetVsTargetTable                      took 0.040849 seconds\n",
      "  bestGatesVsTargetTable_gv                     took 0.110296 seconds\n",
      "  bestGatesVsTargetTable_gvgerms                took 0.064085 seconds\n",
      "  bestGatesVsTargetTable_gi                     took 0.007872 seconds\n",
      "  bestGatesVsTargetTable_gigerms                took 0.017765 seconds\n",
      "  bestGatesVsTargetTable_sum                    took 0.107948 seconds\n",
      "  bestGatesetErrGenBoxTable                     took 0.104255 seconds\n",
      "  metadataTable                                 took 0.000883 seconds\n",
      "  stdoutBlock                                   took 0.000308 seconds\n",
      "  profilerTable                                 took 0.000256 seconds\n",
      "  softwareEnvTable                              took 0.029131 seconds\n",
      "  exampleTable                                  took 0.009939 seconds\n",
      "  singleMetricTable_gv                          took 0.109719 seconds\n",
      "  singleMetricTable_gi                          took 0.008818 seconds\n",
      "  fiducialListTable                             took 0.001057 seconds\n",
      "  prepStrListTable                              took 0.000367 seconds\n",
      "  effectStrListTable                            took 0.000203 seconds\n",
      "  colorBoxPlotKeyPlot                           took 0.00935 seconds\n",
      "  germList2ColTable                             took 0.000229 seconds\n",
      "  progressTable                                 took 0.095618 seconds\n",
      "*** Generating plots ***\n",
      "  gramBarPlot                                   took 0.026249 seconds\n",
      "  progressBarPlot                               took 0.025291 seconds\n",
      "  progressBarPlot_sum                           took 0.000244 seconds\n",
      "  finalFitComparePlot                           took 0.026213 seconds\n",
      "  bestEstimateColorBoxPlot                      took 0.01387 seconds\n",
      "  bestEstimateTVDColorBoxPlot                   took 0.012568 seconds\n",
      "  bestEstimateColorScatterPlot                  took 0.01269 seconds\n",
      "  bestEstimateColorHistogram                    took 0.040345 seconds\n",
      "  progressTable_scl                             took 7.8e-05 seconds\n",
      "  progressBarPlot_scl                           took 6.8e-05 seconds\n",
      "  bestEstimateColorBoxPlot_scl                  took 0.000113 seconds\n",
      "  bestEstimateColorScatterPlot_scl              took 8.5e-05 seconds\n",
      "  bestEstimateColorHistogram_scl                took 8.2e-05 seconds\n",
      "  dataScalingColorBoxPlot                       took 9.7e-05 seconds\n",
      "*** Merging into template file ***\n",
      "  Rendering progressBarPlot                     took 0.002731 seconds\n",
      "  Rendering fiducialListTable                   took 0.002289 seconds\n",
      "  Rendering bestGatesetSpamBriefTable           took 0.0279 seconds\n",
      "  Rendering bestEstimateColorBoxPlot            took 0.003597 seconds\n",
      "  Rendering datasetOverviewTable                took 0.000718 seconds\n",
      "  Rendering gramBarPlot                         took 0.007073 seconds\n",
      "  Rendering bestEstimateColorHistogram          took 0.003748 seconds\n",
      "  Rendering bestGatesetSpamParametersTable      took 0.001799 seconds\n",
      "  Rendering finalFitComparePlot                 took 0.005256 seconds\n",
      "  Rendering softwareEnvTable                    took 0.004483 seconds\n",
      "  Rendering topSwitchboard                      took 0.000116 seconds\n",
      "  Rendering targetGatesBoxTable                 took 0.019412 seconds\n",
      "  Rendering bestGatesetGatesBoxTable            took 0.036148 seconds\n",
      "  Rendering progressTable                       took 0.002194 seconds\n",
      "  Rendering bestGatesVsTargetTable_gv           took 0.003918 seconds\n",
      "  Rendering bestGatesVsTargetTable_gvgerms      took 0.008744 seconds\n",
      "  Rendering bestGatesetEvalTable                took 0.017548 seconds\n",
      "  Rendering singleMetricTable_gi                took 0.005975 seconds\n",
      "  Rendering effectStrListTable                  took 0.001784 seconds\n",
      "  Rendering targetSpamBriefTable                took 0.015196 seconds\n",
      "  Rendering stdoutBlock                         took 0.00073 seconds\n",
      "  Rendering profilerTable                       took 0.001163 seconds\n",
      "  Rendering bestGermsEvalTable                  took 0.057324 seconds\n",
      "  Rendering dataScalingColorBoxPlot             took 0.000999 seconds\n",
      "  Rendering metricSwitchboard_gv                took 5.3e-05 seconds\n",
      "  Rendering maxLSwitchboard1                    took 8.8e-05 seconds\n",
      "  Rendering colorBoxPlotKeyPlot                 took 0.007931 seconds\n",
      "  Rendering metadataTable                       took 0.005052 seconds\n",
      "  Rendering prepStrListTable                    took 0.002832 seconds\n",
      "  Rendering progressBarPlot_sum                 took 0.004112 seconds\n",
      "  Rendering bestGatesVsTargetTable_gi           took 0.004682 seconds\n",
      "  Rendering bestEstimateTVDColorBoxPlot         took 0.004028 seconds\n",
      "  Rendering progressBarPlot_scl                 took 0.000879 seconds\n",
      "  Rendering singleMetricTable_gv                took 0.010276 seconds\n",
      "  Rendering germList2ColTable                   took 0.004574 seconds\n",
      "  Rendering bestEstimateColorBoxPlot_scl        took 0.001141 seconds\n",
      "  Rendering bestGatesetSpamVsTargetTable        took 0.003181 seconds\n",
      "  Rendering metricSwitchboard_gi                took 5.1e-05 seconds\n",
      "  Rendering bestGatesetChoiEvalTable            took 0.025692 seconds\n",
      "  Rendering bestEstimateColorHistogram_scl      took 0.00072 seconds\n",
      "  Rendering bestGatesetErrGenBoxTable           took 0.053849 seconds\n",
      "  Rendering bestGatesetVsTargetTable            took 0.001175 seconds\n",
      "  Rendering bestEstimateColorScatterPlot        took 0.00311 seconds\n",
      "  Rendering progressTable_scl                   took 0.000749 seconds\n",
      "  Rendering bestGatesVsTargetTable_sum          took 0.004257 seconds\n",
      "  Rendering exampleTable                        took 0.00689 seconds\n",
      "  Rendering bestEstimateColorScatterPlot_scl    took 0.000674 seconds\n",
      "  Rendering bestGatesVsTargetTable_gigerms      took 0.004673 seconds\n",
      "  Rendering bestGatesetDecompTable              took 0.016874 seconds\n",
      "  Rendering bestGatesetGaugeOptParamsTable      took 0.000835 seconds\n",
      "Output written to tutorial_files/gettingStartedReport directory\n",
      "*** Report Generation Complete!  Total time 1.76278s ***\n"
     ]
    },
    {
     "data": {
      "text/plain": [
       "<pygsti.report.workspace.Workspace at 0x10d1ec240>"
      ]
     },
     "execution_count": 2,
     "metadata": {},
     "output_type": "execute_result"
    }
   ],
   "source": [
    "#Run GST and create a report\n",
    "results = pygsti.do_stdpractice_gst(ds, gs_target, prep_fiducials, meas_fiducials, germs, [0],\n",
    "                                    advancedOptions={'all': {'tolerance':100.0, 'objective': 'lgst'}},\n",
    "                                    gaugeOptSuite=\"single\", modes=\"TP\", verbosity=4) # maxLengths\n",
    "pygsti.report.create_standard_report(results, filename=\"tutorial_files/gettingStartedReport\",\n",
    "                                    title=\"Tutorial0 Example Report\", verbosity=2)"
   ]
  },
  {
   "cell_type": "markdown",
   "metadata": {
    "deletable": true,
    "editable": true
   },
   "source": [
    "You can now open the file [tutorial_files/gettingStartedReport/main.html](tutorial_files/gettingStartedReport/main.html) in your browser to view the report.  **That's it!  You've just run GST!**\n",
    "\n",
    "The other tutorials in this directory will explain how to use the various objects and algorithms that comprise pyGSTi. These **tutorial notebooks are meant to be fairly pedagogical** and include details about the inner workings of and design choices within pyGSTi.  In contrast, the **\"FAQ\" directory contains notebooks with attempt to address specific questions as quickly and directly as possible, with little or no explanation of related topics or broader context**. "
   ]
  },
  {
   "cell_type": "code",
   "execution_count": null,
   "metadata": {
    "collapsed": true,
    "deletable": true,
    "editable": true
   },
   "outputs": [],
   "source": []
  }
 ],
 "metadata": {
  "kernelspec": {
   "display_name": "Python 3",
   "language": "python",
   "name": "python3"
  },
  "language_info": {
   "codemirror_mode": {
    "name": "ipython",
    "version": 3
   },
   "file_extension": ".py",
   "mimetype": "text/x-python",
   "name": "python",
   "nbconvert_exporter": "python",
   "pygments_lexer": "ipython3",
   "version": "3.5.2"
  }
 },
 "nbformat": 4,
 "nbformat_minor": 1
}
