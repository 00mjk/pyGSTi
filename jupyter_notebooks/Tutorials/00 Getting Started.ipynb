{
 "cells": [
  {
   "cell_type": "markdown",
   "metadata": {
    "deletable": true,
    "editable": true
   },
   "source": [
    "# Getting started with pyGSTi and Gate Set Tomography"
   ]
  },
  {
   "cell_type": "markdown",
   "metadata": {
    "deletable": true,
    "editable": true
   },
   "source": [
    "The `pygsti` package provides multiple levels of abstraction over the core Gate Set Tomography (GST) algorithms.  This initial tutorial will show you how to run Gate Set Tomography on some simulated (generated) data, hopefully giving you an overall sense of what it takes (and how easy it is!) to run GST.  Subsequent tutorials will delve into the details of `pygsti` objects and algorithms, and how to use them in detail.\n",
    "\n",
    "To run GST, we need three inputs:\n",
    "1. a \"**target gate set**\" which describes the desired, or ideal, operations we want our experimental hardware to perform.  In the example below, we use one of pyGSTi's \"standard\" gate sets - the on acting on a single qubit with the following operations:\n",
    "    - three gates: the identity, and $\\pi/2$ rotations around the $x$- and $y$-axes.\n",
    "    - a single state preparation in the $|0\\rangle$ state.\n",
    "    - a 2-outcome measurement with the label \"0\" associated with measuring $|0\\rangle$ and \"1\" with measuring $|1\\rangle$.\n",
    "    \n",
    "2. a list of GST sequences corresponding to the target gate set; essentially a list of what experiments (= gate sequences) we need to run.  Using a standard gate set makes things especially straightforward here, since the building blocks, called *germ* and *fiducial* sequences needed to make good GST sequences have already been computed.\n",
    "\n",
    "3. data, in the form of experimental outcome counts, for each of the required sequences.  In this example we'll generate \"fake\" or \"simulated\" data from a depolarized version of our ideal gate set.\n"
   ]
  },
  {
   "cell_type": "code",
   "execution_count": 1,
   "metadata": {
    "collapsed": false,
    "deletable": true,
    "editable": true
   },
   "outputs": [],
   "source": [
    "#Make print statements compatible with Python 2 and 3\n",
    "from __future__ import print_function\n",
    "\n",
    "#Import the pygsti module (always do this) and the standard XYI gate set\n",
    "import pygsti\n",
    "from pygsti.construction import std1Q_XYI\n",
    "\n",
    "# 1) get the target GateSet\n",
    "gs_target = std1Q_XYI.gs_target\n",
    "\n",
    "# 2) get the building blocks needed to specify which gate sequences are needed\n",
    "prep_fiducials, meas_fiducials = std1Q_XYI.prepStrs, std1Q_XYI.effectStrs\n",
    "germs = std1Q_XYI.germs\n",
    "maxLengths = [1,2,4,8,16,32] # roughly gives the length of the sequences used by GST\n",
    "\n",
    "# 3) generate \"fake\" data from a depolarized version of gs_target\n",
    "gs_datagen = gs_target.depolarize(gate_noise=0.1, spam_noise=0.001)\n",
    "listOfExperiments = pygsti.construction.make_lsgst_experiment_list(\n",
    "    gs_target, prep_fiducials, meas_fiducials, germs, maxLengths)\n",
    "ds = pygsti.construction.generate_fake_data(gs_datagen, listOfExperiments, nSamples=1000,\n",
    "                                            sampleError=\"binomial\", seed=1234)\n",
    "\n",
    "#Note: from listOfExperiments we can also create an empty dataset file\n",
    "# which has columns of zeros where actual data should go. \n",
    "pygsti.io.write_empty_dataset(\"tutorial_files/GettingStartedDataTemplate.txt\", listOfExperiments,\n",
    "                              \"## Columns = 1 count, count total\")\n",
    "# After replacing the zeros with actual data, the data set can be \n",
    "# loaded back into pyGSTi using the line below and used in the rest\n",
    "# of this tutorial. \n",
    "#ds = pygsti.io.load_dataset(\"tutorial_files/GettingStartedDataTemplate.txt\")\n"
   ]
  },
  {
   "cell_type": "markdown",
   "metadata": {
    "collapsed": false,
    "deletable": true,
    "editable": true
   },
   "source": [
    "Now that we have all of the inputs, we can run GST in a standard way using the `do_stdpractice_gst` high-level driver function.  This returns a `pygsti.report.Results` object, from which we can generate a report giving us a summary of the analysis.   "
   ]
  },
  {
   "cell_type": "code",
   "execution_count": 2,
   "metadata": {
    "collapsed": false,
    "deletable": true,
    "editable": true
   },
   "outputs": [
    {
     "name": "stdout",
     "output_type": "stream",
     "text": [
      "-- Std Practice:  Iter 1 of 3  (TP) --: \n",
      "  --- Gate Sequence Creation ---\n",
      "   1585 sequences created\n",
      "   Dataset has 1585 entries: 1585 utilized, 0 requested sequences were missing\n",
      "  --- LGST ---\n",
      "  --- Iterative MLGST: [##################################################] 100.0%  1585 gate strings ---\n",
      "  Iterative MLGST Total Time: 2.2s\n",
      "  -- Performing 'Spam 0.001' gauge optimization on TP estimate --\n",
      "  -- Done gauge optimizing (0.0271211s) -- \n",
      "  -- Performing 'Spam 0.001+v' gauge optimization on TP estimate --\n",
      "  -- Done gauge optimizing (0.0430942s) -- \n",
      "-- Std Practice:  Iter 2 of 3  (CPTP) --: \n",
      "  --- Gate Sequence Creation ---\n",
      "   1585 sequences created\n",
      "   Dataset has 1585 entries: 1585 utilized, 0 requested sequences were missing\n",
      "  --- Iterative MLGST: [##################################################] 100.0%  1585 gate strings ---\n",
      "  Iterative MLGST Total Time: 3.3s\n",
      "  -- Performing 'Spam 0.001' gauge optimization on CPTP estimate --\n",
      "  -- Done gauge optimizing (0.236097s) -- \n",
      "  -- Performing 'Spam 0.001+v' gauge optimization on CPTP estimate --\n",
      "  -- Done gauge optimizing (0.218462s) -- \n",
      "-- Std Practice:  Iter 3 of 3  (Target) --: \n",
      "  -- Performing 'Spam 0.001' gauge optimization on Target estimate --\n",
      "  -- Done gauge optimizing (0.00292778s) -- \n",
      "  -- Performing 'Spam 0.001+v' gauge optimization on Target estimate --\n",
      "  -- Done gauge optimizing (0.0183928s) -- \n",
      "*** Creating workspace ***\n",
      "*** Generating switchboard ***\n",
      "*** Generating tables ***\n",
      "  targetSpamBriefTable                          took 0.018445 seconds\n",
      "  targetGatesBoxTable                           took 0.046812 seconds\n",
      "  datasetOverviewTable                          took 0.0177 seconds\n",
      "  bestGatesetSpamParametersTable                took 0.004785 seconds\n",
      "  bestGatesetSpamBriefTable                     took 0.101327 seconds\n",
      "  bestGatesetSpamVsTargetTable                  took 0.189977 seconds\n",
      "  bestGatesetGaugeOptParamsTable                took 0.00056 seconds\n",
      "  bestGatesetGatesBoxTable                      took 0.069512 seconds\n",
      "  bestGatesetChoiEvalTable                      took 0.03915 seconds\n",
      "  bestGatesetDecompTable                        took 0.149612 seconds\n",
      "  bestGatesetEvalTable                          took 0.006174 seconds\n",
      "  bestGermsEvalTable                            took 0.025436 seconds\n",
      "  bestGatesetVsTargetTable                      took 0.458948 seconds\n",
      "  bestGatesVsTargetTable_gv                     took 0.51327 seconds\n",
      "  bestGatesVsTargetTable_gvgerms                took 0.120035 seconds\n",
      "  bestGatesVsTargetTable_gi                     took 0.018855 seconds\n",
      "  bestGatesVsTargetTable_gigerms                took 0.03176 seconds\n",
      "  bestGatesVsTargetTable_sum                    took 0.490221 seconds\n",
      "  bestGatesetErrGenBoxTable                     took 0.428824 seconds\n",
      "  metadataTable                                 took 0.047362 seconds\n",
      "  softwareEnvTable                              took 0.044454 seconds\n",
      "  exampleTable                                  took 0.007332 seconds\n",
      "  fiducialListTable                             took 0.000532 seconds\n",
      "  prepStrListTable                              took 0.000179 seconds\n",
      "  effectStrListTable                            took 0.000157 seconds\n",
      "  colorBoxPlotKeyPlot                           took 0.007785 seconds\n",
      "  germList2ColTable                             took 0.000235 seconds\n",
      "  progressTable                                 took 0.703357 seconds\n",
      "*** Generating plots ***\n",
      "  gramBarPlot                                   took 0.029571 seconds\n",
      "  progressBarPlot                               took 0.370964 seconds\n",
      "  progressBarPlot_sum                           took 0.000966 seconds\n",
      "  dataScalingColorBoxPlot                       took 0.162178 seconds\n",
      "  bestEstimateColorBoxPlotPages                 took 2.33359 seconds\n",
      "  bestEstimateColorScatterPlot                  took 6.903818 seconds\n",
      "  bestEstimateColorHistogram                    took 2.12655 seconds\n",
      "*** Merging into template file ***\n",
      "Output written to tutorial_files/gettingStartedReport directory\n",
      "*** Report Generation Complete!  Total time 17.1379s ***\n"
     ]
    },
    {
     "data": {
      "text/plain": [
       "<pygsti.report.workspace.Workspace at 0x10e120b70>"
      ]
     },
     "execution_count": 2,
     "metadata": {},
     "output_type": "execute_result"
    }
   ],
   "source": [
    "#Run GST and create a report\n",
    "results = pygsti.do_stdpractice_gst(ds, gs_target, prep_fiducials, meas_fiducials, germs, maxLengths)\n",
    "pygsti.report.create_standard_report(results, filename=\"tutorial_files/gettingStartedReport\",\n",
    "                                    title=\"Tutorial0 Example Report\", verbosity=2)"
   ]
  },
  {
   "cell_type": "markdown",
   "metadata": {
    "collapsed": false,
    "deletable": true,
    "editable": true
   },
   "source": [
    "You can now open the file [tutorial_files/gettingStartedReport/main.html](tutorial_files/gettingStartedReport/main.html) in your browser to view the report.  **That's it!  You've just run GST!**\n",
    "\n",
    "The other tutorials in this directory will explain how to use the various objects and algorithms that comprise pyGSTi. These **tutorial notebooks are meant to be fairly pedagogical** and include details about the inner workings of and design choices within pyGSTi.  In contrast, the **\"FAQ\" directory contains notebooks with attempt to address specific questions as quickly and directly as possible, with little or no explanation of related topics or broader context**. "
   ]
  },
  {
   "cell_type": "code",
   "execution_count": null,
   "metadata": {
    "collapsed": true,
    "deletable": true,
    "editable": true
   },
   "outputs": [],
   "source": []
  }
 ],
 "metadata": {
  "kernelspec": {
   "display_name": "Python 3",
   "language": "python",
   "name": "python3"
  },
  "language_info": {
   "codemirror_mode": {
    "name": "ipython",
    "version": 3
   },
   "file_extension": ".py",
   "mimetype": "text/x-python",
   "name": "python",
   "nbconvert_exporter": "python",
   "pygments_lexer": "ipython3",
   "version": "3.5.2"
  }
 },
 "nbformat": 4,
 "nbformat_minor": 0
}
