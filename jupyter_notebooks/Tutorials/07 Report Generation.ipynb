{
 "cells": [
  {
   "cell_type": "markdown",
   "metadata": {},
   "source": [
    "As noted in Tutorial 00, `pygsti` can provide many reports or presentation slides.\n",
    "\n",
    "In this tutorial, we look at how to customize some of the output of `pygsti`'s report generating module."
   ]
  },
  {
   "cell_type": "code",
   "execution_count": 1,
   "metadata": {
    "collapsed": false
   },
   "outputs": [],
   "source": [
    "#Import the GST module -- you probably want this at the beginning of every notebook\n",
    "import pygsti\n",
    "import json"
   ]
  },
  {
   "cell_type": "markdown",
   "metadata": {},
   "source": [
    "Creating reports is a method of the `pygsti.report.Results` object. Below, we create such an object, and then initialize it with the appropriate fiducials, germs, maximum lengths, etc.\n",
    "\n",
    "It's important to note that the `pygsti.report.Results` object requires an argument to indicate which objective function you wish to score the estimate using. It's recommended that, if you ran MC2GST, you use the `\"chi2\"` argument, while if you ran MLGST, you use `\"logL\"`. Otherwise, you will score your estimate based on an objective function you weren't optimizing over, so your scores may be rather weird!"
   ]
  },
  {
   "cell_type": "markdown",
   "metadata": {},
   "source": [
    "Creating reports is a method of the `pygsti.report.Results` object. Below, we create such an object, and then initialize it with the appropriate fiducials, germs, maximum lengths, etc.\n",
    "\n",
    "It's important to note that the `pygsti.report.Results` object requires an argument to indicate which objective function you wish to score the estimate using. It's recommended that, if you ran MC2GST, you use the `\"chi2\"` argument, while if you ran MLGST, you use `\"logL\"`. Otherwise, you will score your estimate based on an objective function you weren't optimizing over, so your scores may be rather weird!"
   ]
  },
  {
   "cell_type": "markdown",
   "metadata": {},
   "source": [
    "First, we'll make smaller reports that don't contain any confidence intervals for the estimates,\n",
    "nor any appendices.\n",
    "\n",
    "NOTE: In order for you to create PowerPoint files, you'll have to have `python-pptx` installed on your system."
   ]
  },
  {
   "cell_type": "code",
   "execution_count": 2,
   "metadata": {
    "collapsed": false,
    "scrolled": false
   },
   "outputs": [
    {
     "name": "stdout",
     "output_type": "stream",
     "text": [
      "Loading from cache file:  tutorial_files/Example_Dataset.txt.cache\n",
      "--- LGST ---\n",
      "    \n",
      "  --- Iterative MC2GST: Iter 0 of 9  92 gate strings ---: \n",
      "--- Minimum Chi^2 GST ---\n",
      "    Sum of Chi^2 = 40.9238 (92 data params - 40 model params = expected mean of 52; p-value = 0.866034)\n",
      "    \n",
      "  --- Iterative MC2GST: Iter 1 of 9  92 gate strings ---: \n",
      "--- Minimum Chi^2 GST ---\n",
      "    Sum of Chi^2 = 40.9238 (92 data params - 40 model params = expected mean of 52; p-value = 0.866034)\n",
      "    \n",
      "  --- Iterative MC2GST: Iter 2 of 9  168 gate strings ---: \n",
      "--- Minimum Chi^2 GST ---\n",
      "    Sum of Chi^2 = 124.56 (168 data params - 40 model params = expected mean of 128; p-value = 0.569533)\n",
      "    \n",
      "  --- Iterative MC2GST: Iter 3 of 9  441 gate strings ---: \n",
      "--- Minimum Chi^2 GST ---\n",
      "    Sum of Chi^2 = 424.144 (441 data params - 40 model params = expected mean of 401; p-value = 0.204559)\n",
      "    \n",
      "  --- Iterative MC2GST: Iter 4 of 9  817 gate strings ---: \n",
      "--- Minimum Chi^2 GST ---\n",
      "    Sum of Chi^2 = 772.131 (817 data params - 40 model params = expected mean of 777; p-value = 0.542549)\n",
      "    \n",
      "  --- Iterative MC2GST: Iter 5 of 9  1201 gate strings ---: \n",
      "--- Minimum Chi^2 GST ---\n",
      "    Sum of Chi^2 = 1154.53 (1201 data params - 40 model params = expected mean of 1161; p-value = 0.548046)\n",
      "    \n",
      "  --- Iterative MC2GST: Iter 6 of 9  1585 gate strings ---: \n",
      "--- Minimum Chi^2 GST ---\n",
      "    Sum of Chi^2 = 1601.67 (1585 data params - 40 model params = expected mean of 1545; p-value = 0.154051)\n",
      "    \n",
      "  --- Iterative MC2GST: Iter 7 of 9  1969 gate strings ---: \n",
      "--- Minimum Chi^2 GST ---\n",
      "    Sum of Chi^2 = 2034.53 (1969 data params - 40 model params = expected mean of 1929; p-value = 0.0465139)\n",
      "    \n",
      "  --- Iterative MC2GST: Iter 8 of 9  2353 gate strings ---: \n",
      "--- Minimum Chi^2 GST ---\n",
      "    Sum of Chi^2 = 2426.32 (2353 data params - 40 model params = expected mean of 2313; p-value = 0.0495276)\n",
      "    \n",
      "  --- Iterative MC2GST: Iter 9 of 9  2737 gate strings ---: \n",
      "--- Minimum Chi^2 GST ---\n",
      "    Sum of Chi^2 = 2797.88 (2737 data params - 40 model params = expected mean of 2697; p-value = 0.0859858)\n"
     ]
    }
   ],
   "source": [
    "# Follow Algorithm tutorial to generate LSGST gatesets\n",
    "gs_target = pygsti.io.load_gateset(\"tutorial_files/Example_Gateset.txt\")\n",
    "gs_target.set_basis(\"gm\",2)\n",
    "ds = pygsti.io.load_dataset(\"tutorial_files/Example_Dataset.txt\", cache=True)\n",
    "fiducialList = pygsti.io.load_gatestring_list(\"tutorial_files/Example_FiducialList.txt\")\n",
    "\n",
    "#Run LGST to get an initial estimate for the gates in gs_target based on the data in ds\n",
    "specs = pygsti.construction.build_spam_specs(fiducialGateStrings=fiducialList)\n",
    "gs_lgst = pygsti.do_lgst(ds, specs, targetGateset=gs_target, svdTruncateTo=4, verbosity=1)\n",
    "\n",
    "#Gauge optimize the result to match the target gateset\n",
    "gs_lgst_after_gauge_opt = pygsti.optimize_gauge(gs_lgst, \"target\", targetGateset=gs_target)\n",
    "\n",
    "#Contract the result to CPTP\n",
    "gs_clgst = pygsti.contract(gs_lgst_after_gauge_opt, \"CPTP\")\n",
    "\n",
    "#Get lists of gate strings for successive iterations of MC2GST to use\n",
    "specs  = pygsti.construction.build_spam_specs(fiducialGateStrings=fiducialList)\n",
    "germList = pygsti.io.load_gatestring_list(\"tutorial_files/Example_GermsList.txt\")\n",
    "maxLengthList = json.load(open(\"tutorial_files/Example_maxLengths.json\",\"r\"))\n",
    "lsgstListOfLists = [ pygsti.io.load_gatestring_list(\"tutorial_files/Example_LSGSTlist%d.txt\" % l) for l in maxLengthList]\n",
    "        \n",
    "gs_lsgst_list = pygsti.do_iterative_mc2gst(ds, gs_clgst, lsgstListOfLists, verbosity=2,\n",
    "                                         minProbClipForWeighting=1e-6, probClipInterval=(-1e6,1e6),\n",
    "                                         returnAll=True )\n",
    "\n",
    "go_gatesets = [ pygsti.optimize_gauge(gs, \"target\", targetGateset=gs_target, gateWeight=1, spamWeight=0.001) for gs in gs_lsgst_list]"
   ]
  },
  {
   "cell_type": "code",
   "execution_count": 3,
   "metadata": {
    "collapsed": false
   },
   "outputs": [],
   "source": [
    "res = pygsti.report.Results()\n",
    "res.init_Ls_and_germs(\"chi2\", gs_target, ds, gs_clgst, maxLengthList, germList,\n",
    "                    go_gatesets, lsgstListOfLists, fiducialList, fiducialList, \n",
    "                    pygsti.construction.repeat_with_max_length, False)"
   ]
  },
  {
   "cell_type": "code",
   "execution_count": 4,
   "metadata": {
    "collapsed": false,
    "scrolled": false
   },
   "outputs": [
    {
     "name": "stdout",
     "output_type": "stream",
     "text": [
      "  *** Generating tables ***\n",
      "   Iter 00 of 16 :   Generating table: targetSpamTable\n",
      "   Iter 01 of 16 :   Generating table: targetGatesTable\n",
      "   Iter 02 of 16 :   Generating table: datasetOverviewTable\n",
      "   Iter 03 of 16 :   Generating table: bestGatesetSpamTable\n",
      "   Iter 04 of 16 :   Generating table: bestGatesetSpamParametersTable\n",
      "   Iter 05 of 16 :   Generating table: bestGatesetGatesTable\n",
      "   Iter 06 of 16 :   Generating table: bestGatesetChoiTable\n",
      "   Iter 07 of 16 :   Generating table: bestGatesetDecompTable\n",
      "   Iter 08 of 16 :   Generating table: bestGatesetRotnAxisTable\n",
      "   Iter 09 of 16 :   Generating table: bestGatesetClosestUnitaryTable\n"
     ]
    },
    {
     "name": "stderr",
     "output_type": "stream",
     "text": [
      "/usr/local/lib/python3.5/site-packages/numpy/lib/twodim_base.py:233: VisibleDeprecationWarning: using a non-integer number instead of an integer will result in an error in the future\n",
      "  m = zeros((N, M), dtype=dtype)\n",
      "/usr/local/lib/python3.5/site-packages/numpy/lib/twodim_base.py:240: VisibleDeprecationWarning: using a non-integer number instead of an integer will result in an error in the future\n",
      "  m[:M-k].flat[i::M+1] = 1\n"
     ]
    },
    {
     "name": "stdout",
     "output_type": "stream",
     "text": [
      "   Iter 10 of 16 :   Generating table: bestGatesetVsTargetTable\n",
      "   Iter 11 of 16 :   Generating table: bestGatesetErrorGenTable\n",
      "   Iter 12 of 16 :   Generating table: fiducialListTable\n",
      "   Iter 13 of 16 :   Generating table: prepStrListTable\n",
      "   Iter 14 of 16 :   Generating table: effectStrListTable\n",
      "   Iter 15 of 16 :   Generating table: germListTable\n",
      "   Iter 16 of 16 :   Generating table: progressTable\n",
      "  *** Generating plots ***\n",
      "  Chi2 plots (2): \n",
      "   Iter 0 of 1 :   Generating figure: bestEstimateColorBoxPlot\n",
      "   Iter 1 of 1 :   Generating figure: invertedBestEstimateColorBoxPlot\n",
      "  \n",
      "  *** Merging into template file ***\n",
      "  Latex file(s) successfully generated.  Attempting to compile with pdflatex...\n",
      "  Initial output PDF tutorial_files/Example_reportB.pdf successfully generated.\n",
      "  Final output PDF tutorial_files/Example_reportB.pdf successfully generated. Cleaning up .aux and .log files.\n",
      "  *** Generating tables ***\n",
      "  Retrieving cached table: bestGatesetSpamTable\n",
      "  Retrieving cached table: bestGatesetSpamParametersTable\n",
      "  Retrieving cached table: bestGatesetGatesTable\n",
      "  Retrieving cached table: bestGatesetDecompTable\n",
      "  Retrieving cached table: bestGatesetRotnAxisTable\n",
      "  Retrieving cached table: bestGatesetVsTargetTable\n",
      "  Retrieving cached table: bestGatesetErrorGenTable\n",
      "  Retrieving cached table: progressTable\n",
      "  *** Generating plots ***\n",
      "  *** Merging into template file ***\n",
      "  Latex file(s) successfully generated.  Attempting to compile with pdflatex...\n",
      "  Initial output PDF tutorial_files/Example_briefB.pdf successfully generated.\n",
      "  Final output PDF tutorial_files/Example_briefB.pdf successfully generated. Cleaning up .aux and .log files.\n",
      "  *** Generating tables ***\n",
      "  Retrieving cached table: targetSpamTable\n",
      "  Retrieving cached table: targetGatesTable\n",
      "  Retrieving cached table: datasetOverviewTable\n",
      "  Retrieving cached table: bestGatesetSpamTable\n",
      "  Retrieving cached table: bestGatesetSpamParametersTable\n",
      "  Retrieving cached table: bestGatesetGatesTable\n",
      "  Retrieving cached table: bestGatesetChoiTable\n",
      "  Retrieving cached table: bestGatesetDecompTable\n",
      "  Retrieving cached table: bestGatesetRotnAxisTable\n",
      "  Retrieving cached table: bestGatesetVsTargetTable\n",
      "  Retrieving cached table: bestGatesetErrorGenTable\n",
      "  Retrieving cached table: fiducialListTable\n",
      "  Retrieving cached table: prepStrListTable\n",
      "  Retrieving cached table: effectStrListTable\n",
      "  Retrieving cached table: germListTable\n",
      "  Retrieving cached table: progressTable\n",
      "  *** Generating plots ***\n",
      "   -- Chi2 plots (1):    Iter 0 of 0 :   Retrieving cached figure: bestEstimateColorBoxPlot\n",
      "  \n",
      "  *** Merging into template file ***\n",
      "  Latex file(s) successfully generated.  Attempting to compile with pdflatex...\n",
      "  Initial output PDF tutorial_files/Example_slidesB.pdf successfully generated.\n",
      "  Final output PDF tutorial_files/Example_slidesB.pdf successfully generated. Cleaning up .aux and .log files.\n",
      "  *** Generating tables ***\n",
      "   Iter 00 of 15 :   Retrieving cached table: targetSpamTable\n",
      "   Iter 01 of 15 :   Retrieving cached table: targetGatesTable\n",
      "   Iter 02 of 15 :   Retrieving cached table: datasetOverviewTable\n",
      "   Iter 03 of 15 :   Retrieving cached table: bestGatesetSpamTable\n",
      "   Iter 04 of 15 :   Retrieving cached table: bestGatesetSpamParametersTable\n",
      "   Iter 05 of 15 :   Retrieving cached table: bestGatesetGatesTable\n",
      "   Iter 06 of 15 :   Retrieving cached table: bestGatesetChoiTable\n",
      "   Iter 07 of 15 :   Retrieving cached table: bestGatesetDecompTable\n",
      "   Iter 08 of 15 :   Retrieving cached table: bestGatesetRotnAxisTable\n",
      "   Iter 09 of 15 :   Retrieving cached table: bestGatesetVsTargetTable\n",
      "   Iter 10 of 15 :   Retrieving cached table: bestGatesetErrorGenTable\n",
      "   Iter 11 of 15 :   Retrieving cached table: fiducialListTable\n",
      "   Iter 12 of 15 :   Retrieving cached table: prepStrListTable\n",
      "   Iter 13 of 15 :   Retrieving cached table: effectStrListTable\n",
      "   Iter 14 of 15 :   Retrieving cached table: germListTable\n",
      "   Iter 15 of 15 :   Retrieving cached table: progressTable\n",
      "  *** Generating plots ***\n",
      "   -- Chi2 plots (1):    Iter 0 of 0 :   Retrieving cached figure: bestEstimateColorBoxPlot\n",
      "  \n",
      "  *** Assembling PPT file ***\n",
      "  Latexing progressTable table...\n",
      "  Latexing bestGatesetVsTargetTable table...\n",
      "  Latexing bestGatesetErrorGenTable table...\n",
      "  Latexing bestGatesetDecompTable table...\n",
      "  Latexing bestGatesetRotnAxisTable table...\n",
      "  Latexing bestGatesetGatesTable table...\n",
      "  Latexing bestGatesetSpamTable table...\n",
      "  Latexing bestGatesetSpamParametersTable table...\n",
      "  Latexing bestGatesetChoiTable table...\n",
      "  Latexing targetSpamTable table...\n",
      "  Latexing targetGatesTable table...\n",
      "  Latexing fiducialListTable table...\n",
      "  Latexing germListTable table...\n",
      "  Latexing datasetOverviewTable table...\n",
      "  Final output PPT tutorial_files/Example_slidesB.pptx successfully generated.\n"
     ]
    }
   ],
   "source": [
    "#Make smaller reports (no confidence intervals or appendicies)\n",
    "res.create_full_report_pdf(filename=\"tutorial_files/Example_reportB.pdf\", verbosity=2, confidenceLevel=None,\n",
    "                        debugAidsAppendix=False, gaugeOptAppendix=False,\n",
    "                        pixelPlotAppendix=False, whackamoleAppendix=False)\n",
    "\n",
    "res.create_brief_report_pdf(filename=\"tutorial_files/Example_briefB.pdf\", verbosity=2, confidenceLevel=None)\n",
    "\n",
    "res.create_presentation_pdf(filename=\"tutorial_files/Example_slidesB.pdf\", verbosity=2, confidenceLevel=None,\n",
    "                         debugAidsAppendix=False, pixelPlotAppendix=False, whackamoleAppendix=False)\n",
    "\n",
    "res.create_presentation_ppt(filename=\"tutorial_files/Example_slidesB.ppt\", verbosity=2, confidenceLevel=None,\n",
    "                         debugAidsAppendix=False, pixelPlotAppendix=False, whackamoleAppendix=False)"
   ]
  },
  {
   "cell_type": "code",
   "execution_count": 5,
   "metadata": {
    "collapsed": false,
    "scrolled": true
   },
   "outputs": [
    {
     "name": "stdout",
     "output_type": "stream",
     "text": [
      "      \n",
      "  --- Hessian Projector Optimization for gate CIs (L-BFGS-B) ---\n",
      "  205s           0.0183866343\n",
      "  259s           0.0182468335\n",
      "  289s           0.0181447444\n",
      "  319s           0.0180700722\n",
      "  350s           0.0180189904\n",
      "  381s           0.0179935924\n",
      "  412s           0.0179572650\n",
      "  443s           0.0179483455\n",
      "  475s           0.0179394972\n",
      "  506s           0.0179351061\n",
      "  538s           0.0179322957\n",
      "  569s           0.0179295563\n",
      "  600s           0.0179276138\n",
      "  631s           0.0179260339\n",
      "  662s           0.0179252069\n",
      "    The resulting min sqrt(sum(gateCIs**2)): 0.0179252\n",
      "  *** Generating tables ***\n",
      "   Iter 00 of 16 :   Generating table: targetSpamTable (w/95% CIs)\n",
      "   Iter 01 of 16 :   Generating table: targetGatesTable (w/95% CIs)\n",
      "   Iter 02 of 16 :   Generating table: datasetOverviewTable (w/95% CIs)\n",
      "   Iter 03 of 16 :   Generating table: bestGatesetSpamTable (w/95% CIs)\n",
      "   Iter 04 of 16 :   Generating table: bestGatesetSpamParametersTable (w/95% CIs)\n",
      "   Iter 05 of 16 :   Generating table: bestGatesetGatesTable (w/95% CIs)\n",
      "   Iter 06 of 16 :   Generating table: bestGatesetChoiTable (w/95% CIs)\n",
      "   Iter 07 of 16 :   Generating table: bestGatesetDecompTable (w/95% CIs)\n",
      "   Iter 08 of 16 :   Generating table: bestGatesetRotnAxisTable (w/95% CIs)\n",
      "   Iter 09 of 16 :   Generating table: bestGatesetClosestUnitaryTable (w/95% CIs)\n"
     ]
    },
    {
     "name": "stderr",
     "output_type": "stream",
     "text": [
      "/usr/local/lib/python3.5/site-packages/numpy/lib/twodim_base.py:233: VisibleDeprecationWarning: using a non-integer number instead of an integer will result in an error in the future\n",
      "  m = zeros((N, M), dtype=dtype)\n",
      "/usr/local/lib/python3.5/site-packages/numpy/lib/twodim_base.py:240: VisibleDeprecationWarning: using a non-integer number instead of an integer will result in an error in the future\n",
      "  m[:M-k].flat[i::M+1] = 1\n"
     ]
    },
    {
     "name": "stdout",
     "output_type": "stream",
     "text": [
      "   Iter 10 of 16 :   Generating table: bestGatesetVsTargetTable (w/95% CIs)\n",
      "   Iter 11 of 16 :   Generating table: bestGatesetErrorGenTable (w/95% CIs)\n",
      "   Iter 12 of 16 :   Generating table: fiducialListTable (w/95% CIs)\n",
      "   Iter 13 of 16 :   Generating table: prepStrListTable (w/95% CIs)\n",
      "   Iter 14 of 16 :   Generating table: effectStrListTable (w/95% CIs)\n",
      "   Iter 15 of 16 :   Generating table: germListTable (w/95% CIs)\n",
      "   Iter 16 of 16 :   Generating table: progressTable (w/95% CIs)\n",
      "  Generating special: gaugeOptAppendixTables (w/95% CIs)\n",
      "  Generating special: gaugeOptAppendixTables\n",
      "  Generating special: gaugeOptAppendixGatesets (w/95% CIs)\n",
      "  Generating special: gaugeOptAppendixGatesets\n",
      "  Performing gauge transforms for appendix...\n",
      "--- Gauge Optimization to a target (L-BFGS-B) ---\n",
      "  The resulting Frobenius-norm distance is: 0.0387358\n",
      "    frobenius norm diff of Gi = 0.172439\n",
      "    frobenius norm diff of Gx = 0.172062\n",
      "    frobenius norm diff of Gy = 0.175132\n",
      "    frobenius norm diff of rho0 = 0.00235817\n",
      "    frobenius norm diff of E0 = 0.00139707\n",
      "--- Gauge Optimization to a target (L-BFGS-B) ---\n",
      "  The resulting Frobenius-norm distance is: 0.00855863\n",
      "    frobenius norm diff of Gi = 0.172439\n",
      "    frobenius norm diff of Gx = 0.172089\n",
      "    frobenius norm diff of Gy = 0.17524\n",
      "    frobenius norm diff of rho0 = 0.0015378\n",
      "    frobenius norm diff of E0 = 0.000681136\n",
      "--- Gauge Optimization to a target (L-BFGS-B) ---\n",
      "  The resulting Frobenius-norm distance is: 0.043248\n",
      "    frobenius norm diff of Gi = 0.172439\n",
      "    frobenius norm diff of Gx = 0.172054\n",
      "    frobenius norm diff of Gy = 0.175121\n",
      "    frobenius norm diff of rho0 = 0.00340492\n",
      "    frobenius norm diff of E0 = 0.00201552\n",
      "--- Gauge Optimization to CPTP and target w/valid SPAM (L-BFGS-B) ---\n",
      "  The resulting CPTP and target penalty is: -6.02175\n",
      "  *** Generating plots ***\n",
      "  Chi2 plots (10): \n",
      "   Iter 0 of 1 :   Generating figure: bestEstimateColorBoxPlot (w/95% CIs)\n",
      "  Retrieving cached figure: bestEstimateColorBoxPlot\n",
      "   Iter 1 of 1 :   Generating figure: invertedBestEstimateColorBoxPlot (w/95% CIs)\n",
      "  Retrieving cached figure: invertedBestEstimateColorBoxPlot\n",
      "   Iter 1 of 8 :   Generating figure: estimateForLIndex1ColorBoxPlot (w/95% CIs)\n",
      "  Generating figure: estimateForLIndex1ColorBoxPlot\n",
      "   Iter 2 of 8 :   Generating figure: estimateForLIndex2ColorBoxPlot (w/95% CIs)\n",
      "  Generating figure: estimateForLIndex2ColorBoxPlot\n",
      "   Iter 3 of 8 :   Generating figure: estimateForLIndex3ColorBoxPlot (w/95% CIs)\n",
      "  Generating figure: estimateForLIndex3ColorBoxPlot\n",
      "   Iter 4 of 8 :   Generating figure: estimateForLIndex4ColorBoxPlot (w/95% CIs)\n",
      "  Generating figure: estimateForLIndex4ColorBoxPlot\n",
      "   Iter 5 of 8 :   Generating figure: estimateForLIndex5ColorBoxPlot (w/95% CIs)\n",
      "  Generating figure: estimateForLIndex5ColorBoxPlot\n",
      "   Iter 6 of 8 :   Generating figure: estimateForLIndex6ColorBoxPlot (w/95% CIs)\n",
      "  Generating figure: estimateForLIndex6ColorBoxPlot\n",
      "   Iter 7 of 8 :   Generating figure: estimateForLIndex7ColorBoxPlot (w/95% CIs)\n",
      "  Generating figure: estimateForLIndex7ColorBoxPlot\n",
      "   Iter 8 of 8 :   Generating figure: estimateForLIndex8ColorBoxPlot (w/95% CIs)\n",
      "  Generating figure: estimateForLIndex8ColorBoxPlot\n",
      "  \n",
      "   -- Direct-X plots   (2):\n",
      "   Iter 0 of 1 :   Generating figure: directLongSeqGSTColorBoxPlot (w/95% CIs)\n",
      "  Generating figure: directLongSeqGSTColorBoxPlot\n",
      "  Generating special: DirectLongSeqGatesets (w/95% CIs)\n",
      "  Generating special: DirectLongSeqGatesets\n",
      "   Iter 1 of 1 :   Generating figure: directLongSeqGSTDeviationColorBoxPlot (w/95% CIs)\n",
      "  Generating figure: directLongSeqGSTDeviationColorBoxPlot\n",
      "  Retrieving cached special: DirectLongSeqGatesets (w/95% CIs)\n"
     ]
    },
    {
     "name": "stderr",
     "output_type": "stream",
     "text": [
      "/home/enielse/research/pyGSTi/packages/pygsti/report/plotting.py:2758: RuntimeWarning: invalid value encountered in absolute\n",
      "  for iy in range(len(yvals)) ])\n",
      "/home/enielse/research/pyGSTi/packages/pygsti/report/plotting.py:413: RuntimeWarning: invalid value encountered in greater\n",
      "  resdat[resdat>0] /= abs(vmax - midpoint)\n",
      "/home/enielse/research/pyGSTi/packages/pygsti/report/plotting.py:414: RuntimeWarning: invalid value encountered in less\n",
      "  resdat[resdat<0] /= abs(vmin - midpoint)\n"
     ]
    },
    {
     "name": "stdout",
     "output_type": "stream",
     "text": [
      "  \n",
      "   -- Error rate plots...\n",
      "  Generating figure: smallEigvalErrRateColorBoxPlot (w/95% CIs)\n",
      "  Generating figure: smallEigvalErrRateColorBoxPlot\n",
      "  Retrieving cached special: DirectLongSeqGatesets (w/95% CIs)\n"
     ]
    },
    {
     "name": "stderr",
     "output_type": "stream",
     "text": [
      "/home/enielse/research/pyGSTi/packages/pygsti/report/plotting.py:1644: RuntimeWarning: invalid value encountered in absolute\n",
      "  for iy in range(len(yvals)) ])\n"
     ]
    },
    {
     "name": "stdout",
     "output_type": "stream",
     "text": [
      "   -- Whack-a-mole plots (6):    Iter 0 of 2 :   Generating figure: whackGxMoleBoxes (w/95% CIs)\n",
      "  Generating figure: whackGxMoleBoxes\n",
      "   Iter 1 of 2 :   Generating figure: whackGyMoleBoxes (w/95% CIs)\n",
      "  Generating figure: whackGyMoleBoxes\n",
      "   Iter 2 of 2 :   Generating figure: whackGiMoleBoxes (w/95% CIs)\n",
      "  Generating figure: whackGiMoleBoxes\n",
      "   Iter 0 of 2 :   Generating figure: whackGxMoleBoxesSummed (w/95% CIs)\n",
      "  Generating figure: whackGxMoleBoxesSummed\n",
      "   Iter 1 of 2 :   Generating figure: whackGyMoleBoxesSummed (w/95% CIs)\n",
      "  Generating figure: whackGyMoleBoxesSummed\n",
      "   Iter 2 of 2 :   Generating figure: whackGiMoleBoxesSummed (w/95% CIs)\n",
      "  Generating figure: whackGiMoleBoxesSummed\n",
      "  \n",
      "  *** Merging into template file ***\n",
      "  Latex file(s) successfully generated.  Attempting to compile with pdflatex...\n",
      "  Initial output PDF tutorial_files/Example_report.pdf successfully generated.\n",
      "  Final output PDF tutorial_files/Example_report.pdf successfully generated. Cleaning up .aux and .log files.\n",
      "  *** Generating tables ***\n",
      "  Retrieving cached table: bestGatesetSpamTable (w/95% CIs)\n",
      "  Retrieving cached table: bestGatesetSpamParametersTable (w/95% CIs)\n",
      "  Retrieving cached table: bestGatesetGatesTable (w/95% CIs)\n",
      "  Retrieving cached table: bestGatesetDecompTable (w/95% CIs)\n",
      "  Retrieving cached table: bestGatesetRotnAxisTable (w/95% CIs)\n",
      "  Retrieving cached table: bestGatesetVsTargetTable (w/95% CIs)\n",
      "  Retrieving cached table: bestGatesetErrorGenTable (w/95% CIs)\n",
      "  Retrieving cached table: progressTable (w/95% CIs)\n",
      "  *** Generating plots ***\n",
      "  *** Merging into template file ***\n",
      "  Latex file(s) successfully generated.  Attempting to compile with pdflatex...\n",
      "  Initial output PDF tutorial_files/Example_brief.pdf successfully generated.\n",
      "  Final output PDF tutorial_files/Example_brief.pdf successfully generated. Cleaning up .aux and .log files.\n",
      "  *** Generating tables ***\n",
      "  Retrieving cached table: targetSpamTable (w/95% CIs)\n",
      "  Retrieving cached table: targetGatesTable (w/95% CIs)\n",
      "  Retrieving cached table: datasetOverviewTable (w/95% CIs)\n",
      "  Retrieving cached table: bestGatesetSpamTable (w/95% CIs)\n",
      "  Retrieving cached table: bestGatesetSpamParametersTable (w/95% CIs)\n",
      "  Retrieving cached table: bestGatesetGatesTable (w/95% CIs)\n",
      "  Retrieving cached table: bestGatesetChoiTable (w/95% CIs)\n",
      "  Retrieving cached table: bestGatesetDecompTable (w/95% CIs)\n",
      "  Retrieving cached table: bestGatesetRotnAxisTable (w/95% CIs)\n",
      "  Retrieving cached table: bestGatesetVsTargetTable (w/95% CIs)\n",
      "  Retrieving cached table: bestGatesetErrorGenTable (w/95% CIs)\n",
      "  Retrieving cached table: fiducialListTable (w/95% CIs)\n",
      "  Retrieving cached table: prepStrListTable (w/95% CIs)\n",
      "  Retrieving cached table: effectStrListTable (w/95% CIs)\n",
      "  Retrieving cached table: germListTable (w/95% CIs)\n",
      "  Retrieving cached table: progressTable (w/95% CIs)\n",
      "  *** Generating plots ***\n",
      "   -- Chi2 plots (9):    Iter 0 of 0 :   Retrieving cached figure: bestEstimateColorBoxPlot (w/95% CIs)\n",
      "   Iter 1 of 8 :   Retrieving cached figure: estimateForLIndex1ColorBoxPlot (w/95% CIs)\n",
      "   Iter 2 of 8 :   Retrieving cached figure: estimateForLIndex2ColorBoxPlot (w/95% CIs)\n",
      "   Iter 3 of 8 :   Retrieving cached figure: estimateForLIndex3ColorBoxPlot (w/95% CIs)\n",
      "   Iter 4 of 8 :   Retrieving cached figure: estimateForLIndex4ColorBoxPlot (w/95% CIs)\n",
      "   Iter 5 of 8 :   Retrieving cached figure: estimateForLIndex5ColorBoxPlot (w/95% CIs)\n",
      "   Iter 6 of 8 :   Retrieving cached figure: estimateForLIndex6ColorBoxPlot (w/95% CIs)\n",
      "   Iter 7 of 8 :   Retrieving cached figure: estimateForLIndex7ColorBoxPlot (w/95% CIs)\n",
      "   Iter 8 of 8 :   Retrieving cached figure: estimateForLIndex8ColorBoxPlot (w/95% CIs)\n",
      "  \n",
      "   -- Direct-X plots (2)   Iter 0 of 1 :   Retrieving cached figure: directLongSeqGSTColorBoxPlot (w/95% CIs)\n",
      "   Iter 1 of 1 :   Retrieving cached figure: directLongSeqGSTDeviationColorBoxPlot (w/95% CIs)\n"
     ]
    },
    {
     "name": "stderr",
     "output_type": "stream",
     "text": [
      "/home/enielse/research/pyGSTi/packages/pygsti/report/plotting.py:413: RuntimeWarning: invalid value encountered in greater\n",
      "  resdat[resdat>0] /= abs(vmax - midpoint)\n",
      "/home/enielse/research/pyGSTi/packages/pygsti/report/plotting.py:414: RuntimeWarning: invalid value encountered in less\n",
      "  resdat[resdat<0] /= abs(vmin - midpoint)\n"
     ]
    },
    {
     "name": "stdout",
     "output_type": "stream",
     "text": [
      "  \n",
      "   -- Error rate plots...\n",
      "  Retrieving cached figure: smallEigvalErrRateColorBoxPlot (w/95% CIs)\n",
      "   -- Whack-a-mole plots (6):    Iter 0 of 2 :   Retrieving cached figure: whackGxMoleBoxes (w/95% CIs)\n",
      "   Iter 1 of 2 :   Retrieving cached figure: whackGyMoleBoxes (w/95% CIs)\n",
      "   Iter 2 of 2 :   Retrieving cached figure: whackGiMoleBoxes (w/95% CIs)\n",
      "   Iter 0 of 2 :   Retrieving cached figure: whackGxMoleBoxesSummed (w/95% CIs)\n",
      "   Iter 1 of 2 :   Retrieving cached figure: whackGyMoleBoxesSummed (w/95% CIs)\n",
      "   Iter 2 of 2 :   Retrieving cached figure: whackGiMoleBoxesSummed (w/95% CIs)\n",
      "  \n",
      "  *** Merging into template file ***\n",
      "  Latex file(s) successfully generated.  Attempting to compile with pdflatex...\n",
      "  Initial output PDF tutorial_files/Example_slides.pdf successfully generated.\n",
      "  Final output PDF tutorial_files/Example_slides.pdf successfully generated. Cleaning up .aux and .log files.\n",
      "  *** Generating tables ***\n",
      "   Iter 00 of 15 :   Retrieving cached table: targetSpamTable (w/95% CIs)\n",
      "   Iter 01 of 15 :   Retrieving cached table: targetGatesTable (w/95% CIs)\n",
      "   Iter 02 of 15 :   Retrieving cached table: datasetOverviewTable (w/95% CIs)\n",
      "   Iter 03 of 15 :   Retrieving cached table: bestGatesetSpamTable (w/95% CIs)\n",
      "   Iter 04 of 15 :   Retrieving cached table: bestGatesetSpamParametersTable (w/95% CIs)\n",
      "   Iter 05 of 15 :   Retrieving cached table: bestGatesetGatesTable (w/95% CIs)\n",
      "   Iter 06 of 15 :   Retrieving cached table: bestGatesetChoiTable (w/95% CIs)\n",
      "   Iter 07 of 15 :   Retrieving cached table: bestGatesetDecompTable (w/95% CIs)\n",
      "   Iter 08 of 15 :   Retrieving cached table: bestGatesetRotnAxisTable (w/95% CIs)\n",
      "   Iter 09 of 15 :   Retrieving cached table: bestGatesetVsTargetTable (w/95% CIs)\n",
      "   Iter 10 of 15 :   Retrieving cached table: bestGatesetErrorGenTable (w/95% CIs)\n",
      "   Iter 11 of 15 :   Retrieving cached table: fiducialListTable (w/95% CIs)\n",
      "   Iter 12 of 15 :   Retrieving cached table: prepStrListTable (w/95% CIs)\n",
      "   Iter 13 of 15 :   Retrieving cached table: effectStrListTable (w/95% CIs)\n",
      "   Iter 14 of 15 :   Retrieving cached table: germListTable (w/95% CIs)\n",
      "   Iter 15 of 15 :   Retrieving cached table: progressTable (w/95% CIs)\n",
      "  *** Generating plots ***\n",
      "   -- Chi2 plots (9):    Iter 0 of 0 :   Retrieving cached figure: bestEstimateColorBoxPlot (w/95% CIs)\n",
      "   Iter 1 of 8 :   Retrieving cached figure: estimateForLIndex1ColorBoxPlot (w/95% CIs)\n",
      "   Iter 2 of 8 :   Retrieving cached figure: estimateForLIndex2ColorBoxPlot (w/95% CIs)\n",
      "   Iter 3 of 8 :   Retrieving cached figure: estimateForLIndex3ColorBoxPlot (w/95% CIs)\n",
      "   Iter 4 of 8 :   Retrieving cached figure: estimateForLIndex4ColorBoxPlot (w/95% CIs)\n",
      "   Iter 5 of 8 :   Retrieving cached figure: estimateForLIndex5ColorBoxPlot (w/95% CIs)\n",
      "   Iter 6 of 8 :   Retrieving cached figure: estimateForLIndex6ColorBoxPlot (w/95% CIs)\n",
      "   Iter 7 of 8 :   Retrieving cached figure: estimateForLIndex7ColorBoxPlot (w/95% CIs)\n",
      "   Iter 8 of 8 :   Retrieving cached figure: estimateForLIndex8ColorBoxPlot (w/95% CIs)\n",
      "  \n",
      "   -- Direct-X plots (2)   Iter 0 of 1 :   Retrieving cached figure: directLongSeqGSTColorBoxPlot (w/95% CIs)\n",
      "   Iter 1 of 1 :   Retrieving cached figure: directLongSeqGSTDeviationColorBoxPlot (w/95% CIs)\n"
     ]
    },
    {
     "name": "stderr",
     "output_type": "stream",
     "text": [
      "/home/enielse/research/pyGSTi/packages/pygsti/report/plotting.py:413: RuntimeWarning: invalid value encountered in greater\n",
      "  resdat[resdat>0] /= abs(vmax - midpoint)\n",
      "/home/enielse/research/pyGSTi/packages/pygsti/report/plotting.py:414: RuntimeWarning: invalid value encountered in less\n",
      "  resdat[resdat<0] /= abs(vmin - midpoint)\n"
     ]
    },
    {
     "name": "stdout",
     "output_type": "stream",
     "text": [
      "  \n",
      "   -- Error rate plots...\n",
      "  Retrieving cached figure: smallEigvalErrRateColorBoxPlot (w/95% CIs)\n",
      "   -- Whack-a-mole plots (6):    Iter 0 of 2 :   Retrieving cached figure: whackGxMoleBoxes (w/95% CIs)\n",
      "   Iter 1 of 2 :   Retrieving cached figure: whackGyMoleBoxes (w/95% CIs)\n",
      "   Iter 2 of 2 :   Retrieving cached figure: whackGiMoleBoxes (w/95% CIs)\n",
      "   Iter 0 of 2 :   Retrieving cached figure: whackGxMoleBoxesSummed (w/95% CIs)\n",
      "   Iter 1 of 2 :   Retrieving cached figure: whackGyMoleBoxesSummed (w/95% CIs)\n",
      "   Iter 2 of 2 :   Retrieving cached figure: whackGiMoleBoxesSummed (w/95% CIs)\n",
      "  \n",
      "  *** Assembling PPT file ***\n",
      "  Latexing progressTable table...\n",
      "  Latexing bestGatesetVsTargetTable table...\n",
      "  Latexing bestGatesetErrorGenTable table...\n",
      "  Latexing bestGatesetDecompTable table...\n",
      "  Latexing bestGatesetRotnAxisTable table...\n",
      "  Latexing bestGatesetGatesTable table...\n",
      "  Latexing bestGatesetSpamTable table...\n",
      "  Latexing bestGatesetSpamParametersTable table...\n",
      "  Latexing bestGatesetChoiTable table...\n",
      "  Latexing targetSpamTable table...\n",
      "  Latexing targetGatesTable table...\n",
      "  Latexing fiducialListTable table...\n",
      "  Latexing germListTable table...\n",
      "  Latexing datasetOverviewTable table...\n",
      "  Final output PPT tutorial_files/Example_slides.pptx successfully generated.\n"
     ]
    }
   ],
   "source": [
    "res.create_full_report_pdf(filename=\"tutorial_files/Example_report.pdf\", verbosity=2, confidenceLevel=95,\n",
    "                        debugAidsAppendix=True, gaugeOptAppendix=True,\n",
    "                        pixelPlotAppendix=True, whackamoleAppendix=True)\n",
    "\n",
    "res.create_brief_report_pdf(filename=\"tutorial_files/Example_brief.pdf\", verbosity=2, confidenceLevel=95)\n",
    "\n",
    "res.create_presentation_pdf(filename=\"tutorial_files/Example_slides.pdf\", verbosity=2, confidenceLevel=95,\n",
    "                         debugAidsAppendix=True, pixelPlotAppendix=True, whackamoleAppendix=True)\n",
    "\n",
    "res.create_presentation_ppt(filename=\"tutorial_files/Example_slides.ppt\", verbosity=2, confidenceLevel=95,\n",
    "                         debugAidsAppendix=True, pixelPlotAppendix=True, whackamoleAppendix=True)"
   ]
  },
  {
   "cell_type": "code",
   "execution_count": 6,
   "metadata": {
    "collapsed": false
   },
   "outputs": [
    {
     "data": {
      "text/plain": [
       "'1\\\\e{30}'"
      ]
     },
     "execution_count": 6,
     "metadata": {},
     "output_type": "execute_result"
    }
   ],
   "source": [
    "import pygsti.report.latex as LU\n",
    "from imp import reload\n",
    "reload(LU)\n",
    "LU.latex_value(1.2e30,2)"
   ]
  },
  {
   "cell_type": "code",
   "execution_count": 7,
   "metadata": {
    "collapsed": false
   },
   "outputs": [],
   "source": []
  }
 ],
 "metadata": {
  "kernelspec": {
   "display_name": "Python 3",
   "language": "python",
   "name": "python3"
  },
  "language_info": {
   "codemirror_mode": {
    "name": "ipython",
    "version": 3
   },
   "file_extension": ".py",
   "mimetype": "text/x-python",
   "name": "python",
   "nbconvert_exporter": "python",
   "pygments_lexer": "ipython3",
   "version": "3.5.1+"
  }
 },
 "nbformat": 4,
 "nbformat_minor": 0
}
