{
 "cells": [
  {
   "cell_type": "code",
   "execution_count": 1,
   "metadata": {
    "collapsed": false
   },
   "outputs": [],
   "source": [
    "#Import relevant modules\n",
    "import pygsti\n",
    "import rb\n",
    "%matplotlib inline\n",
    "from matplotlib import pyplot as plt\n",
    "import numpy as _np\n",
    "from pygsti.construction import std1Q_XYI\n",
    "from scipy.optimize import curve_fit\n",
    "import time"
   ]
  },
  {
   "cell_type": "code",
   "execution_count": 2,
   "metadata": {
    "collapsed": false
   },
   "outputs": [],
   "source": [
    "import pygsti"
   ]
  },
  {
   "cell_type": "code",
   "execution_count": 3,
   "metadata": {
    "collapsed": true
   },
   "outputs": [],
   "source": [
    "#Declare target gate set (here, we're using standard {I, X(pi/2), Y(pi/2)} gate set)\n",
    "gs_target = std1Q_XYI.gs_target"
   ]
  },
  {
   "cell_type": "code",
   "execution_count": 4,
   "metadata": {
    "collapsed": true
   },
   "outputs": [],
   "source": [
    "#Declare a \"primitives dictionary\".  Here the primitives are the actual\n",
    "#gate operations {I, X(pi/2), Y(pi/2)}.  The Clifford operations are\n",
    "#expressed using the larger gate set of {I, X(pi/2), X(pi), X(-pi/2), Y(pi/2), Y(pi), Y(-pi/2)}.\n",
    "#We call this larger gate set the \"canonical gate set\" and declare here a dictionary\n",
    "#mapping the canonical gate set to primitive gate operations.\n",
    "primD = {'Gi':['Gi'],'Gxp2':['Gx'],'Gxp':['Gx','Gx'],'Gxmp2':['Gx','Gx','Gx'],\n",
    "          'Gyp2':['Gy'],'Gyp':['Gy','Gy'],'Gymp2':['Gy','Gy','Gy']}"
   ]
  },
  {
   "cell_type": "code",
   "execution_count": 5,
   "metadata": {
    "collapsed": true
   },
   "outputs": [],
   "source": [
    "#Now let's declare:\n",
    "#m_min- minimum Clifford sequence length\n",
    "#m_max- maximum Clifford sequence length\n",
    "#delta_m- step size between Clifford sequences of different lengths\n",
    "#K_m_sched- Schedule for K_m, that is, how many sequences should be sampled with Clifford length m.\n",
    "#Note that K_m_sched can be a constant or an OrderedDict.\n",
    "\n",
    "#Here we are declaring K_m_sched to be a constant, meaning that K_m is a single constant for all m.\n",
    "#See RB-Tutorial-2 for use of K_m as an OrderedDict.\n",
    "\n",
    "m_min = 1\n",
    "m_max = 1000\n",
    "delta_m = 10\n",
    "K_m_sched = 10"
   ]
  },
  {
   "cell_type": "code",
   "execution_count": 6,
   "metadata": {
    "collapsed": false
   },
   "outputs": [
    {
     "name": "stdout",
     "output_type": "stream",
     "text": [
      "K_m_sched is not an OrderedDict, so Wallman and Flammia error bars are not valid.\n"
     ]
    }
   ],
   "source": [
    "#Now we will generate the list of RB sequences to run (in terms of primitive gate\n",
    "#operations), write them to file, and write \n",
    "#an auxiliary file which keeps track of the Clifford length of each primitive gate sequence.\n",
    "\n",
    "filename_base = 'RB-Tutorial-1_template'\n",
    "rb_seqs, cliff_lens = rb.write_empty_rb_files(filename_base,1,1000,100,K_m_sched,'primitive',primD,seed=0)\n",
    "\n",
    "#Because K_m_sched is a constant, we cannot use Wallman and Flammia error bars; the code warns us\n",
    "#accordingly."
   ]
  },
  {
   "cell_type": "code",
   "execution_count": 7,
   "metadata": {
    "collapsed": true
   },
   "outputs": [],
   "source": [
    "#There is now an empty template file \"RB-Tutorial-1_template.txt\".  \n",
    "#For actual physical experiments, this file is to be filled with\n",
    "#experimental data and read in using pygsti.io.load_dataset.\n",
    "\n",
    "#Here we will generate fake data instead and just use the resulting dataset object.\n",
    "\n",
    "#Additionally, there is now a pickle file \"RB-Tutorial-1_template_cliff_seq_lengths.pkl\"\n",
    "#which lists in order the Clifford length of each sequence.\n",
    "#For analyzing experimental data, this pickle file should be read in, \n",
    "#or the above-declared cliff_lens list should be used."
   ]
  },
  {
   "cell_type": "code",
   "execution_count": 8,
   "metadata": {
    "collapsed": true
   },
   "outputs": [],
   "source": [
    "#To generate a dataset, we first need to make a gateset.\n",
    "#Here we assume a gate set that is perfect except for some small amount of depolarizing noise on each gate.\n",
    "\n",
    "depol_strength = 1e-3\n",
    "\n",
    "gs_experimental = std1Q_XYI.gs_target\n",
    "gs_experimental = gs_experimental.depolarize(gate_noise=depol_strength)"
   ]
  },
  {
   "cell_type": "code",
   "execution_count": 9,
   "metadata": {
    "collapsed": false
   },
   "outputs": [
    {
     "name": "stdout",
     "output_type": "stream",
     "text": [
      "1.1076939106\n"
     ]
    }
   ],
   "source": [
    "#Now we choose the number of clicks per experiment and simulate our data.\n",
    "#Note that time to generate simulated data can be nontrivial.  \n",
    "#Here, it should take about 1 second.\n",
    "\n",
    "N=100\n",
    "\n",
    "start = time.time()\n",
    "rb_data = pygsti.construction.generate_fake_data(gs_experimental,rb_seqs,N,'binomial',seed=1)\n",
    "end = time.time()\n",
    "print end - start"
   ]
  },
  {
   "cell_type": "code",
   "execution_count": 10,
   "metadata": {
    "collapsed": true
   },
   "outputs": [],
   "source": [
    "#Now it is time to analyze the RB data.\n",
    "#After analyzing the data, an rb_results object is generated.\n",
    "#We extract the relevant parameters we care about from the rb_results object.\n",
    "\n",
    "#We set the following keyword arguments here:\n",
    "#prim_dict = primD.  Declares the predefined dictionary mapping the \"canonical\" gate set to our primitive gate set.\n",
    "#pre_avg = True.  Are we, prior to fitting to the RB decay curve, \"pre-averaging\" the data?  That is, are we\n",
    "#using a single survival probability per sequence length or not?  For now I recommend keeping this set to True.\n",
    "#process_cliff = True.  Whether or not we actually perform the RB analysis for Clifford operations.\n",
    "#process_prim = True.  Whether or not we actually perform the RB analysis for primitive operations.  \n",
    "#NOTE:  RB IS NOT GUARANTEED TO GIVE RELIABLE PRIMITIVE ANALYSIS (and in general will not!).\n",
    "\n",
    "rb_results = rb.process_rb_data(rb_data,rb_seqs,cliff_lens,prim_dict=primD,pre_avg=True,process_prim=True,process_cliff=True)"
   ]
  },
  {
   "cell_type": "code",
   "execution_count": 11,
   "metadata": {
    "collapsed": false
   },
   "outputs": [
    {
     "data": {
      "image/png": "[encoded data removed]",
      "text/plain": [
       "<matplotlib.figure.Figure at 0x1043a4a10>"
      ]
     },
     "metadata": {},
     "output_type": "display_data"
    },
    {
     "data": {
      "image/png": "[encoded data removed]",
      "text/plain": [
       "<matplotlib.figure.Figure at 0x1043a4dd0>"
      ]
     },
     "metadata": {},
     "output_type": "display_data"
    }
   ],
   "source": [
    "#Let's plot our decay curves!\n",
    "#Note that because we pre-averaged, each data blue data point is simply an average of multiple success rates.\n",
    "#However, for the primitives plot, many sequences have a unique primitive sequence length, so this effect is not\n",
    "#nearly as pronounced.\n",
    "rb_results.plot('cliff')\n",
    "\n",
    "rb_results.plot('prim')"
   ]
  },
  {
   "cell_type": "code",
   "execution_count": 12,
   "metadata": {
    "collapsed": false
   },
   "outputs": [
    {
     "name": "stdout",
     "output_type": "stream",
     "text": [
      "For Cliffords:\n",
      "A = 0.501936460141\n",
      "B = 0.501276979413\n",
      "f = 0.99653292489\n",
      "F_avg = 0.998266462445\n",
      "r = 0.00173353755525\n",
      "\n",
      "For primitives:\n",
      "A = 0.509627246508\n",
      "B = 0.492877234975\n",
      "f = 0.998988252715\n",
      "F_avg = 0.999494126357\n",
      "r = 0.000505873642596\n"
     ]
    }
   ],
   "source": [
    "#Let's look at the RB results.  The parameters are defined as follows, following Wallman and Flammia \n",
    "#(http://iopscience.iop.org/article/10.1088/1367-2630/16/10/103032)\n",
    "\n",
    "#A,B,f are fit parameters to the function F(m) = A+B*f^m, where F(m) is the survival probability for sequences of length m.\n",
    "#F_avg = ((d-1)*f+1.)/d, where for n=1 qubit, d=2.  F_avg is the average (Clifford or primitive) gate fidelity.\n",
    "#r = 1-F_avg.  For Cliffords, r is the \"RB number.\"\n",
    "rb_results.print_cliff()\n",
    "print\n",
    "rb_results.print_prim()"
   ]
  },
  {
   "cell_type": "code",
   "execution_count": 13,
   "metadata": {
    "collapsed": false
   },
   "outputs": [
    {
     "name": "stdout",
     "output_type": "stream",
     "text": [
      "Analytic RB error rate: 0.00176791958146\n",
      "Experimental RB error rate: 0.00173353755525\n"
     ]
    }
   ],
   "source": [
    "#Because we generated our data from a known Markovian gate set, we can analytically compute\n",
    "#the Clifford RB error rate r.\n",
    "\n",
    "#First we make map our experimental gate set of primitive operations into a dictionary of Cliffords:\n",
    "\n",
    "gs_cliff_experimental = rb.makeRealCliffs_gs(gs_experimental,primD)\n",
    "\n",
    "#Then we directly compute the average twirled Clifford error rate:\n",
    "\n",
    "analytic_rb_error_rate = rb.analytic_rb_cliff_gateset_error_rate(gs_cliff_experimental)\n",
    "\n",
    "print \"Analytic RB error rate:\", analytic_rb_error_rate\n",
    "print \"Experimental RB error rate:\", rb_results.cliff_r"
   ]
  },
  {
   "cell_type": "code",
   "execution_count": 14,
   "metadata": {
    "collapsed": false,
    "scrolled": true
   },
   "outputs": [
    {
     "name": "stdout",
     "output_type": "stream",
     "text": [
      "Generating non-parametric dataset.\n",
      "Generating non-parametric dataset.\n",
      "Generating non-parametric dataset.\n",
      "Generating non-parametric dataset.\n",
      "Generating non-parametric dataset.\n",
      "Generating non-parametric dataset.\n",
      "Generating non-parametric dataset.\n",
      "Generating non-parametric dataset.\n",
      "Generating non-parametric dataset.\n",
      "Generating non-parametric dataset.\n",
      "Generating non-parametric dataset.\n",
      "Generating non-parametric dataset.\n",
      "Generating non-parametric dataset.\n",
      "Generating non-parametric dataset.\n",
      "Generating non-parametric dataset.\n",
      "Generating non-parametric dataset.\n",
      "Generating non-parametric dataset.\n",
      "Generating non-parametric dataset.\n",
      "Generating non-parametric dataset.\n",
      "Generating non-parametric dataset.\n",
      "Generating non-parametric dataset.\n",
      "Generating non-parametric dataset.\n",
      "Generating non-parametric dataset.\n",
      "Generating non-parametric dataset.\n",
      "Generating non-parametric dataset.\n",
      "Generating non-parametric dataset.\n",
      "Generating non-parametric dataset.\n",
      "Generating non-parametric dataset.\n",
      "Generating non-parametric dataset.\n",
      "Generating non-parametric dataset.\n",
      "Generating non-parametric dataset.\n",
      "Generating non-parametric dataset.\n",
      "Generating non-parametric dataset.\n",
      "Generating non-parametric dataset.\n",
      "Generating non-parametric dataset.\n",
      "Generating non-parametric dataset.\n",
      "Generating non-parametric dataset.\n",
      "Generating non-parametric dataset.\n",
      "Generating non-parametric dataset.\n",
      "Generating non-parametric dataset.\n",
      "Generating non-parametric dataset.\n",
      "Generating non-parametric dataset.\n",
      "Generating non-parametric dataset.\n",
      "Generating non-parametric dataset.\n",
      "Generating non-parametric dataset.\n",
      "Generating non-parametric dataset.\n",
      "Generating non-parametric dataset.\n",
      "Generating non-parametric dataset.\n",
      "Generating non-parametric dataset.\n",
      "Generating non-parametric dataset.\n",
      "Generating non-parametric dataset.\n",
      "Generating non-parametric dataset.\n",
      "Generating non-parametric dataset.\n",
      "Generating non-parametric dataset.\n",
      "Generating non-parametric dataset.\n",
      "Generating non-parametric dataset.\n",
      "Generating non-parametric dataset.\n",
      "Generating non-parametric dataset.\n",
      "Generating non-parametric dataset.\n",
      "Generating non-parametric dataset.\n",
      "Generating non-parametric dataset.\n",
      "Generating non-parametric dataset.\n",
      "Generating non-parametric dataset.\n",
      "Generating non-parametric dataset.\n",
      "Generating non-parametric dataset.\n",
      "Generating non-parametric dataset.\n",
      "Generating non-parametric dataset.\n",
      "Generating non-parametric dataset.\n",
      "Generating non-parametric dataset.\n",
      "Generating non-parametric dataset.\n",
      "Generating non-parametric dataset.\n",
      "Generating non-parametric dataset.\n",
      "Generating non-parametric dataset.\n",
      "Generating non-parametric dataset.\n",
      "Generating non-parametric dataset.\n",
      "Generating non-parametric dataset.\n",
      "Generating non-parametric dataset.\n",
      "Generating non-parametric dataset.\n",
      "Generating non-parametric dataset.\n",
      "Generating non-parametric dataset.\n",
      "Generating non-parametric dataset.\n",
      "Generating non-parametric dataset.\n",
      "Generating non-parametric dataset.\n",
      "Generating non-parametric dataset.\n",
      "Generating non-parametric dataset.\n",
      "Generating non-parametric dataset.\n",
      "Generating non-parametric dataset.\n",
      "Generating non-parametric dataset.\n",
      "Generating non-parametric dataset.\n",
      "Generating non-parametric dataset.\n",
      "Generating non-parametric dataset.\n",
      "Generating non-parametric dataset.\n",
      "Generating non-parametric dataset.\n",
      "Generating non-parametric dataset.\n",
      "Generating non-parametric dataset.\n",
      "Generating non-parametric dataset.\n",
      "Generating non-parametric dataset.\n",
      "Generating non-parametric dataset.\n",
      "Generating non-parametric dataset.\n",
      "Generating non-parametric dataset.\n",
      "Error bars computed.  Use error_bars method to access.\n"
     ]
    }
   ],
   "source": [
    "#Lastly, let's put some error bars on the estimates.\n",
    "#Because we used a constant K_m_sched, we can't compute analytic error bars using the Wallman and Flammia method.\n",
    "#We can instead, however, compute bootstrapped error bars.\n",
    "#Error bars here are 1-sigma confidence intervals.\n",
    "\n",
    "rb_results.generate_error_bars('bootstrap',process_cliff=True,process_prim=True,seed=0)"
   ]
  },
  {
   "cell_type": "code",
   "execution_count": 16,
   "metadata": {
    "collapsed": false
   },
   "outputs": [
    {
     "name": "stdout",
     "output_type": "stream",
     "text": [
      "Results with boostrapped-derived error bars (1 sigma):\n",
      "prim A = 0.509627246508 +/- 0.0141652466138\n",
      "prim B = 0.492877234975 +/- 0.0143866494649\n",
      "prim f = 0.998988252715 +/- 8.15473715307e-05\n",
      "prim F_avg = 0.999494126357 +/- 4.07736857654e-05\n",
      "prim r = 0.000505873642596 +/- 4.07736857654e-05\n",
      "Cliff A = 0.501936460141 +/- 0.0170652277287\n",
      "Cliff B = 0.501276979413 +/- 0.0163594586634\n",
      "Cliff f = 0.99653292489 +/- 0.000301291173574\n",
      "Cliff F_avg = 0.998266462445 +/- 0.000150645586787\n",
      "Cliff r = 0.00173353755525 +/- 0.000150645586787\n"
     ]
    }
   ],
   "source": [
    "#Now that we've generated bootstrapped error bars, let's print them:\n",
    "rb_results.error_bars('bootstrap',process_cliff=True,process_prim=True)"
   ]
  },
  {
   "cell_type": "code",
   "execution_count": 17,
   "metadata": {
    "collapsed": false
   },
   "outputs": [
    {
     "name": "stdout",
     "output_type": "stream",
     "text": [
      "0.000150645586787\n"
     ]
    }
   ],
   "source": [
    "#We can also manually extract the error bars now; for example:\n",
    "\n",
    "print rb_results.cliff_r_error_BS"
   ]
  },
  {
   "cell_type": "code",
   "execution_count": null,
   "metadata": {
    "collapsed": true
   },
   "outputs": [],
   "source": []
  }
 ],
 "metadata": {
  "kernelspec": {
   "display_name": "Python 2",
   "language": "python",
   "name": "python2"
  },
  "language_info": {
   "codemirror_mode": {
    "name": "ipython",
    "version": 2
   },
   "file_extension": ".py",
   "mimetype": "text/x-python",
   "name": "python",
   "nbconvert_exporter": "python",
   "pygments_lexer": "ipython2",
   "version": "2.7.9"
  }
 },
 "nbformat": 4,
 "nbformat_minor": 0
}
