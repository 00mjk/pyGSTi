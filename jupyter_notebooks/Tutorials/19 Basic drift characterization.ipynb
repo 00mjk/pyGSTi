{
 "cells": [
  {
   "cell_type": "markdown",
   "metadata": {},
   "source": [
    "# Basic drift detection and characterization\n",
    "This tutorial shows how to implement a basic form of drift characterization on time-stamped data. This data can be from almost any quantum-circuit based experiment on one or more qubits, including suitably time-ordered GST or RB experiments. The methods in this notebook can be used on data from any experiment that satisfies the following criteria: \n",
    "\n",
    "- The experiments consist of $S \\geq 1$ different circuits, or sequences, acting on $Q \\geq 1$ entitities, where each entity is most likely a single qubit. (Each entity could correspond to, say, 2 qubits, but the most likely use for these methods is where each entity is a single qubit. So, for clarity, in this tutorial will just refer to these entitities as qubits).\n",
    "\n",
    "\n",
    "- Sequence $s$ is repeated, and an outcome recorded, $N$ times during each of $T$ different time-intervals. Let $\\tau_{s,1},\\tau_{s,2},\\dots,\\tau_{s,T}$ denote times associated with these time-intervals (e.g., the start time or mid-point of each interval).\n",
    "\n",
    "\n",
    "- The time-gap between consecutive sets of $N$ repeats of a sequence is approximately constant, and approximately independent of sequence. That is $t_{s,gap} \\approx \\tau_{s,t+1} - \\tau_{s,t}$ for all $s,t$ and some constant $t_{s,gap}$ (the time gap is constant for each sequence), and $t_{gap} \\equiv t_{s,gap} \\approx t_{s',gap}$ for all $s,s'$ (the time gap is the same for every sequence).\n",
    "\n",
    "\n",
    "- The result of each circuit has two possible outcomes for each qubit. Equivalently, the result of one repeat of a circuit can be represented as a bit string of length $Q$, where the $q^{\\rm th}$ bit represents the outcome for qubit $q$.\n",
    "\n",
    "Many characterization routines, include GST or RB, satisfy the above criteria *if* a suitable time-ordering for the repeats of all of the sequences is chosen. \n",
    "\n",
    "#### An example of a suitable experiment\n",
    "\n",
    "To clarify the above criteria, we now provide an example of a suitable experiment. One such suitable experiment would be 1 or 2 qubit GST. GST consists of implementing $S$ different sequences, and each sequence is repeated -- in total -- $R$ times. This set of experiments could be implemented by implementing sequences $1,2,...,S$ in order, each repeated $N$ times, with this complete loop of $S$ sequences repeated $T$ times, with $R = N \\times T$. As long as the there are no significant unexpected wait-times between any sequences (e.g., the experiment is not stopped for a significant length of time at some point), this experiments will satisfy the time-spacing criteria given above.\n",
    "\n",
    "#### What is the aim of the methods in this tutorial?\n",
    "\n",
    "The analysis function presented in this tutorial has two purposes: to detect and characterize drift. To be more specific, ....\n",
    "\n",
    "$$ \\boldsymbol{p}_{s} = (p_{s,1},p_{s,2},\\dots,p_{s,Q})$$.\n",
    "\n",
    "However, ....\n",
    "\n",
    "#### How do the methods in this tutorial work?\n",
    "\n",
    "The drift detection works via spectral analysis, by implement a type of discrete Fourier transform on the data and looking for peaks in the power spectrum that are larger than would be expected if there was no drift. This is detailed below in section 2.\n",
    "\n",
    "#### What are acceptable and optimal values for $N$, $T$, $S$?\n",
    "\n",
    "The total number of experiments is $N * T * S$, and for a fixed number of total experiments ... For fixed $N * T$, $N=1$ is alway the best option in principle (but note that the basic .....). However, if $T$ cannot be scaled as $1/N$ (e.g., because it is quicker to repeat the same sequence), it is not clear how best .... .\n",
    "\n",
    "#### What not to expect from this tutorial\n",
    "\n",
    "- This tutorial does *not* provide specifications for what experiments to run to detect and characterize drift. One option is the GST sequences, but this is not the only option, and it will not always be the best option. Suggested experiments will be included in a future tutorial or examples notebook.\n",
    "\n",
    "\n",
    "- The methods in this tutorial can detect and partially characterize drift, but they cannot certify that a device does not have drift. For example, if $N * T$ is very small (say, 50) then, unless the drift is \"large\", it is very likely that no drift will be detected, but obviously that does not mean that the device is drift free; the drift is just undetectable without taking more data.\n",
    "\n",
    "\n",
    "- The analysis function demonstrated in this tutorial been designed for ..."
   ]
  },
  {
   "cell_type": "code",
   "execution_count": 31,
   "metadata": {
    "collapsed": false
   },
   "outputs": [],
   "source": [
    "# No special imports are required, beyond pygsti\n",
    "from __future__ import print_function\n",
    "import pygsti\n",
    "\n",
    "# Imported for plotting output from the examples, and generate data.\n",
    "%matplotlib inline\n",
    "import matplotlib.pyplot as plt\n",
    "import numpy as np\n",
    "\n",
    "# To access some simulation functions, we import the drift module. This is not needed to run the analysis on real data\n",
    "from pygsti import drift"
   ]
  },
  {
   "cell_type": "markdown",
   "metadata": {},
   "source": [
    "\n",
    "For the purposes of this demonstration, we will take $S$, $Q$, $T$ and $N$ to be:"
   ]
  },
  {
   "cell_type": "code",
   "execution_count": 4,
   "metadata": {
    "collapsed": true
   },
   "outputs": [],
   "source": [
    "S = 3 #The number of different sequences\n",
    "Q = 2 #The number of qubits\n",
    "T = 100 #The number of timestamps\n",
    "N = 5 #The number of repeats per timestamps"
   ]
  },
  {
   "cell_type": "markdown",
   "metadata": {},
   "source": [
    "#### Generating fake data\n",
    "We need some fake data to demonstrate the methods. \n",
    "\n",
    "One natural method for generating this data is to pick some time-dependent function for the underlying drifting probabilities associated with each sequence and each qubit -- which are what we are trying to characterize -- and then sample from these probabilities to generate some data. This is what we'll do below.\n",
    " \n",
    "Below, we set the target probability of all the circuits, and plot them. There exact forms are not particularly relevant to this tutorial, and have been chosen fairly arbitrarily."
   ]
  },
  {
   "cell_type": "code",
   "execution_count": 5,
   "metadata": {
    "collapsed": true
   },
   "outputs": [],
   "source": []
  },
  {
   "cell_type": "code",
   "execution_count": 6,
   "metadata": {
    "collapsed": false
   },
   "outputs": [],
   "source": [
    "lag_time = 1e-6\n",
    "sequence_time = 1e-9\n",
    "# ....\n",
    "tmax = lag_time*T\n",
    "\n",
    "# Probability ....\n",
    "def probs0q0(t): return 0.5\n",
    "def probs0q1(t): return 0.5\n",
    "def probs1q0(t): return 0.5+0.008*np.cos((t+1/2.)*(T-5)*np.pi/tmax) + 0.05*np.sin(t*0.9*np.pi/tmax) - 0.1*np.cos(t*2.48*np.pi/tmax) \n",
    "def probs1q1(t): return 0.5+0.08*np.cos((t+1/2.)*(T-5)*np.pi/tmax)\n",
    "def probs2q0(t): return 0.5+0.016*np.cos((t+1/2.)*(T-5)*np.pi/tmax) + 0.2*np.sin(t*0.9*np.pi/tmax) - 0.2*np.cos(t*2.48*np.pi/tmax) \n",
    "def probs2q1(t): return 0.5+0.3*np.cos((t+1/2.)*(T-5)*np.pi/tmax)\n",
    "\n",
    "prob = {}\n",
    "prob[0,0] = probs0q0\n",
    "prob[0,1] = probs0q1\n",
    "prob[1,0] = probs1q0\n",
    "prob[1,1] = probs1q1\n",
    "prob[2,0] = probs2q0\n",
    "prob[2,1] = probs2q1\n",
    "\n",
    "sample_times = np.zeros((S,T*N),float)\n",
    "for s in range(0,S):\n",
    "    for t in range(0,T):\n",
    "        for n in range(0,N):\n",
    "            sample_times[s,t*N +n] = sequence_time*(N*s+n) + t*lag_time"
   ]
  },
  {
   "cell_type": "markdown",
   "metadata": {},
   "source": [
    "This function samples fake data, from some specified ..."
   ]
  },
  {
   "cell_type": "code",
   "execution_count": 7,
   "metadata": {
    "collapsed": false
   },
   "outputs": [],
   "source": [
    "data, times, parray = drift.generate_drifting_data(prob,sample_times,coursegrain=N)"
   ]
  },
  {
   "cell_type": "code",
   "execution_count": 26,
   "metadata": {
    "collapsed": true
   },
   "outputs": [],
   "source": [
    "timestep = 1e-6\n",
    "confidence = 0.95"
   ]
  },
  {
   "cell_type": "code",
   "execution_count": 27,
   "metadata": {
    "collapsed": true
   },
   "outputs": [],
   "source": [
    "results = pygsti.do_basic_drift_characterization(data, N, timestep=timestep, confidence=confidence)"
   ]
  },
  {
   "cell_type": "code",
   "execution_count": 28,
   "metadata": {
    "collapsed": false
   },
   "outputs": [
    {
     "data": {
      "text/plain": [
       "True"
      ]
     },
     "execution_count": 28,
     "metadata": {},
     "output_type": "execute_result"
    }
   ],
   "source": [
    "results.drift_detected"
   ]
  },
  {
   "cell_type": "code",
   "execution_count": 29,
   "metadata": {
    "collapsed": false
   },
   "outputs": [
    {
     "data": {
      "image/png": "[encoded data removed]",
      "text/plain": [
       "<matplotlib.figure.Figure at 0x10bfb75f8>"
      ]
     },
     "metadata": {},
     "output_type": "display_data"
    }
   ],
   "source": [
    "results.plot_power_spectrum()"
   ]
  },
  {
   "cell_type": "code",
   "execution_count": 36,
   "metadata": {
    "collapsed": false
   },
   "outputs": [
    {
     "name": "stdout",
     "output_type": "stream",
     "text": [
      "Drift has been detected at the following frequencies, given in Hertz:\n",
      "[  10000.  470000.  480000.]\n"
     ]
    }
   ],
   "source": [
    "print(\"Drift has been detected at the following frequencies, given in Hertz:\")\n",
    "print(results.global_drift_frequencies)"
   ]
  },
  {
   "cell_type": "markdown",
   "metadata": {},
   "source": [
    "## 2. Looking under the hood part 1: what kind of data are we analyzing?"
   ]
  },
  {
   "cell_type": "markdown",
   "metadata": {},
   "source": [
    "## 1. Input data format\n",
    "\n",
    "The techniques do not require any particular type of gate sequences, nor do they need to know what the gate sequences are. In particular, they do not require GST data. As such, the format for the main input data is not a pyGSTi dataset, and is instead an ordinary numpy array (later, functionality to accept a form of pyGSTi dataset as input will be addded).\n",
    "\n",
    "The input data format is a numpy array $M$ of dimension $(S \\times Q \\times T)$, where\n",
    "$M[s,q,t]$ is the number of counts for qubit $q$, with sequence $s$, for the $t^{\\rm th}$ implementation of that sequence. \n",
    "\n",
    "** Talk about the marginalized thing here ** E.g., 4 outcomes with ....\n",
    "\n",
    "In the special case of $Q = 1$, the array can be either of dimension $(S \\times 1 \\times T)$ or $(S \\times T)$, to avoid requiring the data to be padded with an unnecessary dimension.\n",
    "\n"
   ]
  },
  {
   "cell_type": "code",
   "execution_count": 8,
   "metadata": {
    "collapsed": false
   },
   "outputs": [
    {
     "data": {
      "image/png": "[encoded data removed]",
      "text/plain": [
       "<matplotlib.figure.Figure at 0x10b4a2978>"
      ]
     },
     "metadata": {},
     "output_type": "display_data"
    }
   ],
   "source": [
    "fig=plt.figure(figsize=(15,5))\n",
    "\n",
    "# We create some drifting probabilities, with sinosodial osscilating around a mean of 0.5,\n",
    "# with the drift strength and frequencies varying between sequence (increasing with sequence\n",
    "# index) and between qubit.\n",
    "linestyle = {}\n",
    "linestyle[0] = '-'\n",
    "linestyle[1] = '.--'\n",
    "for s in range(0,S):\n",
    "    for q in range(0,Q):\n",
    "        string = '$p(t)$ for sequence '+str(s)+' and qubit '+str(q)\n",
    "        #plt.plot(np.linspace(),[prob[s,q](t) for t in sample_times[s,:]],linestyle[q],label=string)\n",
    "        plt.plot(sample_times[s,:],[prob[s,q](t) for t in sample_times[s,:]],'.',label=string)\n",
    "        \n",
    "plt.legend(loc='lower right'); plt.xlim(0,np.max(sample_times)); plt.ylim(0,1)\n",
    "plt.title(\"Drifting probabilities\",fontsize=17)\n",
    "plt.xlabel(\"Time\",fontsize=15)\n",
    "plt.ylabel(\"Probability\",fontsize=15)\n",
    "plt.show()"
   ]
  },
  {
   "cell_type": "markdown",
   "metadata": {},
   "source": [
    "From these drifting probabilities, we can now sample some data, to simulate an experiment in which the underlying probabilities drifted as specified above. Below, this data is plotted for one of the sequence-qubit pairs with significant drift.\n",
    "\n",
    "It is probably not obvious, from simply looking at this data, whether it is likely consistent with standard fluctations due to measurement outcome randomness, or whether there are clear signs that the underlying probability is drifting. This is what the analysis attempts to deduce."
   ]
  },
  {
   "cell_type": "code",
   "execution_count": 9,
   "metadata": {
    "collapsed": false
   },
   "outputs": [
    {
     "data": {
      "image/png": "[encoded data removed]",
      "text/plain": [
       "<matplotlib.figure.Figure at 0x10b805898>"
      ]
     },
     "metadata": {},
     "output_type": "display_data"
    }
   ],
   "source": [
    "qubit = 0\n",
    "sequence = 2\n",
    "plt.figure(figsize=(15,2))\n",
    "plt.plot(data[sequence,qubit,:],'r-',label=string)\n",
    "\n",
    "plt.title(\"Counts data sampled from a drifting probability distribution\",fontsize=17)\n",
    "plt.xlabel(\"Timestep\",fontsize=15)\n",
    "plt.ylabel(\"Counts\",fontsize=15)\n",
    "plt.xlim(0,T-1)\n",
    "plt.show()"
   ]
  },
  {
   "cell_type": "markdown",
   "metadata": {},
   "source": [
    "## 2. Looking under the hood part 2: what are the analysis methods?"
   ]
  },
  {
   "cell_type": "markdown",
   "metadata": {},
   "source": [
    "Some explanation of the method\n",
    "\n",
    "Be very explicit about what the math is."
   ]
  },
  {
   "cell_type": "code",
   "execution_count": 10,
   "metadata": {
    "collapsed": true
   },
   "outputs": [],
   "source": [
    "qubit = 1\n",
    "sequence = 2\n",
    "confidence = 0.99"
   ]
  },
  {
   "cell_type": "code",
   "execution_count": 11,
   "metadata": {
    "collapsed": false
   },
   "outputs": [],
   "source": [
    "# This \n",
    "from pygsti import drift\n",
    "from scipy.stats import chi2\n",
    "\n",
    "#pt_power_spectrum = drift.DCT(N*prob[sequence,qubit,:],counts=N)**2\n",
    "data_power_spectrum = drift.DCT(data[sequence,qubit,:],counts=N)**2"
   ]
  },
  {
   "cell_type": "code",
   "execution_count": 12,
   "metadata": {
    "collapsed": false
   },
   "outputs": [
    {
     "data": {
      "image/png": "[encoded data removed]",
      "text/plain": [
       "<matplotlib.figure.Figure at 0x10b8032b0>"
      ]
     },
     "metadata": {},
     "output_type": "display_data"
    }
   ],
   "source": [
    "plt.figure(figsize=(15,3))\n",
    "#plt.plot(pt_power_spectrum,'-',label='$p(t)$ power spectrum')\n",
    "plt.plot(data_power_spectrum,'-',label='Data power spectrum')\n",
    "plt.plot(np.ones(T),'--',label='Expected noise level')\n",
    "plt.plot(chi2.isf(1-confidence**(1/T),1)*np.ones(T),'--',label='Significance level')\n",
    "\n",
    "plt.legend()\n",
    "plt.xlim(0,T-1)\n",
    "plt.title(\"The data power spectrum\",fontsize=17)\n",
    "plt.xlabel(\"Frequency\",fontsize=15)\n",
    "plt.ylabel(\"Power\",fontsize=15)\n",
    "plt.show()"
   ]
  },
  {
   "cell_type": "markdown",
   "metadata": {},
   "source": [
    "## 3. Analysing time-stamped data\n",
    "To analysis the data, we use the `pygsti.do_basic_drift_characterization()` function. This function takes two non-optional arguments:\n",
    "- The data, as an ordinary numpy array of dimension $(S \\times Q \\times T)$ (or optionally as an $(S \\times T)$ for the case of $Q=1$), consisting of measurement outcome counts. This has already been detailed above.\n",
    "\n",
    "\n",
    "- The number of counts per timestep, $N$. This has to be specified, because it is not possible to reliably extract this from the data array (even though it will often correspond to the maximum value in the data array).\n",
    "\n",
    "It also takes some optional arguments. There are two important arguments of this sort:\n",
    "\n",
    "- `timestep`. This is the size of the gap between each set of $N$ repeats of each sequence. It should be specified in seconds. If it is specified, then the drift frequencies returned by this function are in Hertz. If it is not specified then the drift frequencies are integers between 0 and $T-1$, corresponding to the index of the DCT frequency (i.e., $1$ is the fundamental frequency, etc).\n",
    "\n",
    "\n",
    "- `confidence`. This is the confidence of the hypothesis tests used to detect drift, and reconstruct estimates of the $p(t)$. More details of what this corresponds to are given later. The default value is 0.95."
   ]
  },
  {
   "cell_type": "code",
   "execution_count": 13,
   "metadata": {
    "collapsed": true
   },
   "outputs": [],
   "source": []
  },
  {
   "cell_type": "code",
   "execution_count": 14,
   "metadata": {
    "collapsed": false
   },
   "outputs": [],
   "source": []
  },
  {
   "cell_type": "code",
   "execution_count": 15,
   "metadata": {
    "collapsed": false
   },
   "outputs": [
    {
     "data": {
      "text/plain": [
       "True"
      ]
     },
     "execution_count": 15,
     "metadata": {},
     "output_type": "execute_result"
    }
   ],
   "source": []
  },
  {
   "cell_type": "code",
   "execution_count": 16,
   "metadata": {
    "collapsed": false
   },
   "outputs": [
    {
     "data": {
      "image/png": "[encoded data removed]",
      "text/plain": [
       "<matplotlib.figure.Figure at 0x10b949550>"
      ]
     },
     "metadata": {},
     "output_type": "display_data"
    }
   ],
   "source": []
  },
  {
   "cell_type": "code",
   "execution_count": 25,
   "metadata": {
    "collapsed": false
   },
   "outputs": [
    {
     "name": "stdout",
     "output_type": "stream",
     "text": [
      "[  10000.  470000.  480000.]\n"
     ]
    }
   ],
   "source": [
    "print(results.global_drift_frequencies)"
   ]
  },
  {
   "cell_type": "code",
   "execution_count": 17,
   "metadata": {
    "collapsed": false
   },
   "outputs": [
    {
     "data": {
      "text/plain": [
       "array([  7.35769277e-01,   1.90432398e-01,   1.11022302e-14])"
      ]
     },
     "execution_count": 17,
     "metadata": {},
     "output_type": "execute_result"
    }
   ],
   "source": [
    "results.pspq_pvalue[:,0]"
   ]
  },
  {
   "cell_type": "code",
   "execution_count": 18,
   "metadata": {
    "collapsed": false
   },
   "outputs": [
    {
     "data": {
      "text/plain": [
       "(array([ 1.,  0.,  0.,  1.,  0.,  0.,  0.,  0.,  0.,  1.]),\n",
       " array([  1.56371470e-08,   9.48947218e-02,   1.89789428e-01,\n",
       "          2.84684134e-01,   3.79578840e-01,   4.74473546e-01,\n",
       "          5.69368252e-01,   6.64262958e-01,   7.59157665e-01,\n",
       "          8.54052371e-01,   9.48947077e-01]),\n",
       " <a list of 10 Patch objects>)"
      ]
     },
     "execution_count": 18,
     "metadata": {},
     "output_type": "execute_result"
    },
    {
     "data": {
      "image/png": "[encoded data removed]",
      "text/plain": [
       "<matplotlib.figure.Figure at 0x10bc9d630>"
      ]
     },
     "metadata": {},
     "output_type": "display_data"
    }
   ],
   "source": [
    "plt.hist(results.pspq_pvalue[:,0])\n",
    "plt.hist(results.pspq_pvalue[:,1])"
   ]
  },
  {
   "cell_type": "code",
   "execution_count": 19,
   "metadata": {
    "collapsed": false
   },
   "outputs": [
    {
     "data": {
      "text/plain": [
       "3.141931159689193e-12"
      ]
     },
     "execution_count": 19,
     "metadata": {},
     "output_type": "execute_result"
    }
   ],
   "source": [
    "results.global_pvalue"
   ]
  },
  {
   "cell_type": "code",
   "execution_count": 20,
   "metadata": {
    "collapsed": false
   },
   "outputs": [
    {
     "data": {
      "text/plain": [
       "12.570328391556098"
      ]
     },
     "execution_count": 20,
     "metadata": {},
     "output_type": "execute_result"
    }
   ],
   "source": [
    "results.global_max_power"
   ]
  },
  {
   "cell_type": "code",
   "execution_count": 21,
   "metadata": {
    "collapsed": false
   },
   "outputs": [
    {
     "data": {
      "text/plain": [
       "array([  1.22124533e-13,   3.70597990e-08])"
      ]
     },
     "execution_count": 21,
     "metadata": {},
     "output_type": "execute_result"
    }
   ],
   "source": [
    "results.pq_pvalue"
   ]
  },
  {
   "cell_type": "code",
   "execution_count": 22,
   "metadata": {
    "collapsed": false
   },
   "outputs": [
    {
     "data": {
      "text/plain": [
       "array([[  7.35769277e-01,   9.48947077e-01],\n",
       "       [  1.90432398e-01,   3.23186659e-01],\n",
       "       [  1.11022302e-14,   1.56371470e-08]])"
      ]
     },
     "execution_count": 22,
     "metadata": {},
     "output_type": "execute_result"
    }
   ],
   "source": [
    "results.pspq_pvalue"
   ]
  },
  {
   "cell_type": "code",
   "execution_count": 23,
   "metadata": {
    "collapsed": false
   },
   "outputs": [
    {
     "ename": "NameError",
     "evalue": "name '_chi2' is not defined",
     "output_type": "error",
     "traceback": [
      "\u001b[0;31m---------------------------------------------------------------------------\u001b[0m",
      "\u001b[0;31mNameError\u001b[0m                                 Traceback (most recent call last)",
      "\u001b[0;32m<ipython-input-23-a9acd2b7b58c>\u001b[0m in \u001b[0;36m<module>\u001b[0;34m()\u001b[0m\n\u001b[1;32m      1\u001b[0m \u001b[0mx\u001b[0m \u001b[0;34m=\u001b[0m \u001b[0;36m20\u001b[0m\u001b[0;34m\u001b[0m\u001b[0m\n\u001b[0;32m----> 2\u001b[0;31m \u001b[0mplt\u001b[0m\u001b[0;34m.\u001b[0m\u001b[0mplot\u001b[0m\u001b[0;34m(\u001b[0m\u001b[0;34m[\u001b[0m \u001b[0;34m(\u001b[0m\u001b[0;36m1\u001b[0m\u001b[0;34m-\u001b[0m\u001b[0m_chi2\u001b[0m\u001b[0;34m.\u001b[0m\u001b[0msf\u001b[0m\u001b[0;34m(\u001b[0m\u001b[0my\u001b[0m\u001b[0;34m,\u001b[0m\u001b[0mx\u001b[0m\u001b[0;34m)\u001b[0m\u001b[0;34m/\u001b[0m\u001b[0mx\u001b[0m\u001b[0;34m)\u001b[0m \u001b[0;32mfor\u001b[0m \u001b[0my\u001b[0m \u001b[0;32min\u001b[0m \u001b[0mnp\u001b[0m\u001b[0;34m.\u001b[0m\u001b[0mlinspace\u001b[0m\u001b[0;34m(\u001b[0m\u001b[0;36m0\u001b[0m\u001b[0;34m,\u001b[0m\u001b[0;36m10\u001b[0m\u001b[0;34m,\u001b[0m\u001b[0;36m100\u001b[0m\u001b[0;34m)\u001b[0m\u001b[0;34m]\u001b[0m\u001b[0;34m)\u001b[0m\u001b[0;34m\u001b[0m\u001b[0m\n\u001b[0m",
      "\u001b[0;32m<ipython-input-23-a9acd2b7b58c>\u001b[0m in \u001b[0;36m<listcomp>\u001b[0;34m(.0)\u001b[0m\n\u001b[1;32m      1\u001b[0m \u001b[0mx\u001b[0m \u001b[0;34m=\u001b[0m \u001b[0;36m20\u001b[0m\u001b[0;34m\u001b[0m\u001b[0m\n\u001b[0;32m----> 2\u001b[0;31m \u001b[0mplt\u001b[0m\u001b[0;34m.\u001b[0m\u001b[0mplot\u001b[0m\u001b[0;34m(\u001b[0m\u001b[0;34m[\u001b[0m \u001b[0;34m(\u001b[0m\u001b[0;36m1\u001b[0m\u001b[0;34m-\u001b[0m\u001b[0m_chi2\u001b[0m\u001b[0;34m.\u001b[0m\u001b[0msf\u001b[0m\u001b[0;34m(\u001b[0m\u001b[0my\u001b[0m\u001b[0;34m,\u001b[0m\u001b[0mx\u001b[0m\u001b[0;34m)\u001b[0m\u001b[0;34m/\u001b[0m\u001b[0mx\u001b[0m\u001b[0;34m)\u001b[0m \u001b[0;32mfor\u001b[0m \u001b[0my\u001b[0m \u001b[0;32min\u001b[0m \u001b[0mnp\u001b[0m\u001b[0;34m.\u001b[0m\u001b[0mlinspace\u001b[0m\u001b[0;34m(\u001b[0m\u001b[0;36m0\u001b[0m\u001b[0;34m,\u001b[0m\u001b[0;36m10\u001b[0m\u001b[0;34m,\u001b[0m\u001b[0;36m100\u001b[0m\u001b[0;34m)\u001b[0m\u001b[0;34m]\u001b[0m\u001b[0;34m)\u001b[0m\u001b[0;34m\u001b[0m\u001b[0m\n\u001b[0m",
      "\u001b[0;31mNameError\u001b[0m: name '_chi2' is not defined"
     ]
    }
   ],
   "source": [
    "x = 20\n",
    "plt.plot([ (1-_chi2.sf(y,x)/x) for y in np.linspace(0,10,100)])"
   ]
  },
  {
   "cell_type": "code",
   "execution_count": null,
   "metadata": {
    "collapsed": false
   },
   "outputs": [],
   "source": [
    "results.global_pvalue"
   ]
  },
  {
   "cell_type": "code",
   "execution_count": null,
   "metadata": {
    "collapsed": false
   },
   "outputs": [],
   "source": [
    "results.pq_pvalue"
   ]
  },
  {
   "cell_type": "code",
   "execution_count": null,
   "metadata": {
    "collapsed": false
   },
   "outputs": [],
   "source": [
    "results.pspq_pvalue"
   ]
  },
  {
   "cell_type": "code",
   "execution_count": null,
   "metadata": {
    "collapsed": false
   },
   "outputs": [],
   "source": [
    "results.pspq_drift_detected"
   ]
  },
  {
   "cell_type": "code",
   "execution_count": null,
   "metadata": {
    "collapsed": false
   },
   "outputs": [],
   "source": [
    "results.global_significance_threshold"
   ]
  },
  {
   "cell_type": "code",
   "execution_count": null,
   "metadata": {
    "collapsed": false
   },
   "outputs": [],
   "source": [
    "results.pspq_significance_threshold"
   ]
  },
  {
   "cell_type": "code",
   "execution_count": null,
   "metadata": {
    "collapsed": false
   },
   "outputs": [],
   "source": [
    "results.pq_significance_threshold"
   ]
  },
  {
   "cell_type": "code",
   "execution_count": null,
   "metadata": {
    "collapsed": false
   },
   "outputs": [],
   "source": [
    "results.drift_detected"
   ]
  },
  {
   "cell_type": "markdown",
   "metadata": {},
   "source": [
    "We have now successfully run the analysis! \n",
    "\n",
    "## 4. Exploring the output\n",
    "\n",
    "Let's look at the output. The function returns a `BasicDriftResults` object, which is essential just a container for a range of output created by the analysis. \n",
    "1. All properties starting with `.individual` are related to individual drift detection/characterization analysises of the data from each sequence and qubit. \n",
    "2. All properties starting with `.global` are ....\n",
    "3. All other properties of ...are ..."
   ]
  },
  {
   "cell_type": "markdown",
   "metadata": {},
   "source": [
    "### 4.1 Was drift detected?\n",
    "The property of results is the `.all_detected` truth value. This ....\n",
    "\n",
    "CAN NAME TO ANY DETECTED"
   ]
  },
  {
   "cell_type": "markdown",
   "metadata": {},
   "source": [
    "### 4.2 What frequencies can we dectect drift at?\n",
    "The drift ....\n"
   ]
  },
  {
   "cell_type": "code",
   "execution_count": null,
   "metadata": {
    "collapsed": false
   },
   "outputs": [],
   "source": [
    "print(results.frequencies)"
   ]
  },
  {
   "cell_type": "code",
   "execution_count": null,
   "metadata": {
    "collapsed": false
   },
   "outputs": [],
   "source": [
    "print(results.global_drift_frequencies)\n",
    "\n",
    "# This seems to be a mistake.\n",
    "#\n",
    "#\n",
    "# Put the global and superglobal\n",
    "#"
   ]
  },
  {
   "cell_type": "code",
   "execution_count": null,
   "metadata": {
    "collapsed": true
   },
   "outputs": [],
   "source": [
    "# .perqubit\n",
    "# .perqubit_persequence"
   ]
  },
  {
   "cell_type": "code",
   "execution_count": null,
   "metadata": {
    "collapsed": true
   },
   "outputs": [],
   "source": [
    "#\n",
    "# Todo: mean noise level in plots.\n",
    "#"
   ]
  },
  {
   "cell_type": "markdown",
   "metadata": {},
   "source": [
    "### 4.3 The averaged power spectrums\n",
    "\n",
    "add in the p(t) vector power spectrum"
   ]
  },
  {
   "cell_type": "code",
   "execution_count": null,
   "metadata": {
    "collapsed": false
   },
   "outputs": [],
   "source": [
    "max_power = 0\n",
    "for q in range(0,Q):\n",
    "    max_power = max(max_power,np.max(results.pq_power_spectrum[q]))\n",
    "\n",
    "for q in range(0,Q):\n",
    "    plt.figure(figsize=(15,2.5))\n",
    "    plt.plot(results.frequencies,results.pq_power_spectrum[q],'r.-',label='Spectrum')\n",
    "    plt.plot(results.frequencies,results.pq_significance_threshold*np.ones(T),'b-',label='Significance threshold')\n",
    "    plt.title(\"Averaged power spectrum for qubit {}\".format(q),fontsize=17)\n",
    "    plt.xlabel(\"Frequency (Hz)\",fontsize=15)\n",
    "    plt.ylabel(\"Power\",fontsize=15)\n",
    "    #plt.ylim(0,max_power)\n",
    "    plt.xlim(0,max(results.frequencies))\n",
    "    plt.legend()\n",
    "    plt.show()"
   ]
  },
  {
   "cell_type": "markdown",
   "metadata": {},
   "source": [
    "### 4.4 Analysis for individual sequences"
   ]
  },
  {
   "cell_type": "code",
   "execution_count": null,
   "metadata": {
    "collapsed": true
   },
   "outputs": [],
   "source": [
    "qubit = 1\n",
    "sequence = 2"
   ]
  },
  {
   "cell_type": "markdown",
   "metadata": {},
   "source": [
    "#### The power spectrum for a particular sequence and qubit"
   ]
  },
  {
   "cell_type": "code",
   "execution_count": null,
   "metadata": {
    "collapsed": false
   },
   "outputs": [],
   "source": [
    "plt.figure(figsize=(15,2.5))\n",
    "plt.plot(results.frequencies,results.individual_power_spectrum[sequence,qubit,:],'r.-',label='Spectrum')\n",
    "plt.plot(results.frequencies,results.individual_max_power_threshold*np.ones(T),'b-',label='Significance threshold')\n",
    "plt.title(\"....\".format(q),fontsize=17)\n",
    "plt.xlabel(\"Frequency (Hz)\",fontsize=15)\n",
    "plt.ylabel(\"Power\",fontsize=15)\n",
    "plt.xlim(0,max(results.frequencies))\n",
    "plt.legend()\n",
    "plt.show()"
   ]
  },
  {
   "cell_type": "markdown",
   "metadata": {},
   "source": [
    "#### Significant frequencies for a particular sequence and qubit"
   ]
  },
  {
   "cell_type": "code",
   "execution_count": null,
   "metadata": {
    "collapsed": false
   },
   "outputs": [],
   "source": [
    "print(results.individual_drift_frequencies[sequence,qubit])"
   ]
  },
  {
   "cell_type": "markdown",
   "metadata": {},
   "source": [
    "#### The p-value for detecting drift\n",
    ".....\n",
    ".\n",
    "Todo: rename the pvalues without max_power in them."
   ]
  },
  {
   "cell_type": "code",
   "execution_count": null,
   "metadata": {
    "collapsed": false
   },
   "outputs": [],
   "source": [
    "results.individual_max_power_pvalues[sequence,qubit]"
   ]
  },
  {
   "cell_type": "code",
   "execution_count": null,
   "metadata": {
    "collapsed": true
   },
   "outputs": [],
   "source": [
    "results.pspq_pvalue"
   ]
  },
  {
   "cell_type": "markdown",
   "metadata": {},
   "source": [
    "below this should be a barchart (and make integers on the axis!).\n",
    "\n",
    "plot inverse pvalue, and put threshold for 0.95 confidence"
   ]
  },
  {
   "cell_type": "code",
   "execution_count": null,
   "metadata": {
    "collapsed": false
   },
   "outputs": [],
   "source": [
    "plt.figure(figsize=(6,3))\n",
    "for q in range(0,Q):\n",
    "    plt.plot(results.pspq_pvalue[:,q],'o-',label='qubit '+str(q))\n",
    "plt.yscale(\"log\")\n",
    "plt.legend()\n",
    "plt.ylabel(\"p-value\",fontsize=15)\n",
    "plt.xlabel(\"sequence index\",fontsize=15)\n",
    "plt.ylim(ymax=1)"
   ]
  },
  {
   "cell_type": "markdown",
   "metadata": {},
   "source": [
    "#### Estimates of $p(t)$ for a particular sequence and qubit"
   ]
  },
  {
   "cell_type": "code",
   "execution_count": null,
   "metadata": {
    "collapsed": false
   },
   "outputs": [],
   "source": [
    "plt.figure(figsize=(15,4))\n",
    "plt.plot(data[sequence,qubit,:]/N,'co',alpha=0.4,label='data (counts/$N$)')\n",
    "plt.plot(prob[sequence,qubit,:],'r-',label='true $p(t)$')\n",
    "plt.plot(results.individual_reconstruction[sequence,qubit,:],'g--',label='estimated $p(t)$')\n",
    "\n",
    "plt.title(\"Estimating the drifting probability\",fontsize=17)\n",
    "plt.xlabel(\"Timestep\",fontsize=15)\n",
    "plt.ylabel(\"Probabilitiy or counts/N\",fontsize=15)\n",
    "plt.xlim(0,T-1)\n",
    "plt.legend(loc = 'upper right')\n",
    "plt.show()"
   ]
  },
  {
   "cell_type": "code",
   "execution_count": null,
   "metadata": {
    "collapsed": true
   },
   "outputs": [],
   "source": [
    "modeskept = 10"
   ]
  },
  {
   "cell_type": "code",
   "execution_count": null,
   "metadata": {
    "collapsed": false
   },
   "outputs": [],
   "source": [
    "1/np.sqrt((T*N)/modeskept)"
   ]
  },
  {
   "cell_type": "code",
   "execution_count": null,
   "metadata": {
    "collapsed": true
   },
   "outputs": [],
   "source": [
    "1/np.sqrt()"
   ]
  },
  {
   "cell_type": "code",
   "execution_count": null,
   "metadata": {
    "collapsed": true
   },
   "outputs": [],
   "source": [
    "# Do a second plot with the error bars.\n",
    "\n",
    "#\n",
    "# Two systematic errors : (1) modes not kept, (2) noise accidentally added.\n",
    "#\n"
   ]
  },
  {
   "cell_type": "markdown",
   "metadata": {},
   "source": [
    "# Add confidence regions onto the estimate?"
   ]
  }
 ],
 "metadata": {
  "kernelspec": {
   "display_name": "Python 3",
   "language": "python",
   "name": "python3"
  },
  "language_info": {
   "codemirror_mode": {
    "name": "ipython",
    "version": 3
   },
   "file_extension": ".py",
   "mimetype": "text/x-python",
   "name": "python",
   "nbconvert_exporter": "python",
   "pygments_lexer": "ipython3",
   "version": "3.6.3"
  }
 },
 "nbformat": 4,
 "nbformat_minor": 2
}
