{
 "cells": [
  {
   "cell_type": "markdown",
   "metadata": {
    "deletable": true,
    "editable": true
   },
   "source": [
    "The purpose of GST's fiducials is to generate an informationally-complete set of states and measurements. However, it's possible to _reduce_ the number of fiducials necessary to do so.\n",
    "\n",
    "In this tutorial, we use the `pygsti.alg.find_sufficient_fiducial_pairs` function to reduce the number of fiducials necessary for GST."
   ]
  },
  {
   "cell_type": "code",
   "execution_count": 1,
   "metadata": {
    "collapsed": true,
    "deletable": true,
    "editable": true
   },
   "outputs": [],
   "source": [
    "from __future__ import print_function\n",
    "import matplotlib\n",
    "matplotlib.use('Agg')"
   ]
  },
  {
   "cell_type": "code",
   "execution_count": 2,
   "metadata": {
    "collapsed": true,
    "deletable": true,
    "editable": true
   },
   "outputs": [],
   "source": [
    "import pygsti\n",
    "import json"
   ]
  },
  {
   "cell_type": "code",
   "execution_count": 3,
   "metadata": {
    "collapsed": false,
    "deletable": true,
    "editable": true
   },
   "outputs": [
    {
     "name": "stdout",
     "output_type": "stream",
     "text": [
      "Loading from cache file: tutorial_files/Example_Dataset.txt.cache\n",
      "--- LGST ---\n"
     ]
    }
   ],
   "source": [
    "# Follow Algorithm tutorial to generate LGST gatesets\n",
    "gs_target = pygsti.io.load_gateset(\"tutorial_files/Example_Gateset.txt\")\n",
    "ds = pygsti.io.load_dataset(\"tutorial_files/Example_Dataset.txt\", cache=True)\n",
    "fiducialList = pygsti.io.load_gatestring_list(\"tutorial_files/Example_FiducialList.txt\")\n",
    "gs_target.default_gauge_group = pygsti.obj.FullGaugeGroup(gs_target.dim) #so gauge opt works\n",
    "\n",
    "#Run LGST to get an initial estimate for the gates in gs_target based on the data in ds\n",
    "specs = pygsti.construction.build_spam_specs(fiducialGateStrings=fiducialList)\n",
    "gs_lgst = pygsti.do_lgst(ds, specs, targetGateset=gs_target, svdTruncateTo=4, verbosity=1)\n",
    "\n",
    "#Gauge optimize the result to match the target gateset\n",
    "gs_lgst_after_gauge_opt = pygsti.gaugeopt_to_target(gs_lgst, gs_target)\n",
    "\n",
    "#Contract the result to CPTP\n",
    "gs_clgst = pygsti.contract(gs_lgst_after_gauge_opt, \"CPTP\")\n",
    "\n",
    "#Get lists of gate strings for successive iterations of LGST to use\n",
    "specs  = pygsti.construction.build_spam_specs(fiducialGateStrings=fiducialList)\n",
    "germList = pygsti.io.load_gatestring_list(\"tutorial_files/Example_GermsList.txt\")\n",
    "maxLengthList = json.load(open(\"tutorial_files/Example_maxLengths.json\",\"r\"))"
   ]
  },
  {
   "cell_type": "code",
   "execution_count": 4,
   "metadata": {
    "collapsed": false,
    "deletable": true,
    "editable": true
   },
   "outputs": [
    {
     "name": "stdout",
     "output_type": "stream",
     "text": [
      "------  Fiducial Pair Reduction --------\n",
      "maximum number of amplified parameters = 34\n",
      "Beginning search for a good set of 1 pairs (36 pair lists to test)\n",
      "Beginning search for a good set of 2 pairs (630 pair lists to test)\n",
      "Beginning search for a good set of 3 pairs (7140 pair lists to test)\n",
      "[(0, 0), (0, 1), (1, 0)]\n"
     ]
    }
   ],
   "source": [
    "#Get sufficient set of fiducial pairs, meaning that with these fidicual pairs and the given set of germs,\n",
    "# the number of gateset parameters which are amplified when all pairs are used are also amplified when using\n",
    "# the returned subset.\n",
    "fidPairs = pygsti.alg.find_sufficient_fiducial_pairs(gs_target, fiducialList, fiducialList, germList, verbosity=1)\n",
    "print(fidPairs)"
   ]
  },
  {
   "cell_type": "code",
   "execution_count": 5,
   "metadata": {
    "collapsed": false,
    "deletable": true,
    "editable": true,
    "scrolled": true
   },
   "outputs": [],
   "source": [
    "#Test a specific set of fiducial pairs: see how many gateset parameter are amplified\n",
    "#FPR.find_sufficient_fiducial_pairs(gs_target, fiducialList, germList, testPairList=[(0,0),(0,1),(1,0)], verbosity=4)"
   ]
  },
  {
   "cell_type": "code",
   "execution_count": 6,
   "metadata": {
    "collapsed": false,
    "deletable": true,
    "editable": true,
    "scrolled": false
   },
   "outputs": [
    {
     "name": "stdout",
     "output_type": "stream",
     "text": [
      "--- Iterative MC2GST: Iter 1 of 9  92 gate strings ---: \n",
      "  --- Minimum Chi^2 GST ---\n",
      "  Created evaluation tree with 1 subtrees.  Will divide 1 procs into 1 (subtree-processing)\n",
      "   groups of ~1 procs each, to distribute over 56 params (taken as 1 param groups of ~56 params).\n",
      "  Sum of Chi^2 = 40.9237 (92 data params - 40 model params = expected mean of 52; p-value = 0.866035)\n",
      "  Completed in 0.1s\n",
      "      Iteration 1 took 0.1s\n",
      "  \n",
      "--- Iterative MC2GST: Iter 2 of 9  95 gate strings ---: \n",
      "  --- Minimum Chi^2 GST ---\n",
      "  Created evaluation tree with 1 subtrees.  Will divide 1 procs into 1 (subtree-processing)\n",
      "   groups of ~1 procs each, to distribute over 56 params (taken as 1 param groups of ~56 params).\n",
      "  Sum of Chi^2 = 45.7751 (95 data params - 40 model params = expected mean of 55; p-value = 0.80775)\n",
      "  Completed in 0.1s\n",
      "      Iteration 2 took 0.1s\n",
      "  \n",
      "--- Iterative MC2GST: Iter 3 of 9  114 gate strings ---: \n",
      "  --- Minimum Chi^2 GST ---\n",
      "  Created evaluation tree with 1 subtrees.  Will divide 1 procs into 1 (subtree-processing)\n",
      "   groups of ~1 procs each, to distribute over 56 params (taken as 1 param groups of ~56 params).\n",
      "  Sum of Chi^2 = 71.8674 (114 data params - 40 model params = expected mean of 74; p-value = 0.548568)\n",
      "  Completed in 0.1s\n",
      "      Iteration 3 took 0.1s\n",
      "  \n",
      "--- Iterative MC2GST: Iter 4 of 9  146 gate strings ---: \n",
      "  --- Minimum Chi^2 GST ---\n",
      "  Created evaluation tree with 1 subtrees.  Will divide 1 procs into 1 (subtree-processing)\n",
      "   groups of ~1 procs each, to distribute over 56 params (taken as 1 param groups of ~56 params).\n",
      "  Sum of Chi^2 = 115.417 (146 data params - 40 model params = expected mean of 106; p-value = 0.250138)\n",
      "  Completed in 0.1s\n",
      "      Iteration 4 took 0.1s\n",
      "  \n",
      "--- Iterative MC2GST: Iter 5 of 9  178 gate strings ---: \n",
      "  --- Minimum Chi^2 GST ---\n",
      "  Created evaluation tree with 1 subtrees.  Will divide 1 procs into 1 (subtree-processing)\n",
      "   groups of ~1 procs each, to distribute over 56 params (taken as 1 param groups of ~56 params).\n",
      "  Sum of Chi^2 = 149.112 (178 data params - 40 model params = expected mean of 138; p-value = 0.244596)\n",
      "  Completed in 0.2s\n",
      "      Iteration 5 took 0.2s\n",
      "  \n",
      "--- Iterative MC2GST: Iter 6 of 9  210 gate strings ---: \n",
      "  --- Minimum Chi^2 GST ---\n",
      "  Created evaluation tree with 1 subtrees.  Will divide 1 procs into 1 (subtree-processing)\n",
      "   groups of ~1 procs each, to distribute over 56 params (taken as 1 param groups of ~56 params).\n",
      "  Sum of Chi^2 = 189.135 (210 data params - 40 model params = expected mean of 170; p-value = 0.149864)\n",
      "  Completed in 0.2s\n",
      "      Iteration 6 took 0.2s\n",
      "  \n",
      "--- Iterative MC2GST: Iter 7 of 9  242 gate strings ---: \n",
      "  --- Minimum Chi^2 GST ---\n",
      "  Created evaluation tree with 1 subtrees.  Will divide 1 procs into 1 (subtree-processing)\n",
      "   groups of ~1 procs each, to distribute over 56 params (taken as 1 param groups of ~56 params).\n",
      "  Sum of Chi^2 = 238.689 (242 data params - 40 model params = expected mean of 202; p-value = 0.0393789)\n",
      "  Completed in 0.2s\n",
      "      Iteration 7 took 0.2s\n",
      "  \n",
      "--- Iterative MC2GST: Iter 8 of 9  274 gate strings ---: \n",
      "  --- Minimum Chi^2 GST ---\n",
      "  Created evaluation tree with 1 subtrees.  Will divide 1 procs into 1 (subtree-processing)\n",
      "   groups of ~1 procs each, to distribute over 56 params (taken as 1 param groups of ~56 params).\n",
      "  Sum of Chi^2 = 272.022 (274 data params - 40 model params = expected mean of 234; p-value = 0.0444783)\n",
      "  Completed in 0.3s\n",
      "      Iteration 8 took 0.3s\n",
      "  \n",
      "--- Iterative MC2GST: Iter 9 of 9  306 gate strings ---: \n",
      "  --- Minimum Chi^2 GST ---\n",
      "  Created evaluation tree with 1 subtrees.  Will divide 1 procs into 1 (subtree-processing)\n",
      "   groups of ~1 procs each, to distribute over 56 params (taken as 1 param groups of ~56 params).\n",
      "  Sum of Chi^2 = 295.644 (306 data params - 40 model params = expected mean of 266; p-value = 0.102215)\n",
      "  Completed in 0.5s\n",
      "      Iteration 9 took 0.5s\n",
      "  \n",
      "Iterative MC2GST Total Time: 1.8s\n"
     ]
    }
   ],
   "source": [
    "lsgstListOfLists = pygsti.construction.make_lsgst_lists(gs_target.gates.keys(), fiducialList, fiducialList,\n",
    "                                                        germList, maxLengthList, fidPairs)\n",
    "\n",
    "gs_lsgst_list = pygsti.do_iterative_mc2gst(ds, gs_clgst, lsgstListOfLists, verbosity=2,\n",
    "                                         minProbClipForWeighting=1e-6, probClipInterval=(-1e6,1e6),\n",
    "                                         returnAll=True )"
   ]
  },
  {
   "cell_type": "code",
   "execution_count": 7,
   "metadata": {
    "collapsed": false,
    "deletable": true,
    "editable": true
   },
   "outputs": [],
   "source": [
    "#optimize each gateset to the target\n",
    "gs_lsgst_list = [ pygsti.gaugeopt_to_target(gs, gs_target) for gs in gs_lsgst_list ]"
   ]
  },
  {
   "cell_type": "code",
   "execution_count": 8,
   "metadata": {
    "collapsed": false,
    "deletable": true,
    "editable": true,
    "scrolled": true
   },
   "outputs": [
    {
     "name": "stdout",
     "output_type": "stream",
     "text": [
      "*** Generating tables ***\n",
      "*** Generating plots ***\n",
      "*** Merging into template file ***\n",
      "Output written to tutorial_files/Example_report_FR.html\n",
      "Opening tutorial_files/Example_report_FR.html...\n"
     ]
    }
   ],
   "source": [
    "gss_list = pygsti.construction.make_lsgst_structs(\n",
    "    gs_target.gates.keys(), fiducialList, fiducialList,\n",
    "    germList, maxLengthList, fidPairs)\n",
    "\n",
    "res = pygsti.report.Results()\n",
    "res.init_Ls_and_germs(\"chi2\", ds, gs_target, gs_clgst, gs_lsgst_list, gss_list)\n",
    "res.parameters[\"minProbClipForWeighting\"] = 1e-6\n",
    "\n",
    "pygsti.report.create_single_qubit_report(res, filename=\"tutorial_files/Example_report_FR.html\",\n",
    "                                         verbosity=2, auto_open=True)"
   ]
  },
  {
   "cell_type": "code",
   "execution_count": null,
   "metadata": {
    "collapsed": true
   },
   "outputs": [],
   "source": []
  }
 ],
 "metadata": {
  "kernelspec": {
   "display_name": "Python 2",
   "language": "python",
   "name": "python2"
  },
  "language_info": {
   "codemirror_mode": {
    "name": "ipython",
    "version": 2
   },
   "file_extension": ".py",
   "mimetype": "text/x-python",
   "name": "python",
   "nbconvert_exporter": "python",
   "pygments_lexer": "ipython2",
   "version": "2.7.10"
  }
 },
 "nbformat": 4,
 "nbformat_minor": 0
}
