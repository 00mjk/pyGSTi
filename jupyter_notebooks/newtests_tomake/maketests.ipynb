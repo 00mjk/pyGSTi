{
 "cells": [
  {
   "cell_type": "code",
   "execution_count": 1,
   "metadata": {
    "collapsed": false
   },
   "outputs": [],
   "source": [
    "import pygsti\n",
    "from pygsti.objects import Circuit\n",
    "from pygsti.objects import GateString\n",
    "from pygsti.baseobjs import Label\n",
    "from pygsti.objects import ProcessorSpec\n",
    "from pygsti.tools import symplectic\n",
    "from pygsti.algorithms import compilers\n",
    "import numpy as np\n",
    "from pygsti.extras import rb"
   ]
  },
  {
   "cell_type": "code",
   "execution_count": 3,
   "metadata": {
    "collapsed": false
   },
   "outputs": [],
   "source": []
  },
  {
   "cell_type": "code",
   "execution_count": null,
   "metadata": {
    "collapsed": false
   },
   "outputs": [],
   "source": [
    "sstate, pstate = symplectic.prep_stabilizer_state(3)\n",
    "for i in range(3):\n",
    "    mtout = symplectic.pauli_z_measurement(sstate,pstate,i)\n",
    "    print(mtout[1])"
   ]
  },
  {
   "cell_type": "code",
   "execution_count": null,
   "metadata": {
    "collapsed": true
   },
   "outputs": [],
   "source": [
    "symplectic.prep_stabilizer_state?"
   ]
  },
  {
   "cell_type": "code",
   "execution_count": null,
   "metadata": {
    "collapsed": false
   },
   "outputs": [],
   "source": [
    "symplectic.apply_clifford_to_stabilizer_state(s,p,s0,p0)"
   ]
  },
  {
   "cell_type": "code",
   "execution_count": null,
   "metadata": {
    "collapsed": true
   },
   "outputs": [],
   "source": []
  },
  {
   "cell_type": "code",
   "execution_count": null,
   "metadata": {
    "collapsed": false
   },
   "outputs": [],
   "source": [
    "s, p  = symplectic.random_clifford(2)\n",
    "c = compilers.compile_stabilizer_state(s,p,pspec,subsetQs=['Q3','Q4'], algorithm='COiCAGE',paulirandomize=False)"
   ]
  },
  {
   "cell_type": "code",
   "execution_count": null,
   "metadata": {
    "collapsed": false
   },
   "outputs": [],
   "source": [
    "print(c)"
   ]
  },
  {
   "cell_type": "code",
   "execution_count": null,
   "metadata": {
    "collapsed": false
   },
   "outputs": [],
   "source": [
    "compilers.compile_conditional_symplectic(s,pspec)"
   ]
  },
  {
   "cell_type": "code",
   "execution_count": null,
   "metadata": {
    "collapsed": false
   },
   "outputs": [],
   "source": [
    "print(c)"
   ]
  },
  {
   "cell_type": "code",
   "execution_count": null,
   "metadata": {
    "collapsed": false
   },
   "outputs": [],
   "source": [
    "c1, c2 = compilers.compile_conditional_symplectic(s,pspec, calg='BGE')"
   ]
  },
  {
   "cell_type": "code",
   "execution_count": null,
   "metadata": {
    "collapsed": false,
    "scrolled": false
   },
   "outputs": [],
   "source": [
    "\n"
   ]
  },
  {
   "cell_type": "code",
   "execution_count": null,
   "metadata": {
    "collapsed": false
   },
   "outputs": [],
   "source": [
    "print(circuit1.twoqubit_gatecount())\n",
    "print(circuit2.twoqubit_gatecount())"
   ]
  },
  {
   "cell_type": "code",
   "execution_count": null,
   "metadata": {
    "collapsed": false
   },
   "outputs": [],
   "source": [
    "print(circuit1)"
   ]
  },
  {
   "cell_type": "code",
   "execution_count": null,
   "metadata": {
    "collapsed": false
   },
   "outputs": [],
   "source": [
    "\n",
    "sout, inlist, success = compilers.convert_submatrix_to_echelon_form_using_cnots(s, 'column', 'LR', list(range(n)))\n",
    "print(symplectic.check_symplectic(sout))\n",
    "sout, inlist, success = compilers.submatrix_gaussian_elimination_using_cnots(s, 'column', 'LR', list(range(n)))\n",
    "print(symplectic.check_symplectic(sout))\n",
    "print(success)"
   ]
  },
  {
   "cell_type": "code",
   "execution_count": null,
   "metadata": {
    "collapsed": false
   },
   "outputs": [],
   "source": [
    "c, out = rb.sample.mirror_rb_circuit(pspec, 2, subsetQs=['Q2','Q1'], sampler='Qelimination', samplerargs=[], localclifford=True,\n",
    "                      paulirandomize=True)"
   ]
  },
  {
   "cell_type": "code",
   "execution_count": null,
   "metadata": {
    "collapsed": true
   },
   "outputs": [],
   "source": [
    "# Tests the circuit simulator\n",
    "c = Circuit(gatestring=[Label('Gh','Q0'),Label('Gcnot',('Q0','Q1'))],line_labels=['Q0','Q1'],identity='Gi')\n",
    "out = c.simulate(ps.models['clifford'])\n",
    "assert(abs(out['00'] - 0.5) < 10**-10)\n",
    "assert(abs(out['11'] - 0.5) < 10**-10)"
   ]
  },
  {
   "cell_type": "code",
   "execution_count": null,
   "metadata": {
    "collapsed": true
   },
   "outputs": [],
   "source": [
    "c = Circuit(gatestring=[Label('Gh','Q0'),Label('Gcnot',('Q0','Q1'))],line_labels=['Q'+str(i) for i in range(12)],identity='Gi')"
   ]
  },
  {
   "cell_type": "code",
   "execution_count": null,
   "metadata": {
    "collapsed": true
   },
   "outputs": [],
   "source": [
    "out = c.simulate(ps.models['clifford'])"
   ]
  }
 ],
 "metadata": {
  "kernelspec": {
   "display_name": "Python 3",
   "language": "python",
   "name": "python3"
  },
  "language_info": {
   "codemirror_mode": {
    "name": "ipython",
    "version": 3
   },
   "file_extension": ".py",
   "mimetype": "text/x-python",
   "name": "python",
   "nbconvert_exporter": "python",
   "pygments_lexer": "ipython3",
   "version": "3.6.3"
  }
 },
 "nbformat": 4,
 "nbformat_minor": 2
}
