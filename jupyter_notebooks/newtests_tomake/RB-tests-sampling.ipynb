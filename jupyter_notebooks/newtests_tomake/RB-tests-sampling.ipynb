{
 "cells": [
  {
   "cell_type": "code",
   "execution_count": 1,
   "metadata": {
    "collapsed": false
   },
   "outputs": [],
   "source": [
    "import numpy as np\n",
    "import pygsti\n",
    "from pygsti.extras import rb\n",
    "from pygsti.baseobjs import Label\n",
    "\n",
    "n_1 = 4\n",
    "glist = ['Gi','Gxpi2','Gypi2','Gcnot']\n",
    "pspec_1 = pygsti.obj.ProcessorSpec(n_1,glist,verbosity=0,qubit_labels=['Q0','Q1','Q2','Q3'])\n",
    "\n",
    "n_2 = 3\n",
    "glist = ['Gi','Gxpi','Gypi','Gzpi','Gh','Gp','Gcphase']\n",
    "availability = {'Gcphase':[(0,1),(1,2)]}\n",
    "pspec_2 = pygsti.obj.ProcessorSpec(n_2,glist,availability=availability,verbosity=0)\n",
    "\n",
    "#Fix processor specs to work with n=1 qubits.\n",
    "#n = 1\n",
    "#glist = ['Gh','Gp']\n",
    "#pspec_3 = pygsti.obj.ProcessorSpec(n=1,glist,verbosity=0)"
   ]
  },
  {
   "cell_type": "code",
   "execution_count": null,
   "metadata": {
    "collapsed": true
   },
   "outputs": [],
   "source": [
    "# Test oneQ RB"
   ]
  },
  {
   "cell_type": "code",
   "execution_count": 5,
   "metadata": {
    "collapsed": false
   },
   "outputs": [
    {
     "data": {
      "text/plain": [
       "['Gi', 'Gxpi2', 'Gypi2', 'Gcnot']"
      ]
     },
     "execution_count": 5,
     "metadata": {},
     "output_type": "execute_result"
    }
   ],
   "source": [
    "pspec_1.root_gate_names"
   ]
  },
  {
   "cell_type": "code",
   "execution_count": 7,
   "metadata": {
    "collapsed": true
   },
   "outputs": [],
   "source": [
    "glist = ['Gi','Gxpi2','Gxmpi2','Gypi2','Gympi2','Gcnot']\n",
    "pspec = pygsti.obj.ProcessorSpec(4,glist,availability=availability,verbosity=0)"
   ]
  },
  {
   "cell_type": "code",
   "execution_count": 8,
   "metadata": {
    "collapsed": false
   },
   "outputs": [
    {
     "data": {
      "text/plain": [
       "{'Gcnot': 'Gcnot',\n",
       " 'Gi': 'Gi',\n",
       " 'Gxmpi2': 'Gxpi2',\n",
       " 'Gxpi2': 'Gxmpi2',\n",
       " 'Gympi2': 'Gypi2',\n",
       " 'Gypi2': 'Gympi2'}"
      ]
     },
     "execution_count": 8,
     "metadata": {},
     "output_type": "execute_result"
    }
   ],
   "source": [
    "pspec.gate_inverse"
   ]
  },
  {
   "cell_type": "code",
   "execution_count": 10,
   "metadata": {
    "collapsed": false
   },
   "outputs": [
    {
     "data": {
      "text/plain": [
       "['Gi', 'Gxpi2', 'Gxmpi2', 'Gypi2', 'Gympi2', 'Gcnot']"
      ]
     },
     "execution_count": 10,
     "metadata": {},
     "output_type": "execute_result"
    }
   ],
   "source": [
    "list(pspec.gate_inverse.keys())"
   ]
  },
  {
   "cell_type": "code",
   "execution_count": 11,
   "metadata": {
    "collapsed": true
   },
   "outputs": [],
   "source": [
    "for gname in pspec.root_gate_names:\n",
    "        assert(gname in list(pspec.gate_inverse.keys())), \"Not every gate has its inverse in the gate-set! MRB is not possible!\""
   ]
  },
  {
   "cell_type": "code",
   "execution_count": null,
   "metadata": {
    "collapsed": true
   },
   "outputs": [],
   "source": []
  }
 ],
 "metadata": {
  "kernelspec": {
   "display_name": "Python 3",
   "language": "python",
   "name": "python3"
  },
  "language_info": {
   "codemirror_mode": {
    "name": "ipython",
    "version": 3
   },
   "file_extension": ".py",
   "mimetype": "text/x-python",
   "name": "python",
   "nbconvert_exporter": "python",
   "pygments_lexer": "ipython3",
   "version": "3.6.3"
  }
 },
 "nbformat": 4,
 "nbformat_minor": 2
}
