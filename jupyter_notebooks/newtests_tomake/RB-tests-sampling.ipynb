{
 "cells": [
  {
   "cell_type": "code",
   "execution_count": 1,
   "metadata": {
    "collapsed": false
   },
   "outputs": [],
   "source": [
    "import numpy as np\n",
    "import pygsti\n",
    "from pygsti.extras import rb\n",
    "from pygsti.baseobjs import Label\n",
    "\n",
    "n_1 = 4\n",
    "glist = ['Gi','Gxpi2','Gypi2','Gcnot']\n",
    "pspec_1 = pygsti.obj.ProcessorSpec(n_1,glist,verbosity=0,qubit_labels=['Q0','Q1','Q2','Q3'])\n",
    "\n",
    "n_2 = 3\n",
    "glist = ['Gi','Gxpi','Gypi','Gzpi','Gh','Gp','Gcphase']\n",
    "availability = {'Gcphase':[(0,1),(1,2)]}\n",
    "pspec_2 = pygsti.obj.ProcessorSpec(n_2,glist,availability=availability,verbosity=0)\n",
    "\n",
    "#Fix processor specs to work with n=1 qubits.\n",
    "#n = 1\n",
    "#glist = ['Gh','Gp']\n",
    "#pspec_3 = pygsti.obj.ProcessorSpec(n=1,glist,verbosity=0)"
   ]
  },
  {
   "cell_type": "code",
   "execution_count": 4,
   "metadata": {
    "collapsed": false
   },
   "outputs": [],
   "source": [
    "# Test direct RB"
   ]
  },
  {
   "cell_type": "code",
   "execution_count": null,
   "metadata": {
    "collapsed": true
   },
   "outputs": [],
   "source": [
    "# Test mirror RB"
   ]
  },
  {
   "cell_type": "code",
   "execution_count": null,
   "metadata": {
    "collapsed": true
   },
   "outputs": [],
   "source": [
    "# Test oneQ RB"
   ]
  }
 ],
 "metadata": {
  "kernelspec": {
   "display_name": "Python 3",
   "language": "python",
   "name": "python3"
  },
  "language_info": {
   "codemirror_mode": {
    "name": "ipython",
    "version": 3
   },
   "file_extension": ".py",
   "mimetype": "text/x-python",
   "name": "python",
   "nbconvert_exporter": "python",
   "pygments_lexer": "ipython3",
   "version": "3.6.3"
  }
 },
 "nbformat": 4,
 "nbformat_minor": 2
}
