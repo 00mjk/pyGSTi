{
 "cells": [
  {
   "cell_type": "markdown",
   "metadata": {},
   "source": [
    "# How to create an LGST-only report\n",
    "This example shows how you can create a HTML report from just the results of running *linear GST* (LGST).  This can be useful when you want to get a rough estimate of your gates quickly, as LGST is takes substantially less data and computation time compared with long-sequence GST.  This example is modeled after Tutorial 0."
   ]
  },
  {
   "cell_type": "code",
   "execution_count": 1,
   "metadata": {},
   "outputs": [
    {
     "name": "stdout",
     "output_type": "stream",
     "text": [
      "Only 92 sequences are required!\n"
     ]
    }
   ],
   "source": [
    "#Make print statements compatible with Python 2 and 3\n",
    "from __future__ import print_function\n",
    "\n",
    "#Import the pygsti module (always do this) and the standard XYI model\n",
    "import pygsti\n",
    "from pygsti.construction import std1Q_XYI\n",
    "\n",
    "# 1) get the target Model\n",
    "target_model = std1Q_XYI.target_model()\n",
    "\n",
    "# 2) get the building blocks needed to specify which operation sequences are needed\n",
    "prep_fiducials, meas_fiducials = std1Q_XYI.prepStrs, std1Q_XYI.effectStrs\n",
    "\n",
    "# 3) generate \"fake\" data from a depolarized version of target_model\n",
    "mdl_datagen = target_model.depolarize(op_noise=0.1, spam_noise=0.001)\n",
    "listOfExperiments = pygsti.construction.list_lgst_circuits(\n",
    "                        prep_fiducials, meas_fiducials,target_model)\n",
    "\n",
    "ds = pygsti.construction.generate_fake_data(mdl_datagen, listOfExperiments, nSamples=1000,\n",
    "                                            sampleError=\"binomial\", seed=1234)\n",
    "\n",
    "#Note: from listOfExperiments we can also create an empty dataset file\n",
    "# which has columns of zeros where actual data should go. \n",
    "pygsti.io.write_empty_dataset(\"example_files/LGSTReportDataTemplate.txt\", listOfExperiments,\n",
    "                              \"## Columns = 0 count, 1 count\")\n",
    "# After replacing the zeros with actual data, the data set can be \n",
    "# loaded back into pyGSTi using the line below and used in the rest\n",
    "# of this tutorial. \n",
    "#ds = pygsti.io.load_dataset(\"example_files/LGSTReportDataTemplate.txt\")\n",
    "\n",
    "print(\"Only %d sequences are required!\" % len(listOfExperiments))"
   ]
  },
  {
   "cell_type": "code",
   "execution_count": 2,
   "metadata": {},
   "outputs": [
    {
     "name": "stdout",
     "output_type": "stream",
     "text": [
      "--- Circuit Creation ---\n",
      "   92 sequences created\n",
      "   Dataset has 92 entries: 92 utilized, 0 requested sequences were missing\n",
      "--- LGST ---\n",
      "  Singular values of I_tilde (truncating to first 4 of 6) = \n",
      "  4.244089943192679\n",
      "  1.1594632778409208\n",
      "  0.9651516670737965\n",
      "  0.9297628363691268\n",
      "  0.049256811347238104\n",
      "  0.025150658372136828\n",
      "  \n",
      "  Singular values of target I_tilde (truncating to first 4 of 6) = \n",
      "  4.242640687119286\n",
      "  1.414213562373096\n",
      "  1.4142135623730956\n",
      "  1.4142135623730954\n",
      "  2.5038933168948026e-16\n",
      "  2.023452063009528e-16\n",
      "  \n",
      "  -- Adding Gauge Optimized (go0) --\n",
      "*** Creating workspace ***\n",
      "*** Generating switchboard ***\n",
      "Found standard clifford compilation from std1Q_XYI\n",
      "*** Generating tables ***\n"
     ]
    },
    {
     "name": "stderr",
     "output_type": "stream",
     "text": [
      "/Users/enielse/research/pyGSTi/packages/pygsti/report/factory.py:785: UserWarning:\n",
      "\n",
      "Idle tomography failed:\n",
      "Label{layers}\n",
      "\n"
     ]
    },
    {
     "name": "stdout",
     "output_type": "stream",
     "text": [
      "  targetSpamBriefTable                          took 0.407494 seconds\n",
      "  targetGatesBoxTable                           took 0.103959 seconds\n",
      "  datasetOverviewTable                          took 0.00258 seconds\n",
      "  bestGatesetSpamParametersTable                took 0.000308 seconds\n",
      "  bestGatesetSpamBriefTable                     took 0.115464 seconds\n",
      "  bestGatesetSpamVsTargetTable                  took 0.059416 seconds\n",
      "  bestGatesetGaugeOptParamsTable                took 0.000286 seconds\n",
      "  bestGatesetGatesBoxTable                      took 0.162189 seconds\n",
      "  bestGatesetChoiEvalTable                      took 0.252095 seconds\n",
      "  bestGatesetDecompTable                        took 0.128715 seconds\n",
      "  bestGatesetEvalTable                          took 0.002746 seconds\n",
      "  bestGermsEvalTable                            took 0.002331 seconds\n",
      "  bestGatesetVsTargetTable                      took 0.031248 seconds\n",
      "  bestGatesVsTargetTable_gv                     took 0.16417 seconds\n"
     ]
    },
    {
     "name": "stderr",
     "output_type": "stream",
     "text": [
      "/Users/enielse/research/pyGSTi/packages/pygsti/extras/rb/theory.py:200: UserWarning:\n",
      "\n",
      "Output may be unreliable because the model is not approximately trace-preserving.\n",
      "\n"
     ]
    },
    {
     "name": "stdout",
     "output_type": "stream",
     "text": [
      "  bestGatesVsTargetTable_gvgerms                took 0.020412 seconds\n",
      "  bestGatesVsTargetTable_gi                     took 0.00868 seconds\n",
      "  bestGatesVsTargetTable_gigerms                took 0.003038 seconds\n",
      "  bestGatesVsTargetTable_sum                    took 0.149034 seconds\n",
      "  bestGatesetErrGenBoxTable                     took 0.536407 seconds\n",
      "  metadataTable                                 took 0.000714 seconds\n",
      "  stdoutBlock                                   took 0.00024 seconds\n",
      "  profilerTable                                 took 0.000209 seconds\n",
      "  softwareEnvTable                              took 0.025333 seconds\n",
      "  exampleTable                                  took 0.137301 seconds\n",
      "  singleMetricTable_gv                          took 0.146264 seconds\n",
      "  singleMetricTable_gi                          took 0.008829 seconds\n",
      "  fiducialListTable                             took 0.000692 seconds\n",
      "  prepStrListTable                              took 0.00016 seconds\n",
      "  effectStrListTable                            took 0.000119 seconds\n",
      "  colorBoxPlotKeyPlot                           took 0.045817 seconds\n",
      "  germList2ColTable                             took 0.000148 seconds\n",
      "  progressTable                                 took 0.045918 seconds\n",
      "*** Generating plots ***\n",
      "  gramBarPlot                                   took 0.060076 seconds\n",
      "  progressBarPlot                               took 0.03396 seconds\n",
      "  progressBarPlot_sum                           took 0.000253 seconds\n",
      "  finalFitComparePlot                           took 0.034417 seconds\n",
      "  bestEstimateColorBoxPlot                      took 0.251233 seconds\n",
      "  bestEstimateTVDColorBoxPlot                   took 0.240857 seconds\n",
      "  bestEstimateColorScatterPlot                  took 0.307672 seconds\n",
      "  bestEstimateColorHistogram                    took 0.34717 seconds\n",
      "  progressTable_scl                             took 6.8e-05 seconds\n",
      "  progressBarPlot_scl                           took 5.2e-05 seconds\n",
      "  bestEstimateColorBoxPlot_scl                  took 5.9e-05 seconds\n",
      "  bestEstimateColorScatterPlot_scl              took 5.2e-05 seconds\n",
      "  bestEstimateColorHistogram_scl                took 0.000131 seconds\n",
      "  dataScalingColorBoxPlot                       took 4.9e-05 seconds\n",
      "*** Merging into template file ***\n",
      "  Rendering topSwitchboard                      took 9.8e-05 seconds\n",
      "  Rendering maxLSwitchboard1                    took 7.3e-05 seconds\n",
      "  Rendering targetSpamBriefTable                took 0.138154 seconds\n",
      "  Rendering targetGatesBoxTable                 took 0.054227 seconds\n",
      "  Rendering datasetOverviewTable                took 0.001045 seconds\n",
      "  Rendering bestGatesetSpamParametersTable      took 0.00137 seconds\n",
      "  Rendering bestGatesetSpamBriefTable           took 0.118625 seconds\n",
      "  Rendering bestGatesetSpamVsTargetTable        took 0.001794 seconds\n",
      "  Rendering bestGatesetGaugeOptParamsTable      took 0.0008 seconds\n",
      "  Rendering bestGatesetGatesBoxTable            took 0.105844 seconds\n",
      "  Rendering bestGatesetChoiEvalTable            took 0.101514 seconds\n",
      "  Rendering bestGatesetDecompTable              took 0.06688 seconds\n",
      "  Rendering bestGatesetEvalTable                took 0.013101 seconds\n",
      "  Rendering bestGermsEvalTable                  took 0.012852 seconds\n",
      "  Rendering bestGatesetVsTargetTable            took 0.00107 seconds\n",
      "  Rendering bestGatesVsTargetTable_gv           took 0.002554 seconds\n",
      "  Rendering bestGatesVsTargetTable_gvgerms      took 0.002696 seconds\n",
      "  Rendering bestGatesVsTargetTable_gi           took 0.002234 seconds\n",
      "  Rendering bestGatesVsTargetTable_gigerms      took 0.001529 seconds\n",
      "  Rendering bestGatesVsTargetTable_sum          took 0.002145 seconds\n",
      "  Rendering bestGatesetErrGenBoxTable           took 0.231464 seconds\n",
      "  Rendering metadataTable                       took 0.002569 seconds\n",
      "  Rendering stdoutBlock                         took 0.000843 seconds\n",
      "  Rendering profilerTable                       took 0.000791 seconds\n",
      "  Rendering softwareEnvTable                    took 0.002231 seconds\n",
      "  Rendering exampleTable                        took 0.020951 seconds\n",
      "  Rendering metricSwitchboard_gv                took 3.9e-05 seconds\n",
      "  Rendering metricSwitchboard_gi                took 4e-05 seconds\n",
      "  Rendering singleMetricTable_gv                took 0.005003 seconds\n",
      "  Rendering singleMetricTable_gi                took 0.004268 seconds\n",
      "  Rendering fiducialListTable                   took 0.002753 seconds\n",
      "  Rendering prepStrListTable                    took 0.001897 seconds\n",
      "  Rendering effectStrListTable                  took 0.001956 seconds\n",
      "  Rendering colorBoxPlotKeyPlot                 took 0.02155 seconds\n",
      "  Rendering germList2ColTable                   took 0.001972 seconds\n",
      "  Rendering progressTable                       took 0.001385 seconds\n",
      "  Rendering gramBarPlot                         took 0.021537 seconds\n",
      "  Rendering progressBarPlot                     took 0.020961 seconds\n",
      "  Rendering progressBarPlot_sum                 took 0.026329 seconds\n",
      "  Rendering finalFitComparePlot                 took 0.017246 seconds\n",
      "  Rendering bestEstimateColorBoxPlot            took 0.018905 seconds\n",
      "  Rendering bestEstimateTVDColorBoxPlot         took 0.020219 seconds\n",
      "  Rendering bestEstimateColorScatterPlot        took 0.021464 seconds\n",
      "  Rendering bestEstimateColorHistogram          took 0.024585 seconds\n",
      "  Rendering progressTable_scl                   took 0.000917 seconds\n",
      "  Rendering progressBarPlot_scl                 took 0.000873 seconds\n",
      "  Rendering bestEstimateColorBoxPlot_scl        took 0.000573 seconds\n",
      "  Rendering bestEstimateColorScatterPlot_scl    took 0.000761 seconds\n",
      "  Rendering bestEstimateColorHistogram_scl      took 0.000623 seconds\n",
      "  Rendering dataScalingColorBoxPlot             took 0.000545 seconds\n",
      "Output written to example_files/LGSTonlyReport directory\n",
      "*** Report Generation Complete!  Total time 5.15665s ***\n"
     ]
    },
    {
     "data": {
      "text/plain": [
       "<pygsti.report.workspace.Workspace at 0x1070c8ba8>"
      ]
     },
     "execution_count": 2,
     "metadata": {},
     "output_type": "execute_result"
    }
   ],
   "source": [
    "#Run LGST and create a report\n",
    "# You can also eliminate gauge optimization step by setting gaugeOptParams=False\n",
    "results = pygsti.do_linear_gst(ds, target_model, prep_fiducials, meas_fiducials)\n",
    "\n",
    "pygsti.report.create_standard_report(results, filename=\"example_files/LGSTonlyReport\",\n",
    "                                    title=\"LGST-only Example Report\", verbosity=2)"
   ]
  },
  {
   "cell_type": "markdown",
   "metadata": {},
   "source": [
    "Click to open the file [example_files/LGSTonlyReport/main.html](example_files/LGSTonlyReport/main.html) in your browser to view the report."
   ]
  },
  {
   "cell_type": "code",
   "execution_count": null,
   "metadata": {},
   "outputs": [],
   "source": []
  }
 ],
 "metadata": {
  "kernelspec": {
   "display_name": "Python 3",
   "language": "python",
   "name": "python3"
  },
  "language_info": {
   "codemirror_mode": {
    "name": "ipython",
    "version": 3
   },
   "file_extension": ".py",
   "mimetype": "text/x-python",
   "name": "python",
   "nbconvert_exporter": "python",
   "pygments_lexer": "ipython3",
   "version": "3.7.0"
  }
 },
 "nbformat": 4,
 "nbformat_minor": 2
}
