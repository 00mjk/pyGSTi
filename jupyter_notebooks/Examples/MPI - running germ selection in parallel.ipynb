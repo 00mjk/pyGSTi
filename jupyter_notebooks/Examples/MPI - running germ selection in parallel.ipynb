{
 "cells": [
  {
   "cell_type": "markdown",
   "metadata": {},
   "source": [
    "# Running germ selection on multiple processors\n",
    "The code below should be put into a script and run using mpiexec.  It's primary function is to pass a MPI Comm object to `pygsti.algorithms.germselection.build_up_breadth`."
   ]
  },
  {
   "cell_type": "code",
   "execution_count": 1,
   "metadata": {},
   "outputs": [
    {
     "name": "stdout",
     "output_type": "stream",
     "text": [
      "201 available germs\n",
      "Starting germ set optimization. Lower score is better.\n",
      "Memory estimate of 13.6 GB (0.5 GB limit) for all-Jac mode.\n",
      "Memory estimate of 0.2 GB (0.5 GB limit) for single-Jac mode.\n",
      "    Initial germ set computation Iter 1 of 6 Qubit * ---|Gii|---\n",
      ": \n",
      "    Initial germ set computation Iter 2 of 6 Qubit * ---|Gix|---\n",
      ": \n",
      "    Initial germ set computation Iter 3 of 6 Qubit * ---|Giy|---\n",
      ": \n",
      "    Initial germ set computation Iter 4 of 6 Qubit * ---|Gxi|---\n",
      ": \n",
      "    Initial germ set computation Iter 5 of 6 Qubit * ---|Gyi|---\n",
      ": \n",
      "    Initial germ set computation Iter 6 of 6 Qubit * ---|Gcnot|---\n",
      ": \n",
      "  Outer iteration: 1 of 1282 amplified, 6 germs\n",
      "    Inner iter over candidate germs Iter 001 of 195 Qubit * ---|Gii|-|Gix|---\n",
      ": \n",
      "      Score: major=-114.0 minor=275.7550232560748, N: 194\n",
      "    Inner iter over candidate germs Iter 002 of 195 Qubit * ---|Gii|-|Giy|---\n",
      ": \n",
      "      Score: major=-114.0 minor=275.75224428270565, N: 194\n",
      "    Inner iter over candidate germs Iter 003 of 195 Qubit * ---|Gii|-|Gxi|---\n",
      ": \n",
      "      Score: major=-114.0 minor=303.12985712455384, N: 194\n",
      "    Inner iter over candidate germs Iter 004 of 195 Qubit * ---|Gii|-|Gyi|---\n",
      ": \n",
      "      Score: major=-114.0 minor=359.3300959231123, N: 194\n",
      "    Inner iter over candidate germs Iter 005 of 195 Qubit * ---|Gii|-|Gcnot|---\n",
      ": \n",
      "      Score: major=-114.0 minor=276.26872683842225, N: 194\n",
      "    Inner iter over candidate germs Iter 006 of 195 Qubit * ---|Gix|-|Giy|---\n",
      ": \n",
      "      Score: major=-114.0 minor=257.4426897879849, N: 194\n",
      "    Inner iter over candidate germs Iter 007 of 195 Qubit * ---|Gix|-|Gxi|---\n",
      ": \n",
      "      Score: major=-114.0 minor=341.5696468598034, N: 194\n",
      "    Inner iter over candidate germs Iter 008 of 195 Qubit * ---|Gix|-|Gyi|---\n",
      ": \n",
      "      Score: major=-114.0 minor=282.338674492408, N: 194\n",
      "    Inner iter over candidate germs Iter 009 of 195 Qubit * ---|Gix|-|Gcnot|---\n",
      ": \n",
      "      Score: major=-114.0 minor=577.5866443200878, N: 194\n",
      "    Inner iter over candidate germs Iter 010 of 195 Qubit * ---|Giy|-|Gxi|---\n",
      ": \n",
      "      Score: major=-114.0 minor=294.80873540347477, N: 194\n",
      "    Inner iter over candidate germs Iter 011 of 195 Qubit * ---|Giy|-|Gyi|---\n",
      ": \n",
      "      Score: major=-114.0 minor=274.01388120453754, N: 194\n",
      "    Inner iter over candidate germs Iter 012 of 195 Qubit * ---|Giy|-|Gcnot|---\n",
      ": \n",
      "      Score: major=-114.0 minor=292.4187770509611, N: 194\n",
      "    Inner iter over candidate germs Iter 013 of 195 Qubit * ---|Gxi|-|Gyi|---\n",
      ": \n",
      "      Score: major=-114.0 minor=257.14469808616536, N: 194\n",
      "    Inner iter over candidate germs Iter 014 of 195 Qubit * ---|Gxi|-|Gcnot|---\n",
      ": \n",
      "      Score: major=-114.0 minor=295.19014734007106, N: 194\n",
      "    Inner iter over candidate germs Iter 015 of 195 Qubit * ---|Gyi|-|Gcnot|---\n",
      ": \n",
      "      Score: major=-114.0 minor=262.24440122325194, N: 194\n",
      "    Inner iter over candidate germs Iter 016 of 195 Qubit * ---|Gii|-|Gii|-|Gix|---\n",
      ": \n",
      "      Score: major=-104.0 minor=245.73088449107456, N: 194\n",
      "    Inner iter over candidate germs Iter 017 of 195 Qubit * ---|Gii|-|Gii|-|Giy|---\n",
      ": \n",
      "      Score: major=-104.0 minor=236.10434931549185, N: 194\n",
      "    Inner iter over candidate germs Iter 018 of 195 Qubit * ---|Gii|-|Gii|-|Gxi|---\n",
      ": \n",
      "      Score: major=-104.0 minor=257.4811389850852, N: 194\n",
      "    Inner iter over candidate germs Iter 019 of 195 Qubit * ---|Gii|-|Gii|-|Gyi|---\n",
      ": \n"
     ]
    },
    {
     "ename": "KeyboardInterrupt",
     "evalue": "",
     "output_type": "error",
     "traceback": [
      "\u001b[0;31m---------------------------------------------------------------------------\u001b[0m",
      "\u001b[0;31mKeyboardInterrupt\u001b[0m                         Traceback (most recent call last)",
      "\u001b[0;32m<ipython-input-1-d45a113cc9b9>\u001b[0m in \u001b[0;36m<module>\u001b[0;34m()\u001b[0m\n\u001b[1;32m     44\u001b[0m \u001b[0mseedStart\u001b[0m \u001b[0;34m=\u001b[0m \u001b[0;36m4\u001b[0m\u001b[0;34m\u001b[0m\u001b[0m\n\u001b[1;32m     45\u001b[0m do_greedy_germsel(target_model, forced_germs, candidate_counts,\n\u001b[0;32m---> 46\u001b[0;31m                   seedStart, \"germs_EXAMPLE.pkl\", comm)\n\u001b[0m",
      "\u001b[0;32m<ipython-input-1-d45a113cc9b9>\u001b[0m in \u001b[0;36mdo_greedy_germsel\u001b[0;34m(target_model, forced_germs, candidate_counts, seedStart, outFilename, comm)\u001b[0m\n\u001b[1;32m     30\u001b[0m                      \u001b[0mrandomizationStrength\u001b[0m\u001b[0;34m=\u001b[0m\u001b[0;36m1e-3\u001b[0m\u001b[0;34m,\u001b[0m \u001b[0mnumCopies\u001b[0m\u001b[0;34m=\u001b[0m\u001b[0;36m3\u001b[0m\u001b[0;34m,\u001b[0m \u001b[0mseed\u001b[0m\u001b[0;34m=\u001b[0m\u001b[0;36m1234\u001b[0m\u001b[0;34m,\u001b[0m\u001b[0;34m\u001b[0m\u001b[0m\n\u001b[1;32m     31\u001b[0m                      \u001b[0mopPenalty\u001b[0m\u001b[0;34m=\u001b[0m\u001b[0;36m10.0\u001b[0m\u001b[0;34m,\u001b[0m \u001b[0mscoreFunc\u001b[0m\u001b[0;34m=\u001b[0m\u001b[0;34m'all'\u001b[0m\u001b[0;34m,\u001b[0m \u001b[0mtol\u001b[0m\u001b[0;34m=\u001b[0m\u001b[0;36m1e-6\u001b[0m\u001b[0;34m,\u001b[0m \u001b[0mthreshold\u001b[0m\u001b[0;34m=\u001b[0m\u001b[0;36m1e5\u001b[0m\u001b[0;34m,\u001b[0m\u001b[0;34m\u001b[0m\u001b[0m\n\u001b[0;32m---> 32\u001b[0;31m                      pretest=False, force=forced_germs, verbosity=5, comm=comm, memLimit=0.5*(1024**3))\n\u001b[0m\u001b[1;32m     33\u001b[0m \u001b[0;34m\u001b[0m\u001b[0m\n\u001b[1;32m     34\u001b[0m     \u001b[0;32mif\u001b[0m \u001b[0mcomm\u001b[0m \u001b[0;32mis\u001b[0m \u001b[0;32mNone\u001b[0m \u001b[0;32mor\u001b[0m \u001b[0mcomm\u001b[0m\u001b[0;34m.\u001b[0m\u001b[0mGet_rank\u001b[0m\u001b[0;34m(\u001b[0m\u001b[0;34m)\u001b[0m \u001b[0;34m==\u001b[0m \u001b[0;36m0\u001b[0m\u001b[0;34m:\u001b[0m\u001b[0;34m\u001b[0m\u001b[0m\n",
      "\u001b[0;32m~/research/pyGSTi/packages/pygsti/algorithms/germselection.py\u001b[0m in \u001b[0;36mbuild_up_breadth\u001b[0;34m(modelList, germsList, randomize, randomizationStrength, numCopies, seed, opPenalty, scoreFunc, tol, threshold, check, force, pretest, memLimit, comm, profiler, verbosity)\u001b[0m\n\u001b[1;32m   1309\u001b[0m                     worstScore = max( worstScore, compute_composite_germ_score(\n\u001b[1;32m   1310\u001b[0m                         \u001b[0mpartialDerivDaggerDeriv\u001b[0m\u001b[0;34m=\u001b[0m\u001b[0mtestDDD\u001b[0m\u001b[0;34m[\u001b[0m\u001b[0;32mNone\u001b[0m\u001b[0;34m,\u001b[0m\u001b[0;34m:\u001b[0m\u001b[0;34m,\u001b[0m\u001b[0;34m:\u001b[0m\u001b[0;34m]\u001b[0m\u001b[0;34m,\u001b[0m \u001b[0minitN\u001b[0m\u001b[0;34m=\u001b[0m\u001b[0minitN\u001b[0m\u001b[0;34m,\u001b[0m\u001b[0;34m\u001b[0m\u001b[0m\n\u001b[0;32m-> 1311\u001b[0;31m                         **nonAC_kwargs))\n\u001b[0m\u001b[1;32m   1312\u001b[0m                     \u001b[0mtestDDDs\u001b[0m\u001b[0;34m.\u001b[0m\u001b[0mappend\u001b[0m\u001b[0;34m(\u001b[0m\u001b[0mtestDDD\u001b[0m\u001b[0;34m)\u001b[0m \u001b[0;31m#save in case this is a keeper\u001b[0m\u001b[0;34m\u001b[0m\u001b[0m\n\u001b[1;32m   1313\u001b[0m \u001b[0;34m\u001b[0m\u001b[0m\n",
      "\u001b[0;32m~/research/pyGSTi/packages/pygsti/algorithms/germselection.py\u001b[0m in \u001b[0;36mcompute_composite_germ_score\u001b[0;34m(scoreFn, thresholdAC, initN, partialDerivDaggerDeriv, model, partialGermsList, eps, numGaugeParams, opPenalty, germLengths, l1Penalty)\u001b[0m\n\u001b[1;32m    429\u001b[0m \u001b[0;34m\u001b[0m\u001b[0m\n\u001b[1;32m    430\u001b[0m     \u001b[0mcombinedDDD\u001b[0m \u001b[0;34m=\u001b[0m \u001b[0m_np\u001b[0m\u001b[0;34m.\u001b[0m\u001b[0msum\u001b[0m\u001b[0;34m(\u001b[0m\u001b[0mpartialDerivDaggerDeriv\u001b[0m\u001b[0;34m,\u001b[0m \u001b[0maxis\u001b[0m\u001b[0;34m=\u001b[0m\u001b[0;36m0\u001b[0m\u001b[0;34m)\u001b[0m\u001b[0;34m\u001b[0m\u001b[0m\n\u001b[0;32m--> 431\u001b[0;31m     \u001b[0msortedEigenvals\u001b[0m \u001b[0;34m=\u001b[0m \u001b[0m_np\u001b[0m\u001b[0;34m.\u001b[0m\u001b[0msort\u001b[0m\u001b[0;34m(\u001b[0m\u001b[0m_np\u001b[0m\u001b[0;34m.\u001b[0m\u001b[0mreal\u001b[0m\u001b[0;34m(\u001b[0m\u001b[0m_nla\u001b[0m\u001b[0;34m.\u001b[0m\u001b[0meigvalsh\u001b[0m\u001b[0;34m(\u001b[0m\u001b[0mcombinedDDD\u001b[0m\u001b[0;34m)\u001b[0m\u001b[0;34m)\u001b[0m\u001b[0;34m)\u001b[0m\u001b[0;34m\u001b[0m\u001b[0m\n\u001b[0m\u001b[1;32m    432\u001b[0m     \u001b[0mobservableEigenvals\u001b[0m \u001b[0;34m=\u001b[0m \u001b[0msortedEigenvals\u001b[0m\u001b[0;34m[\u001b[0m\u001b[0mnumGaugeParams\u001b[0m\u001b[0;34m:\u001b[0m\u001b[0;34m]\u001b[0m\u001b[0;34m\u001b[0m\u001b[0m\n\u001b[1;32m    433\u001b[0m     \u001b[0mN_AC\u001b[0m \u001b[0;34m=\u001b[0m \u001b[0;36m0\u001b[0m\u001b[0;34m\u001b[0m\u001b[0m\n",
      "\u001b[0;32m/usr/local/lib/python3.7/site-packages/numpy/linalg/linalg.py\u001b[0m in \u001b[0;36meigvalsh\u001b[0;34m(a, UPLO)\u001b[0m\n\u001b[1;32m   1126\u001b[0m     \u001b[0mt\u001b[0m\u001b[0;34m,\u001b[0m \u001b[0mresult_t\u001b[0m \u001b[0;34m=\u001b[0m \u001b[0m_commonType\u001b[0m\u001b[0;34m(\u001b[0m\u001b[0ma\u001b[0m\u001b[0;34m)\u001b[0m\u001b[0;34m\u001b[0m\u001b[0m\n\u001b[1;32m   1127\u001b[0m     \u001b[0msignature\u001b[0m \u001b[0;34m=\u001b[0m \u001b[0;34m'D->d'\u001b[0m \u001b[0;32mif\u001b[0m \u001b[0misComplexType\u001b[0m\u001b[0;34m(\u001b[0m\u001b[0mt\u001b[0m\u001b[0;34m)\u001b[0m \u001b[0;32melse\u001b[0m \u001b[0;34m'd->d'\u001b[0m\u001b[0;34m\u001b[0m\u001b[0m\n\u001b[0;32m-> 1128\u001b[0;31m     \u001b[0mw\u001b[0m \u001b[0;34m=\u001b[0m \u001b[0mgufunc\u001b[0m\u001b[0;34m(\u001b[0m\u001b[0ma\u001b[0m\u001b[0;34m,\u001b[0m \u001b[0msignature\u001b[0m\u001b[0;34m=\u001b[0m\u001b[0msignature\u001b[0m\u001b[0;34m,\u001b[0m \u001b[0mextobj\u001b[0m\u001b[0;34m=\u001b[0m\u001b[0mextobj\u001b[0m\u001b[0;34m)\u001b[0m\u001b[0;34m\u001b[0m\u001b[0m\n\u001b[0m\u001b[1;32m   1129\u001b[0m     \u001b[0;32mreturn\u001b[0m \u001b[0mw\u001b[0m\u001b[0;34m.\u001b[0m\u001b[0mastype\u001b[0m\u001b[0;34m(\u001b[0m\u001b[0m_realType\u001b[0m\u001b[0;34m(\u001b[0m\u001b[0mresult_t\u001b[0m\u001b[0;34m)\u001b[0m\u001b[0;34m,\u001b[0m \u001b[0mcopy\u001b[0m\u001b[0;34m=\u001b[0m\u001b[0;32mFalse\u001b[0m\u001b[0;34m)\u001b[0m\u001b[0;34m\u001b[0m\u001b[0m\n\u001b[1;32m   1130\u001b[0m \u001b[0;34m\u001b[0m\u001b[0m\n",
      "\u001b[0;31mKeyboardInterrupt\u001b[0m: "
     ]
    }
   ],
   "source": [
    "from __future__ import print_function\n",
    "import time\n",
    "\n",
    "import pygsti\n",
    "import pygsti.construction as pc\n",
    "from pygsti.construction import std2Q_XYICNOT\n",
    "from pygsti.algorithms import germselection as germsel\n",
    "\n",
    "from mpi4py import MPI\n",
    "comm = MPI.COMM_WORLD\n",
    "\n",
    "def do_greedy_germsel(target_model, forced_germs, candidate_counts,\n",
    "                      seedStart, outFilename, comm):\n",
    "    #candidate_counts is a dict of keys = germ lengths, values = # of germs at that length                                                            \n",
    "\n",
    "    tStart = time.time()\n",
    "\n",
    "    candidate_germs = []\n",
    "    for i,(germLength, count) in enumerate(candidate_counts.items()):\n",
    "        if count == \"all upto\":\n",
    "            candidate_germs.extend( pc.list_all_circuits_without_powers_and_cycles(\n",
    "                    target_model.operations.keys(), maxLength=germLength) )\n",
    "        else:\n",
    "            candidate_germs.extend( pc.list_random_circuits_onelen(\n",
    "                    target_model.operations.keys(), germLength, count, seed=seedStart+i))\n",
    "\n",
    "    available_germs = pygsti.tools.remove_duplicates( forced_germs + candidate_germs )\n",
    "    print(\"%d available germs\" % len(available_germs))\n",
    "    germs = germsel.build_up_breadth(target_model, available_germs,\n",
    "                     randomizationStrength=1e-3, numCopies=3, seed=1234,\n",
    "                     opPenalty=10.0, scoreFunc='all', tol=1e-6, threshold=1e5,\n",
    "                     pretest=False, force=forced_germs, verbosity=5, comm=comm, memLimit=0.5*(1024**3))\n",
    "\n",
    "    if comm is None or comm.Get_rank() == 0:\n",
    "        print(\"Germs (%d) = \\n\" % len(germs), \"\\n\".join(map(str,germs)))\n",
    "        print(\"Total time = %mdl\" % (time.time()-tStart))\n",
    "        pickle.dump(germs,open(outFilename,\"wb\"))\n",
    "    return germs\n",
    "                                                                                                                                         \n",
    "#2Q case                                                                                                                                              \n",
    "target_model = std2Q_XYICNOT.target_model\n",
    "forced_germs = pygsti.construction.circuit_list([(gl,) for gl in target_model.operations.keys()]) #singletons                                                                                      \n",
    "candidate_counts = { 3:\"all upto\", 4:30, 5:20, 6:20, 7:20, 8:20} # germLength:num_candidates                                                          \n",
    "seedStart = 4\n",
    "do_greedy_germsel(target_model, forced_germs, candidate_counts,\n",
    "                  seedStart, \"germs_EXAMPLE.pkl\", comm)"
   ]
  },
  {
   "cell_type": "markdown",
   "metadata": {
    "collapsed": true
   },
   "source": [
    "Above is **keyboard-interrupted on purpose**, as this output was produced with a single processor and it would have taken a very long time.\n"
   ]
  },
  {
   "cell_type": "code",
   "execution_count": null,
   "metadata": {},
   "outputs": [],
   "source": []
  }
 ],
 "metadata": {
  "kernelspec": {
   "display_name": "Python 3",
   "language": "python",
   "name": "python3"
  },
  "language_info": {
   "codemirror_mode": {
    "name": "ipython",
    "version": 3
   },
   "file_extension": ".py",
   "mimetype": "text/x-python",
   "name": "python",
   "nbconvert_exporter": "python",
   "pygments_lexer": "ipython3",
   "version": "3.7.0"
  }
 },
 "nbformat": 4,
 "nbformat_minor": 2
}
