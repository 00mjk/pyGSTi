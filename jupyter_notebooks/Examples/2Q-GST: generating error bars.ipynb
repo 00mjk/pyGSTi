{
 "cells": [
  {
   "cell_type": "markdown",
   "metadata": {
    "deletable": true,
    "editable": true
   },
   "source": [
    "# How to generate error bars for 2Q-GST\n"
   ]
  },
  {
   "cell_type": "code",
   "execution_count": 1,
   "metadata": {
    "collapsed": false,
    "deletable": true,
    "editable": true
   },
   "outputs": [
    {
     "name": "stdout",
     "output_type": "stream",
     "text": [
      "Memory limit was =  3221225472\n",
      "Memory limit is now =  2684354560.0\n"
     ]
    }
   ],
   "source": [
    "import pygsti\n",
    "import pickle\n",
    "import time\n",
    "\n",
    "#If we were using MPI\n",
    "# from mpi4py import MPI\n",
    "# comm = MPI.COMM_WORLD\n",
    "comm = None\n",
    "\n",
    "#Load the 2-qubit results (if you don't have this file, run the 2Q-GST example)\n",
    "with open(\"example_files/easy_2q_results.pkl\",\"rb\") as f:\n",
    "    results = pickle.load(f)\n",
    "\n",
    "#Set a memory limit\n",
    "print(\"Memory limit was = \", results.estimates['default'].parameters.get('memLimit',\"none given\"))\n",
    "results.estimates['default'].parameters['memLimit'] = 2.5*(1024.0)**3 # 2.5GB\n",
    "print(\"Memory limit is now = \", results.estimates['default'].parameters['memLimit'])"
   ]
  },
  {
   "cell_type": "code",
   "execution_count": 2,
   "metadata": {
    "collapsed": false,
    "deletable": true,
    "editable": true,
    "scrolled": true
   },
   "outputs": [
    {
     "name": "stdout",
     "output_type": "stream",
     "text": [
      "Evaltree generation (deriv) w/mem limit = 2.48GB\n",
      " mem(1 subtrees, 1,1 param-grps, 1 proc-grps) in 0s = 6773.17GB (6773.17GB fc)\n",
      "Created evaluation tree with 1 subtrees.  Will divide 1 procs into 1 (subtree-processing)\n",
      " groups of ~1 procs each, to distribute over (1616,1616) params (taken as 1616,4 param groups of ~1,404 params).\n",
      " Memory estimate = 2.08GB (cache=1317, wrtLen1=1, wrtLen2=404, subsPerProc=1).\n",
      "rank 0: 31.1665s: block 0/4043, sub-tree 0/1, sub-tree-len = 1317\n",
      "rank 0: 59.8618s: block 1/4043, sub-tree 0/1, sub-tree-len = 1317\n",
      "rank 0: 88.4803s: block 2/4043, sub-tree 0/1, sub-tree-len = 1317\n",
      "rank 0: 117.213s: block 3/4043, sub-tree 0/1, sub-tree-len = 1317\n",
      "rank 0: 146.861s: block 4/4043, sub-tree 0/1, sub-tree-len = 1317\n",
      "rank 0: 175.485s: block 5/4043, sub-tree 0/1, sub-tree-len = 1317\n",
      "rank 0: 204.032s: block 6/4043, sub-tree 0/1, sub-tree-len = 1317\n",
      "rank 0: 232.695s: block 7/4043, sub-tree 0/1, sub-tree-len = 1317\n",
      "rank 0: 262.275s: block 8/4043, sub-tree 0/1, sub-tree-len = 1317\n",
      "rank 0: 290.988s: block 9/4043, sub-tree 0/1, sub-tree-len = 1317\n",
      "rank 0: 319.716s: block 10/4043, sub-tree 0/1, sub-tree-len = 1317\n",
      "rank 0: 348.416s: block 11/4043, sub-tree 0/1, sub-tree-len = 1317\n",
      "rank 0: 377.962s: block 12/4043, sub-tree 0/1, sub-tree-len = 1317\n",
      "rank 0: 406.631s: block 13/4043, sub-tree 0/1, sub-tree-len = 1317\n",
      "rank 0: 435.124s: block 14/4043, sub-tree 0/1, sub-tree-len = 1317\n",
      "rank 0: 463.844s: block 15/4043, sub-tree 0/1, sub-tree-len = 1317\n",
      "rank 0: 493.641s: block 16/4043, sub-tree 0/1, sub-tree-len = 1317\n",
      "rank 0: 522.361s: block 17/4043, sub-tree 0/1, sub-tree-len = 1317\n",
      "rank 0: 550.793s: block 18/4043, sub-tree 0/1, sub-tree-len = 1317\n",
      "rank 0: 579.666s: block 19/4043, sub-tree 0/1, sub-tree-len = 1317\n",
      "rank 0: 609.165s: block 20/4043, sub-tree 0/1, sub-tree-len = 1317\n",
      "rank 0: 637.788s: block 21/4043, sub-tree 0/1, sub-tree-len = 1317\n",
      "rank 0: 666.311s: block 22/4043, sub-tree 0/1, sub-tree-len = 1317\n",
      "rank 0: 695.062s: block 23/4043, sub-tree 0/1, sub-tree-len = 1317\n",
      "rank 0: 724.632s: block 24/4043, sub-tree 0/1, sub-tree-len = 1317\n",
      "rank 0: 753.381s: block 25/4043, sub-tree 0/1, sub-tree-len = 1317\n",
      "rank 0: 782.096s: block 26/4043, sub-tree 0/1, sub-tree-len = 1317\n",
      "rank 0: 810.685s: block 27/4043, sub-tree 0/1, sub-tree-len = 1317\n",
      "rank 0: 840.279s: block 28/4043, sub-tree 0/1, sub-tree-len = 1317\n",
      "rank 0: 868.825s: block 29/4043, sub-tree 0/1, sub-tree-len = 1317\n",
      "rank 0: 897.354s: block 30/4043, sub-tree 0/1, sub-tree-len = 1317\n",
      "rank 0: 925.902s: block 31/4043, sub-tree 0/1, sub-tree-len = 1317\n",
      "rank 0: 955.463s: block 32/4043, sub-tree 0/1, sub-tree-len = 1317\n",
      "rank 0: 984.026s: block 33/4043, sub-tree 0/1, sub-tree-len = 1317\n",
      "rank 0: 1012.6s: block 34/4043, sub-tree 0/1, sub-tree-len = 1317\n",
      "rank 0: 1041.21s: block 35/4043, sub-tree 0/1, sub-tree-len = 1317\n",
      "rank 0: 1070.99s: block 36/4043, sub-tree 0/1, sub-tree-len = 1317\n",
      "rank 0: 1099.52s: block 37/4043, sub-tree 0/1, sub-tree-len = 1317\n",
      "rank 0: 1128.21s: block 38/4043, sub-tree 0/1, sub-tree-len = 1317\n",
      "rank 0: 1156.91s: block 39/4043, sub-tree 0/1, sub-tree-len = 1317\n",
      "rank 0: 1186.61s: block 40/4043, sub-tree 0/1, sub-tree-len = 1317\n",
      "rank 0: 1215.21s: block 41/4043, sub-tree 0/1, sub-tree-len = 1317\n",
      "rank 0: 1243.97s: block 42/4043, sub-tree 0/1, sub-tree-len = 1317\n",
      "rank 0: 1272.56s: block 43/4043, sub-tree 0/1, sub-tree-len = 1317\n",
      "rank 0: 1302.13s: block 44/4043, sub-tree 0/1, sub-tree-len = 1317\n",
      "rank 0: 1330.71s: block 45/4043, sub-tree 0/1, sub-tree-len = 1317\n",
      "rank 0: 1359.27s: block 46/4043, sub-tree 0/1, sub-tree-len = 1317\n"
     ]
    },
    {
     "ename": "KeyboardInterrupt",
     "evalue": "",
     "output_type": "error",
     "traceback": [
      "\u001b[0;31m---------------------------------------------------------------------------\u001b[0m",
      "\u001b[0;31mKeyboardInterrupt\u001b[0m                         Traceback (most recent call last)",
      "\u001b[0;32m<ipython-input-2-d4c9d370f215>\u001b[0m in \u001b[0;36m<module>\u001b[0;34m()\u001b[0m\n\u001b[1;32m      7\u001b[0m \u001b[0;31m# initialize a factory for the 'go0' gauge optimization within the 'default' estimate\u001b[0m\u001b[0;34m\u001b[0m\u001b[0;34m\u001b[0m\u001b[0m\n\u001b[1;32m      8\u001b[0m \u001b[0mcrfact\u001b[0m \u001b[0;34m=\u001b[0m \u001b[0mresults\u001b[0m\u001b[0;34m.\u001b[0m\u001b[0mestimates\u001b[0m\u001b[0;34m[\u001b[0m\u001b[0;34m'default'\u001b[0m\u001b[0;34m]\u001b[0m\u001b[0;34m.\u001b[0m\u001b[0madd_confidence_region_factory\u001b[0m\u001b[0;34m(\u001b[0m\u001b[0;34m'go0'\u001b[0m\u001b[0;34m,\u001b[0m \u001b[0;34m'final'\u001b[0m\u001b[0;34m)\u001b[0m\u001b[0;34m\u001b[0m\u001b[0m\n\u001b[0;32m----> 9\u001b[0;31m \u001b[0mcrfact\u001b[0m\u001b[0;34m.\u001b[0m\u001b[0mcompute_hessian\u001b[0m\u001b[0;34m(\u001b[0m\u001b[0mcomm\u001b[0m\u001b[0;34m=\u001b[0m\u001b[0mcomm\u001b[0m\u001b[0;34m)\u001b[0m \u001b[0;31m#optionally use multiple processors\u001b[0m\u001b[0;34m\u001b[0m\u001b[0m\n\u001b[0m\u001b[1;32m     10\u001b[0m \u001b[0mcrfact\u001b[0m\u001b[0;34m.\u001b[0m\u001b[0mproject_hessian\u001b[0m\u001b[0;34m(\u001b[0m\u001b[0;34m'intrinsic error'\u001b[0m\u001b[0;34m)\u001b[0m\u001b[0;34m\u001b[0m\u001b[0m\n\u001b[1;32m     11\u001b[0m \u001b[0;34m\u001b[0m\u001b[0m\n",
      "\u001b[0;32m/Users/enielse/research/pyGSTi/packages/pygsti/objects/confidenceregionfactory.py\u001b[0m in \u001b[0;36mcompute_hessian\u001b[0;34m(self, comm, memLimit)\u001b[0m\n\u001b[1;32m    235\u001b[0m                                           \u001b[0mminProbClip\u001b[0m\u001b[0;34m,\u001b[0m \u001b[0mprobClipInterval\u001b[0m\u001b[0;34m,\u001b[0m \u001b[0mradius\u001b[0m\u001b[0;34m,\u001b[0m\u001b[0;34m\u001b[0m\u001b[0m\n\u001b[1;32m    236\u001b[0m                                           \u001b[0mcomm\u001b[0m\u001b[0;34m=\u001b[0m\u001b[0mcomm\u001b[0m\u001b[0;34m,\u001b[0m \u001b[0mmemLimit\u001b[0m\u001b[0;34m=\u001b[0m\u001b[0mmemLimit\u001b[0m\u001b[0;34m,\u001b[0m \u001b[0mverbosity\u001b[0m\u001b[0;34m=\u001b[0m\u001b[0mvb\u001b[0m\u001b[0;34m,\u001b[0m\u001b[0;34m\u001b[0m\u001b[0m\n\u001b[0;32m--> 237\u001b[0;31m                                           gateLabelAliases=aliases)\n\u001b[0m\u001b[1;32m    238\u001b[0m \u001b[0;34m\u001b[0m\u001b[0m\n\u001b[1;32m    239\u001b[0m             nonMarkRadiusSq = max( 2*(_tools.logl_max(gateset, dataset)\n",
      "\u001b[0;32m/Users/enielse/research/pyGSTi/packages/pygsti/tools/likelihoodfns.py\u001b[0m in \u001b[0;36mlogl_hessian\u001b[0;34m(gateset, dataset, gatestring_list, minProbClip, probClipInterval, radius, poissonPicture, check, comm, memLimit, gateLabelAliases, verbosity)\u001b[0m\n\u001b[1;32m    700\u001b[0m         \u001b[0mk\u001b[0m\u001b[0;34m,\u001b[0m\u001b[0mkmax\u001b[0m \u001b[0;34m=\u001b[0m \u001b[0;36m0\u001b[0m\u001b[0;34m,\u001b[0m\u001b[0mlen\u001b[0m\u001b[0;34m(\u001b[0m\u001b[0mmySliceTupList\u001b[0m\u001b[0;34m)\u001b[0m\u001b[0;34m\u001b[0m\u001b[0m\n\u001b[1;32m    701\u001b[0m         for (slice1,slice2,hprobs,dprobs12) in gateset.bulk_hprobs_by_block(\n\u001b[0;32m--> 702\u001b[0;31m             evalSubTree, mySliceTupList, True, blkComm):\n\u001b[0m\u001b[1;32m    703\u001b[0m             \u001b[0mrank\u001b[0m \u001b[0;34m=\u001b[0m \u001b[0mcomm\u001b[0m\u001b[0;34m.\u001b[0m\u001b[0mGet_rank\u001b[0m\u001b[0;34m(\u001b[0m\u001b[0;34m)\u001b[0m \u001b[0;32mif\u001b[0m \u001b[0;34m(\u001b[0m\u001b[0mcomm\u001b[0m \u001b[0;32mis\u001b[0m \u001b[0;32mnot\u001b[0m \u001b[0;32mNone\u001b[0m\u001b[0;34m)\u001b[0m \u001b[0;32melse\u001b[0m \u001b[0;36m0\u001b[0m\u001b[0;34m\u001b[0m\u001b[0m\n\u001b[1;32m    704\u001b[0m \u001b[0;34m\u001b[0m\u001b[0m\n",
      "\u001b[0;32m/Users/enielse/research/pyGSTi/packages/pygsti/objects/gatematrixcalc.py\u001b[0m in \u001b[0;36mbulk_hprobs_by_block\u001b[0;34m(self, evalTree, wrtSlicesList, bReturnDProbs12, comm)\u001b[0m\n\u001b[1;32m   2679\u001b[0m             hProdCache = self._compute_hproduct_cache(\n\u001b[1;32m   2680\u001b[0m                 \u001b[0mevalTree\u001b[0m\u001b[0;34m,\u001b[0m \u001b[0mprodCache\u001b[0m\u001b[0;34m,\u001b[0m \u001b[0mdProdCache1\u001b[0m\u001b[0;34m,\u001b[0m \u001b[0mdProdCache2\u001b[0m\u001b[0;34m,\u001b[0m\u001b[0;34m\u001b[0m\u001b[0m\n\u001b[0;32m-> 2681\u001b[0;31m                 scaleCache, comm, wrtSlice1, wrtSlice2)\n\u001b[0m\u001b[1;32m   2682\u001b[0m             \u001b[0mhGs\u001b[0m \u001b[0;34m=\u001b[0m \u001b[0mevalTree\u001b[0m\u001b[0;34m.\u001b[0m\u001b[0mfinal_view\u001b[0m\u001b[0;34m(\u001b[0m\u001b[0mhProdCache\u001b[0m\u001b[0;34m,\u001b[0m \u001b[0maxis\u001b[0m\u001b[0;34m=\u001b[0m\u001b[0;36m0\u001b[0m\u001b[0;34m)\u001b[0m\u001b[0;34m\u001b[0m\u001b[0m\n\u001b[1;32m   2683\u001b[0m \u001b[0;34m\u001b[0m\u001b[0m\n",
      "\u001b[0;32m/Users/enielse/research/pyGSTi/packages/pygsti/objects/gatematrixcalc.py\u001b[0m in \u001b[0;36m_compute_hproduct_cache\u001b[0;34m(self, evalTree, prodCache, dProdCache1, dProdCache2, scaleCache, comm, wrtSlice1, wrtSlice2)\u001b[0m\n\u001b[1;32m   1090\u001b[0m               \u001b[0;31m# Note: L, R = GxG ; dL,dR = vgs x GxG ; hL,hR = vgs x vgs x GxG\u001b[0m\u001b[0;34m\u001b[0m\u001b[0;34m\u001b[0m\u001b[0m\n\u001b[1;32m   1091\u001b[0m \u001b[0;34m\u001b[0m\u001b[0m\n\u001b[0;32m-> 1092\u001b[0;31m             \u001b[0mdLdRa\u001b[0m \u001b[0;34m=\u001b[0m \u001b[0m_np\u001b[0m\u001b[0;34m.\u001b[0m\u001b[0mswapaxes\u001b[0m\u001b[0;34m(\u001b[0m\u001b[0m_np\u001b[0m\u001b[0;34m.\u001b[0m\u001b[0mdot\u001b[0m\u001b[0;34m(\u001b[0m\u001b[0mdL1\u001b[0m\u001b[0;34m,\u001b[0m\u001b[0mdR2\u001b[0m\u001b[0;34m)\u001b[0m\u001b[0;34m,\u001b[0m\u001b[0;36m1\u001b[0m\u001b[0;34m,\u001b[0m\u001b[0;36m2\u001b[0m\u001b[0;34m)\u001b[0m\u001b[0;34m\u001b[0m\u001b[0m\n\u001b[0m\u001b[1;32m   1093\u001b[0m             \u001b[0mdLdRb\u001b[0m \u001b[0;34m=\u001b[0m \u001b[0m_np\u001b[0m\u001b[0;34m.\u001b[0m\u001b[0mswapaxes\u001b[0m\u001b[0;34m(\u001b[0m\u001b[0m_np\u001b[0m\u001b[0;34m.\u001b[0m\u001b[0mdot\u001b[0m\u001b[0;34m(\u001b[0m\u001b[0mdL2\u001b[0m\u001b[0;34m,\u001b[0m\u001b[0mdR1\u001b[0m\u001b[0;34m)\u001b[0m\u001b[0;34m,\u001b[0m\u001b[0;36m1\u001b[0m\u001b[0;34m,\u001b[0m\u001b[0;36m2\u001b[0m\u001b[0;34m)\u001b[0m\u001b[0;34m\u001b[0m\u001b[0m\n\u001b[1;32m   1094\u001b[0m             \u001b[0mdLdR_sym\u001b[0m \u001b[0;34m=\u001b[0m \u001b[0mdLdRa\u001b[0m \u001b[0;34m+\u001b[0m \u001b[0m_np\u001b[0m\u001b[0;34m.\u001b[0m\u001b[0mswapaxes\u001b[0m\u001b[0;34m(\u001b[0m\u001b[0mdLdRb\u001b[0m\u001b[0;34m,\u001b[0m\u001b[0;36m0\u001b[0m\u001b[0;34m,\u001b[0m\u001b[0;36m1\u001b[0m\u001b[0;34m)\u001b[0m\u001b[0;34m\u001b[0m\u001b[0m\n",
      "\u001b[0;31mKeyboardInterrupt\u001b[0m: "
     ]
    }
   ],
   "source": [
    "# error bars in reports require the presence of a fully-initialized\n",
    "# \"confidence region factory\" within the relevant Estimate object.\n",
    "# In most cases \"fully-initialized\" means that a Hessian has been \n",
    "# computed and projected onto the non-gauge space.\n",
    "start = time.time()\n",
    "\n",
    "# initialize a factory for the 'go0' gauge optimization within the 'default' estimate\n",
    "crfact = results.estimates['default'].add_confidence_region_factory('go0', 'final')\n",
    "crfact.compute_hessian(comm=comm) #optionally use multiple processors\n",
    "crfact.project_hessian('intrinsic error')\n",
    "\n",
    "end = time.time()\n",
    "print(\"Total time=%f hours\" % ((end - start) / 3600.0))"
   ]
  },
  {
   "cell_type": "markdown",
   "metadata": {},
   "source": [
    "Note above cell was executed for demonstration purposes, and was **keyboard-interrupted intentionally** since it would have taken forever on a single processor."
   ]
  },
  {
   "cell_type": "code",
   "execution_count": null,
   "metadata": {
    "collapsed": true,
    "deletable": true,
    "editable": true
   },
   "outputs": [],
   "source": [
    "#write results back to file\n",
    "with open(\"example_files/easy_2q_results_withCI.pkl\",\"wb\") as f:\n",
    "    pickle.dump(results, f)"
   ]
  },
  {
   "cell_type": "code",
   "execution_count": null,
   "metadata": {
    "collapsed": true,
    "deletable": true,
    "editable": true
   },
   "outputs": [],
   "source": []
  }
 ],
 "metadata": {
  "kernelspec": {
   "display_name": "Python 3",
   "language": "python",
   "name": "python3"
  },
  "language_info": {
   "codemirror_mode": {
    "name": "ipython",
    "version": 3
   },
   "file_extension": ".py",
   "mimetype": "text/x-python",
   "name": "python",
   "nbconvert_exporter": "python",
   "pygments_lexer": "ipython3",
   "version": "3.5.2"
  }
 },
 "nbformat": 4,
 "nbformat_minor": 2
}
