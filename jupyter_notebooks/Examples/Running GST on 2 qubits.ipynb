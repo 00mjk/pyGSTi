{
 "cells": [
  {
   "cell_type": "markdown",
   "metadata": {
    "deletable": true,
    "editable": true
   },
   "source": [
    "# An example of how to run GST on a 2-qubit system\n",
    "This example gives an overview of the typical steps used to perform an end-to-end (i.e. experimental-data-to-report) Gate Set Tomography analysis on a 2-qubit system.  The steps are very similar to the single-qubit case; the main differences are:\n",
    "- the use of more general syntax when constructing 2-qubit gate sets\n",
    "- the increased number of fiducial and germ gate sequences\n",
    "- the increased run time required to compute GST estimates\n",
    "- a different report style "
   ]
  },
  {
   "cell_type": "code",
   "execution_count": 1,
   "metadata": {
    "collapsed": true,
    "deletable": true,
    "editable": true
   },
   "outputs": [],
   "source": [
    "from __future__ import print_function\n",
    "import pygsti"
   ]
  },
  {
   "cell_type": "markdown",
   "metadata": {
    "deletable": true,
    "editable": true
   },
   "source": [
    "### Step 1: Construct the desired 2-qubit gateset\n",
    "There are several ways to do this, as outlined by the comments in the cell below."
   ]
  },
  {
   "cell_type": "code",
   "execution_count": 2,
   "metadata": {
    "collapsed": false,
    "deletable": true,
    "editable": true
   },
   "outputs": [],
   "source": [
    "# via build_gateset:\n",
    "#   [4] = a 4-dimensional Hilbert (state) space\n",
    "#   [('Q0','Q1')] = interpret this 4-d space as that of two qubits 'Q0', and 'Q1' (note these labels *must* begin with 'Q'!)\n",
    "#   \"Gix\" = gate label; can be anything that begins with 'G' and is followed by lowercase letters\n",
    "#   \"X(pi/2,Q1)\" = pi/2 single-qubit x-rotation gate on the qubit labeled Q1\n",
    "#   \"CX(pi,Q0,Q1)\" = controlled pi x-rotation using qubits Q0 (control) and Q1 (target) \n",
    "#   \"rho0\" = prep label; can be anything that begins with \"rho\"\n",
    "#   \"E1\" = effect label; can be anything that begins with \"E\"\n",
    "#   \"2\" = a prep or effect expression indicating a projection/preparation of the 3rd (b/c 0-based) computational basis element\n",
    "#   'dnup': ('rho0','E2') = designate the SPAM label \"dnup\" to mean preparation using \"rho0\" (a prep label) and measuring the outcome \"E2\" (an effect label)\n",
    "#   \"pp\" = create all of these gate & SPAM operators in the Pauli-product basis.\n",
    "gs_target = pygsti.construction.build_gateset( \n",
    "            [4], [('Q0','Q1')],['Gix','Giy','Gxi','Gyi','Gcnot'], \n",
    "            [ \"X(pi/2,Q1)\", \"Y(pi/2,Q1)\", \"X(pi/2,Q0)\", \"Y(pi/2,Q0)\", \"CNOT(Q0,Q1)\" ],\n",
    "            prepLabels=['rho0'], prepExpressions=[\"0\"],\n",
    "            effectLabels=['E0','E1','E2'], effectExpressions=[\"0\",\"1\",\"2\"], \n",
    "            spamdefs={'00': ('rho0','E0'), '01': ('rho0','E1'),\n",
    "                      '10': ('rho0','E2'), '11': ('rho0','remainder') }, basis=\"pp\")\n",
    "\n",
    "# Note that you can also explicity add identity operations, e.g. \"I(Q0)\" to get the same gate set,\n",
    "#  and that this same syntax could be used for non-entangling 2-qubit gates, e.g. \"X(pi/2,Q0):X(pi/2,Q1)\".\n",
    "gs_targetB = pygsti.construction.build_gateset( \n",
    "            [4], [('Q0','Q1')],['Gix','Giy','Gxi','Gyi','Gcnot'], \n",
    "            [ \"I(Q0):X(pi/2,Q1)\", \"I(Q0):Y(pi/2,Q1)\", \"X(pi/2,Q0):I(Q1)\", \"Y(pi/2,Q0):I(Q1)\", \"CNOT(Q0,Q1)\" ],\n",
    "            prepLabels=['rho0'], prepExpressions=[\"0\"], \n",
    "            effectLabels=['E0','E1','E2'], effectExpressions=[\"0\",\"1\",\"2\"], \n",
    "            spamdefs={'00': ('rho0','E0'), '01': ('rho0','E1'),\n",
    "                      '10': ('rho0','E2'), '11': ('rho0','remainder') }, basis=\"pp\")\n",
    "\n",
    "# If you're lucky and your gateset is one of pyGSTi's \"standard\" gate sets, you can just import it.\n",
    "from pygsti.construction import std2Q_XYCNOT\n",
    "gs_targetC = std2Q_XYCNOT.gs_target\n",
    "\n",
    "#check that these are all the same\n",
    "assert(abs(gs_target.frobeniusdist(gs_targetB)) < 1e-6)\n",
    "assert(abs(gs_target.frobeniusdist(gs_targetC)) < 1e-6)"
   ]
  },
  {
   "cell_type": "markdown",
   "metadata": {
    "deletable": true,
    "editable": true
   },
   "source": [
    "### Step 2: Obtain lists of fiducial and germ gate sequences\n",
    "These are the building blocks of the gate sequences performed in the experiment. Typically, these lists are either given to you by the folks at Sandia National Labs (email pygsti@sandia.gov), provided by pyGSTi because you're using a \"standard\" gate set, or computed using \"fiducial selection\" and \"germ selection\" algorithms (which are a part of pyGSTi, but not covered in this tutorial)."
   ]
  },
  {
   "cell_type": "code",
   "execution_count": 3,
   "metadata": {
    "collapsed": false,
    "deletable": true,
    "editable": true
   },
   "outputs": [],
   "source": [
    "#If you know the fiducial strings you can create a list manually.  Note\n",
    "# that in general there can be different \"preparation\" and \"measurement\"\n",
    "# (or \"effect\") fiducials.\n",
    "prep_fiducials = pygsti.construction.gatestring_list( \\\n",
    "[ (), ('Gix',), ('Giy',), ('Gix','Gix'), \n",
    "('Gxi',), ('Gxi','Gix'), ('Gxi','Giy'), ('Gxi','Gix','Gix'), \n",
    "('Gyi',), ('Gyi','Gix'), ('Gyi','Giy'), ('Gyi','Gix','Gix'), \n",
    "('Gxi','Gxi'), ('Gxi','Gxi','Gix'), ('Gxi','Gxi','Giy'), ('Gxi','Gxi','Gix','Gix') ] )\n",
    "\n",
    "effect_fiducials = pygsti.construction.gatestring_list( \\\n",
    "[(), ('Gix',), ('Giy',), \n",
    " ('Gix','Gix'), ('Gxi',),\n",
    " ('Gyi',), ('Gxi','Gxi'),\n",
    " ('Gxi','Gix'), ('Gxi','Giy'),\n",
    " ('Gyi','Gix'), ('Gyi','Giy')] )\n",
    "\n",
    "#Or, if you're lucky, you can just import them\n",
    "prep_fiducialsB = std2Q_XYCNOT.prepStrs\n",
    "effect_fiducialsB = std2Q_XYCNOT.effectStrs\n",
    "\n",
    "#check that these are the same\n",
    "assert(prep_fiducials == prep_fiducialsB)\n",
    "assert(effect_fiducials == effect_fiducialsB)\n",
    "\n",
    "#Use fiducial sequences to create a \"spam specifiers\" object, telling\n",
    "# GST which preparation and measurement fiducials to follow and precede which\n",
    "# state preparation and effect operators, respectively.\n",
    "specs = pygsti.construction.build_spam_specs(\n",
    "    prepStrs=prep_fiducials,\n",
    "    effectStrs=effect_fiducials,\n",
    "    prep_labels=gs_target.get_prep_labels(),\n",
    "    effect_labels=gs_target.get_effect_labels() )\n",
    "\n",
    "#Alternatively, if you're lucky, you can grab the specs directly:\n",
    "specsB = std2Q_XYCNOT.specs\n",
    "assert(specs[0] == specsB[0])"
   ]
  },
  {
   "cell_type": "code",
   "execution_count": 4,
   "metadata": {
    "collapsed": true,
    "deletable": true,
    "editable": true
   },
   "outputs": [],
   "source": [
    "#germ lists can be specified in the same way.  In this case, there are\n",
    "# 71 germs required to do honest GST.  Since this would crowd this tutorial\n",
    "# notebook, we create some smaller lists of germs manually and import the\n",
    "# full 71-germ list from std2Q_XYCNOT\n",
    "germs4 = pygsti.construction.gatestring_list(\n",
    "    [ ('Gix',), ('Giy',), ('Gxi',), ('Gyi',) ] )\n",
    "\n",
    "germs11 = pygsti.construction.gatestring_list(\n",
    "    [ ('Gix',), ('Giy',), ('Gxi',), ('Gyi',), ('Gcnot',), ('Gxi','Gyi'), ('Gix','Giy'),\n",
    "      ('Gix','Gcnot'), ('Gxi','Gcnot'), ('Giy','Gcnot'), ('Gyi','Gcnot') ] )\n",
    "\n",
    "germs71 = std2Q_XYCNOT.germs"
   ]
  },
  {
   "cell_type": "markdown",
   "metadata": {
    "deletable": true,
    "editable": true
   },
   "source": [
    "### Step 3: Data generation\n",
    "Now that fiducial and germ strings have been found, we can generate the list of experiments needed to run GST, just like in the 1-qubit case.  As an additional input we'll need a list of lengths indicating the maximum length strings to use on each successive GST iteration."
   ]
  },
  {
   "cell_type": "code",
   "execution_count": 5,
   "metadata": {
    "collapsed": false,
    "deletable": true,
    "editable": true
   },
   "outputs": [],
   "source": [
    "#A list of maximum lengths for each GST iteration\n",
    "maxLengths = [1,2,4]\n",
    "\n",
    "#Create a list of GST experiments for this gateset, with\n",
    "#the specified fiducials, germs, and maximum lengths.  We use\n",
    "#\"germs4\" here so that the tutorial runs quickly; really, you'd\n",
    "#want to use germs71!\n",
    "listOfExperiments = pygsti.construction.make_lsgst_experiment_list(gs_target.gates.keys(), prep_fiducials,\n",
    "                                                                   effect_fiducials, germs4, maxLengths)\n",
    "\n",
    "#Create an empty dataset file, which stores the list of experiments\n",
    "# and zerod-out columns where data should be inserted.  Note the use of the SPAM\n",
    "# labels in the \"Columns\" header line.\n",
    "pygsti.io.write_empty_dataset(\"example_files/My2QDataTemplate.txt\", listOfExperiments,\n",
    "                              \"## Columns = 00 count, 01 count, 10 count, 11 count\")"
   ]
  },
  {
   "cell_type": "code",
   "execution_count": 6,
   "metadata": {
    "collapsed": true,
    "deletable": true,
    "editable": true
   },
   "outputs": [],
   "source": [
    "#Generate some \"fake\" (simulated) data based on a depolarized version of the target gateset\n",
    "gs_datagen = gs_target.depolarize(gate_noise=0.1, spam_noise=0.001)\n",
    "ds = pygsti.construction.generate_fake_data(gs_datagen, listOfExperiments, nSamples=1000,\n",
    "                                            sampleError=\"multinomial\", seed=2016)\n",
    "\n",
    "#if you have a dataset file with real data in it, load it using something like:\n",
    "#ds = pygsti.io.load_dataset(\"mydir/My2QDataset.txt\")"
   ]
  },
  {
   "cell_type": "markdown",
   "metadata": {
    "deletable": true,
    "editable": true
   },
   "source": [
    "### Step 4: Run GST using `do_long_sequence_gst`\n",
    "Just like for 1-qubit GST, we call the driver routine `do_long_sequence_gst` to compute the GST estimates.  Usually for two qubits this could take a long time (hours) based on the number of gate sequences used.  However, since we chose an incomplete set of only 4 germs and set our maximum max-length to 4, this will run fairly quickly (~20min).\n",
    "\n",
    "Some notes about the options/arguments to `do_long_sequence_gst` that are particularly relevant to 2-qubit GST:\n",
    "- `mxBasis` indicates which basis the target gateset matrices are in -- this should be the same as that used to create the gateset.  Here `'pp'` denotes the Pauli-product basis.\n",
    "- `advancedOptions` expects a dictionary of with option names as the keys.  Relevant options are:\n",
    "  - `memoryLimitInBytes` gives an estimate of how much memory is available to use on your system (in bytes).  This is currently *not* a hard limit, and pyGSTi may require 50-100% more memory than this \"limit\".  So you'll need to be conservative in the value you place here: if your machine has 10GB of RAM, set this to 3 or 5 GB initially and increase it as you see how much memory is actually used using a separate OS performance monitor tool.\n",
    "  - `depolarizeLGST` gives an amount (in [0,1]) to depolarize the initial LGST estimate that is used as the initial guess for long-sequence GST.  In practice, we find that in the larger 2-qubit Hilbert space, the LGST estimate may be so poor as to adversely affect the subsequent long-sequence GST (e.g. very slow convergence).  Depolarizing the LGST estimate remedies this.  If you're unsure what to put here, either don't specify `depolarizeLGST` at all (the same as using 0.0), or just use 0.1.\n",
    "  - `verbosity` tells the routine how much detail to print to stdout.  If you don't mind waiting a while without getting any output, you can leave this at its default value (2).  If you can't standing wondering whether GST is still running or has locked up, set this to 3."
   ]
  },
  {
   "cell_type": "code",
   "execution_count": 7,
   "metadata": {
    "collapsed": false,
    "deletable": true,
    "editable": true,
    "scrolled": true
   },
   "outputs": [
    {
     "name": "stdout",
     "output_type": "stream",
     "text": [
      "--- Gate Sequence Creation ---\n",
      " 1735 sequences created\n",
      " Dataset has 1735 entries: 1735 utilized, 0 requested sequences were missing\n",
      "--- LGST ---\n",
      "  Singular values of I_tilde (truncating to first 16 of 16) = \n",
      "  6.74514000465\n",
      "  2.35412600554\n",
      "  2.30840372008\n",
      "  1.24114882504\n",
      "  1.20157481023\n",
      "  1.18594824313\n",
      "  0.874943692398\n",
      "  0.821286314978\n",
      "  0.522740536173\n",
      "  0.510331718712\n",
      "  0.385817924225\n",
      "  0.360484466823\n",
      "  0.3339807076\n",
      "  0.244621117742\n",
      "  0.21847667232\n",
      "  0.13927195533\n",
      "  \n",
      "  Singular values of target I_tilde (truncating to first 16 of 16) = \n",
      "  6.86802764151\n",
      "  3.20253744687\n",
      "  3.20253744687\n",
      "  1.76923693223\n",
      "  1.76923693223\n",
      "  1.73205080757\n",
      "  1.23400485863\n",
      "  1.22474487139\n",
      "  0.707106781187\n",
      "  0.707106781187\n",
      "  0.5\n",
      "  0.493714392513\n",
      "  0.493714392513\n",
      "  0.346122344917\n",
      "  0.346122344917\n",
      "  0.239642075572\n",
      "  \n",
      "    Resulting gate set:\n",
      "    \n",
      "    rho0 =    0.5000        0        0   0.5000        0        0        0        0        0        0        0        0   0.5000        0        0   0.5000\n",
      "    \n",
      "    \n",
      "    E0 =    0.5890  -0.0260   0.0130   0.4610  -0.0290  -0.0640   0.0550  -0.0470   0.0440   0.0530   0.0100   0.0420   0.4460  -0.0410   0.0260   0.4980\n",
      "    \n",
      "    E1 =    0.4990   0.0470  -0.0220  -0.4580  -0.0180   0.0020   0.0390   0.0450   0.0570  -0.0170   0.0340  -0.0620   0.3700   0.0320  -0.0090  -0.4090\n",
      "    \n",
      "    E2 =    0.4950  -0.0310   0.0320   0.3580   0.0260   0.0120  -0.0550   0.0250  -0.0340  -0.0480  -0.0570  -0.0430  -0.4480   0.0280  -0.0450  -0.4050\n",
      "    \n",
      "    \n",
      "    Gix = \n",
      "       0.9997   0.0001  -0.0003   0.0003   0.0003  -0.0001   0.0003  -0.0003  -0.0003   0.0002  -0.0003   0.0003        0        0        0        0\n",
      "       0.0175   0.8792   0.0175  -0.0175  -0.0570   0.0528  -0.0570   0.0570   0.0382  -0.0874   0.0382  -0.0382  -0.0131   0.0074  -0.0131   0.0131\n",
      "      -0.1011   0.0917  -0.1011  -0.8989   0.0132  -0.0214   0.0132  -0.0132  -0.0189   0.0242  -0.0189   0.0189  -0.0063   0.0337  -0.0063   0.0063\n",
      "      -0.0939   0.0613   0.9061   0.0939  -0.0230   0.0425  -0.0230   0.0230   0.0187  -0.0763   0.0187  -0.0187   0.0133  -0.0084   0.0133  -0.0133\n",
      "      -0.0005  -0.0287  -0.0005   0.0005   0.9309  -0.0022  -0.0691   0.0691  -0.0047  -0.0069  -0.0047   0.0047   0.0047  -0.0113   0.0047  -0.0047\n",
      "      -0.0184  -0.0618  -0.0184   0.0184  -0.0537   1.0845  -0.0537   0.0537  -0.0423  -0.1069  -0.0423   0.0423  -0.0128  -0.0516  -0.0128   0.0128\n",
      "       0.0091   0.0482   0.0091  -0.0091  -0.1507  -0.0655  -0.1507  -0.8493  -0.0170   0.1016  -0.0170   0.0170   0.0165  -0.0809   0.0165  -0.0165\n",
      "       0.0249  -0.0496   0.0249  -0.0249  -0.1291   0.0999   0.8709   0.1291  -0.0179  -0.0502  -0.0179   0.0179   0.0085  -0.0209   0.0085  -0.0085\n",
      "      -0.0360   0.0176  -0.0360   0.0360   0.0215  -0.0257   0.0215  -0.0215   0.8846  -0.0080  -0.1154   0.1154   0.0066   0.0137   0.0066  -0.0066\n",
      "      -0.0316   0.0808  -0.0316   0.0316   0.0152  -0.1398   0.0152  -0.0152  -0.0050   1.0401  -0.0050   0.0050  -0.0128  -0.0294  -0.0128   0.0128\n",
      "      -0.0380   0.0140  -0.0380   0.0380   0.0665  -0.0013   0.0665  -0.0665  -0.1572   0.1840  -0.1572  -0.8428   0.0145  -0.0525   0.0145  -0.0145\n",
      "      -0.0255   0.0711  -0.0255   0.0255   0.0112  -0.0955   0.0112  -0.0112  -0.1221   0.2177   0.8779   0.1221   0.0213   0.0102   0.0213  -0.0213\n",
      "      -0.0195  -0.0091  -0.0195   0.0195  -0.0169   0.0395  -0.0169   0.0169  -0.0012  -0.0096  -0.0012   0.0012   0.9054  -0.0065  -0.0946   0.0946\n",
      "      -0.0265   0.0016  -0.0265   0.0265   0.0518  -0.0609   0.0518  -0.0518  -0.0573   0.0637  -0.0573   0.0573  -0.0058   0.9176  -0.0058   0.0058\n",
      "       0.0200   0.0107   0.0200  -0.0200  -0.0098  -0.0650  -0.0098   0.0098  -0.0001   0.0607  -0.0001   0.0001  -0.1165   0.1192  -0.1165  -0.8835\n",
      "       0.0216  -0.0230   0.0216  -0.0216  -0.0135  -0.0016  -0.0135   0.0135  -0.0263  -0.0035  -0.0263   0.0263  -0.0718   0.0346   0.9282   0.0718\n",
      "    \n",
      "    \n",
      "    Giy = \n",
      "       0.9996        0  -0.0004   0.0004   0.0003        0   0.0002  -0.0003  -0.0003        0  -0.0004   0.0003        0        0        0        0\n",
      "       0.1332  -0.1087   0.1257   0.8668  -0.0487   0.0404  -0.0456   0.0487   0.0325  -0.0707   0.0421  -0.0325  -0.0107   0.0096  -0.0007   0.0107\n",
      "      -0.0046  -0.0042   0.9212   0.0046  -0.0107  -0.0056  -0.0008   0.0107  -0.0016  -0.0428   0.0374   0.0016  -0.0146   0.0419  -0.0204   0.0146\n",
      "      -0.0845  -0.9051  -0.0570   0.0845  -0.0057  -0.0194  -0.0397   0.0057  -0.0009  -0.0219   0.0856   0.0009  -0.0012   0.0298   0.0377   0.0012\n",
      "       0.0010   0.0152   0.0324  -0.0010   0.8971   0.1070  -0.0123   0.1029  -0.0053   0.0735  -0.0168   0.0053  -0.0094  -0.0382  -0.0343   0.0094\n",
      "       0.0375  -0.0118   0.0565  -0.0375   0.0753  -0.2175  -0.0088   0.9247  -0.0107  -0.0090   0.0561   0.0107   0.0437  -0.0719   0.0346  -0.0437\n",
      "      -0.0229  -0.0287  -0.1076   0.0229   0.0741  -0.1149   0.9313  -0.0741   0.0039  -0.0493  -0.0982  -0.0039  -0.0018  -0.0060   0.0131   0.0018\n",
      "       0.0096   0.0272   0.0170  -0.0096  -0.0721  -0.9772  -0.1185   0.0721   0.0165  -0.0474   0.0887  -0.0165  -0.0156   0.0678   0.0144   0.0156\n",
      "      -0.0019  -0.0048  -0.0474   0.0019  -0.0093  -0.0258   0.0543   0.0093   0.8845   0.0869  -0.0217   0.1155   0.0068  -0.0230  -0.0127  -0.0068\n",
      "      -0.0648  -0.0041  -0.1907   0.0648   0.1029  -0.0429   0.2021  -0.1029   0.0764  -0.1062  -0.0998   0.9236   0.0305  -0.0159   0.1169  -0.0305\n",
      "      -0.0023  -0.0064   0.0141   0.0023   0.0597  -0.0090   0.0302  -0.0597   0.0021  -0.0088   0.8952  -0.0021   0.0091   0.0771   0.0026  -0.0091\n",
      "      -0.0405   0.0809  -0.0282   0.0405   0.0159  -0.0069  -0.0897  -0.0159  -0.0922  -0.9217  -0.1195   0.0922   0.0171   0.0036   0.0523  -0.0171\n",
      "      -0.0163   0.0150   0.0177   0.0163  -0.0216   0.0179  -0.0465   0.0216   0.0013   0.0007   0.0084  -0.0013   0.9106   0.0955  -0.0052   0.0894\n",
      "      -0.0098  -0.0286  -0.0472   0.0098   0.0784   0.0595   0.0317  -0.0784   0.0081  -0.0757  -0.0086  -0.0081   0.0988  -0.0988   0.0948   0.9012\n",
      "       0.0102   0.0502  -0.0481  -0.0102  -0.0158  -0.0840   0.0180   0.0158   0.0518   0.0166  -0.0069  -0.0518  -0.0140   0.0442   0.8380   0.0140\n",
      "       0.0159  -0.0133   0.0456  -0.0159   0.0315  -0.0338  -0.0431  -0.0315        0   0.0286  -0.0370        0  -0.0745  -0.9387  -0.0471   0.0745\n",
      "    \n",
      "    \n",
      "    Gxi = \n",
      "       0.9996   0.0005  -0.0005        0   0.0002  -0.0003   0.0002        0  -0.0001        0        0  -0.0002   0.0002  -0.0004   0.0003        0\n",
      "       0.0083   0.9104  -0.0033  -0.0132  -0.0150  -0.0070  -0.0084   0.0506  -0.0152  -0.0599   0.0242   0.0103  -0.0062   0.1477  -0.0305   0.0110\n",
      "      -0.0210   0.0086   0.9030   0.0068  -0.0123   0.0023  -0.0338  -0.0170   0.0204   0.0219  -0.0623  -0.0346   0.0343  -0.0286   0.0971  -0.0200\n",
      "      -0.0006  -0.0146   0.0055   0.9054  -0.0233   0.0226  -0.0042   0.0132   0.0083  -0.0081  -0.0039  -0.1035   0.0076   0.0049  -0.0560   0.0876\n",
      "       0.0006  -0.0432   0.0147  -0.0069   0.9063   0.0725  -0.0054  -0.0344  -0.0114  -0.0506   0.0534   0.0052  -0.0147   0.0241  -0.0172   0.0209\n",
      "       0.0094   0.0316  -0.0351  -0.0369   0.0102   0.7662   0.0613   0.1039  -0.0149  -0.1301  -0.0935  -0.0126   0.0066  -0.1037  -0.0371   0.0209\n",
      "       0.0114  -0.0380   0.0149   0.0032  -0.0285  -0.0587   0.8103  -0.0273   0.0025  -0.0666  -0.0523   0.0121   0.0151  -0.0463   0.0537  -0.0297\n",
      "       0.0299  -0.0216  -0.0403  -0.0429  -0.0605  -0.0161   0.0767   0.9515   0.0018   0.0542  -0.0643  -0.0148  -0.0065   0.1193  -0.0237   0.0194\n",
      "      -0.1006  -0.0211  -0.0520  -0.0076   0.0664   0.0689   0.0292   0.0277  -0.1123  -0.0031  -0.0121   0.0041  -0.8812  -0.0403   0.0527  -0.0107\n",
      "      -0.0172  -0.0873  -0.0888   0.0139  -0.0309   0.0255   0.0051  -0.0535   0.0378  -0.1198   0.0674  -0.0410   0.0259  -0.9484   0.0578  -0.0227\n",
      "      -0.0616   0.0773  -0.1201   0.0165   0.1443  -0.2386   0.1693  -0.0071  -0.0269   0.1124  -0.1146  -0.0182   0.0202   0.0311  -0.9001   0.0250\n",
      "       0.0131   0.0202  -0.0300  -0.1313  -0.0620   0.0253  -0.0468   0.1178   0.0109   0.0208  -0.0689  -0.1291   0.0170  -0.0196   0.0495  -0.8988\n",
      "      -0.0936  -0.0139   0.0410  -0.0017   0.0625   0.0416  -0.0791   0.0003   0.9186  -0.0340   0.0227  -0.0138   0.0825   0.0395   0.0031   0.0128\n",
      "       0.0167  -0.1429   0.0639   0.0136   0.0179   0.1708  -0.0822  -0.0689   0.0434   0.7881   0.0708  -0.0130  -0.0066   0.0508   0.0656  -0.0238\n",
      "       0.0613  -0.0098  -0.0667  -0.0204  -0.1240   0.0704  -0.0185   0.0133   0.0035   0.0188   0.8736   0.0375  -0.0627   0.0310   0.0770   0.0218\n",
      "       0.0067   0.0038   0.0115  -0.0737   0.0180  -0.0387   0.0232   0.0121   0.0115  -0.0142   0.0410   0.9214  -0.0009   0.0458   0.0311   0.0680\n",
      "    \n",
      "    \n",
      "    Gyi = \n",
      "       0.9997   0.0005  -0.0002        0        0  -0.0003  -0.0002        0  -0.0003   0.0007  -0.0001        0   0.0003  -0.0004   0.0004        0\n",
      "       0.0196   0.8737   0.0014   0.0169   0.0446   0.0540   0.1113  -0.0199   0.0016  -0.0482  -0.0041   0.0147  -0.0333   0.1309  -0.0424  -0.0032\n",
      "       0.0014  -0.0075   0.9182  -0.0071  -0.0117   0.0352   0.0952   0.0012  -0.0172   0.0188   0.0110  -0.0281   0.0050  -0.0012   0.0939   0.0006\n",
      "      -0.0258   0.0108  -0.0103   0.9159   0.0303  -0.0427  -0.0015   0.0837  -0.0158   0.0096   0.0084   0.0298   0.0097  -0.0126  -0.0418   0.1001\n",
      "       0.0733   0.0102  -0.0099   0.0140  -0.0547  -0.0190   0.0368  -0.0022   0.0687   0.0163  -0.0890  -0.0153   0.9032   0.0422  -0.0135   0.0095\n",
      "       0.0146   0.1078   0.0194   0.0068   0.0349  -0.0376   0.0706   0.0553  -0.0048   0.1879  -0.0206  -0.0474  -0.0511   0.9156  -0.0631   0.0297\n",
      "       0.0238  -0.0051   0.1412  -0.0008  -0.0909   0.1468  -0.2245  -0.0339  -0.0345   0.0664   0.1209   0.0310  -0.0104  -0.1060   0.8328  -0.0126\n",
      "       0.0508  -0.0320   0.0246   0.0766  -0.0379   0.0102   0.0043  -0.0859   0.0309  -0.0090   0.0700   0.0348  -0.0289  -0.0962  -0.0092   0.9015\n",
      "       0.0225  -0.0256  -0.0233  -0.0230  -0.0049   0.0271   0.0601   0.0222   0.9400  -0.0142   0.0359  -0.0128  -0.0021  -0.0072   0.0241   0.0026\n",
      "      -0.0433   0.0516  -0.1226  -0.0092  -0.0288   0.1060  -0.0408   0.0321  -0.0126   0.8466  -0.1032   0.1082   0.0478  -0.1494   0.0547   0.0048\n",
      "      -0.0527  -0.0610  -0.0140  -0.0009  -0.0332   0.1055  -0.1047   0.0340  -0.0465  -0.0172   0.8179   0.0316   0.0391  -0.0421  -0.0087   0.0145\n",
      "      -0.0434   0.1312  -0.0692  -0.0015  -0.0392   0.0174  -0.0244  -0.0440  -0.0677   0.2036  -0.0902   0.9509   0.0167  -0.0379  -0.0084   0.0282\n",
      "      -0.1154  -0.0118  -0.0096   0.0090  -0.9079  -0.0032   0.0012  -0.0217  -0.0952  -0.0272  -0.0157  -0.0265   0.0856   0.0365  -0.0264   0.0208\n",
      "       0.0049  -0.1011  -0.0119   0.0024  -0.0948  -0.8386  -0.0996   0.0404   0.0252  -0.0411  -0.0882   0.0079   0.0583  -0.0439  -0.0647  -0.0657\n",
      "       0.0145   0.0638  -0.1052  -0.0286   0.0152  -0.1461  -0.9067   0.0140   0.0417   0.0763  -0.1101   0.0577  -0.0274  -0.0971   0.0678   0.0415\n",
      "       0.0409  -0.0420   0.0269  -0.1049  -0.0218   0.0120   0.0161  -0.9157   0.0097  -0.0684   0.0306  -0.1420   0.0096   0.0122  -0.0290   0.0543\n",
      "    \n",
      "    \n",
      "    Gcnot = \n",
      "       0.9997   0.0003        0  -0.0002  -0.0003   0.0004   0.0004   0.0003   0.0004  -0.0002  -0.0003   0.0002        0  -0.0001        0        0\n",
      "       0.0366   0.8417  -0.0067   0.0204   0.0292  -0.0391   0.0179  -0.0505  -0.0307  -0.0477  -0.0169  -0.0403  -0.0135  -0.0009   0.0268  -0.0029\n",
      "      -0.0265   0.0444   0.0035   0.0081   0.0187  -0.0714  -0.1368  -0.0524  -0.0308   0.0321   0.0850   0.0185   0.0396  -0.0505   0.9107  -0.0085\n",
      "      -0.0928   0.0554   0.0415  -0.0095  -0.0172   0.0345   0.0386  -0.1638   0.0262  -0.0920   0.0318   0.0547   0.0997  -0.0802   0.0229   0.8975\n",
      "      -0.0143  -0.0060  -0.0325   0.0209   0.0213   0.9028  -0.0296   0.0106  -0.0528   0.0472   0.0765   0.0038   0.0002  -0.0453   0.0256  -0.0011\n",
      "      -0.0217   0.0375  -0.1301  -0.0113   1.0342  -0.1960   0.0752   0.0715   0.0367  -0.0685  -0.0129  -0.0252  -0.0049  -0.0977  -0.0798   0.0058\n",
      "       0.0364  -0.0796   0.0647   0.0127  -0.1569   0.1365  -0.0430   0.0382   0.1949  -0.2164   0.1101   0.8265   0.0199  -0.0461   0.0646   0.0255\n",
      "       0.0428  -0.0672  -0.0560  -0.0057   0.0859  -0.1135   0.0324   0.0310   0.0459  -0.1608  -0.8275  -0.1306   0.0268  -0.0292   0.0066  -0.0044\n",
      "      -0.0217   0.0326  -0.0548   0.0204   0.0352  -0.0259  -0.0520   0.0159   0.0290   0.8920  -0.0625   0.0813  -0.0098   0.0149  -0.0516  -0.0031\n",
      "      -0.0289   0.0115   0.0804  -0.0561  -0.1717   0.1567  -0.0378  -0.0029   0.9048  -0.0154  -0.0078   0.0994  -0.0562   0.0606  -0.0855   0.0003\n",
      "      -0.0504   0.0077   0.0267  -0.0657  -0.1838   0.2124  -0.0953  -0.8868   0.0796  -0.1558   0.0173  -0.0048   0.0167  -0.1147  -0.0136  -0.0436\n",
      "      -0.0051  -0.0042   0.0535   0.0453  -0.0194   0.0579   0.9779   0.1116   0.1076  -0.0752  -0.0754   0.0483   0.0033   0.0005  -0.0089  -0.0374\n",
      "      -0.0322   0.0137  -0.0308  -0.0937  -0.0695   0.0787  -0.0060  -0.0148   0.0424  -0.0617  -0.0502  -0.0080   0.9307  -0.0530   0.0036   0.0752\n",
      "       0.0124  -0.0349   0.0323   0.0083   0.0090   0.0693   0.0800   0.1115  -0.0832   0.0940   0.0102   0.0126   0.0438   0.8558  -0.0145   0.0314\n",
      "       0.0818  -0.0562   0.9022  -0.0013  -0.0824  -0.0358  -0.0160   0.1394   0.0428   0.0207  -0.1205   0.0513  -0.0583   0.1261  -0.0171  -0.0366\n",
      "       0.0964  -0.0893   0.0137   0.9049   0.0510  -0.0275  -0.1300   0.0471  -0.0531   0.0284  -0.0468  -0.0484  -0.0973   0.0694   0.0575  -0.0008\n",
      "    \n",
      "    \n",
      "    \n",
      "--- Iterative MLGST: Iter 1 of 3  731 gate strings ---: \n",
      "  --- Minimum Chi^2 GST ---\n",
      "  Memory limit = 3.00GB\n",
      "  Cur, Persist, Gather = 0.12, 0.03, 0.30 GB\n",
      "  Evaltree generation (deriv) w/mem limit = 2.55GB\n",
      "   mem(1 subtrees, 1,1 param-grps, 1 proc-grps) in 0s = 1.88GB (1.88GB fc)\n",
      "  Created evaluation tree with 1 subtrees.  Will divide 1 procs into 1 (subtree-processing)\n",
      "   groups of ~1 procs each, to distribute over 1344 params (taken as 1 param groups of ~1344 params).\n",
      "   Memory estimate = 1.88GB (cache=731, wrtLen1=1344, wrtLen2=1344, subsPerProc=1).\n",
      "--- Outer Iter 0: norm_f = 31646.5, mu=0\n",
      "--- Outer Iter 1: norm_f = 28079.7, mu=2.19402e+06\n",
      "--- Outer Iter 2: norm_f = 22395.4, mu=731341\n",
      "--- Outer Iter 3: norm_f = 13455.6, mu=243780\n",
      "--- Outer Iter 4: norm_f = 6826.07, mu=81260.1\n",
      "--- Outer Iter 5: norm_f = 3797.6, mu=27086.7\n",
      "--- Outer Iter 6: norm_f = 2430.66, mu=9028.9\n",
      "--- Outer Iter 7: norm_f = 1743.18, mu=3009.63\n",
      "--- Outer Iter 8: norm_f = 1379.94, mu=1003.21\n",
      "--- Outer Iter 9: norm_f = 1205.63, mu=334.404\n",
      "--- Outer Iter 10: norm_f = 1139.98, mu=111.468\n",
      "--- Outer Iter 11: norm_f = 1119.98, mu=37.156\n",
      "--- Outer Iter 12: norm_f = 1115.27, mu=12.3853\n",
      "--- Outer Iter 13: norm_f = 1114.52, mu=4.12844\n",
      "--- Outer Iter 14: norm_f = 1114.44, mu=1.37615\n",
      "--- Outer Iter 15: norm_f = 1114.43, mu=0.458716\n",
      "    Least squares message = Both actual and predicted relative reductions in the sum of squares are at most 1e-06\n",
      "  Finding num_nongauge_params is too expensive: using total params.\n",
      "  Sum of Chi^2 = 1114.43 (2193 data params - 1344 model params = expected mean of 849; p-value = 1.96757e-09)\n",
      "  Completed in 271.4s\n",
      "  2*Delta(log(L)) = 1116.95\n",
      "  Iteration 1 took 271.5s\n",
      "  \n",
      "--- Iterative MLGST: Iter 2 of 3  1141 gate strings ---: \n",
      "  --- Minimum Chi^2 GST ---\n",
      "  Memory limit = 3.00GB\n",
      "  Cur, Persist, Gather = 0.28, 0.05, 0.30 GB\n",
      "  Evaltree generation (deriv) w/mem limit = 2.38GB\n",
      "   mem(1 subtrees, 1,1 param-grps, 1 proc-grps) in 0s = 2.93GB (2.93GB fc)\n",
      "  Created evaluation tree with 1 subtrees.  Will divide 1 procs into 1 (subtree-processing)\n",
      "   groups of ~1 procs each, to distribute over 1344 params (taken as 2 param groups of ~672 params).\n",
      "   Memory estimate = 1.47GB (cache=1141, wrtLen1=672, wrtLen2=1344, subsPerProc=1).\n",
      "--- Outer Iter 0: norm_f = 4203.24, mu=0\n",
      "--- Outer Iter 1: norm_f = 3077.32, mu=3075.37\n",
      "--- Outer Iter 2: norm_f = 2704.48, mu=1025.12\n",
      "--- Outer Iter 3: norm_f = 2506.24, mu=341.708\n",
      "--- Outer Iter 4: norm_f = 2426.27, mu=113.903\n",
      "--- Outer Iter 5: norm_f = 2408.61, mu=37.9676\n",
      "--- Outer Iter 6: norm_f = 2406.82, mu=12.6559\n",
      "--- Outer Iter 7: norm_f = 2406.73, mu=4.21862\n",
      "--- Outer Iter 8: norm_f = 2406.73, mu=1.40621\n",
      "    Least squares message = Both actual and predicted relative reductions in the sum of squares are at most 1e-06\n",
      "  Finding num_nongauge_params is too expensive: using total params.\n",
      "  Sum of Chi^2 = 2406.73 (3423 data params - 1344 model params = expected mean of 2079; p-value = 6.24398e-07)\n",
      "  Completed in 227.2s\n",
      "  2*Delta(log(L)) = 2413.79\n",
      "  Iteration 2 took 227.3s\n",
      "  \n",
      "--- Iterative MLGST: Iter 3 of 3  1735 gate strings ---: \n",
      "  --- Minimum Chi^2 GST ---\n",
      "  Memory limit = 3.00GB\n",
      "  Cur, Persist, Gather = 0.19, 0.07, 0.29 GB\n",
      "  Evaltree generation (deriv) w/mem limit = 2.45GB\n",
      "   mem(1 subtrees, 1,1 param-grps, 1 proc-grps) in 0s = 4.45GB (4.45GB fc)\n",
      "  Created evaluation tree with 1 subtrees.  Will divide 1 procs into 1 (subtree-processing)\n",
      "   groups of ~1 procs each, to distribute over 1344 params (taken as 2 param groups of ~672 params).\n",
      "   Memory estimate = 2.23GB (cache=1735, wrtLen1=672, wrtLen2=1344, subsPerProc=1).\n",
      "--- Outer Iter 0: norm_f = 4823.18, mu=0\n",
      "--- Outer Iter 1: norm_f = 4293.24, mu=4081.04\n",
      "--- Outer Iter 2: norm_f = 4185.01, mu=1360.35\n",
      "--- Outer Iter 3: norm_f = 4150.04, mu=453.449\n",
      "--- Outer Iter 4: norm_f = 4140.94, mu=151.15\n",
      "--- Outer Iter 5: norm_f = 4139.29, mu=50.3832\n",
      "--- Outer Iter 6: norm_f = 4139.11, mu=16.7944\n",
      "--- Outer Iter 7: norm_f = 4139.1, mu=5.59814\n",
      "    Least squares message = Both actual and predicted relative reductions in the sum of squares are at most 1e-06\n",
      "  Finding num_nongauge_params is too expensive: using total params.\n",
      "  Sum of Chi^2 = 4139.1 (5205 data params - 1344 model params = expected mean of 3861; p-value = 0.000969708)\n",
      "  Completed in 310.2s\n",
      "  2*Delta(log(L)) = 4152.96\n",
      "  Iteration 3 took 310.3s\n",
      "  \n",
      "  Switching to ML objective (last iteration)\n",
      "  --- MLGST ---\n",
      "  Memory: limit = 3.00GB(cur, persist, gthr = 0.22, 0.07, 0.29 GB)\n",
      "  Evaltree generation (deriv) w/mem limit = 2.42GB\n",
      "   mem(1 subtrees, 1,1 param-grps, 1 proc-grps) in 0s = 4.45GB (4.45GB fc)\n",
      "  Created evaluation tree with 1 subtrees.  Will divide 1 procs into 1 (subtree-processing)\n",
      "   groups of ~1 procs each, to distribute over 1344 params (taken as 2 param groups of ~672 params).\n",
      "   Memory estimate = 2.23GB (cache=1735, wrtLen1=672, wrtLen2=1344, subsPerProc=1).\n",
      "--- Outer Iter 0: norm_f = 2076.48, mu=0\n",
      "--- Outer Iter 1: norm_f = 2076.27, mu=9385.83\n",
      "--- Outer Iter 2: norm_f = 2074.21, mu=3128.61\n",
      "--- Outer Iter 3: norm_f = 2074.13, mu=3081.18\n",
      "    Least squares message = Relative change in |x| is at most 1e-06\n",
      "  Finding num_nongauge_params is too expensive: using total params.\n",
      "    Maximum log(L) = 2074.13 below upper bound of -3.93493e+06\n",
      "      2*Delta(log(L)) = 4148.26 (5205 data params - 1344 model params = expected mean of 3861; p-value = 0.000689971)\n",
      "    Completed in 155.2s\n",
      "  2*Delta(log(L)) = 4148.26\n",
      "  Final MLGST took 155.2s\n",
      "  \n",
      "Iterative MLGST Total Time: 964.3s\n",
      "Total time=0.269145 hours\n"
     ]
    }
   ],
   "source": [
    "import time\n",
    "start = time.time()\n",
    "results = pygsti.do_long_sequence_gst(ds, gs_target, prep_fiducials, effect_fiducials, germs4,\n",
    "                                    maxLengths, gaugeOptParams={'itemWeights': {'spam':0.1,'gates': 1.0}},\n",
    "                                    advancedOptions={ 'depolarizeStart' : 0.1 }, memLimit=3*(1024)**3,\n",
    "                                    verbosity=3 )\n",
    "end = time.time()\n",
    "print(\"Total time=%f hours\" % ((end - start) / 3600.0))\n",
    "\n",
    "#If you wanted to, you could pickle the results for later analysis:\n",
    "#import pickle\n",
    "#pickle.dump(results, open(\"MySavedResults.pkl\", \"wb\"))\n"
   ]
  },
  {
   "cell_type": "code",
   "execution_count": null,
   "metadata": {
    "collapsed": false,
    "deletable": true,
    "editable": true
   },
   "outputs": [],
   "source": []
  },
  {
   "cell_type": "markdown",
   "metadata": {
    "deletable": true,
    "editable": true
   },
   "source": [
    "### Step 5: Create report(s) using the returned `Results` object\n",
    "The `Results` object returned from `do_long_sequence_gst` is able to generate several different types of reports.  Most of these are designed to display single-qubit results (for historical reasons).  The \"general\"-type report was designed with 2-qubit data presentation in mind, so creating reports with `create_general_report` will be the most useful."
   ]
  },
  {
   "cell_type": "code",
   "execution_count": 8,
   "metadata": {
    "collapsed": false,
    "deletable": true,
    "editable": true
   },
   "outputs": [
    {
     "name": "stdout",
     "output_type": "stream",
     "text": [
      "*** Creating workspace ***\n",
      "*** Generating switchboard tables ***\n",
      "*** Generating plots ***\n",
      "*** Merging into template file ***\n",
      "Output written to example_files/easy_2q_general.html\n"
     ]
    },
    {
     "data": {
      "text/plain": [
       "<pygsti.report.workspace.Workspace at 0x10ce3d5c0>"
      ]
     },
     "execution_count": 8,
     "metadata": {},
     "output_type": "execute_result"
    }
   ],
   "source": [
    "pygsti.report.create_general_report(results, filename=\"example_files/easy_2q_general.html\",\n",
    "                                    title=\"Example 2Q-GST Report\", verbosity=2)"
   ]
  },
  {
   "cell_type": "markdown",
   "metadata": {
    "deletable": true,
    "editable": true
   },
   "source": [
    "Now open [example_files/easy_2q_general.html](example_files/easy_2q_general.html) to see the results.  You've run 2-qubit GST!"
   ]
  },
  {
   "cell_type": "code",
   "execution_count": 9,
   "metadata": {
    "collapsed": true,
    "deletable": true,
    "editable": true
   },
   "outputs": [],
   "source": [
    "import pickle\n",
    "with open(\"example_files/easy_2q_results.pkl\",\"wb\") as pklfile:\n",
    "        pickle.dump(results, pklfile)"
   ]
  },
  {
   "cell_type": "code",
   "execution_count": null,
   "metadata": {
    "collapsed": true,
    "deletable": true,
    "editable": true
   },
   "outputs": [],
   "source": []
  }
 ],
 "metadata": {
  "kernelspec": {
   "display_name": "Python 3",
   "language": "python",
   "name": "python3"
  },
  "language_info": {
   "codemirror_mode": {
    "name": "ipython",
    "version": 3
   },
   "file_extension": ".py",
   "mimetype": "text/x-python",
   "name": "python",
   "nbconvert_exporter": "python",
   "pygments_lexer": "ipython3",
   "version": "3.5.2"
  }
 },
 "nbformat": 4,
 "nbformat_minor": 0
}
