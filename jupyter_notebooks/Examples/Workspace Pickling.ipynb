{
 "cells": [
  {
   "cell_type": "markdown",
   "metadata": {},
   "source": [
    "# Workspace Pickling\n",
    "This example notebook shows how to generate reports with a pickled workspace object.  \n",
    "First, we run GST:"
   ]
  },
  {
   "cell_type": "code",
   "execution_count": 1,
   "metadata": {
    "collapsed": false
   },
   "outputs": [
    {
     "name": "stderr",
     "output_type": "stream",
     "text": [
      "/home/lsaldyt-local/projects/snl/pyGSTi/packages/pygsti/tools/legacytools.py:11: UserWarning:\n",
      "\n",
      "The function build_gateset is deprecated, and may not be present in future versions of pygsti.\n",
      "    Please use basis_build_gateset w/ Basis object instead.\n",
      "\n"
     ]
    },
    {
     "name": "stdout",
     "output_type": "stream",
     "text": [
      "Gell-Mann Basis : I^{(0)}, X^{(0)}_{0,1}, Y^{(0)}_{0,1}, Z^{(0)}_{1}\n",
      "Gell-Mann Basis : I^{(0)}, X^{(0)}_{0,1}, Y^{(0)}_{0,1}, Z^{(0)}_{1}\n",
      "Gell-Mann Basis : I^{(0)}, X^{(0)}_{0,1}, Y^{(0)}_{0,1}, Z^{(0)}_{1}\n"
     ]
    }
   ],
   "source": [
    "import pygsti\n",
    "import pickle\n",
    "from pygsti.construction import std1Q_XYI\n",
    "\n",
    "gs_target = std1Q_XYI.gs_target\n",
    "fiducials = std1Q_XYI.fiducials\n",
    "germs = std1Q_XYI.germs\n",
    "maxLengths = [1,2,4]\n",
    "#maxLengths = [1, 2, 4, 8, 16, 32, 64]\n",
    "\n",
    "#Generate some data\n",
    "gs_datagen = gs_target.depolarize(gate_noise=0.1, spam_noise=0.001)\n",
    "gs_datagen = gs_datagen.rotate(rotate=0.04)\n",
    "listOfExperiments = pygsti.construction.make_lsgst_experiment_list(gs_target, fiducials, fiducials, germs, maxLengths)\n",
    "ds = pygsti.construction.generate_fake_data(gs_datagen, listOfExperiments, nSamples=1000,\n",
    "                                            sampleError=\"binomial\", seed=1234)\n",
    "#Run GST\n",
    "gs_target.set_all_parameterizations(\"TP\") #TP-constrained\n",
    "results = pygsti.do_long_sequence_gst(ds, gs_target, fiducials, fiducials, germs,\n",
    "                                      maxLengths, verbosity=0)\n",
    "with open('example_files/example_report_results.pkl', 'wb') as outfile:\n",
    "    pickle.dump(results, outfile, protocol=2)\n",
    "\n",
    "# Case1: TP-constrained GST\n",
    "tpTarget = gs_target.copy()\n",
    "tpTarget.set_all_parameterizations(\"TP\")\n",
    "results_tp = pygsti.do_long_sequence_gst(ds, tpTarget, fiducials, fiducials, germs,\n",
    "                                      maxLengths, gaugeOptParams=False, verbosity=0)\n",
    "# Gauge optimize\n",
    "est = results_tp.estimates['default']\n",
    "gsFinal = est.gatesets['final iteration estimate']\n",
    "gsTarget = est.gatesets['target']\n",
    "for spamWt in [1e-4,1e-3,1e-2,1e-1,1.0]:\n",
    "    gs = pygsti.gaugeopt_to_target(gsFinal,gsTarget,{'gates':1, 'spam':spamWt})\n",
    "    est.add_gaugeoptimized({'itemWeights': {'gates':1, 'spam':spamWt}}, gs, \"Spam %g\" % spamWt) \n",
    "\n",
    "#Case2: \"Full\" GST\n",
    "fullTarget = gs_target.copy()\n",
    "fullTarget.set_all_parameterizations(\"full\")\n",
    "results_full = pygsti.do_long_sequence_gst(ds, fullTarget, fiducials, fiducials, germs,\n",
    "                                      maxLengths, gaugeOptParams=False, verbosity=0)\n",
    "#Gauge optimize\n",
    "est = results_full.estimates['default']\n",
    "gsFinal = est.gatesets['final iteration estimate']\n",
    "gsTarget = est.gatesets['target']\n",
    "for spamWt in [1e-4,1e-3,1e-2,1e-1,1.0]:\n",
    "    gs = pygsti.gaugeopt_to_target(gsFinal,gsTarget,{'gates':1, 'spam':spamWt})\n",
    "    est.add_gaugeoptimized({'itemWeights': {'gates':1, 'spam':spamWt}}, gs, \"Spam %g\" % spamWt)\n",
    "\n",
    "with open('example_files/full_report_results.pkl', 'wb') as outfile:\n",
    "    pickle.dump((results_tp, results_full), outfile, protocol=2)"
   ]
  },
  {
   "cell_type": "markdown",
   "metadata": {},
   "source": [
    "## Workspace Pickling\n",
    "Now that we've saved some GST data, we can begin generating reports.  \n",
    "The smart cache will track which plots we are unable to pickle.  \n",
    "At the time of writing, these are only plotly plots. `ReportTable` objects should delete their `ws` and `figs` members, allowing themselves to be pickled. "
   ]
  },
  {
   "cell_type": "code",
   "execution_count": 2,
   "metadata": {
    "collapsed": false
   },
   "outputs": [
    {
     "name": "stdout",
     "output_type": "stream",
     "text": [
      "pickle loading took 0.070921 seconds\n",
      "\n",
      "*** Creating workspace ***\n",
      "  Adding metadata\n",
      "*** Generating switchboard tables ***\n",
      "*** Generating plots ***\n",
      "DB: render plots =  6\n",
      "*** Merging into template file ***\n",
      "Output written to tutorial_files/exampleMultiGenReport.html\n",
      "TP/Full multi report took 9.875274 seconds\n",
      "\n",
      "Unpickled keys:\n",
      "{'ChoiEigenvalueBarPlot._create<class '\n",
      " \"'plotly.graph_objs.graph_objs.Figure'>'NoneType' object is not \"\n",
      " \"callable['_parent', '_valid_attributes', '_parent_key']\",\n",
      " \"ChoiTable._create<class 'pygsti.report.table.ReportTable'>'NoneType' object \"\n",
      " \"is not callable['nonMarkovianEBs', '_columnNames', '_customHeadings', \"\n",
      " \"'_rows', '_override', '_headings']\",\n",
      " \"ColorBoxPlot._create<class 'plotly.graph_objs.graph_objs.Figure'>'NoneType' \"\n",
      " \"object is not callable['_parent', '_valid_attributes', '_parent_key']\",\n",
      " 'DatasetComparisonPlot._create<class '\n",
      " \"'plotly.graph_objs.graph_objs.Figure'>'NoneType' object is not \"\n",
      " \"callable['_parent', '_valid_attributes', '_parent_key']\",\n",
      " \"ErrgenTable._create<class 'pygsti.report.table.ReportTable'>'NoneType' \"\n",
      " \"object is not callable['nonMarkovianEBs', '_columnNames', '_customHeadings', \"\n",
      " \"'_rows', '_override', '_headings']\",\n",
      " 'FitComparisonBarPlot._create<class '\n",
      " \"'plotly.graph_objs.graph_objs.Figure'>'NoneType' object is not \"\n",
      " \"callable['_parent', '_valid_attributes', '_parent_key']\",\n",
      " 'GateMatrixPlot._create<class '\n",
      " \"'plotly.graph_objs.graph_objs.Figure'>'NoneType' object is not \"\n",
      " \"callable['_parent', '_valid_attributes', '_parent_key']\",\n",
      " \"GatesTable._create<class 'pygsti.report.table.ReportTable'>'NoneType' object \"\n",
      " \"is not callable['nonMarkovianEBs', '_columnNames', '_customHeadings', \"\n",
      " \"'_rows', '_override', '_headings']\",\n",
      " 'GramMatrixBarPlot._create<class '\n",
      " \"'plotly.graph_objs.graph_objs.Figure'>'NoneType' object is not \"\n",
      " \"callable['_parent', '_valid_attributes', '_parent_key']\",\n",
      " 'ProjectionsBoxPlot._create<class '\n",
      " \"'plotly.graph_objs.graph_objs.Figure'>'NoneType' object is not \"\n",
      " \"callable['_parent', '_valid_attributes', '_parent_key']\"}\n"
     ]
    }
   ],
   "source": [
    "from pygsti.tools import timed_block\n",
    "\n",
    "with timed_block('pickle loading'):\n",
    "    with open('example_files/full_report_results.pkl', 'rb') as infile:\n",
    "        results_tp, results_full = pickle.load(infile)\n",
    "with timed_block('TP/Full multi report'):\n",
    "    ws = pygsti.report.create_general_report({'TP': results_tp, \"Full\": results_full},\n",
    "                                            \"tutorial_files/exampleMultiGenReport.html\",verbosity=3,\n",
    "                                            auto_open=False)\n",
    "ws.save_cache('example_files/wscache.pkl', True)"
   ]
  },
  {
   "cell_type": "markdown",
   "metadata": {},
   "source": [
    "In the Cell below, we create the same report, but use the existing workspace object."
   ]
  },
  {
   "cell_type": "code",
   "execution_count": 3,
   "metadata": {
    "collapsed": false
   },
   "outputs": [
    {
     "name": "stdout",
     "output_type": "stream",
     "text": [
      "*** Creating workspace ***\n",
      "  Adding metadata\n",
      "*** Generating switchboard tables ***\n",
      "*** Generating plots ***\n",
      "DB: render plots =  6\n",
      "*** Merging into template file ***\n",
      "Output written to tutorial_files/exampleMultiGenReport.html\n",
      "TP/Full multi report took 1.59414 seconds\n",
      "\n"
     ]
    }
   ],
   "source": [
    "with timed_block('TP/Full multi report'):\n",
    "    ws = pygsti.report.create_general_report({'TP': results_tp, \"Full\": results_full},\n",
    "                                            \"tutorial_files/exampleMultiGenReport.html\",verbosity=3,\n",
    "                                            auto_open=False, ws=ws)"
   ]
  },
  {
   "cell_type": "markdown",
   "metadata": {},
   "source": [
    "However, most of the time, we care about the time of the full report generation progress:"
   ]
  },
  {
   "cell_type": "code",
   "execution_count": 4,
   "metadata": {
    "collapsed": false
   },
   "outputs": [
    {
     "name": "stdout",
     "output_type": "stream",
     "text": [
      "*** Creating workspace ***\n",
      "  Adding metadata\n",
      "*** Generating switchboard tables ***\n",
      "*** Generating plots ***\n",
      "DB: render plots =  6\n",
      "*** Merging into template file ***\n",
      "Output written to tutorial_files/exampleMultiGenReport.html\n",
      "Full report creation from pickle took 4.41877 seconds\n",
      "\n"
     ]
    }
   ],
   "source": [
    "del ws\n",
    "with timed_block('Full report creation from pickle'):\n",
    "    ws = pygsti.report.Workspace('example_files/wscache.pkl')\n",
    "    pygsti.report.create_general_report({'TP': results_tp, \"Full\": results_full},\n",
    "                                        \"tutorial_files/exampleMultiGenReport.html\",verbosity=3,\n",
    "                                        auto_open=False, ws=ws)"
   ]
  },
  {
   "cell_type": "code",
   "execution_count": null,
   "metadata": {
    "collapsed": true
   },
   "outputs": [],
   "source": []
  }
 ],
 "metadata": {
  "kernelspec": {
   "display_name": "Python 3",
   "language": "python",
   "name": "python3"
  },
  "language_info": {
   "codemirror_mode": {
    "name": "ipython",
    "version": 3
   },
   "file_extension": ".py",
   "mimetype": "text/x-python",
   "name": "python",
   "nbconvert_exporter": "python",
   "pygments_lexer": "ipython3",
   "version": "3.5.2"
  }
 },
 "nbformat": 4,
 "nbformat_minor": 2
}
