{
 "cells": [
  {
   "cell_type": "markdown",
   "metadata": {},
   "source": [
    "# Example for qutrit GST\n",
    "This notebook demonstrates how to construct the operation sequences and perform the analysis for qutrit GST when the model consists of symmetric $\\pi/2$-rotations on each single qubit separately, `X`, `Y` and a 2-qubit Molmer-Sorenson gate which rotates around the `XX` axis by $\\pi/2$."
   ]
  },
  {
   "cell_type": "code",
   "execution_count": 1,
   "metadata": {},
   "outputs": [],
   "source": [
    "import pygsti\n",
    "import pygsti.construction as pc\n",
    "from pygsti.construction import qutrit\n",
    "\n",
    "from numpy import pi, array\n",
    "import pickle\n",
    "\n",
    "import numpy as np"
   ]
  },
  {
   "cell_type": "markdown",
   "metadata": {},
   "source": [
    "First, we construct the target model.  This functionality is built into pyGSTi, so we just need to specify the single-qubit and M-S angles."
   ]
  },
  {
   "cell_type": "code",
   "execution_count": 2,
   "metadata": {},
   "outputs": [],
   "source": [
    "target_model = qutrit.make_qutrit_model(errorScale=0, Xangle=pi/2, Yangle=pi/2, MSglobal=pi/2, MSlocal=0, basis=\"qt\")\n",
    "#print(target_model)"
   ]
  },
  {
   "cell_type": "markdown",
   "metadata": {},
   "source": [
    "Now construct the operation sequences needed by GST.  These fiducials and germs have been computed ahead of time and the results are used to construct the operation sequence lists below.  Then we construct an empty dataset containing all of the necessary experimental sequences which can serve as a template for the actual experimental results."
   ]
  },
  {
   "cell_type": "code",
   "execution_count": 3,
   "metadata": {},
   "outputs": [],
   "source": [
    "fiducialPrep = pc.circuit_list(\n",
    "    [(),('Gy',),('Gx',),('Gm',),\n",
    "    ('Gx','Gx'), ('Gm','Gy'),('Gm','Gx'),\n",
    "    ('Gy','Gy','Gy'),('Gx','Gx','Gx')])\n",
    "\n",
    "fiducialMeasure = pc.circuit_list(\n",
    "    [(),('Gy',),('Gx',),('Gm',),\n",
    "    ('Gy','Gm'),('Gx','Gm')])\n",
    "\n",
    "maxLengths = [1,2,4]\n",
    "\n",
    "germs = pygsti.construction.circuit_list(\n",
    "[('Gi',),\n",
    " ('Gy',),\n",
    " ('Gx',),\n",
    " ('Gm',),\n",
    " ('Gi', 'Gy'),\n",
    " ('Gi', 'Gx'),\n",
    " ('Gi', 'Gm'),\n",
    " ('Gy', 'Gx'),\n",
    " ('Gy', 'Gm'),\n",
    " ('Gx', 'Gm'),\n",
    " ('Gi', 'Gi', 'Gy'),\n",
    " ('Gi', 'Gi', 'Gx'),\n",
    " ('Gi', 'Gi', 'Gm'),\n",
    " ('Gi', 'Gy', 'Gy'),\n",
    " ('Gi', 'Gy', 'Gx'),\n",
    " ('Gi', 'Gy', 'Gm'),\n",
    " ('Gi', 'Gx', 'Gy'),\n",
    " ('Gi', 'Gx', 'Gx'),\n",
    " ('Gi', 'Gx', 'Gm'),\n",
    " ('Gi', 'Gm', 'Gy'),\n",
    " ('Gi', 'Gm', 'Gx'),\n",
    " ('Gi', 'Gm', 'Gm'),\n",
    " ('Gy', 'Gy', 'Gx'),\n",
    " ('Gy', 'Gy', 'Gm'),\n",
    " ('Gy', 'Gx', 'Gx'),\n",
    " ('Gy', 'Gx', 'Gm'),\n",
    " ('Gy', 'Gm', 'Gx'),\n",
    " ('Gy', 'Gm', 'Gm'),\n",
    " ('Gx', 'Gx', 'Gm'),\n",
    " ('Gx', 'Gm', 'Gm')])"
   ]
  },
  {
   "cell_type": "code",
   "execution_count": 4,
   "metadata": {},
   "outputs": [],
   "source": [
    "#Note above construction is now a \"standard\" qutrit model\n",
    "from pygsti.construction import stdQT_XYIMS\n",
    "target_model = stdQT_XYIMS.target_model()\n",
    "fiducialPrep = stdQT_XYIMS.prepStrs\n",
    "fiducialMeasure = stdQT_XYIMS.effectStrs\n",
    "germs = stdQT_XYIMS.germs_lite\n",
    "maxLengths = [1,2,4]"
   ]
  },
  {
   "cell_type": "code",
   "execution_count": 5,
   "metadata": {},
   "outputs": [
    {
     "name": "stdout",
     "output_type": "stream",
     "text": [
      "9 prep fiducials\n",
      "7 meas fiducials\n",
      "31 germs\n"
     ]
    }
   ],
   "source": [
    "print(\"%d prep fiducials\" % len(fiducialPrep))\n",
    "print(\"%d meas fiducials\" % len(fiducialMeasure))\n",
    "print(\"%d germs\" % len(germs))"
   ]
  },
  {
   "cell_type": "code",
   "execution_count": 6,
   "metadata": {},
   "outputs": [],
   "source": [
    "#generate data template\n",
    "expList = pygsti.construction.make_lsgst_experiment_list(target_model.operations.keys(), fiducialPrep, fiducialMeasure, germs,  maxLengths)\n",
    "pygsti.io.write_empty_dataset(\"example_files/dataTemplate_qutrit_maxL=4.txt\", expList, \"## Columns = 0bright count, 1bright count, 2bright count\")"
   ]
  },
  {
   "cell_type": "markdown",
   "metadata": {
    "collapsed": true
   },
   "source": [
    "At this point **STOP** and create/fill a dataset file using the template written in the above cell.  Then proceed with the lines below to run GST on the data and create (hopefully useful) reports telling you about your gates."
   ]
  },
  {
   "cell_type": "code",
   "execution_count": 7,
   "metadata": {},
   "outputs": [],
   "source": [
    "mdl_datagen = target_model.depolarize(op_noise=0.05)\n",
    "DS = pygsti.construction.generate_fake_data(mdl_datagen, expList, 500, sampleError='multinomial', seed=2018)"
   ]
  },
  {
   "cell_type": "code",
   "execution_count": 8,
   "metadata": {},
   "outputs": [],
   "source": [
    "#DS = pygsti.io.load_dataset('PATH_TO_YOUR_DATASET',cache=True) # (cache=True speeds up future loads)"
   ]
  },
  {
   "cell_type": "code",
   "execution_count": 9,
   "metadata": {
    "scrolled": true
   },
   "outputs": [
    {
     "name": "stdout",
     "output_type": "stream",
     "text": [
      "-- Std Practice:  Iter 1 of 2  (TP) --: \n",
      "  --- Circuit Creation ---\n",
      "  --- LGST ---\n",
      "  --- Iterative MLGST: [##################################################] 100.0%  2017 operation sequences ---\n",
      "  Iterative MLGST Total Time: 40.8s\n",
      "  -- Performing 'single' gauge optimization on TP estimate --\n",
      "-- Std Practice:  Iter 2 of 2  (CPTP) --: \n",
      "  --- Circuit Creation ---\n",
      "  --- Iterative MLGST: [##################################################] 100.0%  2017 operation sequences ---\n",
      "  Iterative MLGST Total Time: 578.3s\n",
      "  --- Re-optimizing logl after robust data scaling ---\n",
      "  -- Performing 'single' gauge optimization on CPTP estimate --\n",
      "  -- Conveying 'single' gauge optimization to CPTP.Robust+ estimate --\n"
     ]
    }
   ],
   "source": [
    "#Run qutrit GST... which could take a while on a single CPU.  Please adjust memLimit to machine specs \n",
    "# (now 3GB; usually set to slightly less than the total machine memory)\n",
    "result = pygsti.do_stdpractice_gst(DS,target_model,fiducialPrep,fiducialMeasure,germs,maxLengths,\n",
    "                                     verbosity=2, comm=None, memLimit=3*(1024)**3, modes=\"TP,CPTP\")"
   ]
  },
  {
   "cell_type": "code",
   "execution_count": 10,
   "metadata": {},
   "outputs": [
    {
     "name": "stdout",
     "output_type": "stream",
     "text": [
      "*** Creating workspace ***\n",
      "*** Generating switchboard ***\n"
     ]
    },
    {
     "name": "stderr",
     "output_type": "stream",
     "text": [
      "/Users/enielse/research/pyGSTi/packages/pygsti/report/factory.py:785: UserWarning:\n",
      "\n",
      "Idle tomography failed:\n",
      "Label{layers}\n",
      "\n"
     ]
    },
    {
     "name": "stdout",
     "output_type": "stream",
     "text": [
      "*** Generating tables ***\n"
     ]
    },
    {
     "name": "stderr",
     "output_type": "stream",
     "text": [
      "/Users/enielse/research/pyGSTi/packages/pygsti/objects/operation.py:967: ComplexWarning:\n",
      "\n",
      "Casting complex values to real discards the imaginary part\n",
      "\n"
     ]
    },
    {
     "name": "stdout",
     "output_type": "stream",
     "text": [
      "  targetSpamBriefTable                          took 0.515842 seconds\n",
      "  targetGatesBoxTable                           took 0.249465 seconds\n",
      "  datasetOverviewTable                          took 0.068198 seconds\n",
      "  bestGatesetSpamParametersTable                took 0.001134 seconds\n",
      "  bestGatesetSpamBriefTable                     took 0.624058 seconds\n",
      "  bestGatesetSpamVsTargetTable                  took 0.370742 seconds\n",
      "  bestGatesetGaugeOptParamsTable                took 0.000727 seconds\n",
      "  bestGatesetGatesBoxTable                      took 0.618465 seconds\n",
      "  bestGatesetChoiEvalTable                      took 0.863134 seconds\n",
      "  bestGatesetDecompTable                        took 22.238405 seconds\n",
      "  bestGatesetEvalTable                          took 0.021802 seconds\n",
      "  bestGermsEvalTable                            took 0.519077 seconds\n",
      "  bestGatesetVsTargetTable                      took 0.009775 seconds\n",
      "  bestGatesVsTargetTable_gv                     took 1.982913 seconds\n",
      "  bestGatesVsTargetTable_gvgerms                took 2.324955 seconds\n",
      "  bestGatesVsTargetTable_gi                     took 0.063729 seconds\n",
      "  bestGatesVsTargetTable_gigerms                took 0.647891 seconds\n",
      "  bestGatesVsTargetTable_sum                    took 1.427263 seconds\n",
      "  bestGatesetErrGenBoxTable                     took 1.819537 seconds\n",
      "  metadataTable                                 took 0.001156 seconds\n",
      "  stdoutBlock                                   took 0.00019 seconds\n",
      "  profilerTable                                 took 0.000842 seconds\n",
      "  softwareEnvTable                              took 0.028827 seconds\n",
      "  exampleTable                                  took 0.039965 seconds\n",
      "  singleMetricTable_gv                          took 1.815339 seconds\n",
      "  singleMetricTable_gi                          took 0.043129 seconds\n",
      "  fiducialListTable                             took 0.00055 seconds\n",
      "  prepStrListTable                              took 0.000261 seconds\n",
      "  effectStrListTable                            took 0.000199 seconds\n",
      "  colorBoxPlotKeyPlot                           took 0.254102 seconds\n",
      "  germList2ColTable                             took 0.000416 seconds\n",
      "  progressTable                                 took 3.253666 seconds\n",
      "*** Generating plots ***\n",
      "  gramBarPlot                                   took 0.107609 seconds\n",
      "  progressBarPlot                               took 0.387108 seconds\n",
      "  progressBarPlot_sum                           took 0.000855 seconds\n",
      "  finalFitComparePlot                           took 0.145653 seconds\n",
      "  bestEstimateColorBoxPlot                      took 12.803304 seconds\n",
      "  bestEstimateTVDColorBoxPlot                   took 12.181681 seconds\n",
      "  bestEstimateColorScatterPlot                  took 14.710293 seconds\n",
      "  bestEstimateColorHistogram                    took 12.538971 seconds\n",
      "  progressTable_scl                             took 1.733527 seconds\n",
      "  progressBarPlot_scl                           took 0.256452 seconds\n",
      "  bestEstimateColorBoxPlot_scl                  took 6.423167 seconds\n",
      "  bestEstimateColorScatterPlot_scl              took 7.124689 seconds\n",
      "  bestEstimateColorHistogram_scl                took 6.236678 seconds\n",
      "  dataScalingColorBoxPlot                       took 0.14036 seconds\n",
      "*** Merging into template file ***\n",
      "  Rendering topSwitchboard                      took 0.000111 seconds\n",
      "  Rendering maxLSwitchboard1                    took 7.8e-05 seconds\n",
      "  Rendering targetSpamBriefTable                took 0.101047 seconds\n",
      "  Rendering targetGatesBoxTable                 took 0.092949 seconds\n",
      "  Rendering datasetOverviewTable                took 0.001127 seconds\n",
      "  Rendering bestGatesetSpamParametersTable      took 0.002727 seconds\n",
      "  Rendering bestGatesetSpamBriefTable           took 0.414564 seconds\n",
      "  Rendering bestGatesetSpamVsTargetTable        took 0.002896 seconds\n",
      "  Rendering bestGatesetGaugeOptParamsTable      took 0.001627 seconds\n",
      "  Rendering bestGatesetGatesBoxTable            took 0.37094 seconds\n",
      "  Rendering bestGatesetChoiEvalTable            took 0.32645 seconds\n",
      "  Rendering bestGatesetDecompTable              took 0.219206 seconds\n",
      "  Rendering bestGatesetEvalTable                took 0.04372 seconds\n",
      "  Rendering bestGermsEvalTable                  took 0.315573 seconds\n",
      "  Rendering bestGatesetVsTargetTable            took 0.001517 seconds\n",
      "  Rendering bestGatesVsTargetTable_gv           took 0.00536 seconds\n",
      "  Rendering bestGatesVsTargetTable_gvgerms      took 0.024521 seconds\n",
      "  Rendering bestGatesVsTargetTable_gi           took 0.005794 seconds\n",
      "  Rendering bestGatesVsTargetTable_gigerms      took 0.010169 seconds\n",
      "  Rendering bestGatesVsTargetTable_sum          took 0.004573 seconds\n",
      "  Rendering bestGatesetErrGenBoxTable           took 1.034393 seconds\n",
      "  Rendering metadataTable                       took 0.004502 seconds\n",
      "  Rendering stdoutBlock                         took 0.001514 seconds\n",
      "  Rendering profilerTable                       took 0.00273 seconds\n",
      "  Rendering softwareEnvTable                    took 0.00245 seconds\n",
      "  Rendering exampleTable                        took 0.019612 seconds\n",
      "  Rendering metricSwitchboard_gv                took 3.9e-05 seconds\n",
      "  Rendering metricSwitchboard_gi                took 3e-05 seconds\n",
      "  Rendering singleMetricTable_gv                took 0.00823 seconds\n",
      "  Rendering singleMetricTable_gi                took 0.00666 seconds\n",
      "  Rendering fiducialListTable                   took 0.003553 seconds\n",
      "  Rendering prepStrListTable                    took 0.002654 seconds\n",
      "  Rendering effectStrListTable                  took 0.002295 seconds\n",
      "  Rendering colorBoxPlotKeyPlot                 took 0.025891 seconds\n",
      "  Rendering germList2ColTable                   took 0.007001 seconds\n",
      "  Rendering progressTable                       took 0.004969 seconds\n",
      "  Rendering gramBarPlot                         took 0.021235 seconds\n",
      "  Rendering progressBarPlot                     took 0.038201 seconds\n",
      "  Rendering progressBarPlot_sum                 took 0.037594 seconds\n",
      "  Rendering finalFitComparePlot                 took 0.017854 seconds\n",
      "  Rendering bestEstimateColorBoxPlot            took 0.230375 seconds\n",
      "  Rendering bestEstimateTVDColorBoxPlot         took 0.222769 seconds\n",
      "  Rendering bestEstimateColorScatterPlot        took 0.368894 seconds\n",
      "  Rendering bestEstimateColorHistogram          took 0.20238 seconds\n",
      "  Rendering progressTable_scl                   took 0.00299 seconds\n",
      "  Rendering progressBarPlot_scl                 took 0.018391 seconds\n",
      "  Rendering bestEstimateColorBoxPlot_scl        took 0.116739 seconds\n",
      "  Rendering bestEstimateColorScatterPlot_scl    took 0.182763 seconds\n",
      "  Rendering bestEstimateColorHistogram_scl      took 0.097765 seconds\n",
      "  Rendering dataScalingColorBoxPlot             took 0.055911 seconds\n",
      "Output written to example_files/sampleQutritReport directory\n",
      "Opening example_files/sampleQutritReport/main.html...\n",
      "*** Report Generation Complete!  Total time 120.201s ***\n"
     ]
    }
   ],
   "source": [
    "#Create a report\n",
    "ws = pygsti.report.create_standard_report(result, \"example_files/sampleQutritReport\",\n",
    "                                         \"Example Qutrit Report\", verbosity=3, auto_open=True)"
   ]
  },
  {
   "cell_type": "code",
   "execution_count": 11,
   "metadata": {},
   "outputs": [
    {
     "name": "stdout",
     "output_type": "stream",
     "text": [
      "Qutrit Basis : (no labels computed yet)\n"
     ]
    }
   ],
   "source": [
    "print(target_model.basis)"
   ]
  },
  {
   "cell_type": "code",
   "execution_count": null,
   "metadata": {},
   "outputs": [],
   "source": []
  }
 ],
 "metadata": {
  "kernelspec": {
   "display_name": "Python 3",
   "language": "python",
   "name": "python3"
  },
  "language_info": {
   "codemirror_mode": {
    "name": "ipython",
    "version": 3
   },
   "file_extension": ".py",
   "mimetype": "text/x-python",
   "name": "python",
   "nbconvert_exporter": "python",
   "pygments_lexer": "ipython3",
   "version": "3.7.0"
  }
 },
 "nbformat": 4,
 "nbformat_minor": 1
}
