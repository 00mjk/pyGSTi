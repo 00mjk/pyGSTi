{
 "cells": [
  {
   "cell_type": "markdown",
   "metadata": {
    "deletable": true,
    "editable": true
   },
   "source": [
    "# How to create an LGST-only report\n",
    "This example shows how you can create a HTML report from just the results of running *linear GST* (LGST).  This can be useful when you want to get a rough estimate of your gates quickly, as LGST is takes substantially less data and computation time compared with long-sequence GST.  This example is modeled after Tutorial 0."
   ]
  },
  {
   "cell_type": "code",
   "execution_count": 1,
   "metadata": {
    "collapsed": false,
    "deletable": true,
    "editable": true
   },
   "outputs": [
    {
     "name": "stdout",
     "output_type": "stream",
     "text": [
      "Only 92 sequences are required!\n"
     ]
    }
   ],
   "source": [
    "#Make print statements compatible with Python 2 and 3\n",
    "from __future__ import print_function\n",
    "\n",
    "#Import the pygsti module (always do this) and the standard XYI gate set\n",
    "import pygsti\n",
    "from pygsti.construction import std1Q_XYI\n",
    "\n",
    "# 1) get the target GateSet\n",
    "gs_target = std1Q_XYI.gs_target\n",
    "\n",
    "# 2) get the building blocks needed to specify which gate sequences are needed\n",
    "prep_fiducials, meas_fiducials = std1Q_XYI.prepStrs, std1Q_XYI.effectStrs\n",
    "germs = pygsti.construction.gatestring_list([(), ('Gi',), ('Gx',), ('Gy',)] ) # just the single gates\n",
    "maxLengths = [1] # we only need maxLength == 1 when doing LGST\n",
    "\n",
    "# 3) generate \"fake\" data from a depolarized version of gs_target\n",
    "gs_datagen = gs_target.depolarize(gate_noise=0.1, spam_noise=0.001)\n",
    "listOfExperiments = pygsti.construction.make_lsgst_experiment_list(\n",
    "    gs_target, prep_fiducials, meas_fiducials, germs, maxLengths)\n",
    "ds = pygsti.construction.generate_fake_data(gs_datagen, listOfExperiments, nSamples=1000,\n",
    "                                            sampleError=\"binomial\", seed=1234)\n",
    "\n",
    "#Note: from listOfExperiments we can also create an empty dataset file\n",
    "# which has columns of zeros where actual data should go. \n",
    "pygsti.io.write_empty_dataset(\"example_files/LGSTReportDataTemplate.txt\", listOfExperiments,\n",
    "                              \"## Columns = 0 count, 1 count\")\n",
    "# After replacing the zeros with actual data, the data set can be \n",
    "# loaded back into pyGSTi using the line below and used in the rest\n",
    "# of this tutorial. \n",
    "#ds = pygsti.io.load_dataset(\"example_files/LGSTReportDataTemplate.txt\")\n",
    "\n",
    "print(\"Only %d sequences are required!\" % len(listOfExperiments))"
   ]
  },
  {
   "cell_type": "code",
   "execution_count": 2,
   "metadata": {
    "collapsed": false,
    "deletable": true,
    "editable": true
   },
   "outputs": [
    {
     "name": "stdout",
     "output_type": "stream",
     "text": [
      "-- Std Practice:  Iter 1 of 1  (TP) --: \n",
      "  --- Gate Sequence Creation ---\n",
      "  --- LGST ---\n",
      "  -- Performing 'single' gauge optimization on TP estimate --\n",
      "*** Creating workspace ***\n",
      "*** Generating switchboard ***\n",
      "Found standard clifford compilation from std1Q_XYI\n",
      "*** Generating tables ***\n",
      "  targetSpamBriefTable                          took 0.017485 seconds\n",
      "  targetGatesBoxTable                           took 0.017166 seconds\n",
      "  datasetOverviewTable                          took 0.002498 seconds\n",
      "  bestGatesetSpamParametersTable                took 0.000411 seconds\n",
      "  bestGatesetSpamBriefTable                     took 0.02322 seconds\n",
      "  bestGatesetSpamVsTargetTable                  took 0.047793 seconds\n",
      "  bestGatesetGaugeOptParamsTable                took 0.000624 seconds\n",
      "  bestGatesetGatesBoxTable                      took 0.039462 seconds\n",
      "  bestGatesetChoiEvalTable                      took 0.034002 seconds\n",
      "  bestGatesetDecompTable                        took 0.030146 seconds\n",
      "  bestGatesetEvalTable                          took 0.002312 seconds\n",
      "  bestGermsEvalTable                            took 0.002256 seconds\n",
      "  bestGatesetVsTargetTable                      took 0.038262 seconds\n",
      "  bestGatesVsTargetTable_gv                     took 0.098828 seconds\n",
      "  bestGatesVsTargetTable_gvgerms                took 0.014671 seconds\n",
      "  bestGatesVsTargetTable_gi                     took 0.00755 seconds\n",
      "  bestGatesVsTargetTable_gigerms                took 0.002566 seconds\n",
      "  bestGatesVsTargetTable_sum                    took 0.103357 seconds\n",
      "  bestGatesetErrGenBoxTable                     took 0.101406 seconds\n",
      "  metadataTable                                 took 0.000999 seconds\n",
      "  stdoutBlock                                   took 0.000148 seconds\n",
      "  profilerTable                                 took 0.000218 seconds\n",
      "  softwareEnvTable                              took 0.027021 seconds\n",
      "  exampleTable                                  took 0.00808 seconds\n",
      "  singleMetricTable_gv                          took 0.108316 seconds\n",
      "  singleMetricTable_gi                          took 0.009997 seconds\n",
      "  fiducialListTable                             took 0.000481 seconds\n",
      "  prepStrListTable                              took 0.000178 seconds\n",
      "  effectStrListTable                            took 0.000158 seconds\n",
      "  colorBoxPlotKeyPlot                           took 0.008986 seconds\n",
      "  germList2ColTable                             took 0.000143 seconds\n",
      "  progressTable                                 took 0.032491 seconds\n",
      "*** Generating plots ***\n",
      "  gramBarPlot                                   took 0.02732 seconds\n",
      "  progressBarPlot                               took 0.010557 seconds\n",
      "  progressBarPlot_sum                           took 0.000278 seconds\n",
      "  finalFitComparePlot                           took 0.009996 seconds\n",
      "  bestEstimateColorBoxPlot                      took 0.167496 seconds\n",
      "  bestEstimateTVDColorBoxPlot                   took 0.157332 seconds\n",
      "  bestEstimateColorScatterPlot                  took 0.16027 seconds\n",
      "  bestEstimateColorHistogram                    took 0.164726 seconds\n",
      "  progressTable_scl                             took 9.4e-05 seconds\n",
      "  progressBarPlot_scl                           took 7e-05 seconds\n",
      "  bestEstimateColorBoxPlot_scl                  took 8.1e-05 seconds\n",
      "  bestEstimateColorScatterPlot_scl              took 0.000126 seconds\n",
      "  bestEstimateColorHistogram_scl                took 8.1e-05 seconds\n",
      "  dataScalingColorBoxPlot                       took 6.8e-05 seconds\n",
      "*** Merging into template file ***\n",
      "  Rendering bestGatesetVsTargetTable            took 0.001048 seconds\n",
      "  Rendering singleMetricTable_gv                took 0.005519 seconds\n",
      "  Rendering bestGatesetGaugeOptParamsTable      took 0.000792 seconds\n",
      "  Rendering stdoutBlock                         took 0.000612 seconds\n",
      "  Rendering targetSpamBriefTable                took 0.01494 seconds\n",
      "  Rendering topSwitchboard                      took 9.2e-05 seconds\n",
      "  Rendering bestGatesVsTargetTable_gigerms      took 0.001385 seconds\n",
      "  Rendering progressBarPlot_scl                 took 0.000553 seconds\n",
      "  Rendering bestEstimateTVDColorBoxPlot         took 0.004054 seconds\n",
      "  Rendering datasetOverviewTable                took 0.000596 seconds\n",
      "  Rendering targetGatesBoxTable                 took 0.01104 seconds\n",
      "  Rendering progressTable                       took 0.001323 seconds\n",
      "  Rendering bestEstimateColorHistogram          took 0.00291 seconds\n",
      "  Rendering bestEstimateColorBoxPlot            took 0.003012 seconds\n",
      "  Rendering dataScalingColorBoxPlot             took 0.000531 seconds\n",
      "  Rendering bestGermsEvalTable                  took 0.013723 seconds\n",
      "  Rendering gramBarPlot                         took 0.002382 seconds\n",
      "  Rendering bestGatesVsTargetTable_gvgerms      took 0.002384 seconds\n",
      "  Rendering effectStrListTable                  took 0.001491 seconds\n",
      "  Rendering colorBoxPlotKeyPlot                 took 0.006104 seconds\n",
      "  Rendering metricSwitchboard_gv                took 3.6e-05 seconds\n",
      "  Rendering bestGatesetEvalTable                took 0.013422 seconds\n",
      "  Rendering bestGatesetChoiEvalTable            took 0.015603 seconds\n",
      "  Rendering softwareEnvTable                    took 0.002255 seconds\n",
      "  Rendering bestGatesetGatesBoxTable            took 0.022269 seconds\n",
      "  Rendering bestEstimateColorScatterPlot_scl    took 0.000651 seconds\n",
      "  Rendering finalFitComparePlot                 took 0.002448 seconds\n",
      "  Rendering progressBarPlot_sum                 took 0.002099 seconds\n",
      "  Rendering singleMetricTable_gi                took 0.004459 seconds\n",
      "  Rendering fiducialListTable                   took 0.002096 seconds\n",
      "  Rendering maxLSwitchboard1                    took 8.3e-05 seconds\n",
      "  Rendering metadataTable                       took 0.003071 seconds\n",
      "  Rendering germList2ColTable                   took 0.001612 seconds\n",
      "  Rendering bestEstimateColorBoxPlot_scl        took 0.000626 seconds\n",
      "  Rendering bestGatesetSpamBriefTable           took 0.026171 seconds\n",
      "  Rendering bestGatesVsTargetTable_gi           took 0.002394 seconds\n",
      "  Rendering bestEstimateColorHistogram_scl      took 0.000737 seconds\n",
      "  Rendering bestGatesetErrGenBoxTable           took 0.048842 seconds\n",
      "  Rendering prepStrListTable                    took 0.001814 seconds\n",
      "  Rendering bestGatesetSpamParametersTable      took 0.001254 seconds\n",
      "  Rendering bestGatesVsTargetTable_sum          took 0.003311 seconds\n",
      "  Rendering bestGatesVsTargetTable_gv           took 0.003938 seconds\n",
      "  Rendering metricSwitchboard_gi                took 3.7e-05 seconds\n",
      "  Rendering bestGatesetSpamVsTargetTable        took 0.001924 seconds\n",
      "  Rendering progressTable_scl                   took 0.000603 seconds\n",
      "  Rendering bestGatesetDecompTable              took 0.01486 seconds\n",
      "  Rendering bestEstimateColorScatterPlot        took 0.003296 seconds\n",
      "  Rendering exampleTable                        took 0.0043 seconds\n",
      "  Rendering progressBarPlot                     took 0.003186 seconds\n",
      "  Rendering profilerTable                       took 0.001019 seconds\n",
      "Output written to example_files/LGSTonlyReport directory\n",
      "*** Report Generation Complete!  Total time 1.88681s ***\n"
     ]
    },
    {
     "data": {
      "text/plain": [
       "<pygsti.report.workspace.Workspace at 0x10d5c52b0>"
      ]
     },
     "execution_count": 2,
     "metadata": {},
     "output_type": "execute_result"
    }
   ],
   "source": [
    "#Run GST and create a report\n",
    "# Key part is setting 'objective' advanced option == \"lgst\"\n",
    "# You can also eliminate gauge optimization step by setting gaugeOptSuite=\"none\"\n",
    "results = pygsti.do_stdpractice_gst(ds, gs_target, prep_fiducials, meas_fiducials, germs, maxLengths,\n",
    "                                    advancedOptions={'all': {'objective': 'lgst'}},\n",
    "                                    gaugeOptSuite=\"single\", modes=\"TP\")\n",
    "pygsti.report.create_standard_report(results, filename=\"example_files/LGSTonlyReport\",\n",
    "                                    title=\"LGST-only Example Report\", verbosity=2)"
   ]
  },
  {
   "cell_type": "markdown",
   "metadata": {
    "deletable": true,
    "editable": true
   },
   "source": [
    "Click to open the file [example_files/LGSTonlyReport/main.html](example_files/LGSTonlyReport/main.html) in your browser to view the report."
   ]
  },
  {
   "cell_type": "code",
   "execution_count": null,
   "metadata": {
    "collapsed": true,
    "deletable": true,
    "editable": true
   },
   "outputs": [],
   "source": []
  }
 ],
 "metadata": {
  "kernelspec": {
   "display_name": "Python 3",
   "language": "python",
   "name": "python3"
  },
  "language_info": {
   "codemirror_mode": {
    "name": "ipython",
    "version": 3
   },
   "file_extension": ".py",
   "mimetype": "text/x-python",
   "name": "python",
   "nbconvert_exporter": "python",
   "pygments_lexer": "ipython3",
   "version": "3.5.2"
  }
 },
 "nbformat": 4,
 "nbformat_minor": 2
}
