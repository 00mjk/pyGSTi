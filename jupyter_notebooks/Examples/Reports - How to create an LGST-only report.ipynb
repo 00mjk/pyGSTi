{
 "cells": [
  {
   "cell_type": "markdown",
   "metadata": {},
   "source": [
    "# How to create an LGST-only report\n",
    "This example shows how you can create a HTML report from just the results of running *linear GST* (LGST).  This can be useful when you want to get a rough estimate of your gates quickly, as LGST is takes substantially less data and computation time compared with long-sequence GST.  This example is modeled after Tutorial 0."
   ]
  },
  {
   "cell_type": "code",
   "execution_count": 1,
   "metadata": {},
   "outputs": [
    {
     "name": "stdout",
     "output_type": "stream",
     "text": [
      "Only 92 sequences are required!\n"
     ]
    }
   ],
   "source": [
    "#Make print statements compatible with Python 2 and 3\n",
    "from __future__ import print_function\n",
    "\n",
    "#Import the pygsti module (always do this) and the standard XYI model\n",
    "import pygsti\n",
    "from pygsti.construction import std1Q_XYI\n",
    "\n",
    "# 1) get the target Model\n",
    "target_model = std1Q_XYI.target_model\n",
    "\n",
    "# 2) get the building blocks needed to specify which operation sequences are needed\n",
    "prep_fiducials, meas_fiducials = std1Q_XYI.prepStrs, std1Q_XYI.effectStrs\n",
    "\n",
    "# 3) generate \"fake\" data from a depolarized version of target_model\n",
    "mdl_datagen = target_model.depolarize(op_noise=0.1, spam_noise=0.001)\n",
    "listOfExperiments = pygsti.construction.list_lgst_circuits(\n",
    "                        prep_fiducials, meas_fiducials,target_model)\n",
    "\n",
    "ds = pygsti.construction.generate_fake_data(mdl_datagen, listOfExperiments, nSamples=1000,\n",
    "                                            sampleError=\"binomial\", seed=1234)\n",
    "\n",
    "#Note: from listOfExperiments we can also create an empty dataset file\n",
    "# which has columns of zeros where actual data should go. \n",
    "pygsti.io.write_empty_dataset(\"example_files/LGSTReportDataTemplate.txt\", listOfExperiments,\n",
    "                              \"## Columns = 0 count, 1 count\")\n",
    "# After replacing the zeros with actual data, the data set can be \n",
    "# loaded back into pyGSTi using the line below and used in the rest\n",
    "# of this tutorial. \n",
    "#ds = pygsti.io.load_dataset(\"example_files/LGSTReportDataTemplate.txt\")\n",
    "\n",
    "print(\"Only %d sequences are required!\" % len(listOfExperiments))"
   ]
  },
  {
   "cell_type": "code",
   "execution_count": 2,
   "metadata": {},
   "outputs": [
    {
     "name": "stdout",
     "output_type": "stream",
     "text": [
      "--- Circuit Creation ---\n",
      "   92 sequences created\n",
      "   Dataset has 92 entries: 92 utilized, 0 requested sequences were missing\n",
      "--- LGST ---\n",
      "  Singular values of I_tilde (truncating to first 4 of 6) = \n",
      "  4.244089943192679\n",
      "  1.1594632778409208\n",
      "  0.9651516670737965\n",
      "  0.9297628363691268\n",
      "  0.049256811347238104\n",
      "  0.025150658372136828\n",
      "  \n",
      "  Singular values of target I_tilde (truncating to first 4 of 6) = \n",
      "  4.242640687119286\n",
      "  1.414213562373096\n",
      "  1.4142135623730956\n",
      "  1.4142135623730954\n",
      "  2.5038933168948026e-16\n",
      "  2.023452063009528e-16\n",
      "  \n",
      "  -- Adding Gauge Optimized (go0) --\n",
      "*** Creating workspace ***\n",
      "*** Generating switchboard ***\n",
      "Found standard clifford compilation from std1Q_XYI\n",
      "*** Generating tables ***\n",
      "  targetSpamBriefTable                          took 0.472459 seconds\n",
      "  targetGatesBoxTable                           took 0.136802 seconds\n",
      "  datasetOverviewTable                          took 0.002995 seconds\n",
      "  bestGatesetSpamParametersTable                took 0.000741 seconds\n",
      "  bestGatesetSpamBriefTable                     took 0.140737 seconds\n",
      "  bestGatesetSpamVsTargetTable                  took 0.078188 seconds\n",
      "  bestGatesetGaugeOptParamsTable                took 0.000568 seconds\n",
      "  bestGatesetGatesBoxTable                      took 0.152641 seconds\n",
      "  bestGatesetChoiEvalTable                      took 0.397915 seconds\n",
      "  bestGatesetDecompTable                        took 0.167717 seconds\n",
      "  bestGatesetEvalTable                          took 0.003246 seconds\n",
      "  bestGermsEvalTable                            took 0.003622 seconds\n",
      "  bestGatesetVsTargetTable                      took 0.060349 seconds\n"
     ]
    },
    {
     "name": "stderr",
     "output_type": "stream",
     "text": [
      "/Users/enielse/research/pyGSTi/packages/pygsti/extras/rb/theory.py:200: UserWarning:\n",
      "\n",
      "Output may be unreliable because the model is not approximately trace-preserving.\n",
      "\n"
     ]
    },
    {
     "name": "stdout",
     "output_type": "stream",
     "text": [
      "  bestGatesVsTargetTable_gv                     took 0.240329 seconds\n",
      "  bestGatesVsTargetTable_gvgerms                took 0.031975 seconds\n",
      "  bestGatesVsTargetTable_gi                     took 0.015935 seconds\n",
      "  bestGatesVsTargetTable_gigerms                took 0.004695 seconds\n",
      "  bestGatesVsTargetTable_sum                    took 0.199279 seconds\n",
      "  bestGatesetErrGenBoxTable                     took 0.638943 seconds\n",
      "  metadataTable                                 took 0.000913 seconds\n",
      "  stdoutBlock                                   took 0.000282 seconds\n",
      "  profilerTable                                 took 0.000383 seconds\n",
      "  softwareEnvTable                              took 0.032941 seconds\n",
      "  exampleTable                                  took 0.048424 seconds\n",
      "  singleMetricTable_gv                          took 0.274536 seconds\n",
      "  singleMetricTable_gi                          took 0.016795 seconds\n",
      "  fiducialListTable                             took 0.000978 seconds\n",
      "  prepStrListTable                              took 0.000218 seconds\n",
      "  effectStrListTable                            took 0.000243 seconds\n",
      "  colorBoxPlotKeyPlot                           took 0.075958 seconds\n",
      "  germList2ColTable                             took 0.000239 seconds\n",
      "  progressTable                                 took 0.055511 seconds\n",
      "*** Generating plots ***\n",
      "  gramBarPlot                                   took 0.066456 seconds\n",
      "  progressBarPlot                               took 0.041649 seconds\n",
      "  progressBarPlot_sum                           took 0.000349 seconds\n",
      "  finalFitComparePlot                           took 0.042645 seconds\n",
      "  bestEstimateColorBoxPlot                      took 0.304136 seconds\n",
      "  bestEstimateTVDColorBoxPlot                   took 0.354236 seconds\n",
      "  bestEstimateColorScatterPlot                  took 0.383946 seconds\n",
      "  bestEstimateColorHistogram                    took 0.419397 seconds\n",
      "  progressTable_scl                             took 7.2e-05 seconds\n",
      "  progressBarPlot_scl                           took 5.4e-05 seconds\n",
      "  bestEstimateColorBoxPlot_scl                  took 0.000178 seconds\n",
      "  bestEstimateColorScatterPlot_scl              took 0.000125 seconds\n",
      "  bestEstimateColorHistogram_scl                took 0.00012 seconds\n",
      "  dataScalingColorBoxPlot                       took 6.1e-05 seconds\n",
      "*** Merging into template file ***\n",
      "  Rendering topSwitchboard                      took 0.000109 seconds\n",
      "  Rendering maxLSwitchboard1                    took 0.000106 seconds\n",
      "  Rendering targetSpamBriefTable                took 0.10579 seconds\n",
      "  Rendering targetGatesBoxTable                 took 0.079332 seconds\n",
      "  Rendering datasetOverviewTable                took 0.000811 seconds\n",
      "  Rendering bestGatesetSpamParametersTable      took 0.002183 seconds\n",
      "  Rendering bestGatesetSpamBriefTable           took 0.229401 seconds\n",
      "  Rendering bestGatesetSpamVsTargetTable        took 0.00226 seconds\n",
      "  Rendering bestGatesetGaugeOptParamsTable      took 0.001318 seconds\n",
      "  Rendering bestGatesetGatesBoxTable            took 0.132298 seconds\n",
      "  Rendering bestGatesetChoiEvalTable            took 0.124163 seconds\n",
      "  Rendering bestGatesetDecompTable              took 0.102705 seconds\n",
      "  Rendering bestGatesetEvalTable                took 0.015622 seconds\n",
      "  Rendering bestGermsEvalTable                  took 0.014751 seconds\n",
      "  Rendering bestGatesetVsTargetTable            took 0.001208 seconds\n",
      "  Rendering bestGatesVsTargetTable_gv           took 0.004563 seconds\n",
      "  Rendering bestGatesVsTargetTable_gvgerms      took 0.003866 seconds\n",
      "  Rendering bestGatesVsTargetTable_gi           took 0.003334 seconds\n",
      "  Rendering bestGatesVsTargetTable_gigerms      took 0.002177 seconds\n",
      "  Rendering bestGatesVsTargetTable_sum          took 0.003971 seconds\n",
      "  Rendering bestGatesetErrGenBoxTable           took 0.286846 seconds\n",
      "  Rendering metadataTable                       took 0.012325 seconds\n",
      "  Rendering stdoutBlock                         took 0.001133 seconds\n",
      "  Rendering profilerTable                       took 0.001748 seconds\n",
      "  Rendering softwareEnvTable                    took 0.003185 seconds\n",
      "  Rendering exampleTable                        took 0.026083 seconds\n",
      "  Rendering metricSwitchboard_gv                took 3.9e-05 seconds\n",
      "  Rendering metricSwitchboard_gi                took 4.9e-05 seconds\n",
      "  Rendering singleMetricTable_gv                took 0.007787 seconds\n",
      "  Rendering singleMetricTable_gi                took 0.005861 seconds\n",
      "  Rendering fiducialListTable                   took 0.00389 seconds\n",
      "  Rendering prepStrListTable                    took 0.002773 seconds\n",
      "  Rendering effectStrListTable                  took 0.003263 seconds\n",
      "  Rendering colorBoxPlotKeyPlot                 took 0.028696 seconds\n",
      "  Rendering germList2ColTable                   took 0.003092 seconds\n",
      "  Rendering progressTable                       took 0.003007 seconds\n",
      "  Rendering gramBarPlot                         took 0.027486 seconds\n",
      "  Rendering progressBarPlot                     took 0.021592 seconds\n",
      "  Rendering progressBarPlot_sum                 took 0.020836 seconds\n",
      "  Rendering finalFitComparePlot                 took 0.024278 seconds\n",
      "  Rendering bestEstimateColorBoxPlot            took 0.030077 seconds\n",
      "  Rendering bestEstimateTVDColorBoxPlot         took 0.035173 seconds\n",
      "  Rendering bestEstimateColorScatterPlot        took 0.037556 seconds\n",
      "  Rendering bestEstimateColorHistogram          took 0.03448 seconds\n",
      "  Rendering progressTable_scl                   took 0.00076 seconds\n",
      "  Rendering progressBarPlot_scl                 took 0.001039 seconds\n",
      "  Rendering bestEstimateColorBoxPlot_scl        took 0.001074 seconds\n",
      "  Rendering bestEstimateColorScatterPlot_scl    took 0.001015 seconds\n",
      "  Rendering bestEstimateColorHistogram_scl      took 0.001026 seconds\n",
      "  Rendering dataScalingColorBoxPlot             took 0.001008 seconds\n",
      "Output written to example_files/LGSTonlyReport directory\n",
      "*** Report Generation Complete!  Total time 6.69433s ***\n"
     ]
    },
    {
     "data": {
      "text/plain": [
       "<pygsti.report.workspace.Workspace at 0x10ebe3be0>"
      ]
     },
     "execution_count": 2,
     "metadata": {},
     "output_type": "execute_result"
    }
   ],
   "source": [
    "#Run LGST and create a report\n",
    "# You can also eliminate gauge optimization step by setting gaugeOptParams=False\n",
    "results = pygsti.do_linear_gst(ds, target_model, prep_fiducials, meas_fiducials)\n",
    "\n",
    "pygsti.report.create_standard_report(results, filename=\"example_files/LGSTonlyReport\",\n",
    "                                    title=\"LGST-only Example Report\", verbosity=2)"
   ]
  },
  {
   "cell_type": "markdown",
   "metadata": {},
   "source": [
    "Click to open the file [example_files/LGSTonlyReport/main.html](example_files/LGSTonlyReport/main.html) in your browser to view the report."
   ]
  },
  {
   "cell_type": "code",
   "execution_count": null,
   "metadata": {},
   "outputs": [],
   "source": []
  }
 ],
 "metadata": {
  "kernelspec": {
   "display_name": "Python 3",
   "language": "python",
   "name": "python3"
  },
  "language_info": {
   "codemirror_mode": {
    "name": "ipython",
    "version": 3
   },
   "file_extension": ".py",
   "mimetype": "text/x-python",
   "name": "python",
   "nbconvert_exporter": "python",
   "pygments_lexer": "ipython3",
   "version": "3.7.0"
  }
 },
 "nbformat": 4,
 "nbformat_minor": 2
}
