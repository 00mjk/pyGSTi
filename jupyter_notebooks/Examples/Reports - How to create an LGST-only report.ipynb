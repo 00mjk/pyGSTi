{
 "cells": [
  {
   "cell_type": "markdown",
   "metadata": {
    "deletable": true,
    "editable": true
   },
   "source": [
    "# How to create an LGST-only report\n",
    "This example shows how you can create a HTML report from just the results of running *linear GST* (LGST).  This can be useful when you want to get a rough estimate of your gates quickly, as LGST is takes substantially less data and computation time compared with long-sequence GST.  This example is modeled after Tutorial 0."
   ]
  },
  {
   "cell_type": "code",
   "execution_count": 1,
   "metadata": {
    "collapsed": false,
    "deletable": true,
    "editable": true
   },
   "outputs": [
    {
     "name": "stdout",
     "output_type": "stream",
     "text": [
      "Only 92 sequences are required!\n"
     ]
    }
   ],
   "source": [
    "#Make print statements compatible with Python 2 and 3\n",
    "from __future__ import print_function\n",
    "\n",
    "#Import the pygsti module (always do this) and the standard XYI gate set\n",
    "import pygsti\n",
    "from pygsti.construction import std1Q_XYI\n",
    "\n",
    "# 1) get the target GateSet\n",
    "gs_target = std1Q_XYI.gs_target\n",
    "\n",
    "# 2) get the building blocks needed to specify which gate sequences are needed\n",
    "prep_fiducials, meas_fiducials = std1Q_XYI.prepStrs, std1Q_XYI.effectStrs\n",
    "\n",
    "# 3) generate \"fake\" data from a depolarized version of gs_target\n",
    "gs_datagen = gs_target.depolarize(gate_noise=0.1, spam_noise=0.001)\n",
    "listOfExperiments = pygsti.construction.list_lgst_gatestrings(\n",
    "                        prep_fiducials, meas_fiducials,gs_target)\n",
    "\n",
    "ds = pygsti.construction.generate_fake_data(gs_datagen, listOfExperiments, nSamples=1000,\n",
    "                                            sampleError=\"binomial\", seed=1234)\n",
    "\n",
    "#Note: from listOfExperiments we can also create an empty dataset file\n",
    "# which has columns of zeros where actual data should go. \n",
    "pygsti.io.write_empty_dataset(\"example_files/LGSTReportDataTemplate.txt\", listOfExperiments,\n",
    "                              \"## Columns = 0 count, 1 count\")\n",
    "# After replacing the zeros with actual data, the data set can be \n",
    "# loaded back into pyGSTi using the line below and used in the rest\n",
    "# of this tutorial. \n",
    "#ds = pygsti.io.load_dataset(\"example_files/LGSTReportDataTemplate.txt\")\n",
    "\n",
    "print(\"Only %d sequences are required!\" % len(listOfExperiments))"
   ]
  },
  {
   "cell_type": "code",
   "execution_count": 2,
   "metadata": {
    "collapsed": false,
    "deletable": true,
    "editable": true
   },
   "outputs": [
    {
     "name": "stdout",
     "output_type": "stream",
     "text": [
      "--- Gate Sequence Creation ---\n",
      "   92 sequences created\n",
      "   Dataset has 92 entries: 92 utilized, 0 requested sequences were missing\n",
      "--- LGST ---\n",
      "  Singular values of I_tilde (truncating to first 4 of 6) = \n",
      "  4.244260747379201\n",
      "  1.1584455050153553\n",
      "  0.9653318308376435\n",
      "  0.9299255834269221\n",
      "  0.04811754926043677\n",
      "  0.03165892099831828\n",
      "  \n",
      "  Singular values of target I_tilde (truncating to first 4 of 6) = \n",
      "  4.242640687119285\n",
      "  1.4142135623730954\n",
      "  1.4142135623730947\n",
      "  1.4142135623730945\n",
      "  3.1723744950054595e-16\n",
      "  1.0852733691121267e-16\n",
      "  \n",
      "  -- Adding Gauge Optimized (go0) --\n",
      "*** Creating workspace ***\n",
      "*** Generating switchboard ***\n",
      "Found standard clifford compilation from std1Q_XYI\n",
      "*** Generating tables ***\n",
      "  targetSpamBriefTable                          took 0.017171 seconds\n",
      "  targetGatesBoxTable                           took 0.016744 seconds\n",
      "  datasetOverviewTable                          took 0.002648 seconds\n",
      "  bestGatesetSpamParametersTable                took 0.000489 seconds\n",
      "  bestGatesetSpamBriefTable                     took 0.022786 seconds\n",
      "  bestGatesetSpamVsTargetTable                  took 0.050566 seconds\n",
      "  bestGatesetGaugeOptParamsTable                took 0.000292 seconds\n",
      "  bestGatesetGatesBoxTable                      took 0.033112 seconds\n",
      "  bestGatesetChoiEvalTable                      took 0.034739 seconds\n",
      "  bestGatesetDecompTable                        took 0.030651 seconds\n",
      "  bestGatesetEvalTable                          took 0.002412 seconds\n",
      "  bestGermsEvalTable                            took 0.002118 seconds\n",
      "  bestGatesetVsTargetTable                      took 0.036489 seconds\n",
      "  bestGatesVsTargetTable_gv                     took 0.096484 seconds\n",
      "  bestGatesVsTargetTable_gvgerms                took 0.013762 seconds\n",
      "  bestGatesVsTargetTable_gi                     took 0.007912 seconds\n",
      "  bestGatesVsTargetTable_gigerms                took 0.002726 seconds\n",
      "  bestGatesVsTargetTable_sum                    took 0.100415 seconds\n",
      "  bestGatesetErrGenBoxTable                     took 0.103651 seconds\n",
      "  metadataTable                                 took 0.000836 seconds\n",
      "  stdoutBlock                                   took 0.000328 seconds\n",
      "  profilerTable                                 took 0.000252 seconds\n",
      "  softwareEnvTable                              took 0.023698 seconds\n",
      "  exampleTable                                  took 0.00981 seconds\n",
      "  singleMetricTable_gv                          took 0.112235 seconds\n",
      "  singleMetricTable_gi                          took 0.010304 seconds\n",
      "  fiducialListTable                             took 0.000489 seconds\n",
      "  prepStrListTable                              took 0.000136 seconds\n",
      "  effectStrListTable                            took 0.000168 seconds\n",
      "  colorBoxPlotKeyPlot                           took 0.008329 seconds\n",
      "  germList2ColTable                             took 0.000149 seconds\n",
      "  progressTable                                 took 0.029653 seconds\n",
      "*** Generating plots ***\n",
      "  gramBarPlot                                   took 0.021753 seconds\n",
      "  progressBarPlot                               took 0.041692 seconds\n",
      "  progressBarPlot_sum                           took 0.000215 seconds\n",
      "  finalFitComparePlot                           took 0.027994 seconds\n",
      "  bestEstimateColorBoxPlot                      took 0.160332 seconds\n",
      "  bestEstimateTVDColorBoxPlot                   took 0.142877 seconds\n",
      "  bestEstimateColorScatterPlot                  took 0.163596 seconds\n",
      "  bestEstimateColorHistogram                    took 0.153907 seconds\n",
      "  progressTable_scl                             took 7e-05 seconds\n",
      "  progressBarPlot_scl                           took 7.1e-05 seconds\n",
      "  bestEstimateColorBoxPlot_scl                  took 7.2e-05 seconds\n",
      "  bestEstimateColorScatterPlot_scl              took 7.3e-05 seconds\n",
      "  bestEstimateColorHistogram_scl                took 6.8e-05 seconds\n",
      "  dataScalingColorBoxPlot                       took 6.8e-05 seconds\n",
      "*** Merging into template file ***\n",
      "  Rendering bestGatesVsTargetTable_sum          took 0.002947 seconds\n",
      "  Rendering prepStrListTable                    took 0.001491 seconds\n",
      "  Rendering bestGatesetEvalTable                took 0.013513 seconds\n",
      "  Rendering progressBarPlot_sum                 took 0.002959 seconds\n",
      "  Rendering profilerTable                       took 0.000919 seconds\n",
      "  Rendering metadataTable                       took 0.002617 seconds\n",
      "  Rendering stdoutBlock                         took 0.000662 seconds\n",
      "  Rendering progressBarPlot_scl                 took 0.000473 seconds\n",
      "  Rendering bestGatesetSpamVsTargetTable        took 0.001844 seconds\n",
      "  Rendering fiducialListTable                   took 0.001837 seconds\n",
      "  Rendering bestGatesVsTargetTable_gvgerms      took 0.002361 seconds\n",
      "  Rendering bestEstimateColorBoxPlot            took 0.004215 seconds\n",
      "  Rendering bestGermsEvalTable                  took 0.012813 seconds\n",
      "  Rendering bestGatesetDecompTable              took 0.014554 seconds\n",
      "  Rendering targetGatesBoxTable                 took 0.009932 seconds\n",
      "  Rendering bestEstimateColorScatterPlot        took 0.002671 seconds\n",
      "  Rendering progressTable_scl                   took 0.00054 seconds\n",
      "  Rendering singleMetricTable_gv                took 0.005136 seconds\n",
      "  Rendering colorBoxPlotKeyPlot                 took 0.005775 seconds\n",
      "  Rendering bestGatesetSpamBriefTable           took 0.022074 seconds\n",
      "  Rendering metricSwitchboard_gi                took 4e-05 seconds\n",
      "  Rendering bestGatesVsTargetTable_gv           took 0.003925 seconds\n",
      "  Rendering bestGatesetErrGenBoxTable           took 0.039222 seconds\n",
      "  Rendering dataScalingColorBoxPlot             took 0.000452 seconds\n",
      "  Rendering bestGatesetChoiEvalTable            took 0.015246 seconds\n",
      "  Rendering finalFitComparePlot                 took 0.00297 seconds\n",
      "  Rendering bestEstimateColorHistogram          took 0.00397 seconds\n",
      "  Rendering bestEstimateColorBoxPlot_scl        took 0.000519 seconds\n",
      "  Rendering exampleTable                        took 0.005449 seconds\n",
      "  Rendering gramBarPlot                         took 0.002672 seconds\n",
      "  Rendering datasetOverviewTable                took 0.000496 seconds\n",
      "  Rendering bestGatesetVsTargetTable            took 0.000741 seconds\n",
      "  Rendering bestGatesVsTargetTable_gigerms      took 0.00121 seconds\n",
      "  Rendering maxLSwitchboard1                    took 9.3e-05 seconds\n",
      "  Rendering softwareEnvTable                    took 0.002294 seconds\n",
      "  Rendering bestEstimateTVDColorBoxPlot         took 0.005248 seconds\n",
      "  Rendering bestGatesetSpamParametersTable      took 0.001375 seconds\n",
      "  Rendering topSwitchboard                      took 0.000114 seconds\n",
      "  Rendering bestEstimateColorScatterPlot_scl    took 0.000907 seconds\n",
      "  Rendering metricSwitchboard_gv                took 5.4e-05 seconds\n",
      "  Rendering bestGatesVsTargetTable_gi           took 0.003137 seconds\n",
      "  Rendering bestGatesetGatesBoxTable            took 0.019374 seconds\n",
      "  Rendering progressTable                       took 0.001173 seconds\n",
      "  Rendering bestGatesetGaugeOptParamsTable      took 0.000777 seconds\n",
      "  Rendering bestEstimateColorHistogram_scl      took 0.000605 seconds\n",
      "  Rendering progressBarPlot                     took 0.002244 seconds\n",
      "  Rendering targetSpamBriefTable                took 0.013474 seconds\n",
      "  Rendering singleMetricTable_gi                took 0.004028 seconds\n",
      "  Rendering effectStrListTable                  took 0.001376 seconds\n",
      "  Rendering germList2ColTable                   took 0.001699 seconds\n",
      "Output written to example_files/LGSTonlyReport directory\n",
      "*** Report Generation Complete!  Total time 1.86042s ***\n"
     ]
    },
    {
     "data": {
      "text/plain": [
       "<pygsti.report.workspace.Workspace at 0x1069787b8>"
      ]
     },
     "execution_count": 2,
     "metadata": {},
     "output_type": "execute_result"
    }
   ],
   "source": [
    "#Run LGST and create a report\n",
    "# You can also eliminate gauge optimization step by setting gaugeOptParams=False\n",
    "results = pygsti.do_linear_gst(ds, gs_target, prep_fiducials, meas_fiducials)\n",
    "\n",
    "pygsti.report.create_standard_report(results, filename=\"example_files/LGSTonlyReport\",\n",
    "                                    title=\"LGST-only Example Report\", verbosity=2)"
   ]
  },
  {
   "cell_type": "markdown",
   "metadata": {
    "deletable": true,
    "editable": true
   },
   "source": [
    "Click to open the file [example_files/LGSTonlyReport/main.html](example_files/LGSTonlyReport/main.html) in your browser to view the report."
   ]
  },
  {
   "cell_type": "code",
   "execution_count": null,
   "metadata": {
    "collapsed": true,
    "deletable": true,
    "editable": true
   },
   "outputs": [],
   "source": []
  }
 ],
 "metadata": {
  "kernelspec": {
   "display_name": "Python 3",
   "language": "python",
   "name": "python3"
  },
  "language_info": {
   "codemirror_mode": {
    "name": "ipython",
    "version": 3
   },
   "file_extension": ".py",
   "mimetype": "text/x-python",
   "name": "python",
   "nbconvert_exporter": "python",
   "pygments_lexer": "ipython3",
   "version": "3.5.2"
  }
 },
 "nbformat": 4,
 "nbformat_minor": 2
}
