{
 "cells": [
  {
   "cell_type": "markdown",
   "metadata": {
    "deletable": true,
    "editable": true
   },
   "source": [
    "# Parallel GST using MPI\n",
    "The purpose of this tutorial is to demonstrate how to compute GST estimates in parallel (using multiple CPUs or \"processors\").  The core PyGSTi computational routines are written to take advantage of multiple processors via the MPI communication framework, and so one must have a version of MPI and the `mpi4py` python package installed in order use run pyGSTi calculations in parallel.  \n",
    "\n",
    "Since `mpi4py` doesn't play nicely with Jupyter notebooks, this tutorial is a bit more clunky than the others.  In it, we will create a standalone Python script that imports `mpi4py` and execute it.\n",
    "\n",
    "We will use as an example the same \"standard\" single-qubit gate set of the first tutorial.  We'll first create a dataset, and then a script to be run in parallel which loads the data.  The creation of a simulated data is performed in the same way as the first tutorial.   Since *random* numbers are generated and used as simulated counts within the call to `generate_fake_data`, it is important that this is *not* done in a parallel environment, or different CPUs may get different data sets.  (This isn't an issue in the typical situation when the data is obtained experimentally.)"
   ]
  },
  {
   "cell_type": "code",
   "execution_count": 1,
   "metadata": {
    "collapsed": false,
    "deletable": true,
    "editable": true
   },
   "outputs": [
    {
     "name": "stderr",
     "output_type": "stream",
     "text": [
      "/usr/local/Cellar/python/3.6.4_3/Frameworks/Python.framework/Versions/3.6/lib/python3.6/importlib/_bootstrap.py:219: RuntimeWarning: numpy.dtype size changed, may indicate binary incompatibility. Expected 96, got 88\n",
      "  return f(*args, **kwds)\n",
      "/usr/local/Cellar/python/3.6.4_3/Frameworks/Python.framework/Versions/3.6/lib/python3.6/importlib/_bootstrap.py:219: RuntimeWarning: numpy.dtype size changed, may indicate binary incompatibility. Expected 96, got 88\n",
      "  return f(*args, **kwds)\n"
     ]
    }
   ],
   "source": [
    "#Import pyGSTi and the \"stardard 1-qubit quantities for a gateset with X(pi/2), Y(pi/2), and idle gates\"\n",
    "import pygsti\n",
    "from pygsti.construction import std1Q_XYI\n",
    "\n",
    "#Create a data set\n",
    "gs_target = std1Q_XYI.gs_target\n",
    "fiducials = std1Q_XYI.fiducials\n",
    "germs = std1Q_XYI.germs\n",
    "maxLengths = [1,2,4,8,16,32]\n",
    "\n",
    "gs_datagen = gs_target.depolarize(gate_noise=0.1, spam_noise=0.001)\n",
    "listOfExperiments = pygsti.construction.make_lsgst_experiment_list(gs_target.gates.keys(), fiducials, fiducials, germs, maxLengths)\n",
    "ds = pygsti.construction.generate_fake_data(gs_datagen, listOfExperiments, nSamples=1000,\n",
    "                                            sampleError=\"binomial\", seed=1234)\n",
    "pygsti.io.write_dataset(\"example_files/mpi_example_dataset.txt\", ds)"
   ]
  },
  {
   "cell_type": "markdown",
   "metadata": {
    "deletable": true,
    "editable": true
   },
   "source": [
    "Next, we'll write a Python script that will load in the just-created `DataSet`, run GST on it, and write the output to a file.  The only major difference between the contents of this script and previous examples is that the script imports `mpi4py` and passes a MPI comm object (`comm`) to the `do_long_sequence_gst` function.  Since parallel computing is best used for computationaly intensive GST calculations, we also demonstrate how to set a per-processor memory limit to tell pyGSTi to partition its computations so as to not exceed this memory usage.  Lastly, note the use of the `gaugeOptParams` argument of `do_long_sequence_gst`, which can be used to weight different gate set members differently during gauge optimization."
   ]
  },
  {
   "cell_type": "code",
   "execution_count": 2,
   "metadata": {
    "collapsed": false,
    "deletable": true,
    "editable": true
   },
   "outputs": [],
   "source": [
    "mpiScript = \"\"\"\n",
    "import time\n",
    "import pygsti\n",
    "from pygsti.construction import std1Q_XYI\n",
    "\n",
    "#get MPI comm\n",
    "from mpi4py import MPI\n",
    "comm = MPI.COMM_WORLD\n",
    "\n",
    "print(\"Rank %d started\" % comm.Get_rank())\n",
    "\n",
    "#define target gateset, fiducials, and germs as before\n",
    "gs_target = std1Q_XYI.gs_target\n",
    "fiducials = std1Q_XYI.fiducials\n",
    "germs = std1Q_XYI.germs\n",
    "maxLengths = [1,2,4,8,16,32]\n",
    "\n",
    "#tell gauge optimization to weight the gate matrix\n",
    "# elements 100x more heavily than the SPAM vector elements, and\n",
    "# to specifically weight the Gx gate twice as heavily as the other\n",
    "# gates.\n",
    "goParams = {'itemWeights':{'spam': 0.01, 'gates': 1.0, 'Gx': 2.0} }\n",
    "\n",
    "#Specify a per-core memory limit (useful for larger GST calculations)\n",
    "memLim = 2.1*(1024)**3  # 2.1 GB\n",
    "\n",
    "#Perform TP-constrained GST\n",
    "gs_target.set_all_parameterizations(\"TP\")\n",
    "    \n",
    "#load the dataset\n",
    "ds = pygsti.io.load_dataset(\"example_files/mpi_example_dataset.txt\")\n",
    "\n",
    "start = time.time()\n",
    "results = pygsti.do_long_sequence_gst(ds, gs_target, fiducials, fiducials,\n",
    "                                      germs, maxLengths,memLimit=memLim,\n",
    "                                      gaugeOptParams=goParams, comm=comm,\n",
    "                                      verbosity=2)\n",
    "end = time.time()\n",
    "print(\"Rank %d finished in %.1fs\" % (comm.Get_rank(), end-start))\n",
    "if comm.Get_rank() == 0:\n",
    "    import pickle\n",
    "    pickle.dump(results, open(\"example_files/mpi_example_results.pkl\",\"wb\"))\n",
    "\"\"\"\n",
    "with open(\"example_files/mpi_example_script.py\",\"w\") as f:\n",
    "    f.write(mpiScript)"
   ]
  },
  {
   "cell_type": "markdown",
   "metadata": {
    "deletable": true,
    "editable": true
   },
   "source": [
    "Next, we run the script with 3 processors using `mpiexec`.  The `mpiexec` executable should have been installed with your MPI distribution -- if it doesn't exist, try replacing `mpiexec` with `mpirun`."
   ]
  },
  {
   "cell_type": "code",
   "execution_count": 3,
   "metadata": {
    "collapsed": false,
    "deletable": true,
    "editable": true
   },
   "outputs": [
    {
     "name": "stdout",
     "output_type": "stream",
     "text": [
      "Rank 2 started\n",
      "Rank 0 started\n",
      "Rank 1 started\n",
      "--- Gate Sequence Creation ---\n",
      "   1702 sequences created\n",
      "   Dataset has 1702 entries: 1702 utilized, 0 requested sequences were missing\n",
      "--- LGST ---\n",
      "  Singular values of I_tilde (truncating to first 4 of 6) = \n",
      "  4.244089943192679\n",
      "  1.1594632778409213\n",
      "  0.965151667073796\n",
      "  0.9297628363691258\n",
      "  0.04925681134723816\n",
      "  0.02515065837213689\n",
      "  \n",
      "  Singular values of target I_tilde (truncating to first 4 of 6) = \n",
      "  4.242640687119285\n",
      "  1.4142135623730954\n",
      "  1.4142135623730947\n",
      "  1.4142135623730945\n",
      "  3.1723744950054595e-16\n",
      "  1.0852733691121267e-16\n",
      "  \n",
      "--- Iterative MLGST: Iter 1 of 6  92 gate strings ---: \n",
      "  --- Minimum Chi^2 GST ---\n",
      "  Memory limit = 2.10GB\n",
      "  Cur, Persist, Gather = 0.14, 0.00, 0.21 GB\n",
      "  Finding num_nongauge_params is too expensive: using total params.\n",
      "  Sum of Chi^2 = 95.7297 (91 data params - 43 model params = expected mean of 48; p-value = 5.13941e-05)\n",
      "  Completed in 0.1s\n",
      "  2*Delta(log(L)) = 96.1163\n",
      "  Iteration 1 took 0.1s\n",
      "  \n",
      "--- Iterative MLGST: Iter 2 of 6  168 gate strings ---: \n",
      "  --- Minimum Chi^2 GST ---\n",
      "  Memory limit = 2.10GB\n",
      "  Cur, Persist, Gather = 0.14, 0.00, 0.21 GB\n",
      "  Finding num_nongauge_params is too expensive: using total params.\n",
      "  Sum of Chi^2 = 162.192 (167 data params - 43 model params = expected mean of 124; p-value = 0.0120809)\n",
      "  Completed in 0.1s\n",
      "  2*Delta(log(L)) = 162.56\n",
      "  Iteration 2 took 0.1s\n",
      "  \n",
      "--- Iterative MLGST: Iter 3 of 6  450 gate strings ---: \n",
      "  --- Minimum Chi^2 GST ---\n",
      "  Memory limit = 2.10GB\n",
      "  Cur, Persist, Gather = 0.14, 0.00, 0.21 GB\n",
      "  Finding num_nongauge_params is too expensive: using total params.\n",
      "  Sum of Chi^2 = 484.676 (449 data params - 43 model params = expected mean of 406; p-value = 0.00435191)\n",
      "  Completed in 0.2s\n",
      "  2*Delta(log(L)) = 485.572\n",
      "  Iteration 3 took 0.3s\n",
      "  \n",
      "--- Iterative MLGST: Iter 4 of 6  862 gate strings ---: \n",
      "  --- Minimum Chi^2 GST ---\n",
      "  Memory limit = 2.10GB\n",
      "  Cur, Persist, Gather = 0.15, 0.00, 0.21 GB\n",
      "  Finding num_nongauge_params is too expensive: using total params.\n",
      "  Sum of Chi^2 = 895.303 (861 data params - 43 model params = expected mean of 818; p-value = 0.0307097)\n",
      "  Completed in 0.5s\n",
      "  2*Delta(log(L)) = 896.23\n",
      "  Iteration 4 took 0.5s\n",
      "  \n",
      "--- Iterative MLGST: Iter 5 of 6  1282 gate strings ---: \n",
      "  --- Minimum Chi^2 GST ---\n",
      "  Memory limit = 2.10GB\n",
      "  Cur, Persist, Gather = 0.15, 0.00, 0.21 GB\n",
      "  Finding num_nongauge_params is too expensive: using total params.\n",
      "  Sum of Chi^2 = 1350.86 (1281 data params - 43 model params = expected mean of 1238; p-value = 0.0133489)\n",
      "  Completed in 0.8s\n",
      "  2*Delta(log(L)) = 1351.9\n",
      "  Iteration 5 took 0.8s\n",
      "  \n",
      "--- Iterative MLGST: Iter 6 of 6  1702 gate strings ---: \n",
      "  --- Minimum Chi^2 GST ---\n",
      "  Memory limit = 2.10GB\n",
      "  Cur, Persist, Gather = 0.16, 0.00, 0.21 GB\n",
      "  Finding num_nongauge_params is too expensive: using total params.\n",
      "  Sum of Chi^2 = 1800.55 (1701 data params - 43 model params = expected mean of 1658; p-value = 0.00777432)\n",
      "  Completed in 1.2s\n",
      "  2*Delta(log(L)) = 1801.81\n",
      "  Iteration 6 took 1.2s\n",
      "  \n",
      "  Switching to ML objective (last iteration)\n",
      "  --- MLGST ---\n",
      "  Memory: limit = 2.10GB(cur, persist, gthr = 0.16, 0.00, 0.21 GB)\n",
      "  Finding num_nongauge_params is too expensive: using total params.\n",
      "    Maximum log(L) = 900.852 below upper bound of -2.84686e+06\n",
      "      2*Delta(log(L)) = 1801.7 (1701 data params - 43 model params = expected mean of 1658; p-value = 0.00737681)\n",
      "    Completed in 0.4s\n",
      "  2*Delta(log(L)) = 1801.7\n",
      "  Final MLGST took 0.4s\n",
      "  \n",
      "Iterative MLGST Total Time: 3.4s\n",
      "  -- Adding Gauge Optimized (go0) --\n",
      "--- Re-optimizing logl after robust data scaling ---\n",
      "  --- MLGST ---\n",
      "  Memory: limit = 2.10GB(cur, persist, gthr = 0.16, 0.00, 0.21 GB)\n",
      "  Finding num_nongauge_params is too expensive: using total params.\n",
      "    Maximum log(L) = 900.852 below upper bound of -2.84686e+06\n",
      "      2*Delta(log(L)) = 1801.7 (1701 data params - 43 model params = expected mean of 1658; p-value = 0.00737681)\n",
      "    Completed in 0.3s\n",
      "  -- Adding Gauge Optimized (go0) --\n",
      "Rank 1 finished in 5.0s\n",
      "/Library/Frameworks/Python.framework/Versions/3.5/lib/python3.5/site-packages/plotly/tools.py:102: UserWarning:\n",
      "\n",
      "Looks like you don't have 'read-write' permission to your 'home' ('~') directory or to our '~/.plotly' directory. That means plotly's python api can't setup local configuration files. No problem though! You'll just have to sign-in using 'plotly.plotly.sign_in()'. For help with that: 'help(plotly.plotly.sign_in)'.\n",
      "Questions? Visit https://support.plot.ly\n",
      "\n",
      "Rank 0 finished in 5.2s\n",
      "Rank 2 finished in 5.1s\n"
     ]
    }
   ],
   "source": [
    "! mpiexec -n 3 python3 \"example_files/mpi_example_script.py\""
   ]
  },
  {
   "cell_type": "markdown",
   "metadata": {
    "deletable": true,
    "editable": true
   },
   "source": [
    "Notice in the above that output within `do_long_sequence_gst` is not duplicated (only the first processor outputs to stdout) so that the output looks identical to running on a single processor.  Finally, we just need to read the pickled `Results` object from file and proceed with any post-processing analysis.  In this case, we'll just create a  report. "
   ]
  },
  {
   "cell_type": "code",
   "execution_count": 4,
   "metadata": {
    "collapsed": false,
    "deletable": true,
    "editable": true
   },
   "outputs": [
    {
     "name": "stdout",
     "output_type": "stream",
     "text": [
      "*** Creating workspace ***\n",
      "*** Generating switchboard ***\n",
      "Found standard clifford compilation from std1Q_XYI\n",
      "*** Generating tables ***\n",
      "  targetSpamBriefTable                          took 0.560828 seconds\n",
      "  targetGatesBoxTable                           took 0.157254 seconds\n",
      "  datasetOverviewTable                          took 0.106244 seconds\n",
      "  bestGatesetSpamParametersTable                took 0.000488 seconds\n",
      "  bestGatesetSpamBriefTable                     took 0.263504 seconds\n",
      "  bestGatesetSpamVsTargetTable                  took 0.175143 seconds\n",
      "  bestGatesetGaugeOptParamsTable                took 0.00034 seconds\n",
      "  bestGatesetGatesBoxTable                      took 0.326716 seconds\n",
      "  bestGatesetChoiEvalTable                      took 0.503861 seconds\n",
      "  bestGatesetDecompTable                        took 0.205235 seconds\n",
      "  bestGatesetEvalTable                          took 0.002643 seconds\n",
      "  bestGermsEvalTable                            took 0.015108 seconds\n",
      "  bestGatesetVsTargetTable                      took 0.151828 seconds\n",
      "  bestGatesVsTargetTable_gv                     took 0.559833 seconds\n",
      "  bestGatesVsTargetTable_gvgerms                took 0.081805 seconds\n",
      "  bestGatesVsTargetTable_gi                     took 0.010842 seconds\n",
      "  bestGatesVsTargetTable_gigerms                took 0.022629 seconds\n",
      "  bestGatesVsTargetTable_sum                    took 0.465774 seconds\n",
      "  bestGatesetErrGenBoxTable                     took 0.813362 seconds\n",
      "  metadataTable                                 took 0.081971 seconds\n",
      "  stdoutBlock                                   took 0.000832 seconds\n",
      "  profilerTable                                 took 0.000555 seconds\n",
      "  softwareEnvTable                              took 0.033455 seconds\n",
      "  exampleTable                                  took 0.065913 seconds\n",
      "  singleMetricTable_gv                          took 0.530716 seconds\n",
      "  singleMetricTable_gi                          took 0.013565 seconds\n",
      "  fiducialListTable                             took 0.000669 seconds\n",
      "  prepStrListTable                              took 0.000477 seconds\n",
      "  effectStrListTable                            took 0.000225 seconds\n",
      "  colorBoxPlotKeyPlot                           took 0.087985 seconds\n",
      "  germList2ColTable                             took 0.000246 seconds\n",
      "  progressTable                                 took 2.401722 seconds\n",
      "*** Generating plots ***\n",
      "  gramBarPlot                                   took 0.078035 seconds\n",
      "  progressBarPlot                               took 2.226724 seconds\n",
      "  progressBarPlot_sum                           took 0.000329 seconds\n",
      "  finalFitComparePlot                           took 1.083746 seconds\n",
      "  bestEstimateColorBoxPlot                      took 8.356622 seconds\n",
      "  bestEstimateTVDColorBoxPlot                   took 9.236653 seconds\n",
      "  bestEstimateColorScatterPlot                  took 12.994587 seconds\n",
      "  bestEstimateColorHistogram                    took 7.604755 seconds\n",
      "  progressTable_scl                             took 2.332786 seconds\n",
      "  progressBarPlot_scl                           took 2.50887 seconds\n",
      "  bestEstimateColorBoxPlot_scl                  took 7.965227 seconds\n",
      "  bestEstimateColorScatterPlot_scl              took 10.806511 seconds\n",
      "  bestEstimateColorHistogram_scl                took 8.072907 seconds\n",
      "  dataScalingColorBoxPlot                       took 0.148427 seconds\n",
      "*** Merging into template file ***\n",
      "  Rendering topSwitchboard                      took 0.000116 seconds\n",
      "  Rendering maxLSwitchboard1                    took 9.8e-05 seconds\n",
      "  Rendering targetSpamBriefTable                took 0.01081 seconds\n",
      "  Rendering targetGatesBoxTable                 took 0.008774 seconds\n",
      "  Rendering datasetOverviewTable                took 0.001138 seconds\n",
      "  Rendering bestGatesetSpamParametersTable      took 0.002745 seconds\n",
      "  Rendering bestGatesetSpamBriefTable           took 0.02612 seconds\n",
      "  Rendering bestGatesetSpamVsTargetTable        took 0.002891 seconds\n",
      "  Rendering bestGatesetGaugeOptParamsTable      took 0.001763 seconds\n",
      "  Rendering bestGatesetGatesBoxTable            took 0.015988 seconds\n",
      "  Rendering bestGatesetChoiEvalTable            took 0.014404 seconds\n",
      "  Rendering bestGatesetDecompTable              took 0.018573 seconds\n",
      "  Rendering bestGatesetEvalTable                took 0.014451 seconds\n",
      "  Rendering bestGermsEvalTable                  took 0.054766 seconds\n",
      "  Rendering bestGatesetVsTargetTable            took 0.001872 seconds\n",
      "  Rendering bestGatesVsTargetTable_gv           took 0.004635 seconds\n",
      "  Rendering bestGatesVsTargetTable_gvgerms      took 0.008619 seconds\n",
      "  Rendering bestGatesVsTargetTable_gi           took 0.00407 seconds\n",
      "  Rendering bestGatesVsTargetTable_gigerms      took 0.00376 seconds\n",
      "  Rendering bestGatesVsTargetTable_sum          took 0.00426 seconds\n",
      "  Rendering bestGatesetErrGenBoxTable           took 0.027766 seconds\n",
      "  Rendering metadataTable                       took 0.004542 seconds\n",
      "  Rendering stdoutBlock                         took 0.002133 seconds\n",
      "  Rendering profilerTable                       took 0.002429 seconds\n",
      "  Rendering softwareEnvTable                    took 0.002905 seconds\n",
      "  Rendering exampleTable                        took 0.00439 seconds\n",
      "  Rendering metricSwitchboard_gv                took 4.8e-05 seconds\n",
      "  Rendering metricSwitchboard_gi                took 3.7e-05 seconds\n",
      "  Rendering singleMetricTable_gv                took 0.008924 seconds\n",
      "  Rendering singleMetricTable_gi                took 0.00576 seconds\n",
      "  Rendering fiducialListTable                   took 0.002891 seconds\n",
      "  Rendering prepStrListTable                    took 0.00299 seconds\n",
      "  Rendering effectStrListTable                  took 0.002805 seconds\n",
      "  Rendering colorBoxPlotKeyPlot                 took 0.003775 seconds\n",
      "  Rendering germList2ColTable                   took 0.004 seconds\n",
      "  Rendering progressTable                       took 0.005433 seconds\n",
      "  Rendering gramBarPlot                         took 0.003929 seconds\n",
      "  Rendering progressBarPlot                     took 0.002913 seconds\n",
      "  Rendering progressBarPlot_sum                 took 0.003211 seconds\n",
      "  Rendering finalFitComparePlot                 took 0.002666 seconds\n",
      "  Rendering bestEstimateColorBoxPlot            took 0.080439 seconds\n",
      "  Rendering bestEstimateTVDColorBoxPlot         took 0.074838 seconds\n",
      "  Rendering bestEstimateColorScatterPlot        took 0.088969 seconds\n",
      "  Rendering bestEstimateColorHistogram          took 0.058751 seconds\n",
      "  Rendering progressTable_scl                   took 0.005557 seconds\n",
      "  Rendering progressBarPlot_scl                 took 0.003802 seconds\n",
      "  Rendering bestEstimateColorBoxPlot_scl        took 0.078934 seconds\n",
      "  Rendering bestEstimateColorScatterPlot_scl    took 0.115157 seconds\n",
      "  Rendering bestEstimateColorHistogram_scl      took 0.070296 seconds\n",
      "  Rendering dataScalingColorBoxPlot             took 0.022383 seconds\n",
      "Output written to example_files/mpi_example_brief directory\n",
      "Opening example_files/mpi_example_brief/main.html...\n",
      "*** Report Generation Complete!  Total time 82.583s ***\n"
     ]
    },
    {
     "data": {
      "text/plain": [
       "<pygsti.report.workspace.Workspace at 0x121ffbeb8>"
      ]
     },
     "execution_count": 4,
     "metadata": {},
     "output_type": "execute_result"
    }
   ],
   "source": [
    "import pickle\n",
    "results = pickle.load(open(\"example_files/mpi_example_results.pkl\",\"rb\"))\n",
    "pygsti.report.create_standard_report(results, \"example_files/mpi_example_brief\",\n",
    "                                    title=\"MPI Example Report\", verbosity=2, auto_open=True)"
   ]
  },
  {
   "cell_type": "code",
   "execution_count": null,
   "metadata": {
    "collapsed": true,
    "deletable": true,
    "editable": true
   },
   "outputs": [],
   "source": []
  }
 ],
 "metadata": {
  "kernelspec": {
   "display_name": "Python 3",
   "language": "python",
   "name": "python3"
  },
  "language_info": {
   "codemirror_mode": {
    "name": "ipython",
    "version": 3
   },
   "file_extension": ".py",
   "mimetype": "text/x-python",
   "name": "python",
   "nbconvert_exporter": "python",
   "pygments_lexer": "ipython3",
   "version": "3.6.4"
  }
 },
 "nbformat": 4,
 "nbformat_minor": 1
}
