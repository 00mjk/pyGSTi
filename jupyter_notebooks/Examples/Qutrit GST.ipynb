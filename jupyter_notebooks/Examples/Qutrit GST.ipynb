{
 "cells": [
  {
   "cell_type": "markdown",
   "metadata": {
    "deletable": true,
    "editable": true
   },
   "source": [
    "# Example for qutrit GST\n",
    "This notebook demonstrates how to construct the gate sequences and perform the analysis for qutrit GST when the gate set consists of symmetric $\\pi/2$-rotations on each single qubit separately, `X`, `Y` and a 2-qubit Molmer-Sorenson gate which rotates around the `XX` axis by $\\pi/2$."
   ]
  },
  {
   "cell_type": "code",
   "execution_count": 1,
   "metadata": {
    "collapsed": false,
    "deletable": true,
    "editable": true
   },
   "outputs": [],
   "source": [
    "import pygsti\n",
    "import pygsti.construction as pc\n",
    "from pygsti.construction import qutrit\n",
    "\n",
    "from numpy import pi, array\n",
    "import pickle\n",
    "\n",
    "import numpy as np"
   ]
  },
  {
   "cell_type": "markdown",
   "metadata": {
    "deletable": true,
    "editable": true
   },
   "source": [
    "First, we construct the target gate set.  This functionality is built into pyGSTi, so we just need to specify the single-qubit and M-S angles."
   ]
  },
  {
   "cell_type": "code",
   "execution_count": 2,
   "metadata": {
    "collapsed": false,
    "deletable": true,
    "editable": true
   },
   "outputs": [],
   "source": [
    "gs_target = qutrit.make_qutrit_gateset(errorScale=0, Xangle=pi/2, Yangle=pi/2, MSglobal=pi/2, MSlocal=0, basis=\"qt\")\n",
    "#print(gs_target)"
   ]
  },
  {
   "cell_type": "markdown",
   "metadata": {
    "deletable": true,
    "editable": true
   },
   "source": [
    "Now construct the gate sequences needed by GST.  These fiducials and germs have been computed ahead of time and the results are used to construct the gate string lists below.  Then we construct an empty dataset containing all of the necessary experimental sequences which can serve as a template for the actual experimental results."
   ]
  },
  {
   "cell_type": "code",
   "execution_count": 3,
   "metadata": {
    "collapsed": false,
    "deletable": true,
    "editable": true
   },
   "outputs": [],
   "source": [
    "fiducialPrep = pc.gatestring_list(\n",
    "    [(),('Gy',),('Gx',),('Gm',),\n",
    "    ('Gx','Gx'), ('Gm','Gy'),('Gm','Gx'),\n",
    "    ('Gy','Gy','Gy'),('Gx','Gx','Gx')])\n",
    "\n",
    "fiducialMeasure = pc.gatestring_list(\n",
    "    [(),('Gy',),('Gx',),('Gm',),\n",
    "    ('Gy','Gm'),('Gx','Gm')])\n",
    "\n",
    "maxLengths = [1,2,4]\n",
    "\n",
    "germs = pygsti.construction.gatestring_list(\n",
    "[('Gi',),\n",
    " ('Gy',),\n",
    " ('Gx',),\n",
    " ('Gm',),\n",
    " ('Gi', 'Gy'),\n",
    " ('Gi', 'Gx'),\n",
    " ('Gi', 'Gm'),\n",
    " ('Gy', 'Gx'),\n",
    " ('Gy', 'Gm'),\n",
    " ('Gx', 'Gm'),\n",
    " ('Gi', 'Gi', 'Gy'),\n",
    " ('Gi', 'Gi', 'Gx'),\n",
    " ('Gi', 'Gi', 'Gm'),\n",
    " ('Gi', 'Gy', 'Gy'),\n",
    " ('Gi', 'Gy', 'Gx'),\n",
    " ('Gi', 'Gy', 'Gm'),\n",
    " ('Gi', 'Gx', 'Gy'),\n",
    " ('Gi', 'Gx', 'Gx'),\n",
    " ('Gi', 'Gx', 'Gm'),\n",
    " ('Gi', 'Gm', 'Gy'),\n",
    " ('Gi', 'Gm', 'Gx'),\n",
    " ('Gi', 'Gm', 'Gm'),\n",
    " ('Gy', 'Gy', 'Gx'),\n",
    " ('Gy', 'Gy', 'Gm'),\n",
    " ('Gy', 'Gx', 'Gx'),\n",
    " ('Gy', 'Gx', 'Gm'),\n",
    " ('Gy', 'Gm', 'Gx'),\n",
    " ('Gy', 'Gm', 'Gm'),\n",
    " ('Gx', 'Gx', 'Gm'),\n",
    " ('Gx', 'Gm', 'Gm')])"
   ]
  },
  {
   "cell_type": "code",
   "execution_count": 4,
   "metadata": {
    "collapsed": false,
    "deletable": true,
    "editable": true
   },
   "outputs": [],
   "source": [
    "#Note above construction is now a \"standard\" qutrit gateset\n",
    "from pygsti.construction import stdQT_XYIMS\n",
    "gs_target = stdQT_XYIMS.gs_target\n",
    "fiducialPrep = stdQT_XYIMS.prepStrs\n",
    "fiducialMeasure = stdQT_XYIMS.effectStrs\n",
    "germs = stdQT_XYIMS.germs_lite\n",
    "maxLengths = [1,2,4]"
   ]
  },
  {
   "cell_type": "code",
   "execution_count": 5,
   "metadata": {
    "collapsed": false,
    "deletable": true,
    "editable": true
   },
   "outputs": [
    {
     "name": "stdout",
     "output_type": "stream",
     "text": [
      "9 prep fiducials\n",
      "7 meas fiducials\n",
      "30 germs\n"
     ]
    }
   ],
   "source": [
    "print(\"%d prep fiducials\" % len(fiducialPrep))\n",
    "print(\"%d meas fiducials\" % len(fiducialMeasure))\n",
    "print(\"%d germs\" % len(germs))"
   ]
  },
  {
   "cell_type": "code",
   "execution_count": 6,
   "metadata": {
    "collapsed": false,
    "deletable": true,
    "editable": true
   },
   "outputs": [],
   "source": [
    "#generate data template\n",
    "expList = pygsti.construction.make_lsgst_experiment_list(gs_target.gates.keys(), fiducialPrep, fiducialMeasure, germs,  maxLengths)\n",
    "pygsti.io.write_empty_dataset(\"example_files/dataTemplate_qutrit_maxL=4.txt\", expList, \"## Columns = 0bright count, 1bright count, 2bright count\")"
   ]
  },
  {
   "cell_type": "markdown",
   "metadata": {
    "collapsed": true,
    "deletable": true,
    "editable": true
   },
   "source": [
    "At this point **STOP** and create/fill a dataset file using the template written in the above cell.  Then proceed with the lines below to run GST on the data and create (hopefully useful) reports telling you about your gates."
   ]
  },
  {
   "cell_type": "code",
   "execution_count": 7,
   "metadata": {
    "collapsed": false,
    "deletable": true,
    "editable": true
   },
   "outputs": [],
   "source": [
    "gs_datagen = gs_target.depolarize(gate_noise=0.05)\n",
    "DS = pygsti.construction.generate_fake_data(gs_datagen, expList, 500, sampleError='multinomial', seed=1234)"
   ]
  },
  {
   "cell_type": "code",
   "execution_count": 8,
   "metadata": {
    "collapsed": false,
    "deletable": true,
    "editable": true
   },
   "outputs": [],
   "source": [
    "#DS = pygsti.io.load_dataset('PATH_TO_YOUR_DATASET',cache=True) # (cache=True speeds up future loads)"
   ]
  },
  {
   "cell_type": "code",
   "execution_count": 9,
   "metadata": {
    "collapsed": false,
    "deletable": true,
    "editable": true,
    "scrolled": true
   },
   "outputs": [
    {
     "name": "stdout",
     "output_type": "stream",
     "text": [
      "-- Std Practice:  Iter 1 of 2  (TP) --: \n",
      "  --- Gate Sequence Creation ---\n",
      "   1977 sequences created\n",
      "   Dataset has 1977 entries: 1977 utilized, 0 requested sequences were missing\n",
      "  --- LGST ---\n",
      "  --- Iterative MLGST: [##################################################] 100.0%  1977 gate strings ---\n",
      "  Iterative MLGST Total Time: 52.5s\n",
      "  -- Performing 'Spam 0.001' gauge optimization on TP estimate --\n",
      "  -- Done gauge optimizing (0.0610738s) -- \n",
      "  -- Performing 'Spam 0.001+v' gauge optimization on TP estimate --\n",
      "  -- Done gauge optimizing (0.696706s) -- \n",
      "-- Std Practice:  Iter 2 of 2  (CPTP) --: \n",
      "  --- Gate Sequence Creation ---\n",
      "   1977 sequences created\n",
      "   Dataset has 1977 entries: 1977 utilized, 0 requested sequences were missing\n",
      "  --- Iterative MLGST: [##################################################] 100.0%  1977 gate strings ---\n",
      "  Iterative MLGST Total Time: 718.5s\n",
      "  -- Performing 'Spam 0.001' gauge optimization on CPTP estimate --\n",
      "  -- Done gauge optimizing (1.0291s) -- \n",
      "  -- Performing 'Spam 0.001+v' gauge optimization on CPTP estimate --\n",
      "  -- Done gauge optimizing (0.894636s) -- \n"
     ]
    }
   ],
   "source": [
    "#Run qutrit GST... which could take a while on a single CPU.  Please adjust memLimit to machine specs \n",
    "# (now 3GB; usually set to slightly less than the total machine memory)\n",
    "result = pygsti.do_stdpractice_gst(DS,gs_target,fiducialPrep,fiducialMeasure,germs,maxLengths,\n",
    "                                     verbosity=2, comm=None, memLimit=3*(1024)**3, modes=\"TP,CPTP\")"
   ]
  },
  {
   "cell_type": "code",
   "execution_count": 10,
   "metadata": {
    "collapsed": false,
    "deletable": true,
    "editable": true
   },
   "outputs": [
    {
     "name": "stdout",
     "output_type": "stream",
     "text": [
      "*** Creating workspace ***\n",
      "*** Generating switchboard ***\n",
      "*** Generating tables ***\n",
      "  targetSpamBriefTable                          took 0.032702 seconds\n",
      "  targetGatesBoxTable                           took 0.078511 seconds\n",
      "  datasetOverviewTable                          took 0.020173 seconds\n",
      "  bestGatesetSpamParametersTable                took 0.004836 seconds\n"
     ]
    },
    {
     "name": "stderr",
     "output_type": "stream",
     "text": [
      "/Users/enielse/research/pyGSTi/packages/pygsti/tools/gatetools.py:1663: UserWarning:\n",
      "\n",
      "Target-eigenspace-projected gate has an imaginary component.  This usually isn't desired and indicates a failure to match eigenvalues.\n",
      "\n",
      "/Users/enielse/research/pyGSTi/packages/pygsti/objects/gate.py:917: ComplexWarning:\n",
      "\n",
      "Casting complex values to real discards the imaginary part\n",
      "\n"
     ]
    },
    {
     "name": "stdout",
     "output_type": "stream",
     "text": [
      "  bestGatesetSpamBriefTable                     took 0.16783 seconds\n",
      "  bestGatesetSpamVsTargetTable                  took 0.642895 seconds\n",
      "  bestGatesetGaugeOptParamsTable                took 0.000476 seconds\n",
      "  bestGatesetGatesBoxTable                      took 0.162851 seconds\n",
      "  bestGatesetChoiEvalTable                      took 0.083399 seconds\n",
      "  bestGatesetDecompTable                        took 34.02265 seconds\n",
      "  bestGatesetEvalTable                          took 0.012201 seconds\n",
      "  bestGermsEvalTable                            took 0.062015 seconds\n",
      "  bestGatesetVsTargetTable                      took 0.449206 seconds\n"
     ]
    },
    {
     "name": "stderr",
     "output_type": "stream",
     "text": [
      "/Users/enielse/research/pyGSTi/packages/pygsti/extras/rb/rbutils.py:366: UserWarning:\n",
      "\n",
      "Predicted RB decay parameter / error rate may be unreliable:\n",
      "There is more than one significant exponential in RB decay.\n",
      "\n"
     ]
    },
    {
     "name": "stdout",
     "output_type": "stream",
     "text": [
      "  bestGatesVsTargetTable_gv                     took 2.492449 seconds\n",
      "  bestGatesVsTargetTable_gvgerms                took 0.242461 seconds\n",
      "  bestGatesVsTargetTable_gi                     took 0.044826 seconds\n",
      "  bestGatesVsTargetTable_gigerms                took 0.095035 seconds\n",
      "  bestGatesVsTargetTable_sum                    took 2.545282 seconds\n",
      "  bestGatesetErrGenBoxTable                     took 0.865616 seconds\n",
      "  metadataTable                                 took 0.058005 seconds\n",
      "  softwareEnvTable                              took 0.045497 seconds\n",
      "  exampleTable                                  took 0.007864 seconds\n",
      "  fiducialListTable                             took 0.00074 seconds\n",
      "  prepStrListTable                              took 0.000373 seconds\n",
      "  effectStrListTable                            took 0.000198 seconds\n",
      "  colorBoxPlotKeyPlot                           took 0.0098 seconds\n",
      "  germList2ColTable                             took 0.000421 seconds\n",
      "  progressTable                                 took 0.596023 seconds\n",
      "*** Generating plots ***\n",
      "  gramBarPlot                                   took 0.088258 seconds\n",
      "  progressBarPlot                               took 0.418781 seconds\n",
      "  progressBarPlot_sum                           took 0.000409 seconds\n",
      "  dataScalingColorBoxPlot                       took 0.165868 seconds\n",
      "  bestEstimateColorBoxPlotPages                 took 1.529128 seconds\n",
      "  bestEstimateColorScatterPlot                  took 3.808399 seconds\n",
      "  bestEstimateColorHistogram                    took 1.399938 seconds\n",
      "*** Merging into template file ***\n",
      "    Rendering germList2ColTable\n",
      "    Rendering maxLSwitchboard1\n",
      "    Rendering bestGatesVsTargetTable_gvgerms\n",
      "    Rendering bestGatesetSpamBriefTable\n",
      "    Rendering bestGatesetGaugeOptParamsTable\n",
      "    Rendering targetGatesBoxTable\n",
      "    Rendering dataScalingColorBoxPlot\n",
      "    Rendering bestGatesetDecompTable\n",
      "    Rendering progressTable\n",
      "    Rendering colorBoxPlotKeyPlot\n",
      "    Rendering bestGatesVsTargetTable_gv\n",
      "    Rendering bestGatesetChoiEvalTable\n",
      "    Rendering bestGatesVsTargetTable_gigerms\n",
      "    Rendering progressBarPlot\n",
      "    Rendering bestGatesVsTargetTable_gi\n",
      "    Rendering bestGatesetErrGenBoxTable\n",
      "    Rendering progressBarPlot_sum\n",
      "    Rendering datasetOverviewTable\n",
      "    Rendering metadataTable\n",
      "    Rendering bestGatesetSpamParametersTable\n",
      "    Rendering effectStrListTable\n",
      "    Rendering topSwitchboard\n",
      "    Rendering bestEstimateColorScatterPlot\n",
      "    Rendering bestGatesVsTargetTable_sum\n",
      "    Rendering bestGatesetVsTargetTable\n",
      "    Rendering bestGatesetSpamVsTargetTable\n",
      "    Rendering bestEstimateColorHistogram\n",
      "    Rendering gramBarPlot\n",
      "    Rendering softwareEnvTable\n",
      "    Rendering targetSpamBriefTable\n",
      "    Rendering exampleTable\n",
      "    Rendering prepStrListTable\n",
      "    Rendering bestEstimateColorBoxPlotPages\n",
      "    Rendering bestGatesetEvalTable\n",
      "    Rendering fiducialListTable\n",
      "    Rendering bestGermsEvalTable\n",
      "    Rendering bestGatesetGatesBoxTable\n",
      "Output written to example_files/sampleQutritReport directory\n",
      "Opening example_files/sampleQutritReport/main.html...\n",
      "*** Report Generation Complete!  Total time 52.5391s ***\n"
     ]
    }
   ],
   "source": [
    "#Create a report\n",
    "ws = pygsti.report.create_standard_report(result, \"example_files/sampleQutritReport\",\n",
    "                                         \"Example Qutrit Report\", verbosity=3, auto_open=True)"
   ]
  },
  {
   "cell_type": "code",
   "execution_count": null,
   "metadata": {
    "collapsed": false,
    "deletable": true,
    "editable": true
   },
   "outputs": [],
   "source": []
  }
 ],
 "metadata": {
  "kernelspec": {
   "display_name": "Python 3",
   "language": "python",
   "name": "python3"
  },
  "language_info": {
   "codemirror_mode": {
    "name": "ipython",
    "version": 3
   },
   "file_extension": ".py",
   "mimetype": "text/x-python",
   "name": "python",
   "nbconvert_exporter": "python",
   "pygments_lexer": "ipython3",
   "version": "3.5.2"
  }
 },
 "nbformat": 4,
 "nbformat_minor": 0
}
