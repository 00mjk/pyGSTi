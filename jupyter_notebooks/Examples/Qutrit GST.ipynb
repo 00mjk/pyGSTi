{
 "cells": [
  {
   "cell_type": "markdown",
   "metadata": {},
   "source": [
    "# Example for qutrit GST\n",
    "This notebook demonstrates how to construct the operation sequences and perform the analysis for qutrit GST when the model consists of symmetric $\\pi/2$-rotations on each single qubit separately, `X`, `Y` and a 2-qubit Molmer-Sorenson gate which rotates around the `XX` axis by $\\pi/2$."
   ]
  },
  {
   "cell_type": "code",
   "execution_count": 1,
   "metadata": {},
   "outputs": [],
   "source": [
    "import pygsti\n",
    "import pygsti.construction as pc\n",
    "from pygsti.construction import qutrit\n",
    "\n",
    "from numpy import pi, array\n",
    "import pickle\n",
    "\n",
    "import numpy as np"
   ]
  },
  {
   "cell_type": "markdown",
   "metadata": {},
   "source": [
    "First, we construct the target model.  This functionality is built into pyGSTi, so we just need to specify the single-qubit and M-S angles."
   ]
  },
  {
   "cell_type": "code",
   "execution_count": 2,
   "metadata": {},
   "outputs": [],
   "source": [
    "target_model = qutrit.make_qutrit_model(errorScale=0, Xangle=pi/2, Yangle=pi/2, MSglobal=pi/2, MSlocal=0, basis=\"qt\")\n",
    "#print(target_model)"
   ]
  },
  {
   "cell_type": "markdown",
   "metadata": {},
   "source": [
    "Now construct the operation sequences needed by GST.  These fiducials and germs have been computed ahead of time and the results are used to construct the operation sequence lists below.  Then we construct an empty dataset containing all of the necessary experimental sequences which can serve as a template for the actual experimental results."
   ]
  },
  {
   "cell_type": "code",
   "execution_count": 3,
   "metadata": {},
   "outputs": [],
   "source": [
    "fiducialPrep = pc.circuit_list(\n",
    "    [(),('Gy',),('Gx',),('Gm',),\n",
    "    ('Gx','Gx'), ('Gm','Gy'),('Gm','Gx'),\n",
    "    ('Gy','Gy','Gy'),('Gx','Gx','Gx')])\n",
    "\n",
    "fiducialMeasure = pc.circuit_list(\n",
    "    [(),('Gy',),('Gx',),('Gm',),\n",
    "    ('Gy','Gm'),('Gx','Gm')])\n",
    "\n",
    "maxLengths = [1,2,4]\n",
    "\n",
    "germs = pygsti.construction.circuit_list(\n",
    "[('Gi',),\n",
    " ('Gy',),\n",
    " ('Gx',),\n",
    " ('Gm',),\n",
    " ('Gi', 'Gy'),\n",
    " ('Gi', 'Gx'),\n",
    " ('Gi', 'Gm'),\n",
    " ('Gy', 'Gx'),\n",
    " ('Gy', 'Gm'),\n",
    " ('Gx', 'Gm'),\n",
    " ('Gi', 'Gi', 'Gy'),\n",
    " ('Gi', 'Gi', 'Gx'),\n",
    " ('Gi', 'Gi', 'Gm'),\n",
    " ('Gi', 'Gy', 'Gy'),\n",
    " ('Gi', 'Gy', 'Gx'),\n",
    " ('Gi', 'Gy', 'Gm'),\n",
    " ('Gi', 'Gx', 'Gy'),\n",
    " ('Gi', 'Gx', 'Gx'),\n",
    " ('Gi', 'Gx', 'Gm'),\n",
    " ('Gi', 'Gm', 'Gy'),\n",
    " ('Gi', 'Gm', 'Gx'),\n",
    " ('Gi', 'Gm', 'Gm'),\n",
    " ('Gy', 'Gy', 'Gx'),\n",
    " ('Gy', 'Gy', 'Gm'),\n",
    " ('Gy', 'Gx', 'Gx'),\n",
    " ('Gy', 'Gx', 'Gm'),\n",
    " ('Gy', 'Gm', 'Gx'),\n",
    " ('Gy', 'Gm', 'Gm'),\n",
    " ('Gx', 'Gx', 'Gm'),\n",
    " ('Gx', 'Gm', 'Gm')])"
   ]
  },
  {
   "cell_type": "code",
   "execution_count": 4,
   "metadata": {},
   "outputs": [],
   "source": [
    "#Note above construction is now a \"standard\" qutrit model\n",
    "from pygsti.construction import stdQT_XYIMS\n",
    "target_model = stdQT_XYIMS.target_model\n",
    "fiducialPrep = stdQT_XYIMS.prepStrs\n",
    "fiducialMeasure = stdQT_XYIMS.effectStrs\n",
    "germs = stdQT_XYIMS.germs_lite\n",
    "maxLengths = [1,2,4]"
   ]
  },
  {
   "cell_type": "code",
   "execution_count": 5,
   "metadata": {},
   "outputs": [
    {
     "name": "stdout",
     "output_type": "stream",
     "text": [
      "9 prep fiducials\n",
      "7 meas fiducials\n",
      "31 germs\n"
     ]
    }
   ],
   "source": [
    "print(\"%d prep fiducials\" % len(fiducialPrep))\n",
    "print(\"%d meas fiducials\" % len(fiducialMeasure))\n",
    "print(\"%d germs\" % len(germs))"
   ]
  },
  {
   "cell_type": "code",
   "execution_count": 6,
   "metadata": {},
   "outputs": [],
   "source": [
    "#generate data template\n",
    "expList = pygsti.construction.make_lsgst_experiment_list(target_model.operations.keys(), fiducialPrep, fiducialMeasure, germs,  maxLengths)\n",
    "pygsti.io.write_empty_dataset(\"example_files/dataTemplate_qutrit_maxL=4.txt\", expList, \"## Columns = 0bright count, 1bright count, 2bright count\")"
   ]
  },
  {
   "cell_type": "markdown",
   "metadata": {
    "collapsed": true
   },
   "source": [
    "At this point **STOP** and create/fill a dataset file using the template written in the above cell.  Then proceed with the lines below to run GST on the data and create (hopefully useful) reports telling you about your gates."
   ]
  },
  {
   "cell_type": "code",
   "execution_count": 7,
   "metadata": {},
   "outputs": [],
   "source": [
    "mdl_datagen = target_model.depolarize(op_noise=0.05)\n",
    "DS = pygsti.construction.generate_fake_data(mdl_datagen, expList, 500, sampleError='multinomial', seed=2018)"
   ]
  },
  {
   "cell_type": "code",
   "execution_count": 8,
   "metadata": {},
   "outputs": [],
   "source": [
    "#DS = pygsti.io.load_dataset('PATH_TO_YOUR_DATASET',cache=True) # (cache=True speeds up future loads)"
   ]
  },
  {
   "cell_type": "code",
   "execution_count": 9,
   "metadata": {
    "scrolled": true
   },
   "outputs": [
    {
     "name": "stdout",
     "output_type": "stream",
     "text": [
      "-- Std Practice:  Iter 1 of 2  (TP) --: \n",
      "  --- Circuit Creation ---\n",
      "  --- LGST ---\n",
      "  --- Iterative MLGST: [##################################################] 100.0%  2017 operation sequences ---\n",
      "  Iterative MLGST Total Time: 32.1s\n",
      "  -- Performing 'single' gauge optimization on TP estimate --\n",
      "-- Std Practice:  Iter 2 of 2  (CPTP) --: \n",
      "  --- Circuit Creation ---\n",
      "  --- Iterative MLGST: [##################################################] 100.0%  2017 operation sequences ---\n",
      "  Iterative MLGST Total Time: 494.5s\n",
      "  --- Re-optimizing logl after robust data scaling ---\n",
      "  -- Performing 'single' gauge optimization on CPTP estimate --\n",
      "  -- Conveying 'single' gauge optimization to CPTP.Robust+ estimate --\n"
     ]
    }
   ],
   "source": [
    "#Run qutrit GST... which could take a while on a single CPU.  Please adjust memLimit to machine specs \n",
    "# (now 3GB; usually set to slightly less than the total machine memory)\n",
    "result = pygsti.do_stdpractice_gst(DS,target_model,fiducialPrep,fiducialMeasure,germs,maxLengths,\n",
    "                                     verbosity=2, comm=None, memLimit=3*(1024)**3, modes=\"TP,CPTP\")"
   ]
  },
  {
   "cell_type": "code",
   "execution_count": 10,
   "metadata": {},
   "outputs": [
    {
     "name": "stdout",
     "output_type": "stream",
     "text": [
      "*** Creating workspace ***\n",
      "*** Generating switchboard ***\n"
     ]
    },
    {
     "name": "stderr",
     "output_type": "stream",
     "text": [
      "/Users/enielse/research/pyGSTi/packages/pygsti/report/factory.py:813: UserWarning:\n",
      "\n",
      "Idle tomography failed:\n",
      "operands could not be broadcast together with shapes (9,) (16,) \n",
      "\n"
     ]
    },
    {
     "name": "stdout",
     "output_type": "stream",
     "text": [
      "*** Generating tables ***\n"
     ]
    },
    {
     "name": "stderr",
     "output_type": "stream",
     "text": [
      "/Users/enielse/research/pyGSTi/packages/pygsti/objects/operation.py:967: ComplexWarning:\n",
      "\n",
      "Casting complex values to real discards the imaginary part\n",
      "\n"
     ]
    },
    {
     "name": "stdout",
     "output_type": "stream",
     "text": [
      "  targetSpamBriefTable                          took 0.736221 seconds\n",
      "  targetGatesBoxTable                           took 0.401213 seconds\n",
      "  datasetOverviewTable                          took 0.071408 seconds\n",
      "  bestGatesetSpamParametersTable                took 0.094217 seconds\n",
      "  bestGatesetSpamBriefTable                     took 0.447893 seconds\n",
      "  bestGatesetSpamVsTargetTable                  took 0.408997 seconds\n",
      "  bestGatesetGaugeOptParamsTable                took 0.000762 seconds\n",
      "  bestGatesetGatesBoxTable                      took 0.467738 seconds\n",
      "  bestGatesetChoiEvalTable                      took 0.850004 seconds\n",
      "  bestGatesetDecompTable                        took 21.407928 seconds\n",
      "  bestGatesetEvalTable                          took 0.016746 seconds\n",
      "  bestGermsEvalTable                            took 0.10649 seconds\n",
      "  bestGatesetVsTargetTable                      took 0.0085 seconds\n",
      "  bestGatesVsTargetTable_gv                     took 1.593873 seconds\n",
      "  bestGatesVsTargetTable_gvgerms                took 0.820781 seconds\n",
      "  bestGatesVsTargetTable_gi                     took 0.074132 seconds\n",
      "  bestGatesVsTargetTable_gigerms                took 0.142411 seconds\n",
      "  bestGatesVsTargetTable_sum                    took 1.505456 seconds\n",
      "  bestGatesetErrGenBoxTable                     took 1.941569 seconds\n",
      "  metadataTable                                 took 0.000973 seconds\n",
      "  stdoutBlock                                   took 0.000171 seconds\n",
      "  profilerTable                                 took 0.001211 seconds\n",
      "  softwareEnvTable                              took 0.030083 seconds\n",
      "  exampleTable                                  took 0.046604 seconds\n",
      "  singleMetricTable_gv                          took 1.558914 seconds\n",
      "  singleMetricTable_gi                          took 0.071853 seconds\n",
      "  fiducialListTable                             took 0.000787 seconds\n",
      "  prepStrListTable                              took 0.000218 seconds\n",
      "  effectStrListTable                            took 0.000127 seconds\n",
      "  colorBoxPlotKeyPlot                           took 0.055629 seconds\n",
      "  germList2ColTable                             took 0.000588 seconds\n",
      "  progressTable                                 took 2.961004 seconds\n",
      "*** Generating plots ***\n",
      "  gramBarPlot                                   took 0.137311 seconds\n",
      "  progressBarPlot                               took 0.288422 seconds\n",
      "  progressBarPlot_sum                           took 0.000721 seconds\n",
      "  finalFitComparePlot                           took 0.112272 seconds\n",
      "  bestEstimateColorBoxPlot                      took 13.904698 seconds\n",
      "  bestEstimateTVDColorBoxPlot                   took 13.791862 seconds\n",
      "  bestEstimateColorScatterPlot                  took 15.501041 seconds\n",
      "  bestEstimateColorHistogram                    took 13.31628 seconds\n",
      "  progressTable_scl                             took 1.749004 seconds\n",
      "  progressBarPlot_scl                           took 0.152099 seconds\n",
      "  bestEstimateColorBoxPlot_scl                  took 7.041139 seconds\n",
      "  bestEstimateColorScatterPlot_scl              took 7.703546 seconds\n",
      "  bestEstimateColorHistogram_scl                took 6.411447 seconds\n",
      "  dataScalingColorBoxPlot                       took 0.400628 seconds\n",
      "*** Merging into template file ***\n",
      "  Rendering topSwitchboard                      took 0.000118 seconds\n",
      "  Rendering maxLSwitchboard1                    took 8.5e-05 seconds\n",
      "  Rendering targetSpamBriefTable                took 0.224819 seconds\n",
      "  Rendering targetGatesBoxTable                 took 0.212463 seconds\n",
      "  Rendering datasetOverviewTable                took 0.001276 seconds\n",
      "  Rendering bestGatesetSpamParametersTable      took 0.003211 seconds\n",
      "  Rendering bestGatesetSpamBriefTable           took 0.459539 seconds\n",
      "  Rendering bestGatesetSpamVsTargetTable        took 0.003854 seconds\n",
      "  Rendering bestGatesetGaugeOptParamsTable      took 0.002106 seconds\n",
      "  Rendering bestGatesetGatesBoxTable            took 0.657976 seconds\n",
      "  Rendering bestGatesetChoiEvalTable            took 0.366223 seconds\n",
      "  Rendering bestGatesetDecompTable              took 0.245729 seconds\n",
      "  Rendering bestGatesetEvalTable                took 0.046096 seconds\n",
      "  Rendering bestGermsEvalTable                  took 0.319104 seconds\n",
      "  Rendering bestGatesetVsTargetTable            took 0.001847 seconds\n",
      "  Rendering bestGatesVsTargetTable_gv           took 0.008197 seconds\n",
      "  Rendering bestGatesVsTargetTable_gvgerms      took 0.030516 seconds\n",
      "  Rendering bestGatesVsTargetTable_gi           took 0.006219 seconds\n",
      "  Rendering bestGatesVsTargetTable_gigerms      took 0.012692 seconds\n",
      "  Rendering bestGatesVsTargetTable_sum          took 0.007564 seconds\n",
      "  Rendering bestGatesetErrGenBoxTable           took 0.898198 seconds\n",
      "  Rendering metadataTable                       took 0.005003 seconds\n",
      "  Rendering stdoutBlock                         took 0.001912 seconds\n",
      "  Rendering profilerTable                       took 0.00359 seconds\n",
      "  Rendering softwareEnvTable                    took 0.002906 seconds\n",
      "  Rendering exampleTable                        took 0.024431 seconds\n",
      "  Rendering metricSwitchboard_gv                took 4.5e-05 seconds\n",
      "  Rendering metricSwitchboard_gi                took 3.4e-05 seconds\n",
      "  Rendering singleMetricTable_gv                took 0.012031 seconds\n",
      "  Rendering singleMetricTable_gi                took 0.00804 seconds\n",
      "  Rendering fiducialListTable                   took 0.004394 seconds\n",
      "  Rendering prepStrListTable                    took 0.003426 seconds\n",
      "  Rendering effectStrListTable                  took 0.002781 seconds\n",
      "  Rendering colorBoxPlotKeyPlot                 took 0.028195 seconds\n",
      "  Rendering germList2ColTable                   took 0.008139 seconds\n",
      "  Rendering progressTable                       took 0.005558 seconds\n",
      "  Rendering gramBarPlot                         took 0.049489 seconds\n",
      "  Rendering progressBarPlot                     took 0.04144 seconds\n",
      "  Rendering progressBarPlot_sum                 took 0.042661 seconds\n",
      "  Rendering finalFitComparePlot                 took 0.021801 seconds\n",
      "  Rendering bestEstimateColorBoxPlot            took 0.264064 seconds\n",
      "  Rendering bestEstimateTVDColorBoxPlot         took 0.254773 seconds\n",
      "  Rendering bestEstimateColorScatterPlot        took 0.415825 seconds\n",
      "  Rendering bestEstimateColorHistogram          took 0.223379 seconds\n",
      "  Rendering progressTable_scl                   took 0.003413 seconds\n",
      "  Rendering progressBarPlot_scl                 took 0.022031 seconds\n",
      "  Rendering bestEstimateColorBoxPlot_scl        took 0.13383 seconds\n",
      "  Rendering bestEstimateColorScatterPlot_scl    took 0.220361 seconds\n",
      "  Rendering bestEstimateColorHistogram_scl      took 0.121596 seconds\n",
      "  Rendering dataScalingColorBoxPlot             took 0.069543 seconds\n",
      "Output written to example_files/sampleQutritReport directory\n",
      "Opening example_files/sampleQutritReport/main.html...\n",
      "*** Report Generation Complete!  Total time 123.021s ***\n"
     ]
    }
   ],
   "source": [
    "#Create a report\n",
    "ws = pygsti.report.create_standard_report(result, \"example_files/sampleQutritReport\",\n",
    "                                         \"Example Qutrit Report\", verbosity=3, auto_open=True)"
   ]
  },
  {
   "cell_type": "code",
   "execution_count": 11,
   "metadata": {},
   "outputs": [
    {
     "name": "stdout",
     "output_type": "stream",
     "text": [
      "Qutrit Basis : II, X+Y, X-Y, YZ, IX, IY, IZ, XY, XZ\n"
     ]
    }
   ],
   "source": [
    "print(target_model.basis)"
   ]
  },
  {
   "cell_type": "code",
   "execution_count": null,
   "metadata": {},
   "outputs": [],
   "source": []
  }
 ],
 "metadata": {
  "kernelspec": {
   "display_name": "Python 3",
   "language": "python",
   "name": "python3"
  },
  "language_info": {
   "codemirror_mode": {
    "name": "ipython",
    "version": 3
   },
   "file_extension": ".py",
   "mimetype": "text/x-python",
   "name": "python",
   "nbconvert_exporter": "python",
   "pygments_lexer": "ipython3",
   "version": "3.7.0"
  }
 },
 "nbformat": 4,
 "nbformat_minor": 1
}
