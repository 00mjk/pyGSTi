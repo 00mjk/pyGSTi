{
 "cells": [
  {
   "cell_type": "markdown",
   "metadata": {
    "deletable": true,
    "editable": true
   },
   "source": [
    "# Example for qutrit GST\n",
    "This notebook demonstrates how to construct the gate sequences and perform the analysis for qutrit GST when the gate set consists of symmetric $\\pi/2$-rotations on each single qubit separately, `X`, `Y` and a 2-qubit Molmer-Sorenson gate which rotates around the `XX` axis by $\\pi/2$."
   ]
  },
  {
   "cell_type": "code",
   "execution_count": 1,
   "metadata": {
    "collapsed": false,
    "deletable": true,
    "editable": true
   },
   "outputs": [],
   "source": [
    "import pygsti\n",
    "import pygsti.construction as pc\n",
    "from pygsti.construction import qutrit\n",
    "\n",
    "from numpy import pi, array\n",
    "import pickle\n",
    "\n",
    "import numpy as np"
   ]
  },
  {
   "cell_type": "markdown",
   "metadata": {
    "deletable": true,
    "editable": true
   },
   "source": [
    "First, we construct the target gate set.  This functionality is built into pyGSTi, so we just need to specify the single-qubit and M-S angles."
   ]
  },
  {
   "cell_type": "code",
   "execution_count": 2,
   "metadata": {
    "collapsed": false,
    "deletable": true,
    "editable": true
   },
   "outputs": [],
   "source": [
    "gs_target = qutrit.make_qutrit_gateset(errorScale=0, Xangle=pi/2, Yangle=pi/2, MSglobal=pi/2, MSlocal=0, basis=\"qt\")\n",
    "#print(gs_target)"
   ]
  },
  {
   "cell_type": "markdown",
   "metadata": {
    "deletable": true,
    "editable": true
   },
   "source": [
    "Now construct the gate sequences needed by GST.  These fiducials and germs have been computed ahead of time and the results are used to construct the gate string lists below.  Then we construct an empty dataset containing all of the necessary experimental sequences which can serve as a template for the actual experimental results."
   ]
  },
  {
   "cell_type": "code",
   "execution_count": 3,
   "metadata": {
    "collapsed": false,
    "deletable": true,
    "editable": true
   },
   "outputs": [],
   "source": [
    "fiducialPrep = pc.gatestring_list(\n",
    "    [(),('Gy',),('Gx',),('Gm',),\n",
    "    ('Gx','Gx'), ('Gm','Gy'),('Gm','Gx'),\n",
    "    ('Gy','Gy','Gy'),('Gx','Gx','Gx')])\n",
    "\n",
    "fiducialMeasure = pc.gatestring_list(\n",
    "    [(),('Gy',),('Gx',),('Gm',),\n",
    "    ('Gy','Gm'),('Gx','Gm')])\n",
    "\n",
    "maxLengths = [1,2,4]\n",
    "\n",
    "germs = pygsti.construction.gatestring_list(\n",
    "[('Gi',),\n",
    " ('Gy',),\n",
    " ('Gx',),\n",
    " ('Gm',),\n",
    " ('Gi', 'Gy'),\n",
    " ('Gi', 'Gx'),\n",
    " ('Gi', 'Gm'),\n",
    " ('Gy', 'Gx'),\n",
    " ('Gy', 'Gm'),\n",
    " ('Gx', 'Gm'),\n",
    " ('Gi', 'Gi', 'Gy'),\n",
    " ('Gi', 'Gi', 'Gx'),\n",
    " ('Gi', 'Gi', 'Gm'),\n",
    " ('Gi', 'Gy', 'Gy'),\n",
    " ('Gi', 'Gy', 'Gx'),\n",
    " ('Gi', 'Gy', 'Gm'),\n",
    " ('Gi', 'Gx', 'Gy'),\n",
    " ('Gi', 'Gx', 'Gx'),\n",
    " ('Gi', 'Gx', 'Gm'),\n",
    " ('Gi', 'Gm', 'Gy'),\n",
    " ('Gi', 'Gm', 'Gx'),\n",
    " ('Gi', 'Gm', 'Gm'),\n",
    " ('Gy', 'Gy', 'Gx'),\n",
    " ('Gy', 'Gy', 'Gm'),\n",
    " ('Gy', 'Gx', 'Gx'),\n",
    " ('Gy', 'Gx', 'Gm'),\n",
    " ('Gy', 'Gm', 'Gx'),\n",
    " ('Gy', 'Gm', 'Gm'),\n",
    " ('Gx', 'Gx', 'Gm'),\n",
    " ('Gx', 'Gm', 'Gm')])"
   ]
  },
  {
   "cell_type": "code",
   "execution_count": 4,
   "metadata": {
    "collapsed": false,
    "deletable": true,
    "editable": true
   },
   "outputs": [],
   "source": [
    "#Note above construction is now a \"standard\" qutrit gateset\n",
    "from pygsti.construction import stdQT_XYIMS\n",
    "gs_target = stdQT_XYIMS.gs_target\n",
    "fiducialPrep = stdQT_XYIMS.prepStrs\n",
    "fiducialMeasure = stdQT_XYIMS.effectStrs\n",
    "germs = stdQT_XYIMS.germs_lite\n",
    "maxLengths = [1,2,4]"
   ]
  },
  {
   "cell_type": "code",
   "execution_count": 5,
   "metadata": {
    "collapsed": false,
    "deletable": true,
    "editable": true
   },
   "outputs": [
    {
     "name": "stdout",
     "output_type": "stream",
     "text": [
      "9 prep fiducials\n",
      "7 meas fiducials\n",
      "31 germs\n"
     ]
    }
   ],
   "source": [
    "print(\"%d prep fiducials\" % len(fiducialPrep))\n",
    "print(\"%d meas fiducials\" % len(fiducialMeasure))\n",
    "print(\"%d germs\" % len(germs))"
   ]
  },
  {
   "cell_type": "code",
   "execution_count": 6,
   "metadata": {
    "collapsed": false,
    "deletable": true,
    "editable": true
   },
   "outputs": [],
   "source": [
    "#generate data template\n",
    "expList = pygsti.construction.make_lsgst_experiment_list(gs_target.gates.keys(), fiducialPrep, fiducialMeasure, germs,  maxLengths)\n",
    "pygsti.io.write_empty_dataset(\"example_files/dataTemplate_qutrit_maxL=4.txt\", expList, \"## Columns = 0bright count, 1bright count, 2bright count\")"
   ]
  },
  {
   "cell_type": "markdown",
   "metadata": {
    "collapsed": true,
    "deletable": true,
    "editable": true
   },
   "source": [
    "At this point **STOP** and create/fill a dataset file using the template written in the above cell.  Then proceed with the lines below to run GST on the data and create (hopefully useful) reports telling you about your gates."
   ]
  },
  {
   "cell_type": "code",
   "execution_count": 7,
   "metadata": {
    "collapsed": false,
    "deletable": true,
    "editable": true
   },
   "outputs": [],
   "source": [
    "gs_datagen = gs_target.depolarize(gate_noise=0.05)\n",
    "DS = pygsti.construction.generate_fake_data(gs_datagen, expList, 500, sampleError='multinomial', seed=1234)"
   ]
  },
  {
   "cell_type": "code",
   "execution_count": 8,
   "metadata": {
    "collapsed": false,
    "deletable": true,
    "editable": true
   },
   "outputs": [],
   "source": [
    "#DS = pygsti.io.load_dataset('PATH_TO_YOUR_DATASET',cache=True) # (cache=True speeds up future loads)"
   ]
  },
  {
   "cell_type": "code",
   "execution_count": 9,
   "metadata": {
    "collapsed": false,
    "deletable": true,
    "editable": true,
    "scrolled": true
   },
   "outputs": [
    {
     "name": "stdout",
     "output_type": "stream",
     "text": [
      "-- Std Practice:  Iter 1 of 2  (TP) --: \n",
      "  --- Gate Sequence Creation ---\n",
      "  --- LGST ---\n",
      "  --- Iterative MLGST: [##################################################] 100.0%  2017 gate strings ---\n",
      "  Iterative MLGST Total Time: 120.8s\n",
      "  -- Performing 'single' gauge optimization on TP estimate --\n",
      "-- Std Practice:  Iter 2 of 2  (CPTP) --: \n",
      "  --- Gate Sequence Creation ---\n",
      "  --- Iterative MLGST: [##################################################] 100.0%  2017 gate strings ---\n",
      "  Iterative MLGST Total Time: 275.3s\n",
      "  -- Performing 'single' gauge optimization on CPTP estimate --\n"
     ]
    }
   ],
   "source": [
    "#Run qutrit GST... which could take a while on a single CPU.  Please adjust memLimit to machine specs \n",
    "# (now 3GB; usually set to slightly less than the total machine memory)\n",
    "result = pygsti.do_stdpractice_gst(DS,gs_target,fiducialPrep,fiducialMeasure,germs,maxLengths,\n",
    "                                     verbosity=2, comm=None, memLimit=3*(1024)**3, modes=\"TP,CPTP\")"
   ]
  },
  {
   "cell_type": "code",
   "execution_count": 10,
   "metadata": {
    "collapsed": false,
    "deletable": true,
    "editable": true
   },
   "outputs": [
    {
     "name": "stdout",
     "output_type": "stream",
     "text": [
      "*** Creating workspace ***\n",
      "*** Generating switchboard ***\n",
      "*** Generating tables ***\n",
      "  targetSpamBriefTable                          took 0.065646 seconds\n",
      "  targetGatesBoxTable                           took 0.146207 seconds\n",
      "  datasetOverviewTable                          took 0.062358 seconds\n",
      "  bestGatesetSpamParametersTable                took 0.001395 seconds\n",
      "  bestGatesetSpamBriefTable                     took 0.162906 seconds\n",
      "  bestGatesetSpamVsTargetTable                  took 0.482062 seconds\n",
      "  bestGatesetGaugeOptParamsTable                took 0.001571 seconds\n",
      "  bestGatesetGatesBoxTable                      took 0.165405 seconds\n",
      "  bestGatesetChoiEvalTable                      took 0.32689 seconds\n",
      "  bestGatesetDecompTable                        took 29.602928 seconds\n",
      "  bestGatesetEvalTable                          took 0.02539 seconds\n",
      "  bestGermsEvalTable                            took 0.222542 seconds\n",
      "  bestGatesetVsTargetTable                      took 1.270727 seconds\n",
      "  bestGatesVsTargetTable_gv                     took 2.373783 seconds\n",
      "  bestGatesVsTargetTable_gvgerms                took 0.338869 seconds\n",
      "  bestGatesVsTargetTable_gi                     took 0.116658 seconds\n",
      "  bestGatesVsTargetTable_gigerms                took 0.276472 seconds\n",
      "  bestGatesVsTargetTable_sum                    took 2.345477 seconds\n",
      "  bestGatesetErrGenBoxTable                     took 0.82872 seconds\n",
      "  metadataTable                                 took 0.003788 seconds\n",
      "  stdoutBlock                                   took 0.000344 seconds\n",
      "  profilerTable                                 took 0.00221 seconds\n",
      "  softwareEnvTable                              took 0.05781 seconds\n",
      "  exampleTable                                  took 0.018741 seconds\n",
      "  singleMetricTable_gv                          took 2.183311 seconds\n",
      "  singleMetricTable_gi                          took 0.092607 seconds\n",
      "  fiducialListTable                             took 0.000927 seconds\n",
      "  prepStrListTable                              took 0.000395 seconds\n",
      "  effectStrListTable                            took 0.000334 seconds\n",
      "  colorBoxPlotKeyPlot                           took 0.016688 seconds\n",
      "  germList2ColTable                             took 0.001053 seconds\n",
      "  progressTable                                 took 2.636509 seconds\n",
      "*** Generating plots ***\n",
      "  gramBarPlot                                   took 0.133372 seconds\n",
      "  progressBarPlot                               took 0.500823 seconds\n",
      "  progressBarPlot_sum                           took 0.000514 seconds\n",
      "  finalFitComparePlot                           took 0.260283 seconds\n",
      "  bestEstimateColorBoxPlot                      took 23.476851 seconds\n",
      "  bestEstimateTVDColorBoxPlot                   took 23.336744 seconds\n",
      "  bestEstimateColorScatterPlot                  took 25.185181 seconds\n",
      "  bestEstimateColorHistogram                    took 23.520326 seconds\n",
      "  progressTable_scl                             took 0.000153 seconds\n",
      "  progressBarPlot_scl                           took 9.2e-05 seconds\n",
      "  bestEstimateColorBoxPlot_scl                  took 0.000167 seconds\n",
      "  bestEstimateColorScatterPlot_scl              took 0.000164 seconds\n",
      "  bestEstimateColorHistogram_scl                took 0.000161 seconds\n",
      "  dataScalingColorBoxPlot                       took 9e-05 seconds\n",
      "*** Merging into template file ***\n",
      "  Rendering germList2ColTable                   took 0.011374 seconds\n",
      "  Rendering colorBoxPlotKeyPlot                 took 0.015242 seconds\n",
      "  Rendering progressBarPlot_sum                 took 0.007519 seconds\n",
      "  Rendering softwareEnvTable                    took 0.005112 seconds\n",
      "  Rendering bestGatesVsTargetTable_gv           took 0.010862 seconds\n",
      "  Rendering bestGatesetGatesBoxTable            took 0.134935 seconds\n",
      "  Rendering bestEstimateColorBoxPlot            took 0.067857 seconds\n",
      "  Rendering bestGatesetDecompTable              took 0.077509 seconds\n",
      "  Rendering bestGatesetEvalTable                took 0.064429 seconds\n",
      "  Rendering bestEstimateTVDColorBoxPlot         took 0.069651 seconds\n",
      "  Rendering fiducialListTable                   took 0.003243 seconds\n",
      "  Rendering bestGatesetSpamParametersTable      took 0.005033 seconds\n",
      "  Rendering bestGatesetSpamBriefTable           took 0.127724 seconds\n",
      "  Rendering exampleTable                        took 0.006223 seconds\n",
      "  Rendering stdoutBlock                         took 0.00152 seconds\n",
      "  Rendering progressBarPlot                     took 0.005788 seconds\n",
      "  Rendering bestEstimateColorBoxPlot_scl        took 0.00083 seconds\n",
      "  Rendering maxLSwitchboard1                    took 0.000229 seconds\n",
      "  Rendering bestGermsEvalTable                  took 0.470978 seconds\n",
      "  Rendering bestGatesetVsTargetTable            took 0.001708 seconds\n",
      "  Rendering targetSpamBriefTable                took 0.064085 seconds\n",
      "  Rendering profilerTable                       took 0.003206 seconds\n",
      "  Rendering finalFitComparePlot                 took 0.003359 seconds\n",
      "  Rendering bestGatesVsTargetTable_gigerms      took 0.01659 seconds\n",
      "  Rendering dataScalingColorBoxPlot             took 0.000848 seconds\n",
      "  Rendering bestEstimateColorHistogram_scl      took 0.000735 seconds\n",
      "  Rendering datasetOverviewTable                took 0.000984 seconds\n",
      "  Rendering metadataTable                       took 0.009196 seconds\n",
      "  Rendering progressBarPlot_scl                 took 0.000767 seconds\n",
      "  Rendering bestGatesVsTargetTable_gi           took 0.008422 seconds\n",
      "  Rendering topSwitchboard                      took 0.000155 seconds\n",
      "  Rendering bestGatesetGaugeOptParamsTable      took 0.002167 seconds\n",
      "  Rendering prepStrListTable                    took 0.003214 seconds\n",
      "  Rendering bestGatesetSpamVsTargetTable        took 0.005459 seconds\n",
      "  Rendering effectStrListTable                  took 0.002479 seconds\n",
      "  Rendering progressTable                       took 0.006494 seconds\n",
      "  Rendering bestGatesVsTargetTable_gvgerms      took 0.023687 seconds\n",
      "  Rendering singleMetricTable_gv                took 0.009856 seconds\n",
      "  Rendering bestEstimateColorScatterPlot_scl    took 0.000896 seconds\n",
      "  Rendering gramBarPlot                         took 0.006761 seconds\n",
      "  Rendering bestGatesVsTargetTable_sum          took 0.006298 seconds\n",
      "  Rendering progressTable_scl                   took 0.00081 seconds\n",
      "  Rendering bestGatesetChoiEvalTable            took 0.083362 seconds\n",
      "  Rendering targetGatesBoxTable                 took 0.074358 seconds\n",
      "  Rendering bestEstimateColorHistogram          took 0.04673 seconds\n",
      "  Rendering metricSwitchboard_gv                took 0.000106 seconds\n",
      "  Rendering metricSwitchboard_gi                took 0.000108 seconds\n",
      "  Rendering bestEstimateColorScatterPlot        took 0.067234 seconds\n",
      "  Rendering bestGatesetErrGenBoxTable           took 0.332879 seconds\n",
      "  Rendering singleMetricTable_gi                took 0.010196 seconds\n",
      "Output written to example_files/sampleQutritReport directory\n",
      "Opening example_files/sampleQutritReport/main.html...\n",
      "*** Report Generation Complete!  Total time 143.951s ***\n"
     ]
    }
   ],
   "source": [
    "#Create a report\n",
    "ws = pygsti.report.create_standard_report(result, \"example_files/sampleQutritReport\",\n",
    "                                         \"Example Qutrit Report\", verbosity=3, auto_open=True)"
   ]
  },
  {
   "cell_type": "code",
   "execution_count": null,
   "metadata": {
    "collapsed": false,
    "deletable": true,
    "editable": true
   },
   "outputs": [],
   "source": []
  }
 ],
 "metadata": {
  "kernelspec": {
   "display_name": "Python 3",
   "language": "python",
   "name": "python3"
  },
  "language_info": {
   "codemirror_mode": {
    "name": "ipython",
    "version": 3
   },
   "file_extension": ".py",
   "mimetype": "text/x-python",
   "name": "python",
   "nbconvert_exporter": "python",
   "pygments_lexer": "ipython3",
   "version": "3.5.2"
  }
 },
 "nbformat": 4,
 "nbformat_minor": 0
}
