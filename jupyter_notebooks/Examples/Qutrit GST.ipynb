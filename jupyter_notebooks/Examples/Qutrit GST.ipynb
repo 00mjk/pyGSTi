{
 "cells": [
  {
   "cell_type": "markdown",
   "metadata": {
    "deletable": true,
    "editable": true
   },
   "source": [
    "# Example for qutrit GST\n",
    "This notebook demonstrates how to construct the gate sequences and perform the analysis for qutrit GST when the gate set consists of symmetric $\\pi/2$-rotations on each single qubit separately, `X`, `Y` and a 2-qubit Molmer-Sorenson gate which rotates around the `XX` axis by $\\pi/2$."
   ]
  },
  {
   "cell_type": "code",
   "execution_count": 1,
   "metadata": {
    "collapsed": false,
    "deletable": true,
    "editable": true
   },
   "outputs": [],
   "source": [
    "import pygsti\n",
    "import pygsti.construction as pc\n",
    "from pygsti.construction import qutrit\n",
    "\n",
    "from numpy import pi, array\n",
    "import pickle\n",
    "\n",
    "import numpy as np"
   ]
  },
  {
   "cell_type": "markdown",
   "metadata": {
    "deletable": true,
    "editable": true
   },
   "source": [
    "First, we construct the target gate set.  This functionality is built into pyGSTi, so we just need to specify the single-qubit and M-S angles."
   ]
  },
  {
   "cell_type": "code",
   "execution_count": 2,
   "metadata": {
    "collapsed": false,
    "deletable": true,
    "editable": true
   },
   "outputs": [],
   "source": [
    "gs_target = qutrit.make_qutrit_gateset(errorScale=0, Xangle=pi/2, Yangle=pi/2, MSglobal=pi/2, MSlocal=0, basis=\"qt\")\n",
    "#print(gs_target)"
   ]
  },
  {
   "cell_type": "markdown",
   "metadata": {
    "deletable": true,
    "editable": true
   },
   "source": [
    "Now construct the gate sequences needed by GST.  These fiducials and germs have been computed ahead of time and the results are used to construct the gate string lists below.  Then we construct an empty dataset containing all of the necessary experimental sequences which can serve as a template for the actual experimental results."
   ]
  },
  {
   "cell_type": "code",
   "execution_count": 3,
   "metadata": {
    "collapsed": false,
    "deletable": true,
    "editable": true
   },
   "outputs": [],
   "source": [
    "fiducialPrep = pc.gatestring_list(\n",
    "    [(),('Gy',),('Gx',),('Gm',),\n",
    "    ('Gx','Gx'), ('Gm','Gy'),('Gm','Gx'),\n",
    "    ('Gy','Gy','Gy'),('Gx','Gx','Gx')])\n",
    "\n",
    "fiducialMeasure = pc.gatestring_list(\n",
    "    [(),('Gy',),('Gx',),('Gm',),\n",
    "    ('Gy','Gm'),('Gx','Gm')])\n",
    "\n",
    "maxLengths = [1,2,4]\n",
    "\n",
    "germs = pygsti.construction.gatestring_list(\n",
    "[('Gi',),\n",
    " ('Gy',),\n",
    " ('Gx',),\n",
    " ('Gm',),\n",
    " ('Gi', 'Gy'),\n",
    " ('Gi', 'Gx'),\n",
    " ('Gi', 'Gm'),\n",
    " ('Gy', 'Gx'),\n",
    " ('Gy', 'Gm'),\n",
    " ('Gx', 'Gm'),\n",
    " ('Gi', 'Gi', 'Gy'),\n",
    " ('Gi', 'Gi', 'Gx'),\n",
    " ('Gi', 'Gi', 'Gm'),\n",
    " ('Gi', 'Gy', 'Gy'),\n",
    " ('Gi', 'Gy', 'Gx'),\n",
    " ('Gi', 'Gy', 'Gm'),\n",
    " ('Gi', 'Gx', 'Gy'),\n",
    " ('Gi', 'Gx', 'Gx'),\n",
    " ('Gi', 'Gx', 'Gm'),\n",
    " ('Gi', 'Gm', 'Gy'),\n",
    " ('Gi', 'Gm', 'Gx'),\n",
    " ('Gi', 'Gm', 'Gm'),\n",
    " ('Gy', 'Gy', 'Gx'),\n",
    " ('Gy', 'Gy', 'Gm'),\n",
    " ('Gy', 'Gx', 'Gx'),\n",
    " ('Gy', 'Gx', 'Gm'),\n",
    " ('Gy', 'Gm', 'Gx'),\n",
    " ('Gy', 'Gm', 'Gm'),\n",
    " ('Gx', 'Gx', 'Gm'),\n",
    " ('Gx', 'Gm', 'Gm')])"
   ]
  },
  {
   "cell_type": "code",
   "execution_count": 4,
   "metadata": {
    "collapsed": false,
    "deletable": true,
    "editable": true
   },
   "outputs": [
    {
     "name": "stdout",
     "output_type": "stream",
     "text": [
      "9 prep fiducials\n",
      "6 meas fiducials\n",
      "30 germs\n"
     ]
    }
   ],
   "source": [
    "print(\"%d prep fiducials\" % len(fiducialPrep))\n",
    "print(\"%d meas fiducials\" % len(fiducialMeasure))\n",
    "print(\"%d germs\" % len(germs))"
   ]
  },
  {
   "cell_type": "code",
   "execution_count": 5,
   "metadata": {
    "collapsed": false,
    "deletable": true,
    "editable": true
   },
   "outputs": [],
   "source": [
    "#generate data template\n",
    "expList = pygsti.construction.make_lsgst_experiment_list(gs_target.gates.keys(), fiducialPrep, fiducialMeasure, germs,  maxLengths)\n",
    "pygsti.io.write_empty_dataset(\"example_files/dataTemplate_qutrit_maxL=4.txt\", expList, \"## Columns = 0bright count, 1bright count, 2bright count\")"
   ]
  },
  {
   "cell_type": "markdown",
   "metadata": {
    "collapsed": true,
    "deletable": true,
    "editable": true
   },
   "source": [
    "At this point **STOP** and create/fill a dataset file using the template written in the above cell.  Then proceed with the lines below to run GST on the data and create (hopefully useful) reports telling you about your gates."
   ]
  },
  {
   "cell_type": "code",
   "execution_count": 6,
   "metadata": {
    "collapsed": false,
    "deletable": true,
    "editable": true
   },
   "outputs": [],
   "source": [
    "gs_datagen = gs_target.depolarize(gate_noise=0.05)\n",
    "DS = pygsti.construction.generate_fake_data(gs_datagen, expList, 500, sampleError='multinomial', seed=1234)"
   ]
  },
  {
   "cell_type": "code",
   "execution_count": 7,
   "metadata": {
    "collapsed": false,
    "deletable": true,
    "editable": true
   },
   "outputs": [],
   "source": [
    "#DS = pygsti.io.load_dataset('PATH_TO_YOUR_DATASET',cache=True) # (cache=True speeds up future loads)"
   ]
  },
  {
   "cell_type": "code",
   "execution_count": 8,
   "metadata": {
    "collapsed": false,
    "deletable": true,
    "editable": true,
    "scrolled": true
   },
   "outputs": [
    {
     "name": "stdout",
     "output_type": "stream",
     "text": [
      "-- Std Practice:  Iter 1 of 2  (TP) --: \n",
      "  --- Gate Sequence Creation ---\n",
      "   1714 sequences created\n",
      "   Dataset has 1714 entries: 1714 utilized, 0 requested sequences were missing\n",
      "  --- LGST ---\n",
      "  --- Iterative MLGST: [##################################################] 100.0%  1714 gate strings ---\n",
      "  Iterative MLGST Total Time: 36.5s\n",
      "  -- Performing 'Spam 0.0001' gauge optimization on TP estimate --\n",
      "  -- Done gauge optimizing (0.117941s) -- \n",
      "  -- Performing 'Spam 0.1' gauge optimization on TP estimate --\n",
      "  -- Done gauge optimizing (0.057507s) -- \n",
      "-- Std Practice:  Iter 2 of 2  (CPTP) --: \n",
      "  --- Gate Sequence Creation ---\n",
      "   1714 sequences created\n",
      "   Dataset has 1714 entries: 1714 utilized, 0 requested sequences were missing\n",
      "  --- Iterative MLGST: [##################################################] 100.0%  1714 gate strings ---\n",
      "  Iterative MLGST Total Time: 42.8s\n",
      "  -- Performing 'Spam 0.0001' gauge optimization on CPTP estimate --\n",
      "  -- Done gauge optimizing (4.52349s) -- \n",
      "  -- Performing 'Spam 0.0001' gauge optimization on CPTP.robust estimate --\n",
      "  -- Done gauge optimizing (4.56264s) --\n",
      "  -- Performing 'Spam 0.1' gauge optimization on CPTP estimate --\n",
      "  -- Done gauge optimizing (4.58799s) -- \n",
      "  -- Performing 'Spam 0.1' gauge optimization on CPTP.robust estimate --\n",
      "  -- Done gauge optimizing (4.5667s) --\n"
     ]
    }
   ],
   "source": [
    "#Run 2Q GST... which could take a while on a single CPU.  Please adjust memLimit to machine specs \n",
    "# (now 3GB; usually set to slightly less than the total machine memory)\n",
    "result = pygsti.do_stdpractice_gst(DS,gs_target,fiducialPrep,fiducialMeasure,germs,maxLengths,\n",
    "                                     verbosity=2, comm=None, memLimit=3*(1024)**3, modes=\"TP,CPTP\")"
   ]
  },
  {
   "cell_type": "code",
   "execution_count": 9,
   "metadata": {
    "collapsed": false,
    "deletable": true,
    "editable": true
   },
   "outputs": [
    {
     "name": "stdout",
     "output_type": "stream",
     "text": [
      "*** Creating workspace ***\n",
      "*** Generating switchboard tables ***\n",
      "  targetSpamBriefTable                          took 0.002721 seconds\n",
      "  targetGatesBoxTable                           took 0.07567 seconds\n",
      "  datasetOverviewTable                          took 0.019471 seconds\n",
      "  bestGatesetSpamParametersTable                took 0.006221 seconds\n",
      "  bestGatesetSpamBriefTable                     took 0.015914 seconds\n",
      "  bestGatesetSpamVsTargetTable                  took 0.022307 seconds\n",
      "  bestGatesetGaugeOptParamsTable                took 0.000641 seconds\n",
      "  bestGatesetGatesBoxTable                      took 0.168408 seconds\n",
      "  bestGatesetChoiEvalTable                      took 0.117349 seconds\n",
      "  bestGatesetDecompTable                        took 55.251681 seconds\n",
      "  bestGatesetEvalTable                          took 0.106482 seconds\n",
      "  bestGatesetRelEvalTable                       took 0.005703 seconds\n",
      "Predicted RB decay parameter / error rate may be unreliable:\n",
      "There is more than one significant exponential in RB decay.\n",
      "Predicted RB decay parameter / error rate may be unreliable:\n",
      "There is more than one significant exponential in RB decay.\n",
      "Predicted RB decay parameter / error rate may be unreliable:\n",
      "There is more than one significant exponential in RB decay.\n",
      "Predicted RB decay parameter / error rate may be unreliable:\n",
      "There is more than one significant exponential in RB decay.\n",
      "Predicted RB decay parameter / error rate may be unreliable:\n",
      "There is more than one significant exponential in RB decay.\n",
      "Predicted RB decay parameter / error rate may be unreliable:\n",
      "There is more than one significant exponential in RB decay.\n",
      "  bestGatesetVsTargetTable                      took 0.648557 seconds\n",
      "  bestGatesVsTargetTable                        took 4.576774 seconds\n",
      "  bestGatesVsTargetTable_sum                    took 0.000892 seconds\n",
      "  bestGatesetErrGenBoxTable                     took 0.848671 seconds\n",
      "  metadataTable                                 took 0.002811 seconds\n",
      "  softwareEnvTable                              took 0.030186 seconds\n",
      "  fiducialListTable                             took 0.000813 seconds\n",
      "  prepStrListTable                              took 0.000204 seconds\n",
      "  effectStrListTable                            took 0.000178 seconds\n",
      "  germList2ColTable                             took 0.000458 seconds\n",
      "  progressTable                                 took 0.912604 seconds\n",
      "*** Generating plots ***\n",
      "  gramBarPlot                                   took 0.076015 seconds\n",
      "  progressBarPlot                               took 0.608332 seconds\n",
      "  dataScalingColorBoxPlot                       took 0.222795 seconds\n",
      "  bestEstimateColorBoxPlotPages                 took 2.049728 seconds\n",
      "  bestEstimateColorScatterPlot                  took 4.826241 seconds\n",
      "*** Merging into template file ***\n",
      "    Rendering bestGatesetVsTargetTable\n",
      "    Rendering bestGatesetSpamBriefTable\n",
      "    Rendering maxLSwitchboard1\n",
      "    Rendering progressTable\n",
      "    Rendering bestGatesetDecompTable\n",
      "    Rendering effectStrListTable\n",
      "    Rendering dataScalingColorBoxPlot\n",
      "    Rendering metadataTable\n",
      "    Rendering bestGatesetEvalTable\n",
      "    Rendering bestEstimateColorScatterPlot\n",
      "    Rendering germList2ColTable\n",
      "    Rendering bestGatesetSpamParametersTable\n",
      "    Rendering fiducialListTable\n",
      "    Rendering bestGatesetSpamVsTargetTable\n",
      "    Rendering bestGatesVsTargetTable\n",
      "    Rendering bestGatesetGaugeOptParamsTable\n",
      "    Rendering prepStrListTable\n",
      "    Rendering bestGatesetErrGenBoxTable\n",
      "    Rendering targetSpamBriefTable\n",
      "    Rendering gramBarPlot\n",
      "    Rendering datasetOverviewTable\n",
      "    Rendering bestGatesVsTargetTable_sum\n",
      "    Rendering softwareEnvTable\n",
      "    Rendering progressBarPlot\n",
      "    Rendering goSwitchboard2\n",
      "    Rendering bestGatesetRelEvalTable\n",
      "    Rendering bestGatesetChoiEvalTable\n",
      "    Rendering bestGatesetGatesBoxTable\n",
      "    Rendering topSwitchboard\n",
      "    Rendering targetGatesBoxTable\n",
      "    Rendering goSwitchboard1\n",
      "    Rendering bestEstimateColorBoxPlotPages\n",
      "Output written to example_files/sampleQutritReport.html\n"
     ]
    }
   ],
   "source": [
    "#Create a report\n",
    "ws = pygsti.report.create_general_report(result, \"example_files/sampleQutritReport.html\",\n",
    "                                         \"Example Qutrit Report\", verbosity=3)"
   ]
  },
  {
   "cell_type": "code",
   "execution_count": null,
   "metadata": {
    "collapsed": false,
    "deletable": true,
    "editable": true
   },
   "outputs": [],
   "source": []
  }
 ],
 "metadata": {
  "kernelspec": {
   "display_name": "Python 3",
   "language": "python",
   "name": "python3"
  },
  "language_info": {
   "codemirror_mode": {
    "name": "ipython",
    "version": 3
   },
   "file_extension": ".py",
   "mimetype": "text/x-python",
   "name": "python",
   "nbconvert_exporter": "python",
   "pygments_lexer": "ipython3",
   "version": "3.5.2"
  }
 },
 "nbformat": 4,
 "nbformat_minor": 0
}
