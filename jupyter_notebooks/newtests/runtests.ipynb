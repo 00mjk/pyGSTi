{
 "cells": [
  {
   "cell_type": "code",
   "execution_count": 3,
   "metadata": {
    "collapsed": false
   },
   "outputs": [],
   "source": [
    "import rb_sample\n",
    "rb_sample.test_sample()\n",
    "import algorithms_compilers\n",
    "algorithms_compilers.test_compilers()\n",
    "import objects_circuit\n",
    "objects_circuit.test_circuit()\n",
    "import objects_processorspec\n",
    "objects_processorspec.test_processorspec()\n",
    "import tools_internalgates\n",
    "tools_internalgates.test_internalgates()\n",
    "import tools_symplectic\n",
    "tools_symplectic.test_symplectic()"
   ]
  },
  {
   "cell_type": "code",
   "execution_count": null,
   "metadata": {
    "collapsed": true
   },
   "outputs": [],
   "source": []
  }
 ],
 "metadata": {
  "kernelspec": {
   "display_name": "Python 3",
   "language": "python",
   "name": "python3"
  },
  "language_info": {
   "codemirror_mode": {
    "name": "ipython",
    "version": 3
   },
   "file_extension": ".py",
   "mimetype": "text/x-python",
   "name": "python",
   "nbconvert_exporter": "python",
   "pygments_lexer": "ipython3",
   "version": "3.6.3"
  }
 },
 "nbformat": 4,
 "nbformat_minor": 2
}
