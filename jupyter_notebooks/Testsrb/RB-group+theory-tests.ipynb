{
 "cells": [
  {
   "cell_type": "code",
   "execution_count": 1,
   "metadata": {
    "collapsed": false
   },
   "outputs": [
    {
     "name": "stderr",
     "output_type": "stream",
     "text": [
      "WARNING: yacc table file version is out of date\n"
     ]
    }
   ],
   "source": [
    "import numpy as np\n",
    "import pygsti\n",
    "from pygsti.extras import rb"
   ]
  },
  {
   "cell_type": "markdown",
   "metadata": {},
   "source": [
    "# Tests of Clifford compilations"
   ]
  },
  {
   "cell_type": "code",
   "execution_count": 2,
   "metadata": {
    "collapsed": false
   },
   "outputs": [],
   "source": [
    "from pygsti.construction import std1Q_Cliffords\n",
    "gs_target = std1Q_Cliffords.gs_target\n",
    "clifford_group = rb.group.construct_1Q_Clifford_group()\n",
    "\n",
    "from pygsti.construction import std1Q_XY\n",
    "gs_target = std1Q_XY.gs_target.copy()\n",
    "clifford_compilation = std1Q_XY.clifford_compilation\n",
    "compiled_cliffords = pygsti.construction.build_alias_gateset(gs_target,clifford_compilation)\n",
    "\n",
    "for key in list(compiled_cliffords.gates.keys()):\n",
    "    assert(np.sum(abs(compiled_cliffords[key]-clifford_group.get_matrix(key))) < 10**(-10))\n",
    "    \n",
    "from pygsti.construction import std1Q_XYI\n",
    "gs_target = std1Q_XYI.gs_target.copy()\n",
    "clifford_compilation = std1Q_XYI.clifford_compilation\n",
    "compiled_cliffords = pygsti.construction.build_alias_gateset(gs_target,clifford_compilation)\n",
    "\n",
    "for key in list(compiled_cliffords.gates.keys()):\n",
    "    assert(np.sum(abs(compiled_cliffords[key]-clifford_group.get_matrix(key))) < 10**(-10))\n",
    "    \n",
    "#\n",
    "# ETC ETC\n",
    "#"
   ]
  },
  {
   "cell_type": "markdown",
   "metadata": {},
   "source": [
    "# RB group.py and theory.py tests"
   ]
  },
  {
   "cell_type": "code",
   "execution_count": 3,
   "metadata": {
    "collapsed": false
   },
   "outputs": [],
   "source": [
    "# Tests can create the Cliffords gateset, using std1Q_Cliffords.\n",
    "from pygsti.construction import std1Q_Cliffords\n",
    "gs_target = std1Q_Cliffords.gs_target\n",
    "\n",
    "# Tests rb.group. This tests we can successfully construct a MatrixGroup\n",
    "clifford_group = rb.group.construct_1Q_Clifford_group()"
   ]
  },
  {
   "cell_type": "code",
   "execution_count": 4,
   "metadata": {
    "collapsed": false
   },
   "outputs": [],
   "source": [
    "depol_strength = 1e-3\n",
    "gs = gs_target.depolarize(gate_noise=depol_strength)\n",
    "\n",
    "# Tests AGI function and p_to_r with AGI.\n",
    "AGI = rb.theory.average_gate_infidelity(gs['Gc0'],gs_target['Gc0'])\n",
    "r_AGI = rb.analysis.p_to_r(1-depol_strength,d=2,rtype='AGI')\n",
    "assert(np.abs(AGI-r_AGI)<10**(-10))\n",
    "\n",
    "# Tests EI function and p_to_r with EI.\n",
    "EI = rb.theory.entanglement_infidelity(gs['Gc0'],gs_target['Gc0'])\n",
    "r_EI = rb.analysis.p_to_r(1-depol_strength,d=2,rtype='EI')\n",
    "assert(np.abs(EI-r_EI)<10**(-10))\n",
    "\n",
    "# Tests uniform-average AGI function and the r-prediction function with uniform-weighting \n",
    "AGsI = rb.theory.gateset_infidelity(gs,gs_target,itype='AGI')\n",
    "r_AGI = rb.analysis.p_to_r(1-depol_strength,d=2,rtype='AGI')\n",
    "r_pred_AGI = rb.theory.predicted_RB_number(gs,gs_target,rtype='AGI')\n",
    "assert(np.abs(AGsI-r_AGI)<10**(-10))\n",
    "assert(np.abs(r_pred_AGI-r_AGI)<10**(-10))\n",
    "\n",
    "# Tests uniform-average EI function and the r-prediction function with uniform-weighting \n",
    "AEI = rb.theory.gateset_infidelity(gs,gs_target,itype='EI')\n",
    "r_EI = rb.analysis.p_to_r(1-depol_strength,d=2,rtype='EI')\n",
    "r_pred_EI = rb.theory.predicted_RB_number(gs,gs_target,rtype='EI')\n",
    "assert(np.abs(AEI-r_EI)<10**(-10))\n",
    "assert(np.abs(AEI-r_pred_EI)<10**(-10))\n",
    "\n",
    "# Tests the transform to RB gauge, and RB gauge transformation generating functions.\n",
    "gs_in_RB_gauge = rb.theory.transform_to_rb_gauge(gs, gs_target, eigenvector_weighting=0.5)\n",
    "AEI = rb.theory.gateset_infidelity(gs,gs_target,itype='EI')\n",
    "assert(np.abs(AEI-r_EI)<10**(-10))"
   ]
  },
  {
   "cell_type": "code",
   "execution_count": 5,
   "metadata": {
    "collapsed": false
   },
   "outputs": [],
   "source": [
    "from pygsti.construction import std1Q_XY\n",
    "gs_target = std1Q_XY.gs_target.copy()\n",
    "gs = gs_target.copy()\n",
    "\n",
    "Zrot_unitary = np.array([[1.,0.],[0.,np.exp(-1j*0.01)]])\n",
    "Zrot_channel = pygsti.unitary_to_pauligate(Zrot_unitary)\n",
    "\n",
    "for key in gs_target.gates.keys():\n",
    "    gs.gates[key] = np.dot(Zrot_channel,gs_target.gates[key])\n",
    "    \n",
    "gs_in_RB_gauge = rb.theory.transform_to_rb_gauge(gs, gs_target, eigenvector_weighting=0.5)\n",
    "\n",
    "# A test that the RB gauge transformation behaves as expected -- a gateset that does not\n",
    "# have r = infidelity in its initial gauge does have this in the RB gauge. This also\n",
    "# tests that the r predictions are working for not-all-the-Cliffords gatesets.\n",
    "\n",
    "AEI = rb.theory.gateset_infidelity(gs_in_RB_gauge,gs_target,itype='EI')\n",
    "r_pred_EI = rb.theory.predicted_RB_number(gs,gs_target,rtype='EI')\n",
    "assert(np.abs(AEI-r_pred_EI)<10**(-10))\n",
    "\n",
    "# Test that weighted-infidelities + RB error rates functions working.\n",
    "gs_target = std1Q_XY.gs_target.copy()\n",
    "gs = gs_target.copy()\n",
    "\n",
    "depol_strength_X = 1e-3\n",
    "depol_strength_Y = 3e-3\n",
    "\n",
    "lx =1.-depol_strength_X\n",
    "depmap_X = np.array([[1.,0.,0.,0.],[0.,lx,0.,0.],[0.,0.,lx,0.],[0,0.,0.,lx]])\n",
    "ly =1.-depol_strength_Y\n",
    "depmap_Y = np.array([[1.,0.,0.,0.],[0.,ly,0.,0.],[0.,0.,ly,0.],[0,0.,0.,ly]])\n",
    "gs.gates['Gx'] = np.dot(depmap_X,gs_target['Gx'])\n",
    "gs.gates['Gy'] = np.dot(depmap_Y,gs_target['Gy'])\n",
    "\n",
    "Gx_weight = 1\n",
    "Gy_weight = 2\n",
    "weights = {'Gx':Gx_weight,'Gy':Gy_weight}\n",
    "WAEI = rb.theory.gateset_infidelity(gs,gs_target,weights=weights,itype='EI')\n",
    "GxAEI = rb.theory.entanglement_infidelity(gs['Gx'],gs_target['Gx'])\n",
    "GyAEI = rb.theory.entanglement_infidelity(gs['Gy'],gs_target['Gy'])\n",
    "manual_WAEI = (Gx_weight*GxAEI + Gy_weight*GyAEI)/(Gx_weight + Gy_weight)\n",
    "# Checks that a manual weighted-average agrees with the function\n",
    "assert(abs(manual_WAEI-WAEI)<10**(-10))\n",
    "\n",
    "gs_in_RB_gauge = rb.theory.transform_to_rb_gauge(gs, gs_target, weights=weights,\n",
    "                                                 eigenvector_weighting=0.5)\n",
    "WAEI = rb.theory.gateset_infidelity(gs_in_RB_gauge,gs_target,weights=weights,itype='EI')\n",
    "# Checks the predicted RB number function works with specified weights\n",
    "r_pred_EI = rb.theory.predicted_RB_number(gs,gs_target,weights=weights,rtype='EI')\n",
    "# Checks predictions agree with weighted-infidelity\n",
    "assert(abs(r_pred_EI-WAEI)<10**(-10))"
   ]
  },
  {
   "cell_type": "code",
   "execution_count": 7,
   "metadata": {
    "collapsed": false
   },
   "outputs": [],
   "source": [
    "# -------------------------------------- #\n",
    "#   Tests for R-matrix related functions\n",
    "# -------------------------------------- #\n",
    "\n",
    "# Test constructing the R matrix in the simplest case\n",
    "gs_target = std1Q_Cliffords.gs_target\n",
    "clifford_group = rb.group.construct_1Q_Clifford_group()\n",
    "R = rb.theory.R_matrix(gs_target, clifford_group, group_to_gateset=None, weights=None)\n",
    "\n",
    "# Test constructing the R matrix for a group-subset gateset with weights\n",
    "from pygsti.construction import std1Q_XYI\n",
    "clifford_compilation = std1Q_XYI.clifford_compilation\n",
    "gs_target = std1Q_XYI.gs_target.copy()\n",
    "group_to_gateset = {'Gc0':'Gi','Gc16':'Gx','Gc21':'Gy'}\n",
    "weights = {'Gi':1.,'Gx':1,'Gy':1}\n",
    "clifford_group = rb.group.construct_1Q_Clifford_group()\n",
    "R = rb.theory.R_matrix(gs_target, clifford_group, group_to_gateset=group_to_gateset, weights=weights)\n",
    "\n",
    "# Tests the p-prediction function works, and that we get the correct predictions from the R-matrix.\n",
    "p = rb.theory.R_matrix_predicted_RB_decay_parameter(gs_target, clifford_group, \n",
    "                                                    group_to_gateset=group_to_gateset, \n",
    "                                                    weights=weights)\n",
    "assert(abs(p - 1.) < 10**(-10))\n",
    "depol_strength = 1e-3\n",
    "gs = gs_target.depolarize(gate_noise=depol_strength)\n",
    "p = rb.theory.R_matrix_predicted_RB_decay_parameter(gs, clifford_group, \n",
    "                                                    group_to_gateset=group_to_gateset, \n",
    "                                                    weights=weights)\n",
    "assert(abs(p - (1.0-depol_strength)) < 10**(-10))\n",
    "\n",
    "# Tests the exact RB ASPs function on a Clifford gateset. \n",
    "gs_target = std1Q_Cliffords.gs_target\n",
    "gs = std1Q_Cliffords.gs_target.depolarize(depol_strength)\n",
    "m, ASPs = rb.theory.exact_RB_ASPs(gs, clifford_group, m_max=1000, m_min=0, m_step=100, success_outcomelabel=('0',), \n",
    "                                  group_to_gateset=None, weights=None, compilation=None, \n",
    "                                  group_twirled=False)\n",
    "assert(abs(ASPs[1]- (0.5 + 0.5*(1.0-depol_strength)**101)) < 10**(-10))\n",
    "m, ASPs = rb.theory.exact_RB_ASPs(gs, clifford_group, m_max=1000, m_min=0, m_step=100, success_outcomelabel=('0',), \n",
    "                                  group_to_gateset=None, weights=None, compilation=None, \n",
    "                                  group_twirled=True)\n",
    "assert(abs(ASPs[1]- (0.5 + 0.5*(1.0-depol_strength)**102)) < 10**(-10))\n",
    "\n",
    "# Tests the exact RB ASPs function on a subset-of-Cliffords gateset. \n",
    "clifford_compilation = std1Q_XY.clifford_compilation\n",
    "gs_target = std1Q_XY.gs_target.copy()\n",
    "group_to_gateset = {'Gc16':'Gx','Gc21':'Gy'}\n",
    "weights = {'Gx':5,'Gy':10}\n",
    "m, ASPs = rb.theory.exact_RB_ASPs(gs_target, clifford_group, m_max=10, m_min=0, m_step=1, success_outcomelabel=('0',), \n",
    "                                  group_to_gateset=group_to_gateset, weights=None, compilation=clifford_compilation, \n",
    "                                  group_twirled=False)\n",
    "assert(abs(np.sum(ASPs) - len(ASPs)) < 10**(-10))\n",
    "\n",
    "# Tests the function behaves reasonably with a depolarized gateset + works with group_twirled + weights.\n",
    "depol_strength = 1e-3\n",
    "gs = gs_target.depolarize(gate_noise=depol_strength)\n",
    "m, ASPs = rb.theory.exact_RB_ASPs(gs, clifford_group, m_max=10, m_min=0, m_step=1, success_outcomelabel=('0',), \n",
    "                                  group_to_gateset=group_to_gateset, weights=None, compilation=clifford_compilation, \n",
    "                                  group_twirled=False)\n",
    "assert(abs(ASPs[0] - 1) < 10**(-10))\n",
    "\n",
    "m, ASPs = rb.theory.exact_RB_ASPs(gs, clifford_group, m_max=10, m_min=0, m_step=3, success_outcomelabel=('0',), \n",
    "                                  group_to_gateset=group_to_gateset, weights=weights, compilation=clifford_compilation, \n",
    "                                  group_twirled=True)\n",
    "assert((ASPs > 0.99).all())\n",
    "\n",
    "\n",
    "# Check the L-matrix theory predictions work and are consistent with the exact predictions\n",
    "m, ASPs = rb.theory.exact_RB_ASPs(gs, clifford_group, m_max=10, m_min=0, m_step=1, success_outcomelabel=('0',), \n",
    "                                  group_to_gateset=group_to_gateset, weights=weights, compilation=clifford_compilation, \n",
    "                                  group_twirled=True)\n",
    "\n",
    "L_m, L_ASPs, L_LASPs, L_UASPs = rb.theory.L_matrix_ASPs(gs, gs_target, m_max=10, m_min=0, m_step=1, success_outcomelabel=('0',),\n",
    "                  compilation=clifford_compilation, group_twirled=True, weights=weights, gauge_optimize=True, \n",
    "                  return_error_bounds=True, norm='diamond')\n",
    "\n",
    "assert((abs(ASPs-L_ASPs) < 0.001).all())\n",
    "\n",
    "# Check it works without the twirl, and gives plausable output\n",
    "L_m, L_ASPs = rb.theory.L_matrix_ASPs(gs, gs_target, m_max=10, m_min=0, m_step=1, success_outcomelabel=('0',),\n",
    "                  compilation=clifford_compilation, group_twirled=False, weights=None, gauge_optimize=False, \n",
    "                  return_error_bounds=False, norm=diamond')\n",
    "assert((ASPs > 0.98).all())\n",
    "\n",
    "# Check it works with a Clifford gateset, and gives plausable output\n",
    "gs_target = std1Q_Cliffords.gs_target\n",
    "gs = std1Q_Cliffords.gs_target.depolarize(depol_strength)\n",
    "m, ASPs = rb.theory.L_matrix_ASPs(gs, gs_target, m_max=10, m_min=0, m_step=1, success_outcomelabel=('0',),\n",
    "                  compilation=None, group_twirled=False, weights=None, gauge_optimize=False, \n",
    "                  return_error_bounds=False, norm='1to1')\n",
    "assert((ASPs > 0.98).all())"
   ]
  },
  {
   "cell_type": "code",
   "execution_count": null,
   "metadata": {
    "collapsed": false
   },
   "outputs": [],
   "source": [
    "#\n",
    "# todo -- fix this function.\n",
    "#\n",
    "#gs_target = std1Q_Cliffords.gs_target\n",
    "#gs = std1Q_Cliffords.gs_target.depolarize(depol_strength)\n",
    "#mlist = [1,2,3,4,5,6,7,8,9,10]\n",
    "#mlist, Pm, lower, upper, MTPs = rb.theory.Magesan_theory_predicted_decay(gs, gs_target, mlist, success_outcomelabel=('0',), \n",
    "#                                   norm='diamond', order='zeroth', return_all = False)"
   ]
  }
 ],
 "metadata": {
  "kernelspec": {
   "display_name": "Python 3",
   "language": "python",
   "name": "python3"
  },
  "language_info": {
   "codemirror_mode": {
    "name": "ipython",
    "version": 3
   },
   "file_extension": ".py",
   "mimetype": "text/x-python",
   "name": "python",
   "nbconvert_exporter": "python",
   "pygments_lexer": "ipython3",
   "version": "3.6.3"
  }
 },
 "nbformat": 4,
 "nbformat_minor": 2
}
