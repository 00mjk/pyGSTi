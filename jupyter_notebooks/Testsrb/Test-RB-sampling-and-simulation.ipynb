{
 "cells": [
  {
   "cell_type": "code",
   "execution_count": 4,
   "metadata": {
    "collapsed": false
   },
   "outputs": [],
   "source": [
    "from __future__ import division, print_function, absolute_import, unicode_literals\n",
    "import numpy as np\n",
    "\n",
    "import pygsti\n",
    "from pygsti.extras import circuit\n",
    "from pygsti.extras import newrb"
   ]
  },
  {
   "cell_type": "code",
   "execution_count": 11,
   "metadata": {
    "collapsed": false
   },
   "outputs": [],
   "source": [
    "# A list of standard hard-coded gate labels\n",
    "gllist = ['I', 'H','P','CPHASE']\n",
    "\n",
    "# The number of qubits\n",
    "n = 4\n",
    "\n",
    "ds = circuit.DeviceSpec(n, gllist, verbosity=0)\n",
    "\n",
    "# Add a purestate model where the gates are perfect.\n",
    "operators = {}\n",
    "for gate in ds.allgates:\n",
    "    operators[gate] = ds.gateset.unitaries[gate.label]\n",
    "    \n",
    "ds.models['Target'] = circuit.GateSetModel(operators,n,mtype='purestate')"
   ]
  },
  {
   "cell_type": "code",
   "execution_count": 14,
   "metadata": {
    "collapsed": false
   },
   "outputs": [],
   "source": [
    "c = newrb.construct_grb_circuit(ds,10)\n",
    "#print(c)"
   ]
  },
  {
   "cell_type": "code",
   "execution_count": 15,
   "metadata": {
    "collapsed": false
   },
   "outputs": [
    {
     "data": {
      "text/plain": [
       "{(0, 0, 0, 0): 0.99999999999999112,\n",
       " (0, 0, 0, 1): 1.9259299443872303e-34,\n",
       " (0, 0, 1, 0): 4.4840195202822085e-34,\n",
       " (0, 0, 1, 1): 7.896312771987656e-33,\n",
       " (0, 1, 0, 0): 7.9995435634473978e-34,\n",
       " (0, 1, 0, 1): 2.5037089277034028e-33,\n",
       " (0, 1, 1, 0): 7.8028509789777114e-33,\n",
       " (0, 1, 1, 1): 1.9259299443872316e-34,\n",
       " (1, 0, 0, 0): 9.4758364535671886e-34,\n",
       " (1, 0, 0, 1): 1.7333369499485099e-33,\n",
       " (1, 0, 1, 0): 6.5264568939446835e-33,\n",
       " (1, 0, 1, 1): 1.9259299443872303e-34,\n",
       " (1, 1, 0, 0): 2.2450284656454971e-32,\n",
       " (1, 1, 0, 1): 1.9259299443872337e-34,\n",
       " (1, 1, 1, 0): 3.9953736408505064e-33,\n",
       " (1, 1, 1, 1): 1.2518544638517008e-32}"
      ]
     },
     "execution_count": 15,
     "metadata": {},
     "output_type": "execute_result"
    }
   ],
   "source": [
    "c.simulate(ds.models['Target'])"
   ]
  },
  {
   "cell_type": "code",
   "execution_count": 24,
   "metadata": {
    "collapsed": false
   },
   "outputs": [
    {
     "name": "stdout",
     "output_type": "stream",
     "text": [
      "[0.99999999999998823, 0.9999999999999869, 0.99999999999998979, 0.99999999999998868, 0.99999999999998557]\n"
     ]
    }
   ],
   "source": [
    "pm, aux1, aux2 = newrb.simulator.simulate_full_grb_experiment(ds,'Target',[0,10,20,30,40],[1,1,1,1,1],verbosity=0)\n",
    "print(pm)"
   ]
  },
  {
   "cell_type": "code",
   "execution_count": 25,
   "metadata": {
    "collapsed": false
   },
   "outputs": [
    {
     "name": "stdout",
     "output_type": "stream",
     "text": [
      "[1.0, 0.9999999999999174, 0.99999999999984945, 0.99999999999978262, 0.99999999999969114]\n"
     ]
    }
   ],
   "source": [
    "pm, aux1, aux2 = newrb.simulator.simulate_full_cliffordrb_experiment(ds,'Target',[0,10,20,30,40],[1,1,1,1,1],verbosity=0)\n",
    "print(pm)"
   ]
  },
  {
   "cell_type": "code",
   "execution_count": 27,
   "metadata": {
    "collapsed": true
   },
   "outputs": [],
   "source": [
    "# Add a purestate model where the gates are not perfect.\n",
    "operators = {}\n",
    "for gate in ds.allgates:\n",
    "    operators[gate] = ds.gateset.unitaries[gate.label]\n",
    "    \n",
    "ds.models['Over-rotations'] = circuit.GateSetModel(operators,n,mtype='purestate')"
   ]
  }
 ],
 "metadata": {
  "kernelspec": {
   "display_name": "Python 2",
   "language": "python",
   "name": "python2"
  },
  "language_info": {
   "codemirror_mode": {
    "name": "ipython",
    "version": 2
   },
   "file_extension": ".py",
   "mimetype": "text/x-python",
   "name": "python",
   "nbconvert_exporter": "python",
   "pygments_lexer": "ipython2",
   "version": "2.7.11"
  }
 },
 "nbformat": 4,
 "nbformat_minor": 2
}
