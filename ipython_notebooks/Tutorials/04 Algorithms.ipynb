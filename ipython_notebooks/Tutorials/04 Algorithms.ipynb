{
 "cells": [
  {
   "cell_type": "code",
   "execution_count": 1,
   "metadata": {
    "collapsed": true
   },
   "outputs": [],
   "source": [
    "## Steps for running basic GST Algorithms"
   ]
  },
  {
   "cell_type": "markdown",
   "metadata": {},
   "source": [
    "###     Setup"
   ]
  },
  {
   "cell_type": "code",
   "execution_count": 2,
   "metadata": {
    "collapsed": false
   },
   "outputs": [],
   "source": [
    "#Step 1: Import the GST module -- you probably want this at the beginning of every notebook\n",
    "import GST\n",
    "import json"
   ]
  },
  {
   "cell_type": "code",
   "execution_count": 3,
   "metadata": {
    "collapsed": false
   },
   "outputs": [
    {
     "name": "stdout",
     "output_type": "stream",
     "text": [
      "Loading tutorial_files/Example_Dataset_LowCnts.txt: 100%\n",
      "Writing cache file (to speed future loads):  tutorial_files/Example_Dataset_LowCnts.txt.cache\n",
      "Loaded target gateset with gate labels:  ['Gi', 'Gx', 'Gy']\n",
      "Loaded fiducial list of length:  6\n",
      "Loaded dataset of length:  2737\n"
     ]
    }
   ],
   "source": [
    "#Step 2: Load target gateset, dataset, and list of fiducial gate strings. In this case we load directly from files created in past tutorials\n",
    "gs_target = GST.loadGateset(\"tutorial_files/Example_Gateset.txt\")\n",
    "ds = GST.loadDataset(\"tutorial_files/Example_Dataset.txt\", cache=True)\n",
    "dsLowCounts = GST.loadDataset(\"tutorial_files/Example_Dataset_LowCnts.txt\", cache=True)\n",
    "fiducialList = GST.loadGatestringList(\"tutorial_files/Example_FiducialList.txt\")\n",
    "\n",
    "depol_gateset = GST.GateSetTools.depolarizeGateset(gs_target, noise=0.1)\n",
    "\n",
    "#Could also load a fiducial dictionary file like this:\n",
    "#fiducialDict = GST.loadGatestringDict(\"Example_FiducialList.txt\")\n",
    "#fiducialList = fiducialDict.values() #all we really need are the fiducial strings themselves\n",
    "\n",
    "print \"Loaded target gateset with gate labels: \",gs_target.keys()\n",
    "print \"Loaded fiducial list of length: \",len(fiducialList)\n",
    "print \"Loaded dataset of length: \",len(ds)"
   ]
  },
  {
   "cell_type": "markdown",
   "metadata": {},
   "source": [
    "### LGST to get an initial estimate"
   ]
  },
  {
   "cell_type": "code",
   "execution_count": 4,
   "metadata": {
    "collapsed": false
   },
   "outputs": [],
   "source": [
    "#Run LGST to get an initial estimate for the gates in gs_target based on the data in ds\n",
    "specs = GST.getRhoAndESpecs(fiducialGateStrings=fiducialList)\n",
    "gs_lgst = GST.doLGST(ds, specs, targetGateset=gs_target, svdTruncateTo=4, verbosity=1)\n",
    "\n",
    "#Gauge optimize the result to match the target gateset\n",
    "gs_lgst_after_gauge_opt = GST.optimizeGauge(gs_lgst, \"target\", targetGateset=gs_target)\n",
    "\n",
    "#Contract the result to CPTP\n",
    "gs_clgst = GST.contract(gs_lgst_after_gauge_opt, \"CPTP\")"
   ]
  },
  {
   "cell_type": "code",
   "execution_count": 5,
   "metadata": {
    "collapsed": false
   },
   "outputs": [
    {
     "name": "stdout",
     "output_type": "stream",
     "text": [
      "rhoVec[0] =    0.7096   0.0234  -0.0264   0.7466\n",
      "\n",
      "\n",
      "EVec[0] =    0.6872  -0.0084   0.0009  -0.6489\n",
      "\n",
      "\n",
      "Gi = \n",
      "   0.9955   0.0094  -0.0005  -0.0030\n",
      "  -0.0045   0.9273  -0.0507  -0.0053\n",
      "   0.0160   0.0100   0.8971   0.0237\n",
      "  -0.0009   0.0026   0.0196   0.9062\n",
      "\n",
      "\n",
      "Gx = \n",
      "   1.0021   0.0017  -0.0021  -0.0004\n",
      "   0.0097   0.9089  -0.0134  -0.0030\n",
      "   0.0141  -0.0198  -0.0171   0.9948\n",
      "  -0.0563  -0.0285  -0.8119   0.0049\n",
      "\n",
      "\n",
      "Gy = \n",
      "   0.9932   0.0041  -0.0154  -0.0084\n",
      "  -0.0427   0.0114  -0.0031  -0.9818\n",
      "   0.0087   0.0059   0.8893  -0.0201\n",
      "  -0.0624   0.8159  -0.0134  -0.0042\n",
      "\n",
      "\n",
      "\n"
     ]
    }
   ],
   "source": [
    "print gs_lgst"
   ]
  },
  {
   "cell_type": "markdown",
   "metadata": {},
   "source": [
    "### Extended LGST"
   ]
  },
  {
   "cell_type": "code",
   "execution_count": 6,
   "metadata": {
    "collapsed": false
   },
   "outputs": [
    {
     "name": "stdout",
     "output_type": "stream",
     "text": [
      "\n",
      "--- Iterative eLGST: Beginning iter 1 of 10 : 3 gate strings ---\n",
      "--- eLGST (least squares) ---\n",
      "  Sum of minimum least squares error (w/out reg terms) = 7.40069e-32\n",
      "   frobenius distance to target =  0.0573635151888\n",
      "\n",
      "--- Iterative eLGST: Beginning iter 2 of 10 : 4 gate strings ---\n",
      "--- eLGST (least squares) ---\n",
      "  Sum of minimum least squares error (w/out reg terms) = 1.80731e-30\n",
      "   frobenius distance to target =  0.0573635151888\n",
      "\n",
      "--- Iterative eLGST: Beginning iter 3 of 10 : 8 gate strings ---\n",
      "--- eLGST (least squares) ---\n",
      "  Sum of minimum least squares error (w/out reg terms) = 0.0146807\n",
      "   frobenius distance to target =  0.0577479001878\n",
      "\n",
      "--- Iterative eLGST: Beginning iter 4 of 10 : 18 gate strings ---\n",
      "--- eLGST (least squares) ---\n",
      "  Sum of minimum least squares error (w/out reg terms) = 0.0793128\n",
      "   frobenius distance to target =  0.057722007158\n",
      "\n",
      "--- Iterative eLGST: Beginning iter 5 of 10 : 29 gate strings ---\n",
      "--- eLGST (least squares) ---\n",
      "  Sum of minimum least squares error (w/out reg terms) = 0.123323\n",
      "   frobenius distance to target =  0.0579279771484\n",
      "\n",
      "--- Iterative eLGST: Beginning iter 6 of 10 : 40 gate strings ---\n",
      "--- eLGST (least squares) ---\n",
      "  Sum of minimum least squares error (w/out reg terms) = 0.193558\n",
      "   frobenius distance to target =  0.0575583465307\n",
      "\n",
      "--- Iterative eLGST: Beginning iter 7 of 10 : 51 gate strings ---\n",
      "--- eLGST (least squares) ---\n",
      "  Sum of minimum least squares error (w/out reg terms) = 0.271269\n",
      "   frobenius distance to target =  0.0575235722462\n",
      "\n",
      "--- Iterative eLGST: Beginning iter 8 of 10 : 62 gate strings ---\n",
      "--- eLGST (least squares) ---\n",
      "  Sum of minimum least squares error (w/out reg terms) = 0.343526\n",
      "   frobenius distance to target =  0.057539360534\n",
      "\n",
      "--- Iterative eLGST: Beginning iter 9 of 10 : 73 gate strings ---\n",
      "--- eLGST (least squares) ---\n",
      "  Sum of minimum least squares error (w/out reg terms) = 0.400736\n",
      "   frobenius distance to target =  0.0575433931016\n",
      "\n",
      "--- Iterative eLGST: Beginning iter 10 of 10 : 84 gate strings ---\n",
      "--- eLGST (least squares) ---\n",
      "  Sum of minimum least squares error (w/out reg terms) = 0.474292\n",
      "   frobenius distance to target =  0.0575443735376\n"
     ]
    }
   ],
   "source": [
    "#Get rho and E specifiers, needed by LGST\n",
    "specs  = GST.getRhoAndESpecs(fiducialGateStrings=fiducialList)\n",
    "germList = GST.loadGatestringList(\"tutorial_files/Example_GermsList.txt\")\n",
    "maxLengthList = json.load(open(\"tutorial_files/Example_maxLengths.json\",\"r\"))\n",
    "elgstListOfLists = [ GST.loadGatestringList(\"tutorial_files/Example_eLGSTlist%d.txt\" % l) for l in maxLengthList]\n",
    "                         \n",
    "gs_exlgst = GST.doIterativeExLGST(ds, gs_clgst, specs, elgstListOfLists, targetGateset=gs_target,\n",
    "                                  svdTruncateTo=4, verbosity=2)"
   ]
  },
  {
   "cell_type": "markdown",
   "metadata": {},
   "source": [
    "### Least squares GST"
   ]
  },
  {
   "cell_type": "code",
   "execution_count": 7,
   "metadata": {
    "collapsed": false
   },
   "outputs": [
    {
     "name": "stdout",
     "output_type": "stream",
     "text": [
      "\n",
      "--- Iterative LSGST: Beginning iter 1 of 10 : 92 gate strings ---\n",
      "--- Least Squares GST ---\n",
      "  Sum of Chi^2 = 48.2156 (92 data params - 56 model params = expected mean of 36)\n",
      "\n",
      "--- Iterative LSGST: Beginning iter 2 of 10 : 92 gate strings ---\n",
      "--- Least Squares GST ---\n",
      "  Sum of Chi^2 = 48.2156 (92 data params - 56 model params = expected mean of 36)\n",
      "\n",
      "--- Iterative LSGST: Beginning iter 3 of 10 : 168 gate strings ---\n",
      "--- Least Squares GST ---\n",
      "  Sum of Chi^2 = 130.576 (168 data params - 56 model params = expected mean of 112)\n",
      "\n",
      "--- Iterative LSGST: Beginning iter 4 of 10 : 441 gate strings ---\n",
      "--- Least Squares GST ---\n",
      "  Sum of Chi^2 = 422.595 (441 data params - 56 model params = expected mean of 385)\n",
      "\n",
      "--- Iterative LSGST: Beginning iter 5 of 10 : 817 gate strings ---\n",
      "--- Least Squares GST ---\n",
      "  Sum of Chi^2 = 768.626 (817 data params - 56 model params = expected mean of 761)\n",
      "\n",
      "--- Iterative LSGST: Beginning iter 6 of 10 : 1201 gate strings ---\n",
      "--- Least Squares GST ---\n",
      "  Sum of Chi^2 = 1153.92 (1201 data params - 56 model params = expected mean of 1145)\n",
      "\n",
      "--- Iterative LSGST: Beginning iter 7 of 10 : 1585 gate strings ---\n",
      "--- Least Squares GST ---\n",
      "  Sum of Chi^2 = 1605.8 (1585 data params - 56 model params = expected mean of 1529)\n",
      "\n",
      "--- Iterative LSGST: Beginning iter 8 of 10 : 1969 gate strings ---\n",
      "--- Least Squares GST ---\n",
      "  Sum of Chi^2 = 2041.44 (1969 data params - 56 model params = expected mean of 1913)\n",
      "\n",
      "--- Iterative LSGST: Beginning iter 9 of 10 : 2353 gate strings ---\n",
      "--- Least Squares GST ---\n",
      "  Sum of Chi^2 = 2430 (2353 data params - 56 model params = expected mean of 2297)\n",
      "\n",
      "--- Iterative LSGST: Beginning iter 10 of 10 : 2737 gate strings ---\n",
      "--- Least Squares GST ---\n",
      "  Sum of Chi^2 = 2799.74 (2737 data params - 56 model params = expected mean of 2681)\n"
     ]
    }
   ],
   "source": [
    "#Get lists of gate strings for successive iterations of LSGST to use\n",
    "specs  = GST.getRhoAndESpecs(fiducialGateStrings=fiducialList)\n",
    "germList = GST.loadGatestringList(\"tutorial_files/Example_GermsList.txt\")\n",
    "maxLengthList = json.load(open(\"tutorial_files/Example_maxLengths.json\",\"r\"))\n",
    "lsgstListOfLists = [ GST.loadGatestringList(\"tutorial_files/Example_LSGSTlist%d.txt\" % l) for l in maxLengthList]\n",
    "        \n",
    "gs_lsgst = GST.doIterativeLSGST(ds, gs_clgst, lsgstListOfLists, verbosity=2,\n",
    "                                minProbClipForWeighting=1e-6, probClipInterval=(-1e6,1e6) )"
   ]
  },
  {
   "cell_type": "code",
   "execution_count": 8,
   "metadata": {
    "collapsed": false
   },
   "outputs": [],
   "source": [
    "GST.writeGateset(gs_exlgst, \"tutorial_files/Example_eLGST_Gateset.txt\",\"# Example result from running eLGST\")\n",
    "GST.writeGateset(gs_lsgst,  \"tutorial_files/Example_LSGST_Gateset.txt\",\"# Example result from running LSGST\")"
   ]
  },
  {
   "cell_type": "code",
   "execution_count": 9,
   "metadata": {
    "collapsed": false
   },
   "outputs": [
    {
     "name": "stdout",
     "output_type": "stream",
     "text": [
      "\n",
      "--- Iterative LSGST: Beginning iter 1 of 10 : 92 gate strings ---\n",
      "--- Least Squares GST ---\n",
      "  Sum of Chi^2 = 71.5877 (92 data params - 56 model params = expected mean of 36)\n",
      "\n",
      "--- Iterative LSGST: Beginning iter 2 of 10 : 92 gate strings ---\n",
      "--- Least Squares GST ---\n",
      "  Sum of Chi^2 = 71.5877 (92 data params - 56 model params = expected mean of 36)\n",
      "\n",
      "--- Iterative LSGST: Beginning iter 3 of 10 : 168 gate strings ---\n",
      "--- Least Squares GST ---\n",
      "  Sum of Chi^2 = 165.482 (168 data params - 56 model params = expected mean of 112)\n",
      "\n",
      "--- Iterative LSGST: Beginning iter 4 of 10 : 441 gate strings ---\n",
      "--- Least Squares GST ---\n",
      "  Sum of Chi^2 = 428.861 (441 data params - 56 model params = expected mean of 385)\n",
      "\n",
      "--- Iterative LSGST: Beginning iter 5 of 10 : 817 gate strings ---\n",
      "--- Least Squares GST ---\n",
      "  Sum of Chi^2 = 769.85 (817 data params - 56 model params = expected mean of 761)\n",
      "\n",
      "--- Iterative LSGST: Beginning iter 6 of 10 : 1201 gate strings ---\n",
      "--- Least Squares GST ---\n",
      "  Sum of Chi^2 = 1182.06 (1201 data params - 56 model params = expected mean of 1145)\n",
      "\n",
      "--- Iterative LSGST: Beginning iter 7 of 10 : 1585 gate strings ---\n",
      "--- Least Squares GST ---\n",
      "  Sum of Chi^2 = 1549.4 (1585 data params - 56 model params = expected mean of 1529)\n",
      "\n",
      "--- Iterative LSGST: Beginning iter 8 of 10 : 1969 gate strings ---\n",
      "--- Least Squares GST ---\n",
      "  Sum of Chi^2 = 1900.6 (1969 data params - 56 model params = expected mean of 1913)\n",
      "\n",
      "--- Iterative LSGST: Beginning iter 9 of 10 : 2353 gate strings ---\n",
      "--- Least Squares GST ---\n",
      "  Sum of Chi^2 = 2295.93 (2353 data params - 56 model params = expected mean of 2297)\n",
      "\n",
      "--- Iterative LSGST: Beginning iter 10 of 10 : 2737 gate strings ---\n",
      "--- Least Squares GST ---\n",
      "  Sum of Chi^2 = 2670.41 (2737 data params - 56 model params = expected mean of 2681)\n"
     ]
    }
   ],
   "source": [
    "gs_lsgst_lowcnts = GST.doIterativeLSGST(dsLowCounts, gs_clgst, lsgstListOfLists, verbosity=2,\n",
    "                                        minProbClipForWeighting=1e-6, probClipInterval=(-1e6,1e6) )"
   ]
  },
  {
   "cell_type": "markdown",
   "metadata": {},
   "source": [
    "### Maximum Likelihood (MLE) GST"
   ]
  },
  {
   "cell_type": "code",
   "execution_count": 10,
   "metadata": {
    "collapsed": false,
    "scrolled": true
   },
   "outputs": [],
   "source": [
    "maxLengthList = json.load(open(\"tutorial_files/Example_maxLengths.json\",\"r\"))\n",
    "lsgstListOfLists = [ GST.loadGatestringList(\"tutorial_files/Example_LSGSTlist%d.txt\" % l) for l in maxLengthList] "
   ]
  },
  {
   "cell_type": "code",
   "execution_count": 11,
   "metadata": {
    "collapsed": false
   },
   "outputs": [
    {
     "name": "stdout",
     "output_type": "stream",
     "text": [
      "\n",
      "--- Iterative MLEGST: Beginning iter 1 of 10 : 92 gate strings ---\n",
      "--- Least Squares GST ---\n",
      "  Sum of Chi^2 = 48.2156 (92 data params - 56 model params = expected mean of 36)\n",
      "    2*Delta(log(L)) = 48.4602\n",
      "\n",
      "--- Iterative MLEGST: Beginning iter 2 of 10 : 92 gate strings ---\n",
      "--- Least Squares GST ---\n",
      "  Sum of Chi^2 = 48.2156 (92 data params - 56 model params = expected mean of 36)\n",
      "    2*Delta(log(L)) = 48.4603\n",
      "\n",
      "--- Iterative MLEGST: Beginning iter 3 of 10 : 168 gate strings ---\n",
      "--- Least Squares GST ---\n",
      "  Sum of Chi^2 = 130.576 (168 data params - 56 model params = expected mean of 112)\n",
      "    2*Delta(log(L)) = 130.935\n",
      "\n",
      "--- Iterative MLEGST: Beginning iter 4 of 10 : 441 gate strings ---\n",
      "--- Least Squares GST ---\n",
      "  Sum of Chi^2 = 422.578 (441 data params - 56 model params = expected mean of 385)\n",
      "    2*Delta(log(L)) = 423.427\n",
      "\n",
      "--- Iterative MLEGST: Beginning iter 5 of 10 : 817 gate strings ---\n",
      "--- Least Squares GST ---\n",
      "  Sum of Chi^2 = 768.607 (817 data params - 56 model params = expected mean of 761)\n",
      "    2*Delta(log(L)) = 770.358\n",
      "\n",
      "--- Iterative MLEGST: Beginning iter 6 of 10 : 1201 gate strings ---\n",
      "--- Least Squares GST ---\n",
      "  Sum of Chi^2 = 1153.91 (1201 data params - 56 model params = expected mean of 1145)\n",
      "    2*Delta(log(L)) = 1156.04\n",
      "\n",
      "--- Iterative MLEGST: Beginning iter 7 of 10 : 1585 gate strings ---\n",
      "--- Least Squares GST ---\n",
      "  Sum of Chi^2 = 1605.78 (1585 data params - 56 model params = expected mean of 1529)\n",
      "    2*Delta(log(L)) = 1608.31\n",
      "\n",
      "--- Iterative MLEGST: Beginning iter 8 of 10 : 1969 gate strings ---\n",
      "--- Least Squares GST ---\n",
      "  Sum of Chi^2 = 2041.43 (1969 data params - 56 model params = expected mean of 1913)\n",
      "    2*Delta(log(L)) = 2044.46\n",
      "\n",
      "--- Iterative MLEGST: Beginning iter 9 of 10 : 2353 gate strings ---\n",
      "--- Least Squares GST ---\n",
      "  Sum of Chi^2 = 2429.98 (2353 data params - 56 model params = expected mean of 2297)\n",
      "    2*Delta(log(L)) = 2433.43\n",
      "\n",
      "--- Iterative MLEGST: Beginning iter 10 of 10 : 2737 gate strings ---\n",
      "--- Least Squares GST ---\n",
      "  Sum of Chi^2 = 2799.7 (2737 data params - 56 model params = expected mean of 2681)\n",
      "    2*Delta(log(L)) = 2803.55\n",
      "--- Last Iteration: switching to MLE objective ---\n",
      "--- MLEGST ---\n",
      "  Maximum log(L) = 1401.43 below upper bound of -4.60013e+06\n",
      "    2*Delta(log(L)) = 2802.85 (2737 data params - 56 model params = expected mean of 2681)\n",
      "    2*Delta(log(L)) = 2802.85\n"
     ]
    }
   ],
   "source": [
    "gs_mle = GST.doIterativeMLEGST(ds, gs_clgst, lsgstListOfLists, probClipInterval=[-1e2,1e2], verbosity=2)"
   ]
  },
  {
   "cell_type": "code",
   "execution_count": 12,
   "metadata": {
    "collapsed": false,
    "scrolled": true
   },
   "outputs": [
    {
     "name": "stdout",
     "output_type": "stream",
     "text": [
      "\n",
      "--- Iterative MLEGST: Beginning iter 1 of 10 : 92 gate strings ---\n",
      "--- Least Squares GST ---\n",
      "  Sum of Chi^2 = 71.5875 (92 data params - 56 model params = expected mean of 36)\n",
      "    2*Delta(log(L)) = 73.4362\n",
      "\n",
      "--- Iterative MLEGST: Beginning iter 2 of 10 : 92 gate strings ---\n",
      "--- Least Squares GST ---\n",
      "  Sum of Chi^2 = 71.5875 (92 data params - 56 model params = expected mean of 36)\n",
      "    2*Delta(log(L)) = 73.4369\n",
      "\n",
      "--- Iterative MLEGST: Beginning iter 3 of 10 : 168 gate strings ---\n",
      "--- Least Squares GST ---\n",
      "  Sum of Chi^2 = 165.482 (168 data params - 56 model params = expected mean of 112)\n",
      "    2*Delta(log(L)) = 169.245\n",
      "\n",
      "--- Iterative MLEGST: Beginning iter 4 of 10 : 441 gate strings ---\n",
      "--- Least Squares GST ---\n",
      "  Sum of Chi^2 = 428.861 (441 data params - 56 model params = expected mean of 385)\n",
      "    2*Delta(log(L)) = 440.777\n",
      "\n",
      "--- Iterative MLEGST: Beginning iter 5 of 10 : 817 gate strings ---\n",
      "--- Least Squares GST ---\n",
      "  Sum of Chi^2 = 769.847 (817 data params - 56 model params = expected mean of 761)\n",
      "    2*Delta(log(L)) = 789.389\n",
      "\n",
      "--- Iterative MLEGST: Beginning iter 6 of 10 : 1201 gate strings ---\n",
      "--- Least Squares GST ---\n",
      "  Sum of Chi^2 = 1182.06 (1201 data params - 56 model params = expected mean of 1145)\n",
      "    2*Delta(log(L)) = 1210.06\n",
      "\n",
      "--- Iterative MLEGST: Beginning iter 7 of 10 : 1585 gate strings ---\n",
      "--- Least Squares GST ---\n",
      "  Sum of Chi^2 = 1549.4 (1585 data params - 56 model params = expected mean of 1529)\n",
      "    2*Delta(log(L)) = 1583.82\n",
      "\n",
      "--- Iterative MLEGST: Beginning iter 8 of 10 : 1969 gate strings ---\n",
      "--- Least Squares GST ---\n",
      "  Sum of Chi^2 = 1900.6 (1969 data params - 56 model params = expected mean of 1913)\n",
      "    2*Delta(log(L)) = 1941.34\n",
      "\n",
      "--- Iterative MLEGST: Beginning iter 9 of 10 : 2353 gate strings ---\n",
      "--- Least Squares GST ---\n",
      "  Sum of Chi^2 = 2295.93 (2353 data params - 56 model params = expected mean of 2297)\n",
      "    2*Delta(log(L)) = 2345.66\n",
      "\n",
      "--- Iterative MLEGST: Beginning iter 10 of 10 : 2737 gate strings ---\n",
      "--- Least Squares GST ---\n",
      "  Sum of Chi^2 = 2670.4 (2737 data params - 56 model params = expected mean of 2681)\n",
      "    2*Delta(log(L)) = 2727.55\n",
      "--- Last Iteration: switching to MLE objective ---\n",
      "--- MLEGST ---\n",
      "  Maximum log(L) = 1356.67 below upper bound of -228670\n",
      "    2*Delta(log(L)) = 2713.34 (2737 data params - 56 model params = expected mean of 2681)\n",
      "    2*Delta(log(L)) = 2713.34\n"
     ]
    }
   ],
   "source": [
    "gs_mle_lowcnts = GST.doIterativeMLEGST(dsLowCounts, gs_clgst, lsgstListOfLists, \n",
    "                                       probClipInterval=[-1e2,1e2], verbosity=2)"
   ]
  },
  {
   "cell_type": "markdown",
   "metadata": {},
   "source": [
    "##Compare MLE-GST with LS-GST"
   ]
  },
  {
   "cell_type": "code",
   "execution_count": 13,
   "metadata": {
    "collapsed": false
   },
   "outputs": [],
   "source": [
    "gs_mle = GST.optimizeGauge(gs_mle,\"target\",targetGateset=depol_gateset)\n",
    "gs_mle_lowcnts = GST.optimizeGauge(gs_mle_lowcnts,\"target\",targetGateset=depol_gateset)\n",
    "gs_lsgst = GST.optimizeGauge(gs_lsgst,\"target\",targetGateset=depol_gateset)\n",
    "gs_lsgst_lowcnts = GST.optimizeGauge(gs_lsgst_lowcnts,\"target\",targetGateset=depol_gateset)"
   ]
  },
  {
   "cell_type": "code",
   "execution_count": 15,
   "metadata": {
    "collapsed": false
   },
   "outputs": [
    {
     "name": "stdout",
     "output_type": "stream",
     "text": [
      " Frobenius diff btwn MLE and datagen =  0.0322203458694\n",
      "Frobenius diff btwn LSGST and datagen =  0.0356528339106\n",
      "Frobenius diff btwn MLE and LGST =  0.0119897115646\n",
      "Frobenius diff btwn MLE and LSGST =  0.00671203679081\n",
      "Chi^2( LSGST ) =  2799.73648978\n",
      "Chi^2( MLE ) =  2800.58538536\n",
      "LogL( LSGST ) =  -4601531.87\n",
      "LogL( MLE ) =  -4601531.52007\n"
     ]
    }
   ],
   "source": [
    "print \"Frobenius diff btwn MLE and datagen = \",gs_mle.diff_Frobenius(depol_gateset)\n",
    "print \"Frobenius diff btwn LSGST and datagen = \",gs_lsgst.diff_Frobenius(depol_gateset)\n",
    "print \"Frobenius diff btwn MLE and LGST = \",gs_mle.diff_Frobenius(gs_clgst)\n",
    "print \"Frobenius diff btwn MLE and LSGST = \",gs_mle.diff_Frobenius(gs_lsgst)\n",
    "print \"Chi^2( LSGST ) = \",GST.AT.TotalChiSquared(ds, gs_lsgst, lsgstListOfLists[-1])\n",
    "print \"Chi^2( MLE ) = \",GST.AT.TotalChiSquared(ds, gs_mle, lsgstListOfLists[-1] )\n",
    "print \"LogL( LSGST ) = \",GST.LF.logL(gs_lsgst, ds, lsgstListOfLists[-1], probClipInterval=[1e-4,1-1e-4])\n",
    "print \"LogL( MLE ) = \",GST.LF.logL(gs_mle, ds, lsgstListOfLists[-1], probClipInterval=[1e-4,1-1e-4])"
   ]
  },
  {
   "cell_type": "code",
   "execution_count": 16,
   "metadata": {
    "collapsed": false
   },
   "outputs": [
    {
     "name": "stdout",
     "output_type": "stream",
     "text": [
      "Frobenius diff btwn MLE and datagen =  0.0330990970595\n",
      "Frobenius diff btwn LSGST and datagen =  0.035106972596\n",
      "Frobenius diff btwn MLE and LGST =  0.0184621381202\n",
      "Frobenius diff btwn MLE and LSGST =  0.00819647089028\n",
      "Chi^2( LSGST ) =  2670.40472104\n",
      "Chi^2( MLE ) =  2684.71978217\n",
      "LogL( LSGST ) =  -230034.070762\n",
      "LogL( MLE ) =  -230026.900449\n"
     ]
    }
   ],
   "source": [
    "print \"Frobenius diff btwn MLE and datagen = \",gs_mle_lowcnts.diff_Frobenius(depol_gateset)\n",
    "print \"Frobenius diff btwn LSGST and datagen = \",gs_lsgst_lowcnts.diff_Frobenius(depol_gateset)\n",
    "print \"Frobenius diff btwn MLE and LGST = \",gs_mle_lowcnts.diff_Frobenius(gs_clgst)\n",
    "print \"Frobenius diff btwn MLE and LSGST = \",gs_mle_lowcnts.diff_Frobenius(gs_lsgst_lowcnts)\n",
    "print \"Chi^2( LSGST ) = \",GST.AT.TotalChiSquared(dsLowCounts, gs_lsgst_lowcnts)\n",
    "print \"Chi^2( MLE ) = \",GST.AT.TotalChiSquared(dsLowCounts, gs_mle_lowcnts)\n",
    "print \"LogL( LSGST ) = \",GST.LF.logL(gs_lsgst_lowcnts, dsLowCounts, probClipInterval=[1e-12,1-1e-12])\n",
    "print \"LogL( MLE ) = \",GST.LF.logL(gs_mle_lowcnts, dsLowCounts, probClipInterval=[1e-12,1-1e-12])"
   ]
  },
  {
   "cell_type": "code",
   "execution_count": null,
   "metadata": {
    "collapsed": true
   },
   "outputs": [],
   "source": [
    "#OLD - construct an old-style gateset, which at one point was needed to keep MLEGST running before\n",
    "#       it was updated.\n",
    "\n",
    "#Note: could use gateset with (-1,-1) spam label here to be consistent\n",
    "#  with trace preservation of MLE (opt_G0 = opt_SP0 = False).\n",
    "#bUseM1M1Gateset = False\n",
    "#if bUseM1M1Gateset:\n",
    "#    gateset_fixTrace = GST.buildGateset( [2], [('Q0',)],['Gi','Gx','Gy'], \n",
    "#                                 [ \"I(Q0)\",\"X(pi/2,Q0)\", \"Y(pi/2,Q0)\"],\n",
    "#                                 rhoExpressions=[\"0\"], EExpressions=[\"1\"], \n",
    "#                                 spamLabelDict={'plus': (0,0), 'minus': (-1,-1) }) #basis=\"gm\" )\n",
    "#\n",
    "#    specs = GST.getRhoAndESpecs(fiducialGateStrings=fiducialList)\n",
    "#    gs_lgst_4mle = GST.doLGST(ds, specs, targetGateset=gateset_fixTrace, svdTruncateTo=4, verbosity=1)\n",
    "#\n",
    "#    #Gauge optimize the result to match the target gateset\n",
    "#    gs_lgst_4mle_after_gauge_opt = GST.optimizeGauge(gs_lgst_4mle, \"target\", targetGateset=gs_target)\n",
    "#\n",
    "#    #Contract the result to CPTP\n",
    "#    gs_clgst_4mle = GST.contract(gs_lgst_4mle_after_gauge_opt, \"CPTP\")\n",
    "#else:\n",
    "#    gs_clgst_4mle = gs_clgst"
   ]
  }
 ],
 "metadata": {
  "kernelspec": {
   "display_name": "Python 2",
   "language": "python",
   "name": "python2"
  },
  "language_info": {
   "codemirror_mode": {
    "name": "ipython",
    "version": 2
   },
   "file_extension": ".py",
   "mimetype": "text/x-python",
   "name": "python",
   "nbconvert_exporter": "python",
   "pygments_lexer": "ipython2",
   "version": "2.7.3"
  }
 },
 "nbformat": 4,
 "nbformat_minor": 0
}
