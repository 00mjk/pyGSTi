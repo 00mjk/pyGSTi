{
 "cells": [
  {
   "cell_type": "markdown",
   "metadata": {},
   "source": [
    "The purpose of GST's fiducials is to generate an informationally-complete set of states and measurements. However, it's possible to _reduce_ the number of fiducials necessary to do so.\n",
    "\n",
    "In this tutorial, we use the `pygsti.alg.find_sufficient_fiducial_pairs` function to reduce the number of fiducials necessary for GST."
   ]
  },
  {
   "cell_type": "code",
   "execution_count": 9,
   "metadata": {
    "collapsed": true
   },
   "outputs": [],
   "source": [
    "import pygsti\n",
    "import json"
   ]
  },
  {
   "cell_type": "code",
   "execution_count": 10,
   "metadata": {
    "collapsed": false
   },
   "outputs": [
    {
     "name": "stdout",
     "output_type": "stream",
     "text": [
      "Loading from cache file:  tutorial_files/Example_Dataset.txt.cache\n"
     ]
    }
   ],
   "source": [
    "# Follow Algorithm tutorial to generate LGST gatesets\n",
    "gs_target = pygsti.io.load_gateset(\"tutorial_files/Example_Gateset.txt\")\n",
    "ds = pygsti.io.load_dataset(\"tutorial_files/Example_Dataset.txt\", cache=True)\n",
    "fiducialList = pygsti.io.load_gatestring_list(\"tutorial_files/Example_FiducialList.txt\")\n",
    "\n",
    "#Run LGST to get an initial estimate for the gates in gs_target based on the data in ds\n",
    "specs = pygsti.construction.build_spam_specs(fiducialGateStrings=fiducialList)\n",
    "gs_lgst = pygsti.do_lgst(ds, specs, targetGateset=gs_target, svdTruncateTo=4, verbosity=1)\n",
    "\n",
    "#Gauge optimize the result to match the target gateset\n",
    "gs_lgst_after_gauge_opt = pygsti.optimize_gauge(gs_lgst, \"target\", targetGateset=gs_target)\n",
    "\n",
    "#Contract the result to CPTP\n",
    "gs_clgst = pygsti.contract(gs_lgst_after_gauge_opt, \"CPTP\")\n",
    "\n",
    "#Get lists of gate strings for successive iterations of LGST to use\n",
    "specs  = pygsti.construction.build_spam_specs(fiducialGateStrings=fiducialList)\n",
    "germList = pygsti.io.load_gatestring_list(\"tutorial_files/Example_GermsList.txt\")\n",
    "maxLengthList = json.load(open(\"tutorial_files/Example_maxLengths.json\",\"r\"))"
   ]
  },
  {
   "cell_type": "code",
   "execution_count": 11,
   "metadata": {
    "collapsed": false
   },
   "outputs": [
    {
     "name": "stdout",
     "output_type": "stream",
     "text": [
      "  ------  Fiducial Pair Reduction --------\n",
      "  maximum number of amplified parameters = 34\n",
      "  Beginning search for a good set of 1 pairs (36 pair lists to test)\n",
      "  Beginning search for a good set of 2 pairs (630 pair lists to test)\n",
      "  Beginning search for a good set of 3 pairs (7140 pair lists to test)\n",
      "[(0, 0), (0, 1), (1, 0)]\n"
     ]
    }
   ],
   "source": [
    "#Get sufficient set of fiducial pairs, meaning that with these fidicual pairs and the given set of germs,\n",
    "# the number of gateset parameters which are amplified when all pairs are used are also amplified when using\n",
    "# the returned subset.\n",
    "fidPairs = pygsti.alg.find_sufficient_fiducial_pairs(gs_target, fiducialList, fiducialList, germList, verbosity=1)\n",
    "print(fidPairs)"
   ]
  },
  {
   "cell_type": "code",
   "execution_count": 12,
   "metadata": {
    "collapsed": false,
    "scrolled": true
   },
   "outputs": [],
   "source": [
    "#Test a specific set of fiducial pairs: see how many gateset parameter are amplified\n",
    "#FPR.find_sufficient_fiducial_pairs(gs_target, fiducialList, germList, testPairList=[(0,0),(0,1),(1,0)], verbosity=4)"
   ]
  },
  {
   "cell_type": "code",
   "execution_count": 13,
   "metadata": {
    "collapsed": false,
    "scrolled": false
   },
   "outputs": [
    {
     "name": "stdout",
     "output_type": "stream",
     "text": [
      "  --- Iterative MC2GST: Iter 0 of 9  92 gate strings ---: \n",
      "  --- Minimum Chi^2 GST ---\n",
      "    Sum of Chi^2 = 48.2156 (92 data params - 40 model params = expected mean of 52; p-value = 0.623488)\n",
      "  --- Iterative MC2GST: Iter 1 of 9  92 gate strings ---: \n",
      "  --- Minimum Chi^2 GST ---\n",
      "    Sum of Chi^2 = 48.2156 (92 data params - 40 model params = expected mean of 52; p-value = 0.623489)\n",
      "  --- Iterative MC2GST: Iter 2 of 9  95 gate strings ---: \n",
      "  --- Minimum Chi^2 GST ---\n",
      "    Sum of Chi^2 = 51.0054 (95 data params - 40 model params = expected mean of 55; p-value = 0.627974)\n",
      "  --- Iterative MC2GST: Iter 3 of 9  114 gate strings ---: \n",
      "  --- Minimum Chi^2 GST ---\n",
      "    Sum of Chi^2 = 76.4798 (114 data params - 40 model params = expected mean of 74; p-value = 0.398864)\n",
      "  --- Iterative MC2GST: Iter 4 of 9  146 gate strings ---: \n",
      "  --- Minimum Chi^2 GST ---\n",
      "    Sum of Chi^2 = 117.179 (146 data params - 40 model params = expected mean of 106; p-value = 0.215418)\n",
      "  --- Iterative MC2GST: Iter 5 of 9  178 gate strings ---: \n",
      "  --- Minimum Chi^2 GST ---\n",
      "    Sum of Chi^2 = 145.915 (178 data params - 40 model params = expected mean of 138; p-value = 0.305873)\n",
      "  --- Iterative MC2GST: Iter 6 of 9  210 gate strings ---: \n",
      "  --- Minimum Chi^2 GST ---\n",
      "    Sum of Chi^2 = 190.552 (210 data params - 40 model params = expected mean of 170; p-value = 0.13384)\n",
      "  --- Iterative MC2GST: Iter 7 of 9  242 gate strings ---: \n",
      "  --- Minimum Chi^2 GST ---\n",
      "    Sum of Chi^2 = 233.121 (242 data params - 40 model params = expected mean of 202; p-value = 0.0657696)\n",
      "  --- Iterative MC2GST: Iter 8 of 9  274 gate strings ---: \n",
      "  --- Minimum Chi^2 GST ---\n",
      "    Sum of Chi^2 = 267.547 (274 data params - 40 model params = expected mean of 234; p-value = 0.065175)\n",
      "  --- Iterative MC2GST: Iter 9 of 9  306 gate strings ---: \n",
      "  --- Minimum Chi^2 GST ---\n",
      "    Sum of Chi^2 = 291.434 (306 data params - 40 model params = expected mean of 266; p-value = 0.136086)\n"
     ]
    }
   ],
   "source": [
    "lsgstListOfLists = pygsti.construction.make_lsgst_lists(gs_target.gates.keys(), fiducialList, fiducialList,\n",
    "                                                        germList, maxLengthList, fidPairs)\n",
    "\n",
    "gs_lsgst_list = pygsti.do_iterative_mc2gst(ds, gs_clgst, lsgstListOfLists, verbosity=2,\n",
    "                                         minProbClipForWeighting=1e-6, probClipInterval=(-1e6,1e6),\n",
    "                                         returnAll=True )"
   ]
  },
  {
   "cell_type": "code",
   "execution_count": 14,
   "metadata": {
    "collapsed": true
   },
   "outputs": [],
   "source": [
    "# Compute a few additional quantities needed to generate the report\n",
    "Ls = maxLengthList\n",
    "gateStrDict = { (L,germ):pygsti.construction.repeat_with_max_length(germ,L,False) for L in Ls for germ in germList }\n",
    "\n",
    "#remove duplicates by replacing duplicate strings with None\n",
    "runningList = []\n",
    "for L in Ls:\n",
    "    for germ in germList:\n",
    "        if gateStrDict[(L,germ)] in runningList:\n",
    "            gateStrDict[(L,germ)] = None\n",
    "        else: runningList.append( gateStrDict[(L,germ)] )"
   ]
  },
  {
   "cell_type": "code",
   "execution_count": 15,
   "metadata": {
    "collapsed": true
   },
   "outputs": [],
   "source": [
    "#optimize each gateset to the target\n",
    "gs_lsgst_list = [ pygsti.optimize_gauge(gs, \"target\", targetGateset=gs_target) for gs in gs_lsgst_list ]"
   ]
  },
  {
   "cell_type": "code",
   "execution_count": 16,
   "metadata": {
    "collapsed": false,
    "scrolled": true
   },
   "outputs": [
    {
     "name": "stdout",
     "output_type": "stream",
     "text": [
      "  *** Generating tables ***\n",
      "   Iter 00 of 16 :   Generating table: targetSpamTable\n",
      "   Iter 01 of 16 :   Generating table: targetGatesTable\n",
      "   Iter 02 of 16 :   Generating table: datasetOverviewTable\n",
      "   Iter 03 of 16 :   Generating table: bestGatesetSpamTable\n",
      "   Iter 04 of 16 :   Generating table: bestGatesetSpamParametersTable\n",
      "   Iter 05 of 16 :   Generating table: bestGatesetGatesTable\n",
      "   Iter 06 of 16 :   Generating table: bestGatesetChoiTable\n",
      "   Iter 07 of 16 :   Generating table: bestGatesetDecompTable\n",
      "   Iter 08 of 16 :   Generating table: bestGatesetRotnAxisTable\n",
      "   Iter 09 of 16 :   Generating table: bestGatesetClosestUnitaryTable\n"
     ]
    },
    {
     "name": "stderr",
     "output_type": "stream",
     "text": [
      "/home/lsaldyt/.local/lib/python3.5/site-packages/numpy/lib/twodim_base.py:233: VisibleDeprecationWarning: using a non-integer number instead of an integer will result in an error in the future\n",
      "  m = zeros((N, M), dtype=dtype)\n",
      "/home/lsaldyt/.local/lib/python3.5/site-packages/numpy/lib/twodim_base.py:240: VisibleDeprecationWarning: using a non-integer number instead of an integer will result in an error in the future\n",
      "  m[:M-k].flat[i::M+1] = 1\n"
     ]
    },
    {
     "name": "stdout",
     "output_type": "stream",
     "text": [
      "   Iter 10 of 16 :   Generating table: bestGatesetVsTargetTable\n",
      "   Iter 11 of 16 :   Generating table: bestGatesetErrorGenTable\n",
      "   Iter 12 of 16 :   Generating table: fiducialListTable\n",
      "   Iter 13 of 16 :   Generating table: prepStrListTable\n",
      "   Iter 14 of 16 :   Generating table: effectStrListTable\n",
      "   Iter 15 of 16 :   Generating table: germListTable\n",
      "   Iter 16 of 16 :   Generating table: progressTable\n",
      "  *** Generating plots ***\n",
      "  Chi2 plots (2): \n",
      "   Iter 0 of 1 :   Generating figure: bestEstimateColorBoxPlot\n",
      "   Iter 1 of 1 :   Generating figure: invertedBestEstimateColorBoxPlot\n",
      "  \n",
      "  *** Merging into template file ***\n",
      "  Latex file(s) successfully generated.  Attempting to compile with pdflatex...\n",
      "  Initial output PDF tutorial_files/Example_report_FR.pdf successfully generated.\n",
      "  Final output PDF tutorial_files/Example_report_FR.pdf successfully generated. Cleaning up .aux and .log files.\n"
     ]
    }
   ],
   "source": [
    "res = pygsti.report.Results()\n",
    "res.init_Ls_and_germs(\"chi2\", gs_target, ds, gs_clgst, maxLengthList, germList,\n",
    "                    gs_lsgst_list, lsgstListOfLists, fiducialList, fiducialList, \n",
    "                    pygsti.construction.repeat_with_max_length, False, fidPairs)\n",
    "\n",
    "res.create_full_report_pdf(filename=\"tutorial_files/Example_report_FR.pdf\", verbosity=2)"
   ]
  },
  {
   "cell_type": "code",
   "execution_count": null,
   "metadata": {
    "collapsed": true
   },
   "outputs": [],
   "source": []
  },
  {
   "cell_type": "code",
   "execution_count": null,
   "metadata": {
    "collapsed": true
   },
   "outputs": [],
   "source": []
  },
  {
   "cell_type": "code",
   "execution_count": null,
   "metadata": {
    "collapsed": true
   },
   "outputs": [],
   "source": []
  }
 ],
 "metadata": {
  "kernelspec": {
   "display_name": "Python 3",
   "language": "python",
   "name": "python3"
  },
  "language_info": {
   "codemirror_mode": {
    "name": "ipython",
    "version": 3
   },
   "file_extension": ".py",
   "mimetype": "text/x-python",
   "name": "python",
   "nbconvert_exporter": "python",
   "pygments_lexer": "ipython3",
   "version": "3.5.1+"
  }
 },
 "nbformat": 4,
 "nbformat_minor": 0
}
