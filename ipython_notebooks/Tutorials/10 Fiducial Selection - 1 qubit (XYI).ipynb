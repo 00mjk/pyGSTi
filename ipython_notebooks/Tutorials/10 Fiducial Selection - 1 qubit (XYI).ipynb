{
 "cells": [
  {
   "cell_type": "code",
   "execution_count": 1,
   "metadata": {
    "collapsed": false
   },
   "outputs": [],
   "source": [
    "#Import relevant modules.\n",
    "\n",
    "import pygsti\n",
    "import numpy as _np\n",
    "\n",
    "from pygsti.algorithms import fiducialselection as FS\n",
    "\n",
    "from pygsti.construction import std1Q_XYI\n",
    "#from pygsti.construction import std1Q_XY\n",
    "\n",
    "import matplotlib.pyplot as plt\n",
    "%matplotlib inline\n",
    "\n",
    "import time"
   ]
  },
  {
   "cell_type": "markdown",
   "metadata": {},
   "source": [
    "In this notebook, we'll demonstrate how to select preparation and measurement fiducials for the standard single-qubit XYI gate set.  The results are very straightforward to generalize for a non-XYI single-qubit gateset or a multiqubit gate set.\n",
    "\n",
    "Fiducial selection is not quite as much of a \"dark art\" as germ selection is, but there are nonetheless equally valid choices one can make in terms of inputs to the fiducial selection function.  (The observant user will notice striking similarities between this tutorial notebook and the germ selection notebook.)  At present, we demonstrate only a subset of the functionality, but we endeavour to explain the remaining functionality as well."
   ]
  },
  {
   "cell_type": "code",
   "execution_count": 2,
   "metadata": {
    "collapsed": false
   },
   "outputs": [],
   "source": [
    "#Import the target gate set we will select fiducials for.\n",
    "#Here, it is the standard X pi/2, Y pi/2, I gate set.\n",
    "gs_target = std1Q_XYI.gs_target"
   ]
  },
  {
   "cell_type": "markdown",
   "metadata": {},
   "source": [
    "Let's now try to actually pick out a fiducial set.  The fiducial selection output will strongly depend on several different inputs to the function optimize_integer_fiducials_slack (argument name given in parenthesis):\n",
    "\n",
    "0.  Whether we are attempting to compute prep. fiducials or measurement fiducials (prepOrMeas)\n",
    "1.  The list of candidate germs from which the fiducials set will be chosen.  (fiducialList)\n",
    "2.  The initial subset of candidate fiducials which the optimizer tests.  (initialWeights; default is None, meaning that all candidate fiducials are included in the first germ set test)\n",
    "3.  The relaxation scheme used to reduce the germ list size:\n",
    "\n",
    "    3a.  The absolute score a germ set is allowed to achieve (fixedSlack) OR\n",
    "    \n",
    "    3b.  The relative score a germ set is allowed to achieve (slackFrac)\n",
    "    \n",
    "    Typically we will use fixedSlack, and we find that fixedSlack << 1 is still sufficient.\n",
    "4.  Whether or not the fiducial set *must* contain the empty string (forceEmpty)\n",
    "\n",
    "The output should depend much more weakly on the tolerance value (tol) passed to the optimizer.\n",
    "\n",
    "Here we demonstrate particular choices for the above inputs.  By parameter counting, one can see that these particular instances yield \"optimal\" results.  However, we make no claims of optimality for these choices in general (particularly when 2 or more qubits are considered).  End users are encouraged to experiment themselves with these inputs.  They are also welcome to email pygsti@sandia.gov; the pyGSTi development team will try to assist."
   ]
  },
  {
   "cell_type": "code",
   "execution_count": 3,
   "metadata": {
    "collapsed": true
   },
   "outputs": [],
   "source": [
    "#Let's try to pick out a fiducial set.  \n",
    "\n",
    "#First, we generate a candidate set which we'll attempt to prune.\n",
    "#Here, we're looking at all* gate string sequences of maximum length 3.\n",
    "\n",
    "#*Excluding powers and cycles.  I.e., if Gx is included as a germ, then GxGx will not be.\n",
    "#Similarly, if GxGyGy is included as a germ, then GyGxGy will not be.\n",
    "\n",
    "max_length = 3\n",
    "gates = ['Gx','Gy']#We omit any identity operations here, as we don't want them in our fiducials.\n",
    "\n",
    "testFidList = pygsti.construction.gatestring_list([()])#We want to include the empty nothing for no time as a fiducial.\n",
    "testFidList += pygsti.construction.list_all_gatestrings_without_powers_and_cycles(gates,max_length)"
   ]
  },
  {
   "cell_type": "code",
   "execution_count": 4,
   "metadata": {
    "collapsed": false
   },
   "outputs": [
    {
     "name": "stdout",
     "output_type": "stream",
     "text": [
      "Starting fiducial set optimization. Lower score is better.\n",
      "Iteration 0: score=40, nFids=6\n",
      "Moving to better neighbor\n",
      "Iteration 1: score=35, nFids=5\n",
      "Moving to better neighbor\n",
      "Iteration 2: score=32, nFids=4\n",
      "Stationary point found!\n",
      "score =  32.000032\n",
      "weights =  [1 0 1 0 1 1]\n",
      "L1(weights) =  4\n",
      "\n",
      "Fiducial selection completed in 0.00282096862793 seconds.\n",
      "[GateString({}), GateString(Gy), GateString(GxGxGy), GateString(GxGyGy)]\n"
     ]
    }
   ],
   "source": [
    "start = time.time()\n",
    "prepFidList1 = FS.optimize_integer_fiducials_slack(gs_target,testFidList,prepOrMeas='prep',initialWeights=None,slackFrac=1e-6)\n",
    "end = time.time()\n",
    "print\n",
    "print \"Fiducial selection completed in\", end-start, \"seconds.\"\n",
    "print prepFidList1"
   ]
  },
  {
   "cell_type": "code",
   "execution_count": 5,
   "metadata": {
    "collapsed": false
   },
   "outputs": [
    {
     "name": "stdout",
     "output_type": "stream",
     "text": [
      "Starting fiducial set optimization. Lower score is better.\n",
      "Iteration 0: score=40, nFids=6\n",
      "Moving to better neighbor\n",
      "Iteration 1: score=35, nFids=5\n",
      "Moving to better neighbor\n",
      "Iteration 2: score=32, nFids=4\n",
      "Stationary point found!\n",
      "score =  32.000032\n",
      "weights =  [1 1 0 0 1 1]\n",
      "L1(weights) =  4\n",
      "\n",
      "Fiducial selection completed in 0.00277090072632 seconds.\n",
      "[GateString({}), GateString(Gx), GateString(GxGxGy), GateString(GxGyGy)]\n"
     ]
    },
    {
     "name": "stderr",
     "output_type": "stream",
     "text": [
      "/Users/kmrudin/pyGSTi/packages/pygsti/algorithms/fiducialselection.py:236: RuntimeWarning: divide by zero encountered in divide\n",
      "  score = numFids * _np.sum(1./_np.linalg.eigvalsh(scoreSqMx))\n"
     ]
    }
   ],
   "source": [
    "start = time.time()\n",
    "measFidList1 = FS.optimize_integer_fiducials_slack(gs_target,testFidList,prepOrMeas='meas',initialWeights=None,slackFrac=1e-6)\n",
    "end = time.time()\n",
    "print\n",
    "print \"Fiducial selection completed in\", end-start, \"seconds.\"\n",
    "print measFidList1"
   ]
  },
  {
   "cell_type": "code",
   "execution_count": null,
   "metadata": {
    "collapsed": true
   },
   "outputs": [],
   "source": [
    "#Don't worry if the above returns a divide by zero warning; this just means one of the tested cases was *really* bad."
   ]
  },
  {
   "cell_type": "code",
   "execution_count": 6,
   "metadata": {
    "collapsed": false
   },
   "outputs": [
    {
     "name": "stdout",
     "output_type": "stream",
     "text": [
      "We have selected our preparation fiducials to be:\n",
      "\t{}\n",
      "\tGy\n",
      "\tGxGxGy\n",
      "\tGxGyGy\n"
     ]
    }
   ],
   "source": [
    "print \"We have selected our preparation fiducials to be:\"\n",
    "for fid in prepFidList1:\n",
    "    print '\\t',fid"
   ]
  },
  {
   "cell_type": "code",
   "execution_count": 7,
   "metadata": {
    "collapsed": false
   },
   "outputs": [
    {
     "name": "stdout",
     "output_type": "stream",
     "text": [
      "We have selected our measurement fiducials to be:\n",
      "\t{}\n",
      "\tGx\n",
      "\tGxGxGy\n",
      "\tGxGyGy\n"
     ]
    }
   ],
   "source": [
    "print \"We have selected our measurement fiducials to be:\"\n",
    "for fid in measFidList1:\n",
    "    print '\\t',fid"
   ]
  },
  {
   "cell_type": "code",
   "execution_count": 15,
   "metadata": {
    "collapsed": false
   },
   "outputs": [
    {
     "data": {
      "text/plain": [
       "(True, array([ 18.24621125,   8.        ,   4.        ,   1.75378875]))"
      ]
     },
     "execution_count": 15,
     "metadata": {},
     "output_type": "execute_result"
    }
   ],
   "source": [
    "FS.test_fiducial_list(gs_target,prepFidList1,'prep',returnSpectrum=True)"
   ]
  },
  {
   "cell_type": "code",
   "execution_count": 13,
   "metadata": {
    "collapsed": false
   },
   "outputs": [
    {
     "data": {
      "text/plain": [
       "(True, array([ 18.24621125,   8.        ,   4.        ,   1.75378875]))"
      ]
     },
     "execution_count": 13,
     "metadata": {},
     "output_type": "execute_result"
    }
   ],
   "source": [
    "FS.test_fiducial_list(gs_target,measFidList1,'meas',returnSpectrum=True)"
   ]
  },
  {
   "cell_type": "code",
   "execution_count": 12,
   "metadata": {
    "collapsed": true
   },
   "outputs": [],
   "source": [
    "#Note that in practice, we use a set of six fiducials both for prep and measure (stored as std1Q_XYI.fiducials).\n",
    "#This is for greater numerical stability; for single-qubit GST, we recommend 6 preparation and 6 measurement fiducials,\n",
    "#as the added cost is not too great, and this provides prep and measure fiducials corresponding to all 6 antipodal\n",
    "#points on the Bloch sphere, for a nice level of symmetry.\n",
    "\n",
    "#However, for multiqubit GST, experimental resources become more valuable, and we recommend simply directly using \n",
    "#the outputs of the fiducial selection code."
   ]
  }
 ],
 "metadata": {
  "kernelspec": {
   "display_name": "Python 2",
   "language": "python",
   "name": "python2"
  },
  "language_info": {
   "codemirror_mode": {
    "name": "ipython",
    "version": 2
   },
   "file_extension": ".py",
   "mimetype": "text/x-python",
   "name": "python",
   "nbconvert_exporter": "python",
   "pygments_lexer": "ipython2",
   "version": "2.7.9"
  }
 },
 "nbformat": 4,
 "nbformat_minor": 0
}
