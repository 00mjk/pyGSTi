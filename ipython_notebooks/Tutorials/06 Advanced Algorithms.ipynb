{
 "cells": [
  {
   "cell_type": "markdown",
   "metadata": {},
   "source": [
    "Some parts of `pygsti` are works-in-progress. Here, we investigate how to do the task of \"model selection\" within GST, essentially answering the question \"Can we do a better job of modeling the experiment by changing the assumptions within GST?\"."
   ]
  },
  {
   "cell_type": "markdown",
   "metadata": {},
   "source": [
    "## Testing variable-gateset-dimension GST with model selection"
   ]
  },
  {
   "cell_type": "markdown",
   "metadata": {},
   "source": [
    "###     Setup"
   ]
  },
  {
   "cell_type": "code",
   "execution_count": 11,
   "metadata": {
    "collapsed": false
   },
   "outputs": [],
   "source": [
    "import pygsti"
   ]
  },
  {
   "cell_type": "code",
   "execution_count": 12,
   "metadata": {
    "collapsed": false
   },
   "outputs": [],
   "source": [
    "#Load gateset and some string lists\n",
    "gs_target = pygsti.io.load_gateset(\"tutorial_files/Example_Gateset.txt\")\n",
    "fiducialList = pygsti.io.load_gatestring_list(\"tutorial_files/Example_FiducialList.txt\")\n",
    "germList = pygsti.io.load_gatestring_list(\"tutorial_files/Example_GermsList.txt\")\n",
    "specs = pygsti.construction.build_spam_specs(fiducialList)\n",
    "expList = [1,2,4]\n"
   ]
  },
  {
   "cell_type": "code",
   "execution_count": 13,
   "metadata": {
    "collapsed": false
   },
   "outputs": [],
   "source": [
    "#Create some testing gate string lists\n",
    "lgstList = pygsti.construction.list_lgst_gatestrings(specs, gs_target.gates.keys())\n",
    "lsgstLists = [ lgstList[:] ]\n",
    "for exp in expList:\n",
    "    gsList = pygsti.construction.create_gatestring_list(\n",
    "                \"f0+germ*exp+f1\", f0=fiducialList, f1=fiducialList,\n",
    "                germ=germList, exp=exp, order=['germ','f0','f1'])\n",
    "    lsgstLists.append( lsgstLists[-1] +  gsList )\n",
    "    \n",
    "dsList = pygsti.remove_duplicates( lsgstLists[-1] )"
   ]
  },
  {
   "cell_type": "code",
   "execution_count": 14,
   "metadata": {
    "collapsed": false
   },
   "outputs": [
    {
     "name": "stdout",
     "output_type": "stream",
     "text": [
      "odict_keys(['Gi', 'Gx', 'Gy'])\n"
     ]
    }
   ],
   "source": [
    "#Test on fake data by depolarizing target set, increasing its dimension,\n",
    "# and adding leakage to the gates into the new dimension.\n",
    "\n",
    "gs_dataGen4 = gs_target.depolarize(gate_noise=0.1)\n",
    "gs_dataGen5 = gs_dataGen4.increase_dimension(5)\n",
    "leakGate = pygsti.construction.build_gate( [2,1],[('Q0',),('L0',)] , \"LX(pi/4.0,0,2)\",\"gm\") # X(pi,Q0)*LX(pi,0,2)\n",
    "\n",
    "gs_dataGen5['Gx'] = pygsti.objects.compose( gs_dataGen5['Gx'], leakGate)\n",
    "gs_dataGen5['Gy'] = pygsti.objects.compose( gs_dataGen5['Gy'], leakGate)\n",
    "print(gs_dataGen5.gates.keys())\n",
    "\n",
    "#Some debugging...\n",
    "#NOTE: with LX(pi,0,2) above, dim 5 test will choose a dimension 3 gateset, which may be sensible\n",
    "#       looking at the gate matrices in this case... but maybe LX(pi,...) is faulty?\n",
    "#print gs_dataGen4\n",
    "#print gs_dataGen5\n",
    "\n",
    "#Jmx = GST.JOps.jamiolkowski_iso(gs_dataGen4['Gx'])\n",
    "#Jmx = GST.JOps.jamiolkowski_iso(gs_dataGen5['Gx'],dimOrStateSpaceDims=[2,1])\n",
    "#print \"J = \\n\",Jmx\n",
    "#print \"evals = \",eigvals(Jmx)\n",
    "\n",
    "dsFake4 = pygsti.construction.generate_fake_data(gs_dataGen4, dsList, nSamples=1000000, sampleError=\"binomial\", seed=1234)\n",
    "dsFake5 = pygsti.construction.generate_fake_data(gs_dataGen5, dsList, nSamples=1000000, sampleError=\"binomial\", seed=1234)"
   ]
  },
  {
   "cell_type": "code",
   "execution_count": 15,
   "metadata": {
    "collapsed": false
   },
   "outputs": [
    {
     "name": "stdout",
     "output_type": "stream",
     "text": [
      "Number of gates                        =  3\n",
      "Number of fiducials                    = 6\n",
      "Maximum length for a gate string in ds = 30\n",
      "Number of LGST strings                 =  92\n",
      "Number of LSGST strings                =  <map object at 0x7f40671957f0>\n"
     ]
    }
   ],
   "source": [
    "print(\"Number of gates                        = \",len(gs_target.gates.keys()))\n",
    "print(\"Number of fiducials                    =\",len(fiducialList))\n",
    "print(\"Maximum length for a gate string in ds =\",max(map(len,dsList)))\n",
    "print(\"Number of LGST strings                 = \",len(lgstList))\n",
    "print(\"Number of LSGST strings                = \",map(len,lsgstLists))"
   ]
  },
  {
   "cell_type": "markdown",
   "metadata": {},
   "source": [
    "### Test using dimension-4 fake data"
   ]
  },
  {
   "cell_type": "code",
   "execution_count": 16,
   "metadata": {
    "collapsed": false,
    "scrolled": false
   },
   "outputs": [
    {
     "name": "stdout",
     "output_type": "stream",
     "text": [
      "      ('LGST: Singular values of I_tilde (truncating to first 4 of 6) = \\n', array([  3.00484791e+00,   8.25822588e-01,   6.70903966e-01,\n",
      "         6.65330643e-01,   1.32123551e-03,   7.62101431e-04]))\n",
      "      \n",
      "  --- LGST ---\n",
      "      ('LGST: Singular values of I_tilde (truncating to first 6 of 6) = \\n', array([  3.00484791e+00,   8.25822588e-01,   6.70903966e-01,\n",
      "         6.65330643e-01,   1.32123551e-03,   7.62101431e-04]))\n",
      "      LGST: Padding target B with sqrt of low singular values of I_tilde: \n",
      "\n",
      "      [ 0.00132124  0.0007621 ]\n",
      "      \n",
      "  --- LGST ---\n",
      "LGST dim=4 chiSq =  584.010103572\n",
      "LGST dim=6 chiSq =  218.874929215\n",
      "    \n",
      "  --- Iterative MC2GST: Iter 0 of 3 92 gate strings ---: \n",
      "  --- Minimum Chi^2 GST with model selection (starting dim = 4) ---\n",
      "  --- Minimum Chi^2 GST ---\n",
      "    Sum of Chi^2 = 58.5712 (92 data params - 40 model params = expected mean of 52; p-value = 0.247042)\n",
      "  Dim 4: chi^2 = 58.5712, nGateStrings=92, nParams=56 (so expected mean = 36)\n",
      "  --- Minimum Chi^2 GST ---\n",
      "    Sum of Chi^2 = 5.51511e+06 (92 data params - 24 model params = expected mean of 68; p-value = 0)\n",
      "  Rejected dim 3: chi^2 = 5.51511e+06 (+5.51505e+06 w.r.t. expected mean of 92 strings - 33 params = 59) (dChi^2=5515047, 2*dParams=-46)\n",
      "  --- Minimum Chi^2 GST ---\n",
      "    Sum of Chi^2 = 34.4719 (92 data params - 60 model params = expected mean of 32; p-value = 0.350378)\n",
      "  Rejected dim 5: chi^2 = 34.4719 (+27.4719 w.r.t. expected mean of 92 strings - 85 params = 7) (dChi^2=-24, 2*dParams=58)\n",
      "    \n",
      "  --- Iterative MC2GST: Iter 1 of 3 488 gate strings ---: \n",
      "  --- Minimum Chi^2 GST with model selection (starting dim = 4) ---\n",
      "  --- Minimum Chi^2 GST ---\n",
      "    Sum of Chi^2 = 437.023 (488 data params - 40 model params = expected mean of 448; p-value = 0.635868)\n",
      "  Dim 4: chi^2 = 437.023, nGateStrings=488, nParams=56 (so expected mean = 432)\n",
      "  --- Minimum Chi^2 GST ---\n",
      "    Sum of Chi^2 = 4.82574e+07 (488 data params - 24 model params = expected mean of 464; p-value = 0)\n",
      "  Rejected dim 3: chi^2 = 4.82574e+07 (+4.82569e+07 w.r.t. expected mean of 488 strings - 33 params = 455) (dChi^2=48256917, 2*dParams=-46)\n",
      "  --- Minimum Chi^2 GST ---\n",
      "    Sum of Chi^2 = 391.305 (488 data params - 60 model params = expected mean of 428; p-value = 0.897778)\n",
      "  Rejected dim 5: chi^2 = 391.305 (-11.6947 w.r.t. expected mean of 488 strings - 85 params = 403) (dChi^2=-45, 2*dParams=58)\n",
      "    \n",
      "  --- Iterative MC2GST: Iter 2 of 3 884 gate strings ---: \n",
      "  --- Minimum Chi^2 GST with model selection (starting dim = 4) ---\n",
      "  --- Minimum Chi^2 GST ---\n",
      "    Sum of Chi^2 = 859.588 (884 data params - 40 model params = expected mean of 844; p-value = 0.347053)\n",
      "  Dim 4: chi^2 = 859.588, nGateStrings=884, nParams=56 (so expected mean = 828)\n",
      "  --- Minimum Chi^2 GST ---\n",
      "    Sum of Chi^2 = 4.28947e+07 (884 data params - 24 model params = expected mean of 860; p-value = 0)\n",
      "  Rejected dim 3: chi^2 = 4.28947e+07 (+4.28939e+07 w.r.t. expected mean of 884 strings - 33 params = 851) (dChi^2=42893849, 2*dParams=-46)\n",
      "  --- Minimum Chi^2 GST ---\n",
      "    Sum of Chi^2 = 813.395 (884 data params - 60 model params = expected mean of 824; p-value = 0.597125)\n",
      "  Rejected dim 5: chi^2 = 813.395 (+14.3955 w.r.t. expected mean of 884 strings - 85 params = 799) (dChi^2=-46, 2*dParams=58)\n",
      "    \n",
      "  --- Iterative MC2GST: Iter 3 of 3 1280 gate strings ---: \n",
      "  --- Minimum Chi^2 GST with model selection (starting dim = 4) ---\n",
      "  --- Minimum Chi^2 GST ---\n",
      "    Sum of Chi^2 = 1262.44 (1280 data params - 40 model params = expected mean of 1240; p-value = 0.322292)\n",
      "  Dim 4: chi^2 = 1262.44, nGateStrings=1280, nParams=56 (so expected mean = 1224)\n",
      "  --- Minimum Chi^2 GST ---\n",
      "    Sum of Chi^2 = 8.37406e+07 (1280 data params - 24 model params = expected mean of 1256; p-value = 0)\n",
      "  Rejected dim 3: chi^2 = 8.37406e+07 (+8.37393e+07 w.r.t. expected mean of 1280 strings - 33 params = 1247) (dChi^2=83739317, 2*dParams=-46)\n",
      "  --- Minimum Chi^2 GST ---\n",
      "    Sum of Chi^2 = 1219.46 (1280 data params - 60 model params = expected mean of 1220; p-value = 0.498958)\n",
      "  Rejected dim 5: chi^2 = 1219.46 (+24.4623 w.r.t. expected mean of 1280 strings - 85 params = 1195) (dChi^2=-42, 2*dParams=58)\n"
     ]
    }
   ],
   "source": [
    "#Run LGST to get an initial estimate for the gates in gs_target based on the data in ds\n",
    "# NOTE: with nSamples less than 1M (100K, 10K, 1K) this routine will choose a higher-than-4 dimensional gateset\n",
    "ds = dsFake4\n",
    "gs_lgst4 = pygsti.do_lgst(ds, specs, targetGateset=gs_target, svdTruncateTo=4, verbosity=3)\n",
    "gs_lgst6 = pygsti.do_lgst(ds, specs, targetGateset=gs_target, svdTruncateTo=6, verbosity=3)\n",
    "\n",
    "#Print chi^2 of 4-dim and 6-dim estimates\n",
    "chiSq4 = pygsti.chi2(ds, gs_lgst4, lgstList, minProbClipForWeighting=1e-4)\n",
    "chiSq6 = pygsti.chi2(ds, gs_lgst6, lgstList, minProbClipForWeighting=1e-4)\n",
    "print(\"LGST dim=4 chiSq = \", chiSq4)\n",
    "print(\"LGST dim=6 chiSq = \", chiSq6)\n",
    "\n",
    "# Least squares GST with model selection\n",
    "gs_lsgst = pygsti.do_iterative_mc2gst_with_model_selection(ds, gs_lgst4, 1, lsgstLists, verbosity=2,\n",
    "                                                           minProbClipForWeighting=1e-3, probClipInterval=(-1e5,1e5))"
   ]
  },
  {
   "cell_type": "code",
   "execution_count": null,
   "metadata": {
    "collapsed": false
   },
   "outputs": [
    {
     "name": "stdout",
     "output_type": "stream",
     "text": [
      "rho0 =    0.7071  -0.0410   0.0287   0.7455\n",
      "\n",
      "\n",
      "E0 =    0.6856   0.0063  -0.0099  -0.6496\n",
      "\n",
      "\n",
      "Gi = \n",
      "   1.0000        0        0        0\n",
      "  -0.0053   0.9001  -0.0001  -0.0003\n",
      "   0.0031        0   0.8998  -0.0002\n",
      "  -0.0035   0.0001  -0.0002   0.9000\n",
      "\n",
      "\n",
      "Gx = \n",
      "   1.0000        0        0        0\n",
      "  -0.0050   0.8998  -0.0113  -0.0039\n",
      "  -0.0025   0.0081  -0.0083  -1.0060\n",
      "  -0.0584   0.0099   0.8051   0.0082\n",
      "\n",
      "\n",
      "Gy = \n",
      "   1.0000        0        0        0\n",
      "  -0.0194  -0.0057   0.0226   1.0044\n",
      "   0.0025  -0.0057   0.8999  -0.0095\n",
      "  -0.0763  -0.8063  -0.0067   0.0056\n",
      "\n",
      "\n",
      "\n"
     ]
    }
   ],
   "source": [
    "print(gs_lsgst)"
   ]
  },
  {
   "cell_type": "markdown",
   "metadata": {},
   "source": [
    "### Test using dimension-5 fake data"
   ]
  },
  {
   "cell_type": "code",
   "execution_count": null,
   "metadata": {
    "collapsed": false
   },
   "outputs": [
    {
     "name": "stdout",
     "output_type": "stream",
     "text": [
      "      ('LGST: Singular values of I_tilde (truncating to first 4 of 6) = \\n', array([  2.36368304e+00,   6.59319496e-01,   4.68883491e-01,\n",
      "         4.54819490e-01,   3.15418560e-03,   8.91359166e-04]))\n",
      "      \n",
      "  --- LGST ---\n",
      "      ('LGST: Singular values of I_tilde (truncating to first 6 of 6) = \\n', array([  2.36368304e+00,   6.59319496e-01,   4.68883491e-01,\n",
      "         4.54819490e-01,   3.15418560e-03,   8.91359166e-04]))\n",
      "      LGST: Padding target B with sqrt of low singular values of I_tilde: \n",
      "\n",
      "      [ 0.00315419  0.00089136]\n",
      "      \n",
      "  --- LGST ---\n",
      "LGST dim=4 chiSq =  1316593.37275\n",
      "LGST dim=6 chiSq =  580943.33613\n",
      "    \n",
      "  --- Iterative MC2GST: Iter 0 of 3 92 gate strings ---: \n",
      "  --- Minimum Chi^2 GST with model selection (starting dim = 4) ---\n",
      "  --- Minimum Chi^2 GST ---\n",
      "    Sum of Chi^2 = 143358 (92 data params - 40 model params = expected mean of 52; p-value = 0)\n",
      "  Dim 4: chi^2 = 143358, nGateStrings=92, nParams=56 (so expected mean = 36)\n",
      "  --- Minimum Chi^2 GST ---\n",
      "    Sum of Chi^2 = 3.08451e+06 (92 data params - 24 model params = expected mean of 68; p-value = 0)\n",
      "  Rejected dim 3: chi^2 = 3.08451e+06 (+3.08446e+06 w.r.t. expected mean of 92 strings - 33 params = 59) (dChi^2=2941155, 2*dParams=-46)\n",
      "  --- Minimum Chi^2 GST ---\n",
      "    Sum of Chi^2 = 48.7083 (92 data params - 60 model params = expected mean of 32; p-value = 0.0295689)\n",
      "  Selected dim 5: chi^2 = 48.7083 (+41.7083 w.r.t. expected mean of 92 strings - 85 params = 7) (dChi^2=-143309, 2*dParams=58)\n",
      "    \n",
      "  --- Iterative MC2GST: Iter 1 of 3 488 gate strings ---: \n",
      "  --- Minimum Chi^2 GST with model selection (starting dim = 5) ---\n",
      "  --- Minimum Chi^2 GST ---\n",
      "    Sum of Chi^2 = 401.245 (488 data params - 60 model params = expected mean of 428; p-value = 0.818942)\n",
      "  Dim 5: chi^2 = 401.245, nGateStrings=488, nParams=85 (so expected mean = 403)\n",
      "  --- Minimum Chi^2 GST ---\n",
      "    Sum of Chi^2 = 870354 (488 data params - 40 model params = expected mean of 448; p-value = 0)\n",
      "  Rejected dim 4: chi^2 = 870354 (+869922 w.r.t. expected mean of 488 strings - 56 params = 432) (dChi^2=869952, 2*dParams=-58)\n",
      "  --- Minimum Chi^2 GST ---\n",
      "    Sum of Chi^2 = 337.463 (488 data params - 84 model params = expected mean of 404; p-value = 0.993042)\n",
      "  Rejected dim 6: chi^2 = 337.463 (-30.5372 w.r.t. expected mean of 488 strings - 120 params = 368) (dChi^2=-63, 2*dParams=70)\n",
      "    \n",
      "  --- Iterative MC2GST: Iter 2 of 3 884 gate strings ---: \n",
      "  --- Minimum Chi^2 GST with model selection (starting dim = 5) ---\n",
      "  --- Minimum Chi^2 GST ---\n",
      "    Sum of Chi^2 = 820.581 (884 data params - 60 model params = expected mean of 824; p-value = 0.527076)\n",
      "  Dim 5: chi^2 = 820.581, nGateStrings=884, nParams=85 (so expected mean = 799)\n",
      "  --- Minimum Chi^2 GST ---\n",
      "    Sum of Chi^2 = 1.73941e+06 (884 data params - 40 model params = expected mean of 844; p-value = 0)\n",
      "  Rejected dim 4: chi^2 = 1.73941e+06 (+1.73858e+06 w.r.t. expected mean of 884 strings - 56 params = 828) (dChi^2=1738591, 2*dParams=-58)\n",
      "  --- Minimum Chi^2 GST ---\n",
      "    Sum of Chi^2 = 747.344 (884 data params - 84 model params = expected mean of 800; p-value = 0.908189)\n",
      "  Selected dim 6: chi^2 = 747.344 (-16.6561 w.r.t. expected mean of 884 strings - 120 params = 764) (dChi^2=-73, 2*dParams=70)\n",
      "  --- Minimum Chi^2 GST ---\n",
      "    Sum of Chi^2 = 683.369 (884 data params - 112 model params = expected mean of 772; p-value = 0.990125)\n",
      "  Rejected dim 7: chi^2 = 683.369 (-39.6314 w.r.t. expected mean of 884 strings - 161 params = 723) (dChi^2=-63, 2*dParams=82)\n",
      "    \n",
      "  --- Iterative MC2GST: Iter 3 of 3 1280 gate strings ---: \n",
      "  --- Minimum Chi^2 GST with model selection (starting dim = 6) ---\n",
      "  --- Minimum Chi^2 GST ---\n"
     ]
    }
   ],
   "source": [
    "#Run LGST to get an initial estimate for the gates in gs_target based on the data in ds\n",
    "ds = dsFake5\n",
    "gs_lgst4 = pygsti.do_lgst(ds, specs, targetGateset=gs_target, svdTruncateTo=4, verbosity=3)\n",
    "gs_lgst6 = pygsti.do_lgst(ds, specs, targetGateset=gs_target, svdTruncateTo=6, verbosity=3)\n",
    "\n",
    "#Print chi^2 of 4-dim and 6-dim estimates\n",
    "chiSq4 = pygsti.chi2(ds, gs_lgst4, lgstList, minProbClipForWeighting=1e-2)\n",
    "chiSq6 = pygsti.chi2(ds, gs_lgst6, lgstList, minProbClipForWeighting=1e-2)\n",
    "print(\"LGST dim=4 chiSq = \", chiSq4)\n",
    "print(\"LGST dim=6 chiSq = \", chiSq6)\n",
    "\n",
    "# Least squares GST with model selection\n",
    "gs_lsgst = pygsti.do_iterative_mc2gst_with_model_selection(ds, gs_lgst4, 1, lsgstLists, verbosity=2, minProbClipForWeighting=1e-3, probClipInterval=(-1e5,1e5), useFreqWeightedChiSq=False, regularizeFactor=1.0, check=False, check_jacobian=False)"
   ]
  },
  {
   "cell_type": "code",
   "execution_count": null,
   "metadata": {
    "collapsed": false
   },
   "outputs": [],
   "source": [
    "print(gs_lsgst)"
   ]
  },
  {
   "cell_type": "code",
   "execution_count": null,
   "metadata": {
    "collapsed": false
   },
   "outputs": [],
   "source": []
  },
  {
   "cell_type": "code",
   "execution_count": null,
   "metadata": {
    "collapsed": true
   },
   "outputs": [],
   "source": []
  }
 ],
 "metadata": {
  "kernelspec": {
   "display_name": "Python 3",
   "language": "python",
   "name": "python3"
  },
  "language_info": {
   "codemirror_mode": {
    "name": "ipython",
    "version": 3
   },
   "file_extension": ".py",
   "mimetype": "text/x-python",
   "name": "python",
   "nbconvert_exporter": "python",
   "pygments_lexer": "ipython3",
   "version": "3.5.1+"
  }
 },
 "nbformat": 4,
 "nbformat_minor": 0
}
