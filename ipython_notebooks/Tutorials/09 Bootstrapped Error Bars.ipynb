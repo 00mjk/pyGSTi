{
 "cells": [
  {
   "cell_type": "markdown",
   "metadata": {},
   "source": [
    "###Note: this tutorial needs updating and has not been recently tested for basic functionality: use at own risk"
   ]
  },
  {
   "cell_type": "code",
   "execution_count": 1,
   "metadata": {
    "collapsed": false
   },
   "outputs": [
    {
     "name": "stdout",
     "output_type": "stream",
     "text": [
      "Populating the interactive namespace from numpy and matplotlib\n"
     ]
    }
   ],
   "source": [
    "import os\n",
    "import sys\n",
    "import time\n",
    "import json\n",
    "\n",
    "import pygsti\n",
    "\n",
    "%pylab inline"
   ]
  },
  {
   "cell_type": "code",
   "execution_count": 2,
   "metadata": {
    "collapsed": false
   },
   "outputs": [
    {
     "name": "stdout",
     "output_type": "stream",
     "text": [
      "Loading from cache file:  tutorial_files/Example_Dataset.txt.cache\n"
     ]
    }
   ],
   "source": [
    "#Load example quantities from files\n",
    "gs_target = pygsti.io.load_gateset(\"tutorial_files/Example_Gateset.txt\")\n",
    "gs_mc2gst = pygsti.io.load_gateset(\"tutorial_files/Example_MC2GST_Gateset.txt\")\n",
    "\n",
    "ds = pygsti.io.load_dataset(\"tutorial_files/Example_Dataset.txt\", cache=True)\n",
    "\n",
    "fiducials = pygsti.io.load_gatestring_list(\"tutorial_files/Example_FiducialList.txt\")\n",
    "germs = pygsti.io.load_gatestring_list(\"tutorial_files/Example_GermsList.txt\")\n",
    "maxLengths = json.load(open(\"tutorial_files/Example_maxLengths.json\",\"r\"))\n",
    "\n",
    "specs = pygsti.construction.build_spam_specs(fiducials)"
   ]
  },
  {
   "cell_type": "markdown",
   "metadata": {},
   "source": [
    "##Parametric Bootstrapping\n",
    "Here we do parametric bootstrapping, as indicated by the 'parametric' argument below.\n",
    "The output is eventually stored in the \"mean\" and \"std\" GateSets, which hold the mean and standard deviation values of the set of bootstrapped gatesets (after gauge optimization).  It is this latter \"standard deviation Gateset\"\n",
    "which holds the collection of error bars.  Note: due to print setting issues, the outputs that are printed here will not necessarily reflect the true accuracy of the estimates made.\n"
   ]
  },
  {
   "cell_type": "code",
   "execution_count": 3,
   "metadata": {
    "collapsed": false,
    "scrolled": true
   },
   "outputs": [
    {
     "name": "stdout",
     "output_type": "stream",
     "text": [
      "Creating DataSets: \n",
      "0  Generating parametric dataset.\n",
      "1 "
     ]
    },
    {
     "name": "stdout",
     "output_type": "stream",
     "text": [
      " Generating parametric dataset.\n",
      "2 "
     ]
    },
    {
     "name": "stdout",
     "output_type": "stream",
     "text": [
      " Generating parametric dataset.\n",
      "3 "
     ]
    },
    {
     "name": "stdout",
     "output_type": "stream",
     "text": [
      " Generating parametric dataset.\n",
      "4 "
     ]
    },
    {
     "name": "stdout",
     "output_type": "stream",
     "text": [
      " Generating parametric dataset.\n",
      "5 "
     ]
    },
    {
     "name": "stdout",
     "output_type": "stream",
     "text": [
      " Generating parametric dataset.\n",
      "6 "
     ]
    },
    {
     "name": "stdout",
     "output_type": "stream",
     "text": [
      " Generating parametric dataset.\n",
      "7 "
     ]
    },
    {
     "name": "stdout",
     "output_type": "stream",
     "text": [
      " Generating parametric dataset.\n",
      "8 "
     ]
    },
    {
     "name": "stdout",
     "output_type": "stream",
     "text": [
      " Generating parametric dataset.\n",
      "9 "
     ]
    },
    {
     "name": "stdout",
     "output_type": "stream",
     "text": [
      " Generating parametric dataset.\n",
      "Creating GateSets: "
     ]
    },
    {
     "name": "stdout",
     "output_type": "stream",
     "text": [
      "\n",
      "Running MLGST Iteration 0 \n",
      "LGST: Singular values of I_tilde (truncating to first 4 of 6) = \n"
     ]
    },
    {
     "name": "stdout",
     "output_type": "stream",
     "text": [
      "[ 4.24399943  1.19629492  0.97623586  0.92030527  0.08057032  0.0144033 ]\n",
      "\n",
      "--- LGST ---\n"
     ]
    },
    {
     "name": "stdout",
     "output_type": "stream",
     "text": [
      "\n",
      "--- Iterative MLGST: Beginning iter 1 of 10 : 92 gate strings ---\n"
     ]
    },
    {
     "name": "stdout",
     "output_type": "stream",
     "text": [
      "--- Minimum Chi^2 GST ---\n",
      "  Sum of Chi^2 = 62.2372 (92 data params - 40 model params = expected mean of 52; p-value = 0.156475)"
     ]
    },
    {
     "name": "stdout",
     "output_type": "stream",
     "text": [
      "\n",
      "    2*Delta(log(L)) = 62.4545\n",
      "\n",
      "--- Iterative MLGST: Beginning iter 2 of 10 : 92 gate strings ---\n"
     ]
    },
    {
     "name": "stdout",
     "output_type": "stream",
     "text": [
      "--- Minimum Chi^2 GST ---\n",
      "  Sum of Chi^2 = 62.2372 (92 data params - 40 model params = expected mean of 52; p-value = 0.156475)"
     ]
    },
    {
     "name": "stdout",
     "output_type": "stream",
     "text": [
      "\n",
      "    2*Delta(log(L)) = 62.4545\n",
      "\n",
      "--- Iterative MLGST: Beginning iter 3 of 10 : 168 gate strings ---\n"
     ]
    },
    {
     "name": "stdout",
     "output_type": "stream",
     "text": [
      "--- Minimum Chi^2 GST ---\n",
      "  Sum of Chi^2 = 141.782 (168 data params - 40 model params = expected mean of 128; p-value = 0.191176)"
     ]
    },
    {
     "name": "stdout",
     "output_type": "stream",
     "text": [
      "\n",
      "    2*Delta(log(L)) = 142.414\n",
      "\n",
      "--- Iterative MLGST: Beginning iter 4 of 10 : 441 gate strings ---\n"
     ]
    },
    {
     "name": "stdout",
     "output_type": "stream",
     "text": [
      "--- Minimum Chi^2 GST ---\n",
      "  Sum of Chi^2 = 421.459 (441 data params - 40 model params = expected mean of 401; p-value = 0.231493)"
     ]
    },
    {
     "name": "stdout",
     "output_type": "stream",
     "text": [
      "\n",
      "    2*Delta(log(L)) = 421.701\n",
      "\n",
      "--- Iterative MLGST: Beginning iter 5 of 10 : 817 gate strings ---\n"
     ]
    },
    {
     "name": "stdout",
     "output_type": "stream",
     "text": [
      "--- Minimum Chi^2 GST ---\n",
      "  Sum of Chi^2 = 826.454 (817 data params - 40 model params = expected mean of 777; p-value = 0.106442)"
     ]
    },
    {
     "name": "stdout",
     "output_type": "stream",
     "text": [
      "\n",
      "    2*Delta(log(L)) = 827.531"
     ]
    },
    {
     "name": "stdout",
     "output_type": "stream",
     "text": [
      "\n",
      "\n",
      "--- Iterative MLGST: Beginning iter 6 of 10 : 1201 gate strings ---\n"
     ]
    },
    {
     "name": "stdout",
     "output_type": "stream",
     "text": [
      "--- Minimum Chi^2 GST ---\n",
      "  Sum of Chi^2 = 1193.74 (1201 data params - 40 model params = expected mean of 1161; p-value = 0.246079)"
     ]
    },
    {
     "name": "stdout",
     "output_type": "stream",
     "text": [
      "\n",
      "    2*Delta(log(L)) = 1195.13"
     ]
    },
    {
     "name": "stdout",
     "output_type": "stream",
     "text": [
      "\n",
      "\n",
      "--- Iterative MLGST: Beginning iter 7 of 10 : 1585 gate strings ---\n"
     ]
    },
    {
     "name": "stdout",
     "output_type": "stream",
     "text": [
      "--- Minimum Chi^2 GST ---\n",
      "  Sum of Chi^2 = 1545.75 (1585 data params - 40 model params = expected mean of 1545; p-value = 0.489853)"
     ]
    },
    {
     "name": "stdout",
     "output_type": "stream",
     "text": [
      "\n",
      "    2*Delta(log(L)) = 1547.36"
     ]
    },
    {
     "name": "stdout",
     "output_type": "stream",
     "text": [
      "\n",
      "\n",
      "--- Iterative MLGST: Beginning iter 8 of 10 : 1969 gate strings ---\n"
     ]
    },
    {
     "name": "stdout",
     "output_type": "stream",
     "text": [
      "--- Minimum Chi^2 GST ---\n",
      "  Sum of Chi^2 = 1919.94 (1969 data params - 40 model params = expected mean of 1929; p-value = 0.553841)"
     ]
    },
    {
     "name": "stdout",
     "output_type": "stream",
     "text": [
      "\n",
      "    2*Delta(log(L)) = 1921.96"
     ]
    },
    {
     "name": "stdout",
     "output_type": "stream",
     "text": [
      "\n",
      "\n",
      "--- Iterative MLGST: Beginning iter 9 of 10 : 2353 gate strings ---\n"
     ]
    },
    {
     "name": "stdout",
     "output_type": "stream",
     "text": [
      "--- Minimum Chi^2 GST ---\n",
      "  Sum of Chi^2 = 2258.02 (2353 data params - 40 model params = expected mean of 2313; p-value = 0.789606)"
     ]
    },
    {
     "name": "stdout",
     "output_type": "stream",
     "text": [
      "\n",
      "    2*Delta(log(L)) = 2260.3"
     ]
    },
    {
     "name": "stdout",
     "output_type": "stream",
     "text": [
      "\n",
      "\n",
      "--- Iterative MLGST: Beginning iter 10 of 10 : 2737 gate strings ---\n"
     ]
    },
    {
     "name": "stdout",
     "output_type": "stream",
     "text": [
      "--- Minimum Chi^2 GST ---\n",
      "  Sum of Chi^2 = 2610.58 (2737 data params - 40 model params = expected mean of 2697; p-value = 0.881082)"
     ]
    },
    {
     "name": "stdout",
     "output_type": "stream",
     "text": [
      "\n",
      "    2*Delta(log(L)) = 2613.2"
     ]
    },
    {
     "name": "stdout",
     "output_type": "stream",
     "text": [
      "\n",
      "--- Last Iteration: switching to ML objective ---\n",
      "--- MLGST ---\n",
      "  Maximum log(L) = 1306.26 below upper bound of -4.60018e+06"
     ]
    },
    {
     "name": "stdout",
     "output_type": "stream",
     "text": [
      "\n",
      "    2*Delta(log(L)) = 2612.51 (2737 data params - 40 model params = expected mean of 2697; p-value = 0.875643)\n",
      "    2*Delta(log(L)) = 2612.51\n",
      "Running MLGST Iteration 1 "
     ]
    },
    {
     "name": "stdout",
     "output_type": "stream",
     "text": [
      "\n",
      "LGST: Singular values of I_tilde (truncating to first 4 of 6) = \n"
     ]
    },
    {
     "name": "stdout",
     "output_type": "stream",
     "text": [
      "[ 4.2441974   1.161996    0.96177929  0.91832997  0.04979071  0.01229734]\n",
      "\n",
      "--- LGST ---\n"
     ]
    },
    {
     "name": "stdout",
     "output_type": "stream",
     "text": [
      "\n",
      "--- Iterative MLGST: Beginning iter 1 of 10 : 92 gate strings ---\n"
     ]
    },
    {
     "name": "stdout",
     "output_type": "stream",
     "text": [
      "--- Minimum Chi^2 GST ---\n",
      "  Sum of Chi^2 = 54.4979 (92 data params - 40 model params = expected mean of 52; p-value = 0.379687)"
     ]
    },
    {
     "name": "stdout",
     "output_type": "stream",
     "text": [
      "\n",
      "    2*Delta(log(L)) = 54.8952\n",
      "\n",
      "--- Iterative MLGST: Beginning iter 2 of 10 : 92 gate strings ---\n"
     ]
    },
    {
     "name": "stdout",
     "output_type": "stream",
     "text": [
      "--- Minimum Chi^2 GST ---\n",
      "  Sum of Chi^2 = 54.4979 (92 data params - 40 model params = expected mean of 52; p-value = 0.379687)"
     ]
    },
    {
     "name": "stdout",
     "output_type": "stream",
     "text": [
      "\n",
      "    2*Delta(log(L)) = 54.8952\n",
      "\n",
      "--- Iterative MLGST: Beginning iter 3 of 10 : 168 gate strings ---\n"
     ]
    },
    {
     "name": "stdout",
     "output_type": "stream",
     "text": [
      "--- Minimum Chi^2 GST ---\n",
      "  Sum of Chi^2 = 129.38 (168 data params - 40 model params = expected mean of 128; p-value = 0.449247)"
     ]
    },
    {
     "name": "stdout",
     "output_type": "stream",
     "text": [
      "\n",
      "    2*Delta(log(L)) = 129.925\n",
      "\n",
      "--- Iterative MLGST: Beginning iter 4 of 10 : 441 gate strings ---\n"
     ]
    },
    {
     "name": "stdout",
     "output_type": "stream",
     "text": [
      "--- Minimum Chi^2 GST ---\n",
      "  Sum of Chi^2 = 416.546 (441 data params - 40 model params = expected mean of 401; p-value = 0.285872)"
     ]
    },
    {
     "name": "stdout",
     "output_type": "stream",
     "text": [
      "\n",
      "    2*Delta(log(L)) = 417.162\n",
      "\n",
      "--- Iterative MLGST: Beginning iter 5 of 10 : 817 gate strings ---\n"
     ]
    },
    {
     "name": "stdout",
     "output_type": "stream",
     "text": [
      "--- Minimum Chi^2 GST ---\n",
      "  Sum of Chi^2 = 825.862 (817 data params - 40 model params = expected mean of 777; p-value = 0.109112)"
     ]
    },
    {
     "name": "stdout",
     "output_type": "stream",
     "text": [
      "\n",
      "    2*Delta(log(L)) = 826.834"
     ]
    },
    {
     "name": "stdout",
     "output_type": "stream",
     "text": [
      "\n",
      "\n",
      "--- Iterative MLGST: Beginning iter 6 of 10 : 1201 gate strings ---\n"
     ]
    },
    {
     "name": "stdout",
     "output_type": "stream",
     "text": [
      "--- Minimum Chi^2 GST ---\n",
      "  Sum of Chi^2 = 1197.59 (1201 data params - 40 model params = expected mean of 1161; p-value = 0.222021)"
     ]
    },
    {
     "name": "stdout",
     "output_type": "stream",
     "text": [
      "\n",
      "    2*Delta(log(L)) = 1198.79"
     ]
    },
    {
     "name": "stdout",
     "output_type": "stream",
     "text": [
      "\n",
      "\n",
      "--- Iterative MLGST: Beginning iter 7 of 10 : 1585 gate strings ---\n"
     ]
    },
    {
     "name": "stdout",
     "output_type": "stream",
     "text": [
      "--- Minimum Chi^2 GST ---\n",
      "  Sum of Chi^2 = 1529.69 (1585 data params - 40 model params = expected mean of 1545; p-value = 0.604246)"
     ]
    },
    {
     "name": "stdout",
     "output_type": "stream",
     "text": [
      "\n",
      "    2*Delta(log(L)) = 1531.11"
     ]
    },
    {
     "name": "stdout",
     "output_type": "stream",
     "text": [
      "\n",
      "\n",
      "--- Iterative MLGST: Beginning iter 8 of 10 : 1969 gate strings ---\n"
     ]
    },
    {
     "name": "stdout",
     "output_type": "stream",
     "text": [
      "--- Minimum Chi^2 GST ---\n",
      "  Sum of Chi^2 = 1880.94 (1969 data params - 40 model params = expected mean of 1929; p-value = 0.77923)"
     ]
    },
    {
     "name": "stdout",
     "output_type": "stream",
     "text": [
      "\n",
      "    2*Delta(log(L)) = 1882.72"
     ]
    },
    {
     "name": "stdout",
     "output_type": "stream",
     "text": [
      "\n",
      "\n",
      "--- Iterative MLGST: Beginning iter 9 of 10 : 2353 gate strings ---\n"
     ]
    },
    {
     "name": "stdout",
     "output_type": "stream",
     "text": [
      "--- Minimum Chi^2 GST ---\n",
      "  Sum of Chi^2 = 2265 (2353 data params - 40 model params = expected mean of 2313; p-value = 0.758306)"
     ]
    },
    {
     "name": "stdout",
     "output_type": "stream",
     "text": [
      "\n",
      "    2*Delta(log(L)) = 2267.17"
     ]
    },
    {
     "name": "stdout",
     "output_type": "stream",
     "text": [
      "\n",
      "\n",
      "--- Iterative MLGST: Beginning iter 10 of 10 : 2737 gate strings ---\n"
     ]
    },
    {
     "name": "stdout",
     "output_type": "stream",
     "text": [
      "--- Minimum Chi^2 GST ---\n",
      "  Sum of Chi^2 = 2671.79 (2737 data params - 40 model params = expected mean of 2697; p-value = 0.631262)"
     ]
    },
    {
     "name": "stdout",
     "output_type": "stream",
     "text": [
      "\n",
      "    2*Delta(log(L)) = 2674.39"
     ]
    },
    {
     "name": "stdout",
     "output_type": "stream",
     "text": [
      "\n",
      "--- Last Iteration: switching to ML objective ---\n",
      "--- MLGST ---\n",
      "  Maximum log(L) = 1336.86 below upper bound of -4.60045e+06"
     ]
    },
    {
     "name": "stdout",
     "output_type": "stream",
     "text": [
      "\n",
      "    2*Delta(log(L)) = 2673.72 (2737 data params - 40 model params = expected mean of 2697; p-value = 0.621242)\n",
      "    2*Delta(log(L)) = 2673.72\n",
      "Running MLGST Iteration 2 "
     ]
    },
    {
     "name": "stdout",
     "output_type": "stream",
     "text": [
      "\n",
      "LGST: Singular values of I_tilde (truncating to first 4 of 6) = \n"
     ]
    },
    {
     "name": "stdout",
     "output_type": "stream",
     "text": [
      "[ 4.2447068   1.15303257  0.95862174  0.91318099  0.05005586  0.01926951]\n",
      "\n",
      "--- LGST ---\n"
     ]
    },
    {
     "name": "stdout",
     "output_type": "stream",
     "text": [
      "\n",
      "--- Iterative MLGST: Beginning iter 1 of 10 : 92 gate strings ---\n"
     ]
    },
    {
     "name": "stdout",
     "output_type": "stream",
     "text": [
      "--- Minimum Chi^2 GST ---\n",
      "  Sum of Chi^2 = 54.426 (92 data params - 40 model params = expected mean of 52; p-value = 0.382291)"
     ]
    },
    {
     "name": "stdout",
     "output_type": "stream",
     "text": [
      "\n",
      "    2*Delta(log(L)) = 54.4204\n",
      "\n",
      "--- Iterative MLGST: Beginning iter 2 of 10 : 92 gate strings ---\n"
     ]
    },
    {
     "name": "stdout",
     "output_type": "stream",
     "text": [
      "--- Minimum Chi^2 GST ---\n",
      "  Sum of Chi^2 = 54.426 (92 data params - 40 model params = expected mean of 52; p-value = 0.382291)"
     ]
    },
    {
     "name": "stdout",
     "output_type": "stream",
     "text": [
      "\n",
      "    2*Delta(log(L)) = 54.4204\n",
      "\n",
      "--- Iterative MLGST: Beginning iter 3 of 10 : 168 gate strings ---\n"
     ]
    },
    {
     "name": "stdout",
     "output_type": "stream",
     "text": [
      "--- Minimum Chi^2 GST ---\n",
      "  Sum of Chi^2 = 119.222 (168 data params - 40 model params = expected mean of 128; p-value = 0.698393)"
     ]
    },
    {
     "name": "stdout",
     "output_type": "stream",
     "text": [
      "\n",
      "    2*Delta(log(L)) = 119.563\n",
      "\n",
      "--- Iterative MLGST: Beginning iter 4 of 10 : 441 gate strings ---\n"
     ]
    },
    {
     "name": "stdout",
     "output_type": "stream",
     "text": [
      "--- Minimum Chi^2 GST ---\n",
      "  Sum of Chi^2 = 427.728 (441 data params - 40 model params = expected mean of 401; p-value = 0.171811)"
     ]
    },
    {
     "name": "stdout",
     "output_type": "stream",
     "text": [
      "\n",
      "    2*Delta(log(L)) = 428.853\n",
      "\n",
      "--- Iterative MLGST: Beginning iter 5 of 10 : 817 gate strings ---\n"
     ]
    },
    {
     "name": "stdout",
     "output_type": "stream",
     "text": [
      "--- Minimum Chi^2 GST ---\n",
      "  Sum of Chi^2 = 821.56 (817 data params - 40 model params = expected mean of 777; p-value = 0.130024)"
     ]
    },
    {
     "name": "stdout",
     "output_type": "stream",
     "text": [
      "\n",
      "    2*Delta(log(L)) = 823.368"
     ]
    },
    {
     "name": "stdout",
     "output_type": "stream",
     "text": [
      "\n",
      "\n",
      "--- Iterative MLGST: Beginning iter 6 of 10 : 1201 gate strings ---\n"
     ]
    },
    {
     "name": "stdout",
     "output_type": "stream",
     "text": [
      "--- Minimum Chi^2 GST ---\n",
      "  Sum of Chi^2 = 1211.93 (1201 data params - 40 model params = expected mean of 1161; p-value = 0.14557)"
     ]
    },
    {
     "name": "stdout",
     "output_type": "stream",
     "text": [
      "\n",
      "    2*Delta(log(L)) = 1214.39"
     ]
    },
    {
     "name": "stdout",
     "output_type": "stream",
     "text": [
      "\n",
      "\n",
      "--- Iterative MLGST: Beginning iter 7 of 10 : 1585 gate strings ---\n"
     ]
    },
    {
     "name": "stdout",
     "output_type": "stream",
     "text": [
      "--- Minimum Chi^2 GST ---\n",
      "  Sum of Chi^2 = 1575.39 (1585 data params - 40 model params = expected mean of 1545; p-value = 0.289416)"
     ]
    },
    {
     "name": "stdout",
     "output_type": "stream",
     "text": [
      "\n",
      "    2*Delta(log(L)) = 1578.08"
     ]
    },
    {
     "name": "stdout",
     "output_type": "stream",
     "text": [
      "\n",
      "\n",
      "--- Iterative MLGST: Beginning iter 8 of 10 : 1969 gate strings ---\n"
     ]
    },
    {
     "name": "stdout",
     "output_type": "stream",
     "text": [
      "--- Minimum Chi^2 GST ---\n",
      "  Sum of Chi^2 = 1979.11 (1969 data params - 40 model params = expected mean of 1929; p-value = 0.208805)"
     ]
    },
    {
     "name": "stdout",
     "output_type": "stream",
     "text": [
      "\n",
      "    2*Delta(log(L)) = 1982.22"
     ]
    },
    {
     "name": "stdout",
     "output_type": "stream",
     "text": [
      "\n",
      "\n",
      "--- Iterative MLGST: Beginning iter 9 of 10 : 2353 gate strings ---\n"
     ]
    },
    {
     "name": "stdout",
     "output_type": "stream",
     "text": [
      "--- Minimum Chi^2 GST ---\n",
      "  Sum of Chi^2 = 2398.04 (2353 data params - 40 model params = expected mean of 2313; p-value = 0.106545)"
     ]
    },
    {
     "name": "stdout",
     "output_type": "stream",
     "text": [
      "\n",
      "    2*Delta(log(L)) = 2401.57"
     ]
    },
    {
     "name": "stdout",
     "output_type": "stream",
     "text": [
      "\n",
      "\n",
      "--- Iterative MLGST: Beginning iter 10 of 10 : 2737 gate strings ---\n"
     ]
    },
    {
     "name": "stdout",
     "output_type": "stream",
     "text": [
      "--- Minimum Chi^2 GST ---\n",
      "  Sum of Chi^2 = 2729.01 (2737 data params - 40 model params = expected mean of 2697; p-value = 0.328827)"
     ]
    },
    {
     "name": "stdout",
     "output_type": "stream",
     "text": [
      "\n",
      "    2*Delta(log(L)) = 2732.83"
     ]
    },
    {
     "name": "stdout",
     "output_type": "stream",
     "text": [
      "\n",
      "--- Last Iteration: switching to ML objective ---\n",
      "--- MLGST ---\n",
      "  Maximum log(L) = 1366.04 below upper bound of -4.60058e+06"
     ]
    },
    {
     "name": "stdout",
     "output_type": "stream",
     "text": [
      "\n",
      "    2*Delta(log(L)) = 2732.09 (2737 data params - 40 model params = expected mean of 2697; p-value = 0.313936)\n",
      "    2*Delta(log(L)) = 2732.09\n",
      "Running MLGST Iteration 3 "
     ]
    },
    {
     "name": "stdout",
     "output_type": "stream",
     "text": [
      "\n",
      "LGST: Singular values of I_tilde (truncating to first 4 of 6) = \n"
     ]
    },
    {
     "name": "stdout",
     "output_type": "stream",
     "text": [
      "[ 4.24411928  1.21156472  0.97401696  0.93833033  0.04794161  0.04410483]\n",
      "\n",
      "--- LGST ---\n"
     ]
    },
    {
     "name": "stdout",
     "output_type": "stream",
     "text": [
      "\n",
      "--- Iterative MLGST: Beginning iter 1 of 10 : 92 gate strings ---\n"
     ]
    },
    {
     "name": "stdout",
     "output_type": "stream",
     "text": [
      "--- Minimum Chi^2 GST ---\n",
      "  Sum of Chi^2 = 67.3632 (92 data params - 40 model params = expected mean of 52; p-value = 0.0744599)"
     ]
    },
    {
     "name": "stdout",
     "output_type": "stream",
     "text": [
      "\n",
      "    2*Delta(log(L)) = 67.976\n",
      "\n",
      "--- Iterative MLGST: Beginning iter 2 of 10 : 92 gate strings ---\n"
     ]
    },
    {
     "name": "stdout",
     "output_type": "stream",
     "text": [
      "--- Minimum Chi^2 GST ---\n",
      "  Sum of Chi^2 = 67.3632 (92 data params - 40 model params = expected mean of 52; p-value = 0.0744599)"
     ]
    },
    {
     "name": "stdout",
     "output_type": "stream",
     "text": [
      "\n",
      "    2*Delta(log(L)) = 67.976\n",
      "\n",
      "--- Iterative MLGST: Beginning iter 3 of 10 : 168 gate strings ---\n"
     ]
    },
    {
     "name": "stdout",
     "output_type": "stream",
     "text": [
      "--- Minimum Chi^2 GST ---\n",
      "  Sum of Chi^2 = 137.423 (168 data params - 40 model params = expected mean of 128; p-value = 0.268784)"
     ]
    },
    {
     "name": "stdout",
     "output_type": "stream",
     "text": [
      "\n",
      "    2*Delta(log(L)) = 138.23\n",
      "\n",
      "--- Iterative MLGST: Beginning iter 4 of 10 : 441 gate strings ---\n"
     ]
    },
    {
     "name": "stdout",
     "output_type": "stream",
     "text": [
      "--- Minimum Chi^2 GST ---\n",
      "  Sum of Chi^2 = 405.636 (441 data params - 40 model params = expected mean of 401; p-value = 0.425987)"
     ]
    },
    {
     "name": "stdout",
     "output_type": "stream",
     "text": [
      "\n",
      "    2*Delta(log(L)) = 406.607\n",
      "\n",
      "--- Iterative MLGST: Beginning iter 5 of 10 : 817 gate strings ---\n"
     ]
    },
    {
     "name": "stdout",
     "output_type": "stream",
     "text": [
      "--- Minimum Chi^2 GST ---\n",
      "  Sum of Chi^2 = 775.012 (817 data params - 40 model params = expected mean of 777; p-value = 0.513387)"
     ]
    },
    {
     "name": "stdout",
     "output_type": "stream",
     "text": [
      "\n",
      "    2*Delta(log(L)) = 776.208"
     ]
    },
    {
     "name": "stdout",
     "output_type": "stream",
     "text": [
      "\n",
      "\n",
      "--- Iterative MLGST: Beginning iter 6 of 10 : 1201 gate strings ---\n"
     ]
    },
    {
     "name": "stdout",
     "output_type": "stream",
     "text": [
      "--- Minimum Chi^2 GST ---\n",
      "  Sum of Chi^2 = 1121.21 (1201 data params - 40 model params = expected mean of 1161; p-value = 0.794301)"
     ]
    },
    {
     "name": "stdout",
     "output_type": "stream",
     "text": [
      "\n",
      "    2*Delta(log(L)) = 1122.79"
     ]
    },
    {
     "name": "stdout",
     "output_type": "stream",
     "text": [
      "\n",
      "\n",
      "--- Iterative MLGST: Beginning iter 7 of 10 : 1585 gate strings ---\n"
     ]
    },
    {
     "name": "stdout",
     "output_type": "stream",
     "text": [
      "--- Minimum Chi^2 GST ---\n",
      "  Sum of Chi^2 = 1521.79 (1585 data params - 40 model params = expected mean of 1545; p-value = 0.658218)"
     ]
    },
    {
     "name": "stdout",
     "output_type": "stream",
     "text": [
      "\n",
      "    2*Delta(log(L)) = 1523.86"
     ]
    },
    {
     "name": "stdout",
     "output_type": "stream",
     "text": [
      "\n",
      "\n",
      "--- Iterative MLGST: Beginning iter 8 of 10 : 1969 gate strings ---\n"
     ]
    },
    {
     "name": "stdout",
     "output_type": "stream",
     "text": [
      "--- Minimum Chi^2 GST ---\n",
      "  Sum of Chi^2 = 1924.69 (1969 data params - 40 model params = expected mean of 1929; p-value = 0.523403)"
     ]
    },
    {
     "name": "stdout",
     "output_type": "stream",
     "text": [
      "\n",
      "    2*Delta(log(L)) = 1927.18"
     ]
    },
    {
     "name": "stdout",
     "output_type": "stream",
     "text": [
      "\n",
      "\n",
      "--- Iterative MLGST: Beginning iter 9 of 10 : 2353 gate strings ---\n"
     ]
    },
    {
     "name": "stdout",
     "output_type": "stream",
     "text": [
      "--- Minimum Chi^2 GST ---\n",
      "  Sum of Chi^2 = 2298.33 (2353 data params - 40 model params = expected mean of 2313; p-value = 0.58174)"
     ]
    },
    {
     "name": "stdout",
     "output_type": "stream",
     "text": [
      "\n",
      "    2*Delta(log(L)) = 2301.12"
     ]
    },
    {
     "name": "stdout",
     "output_type": "stream",
     "text": [
      "\n",
      "\n",
      "--- Iterative MLGST: Beginning iter 10 of 10 : 2737 gate strings ---\n"
     ]
    },
    {
     "name": "stdout",
     "output_type": "stream",
     "text": [
      "--- Minimum Chi^2 GST ---\n",
      "  Sum of Chi^2 = 2685.52 (2737 data params - 40 model params = expected mean of 2697; p-value = 0.558634)"
     ]
    },
    {
     "name": "stdout",
     "output_type": "stream",
     "text": [
      "\n",
      "    2*Delta(log(L)) = 2688.72"
     ]
    },
    {
     "name": "stdout",
     "output_type": "stream",
     "text": [
      "\n",
      "--- Last Iteration: switching to ML objective ---\n",
      "--- MLGST ---\n",
      "  Maximum log(L) = 1344.03 below upper bound of -4.6003e+06"
     ]
    },
    {
     "name": "stdout",
     "output_type": "stream",
     "text": [
      "\n",
      "    2*Delta(log(L)) = 2688.05 (2737 data params - 40 model params = expected mean of 2697; p-value = 0.54493)\n",
      "    2*Delta(log(L)) = 2688.05\n",
      "Running MLGST Iteration 4 "
     ]
    },
    {
     "name": "stdout",
     "output_type": "stream",
     "text": [
      "\n",
      "LGST: Singular values of I_tilde (truncating to first 4 of 6) = \n"
     ]
    },
    {
     "name": "stdout",
     "output_type": "stream",
     "text": [
      "[ 4.24451525  1.16446563  0.99274825  0.87719774  0.03193878  0.01584491]\n",
      "\n",
      "--- LGST ---\n"
     ]
    },
    {
     "name": "stdout",
     "output_type": "stream",
     "text": [
      "\n",
      "--- Iterative MLGST: Beginning iter 1 of 10 : 92 gate strings ---\n"
     ]
    },
    {
     "name": "stdout",
     "output_type": "stream",
     "text": [
      "--- Minimum Chi^2 GST ---\n",
      "  Sum of Chi^2 = 67.1484 (92 data params - 40 model params = expected mean of 52; p-value = 0.0769922)"
     ]
    },
    {
     "name": "stdout",
     "output_type": "stream",
     "text": [
      "\n",
      "    2*Delta(log(L)) = 67.4168\n",
      "\n",
      "--- Iterative MLGST: Beginning iter 2 of 10 : 92 gate strings ---\n"
     ]
    },
    {
     "name": "stdout",
     "output_type": "stream",
     "text": [
      "--- Minimum Chi^2 GST ---\n",
      "  Sum of Chi^2 = 67.1484 (92 data params - 40 model params = expected mean of 52; p-value = 0.0769922)"
     ]
    },
    {
     "name": "stdout",
     "output_type": "stream",
     "text": [
      "\n",
      "    2*Delta(log(L)) = 67.4168\n",
      "\n",
      "--- Iterative MLGST: Beginning iter 3 of 10 : 168 gate strings ---\n"
     ]
    },
    {
     "name": "stdout",
     "output_type": "stream",
     "text": [
      "--- Minimum Chi^2 GST ---\n",
      "  Sum of Chi^2 = 155.834 (168 data params - 40 model params = expected mean of 128; p-value = 0.0476157)"
     ]
    },
    {
     "name": "stdout",
     "output_type": "stream",
     "text": [
      "\n",
      "    2*Delta(log(L)) = 156.16\n",
      "\n",
      "--- Iterative MLGST: Beginning iter 4 of 10 : 441 gate strings ---\n"
     ]
    },
    {
     "name": "stdout",
     "output_type": "stream",
     "text": [
      "--- Minimum Chi^2 GST ---\n",
      "  Sum of Chi^2 = 421.928 (441 data params - 40 model params = expected mean of 401; p-value = 0.226643)"
     ]
    },
    {
     "name": "stdout",
     "output_type": "stream",
     "text": [
      "\n",
      "    2*Delta(log(L)) = 422.941\n",
      "\n",
      "--- Iterative MLGST: Beginning iter 5 of 10 : 817 gate strings ---\n"
     ]
    },
    {
     "name": "stdout",
     "output_type": "stream",
     "text": [
      "--- Minimum Chi^2 GST ---\n",
      "  Sum of Chi^2 = 789.645 (817 data params - 40 model params = expected mean of 777; p-value = 0.368459)"
     ]
    },
    {
     "name": "stdout",
     "output_type": "stream",
     "text": [
      "\n",
      "    2*Delta(log(L)) = 790.787"
     ]
    },
    {
     "name": "stdout",
     "output_type": "stream",
     "text": [
      "\n",
      "\n",
      "--- Iterative MLGST: Beginning iter 6 of 10 : 1201 gate strings ---\n"
     ]
    },
    {
     "name": "stdout",
     "output_type": "stream",
     "text": [
      "--- Minimum Chi^2 GST ---\n",
      "  Sum of Chi^2 = 1205.58 (1201 data params - 40 model params = expected mean of 1161; p-value = 0.176862)"
     ]
    },
    {
     "name": "stdout",
     "output_type": "stream",
     "text": [
      "\n",
      "    2*Delta(log(L)) = 1207.19"
     ]
    },
    {
     "name": "stdout",
     "output_type": "stream",
     "text": [
      "\n",
      "\n",
      "--- Iterative MLGST: Beginning iter 7 of 10 : 1585 gate strings ---\n"
     ]
    },
    {
     "name": "stdout",
     "output_type": "stream",
     "text": [
      "--- Minimum Chi^2 GST ---\n",
      "  Sum of Chi^2 = 1576.22 (1585 data params - 40 model params = expected mean of 1545; p-value = 0.284392)"
     ]
    },
    {
     "name": "stdout",
     "output_type": "stream",
     "text": [
      "\n",
      "    2*Delta(log(L)) = 1578.22"
     ]
    },
    {
     "name": "stdout",
     "output_type": "stream",
     "text": [
      "\n",
      "\n",
      "--- Iterative MLGST: Beginning iter 8 of 10 : 1969 gate strings ---\n"
     ]
    },
    {
     "name": "stdout",
     "output_type": "stream",
     "text": [
      "--- Minimum Chi^2 GST ---\n",
      "  Sum of Chi^2 = 1935.5 (1969 data params - 40 model params = expected mean of 1929; p-value = 0.454144)"
     ]
    },
    {
     "name": "stdout",
     "output_type": "stream",
     "text": [
      "\n",
      "    2*Delta(log(L)) = 1937.81"
     ]
    },
    {
     "name": "stdout",
     "output_type": "stream",
     "text": [
      "\n",
      "\n",
      "--- Iterative MLGST: Beginning iter 9 of 10 : 2353 gate strings ---\n"
     ]
    },
    {
     "name": "stdout",
     "output_type": "stream",
     "text": [
      "--- Minimum Chi^2 GST ---\n",
      "  Sum of Chi^2 = 2321.51 (2353 data params - 40 model params = expected mean of 2313; p-value = 0.446379)"
     ]
    },
    {
     "name": "stdout",
     "output_type": "stream",
     "text": [
      "\n",
      "    2*Delta(log(L)) = 2324.19"
     ]
    },
    {
     "name": "stdout",
     "output_type": "stream",
     "text": [
      "\n",
      "\n",
      "--- Iterative MLGST: Beginning iter 10 of 10 : 2737 gate strings ---\n"
     ]
    },
    {
     "name": "stdout",
     "output_type": "stream",
     "text": [
      "--- Minimum Chi^2 GST ---\n",
      "  Sum of Chi^2 = 2743.21 (2737 data params - 40 model params = expected mean of 2697; p-value = 0.262806)"
     ]
    },
    {
     "name": "stdout",
     "output_type": "stream",
     "text": [
      "\n",
      "    2*Delta(log(L)) = 2746.32"
     ]
    },
    {
     "name": "stdout",
     "output_type": "stream",
     "text": [
      "\n",
      "--- Last Iteration: switching to ML objective ---\n",
      "--- MLGST ---\n",
      "  Maximum log(L) = 1372.77 below upper bound of -4.60012e+06"
     ]
    },
    {
     "name": "stdout",
     "output_type": "stream",
     "text": [
      "\n",
      "    2*Delta(log(L)) = 2745.54 (2737 data params - 40 model params = expected mean of 2697; p-value = 0.252684)\n",
      "    2*Delta(log(L)) = 2745.54\n",
      "Running MLGST Iteration 5 "
     ]
    },
    {
     "name": "stdout",
     "output_type": "stream",
     "text": [
      "\n",
      "LGST: Singular values of I_tilde (truncating to first 4 of 6) = \n"
     ]
    },
    {
     "name": "stdout",
     "output_type": "stream",
     "text": [
      "[ 4.24474329  1.15869555  0.95595525  0.9331686   0.06589983  0.00749327]\n",
      "\n",
      "--- LGST ---\n"
     ]
    },
    {
     "name": "stdout",
     "output_type": "stream",
     "text": [
      "\n",
      "--- Iterative MLGST: Beginning iter 1 of 10 : 92 gate strings ---\n"
     ]
    },
    {
     "name": "stdout",
     "output_type": "stream",
     "text": [
      "--- Minimum Chi^2 GST ---\n",
      "  Sum of Chi^2 = 44.7143 (92 data params - 40 model params = expected mean of 52; p-value = 0.753198)"
     ]
    },
    {
     "name": "stdout",
     "output_type": "stream",
     "text": [
      "\n",
      "    2*Delta(log(L)) = 44.9423\n",
      "\n",
      "--- Iterative MLGST: Beginning iter 2 of 10 : 92 gate strings ---\n"
     ]
    },
    {
     "name": "stdout",
     "output_type": "stream",
     "text": [
      "--- Minimum Chi^2 GST ---\n",
      "  Sum of Chi^2 = 44.7143 (92 data params - 40 model params = expected mean of 52; p-value = 0.753198)"
     ]
    },
    {
     "name": "stdout",
     "output_type": "stream",
     "text": [
      "\n",
      "    2*Delta(log(L)) = 44.9423\n",
      "\n",
      "--- Iterative MLGST: Beginning iter 3 of 10 : 168 gate strings ---\n"
     ]
    },
    {
     "name": "stdout",
     "output_type": "stream",
     "text": [
      "--- Minimum Chi^2 GST ---\n",
      "  Sum of Chi^2 = 105.313 (168 data params - 40 model params = expected mean of 128; p-value = 0.929117)"
     ]
    },
    {
     "name": "stdout",
     "output_type": "stream",
     "text": [
      "\n",
      "    2*Delta(log(L)) = 105.567\n",
      "\n",
      "--- Iterative MLGST: Beginning iter 4 of 10 : 441 gate strings ---\n"
     ]
    },
    {
     "name": "stdout",
     "output_type": "stream",
     "text": [
      "--- Minimum Chi^2 GST ---\n",
      "  Sum of Chi^2 = 415.394 (441 data params - 40 model params = expected mean of 401; p-value = 0.299514)"
     ]
    },
    {
     "name": "stdout",
     "output_type": "stream",
     "text": [
      "\n",
      "    2*Delta(log(L)) = 415.855\n",
      "\n",
      "--- Iterative MLGST: Beginning iter 5 of 10 : 817 gate strings ---\n"
     ]
    },
    {
     "name": "stdout",
     "output_type": "stream",
     "text": [
      "--- Minimum Chi^2 GST ---\n",
      "  Sum of Chi^2 = 751.195 (817 data params - 40 model params = expected mean of 777; p-value = 0.74055)"
     ]
    },
    {
     "name": "stdout",
     "output_type": "stream",
     "text": [
      "\n",
      "    2*Delta(log(L)) = 751.871"
     ]
    },
    {
     "name": "stdout",
     "output_type": "stream",
     "text": [
      "\n",
      "\n",
      "--- Iterative MLGST: Beginning iter 6 of 10 : 1201 gate strings ---\n"
     ]
    },
    {
     "name": "stdout",
     "output_type": "stream",
     "text": [
      "--- Minimum Chi^2 GST ---\n",
      "  Sum of Chi^2 = 1138.07 (1201 data params - 40 model params = expected mean of 1161; p-value = 0.679117)"
     ]
    },
    {
     "name": "stdout",
     "output_type": "stream",
     "text": [
      "\n",
      "    2*Delta(log(L)) = 1139.22"
     ]
    },
    {
     "name": "stdout",
     "output_type": "stream",
     "text": [
      "\n",
      "\n",
      "--- Iterative MLGST: Beginning iter 7 of 10 : 1585 gate strings ---\n"
     ]
    },
    {
     "name": "stdout",
     "output_type": "stream",
     "text": [
      "--- Minimum Chi^2 GST ---\n",
      "  Sum of Chi^2 = 1503.26 (1585 data params - 40 model params = expected mean of 1545; p-value = 0.772084)"
     ]
    },
    {
     "name": "stdout",
     "output_type": "stream",
     "text": [
      "\n",
      "    2*Delta(log(L)) = 1504.73"
     ]
    },
    {
     "name": "stdout",
     "output_type": "stream",
     "text": [
      "\n",
      "\n",
      "--- Iterative MLGST: Beginning iter 8 of 10 : 1969 gate strings ---\n"
     ]
    },
    {
     "name": "stdout",
     "output_type": "stream",
     "text": [
      "--- Minimum Chi^2 GST ---\n",
      "  Sum of Chi^2 = 1920.44 (1969 data params - 40 model params = expected mean of 1929; p-value = 0.550618)"
     ]
    },
    {
     "name": "stdout",
     "output_type": "stream",
     "text": [
      "\n",
      "    2*Delta(log(L)) = 1922.36"
     ]
    },
    {
     "name": "stdout",
     "output_type": "stream",
     "text": [
      "\n",
      "\n",
      "--- Iterative MLGST: Beginning iter 9 of 10 : 2353 gate strings ---\n"
     ]
    },
    {
     "name": "stdout",
     "output_type": "stream",
     "text": [
      "--- Minimum Chi^2 GST ---\n",
      "  Sum of Chi^2 = 2275.41 (2353 data params - 40 model params = expected mean of 2313; p-value = 0.707438)"
     ]
    },
    {
     "name": "stdout",
     "output_type": "stream",
     "text": [
      "\n",
      "    2*Delta(log(L)) = 2277.66"
     ]
    },
    {
     "name": "stdout",
     "output_type": "stream",
     "text": [
      "\n",
      "\n",
      "--- Iterative MLGST: Beginning iter 10 of 10 : 2737 gate strings ---\n"
     ]
    },
    {
     "name": "stdout",
     "output_type": "stream",
     "text": [
      "--- Minimum Chi^2 GST ---\n",
      "  Sum of Chi^2 = 2683.1 (2737 data params - 40 model params = expected mean of 2697; p-value = 0.571618)"
     ]
    },
    {
     "name": "stdout",
     "output_type": "stream",
     "text": [
      "\n",
      "    2*Delta(log(L)) = 2685.76"
     ]
    },
    {
     "name": "stdout",
     "output_type": "stream",
     "text": [
      "\n",
      "--- Last Iteration: switching to ML objective ---\n",
      "--- MLGST ---\n",
      "  Maximum log(L) = 1342.52 below upper bound of -4.60079e+06"
     ]
    },
    {
     "name": "stdout",
     "output_type": "stream",
     "text": [
      "\n",
      "    2*Delta(log(L)) = 2685.03 (2737 data params - 40 model params = expected mean of 2697; p-value = 0.561238)\n",
      "    2*Delta(log(L)) = 2685.03\n",
      "Running MLGST Iteration 6 "
     ]
    },
    {
     "name": "stdout",
     "output_type": "stream",
     "text": [
      "\n",
      "LGST: Singular values of I_tilde (truncating to first 4 of 6) = \n"
     ]
    },
    {
     "name": "stdout",
     "output_type": "stream",
     "text": [
      "[ 4.24367377  1.16578335  0.95878822  0.91710773  0.04317778  0.0192437 ]\n",
      "\n",
      "--- LGST ---\n"
     ]
    },
    {
     "name": "stdout",
     "output_type": "stream",
     "text": [
      "\n",
      "--- Iterative MLGST: Beginning iter 1 of 10 : 92 gate strings ---\n"
     ]
    },
    {
     "name": "stdout",
     "output_type": "stream",
     "text": [
      "--- Minimum Chi^2 GST ---\n",
      "  Sum of Chi^2 = 89.2788 (92 data params - 40 model params = expected mean of 52; p-value = 0.000998454)"
     ]
    },
    {
     "name": "stdout",
     "output_type": "stream",
     "text": [
      "\n",
      "    2*Delta(log(L)) = 89.9733\n",
      "\n",
      "--- Iterative MLGST: Beginning iter 2 of 10 : 92 gate strings ---\n"
     ]
    },
    {
     "name": "stdout",
     "output_type": "stream",
     "text": [
      "--- Minimum Chi^2 GST ---\n",
      "  Sum of Chi^2 = 89.2788 (92 data params - 40 model params = expected mean of 52; p-value = 0.000998454)"
     ]
    },
    {
     "name": "stdout",
     "output_type": "stream",
     "text": [
      "\n",
      "    2*Delta(log(L)) = 89.9735\n",
      "\n",
      "--- Iterative MLGST: Beginning iter 3 of 10 : 168 gate strings ---\n"
     ]
    },
    {
     "name": "stdout",
     "output_type": "stream",
     "text": [
      "--- Minimum Chi^2 GST ---\n",
      "  Sum of Chi^2 = 163.648 (168 data params - 40 model params = expected mean of 128; p-value = 0.0183016)"
     ]
    },
    {
     "name": "stdout",
     "output_type": "stream",
     "text": [
      "\n",
      "    2*Delta(log(L)) = 164.511\n",
      "\n",
      "--- Iterative MLGST: Beginning iter 4 of 10 : 441 gate strings ---\n"
     ]
    },
    {
     "name": "stdout",
     "output_type": "stream",
     "text": [
      "--- Minimum Chi^2 GST ---\n",
      "  Sum of Chi^2 = 450.971 (441 data params - 40 model params = expected mean of 401; p-value = 0.0427645)"
     ]
    },
    {
     "name": "stdout",
     "output_type": "stream",
     "text": [
      "\n",
      "    2*Delta(log(L)) = 452.352\n",
      "\n",
      "--- Iterative MLGST: Beginning iter 5 of 10 : 817 gate strings ---\n"
     ]
    },
    {
     "name": "stdout",
     "output_type": "stream",
     "text": [
      "--- Minimum Chi^2 GST ---\n",
      "  Sum of Chi^2 = 827.414 (817 data params - 40 model params = expected mean of 777; p-value = 0.102213)"
     ]
    },
    {
     "name": "stdout",
     "output_type": "stream",
     "text": [
      "\n",
      "    2*Delta(log(L)) = 829.636"
     ]
    },
    {
     "name": "stdout",
     "output_type": "stream",
     "text": [
      "\n",
      "\n",
      "--- Iterative MLGST: Beginning iter 6 of 10 : 1201 gate strings ---\n"
     ]
    },
    {
     "name": "stdout",
     "output_type": "stream",
     "text": [
      "--- Minimum Chi^2 GST ---\n",
      "  Sum of Chi^2 = 1236.65 (1201 data params - 40 model params = expected mean of 1161; p-value = 0.0604802)"
     ]
    },
    {
     "name": "stdout",
     "output_type": "stream",
     "text": [
      "\n",
      "    2*Delta(log(L)) = 1239.27"
     ]
    },
    {
     "name": "stdout",
     "output_type": "stream",
     "text": [
      "\n",
      "\n",
      "--- Iterative MLGST: Beginning iter 7 of 10 : 1585 gate strings ---\n"
     ]
    },
    {
     "name": "stdout",
     "output_type": "stream",
     "text": [
      "--- Minimum Chi^2 GST ---\n",
      "  Sum of Chi^2 = 1592.56 (1585 data params - 40 model params = expected mean of 1545; p-value = 0.19518)"
     ]
    },
    {
     "name": "stdout",
     "output_type": "stream",
     "text": [
      "\n",
      "    2*Delta(log(L)) = 1595.52"
     ]
    },
    {
     "name": "stdout",
     "output_type": "stream",
     "text": [
      "\n",
      "\n",
      "--- Iterative MLGST: Beginning iter 8 of 10 : 1969 gate strings ---\n"
     ]
    },
    {
     "name": "stdout",
     "output_type": "stream",
     "text": [
      "--- Minimum Chi^2 GST ---\n",
      "  Sum of Chi^2 = 2015.82 (1969 data params - 40 model params = expected mean of 1929; p-value = 0.082559)"
     ]
    },
    {
     "name": "stdout",
     "output_type": "stream",
     "text": [
      "\n",
      "    2*Delta(log(L)) = 2019.24"
     ]
    },
    {
     "name": "stdout",
     "output_type": "stream",
     "text": [
      "\n",
      "\n",
      "--- Iterative MLGST: Beginning iter 9 of 10 : 2353 gate strings ---\n"
     ]
    },
    {
     "name": "stdout",
     "output_type": "stream",
     "text": [
      "--- Minimum Chi^2 GST ---\n",
      "  Sum of Chi^2 = 2431.48 (2353 data params - 40 model params = expected mean of 2313; p-value = 0.0424535)"
     ]
    },
    {
     "name": "stdout",
     "output_type": "stream",
     "text": [
      "\n",
      "    2*Delta(log(L)) = 2435.36"
     ]
    },
    {
     "name": "stdout",
     "output_type": "stream",
     "text": [
      "\n",
      "\n",
      "--- Iterative MLGST: Beginning iter 10 of 10 : 2737 gate strings ---\n"
     ]
    },
    {
     "name": "stdout",
     "output_type": "stream",
     "text": [
      "--- Minimum Chi^2 GST ---\n",
      "  Sum of Chi^2 = 2802.95 (2737 data params - 40 model params = expected mean of 2697; p-value = 0.0759077)"
     ]
    },
    {
     "name": "stdout",
     "output_type": "stream",
     "text": [
      "\n",
      "    2*Delta(log(L)) = 2807.19"
     ]
    },
    {
     "name": "stdout",
     "output_type": "stream",
     "text": [
      "\n",
      "--- Last Iteration: switching to ML objective ---\n",
      "--- MLGST ---\n",
      "  Maximum log(L) = 1403.21 below upper bound of -4.59973e+06"
     ]
    },
    {
     "name": "stdout",
     "output_type": "stream",
     "text": [
      "\n",
      "    2*Delta(log(L)) = 2806.42 (2737 data params - 40 model params = expected mean of 2697; p-value = 0.0695402)\n",
      "    2*Delta(log(L)) = 2806.42\n",
      "Running MLGST Iteration 7 "
     ]
    },
    {
     "name": "stdout",
     "output_type": "stream",
     "text": [
      "\n",
      "LGST: Singular values of I_tilde (truncating to first 4 of 6) = \n"
     ]
    },
    {
     "name": "stdout",
     "output_type": "stream",
     "text": [
      "[ 4.24431939  1.16133635  0.93003446  0.90866769  0.03459671  0.01538844]\n",
      "\n",
      "--- LGST ---\n"
     ]
    },
    {
     "name": "stdout",
     "output_type": "stream",
     "text": [
      "\n",
      "--- Iterative MLGST: Beginning iter 1 of 10 : 92 gate strings ---\n"
     ]
    },
    {
     "name": "stdout",
     "output_type": "stream",
     "text": [
      "--- Minimum Chi^2 GST ---\n",
      "  Sum of Chi^2 = 59.1313 (92 data params - 40 model params = expected mean of 52; p-value = 0.231362)"
     ]
    },
    {
     "name": "stdout",
     "output_type": "stream",
     "text": [
      "\n",
      "    2*Delta(log(L)) = 59.1591\n",
      "\n",
      "--- Iterative MLGST: Beginning iter 2 of 10 : 92 gate strings ---\n"
     ]
    },
    {
     "name": "stdout",
     "output_type": "stream",
     "text": [
      "--- Minimum Chi^2 GST ---\n",
      "  Sum of Chi^2 = 59.1313 (92 data params - 40 model params = expected mean of 52; p-value = 0.231362)"
     ]
    },
    {
     "name": "stdout",
     "output_type": "stream",
     "text": [
      "\n",
      "    2*Delta(log(L)) = 59.1591\n",
      "\n",
      "--- Iterative MLGST: Beginning iter 3 of 10 : 168 gate strings ---\n"
     ]
    },
    {
     "name": "stdout",
     "output_type": "stream",
     "text": [
      "--- Minimum Chi^2 GST ---\n",
      "  Sum of Chi^2 = 120.78 (168 data params - 40 model params = expected mean of 128; p-value = 0.662086)"
     ]
    },
    {
     "name": "stdout",
     "output_type": "stream",
     "text": [
      "\n",
      "    2*Delta(log(L)) = 120.84\n",
      "\n",
      "--- Iterative MLGST: Beginning iter 4 of 10 : 441 gate strings ---\n"
     ]
    },
    {
     "name": "stdout",
     "output_type": "stream",
     "text": [
      "--- Minimum Chi^2 GST ---\n",
      "  Sum of Chi^2 = 386.391 (441 data params - 40 model params = expected mean of 401; p-value = 0.690988)"
     ]
    },
    {
     "name": "stdout",
     "output_type": "stream",
     "text": [
      "\n",
      "    2*Delta(log(L)) = 386.355\n",
      "\n",
      "--- Iterative MLGST: Beginning iter 5 of 10 : 817 gate strings ---\n"
     ]
    },
    {
     "name": "stdout",
     "output_type": "stream",
     "text": [
      "--- Minimum Chi^2 GST ---\n",
      "  Sum of Chi^2 = 759.362 (817 data params - 40 model params = expected mean of 777; p-value = 0.667829)"
     ]
    },
    {
     "name": "stdout",
     "output_type": "stream",
     "text": [
      "\n",
      "    2*Delta(log(L)) = 759.773"
     ]
    },
    {
     "name": "stdout",
     "output_type": "stream",
     "text": [
      "\n",
      "\n",
      "--- Iterative MLGST: Beginning iter 6 of 10 : 1201 gate strings ---\n"
     ]
    },
    {
     "name": "stdout",
     "output_type": "stream",
     "text": [
      "--- Minimum Chi^2 GST ---\n",
      "  Sum of Chi^2 = 1098.44 (1201 data params - 40 model params = expected mean of 1161; p-value = 0.904643)"
     ]
    },
    {
     "name": "stdout",
     "output_type": "stream",
     "text": [
      "\n",
      "    2*Delta(log(L)) = 1099.12"
     ]
    },
    {
     "name": "stdout",
     "output_type": "stream",
     "text": [
      "\n",
      "\n",
      "--- Iterative MLGST: Beginning iter 7 of 10 : 1585 gate strings ---\n"
     ]
    },
    {
     "name": "stdout",
     "output_type": "stream",
     "text": [
      "--- Minimum Chi^2 GST ---\n",
      "  Sum of Chi^2 = 1465.23 (1585 data params - 40 model params = expected mean of 1545; p-value = 0.926265)"
     ]
    },
    {
     "name": "stdout",
     "output_type": "stream",
     "text": [
      "\n",
      "    2*Delta(log(L)) = 1466.2"
     ]
    },
    {
     "name": "stdout",
     "output_type": "stream",
     "text": [
      "\n",
      "\n",
      "--- Iterative MLGST: Beginning iter 8 of 10 : 1969 gate strings ---\n"
     ]
    },
    {
     "name": "stdout",
     "output_type": "stream",
     "text": [
      "--- Minimum Chi^2 GST ---\n",
      "  Sum of Chi^2 = 1827.38 (1969 data params - 40 model params = expected mean of 1929; p-value = 0.951035)"
     ]
    },
    {
     "name": "stdout",
     "output_type": "stream",
     "text": [
      "\n",
      "    2*Delta(log(L)) = 1828.65"
     ]
    },
    {
     "name": "stdout",
     "output_type": "stream",
     "text": [
      "\n",
      "\n",
      "--- Iterative MLGST: Beginning iter 9 of 10 : 2353 gate strings ---\n"
     ]
    },
    {
     "name": "stdout",
     "output_type": "stream",
     "text": [
      "--- Minimum Chi^2 GST ---\n",
      "  Sum of Chi^2 = 2194.09 (2353 data params - 40 model params = expected mean of 2313; p-value = 0.961581)"
     ]
    },
    {
     "name": "stdout",
     "output_type": "stream",
     "text": [
      "\n",
      "    2*Delta(log(L)) = 2195.7"
     ]
    },
    {
     "name": "stdout",
     "output_type": "stream",
     "text": [
      "\n",
      "\n",
      "--- Iterative MLGST: Beginning iter 10 of 10 : 2737 gate strings ---\n"
     ]
    },
    {
     "name": "stdout",
     "output_type": "stream",
     "text": [
      "--- Minimum Chi^2 GST ---\n",
      "  Sum of Chi^2 = 2612.27 (2737 data params - 40 model params = expected mean of 2697; p-value = 0.876329)"
     ]
    },
    {
     "name": "stdout",
     "output_type": "stream",
     "text": [
      "\n",
      "    2*Delta(log(L)) = 2614.37"
     ]
    },
    {
     "name": "stdout",
     "output_type": "stream",
     "text": [
      "\n",
      "--- Last Iteration: switching to ML objective ---\n",
      "--- MLGST ---\n",
      "  Maximum log(L) = 1306.84 below upper bound of -4.60029e+06"
     ]
    },
    {
     "name": "stdout",
     "output_type": "stream",
     "text": [
      "\n",
      "    2*Delta(log(L)) = 2613.67 (2737 data params - 40 model params = expected mean of 2697; p-value = 0.872313)\n",
      "    2*Delta(log(L)) = 2613.67\n",
      "Running MLGST Iteration 8 "
     ]
    },
    {
     "name": "stdout",
     "output_type": "stream",
     "text": [
      "\n",
      "LGST: Singular values of I_tilde (truncating to first 4 of 6) = \n"
     ]
    },
    {
     "name": "stdout",
     "output_type": "stream",
     "text": [
      "[ 4.2452476   1.14936028  0.96382721  0.89030389  0.03797517  0.01648424]\n",
      "\n",
      "--- LGST ---\n"
     ]
    },
    {
     "name": "stdout",
     "output_type": "stream",
     "text": [
      "\n",
      "--- Iterative MLGST: Beginning iter 1 of 10 : 92 gate strings ---\n"
     ]
    },
    {
     "name": "stdout",
     "output_type": "stream",
     "text": [
      "--- Minimum Chi^2 GST ---\n",
      "  Sum of Chi^2 = 62.5257 (92 data params - 40 model params = expected mean of 52; p-value = 0.150544)"
     ]
    },
    {
     "name": "stdout",
     "output_type": "stream",
     "text": [
      "\n",
      "    2*Delta(log(L)) = 62.7051\n",
      "\n",
      "--- Iterative MLGST: Beginning iter 2 of 10 : 92 gate strings ---\n"
     ]
    },
    {
     "name": "stdout",
     "output_type": "stream",
     "text": [
      "--- Minimum Chi^2 GST ---\n",
      "  Sum of Chi^2 = 62.5257 (92 data params - 40 model params = expected mean of 52; p-value = 0.150544)"
     ]
    },
    {
     "name": "stdout",
     "output_type": "stream",
     "text": [
      "\n",
      "    2*Delta(log(L)) = 62.7051\n",
      "\n",
      "--- Iterative MLGST: Beginning iter 3 of 10 : 168 gate strings ---\n"
     ]
    },
    {
     "name": "stdout",
     "output_type": "stream",
     "text": [
      "--- Minimum Chi^2 GST ---\n",
      "  Sum of Chi^2 = 125.532 (168 data params - 40 model params = expected mean of 128; p-value = 0.545197)"
     ]
    },
    {
     "name": "stdout",
     "output_type": "stream",
     "text": [
      "\n",
      "    2*Delta(log(L)) = 125.683\n",
      "\n",
      "--- Iterative MLGST: Beginning iter 4 of 10 : 441 gate strings ---\n"
     ]
    },
    {
     "name": "stdout",
     "output_type": "stream",
     "text": [
      "--- Minimum Chi^2 GST ---\n",
      "  Sum of Chi^2 = 391.774 (441 data params - 40 model params = expected mean of 401; p-value = 0.619718)"
     ]
    },
    {
     "name": "stdout",
     "output_type": "stream",
     "text": [
      "\n",
      "    2*Delta(log(L)) = 392.121\n",
      "\n",
      "--- Iterative MLGST: Beginning iter 5 of 10 : 817 gate strings ---\n"
     ]
    },
    {
     "name": "stdout",
     "output_type": "stream",
     "text": [
      "--- Minimum Chi^2 GST ---\n",
      "  Sum of Chi^2 = 758.936 (817 data params - 40 model params = expected mean of 777; p-value = 0.671797)"
     ]
    },
    {
     "name": "stdout",
     "output_type": "stream",
     "text": [
      "\n",
      "    2*Delta(log(L)) = 760.278"
     ]
    },
    {
     "name": "stdout",
     "output_type": "stream",
     "text": [
      "\n",
      "\n",
      "--- Iterative MLGST: Beginning iter 6 of 10 : 1201 gate strings ---\n"
     ]
    },
    {
     "name": "stdout",
     "output_type": "stream",
     "text": [
      "--- Minimum Chi^2 GST ---\n",
      "  Sum of Chi^2 = 1110.16 (1201 data params - 40 model params = expected mean of 1161; p-value = 0.854755)"
     ]
    },
    {
     "name": "stdout",
     "output_type": "stream",
     "text": [
      "\n",
      "    2*Delta(log(L)) = 1111.84"
     ]
    },
    {
     "name": "stdout",
     "output_type": "stream",
     "text": [
      "\n",
      "\n",
      "--- Iterative MLGST: Beginning iter 7 of 10 : 1585 gate strings ---\n"
     ]
    },
    {
     "name": "stdout",
     "output_type": "stream",
     "text": [
      "--- Minimum Chi^2 GST ---\n",
      "  Sum of Chi^2 = 1485.77 (1585 data params - 40 model params = expected mean of 1545; p-value = 0.857107)"
     ]
    },
    {
     "name": "stdout",
     "output_type": "stream",
     "text": [
      "\n",
      "    2*Delta(log(L)) = 1487.77"
     ]
    },
    {
     "name": "stdout",
     "output_type": "stream",
     "text": [
      "\n",
      "\n",
      "--- Iterative MLGST: Beginning iter 8 of 10 : 1969 gate strings ---\n"
     ]
    },
    {
     "name": "stdout",
     "output_type": "stream",
     "text": [
      "--- Minimum Chi^2 GST ---\n",
      "  Sum of Chi^2 = 1883.23 (1969 data params - 40 model params = expected mean of 1929; p-value = 0.767912)"
     ]
    },
    {
     "name": "stdout",
     "output_type": "stream",
     "text": [
      "\n",
      "    2*Delta(log(L)) = 1885.68"
     ]
    },
    {
     "name": "stdout",
     "output_type": "stream",
     "text": [
      "\n",
      "\n",
      "--- Iterative MLGST: Beginning iter 9 of 10 : 2353 gate strings ---\n"
     ]
    },
    {
     "name": "stdout",
     "output_type": "stream",
     "text": [
      "--- Minimum Chi^2 GST ---\n",
      "  Sum of Chi^2 = 2237.51 (2353 data params - 40 model params = expected mean of 2313; p-value = 0.86703)"
     ]
    },
    {
     "name": "stdout",
     "output_type": "stream",
     "text": [
      "\n",
      "    2*Delta(log(L)) = 2240.26"
     ]
    },
    {
     "name": "stdout",
     "output_type": "stream",
     "text": [
      "\n",
      "\n",
      "--- Iterative MLGST: Beginning iter 10 of 10 : 2737 gate strings ---\n"
     ]
    },
    {
     "name": "stdout",
     "output_type": "stream",
     "text": [
      "--- Minimum Chi^2 GST ---\n",
      "  Sum of Chi^2 = 2613.01 (2737 data params - 40 model params = expected mean of 2697; p-value = 0.874211)"
     ]
    },
    {
     "name": "stdout",
     "output_type": "stream",
     "text": [
      "\n",
      "    2*Delta(log(L)) = 2616.13"
     ]
    },
    {
     "name": "stdout",
     "output_type": "stream",
     "text": [
      "\n",
      "--- Last Iteration: switching to ML objective ---\n",
      "--- MLGST ---\n",
      "  Maximum log(L) = 1308.06 below upper bound of -4.60068e+06"
     ]
    },
    {
     "name": "stdout",
     "output_type": "stream",
     "text": [
      "\n",
      "    2*Delta(log(L)) = 2616.13 (2737 data params - 40 model params = expected mean of 2697; p-value = 0.865037)\n",
      "    2*Delta(log(L)) = 2616.13\n",
      "   !!! Warning: MLGST failed to improve logl: retaining chi2-objective estimate !!!\n",
      "Running MLGST Iteration 9 "
     ]
    },
    {
     "name": "stdout",
     "output_type": "stream",
     "text": [
      "\n",
      "LGST: Singular values of I_tilde (truncating to first 4 of 6) = \n"
     ]
    },
    {
     "name": "stdout",
     "output_type": "stream",
     "text": [
      "[ 4.24385025  1.17311846  0.97620801  0.92925542  0.02418151  0.00967975]\n",
      "\n",
      "--- LGST ---\n"
     ]
    },
    {
     "name": "stdout",
     "output_type": "stream",
     "text": [
      "\n",
      "--- Iterative MLGST: Beginning iter 1 of 10 : 92 gate strings ---\n"
     ]
    },
    {
     "name": "stdout",
     "output_type": "stream",
     "text": [
      "--- Minimum Chi^2 GST ---\n",
      "  Sum of Chi^2 = 48.2172 (92 data params - 40 model params = expected mean of 52; p-value = 0.623426)"
     ]
    },
    {
     "name": "stdout",
     "output_type": "stream",
     "text": [
      "\n",
      "    2*Delta(log(L)) = 48.175\n",
      "\n",
      "--- Iterative MLGST: Beginning iter 2 of 10 : 92 gate strings ---\n"
     ]
    },
    {
     "name": "stdout",
     "output_type": "stream",
     "text": [
      "--- Minimum Chi^2 GST ---\n",
      "  Sum of Chi^2 = 48.2172 (92 data params - 40 model params = expected mean of 52; p-value = 0.623426)"
     ]
    },
    {
     "name": "stdout",
     "output_type": "stream",
     "text": [
      "\n",
      "    2*Delta(log(L)) = 48.1749\n",
      "\n",
      "--- Iterative MLGST: Beginning iter 3 of 10 : 168 gate strings ---\n"
     ]
    },
    {
     "name": "stdout",
     "output_type": "stream",
     "text": [
      "--- Minimum Chi^2 GST ---\n",
      "  Sum of Chi^2 = 129.903 (168 data params - 40 model params = expected mean of 128; p-value = 0.43645)"
     ]
    },
    {
     "name": "stdout",
     "output_type": "stream",
     "text": [
      "\n",
      "    2*Delta(log(L)) = 129.953\n",
      "\n",
      "--- Iterative MLGST: Beginning iter 4 of 10 : 441 gate strings ---\n"
     ]
    },
    {
     "name": "stdout",
     "output_type": "stream",
     "text": [
      "--- Minimum Chi^2 GST ---\n",
      "  Sum of Chi^2 = 399.577 (441 data params - 40 model params = expected mean of 401; p-value = 0.510679)"
     ]
    },
    {
     "name": "stdout",
     "output_type": "stream",
     "text": [
      "\n",
      "    2*Delta(log(L)) = 400.671\n",
      "\n",
      "--- Iterative MLGST: Beginning iter 5 of 10 : 817 gate strings ---\n"
     ]
    },
    {
     "name": "stdout",
     "output_type": "stream",
     "text": [
      "--- Minimum Chi^2 GST ---\n",
      "  Sum of Chi^2 = 790.581 (817 data params - 40 model params = expected mean of 777; p-value = 0.359643)"
     ]
    },
    {
     "name": "stdout",
     "output_type": "stream",
     "text": [
      "\n",
      "    2*Delta(log(L)) = 791.931"
     ]
    },
    {
     "name": "stdout",
     "output_type": "stream",
     "text": [
      "\n",
      "\n",
      "--- Iterative MLGST: Beginning iter 6 of 10 : 1201 gate strings ---\n"
     ]
    },
    {
     "name": "stdout",
     "output_type": "stream",
     "text": [
      "--- Minimum Chi^2 GST ---\n",
      "  Sum of Chi^2 = 1128.84 (1201 data params - 40 model params = expected mean of 1161; p-value = 0.745292)"
     ]
    },
    {
     "name": "stdout",
     "output_type": "stream",
     "text": [
      "\n",
      "    2*Delta(log(L)) = 1130.5"
     ]
    },
    {
     "name": "stdout",
     "output_type": "stream",
     "text": [
      "\n",
      "\n",
      "--- Iterative MLGST: Beginning iter 7 of 10 : 1585 gate strings ---\n"
     ]
    },
    {
     "name": "stdout",
     "output_type": "stream",
     "text": [
      "--- Minimum Chi^2 GST ---\n",
      "  Sum of Chi^2 = 1497.59 (1585 data params - 40 model params = expected mean of 1545; p-value = 0.802272)"
     ]
    },
    {
     "name": "stdout",
     "output_type": "stream",
     "text": [
      "\n",
      "    2*Delta(log(L)) = 1499.66"
     ]
    },
    {
     "name": "stdout",
     "output_type": "stream",
     "text": [
      "\n",
      "\n",
      "--- Iterative MLGST: Beginning iter 8 of 10 : 1969 gate strings ---\n"
     ]
    },
    {
     "name": "stdout",
     "output_type": "stream",
     "text": [
      "--- Minimum Chi^2 GST ---\n",
      "  Sum of Chi^2 = 1892.26 (1969 data params - 40 model params = expected mean of 1929; p-value = 0.720565)"
     ]
    },
    {
     "name": "stdout",
     "output_type": "stream",
     "text": [
      "\n",
      "    2*Delta(log(L)) = 1894.78"
     ]
    },
    {
     "name": "stdout",
     "output_type": "stream",
     "text": [
      "\n",
      "\n",
      "--- Iterative MLGST: Beginning iter 9 of 10 : 2353 gate strings ---\n"
     ]
    },
    {
     "name": "stdout",
     "output_type": "stream",
     "text": [
      "--- Minimum Chi^2 GST ---\n",
      "  Sum of Chi^2 = 2303.58 (2353 data params - 40 model params = expected mean of 2313; p-value = 0.551292)"
     ]
    },
    {
     "name": "stdout",
     "output_type": "stream",
     "text": [
      "\n",
      "    2*Delta(log(L)) = 2306.51"
     ]
    },
    {
     "name": "stdout",
     "output_type": "stream",
     "text": [
      "\n",
      "\n",
      "--- Iterative MLGST: Beginning iter 10 of 10 : 2737 gate strings ---\n"
     ]
    },
    {
     "name": "stdout",
     "output_type": "stream",
     "text": [
      "--- Minimum Chi^2 GST ---\n",
      "  Sum of Chi^2 = 2696.46 (2737 data params - 40 model params = expected mean of 2697; p-value = 0.499316)"
     ]
    },
    {
     "name": "stdout",
     "output_type": "stream",
     "text": [
      "\n",
      "    2*Delta(log(L)) = 2699.8"
     ]
    },
    {
     "name": "stdout",
     "output_type": "stream",
     "text": [
      "\n",
      "--- Last Iteration: switching to ML objective ---\n",
      "--- MLGST ---\n",
      "  Maximum log(L) = 1349.54 below upper bound of -4.60048e+06"
     ]
    },
    {
     "name": "stdout",
     "output_type": "stream",
     "text": [
      "\n",
      "    2*Delta(log(L)) = 2699.08 (2737 data params - 40 model params = expected mean of 2697; p-value = 0.485063)\n",
      "    2*Delta(log(L)) = 2699.08\n"
     ]
    }
   ],
   "source": [
    "#The number of simulated datasets & gatesets made for bootstrapping purposes.  \n",
    "# For good statistics, should probably be greater than 10.\n",
    "numGatesets=10\n",
    "\n",
    "param_boot_gatesets = pygsti.drivers.make_bootstrap_gatesets(\n",
    "                        numGatesets, ds, 'parametric', fiducials, fiducials, germs, maxLengths,\n",
    "                        inputGateSet=gs_mc2gst, startSeed=0, constrainToTP=False, returnData=False,\n",
    "                        verbosity=2)"
   ]
  },
  {
   "cell_type": "code",
   "execution_count": 4,
   "metadata": {
    "collapsed": false,
    "scrolled": false
   },
   "outputs": [
    {
     "name": "stdout",
     "output_type": "stream",
     "text": [
      "Spam weight  0\n",
      "Spam weight "
     ]
    },
    {
     "name": "stdout",
     "output_type": "stream",
     "text": [
      " 1\n",
      "Spam weight "
     ]
    },
    {
     "name": "stdout",
     "output_type": "stream",
     "text": [
      " 2\n",
      "Spam weight "
     ]
    },
    {
     "name": "stdout",
     "output_type": "stream",
     "text": [
      " 3\n",
      "Spam weight "
     ]
    },
    {
     "name": "stdout",
     "output_type": "stream",
     "text": [
      " 4\n",
      "Spam weight "
     ]
    },
    {
     "name": "stdout",
     "output_type": "stream",
     "text": [
      " 5\n",
      "Spam weight "
     ]
    },
    {
     "name": "stdout",
     "output_type": "stream",
     "text": [
      " 6\n",
      "Spam weight "
     ]
    },
    {
     "name": "stdout",
     "output_type": "stream",
     "text": [
      " 7\n",
      "Spam weight "
     ]
    },
    {
     "name": "stdout",
     "output_type": "stream",
     "text": [
      " 8\n",
      "Spam weight "
     ]
    },
    {
     "name": "stdout",
     "output_type": "stream",
     "text": [
      " 9\n",
      "Spam weight "
     ]
    },
    {
     "name": "stdout",
     "output_type": "stream",
     "text": [
      " 10\n",
      "Spam weight "
     ]
    },
    {
     "name": "stdout",
     "output_type": "stream",
     "text": [
      " 11\n",
      "Spam weight "
     ]
    },
    {
     "name": "stdout",
     "output_type": "stream",
     "text": [
      " 12\n",
      "Best SPAM weight is"
     ]
    },
    {
     "name": "stdout",
     "output_type": "stream",
     "text": [
      " 1.0\n"
     ]
    },
    {
     "data": {
      "image/png": "[encoded data removed]",
      "text/plain": [
       "<matplotlib.figure.Figure at 0x4147e10>"
      ]
     },
     "metadata": {},
     "output_type": "display_data"
    }
   ],
   "source": [
    "gauge_opt_pboot_gatesets = pygsti.drivers.gauge_optimize_gs_list(param_boot_gatesets, gs_mc2gst,\n",
    "                                                                 constrainToTP=False, plot=True)"
   ]
  },
  {
   "cell_type": "code",
   "execution_count": 5,
   "metadata": {
    "collapsed": false,
    "scrolled": false
   },
   "outputs": [
    {
     "name": "stdout",
     "output_type": "stream",
     "text": [
      "Parametric bootstrapped error bars, with 10 resamples\n",
      "\n",
      "Error in rho vec:\n",
      "Fully Parameterized spam vector with length 4\n",
      "   0\n",
      "   0\n",
      "   0\n",
      "   0\n",
      "\n",
      "\n",
      "Error in E vec:\n",
      "Fully Parameterized spam vector with length 4\n",
      "   0\n",
      "   0\n",
      "   0\n",
      "   0\n",
      "\n",
      "\n",
      "Error in Gi:\n",
      "Fully Parameterized gate with shape (4, 4)\n",
      "   0   0   0   0\n",
      "   0   0   0   0\n",
      "   0   0   0   0\n",
      "   0   0   0   0\n",
      "\n",
      "\n",
      "Error in Gx:\n",
      "Fully Parameterized gate with shape (4, 4)\n",
      "   0   0   0   0\n",
      "   0   0   0   0\n",
      "   0   0   0   0\n",
      "   0   0   0   0\n",
      "\n",
      "\n",
      "Error in Gy:\n",
      "Fully Parameterized gate with shape (4, 4)\n",
      "   0   0   0   0\n",
      "   0   0   0   0\n",
      "   0   0   0   0\n",
      "   0   0   0   0\n",
      "\n"
     ]
    }
   ],
   "source": [
    "pboot_mean = pygsti.drivers.to_mean_gateset(gauge_opt_pboot_gatesets, gs_mc2gst)\n",
    "pboot_std  = pygsti.drivers.to_std_gateset(gauge_opt_pboot_gatesets, gs_mc2gst)\n",
    "\n",
    "#Summary of the error bars\n",
    "print \"Parametric bootstrapped error bars, with\",numGatesets,\"resamples\\n\"\n",
    "print \"Error in rho vec:\" \n",
    "print pboot_std['rho0']\n",
    "print\n",
    "print \"Error in E vec:\"\n",
    "print pboot_std['E0']\n",
    "print\n",
    "print \"Error in Gi:\"\n",
    "print pboot_std['Gi']\n",
    "print\n",
    "print \"Error in Gx:\"\n",
    "print pboot_std['Gx']\n",
    "print\n",
    "print \"Error in Gy:\"\n",
    "print pboot_std['Gy']"
   ]
  },
  {
   "cell_type": "markdown",
   "metadata": {},
   "source": [
    "##Non-parametric Bootstrapping\n",
    "Here we do non-parametric bootstrapping, as indicated by the 'nonparametric' argument below.\n",
    "The output is again eventually stored in the \"mean\" and \"std\" GateSets, which hold the mean and standard deviation values of the set of bootstrapped gatesets (after gauge optimization).  It is this latter \"standard deviation Gateset\"\n",
    "which holds the collection of error bars.  Note: due to print setting issues, the outputs that are printed here will not necessarily reflect the true accuracy of the estimates made.\n",
    "\n",
    "(Technical note: ddof = 1 is by default used when computing the standard deviation -- see numpy.std -- meaning that we are computing a standard deviation of the sample, not of the population.)"
   ]
  },
  {
   "cell_type": "code",
   "execution_count": 6,
   "metadata": {
    "collapsed": false,
    "scrolled": true
   },
   "outputs": [
    {
     "name": "stdout",
     "output_type": "stream",
     "text": [
      "Creating DataSets: \n",
      "0  Generating non-parametric dataset.\n",
      "1 "
     ]
    },
    {
     "name": "stdout",
     "output_type": "stream",
     "text": [
      " Generating non-parametric dataset.\n",
      "2 "
     ]
    },
    {
     "name": "stdout",
     "output_type": "stream",
     "text": [
      " Generating non-parametric dataset.\n",
      "3 "
     ]
    },
    {
     "name": "stdout",
     "output_type": "stream",
     "text": [
      " Generating non-parametric dataset.\n",
      "4 "
     ]
    },
    {
     "name": "stdout",
     "output_type": "stream",
     "text": [
      " Generating non-parametric dataset.\n",
      "5 "
     ]
    },
    {
     "name": "stdout",
     "output_type": "stream",
     "text": [
      " Generating non-parametric dataset.\n",
      "6 "
     ]
    },
    {
     "name": "stdout",
     "output_type": "stream",
     "text": [
      " Generating non-parametric dataset.\n",
      "7 "
     ]
    },
    {
     "name": "stdout",
     "output_type": "stream",
     "text": [
      " Generating non-parametric dataset.\n",
      "8 "
     ]
    },
    {
     "name": "stdout",
     "output_type": "stream",
     "text": [
      " Generating non-parametric dataset.\n",
      "9 "
     ]
    },
    {
     "name": "stdout",
     "output_type": "stream",
     "text": [
      " Generating non-parametric dataset.\n",
      "Creating GateSets: "
     ]
    },
    {
     "name": "stdout",
     "output_type": "stream",
     "text": [
      "\n",
      "Running MLGST Iteration 0 \n",
      "LGST: Singular values of I_tilde (truncating to first 4 of 6) = \n"
     ]
    },
    {
     "name": "stdout",
     "output_type": "stream",
     "text": [
      "[ 4.24456639  1.20003951  0.98516344  0.91779559  0.03726084  0.01213483]\n",
      "\n",
      "--- LGST ---\n"
     ]
    },
    {
     "name": "stdout",
     "output_type": "stream",
     "text": [
      "\n",
      "--- Iterative MLGST: Beginning iter 1 of 10 : 92 gate strings ---\n"
     ]
    },
    {
     "name": "stdout",
     "output_type": "stream",
     "text": [
      "--- Minimum Chi^2 GST ---\n",
      "  Sum of Chi^2 = 97.7757 (92 data params - 40 model params = expected mean of 52; p-value = 0.000126604)"
     ]
    },
    {
     "name": "stdout",
     "output_type": "stream",
     "text": [
      "\n",
      "    2*Delta(log(L)) = 98.312\n",
      "\n",
      "--- Iterative MLGST: Beginning iter 2 of 10 : 92 gate strings ---\n"
     ]
    },
    {
     "name": "stdout",
     "output_type": "stream",
     "text": [
      "--- Minimum Chi^2 GST ---\n",
      "  Sum of Chi^2 = 97.7757 (92 data params - 40 model params = expected mean of 52; p-value = 0.000126605)"
     ]
    },
    {
     "name": "stdout",
     "output_type": "stream",
     "text": [
      "\n",
      "    2*Delta(log(L)) = 98.312\n",
      "\n",
      "--- Iterative MLGST: Beginning iter 3 of 10 : 168 gate strings ---\n"
     ]
    },
    {
     "name": "stdout",
     "output_type": "stream",
     "text": [
      "--- Minimum Chi^2 GST ---\n",
      "  Sum of Chi^2 = 299.962 (168 data params - 40 model params = expected mean of 128; p-value = 7.77156e-16)"
     ]
    },
    {
     "name": "stdout",
     "output_type": "stream",
     "text": [
      "\n",
      "    2*Delta(log(L)) = 301.552\n",
      "\n",
      "--- Iterative MLGST: Beginning iter 4 of 10 : 441 gate strings ---\n"
     ]
    },
    {
     "name": "stdout",
     "output_type": "stream",
     "text": [
      "--- Minimum Chi^2 GST ---\n",
      "  Sum of Chi^2 = 905.575 (441 data params - 40 model params = expected mean of 401; p-value = 0)"
     ]
    },
    {
     "name": "stdout",
     "output_type": "stream",
     "text": [
      "\n",
      "    2*Delta(log(L)) = 910.196\n",
      "\n",
      "--- Iterative MLGST: Beginning iter 5 of 10 : 817 gate strings ---\n"
     ]
    },
    {
     "name": "stdout",
     "output_type": "stream",
     "text": [
      "--- Minimum Chi^2 GST ---\n",
      "  Sum of Chi^2 = 1713.9 (817 data params - 40 model params = expected mean of 777; p-value = 0)"
     ]
    },
    {
     "name": "stdout",
     "output_type": "stream",
     "text": [
      "\n",
      "    2*Delta(log(L)) = 1722.19"
     ]
    },
    {
     "name": "stdout",
     "output_type": "stream",
     "text": [
      "\n",
      "\n",
      "--- Iterative MLGST: Beginning iter 6 of 10 : 1201 gate strings ---\n"
     ]
    },
    {
     "name": "stdout",
     "output_type": "stream",
     "text": [
      "--- Minimum Chi^2 GST ---\n",
      "  Sum of Chi^2 = 2468.12 (1201 data params - 40 model params = expected mean of 1161; p-value = 0)"
     ]
    },
    {
     "name": "stdout",
     "output_type": "stream",
     "text": [
      "\n",
      "    2*Delta(log(L)) = 2478.27"
     ]
    },
    {
     "name": "stdout",
     "output_type": "stream",
     "text": [
      "\n",
      "\n",
      "--- Iterative MLGST: Beginning iter 7 of 10 : 1585 gate strings ---\n"
     ]
    },
    {
     "name": "stdout",
     "output_type": "stream",
     "text": [
      "--- Minimum Chi^2 GST ---\n",
      "  Sum of Chi^2 = 3277.8 (1585 data params - 40 model params = expected mean of 1545; p-value = 0)"
     ]
    },
    {
     "name": "stdout",
     "output_type": "stream",
     "text": [
      "\n",
      "    2*Delta(log(L)) = 3289.49"
     ]
    },
    {
     "name": "stdout",
     "output_type": "stream",
     "text": [
      "\n",
      "\n",
      "--- Iterative MLGST: Beginning iter 8 of 10 : 1969 gate strings ---\n"
     ]
    },
    {
     "name": "stdout",
     "output_type": "stream",
     "text": [
      "--- Minimum Chi^2 GST ---\n",
      "  Sum of Chi^2 = 4052.86 (1969 data params - 40 model params = expected mean of 1929; p-value = 0)"
     ]
    },
    {
     "name": "stdout",
     "output_type": "stream",
     "text": [
      "\n",
      "    2*Delta(log(L)) = 4066.08"
     ]
    },
    {
     "name": "stdout",
     "output_type": "stream",
     "text": [
      "\n",
      "\n",
      "--- Iterative MLGST: Beginning iter 9 of 10 : 2353 gate strings ---\n"
     ]
    },
    {
     "name": "stdout",
     "output_type": "stream",
     "text": [
      "--- Minimum Chi^2 GST ---\n",
      "  Sum of Chi^2 = 4749.46 (2353 data params - 40 model params = expected mean of 2313; p-value = 0)"
     ]
    },
    {
     "name": "stdout",
     "output_type": "stream",
     "text": [
      "\n",
      "    2*Delta(log(L)) = 4763.91"
     ]
    },
    {
     "name": "stdout",
     "output_type": "stream",
     "text": [
      "\n",
      "\n",
      "--- Iterative MLGST: Beginning iter 10 of 10 : 2737 gate strings ---\n"
     ]
    },
    {
     "name": "stdout",
     "output_type": "stream",
     "text": [
      "--- Minimum Chi^2 GST ---\n",
      "  Sum of Chi^2 = 5450.61 (2737 data params - 40 model params = expected mean of 2697; p-value = 0)"
     ]
    },
    {
     "name": "stdout",
     "output_type": "stream",
     "text": [
      "\n",
      "    2*Delta(log(L)) = 5466.34"
     ]
    },
    {
     "name": "stdout",
     "output_type": "stream",
     "text": [
      "\n",
      "--- Last Iteration: switching to ML objective ---\n",
      "--- MLGST ---\n",
      "  Maximum log(L) = 2731.67 below upper bound of -4.59866e+06"
     ]
    },
    {
     "name": "stdout",
     "output_type": "stream",
     "text": [
      "\n",
      "    2*Delta(log(L)) = 5463.33 (2737 data params - 40 model params = expected mean of 2697; p-value = 0)\n",
      "    2*Delta(log(L)) = 5463.33\n",
      "Running MLGST Iteration 1 "
     ]
    },
    {
     "name": "stdout",
     "output_type": "stream",
     "text": [
      "\n",
      "LGST: Singular values of I_tilde (truncating to first 4 of 6) = \n"
     ]
    },
    {
     "name": "stdout",
     "output_type": "stream",
     "text": [
      "[ 4.24411165  1.1694558   0.9619148   0.92361444  0.04372413  0.0078674 ]\n",
      "\n",
      "--- LGST ---\n"
     ]
    },
    {
     "name": "stdout",
     "output_type": "stream",
     "text": [
      "\n",
      "--- Iterative MLGST: Beginning iter 1 of 10 : 92 gate strings ---\n"
     ]
    },
    {
     "name": "stdout",
     "output_type": "stream",
     "text": [
      "--- Minimum Chi^2 GST ---\n",
      "  Sum of Chi^2 = 105.754 (92 data params - 40 model params = expected mean of 52; p-value = 1.55789e-05)"
     ]
    },
    {
     "name": "stdout",
     "output_type": "stream",
     "text": [
      "\n",
      "    2*Delta(log(L)) = 106.182\n",
      "\n",
      "--- Iterative MLGST: Beginning iter 2 of 10 : 92 gate strings ---\n"
     ]
    },
    {
     "name": "stdout",
     "output_type": "stream",
     "text": [
      "--- Minimum Chi^2 GST ---\n",
      "  Sum of Chi^2 = 105.754 (92 data params - 40 model params = expected mean of 52; p-value = 1.5579e-05)"
     ]
    },
    {
     "name": "stdout",
     "output_type": "stream",
     "text": [
      "\n",
      "    2*Delta(log(L)) = 106.183\n",
      "\n",
      "--- Iterative MLGST: Beginning iter 3 of 10 : 168 gate strings ---\n"
     ]
    },
    {
     "name": "stdout",
     "output_type": "stream",
     "text": [
      "--- Minimum Chi^2 GST ---\n",
      "  Sum of Chi^2 = 257.32 (168 data params - 40 model params = expected mean of 128; p-value = 1.01759e-10)"
     ]
    },
    {
     "name": "stdout",
     "output_type": "stream",
     "text": [
      "\n",
      "    2*Delta(log(L)) = 258.107\n",
      "\n",
      "--- Iterative MLGST: Beginning iter 4 of 10 : 441 gate strings ---\n"
     ]
    },
    {
     "name": "stdout",
     "output_type": "stream",
     "text": [
      "--- Minimum Chi^2 GST ---\n",
      "  Sum of Chi^2 = 808.446 (441 data params - 40 model params = expected mean of 401; p-value = 0)"
     ]
    },
    {
     "name": "stdout",
     "output_type": "stream",
     "text": [
      "\n",
      "    2*Delta(log(L)) = 810.614\n",
      "\n",
      "--- Iterative MLGST: Beginning iter 5 of 10 : 817 gate strings ---\n"
     ]
    },
    {
     "name": "stdout",
     "output_type": "stream",
     "text": [
      "--- Minimum Chi^2 GST ---\n",
      "  Sum of Chi^2 = 1546.82 (817 data params - 40 model params = expected mean of 777; p-value = 0)"
     ]
    },
    {
     "name": "stdout",
     "output_type": "stream",
     "text": [
      "\n",
      "    2*Delta(log(L)) = 1550.37"
     ]
    },
    {
     "name": "stdout",
     "output_type": "stream",
     "text": [
      "\n",
      "\n",
      "--- Iterative MLGST: Beginning iter 6 of 10 : 1201 gate strings ---\n"
     ]
    },
    {
     "name": "stdout",
     "output_type": "stream",
     "text": [
      "--- Minimum Chi^2 GST ---\n",
      "  Sum of Chi^2 = 2207.63 (1201 data params - 40 model params = expected mean of 1161; p-value = 0)"
     ]
    },
    {
     "name": "stdout",
     "output_type": "stream",
     "text": [
      "\n",
      "    2*Delta(log(L)) = 2212.56"
     ]
    },
    {
     "name": "stdout",
     "output_type": "stream",
     "text": [
      "\n",
      "\n",
      "--- Iterative MLGST: Beginning iter 7 of 10 : 1585 gate strings ---\n"
     ]
    },
    {
     "name": "stdout",
     "output_type": "stream",
     "text": [
      "--- Minimum Chi^2 GST ---\n",
      "  Sum of Chi^2 = 3034.1 (1585 data params - 40 model params = expected mean of 1545; p-value = 0)"
     ]
    },
    {
     "name": "stdout",
     "output_type": "stream",
     "text": [
      "\n",
      "    2*Delta(log(L)) = 3040.74"
     ]
    },
    {
     "name": "stdout",
     "output_type": "stream",
     "text": [
      "\n",
      "\n",
      "--- Iterative MLGST: Beginning iter 8 of 10 : 1969 gate strings ---\n"
     ]
    },
    {
     "name": "stdout",
     "output_type": "stream",
     "text": [
      "--- Minimum Chi^2 GST ---\n",
      "  Sum of Chi^2 = 3823.85 (1969 data params - 40 model params = expected mean of 1929; p-value = 0)"
     ]
    },
    {
     "name": "stdout",
     "output_type": "stream",
     "text": [
      "\n",
      "    2*Delta(log(L)) = 3832.05"
     ]
    },
    {
     "name": "stdout",
     "output_type": "stream",
     "text": [
      "\n",
      "\n",
      "--- Iterative MLGST: Beginning iter 9 of 10 : 2353 gate strings ---\n"
     ]
    },
    {
     "name": "stdout",
     "output_type": "stream",
     "text": [
      "--- Minimum Chi^2 GST ---\n",
      "  Sum of Chi^2 = 4514.86 (2353 data params - 40 model params = expected mean of 2313; p-value = 0)"
     ]
    },
    {
     "name": "stdout",
     "output_type": "stream",
     "text": [
      "\n",
      "    2*Delta(log(L)) = 4524.29"
     ]
    },
    {
     "name": "stdout",
     "output_type": "stream",
     "text": [
      "\n",
      "\n",
      "--- Iterative MLGST: Beginning iter 10 of 10 : 2737 gate strings ---\n"
     ]
    },
    {
     "name": "stdout",
     "output_type": "stream",
     "text": [
      "--- Minimum Chi^2 GST ---\n",
      "  Sum of Chi^2 = 5245.15 (2737 data params - 40 model params = expected mean of 2697; p-value = 0)"
     ]
    },
    {
     "name": "stdout",
     "output_type": "stream",
     "text": [
      "\n",
      "    2*Delta(log(L)) = 5256.01"
     ]
    },
    {
     "name": "stdout",
     "output_type": "stream",
     "text": [
      "\n",
      "--- Last Iteration: switching to ML objective ---\n",
      "--- MLGST ---\n",
      "  Maximum log(L) = 2626.67 below upper bound of -4.59916e+06"
     ]
    },
    {
     "name": "stdout",
     "output_type": "stream",
     "text": [
      "\n",
      "    2*Delta(log(L)) = 5253.35 (2737 data params - 40 model params = expected mean of 2697; p-value = 0)\n",
      "    2*Delta(log(L)) = 5253.35\n",
      "Running MLGST Iteration 2 "
     ]
    },
    {
     "name": "stdout",
     "output_type": "stream",
     "text": [
      "\n",
      "LGST: Singular values of I_tilde (truncating to first 4 of 6) = \n"
     ]
    },
    {
     "name": "stdout",
     "output_type": "stream",
     "text": [
      "[ 4.24427705  1.16035247  0.96396723  0.91801576  0.02234415  0.00845476]\n",
      "\n",
      "--- LGST ---\n"
     ]
    },
    {
     "name": "stdout",
     "output_type": "stream",
     "text": [
      "\n",
      "--- Iterative MLGST: Beginning iter 1 of 10 : 92 gate strings ---\n"
     ]
    },
    {
     "name": "stdout",
     "output_type": "stream",
     "text": [
      "--- Minimum Chi^2 GST ---\n",
      "  Sum of Chi^2 = 96.3682 (92 data params - 40 model params = expected mean of 52; p-value = 0.000180492)"
     ]
    },
    {
     "name": "stdout",
     "output_type": "stream",
     "text": [
      "\n",
      "    2*Delta(log(L)) = 96.5972\n",
      "\n",
      "--- Iterative MLGST: Beginning iter 2 of 10 : 92 gate strings ---\n"
     ]
    },
    {
     "name": "stdout",
     "output_type": "stream",
     "text": [
      "--- Minimum Chi^2 GST ---\n",
      "  Sum of Chi^2 = 96.3682 (92 data params - 40 model params = expected mean of 52; p-value = 0.000180492)"
     ]
    },
    {
     "name": "stdout",
     "output_type": "stream",
     "text": [
      "\n",
      "    2*Delta(log(L)) = 96.5971\n",
      "\n",
      "--- Iterative MLGST: Beginning iter 3 of 10 : 168 gate strings ---\n"
     ]
    },
    {
     "name": "stdout",
     "output_type": "stream",
     "text": [
      "--- Minimum Chi^2 GST ---\n",
      "  Sum of Chi^2 = 265.592 (168 data params - 40 model params = expected mean of 128; p-value = 1.16124e-11)"
     ]
    },
    {
     "name": "stdout",
     "output_type": "stream",
     "text": [
      "\n",
      "    2*Delta(log(L)) = 265.854\n",
      "\n",
      "--- Iterative MLGST: Beginning iter 4 of 10 : 441 gate strings ---\n"
     ]
    },
    {
     "name": "stdout",
     "output_type": "stream",
     "text": [
      "--- Minimum Chi^2 GST ---\n",
      "  Sum of Chi^2 = 818.066 (441 data params - 40 model params = expected mean of 401; p-value = 0)"
     ]
    },
    {
     "name": "stdout",
     "output_type": "stream",
     "text": [
      "\n",
      "    2*Delta(log(L)) = 820.554\n",
      "\n",
      "--- Iterative MLGST: Beginning iter 5 of 10 : 817 gate strings ---\n"
     ]
    },
    {
     "name": "stdout",
     "output_type": "stream",
     "text": [
      "--- Minimum Chi^2 GST ---\n",
      "  Sum of Chi^2 = 1580.23 (817 data params - 40 model params = expected mean of 777; p-value = 0)"
     ]
    },
    {
     "name": "stdout",
     "output_type": "stream",
     "text": [
      "\n",
      "    2*Delta(log(L)) = 1585.34"
     ]
    },
    {
     "name": "stdout",
     "output_type": "stream",
     "text": [
      "\n",
      "\n",
      "--- Iterative MLGST: Beginning iter 6 of 10 : 1201 gate strings ---\n"
     ]
    },
    {
     "name": "stdout",
     "output_type": "stream",
     "text": [
      "--- Minimum Chi^2 GST ---\n",
      "  Sum of Chi^2 = 2388.4 (1201 data params - 40 model params = expected mean of 1161; p-value = 0)"
     ]
    },
    {
     "name": "stdout",
     "output_type": "stream",
     "text": [
      "\n",
      "    2*Delta(log(L)) = 2395.46"
     ]
    },
    {
     "name": "stdout",
     "output_type": "stream",
     "text": [
      "\n",
      "\n",
      "--- Iterative MLGST: Beginning iter 7 of 10 : 1585 gate strings ---\n"
     ]
    },
    {
     "name": "stdout",
     "output_type": "stream",
     "text": [
      "--- Minimum Chi^2 GST ---\n",
      "  Sum of Chi^2 = 3153.62 (1585 data params - 40 model params = expected mean of 1545; p-value = 0)"
     ]
    },
    {
     "name": "stdout",
     "output_type": "stream",
     "text": [
      "\n",
      "    2*Delta(log(L)) = 3162.08"
     ]
    },
    {
     "name": "stdout",
     "output_type": "stream",
     "text": [
      "\n",
      "\n",
      "--- Iterative MLGST: Beginning iter 8 of 10 : 1969 gate strings ---\n"
     ]
    },
    {
     "name": "stdout",
     "output_type": "stream",
     "text": [
      "--- Minimum Chi^2 GST ---\n",
      "  Sum of Chi^2 = 4004.84 (1969 data params - 40 model params = expected mean of 1929; p-value = 0)"
     ]
    },
    {
     "name": "stdout",
     "output_type": "stream",
     "text": [
      "\n",
      "    2*Delta(log(L)) = 4015.11"
     ]
    },
    {
     "name": "stdout",
     "output_type": "stream",
     "text": [
      "\n",
      "\n",
      "--- Iterative MLGST: Beginning iter 9 of 10 : 2353 gate strings ---\n"
     ]
    },
    {
     "name": "stdout",
     "output_type": "stream",
     "text": [
      "--- Minimum Chi^2 GST ---\n",
      "  Sum of Chi^2 = 4796.01 (2353 data params - 40 model params = expected mean of 2313; p-value = 0)"
     ]
    },
    {
     "name": "stdout",
     "output_type": "stream",
     "text": [
      "\n",
      "    2*Delta(log(L)) = 4808.08"
     ]
    },
    {
     "name": "stdout",
     "output_type": "stream",
     "text": [
      "\n",
      "\n",
      "--- Iterative MLGST: Beginning iter 10 of 10 : 2737 gate strings ---\n"
     ]
    },
    {
     "name": "stdout",
     "output_type": "stream",
     "text": [
      "--- Minimum Chi^2 GST ---\n",
      "  Sum of Chi^2 = 5484.69 (2737 data params - 40 model params = expected mean of 2697; p-value = 0)"
     ]
    },
    {
     "name": "stdout",
     "output_type": "stream",
     "text": [
      "\n",
      "    2*Delta(log(L)) = 5497.95"
     ]
    },
    {
     "name": "stdout",
     "output_type": "stream",
     "text": [
      "\n",
      "--- Last Iteration: switching to ML objective ---\n",
      "--- MLGST ---\n",
      "  Maximum log(L) = 2747.48 below upper bound of -4.59897e+06"
     ]
    },
    {
     "name": "stdout",
     "output_type": "stream",
     "text": [
      "\n",
      "    2*Delta(log(L)) = 5494.97 (2737 data params - 40 model params = expected mean of 2697; p-value = 0)\n",
      "    2*Delta(log(L)) = 5494.97\n",
      "Running MLGST Iteration 3 "
     ]
    },
    {
     "name": "stdout",
     "output_type": "stream",
     "text": [
      "\n",
      "LGST: Singular values of I_tilde (truncating to first 4 of 6) = \n"
     ]
    },
    {
     "name": "stdout",
     "output_type": "stream",
     "text": [
      "[ 4.24378174  1.21996329  0.97803729  0.93844487  0.04306628  0.02239944]\n",
      "\n",
      "--- LGST ---\n"
     ]
    },
    {
     "name": "stdout",
     "output_type": "stream",
     "text": [
      "\n",
      "--- Iterative MLGST: Beginning iter 1 of 10 : 92 gate strings ---\n"
     ]
    },
    {
     "name": "stdout",
     "output_type": "stream",
     "text": [
      "--- Minimum Chi^2 GST ---\n",
      "  Sum of Chi^2 = 125.442 (92 data params - 40 model params = expected mean of 52; p-value = 5.23829e-08)"
     ]
    },
    {
     "name": "stdout",
     "output_type": "stream",
     "text": [
      "\n",
      "    2*Delta(log(L)) = 126.504\n",
      "\n",
      "--- Iterative MLGST: Beginning iter 2 of 10 : 92 gate strings ---\n"
     ]
    },
    {
     "name": "stdout",
     "output_type": "stream",
     "text": [
      "--- Minimum Chi^2 GST ---\n",
      "  Sum of Chi^2 = 125.442 (92 data params - 40 model params = expected mean of 52; p-value = 5.2383e-08)"
     ]
    },
    {
     "name": "stdout",
     "output_type": "stream",
     "text": [
      "\n",
      "    2*Delta(log(L)) = 126.504\n",
      "\n",
      "--- Iterative MLGST: Beginning iter 3 of 10 : 168 gate strings ---\n"
     ]
    },
    {
     "name": "stdout",
     "output_type": "stream",
     "text": [
      "--- Minimum Chi^2 GST ---\n",
      "  Sum of Chi^2 = 267.09 (168 data params - 40 model params = expected mean of 128; p-value = 7.78855e-12)"
     ]
    },
    {
     "name": "stdout",
     "output_type": "stream",
     "text": [
      "\n",
      "    2*Delta(log(L)) = 268.416\n",
      "\n",
      "--- Iterative MLGST: Beginning iter 4 of 10 : 441 gate strings ---\n"
     ]
    },
    {
     "name": "stdout",
     "output_type": "stream",
     "text": [
      "--- Minimum Chi^2 GST ---\n",
      "  Sum of Chi^2 = 829.691 (441 data params - 40 model params = expected mean of 401; p-value = 0)"
     ]
    },
    {
     "name": "stdout",
     "output_type": "stream",
     "text": [
      "\n",
      "    2*Delta(log(L)) = 832.776\n",
      "\n",
      "--- Iterative MLGST: Beginning iter 5 of 10 : 817 gate strings ---\n"
     ]
    },
    {
     "name": "stdout",
     "output_type": "stream",
     "text": [
      "--- Minimum Chi^2 GST ---\n",
      "  Sum of Chi^2 = 1534.75 (817 data params - 40 model params = expected mean of 777; p-value = 0)"
     ]
    },
    {
     "name": "stdout",
     "output_type": "stream",
     "text": [
      "\n",
      "    2*Delta(log(L)) = 1540.48"
     ]
    },
    {
     "name": "stdout",
     "output_type": "stream",
     "text": [
      "\n",
      "\n",
      "--- Iterative MLGST: Beginning iter 6 of 10 : 1201 gate strings ---\n"
     ]
    },
    {
     "name": "stdout",
     "output_type": "stream",
     "text": [
      "--- Minimum Chi^2 GST ---\n",
      "  Sum of Chi^2 = 2243.51 (1201 data params - 40 model params = expected mean of 1161; p-value = 0)"
     ]
    },
    {
     "name": "stdout",
     "output_type": "stream",
     "text": [
      "\n",
      "    2*Delta(log(L)) = 2250.62"
     ]
    },
    {
     "name": "stdout",
     "output_type": "stream",
     "text": [
      "\n",
      "\n",
      "--- Iterative MLGST: Beginning iter 7 of 10 : 1585 gate strings ---\n"
     ]
    },
    {
     "name": "stdout",
     "output_type": "stream",
     "text": [
      "--- Minimum Chi^2 GST ---\n",
      "  Sum of Chi^2 = 3088.87 (1585 data params - 40 model params = expected mean of 1545; p-value = 0)"
     ]
    },
    {
     "name": "stdout",
     "output_type": "stream",
     "text": [
      "\n",
      "    2*Delta(log(L)) = 3097.64"
     ]
    },
    {
     "name": "stdout",
     "output_type": "stream",
     "text": [
      "\n",
      "\n",
      "--- Iterative MLGST: Beginning iter 8 of 10 : 1969 gate strings ---\n"
     ]
    },
    {
     "name": "stdout",
     "output_type": "stream",
     "text": [
      "--- Minimum Chi^2 GST ---\n",
      "  Sum of Chi^2 = 3917.52 (1969 data params - 40 model params = expected mean of 1929; p-value = 0)"
     ]
    },
    {
     "name": "stdout",
     "output_type": "stream",
     "text": [
      "\n",
      "    2*Delta(log(L)) = 3928.18"
     ]
    },
    {
     "name": "stdout",
     "output_type": "stream",
     "text": [
      "\n",
      "\n",
      "--- Iterative MLGST: Beginning iter 9 of 10 : 2353 gate strings ---\n"
     ]
    },
    {
     "name": "stdout",
     "output_type": "stream",
     "text": [
      "--- Minimum Chi^2 GST ---\n",
      "  Sum of Chi^2 = 4634.11 (2353 data params - 40 model params = expected mean of 2313; p-value = 0)"
     ]
    },
    {
     "name": "stdout",
     "output_type": "stream",
     "text": [
      "\n",
      "    2*Delta(log(L)) = 4646.16"
     ]
    },
    {
     "name": "stdout",
     "output_type": "stream",
     "text": [
      "\n",
      "\n",
      "--- Iterative MLGST: Beginning iter 10 of 10 : 2737 gate strings ---\n"
     ]
    },
    {
     "name": "stdout",
     "output_type": "stream",
     "text": [
      "--- Minimum Chi^2 GST ---\n",
      "  Sum of Chi^2 = 5303.13 (2737 data params - 40 model params = expected mean of 2697; p-value = 0)"
     ]
    },
    {
     "name": "stdout",
     "output_type": "stream",
     "text": [
      "\n",
      "    2*Delta(log(L)) = 5316.21"
     ]
    },
    {
     "name": "stdout",
     "output_type": "stream",
     "text": [
      "\n",
      "--- Last Iteration: switching to ML objective ---\n",
      "--- MLGST ---\n",
      "  Maximum log(L) = 2656.66 below upper bound of -4.59909e+06"
     ]
    },
    {
     "name": "stdout",
     "output_type": "stream",
     "text": [
      "\n",
      "    2*Delta(log(L)) = 5313.33 (2737 data params - 40 model params = expected mean of 2697; p-value = 0)\n",
      "    2*Delta(log(L)) = 5313.33\n",
      "Running MLGST Iteration 4 "
     ]
    },
    {
     "name": "stdout",
     "output_type": "stream",
     "text": [
      "\n",
      "LGST: Singular values of I_tilde (truncating to first 4 of 6) = \n"
     ]
    },
    {
     "name": "stdout",
     "output_type": "stream",
     "text": [
      "[ 4.24379659  1.17392033  0.9948911   0.87843068  0.04711465  0.02007583]\n",
      "\n",
      "--- LGST ---\n"
     ]
    },
    {
     "name": "stdout",
     "output_type": "stream",
     "text": [
      "\n",
      "--- Iterative MLGST: Beginning iter 1 of 10 : 92 gate strings ---\n"
     ]
    },
    {
     "name": "stdout",
     "output_type": "stream",
     "text": [
      "--- Minimum Chi^2 GST ---\n",
      "  Sum of Chi^2 = 138.075 (92 data params - 40 model params = expected mean of 52; p-value = 9.86162e-10)"
     ]
    },
    {
     "name": "stdout",
     "output_type": "stream",
     "text": [
      "\n",
      "    2*Delta(log(L)) = 139.148\n",
      "\n",
      "--- Iterative MLGST: Beginning iter 2 of 10 : 92 gate strings ---\n"
     ]
    },
    {
     "name": "stdout",
     "output_type": "stream",
     "text": [
      "--- Minimum Chi^2 GST ---\n",
      "  Sum of Chi^2 = 138.075 (92 data params - 40 model params = expected mean of 52; p-value = 9.86162e-10)"
     ]
    },
    {
     "name": "stdout",
     "output_type": "stream",
     "text": [
      "\n",
      "    2*Delta(log(L)) = 139.148\n",
      "\n",
      "--- Iterative MLGST: Beginning iter 3 of 10 : 168 gate strings ---\n"
     ]
    },
    {
     "name": "stdout",
     "output_type": "stream",
     "text": [
      "--- Minimum Chi^2 GST ---\n",
      "  Sum of Chi^2 = 295.331 (168 data params - 40 model params = expected mean of 128; p-value = 2.9976e-15)"
     ]
    },
    {
     "name": "stdout",
     "output_type": "stream",
     "text": [
      "\n",
      "    2*Delta(log(L)) = 296.37\n",
      "\n",
      "--- Iterative MLGST: Beginning iter 4 of 10 : 441 gate strings ---\n"
     ]
    },
    {
     "name": "stdout",
     "output_type": "stream",
     "text": [
      "--- Minimum Chi^2 GST ---\n",
      "  Sum of Chi^2 = 811.404 (441 data params - 40 model params = expected mean of 401; p-value = 0)"
     ]
    },
    {
     "name": "stdout",
     "output_type": "stream",
     "text": [
      "\n",
      "    2*Delta(log(L)) = 813.171\n",
      "\n",
      "--- Iterative MLGST: Beginning iter 5 of 10 : 817 gate strings ---\n"
     ]
    },
    {
     "name": "stdout",
     "output_type": "stream",
     "text": [
      "--- Minimum Chi^2 GST ---\n",
      "  Sum of Chi^2 = 1460.69 (817 data params - 40 model params = expected mean of 777; p-value = 0)"
     ]
    },
    {
     "name": "stdout",
     "output_type": "stream",
     "text": [
      "\n",
      "    2*Delta(log(L)) = 1464.73"
     ]
    },
    {
     "name": "stdout",
     "output_type": "stream",
     "text": [
      "\n",
      "\n",
      "--- Iterative MLGST: Beginning iter 6 of 10 : 1201 gate strings ---\n"
     ]
    },
    {
     "name": "stdout",
     "output_type": "stream",
     "text": [
      "--- Minimum Chi^2 GST ---\n",
      "  Sum of Chi^2 = 2334.29 (1201 data params - 40 model params = expected mean of 1161; p-value = 0)"
     ]
    },
    {
     "name": "stdout",
     "output_type": "stream",
     "text": [
      "\n",
      "    2*Delta(log(L)) = 2340.69"
     ]
    },
    {
     "name": "stdout",
     "output_type": "stream",
     "text": [
      "\n",
      "\n",
      "--- Iterative MLGST: Beginning iter 7 of 10 : 1585 gate strings ---\n"
     ]
    },
    {
     "name": "stdout",
     "output_type": "stream",
     "text": [
      "--- Minimum Chi^2 GST ---\n",
      "  Sum of Chi^2 = 3255.89 (1585 data params - 40 model params = expected mean of 1545; p-value = 0)"
     ]
    },
    {
     "name": "stdout",
     "output_type": "stream",
     "text": [
      "\n",
      "    2*Delta(log(L)) = 3264.51"
     ]
    },
    {
     "name": "stdout",
     "output_type": "stream",
     "text": [
      "\n",
      "\n",
      "--- Iterative MLGST: Beginning iter 8 of 10 : 1969 gate strings ---\n"
     ]
    },
    {
     "name": "stdout",
     "output_type": "stream",
     "text": [
      "--- Minimum Chi^2 GST ---\n",
      "  Sum of Chi^2 = 4009.72 (1969 data params - 40 model params = expected mean of 1929; p-value = 0)"
     ]
    },
    {
     "name": "stdout",
     "output_type": "stream",
     "text": [
      "\n",
      "    2*Delta(log(L)) = 4019.76"
     ]
    },
    {
     "name": "stdout",
     "output_type": "stream",
     "text": [
      "\n",
      "\n",
      "--- Iterative MLGST: Beginning iter 9 of 10 : 2353 gate strings ---\n"
     ]
    },
    {
     "name": "stdout",
     "output_type": "stream",
     "text": [
      "--- Minimum Chi^2 GST ---\n",
      "  Sum of Chi^2 = 4826.79 (2353 data params - 40 model params = expected mean of 2313; p-value = 0)"
     ]
    },
    {
     "name": "stdout",
     "output_type": "stream",
     "text": [
      "\n",
      "    2*Delta(log(L)) = 4838.64"
     ]
    },
    {
     "name": "stdout",
     "output_type": "stream",
     "text": [
      "\n",
      "\n",
      "--- Iterative MLGST: Beginning iter 10 of 10 : 2737 gate strings ---\n"
     ]
    },
    {
     "name": "stdout",
     "output_type": "stream",
     "text": [
      "--- Minimum Chi^2 GST ---\n",
      "  Sum of Chi^2 = 5589.65 (2737 data params - 40 model params = expected mean of 2697; p-value = 0)"
     ]
    },
    {
     "name": "stdout",
     "output_type": "stream",
     "text": [
      "\n",
      "    2*Delta(log(L)) = 5603.02"
     ]
    },
    {
     "name": "stdout",
     "output_type": "stream",
     "text": [
      "\n",
      "--- Last Iteration: switching to ML objective ---\n",
      "--- MLGST ---\n",
      "  Maximum log(L) = 2799.98 below upper bound of -4.59866e+06"
     ]
    },
    {
     "name": "stdout",
     "output_type": "stream",
     "text": [
      "\n",
      "    2*Delta(log(L)) = 5599.97 (2737 data params - 40 model params = expected mean of 2697; p-value = 0)\n",
      "    2*Delta(log(L)) = 5599.97\n",
      "Running MLGST Iteration 5 "
     ]
    },
    {
     "name": "stdout",
     "output_type": "stream",
     "text": [
      "\n",
      "LGST: Singular values of I_tilde (truncating to first 4 of 6) = \n"
     ]
    },
    {
     "name": "stdout",
     "output_type": "stream",
     "text": [
      "[ 4.24427826  1.1671019   0.96738801  0.92230681  0.06939313  0.02182648]\n",
      "\n",
      "--- LGST ---\n"
     ]
    },
    {
     "name": "stdout",
     "output_type": "stream",
     "text": [
      "\n",
      "--- Iterative MLGST: Beginning iter 1 of 10 : 92 gate strings ---\n"
     ]
    },
    {
     "name": "stdout",
     "output_type": "stream",
     "text": [
      "--- Minimum Chi^2 GST ---\n",
      "  Sum of Chi^2 = 119.511 (92 data params - 40 model params = expected mean of 52; p-value = 3.12229e-07)"
     ]
    },
    {
     "name": "stdout",
     "output_type": "stream",
     "text": [
      "\n",
      "    2*Delta(log(L)) = 120.247\n",
      "\n",
      "--- Iterative MLGST: Beginning iter 2 of 10 : 92 gate strings ---\n"
     ]
    },
    {
     "name": "stdout",
     "output_type": "stream",
     "text": [
      "--- Minimum Chi^2 GST ---\n",
      "  Sum of Chi^2 = 119.511 (92 data params - 40 model params = expected mean of 52; p-value = 3.1223e-07)"
     ]
    },
    {
     "name": "stdout",
     "output_type": "stream",
     "text": [
      "\n",
      "    2*Delta(log(L)) = 120.247\n",
      "\n",
      "--- Iterative MLGST: Beginning iter 3 of 10 : 168 gate strings ---\n"
     ]
    },
    {
     "name": "stdout",
     "output_type": "stream",
     "text": [
      "--- Minimum Chi^2 GST ---\n",
      "  Sum of Chi^2 = 258.624 (168 data params - 40 model params = expected mean of 128; p-value = 7.25643e-11)"
     ]
    },
    {
     "name": "stdout",
     "output_type": "stream",
     "text": [
      "\n",
      "    2*Delta(log(L)) = 260.12\n",
      "\n",
      "--- Iterative MLGST: Beginning iter 4 of 10 : 441 gate strings ---\n"
     ]
    },
    {
     "name": "stdout",
     "output_type": "stream",
     "text": [
      "--- Minimum Chi^2 GST ---\n",
      "  Sum of Chi^2 = 865.078 (441 data params - 40 model params = expected mean of 401; p-value = 0)"
     ]
    },
    {
     "name": "stdout",
     "output_type": "stream",
     "text": [
      "\n",
      "    2*Delta(log(L)) = 869.377\n",
      "\n",
      "--- Iterative MLGST: Beginning iter 5 of 10 : 817 gate strings ---\n"
     ]
    },
    {
     "name": "stdout",
     "output_type": "stream",
     "text": [
      "--- Minimum Chi^2 GST ---\n",
      "  Sum of Chi^2 = 1540.99 (817 data params - 40 model params = expected mean of 777; p-value = 0)"
     ]
    },
    {
     "name": "stdout",
     "output_type": "stream",
     "text": [
      "\n",
      "    2*Delta(log(L)) = 1548.31"
     ]
    },
    {
     "name": "stdout",
     "output_type": "stream",
     "text": [
      "\n",
      "\n",
      "--- Iterative MLGST: Beginning iter 6 of 10 : 1201 gate strings ---\n"
     ]
    },
    {
     "name": "stdout",
     "output_type": "stream",
     "text": [
      "--- Minimum Chi^2 GST ---\n",
      "  Sum of Chi^2 = 2251.01 (1201 data params - 40 model params = expected mean of 1161; p-value = 0)"
     ]
    },
    {
     "name": "stdout",
     "output_type": "stream",
     "text": [
      "\n",
      "    2*Delta(log(L)) = 2260.3"
     ]
    },
    {
     "name": "stdout",
     "output_type": "stream",
     "text": [
      "\n",
      "\n",
      "--- Iterative MLGST: Beginning iter 7 of 10 : 1585 gate strings ---\n"
     ]
    },
    {
     "name": "stdout",
     "output_type": "stream",
     "text": [
      "--- Minimum Chi^2 GST ---\n",
      "  Sum of Chi^2 = 3101.63 (1585 data params - 40 model params = expected mean of 1545; p-value = 0)"
     ]
    },
    {
     "name": "stdout",
     "output_type": "stream",
     "text": [
      "\n",
      "    2*Delta(log(L)) = 3112.88"
     ]
    },
    {
     "name": "stdout",
     "output_type": "stream",
     "text": [
      "\n",
      "\n",
      "--- Iterative MLGST: Beginning iter 8 of 10 : 1969 gate strings ---\n"
     ]
    },
    {
     "name": "stdout",
     "output_type": "stream",
     "text": [
      "--- Minimum Chi^2 GST ---\n",
      "  Sum of Chi^2 = 4003.55 (1969 data params - 40 model params = expected mean of 1929; p-value = 0)"
     ]
    },
    {
     "name": "stdout",
     "output_type": "stream",
     "text": [
      "\n",
      "    2*Delta(log(L)) = 4016.95"
     ]
    },
    {
     "name": "stdout",
     "output_type": "stream",
     "text": [
      "\n",
      "\n",
      "--- Iterative MLGST: Beginning iter 9 of 10 : 2353 gate strings ---\n"
     ]
    },
    {
     "name": "stdout",
     "output_type": "stream",
     "text": [
      "--- Minimum Chi^2 GST ---\n",
      "  Sum of Chi^2 = 4787.74 (2353 data params - 40 model params = expected mean of 2313; p-value = 0)"
     ]
    },
    {
     "name": "stdout",
     "output_type": "stream",
     "text": [
      "\n",
      "    2*Delta(log(L)) = 4802.66"
     ]
    },
    {
     "name": "stdout",
     "output_type": "stream",
     "text": [
      "\n",
      "\n",
      "--- Iterative MLGST: Beginning iter 10 of 10 : 2737 gate strings ---\n"
     ]
    },
    {
     "name": "stdout",
     "output_type": "stream",
     "text": [
      "--- Minimum Chi^2 GST ---\n",
      "  Sum of Chi^2 = 5595.08 (2737 data params - 40 model params = expected mean of 2697; p-value = 0)"
     ]
    },
    {
     "name": "stdout",
     "output_type": "stream",
     "text": [
      "\n",
      "    2*Delta(log(L)) = 5611.91"
     ]
    },
    {
     "name": "stdout",
     "output_type": "stream",
     "text": [
      "\n",
      "--- Last Iteration: switching to ML objective ---\n",
      "--- MLGST ---\n",
      "  Maximum log(L) = 2804.4 below upper bound of -4.59901e+06"
     ]
    },
    {
     "name": "stdout",
     "output_type": "stream",
     "text": [
      "\n",
      "    2*Delta(log(L)) = 5608.79 (2737 data params - 40 model params = expected mean of 2697; p-value = 0)\n",
      "    2*Delta(log(L)) = 5608.79\n",
      "Running MLGST Iteration 6 "
     ]
    },
    {
     "name": "stdout",
     "output_type": "stream",
     "text": [
      "\n",
      "LGST: Singular values of I_tilde (truncating to first 4 of 6) = \n"
     ]
    },
    {
     "name": "stdout",
     "output_type": "stream",
     "text": [
      "[ 4.24411097  1.19781472  0.96382721  0.92811765  0.05292843  0.01809055]\n",
      "\n",
      "--- LGST ---\n"
     ]
    },
    {
     "name": "stdout",
     "output_type": "stream",
     "text": [
      "\n",
      "--- Iterative MLGST: Beginning iter 1 of 10 : 92 gate strings ---\n"
     ]
    },
    {
     "name": "stdout",
     "output_type": "stream",
     "text": [
      "--- Minimum Chi^2 GST ---\n",
      "  Sum of Chi^2 = 89.9967 (92 data params - 40 model params = expected mean of 52; p-value = 0.000844741)"
     ]
    },
    {
     "name": "stdout",
     "output_type": "stream",
     "text": [
      "\n",
      "    2*Delta(log(L)) = 90.1206\n",
      "\n",
      "--- Iterative MLGST: Beginning iter 2 of 10 : 92 gate strings ---\n"
     ]
    },
    {
     "name": "stdout",
     "output_type": "stream",
     "text": [
      "--- Minimum Chi^2 GST ---\n",
      "  Sum of Chi^2 = 89.9967 (92 data params - 40 model params = expected mean of 52; p-value = 0.000844741)"
     ]
    },
    {
     "name": "stdout",
     "output_type": "stream",
     "text": [
      "\n",
      "    2*Delta(log(L)) = 90.1207\n",
      "\n",
      "--- Iterative MLGST: Beginning iter 3 of 10 : 168 gate strings ---\n"
     ]
    },
    {
     "name": "stdout",
     "output_type": "stream",
     "text": [
      "--- Minimum Chi^2 GST ---\n",
      "  Sum of Chi^2 = 254.914 (168 data params - 40 model params = expected mean of 128; p-value = 1.89102e-10)"
     ]
    },
    {
     "name": "stdout",
     "output_type": "stream",
     "text": [
      "\n",
      "    2*Delta(log(L)) = 255.526\n",
      "\n",
      "--- Iterative MLGST: Beginning iter 4 of 10 : 441 gate strings ---\n"
     ]
    },
    {
     "name": "stdout",
     "output_type": "stream",
     "text": [
      "--- Minimum Chi^2 GST ---\n",
      "  Sum of Chi^2 = 813.156 (441 data params - 40 model params = expected mean of 401; p-value = 0)"
     ]
    },
    {
     "name": "stdout",
     "output_type": "stream",
     "text": [
      "\n",
      "    2*Delta(log(L)) = 814.826\n",
      "\n",
      "--- Iterative MLGST: Beginning iter 5 of 10 : 817 gate strings ---\n"
     ]
    },
    {
     "name": "stdout",
     "output_type": "stream",
     "text": [
      "--- Minimum Chi^2 GST ---\n",
      "  Sum of Chi^2 = 1528.33 (817 data params - 40 model params = expected mean of 777; p-value = 0)"
     ]
    },
    {
     "name": "stdout",
     "output_type": "stream",
     "text": [
      "\n",
      "    2*Delta(log(L)) = 1531.88"
     ]
    },
    {
     "name": "stdout",
     "output_type": "stream",
     "text": [
      "\n",
      "\n",
      "--- Iterative MLGST: Beginning iter 6 of 10 : 1201 gate strings ---\n"
     ]
    },
    {
     "name": "stdout",
     "output_type": "stream",
     "text": [
      "--- Minimum Chi^2 GST ---\n",
      "  Sum of Chi^2 = 2292.16 (1201 data params - 40 model params = expected mean of 1161; p-value = 0)"
     ]
    },
    {
     "name": "stdout",
     "output_type": "stream",
     "text": [
      "\n",
      "    2*Delta(log(L)) = 2297.25"
     ]
    },
    {
     "name": "stdout",
     "output_type": "stream",
     "text": [
      "\n",
      "\n",
      "--- Iterative MLGST: Beginning iter 7 of 10 : 1585 gate strings ---\n"
     ]
    },
    {
     "name": "stdout",
     "output_type": "stream",
     "text": [
      "--- Minimum Chi^2 GST ---\n",
      "  Sum of Chi^2 = 3063.34 (1585 data params - 40 model params = expected mean of 1545; p-value = 0)"
     ]
    },
    {
     "name": "stdout",
     "output_type": "stream",
     "text": [
      "\n",
      "    2*Delta(log(L)) = 3070.07"
     ]
    },
    {
     "name": "stdout",
     "output_type": "stream",
     "text": [
      "\n",
      "\n",
      "--- Iterative MLGST: Beginning iter 8 of 10 : 1969 gate strings ---\n"
     ]
    },
    {
     "name": "stdout",
     "output_type": "stream",
     "text": [
      "--- Minimum Chi^2 GST ---\n",
      "  Sum of Chi^2 = 3945.53 (1969 data params - 40 model params = expected mean of 1929; p-value = 0)"
     ]
    },
    {
     "name": "stdout",
     "output_type": "stream",
     "text": [
      "\n",
      "    2*Delta(log(L)) = 3954.3"
     ]
    },
    {
     "name": "stdout",
     "output_type": "stream",
     "text": [
      "\n",
      "\n",
      "--- Iterative MLGST: Beginning iter 9 of 10 : 2353 gate strings ---\n"
     ]
    },
    {
     "name": "stdout",
     "output_type": "stream",
     "text": [
      "--- Minimum Chi^2 GST ---\n",
      "  Sum of Chi^2 = 4820.62 (2353 data params - 40 model params = expected mean of 2313; p-value = 0)"
     ]
    },
    {
     "name": "stdout",
     "output_type": "stream",
     "text": [
      "\n",
      "    2*Delta(log(L)) = 4831.42"
     ]
    },
    {
     "name": "stdout",
     "output_type": "stream",
     "text": [
      "\n",
      "\n",
      "--- Iterative MLGST: Beginning iter 10 of 10 : 2737 gate strings ---\n"
     ]
    },
    {
     "name": "stdout",
     "output_type": "stream",
     "text": [
      "--- Minimum Chi^2 GST ---\n",
      "  Sum of Chi^2 = 5652.9 (2737 data params - 40 model params = expected mean of 2697; p-value = 0)"
     ]
    },
    {
     "name": "stdout",
     "output_type": "stream",
     "text": [
      "\n",
      "    2*Delta(log(L)) = 5665.48"
     ]
    },
    {
     "name": "stdout",
     "output_type": "stream",
     "text": [
      "\n",
      "--- Last Iteration: switching to ML objective ---\n",
      "--- MLGST ---\n",
      "  Maximum log(L) = 2831.14 below upper bound of -4.5984e+06"
     ]
    },
    {
     "name": "stdout",
     "output_type": "stream",
     "text": [
      "\n",
      "    2*Delta(log(L)) = 5662.28 (2737 data params - 40 model params = expected mean of 2697; p-value = 0)\n",
      "    2*Delta(log(L)) = 5662.28\n",
      "Running MLGST Iteration 7 "
     ]
    },
    {
     "name": "stdout",
     "output_type": "stream",
     "text": [
      "\n",
      "LGST: Singular values of I_tilde (truncating to first 4 of 6) = \n"
     ]
    },
    {
     "name": "stdout",
     "output_type": "stream",
     "text": [
      "[ 4.24416701  1.1687148   0.95543029  0.88774402  0.03874886  0.02387817]\n",
      "\n",
      "--- LGST ---\n"
     ]
    },
    {
     "name": "stdout",
     "output_type": "stream",
     "text": [
      "\n",
      "--- Iterative MLGST: Beginning iter 1 of 10 : 92 gate strings ---\n"
     ]
    },
    {
     "name": "stdout",
     "output_type": "stream",
     "text": [
      "--- Minimum Chi^2 GST ---\n",
      "  Sum of Chi^2 = 104.056 (92 data params - 40 model params = expected mean of 52; p-value = 2.46207e-05)"
     ]
    },
    {
     "name": "stdout",
     "output_type": "stream",
     "text": [
      "\n",
      "    2*Delta(log(L)) = 104.205\n",
      "\n",
      "--- Iterative MLGST: Beginning iter 2 of 10 : 92 gate strings ---\n"
     ]
    },
    {
     "name": "stdout",
     "output_type": "stream",
     "text": [
      "--- Minimum Chi^2 GST ---\n",
      "  Sum of Chi^2 = 104.056 (92 data params - 40 model params = expected mean of 52; p-value = 2.46207e-05)"
     ]
    },
    {
     "name": "stdout",
     "output_type": "stream",
     "text": [
      "\n",
      "    2*Delta(log(L)) = 104.205\n",
      "\n",
      "--- Iterative MLGST: Beginning iter 3 of 10 : 168 gate strings ---\n"
     ]
    },
    {
     "name": "stdout",
     "output_type": "stream",
     "text": [
      "--- Minimum Chi^2 GST ---\n",
      "  Sum of Chi^2 = 264.028 (168 data params - 40 model params = expected mean of 128; p-value = 1.75847e-11)"
     ]
    },
    {
     "name": "stdout",
     "output_type": "stream",
     "text": [
      "\n",
      "    2*Delta(log(L)) = 264.457\n",
      "\n",
      "--- Iterative MLGST: Beginning iter 4 of 10 : 441 gate strings ---\n"
     ]
    },
    {
     "name": "stdout",
     "output_type": "stream",
     "text": [
      "--- Minimum Chi^2 GST ---\n",
      "  Sum of Chi^2 = 736.532 (441 data params - 40 model params = expected mean of 401; p-value = 0)"
     ]
    },
    {
     "name": "stdout",
     "output_type": "stream",
     "text": [
      "\n",
      "    2*Delta(log(L)) = 738.106\n",
      "\n",
      "--- Iterative MLGST: Beginning iter 5 of 10 : 817 gate strings ---\n"
     ]
    },
    {
     "name": "stdout",
     "output_type": "stream",
     "text": [
      "--- Minimum Chi^2 GST ---\n",
      "  Sum of Chi^2 = 1411.32 (817 data params - 40 model params = expected mean of 777; p-value = 0)"
     ]
    },
    {
     "name": "stdout",
     "output_type": "stream",
     "text": [
      "\n",
      "    2*Delta(log(L)) = 1414.59"
     ]
    },
    {
     "name": "stdout",
     "output_type": "stream",
     "text": [
      "\n",
      "\n",
      "--- Iterative MLGST: Beginning iter 6 of 10 : 1201 gate strings ---\n"
     ]
    },
    {
     "name": "stdout",
     "output_type": "stream",
     "text": [
      "--- Minimum Chi^2 GST ---\n",
      "  Sum of Chi^2 = 2110.16 (1201 data params - 40 model params = expected mean of 1161; p-value = 0)"
     ]
    },
    {
     "name": "stdout",
     "output_type": "stream",
     "text": [
      "\n",
      "    2*Delta(log(L)) = 2114.74"
     ]
    },
    {
     "name": "stdout",
     "output_type": "stream",
     "text": [
      "\n",
      "\n",
      "--- Iterative MLGST: Beginning iter 7 of 10 : 1585 gate strings ---\n"
     ]
    },
    {
     "name": "stdout",
     "output_type": "stream",
     "text": [
      "--- Minimum Chi^2 GST ---\n",
      "  Sum of Chi^2 = 2953.73 (1585 data params - 40 model params = expected mean of 1545; p-value = 0)"
     ]
    },
    {
     "name": "stdout",
     "output_type": "stream",
     "text": [
      "\n",
      "    2*Delta(log(L)) = 2959.76"
     ]
    },
    {
     "name": "stdout",
     "output_type": "stream",
     "text": [
      "\n",
      "\n",
      "--- Iterative MLGST: Beginning iter 8 of 10 : 1969 gate strings ---\n"
     ]
    },
    {
     "name": "stdout",
     "output_type": "stream",
     "text": [
      "--- Minimum Chi^2 GST ---\n",
      "  Sum of Chi^2 = 3800.49 (1969 data params - 40 model params = expected mean of 1929; p-value = 0)"
     ]
    },
    {
     "name": "stdout",
     "output_type": "stream",
     "text": [
      "\n",
      "    2*Delta(log(L)) = 3808.5"
     ]
    },
    {
     "name": "stdout",
     "output_type": "stream",
     "text": [
      "\n",
      "\n",
      "--- Iterative MLGST: Beginning iter 9 of 10 : 2353 gate strings ---\n"
     ]
    },
    {
     "name": "stdout",
     "output_type": "stream",
     "text": [
      "--- Minimum Chi^2 GST ---\n",
      "  Sum of Chi^2 = 4534.02 (2353 data params - 40 model params = expected mean of 2313; p-value = 0)"
     ]
    },
    {
     "name": "stdout",
     "output_type": "stream",
     "text": [
      "\n",
      "    2*Delta(log(L)) = 4543.41"
     ]
    },
    {
     "name": "stdout",
     "output_type": "stream",
     "text": [
      "\n",
      "\n",
      "--- Iterative MLGST: Beginning iter 10 of 10 : 2737 gate strings ---\n"
     ]
    },
    {
     "name": "stdout",
     "output_type": "stream",
     "text": [
      "--- Minimum Chi^2 GST ---\n",
      "  Sum of Chi^2 = 5281.3 (2737 data params - 40 model params = expected mean of 2697; p-value = 0)"
     ]
    },
    {
     "name": "stdout",
     "output_type": "stream",
     "text": [
      "\n",
      "    2*Delta(log(L)) = 5292.17"
     ]
    },
    {
     "name": "stdout",
     "output_type": "stream",
     "text": [
      "\n",
      "--- Last Iteration: switching to ML objective ---\n",
      "--- MLGST ---\n",
      "  Maximum log(L) = 2644.72 below upper bound of -4.59896e+06"
     ]
    },
    {
     "name": "stdout",
     "output_type": "stream",
     "text": [
      "\n",
      "    2*Delta(log(L)) = 5289.43 (2737 data params - 40 model params = expected mean of 2697; p-value = 0)\n",
      "    2*Delta(log(L)) = 5289.43\n",
      "Running MLGST Iteration 8 "
     ]
    },
    {
     "name": "stdout",
     "output_type": "stream",
     "text": [
      "\n",
      "LGST: Singular values of I_tilde (truncating to first 4 of 6) = \n"
     ]
    },
    {
     "name": "stdout",
     "output_type": "stream",
     "text": [
      "[ 4.24541065  1.15693434  0.94546793  0.91471381  0.01258141  0.00825079]\n",
      "\n",
      "--- LGST ---\n"
     ]
    },
    {
     "name": "stdout",
     "output_type": "stream",
     "text": [
      "\n",
      "--- Iterative MLGST: Beginning iter 1 of 10 : 92 gate strings ---\n"
     ]
    },
    {
     "name": "stdout",
     "output_type": "stream",
     "text": [
      "--- Minimum Chi^2 GST ---\n",
      "  Sum of Chi^2 = 113.255 (92 data params - 40 model params = expected mean of 52; p-value = 1.92849e-06)"
     ]
    },
    {
     "name": "stdout",
     "output_type": "stream",
     "text": [
      "\n",
      "    2*Delta(log(L)) = 113.905\n",
      "\n",
      "--- Iterative MLGST: Beginning iter 2 of 10 : 92 gate strings ---\n"
     ]
    },
    {
     "name": "stdout",
     "output_type": "stream",
     "text": [
      "--- Minimum Chi^2 GST ---\n",
      "  Sum of Chi^2 = 113.255 (92 data params - 40 model params = expected mean of 52; p-value = 1.9285e-06)"
     ]
    },
    {
     "name": "stdout",
     "output_type": "stream",
     "text": [
      "\n",
      "    2*Delta(log(L)) = 113.904\n",
      "\n",
      "--- Iterative MLGST: Beginning iter 3 of 10 : 168 gate strings ---\n"
     ]
    },
    {
     "name": "stdout",
     "output_type": "stream",
     "text": [
      "--- Minimum Chi^2 GST ---\n",
      "  Sum of Chi^2 = 250.048 (168 data params - 40 model params = expected mean of 128; p-value = 6.51406e-10)"
     ]
    },
    {
     "name": "stdout",
     "output_type": "stream",
     "text": [
      "\n",
      "    2*Delta(log(L)) = 250.818\n",
      "\n",
      "--- Iterative MLGST: Beginning iter 4 of 10 : 441 gate strings ---\n"
     ]
    },
    {
     "name": "stdout",
     "output_type": "stream",
     "text": [
      "--- Minimum Chi^2 GST ---\n",
      "  Sum of Chi^2 = 712.413 (441 data params - 40 model params = expected mean of 401; p-value = 0)"
     ]
    },
    {
     "name": "stdout",
     "output_type": "stream",
     "text": [
      "\n",
      "    2*Delta(log(L)) = 713.452\n",
      "\n",
      "--- Iterative MLGST: Beginning iter 5 of 10 : 817 gate strings ---\n"
     ]
    },
    {
     "name": "stdout",
     "output_type": "stream",
     "text": [
      "--- Minimum Chi^2 GST ---\n",
      "  Sum of Chi^2 = 1369.44 (817 data params - 40 model params = expected mean of 777; p-value = 0)"
     ]
    },
    {
     "name": "stdout",
     "output_type": "stream",
     "text": [
      "\n",
      "    2*Delta(log(L)) = 1371.74"
     ]
    },
    {
     "name": "stdout",
     "output_type": "stream",
     "text": [
      "\n",
      "\n",
      "--- Iterative MLGST: Beginning iter 6 of 10 : 1201 gate strings ---\n"
     ]
    },
    {
     "name": "stdout",
     "output_type": "stream",
     "text": [
      "--- Minimum Chi^2 GST ---\n",
      "  Sum of Chi^2 = 2154.99 (1201 data params - 40 model params = expected mean of 1161; p-value = 0)"
     ]
    },
    {
     "name": "stdout",
     "output_type": "stream",
     "text": [
      "\n",
      "    2*Delta(log(L)) = 2159.04"
     ]
    },
    {
     "name": "stdout",
     "output_type": "stream",
     "text": [
      "\n",
      "\n",
      "--- Iterative MLGST: Beginning iter 7 of 10 : 1585 gate strings ---\n"
     ]
    },
    {
     "name": "stdout",
     "output_type": "stream",
     "text": [
      "--- Minimum Chi^2 GST ---\n",
      "  Sum of Chi^2 = 2967.77 (1585 data params - 40 model params = expected mean of 1545; p-value = 0)"
     ]
    },
    {
     "name": "stdout",
     "output_type": "stream",
     "text": [
      "\n",
      "    2*Delta(log(L)) = 2973.51"
     ]
    },
    {
     "name": "stdout",
     "output_type": "stream",
     "text": [
      "\n",
      "\n",
      "--- Iterative MLGST: Beginning iter 8 of 10 : 1969 gate strings ---\n"
     ]
    },
    {
     "name": "stdout",
     "output_type": "stream",
     "text": [
      "--- Minimum Chi^2 GST ---\n",
      "  Sum of Chi^2 = 3795.85 (1969 data params - 40 model params = expected mean of 1929; p-value = 0)"
     ]
    },
    {
     "name": "stdout",
     "output_type": "stream",
     "text": [
      "\n",
      "    2*Delta(log(L)) = 3803.4"
     ]
    },
    {
     "name": "stdout",
     "output_type": "stream",
     "text": [
      "\n",
      "\n",
      "--- Iterative MLGST: Beginning iter 9 of 10 : 2353 gate strings ---\n"
     ]
    },
    {
     "name": "stdout",
     "output_type": "stream",
     "text": [
      "--- Minimum Chi^2 GST ---\n",
      "  Sum of Chi^2 = 4528.85 (2353 data params - 40 model params = expected mean of 2313; p-value = 0)"
     ]
    },
    {
     "name": "stdout",
     "output_type": "stream",
     "text": [
      "\n",
      "    2*Delta(log(L)) = 4537.88"
     ]
    },
    {
     "name": "stdout",
     "output_type": "stream",
     "text": [
      "\n",
      "\n",
      "--- Iterative MLGST: Beginning iter 10 of 10 : 2737 gate strings ---\n"
     ]
    },
    {
     "name": "stdout",
     "output_type": "stream",
     "text": [
      "--- Minimum Chi^2 GST ---\n",
      "  Sum of Chi^2 = 5243.5 (2737 data params - 40 model params = expected mean of 2697; p-value = 0)"
     ]
    },
    {
     "name": "stdout",
     "output_type": "stream",
     "text": [
      "\n",
      "    2*Delta(log(L)) = 5253.85"
     ]
    },
    {
     "name": "stdout",
     "output_type": "stream",
     "text": [
      "\n",
      "--- Last Iteration: switching to ML objective ---\n",
      "--- MLGST ---\n",
      "  Maximum log(L) = 2625.59 below upper bound of -4.59911e+06"
     ]
    },
    {
     "name": "stdout",
     "output_type": "stream",
     "text": [
      "\n",
      "    2*Delta(log(L)) = 5251.19 (2737 data params - 40 model params = expected mean of 2697; p-value = 0)\n",
      "    2*Delta(log(L)) = 5251.19\n",
      "Running MLGST Iteration 9 "
     ]
    },
    {
     "name": "stdout",
     "output_type": "stream",
     "text": [
      "\n",
      "LGST: Singular values of I_tilde (truncating to first 4 of 6) = \n"
     ]
    },
    {
     "name": "stdout",
     "output_type": "stream",
     "text": [
      "[ 4.2436575   1.18038008  0.97266877  0.94120446  0.04391035  0.01137498]\n",
      "\n",
      "--- LGST ---\n"
     ]
    },
    {
     "name": "stdout",
     "output_type": "stream",
     "text": [
      "\n",
      "--- Iterative MLGST: Beginning iter 1 of 10 : 92 gate strings ---\n"
     ]
    },
    {
     "name": "stdout",
     "output_type": "stream",
     "text": [
      "--- Minimum Chi^2 GST ---\n",
      "  Sum of Chi^2 = 109.304 (92 data params - 40 model params = expected mean of 52; p-value = 5.87508e-06)"
     ]
    },
    {
     "name": "stdout",
     "output_type": "stream",
     "text": [
      "\n",
      "    2*Delta(log(L)) = 109.737\n",
      "\n",
      "--- Iterative MLGST: Beginning iter 2 of 10 : 92 gate strings ---\n"
     ]
    },
    {
     "name": "stdout",
     "output_type": "stream",
     "text": [
      "--- Minimum Chi^2 GST ---\n",
      "  Sum of Chi^2 = 109.304 (92 data params - 40 model params = expected mean of 52; p-value = 5.87508e-06)"
     ]
    },
    {
     "name": "stdout",
     "output_type": "stream",
     "text": [
      "\n",
      "    2*Delta(log(L)) = 109.737\n",
      "\n",
      "--- Iterative MLGST: Beginning iter 3 of 10 : 168 gate strings ---\n"
     ]
    },
    {
     "name": "stdout",
     "output_type": "stream",
     "text": [
      "--- Minimum Chi^2 GST ---\n",
      "  Sum of Chi^2 = 231.183 (168 data params - 40 model params = expected mean of 128; p-value = 6.29952e-08)"
     ]
    },
    {
     "name": "stdout",
     "output_type": "stream",
     "text": [
      "\n",
      "    2*Delta(log(L)) = 231.91\n",
      "\n",
      "--- Iterative MLGST: Beginning iter 4 of 10 : 441 gate strings ---\n"
     ]
    },
    {
     "name": "stdout",
     "output_type": "stream",
     "text": [
      "--- Minimum Chi^2 GST ---\n",
      "  Sum of Chi^2 = 733.703 (441 data params - 40 model params = expected mean of 401; p-value = 0)"
     ]
    },
    {
     "name": "stdout",
     "output_type": "stream",
     "text": [
      "\n",
      "    2*Delta(log(L)) = 735.616\n",
      "\n",
      "--- Iterative MLGST: Beginning iter 5 of 10 : 817 gate strings ---\n"
     ]
    },
    {
     "name": "stdout",
     "output_type": "stream",
     "text": [
      "--- Minimum Chi^2 GST ---\n",
      "  Sum of Chi^2 = 1456.68 (817 data params - 40 model params = expected mean of 777; p-value = 0)"
     ]
    },
    {
     "name": "stdout",
     "output_type": "stream",
     "text": [
      "\n",
      "    2*Delta(log(L)) = 1461.37"
     ]
    },
    {
     "name": "stdout",
     "output_type": "stream",
     "text": [
      "\n",
      "\n",
      "--- Iterative MLGST: Beginning iter 6 of 10 : 1201 gate strings ---\n"
     ]
    },
    {
     "name": "stdout",
     "output_type": "stream",
     "text": [
      "--- Minimum Chi^2 GST ---\n",
      "  Sum of Chi^2 = 2217.85 (1201 data params - 40 model params = expected mean of 1161; p-value = 0)"
     ]
    },
    {
     "name": "stdout",
     "output_type": "stream",
     "text": [
      "\n",
      "    2*Delta(log(L)) = 2224.32"
     ]
    },
    {
     "name": "stdout",
     "output_type": "stream",
     "text": [
      "\n",
      "\n",
      "--- Iterative MLGST: Beginning iter 7 of 10 : 1585 gate strings ---\n"
     ]
    },
    {
     "name": "stdout",
     "output_type": "stream",
     "text": [
      "--- Minimum Chi^2 GST ---\n",
      "  Sum of Chi^2 = 3015.55 (1585 data params - 40 model params = expected mean of 1545; p-value = 0)"
     ]
    },
    {
     "name": "stdout",
     "output_type": "stream",
     "text": [
      "\n",
      "    2*Delta(log(L)) = 3023.59"
     ]
    },
    {
     "name": "stdout",
     "output_type": "stream",
     "text": [
      "\n",
      "\n",
      "--- Iterative MLGST: Beginning iter 8 of 10 : 1969 gate strings ---\n"
     ]
    },
    {
     "name": "stdout",
     "output_type": "stream",
     "text": [
      "--- Minimum Chi^2 GST ---\n",
      "  Sum of Chi^2 = 3815.35 (1969 data params - 40 model params = expected mean of 1929; p-value = 0)"
     ]
    },
    {
     "name": "stdout",
     "output_type": "stream",
     "text": [
      "\n",
      "    2*Delta(log(L)) = 3824.9"
     ]
    },
    {
     "name": "stdout",
     "output_type": "stream",
     "text": [
      "\n",
      "\n",
      "--- Iterative MLGST: Beginning iter 9 of 10 : 2353 gate strings ---\n"
     ]
    },
    {
     "name": "stdout",
     "output_type": "stream",
     "text": [
      "--- Minimum Chi^2 GST ---\n",
      "  Sum of Chi^2 = 4590.24 (2353 data params - 40 model params = expected mean of 2313; p-value = 0)"
     ]
    },
    {
     "name": "stdout",
     "output_type": "stream",
     "text": [
      "\n",
      "    2*Delta(log(L)) = 4601.41"
     ]
    },
    {
     "name": "stdout",
     "output_type": "stream",
     "text": [
      "\n",
      "\n",
      "--- Iterative MLGST: Beginning iter 10 of 10 : 2737 gate strings ---\n"
     ]
    },
    {
     "name": "stdout",
     "output_type": "stream",
     "text": [
      "--- Minimum Chi^2 GST ---\n",
      "  Sum of Chi^2 = 5344.02 (2737 data params - 40 model params = expected mean of 2697; p-value = 0)"
     ]
    },
    {
     "name": "stdout",
     "output_type": "stream",
     "text": [
      "\n",
      "    2*Delta(log(L)) = 5356.68"
     ]
    },
    {
     "name": "stdout",
     "output_type": "stream",
     "text": [
      "\n",
      "--- Last Iteration: switching to ML objective ---\n",
      "--- MLGST ---\n",
      "  Maximum log(L) = 2676.94 below upper bound of -4.59872e+06"
     ]
    },
    {
     "name": "stdout",
     "output_type": "stream",
     "text": [
      "\n",
      "    2*Delta(log(L)) = 5353.88 (2737 data params - 40 model params = expected mean of 2697; p-value = 0)\n",
      "    2*Delta(log(L)) = 5353.88\n"
     ]
    }
   ],
   "source": [
    "#The number of simulated datasets & gatesets made for bootstrapping purposes.  \n",
    "# For good statistics, should probably be greater than 10.\n",
    "numGatesets=10\n",
    "\n",
    "nonparam_boot_gatesets = pygsti.drivers.make_bootstrap_gatesets(\n",
    "                          numGatesets, ds, 'nonparametric', fiducials, fiducials, germs, maxLengths,\n",
    "                          targetGateSet=gs_mc2gst, startSeed=0, constrainToTP=False, returnData=False,\n",
    "                          verbosity=2)"
   ]
  },
  {
   "cell_type": "code",
   "execution_count": 7,
   "metadata": {
    "collapsed": false
   },
   "outputs": [
    {
     "name": "stdout",
     "output_type": "stream",
     "text": [
      "Spam weight  0\n",
      "Spam weight "
     ]
    },
    {
     "name": "stdout",
     "output_type": "stream",
     "text": [
      " 1\n",
      "Spam weight "
     ]
    },
    {
     "name": "stdout",
     "output_type": "stream",
     "text": [
      " 2\n",
      "Spam weight "
     ]
    },
    {
     "name": "stdout",
     "output_type": "stream",
     "text": [
      " 3\n",
      "Spam weight "
     ]
    },
    {
     "name": "stdout",
     "output_type": "stream",
     "text": [
      " 4\n",
      "Spam weight "
     ]
    },
    {
     "name": "stdout",
     "output_type": "stream",
     "text": [
      " 5\n",
      "Spam weight "
     ]
    },
    {
     "name": "stdout",
     "output_type": "stream",
     "text": [
      " 6\n",
      "Spam weight "
     ]
    },
    {
     "name": "stdout",
     "output_type": "stream",
     "text": [
      " 7\n",
      "Spam weight "
     ]
    },
    {
     "name": "stdout",
     "output_type": "stream",
     "text": [
      " 8\n",
      "Spam weight "
     ]
    },
    {
     "name": "stdout",
     "output_type": "stream",
     "text": [
      " 9\n",
      "Spam weight "
     ]
    },
    {
     "name": "stdout",
     "output_type": "stream",
     "text": [
      " 10\n",
      "Spam weight "
     ]
    },
    {
     "name": "stdout",
     "output_type": "stream",
     "text": [
      " 11\n",
      "Spam weight "
     ]
    },
    {
     "name": "stdout",
     "output_type": "stream",
     "text": [
      " 12\n",
      "Best SPAM weight is"
     ]
    },
    {
     "name": "stdout",
     "output_type": "stream",
     "text": [
      " 1.0\n"
     ]
    },
    {
     "data": {
      "image/png": "[encoded data removed]",
      "text/plain": [
       "<matplotlib.figure.Figure at 0x59ac410>"
      ]
     },
     "metadata": {},
     "output_type": "display_data"
    }
   ],
   "source": [
    "gauge_opt_npboot_gatesets = pygsti.drivers.gauge_optimize_gs_list(nonparam_boot_gatesets, gs_mc2gst,\n",
    "                                                                 constrainToTP=False, plot=True)"
   ]
  },
  {
   "cell_type": "code",
   "execution_count": 8,
   "metadata": {
    "collapsed": false
   },
   "outputs": [
    {
     "name": "stdout",
     "output_type": "stream",
     "text": [
      "Non-parametric bootstrapped error bars, with 10 resamples\n",
      "\n",
      "Error in rho vec:\n",
      "Fully Parameterized spam vector with length 4\n",
      "   0\n",
      "   0\n",
      "   0\n",
      "   0\n",
      "\n",
      "\n",
      "Error in E vec:\n",
      "Fully Parameterized spam vector with length 4\n",
      "   0\n",
      "   0\n",
      "   0\n",
      "   0\n",
      "\n",
      "\n",
      "Error in Gi:\n",
      "Fully Parameterized gate with shape (4, 4)\n",
      "   0   0   0   0\n",
      "   0   0   0   0\n",
      "   0   0   0   0\n",
      "   0   0   0   0\n",
      "\n",
      "\n",
      "Error in Gx:\n",
      "Fully Parameterized gate with shape (4, 4)\n",
      "   0   0   0   0\n",
      "   0   0   0   0\n",
      "   0   0   0   0\n",
      "   0   0   0   0\n",
      "\n",
      "\n",
      "Error in Gy:\n",
      "Fully Parameterized gate with shape (4, 4)\n",
      "   0   0   0   0\n",
      "   0   0   0   0\n",
      "   0   0   0   0\n",
      "   0   0   0   0\n",
      "\n"
     ]
    }
   ],
   "source": [
    "npboot_mean = pygsti.drivers.to_mean_gateset(gauge_opt_npboot_gatesets, gs_mc2gst)\n",
    "npboot_std  = pygsti.drivers.to_std_gateset(gauge_opt_npboot_gatesets, gs_mc2gst)\n",
    "\n",
    "#Summary of the error bars\n",
    "print \"Non-parametric bootstrapped error bars, with\",numGatesets,\"resamples\\n\"\n",
    "print \"Error in rho vec:\" \n",
    "print npboot_std['rho0']\n",
    "print\n",
    "print \"Error in E vec:\"\n",
    "print npboot_std['E0']\n",
    "print\n",
    "print \"Error in Gi:\"\n",
    "print npboot_std['Gi']\n",
    "print\n",
    "print \"Error in Gx:\"\n",
    "print npboot_std['Gx']\n",
    "print\n",
    "print \"Error in Gy:\"\n",
    "print npboot_std['Gy']"
   ]
  },
  {
   "cell_type": "code",
   "execution_count": 9,
   "metadata": {
    "collapsed": false,
    "scrolled": true
   },
   "outputs": [
    {
     "data": {
      "text/plain": [
       "<matplotlib.text.Text at 0x484c0d0>"
      ]
     },
     "execution_count": 9,
     "metadata": {},
     "output_type": "execute_result"
    },
    {
     "data": {
      "image/png": "[encoded data removed]",
      "text/plain": [
       "<matplotlib.figure.Figure at 0x5720f50>"
      ]
     },
     "metadata": {},
     "output_type": "display_data"
    }
   ],
   "source": [
    "loglog(npboot_std.to_vector(),pboot_std.to_vector(),'.')\n",
    "loglog(np.logspace(-4,-2,10),np.logspace(-4,-2,10),'--')\n",
    "xlabel('Non-parametric')\n",
    "ylabel('Parametric')\n",
    "xlim((1e-4,1e-2)); ylim((1e-4,1e-2))\n",
    "title('Scatter plot comparing param vs. non-param bootstrapping error bars.')"
   ]
  },
  {
   "cell_type": "code",
   "execution_count": 10,
   "metadata": {
    "collapsed": true
   },
   "outputs": [],
   "source": []
  },
  {
   "cell_type": "code",
   "execution_count": 10,
   "metadata": {
    "collapsed": true
   },
   "outputs": [],
   "source": []
  }
 ],
 "metadata": {
  "kernelspec": {
   "display_name": "Python 2",
   "language": "python",
   "name": "python2"
  },
  "language_info": {
   "codemirror_mode": {
    "name": "ipython",
    "version": 2
   },
   "file_extension": ".py",
   "mimetype": "text/x-python",
   "name": "python",
   "nbconvert_exporter": "python",
   "pygments_lexer": "ipython2",
   "version": "2.7.3"
  }
 },
 "nbformat": 4,
 "nbformat_minor": 0
}