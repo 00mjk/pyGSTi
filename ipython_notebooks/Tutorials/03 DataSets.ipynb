{
 "cells": [
  {
   "cell_type": "markdown",
   "metadata": {},
   "source": [
    "In order to actually produce a tomographic estimate, GST needs _data_.\n",
    "\n",
    "In this tutorial, we will look at how to create `pygst` `DataSet` objects, which are used by `pygsti` to do GST."
   ]
  },
  {
   "cell_type": "code",
   "execution_count": 1,
   "metadata": {
    "collapsed": false
   },
   "outputs": [],
   "source": [
    "#Import the pyGSTi module -- you probably want this at the beginning of every notebook\n",
    "import pygsti"
   ]
  },
  {
   "cell_type": "markdown",
   "metadata": {
    "collapsed": false
   },
   "outputs": [],
   "source": [
    "There three basic ways to create `DataSet` objects in `pygsti`:\n",
    "\n",
    "* By creating an empty `DataSet` ojbect and manually adding counts corresponding to gate strings.\n",
    "\n",
    "\n",
    "* By loading from a text-format dataset file via `pygsti.io.load_dataset`.\n",
    "\n",
    "\n",
    "* By using a `pygsti` `GateSet` to generate \"fake\" data. (May be useful for doing simulations of GST, and comparing to your experimental results.)\n",
    "\n",
    "We'll do each of these in turn."
   ]
  },
  {
   "cell_type": "code",
   "execution_count": 2,
   "metadata": {
    "collapsed": false
   },
   "outputs": [],
   "source": [
    "#1) Creating a data set from scratch\n",
    "ds1 = pygsti.objects.DataSet(spamLabels=['plus','minus'])\n",
    "ds1.add_count_dict( ('Gx',), {'plus': 10, 'minus': 90} )\n",
    "ds1.add_count_dict( ('Gx','Gy'), {'plus': 40, 'minus': 60} )\n",
    "ds1.done_adding_data()"
   ]
  },
  {
   "cell_type": "code",
   "execution_count": 3,
   "metadata": {
    "collapsed": false
   },
   "outputs": [
    {
     "name": "stdout",
     "output_type": "stream",
     "text": [
      "Loading tutorial_files/Example_TinyDataset.txt: 100%\n"
     ]
    }
   ],
   "source": [
    "#2) By creating and loading a text-format dataset file\n",
    "dataset_txt = \\\n",
    "\"\"\"## Columns = plus count, count total\n",
    "{} 0 100\n",
    "Gx 10 90\n",
    "GxGy 40 60\n",
    "Gx^4 20 90\n",
    "\"\"\"\n",
    "open(\"tutorial_files/Example_TinyDataset.txt\",\"w\").write(dataset_txt)\n",
    "ds2 = pygsti.io.load_dataset(\"tutorial_files/Example_TinyDataset.txt\")"
   ]
  },
  {
   "cell_type": "code",
   "execution_count": 4,
   "metadata": {
    "collapsed": false
   },
   "outputs": [],
   "source": [
    "#3) By generating fake data (using our example gate list string from the previous tutorial)\n",
    "\n",
    "#Load the example gate set from Tutorial 01\n",
    "gateset = pygsti.io.load_gateset(\"tutorial_files/Example_Gateset.txt\")\n",
    "\n",
    "#Depolarize it (Tutorial 01)\n",
    "depol_gateset = gateset.depolarize(gate_noise=0.1)\n",
    "\n",
    "#Load the example gatestring list from Tutorial 02\n",
    "gatestring_list = pygsti.io.load_gatestring_list(\"tutorial_files/Example_GatestringList.txt\")\n",
    "\n",
    "#Generate fake data (Tutorial 00)\n",
    "ds3 = pygsti.construction.generate_fake_data(depol_gateset, gatestring_list, nSamples=1000,\n",
    "                                             sampleError='binomial', seed=100)\n",
    "ds3b = pygsti.construction.generate_fake_data(depol_gateset, gatestring_list, nSamples=50,\n",
    "                                              sampleError='binomial', seed=100)\n",
    "\n",
    "#Write the ds3 and ds3b datasets to a file for later tutorials\n",
    "pygsti.io.write_dataset(\"tutorial_files/Example_Dataset.txt\", ds3, spamLabelOrder=['plus','minus']) \n",
    "pygsti.io.write_dataset(\"tutorial_files/Example_Dataset_LowCnts.txt\", ds3b) "
   ]
  },
  {
   "cell_type": "code",
   "execution_count": 5,
   "metadata": {
    "collapsed": false
   },
   "outputs": [
    {
     "name": "stdout",
     "output_type": "stream",
     "text": [
      "Dataset1:\n",
      "Gx  :  {'plus': 10.0, 'minus': 90.0}\n",
      "GxGy  :  {'plus': 40.0, 'minus': 60.0}\n",
      "\n",
      "\n",
      "Dataset2:\n",
      "{}  :  {'plus': 0.0, 'minus': 100.0}\n",
      "Gx  :  {'plus': 10.0, 'minus': 80.0}\n",
      "GxGy  :  {'plus': 40.0, 'minus': 20.0}\n",
      "GxGxGxGx  :  {'plus': 20.0, 'minus': 70.0}\n",
      "\n",
      "\n",
      "Dataset3 is too big to print, so here it is truncated to Dataset2's strings\n",
      "{}  :  {'plus': 0.0, 'minus': 1000.0}\n",
      "Gx  :  {'plus': 499.0, 'minus': 501.0}\n",
      "GxGy  :  {'plus': 504.0, 'minus': 496.0}\n",
      "GxGxGxGx  :  {'plus': 171.0, 'minus': 829.0}\n",
      "\n",
      "\n"
     ]
    }
   ],
   "source": [
    "print \"Dataset1:\\n\",ds1\n",
    "print \"Dataset2:\\n\",ds2\n",
    "print \"Dataset3 is too big to print, so here it is truncated to Dataset2's strings\\n\", ds3.truncate(ds2.keys())"
   ]
  },
  {
   "cell_type": "code",
   "execution_count": 6,
   "metadata": {
    "collapsed": true
   },
   "outputs": [],
   "source": []
  }
 ],
 "metadata": {
  "kernelspec": {
   "display_name": "Python 2",
   "language": "python",
   "name": "python2"
  },
  "language_info": {
   "codemirror_mode": {
    "name": "ipython",
    "version": 2
   },
   "file_extension": ".py",
   "mimetype": "text/x-python",
   "name": "python",
   "nbconvert_exporter": "python",
   "pygments_lexer": "ipython2",
   "version": "2.7.3"
  }
 },
 "nbformat": 4,
 "nbformat_minor": 0
}