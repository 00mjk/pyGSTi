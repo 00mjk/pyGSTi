{
 "cells": [
  {
   "cell_type": "code",
   "execution_count": 1,
   "metadata": {
    "collapsed": false
   },
   "outputs": [],
   "source": [
    "#Import the pyGSTi module -- you probably want this at the beginning of every notebook\n",
    "import pygsti"
   ]
  },
  {
   "cell_type": "code",
   "execution_count": 2,
   "metadata": {
    "collapsed": false
   },
   "outputs": [],
   "source": [
    "#There three basic ways to create DataSet objects in GST.\n",
    "# 1) By creating an empty DataSet and manually adding counts corresponding to gate strings\n",
    "# 2) By loading from a text-format dataset file\n",
    "# 3) By using a GateSet to generate \"fake\" data \n",
    "\n",
    "# We'll do each of these in turn"
   ]
  },
  {
   "cell_type": "code",
   "execution_count": 3,
   "metadata": {
    "collapsed": false
   },
   "outputs": [],
   "source": [
    "#1) Creating from scratch\n",
    "ds1 = pygsti.objects.DataSet(spamLabels=['plus','minus'])\n",
    "ds1.add_count_dict( ('Gx',), {'plus': 10, 'minus': 90} )\n",
    "ds1.add_count_dict( ('Gx','Gy'), {'plus': 40, 'minus': 60} )\n",
    "ds1.done_adding_data()"
   ]
  },
  {
   "cell_type": "code",
   "execution_count": 4,
   "metadata": {
    "collapsed": false
   },
   "outputs": [
    {
     "name": "stdout",
     "output_type": "stream",
     "text": [
      "Loading tutorial_files/Example_TinyDataset.txt: 100%\n"
     ]
    }
   ],
   "source": [
    "#2) By creating and loading a text-format dataset file\n",
    "dataset_txt = \\\n",
    "\"\"\"## Columns = plus count, count total\n",
    "{} 0 100\n",
    "Gx 10 90\n",
    "GxGy 40 60\n",
    "Gx^4 20 90\n",
    "\"\"\"\n",
    "open(\"tutorial_files/Example_TinyDataset.txt\",\"w\").write(dataset_txt)\n",
    "ds2 = pygsti.io.load_dataset(\"tutorial_files/Example_TinyDataset.txt\")"
   ]
  },
  {
   "cell_type": "code",
   "execution_count": 5,
   "metadata": {
    "collapsed": false
   },
   "outputs": [],
   "source": [
    "#3) By generating fake data (using our example gate list string from the previous tutorial)\n",
    "gateset = pygsti.io.load_gateset(\"tutorial_files/Example_Gateset.txt\")\n",
    "depol_gateset = gateset.depolarize(gate_noise=0.1)\n",
    "gatestring_list = pygsti.io.load_gatestring_list(\"tutorial_files/Example_GatestringList.txt\")\n",
    "\n",
    "ds3 = pygsti.construction.generate_fake_data(depol_gateset, gatestring_list, nSamples=1000,\n",
    "                                             sampleError='binomial', seed=100)\n",
    "ds3b = pygsti.construction.generate_fake_data(depol_gateset, gatestring_list, nSamples=50,\n",
    "                                              sampleError='binomial', seed=100)\n",
    "\n",
    "#write this dataset to a file for later tutorials\n",
    "pygsti.io.write_dataset_file(\"tutorial_files/Example_Dataset.txt\", gatestring_list, ds3, spamLabelOrder=['plus','minus']) \n",
    "pygsti.io.write_dataset_file(\"tutorial_files/Example_Dataset_LowCnts.txt\", gatestring_list, ds3b) "
   ]
  },
  {
   "cell_type": "code",
   "execution_count": 6,
   "metadata": {
    "collapsed": false
   },
   "outputs": [
    {
     "name": "stdout",
     "output_type": "stream",
     "text": [
      "Dataset1:\n",
      "('Gx',)  :  {'plus': 10.0, 'minus': 90.0}\n",
      "('Gx', 'Gy')  :  {'plus': 40.0, 'minus': 60.0}\n",
      "\n",
      "\n",
      "Dataset2:\n",
      "()  :  {'plus': 0.0, 'minus': 100.0}\n",
      "('Gx',)  :  {'plus': 10.0, 'minus': 80.0}\n",
      "('Gx', 'Gy')  :  {'plus': 40.0, 'minus': 20.0}\n",
      "('Gx', 'Gx', 'Gx', 'Gx')  :  {'plus': 20.0, 'minus': 70.0}\n",
      "\n",
      "\n",
      "Dataset3 is too big to print, so here it is truncated to Dataset2's strings\n",
      "()  :  {'plus': 0.0, 'minus': 1000.0}\n",
      "('Gx',)  :  {'plus': 499.0, 'minus': 501.0}\n",
      "('Gx', 'Gy')  :  {'plus': 504.0, 'minus': 496.0}\n",
      "('Gx', 'Gx', 'Gx', 'Gx')  :  {'plus': 171.0, 'minus': 829.0}\n",
      "\n",
      "\n"
     ]
    }
   ],
   "source": [
    "print \"Dataset1:\\n\",ds1\n",
    "print \"Dataset2:\\n\",ds2\n",
    "print \"Dataset3 is too big to print, so here it is truncated to Dataset2's strings\\n\", ds3.truncate(ds2.keys())"
   ]
  },
  {
   "cell_type": "code",
   "execution_count": null,
   "metadata": {
    "collapsed": true
   },
   "outputs": [],
   "source": []
  }
 ],
 "metadata": {
  "kernelspec": {
   "display_name": "Python 2",
   "language": "python",
   "name": "python2"
  },
  "language_info": {
   "codemirror_mode": {
    "name": "ipython",
    "version": 2
   },
   "file_extension": ".py",
   "mimetype": "text/x-python",
   "name": "python",
   "nbconvert_exporter": "python",
   "pygments_lexer": "ipython2",
   "version": "2.7.3"
  }
 },
 "nbformat": 4,
 "nbformat_minor": 0
}
