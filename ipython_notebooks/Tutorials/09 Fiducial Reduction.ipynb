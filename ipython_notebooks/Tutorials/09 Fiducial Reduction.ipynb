{
 "cells": [
  {
   "cell_type": "code",
   "execution_count": 1,
   "metadata": {
    "collapsed": true
   },
   "outputs": [],
   "source": [
    "import GST\n",
    "from GSTCommons import FiducialPairReduction as FPR"
   ]
  },
  {
   "cell_type": "code",
   "execution_count": 2,
   "metadata": {
    "collapsed": false
   },
   "outputs": [
    {
     "name": "stdout",
     "output_type": "stream",
     "text": [
      "Loading from cache file:  tutorial_files/Example_Dataset.txt.cache\n"
     ]
    }
   ],
   "source": [
    "import json\n",
    "\n",
    "# Follow Algorithm tutorial to generate LSGST gatesets\n",
    "gs_target = GST.loadGateset(\"tutorial_files/Example_Gateset.txt\")\n",
    "ds = GST.loadDataset(\"tutorial_files/Example_Dataset.txt\", cache=True)\n",
    "fiducialList = GST.loadGatestringList(\"tutorial_files/Example_FiducialList.txt\")\n",
    "\n",
    "#Run LGST to get an initial estimate for the gates in gs_target based on the data in ds\n",
    "specs = GST.getRhoAndESpecs(fiducialGateStrings=fiducialList)\n",
    "gs_lgst = GST.doLGST(ds, specs, targetGateset=gs_target, svdTruncateTo=4, verbosity=1)\n",
    "\n",
    "#Gauge optimize the result to match the target gateset\n",
    "gs_lgst_after_gauge_opt = GST.optimizeGauge(gs_lgst, \"target\", targetGateset=gs_target)\n",
    "\n",
    "#Contract the result to CPTP\n",
    "gs_clgst = GST.contract(gs_lgst_after_gauge_opt, \"CPTP\")\n",
    "\n",
    "#Get lists of gate strings for successive iterations of LSGST to use\n",
    "specs  = GST.getRhoAndESpecs(fiducialGateStrings=fiducialList)\n",
    "germList = GST.loadGatestringList(\"tutorial_files/Example_GermsList.txt\")\n",
    "maxLengthList = json.load(open(\"tutorial_files/Example_maxLengths.json\",\"r\"))"
   ]
  },
  {
   "cell_type": "code",
   "execution_count": 3,
   "metadata": {
    "collapsed": false
   },
   "outputs": [
    {
     "name": "stdout",
     "output_type": "stream",
     "text": [
      "------  Fiducial Pair Reduction --------\n",
      "maximum number of amplified parameters =  34\n",
      "Beginning search for a good set of 1 pairs (36 pair lists to test)\n",
      " --> Higheset number of amplified parameters was 19\n",
      "Beginning search for a good set of 2 pairs (630 pair lists to test)\n",
      " --> Higheset number of amplified parameters was 30\n",
      "Beginning search for a good set of 3 pairs (7140 pair lists to test)\n",
      "[(0, 0), (0, 1), (1, 0)]\n"
     ]
    }
   ],
   "source": [
    "#Get sufficient set of fiducial pairs, meaning that with these fidicual pairs and the given set of germs,\n",
    "# the number of gateset parameters which are amplified when all pairs are used are also amplified when using\n",
    "# the returned subset.\n",
    "rhoEPairs = FPR.getSufficientFiducialPairs(gs_target, fiducialList, fiducialList, germList, verbosity=1)\n",
    "print rhoEPairs"
   ]
  },
  {
   "cell_type": "code",
   "execution_count": 4,
   "metadata": {
    "collapsed": false,
    "scrolled": true
   },
   "outputs": [],
   "source": [
    "#Test a specific set of fiducial pairs: see how many gateset parameter are amplified\n",
    "#FPR.getSufficientFiducialPairs(gs_target, fiducialList, germList, testPairList=[(0,0),(0,1),(1,0)], verbosity=4)"
   ]
  },
  {
   "cell_type": "code",
   "execution_count": 5,
   "metadata": {
    "collapsed": false,
    "scrolled": true
   },
   "outputs": [
    {
     "name": "stdout",
     "output_type": "stream",
     "text": [
      "\n",
      "--- Iterative LSGST: Beginning iter 1 of 10 : 92 gate strings ---\n",
      "--- Least Squares GST ---\n",
      "  Sum of Chi^2 = 48.2156 (92 data params - 56 model params = expected mean of 36)\n",
      "\n",
      "--- Iterative LSGST: Beginning iter 2 of 10 : 92 gate strings ---\n",
      "--- Least Squares GST ---\n",
      "  Sum of Chi^2 = 48.2156 (92 data params - 56 model params = expected mean of 36)\n",
      "\n",
      "--- Iterative LSGST: Beginning iter 3 of 10 : 95 gate strings ---\n",
      "--- Least Squares GST ---\n",
      "  Sum of Chi^2 = 51.0054 (95 data params - 56 model params = expected mean of 39)\n",
      "\n",
      "--- Iterative LSGST: Beginning iter 4 of 10 : 114 gate strings ---\n",
      "--- Least Squares GST ---\n",
      "  Sum of Chi^2 = 76.4723 (114 data params - 56 model params = expected mean of 58)\n",
      "\n",
      "--- Iterative LSGST: Beginning iter 5 of 10 : 146 gate strings ---\n",
      "--- Least Squares GST ---\n",
      "  Sum of Chi^2 = 117.016 (146 data params - 56 model params = expected mean of 90)\n",
      "\n",
      "--- Iterative LSGST: Beginning iter 6 of 10 : 178 gate strings ---\n",
      "--- Least Squares GST ---\n",
      "  Sum of Chi^2 = 145.915 (178 data params - 56 model params = expected mean of 122)\n",
      "\n",
      "--- Iterative LSGST: Beginning iter 7 of 10 : 210 gate strings ---\n",
      "--- Least Squares GST ---\n",
      "  Sum of Chi^2 = 190.552 (210 data params - 56 model params = expected mean of 154)\n",
      "\n",
      "--- Iterative LSGST: Beginning iter 8 of 10 : 242 gate strings ---\n",
      "--- Least Squares GST ---\n",
      "  Sum of Chi^2 = 233.121 (242 data params - 56 model params = expected mean of 186)\n",
      "\n",
      "--- Iterative LSGST: Beginning iter 9 of 10 : 274 gate strings ---\n",
      "--- Least Squares GST ---\n",
      "  Sum of Chi^2 = 267.547 (274 data params - 56 model params = expected mean of 218)\n",
      "\n",
      "--- Iterative LSGST: Beginning iter 10 of 10 : 306 gate strings ---\n",
      "--- Least Squares GST ---\n",
      "  Sum of Chi^2 = 291.434 (306 data params - 56 model params = expected mean of 250)\n"
     ]
    }
   ],
   "source": [
    "from GSTCommons import MakeLists_WholeGermPowers as MakeLists\n",
    "lsgstListOfLists = MakeLists.make_lsgst_lists(gs_target.keys(), fiducialList, germList,\n",
    "                                              maxLengthList, rhoEPairs)\n",
    "\n",
    "gs_lsgst_list = GST.Core.doIterativeLSGST(ds, gs_clgst, lsgstListOfLists, verbosity=2,\n",
    "                                         minProbClipForWeighting=1e-6, probClipInterval=(-1e6,1e6),\n",
    "                                         returnAll=True )"
   ]
  },
  {
   "cell_type": "code",
   "execution_count": 6,
   "metadata": {
    "collapsed": true
   },
   "outputs": [],
   "source": [
    "# Compute a few additional quantities needed to generate the report\n",
    "Ls = maxLengthList\n",
    "gateStrDict = { (L,germ):GST.GateStringTools.repeatWithMaxLength(germ,L,False) for L in Ls for germ in germList }\n",
    "\n",
    "#remove duplicates by replacing duplicate strings with None\n",
    "runningList = []\n",
    "for L in Ls:\n",
    "    for germ in germList:\n",
    "        if gateStrDict[(L,germ)] in runningList:\n",
    "            gateStrDict[(L,germ)] = None\n",
    "        else: runningList.append( gateStrDict[(L,germ)] )"
   ]
  },
  {
   "cell_type": "code",
   "execution_count": 7,
   "metadata": {
    "collapsed": false,
    "scrolled": true
   },
   "outputs": [
    {
     "name": "stdout",
     "output_type": "stream",
     "text": [
      "Generating target gateset tables...\n",
      "Generating dataset and gatestring list tables...\n",
      "Generating spam estimate tables...\n",
      "Generating gate estimate table...\n",
      "Generating choi matrix table...\n",
      "Generating gate decomposition tables...\n",
      "Generating closest unitary table...\n",
      "Generating GST estimate vs. target tables...\n",
      "Generating chi2 progress tables...\n",
      "Generating plots...\n",
      " -- Chi2 plots (3):  1  2  3  \n",
      " -- Blank Box plots...\n",
      " -- Direct-X plots  (4):\n",
      " 1  2  3  4\n",
      " -- Error rate plots...\n",
      "Merging into template file...\n",
      "Latex file(s) successfully generated.  Attempting to compile with pdflatex...\n",
      "Initial output PDF tutorial_files/Example_report_FR.pdf successfully generated.\n",
      "Final output PDF tutorial_files/Example_report_FR.pdf successfully generated. Cleaning up .aux and .log files.\n"
     ]
    }
   ],
   "source": [
    "import GST.ReportGeneration as RG\n",
    "reload(RG)\n",
    "RG.writeReport_LsAndGerms(\"tutorial_files/Example_report_FR.pdf\",\"chi2\",maxLengthList[1:],gs_lsgst_list[1:],\n",
    "                          lsgstListOfLists[1:], ds, \"$\\\\mathcal{D}_0$\", germList, gateStrDict,\n",
    "                          fiducialList, fiducialList, gs_target, \"An Example GST Report\",m=0,M=10,\n",
    "                          appendices=False, rhoEPairs = rhoEPairs)"
   ]
  },
  {
   "cell_type": "code",
   "execution_count": null,
   "metadata": {
    "collapsed": true
   },
   "outputs": [],
   "source": []
  },
  {
   "cell_type": "code",
   "execution_count": null,
   "metadata": {
    "collapsed": true
   },
   "outputs": [],
   "source": []
  }
 ],
 "metadata": {
  "kernelspec": {
   "display_name": "Python 2",
   "language": "python",
   "name": "python2"
  },
  "language_info": {
   "codemirror_mode": {
    "name": "ipython",
    "version": 2
   },
   "file_extension": ".py",
   "mimetype": "text/x-python",
   "name": "python",
   "nbconvert_exporter": "python",
   "pygments_lexer": "ipython2",
   "version": "2.7.3"
  }
 },
 "nbformat": 4,
 "nbformat_minor": 0
}
