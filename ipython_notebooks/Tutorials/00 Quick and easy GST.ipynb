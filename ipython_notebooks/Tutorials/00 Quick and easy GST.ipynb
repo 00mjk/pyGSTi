{
 "cells": [
  {
   "cell_type": "markdown",
   "metadata": {},
   "source": [
    "#Getting started quickly with Gate Set Tomography"
   ]
  },
  {
   "cell_type": "markdown",
   "metadata": {},
   "source": [
    "The `pygsti` package provides multiple levels of abstraction over the core Gate Set Tomography (GST) algorithms.  This initial tutorial will show you how to work with `pygsti`'s highest level of abstraction to get you started using GST quickly.  Subsequent tutorials will delve into the details of `pygsti` objects and algorithms, and how to use them in detail."
   ]
  },
  {
   "cell_type": "markdown",
   "metadata": {},
   "source": [
    "## The `do_long_sequence_gst` driver function\n",
    "Let's first look at how to use the  `do_long_sequence_gst` which combines all the steps of running typical GST algortithms into a single function. "
   ]
  },
  {
   "cell_type": "code",
   "execution_count": 16,
   "metadata": {
    "collapsed": false
   },
   "outputs": [],
   "source": [
    "#Import the pygsti module (always do this)\n",
    "import pygsti"
   ]
  },
  {
   "cell_type": "markdown",
   "metadata": {},
   "source": [
    "####First, we need to specify what our desired gate set is, referred to as the \"target gateset\".\n",
    "Gate sets and other `pygsti` objects are constructed using routines within `pygsti.construction`, and so we construct a gateset by calling `pygsti.construction.build_gateset`:"
   ]
  },
  {
   "cell_type": "code",
   "execution_count": 17,
   "metadata": {
    "collapsed": false
   },
   "outputs": [],
   "source": [
    "#Construct a target gateset\n",
    "gs_target = pygsti.construction.build_gateset([2],[('Q0',)], ['Gi','Gx','Gy'], \n",
    "                                             [ \"I(Q0)\",\"X(pi/2,Q0)\", \"Y(pi/2,Q0)\"],\n",
    "                                             prepLabels=['rho0'], prepExpressions=[\"0\"],\n",
    "                                             effectLabels=['E0'], effectExpressions=[\"1\"], \n",
    "                                             spamdefs={'plus': ('rho0','E0'), 'minus': ('rho0','remainder') } )"
   ]
  },
  {
   "cell_type": "markdown",
   "metadata": {},
   "source": [
    "The parameters to `build_gateset`, specify:\n",
    " - The state space is dimension 2 (i.e. the density matrix is 2x2)\n",
    " \n",
    " \n",
    " - interpret this 2-dimensional space as that of a single qubit labeled \"Q0\" (label must begin with 'Q')\n",
    " \n",
    " \n",
    " - there are three gates: Idle, $\\pi/2$ x-rotation, $\\pi/2$ y-rotation\n",
    " \n",
    " \n",
    " - there is one state prep operation, which prepares the 0-state (the first basis element of the 2D state space)\n",
    " \n",
    " \n",
    " - there is one POVM (~ measurement) that projects onto the 1-state (the second basis element of the 2D state space)\n",
    " \n",
    " \n",
    " - the name of the state-prep then measure our POVM is `plus`\n",
    " \n",
    " \n",
    " - the name of the state-prep then measure something other than our POVM is `minus` "
   ]
  },
  {
   "cell_type": "markdown",
   "metadata": {},
   "source": [
    "Reading from and writing to files is done mostly via routines in `pygsti.io`. To store this gateset in a file (for reference or to load it somewhere else), you just call `pygsti.io.write_gateset`:"
   ]
  },
  {
   "cell_type": "code",
   "execution_count": 18,
   "metadata": {
    "collapsed": false
   },
   "outputs": [],
   "source": [
    "#Write it to a file\n",
    "pygsti.io.write_gateset(gs_target, \"tutorial_files/MyTargetGateset.txt\")\n",
    "\n",
    "#To load the gateset back into a python object, do:\n",
    "# gs_target = pygsti.io.load_gateset(\"tutorial_files/MyTargetGateset.txt\")"
   ]
  },
  {
   "cell_type": "markdown",
   "metadata": {},
   "source": [
    "####Next, we need to create fiducial, germ, and max-length lists:\n",
    "These three lists will specify what experiments GST will use in its estimation procedure, and depend on the target gateset as well as the expected quality of the qubit being measured.  They are:\n",
    "\n",
    "- fiducial gate strings (``fiducials``): gate sequences that immediately follow state preparation or immediately precede measurement.\n",
    "\n",
    "\n",
    "- germ gate strings (``germs``): gate sequences that are repeated to produce a string that is as close to some \"maximum length\" as possible without exceeding it.\n",
    "\n",
    "\n",
    "- maximum lengths (`maxLengths`): a list of maximum lengths used to specify the increasingly long gate sequences (via more germ repeats) used by each iteration of the GST estimation procedure.\n",
    "\n",
    "To make GST most effective, these gate strings lists should be computed.  Typically this computation is done by the Sandia GST folks and the gate string lists are sent to you, though there is preliminary support within `pygsti` for computing these string lists directly.  Here, we'll assume we have been given the lists.  The maximum lengths list typically starts with [0,1] and then contains successive powers of two.  The largest maximum length should roughly correspond to the number of gates ones qubit can perform before becoming depolarized beyond ones ability to measure anything other than the maximally mixed state.  Since we're constructing gate string lists, the routines used are in `pygsti.construction`:"
   ]
  },
  {
   "cell_type": "code",
   "execution_count": 19,
   "metadata": {
    "collapsed": true
   },
   "outputs": [],
   "source": [
    "#Create fiducial gate string lists\n",
    "fiducials = pygsti.construction.gatestring_list( [ (), ('Gx',), ('Gy',), ('Gx','Gx'), ('Gx','Gx','Gx'), ('Gy','Gy','Gy') ])\n",
    "\n",
    "#Create germ gate string lists\n",
    "germs = pygsti.construction.gatestring_list( [('Gx',), ('Gy',), ('Gi',), ('Gx', 'Gy',),\n",
    "         ('Gx', 'Gy', 'Gi',), ('Gx', 'Gi', 'Gy',), ('Gx', 'Gi', 'Gi',), ('Gy', 'Gi', 'Gi',),\n",
    "         ('Gx', 'Gx', 'Gi', 'Gy',), ('Gx', 'Gy', 'Gy', 'Gi',),\n",
    "         ('Gx', 'Gx', 'Gy', 'Gx', 'Gy', 'Gy',)] )\n",
    "\n",
    "#Create maximum lengths list\n",
    "maxLengths = [0,1,2,4,8,16,32]"
   ]
  },
  {
   "cell_type": "markdown",
   "metadata": {},
   "source": [
    "If we want to, we can save these lists in files (but this is not necessary):"
   ]
  },
  {
   "cell_type": "code",
   "execution_count": 20,
   "metadata": {
    "collapsed": true
   },
   "outputs": [],
   "source": [
    "pygsti.io.write_gatestring_list(\"tutorial_files/MyFiducials.txt\", fiducials, \"My fiducial gate strings\")\n",
    "pygsti.io.write_gatestring_list(\"tutorial_files/MyGerms.txt\", germs, \"My germ gate strings\")\n",
    "\n",
    "import pickle\n",
    "pickle.dump( maxLengths, open(\"tutorial_files/MyMaxLengths.pkl\", \"wb\"))\n",
    "\n",
    "# To load these back into python lists, do:\n",
    "#fiducials = pygsti.io.load_gatestring_list(\"tutorial_files/MyFiducials.txt\")\n",
    "#germs = pygsti.io.load_gatestring_list(\"tutorial_files/MyGerms.txt\")\n",
    "#maxLengths = pickle.load( open(\"tutorial_files/MyMaxLengths.pkl\"))"
   ]
  },
  {
   "cell_type": "markdown",
   "metadata": {
    "collapsed": true
   },
   "source": [
    "#### Third, we generate (since we can't actually take) data and save a dataset\n",
    "Before experimental data is obtained, it is useful to create a \"template\" dataset file which specifies which gate sequences are required to run GST.  Since we don't actually have an experiment for this example, we'll generate some \"fake\" experimental data from a set of gates that are just depolarized versions of the targets.  First we construct the list of experiments used by GST using `make_lsgst_experiment_list`, and use the result to specify which experiments to simulate.  The abbreviation \"LSGST\" (lowercase in function names to follow Python naming conventions) stands for \"Long Sequence Gate Set Tomography\", and refers to the more powerful flavor of GST that utilizes long sequences to find gate set estimates.  LSGST can be compared to Linear GST, or \"LGST\", which only uses short sequences and as a result provides much less accurate estimates."
   ]
  },
  {
   "cell_type": "code",
   "execution_count": 21,
   "metadata": {
    "collapsed": false
   },
   "outputs": [],
   "source": [
    "#Create a list of GST experiments for this gateset, with\n",
    "#the specified fiducials, germs, and maximum lengths\n",
    "listOfExperiments = pygsti.construction.make_lsgst_experiment_list(gs_target.gates.keys(), fiducials, fiducials, germs, maxLengths)\n",
    "\n",
    "#Create an empty dataset file, which stores the list of experiments\n",
    "#plus extra columns where data can be inserted\n",
    "pygsti.io.write_empty_dataset(\"tutorial_files/MyDataTemplate.txt\", listOfExperiments,\n",
    "                              \"## Columns = plus count, count total\")"
   ]
  },
  {
   "cell_type": "markdown",
   "metadata": {},
   "source": [
    "Since we don't actually have a experiment to generate real data, let's now create and save a dataset using depolarized target gates and spam operations:"
   ]
  },
  {
   "cell_type": "code",
   "execution_count": 22,
   "metadata": {
    "collapsed": false
   },
   "outputs": [],
   "source": [
    "#Create a gateset of depolarized gates and SPAM relative to target, and generate fake data using this gateset.\n",
    "gs_datagen = gs_target.depolarize(gate_noise=0.1, spam_noise=0.001)\n",
    "ds = pygsti.construction.generate_fake_data(gs_datagen, listOfExperiments, nSamples=1000000,\n",
    "                                            sampleError=\"binomial\", seed=2015)"
   ]
  },
  {
   "cell_type": "markdown",
   "metadata": {},
   "source": [
    "We could at this point just use the generated dataset directly, but let's save it as though it were a file filled with experimental results."
   ]
  },
  {
   "cell_type": "code",
   "execution_count": 23,
   "metadata": {
    "collapsed": false
   },
   "outputs": [],
   "source": [
    "#Save our dataset\n",
    "pygsti.io.write_dataset(\"tutorial_files/MyDataset.txt\", ds)\n",
    "\n",
    "#Note; to load the dataset back again, do:\n",
    "#ds = pygsti.io.load_dataset(\"tutorial_files/MyDataset.txt\")"
   ]
  },
  {
   "cell_type": "markdown",
   "metadata": {
    "collapsed": true
   },
   "source": [
    "#### Fourth, we call the Analysis function\n",
    "Now we're all set to call the driver routine.  All of the possible arguments to this function are detailed in the included help (docstring), and so here we just make a few remarks:\n",
    "- For many of the arguments, you can supply either a filename or a python object (e.g. dataset, target gateset, gate string lists).\n",
    "\n",
    "\n",
    "- `fiducials` is supplied twice since the state preparation fiducials (those sequences following a state prep) need not be the same as the measurement fiducials (those sequences preceding a measurement).\n",
    "\n",
    "\n",
    "- Typically we want to constrain the resulting gates to be trace-preserving, so we leave `constrainToTP` set to `True` (the default).\n",
    "\n",
    "\n",
    "- `gaugeOptRatio` specifies the ratio of the state preparation and measurement (SPAM) weight to the gate weight when performing a gauge optimization.  When this is set to 0.001, as below, the gate parameters are weighted 1000 times more relative to the SPAM parameters.  Typically it is good to weight the gates parameters more heavily since GST amplifies gate parameter errors via long gate sequences but cannot amplify SPAM parameter errors.  If unsure, 0.001 is a good value to start with."
   ]
  },
  {
   "cell_type": "code",
   "execution_count": 24,
   "metadata": {
    "collapsed": false,
    "scrolled": true
   },
   "outputs": [
    {
     "name": "stdout",
     "output_type": "stream",
     "text": [
      "Loading tutorial_files/MyDataset.txt: 100%\n",
      "      ('LGST: Singular values of I_tilde (truncating to first 4 of 6) = \\n', array([  4.24407345e+00,   1.16713391e+00,   9.46839982e-01,\n",
      "         9.42564473e-01,   1.78630981e-03,   1.05804853e-03]))\n",
      "      \n",
      "  --- LGST ---\n",
      "      \n",
      "  --- Gauge Optimization to TP (L-BFGS-B) ---\n",
      " 3418s           0.0000000000\n",
      "  The resulting TP penalty is: 5.59849e-14\n",
      "    The gauge matrix found (B^-1) is:\n",
      "[[  9.99999998e-01   2.78483806e-09  -7.33982738e-09  -3.26020669e-08]\n",
      " [  1.98659331e-15   1.00000000e+00  -1.06122908e-15  -5.55502368e-15]\n",
      " [  1.48592096e-17  -1.06122892e-15   1.00000000e+00  -1.70347959e-16]\n",
      " [  1.43633419e-15  -5.55502368e-15  -1.70347959e-16   1.00000000e+00]]\n",
      "\n",
      "    The gauge-corrected gates are:\n",
      "rho0 =    0.7071  -0.0224   0.0222   0.7507\n",
      "\n",
      "\n",
      "E0 =    0.6846   0.0023  -0.0017  -0.6436\n",
      "\n",
      "\n",
      "Gi = \n",
      "   1.0000        0        0        0\n",
      "  -0.0032   0.9019  -0.0004  -0.0005\n",
      "   0.0033  -0.0018   0.8989  -0.0009\n",
      "  -0.0032  -0.0006   0.0012   0.8995\n",
      "\n",
      "\n",
      "Gx = \n",
      "   1.0000        0        0        0\n",
      "  -0.0037   0.9015   0.0066   0.0004\n",
      "  -0.0002  -0.0008  -0.0073  -0.9999\n",
      "  -0.0629   0.0065   0.8104   0.0066\n",
      "\n",
      "\n",
      "Gy = \n",
      "   1.0000        0        0        0\n",
      "  -0.0002  -0.0050   0.0022   1.0001\n",
      "   0.0039   0.0072   0.8997  -0.0005\n",
      "  -0.0628  -0.8092  -0.0051   0.0059\n",
      "\n",
      "\n",
      "\n",
      "    \n",
      "  --- Iterative MLGST: Iter 0 of 6  92 gate strings ---: \n",
      "  --- Minimum Chi^2 GST ---\n",
      "    Sum of Chi^2 = 70.3229 (92 data params - 31 model params = expected mean of 61; p-value = 0.193741)\n",
      "      2*Delta(log(L)) = 70.3222\n",
      "    \n",
      "  --- Iterative MLGST: Iter 1 of 6  92 gate strings ---: \n",
      "  --- Minimum Chi^2 GST ---\n",
      "    Sum of Chi^2 = 70.3229 (92 data params - 31 model params = expected mean of 61; p-value = 0.193741)\n",
      "      2*Delta(log(L)) = 70.3222\n",
      "    \n",
      "  --- Iterative MLGST: Iter 2 of 6  168 gate strings ---: \n",
      "  --- Minimum Chi^2 GST ---\n",
      "    Sum of Chi^2 = 164.45 (168 data params - 31 model params = expected mean of 137; p-value = 0.0549533)\n",
      "      2*Delta(log(L)) = 164.46\n",
      "    \n",
      "  --- Iterative MLGST: Iter 3 of 6  441 gate strings ---: \n",
      "  --- Minimum Chi^2 GST ---\n",
      "    Sum of Chi^2 = 465.991 (441 data params - 31 model params = expected mean of 410; p-value = 0.0289933)\n",
      "      2*Delta(log(L)) = 466.007\n",
      "    \n",
      "  --- Iterative MLGST: Iter 4 of 6  817 gate strings ---: \n",
      "  --- Minimum Chi^2 GST ---\n",
      "    Sum of Chi^2 = 877.38 (817 data params - 31 model params = expected mean of 786; p-value = 0.01262)\n",
      "      2*Delta(log(L)) = 877.403\n",
      "    \n",
      "  --- Iterative MLGST: Iter 5 of 6  1201 gate strings ---: \n",
      "  --- Minimum Chi^2 GST ---\n",
      "    Sum of Chi^2 = 1216.6 (1201 data params - 31 model params = expected mean of 1170; p-value = 0.167397)\n",
      "      2*Delta(log(L)) = 1216.61\n",
      "    \n",
      "  --- Iterative MLGST: Iter 6 of 6  1585 gate strings ---: \n",
      "  --- Minimum Chi^2 GST ---\n",
      "    Sum of Chi^2 = 1606.7 (1585 data params - 31 model params = expected mean of 1554; p-value = 0.171884)\n",
      "      2*Delta(log(L)) = 1606.72\n",
      "  --- Last Iteration: switching to ML objective ---\n",
      "  --- MLGST ---\n",
      "      Maximum log(L) = 803.359 below upper bound of -2.65151e+09\n",
      "        2*Delta(log(L)) = 1606.72 (1585 data params - 31 model params = expected mean of 1554; p-value = 0.171807)\n",
      "      2*Delta(log(L)) = 1606.72\n"
     ]
    }
   ],
   "source": [
    "results = pygsti.do_long_sequence_gst(\"tutorial_files/MyDataset.txt\", gs_target, \n",
    "                                        fiducials, fiducials, germs, maxLengths,\n",
    "                                        gaugeOptRatio=1e-3, constrainToTP=True)"
   ]
  },
  {
   "cell_type": "code",
   "execution_count": 25,
   "metadata": {
    "collapsed": false
   },
   "outputs": [
    {
     "name": "stdout",
     "output_type": "stream",
     "text": [
      "rho0 =    0.7071        0  -0.0002   0.7153\n",
      "\n",
      "\n",
      "E0 =    0.7071        0        0  -0.6976\n",
      "\n",
      "\n",
      "Gi = \n",
      "   1.0000        0        0        0\n",
      "        0   0.9000   0.0002        0\n",
      "        0        0   0.8999        0\n",
      "        0   0.0002   0.0002   0.9000\n",
      "\n",
      "\n",
      "Gx = \n",
      "   1.0000        0        0        0\n",
      "        0   0.9001   0.0001        0\n",
      "        0        0        0  -0.9000\n",
      "        0        0   0.9000   0.0001\n",
      "\n",
      "\n",
      "Gy = \n",
      "   1.0000        0        0        0\n",
      "        0        0        0   0.9000\n",
      "        0        0   0.9000        0\n",
      "        0  -0.9000   0.0001  -0.0001\n",
      "\n",
      "\n",
      "\n"
     ]
    }
   ],
   "source": [
    "import pickle\n",
    "s = pickle.dumps(results)\n",
    "r2 = pickle.loads(s)\n",
    "print(r2.gatesets['final estimate'])"
   ]
  },
  {
   "cell_type": "markdown",
   "metadata": {},
   "source": [
    "The analysis routine returns a `pygsti.report.Results` object which encapsulates intermediate and final GST estimates, as well as quantities derived from these \"raw\" estimates.  (The object also caches derived quantities so that repeated queries for the same quanties do not require recalculation.)  Finally, a `Results` object can generate reports and presentations containing many of the raw and derived GST results.  We give examples of these uses below. "
   ]
  },
  {
   "cell_type": "code",
   "execution_count": 26,
   "metadata": {
    "collapsed": false,
    "scrolled": false
   },
   "outputs": [
    {
     "name": "stdout",
     "output_type": "stream",
     "text": [
      "rho0 =    0.7071        0  -0.0002   0.7153\n",
      "\n",
      "\n",
      "E0 =    0.7071        0        0  -0.6976\n",
      "\n",
      "\n",
      "Gi = \n",
      "   1.0000        0        0        0\n",
      "        0   0.9000   0.0002        0\n",
      "        0        0   0.8999        0\n",
      "        0   0.0002   0.0002   0.9000\n",
      "\n",
      "\n",
      "Gx = \n",
      "   1.0000        0        0        0\n",
      "        0   0.9001   0.0001        0\n",
      "        0        0        0  -0.9000\n",
      "        0        0   0.9000   0.0001\n",
      "\n",
      "\n",
      "Gy = \n",
      "   1.0000        0        0        0\n",
      "        0        0        0   0.9000\n",
      "        0        0   0.9000        0\n",
      "        0  -0.9000   0.0001  -0.0001\n",
      "\n",
      "\n",
      "\n"
     ]
    }
   ],
   "source": [
    "# Access to raw GST best gateset estimate\n",
    "print(results.gatesets['final estimate'])"
   ]
  },
  {
   "cell_type": "code",
   "execution_count": 27,
   "metadata": {
    "collapsed": false,
    "scrolled": true
   },
   "outputs": [
    {
     "name": "stdout",
     "output_type": "stream",
     "text": [
      "  *** Generating tables ***\n",
      "   Iter 00 of 16 :   Generating table: targetSpamTable (w/95% CIs)\n",
      "   Iter 01 of 16 :   Generating table: targetGatesTable (w/95% CIs)\n",
      "   Iter 02 of 16 :   Generating table: datasetOverviewTable (w/95% CIs)\n",
      "   Iter 03 of 16 :   Generating table: bestGatesetSpamTable (w/95% CIs)\n",
      "   Iter 04 of 16 :   Generating table: bestGatesetSpamParametersTable (w/95% CIs)\n",
      "   Iter 05 of 16 :   Generating table: bestGatesetGatesTable (w/95% CIs)\n",
      "   Iter 06 of 16 :   Generating table: bestGatesetChoiTable (w/95% CIs)\n",
      "   Iter 07 of 16 :   Generating table: bestGatesetDecompTable (w/95% CIs)\n",
      "   Iter 08 of 16 :   Generating table: bestGatesetRotnAxisTable (w/95% CIs)\n",
      "   Iter 09 of 16 :   Generating table: bestGatesetClosestUnitaryTable (w/95% CIs)\n"
     ]
    },
    {
     "name": "stderr",
     "output_type": "stream",
     "text": [
      "/home/lsaldyt/.local/lib/python3.5/site-packages/numpy/lib/twodim_base.py:233: VisibleDeprecationWarning: using a non-integer number instead of an integer will result in an error in the future\n",
      "  m = zeros((N, M), dtype=dtype)\n",
      "/home/lsaldyt/.local/lib/python3.5/site-packages/numpy/lib/twodim_base.py:240: VisibleDeprecationWarning: using a non-integer number instead of an integer will result in an error in the future\n",
      "  m[:M-k].flat[i::M+1] = 1\n"
     ]
    },
    {
     "name": "stdout",
     "output_type": "stream",
     "text": [
      "   Iter 10 of 16 :   Generating table: bestGatesetVsTargetTable (w/95% CIs)\n",
      "   Iter 11 of 16 :   Generating table: bestGatesetErrorGenTable (w/95% CIs)\n",
      "   Iter 12 of 16 :   Generating table: fiducialListTable (w/95% CIs)\n",
      "   Iter 13 of 16 :   Generating table: prepStrListTable (w/95% CIs)\n",
      "   Iter 14 of 16 :   Generating table: effectStrListTable (w/95% CIs)\n",
      "   Iter 15 of 16 :   Generating table: germListTable (w/95% CIs)\n",
      "   Iter 16 of 16 :   Generating table: progressTable (w/95% CIs)\n",
      "  *** Generating plots ***\n",
      "  LogL plots (2): \n",
      "   Iter 0 of 1 :   Generating figure: bestEstimateColorBoxPlot (w/95% CIs)\n",
      "  Generating figure: bestEstimateColorBoxPlot\n",
      "   Iter 1 of 1 :   Generating figure: invertedBestEstimateColorBoxPlot (w/95% CIs)\n",
      "  Generating figure: invertedBestEstimateColorBoxPlot\n",
      "  \n",
      "  *** Merging into template file ***\n",
      "  Latex file(s) successfully generated.  Attempting to compile with pdflatex...\n",
      "  Initial output PDF tutorial_files/easy_full.pdf successfully generated.\n",
      "  Final output PDF tutorial_files/easy_full.pdf successfully generated. Cleaning up .aux and .log files.\n"
     ]
    }
   ],
   "source": [
    "#create a full GST report (most detailed and pedagogical; best for those getting familiar with GST)\n",
    "results.create_full_report_pdf(confidenceLevel=95, filename=\"tutorial_files/easy_full.pdf\", verbosity=2)"
   ]
  },
  {
   "cell_type": "code",
   "execution_count": 28,
   "metadata": {
    "collapsed": false
   },
   "outputs": [
    {
     "name": "stdout",
     "output_type": "stream",
     "text": [
      "  *** Generating tables ***\n",
      "  Retrieving cached table: bestGatesetSpamTable (w/95% CIs)\n",
      "  Retrieving cached table: bestGatesetSpamParametersTable (w/95% CIs)\n",
      "  Retrieving cached table: bestGatesetGatesTable (w/95% CIs)\n",
      "  Retrieving cached table: bestGatesetDecompTable (w/95% CIs)\n",
      "  Retrieving cached table: bestGatesetRotnAxisTable (w/95% CIs)\n",
      "  Retrieving cached table: bestGatesetVsTargetTable (w/95% CIs)\n",
      "  Retrieving cached table: bestGatesetErrorGenTable (w/95% CIs)\n",
      "  Retrieving cached table: progressTable (w/95% CIs)\n",
      "  *** Generating plots ***\n",
      "  *** Merging into template file ***\n",
      "  Latex file(s) successfully generated.  Attempting to compile with pdflatex...\n",
      "  Initial output PDF tutorial_files/easy_brief.pdf successfully generated.\n",
      "  Final output PDF tutorial_files/easy_brief.pdf successfully generated. Cleaning up .aux and .log files.\n"
     ]
    }
   ],
   "source": [
    "#create a brief GST report (just highlights of full report but fast to generate; best for folks familiar with GST)\n",
    "results.create_brief_report_pdf(confidenceLevel=95, filename=\"tutorial_files/easy_brief.pdf\", verbosity=2)"
   ]
  },
  {
   "cell_type": "code",
   "execution_count": 29,
   "metadata": {
    "collapsed": false
   },
   "outputs": [
    {
     "name": "stdout",
     "output_type": "stream",
     "text": [
      "  *** Generating tables ***\n",
      "  Retrieving cached table: targetSpamTable (w/95% CIs)\n",
      "  Retrieving cached table: targetGatesTable (w/95% CIs)\n",
      "  Retrieving cached table: datasetOverviewTable (w/95% CIs)\n",
      "  Retrieving cached table: bestGatesetSpamTable (w/95% CIs)\n",
      "  Retrieving cached table: bestGatesetSpamParametersTable (w/95% CIs)\n",
      "  Retrieving cached table: bestGatesetGatesTable (w/95% CIs)\n",
      "  Retrieving cached table: bestGatesetChoiTable (w/95% CIs)\n",
      "  Retrieving cached table: bestGatesetDecompTable (w/95% CIs)\n",
      "  Retrieving cached table: bestGatesetRotnAxisTable (w/95% CIs)\n",
      "  Retrieving cached table: bestGatesetVsTargetTable (w/95% CIs)\n",
      "  Retrieving cached table: bestGatesetErrorGenTable (w/95% CIs)\n",
      "  Retrieving cached table: fiducialListTable (w/95% CIs)\n",
      "  Retrieving cached table: prepStrListTable (w/95% CIs)\n",
      "  Retrieving cached table: effectStrListTable (w/95% CIs)\n",
      "  Retrieving cached table: germListTable (w/95% CIs)\n",
      "  Retrieving cached table: progressTable (w/95% CIs)\n",
      "  *** Generating plots ***\n",
      "   -- LogL plots (1):    Iter 0 of 0 :   Retrieving cached figure: bestEstimateColorBoxPlot (w/95% CIs)\n",
      "  \n",
      "  *** Merging into template file ***\n",
      "  Latex file(s) successfully generated.  Attempting to compile with pdflatex...\n",
      "  Initial output PDF tutorial_files/easy_slides.pdf successfully generated.\n",
      "  Final output PDF tutorial_files/easy_slides.pdf successfully generated. Cleaning up .aux and .log files.\n"
     ]
    }
   ],
   "source": [
    "#create GST slides (tables and figures of full report in latex-generated slides; best for folks familiar with GST)\n",
    "results.create_presentation_pdf(confidenceLevel=95, filename=\"tutorial_files/easy_slides.pdf\", verbosity=2)"
   ]
  },
  {
   "cell_type": "code",
   "execution_count": 30,
   "metadata": {
    "collapsed": false
   },
   "outputs": [
    {
     "name": "stdout",
     "output_type": "stream",
     "text": [
      "  *** Generating tables ***\n",
      "   Iter 00 of 15 :   Retrieving cached table: targetSpamTable (w/95% CIs)\n",
      "   Iter 01 of 15 :   Retrieving cached table: targetGatesTable (w/95% CIs)\n",
      "   Iter 02 of 15 :   Retrieving cached table: datasetOverviewTable (w/95% CIs)\n",
      "   Iter 03 of 15 :   Retrieving cached table: bestGatesetSpamTable (w/95% CIs)\n",
      "   Iter 04 of 15 :   Retrieving cached table: bestGatesetSpamParametersTable (w/95% CIs)\n",
      "   Iter 05 of 15 :   Retrieving cached table: bestGatesetGatesTable (w/95% CIs)\n",
      "   Iter 06 of 15 :   Retrieving cached table: bestGatesetChoiTable (w/95% CIs)\n",
      "   Iter 07 of 15 :   Retrieving cached table: bestGatesetDecompTable (w/95% CIs)\n",
      "   Iter 08 of 15 :   Retrieving cached table: bestGatesetRotnAxisTable (w/95% CIs)\n",
      "   Iter 09 of 15 :   Retrieving cached table: bestGatesetVsTargetTable (w/95% CIs)\n",
      "   Iter 10 of 15 :   Retrieving cached table: bestGatesetErrorGenTable (w/95% CIs)\n",
      "   Iter 11 of 15 :   Retrieving cached table: fiducialListTable (w/95% CIs)\n",
      "   Iter 12 of 15 :   Retrieving cached table: prepStrListTable (w/95% CIs)\n",
      "   Iter 13 of 15 :   Retrieving cached table: effectStrListTable (w/95% CIs)\n",
      "   Iter 14 of 15 :   Retrieving cached table: germListTable (w/95% CIs)\n",
      "   Iter 15 of 15 :   Retrieving cached table: progressTable (w/95% CIs)\n",
      "  *** Generating plots ***\n",
      "   -- LogL plots (1):    Iter 0 of 0 :   Retrieving cached figure: bestEstimateColorBoxPlot (w/95% CIs)\n",
      "  \n",
      "  *** Assembling PPT file ***\n",
      "  Latexing progressTable table...\n"
     ]
    },
    {
     "ename": "UnicodeDecodeError",
     "evalue": "'utf-8' codec can't decode byte 0x89 in position 0: invalid start byte",
     "output_type": "error",
     "traceback": [
      "\u001b[1;31m---------------------------------------------------------------------------\u001b[0m",
      "\u001b[1;31mUnicodeDecodeError\u001b[0m                        Traceback (most recent call last)",
      "\u001b[1;32m<ipython-input-30-dac62d848da6>\u001b[0m in \u001b[0;36m<module>\u001b[1;34m()\u001b[0m\n\u001b[0;32m      1\u001b[0m \u001b[1;31m#create GST slides (tables and figures of full report in Powerpoint slides; best for folks familiar with GST)\u001b[0m\u001b[1;33m\u001b[0m\u001b[1;33m\u001b[0m\u001b[0m\n\u001b[1;32m----> 2\u001b[1;33m \u001b[0mresults\u001b[0m\u001b[1;33m.\u001b[0m\u001b[0mcreate_presentation_ppt\u001b[0m\u001b[1;33m(\u001b[0m\u001b[0mconfidenceLevel\u001b[0m\u001b[1;33m=\u001b[0m\u001b[1;36m95\u001b[0m\u001b[1;33m,\u001b[0m \u001b[0mfilename\u001b[0m\u001b[1;33m=\u001b[0m\u001b[1;34m\"tutorial_files/easy_slides.pptx\"\u001b[0m\u001b[1;33m,\u001b[0m \u001b[0mverbosity\u001b[0m\u001b[1;33m=\u001b[0m\u001b[1;36m2\u001b[0m\u001b[1;33m)\u001b[0m\u001b[1;33m\u001b[0m\u001b[0m\n\u001b[0m",
      "\u001b[1;32m/home/lsaldyt/pyGSTi/packages/pygsti/report/results.py\u001b[0m in \u001b[0;36mcreate_presentation_ppt\u001b[1;34m(self, confidenceLevel, filename, title, datasetLabel, suffix, debugAidsAppendix, pixelPlotAppendix, whackamoleAppendix, m, M, verbosity, pptTables, comm)\u001b[0m\n\u001b[0;32m   3100\u001b[0m             \u001b[1;31m#body_shape = slide.shapes.placeholders[1]; tf = body_shape.text_frame\u001b[0m\u001b[1;33m\u001b[0m\u001b[1;33m\u001b[0m\u001b[0m\n\u001b[0;32m   3101\u001b[0m             \u001b[0madd_text_list\u001b[0m\u001b[1;33m(\u001b[0m\u001b[0mslide\u001b[0m\u001b[1;33m.\u001b[0m\u001b[0mshapes\u001b[0m\u001b[1;33m,\u001b[0m \u001b[1;36m1\u001b[0m\u001b[1;33m,\u001b[0m \u001b[1;36m2\u001b[0m\u001b[1;33m,\u001b[0m \u001b[1;36m8\u001b[0m\u001b[1;33m,\u001b[0m \u001b[1;36m2\u001b[0m\u001b[1;33m,\u001b[0m \u001b[1;33m[\u001b[0m\u001b[1;34m'Ns is the number of gate strings'\u001b[0m\u001b[1;33m,\u001b[0m \u001b[1;34m'Np is the number of parameters'\u001b[0m\u001b[1;33m]\u001b[0m\u001b[1;33m,\u001b[0m \u001b[1;36m15\u001b[0m\u001b[1;33m)\u001b[0m\u001b[1;33m\u001b[0m\u001b[0m\n\u001b[1;32m-> 3102\u001b[1;33m             \u001b[0mdrawTable\u001b[0m\u001b[1;33m(\u001b[0m\u001b[0mslide\u001b[0m\u001b[1;33m.\u001b[0m\u001b[0mshapes\u001b[0m\u001b[1;33m,\u001b[0m \u001b[1;34m'progressTable'\u001b[0m\u001b[1;33m,\u001b[0m \u001b[1;36m1\u001b[0m\u001b[1;33m,\u001b[0m \u001b[1;36m3\u001b[0m\u001b[1;33m,\u001b[0m \u001b[1;36m8.5\u001b[0m\u001b[1;33m,\u001b[0m \u001b[1;36m4\u001b[0m\u001b[1;33m,\u001b[0m \u001b[0mptSize\u001b[0m\u001b[1;33m=\u001b[0m\u001b[1;36m10\u001b[0m\u001b[1;33m)\u001b[0m\u001b[1;33m\u001b[0m\u001b[0m\n\u001b[0m\u001b[0;32m   3103\u001b[0m \u001b[1;33m\u001b[0m\u001b[0m\n\u001b[0;32m   3104\u001b[0m             \u001b[0mslide\u001b[0m \u001b[1;33m=\u001b[0m \u001b[0madd_slide\u001b[0m\u001b[1;33m(\u001b[0m\u001b[0mSLD_LAYOUT_TITLE_NO_CONTENT\u001b[0m\u001b[1;33m,\u001b[0m \u001b[1;34m\"Detailed %s Analysis\"\u001b[0m \u001b[1;33m%\u001b[0m \u001b[0mplotFnName\u001b[0m\u001b[1;33m)\u001b[0m\u001b[1;33m\u001b[0m\u001b[0m\n",
      "\u001b[1;32m/home/lsaldyt/pyGSTi/packages/pygsti/report/results.py\u001b[0m in \u001b[0;36mdraw_table_latex\u001b[1;34m(shapes, key, left, top, width, height, ptSize)\u001b[0m\n\u001b[0;32m   3040\u001b[0m \u001b[1;33m\u001b[0m\u001b[0m\n\u001b[0;32m   3041\u001b[0m             \u001b[0mpathToImg\u001b[0m \u001b[1;33m=\u001b[0m \u001b[0m_os\u001b[0m\u001b[1;33m.\u001b[0m\u001b[0mpath\u001b[0m\u001b[1;33m.\u001b[0m\u001b[0mjoin\u001b[0m\u001b[1;33m(\u001b[0m\u001b[0mfileDir\u001b[0m\u001b[1;33m,\u001b[0m \u001b[1;34m\"%s.png\"\u001b[0m \u001b[1;33m%\u001b[0m \u001b[0mkey\u001b[0m\u001b[1;33m)\u001b[0m\u001b[1;33m\u001b[0m\u001b[0m\n\u001b[1;32m-> 3042\u001b[1;33m             \u001b[1;32mreturn\u001b[0m \u001b[0mdraw_pic\u001b[0m\u001b[1;33m(\u001b[0m\u001b[0mshapes\u001b[0m\u001b[1;33m,\u001b[0m \u001b[0mpathToImg\u001b[0m\u001b[1;33m,\u001b[0m \u001b[0mleft\u001b[0m\u001b[1;33m,\u001b[0m \u001b[0mtop\u001b[0m\u001b[1;33m,\u001b[0m \u001b[0mwidth\u001b[0m\u001b[1;33m,\u001b[0m \u001b[0mheight\u001b[0m\u001b[1;33m)\u001b[0m\u001b[1;33m\u001b[0m\u001b[0m\n\u001b[0m\u001b[0;32m   3043\u001b[0m \u001b[1;33m\u001b[0m\u001b[0m\n\u001b[0;32m   3044\u001b[0m \u001b[1;33m\u001b[0m\u001b[0m\n",
      "\u001b[1;32m/home/lsaldyt/pyGSTi/packages/pygsti/report/results.py\u001b[0m in \u001b[0;36mdraw_pic\u001b[1;34m(shapes, path, left, top, width, height)\u001b[0m\n\u001b[0;32m   3044\u001b[0m \u001b[1;33m\u001b[0m\u001b[0m\n\u001b[0;32m   3045\u001b[0m         \u001b[1;32mdef\u001b[0m \u001b[0mdraw_pic\u001b[0m\u001b[1;33m(\u001b[0m\u001b[0mshapes\u001b[0m\u001b[1;33m,\u001b[0m \u001b[0mpath\u001b[0m\u001b[1;33m,\u001b[0m \u001b[0mleft\u001b[0m\u001b[1;33m,\u001b[0m \u001b[0mtop\u001b[0m\u001b[1;33m,\u001b[0m \u001b[0mwidth\u001b[0m\u001b[1;33m,\u001b[0m \u001b[0mheight\u001b[0m\u001b[1;33m)\u001b[0m\u001b[1;33m:\u001b[0m\u001b[1;33m\u001b[0m\u001b[0m\n\u001b[1;32m-> 3046\u001b[1;33m             \u001b[0mpxWidth\u001b[0m\u001b[1;33m,\u001b[0m \u001b[0mpxHeight\u001b[0m \u001b[1;33m=\u001b[0m \u001b[0mImage\u001b[0m\u001b[1;33m.\u001b[0m\u001b[0mopen\u001b[0m\u001b[1;33m(\u001b[0m\u001b[0mopen\u001b[0m\u001b[1;33m(\u001b[0m\u001b[0mpath\u001b[0m\u001b[1;33m)\u001b[0m\u001b[1;33m)\u001b[0m\u001b[1;33m.\u001b[0m\u001b[0msize\u001b[0m\u001b[1;33m\u001b[0m\u001b[0m\n\u001b[0m\u001b[0;32m   3047\u001b[0m             \u001b[0mpxAspect\u001b[0m \u001b[1;33m=\u001b[0m \u001b[0mpxWidth\u001b[0m \u001b[1;33m/\u001b[0m \u001b[0mfloat\u001b[0m\u001b[1;33m(\u001b[0m\u001b[0mpxHeight\u001b[0m\u001b[1;33m)\u001b[0m \u001b[1;31m#aspect ratio of image\u001b[0m\u001b[1;33m\u001b[0m\u001b[0m\n\u001b[0;32m   3048\u001b[0m             \u001b[0mmaxAspect\u001b[0m \u001b[1;33m=\u001b[0m \u001b[0mwidth\u001b[0m \u001b[1;33m/\u001b[0m \u001b[0mfloat\u001b[0m\u001b[1;33m(\u001b[0m\u001b[0mheight\u001b[0m\u001b[1;33m)\u001b[0m \u001b[1;31m#aspect ratio of \"max\" box\u001b[0m\u001b[1;33m\u001b[0m\u001b[0m\n",
      "\u001b[1;32m/usr/lib/python3/dist-packages/PIL/Image.py\u001b[0m in \u001b[0;36mopen\u001b[1;34m(fp, mode)\u001b[0m\n\u001b[0;32m   2263\u001b[0m         \u001b[0mfp\u001b[0m \u001b[1;33m=\u001b[0m \u001b[0mio\u001b[0m\u001b[1;33m.\u001b[0m\u001b[0mBytesIO\u001b[0m\u001b[1;33m(\u001b[0m\u001b[0mfp\u001b[0m\u001b[1;33m.\u001b[0m\u001b[0mread\u001b[0m\u001b[1;33m(\u001b[0m\u001b[1;33m)\u001b[0m\u001b[1;33m)\u001b[0m\u001b[1;33m\u001b[0m\u001b[0m\n\u001b[0;32m   2264\u001b[0m \u001b[1;33m\u001b[0m\u001b[0m\n\u001b[1;32m-> 2265\u001b[1;33m     \u001b[0mprefix\u001b[0m \u001b[1;33m=\u001b[0m \u001b[0mfp\u001b[0m\u001b[1;33m.\u001b[0m\u001b[0mread\u001b[0m\u001b[1;33m(\u001b[0m\u001b[1;36m16\u001b[0m\u001b[1;33m)\u001b[0m\u001b[1;33m\u001b[0m\u001b[0m\n\u001b[0m\u001b[0;32m   2266\u001b[0m \u001b[1;33m\u001b[0m\u001b[0m\n\u001b[0;32m   2267\u001b[0m     \u001b[0mpreinit\u001b[0m\u001b[1;33m(\u001b[0m\u001b[1;33m)\u001b[0m\u001b[1;33m\u001b[0m\u001b[0m\n",
      "\u001b[1;32m/usr/lib/python3.5/codecs.py\u001b[0m in \u001b[0;36mdecode\u001b[1;34m(self, input, final)\u001b[0m\n\u001b[0;32m    319\u001b[0m         \u001b[1;31m# decode input (taking the buffer into account)\u001b[0m\u001b[1;33m\u001b[0m\u001b[1;33m\u001b[0m\u001b[0m\n\u001b[0;32m    320\u001b[0m         \u001b[0mdata\u001b[0m \u001b[1;33m=\u001b[0m \u001b[0mself\u001b[0m\u001b[1;33m.\u001b[0m\u001b[0mbuffer\u001b[0m \u001b[1;33m+\u001b[0m \u001b[0minput\u001b[0m\u001b[1;33m\u001b[0m\u001b[0m\n\u001b[1;32m--> 321\u001b[1;33m         \u001b[1;33m(\u001b[0m\u001b[0mresult\u001b[0m\u001b[1;33m,\u001b[0m \u001b[0mconsumed\u001b[0m\u001b[1;33m)\u001b[0m \u001b[1;33m=\u001b[0m \u001b[0mself\u001b[0m\u001b[1;33m.\u001b[0m\u001b[0m_buffer_decode\u001b[0m\u001b[1;33m(\u001b[0m\u001b[0mdata\u001b[0m\u001b[1;33m,\u001b[0m \u001b[0mself\u001b[0m\u001b[1;33m.\u001b[0m\u001b[0merrors\u001b[0m\u001b[1;33m,\u001b[0m \u001b[0mfinal\u001b[0m\u001b[1;33m)\u001b[0m\u001b[1;33m\u001b[0m\u001b[0m\n\u001b[0m\u001b[0;32m    322\u001b[0m         \u001b[1;31m# keep undecoded input until the next call\u001b[0m\u001b[1;33m\u001b[0m\u001b[1;33m\u001b[0m\u001b[0m\n\u001b[0;32m    323\u001b[0m         \u001b[0mself\u001b[0m\u001b[1;33m.\u001b[0m\u001b[0mbuffer\u001b[0m \u001b[1;33m=\u001b[0m \u001b[0mdata\u001b[0m\u001b[1;33m[\u001b[0m\u001b[0mconsumed\u001b[0m\u001b[1;33m:\u001b[0m\u001b[1;33m]\u001b[0m\u001b[1;33m\u001b[0m\u001b[0m\n",
      "\u001b[1;31mUnicodeDecodeError\u001b[0m: 'utf-8' codec can't decode byte 0x89 in position 0: invalid start byte"
     ]
    }
   ],
   "source": [
    "#create GST slides (tables and figures of full report in Powerpoint slides; best for folks familiar with GST)\n",
    "results.create_presentation_ppt(confidenceLevel=95, filename=\"tutorial_files/easy_slides.pptx\", verbosity=2)"
   ]
  },
  {
   "cell_type": "markdown",
   "metadata": {
    "collapsed": true
   },
   "source": [
    "If all has gone well, the above lines have produced the four primary types of reports `pygsti` is capable of generating:\n",
    "- A \"full\" report, [tutorial_files/easy_full.pdf](tutorial_files/easy_full.pdf). This is the most detailed and pedagogical of the reports, and is best for those getting familiar with GST.\n",
    "\n",
    "\n",
    "- A \"brief\" report, [tutorial_files/easy_brief.pdf](tutorial_files/easy_brief.pdf). This Contains just the highlights of the full report but much faster to generate, and is best for folks familiar with GST.\n",
    "\n",
    "\n",
    "- PDF slides, [tutorial_files/easy_slides.pdf](tutorial_files/easy_slides.pdf). These slides contain tables and figures of the full report in LaTeX-generated (via `beamer`) slides, and is best for folks familiar with GST who want to show other people their great results.\n",
    "\n",
    "\n",
    "- PPT slides, [tutorial_files/easy_slides.pptx](tutorial_files/easy_slides.pptx). These slides contain the same information as PDF slides, but in MS Powerpoint format.  These slides won't look as nice as the PDF ones, but can be used for merciless copying and pasting into your other Powerpoint presentations... :)"
   ]
  },
  {
   "cell_type": "markdown",
   "metadata": {},
   "source": [
    "## Speeding things up by using Standard constructions\n",
    "A significant component of running GST as show above is constructing things: the target gateset, the fiducial, germ, and maximum-length lists, etc.  We've found that many people who use GST have one of only a few different target gatesets, and for these commonly used target gatesets we've created modules that perform most of the constructions for you.  If you gateset isn't one of these standard ones then you'll have to follow the above approach for now, but please let us know and we'll try to add a module for your gateset in the future."
   ]
  },
  {
   "cell_type": "markdown",
   "metadata": {},
   "source": [
    "The standard construction modules are located under `pygsti.construction` (surprise, surprise) and are prefixed with \"`std`\".  In the example above, our gateset (comprised of single qubit $I$, X($\\pi/2$), and Y($\\pi/2$) gates) is one of the commonly used gatesets, and relevant constructions are importable via:"
   ]
  },
  {
   "cell_type": "code",
   "execution_count": null,
   "metadata": {
    "collapsed": true
   },
   "outputs": [],
   "source": [
    "#Import the \"stardard 1-qubit quantities for a gateset with X(pi/2), Y(pi/2), and idle gates\"\n",
    "from pygsti.construction import std1Q_XYI"
   ]
  },
  {
   "cell_type": "markdown",
   "metadata": {},
   "source": [
    "We follow the same order of constructing things as above, but it's much easier since almost everything has been constructed already:"
   ]
  },
  {
   "cell_type": "code",
   "execution_count": null,
   "metadata": {
    "collapsed": true
   },
   "outputs": [],
   "source": [
    "gs_target = std1Q_XYI.gs_target\n",
    "fiducials = std1Q_XYI.fiducials\n",
    "germs = std1Q_XYI.germs\n",
    "maxLengths = [0,1,2,4,8,16,32] #still need to define this manually"
   ]
  },
  {
   "cell_type": "markdown",
   "metadata": {},
   "source": [
    "We generate a fake dataset as before:"
   ]
  },
  {
   "cell_type": "code",
   "execution_count": null,
   "metadata": {
    "collapsed": false
   },
   "outputs": [],
   "source": [
    "gs_datagen = gs_target.depolarize(gate_noise=0.1, spam_noise=0.001)\n",
    "listOfExperiments = pygsti.construction.make_lsgst_experiment_list(gs_target.gates.keys(), fiducials, fiducials, germs, maxLengths)\n",
    "ds = pygsti.construction.generate_fake_data(gs_datagen, listOfExperiments, nSamples=1000000,\n",
    "                                            sampleError=\"binomial\", seed=1234)"
   ]
  },
  {
   "cell_type": "markdown",
   "metadata": {},
   "source": [
    "And run the analysis function (this time using the dataset object directly instead of loading from a file), and then create a report in the specified file."
   ]
  },
  {
   "cell_type": "code",
   "execution_count": null,
   "metadata": {
    "collapsed": false,
    "scrolled": true
   },
   "outputs": [],
   "source": [
    "results = pygsti.do_long_sequence_gst(ds, gs_target, fiducials, fiducials, germs, maxLengths)\n",
    "results.create_full_report_pdf(confidenceLevel=95,filename=\"tutorial_files/MyEvenEasierReport.pdf\",verbosity=2)"
   ]
  },
  {
   "cell_type": "markdown",
   "metadata": {
    "collapsed": true
   },
   "source": [
    "Now open [tutorial_files/MyEvenEasierReport.pdf](tutorial_files/MyEvenEasierReport.pdf) to see the results.  You've just run GST (again)!"
   ]
  },
  {
   "cell_type": "code",
   "execution_count": null,
   "metadata": {
    "collapsed": false,
    "scrolled": true
   },
   "outputs": [],
   "source": [
    "# Printing a Results object gives you information about how to extract information from it\n",
    "print(results)"
   ]
  }
 ],
 "metadata": {
  "kernelspec": {
   "display_name": "Python 3",
   "language": "python",
   "name": "python3"
  },
  "language_info": {
   "codemirror_mode": {
    "name": "ipython",
    "version": 3
   },
   "file_extension": ".py",
   "mimetype": "text/x-python",
   "name": "python",
   "nbconvert_exporter": "python",
   "pygments_lexer": "ipython3",
   "version": "3.5.1+"
  }
 },
 "nbformat": 4,
 "nbformat_minor": 0
}
