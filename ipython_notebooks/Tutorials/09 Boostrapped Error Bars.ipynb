{
 "cells": [
  {
   "cell_type": "markdown",
   "metadata": {},
   "source": [
    "###Note: this tutorial needs updating and has not been recently tested for basic functionality: use at own risk"
   ]
  },
  {
   "cell_type": "code",
   "execution_count": 1,
   "metadata": {
    "collapsed": false
   },
   "outputs": [
    {
     "name": "stdout",
     "output_type": "stream",
     "text": [
      "Populating the interactive namespace from numpy and matplotlib\n"
     ]
    }
   ],
   "source": [
    "import os\n",
    "import sys\n",
    "import time\n",
    "import json\n",
    "\n",
    "import pygsti\n",
    "\n",
    "%pylab inline"
   ]
  },
  {
   "cell_type": "code",
   "execution_count": 2,
   "metadata": {
    "collapsed": false
   },
   "outputs": [
    {
     "name": "stdout",
     "output_type": "stream",
     "text": [
      "Loading from cache file:  tutorial_files/Example_Dataset.txt.cache\n"
     ]
    }
   ],
   "source": [
    "#Load example quantities from files\n",
    "gs_target = pygsti.io.load_gateset(\"tutorial_files/Example_Gateset.txt\")\n",
    "gs_mc2gst = pygsti.io.load_gateset(\"tutorial_files/Example_MC2GST_Gateset.txt\")\n",
    "\n",
    "ds = pygsti.io.load_dataset(\"tutorial_files/Example_Dataset.txt\", cache=True)\n",
    "\n",
    "fiducials = pygsti.io.load_gatestring_list(\"tutorial_files/Example_FiducialList.txt\")\n",
    "germs = pygsti.io.load_gatestring_list(\"tutorial_files/Example_GermsList.txt\")\n",
    "maxLengths = json.load(open(\"tutorial_files/Example_maxLengths.json\",\"r\"))\n",
    "\n",
    "specs = pygsti.construction.build_spam_specs(fiducials)"
   ]
  },
  {
   "cell_type": "markdown",
   "metadata": {},
   "source": [
    "##Parametric Bootstrapping\n",
    "Here we do parametric bootstrapping, as indicated by the 'parametric' argument below.\n",
    "The output is eventually stored in the \"mean\" and \"std\" GateSets, which hold the mean and standard deviation values of the set of bootstrapped gatesets (after gauge optimization).  It is this latter \"standard deviation Gateset\"\n",
    "which holds the collection of error bars.  Note: due to print setting issues, the outputs that are printed here will not necessarily reflect the true accuracy of the estimates made.\n"
   ]
  },
  {
   "cell_type": "code",
   "execution_count": 3,
   "metadata": {
    "collapsed": false,
    "scrolled": true
   },
   "outputs": [
    {
     "name": "stdout",
     "output_type": "stream",
     "text": [
      "Creating DataSets: \n",
      "0  Generating parametric dataset.\n",
      "1 "
     ]
    },
    {
     "name": "stdout",
     "output_type": "stream",
     "text": [
      " Generating parametric dataset.\n",
      "2 "
     ]
    },
    {
     "name": "stdout",
     "output_type": "stream",
     "text": [
      " Generating parametric dataset.\n",
      "3 "
     ]
    },
    {
     "name": "stdout",
     "output_type": "stream",
     "text": [
      " Generating parametric dataset.\n",
      "4 "
     ]
    },
    {
     "name": "stdout",
     "output_type": "stream",
     "text": [
      " Generating parametric dataset.\n",
      "5 "
     ]
    },
    {
     "name": "stdout",
     "output_type": "stream",
     "text": [
      " Generating parametric dataset.\n",
      "6 "
     ]
    },
    {
     "name": "stdout",
     "output_type": "stream",
     "text": [
      " Generating parametric dataset.\n",
      "7 "
     ]
    },
    {
     "name": "stdout",
     "output_type": "stream",
     "text": [
      " Generating parametric dataset.\n",
      "8 "
     ]
    },
    {
     "name": "stdout",
     "output_type": "stream",
     "text": [
      " Generating parametric dataset.\n",
      "9 "
     ]
    },
    {
     "name": "stdout",
     "output_type": "stream",
     "text": [
      " Generating parametric dataset.\n",
      "Creating GateSets: "
     ]
    },
    {
     "name": "stdout",
     "output_type": "stream",
     "text": [
      "\n",
      "Running MLGST Iteration 0 \n",
      "LGST: Singular values of I_tilde (truncating to first 4 of 6) = \n"
     ]
    },
    {
     "name": "stdout",
     "output_type": "stream",
     "text": [
      "[ 4.24399943  1.19629492  0.97623586  0.92030527  0.08057032  0.0144033 ]\n",
      "\n",
      "--- LGST ---\n"
     ]
    },
    {
     "name": "stdout",
     "output_type": "stream",
     "text": [
      "\n",
      "--- Iterative MLGST: Beginning iter 1 of 10 : 92 gate strings ---\n"
     ]
    },
    {
     "name": "stdout",
     "output_type": "stream",
     "text": [
      "--- Least Squares GST ---\n",
      "  Sum of Chi^2 = 62.2372 (92 data params - 40 model params = expected mean of 52; p-value = 0.156475)"
     ]
    },
    {
     "name": "stdout",
     "output_type": "stream",
     "text": [
      "\n",
      "    2*Delta(log(L)) = 62.4545\n",
      "\n",
      "--- Iterative MLGST: Beginning iter 2 of 10 : 92 gate strings ---\n"
     ]
    },
    {
     "name": "stdout",
     "output_type": "stream",
     "text": [
      "--- Least Squares GST ---\n",
      "  Sum of Chi^2 = 62.2372 (92 data params - 40 model params = expected mean of 52; p-value = 0.156475)"
     ]
    },
    {
     "name": "stdout",
     "output_type": "stream",
     "text": [
      "\n",
      "    2*Delta(log(L)) = 62.4545\n",
      "\n",
      "--- Iterative MLGST: Beginning iter 3 of 10 : 168 gate strings ---\n"
     ]
    },
    {
     "name": "stdout",
     "output_type": "stream",
     "text": [
      "--- Least Squares GST ---\n",
      "  Sum of Chi^2 = 141.782 (168 data params - 40 model params = expected mean of 128; p-value = 0.191176)"
     ]
    },
    {
     "name": "stdout",
     "output_type": "stream",
     "text": [
      "\n",
      "    2*Delta(log(L)) = 142.414\n",
      "\n",
      "--- Iterative MLGST: Beginning iter 4 of 10 : 441 gate strings ---\n"
     ]
    },
    {
     "name": "stdout",
     "output_type": "stream",
     "text": [
      "--- Least Squares GST ---\n",
      "  Sum of Chi^2 = 421.161 (441 data params - 40 model params = expected mean of 401; p-value = 0.23461)"
     ]
    },
    {
     "name": "stdout",
     "output_type": "stream",
     "text": [
      "\n",
      "    2*Delta(log(L)) = 421.408\n",
      "\n",
      "--- Iterative MLGST: Beginning iter 5 of 10 : 817 gate strings ---\n"
     ]
    },
    {
     "name": "stdout",
     "output_type": "stream",
     "text": [
      "--- Least Squares GST ---\n",
      "  Sum of Chi^2 = 826.096 (817 data params - 40 model params = expected mean of 777; p-value = 0.108052)"
     ]
    },
    {
     "name": "stdout",
     "output_type": "stream",
     "text": [
      "\n",
      "    2*Delta(log(L)) = 827.179\n",
      "\n",
      "--- Iterative MLGST: Beginning iter 6 of 10 : 1201 gate strings ---\n"
     ]
    },
    {
     "name": "stdout",
     "output_type": "stream",
     "text": [
      "--- Least Squares GST ---\n",
      "  Sum of Chi^2 = 1193.03 (1201 data params - 40 model params = expected mean of 1161; p-value = 0.250663)"
     ]
    },
    {
     "name": "stdout",
     "output_type": "stream",
     "text": [
      "\n",
      "    2*Delta(log(L)) = 1194.42\n",
      "\n",
      "--- Iterative MLGST: Beginning iter 7 of 10 : 1585 gate strings ---\n"
     ]
    },
    {
     "name": "stdout",
     "output_type": "stream",
     "text": [
      "--- Least Squares GST ---\n",
      "  Sum of Chi^2 = 1545.27 (1585 data params - 40 model params = expected mean of 1545; p-value = 0.493293)"
     ]
    },
    {
     "name": "stdout",
     "output_type": "stream",
     "text": [
      "\n",
      "    2*Delta(log(L)) = 1546.89"
     ]
    },
    {
     "name": "stdout",
     "output_type": "stream",
     "text": [
      "\n",
      "\n",
      "--- Iterative MLGST: Beginning iter 8 of 10 : 1969 gate strings ---\n"
     ]
    },
    {
     "name": "stdout",
     "output_type": "stream",
     "text": [
      "--- Least Squares GST ---\n",
      "  Sum of Chi^2 = 1919.76 (1969 data params - 40 model params = expected mean of 1929; p-value = 0.554968)"
     ]
    },
    {
     "name": "stdout",
     "output_type": "stream",
     "text": [
      "\n",
      "    2*Delta(log(L)) = 1921.79"
     ]
    },
    {
     "name": "stdout",
     "output_type": "stream",
     "text": [
      "\n",
      "\n",
      "--- Iterative MLGST: Beginning iter 9 of 10 : 2353 gate strings ---\n"
     ]
    },
    {
     "name": "stdout",
     "output_type": "stream",
     "text": [
      "--- Least Squares GST ---\n",
      "  Sum of Chi^2 = 2257.72 (2353 data params - 40 model params = expected mean of 2313; p-value = 0.79088)"
     ]
    },
    {
     "name": "stdout",
     "output_type": "stream",
     "text": [
      "\n",
      "    2*Delta(log(L)) = 2260.01"
     ]
    },
    {
     "name": "stdout",
     "output_type": "stream",
     "text": [
      "\n",
      "\n",
      "--- Iterative MLGST: Beginning iter 10 of 10 : 2737 gate strings ---\n"
     ]
    },
    {
     "name": "stdout",
     "output_type": "stream",
     "text": [
      "--- Least Squares GST ---\n",
      "  Sum of Chi^2 = 2610.16 (2737 data params - 40 model params = expected mean of 2697; p-value = 0.882238)"
     ]
    },
    {
     "name": "stdout",
     "output_type": "stream",
     "text": [
      "\n",
      "    2*Delta(log(L)) = 2612.78"
     ]
    },
    {
     "name": "stdout",
     "output_type": "stream",
     "text": [
      "\n",
      "--- Last Iteration: switching to ML objective ---\n",
      "--- MLGST ---\n",
      "  Maximum log(L) = 1306.02 below upper bound of -4.60018e+06"
     ]
    },
    {
     "name": "stdout",
     "output_type": "stream",
     "text": [
      "\n",
      "    2*Delta(log(L)) = 2612.05 (2737 data params - 40 model params = expected mean of 2697; p-value = 0.876969)\n",
      "    2*Delta(log(L)) = 2612.05\n",
      "Running MLGST Iteration 1 "
     ]
    },
    {
     "name": "stdout",
     "output_type": "stream",
     "text": [
      "\n",
      "LGST: Singular values of I_tilde (truncating to first 4 of 6) = \n"
     ]
    },
    {
     "name": "stdout",
     "output_type": "stream",
     "text": [
      "[ 4.2441974   1.161996    0.96177929  0.91832997  0.04979071  0.01229734]\n",
      "\n",
      "--- LGST ---\n"
     ]
    },
    {
     "name": "stdout",
     "output_type": "stream",
     "text": [
      "\n",
      "--- Iterative MLGST: Beginning iter 1 of 10 : 92 gate strings ---\n"
     ]
    },
    {
     "name": "stdout",
     "output_type": "stream",
     "text": [
      "--- Least Squares GST ---\n",
      "  Sum of Chi^2 = 54.5806 (92 data params - 40 model params = expected mean of 52; p-value = 0.376705)"
     ]
    },
    {
     "name": "stdout",
     "output_type": "stream",
     "text": [
      "\n",
      "    2*Delta(log(L)) = 54.9756\n",
      "\n",
      "--- Iterative MLGST: Beginning iter 2 of 10 : 92 gate strings ---\n"
     ]
    },
    {
     "name": "stdout",
     "output_type": "stream",
     "text": [
      "--- Least Squares GST ---\n",
      "  Sum of Chi^2 = 54.5806 (92 data params - 40 model params = expected mean of 52; p-value = 0.376705)"
     ]
    },
    {
     "name": "stdout",
     "output_type": "stream",
     "text": [
      "\n",
      "    2*Delta(log(L)) = 54.9756\n",
      "\n",
      "--- Iterative MLGST: Beginning iter 3 of 10 : 168 gate strings ---\n"
     ]
    },
    {
     "name": "stdout",
     "output_type": "stream",
     "text": [
      "--- Least Squares GST ---\n",
      "  Sum of Chi^2 = 129.411 (168 data params - 40 model params = expected mean of 128; p-value = 0.448486)"
     ]
    },
    {
     "name": "stdout",
     "output_type": "stream",
     "text": [
      "\n",
      "    2*Delta(log(L)) = 129.959\n",
      "\n",
      "--- Iterative MLGST: Beginning iter 4 of 10 : 441 gate strings ---\n"
     ]
    },
    {
     "name": "stdout",
     "output_type": "stream",
     "text": [
      "--- Least Squares GST ---\n",
      "  Sum of Chi^2 = 416.667 (441 data params - 40 model params = expected mean of 401; p-value = 0.284462)"
     ]
    },
    {
     "name": "stdout",
     "output_type": "stream",
     "text": [
      "\n",
      "    2*Delta(log(L)) = 417.288\n",
      "\n",
      "--- Iterative MLGST: Beginning iter 5 of 10 : 817 gate strings ---\n"
     ]
    },
    {
     "name": "stdout",
     "output_type": "stream",
     "text": [
      "--- Least Squares GST ---\n",
      "  Sum of Chi^2 = 825.778 (817 data params - 40 model params = expected mean of 777; p-value = 0.109497)"
     ]
    },
    {
     "name": "stdout",
     "output_type": "stream",
     "text": [
      "\n",
      "    2*Delta(log(L)) = 826.753\n",
      "\n",
      "--- Iterative MLGST: Beginning iter 6 of 10 : 1201 gate strings ---\n"
     ]
    },
    {
     "name": "stdout",
     "output_type": "stream",
     "text": [
      "--- Least Squares GST ---\n",
      "  Sum of Chi^2 = 1197.49 (1201 data params - 40 model params = expected mean of 1161; p-value = 0.222683)"
     ]
    },
    {
     "name": "stdout",
     "output_type": "stream",
     "text": [
      "\n",
      "    2*Delta(log(L)) = 1198.68\n",
      "\n",
      "--- Iterative MLGST: Beginning iter 7 of 10 : 1585 gate strings ---\n"
     ]
    },
    {
     "name": "stdout",
     "output_type": "stream",
     "text": [
      "--- Least Squares GST ---\n",
      "  Sum of Chi^2 = 1529.57 (1585 data params - 40 model params = expected mean of 1545; p-value = 0.605081)"
     ]
    },
    {
     "name": "stdout",
     "output_type": "stream",
     "text": [
      "\n",
      "    2*Delta(log(L)) = 1530.99"
     ]
    },
    {
     "name": "stdout",
     "output_type": "stream",
     "text": [
      "\n",
      "\n",
      "--- Iterative MLGST: Beginning iter 8 of 10 : 1969 gate strings ---\n"
     ]
    },
    {
     "name": "stdout",
     "output_type": "stream",
     "text": [
      "--- Least Squares GST ---\n",
      "  Sum of Chi^2 = 1880.81 (1969 data params - 40 model params = expected mean of 1929; p-value = 0.779826)"
     ]
    },
    {
     "name": "stdout",
     "output_type": "stream",
     "text": [
      "\n",
      "    2*Delta(log(L)) = 1882.6"
     ]
    },
    {
     "name": "stdout",
     "output_type": "stream",
     "text": [
      "\n",
      "\n",
      "--- Iterative MLGST: Beginning iter 9 of 10 : 2353 gate strings ---\n"
     ]
    },
    {
     "name": "stdout",
     "output_type": "stream",
     "text": [
      "--- Least Squares GST ---\n",
      "  Sum of Chi^2 = 2264.91 (2353 data params - 40 model params = expected mean of 2313; p-value = 0.758699)"
     ]
    },
    {
     "name": "stdout",
     "output_type": "stream",
     "text": [
      "\n",
      "    2*Delta(log(L)) = 2267.08"
     ]
    },
    {
     "name": "stdout",
     "output_type": "stream",
     "text": [
      "\n",
      "\n",
      "--- Iterative MLGST: Beginning iter 10 of 10 : 2737 gate strings ---\n"
     ]
    },
    {
     "name": "stdout",
     "output_type": "stream",
     "text": [
      "--- Least Squares GST ---\n",
      "  Sum of Chi^2 = 2671.69 (2737 data params - 40 model params = expected mean of 2697; p-value = 0.631821)"
     ]
    },
    {
     "name": "stdout",
     "output_type": "stream",
     "text": [
      "\n",
      "    2*Delta(log(L)) = 2674.28"
     ]
    },
    {
     "name": "stdout",
     "output_type": "stream",
     "text": [
      "\n",
      "--- Last Iteration: switching to ML objective ---\n",
      "--- MLGST ---\n",
      "  Maximum log(L) = 1336.83 below upper bound of -4.60046e+06"
     ]
    },
    {
     "name": "stdout",
     "output_type": "stream",
     "text": [
      "\n",
      "    2*Delta(log(L)) = 2673.65 (2737 data params - 40 model params = expected mean of 2697; p-value = 0.621627)\n",
      "    2*Delta(log(L)) = 2673.65\n",
      "Running MLGST Iteration 2 "
     ]
    },
    {
     "name": "stdout",
     "output_type": "stream",
     "text": [
      "\n",
      "LGST: Singular values of I_tilde (truncating to first 4 of 6) = \n"
     ]
    },
    {
     "name": "stdout",
     "output_type": "stream",
     "text": [
      "[ 4.2447068   1.15303257  0.95862174  0.91318099  0.05005586  0.01926951]\n",
      "\n",
      "--- LGST ---\n"
     ]
    },
    {
     "name": "stdout",
     "output_type": "stream",
     "text": [
      "\n",
      "--- Iterative MLGST: Beginning iter 1 of 10 : 92 gate strings ---\n"
     ]
    },
    {
     "name": "stdout",
     "output_type": "stream",
     "text": [
      "--- Least Squares GST ---\n",
      "  Sum of Chi^2 = 54.426 (92 data params - 40 model params = expected mean of 52; p-value = 0.382291)"
     ]
    },
    {
     "name": "stdout",
     "output_type": "stream",
     "text": [
      "\n",
      "    2*Delta(log(L)) = 54.4204\n",
      "\n",
      "--- Iterative MLGST: Beginning iter 2 of 10 : 92 gate strings ---\n"
     ]
    },
    {
     "name": "stdout",
     "output_type": "stream",
     "text": [
      "--- Least Squares GST ---\n",
      "  Sum of Chi^2 = 54.426 (92 data params - 40 model params = expected mean of 52; p-value = 0.382291)"
     ]
    },
    {
     "name": "stdout",
     "output_type": "stream",
     "text": [
      "\n",
      "    2*Delta(log(L)) = 54.4204\n",
      "\n",
      "--- Iterative MLGST: Beginning iter 3 of 10 : 168 gate strings ---\n"
     ]
    },
    {
     "name": "stdout",
     "output_type": "stream",
     "text": [
      "--- Least Squares GST ---\n",
      "  Sum of Chi^2 = 119.222 (168 data params - 40 model params = expected mean of 128; p-value = 0.698393)"
     ]
    },
    {
     "name": "stdout",
     "output_type": "stream",
     "text": [
      "\n",
      "    2*Delta(log(L)) = 119.563\n",
      "\n",
      "--- Iterative MLGST: Beginning iter 4 of 10 : 441 gate strings ---\n"
     ]
    },
    {
     "name": "stdout",
     "output_type": "stream",
     "text": [
      "--- Least Squares GST ---\n",
      "  Sum of Chi^2 = 428.046 (441 data params - 40 model params = expected mean of 401; p-value = 0.169083)"
     ]
    },
    {
     "name": "stdout",
     "output_type": "stream",
     "text": [
      "\n",
      "    2*Delta(log(L)) = 429.165\n",
      "\n",
      "--- Iterative MLGST: Beginning iter 5 of 10 : 817 gate strings ---\n"
     ]
    },
    {
     "name": "stdout",
     "output_type": "stream",
     "text": [
      "--- Least Squares GST ---\n",
      "  Sum of Chi^2 = 824.219 (817 data params - 40 model params = expected mean of 777; p-value = 0.116786)"
     ]
    },
    {
     "name": "stdout",
     "output_type": "stream",
     "text": [
      "\n",
      "    2*Delta(log(L)) = 825.803\n",
      "\n",
      "--- Iterative MLGST: Beginning iter 6 of 10 : 1201 gate strings ---\n"
     ]
    },
    {
     "name": "stdout",
     "output_type": "stream",
     "text": [
      "--- Least Squares GST ---\n",
      "  Sum of Chi^2 = 1218.08 (1201 data params - 40 model params = expected mean of 1161; p-value = 0.119126)"
     ]
    },
    {
     "name": "stdout",
     "output_type": "stream",
     "text": [
      "\n",
      "    2*Delta(log(L)) = 1220.22\n",
      "\n",
      "--- Iterative MLGST: Beginning iter 7 of 10 : 1585 gate strings ---\n"
     ]
    },
    {
     "name": "stdout",
     "output_type": "stream",
     "text": [
      "--- Least Squares GST ---\n",
      "  Sum of Chi^2 = 1601.41 (1585 data params - 40 model params = expected mean of 1545; p-value = 0.155136)"
     ]
    },
    {
     "name": "stdout",
     "output_type": "stream",
     "text": [
      "\n",
      "    2*Delta(log(L)) = 1603.86"
     ]
    },
    {
     "name": "stdout",
     "output_type": "stream",
     "text": [
      "\n",
      "\n",
      "--- Iterative MLGST: Beginning iter 8 of 10 : 1969 gate strings ---\n"
     ]
    },
    {
     "name": "stdout",
     "output_type": "stream",
     "text": [
      "--- Least Squares GST ---\n",
      "  Sum of Chi^2 = 2006.42 (1969 data params - 40 model params = expected mean of 1929; p-value = 0.107324)"
     ]
    },
    {
     "name": "stdout",
     "output_type": "stream",
     "text": [
      "\n",
      "    2*Delta(log(L)) = 2009.28"
     ]
    },
    {
     "name": "stdout",
     "output_type": "stream",
     "text": [
      "\n",
      "\n",
      "--- Iterative MLGST: Beginning iter 9 of 10 : 2353 gate strings ---\n"
     ]
    },
    {
     "name": "stdout",
     "output_type": "stream",
     "text": [
      "--- Least Squares GST ---\n",
      "  Sum of Chi^2 = 2421.38 (2353 data params - 40 model params = expected mean of 2313; p-value = 0.0571736)"
     ]
    },
    {
     "name": "stdout",
     "output_type": "stream",
     "text": [
      "\n",
      "    2*Delta(log(L)) = 2424.68"
     ]
    },
    {
     "name": "stdout",
     "output_type": "stream",
     "text": [
      "\n",
      "\n",
      "--- Iterative MLGST: Beginning iter 10 of 10 : 2737 gate strings ---\n"
     ]
    },
    {
     "name": "stdout",
     "output_type": "stream",
     "text": [
      "--- Least Squares GST ---\n",
      "  Sum of Chi^2 = 2755.64 (2737 data params - 40 model params = expected mean of 2697; p-value = 0.211325)"
     ]
    },
    {
     "name": "stdout",
     "output_type": "stream",
     "text": [
      "\n",
      "    2*Delta(log(L)) = 2759.22"
     ]
    },
    {
     "name": "stdout",
     "output_type": "stream",
     "text": [
      "\n",
      "--- Last Iteration: switching to ML objective ---\n",
      "--- MLGST ---\n",
      "  Maximum log(L) = 1379.23 below upper bound of -4.60045e+06"
     ]
    },
    {
     "name": "stdout",
     "output_type": "stream",
     "text": [
      "\n",
      "    2*Delta(log(L)) = 2758.46 (2737 data params - 40 model params = expected mean of 2697; p-value = 0.200573)\n",
      "    2*Delta(log(L)) = 2758.46\n",
      "Running MLGST Iteration 3 "
     ]
    },
    {
     "name": "stdout",
     "output_type": "stream",
     "text": [
      "\n",
      "LGST: Singular values of I_tilde (truncating to first 4 of 6) = \n"
     ]
    },
    {
     "name": "stdout",
     "output_type": "stream",
     "text": [
      "[ 4.24411928  1.21156472  0.97401696  0.93833033  0.04794161  0.04410483]\n",
      "\n",
      "--- LGST ---\n"
     ]
    },
    {
     "name": "stdout",
     "output_type": "stream",
     "text": [
      "\n",
      "--- Iterative MLGST: Beginning iter 1 of 10 : 92 gate strings ---\n"
     ]
    },
    {
     "name": "stdout",
     "output_type": "stream",
     "text": [
      "--- Least Squares GST ---\n",
      "  Sum of Chi^2 = 67.3633 (92 data params - 40 model params = expected mean of 52; p-value = 0.0744593)"
     ]
    },
    {
     "name": "stdout",
     "output_type": "stream",
     "text": [
      "\n",
      "    2*Delta(log(L)) = 67.9753\n",
      "\n",
      "--- Iterative MLGST: Beginning iter 2 of 10 : 92 gate strings ---\n"
     ]
    },
    {
     "name": "stdout",
     "output_type": "stream",
     "text": [
      "--- Least Squares GST ---\n",
      "  Sum of Chi^2 = 67.3632 (92 data params - 40 model params = expected mean of 52; p-value = 0.0744599)"
     ]
    },
    {
     "name": "stdout",
     "output_type": "stream",
     "text": [
      "\n",
      "    2*Delta(log(L)) = 67.9758\n",
      "\n",
      "--- Iterative MLGST: Beginning iter 3 of 10 : 168 gate strings ---\n"
     ]
    },
    {
     "name": "stdout",
     "output_type": "stream",
     "text": [
      "--- Least Squares GST ---\n",
      "  Sum of Chi^2 = 137.423 (168 data params - 40 model params = expected mean of 128; p-value = 0.268784)"
     ]
    },
    {
     "name": "stdout",
     "output_type": "stream",
     "text": [
      "\n",
      "    2*Delta(log(L)) = 138.23\n",
      "\n",
      "--- Iterative MLGST: Beginning iter 4 of 10 : 441 gate strings ---\n"
     ]
    },
    {
     "name": "stdout",
     "output_type": "stream",
     "text": [
      "--- Least Squares GST ---\n",
      "  Sum of Chi^2 = 405.859 (441 data params - 40 model params = expected mean of 401; p-value = 0.422923)"
     ]
    },
    {
     "name": "stdout",
     "output_type": "stream",
     "text": [
      "\n",
      "    2*Delta(log(L)) = 406.835\n",
      "\n",
      "--- Iterative MLGST: Beginning iter 5 of 10 : 817 gate strings ---\n"
     ]
    },
    {
     "name": "stdout",
     "output_type": "stream",
     "text": [
      "--- Least Squares GST ---\n",
      "  Sum of Chi^2 = 775.42 (817 data params - 40 model params = expected mean of 777; p-value = 0.509249)"
     ]
    },
    {
     "name": "stdout",
     "output_type": "stream",
     "text": [
      "\n",
      "    2*Delta(log(L)) = 776.615\n",
      "\n",
      "--- Iterative MLGST: Beginning iter 6 of 10 : 1201 gate strings ---\n"
     ]
    },
    {
     "name": "stdout",
     "output_type": "stream",
     "text": [
      "--- Least Squares GST ---\n",
      "  Sum of Chi^2 = 1121.57 (1201 data params - 40 model params = expected mean of 1161; p-value = 0.792146)"
     ]
    },
    {
     "name": "stdout",
     "output_type": "stream",
     "text": [
      "\n",
      "    2*Delta(log(L)) = 1123.15\n",
      "\n",
      "--- Iterative MLGST: Beginning iter 7 of 10 : 1585 gate strings ---\n"
     ]
    },
    {
     "name": "stdout",
     "output_type": "stream",
     "text": [
      "--- Least Squares GST ---\n",
      "  Sum of Chi^2 = 1522.23 (1585 data params - 40 model params = expected mean of 1545; p-value = 0.655269)"
     ]
    },
    {
     "name": "stdout",
     "output_type": "stream",
     "text": [
      "\n",
      "    2*Delta(log(L)) = 1524.3"
     ]
    },
    {
     "name": "stdout",
     "output_type": "stream",
     "text": [
      "\n",
      "\n",
      "--- Iterative MLGST: Beginning iter 8 of 10 : 1969 gate strings ---\n"
     ]
    },
    {
     "name": "stdout",
     "output_type": "stream",
     "text": [
      "--- Least Squares GST ---\n",
      "  Sum of Chi^2 = 1925.36 (1969 data params - 40 model params = expected mean of 1929; p-value = 0.519114)"
     ]
    },
    {
     "name": "stdout",
     "output_type": "stream",
     "text": [
      "\n",
      "    2*Delta(log(L)) = 1927.84"
     ]
    },
    {
     "name": "stdout",
     "output_type": "stream",
     "text": [
      "\n",
      "\n",
      "--- Iterative MLGST: Beginning iter 9 of 10 : 2353 gate strings ---\n"
     ]
    },
    {
     "name": "stdout",
     "output_type": "stream",
     "text": [
      "--- Least Squares GST ---\n",
      "  Sum of Chi^2 = 2298.93 (2353 data params - 40 model params = expected mean of 2313; p-value = 0.578257)"
     ]
    },
    {
     "name": "stdout",
     "output_type": "stream",
     "text": [
      "\n",
      "    2*Delta(log(L)) = 2301.73"
     ]
    },
    {
     "name": "stdout",
     "output_type": "stream",
     "text": [
      "\n",
      "\n",
      "--- Iterative MLGST: Beginning iter 10 of 10 : 2737 gate strings ---\n"
     ]
    },
    {
     "name": "stdout",
     "output_type": "stream",
     "text": [
      "--- Least Squares GST ---\n",
      "  Sum of Chi^2 = 2686.16 (2737 data params - 40 model params = expected mean of 2697; p-value = 0.555185)"
     ]
    },
    {
     "name": "stdout",
     "output_type": "stream",
     "text": [
      "\n",
      "    2*Delta(log(L)) = 2689.36"
     ]
    },
    {
     "name": "stdout",
     "output_type": "stream",
     "text": [
      "\n",
      "--- Last Iteration: switching to ML objective ---\n",
      "--- MLGST ---\n",
      "  Maximum log(L) = 1344.33 below upper bound of -4.6003e+06"
     ]
    },
    {
     "name": "stdout",
     "output_type": "stream",
     "text": [
      "\n",
      "    2*Delta(log(L)) = 2688.65 (2737 data params - 40 model params = expected mean of 2697; p-value = 0.541679)\n",
      "    2*Delta(log(L)) = 2688.65\n",
      "Running MLGST Iteration 4 "
     ]
    },
    {
     "name": "stdout",
     "output_type": "stream",
     "text": [
      "\n",
      "LGST: Singular values of I_tilde (truncating to first 4 of 6) = \n"
     ]
    },
    {
     "name": "stdout",
     "output_type": "stream",
     "text": [
      "[ 4.24451525  1.16446563  0.99274825  0.87719774  0.03193878  0.01584491]\n",
      "\n",
      "--- LGST ---\n"
     ]
    },
    {
     "name": "stdout",
     "output_type": "stream",
     "text": [
      "\n",
      "--- Iterative MLGST: Beginning iter 1 of 10 : 92 gate strings ---\n"
     ]
    },
    {
     "name": "stdout",
     "output_type": "stream",
     "text": [
      "--- Least Squares GST ---\n",
      "  Sum of Chi^2 = 67.1484 (92 data params - 40 model params = expected mean of 52; p-value = 0.0769922)"
     ]
    },
    {
     "name": "stdout",
     "output_type": "stream",
     "text": [
      "\n",
      "    2*Delta(log(L)) = 67.4169\n",
      "\n",
      "--- Iterative MLGST: Beginning iter 2 of 10 : 92 gate strings ---\n"
     ]
    },
    {
     "name": "stdout",
     "output_type": "stream",
     "text": [
      "--- Least Squares GST ---\n",
      "  Sum of Chi^2 = 67.1484 (92 data params - 40 model params = expected mean of 52; p-value = 0.0769922)"
     ]
    },
    {
     "name": "stdout",
     "output_type": "stream",
     "text": [
      "\n",
      "    2*Delta(log(L)) = 67.4169\n",
      "\n",
      "--- Iterative MLGST: Beginning iter 3 of 10 : 168 gate strings ---\n"
     ]
    },
    {
     "name": "stdout",
     "output_type": "stream",
     "text": [
      "--- Least Squares GST ---\n",
      "  Sum of Chi^2 = 155.834 (168 data params - 40 model params = expected mean of 128; p-value = 0.0476157)"
     ]
    },
    {
     "name": "stdout",
     "output_type": "stream",
     "text": [
      "\n",
      "    2*Delta(log(L)) = 156.16\n",
      "\n",
      "--- Iterative MLGST: Beginning iter 4 of 10 : 441 gate strings ---\n"
     ]
    },
    {
     "name": "stdout",
     "output_type": "stream",
     "text": [
      "--- Least Squares GST ---\n",
      "  Sum of Chi^2 = 431.42 (441 data params - 40 model params = expected mean of 401; p-value = 0.141962)"
     ]
    },
    {
     "name": "stdout",
     "output_type": "stream",
     "text": [
      "\n",
      "    2*Delta(log(L)) = 432.461\n",
      "\n",
      "--- Iterative MLGST: Beginning iter 5 of 10 : 817 gate strings ---\n"
     ]
    },
    {
     "name": "stdout",
     "output_type": "stream",
     "text": [
      "--- Least Squares GST ---\n",
      "  Sum of Chi^2 = 799.916 (817 data params - 40 model params = expected mean of 777; p-value = 0.276734)"
     ]
    },
    {
     "name": "stdout",
     "output_type": "stream",
     "text": [
      "\n",
      "    2*Delta(log(L)) = 801.083\n",
      "\n",
      "--- Iterative MLGST: Beginning iter 6 of 10 : 1201 gate strings ---\n"
     ]
    },
    {
     "name": "stdout",
     "output_type": "stream",
     "text": [
      "--- Least Squares GST ---\n",
      "  Sum of Chi^2 = 1215.36 (1201 data params - 40 model params = expected mean of 1161; p-value = 0.130346)"
     ]
    },
    {
     "name": "stdout",
     "output_type": "stream",
     "text": [
      "\n",
      "    2*Delta(log(L)) = 1216.97\n",
      "\n",
      "--- Iterative MLGST: Beginning iter 7 of 10 : 1585 gate strings ---\n"
     ]
    },
    {
     "name": "stdout",
     "output_type": "stream",
     "text": [
      "--- Least Squares GST ---\n",
      "  Sum of Chi^2 = 1584.81 (1585 data params - 40 model params = expected mean of 1545; p-value = 0.23511)"
     ]
    },
    {
     "name": "stdout",
     "output_type": "stream",
     "text": [
      "\n",
      "    2*Delta(log(L)) = 1586.82"
     ]
    },
    {
     "name": "stdout",
     "output_type": "stream",
     "text": [
      "\n",
      "\n",
      "--- Iterative MLGST: Beginning iter 8 of 10 : 1969 gate strings ---\n"
     ]
    },
    {
     "name": "stdout",
     "output_type": "stream",
     "text": [
      "--- Least Squares GST ---\n",
      "  Sum of Chi^2 = 1943.35 (1969 data params - 40 model params = expected mean of 1929; p-value = 0.404729)"
     ]
    },
    {
     "name": "stdout",
     "output_type": "stream",
     "text": [
      "\n",
      "    2*Delta(log(L)) = 1945.66"
     ]
    },
    {
     "name": "stdout",
     "output_type": "stream",
     "text": [
      "\n",
      "\n",
      "--- Iterative MLGST: Beginning iter 9 of 10 : 2353 gate strings ---\n"
     ]
    },
    {
     "name": "stdout",
     "output_type": "stream",
     "text": [
      "--- Least Squares GST ---\n",
      "  Sum of Chi^2 = 2329.17 (2353 data params - 40 model params = expected mean of 2313; p-value = 0.402433)"
     ]
    },
    {
     "name": "stdout",
     "output_type": "stream",
     "text": [
      "\n",
      "    2*Delta(log(L)) = 2331.85"
     ]
    },
    {
     "name": "stdout",
     "output_type": "stream",
     "text": [
      "\n",
      "\n",
      "--- Iterative MLGST: Beginning iter 10 of 10 : 2737 gate strings ---\n"
     ]
    },
    {
     "name": "stdout",
     "output_type": "stream",
     "text": [
      "--- Least Squares GST ---\n",
      "  Sum of Chi^2 = 2751.25 (2737 data params - 40 model params = expected mean of 2697; p-value = 0.228809)"
     ]
    },
    {
     "name": "stdout",
     "output_type": "stream",
     "text": [
      "\n",
      "    2*Delta(log(L)) = 2754.36"
     ]
    },
    {
     "name": "stdout",
     "output_type": "stream",
     "text": [
      "\n",
      "--- Last Iteration: switching to ML objective ---\n",
      "--- MLGST ---\n",
      "  Maximum log(L) = 1376.8 below upper bound of -4.60015e+06"
     ]
    },
    {
     "name": "stdout",
     "output_type": "stream",
     "text": [
      "\n",
      "    2*Delta(log(L)) = 2753.6 (2737 data params - 40 model params = expected mean of 2697; p-value = 0.219364)\n",
      "    2*Delta(log(L)) = 2753.6\n",
      "Running MLGST Iteration 5 "
     ]
    },
    {
     "name": "stdout",
     "output_type": "stream",
     "text": [
      "\n",
      "LGST: Singular values of I_tilde (truncating to first 4 of 6) = \n"
     ]
    },
    {
     "name": "stdout",
     "output_type": "stream",
     "text": [
      "[ 4.24474329  1.15869555  0.95595525  0.9331686   0.06589983  0.00749327]\n",
      "\n",
      "--- LGST ---\n"
     ]
    },
    {
     "name": "stdout",
     "output_type": "stream",
     "text": [
      "\n",
      "--- Iterative MLGST: Beginning iter 1 of 10 : 92 gate strings ---\n"
     ]
    },
    {
     "name": "stdout",
     "output_type": "stream",
     "text": [
      "--- Least Squares GST ---\n",
      "  Sum of Chi^2 = 44.7143 (92 data params - 40 model params = expected mean of 52; p-value = 0.753198)"
     ]
    },
    {
     "name": "stdout",
     "output_type": "stream",
     "text": [
      "\n",
      "    2*Delta(log(L)) = 44.9422\n",
      "\n",
      "--- Iterative MLGST: Beginning iter 2 of 10 : 92 gate strings ---\n"
     ]
    },
    {
     "name": "stdout",
     "output_type": "stream",
     "text": [
      "--- Least Squares GST ---\n",
      "  Sum of Chi^2 = 44.7143 (92 data params - 40 model params = expected mean of 52; p-value = 0.753198)"
     ]
    },
    {
     "name": "stdout",
     "output_type": "stream",
     "text": [
      "\n",
      "    2*Delta(log(L)) = 44.9422\n",
      "\n",
      "--- Iterative MLGST: Beginning iter 3 of 10 : 168 gate strings ---\n"
     ]
    },
    {
     "name": "stdout",
     "output_type": "stream",
     "text": [
      "--- Least Squares GST ---\n",
      "  Sum of Chi^2 = 105.313 (168 data params - 40 model params = expected mean of 128; p-value = 0.929117)"
     ]
    },
    {
     "name": "stdout",
     "output_type": "stream",
     "text": [
      "\n",
      "    2*Delta(log(L)) = 105.567\n",
      "\n",
      "--- Iterative MLGST: Beginning iter 4 of 10 : 441 gate strings ---\n"
     ]
    },
    {
     "name": "stdout",
     "output_type": "stream",
     "text": [
      "--- Least Squares GST ---\n",
      "  Sum of Chi^2 = 414.332 (441 data params - 40 model params = expected mean of 401; p-value = 0.312376)"
     ]
    },
    {
     "name": "stdout",
     "output_type": "stream",
     "text": [
      "\n",
      "    2*Delta(log(L)) = 414.773\n",
      "\n",
      "--- Iterative MLGST: Beginning iter 5 of 10 : 817 gate strings ---\n"
     ]
    },
    {
     "name": "stdout",
     "output_type": "stream",
     "text": [
      "--- Least Squares GST ---\n",
      "  Sum of Chi^2 = 742.146 (817 data params - 40 model params = expected mean of 777; p-value = 0.810773)"
     ]
    },
    {
     "name": "stdout",
     "output_type": "stream",
     "text": [
      "\n",
      "    2*Delta(log(L)) = 742.714\n",
      "\n",
      "--- Iterative MLGST: Beginning iter 6 of 10 : 1201 gate strings ---\n"
     ]
    },
    {
     "name": "stdout",
     "output_type": "stream",
     "text": [
      "--- Least Squares GST ---\n",
      "  Sum of Chi^2 = 1116.23 (1201 data params - 40 model params = expected mean of 1161; p-value = 0.823173)"
     ]
    },
    {
     "name": "stdout",
     "output_type": "stream",
     "text": [
      "\n",
      "    2*Delta(log(L)) = 1117.19\n",
      "\n",
      "--- Iterative MLGST: Beginning iter 7 of 10 : 1585 gate strings ---\n"
     ]
    },
    {
     "name": "stdout",
     "output_type": "stream",
     "text": [
      "--- Least Squares GST ---\n",
      "  Sum of Chi^2 = 1487.57 (1585 data params - 40 model params = expected mean of 1545; p-value = 0.849471)"
     ]
    },
    {
     "name": "stdout",
     "output_type": "stream",
     "text": [
      "\n",
      "    2*Delta(log(L)) = 1488.89"
     ]
    },
    {
     "name": "stdout",
     "output_type": "stream",
     "text": [
      "\n",
      "\n",
      "--- Iterative MLGST: Beginning iter 8 of 10 : 1969 gate strings ---\n"
     ]
    },
    {
     "name": "stdout",
     "output_type": "stream",
     "text": [
      "--- Least Squares GST ---\n",
      "  Sum of Chi^2 = 1906.72 (1969 data params - 40 model params = expected mean of 1929; p-value = 0.636573)"
     ]
    },
    {
     "name": "stdout",
     "output_type": "stream",
     "text": [
      "\n",
      "    2*Delta(log(L)) = 1908.51"
     ]
    },
    {
     "name": "stdout",
     "output_type": "stream",
     "text": [
      "\n",
      "\n",
      "--- Iterative MLGST: Beginning iter 9 of 10 : 2353 gate strings ---\n"
     ]
    },
    {
     "name": "stdout",
     "output_type": "stream",
     "text": [
      "--- Least Squares GST ---\n",
      "  Sum of Chi^2 = 2266.31 (2353 data params - 40 model params = expected mean of 2313; p-value = 0.752156)"
     ]
    },
    {
     "name": "stdout",
     "output_type": "stream",
     "text": [
      "\n",
      "    2*Delta(log(L)) = 2268.46"
     ]
    },
    {
     "name": "stdout",
     "output_type": "stream",
     "text": [
      "\n",
      "\n",
      "--- Iterative MLGST: Beginning iter 10 of 10 : 2737 gate strings ---\n"
     ]
    },
    {
     "name": "stdout",
     "output_type": "stream",
     "text": [
      "--- Least Squares GST ---\n",
      "  Sum of Chi^2 = 2667.78 (2737 data params - 40 model params = expected mean of 2697; p-value = 0.651833)"
     ]
    },
    {
     "name": "stdout",
     "output_type": "stream",
     "text": [
      "\n",
      "    2*Delta(log(L)) = 2670.32"
     ]
    },
    {
     "name": "stdout",
     "output_type": "stream",
     "text": [
      "\n",
      "--- Last Iteration: switching to ML objective ---\n",
      "--- MLGST ---\n",
      "  Maximum log(L) = 1335.16 below upper bound of -4.60089e+06"
     ]
    },
    {
     "name": "stdout",
     "output_type": "stream",
     "text": [
      "\n",
      "    2*Delta(log(L)) = 2670.32 (2737 data params - 40 model params = expected mean of 2697; p-value = 0.638869)\n",
      "    2*Delta(log(L)) = 2670.32\n",
      "   !!! Warning: MLGST failed to improve logl: retaining chi2-objective estimate !!!\n",
      "Running MLGST Iteration 6 "
     ]
    },
    {
     "name": "stdout",
     "output_type": "stream",
     "text": [
      "\n",
      "LGST: Singular values of I_tilde (truncating to first 4 of 6) = \n"
     ]
    },
    {
     "name": "stdout",
     "output_type": "stream",
     "text": [
      "[ 4.24367377  1.16578335  0.95878822  0.91710773  0.04317778  0.0192437 ]\n",
      "\n",
      "--- LGST ---\n"
     ]
    },
    {
     "name": "stdout",
     "output_type": "stream",
     "text": [
      "\n",
      "--- Iterative MLGST: Beginning iter 1 of 10 : 92 gate strings ---\n"
     ]
    },
    {
     "name": "stdout",
     "output_type": "stream",
     "text": [
      "--- Least Squares GST ---\n",
      "  Sum of Chi^2 = 89.2788 (92 data params - 40 model params = expected mean of 52; p-value = 0.000998454)"
     ]
    },
    {
     "name": "stdout",
     "output_type": "stream",
     "text": [
      "\n",
      "    2*Delta(log(L)) = 89.9734\n",
      "\n",
      "--- Iterative MLGST: Beginning iter 2 of 10 : 92 gate strings ---\n"
     ]
    },
    {
     "name": "stdout",
     "output_type": "stream",
     "text": [
      "--- Least Squares GST ---\n",
      "  Sum of Chi^2 = 89.2788 (92 data params - 40 model params = expected mean of 52; p-value = 0.000998454)"
     ]
    },
    {
     "name": "stdout",
     "output_type": "stream",
     "text": [
      "\n",
      "    2*Delta(log(L)) = 89.9734\n",
      "\n",
      "--- Iterative MLGST: Beginning iter 3 of 10 : 168 gate strings ---\n"
     ]
    },
    {
     "name": "stdout",
     "output_type": "stream",
     "text": [
      "--- Least Squares GST ---\n",
      "  Sum of Chi^2 = 163.648 (168 data params - 40 model params = expected mean of 128; p-value = 0.0183015)"
     ]
    },
    {
     "name": "stdout",
     "output_type": "stream",
     "text": [
      "\n",
      "    2*Delta(log(L)) = 164.512\n",
      "\n",
      "--- Iterative MLGST: Beginning iter 4 of 10 : 441 gate strings ---\n"
     ]
    },
    {
     "name": "stdout",
     "output_type": "stream",
     "text": [
      "--- Least Squares GST ---\n",
      "  Sum of Chi^2 = 450.285 (441 data params - 40 model params = expected mean of 401; p-value = 0.0448451)"
     ]
    },
    {
     "name": "stdout",
     "output_type": "stream",
     "text": [
      "\n",
      "    2*Delta(log(L)) = 451.545\n",
      "\n",
      "--- Iterative MLGST: Beginning iter 5 of 10 : 817 gate strings ---\n"
     ]
    },
    {
     "name": "stdout",
     "output_type": "stream",
     "text": [
      "--- Least Squares GST ---\n",
      "  Sum of Chi^2 = 827.846 (817 data params - 40 model params = expected mean of 777; p-value = 0.100355)"
     ]
    },
    {
     "name": "stdout",
     "output_type": "stream",
     "text": [
      "\n",
      "    2*Delta(log(L)) = 829.567\n",
      "\n",
      "--- Iterative MLGST: Beginning iter 6 of 10 : 1201 gate strings ---\n"
     ]
    },
    {
     "name": "stdout",
     "output_type": "stream",
     "text": [
      "--- Least Squares GST ---\n",
      "  Sum of Chi^2 = 1232.28 (1201 data params - 40 model params = expected mean of 1161; p-value = 0.0716181)"
     ]
    },
    {
     "name": "stdout",
     "output_type": "stream",
     "text": [
      "\n",
      "    2*Delta(log(L)) = 1234.46\n",
      "\n",
      "--- Iterative MLGST: Beginning iter 7 of 10 : 1585 gate strings ---\n"
     ]
    },
    {
     "name": "stdout",
     "output_type": "stream",
     "text": [
      "--- Least Squares GST ---\n",
      "  Sum of Chi^2 = 1587.77 (1585 data params - 40 model params = expected mean of 1545; p-value = 0.21935)"
     ]
    },
    {
     "name": "stdout",
     "output_type": "stream",
     "text": [
      "\n",
      "    2*Delta(log(L)) = 1590.31\n",
      "\n",
      "--- Iterative MLGST: Beginning iter 8 of 10 : 1969 gate strings ---\n"
     ]
    },
    {
     "name": "stdout",
     "output_type": "stream",
     "text": [
      "--- Least Squares GST ---\n",
      "  Sum of Chi^2 = 2010.96 (1969 data params - 40 model params = expected mean of 1929; p-value = 0.0947713)"
     ]
    },
    {
     "name": "stdout",
     "output_type": "stream",
     "text": [
      "\n",
      "    2*Delta(log(L)) = 2013.96"
     ]
    },
    {
     "name": "stdout",
     "output_type": "stream",
     "text": [
      "\n",
      "\n",
      "--- Iterative MLGST: Beginning iter 9 of 10 : 2353 gate strings ---\n"
     ]
    },
    {
     "name": "stdout",
     "output_type": "stream",
     "text": [
      "--- Least Squares GST ---\n",
      "  Sum of Chi^2 = 2426.21 (2353 data params - 40 model params = expected mean of 2313; p-value = 0.0496949)"
     ]
    },
    {
     "name": "stdout",
     "output_type": "stream",
     "text": [
      "\n",
      "    2*Delta(log(L)) = 2429.66"
     ]
    },
    {
     "name": "stdout",
     "output_type": "stream",
     "text": [
      "\n",
      "\n",
      "--- Iterative MLGST: Beginning iter 10 of 10 : 2737 gate strings ---\n"
     ]
    },
    {
     "name": "stdout",
     "output_type": "stream",
     "text": [
      "--- Least Squares GST ---\n",
      "  Sum of Chi^2 = 2797.2 (2737 data params - 40 model params = expected mean of 2697; p-value = 0.0874275)"
     ]
    },
    {
     "name": "stdout",
     "output_type": "stream",
     "text": [
      "\n",
      "    2*Delta(log(L)) = 2801.01"
     ]
    },
    {
     "name": "stdout",
     "output_type": "stream",
     "text": [
      "\n",
      "--- Last Iteration: switching to ML objective ---\n",
      "--- MLGST ---\n",
      "  Maximum log(L) = 1400.1 below upper bound of -4.59955e+06"
     ]
    },
    {
     "name": "stdout",
     "output_type": "stream",
     "text": [
      "\n",
      "    2*Delta(log(L)) = 2800.2 (2737 data params - 40 model params = expected mean of 2697; p-value = 0.0812542)\n",
      "    2*Delta(log(L)) = 2800.2\n",
      "Running MLGST Iteration 7 "
     ]
    },
    {
     "name": "stdout",
     "output_type": "stream",
     "text": [
      "\n",
      "LGST: Singular values of I_tilde (truncating to first 4 of 6) = \n"
     ]
    },
    {
     "name": "stdout",
     "output_type": "stream",
     "text": [
      "[ 4.24431939  1.16133635  0.93003446  0.90866769  0.03459671  0.01538844]\n",
      "\n",
      "--- LGST ---\n"
     ]
    },
    {
     "name": "stdout",
     "output_type": "stream",
     "text": [
      "\n",
      "--- Iterative MLGST: Beginning iter 1 of 10 : 92 gate strings ---\n"
     ]
    },
    {
     "name": "stdout",
     "output_type": "stream",
     "text": [
      "--- Least Squares GST ---\n",
      "  Sum of Chi^2 = 59.1313 (92 data params - 40 model params = expected mean of 52; p-value = 0.231362)"
     ]
    },
    {
     "name": "stdout",
     "output_type": "stream",
     "text": [
      "\n",
      "    2*Delta(log(L)) = 59.1591\n",
      "\n",
      "--- Iterative MLGST: Beginning iter 2 of 10 : 92 gate strings ---\n"
     ]
    },
    {
     "name": "stdout",
     "output_type": "stream",
     "text": [
      "--- Least Squares GST ---\n",
      "  Sum of Chi^2 = 59.1313 (92 data params - 40 model params = expected mean of 52; p-value = 0.231362)"
     ]
    },
    {
     "name": "stdout",
     "output_type": "stream",
     "text": [
      "\n",
      "    2*Delta(log(L)) = 59.1591\n",
      "\n",
      "--- Iterative MLGST: Beginning iter 3 of 10 : 168 gate strings ---\n"
     ]
    },
    {
     "name": "stdout",
     "output_type": "stream",
     "text": [
      "--- Least Squares GST ---\n",
      "  Sum of Chi^2 = 120.78 (168 data params - 40 model params = expected mean of 128; p-value = 0.662085)"
     ]
    },
    {
     "name": "stdout",
     "output_type": "stream",
     "text": [
      "\n",
      "    2*Delta(log(L)) = 120.839\n",
      "\n",
      "--- Iterative MLGST: Beginning iter 4 of 10 : 441 gate strings ---\n"
     ]
    },
    {
     "name": "stdout",
     "output_type": "stream",
     "text": [
      "--- Least Squares GST ---\n",
      "  Sum of Chi^2 = 386.313 (441 data params - 40 model params = expected mean of 401; p-value = 0.69198)"
     ]
    },
    {
     "name": "stdout",
     "output_type": "stream",
     "text": [
      "\n",
      "    2*Delta(log(L)) = 386.273\n",
      "\n",
      "--- Iterative MLGST: Beginning iter 5 of 10 : 817 gate strings ---\n"
     ]
    },
    {
     "name": "stdout",
     "output_type": "stream",
     "text": [
      "--- Least Squares GST ---\n",
      "  Sum of Chi^2 = 759.464 (817 data params - 40 model params = expected mean of 777; p-value = 0.666866)"
     ]
    },
    {
     "name": "stdout",
     "output_type": "stream",
     "text": [
      "\n",
      "    2*Delta(log(L)) = 759.875\n",
      "\n",
      "--- Iterative MLGST: Beginning iter 6 of 10 : 1201 gate strings ---\n"
     ]
    },
    {
     "name": "stdout",
     "output_type": "stream",
     "text": [
      "--- Least Squares GST ---\n",
      "  Sum of Chi^2 = 1098.53 (1201 data params - 40 model params = expected mean of 1161; p-value = 0.904324)"
     ]
    },
    {
     "name": "stdout",
     "output_type": "stream",
     "text": [
      "\n",
      "    2*Delta(log(L)) = 1099.21\n",
      "\n",
      "--- Iterative MLGST: Beginning iter 7 of 10 : 1585 gate strings ---\n"
     ]
    },
    {
     "name": "stdout",
     "output_type": "stream",
     "text": [
      "--- Least Squares GST ---\n",
      "  Sum of Chi^2 = 1465.35 (1585 data params - 40 model params = expected mean of 1545; p-value = 0.925947)"
     ]
    },
    {
     "name": "stdout",
     "output_type": "stream",
     "text": [
      "\n",
      "    2*Delta(log(L)) = 1466.32\n",
      "\n",
      "--- Iterative MLGST: Beginning iter 8 of 10 : 1969 gate strings ---\n"
     ]
    },
    {
     "name": "stdout",
     "output_type": "stream",
     "text": [
      "--- Least Squares GST ---\n",
      "  Sum of Chi^2 = 1827.44 (1969 data params - 40 model params = expected mean of 1929; p-value = 0.950921)"
     ]
    },
    {
     "name": "stdout",
     "output_type": "stream",
     "text": [
      "\n",
      "    2*Delta(log(L)) = 1828.72"
     ]
    },
    {
     "name": "stdout",
     "output_type": "stream",
     "text": [
      "\n",
      "\n",
      "--- Iterative MLGST: Beginning iter 9 of 10 : 2353 gate strings ---\n"
     ]
    },
    {
     "name": "stdout",
     "output_type": "stream",
     "text": [
      "--- Least Squares GST ---\n",
      "  Sum of Chi^2 = 2194.17 (2353 data params - 40 model params = expected mean of 2313; p-value = 0.961486)"
     ]
    },
    {
     "name": "stdout",
     "output_type": "stream",
     "text": [
      "\n",
      "    2*Delta(log(L)) = 2195.77"
     ]
    },
    {
     "name": "stdout",
     "output_type": "stream",
     "text": [
      "\n",
      "\n",
      "--- Iterative MLGST: Beginning iter 10 of 10 : 2737 gate strings ---\n"
     ]
    },
    {
     "name": "stdout",
     "output_type": "stream",
     "text": [
      "--- Least Squares GST ---\n",
      "  Sum of Chi^2 = 2612.35 (2737 data params - 40 model params = expected mean of 2697; p-value = 0.876118)"
     ]
    },
    {
     "name": "stdout",
     "output_type": "stream",
     "text": [
      "\n",
      "    2*Delta(log(L)) = 2614.45"
     ]
    },
    {
     "name": "stdout",
     "output_type": "stream",
     "text": [
      "\n",
      "--- Last Iteration: switching to ML objective ---\n",
      "--- MLGST ---\n",
      "  Maximum log(L) = 1306.88 below upper bound of -4.60029e+06"
     ]
    },
    {
     "name": "stdout",
     "output_type": "stream",
     "text": [
      "\n",
      "    2*Delta(log(L)) = 2613.75 (2737 data params - 40 model params = expected mean of 2697; p-value = 0.872083)\n",
      "    2*Delta(log(L)) = 2613.75\n",
      "Running MLGST Iteration 8 "
     ]
    },
    {
     "name": "stdout",
     "output_type": "stream",
     "text": [
      "\n",
      "LGST: Singular values of I_tilde (truncating to first 4 of 6) = \n"
     ]
    },
    {
     "name": "stdout",
     "output_type": "stream",
     "text": [
      "[ 4.2452476   1.14936028  0.96382721  0.89030389  0.03797517  0.01648424]\n",
      "\n",
      "--- LGST ---\n"
     ]
    },
    {
     "name": "stdout",
     "output_type": "stream",
     "text": [
      "\n",
      "--- Iterative MLGST: Beginning iter 1 of 10 : 92 gate strings ---\n"
     ]
    },
    {
     "name": "stdout",
     "output_type": "stream",
     "text": [
      "--- Least Squares GST ---\n",
      "  Sum of Chi^2 = 62.5257 (92 data params - 40 model params = expected mean of 52; p-value = 0.150544)"
     ]
    },
    {
     "name": "stdout",
     "output_type": "stream",
     "text": [
      "\n",
      "    2*Delta(log(L)) = 62.7051\n",
      "\n",
      "--- Iterative MLGST: Beginning iter 2 of 10 : 92 gate strings ---\n"
     ]
    },
    {
     "name": "stdout",
     "output_type": "stream",
     "text": [
      "--- Least Squares GST ---\n",
      "  Sum of Chi^2 = 62.5257 (92 data params - 40 model params = expected mean of 52; p-value = 0.150544)"
     ]
    },
    {
     "name": "stdout",
     "output_type": "stream",
     "text": [
      "\n",
      "    2*Delta(log(L)) = 62.7051\n",
      "\n",
      "--- Iterative MLGST: Beginning iter 3 of 10 : 168 gate strings ---\n"
     ]
    },
    {
     "name": "stdout",
     "output_type": "stream",
     "text": [
      "--- Least Squares GST ---\n",
      "  Sum of Chi^2 = 125.532 (168 data params - 40 model params = expected mean of 128; p-value = 0.545197)"
     ]
    },
    {
     "name": "stdout",
     "output_type": "stream",
     "text": [
      "\n",
      "    2*Delta(log(L)) = 125.683\n",
      "\n",
      "--- Iterative MLGST: Beginning iter 4 of 10 : 441 gate strings ---\n"
     ]
    },
    {
     "name": "stdout",
     "output_type": "stream",
     "text": [
      "--- Least Squares GST ---\n",
      "  Sum of Chi^2 = 391.604 (441 data params - 40 model params = expected mean of 401; p-value = 0.622026)"
     ]
    },
    {
     "name": "stdout",
     "output_type": "stream",
     "text": [
      "\n",
      "    2*Delta(log(L)) = 391.957\n",
      "\n",
      "--- Iterative MLGST: Beginning iter 5 of 10 : 817 gate strings ---\n"
     ]
    },
    {
     "name": "stdout",
     "output_type": "stream",
     "text": [
      "--- Least Squares GST ---\n",
      "  Sum of Chi^2 = 758.82 (817 data params - 40 model params = expected mean of 777; p-value = 0.672878)"
     ]
    },
    {
     "name": "stdout",
     "output_type": "stream",
     "text": [
      "\n",
      "    2*Delta(log(L)) = 760.163\n",
      "\n",
      "--- Iterative MLGST: Beginning iter 6 of 10 : 1201 gate strings ---\n"
     ]
    },
    {
     "name": "stdout",
     "output_type": "stream",
     "text": [
      "--- Least Squares GST ---\n",
      "  Sum of Chi^2 = 1110.55 (1201 data params - 40 model params = expected mean of 1161; p-value = 0.852807)"
     ]
    },
    {
     "name": "stdout",
     "output_type": "stream",
     "text": [
      "\n",
      "    2*Delta(log(L)) = 1112.24\n",
      "\n",
      "--- Iterative MLGST: Beginning iter 7 of 10 : 1585 gate strings ---\n"
     ]
    },
    {
     "name": "stdout",
     "output_type": "stream",
     "text": [
      "--- Least Squares GST ---\n",
      "  Sum of Chi^2 = 1486.24 (1585 data params - 40 model params = expected mean of 1545; p-value = 0.855125)"
     ]
    },
    {
     "name": "stdout",
     "output_type": "stream",
     "text": [
      "\n",
      "    2*Delta(log(L)) = 1488.25\n",
      "\n",
      "--- Iterative MLGST: Beginning iter 8 of 10 : 1969 gate strings ---\n"
     ]
    },
    {
     "name": "stdout",
     "output_type": "stream",
     "text": [
      "--- Least Squares GST ---\n",
      "  Sum of Chi^2 = 1883.85 (1969 data params - 40 model params = expected mean of 1929; p-value = 0.764811)"
     ]
    },
    {
     "name": "stdout",
     "output_type": "stream",
     "text": [
      "\n",
      "    2*Delta(log(L)) = 1886.3"
     ]
    },
    {
     "name": "stdout",
     "output_type": "stream",
     "text": [
      "\n",
      "\n",
      "--- Iterative MLGST: Beginning iter 9 of 10 : 2353 gate strings ---\n"
     ]
    },
    {
     "name": "stdout",
     "output_type": "stream",
     "text": [
      "--- Least Squares GST ---\n",
      "  Sum of Chi^2 = 2238.36 (2353 data params - 40 model params = expected mean of 2313; p-value = 0.864261)"
     ]
    },
    {
     "name": "stdout",
     "output_type": "stream",
     "text": [
      "\n",
      "    2*Delta(log(L)) = 2241.12"
     ]
    },
    {
     "name": "stdout",
     "output_type": "stream",
     "text": [
      "\n",
      "\n",
      "--- Iterative MLGST: Beginning iter 10 of 10 : 2737 gate strings ---\n"
     ]
    },
    {
     "name": "stdout",
     "output_type": "stream",
     "text": [
      "--- Least Squares GST ---\n",
      "  Sum of Chi^2 = 2613.37 (2737 data params - 40 model params = expected mean of 2697; p-value = 0.873174)"
     ]
    },
    {
     "name": "stdout",
     "output_type": "stream",
     "text": [
      "\n",
      "    2*Delta(log(L)) = 2616.49"
     ]
    },
    {
     "name": "stdout",
     "output_type": "stream",
     "text": [
      "\n",
      "--- Last Iteration: switching to ML objective ---\n",
      "--- MLGST ---\n",
      "  Maximum log(L) = 1308.24 below upper bound of -4.60068e+06"
     ]
    },
    {
     "name": "stdout",
     "output_type": "stream",
     "text": [
      "\n",
      "    2*Delta(log(L)) = 2616.49 (2737 data params - 40 model params = expected mean of 2697; p-value = 0.863947)\n",
      "    2*Delta(log(L)) = 2616.49\n",
      "   !!! Warning: MLGST failed to improve logl: retaining chi2-objective estimate !!!\n",
      "Running MLGST Iteration 9 "
     ]
    },
    {
     "name": "stdout",
     "output_type": "stream",
     "text": [
      "\n",
      "LGST: Singular values of I_tilde (truncating to first 4 of 6) = \n"
     ]
    },
    {
     "name": "stdout",
     "output_type": "stream",
     "text": [
      "[ 4.24385025  1.17311846  0.97620801  0.92925542  0.02418151  0.00967975]\n",
      "\n",
      "--- LGST ---\n"
     ]
    },
    {
     "name": "stdout",
     "output_type": "stream",
     "text": [
      "\n",
      "--- Iterative MLGST: Beginning iter 1 of 10 : 92 gate strings ---\n"
     ]
    },
    {
     "name": "stdout",
     "output_type": "stream",
     "text": [
      "--- Least Squares GST ---\n",
      "  Sum of Chi^2 = 48.2172 (92 data params - 40 model params = expected mean of 52; p-value = 0.623426)"
     ]
    },
    {
     "name": "stdout",
     "output_type": "stream",
     "text": [
      "\n",
      "    2*Delta(log(L)) = 48.1749\n",
      "\n",
      "--- Iterative MLGST: Beginning iter 2 of 10 : 92 gate strings ---\n"
     ]
    },
    {
     "name": "stdout",
     "output_type": "stream",
     "text": [
      "--- Least Squares GST ---\n",
      "  Sum of Chi^2 = 48.2172 (92 data params - 40 model params = expected mean of 52; p-value = 0.623426)"
     ]
    },
    {
     "name": "stdout",
     "output_type": "stream",
     "text": [
      "\n",
      "    2*Delta(log(L)) = 48.1749\n",
      "\n",
      "--- Iterative MLGST: Beginning iter 3 of 10 : 168 gate strings ---\n"
     ]
    },
    {
     "name": "stdout",
     "output_type": "stream",
     "text": [
      "--- Least Squares GST ---\n",
      "  Sum of Chi^2 = 129.903 (168 data params - 40 model params = expected mean of 128; p-value = 0.43645)"
     ]
    },
    {
     "name": "stdout",
     "output_type": "stream",
     "text": [
      "\n",
      "    2*Delta(log(L)) = 129.953\n",
      "\n",
      "--- Iterative MLGST: Beginning iter 4 of 10 : 441 gate strings ---\n"
     ]
    },
    {
     "name": "stdout",
     "output_type": "stream",
     "text": [
      "--- Least Squares GST ---\n",
      "  Sum of Chi^2 = 399.33 (441 data params - 40 model params = expected mean of 401; p-value = 0.514162)"
     ]
    },
    {
     "name": "stdout",
     "output_type": "stream",
     "text": [
      "\n",
      "    2*Delta(log(L)) = 400.425\n",
      "\n",
      "--- Iterative MLGST: Beginning iter 5 of 10 : 817 gate strings ---\n"
     ]
    },
    {
     "name": "stdout",
     "output_type": "stream",
     "text": [
      "--- Least Squares GST ---\n",
      "  Sum of Chi^2 = 790.201 (817 data params - 40 model params = expected mean of 777; p-value = 0.36321)"
     ]
    },
    {
     "name": "stdout",
     "output_type": "stream",
     "text": [
      "\n",
      "    2*Delta(log(L)) = 791.553\n",
      "\n",
      "--- Iterative MLGST: Beginning iter 6 of 10 : 1201 gate strings ---\n"
     ]
    },
    {
     "name": "stdout",
     "output_type": "stream",
     "text": [
      "--- Least Squares GST ---\n",
      "  Sum of Chi^2 = 1128.61 (1201 data params - 40 model params = expected mean of 1161; p-value = 0.746891)"
     ]
    },
    {
     "name": "stdout",
     "output_type": "stream",
     "text": [
      "\n",
      "    2*Delta(log(L)) = 1130.26\n",
      "\n",
      "--- Iterative MLGST: Beginning iter 7 of 10 : 1585 gate strings ---\n"
     ]
    },
    {
     "name": "stdout",
     "output_type": "stream",
     "text": [
      "--- Least Squares GST ---\n",
      "  Sum of Chi^2 = 1497.35 (1585 data params - 40 model params = expected mean of 1545; p-value = 0.803514)"
     ]
    },
    {
     "name": "stdout",
     "output_type": "stream",
     "text": [
      "\n",
      "    2*Delta(log(L)) = 1499.42"
     ]
    },
    {
     "name": "stdout",
     "output_type": "stream",
     "text": [
      "\n",
      "\n",
      "--- Iterative MLGST: Beginning iter 8 of 10 : 1969 gate strings ---\n"
     ]
    },
    {
     "name": "stdout",
     "output_type": "stream",
     "text": [
      "--- Least Squares GST ---\n",
      "  Sum of Chi^2 = 1892.26 (1969 data params - 40 model params = expected mean of 1929; p-value = 0.720582)"
     ]
    },
    {
     "name": "stdout",
     "output_type": "stream",
     "text": [
      "\n",
      "    2*Delta(log(L)) = 1894.78"
     ]
    },
    {
     "name": "stdout",
     "output_type": "stream",
     "text": [
      "\n",
      "\n",
      "--- Iterative MLGST: Beginning iter 9 of 10 : 2353 gate strings ---\n"
     ]
    },
    {
     "name": "stdout",
     "output_type": "stream",
     "text": [
      "--- Least Squares GST ---\n",
      "  Sum of Chi^2 = 2303.77 (2353 data params - 40 model params = expected mean of 2313; p-value = 0.550146)"
     ]
    },
    {
     "name": "stdout",
     "output_type": "stream",
     "text": [
      "\n",
      "    2*Delta(log(L)) = 2306.71"
     ]
    },
    {
     "name": "stdout",
     "output_type": "stream",
     "text": [
      "\n",
      "\n",
      "--- Iterative MLGST: Beginning iter 10 of 10 : 2737 gate strings ---\n"
     ]
    },
    {
     "name": "stdout",
     "output_type": "stream",
     "text": [
      "--- Least Squares GST ---\n",
      "  Sum of Chi^2 = 2696.95 (2737 data params - 40 model params = expected mean of 2697; p-value = 0.496633)"
     ]
    },
    {
     "name": "stdout",
     "output_type": "stream",
     "text": [
      "\n",
      "    2*Delta(log(L)) = 2700.3"
     ]
    },
    {
     "name": "stdout",
     "output_type": "stream",
     "text": [
      "\n",
      "--- Last Iteration: switching to ML objective ---\n",
      "--- MLGST ---\n",
      "  Maximum log(L) = 1349.82 below upper bound of -4.60049e+06"
     ]
    },
    {
     "name": "stdout",
     "output_type": "stream",
     "text": [
      "\n",
      "    2*Delta(log(L)) = 2699.64 (2737 data params - 40 model params = expected mean of 2697; p-value = 0.482045)\n",
      "    2*Delta(log(L)) = 2699.64\n"
     ]
    }
   ],
   "source": [
    "#The number of simulated datasets & gatesets made for bootstrapping purposes.  \n",
    "# For good statistics, should probably be greater than 10.\n",
    "numGatesets=10\n",
    "\n",
    "param_boot_gatesets = pygsti.drivers.make_bootstrap_gatesets(\n",
    "                        numGatesets, ds, 'parametric', fiducials, fiducials, germs, maxLengths,\n",
    "                        inputGateSet=gs_mc2gst, startSeed=0, constrainToTP=False, returnData=False,\n",
    "                        verbosity=2)"
   ]
  },
  {
   "cell_type": "code",
   "execution_count": 4,
   "metadata": {
    "collapsed": false,
    "scrolled": false
   },
   "outputs": [
    {
     "name": "stdout",
     "output_type": "stream",
     "text": [
      "Spam weight  0\n",
      "Spam weight "
     ]
    },
    {
     "name": "stdout",
     "output_type": "stream",
     "text": [
      " 1\n",
      "Spam weight "
     ]
    },
    {
     "name": "stdout",
     "output_type": "stream",
     "text": [
      " 2\n",
      "Spam weight "
     ]
    },
    {
     "name": "stdout",
     "output_type": "stream",
     "text": [
      " 3\n",
      "Spam weight "
     ]
    },
    {
     "name": "stdout",
     "output_type": "stream",
     "text": [
      " 4\n",
      "Spam weight "
     ]
    },
    {
     "name": "stdout",
     "output_type": "stream",
     "text": [
      " 5\n",
      "Spam weight "
     ]
    },
    {
     "name": "stdout",
     "output_type": "stream",
     "text": [
      " 6\n",
      "Spam weight "
     ]
    },
    {
     "name": "stdout",
     "output_type": "stream",
     "text": [
      " 7\n",
      "Spam weight "
     ]
    },
    {
     "name": "stdout",
     "output_type": "stream",
     "text": [
      " 8\n",
      "Spam weight "
     ]
    },
    {
     "name": "stdout",
     "output_type": "stream",
     "text": [
      " 9\n",
      "Spam weight "
     ]
    },
    {
     "name": "stdout",
     "output_type": "stream",
     "text": [
      " 10\n",
      "Spam weight "
     ]
    },
    {
     "name": "stdout",
     "output_type": "stream",
     "text": [
      " 11\n",
      "Spam weight "
     ]
    },
    {
     "name": "stdout",
     "output_type": "stream",
     "text": [
      " 12\n",
      "Best SPAM weight is"
     ]
    },
    {
     "name": "stdout",
     "output_type": "stream",
     "text": [
      " 1.0\n"
     ]
    },
    {
     "data": {
      "image/png": "[encoded data removed]",
      "text/plain": [
       "<matplotlib.figure.Figure at 0x42b8c50>"
      ]
     },
     "metadata": {},
     "output_type": "display_data"
    }
   ],
   "source": [
    "gauge_opt_pboot_gatesets = pygsti.drivers.gauge_optimize_gs_list(param_boot_gatesets, gs_mc2gst,\n",
    "                                                                 constrainToTP=False, plot=True)"
   ]
  },
  {
   "cell_type": "code",
   "execution_count": 5,
   "metadata": {
    "collapsed": false,
    "scrolled": false
   },
   "outputs": [
    {
     "name": "stdout",
     "output_type": "stream",
     "text": [
      "Parametric bootstrapped error bars, with 10 resamples\n",
      "\n",
      "Error in rho vec:\n",
      "Fully Parameterized spam vector with length 4\n",
      "   0\n",
      "   0\n",
      "   0\n",
      "   0\n",
      "\n",
      "\n",
      "Error in E vec:\n",
      "Fully Parameterized spam vector with length 4\n",
      "   0\n",
      "   0\n",
      "   0\n",
      "   0\n",
      "\n",
      "\n",
      "Error in Gi:\n",
      "Fully Parameterized gate with shape (4, 4)\n",
      "   0   0   0   0\n",
      "   0   0   0   0\n",
      "   0   0   0   0\n",
      "   0   0   0   0\n",
      "\n",
      "\n",
      "Error in Gx:\n",
      "Fully Parameterized gate with shape (4, 4)\n",
      "   0   0   0   0\n",
      "   0   0   0   0\n",
      "   0   0   0   0\n",
      "   0   0   0   0\n",
      "\n",
      "\n",
      "Error in Gy:\n",
      "Fully Parameterized gate with shape (4, 4)\n",
      "   0   0   0   0\n",
      "   0   0   0   0\n",
      "   0   0   0   0\n",
      "   0   0   0   0\n",
      "\n"
     ]
    }
   ],
   "source": [
    "pboot_mean = pygsti.drivers.to_mean_gateset(gauge_opt_pboot_gatesets, gs_mc2gst)\n",
    "pboot_std  = pygsti.drivers.to_std_gateset(gauge_opt_pboot_gatesets, gs_mc2gst)\n",
    "\n",
    "#Summary of the error bars\n",
    "print \"Parametric bootstrapped error bars, with\",numGatesets,\"resamples\\n\"\n",
    "print \"Error in rho vec:\" \n",
    "print pboot_std['rho0']\n",
    "print\n",
    "print \"Error in E vec:\"\n",
    "print pboot_std['E0']\n",
    "print\n",
    "print \"Error in Gi:\"\n",
    "print pboot_std['Gi']\n",
    "print\n",
    "print \"Error in Gx:\"\n",
    "print pboot_std['Gx']\n",
    "print\n",
    "print \"Error in Gy:\"\n",
    "print pboot_std['Gy']"
   ]
  },
  {
   "cell_type": "markdown",
   "metadata": {},
   "source": [
    "##Non-parametric Bootstrapping\n",
    "Here we do non-parametric bootstrapping, as indicated by the 'nonparametric' argument below.\n",
    "The output is again eventually stored in the \"mean\" and \"std\" GateSets, which hold the mean and standard deviation values of the set of bootstrapped gatesets (after gauge optimization).  It is this latter \"standard deviation Gateset\"\n",
    "which holds the collection of error bars.  Note: due to print setting issues, the outputs that are printed here will not necessarily reflect the true accuracy of the estimates made.\n",
    "\n",
    "(Technical note: ddof = 1 is by default used when computing the standard deviation -- see numpy.std -- meaning that we are computing a standard deviation of the sample, not of the population.)"
   ]
  },
  {
   "cell_type": "code",
   "execution_count": 6,
   "metadata": {
    "collapsed": false,
    "scrolled": true
   },
   "outputs": [
    {
     "name": "stdout",
     "output_type": "stream",
     "text": [
      "Creating DataSets: \n",
      "0  Generating non-parametric dataset.\n",
      "1 "
     ]
    },
    {
     "name": "stdout",
     "output_type": "stream",
     "text": [
      " Generating non-parametric dataset.\n",
      "2 "
     ]
    },
    {
     "name": "stdout",
     "output_type": "stream",
     "text": [
      " Generating non-parametric dataset.\n",
      "3 "
     ]
    },
    {
     "name": "stdout",
     "output_type": "stream",
     "text": [
      " Generating non-parametric dataset.\n",
      "4 "
     ]
    },
    {
     "name": "stdout",
     "output_type": "stream",
     "text": [
      " Generating non-parametric dataset.\n",
      "5 "
     ]
    },
    {
     "name": "stdout",
     "output_type": "stream",
     "text": [
      " Generating non-parametric dataset.\n",
      "6 "
     ]
    },
    {
     "name": "stdout",
     "output_type": "stream",
     "text": [
      " Generating non-parametric dataset.\n",
      "7 "
     ]
    },
    {
     "name": "stdout",
     "output_type": "stream",
     "text": [
      " Generating non-parametric dataset.\n",
      "8 "
     ]
    },
    {
     "name": "stdout",
     "output_type": "stream",
     "text": [
      " Generating non-parametric dataset.\n",
      "9 "
     ]
    },
    {
     "name": "stdout",
     "output_type": "stream",
     "text": [
      " Generating non-parametric dataset.\n",
      "Creating GateSets: "
     ]
    },
    {
     "name": "stdout",
     "output_type": "stream",
     "text": [
      "\n",
      "Running MLGST Iteration 0 \n",
      "LGST: Singular values of I_tilde (truncating to first 4 of 6) = \n"
     ]
    },
    {
     "name": "stdout",
     "output_type": "stream",
     "text": [
      "[ 4.24456639  1.20003951  0.98516344  0.91779559  0.03726084  0.01213483]\n",
      "\n",
      "--- LGST ---\n"
     ]
    },
    {
     "name": "stdout",
     "output_type": "stream",
     "text": [
      "\n",
      "--- Iterative MLGST: Beginning iter 1 of 10 : 92 gate strings ---\n"
     ]
    },
    {
     "name": "stdout",
     "output_type": "stream",
     "text": [
      "--- Least Squares GST ---\n",
      "  Sum of Chi^2 = 97.7757 (92 data params - 40 model params = expected mean of 52; p-value = 0.000126604)"
     ]
    },
    {
     "name": "stdout",
     "output_type": "stream",
     "text": [
      "\n",
      "    2*Delta(log(L)) = 98.3119\n",
      "\n",
      "--- Iterative MLGST: Beginning iter 2 of 10 : 92 gate strings ---\n"
     ]
    },
    {
     "name": "stdout",
     "output_type": "stream",
     "text": [
      "--- Least Squares GST ---\n",
      "  Sum of Chi^2 = 97.7757 (92 data params - 40 model params = expected mean of 52; p-value = 0.000126605)"
     ]
    },
    {
     "name": "stdout",
     "output_type": "stream",
     "text": [
      "\n",
      "    2*Delta(log(L)) = 98.312\n",
      "\n",
      "--- Iterative MLGST: Beginning iter 3 of 10 : 168 gate strings ---\n"
     ]
    },
    {
     "name": "stdout",
     "output_type": "stream",
     "text": [
      "--- Least Squares GST ---\n",
      "  Sum of Chi^2 = 299.962 (168 data params - 40 model params = expected mean of 128; p-value = 7.77156e-16)"
     ]
    },
    {
     "name": "stdout",
     "output_type": "stream",
     "text": [
      "\n",
      "    2*Delta(log(L)) = 301.553\n",
      "\n",
      "--- Iterative MLGST: Beginning iter 4 of 10 : 441 gate strings ---\n"
     ]
    },
    {
     "name": "stdout",
     "output_type": "stream",
     "text": [
      "--- Least Squares GST ---\n",
      "  Sum of Chi^2 = 905.575 (441 data params - 40 model params = expected mean of 401; p-value = 0)"
     ]
    },
    {
     "name": "stdout",
     "output_type": "stream",
     "text": [
      "\n",
      "    2*Delta(log(L)) = 910.196\n",
      "\n",
      "--- Iterative MLGST: Beginning iter 5 of 10 : 817 gate strings ---\n"
     ]
    },
    {
     "name": "stdout",
     "output_type": "stream",
     "text": [
      "--- Least Squares GST ---\n",
      "  Sum of Chi^2 = 1713.9 (817 data params - 40 model params = expected mean of 777; p-value = 0)"
     ]
    },
    {
     "name": "stdout",
     "output_type": "stream",
     "text": [
      "\n",
      "    2*Delta(log(L)) = 1722.19\n",
      "\n",
      "--- Iterative MLGST: Beginning iter 6 of 10 : 1201 gate strings ---\n"
     ]
    },
    {
     "name": "stdout",
     "output_type": "stream",
     "text": [
      "--- Least Squares GST ---\n",
      "  Sum of Chi^2 = 2468.12 (1201 data params - 40 model params = expected mean of 1161; p-value = 0)"
     ]
    },
    {
     "name": "stdout",
     "output_type": "stream",
     "text": [
      "\n",
      "    2*Delta(log(L)) = 2478.27\n",
      "\n",
      "--- Iterative MLGST: Beginning iter 7 of 10 : 1585 gate strings ---\n"
     ]
    },
    {
     "name": "stdout",
     "output_type": "stream",
     "text": [
      "--- Least Squares GST ---\n",
      "  Sum of Chi^2 = 3277.8 (1585 data params - 40 model params = expected mean of 1545; p-value = 0)"
     ]
    },
    {
     "name": "stdout",
     "output_type": "stream",
     "text": [
      "\n",
      "    2*Delta(log(L)) = 3289.49"
     ]
    },
    {
     "name": "stdout",
     "output_type": "stream",
     "text": [
      "\n",
      "\n",
      "--- Iterative MLGST: Beginning iter 8 of 10 : 1969 gate strings ---\n"
     ]
    },
    {
     "name": "stdout",
     "output_type": "stream",
     "text": [
      "--- Least Squares GST ---\n",
      "  Sum of Chi^2 = 4052.86 (1969 data params - 40 model params = expected mean of 1929; p-value = 0)"
     ]
    },
    {
     "name": "stdout",
     "output_type": "stream",
     "text": [
      "\n",
      "    2*Delta(log(L)) = 4066.08"
     ]
    },
    {
     "name": "stdout",
     "output_type": "stream",
     "text": [
      "\n",
      "\n",
      "--- Iterative MLGST: Beginning iter 9 of 10 : 2353 gate strings ---\n"
     ]
    },
    {
     "name": "stdout",
     "output_type": "stream",
     "text": [
      "--- Least Squares GST ---\n",
      "  Sum of Chi^2 = 4749.46 (2353 data params - 40 model params = expected mean of 2313; p-value = 0)"
     ]
    },
    {
     "name": "stdout",
     "output_type": "stream",
     "text": [
      "\n",
      "    2*Delta(log(L)) = 4763.91"
     ]
    },
    {
     "name": "stdout",
     "output_type": "stream",
     "text": [
      "\n",
      "\n",
      "--- Iterative MLGST: Beginning iter 10 of 10 : 2737 gate strings ---\n"
     ]
    },
    {
     "name": "stdout",
     "output_type": "stream",
     "text": [
      "--- Least Squares GST ---\n",
      "  Sum of Chi^2 = 5450.61 (2737 data params - 40 model params = expected mean of 2697; p-value = 0)"
     ]
    },
    {
     "name": "stdout",
     "output_type": "stream",
     "text": [
      "\n",
      "    2*Delta(log(L)) = 5466.35"
     ]
    },
    {
     "name": "stdout",
     "output_type": "stream",
     "text": [
      "\n",
      "--- Last Iteration: switching to ML objective ---\n",
      "--- MLGST ---\n",
      "  Maximum log(L) = 2731.67 below upper bound of -4.59866e+06"
     ]
    },
    {
     "name": "stdout",
     "output_type": "stream",
     "text": [
      "\n",
      "    2*Delta(log(L)) = 5463.34 (2737 data params - 40 model params = expected mean of 2697; p-value = 0)\n",
      "    2*Delta(log(L)) = 5463.34\n",
      "Running MLGST Iteration 1 "
     ]
    },
    {
     "name": "stdout",
     "output_type": "stream",
     "text": [
      "\n",
      "LGST: Singular values of I_tilde (truncating to first 4 of 6) = \n"
     ]
    },
    {
     "name": "stdout",
     "output_type": "stream",
     "text": [
      "[ 4.24411165  1.1694558   0.9619148   0.92361444  0.04372413  0.0078674 ]\n",
      "\n",
      "--- LGST ---\n"
     ]
    },
    {
     "name": "stdout",
     "output_type": "stream",
     "text": [
      "\n",
      "--- Iterative MLGST: Beginning iter 1 of 10 : 92 gate strings ---\n"
     ]
    },
    {
     "name": "stdout",
     "output_type": "stream",
     "text": [
      "--- Least Squares GST ---\n",
      "  Sum of Chi^2 = 105.754 (92 data params - 40 model params = expected mean of 52; p-value = 1.5579e-05)"
     ]
    },
    {
     "name": "stdout",
     "output_type": "stream",
     "text": [
      "\n",
      "    2*Delta(log(L)) = 106.183\n",
      "\n",
      "--- Iterative MLGST: Beginning iter 2 of 10 : 92 gate strings ---\n"
     ]
    },
    {
     "name": "stdout",
     "output_type": "stream",
     "text": [
      "--- Least Squares GST ---\n",
      "  Sum of Chi^2 = 105.754 (92 data params - 40 model params = expected mean of 52; p-value = 1.5579e-05)"
     ]
    },
    {
     "name": "stdout",
     "output_type": "stream",
     "text": [
      "\n",
      "    2*Delta(log(L)) = 106.183\n",
      "\n",
      "--- Iterative MLGST: Beginning iter 3 of 10 : 168 gate strings ---\n"
     ]
    },
    {
     "name": "stdout",
     "output_type": "stream",
     "text": [
      "--- Least Squares GST ---\n",
      "  Sum of Chi^2 = 257.32 (168 data params - 40 model params = expected mean of 128; p-value = 1.01759e-10)"
     ]
    },
    {
     "name": "stdout",
     "output_type": "stream",
     "text": [
      "\n",
      "    2*Delta(log(L)) = 258.107\n",
      "\n",
      "--- Iterative MLGST: Beginning iter 4 of 10 : 441 gate strings ---\n"
     ]
    },
    {
     "name": "stdout",
     "output_type": "stream",
     "text": [
      "--- Least Squares GST ---\n",
      "  Sum of Chi^2 = 808.446 (441 data params - 40 model params = expected mean of 401; p-value = 0)"
     ]
    },
    {
     "name": "stdout",
     "output_type": "stream",
     "text": [
      "\n",
      "    2*Delta(log(L)) = 810.616\n",
      "\n",
      "--- Iterative MLGST: Beginning iter 5 of 10 : 817 gate strings ---\n"
     ]
    },
    {
     "name": "stdout",
     "output_type": "stream",
     "text": [
      "--- Least Squares GST ---\n",
      "  Sum of Chi^2 = 1546.82 (817 data params - 40 model params = expected mean of 777; p-value = 0)"
     ]
    },
    {
     "name": "stdout",
     "output_type": "stream",
     "text": [
      "\n",
      "    2*Delta(log(L)) = 1550.37\n",
      "\n",
      "--- Iterative MLGST: Beginning iter 6 of 10 : 1201 gate strings ---\n"
     ]
    },
    {
     "name": "stdout",
     "output_type": "stream",
     "text": [
      "--- Least Squares GST ---\n",
      "  Sum of Chi^2 = 2207.63 (1201 data params - 40 model params = expected mean of 1161; p-value = 0)"
     ]
    },
    {
     "name": "stdout",
     "output_type": "stream",
     "text": [
      "\n",
      "    2*Delta(log(L)) = 2212.56\n",
      "\n",
      "--- Iterative MLGST: Beginning iter 7 of 10 : 1585 gate strings ---\n"
     ]
    },
    {
     "name": "stdout",
     "output_type": "stream",
     "text": [
      "--- Least Squares GST ---\n",
      "  Sum of Chi^2 = 3034.1 (1585 data params - 40 model params = expected mean of 1545; p-value = 0)"
     ]
    },
    {
     "name": "stdout",
     "output_type": "stream",
     "text": [
      "\n",
      "    2*Delta(log(L)) = 3040.74"
     ]
    },
    {
     "name": "stdout",
     "output_type": "stream",
     "text": [
      "\n",
      "\n",
      "--- Iterative MLGST: Beginning iter 8 of 10 : 1969 gate strings ---\n"
     ]
    },
    {
     "name": "stdout",
     "output_type": "stream",
     "text": [
      "--- Least Squares GST ---\n",
      "  Sum of Chi^2 = 3823.85 (1969 data params - 40 model params = expected mean of 1929; p-value = 0)"
     ]
    },
    {
     "name": "stdout",
     "output_type": "stream",
     "text": [
      "\n",
      "    2*Delta(log(L)) = 3832.06"
     ]
    },
    {
     "name": "stdout",
     "output_type": "stream",
     "text": [
      "\n",
      "\n",
      "--- Iterative MLGST: Beginning iter 9 of 10 : 2353 gate strings ---\n"
     ]
    },
    {
     "name": "stdout",
     "output_type": "stream",
     "text": [
      "--- Least Squares GST ---\n",
      "  Sum of Chi^2 = 4514.86 (2353 data params - 40 model params = expected mean of 2313; p-value = 0)"
     ]
    },
    {
     "name": "stdout",
     "output_type": "stream",
     "text": [
      "\n",
      "    2*Delta(log(L)) = 4524.29"
     ]
    },
    {
     "name": "stdout",
     "output_type": "stream",
     "text": [
      "\n",
      "\n",
      "--- Iterative MLGST: Beginning iter 10 of 10 : 2737 gate strings ---\n"
     ]
    },
    {
     "name": "stdout",
     "output_type": "stream",
     "text": [
      "--- Least Squares GST ---\n",
      "  Sum of Chi^2 = 5245.15 (2737 data params - 40 model params = expected mean of 2697; p-value = 0)"
     ]
    },
    {
     "name": "stdout",
     "output_type": "stream",
     "text": [
      "\n",
      "    2*Delta(log(L)) = 5256.01"
     ]
    },
    {
     "name": "stdout",
     "output_type": "stream",
     "text": [
      "\n",
      "--- Last Iteration: switching to ML objective ---\n",
      "--- MLGST ---\n",
      "  Maximum log(L) = 2626.67 below upper bound of -4.59916e+06"
     ]
    },
    {
     "name": "stdout",
     "output_type": "stream",
     "text": [
      "\n",
      "    2*Delta(log(L)) = 5253.34 (2737 data params - 40 model params = expected mean of 2697; p-value = 0)\n",
      "    2*Delta(log(L)) = 5253.34\n",
      "Running MLGST Iteration 2 "
     ]
    },
    {
     "name": "stdout",
     "output_type": "stream",
     "text": [
      "\n",
      "LGST: Singular values of I_tilde (truncating to first 4 of 6) = \n"
     ]
    },
    {
     "name": "stdout",
     "output_type": "stream",
     "text": [
      "[ 4.24427705  1.16035247  0.96396723  0.91801576  0.02234415  0.00845476]\n",
      "\n",
      "--- LGST ---\n"
     ]
    },
    {
     "name": "stdout",
     "output_type": "stream",
     "text": [
      "\n",
      "--- Iterative MLGST: Beginning iter 1 of 10 : 92 gate strings ---\n"
     ]
    },
    {
     "name": "stdout",
     "output_type": "stream",
     "text": [
      "--- Least Squares GST ---\n",
      "  Sum of Chi^2 = 96.3682 (92 data params - 40 model params = expected mean of 52; p-value = 0.000180492)"
     ]
    },
    {
     "name": "stdout",
     "output_type": "stream",
     "text": [
      "\n",
      "    2*Delta(log(L)) = 96.5972\n",
      "\n",
      "--- Iterative MLGST: Beginning iter 2 of 10 : 92 gate strings ---\n"
     ]
    },
    {
     "name": "stdout",
     "output_type": "stream",
     "text": [
      "--- Least Squares GST ---\n",
      "  Sum of Chi^2 = 96.3682 (92 data params - 40 model params = expected mean of 52; p-value = 0.000180492)"
     ]
    },
    {
     "name": "stdout",
     "output_type": "stream",
     "text": [
      "\n",
      "    2*Delta(log(L)) = 96.5971\n",
      "\n",
      "--- Iterative MLGST: Beginning iter 3 of 10 : 168 gate strings ---\n"
     ]
    },
    {
     "name": "stdout",
     "output_type": "stream",
     "text": [
      "--- Least Squares GST ---\n",
      "  Sum of Chi^2 = 265.592 (168 data params - 40 model params = expected mean of 128; p-value = 1.16123e-11)"
     ]
    },
    {
     "name": "stdout",
     "output_type": "stream",
     "text": [
      "\n",
      "    2*Delta(log(L)) = 265.854\n",
      "\n",
      "--- Iterative MLGST: Beginning iter 4 of 10 : 441 gate strings ---\n"
     ]
    },
    {
     "name": "stdout",
     "output_type": "stream",
     "text": [
      "--- Least Squares GST ---\n",
      "  Sum of Chi^2 = 818.066 (441 data params - 40 model params = expected mean of 401; p-value = 0)"
     ]
    },
    {
     "name": "stdout",
     "output_type": "stream",
     "text": [
      "\n",
      "    2*Delta(log(L)) = 820.554\n",
      "\n",
      "--- Iterative MLGST: Beginning iter 5 of 10 : 817 gate strings ---\n"
     ]
    },
    {
     "name": "stdout",
     "output_type": "stream",
     "text": [
      "--- Least Squares GST ---\n",
      "  Sum of Chi^2 = 1580.23 (817 data params - 40 model params = expected mean of 777; p-value = 0)"
     ]
    },
    {
     "name": "stdout",
     "output_type": "stream",
     "text": [
      "\n",
      "    2*Delta(log(L)) = 1585.34\n",
      "\n",
      "--- Iterative MLGST: Beginning iter 6 of 10 : 1201 gate strings ---\n"
     ]
    },
    {
     "name": "stdout",
     "output_type": "stream",
     "text": [
      "--- Least Squares GST ---\n",
      "  Sum of Chi^2 = 2388.4 (1201 data params - 40 model params = expected mean of 1161; p-value = 0)"
     ]
    },
    {
     "name": "stdout",
     "output_type": "stream",
     "text": [
      "\n",
      "    2*Delta(log(L)) = 2395.46\n",
      "\n",
      "--- Iterative MLGST: Beginning iter 7 of 10 : 1585 gate strings ---\n"
     ]
    },
    {
     "name": "stdout",
     "output_type": "stream",
     "text": [
      "--- Least Squares GST ---\n",
      "  Sum of Chi^2 = 3153.62 (1585 data params - 40 model params = expected mean of 1545; p-value = 0)"
     ]
    },
    {
     "name": "stdout",
     "output_type": "stream",
     "text": [
      "\n",
      "    2*Delta(log(L)) = 3162.08\n",
      "\n",
      "--- Iterative MLGST: Beginning iter 8 of 10 : 1969 gate strings ---\n"
     ]
    },
    {
     "name": "stdout",
     "output_type": "stream",
     "text": [
      "--- Least Squares GST ---\n",
      "  Sum of Chi^2 = 4004.84 (1969 data params - 40 model params = expected mean of 1929; p-value = 0)"
     ]
    },
    {
     "name": "stdout",
     "output_type": "stream",
     "text": [
      "\n",
      "    2*Delta(log(L)) = 4015.11"
     ]
    },
    {
     "name": "stdout",
     "output_type": "stream",
     "text": [
      "\n",
      "\n",
      "--- Iterative MLGST: Beginning iter 9 of 10 : 2353 gate strings ---\n"
     ]
    },
    {
     "name": "stdout",
     "output_type": "stream",
     "text": [
      "--- Least Squares GST ---\n",
      "  Sum of Chi^2 = 4796.01 (2353 data params - 40 model params = expected mean of 2313; p-value = 0)"
     ]
    },
    {
     "name": "stdout",
     "output_type": "stream",
     "text": [
      "\n",
      "    2*Delta(log(L)) = 4808.08"
     ]
    },
    {
     "name": "stdout",
     "output_type": "stream",
     "text": [
      "\n",
      "\n",
      "--- Iterative MLGST: Beginning iter 10 of 10 : 2737 gate strings ---\n"
     ]
    },
    {
     "name": "stdout",
     "output_type": "stream",
     "text": [
      "--- Least Squares GST ---\n",
      "  Sum of Chi^2 = 5484.69 (2737 data params - 40 model params = expected mean of 2697; p-value = 0)"
     ]
    },
    {
     "name": "stdout",
     "output_type": "stream",
     "text": [
      "\n",
      "    2*Delta(log(L)) = 5497.95"
     ]
    },
    {
     "name": "stdout",
     "output_type": "stream",
     "text": [
      "\n",
      "--- Last Iteration: switching to ML objective ---\n",
      "--- MLGST ---\n",
      "  Maximum log(L) = 2747.47 below upper bound of -4.59897e+06"
     ]
    },
    {
     "name": "stdout",
     "output_type": "stream",
     "text": [
      "\n",
      "    2*Delta(log(L)) = 5494.94 (2737 data params - 40 model params = expected mean of 2697; p-value = 0)\n",
      "    2*Delta(log(L)) = 5494.94\n",
      "Running MLGST Iteration 3 "
     ]
    },
    {
     "name": "stdout",
     "output_type": "stream",
     "text": [
      "\n",
      "LGST: Singular values of I_tilde (truncating to first 4 of 6) = \n"
     ]
    },
    {
     "name": "stdout",
     "output_type": "stream",
     "text": [
      "[ 4.24378174  1.21996329  0.97803729  0.93844487  0.04306628  0.02239944]\n",
      "\n",
      "--- LGST ---\n"
     ]
    },
    {
     "name": "stdout",
     "output_type": "stream",
     "text": [
      "\n",
      "--- Iterative MLGST: Beginning iter 1 of 10 : 92 gate strings ---\n"
     ]
    },
    {
     "name": "stdout",
     "output_type": "stream",
     "text": [
      "--- Least Squares GST ---\n",
      "  Sum of Chi^2 = 125.442 (92 data params - 40 model params = expected mean of 52; p-value = 5.23829e-08)"
     ]
    },
    {
     "name": "stdout",
     "output_type": "stream",
     "text": [
      "\n",
      "    2*Delta(log(L)) = 126.504\n",
      "\n",
      "--- Iterative MLGST: Beginning iter 2 of 10 : 92 gate strings ---\n"
     ]
    },
    {
     "name": "stdout",
     "output_type": "stream",
     "text": [
      "--- Least Squares GST ---\n",
      "  Sum of Chi^2 = 125.442 (92 data params - 40 model params = expected mean of 52; p-value = 5.2383e-08)"
     ]
    },
    {
     "name": "stdout",
     "output_type": "stream",
     "text": [
      "\n",
      "    2*Delta(log(L)) = 126.504\n",
      "\n",
      "--- Iterative MLGST: Beginning iter 3 of 10 : 168 gate strings ---\n"
     ]
    },
    {
     "name": "stdout",
     "output_type": "stream",
     "text": [
      "--- Least Squares GST ---\n",
      "  Sum of Chi^2 = 267.09 (168 data params - 40 model params = expected mean of 128; p-value = 7.78855e-12)"
     ]
    },
    {
     "name": "stdout",
     "output_type": "stream",
     "text": [
      "\n",
      "    2*Delta(log(L)) = 268.416\n",
      "\n",
      "--- Iterative MLGST: Beginning iter 4 of 10 : 441 gate strings ---\n"
     ]
    },
    {
     "name": "stdout",
     "output_type": "stream",
     "text": [
      "--- Least Squares GST ---\n",
      "  Sum of Chi^2 = 829.691 (441 data params - 40 model params = expected mean of 401; p-value = 0)"
     ]
    },
    {
     "name": "stdout",
     "output_type": "stream",
     "text": [
      "\n",
      "    2*Delta(log(L)) = 832.772\n",
      "\n",
      "--- Iterative MLGST: Beginning iter 5 of 10 : 817 gate strings ---\n"
     ]
    },
    {
     "name": "stdout",
     "output_type": "stream",
     "text": [
      "--- Least Squares GST ---\n",
      "  Sum of Chi^2 = 1534.75 (817 data params - 40 model params = expected mean of 777; p-value = 0)"
     ]
    },
    {
     "name": "stdout",
     "output_type": "stream",
     "text": [
      "\n",
      "    2*Delta(log(L)) = 1540.49\n",
      "\n",
      "--- Iterative MLGST: Beginning iter 6 of 10 : 1201 gate strings ---\n"
     ]
    },
    {
     "name": "stdout",
     "output_type": "stream",
     "text": [
      "--- Least Squares GST ---\n",
      "  Sum of Chi^2 = 2243.51 (1201 data params - 40 model params = expected mean of 1161; p-value = 0)"
     ]
    },
    {
     "name": "stdout",
     "output_type": "stream",
     "text": [
      "\n",
      "    2*Delta(log(L)) = 2250.62\n",
      "\n",
      "--- Iterative MLGST: Beginning iter 7 of 10 : 1585 gate strings ---\n"
     ]
    },
    {
     "name": "stdout",
     "output_type": "stream",
     "text": [
      "--- Least Squares GST ---\n",
      "  Sum of Chi^2 = 3088.87 (1585 data params - 40 model params = expected mean of 1545; p-value = 0)"
     ]
    },
    {
     "name": "stdout",
     "output_type": "stream",
     "text": [
      "\n",
      "    2*Delta(log(L)) = 3097.64"
     ]
    },
    {
     "name": "stdout",
     "output_type": "stream",
     "text": [
      "\n",
      "\n",
      "--- Iterative MLGST: Beginning iter 8 of 10 : 1969 gate strings ---\n"
     ]
    },
    {
     "name": "stdout",
     "output_type": "stream",
     "text": [
      "--- Least Squares GST ---\n",
      "  Sum of Chi^2 = 3917.52 (1969 data params - 40 model params = expected mean of 1929; p-value = 0)"
     ]
    },
    {
     "name": "stdout",
     "output_type": "stream",
     "text": [
      "\n",
      "    2*Delta(log(L)) = 3928.19"
     ]
    },
    {
     "name": "stdout",
     "output_type": "stream",
     "text": [
      "\n",
      "\n",
      "--- Iterative MLGST: Beginning iter 9 of 10 : 2353 gate strings ---\n"
     ]
    },
    {
     "name": "stdout",
     "output_type": "stream",
     "text": [
      "--- Least Squares GST ---\n",
      "  Sum of Chi^2 = 4634.11 (2353 data params - 40 model params = expected mean of 2313; p-value = 0)"
     ]
    },
    {
     "name": "stdout",
     "output_type": "stream",
     "text": [
      "\n",
      "    2*Delta(log(L)) = 4646.13"
     ]
    },
    {
     "name": "stdout",
     "output_type": "stream",
     "text": [
      "\n",
      "\n",
      "--- Iterative MLGST: Beginning iter 10 of 10 : 2737 gate strings ---\n"
     ]
    },
    {
     "name": "stdout",
     "output_type": "stream",
     "text": [
      "--- Least Squares GST ---\n",
      "  Sum of Chi^2 = 5303.13 (2737 data params - 40 model params = expected mean of 2697; p-value = 0)"
     ]
    },
    {
     "name": "stdout",
     "output_type": "stream",
     "text": [
      "\n",
      "    2*Delta(log(L)) = 5316.21"
     ]
    },
    {
     "name": "stdout",
     "output_type": "stream",
     "text": [
      "\n",
      "--- Last Iteration: switching to ML objective ---\n",
      "--- MLGST ---\n",
      "  Maximum log(L) = 2656.69 below upper bound of -4.59909e+06"
     ]
    },
    {
     "name": "stdout",
     "output_type": "stream",
     "text": [
      "\n",
      "    2*Delta(log(L)) = 5313.37 (2737 data params - 40 model params = expected mean of 2697; p-value = 0)\n",
      "    2*Delta(log(L)) = 5313.37\n",
      "Running MLGST Iteration 4 "
     ]
    },
    {
     "name": "stdout",
     "output_type": "stream",
     "text": [
      "\n",
      "LGST: Singular values of I_tilde (truncating to first 4 of 6) = \n"
     ]
    },
    {
     "name": "stdout",
     "output_type": "stream",
     "text": [
      "[ 4.24379659  1.17392033  0.9948911   0.87843068  0.04711465  0.02007583]\n",
      "\n",
      "--- LGST ---\n"
     ]
    },
    {
     "name": "stdout",
     "output_type": "stream",
     "text": [
      "\n",
      "--- Iterative MLGST: Beginning iter 1 of 10 : 92 gate strings ---\n"
     ]
    },
    {
     "name": "stdout",
     "output_type": "stream",
     "text": [
      "--- Least Squares GST ---\n",
      "  Sum of Chi^2 = 138.075 (92 data params - 40 model params = expected mean of 52; p-value = 9.86163e-10)"
     ]
    },
    {
     "name": "stdout",
     "output_type": "stream",
     "text": [
      "\n",
      "    2*Delta(log(L)) = 139.149\n",
      "\n",
      "--- Iterative MLGST: Beginning iter 2 of 10 : 92 gate strings ---\n"
     ]
    },
    {
     "name": "stdout",
     "output_type": "stream",
     "text": [
      "--- Least Squares GST ---\n",
      "  Sum of Chi^2 = 138.075 (92 data params - 40 model params = expected mean of 52; p-value = 9.86163e-10)"
     ]
    },
    {
     "name": "stdout",
     "output_type": "stream",
     "text": [
      "\n",
      "    2*Delta(log(L)) = 139.149\n",
      "\n",
      "--- Iterative MLGST: Beginning iter 3 of 10 : 168 gate strings ---\n"
     ]
    },
    {
     "name": "stdout",
     "output_type": "stream",
     "text": [
      "--- Least Squares GST ---\n",
      "  Sum of Chi^2 = 295.331 (168 data params - 40 model params = expected mean of 128; p-value = 2.9976e-15)"
     ]
    },
    {
     "name": "stdout",
     "output_type": "stream",
     "text": [
      "\n",
      "    2*Delta(log(L)) = 296.37\n",
      "\n",
      "--- Iterative MLGST: Beginning iter 4 of 10 : 441 gate strings ---\n"
     ]
    },
    {
     "name": "stdout",
     "output_type": "stream",
     "text": [
      "--- Least Squares GST ---\n",
      "  Sum of Chi^2 = 811.404 (441 data params - 40 model params = expected mean of 401; p-value = 0)"
     ]
    },
    {
     "name": "stdout",
     "output_type": "stream",
     "text": [
      "\n",
      "    2*Delta(log(L)) = 813.171\n",
      "\n",
      "--- Iterative MLGST: Beginning iter 5 of 10 : 817 gate strings ---\n"
     ]
    },
    {
     "name": "stdout",
     "output_type": "stream",
     "text": [
      "--- Least Squares GST ---\n",
      "  Sum of Chi^2 = 1460.69 (817 data params - 40 model params = expected mean of 777; p-value = 0)"
     ]
    },
    {
     "name": "stdout",
     "output_type": "stream",
     "text": [
      "\n",
      "    2*Delta(log(L)) = 1464.73\n",
      "\n",
      "--- Iterative MLGST: Beginning iter 6 of 10 : 1201 gate strings ---\n"
     ]
    },
    {
     "name": "stdout",
     "output_type": "stream",
     "text": [
      "--- Least Squares GST ---\n",
      "  Sum of Chi^2 = 2334.29 (1201 data params - 40 model params = expected mean of 1161; p-value = 0)"
     ]
    },
    {
     "name": "stdout",
     "output_type": "stream",
     "text": [
      "\n",
      "    2*Delta(log(L)) = 2340.69\n",
      "\n",
      "--- Iterative MLGST: Beginning iter 7 of 10 : 1585 gate strings ---\n"
     ]
    },
    {
     "name": "stdout",
     "output_type": "stream",
     "text": [
      "--- Least Squares GST ---\n",
      "  Sum of Chi^2 = 3255.89 (1585 data params - 40 model params = expected mean of 1545; p-value = 0)"
     ]
    },
    {
     "name": "stdout",
     "output_type": "stream",
     "text": [
      "\n",
      "    2*Delta(log(L)) = 3264.51"
     ]
    },
    {
     "name": "stdout",
     "output_type": "stream",
     "text": [
      "\n",
      "\n",
      "--- Iterative MLGST: Beginning iter 8 of 10 : 1969 gate strings ---\n"
     ]
    },
    {
     "name": "stdout",
     "output_type": "stream",
     "text": [
      "--- Least Squares GST ---\n",
      "  Sum of Chi^2 = 4009.72 (1969 data params - 40 model params = expected mean of 1929; p-value = 0)"
     ]
    },
    {
     "name": "stdout",
     "output_type": "stream",
     "text": [
      "\n",
      "    2*Delta(log(L)) = 4019.75"
     ]
    },
    {
     "name": "stdout",
     "output_type": "stream",
     "text": [
      "\n",
      "\n",
      "--- Iterative MLGST: Beginning iter 9 of 10 : 2353 gate strings ---\n"
     ]
    },
    {
     "name": "stdout",
     "output_type": "stream",
     "text": [
      "--- Least Squares GST ---\n",
      "  Sum of Chi^2 = 4826.79 (2353 data params - 40 model params = expected mean of 2313; p-value = 0)"
     ]
    },
    {
     "name": "stdout",
     "output_type": "stream",
     "text": [
      "\n",
      "    2*Delta(log(L)) = 4838.61"
     ]
    },
    {
     "name": "stdout",
     "output_type": "stream",
     "text": [
      "\n",
      "\n",
      "--- Iterative MLGST: Beginning iter 10 of 10 : 2737 gate strings ---\n"
     ]
    },
    {
     "name": "stdout",
     "output_type": "stream",
     "text": [
      "--- Least Squares GST ---\n",
      "  Sum of Chi^2 = 5589.65 (2737 data params - 40 model params = expected mean of 2697; p-value = 0)"
     ]
    },
    {
     "name": "stdout",
     "output_type": "stream",
     "text": [
      "\n",
      "    2*Delta(log(L)) = 5603.02"
     ]
    },
    {
     "name": "stdout",
     "output_type": "stream",
     "text": [
      "\n",
      "--- Last Iteration: switching to ML objective ---\n",
      "--- MLGST ---\n",
      "  Maximum log(L) = 2799.99 below upper bound of -4.59866e+06"
     ]
    },
    {
     "name": "stdout",
     "output_type": "stream",
     "text": [
      "\n",
      "    2*Delta(log(L)) = 5599.98 (2737 data params - 40 model params = expected mean of 2697; p-value = 0)\n",
      "    2*Delta(log(L)) = 5599.98\n",
      "Running MLGST Iteration 5 "
     ]
    },
    {
     "name": "stdout",
     "output_type": "stream",
     "text": [
      "\n",
      "LGST: Singular values of I_tilde (truncating to first 4 of 6) = \n"
     ]
    },
    {
     "name": "stdout",
     "output_type": "stream",
     "text": [
      "[ 4.24427826  1.1671019   0.96738801  0.92230681  0.06939313  0.02182648]\n",
      "\n",
      "--- LGST ---\n"
     ]
    },
    {
     "name": "stdout",
     "output_type": "stream",
     "text": [
      "\n",
      "--- Iterative MLGST: Beginning iter 1 of 10 : 92 gate strings ---\n"
     ]
    },
    {
     "name": "stdout",
     "output_type": "stream",
     "text": [
      "--- Least Squares GST ---\n",
      "  Sum of Chi^2 = 119.511 (92 data params - 40 model params = expected mean of 52; p-value = 3.12224e-07)"
     ]
    },
    {
     "name": "stdout",
     "output_type": "stream",
     "text": [
      "\n",
      "    2*Delta(log(L)) = 120.249\n",
      "\n",
      "--- Iterative MLGST: Beginning iter 2 of 10 : 92 gate strings ---\n"
     ]
    },
    {
     "name": "stdout",
     "output_type": "stream",
     "text": [
      "--- Least Squares GST ---\n",
      "  Sum of Chi^2 = 119.511 (92 data params - 40 model params = expected mean of 52; p-value = 3.12229e-07)"
     ]
    },
    {
     "name": "stdout",
     "output_type": "stream",
     "text": [
      "\n",
      "    2*Delta(log(L)) = 120.247\n",
      "\n",
      "--- Iterative MLGST: Beginning iter 3 of 10 : 168 gate strings ---\n"
     ]
    },
    {
     "name": "stdout",
     "output_type": "stream",
     "text": [
      "--- Least Squares GST ---\n",
      "  Sum of Chi^2 = 258.624 (168 data params - 40 model params = expected mean of 128; p-value = 7.25644e-11)"
     ]
    },
    {
     "name": "stdout",
     "output_type": "stream",
     "text": [
      "\n",
      "    2*Delta(log(L)) = 260.119\n",
      "\n",
      "--- Iterative MLGST: Beginning iter 4 of 10 : 441 gate strings ---\n"
     ]
    },
    {
     "name": "stdout",
     "output_type": "stream",
     "text": [
      "--- Least Squares GST ---\n",
      "  Sum of Chi^2 = 865.078 (441 data params - 40 model params = expected mean of 401; p-value = 0)"
     ]
    },
    {
     "name": "stdout",
     "output_type": "stream",
     "text": [
      "\n",
      "    2*Delta(log(L)) = 869.378\n",
      "\n",
      "--- Iterative MLGST: Beginning iter 5 of 10 : 817 gate strings ---\n"
     ]
    },
    {
     "name": "stdout",
     "output_type": "stream",
     "text": [
      "--- Least Squares GST ---\n",
      "  Sum of Chi^2 = 1540.99 (817 data params - 40 model params = expected mean of 777; p-value = 0)"
     ]
    },
    {
     "name": "stdout",
     "output_type": "stream",
     "text": [
      "\n",
      "    2*Delta(log(L)) = 1548.31\n",
      "\n",
      "--- Iterative MLGST: Beginning iter 6 of 10 : 1201 gate strings ---\n"
     ]
    },
    {
     "name": "stdout",
     "output_type": "stream",
     "text": [
      "--- Least Squares GST ---\n",
      "  Sum of Chi^2 = 2251.01 (1201 data params - 40 model params = expected mean of 1161; p-value = 0)"
     ]
    },
    {
     "name": "stdout",
     "output_type": "stream",
     "text": [
      "\n",
      "    2*Delta(log(L)) = 2260.29\n",
      "\n",
      "--- Iterative MLGST: Beginning iter 7 of 10 : 1585 gate strings ---\n"
     ]
    },
    {
     "name": "stdout",
     "output_type": "stream",
     "text": [
      "--- Least Squares GST ---\n",
      "  Sum of Chi^2 = 3101.63 (1585 data params - 40 model params = expected mean of 1545; p-value = 0)"
     ]
    },
    {
     "name": "stdout",
     "output_type": "stream",
     "text": [
      "\n",
      "    2*Delta(log(L)) = 3112.88"
     ]
    },
    {
     "name": "stdout",
     "output_type": "stream",
     "text": [
      "\n",
      "\n",
      "--- Iterative MLGST: Beginning iter 8 of 10 : 1969 gate strings ---\n"
     ]
    },
    {
     "name": "stdout",
     "output_type": "stream",
     "text": [
      "--- Least Squares GST ---\n",
      "  Sum of Chi^2 = 4003.55 (1969 data params - 40 model params = expected mean of 1929; p-value = 0)"
     ]
    },
    {
     "name": "stdout",
     "output_type": "stream",
     "text": [
      "\n",
      "    2*Delta(log(L)) = 4016.94"
     ]
    },
    {
     "name": "stdout",
     "output_type": "stream",
     "text": [
      "\n",
      "\n",
      "--- Iterative MLGST: Beginning iter 9 of 10 : 2353 gate strings ---\n"
     ]
    },
    {
     "name": "stdout",
     "output_type": "stream",
     "text": [
      "--- Least Squares GST ---\n",
      "  Sum of Chi^2 = 4787.74 (2353 data params - 40 model params = expected mean of 2313; p-value = 0)"
     ]
    },
    {
     "name": "stdout",
     "output_type": "stream",
     "text": [
      "\n",
      "    2*Delta(log(L)) = 4802.66"
     ]
    },
    {
     "name": "stdout",
     "output_type": "stream",
     "text": [
      "\n",
      "\n",
      "--- Iterative MLGST: Beginning iter 10 of 10 : 2737 gate strings ---\n"
     ]
    },
    {
     "name": "stdout",
     "output_type": "stream",
     "text": [
      "--- Least Squares GST ---\n",
      "  Sum of Chi^2 = 5595.08 (2737 data params - 40 model params = expected mean of 2697; p-value = 0)"
     ]
    },
    {
     "name": "stdout",
     "output_type": "stream",
     "text": [
      "\n",
      "    2*Delta(log(L)) = 5611.91"
     ]
    },
    {
     "name": "stdout",
     "output_type": "stream",
     "text": [
      "\n",
      "--- Last Iteration: switching to ML objective ---\n",
      "--- MLGST ---\n",
      "  Maximum log(L) = 2804.39 below upper bound of -4.59901e+06"
     ]
    },
    {
     "name": "stdout",
     "output_type": "stream",
     "text": [
      "\n",
      "    2*Delta(log(L)) = 5608.78 (2737 data params - 40 model params = expected mean of 2697; p-value = 0)\n",
      "    2*Delta(log(L)) = 5608.78\n",
      "Running MLGST Iteration 6 "
     ]
    },
    {
     "name": "stdout",
     "output_type": "stream",
     "text": [
      "\n",
      "LGST: Singular values of I_tilde (truncating to first 4 of 6) = \n"
     ]
    },
    {
     "name": "stdout",
     "output_type": "stream",
     "text": [
      "[ 4.24411097  1.19781472  0.96382721  0.92811765  0.05292843  0.01809055]\n",
      "\n",
      "--- LGST ---\n"
     ]
    },
    {
     "name": "stdout",
     "output_type": "stream",
     "text": [
      "\n",
      "--- Iterative MLGST: Beginning iter 1 of 10 : 92 gate strings ---\n"
     ]
    },
    {
     "name": "stdout",
     "output_type": "stream",
     "text": [
      "--- Least Squares GST ---\n",
      "  Sum of Chi^2 = 89.9967 (92 data params - 40 model params = expected mean of 52; p-value = 0.000844741)"
     ]
    },
    {
     "name": "stdout",
     "output_type": "stream",
     "text": [
      "\n",
      "    2*Delta(log(L)) = 90.1207\n",
      "\n",
      "--- Iterative MLGST: Beginning iter 2 of 10 : 92 gate strings ---\n"
     ]
    },
    {
     "name": "stdout",
     "output_type": "stream",
     "text": [
      "--- Least Squares GST ---\n",
      "  Sum of Chi^2 = 89.9967 (92 data params - 40 model params = expected mean of 52; p-value = 0.000844741)"
     ]
    },
    {
     "name": "stdout",
     "output_type": "stream",
     "text": [
      "\n",
      "    2*Delta(log(L)) = 90.1207\n",
      "\n",
      "--- Iterative MLGST: Beginning iter 3 of 10 : 168 gate strings ---\n"
     ]
    },
    {
     "name": "stdout",
     "output_type": "stream",
     "text": [
      "--- Least Squares GST ---\n",
      "  Sum of Chi^2 = 254.914 (168 data params - 40 model params = expected mean of 128; p-value = 1.89101e-10)"
     ]
    },
    {
     "name": "stdout",
     "output_type": "stream",
     "text": [
      "\n",
      "    2*Delta(log(L)) = 255.525\n",
      "\n",
      "--- Iterative MLGST: Beginning iter 4 of 10 : 441 gate strings ---\n"
     ]
    },
    {
     "name": "stdout",
     "output_type": "stream",
     "text": [
      "--- Least Squares GST ---\n",
      "  Sum of Chi^2 = 813.156 (441 data params - 40 model params = expected mean of 401; p-value = 0)"
     ]
    },
    {
     "name": "stdout",
     "output_type": "stream",
     "text": [
      "\n",
      "    2*Delta(log(L)) = 814.826\n",
      "\n",
      "--- Iterative MLGST: Beginning iter 5 of 10 : 817 gate strings ---\n"
     ]
    },
    {
     "name": "stdout",
     "output_type": "stream",
     "text": [
      "--- Least Squares GST ---\n",
      "  Sum of Chi^2 = 1528.33 (817 data params - 40 model params = expected mean of 777; p-value = 0)"
     ]
    },
    {
     "name": "stdout",
     "output_type": "stream",
     "text": [
      "\n",
      "    2*Delta(log(L)) = 1531.87\n",
      "\n",
      "--- Iterative MLGST: Beginning iter 6 of 10 : 1201 gate strings ---\n"
     ]
    },
    {
     "name": "stdout",
     "output_type": "stream",
     "text": [
      "--- Least Squares GST ---\n",
      "  Sum of Chi^2 = 2292.16 (1201 data params - 40 model params = expected mean of 1161; p-value = 0)"
     ]
    },
    {
     "name": "stdout",
     "output_type": "stream",
     "text": [
      "\n",
      "    2*Delta(log(L)) = 2297.25\n",
      "\n",
      "--- Iterative MLGST: Beginning iter 7 of 10 : 1585 gate strings ---\n"
     ]
    },
    {
     "name": "stdout",
     "output_type": "stream",
     "text": [
      "--- Least Squares GST ---\n",
      "  Sum of Chi^2 = 3063.34 (1585 data params - 40 model params = expected mean of 1545; p-value = 0)"
     ]
    },
    {
     "name": "stdout",
     "output_type": "stream",
     "text": [
      "\n",
      "    2*Delta(log(L)) = 3070.08"
     ]
    },
    {
     "name": "stdout",
     "output_type": "stream",
     "text": [
      "\n",
      "\n",
      "--- Iterative MLGST: Beginning iter 8 of 10 : 1969 gate strings ---\n"
     ]
    },
    {
     "name": "stdout",
     "output_type": "stream",
     "text": [
      "--- Least Squares GST ---\n",
      "  Sum of Chi^2 = 3945.53 (1969 data params - 40 model params = expected mean of 1929; p-value = 0)"
     ]
    },
    {
     "name": "stdout",
     "output_type": "stream",
     "text": [
      "\n",
      "    2*Delta(log(L)) = 3954.3"
     ]
    },
    {
     "name": "stdout",
     "output_type": "stream",
     "text": [
      "\n",
      "\n",
      "--- Iterative MLGST: Beginning iter 9 of 10 : 2353 gate strings ---\n"
     ]
    },
    {
     "name": "stdout",
     "output_type": "stream",
     "text": [
      "--- Least Squares GST ---\n",
      "  Sum of Chi^2 = 4820.62 (2353 data params - 40 model params = expected mean of 2313; p-value = 0)"
     ]
    },
    {
     "name": "stdout",
     "output_type": "stream",
     "text": [
      "\n",
      "    2*Delta(log(L)) = 4831.42"
     ]
    },
    {
     "name": "stdout",
     "output_type": "stream",
     "text": [
      "\n",
      "\n",
      "--- Iterative MLGST: Beginning iter 10 of 10 : 2737 gate strings ---\n"
     ]
    },
    {
     "name": "stdout",
     "output_type": "stream",
     "text": [
      "--- Least Squares GST ---\n",
      "  Sum of Chi^2 = 5652.9 (2737 data params - 40 model params = expected mean of 2697; p-value = 0)"
     ]
    },
    {
     "name": "stdout",
     "output_type": "stream",
     "text": [
      "\n",
      "    2*Delta(log(L)) = 5665.48"
     ]
    },
    {
     "name": "stdout",
     "output_type": "stream",
     "text": [
      "\n",
      "--- Last Iteration: switching to ML objective ---\n",
      "--- MLGST ---\n",
      "  Maximum log(L) = 2831.17 below upper bound of -4.5984e+06"
     ]
    },
    {
     "name": "stdout",
     "output_type": "stream",
     "text": [
      "\n",
      "    2*Delta(log(L)) = 5662.34 (2737 data params - 40 model params = expected mean of 2697; p-value = 0)\n",
      "    2*Delta(log(L)) = 5662.34\n",
      "Running MLGST Iteration 7 "
     ]
    },
    {
     "name": "stdout",
     "output_type": "stream",
     "text": [
      "\n",
      "LGST: Singular values of I_tilde (truncating to first 4 of 6) = \n"
     ]
    },
    {
     "name": "stdout",
     "output_type": "stream",
     "text": [
      "[ 4.24416701  1.1687148   0.95543029  0.88774402  0.03874886  0.02387817]\n",
      "\n",
      "--- LGST ---\n"
     ]
    },
    {
     "name": "stdout",
     "output_type": "stream",
     "text": [
      "\n",
      "--- Iterative MLGST: Beginning iter 1 of 10 : 92 gate strings ---\n"
     ]
    },
    {
     "name": "stdout",
     "output_type": "stream",
     "text": [
      "--- Least Squares GST ---\n",
      "  Sum of Chi^2 = 104.056 (92 data params - 40 model params = expected mean of 52; p-value = 2.46207e-05)"
     ]
    },
    {
     "name": "stdout",
     "output_type": "stream",
     "text": [
      "\n",
      "    2*Delta(log(L)) = 104.205\n",
      "\n",
      "--- Iterative MLGST: Beginning iter 2 of 10 : 92 gate strings ---\n"
     ]
    },
    {
     "name": "stdout",
     "output_type": "stream",
     "text": [
      "--- Least Squares GST ---\n",
      "  Sum of Chi^2 = 104.056 (92 data params - 40 model params = expected mean of 52; p-value = 2.46207e-05)"
     ]
    },
    {
     "name": "stdout",
     "output_type": "stream",
     "text": [
      "\n",
      "    2*Delta(log(L)) = 104.205\n",
      "\n",
      "--- Iterative MLGST: Beginning iter 3 of 10 : 168 gate strings ---\n"
     ]
    },
    {
     "name": "stdout",
     "output_type": "stream",
     "text": [
      "--- Least Squares GST ---\n",
      "  Sum of Chi^2 = 264.028 (168 data params - 40 model params = expected mean of 128; p-value = 1.75846e-11)"
     ]
    },
    {
     "name": "stdout",
     "output_type": "stream",
     "text": [
      "\n",
      "    2*Delta(log(L)) = 264.456\n",
      "\n",
      "--- Iterative MLGST: Beginning iter 4 of 10 : 441 gate strings ---\n"
     ]
    },
    {
     "name": "stdout",
     "output_type": "stream",
     "text": [
      "--- Least Squares GST ---\n",
      "  Sum of Chi^2 = 736.532 (441 data params - 40 model params = expected mean of 401; p-value = 0)"
     ]
    },
    {
     "name": "stdout",
     "output_type": "stream",
     "text": [
      "\n",
      "    2*Delta(log(L)) = 738.105\n",
      "\n",
      "--- Iterative MLGST: Beginning iter 5 of 10 : 817 gate strings ---\n"
     ]
    },
    {
     "name": "stdout",
     "output_type": "stream",
     "text": [
      "--- Least Squares GST ---\n",
      "  Sum of Chi^2 = 1411.32 (817 data params - 40 model params = expected mean of 777; p-value = 0)"
     ]
    },
    {
     "name": "stdout",
     "output_type": "stream",
     "text": [
      "\n",
      "    2*Delta(log(L)) = 1414.59\n",
      "\n",
      "--- Iterative MLGST: Beginning iter 6 of 10 : 1201 gate strings ---\n"
     ]
    },
    {
     "name": "stdout",
     "output_type": "stream",
     "text": [
      "--- Least Squares GST ---\n",
      "  Sum of Chi^2 = 2110.16 (1201 data params - 40 model params = expected mean of 1161; p-value = 0)"
     ]
    },
    {
     "name": "stdout",
     "output_type": "stream",
     "text": [
      "\n",
      "    2*Delta(log(L)) = 2114.73\n",
      "\n",
      "--- Iterative MLGST: Beginning iter 7 of 10 : 1585 gate strings ---\n"
     ]
    },
    {
     "name": "stdout",
     "output_type": "stream",
     "text": [
      "--- Least Squares GST ---\n",
      "  Sum of Chi^2 = 2953.73 (1585 data params - 40 model params = expected mean of 1545; p-value = 0)"
     ]
    },
    {
     "name": "stdout",
     "output_type": "stream",
     "text": [
      "\n",
      "    2*Delta(log(L)) = 2959.75"
     ]
    },
    {
     "name": "stdout",
     "output_type": "stream",
     "text": [
      "\n",
      "\n",
      "--- Iterative MLGST: Beginning iter 8 of 10 : 1969 gate strings ---\n"
     ]
    },
    {
     "name": "stdout",
     "output_type": "stream",
     "text": [
      "--- Least Squares GST ---\n",
      "  Sum of Chi^2 = 3800.49 (1969 data params - 40 model params = expected mean of 1929; p-value = 0)"
     ]
    },
    {
     "name": "stdout",
     "output_type": "stream",
     "text": [
      "\n",
      "    2*Delta(log(L)) = 3808.5"
     ]
    },
    {
     "name": "stdout",
     "output_type": "stream",
     "text": [
      "\n",
      "\n",
      "--- Iterative MLGST: Beginning iter 9 of 10 : 2353 gate strings ---\n"
     ]
    },
    {
     "name": "stdout",
     "output_type": "stream",
     "text": [
      "--- Least Squares GST ---\n",
      "  Sum of Chi^2 = 4534.02 (2353 data params - 40 model params = expected mean of 2313; p-value = 0)"
     ]
    },
    {
     "name": "stdout",
     "output_type": "stream",
     "text": [
      "\n",
      "    2*Delta(log(L)) = 4543.41"
     ]
    },
    {
     "name": "stdout",
     "output_type": "stream",
     "text": [
      "\n",
      "\n",
      "--- Iterative MLGST: Beginning iter 10 of 10 : 2737 gate strings ---\n"
     ]
    },
    {
     "name": "stdout",
     "output_type": "stream",
     "text": [
      "--- Least Squares GST ---\n",
      "  Sum of Chi^2 = 5281.3 (2737 data params - 40 model params = expected mean of 2697; p-value = 0)"
     ]
    },
    {
     "name": "stdout",
     "output_type": "stream",
     "text": [
      "\n",
      "    2*Delta(log(L)) = 5292.17"
     ]
    },
    {
     "name": "stdout",
     "output_type": "stream",
     "text": [
      "\n",
      "--- Last Iteration: switching to ML objective ---\n",
      "--- MLGST ---\n",
      "  Maximum log(L) = 2644.71 below upper bound of -4.59896e+06"
     ]
    },
    {
     "name": "stdout",
     "output_type": "stream",
     "text": [
      "\n",
      "    2*Delta(log(L)) = 5289.42 (2737 data params - 40 model params = expected mean of 2697; p-value = 0)\n",
      "    2*Delta(log(L)) = 5289.42\n",
      "Running MLGST Iteration 8 "
     ]
    },
    {
     "name": "stdout",
     "output_type": "stream",
     "text": [
      "\n",
      "LGST: Singular values of I_tilde (truncating to first 4 of 6) = \n"
     ]
    },
    {
     "name": "stdout",
     "output_type": "stream",
     "text": [
      "[ 4.24541065  1.15693434  0.94546793  0.91471381  0.01258141  0.00825079]\n",
      "\n",
      "--- LGST ---\n"
     ]
    },
    {
     "name": "stdout",
     "output_type": "stream",
     "text": [
      "\n",
      "--- Iterative MLGST: Beginning iter 1 of 10 : 92 gate strings ---\n"
     ]
    },
    {
     "name": "stdout",
     "output_type": "stream",
     "text": [
      "--- Least Squares GST ---\n",
      "  Sum of Chi^2 = 113.255 (92 data params - 40 model params = expected mean of 52; p-value = 1.9285e-06)"
     ]
    },
    {
     "name": "stdout",
     "output_type": "stream",
     "text": [
      "\n",
      "    2*Delta(log(L)) = 113.904\n",
      "\n",
      "--- Iterative MLGST: Beginning iter 2 of 10 : 92 gate strings ---\n"
     ]
    },
    {
     "name": "stdout",
     "output_type": "stream",
     "text": [
      "--- Least Squares GST ---\n",
      "  Sum of Chi^2 = 113.255 (92 data params - 40 model params = expected mean of 52; p-value = 1.9285e-06)"
     ]
    },
    {
     "name": "stdout",
     "output_type": "stream",
     "text": [
      "\n",
      "    2*Delta(log(L)) = 113.904\n",
      "\n",
      "--- Iterative MLGST: Beginning iter 3 of 10 : 168 gate strings ---\n"
     ]
    },
    {
     "name": "stdout",
     "output_type": "stream",
     "text": [
      "--- Least Squares GST ---\n",
      "  Sum of Chi^2 = 250.048 (168 data params - 40 model params = expected mean of 128; p-value = 6.51406e-10)"
     ]
    },
    {
     "name": "stdout",
     "output_type": "stream",
     "text": [
      "\n",
      "    2*Delta(log(L)) = 250.818\n",
      "\n",
      "--- Iterative MLGST: Beginning iter 4 of 10 : 441 gate strings ---\n"
     ]
    },
    {
     "name": "stdout",
     "output_type": "stream",
     "text": [
      "--- Least Squares GST ---\n",
      "  Sum of Chi^2 = 712.413 (441 data params - 40 model params = expected mean of 401; p-value = 0)"
     ]
    },
    {
     "name": "stdout",
     "output_type": "stream",
     "text": [
      "\n",
      "    2*Delta(log(L)) = 713.452\n",
      "\n",
      "--- Iterative MLGST: Beginning iter 5 of 10 : 817 gate strings ---\n"
     ]
    },
    {
     "name": "stdout",
     "output_type": "stream",
     "text": [
      "--- Least Squares GST ---\n",
      "  Sum of Chi^2 = 1369.44 (817 data params - 40 model params = expected mean of 777; p-value = 0)"
     ]
    },
    {
     "name": "stdout",
     "output_type": "stream",
     "text": [
      "\n",
      "    2*Delta(log(L)) = 1371.74\n",
      "\n",
      "--- Iterative MLGST: Beginning iter 6 of 10 : 1201 gate strings ---\n"
     ]
    },
    {
     "name": "stdout",
     "output_type": "stream",
     "text": [
      "--- Least Squares GST ---\n",
      "  Sum of Chi^2 = 2154.99 (1201 data params - 40 model params = expected mean of 1161; p-value = 0)"
     ]
    },
    {
     "name": "stdout",
     "output_type": "stream",
     "text": [
      "\n",
      "    2*Delta(log(L)) = 2159.04\n",
      "\n",
      "--- Iterative MLGST: Beginning iter 7 of 10 : 1585 gate strings ---\n"
     ]
    },
    {
     "name": "stdout",
     "output_type": "stream",
     "text": [
      "--- Least Squares GST ---\n",
      "  Sum of Chi^2 = 2967.77 (1585 data params - 40 model params = expected mean of 1545; p-value = 0)"
     ]
    },
    {
     "name": "stdout",
     "output_type": "stream",
     "text": [
      "\n",
      "    2*Delta(log(L)) = 2973.51"
     ]
    },
    {
     "name": "stdout",
     "output_type": "stream",
     "text": [
      "\n",
      "\n",
      "--- Iterative MLGST: Beginning iter 8 of 10 : 1969 gate strings ---\n"
     ]
    },
    {
     "name": "stdout",
     "output_type": "stream",
     "text": [
      "--- Least Squares GST ---\n",
      "  Sum of Chi^2 = 3795.85 (1969 data params - 40 model params = expected mean of 1929; p-value = 0)"
     ]
    },
    {
     "name": "stdout",
     "output_type": "stream",
     "text": [
      "\n",
      "    2*Delta(log(L)) = 3803.4"
     ]
    },
    {
     "name": "stdout",
     "output_type": "stream",
     "text": [
      "\n",
      "\n",
      "--- Iterative MLGST: Beginning iter 9 of 10 : 2353 gate strings ---\n"
     ]
    },
    {
     "name": "stdout",
     "output_type": "stream",
     "text": [
      "--- Least Squares GST ---\n",
      "  Sum of Chi^2 = 4528.85 (2353 data params - 40 model params = expected mean of 2313; p-value = 0)"
     ]
    },
    {
     "name": "stdout",
     "output_type": "stream",
     "text": [
      "\n",
      "    2*Delta(log(L)) = 4537.88"
     ]
    },
    {
     "name": "stdout",
     "output_type": "stream",
     "text": [
      "\n",
      "\n",
      "--- Iterative MLGST: Beginning iter 10 of 10 : 2737 gate strings ---\n"
     ]
    },
    {
     "name": "stdout",
     "output_type": "stream",
     "text": [
      "--- Least Squares GST ---\n",
      "  Sum of Chi^2 = 5243.5 (2737 data params - 40 model params = expected mean of 2697; p-value = 0)"
     ]
    },
    {
     "name": "stdout",
     "output_type": "stream",
     "text": [
      "\n",
      "    2*Delta(log(L)) = 5253.84"
     ]
    },
    {
     "name": "stdout",
     "output_type": "stream",
     "text": [
      "\n",
      "--- Last Iteration: switching to ML objective ---\n",
      "--- MLGST ---\n",
      "  Maximum log(L) = 2625.58 below upper bound of -4.59911e+06"
     ]
    },
    {
     "name": "stdout",
     "output_type": "stream",
     "text": [
      "\n",
      "    2*Delta(log(L)) = 5251.15 (2737 data params - 40 model params = expected mean of 2697; p-value = 0)\n",
      "    2*Delta(log(L)) = 5251.15\n",
      "Running MLGST Iteration 9 "
     ]
    },
    {
     "name": "stdout",
     "output_type": "stream",
     "text": [
      "\n",
      "LGST: Singular values of I_tilde (truncating to first 4 of 6) = \n"
     ]
    },
    {
     "name": "stdout",
     "output_type": "stream",
     "text": [
      "[ 4.2436575   1.18038008  0.97266877  0.94120446  0.04391035  0.01137498]\n",
      "\n",
      "--- LGST ---\n"
     ]
    },
    {
     "name": "stdout",
     "output_type": "stream",
     "text": [
      "\n",
      "--- Iterative MLGST: Beginning iter 1 of 10 : 92 gate strings ---\n"
     ]
    },
    {
     "name": "stdout",
     "output_type": "stream",
     "text": [
      "--- Least Squares GST ---\n",
      "  Sum of Chi^2 = 109.304 (92 data params - 40 model params = expected mean of 52; p-value = 5.87508e-06)"
     ]
    },
    {
     "name": "stdout",
     "output_type": "stream",
     "text": [
      "\n",
      "    2*Delta(log(L)) = 109.737\n",
      "\n",
      "--- Iterative MLGST: Beginning iter 2 of 10 : 92 gate strings ---\n"
     ]
    },
    {
     "name": "stdout",
     "output_type": "stream",
     "text": [
      "--- Least Squares GST ---\n",
      "  Sum of Chi^2 = 109.304 (92 data params - 40 model params = expected mean of 52; p-value = 5.87509e-06)"
     ]
    },
    {
     "name": "stdout",
     "output_type": "stream",
     "text": [
      "\n",
      "    2*Delta(log(L)) = 109.737\n",
      "\n",
      "--- Iterative MLGST: Beginning iter 3 of 10 : 168 gate strings ---\n"
     ]
    },
    {
     "name": "stdout",
     "output_type": "stream",
     "text": [
      "--- Least Squares GST ---\n",
      "  Sum of Chi^2 = 231.183 (168 data params - 40 model params = expected mean of 128; p-value = 6.29952e-08)"
     ]
    },
    {
     "name": "stdout",
     "output_type": "stream",
     "text": [
      "\n",
      "    2*Delta(log(L)) = 231.91\n",
      "\n",
      "--- Iterative MLGST: Beginning iter 4 of 10 : 441 gate strings ---\n"
     ]
    },
    {
     "name": "stdout",
     "output_type": "stream",
     "text": [
      "--- Least Squares GST ---\n",
      "  Sum of Chi^2 = 733.703 (441 data params - 40 model params = expected mean of 401; p-value = 0)"
     ]
    },
    {
     "name": "stdout",
     "output_type": "stream",
     "text": [
      "\n",
      "    2*Delta(log(L)) = 735.617\n",
      "\n",
      "--- Iterative MLGST: Beginning iter 5 of 10 : 817 gate strings ---\n"
     ]
    },
    {
     "name": "stdout",
     "output_type": "stream",
     "text": [
      "--- Least Squares GST ---\n",
      "  Sum of Chi^2 = 1456.68 (817 data params - 40 model params = expected mean of 777; p-value = 0)"
     ]
    },
    {
     "name": "stdout",
     "output_type": "stream",
     "text": [
      "\n",
      "    2*Delta(log(L)) = 1461.37\n",
      "\n",
      "--- Iterative MLGST: Beginning iter 6 of 10 : 1201 gate strings ---\n"
     ]
    },
    {
     "name": "stdout",
     "output_type": "stream",
     "text": [
      "--- Least Squares GST ---\n",
      "  Sum of Chi^2 = 2217.85 (1201 data params - 40 model params = expected mean of 1161; p-value = 0)"
     ]
    },
    {
     "name": "stdout",
     "output_type": "stream",
     "text": [
      "\n",
      "    2*Delta(log(L)) = 2224.32\n",
      "\n",
      "--- Iterative MLGST: Beginning iter 7 of 10 : 1585 gate strings ---\n"
     ]
    },
    {
     "name": "stdout",
     "output_type": "stream",
     "text": [
      "--- Least Squares GST ---\n",
      "  Sum of Chi^2 = 3015.55 (1585 data params - 40 model params = expected mean of 1545; p-value = 0)"
     ]
    },
    {
     "name": "stdout",
     "output_type": "stream",
     "text": [
      "\n",
      "    2*Delta(log(L)) = 3023.58"
     ]
    },
    {
     "name": "stdout",
     "output_type": "stream",
     "text": [
      "\n",
      "\n",
      "--- Iterative MLGST: Beginning iter 8 of 10 : 1969 gate strings ---\n"
     ]
    },
    {
     "name": "stdout",
     "output_type": "stream",
     "text": [
      "--- Least Squares GST ---\n",
      "  Sum of Chi^2 = 3815.35 (1969 data params - 40 model params = expected mean of 1929; p-value = 0)"
     ]
    },
    {
     "name": "stdout",
     "output_type": "stream",
     "text": [
      "\n",
      "    2*Delta(log(L)) = 3824.9"
     ]
    },
    {
     "name": "stdout",
     "output_type": "stream",
     "text": [
      "\n",
      "\n",
      "--- Iterative MLGST: Beginning iter 9 of 10 : 2353 gate strings ---\n"
     ]
    },
    {
     "name": "stdout",
     "output_type": "stream",
     "text": [
      "--- Least Squares GST ---\n",
      "  Sum of Chi^2 = 4590.24 (2353 data params - 40 model params = expected mean of 2313; p-value = 0)"
     ]
    },
    {
     "name": "stdout",
     "output_type": "stream",
     "text": [
      "\n",
      "    2*Delta(log(L)) = 4601.41"
     ]
    },
    {
     "name": "stdout",
     "output_type": "stream",
     "text": [
      "\n",
      "\n",
      "--- Iterative MLGST: Beginning iter 10 of 10 : 2737 gate strings ---\n"
     ]
    },
    {
     "name": "stdout",
     "output_type": "stream",
     "text": [
      "--- Least Squares GST ---\n",
      "  Sum of Chi^2 = 5344.02 (2737 data params - 40 model params = expected mean of 2697; p-value = 0)"
     ]
    },
    {
     "name": "stdout",
     "output_type": "stream",
     "text": [
      "\n",
      "    2*Delta(log(L)) = 5356.67"
     ]
    },
    {
     "name": "stdout",
     "output_type": "stream",
     "text": [
      "\n",
      "--- Last Iteration: switching to ML objective ---\n",
      "--- MLGST ---\n",
      "  Maximum log(L) = 2676.92 below upper bound of -4.59872e+06"
     ]
    },
    {
     "name": "stdout",
     "output_type": "stream",
     "text": [
      "\n",
      "    2*Delta(log(L)) = 5353.84 (2737 data params - 40 model params = expected mean of 2697; p-value = 0)\n",
      "    2*Delta(log(L)) = 5353.84\n"
     ]
    }
   ],
   "source": [
    "#The number of simulated datasets & gatesets made for bootstrapping purposes.  \n",
    "# For good statistics, should probably be greater than 10.\n",
    "numGatesets=10\n",
    "\n",
    "nonparam_boot_gatesets = pygsti.drivers.make_bootstrap_gatesets(\n",
    "                          numGatesets, ds, 'nonparametric', fiducials, fiducials, germs, maxLengths,\n",
    "                          targetGateSet=gs_mc2gst, startSeed=0, constrainToTP=False, returnData=False,\n",
    "                          verbosity=2)"
   ]
  },
  {
   "cell_type": "code",
   "execution_count": 7,
   "metadata": {
    "collapsed": false
   },
   "outputs": [
    {
     "name": "stdout",
     "output_type": "stream",
     "text": [
      "Spam weight  0\n",
      "Spam weight "
     ]
    },
    {
     "name": "stdout",
     "output_type": "stream",
     "text": [
      " 1\n",
      "Spam weight "
     ]
    },
    {
     "name": "stdout",
     "output_type": "stream",
     "text": [
      " 2\n",
      "Spam weight "
     ]
    },
    {
     "name": "stdout",
     "output_type": "stream",
     "text": [
      " 3\n",
      "Spam weight "
     ]
    },
    {
     "name": "stdout",
     "output_type": "stream",
     "text": [
      " 4\n",
      "Spam weight "
     ]
    },
    {
     "name": "stdout",
     "output_type": "stream",
     "text": [
      " 5\n",
      "Spam weight "
     ]
    },
    {
     "name": "stdout",
     "output_type": "stream",
     "text": [
      " 6\n",
      "Spam weight "
     ]
    },
    {
     "name": "stdout",
     "output_type": "stream",
     "text": [
      " 7\n",
      "Spam weight "
     ]
    },
    {
     "name": "stdout",
     "output_type": "stream",
     "text": [
      " 8\n",
      "Spam weight "
     ]
    },
    {
     "name": "stdout",
     "output_type": "stream",
     "text": [
      " 9\n",
      "Spam weight "
     ]
    },
    {
     "name": "stdout",
     "output_type": "stream",
     "text": [
      " 10\n",
      "Spam weight "
     ]
    },
    {
     "name": "stdout",
     "output_type": "stream",
     "text": [
      " 11\n",
      "Spam weight "
     ]
    },
    {
     "name": "stdout",
     "output_type": "stream",
     "text": [
      " 12\n",
      "Best SPAM weight is"
     ]
    },
    {
     "name": "stdout",
     "output_type": "stream",
     "text": [
      " 1.0\n"
     ]
    },
    {
     "data": {
      "image/png": "[encoded data removed]",
      "text/plain": [
       "<matplotlib.figure.Figure at 0x42b8a90>"
      ]
     },
     "metadata": {},
     "output_type": "display_data"
    }
   ],
   "source": [
    "gauge_opt_npboot_gatesets = pygsti.drivers.gauge_optimize_gs_list(nonparam_boot_gatesets, gs_mc2gst,\n",
    "                                                                 constrainToTP=False, plot=True)"
   ]
  },
  {
   "cell_type": "code",
   "execution_count": 8,
   "metadata": {
    "collapsed": false
   },
   "outputs": [
    {
     "name": "stdout",
     "output_type": "stream",
     "text": [
      "Non-parametric bootstrapped error bars, with 10 resamples\n",
      "\n",
      "Error in rho vec:\n",
      "Fully Parameterized spam vector with length 4\n",
      "   0\n",
      "   0\n",
      "   0\n",
      "   0\n",
      "\n",
      "\n",
      "Error in E vec:\n",
      "Fully Parameterized spam vector with length 4\n",
      "   0\n",
      "   0\n",
      "   0\n",
      "   0\n",
      "\n",
      "\n",
      "Error in Gi:\n",
      "Fully Parameterized gate with shape (4, 4)\n",
      "   0   0   0   0\n",
      "   0   0   0   0\n",
      "   0   0   0   0\n",
      "   0   0   0   0\n",
      "\n",
      "\n",
      "Error in Gx:\n",
      "Fully Parameterized gate with shape (4, 4)\n",
      "   0   0   0   0\n",
      "   0   0   0   0\n",
      "   0   0   0   0\n",
      "   0   0   0   0\n",
      "\n",
      "\n",
      "Error in Gy:\n",
      "Fully Parameterized gate with shape (4, 4)\n",
      "   0   0   0   0\n",
      "   0   0   0   0\n",
      "   0   0   0   0\n",
      "   0   0   0   0\n",
      "\n"
     ]
    }
   ],
   "source": [
    "npboot_mean = pygsti.drivers.to_mean_gateset(gauge_opt_npboot_gatesets, gs_mc2gst)\n",
    "npboot_std  = pygsti.drivers.to_std_gateset(gauge_opt_npboot_gatesets, gs_mc2gst)\n",
    "\n",
    "#Summary of the error bars\n",
    "print \"Non-parametric bootstrapped error bars, with\",numGatesets,\"resamples\\n\"\n",
    "print \"Error in rho vec:\" \n",
    "print npboot_std['rho0']\n",
    "print\n",
    "print \"Error in E vec:\"\n",
    "print npboot_std['E0']\n",
    "print\n",
    "print \"Error in Gi:\"\n",
    "print npboot_std['Gi']\n",
    "print\n",
    "print \"Error in Gx:\"\n",
    "print npboot_std['Gx']\n",
    "print\n",
    "print \"Error in Gy:\"\n",
    "print npboot_std['Gy']"
   ]
  },
  {
   "cell_type": "code",
   "execution_count": 9,
   "metadata": {
    "collapsed": false,
    "scrolled": true
   },
   "outputs": [
    {
     "data": {
      "text/plain": [
       "<matplotlib.text.Text at 0x689f450>"
      ]
     },
     "execution_count": 9,
     "metadata": {},
     "output_type": "execute_result"
    },
    {
     "data": {
      "image/png": "[encoded data removed]",
      "text/plain": [
       "<matplotlib.figure.Figure at 0x4675d10>"
      ]
     },
     "metadata": {},
     "output_type": "display_data"
    }
   ],
   "source": [
    "loglog(npboot_std.to_vector(),pboot_std.to_vector(),'.')\n",
    "loglog(np.logspace(-4,-2,10),np.logspace(-4,-2,10),'--')\n",
    "xlabel('Non-parametric')\n",
    "ylabel('Parametric')\n",
    "xlim((1e-4,1e-2)); ylim((1e-4,1e-2))\n",
    "title('Scatter plot comparing param vs. non-param bootstrapping error bars.')"
   ]
  },
  {
   "cell_type": "code",
   "execution_count": 10,
   "metadata": {
    "collapsed": true
   },
   "outputs": [],
   "source": []
  },
  {
   "cell_type": "code",
   "execution_count": 10,
   "metadata": {
    "collapsed": true
   },
   "outputs": [],
   "source": []
  }
 ],
 "metadata": {
  "kernelspec": {
   "display_name": "Python 2",
   "language": "python",
   "name": "python2"
  },
  "language_info": {
   "codemirror_mode": {
    "name": "ipython",
    "version": 2
   },
   "file_extension": ".py",
   "mimetype": "text/x-python",
   "name": "python",
   "nbconvert_exporter": "python",
   "pygments_lexer": "ipython2",
   "version": "2.7.3"
  }
 },
 "nbformat": 4,
 "nbformat_minor": 0
}