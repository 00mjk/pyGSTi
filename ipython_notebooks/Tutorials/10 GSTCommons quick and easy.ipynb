{
 "cells": [
  {
   "cell_type": "markdown",
   "metadata": {},
   "source": [
    "#Using GSTCommons to make your life easier"
   ]
  },
  {
   "cell_type": "markdown",
   "metadata": {},
   "source": [
    "The GSTCommons package intended to make common tasks and definitions fast and easy.  You use GSTCommons by importing the modules you want to use.  There are three main types of modules:\n",
    "1. Standard definitions,\n",
    "2. Gate string list generation\n",
    "3. Analysis\n",
    "\n",
    "You typically don't import more than one of each type."
   ]
  },
  {
   "cell_type": "markdown",
   "metadata": {},
   "source": [
    "## The quick way: using a GSTCommons Analysis function\n",
    "Let's first look at how to use an Analysis module which combines all the steps of running typical GST algortithms into a single function. "
   ]
  },
  {
   "cell_type": "code",
   "execution_count": 1,
   "metadata": {
    "collapsed": true
   },
   "outputs": [],
   "source": [
    "#Import the GST module (always do this)\n",
    "import GST\n",
    "\n",
    "#Import some of the modules from the GSTCommons package (Note: don't just \"import GSTCommons\"):\n",
    "# - import the all-in-one analysis routines that deal with gate string lists\n",
    "#   that are powers of short germ strings (the most modern GST approach)\n",
    "from GSTCommons import Analyze_WholeGermPowers"
   ]
  },
  {
   "cell_type": "markdown",
   "metadata": {},
   "source": [
    "####First, we need to tell GST what our desired gate set is, referred to as the \"target gateset\"."
   ]
  },
  {
   "cell_type": "code",
   "execution_count": 2,
   "metadata": {
    "collapsed": true
   },
   "outputs": [],
   "source": [
    "#Construct a target gateset\n",
    "gs_target = GST.buildGateset([2],[('Q0',)], ['Gi','Gx','Gy'], \n",
    "                             [ \"I(Q0)\",\"X(pi/2,Q0)\", \"Y(pi/2,Q0)\"],\n",
    "                             rhoExpressions=[\"0\"], EExpressions=[\"1\"], \n",
    "                             spamLabelDict={'plus': (0,0), 'minus': (0,-1) } )"
   ]
  },
  {
   "cell_type": "markdown",
   "metadata": {},
   "source": [
    "The parameters to buildGateset, specify:\n",
    " - the state space is dimension 2 (i.e. density matrices are 2x2)\n",
    " - interpret this 2-dimensional space as that of a single qubit labeled \"Q0\" (label must begin with 'Q')\n",
    " - there are three gates: Idle, pi/2 x-rotation, pi/2 y-rotation\n",
    " - there is one state prep operation, which prepares the 0-state (the first basis element of the 2D state space)\n",
    " - there is one POVM (~ measurement) that projects onto the 1-state (the second basis element of the 2D state space)\n",
    " - the name of the state-prep then measure our POVM is 'plus'\n",
    " - the name of the state-prep then measure something other than our POVM is 'minus' "
   ]
  },
  {
   "cell_type": "markdown",
   "metadata": {},
   "source": [
    "To store this gateset in a file (for reference or to load it somewhere else), you just call writeGateset:"
   ]
  },
  {
   "cell_type": "code",
   "execution_count": 3,
   "metadata": {
    "collapsed": true
   },
   "outputs": [],
   "source": [
    "#Write it to a file\n",
    "GST.writeGateset(gs_target, \"tutorial_files/MyTargetGateset.txt\")\n",
    "\n",
    "#To load the gateset back into a python object, do:\n",
    "# gs_target = GST.loadGateset(\"tutorial_files/MyTargetGateset.txt\")"
   ]
  },
  {
   "cell_type": "markdown",
   "metadata": {},
   "source": [
    "####Next, we need to create fiducial, germ, and max-length lists:\n",
    "- fiducial gate strings: gate sequences that immediately follow state preparation or immediately precede measurement\n",
    "- germ gate strings: gate sequences that are repeated to produce a string that is as close to some \"maximum length\" as possible without exceeding it.\n",
    "- maxium lengths: a list of maximum lengths used to specify the increasingly long gate sequences (via more germ repeates) used by each iteration of the GST estimation procedure.\n",
    "\n",
    "To make GST most effective, these gate strings lists must be computed.  Typically this computation is done by the Sandia GST folks and the gate string lists are sent to you.  The maximum lengths list typically starts with [0,1] and then contains successive powers of two."
   ]
  },
  {
   "cell_type": "code",
   "execution_count": 4,
   "metadata": {
    "collapsed": true
   },
   "outputs": [],
   "source": [
    "#Create gate string lists\n",
    "fiducials = GST.gateStringList( [ (), ('Gx',), ('Gy',), ('Gx','Gx'), ('Gx','Gx','Gx'), ('Gy','Gy','Gy') ])\n",
    "\n",
    "germs = GST.gateStringList( [('Gx',), ('Gy',), ('Gi',), ('Gx', 'Gy',),\n",
    "         ('Gx', 'Gy', 'Gi',), ('Gx', 'Gi', 'Gy',), ('Gx', 'Gi', 'Gi',), ('Gy', 'Gi', 'Gi',),\n",
    "         ('Gx', 'Gx', 'Gi', 'Gy',), ('Gx', 'Gy', 'Gy', 'Gi',),\n",
    "         ('Gx', 'Gx', 'Gy', 'Gx', 'Gy', 'Gy',)] )\n",
    "\n",
    "#Create maximum lengths list\n",
    "maxLengths = [0,1,2,4,8,16,32]"
   ]
  },
  {
   "cell_type": "markdown",
   "metadata": {},
   "source": [
    "If we want to, we can save these lists in files (but not necessary):"
   ]
  },
  {
   "cell_type": "code",
   "execution_count": 5,
   "metadata": {
    "collapsed": true
   },
   "outputs": [],
   "source": [
    "GST.writeGatestringList(\"tutorial_files/MyFiducials.txt\", fiducials, \"My fiducial gate strings\")\n",
    "GST.writeGatestringList(\"tutorial_files/MyGerms.txt\", germs, \"My germ gate strings\")\n",
    "\n",
    "import pickle\n",
    "pickle.dump( maxLengths, open(\"tutorial_files/MyMaxLengths.pkl\", \"wb\"))\n",
    "\n",
    "# To load these back into python lists, do:\n",
    "#fiducials = GST.loadGatestringList(\"tutorial_files/MyFiducials.txt\")\n",
    "#germs = GST.loadGatestringList(\"tutorial_files/MyGerms.txt\")\n",
    "#maxLengths = pickle.load( open(\"tutorial_files/MyMaxLengths.pkl\"))"
   ]
  },
  {
   "cell_type": "markdown",
   "metadata": {
    "collapsed": true
   },
   "source": [
    "#### Third, we generate (since we can't actually take) data and save a dataset\n",
    "Before experimental data is obtained, it is useful to create a \"template\" dataset file which specifies which gate sequences are required to run GST.  Since we don't actually have an experiment for this example, we'll generate some \"fake\" experimental data from a set of gates that are just depolarized versions of the targets."
   ]
  },
  {
   "cell_type": "code",
   "execution_count": 6,
   "metadata": {
    "collapsed": true
   },
   "outputs": [],
   "source": [
    "#How to create a template dataset file\n",
    "lsgstLists = Analyze_WholeGermPowers.make_lsgst_lists(gs_target.keys(), fiducials, germs, maxLengths)\n",
    "GST.writeEmptyDatasetFile(\"tutorial_files/MyDataTemplate.txt\", lsgstLists[-1], \"## Columns = plus count, count total\")"
   ]
  },
  {
   "cell_type": "markdown",
   "metadata": {},
   "source": [
    "*Note:* `lsgstLists` is a list of increasingly large and nested gate string lists, so that each list contains all the gate strings of the previous list along with (possibly) some new ones.  The last gate string list, `lsgstLists[-1]`, thus contains all the needed gate strings for GST.\n",
    "\n",
    "Since we don't actually have a experiment to generate real data, let's now create and save a dataset using depolarized target gates and spam operations:"
   ]
  },
  {
   "cell_type": "code",
   "execution_count": 7,
   "metadata": {
    "collapsed": true
   },
   "outputs": [],
   "source": [
    "#Create a gateset of depolarized gates and SPAM relative to target, and generate fake data using this gateset.\n",
    "gs_datagen = GST.GateSetTools.depolarizeGateset(gs_target, noise=0.1)\n",
    "gs_datagen = GST.GateSetTools.depolarizeSPAM(gs_datagen, noise=0.001)\n",
    "ds = GST.generateFakeData(gs_datagen, lsgstLists[-1], nSamples=1000000, sampleError=\"binomial\", seed=2015)"
   ]
  },
  {
   "cell_type": "markdown",
   "metadata": {},
   "source": [
    "We could at this point just use the generated dataset directly, but let's save it as though it were a file filled with experimental results."
   ]
  },
  {
   "cell_type": "code",
   "execution_count": 8,
   "metadata": {
    "collapsed": true
   },
   "outputs": [],
   "source": [
    "#Save our dataset\n",
    "GST.writeDatasetFile(\"tutorial_files/MyDataset.txt\", lsgstLists[-1], ds)\n",
    "\n",
    "#Note; to load the dataset back again, do:\n",
    "#ds = GST.loadDataset(\"tutorial_files/MyDataset.txt\")"
   ]
  },
  {
   "cell_type": "markdown",
   "metadata": {
    "collapsed": true
   },
   "source": [
    "#### Fourth, we call the Analysis function\n",
    "Now we're all set to call the GSTCommons analysis routine.  All of the possible arguments to this function are detailed in the included help (docstring), and so here we just make a few remarks:\n",
    "- For many of the arguments, you can supply either a filename or a python object (e.g. dataset, target gateset, gate string lists)\n",
    "- `fiducials` is supplied twice since the state preparation fiducials (those sequences following a state prep) need not be the same as the measurement fiducials (those sequences preceding a measurement).\n",
    "- Typically we want to constrain the resulting gates to be trace-preserving, so we set constrainToTP to True\n",
    "- `gaugeOptRatio` specifies the ratio of the state preparation and measurement (SPAM) weight to the gate weight when performing a gauge optimization.  When this is set to 0.001, as below, the gate parameters are weighted 1000 times more relative to the SPAM parameters.  Typically it is good to weight the gates parameters more heavily since GST amplifies gate parameter errors via long gate sequences but cannot amplify SPAM parameter errors.  If unsure, 0.001 is a good value to start with."
   ]
  },
  {
   "cell_type": "code",
   "execution_count": 9,
   "metadata": {
    "collapsed": false,
    "scrolled": true
   },
   "outputs": [
    {
     "name": "stdout",
     "output_type": "stream",
     "text": [
      "Loading tutorial_files/MyDataset.txt: 100%\n",
      "LGST: Singular values of I_tilde (truncating to first 4 of 6) = \n",
      "[  4.24408309e+00   1.16717888e+00   9.46858487e-01   9.42447698e-01\n",
      "   1.23388377e-03   1.02887747e-03]\n",
      "\n",
      "--- LGST ---\n",
      "\n",
      "--- Gauge Optimization to TP (L-BFGS-B) ---\n",
      "    3s           0.0000000000\n",
      "The resulting TP penalty is: 1.36924e-13\n",
      "The gauge matrix found (B^-1) is:\n",
      "[[  9.99999995e-01   9.95695638e-08   5.98591798e-09  -9.15381746e-08]\n",
      " [  4.40725057e-15   1.00000000e+00  -3.31734792e-15   5.80832678e-16]\n",
      " [ -6.48950216e-15  -3.31734792e-15   1.00000000e+00   1.06274373e-14]\n",
      " [  1.92028689e-14   5.80832273e-16   1.06274369e-14   1.00000000e+00]]\n",
      "\n",
      "The gauge-corrected gates are:\n",
      "rhoVec[0] =    0.7071  -0.0214   0.0222   0.7508\n",
      "\n",
      "\n",
      "EVec[0] =    0.6846   0.0022  -0.0017  -0.6436\n",
      "\n",
      "\n",
      "Gi = \n",
      "   1.0000        0        0        0\n",
      "  -0.0035   0.9019  -0.0004        0\n",
      "   0.0033  -0.0018   0.8989  -0.0009\n",
      "  -0.0032  -0.0004   0.0012   0.8995\n",
      "\n",
      "\n",
      "Gx = \n",
      "   1.0000        0        0        0\n",
      "  -0.0035   0.9015   0.0070   0.0003\n",
      "   0.0005  -0.0012  -0.0072  -1.0000\n",
      "  -0.0628   0.0069   0.8104   0.0066\n",
      "\n",
      "\n",
      "Gy = \n",
      "   1.0000        0        0        0\n",
      "  -0.0010  -0.0064   0.0012   1.0003\n",
      "   0.0039   0.0065   0.8997  -0.0006\n",
      "  -0.0634  -0.8091  -0.0052   0.0073\n",
      "\n",
      "\n",
      "\n",
      "\n",
      "--- Iterative MLEGST: Beginning iter 1 of 7 : 92 gate strings ---\n",
      "--- Least Squares GST ---\n",
      "  Sum of Chi^2 = 75.1261 (92 data params - 31 model params = expected mean of 61; p-value = 0.105464)\n",
      "    2*Delta(log(L)) = 75.1277\n",
      "\n",
      "--- Iterative MLEGST: Beginning iter 2 of 7 : 92 gate strings ---\n",
      "--- Least Squares GST ---\n",
      "  Sum of Chi^2 = 75.1261 (92 data params - 31 model params = expected mean of 61; p-value = 0.105464)\n",
      "    2*Delta(log(L)) = 75.1277\n",
      "\n",
      "--- Iterative MLEGST: Beginning iter 3 of 7 : 168 gate strings ---\n",
      "--- Least Squares GST ---\n",
      "  Sum of Chi^2 = 174.883 (168 data params - 31 model params = expected mean of 137; p-value = 0.0159496)\n",
      "    2*Delta(log(L)) = 174.896\n",
      "\n",
      "--- Iterative MLEGST: Beginning iter 4 of 7 : 441 gate strings ---\n",
      "--- Least Squares GST ---\n",
      "  Sum of Chi^2 = 468.226 (441 data params - 31 model params = expected mean of 410; p-value = 0.0245695)\n",
      "    2*Delta(log(L)) = 468.243\n",
      "\n",
      "--- Iterative MLEGST: Beginning iter 5 of 7 : 817 gate strings ---\n",
      "--- Least Squares GST ---\n",
      "  Sum of Chi^2 = 875.406 (817 data params - 31 model params = expected mean of 786; p-value = 0.0142121)\n",
      "    2*Delta(log(L)) = 875.428\n",
      "\n",
      "--- Iterative MLEGST: Beginning iter 6 of 7 : 1201 gate strings ---\n",
      "--- Least Squares GST ---\n",
      "  Sum of Chi^2 = 1215.71 (1201 data params - 31 model params = expected mean of 1170; p-value = 0.171909)\n",
      "    2*Delta(log(L)) = 1215.73\n",
      "\n",
      "--- Iterative MLEGST: Beginning iter 7 of 7 : 1585 gate strings ---\n",
      "--- Least Squares GST ---\n",
      "  Sum of Chi^2 = 1606.4 (1585 data params - 31 model params = expected mean of 1554; p-value = 0.173226)\n",
      "    2*Delta(log(L)) = 1606.42\n",
      "--- Last Iteration: switching to MLE objective ---\n",
      "--- MLEGST ---\n",
      "  Maximum log(L) = 803.209 below upper bound of -2.65151e+09\n",
      "    2*Delta(log(L)) = 1606.42 (1585 data params - 31 model params = expected mean of 1554; p-value = 0.173147)\n",
      "    2*Delta(log(L)) = 1606.42\n"
     ]
    }
   ],
   "source": [
    "results = Analyze_WholeGermPowers.doMLEAnalysis(\"tutorial_files/MyDataset.txt\", gs_target, \n",
    "                                                 fiducials, fiducials, germs, maxLengths,\n",
    "                                                 constrainToTP=True, gaugeOptRatio=1e-3)"
   ]
  },
  {
   "cell_type": "markdown",
   "metadata": {},
   "source": [
    "The analysis routine returns a `GST.Results` object which encapsulates intermediate and final GST estimates, as well as quantities derived from these \"raw\" estimates.  (The object also caches derived quantities so that repeated queries for the same quanties do not require recalculation.)  Finally, `Results` object can generate reports and presentations containing many of the raw and derived GST results.  We give examples of these uses below. "
   ]
  },
  {
   "cell_type": "code",
   "execution_count": 10,
   "metadata": {
    "collapsed": false,
    "scrolled": false
   },
   "outputs": [
    {
     "name": "stdout",
     "output_type": "stream",
     "text": [
      "rhoVec[0] =    0.7071        0  -0.0001   0.7012\n",
      "\n",
      "\n",
      "EVec[0] =    0.7071  -0.0001   0.0001  -0.7116\n",
      "\n",
      "\n",
      "Gi = \n",
      "   1.0000        0        0        0\n",
      "        0   0.9000   0.0002        0\n",
      "        0        0   0.8999        0\n",
      "        0   0.0001   0.0002   0.9000\n",
      "\n",
      "\n",
      "Gx = \n",
      "   1.0000        0        0        0\n",
      "        0   0.9001   0.0001        0\n",
      "        0        0        0  -0.9000\n",
      "        0        0   0.9000   0.0001\n",
      "\n",
      "\n",
      "Gy = \n",
      "   1.0000        0        0        0\n",
      "        0        0        0   0.9000\n",
      "        0        0   0.9000        0\n",
      "        0  -0.9000   0.0002        0\n",
      "\n",
      "\n",
      "\n"
     ]
    }
   ],
   "source": [
    "# Access to raw GST best gateset estimate\n",
    "print results.gsBestEstimate"
   ]
  },
  {
   "cell_type": "code",
   "execution_count": 11,
   "metadata": {
    "collapsed": false
   },
   "outputs": [
    {
     "name": "stdout",
     "output_type": "stream",
     "text": [
      "*** Generating tables ***\n",
      "Generating targetSpamTable table...\n",
      "Generating targetGatesTable table...\n",
      "Generating datasetOverviewTable table...\n",
      "Generating bestGatesetSpamTable table...\n",
      "Generating bestGatesetSpamParametersTable table...\n",
      "Generating bestGatesetGatesTable table...\n",
      "Generating bestGatesetChoiTable table...\n",
      "Generating bestGatesetDecompTable table...\n",
      "Generating bestGatesetRotnAxisTable table...\n",
      "Generating bestGatesetClosestUnitaryTable table...\n",
      "Generating bestGatesetVsTargetTable table...\n",
      "Generating bestGatesetErrorGenTable table...\n",
      "Generating fiducialListTable table...\n",
      "Generating rhoStrListTable table...\n",
      "Generating EStrListTable table...\n",
      "Generating germListTable table...\n",
      "Generating logLProgressTable table...\n",
      "*** Generating plots ***\n",
      " -- LogL plots (2):  1  Generating bestEstimateColorBoxPlot figure...\n",
      "2  Generating invertedBestEstimateColorBoxPlot figure...\n",
      "\n",
      "*** Merging into template file ***\n",
      "Latex file(s) successfully generated.  Attempting to compile with pdflatex...\n",
      "Initial output PDF tutorial_files/MyDataset.pdf successfully generated.\n",
      "Final output PDF tutorial_files/MyDataset.pdf successfully generated. Cleaning up .aux and .log files.\n"
     ]
    }
   ],
   "source": [
    "#create a full GST report (most detailed and pedagogical; best for those getting familiar with GST)\n",
    "results.createFullReportPDF(confidenceLevel=95, verbosity=2)"
   ]
  },
  {
   "cell_type": "code",
   "execution_count": 12,
   "metadata": {
    "collapsed": false
   },
   "outputs": [
    {
     "name": "stdout",
     "output_type": "stream",
     "text": [
      "*** Generating tables ***\n",
      "*** Generating plots ***\n",
      "*** Merging into template file ***\n",
      "Latex file(s) successfully generated.  Attempting to compile with pdflatex...\n",
      "Initial output PDF tutorial_files/MyDataset.pdf successfully generated.\n",
      "Final output PDF tutorial_files/MyDataset.pdf successfully generated. Cleaning up .aux and .log files.\n"
     ]
    }
   ],
   "source": [
    "#create a brief GST report (just highlights of full report but fast to generate; best for folks familiar with GST)\n",
    "results.createBriefReportPDF(confidenceLevel=95, verbosity=2)"
   ]
  },
  {
   "cell_type": "code",
   "execution_count": 13,
   "metadata": {
    "collapsed": false
   },
   "outputs": [
    {
     "name": "stdout",
     "output_type": "stream",
     "text": [
      "*** Generating tables ***\n",
      "*** Generating plots ***\n",
      " -- LogL plots (1):  1  \n",
      "*** Merging into template file ***\n",
      "Latex file(s) successfully generated.  Attempting to compile with pdflatex...\n",
      "Initial output PDF tutorial_files/MyDataset.pdf successfully generated.\n",
      "Final output PDF tutorial_files/MyDataset.pdf successfully generated. Cleaning up .aux and .log files.\n"
     ]
    }
   ],
   "source": [
    "#create GST slides (tables and figures of full report in latex-generated slides; best for folks familiar with GST)\n",
    "results.createPresentationPDF(confidenceLevel=95, verbosity=2)"
   ]
  },
  {
   "cell_type": "code",
   "execution_count": 14,
   "metadata": {
    "collapsed": false
   },
   "outputs": [
    {
     "name": "stdout",
     "output_type": "stream",
     "text": [
      "*** Generating tables ***\n",
      "*** Generating plots ***\n",
      " -- LogL plots (1):  1  \n",
      "*** Assembling PPT file ***\n",
      "Latexing progressTable table...\n",
      "Latexing bestGatesetVsTargetTable table...\n",
      "Latexing bestGatesetErrorGenTable table...\n",
      "Latexing bestGatesetDecompTable table...\n",
      "Latexing bestGatesetRotnAxisTable table...\n",
      "Latexing bestGatesetGatesTable table...\n",
      "Latexing bestGatesetSpamTable table...\n",
      "Latexing bestGatesetSpamParametersTable table...\n",
      "Latexing bestGatesetChoiTable table...\n",
      "Latexing targetSpamTable table...\n",
      "Latexing targetGatesTable table...\n",
      "Latexing fiducialListTable table...\n",
      "Latexing germListTable table...\n",
      "Latexing datasetOverviewTable table...\n",
      "Final output PPT tutorial_files/MyDataset.pptx successfully generated.\n"
     ]
    }
   ],
   "source": [
    "#create GST slides (tables and figures of full report in Powerpoint slides; best for folks familiar with GST)\n",
    "results.createPresentationPPT(confidenceLevel=95, verbosity=2)"
   ]
  },
  {
   "cell_type": "code",
   "execution_count": null,
   "metadata": {
    "collapsed": true
   },
   "outputs": [],
   "source": []
  },
  {
   "cell_type": "markdown",
   "metadata": {},
   "source": [
    "## The even quicker way: using Standard definitions with an Analysis function\n",
    "A significant component of running GST as show above is defining things: the target gateset, the fiducial, germ, and maximum-length lists, etc.  We've found that many people who use GST have one of only a few different target gateset, and for these \"commonly used\" target gatesets we've created modules that make most of the definitions for you.  If you gateset isn't one of our \"commonly used\" ones then you'll have to follow the above \"quick\" approach for now, but please let us know and we'll try to add your gateset to the commonly used list in the future."
   ]
  },
  {
   "cell_type": "markdown",
   "metadata": {},
   "source": [
    "In the example above, our gateset (comprised of single qubit Idle, X(pi/2), Y(pi/2)) is one of the commonly used gatesets, and relevant definitions are importable via:"
   ]
  },
  {
   "cell_type": "code",
   "execution_count": 15,
   "metadata": {
    "collapsed": true
   },
   "outputs": [],
   "source": [
    "#Import the \"stardard 1-qubit quantities for a gateset with X(pi/2), Y(pi/2), and idle gates\"\n",
    "from GSTCommons import Std1Q_XYI"
   ]
  },
  {
   "cell_type": "markdown",
   "metadata": {},
   "source": [
    "We follow the same order of defining things as above, but it's much easier:"
   ]
  },
  {
   "cell_type": "code",
   "execution_count": 16,
   "metadata": {
    "collapsed": true
   },
   "outputs": [],
   "source": [
    "gs_target = Std1Q_XYI.gs_target\n",
    "fiducials = Std1Q_XYI.fiducials\n",
    "germs = Std1Q_XYI.germs\n",
    "maxLengths = [0,1,2,4,8,16,32] #still need to define this manually"
   ]
  },
  {
   "cell_type": "markdown",
   "metadata": {},
   "source": [
    "Generate a fake dataset as before:"
   ]
  },
  {
   "cell_type": "code",
   "execution_count": 17,
   "metadata": {
    "collapsed": true
   },
   "outputs": [],
   "source": [
    "gs_datagen = GST.GateSetTools.depolarizeGateset(gs_target, noise=0.1)\n",
    "gs_datagen = GST.GateSetTools.depolarizeSPAM(gs_datagen, noise=0.001)\n",
    "lsgstLists = Analyze_WholeGermPowers.make_lsgst_lists(gs_target.keys(), fiducials, germs, maxLengths)\n",
    "ds = GST.generateFakeData(gs_datagen, lsgstLists[-1], nSamples=1000000, sampleError=\"binomial\", seed=1234)"
   ]
  },
  {
   "cell_type": "markdown",
   "metadata": {},
   "source": [
    "And run the analysis function (this time using the dataset object directly instead of loading from a file), and then create a report in the specified file."
   ]
  },
  {
   "cell_type": "code",
   "execution_count": 18,
   "metadata": {
    "collapsed": false,
    "scrolled": true
   },
   "outputs": [
    {
     "name": "stdout",
     "output_type": "stream",
     "text": [
      "LGST: Singular values of I_tilde (truncating to first 4 of 6) = \n",
      "[  4.24408716e+00   1.16704565e+00   9.46892218e-01   9.43237265e-01\n",
      "   2.35094528e-03   1.17450775e-03]\n",
      "\n",
      "--- LGST ---\n",
      "\n",
      "--- Gauge Optimization to TP (L-BFGS-B) ---\n",
      "   75s           0.0000000000\n",
      "The resulting TP penalty is: 8.24295e-14\n",
      "The gauge matrix found (B^-1) is:\n",
      "[[  1.00000001e+00   2.28109217e-10   2.38770464e-08  -6.63069519e-08]\n",
      " [  7.25218369e-15   1.00000000e+00  -1.03702505e-16  -2.90747676e-16]\n",
      " [ -1.18208292e-15  -1.03702317e-16   1.00000000e+00  -3.58505648e-15]\n",
      " [  7.99328389e-16  -2.90747864e-16  -3.58505648e-15   1.00000000e+00]]\n",
      "\n",
      "The gauge-corrected gates are:\n",
      "rhoVec[0] =    0.7071  -0.0221   0.0217   0.7509\n",
      "\n",
      "\n",
      "EVec[0] =    0.6847   0.0021  -0.0021  -0.6438\n",
      "\n",
      "\n",
      "Gi = \n",
      "   1.0000        0        0        0\n",
      "  -0.0033   0.9003  -0.0004  -0.0013\n",
      "   0.0033  -0.0012   0.8997   0.0006\n",
      "  -0.0038  -0.0004   0.0004   0.8999\n",
      "\n",
      "\n",
      "Gx = \n",
      "   1.0000        0        0        0\n",
      "  -0.0039   0.8996   0.0064   0.0005\n",
      "   0.0003   0.0008  -0.0063  -1.0000\n",
      "  -0.0630   0.0062   0.8097   0.0066\n",
      "\n",
      "\n",
      "Gy = \n",
      "   1.0000        0        0        0\n",
      "        0  -0.0062   0.0010   0.9995\n",
      "   0.0037   0.0077   0.9005        0\n",
      "  -0.0626  -0.8101  -0.0059   0.0060\n",
      "\n",
      "\n",
      "\n",
      "\n",
      "--- Iterative LSGST: Beginning iter 1 of 7 : 92 gate strings ---\n",
      "--- Least Squares GST ---\n",
      "  Sum of Chi^2 = 70.2148 (92 data params - 31 model params = expected mean of 61; p-value = 0.196194)\n",
      "\n",
      "--- Iterative LSGST: Beginning iter 2 of 7 : 92 gate strings ---\n",
      "--- Least Squares GST ---\n",
      "  Sum of Chi^2 = 70.2148 (92 data params - 31 model params = expected mean of 61; p-value = 0.196194)\n",
      "\n",
      "--- Iterative LSGST: Beginning iter 3 of 7 : 168 gate strings ---\n",
      "--- Least Squares GST ---\n",
      "  Sum of Chi^2 = 136.263 (168 data params - 31 model params = expected mean of 137; p-value = 0.501722)\n",
      "\n",
      "--- Iterative LSGST: Beginning iter 4 of 7 : 441 gate strings ---\n",
      "--- Least Squares GST ---\n",
      "  Sum of Chi^2 = 418.23 (441 data params - 31 model params = expected mean of 410; p-value = 0.378753)\n",
      "\n",
      "--- Iterative LSGST: Beginning iter 5 of 7 : 817 gate strings ---\n",
      "--- Least Squares GST ---\n",
      "  Sum of Chi^2 = 756.373 (817 data params - 31 model params = expected mean of 786; p-value = 0.770345)\n",
      "\n",
      "--- Iterative LSGST: Beginning iter 6 of 7 : 1201 gate strings ---\n",
      "--- Least Squares GST ---\n",
      "  Sum of Chi^2 = 1163.79 (1201 data params - 31 model params = expected mean of 1170; p-value = 0.545681)\n",
      "\n",
      "--- Iterative LSGST: Beginning iter 7 of 7 : 1585 gate strings ---\n",
      "--- Least Squares GST ---\n",
      "  Sum of Chi^2 = 1573.01 (1585 data params - 31 model params = expected mean of 1554; p-value = 0.362555)\n",
      "*** Generating tables ***\n",
      "Generating targetSpamTable table...\n",
      "Generating targetGatesTable table...\n",
      "Generating datasetOverviewTable table...\n",
      "Generating bestGatesetSpamTable table...\n",
      "Generating bestGatesetSpamParametersTable table...\n",
      "Generating bestGatesetGatesTable table...\n",
      "Generating bestGatesetChoiTable table...\n",
      "Generating bestGatesetDecompTable table...\n",
      "Generating bestGatesetRotnAxisTable table...\n",
      "Generating bestGatesetClosestUnitaryTable table...\n",
      "Generating bestGatesetVsTargetTable table...\n",
      "Generating bestGatesetErrorGenTable table...\n",
      "Generating fiducialListTable table...\n",
      "Generating rhoStrListTable table...\n",
      "Generating EStrListTable table...\n",
      "Generating germListTable table...\n",
      "Generating chi2ProgressTable table...\n",
      "*** Generating plots ***\n",
      " -- Chi2 plots (2):  1  Generating bestEstimateColorBoxPlot figure...\n",
      "2  Generating invertedBestEstimateColorBoxPlot figure...\n",
      "\n",
      "*** Merging into template file ***\n",
      "Latex file(s) successfully generated.  Attempting to compile with pdflatex...\n",
      "Initial output PDF tutorial_files/MyEvenEasierReport.pdf successfully generated.\n",
      "Final output PDF tutorial_files/MyEvenEasierReport.pdf successfully generated. Cleaning up .aux and .log files.\n"
     ]
    }
   ],
   "source": [
    "results = Analyze_WholeGermPowers.doLSGSTAnalysis(ds, gs_target, fiducials, fiducials, germs, maxLengths,\n",
    "                                                  constrainToTP=True)\n",
    "results.createFullReportPDF(confidenceLevel=95,filename=\"tutorial_files/MyEvenEasierReport.pdf\",verbosity=2)"
   ]
  },
  {
   "cell_type": "code",
   "execution_count": null,
   "metadata": {
    "collapsed": true
   },
   "outputs": [],
   "source": []
  }
 ],
 "metadata": {
  "kernelspec": {
   "display_name": "Python 2",
   "language": "python",
   "name": "python2"
  },
  "language_info": {
   "codemirror_mode": {
    "name": "ipython",
    "version": 2
   },
   "file_extension": ".py",
   "mimetype": "text/x-python",
   "name": "python",
   "nbconvert_exporter": "python",
   "pygments_lexer": "ipython2",
   "version": "2.7.3"
  }
 },
 "nbformat": 4,
 "nbformat_minor": 0
}
