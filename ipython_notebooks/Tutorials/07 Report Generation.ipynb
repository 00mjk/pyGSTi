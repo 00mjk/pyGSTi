{
 "cells": [
  {
   "cell_type": "code",
   "execution_count": 1,
   "metadata": {
    "collapsed": false
   },
   "outputs": [],
   "source": [
    "#Import the GST module -- you probably want this at the beginning of every notebook\n",
    "import GST\n",
    "import json"
   ]
  },
  {
   "cell_type": "code",
   "execution_count": 2,
   "metadata": {
    "collapsed": false,
    "scrolled": true
   },
   "outputs": [
    {
     "name": "stdout",
     "output_type": "stream",
     "text": [
      "Loading from cache file:  tutorial_files/Example_Dataset.txt.cache\n",
      "\n",
      "--- Iterative LSGST: Beginning iter 1 of 10 : 92 gate strings ---\n",
      "--- Least Squares GST ---\n",
      "  Sum of Chi^2 = 48.2156 (92 data params - 40 model params = expected mean of 52; p-value = 0.623488)\n",
      "\n",
      "--- Iterative LSGST: Beginning iter 2 of 10 : 92 gate strings ---\n",
      "--- Least Squares GST ---\n",
      "  Sum of Chi^2 = 48.2156 (92 data params - 40 model params = expected mean of 52; p-value = 0.623489)\n",
      "\n",
      "--- Iterative LSGST: Beginning iter 3 of 10 : 168 gate strings ---\n",
      "--- Least Squares GST ---\n",
      "  Sum of Chi^2 = 130.576 (168 data params - 40 model params = expected mean of 128; p-value = 0.420134)\n",
      "\n",
      "--- Iterative LSGST: Beginning iter 4 of 10 : 441 gate strings ---\n",
      "--- Least Squares GST ---\n",
      "  Sum of Chi^2 = 422.595 (441 data params - 40 model params = expected mean of 401; p-value = 0.219844)\n",
      "\n",
      "--- Iterative LSGST: Beginning iter 5 of 10 : 817 gate strings ---\n",
      "--- Least Squares GST ---\n",
      "  Sum of Chi^2 = 768.626 (817 data params - 40 model params = expected mean of 777; p-value = 0.577799)\n",
      "\n",
      "--- Iterative LSGST: Beginning iter 6 of 10 : 1201 gate strings ---\n",
      "--- Least Squares GST ---\n",
      "  Sum of Chi^2 = 1153.92 (1201 data params - 40 model params = expected mean of 1161; p-value = 0.553056)\n",
      "\n",
      "--- Iterative LSGST: Beginning iter 7 of 10 : 1585 gate strings ---\n",
      "--- Least Squares GST ---\n",
      "  Sum of Chi^2 = 1605.8 (1585 data params - 40 model params = expected mean of 1545; p-value = 0.137498)\n",
      "\n",
      "--- Iterative LSGST: Beginning iter 8 of 10 : 1969 gate strings ---\n",
      "--- Least Squares GST ---\n",
      "  Sum of Chi^2 = 2041.44 (1969 data params - 40 model params = expected mean of 1929; p-value = 0.0369745)\n",
      "\n",
      "--- Iterative LSGST: Beginning iter 9 of 10 : 2353 gate strings ---\n",
      "--- Least Squares GST ---\n",
      "  Sum of Chi^2 = 2430 (2353 data params - 40 model params = expected mean of 2313; p-value = 0.0444016)\n",
      "\n",
      "--- Iterative LSGST: Beginning iter 10 of 10 : 2737 gate strings ---\n",
      "--- Least Squares GST ---\n",
      "  Sum of Chi^2 = 2799.74 (2737 data params - 40 model params = expected mean of 2697; p-value = 0.0821746)\n"
     ]
    }
   ],
   "source": [
    "# Follow Algorithm tutorial to generate LSGST gatesets\n",
    "gs_target = GST.loadGateset(\"tutorial_files/Example_Gateset.txt\")\n",
    "ds = GST.loadDataset(\"tutorial_files/Example_Dataset.txt\", cache=True)\n",
    "fiducialList = GST.loadGatestringList(\"tutorial_files/Example_FiducialList.txt\")\n",
    "\n",
    "#Run LGST to get an initial estimate for the gates in gs_target based on the data in ds\n",
    "specs = GST.getRhoAndESpecs(fiducialGateStrings=fiducialList)\n",
    "gs_lgst = GST.doLGST(ds, specs, targetGateset=gs_target, svdTruncateTo=4, verbosity=1)\n",
    "\n",
    "#Gauge optimize the result to match the target gateset\n",
    "gs_lgst_after_gauge_opt = GST.optimizeGauge(gs_lgst, \"target\", targetGateset=gs_target)\n",
    "\n",
    "#Contract the result to CPTP\n",
    "gs_clgst = GST.contract(gs_lgst_after_gauge_opt, \"CPTP\")\n",
    "\n",
    "#Get lists of gate strings for successive iterations of LSGST to use\n",
    "specs  = GST.getRhoAndESpecs(fiducialGateStrings=fiducialList)\n",
    "germList = GST.loadGatestringList(\"tutorial_files/Example_GermsList.txt\")\n",
    "maxLengthList = json.load(open(\"tutorial_files/Example_maxLengths.json\",\"r\"))\n",
    "lsgstListOfLists = [ GST.loadGatestringList(\"tutorial_files/Example_LSGSTlist%d.txt\" % l) for l in maxLengthList]\n",
    "        \n",
    "gs_lsgst_list = GST.Core.doIterativeLSGST(ds, gs_clgst, lsgstListOfLists, verbosity=2,\n",
    "                                         minProbClipForWeighting=1e-6, probClipInterval=(-1e6,1e6),\n",
    "                                         returnAll=True )\n",
    "\n",
    "go_gatesets = [ GST.optimizeGauge(gs, \"target\", targetGateset=gs_target, gateWeight=1, spamWeight=0.001) for gs in gs_lsgst_list]"
   ]
  },
  {
   "cell_type": "code",
   "execution_count": null,
   "metadata": {
    "collapsed": true
   },
   "outputs": [],
   "source": [
    "#import GST.results as R\n",
    "#reload(R)\n",
    "res = GST.Results()\n",
    "res.init_LsAndGerms(\"chi2\", gs_target, ds, gs_clgst, maxLengthList, germList,\n",
    "                    go_gatesets, lsgstListOfLists, fiducialList, fiducialList, \n",
    "                    GST.GateStringTools.repeatWithMaxLength, False)"
   ]
  },
  {
   "cell_type": "code",
   "execution_count": 5,
   "metadata": {
    "collapsed": false,
    "scrolled": true
   },
   "outputs": [
    {
     "name": "stdout",
     "output_type": "stream",
     "text": [
      "*** Generating tables ***\n",
      "Generating targetSpamTable table...\n",
      "Generating targetGatesTable table...\n",
      "Generating datasetOverviewTable table...\n",
      "Generating bestGatesetSpamTable table...\n",
      "Generating bestGatesetSpamParametersTable table...\n",
      "Generating bestGatesetGatesTable table...\n",
      "Generating bestGatesetChoiTable table...\n",
      "Generating bestGatesetDecompTable table...\n",
      "Generating bestGatesetRotnAxisTable table...\n",
      "Generating bestGatesetClosestUnitaryTable table...\n",
      "Generating bestGatesetVsTargetTable table...\n",
      "Generating bestGatesetErrorGenTable table...\n",
      "Generating fiducialListTable table...\n",
      "Generating rhoStrListTable table...\n",
      "Generating EStrListTable table...\n",
      "Generating germListTable table...\n",
      "Generating chi2ProgressTable table...\n",
      "*** Generating plots ***\n",
      " -- Chi2 plots (2):  1  2  \n",
      "*** Merging into template file ***\n",
      "Latex file(s) successfully generated.  Attempting to compile with pdflatex...\n",
      "Initial output PDF tutorial_files/Example_reportB.pdf successfully generated.\n",
      "Final output PDF tutorial_files/Example_reportB.pdf successfully generated. Cleaning up .aux and .log files.\n",
      "*** Generating tables ***\n",
      "*** Generating plots ***\n",
      "*** Merging into template file ***\n",
      "Latex file(s) successfully generated.  Attempting to compile with pdflatex...\n",
      "Initial output PDF tutorial_files/Example_briefB.pdf successfully generated.\n",
      "Final output PDF tutorial_files/Example_briefB.pdf successfully generated. Cleaning up .aux and .log files.\n",
      "*** Generating tables ***\n",
      "*** Generating plots ***\n",
      " -- Chi2 plots (1):  1  \n",
      "*** Merging into template file ***\n",
      "Latex file(s) successfully generated.  Attempting to compile with pdflatex...\n",
      "Initial output PDF tutorial_files/Example_slidesB.pdf successfully generated.\n",
      "Final output PDF tutorial_files/Example_slidesB.pdf successfully generated. Cleaning up .aux and .log files.\n",
      "*** Generating tables ***\n",
      "*** Generating plots ***\n",
      " -- Chi2 plots (1):  1  \n",
      "*** Assembling PPT file ***\n",
      "Latexing progressTable table...\n",
      "Latexing bestGatesetVsTargetTable table...\n",
      "Latexing bestGatesetErrorGenTable table...\n",
      "Latexing bestGatesetDecompTable table...\n",
      "Latexing bestGatesetRotnAxisTable table...\n",
      "Latexing bestGatesetGatesTable table...\n",
      "Latexing bestGatesetSpamTable table...\n",
      "Latexing bestGatesetSpamParametersTable table...\n",
      "Latexing bestGatesetChoiTable table...\n",
      "Latexing targetSpamTable table...\n",
      "Latexing targetGatesTable table...\n",
      "Latexing fiducialListTable table...\n",
      "Latexing germListTable table...\n",
      "Latexing datasetOverviewTable table...\n",
      "Final output PPT tutorial_files/Example_slidesB.pptx successfully generated.\n"
     ]
    }
   ],
   "source": [
    "#Make smaller reports (no confidence intervals or appendicies)\n",
    "res.createFullReportPDF(filename=\"tutorial_files/Example_reportB.pdf\", verbosity=2, confidenceLevel=None,\n",
    "                        debugAidsAppendix=False, gaugeOptAppendix=False,\n",
    "                        pixelPlotAppendix=False, whackamoleAppendix=False)\n",
    "\n",
    "res.createBriefReportPDF(filename=\"tutorial_files/Example_briefB.pdf\", verbosity=2, confidenceLevel=None)\n",
    "\n",
    "res.createPresentationPDF(filename=\"tutorial_files/Example_slidesB.pdf\", verbosity=2, confidenceLevel=None,\n",
    "                         debugAidsAppendix=False, pixelPlotAppendix=False, whackamoleAppendix=False)\n",
    "\n",
    "res.createPresentationPPT(filename=\"tutorial_files/Example_slidesB.ppt\", verbosity=2, confidenceLevel=None,\n",
    "                         debugAidsAppendix=False, pixelPlotAppendix=False, whackamoleAppendix=False)"
   ]
  },
  {
   "cell_type": "code",
   "execution_count": 4,
   "metadata": {
    "collapsed": false,
    "scrolled": true
   },
   "outputs": [
    {
     "name": "stdout",
     "output_type": "stream",
     "text": [
      "*** Generating tables ***\n",
      "Generating targetSpamTable table...\n",
      "Generating targetGatesTable table...\n",
      "Generating datasetOverviewTable table...\n",
      "Generating bestGatesetSpamTable table...\n",
      "Generating bestGatesetSpamParametersTable table...\n",
      "Generating bestGatesetGatesTable table...\n",
      "Generating bestGatesetChoiTable table...\n",
      "Generating bestGatesetDecompTable table...\n",
      "Generating bestGatesetRotnAxisTable table...\n",
      "Generating bestGatesetClosestUnitaryTable table...\n",
      "Generating bestGatesetVsTargetTable table...\n",
      "Generating bestGatesetErrorGenTable table...\n",
      "Generating fiducialListTable table...\n",
      "Generating rhoStrListTable table...\n",
      "Generating EStrListTable table...\n",
      "Generating germListTable table...\n",
      "Generating chi2ProgressTable table...\n",
      "--- Gauge Optimization to a target (L-BFGS-B) ---\n",
      "The resulting Frobenius-norm distance is: 0.0387348\n",
      "  frobenius norm diff of Gi = 0.172394\n",
      "  frobenius norm diff of Gx = 0.171956\n",
      "  frobenius norm diff of Gy = 0.175275\n",
      "  frobenius norm diff of rho[0] = 0.00228747\n",
      "  frobenius norm diff of EVec[0] = 0.00137123\n",
      "--- Gauge Optimization to a target (L-BFGS-B) ---\n",
      "The resulting Frobenius-norm distance is: 0.00855259\n",
      "  frobenius norm diff of Gi = 0.172394\n",
      "  frobenius norm diff of Gx = 0.171996\n",
      "  frobenius norm diff of Gy = 0.175356\n",
      "  frobenius norm diff of rho[0] = 0.00133098\n",
      "  frobenius norm diff of EVec[0] = 0.000591043\n",
      "--- Gauge Optimization to a target (L-BFGS-B) ---\n",
      "The resulting Frobenius-norm distance is: 0.0432479\n",
      "  frobenius norm diff of Gi = 0.172394\n",
      "  frobenius norm diff of Gx = 0.17195\n",
      "  frobenius norm diff of Gy = 0.175266\n",
      "  frobenius norm diff of rho[0] = 0.00324108\n",
      "  frobenius norm diff of EVec[0] = 0.00198534\n",
      "--- Gauge Optimization to CPTP and target w/valid SPAM (L-BFGS-B) ---\n",
      "The resulting CPTP and target penalty is: -3.39708\n",
      "*** Generating plots ***\n",
      " -- Chi2 plots (10):  1  2  5  6  7  8  9  10  11  12  \n",
      " -- Direct-X plots  (4):\n",
      " 1  2  3  4\n",
      " -- Error rate plots...\n",
      " -- Whack-a-mole plots (6):  1  2  3  4  5  6  \n",
      "*** Merging into template file ***\n",
      "Latex file(s) successfully generated.  Attempting to compile with pdflatex...\n",
      "Initial output PDF tutorial_files/Example_report.pdf successfully generated.\n",
      "Final output PDF tutorial_files/Example_report.pdf successfully generated. Cleaning up .aux and .log files.\n",
      "*** Generating tables ***\n",
      "*** Generating plots ***\n",
      "*** Merging into template file ***\n",
      "Latex file(s) successfully generated.  Attempting to compile with pdflatex...\n",
      "Initial output PDF tutorial_files/Example_brief.pdf successfully generated.\n",
      "Final output PDF tutorial_files/Example_brief.pdf successfully generated. Cleaning up .aux and .log files.\n",
      "*** Generating tables ***\n",
      "*** Generating plots ***\n",
      " -- Chi2 plots (9):  1  5  6  7  8  9  10  11  12  \n",
      " -- Direct-X plots  (2):\n",
      " 1  2\n",
      " -- Error rate plots...\n",
      " -- Whack-a-mole plots (6):  1  2  3  4  5  6  \n",
      "*** Merging into template file ***\n",
      "Latex file(s) successfully generated.  Attempting to compile with pdflatex...\n",
      "Initial output PDF tutorial_files/Example_slides.pdf successfully generated.\n",
      "Final output PDF tutorial_files/Example_slides.pdf successfully generated. Cleaning up .aux and .log files.\n",
      "*** Generating tables ***\n",
      "*** Generating plots ***\n",
      " -- Chi2 plots (9):  1  5  6  7  8  9  10  11  12  \n",
      " -- Direct-X plots  (2):\n",
      " 1  2\n",
      " -- Error rate plots...\n",
      " -- Whack-a-mole plots (6):  1  2  3  4  5  6  \n",
      "*** Assembling PPT file ***\n",
      "Latexing progressTable table...\n",
      "Latexing bestGatesetVsTargetTable table...\n",
      "Latexing bestGatesetErrorGenTable table...\n",
      "Latexing bestGatesetDecompTable table...\n",
      "Latexing bestGatesetRotnAxisTable table...\n",
      "Latexing bestGatesetGatesTable table...\n",
      "Latexing bestGatesetSpamTable table...\n",
      "Latexing bestGatesetSpamParametersTable table...\n",
      "Latexing bestGatesetChoiTable table...\n",
      "Latexing targetSpamTable table...\n",
      "Latexing targetGatesTable table...\n",
      "Latexing fiducialListTable table...\n",
      "Latexing germListTable table...\n",
      "Latexing datasetOverviewTable table...\n",
      "Final output PPT tutorial_files/Example_slides.pptx successfully generated.\n"
     ]
    }
   ],
   "source": [
    "#Make large reports (with appendices and confidence regions)\n",
    "res.createFullReportPDF(filename=\"tutorial_files/Example_report.pdf\", verbosity=2, confidenceLevel=95,\n",
    "                        debugAidsAppendix=True, gaugeOptAppendix=True,\n",
    "                        pixelPlotAppendix=True, whackamoleAppendix=True)\n",
    "\n",
    "res.createBriefReportPDF(filename=\"tutorial_files/Example_brief.pdf\", verbosity=2, confidenceLevel=95)\n",
    "\n",
    "res.createPresentationPDF(filename=\"tutorial_files/Example_slides.pdf\", verbosity=2, confidenceLevel=95,\n",
    "                         debugAidsAppendix=True, pixelPlotAppendix=True, whackamoleAppendix=True)\n",
    "\n",
    "res.createPresentationPPT(filename=\"tutorial_files/Example_slides.ppt\", verbosity=2, confidenceLevel=95,\n",
    "                         debugAidsAppendix=True, pixelPlotAppendix=True, whackamoleAppendix=True)"
   ]
  },
  {
   "cell_type": "code",
   "execution_count": 7,
   "metadata": {
    "collapsed": false
   },
   "outputs": [
    {
     "data": {
      "text/plain": [
       "'1\\\\e{30}'"
      ]
     },
     "execution_count": 7,
     "metadata": {},
     "output_type": "execute_result"
    }
   ],
   "source": [
    "import GST.LatexUtil as LU\n",
    "reload(LU)\n",
    "LU.latex_value(1.2e30,2)"
   ]
  },
  {
   "cell_type": "code",
   "execution_count": null,
   "metadata": {
    "collapsed": false
   },
   "outputs": [],
   "source": []
  }
 ],
 "metadata": {
  "kernelspec": {
   "display_name": "Python 2",
   "language": "python",
   "name": "python2"
  },
  "language_info": {
   "codemirror_mode": {
    "name": "ipython",
    "version": 2
   },
   "file_extension": ".py",
   "mimetype": "text/x-python",
   "name": "python",
   "nbconvert_exporter": "python",
   "pygments_lexer": "ipython2",
   "version": "2.7.3"
  }
 },
 "nbformat": 4,
 "nbformat_minor": 0
}
