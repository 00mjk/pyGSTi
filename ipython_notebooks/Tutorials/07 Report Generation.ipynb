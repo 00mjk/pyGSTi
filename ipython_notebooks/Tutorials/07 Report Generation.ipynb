{
 "cells": [
  {
   "cell_type": "code",
   "execution_count": 1,
   "metadata": {
    "collapsed": false
   },
   "outputs": [],
   "source": [
    "#Import the GST module -- you probably want this at the beginning of every notebook\n",
    "import pygsti\n",
    "import json"
   ]
  },
  {
   "cell_type": "code",
   "execution_count": 2,
   "metadata": {
    "collapsed": false,
    "scrolled": false
   },
   "outputs": [
    {
     "name": "stdout",
     "output_type": "stream",
     "text": [
      "Loading from cache file:  tutorial_files/Example_Dataset.txt.cache\n",
      "\n",
      "--- Iterative LSGST: Beginning iter 1 of 10 : 92 gate strings ---\n",
      "--- Least Squares GST ---\n",
      "  Sum of Chi^2 = 48.2156 (92 data params - 40 model params = expected mean of 52; p-value = 0.623488)\n",
      "\n",
      "--- Iterative LSGST: Beginning iter 2 of 10 : 92 gate strings ---\n",
      "--- Least Squares GST ---\n",
      "  Sum of Chi^2 = 48.2156 (92 data params - 40 model params = expected mean of 52; p-value = 0.623489)\n",
      "\n",
      "--- Iterative LSGST: Beginning iter 3 of 10 : 168 gate strings ---\n",
      "--- Least Squares GST ---\n",
      "  Sum of Chi^2 = 130.576 (168 data params - 40 model params = expected mean of 128; p-value = 0.420138)\n",
      "\n",
      "--- Iterative LSGST: Beginning iter 4 of 10 : 441 gate strings ---\n",
      "--- Least Squares GST ---\n",
      "  Sum of Chi^2 = 422.579 (441 data params - 40 model params = expected mean of 401; p-value = 0.220005)\n",
      "\n",
      "--- Iterative LSGST: Beginning iter 5 of 10 : 817 gate strings ---\n",
      "--- Least Squares GST ---\n",
      "  Sum of Chi^2 = 768.626 (817 data params - 40 model params = expected mean of 777; p-value = 0.577802)\n",
      "\n",
      "--- Iterative LSGST: Beginning iter 6 of 10 : 1201 gate strings ---\n",
      "--- Least Squares GST ---\n",
      "  Sum of Chi^2 = 1153.92 (1201 data params - 40 model params = expected mean of 1161; p-value = 0.553056)\n",
      "\n",
      "--- Iterative LSGST: Beginning iter 7 of 10 : 1585 gate strings ---\n",
      "--- Least Squares GST ---\n",
      "  Sum of Chi^2 = 1605.8 (1585 data params - 40 model params = expected mean of 1545; p-value = 0.137498)\n",
      "\n",
      "--- Iterative LSGST: Beginning iter 8 of 10 : 1969 gate strings ---\n",
      "--- Least Squares GST ---\n",
      "  Sum of Chi^2 = 2041.44 (1969 data params - 40 model params = expected mean of 1929; p-value = 0.0369745)\n",
      "\n",
      "--- Iterative LSGST: Beginning iter 9 of 10 : 2353 gate strings ---\n",
      "--- Least Squares GST ---\n",
      "  Sum of Chi^2 = 2430 (2353 data params - 40 model params = expected mean of 2313; p-value = 0.0444015)\n",
      "\n",
      "--- Iterative LSGST: Beginning iter 10 of 10 : 2737 gate strings ---\n",
      "--- Least Squares GST ---\n",
      "  Sum of Chi^2 = 2799.71 (2737 data params - 40 model params = expected mean of 2697; p-value = 0.082232)\n"
     ]
    }
   ],
   "source": [
    "# Follow Algorithm tutorial to generate LSGST gatesets\n",
    "gs_target = pygsti.io.load_gateset(\"tutorial_files/Example_Gateset.txt\")\n",
    "ds = pygsti.io.load_dataset(\"tutorial_files/Example_Dataset.txt\", cache=True)\n",
    "fiducialList = pygsti.io.load_gatestring_list(\"tutorial_files/Example_FiducialList.txt\")\n",
    "\n",
    "#Run LGST to get an initial estimate for the gates in gs_target based on the data in ds\n",
    "specs = pygsti.construction.build_spam_specs(fiducialGateStrings=fiducialList)\n",
    "gs_lgst = pygsti.do_lgst(ds, specs, targetGateset=gs_target, svdTruncateTo=4, verbosity=1)\n",
    "\n",
    "#Gauge optimize the result to match the target gateset\n",
    "gs_lgst_after_gauge_opt = pygsti.optimize_gauge(gs_lgst, \"target\", targetGateset=gs_target)\n",
    "\n",
    "#Contract the result to CPTP\n",
    "gs_clgst = pygsti.contract(gs_lgst_after_gauge_opt, \"CPTP\")\n",
    "\n",
    "#Get lists of gate strings for successive iterations of LSGST to use\n",
    "specs  = pygsti.construction.build_spam_specs(fiducialGateStrings=fiducialList)\n",
    "germList = pygsti.io.load_gatestring_list(\"tutorial_files/Example_GermsList.txt\")\n",
    "maxLengthList = json.load(open(\"tutorial_files/Example_maxLengths.json\",\"r\"))\n",
    "lsgstListOfLists = [ pygsti.io.load_gatestring_list(\"tutorial_files/Example_LSGSTlist%d.txt\" % l) for l in maxLengthList]\n",
    "        \n",
    "gs_lsgst_list = pygsti.do_iterative_mc2gst(ds, gs_clgst, lsgstListOfLists, verbosity=2,\n",
    "                                         minProbClipForWeighting=1e-6, probClipInterval=(-1e6,1e6),\n",
    "                                         returnAll=True )\n",
    "\n",
    "go_gatesets = [ pygsti.optimize_gauge(gs, \"target\", targetGateset=gs_target, gateWeight=1, spamWeight=0.001) for gs in gs_lsgst_list]"
   ]
  },
  {
   "cell_type": "code",
   "execution_count": 3,
   "metadata": {
    "collapsed": false
   },
   "outputs": [],
   "source": [
    "res = pygsti.report.Results()\n",
    "res.init_Ls_and_germs(\"chi2\", gs_target, ds, gs_clgst, maxLengthList, germList,\n",
    "                    go_gatesets, lsgstListOfLists, fiducialList, fiducialList, \n",
    "                    pygsti.construction.repeat_with_max_length, False)"
   ]
  },
  {
   "cell_type": "code",
   "execution_count": 4,
   "metadata": {
    "collapsed": false,
    "scrolled": true
   },
   "outputs": [
    {
     "name": "stdout",
     "output_type": "stream",
     "text": [
      "*** Generating tables ***\n",
      "Generating targetSpamTable table...\n",
      "Generating targetGatesTable table...\n",
      "Generating datasetOverviewTable table...\n",
      "Generating bestGatesetSpamTable table...\n",
      "Generating bestGatesetSpamParametersTable table...\n",
      "Generating bestGatesetGatesTable table...\n",
      "Generating bestGatesetChoiTable table...\n",
      "Generating bestGatesetDecompTable table...\n",
      "Generating bestGatesetRotnAxisTable table...\n",
      "Generating bestGatesetClosestUnitaryTable table...\n",
      "Generating bestGatesetVsTargetTable table...\n",
      "Generating bestGatesetErrorGenTable table...\n",
      "Generating fiducialListTable table...\n",
      "Generating rhoStrListTable table...\n",
      "Generating EStrListTable table...\n",
      "Generating germListTable table...\n",
      "Generating chi2ProgressTable table...\n",
      "*** Generating plots ***\n",
      " -- Chi2 plots (2):  1  Generating bestEstimateColorBoxPlot figure...\n",
      "2  Generating invertedBestEstimateColorBoxPlot figure...\n",
      "\n",
      "*** Merging into template file ***\n",
      "Latex file(s) successfully generated.  Attempting to compile with pdflatex...\n",
      "Initial output PDF tutorial_files/Example_reportB.pdf successfully generated.\n",
      "Final output PDF tutorial_files/Example_reportB.pdf successfully generated. Cleaning up .aux and .log files.\n",
      "*** Generating tables ***\n",
      "*** Generating plots ***\n",
      "*** Merging into template file ***\n",
      "Latex file(s) successfully generated.  Attempting to compile with pdflatex...\n",
      "Initial output PDF tutorial_files/Example_briefB.pdf successfully generated.\n",
      "Final output PDF tutorial_files/Example_briefB.pdf successfully generated. Cleaning up .aux and .log files.\n",
      "*** Generating tables ***\n",
      "*** Generating plots ***\n",
      " -- Chi2 plots (1):  1  \n",
      "*** Merging into template file ***\n",
      "Latex file(s) successfully generated.  Attempting to compile with pdflatex...\n",
      "Initial output PDF tutorial_files/Example_slidesB.pdf successfully generated.\n",
      "Final output PDF tutorial_files/Example_slidesB.pdf successfully generated. Cleaning up .aux and .log files.\n",
      "*** Generating tables ***\n",
      "*** Generating plots ***\n",
      " -- Chi2 plots (1):  1  \n",
      "*** Assembling PPT file ***\n",
      "Latexing progressTable table...\n",
      "Latexing bestGatesetVsTargetTable table...\n",
      "Latexing bestGatesetErrorGenTable table...\n",
      "Latexing bestGatesetDecompTable table...\n",
      "Latexing bestGatesetRotnAxisTable table...\n",
      "Latexing bestGatesetGatesTable table...\n",
      "Latexing bestGatesetSpamTable table...\n",
      "Latexing bestGatesetSpamParametersTable table...\n",
      "Latexing bestGatesetChoiTable table...\n",
      "Latexing targetSpamTable table...\n",
      "Latexing targetGatesTable table...\n",
      "Latexing fiducialListTable table...\n",
      "Latexing germListTable table...\n",
      "Latexing datasetOverviewTable table...\n",
      "Final output PPT tutorial_files/Example_slidesB.pptx successfully generated.\n"
     ]
    }
   ],
   "source": [
    "#Make smaller reports (no confidence intervals or appendicies)\n",
    "res.create_full_report_pdf(filename=\"tutorial_files/Example_reportB.pdf\", verbosity=2, confidenceLevel=None,\n",
    "                        debugAidsAppendix=False, gaugeOptAppendix=False,\n",
    "                        pixelPlotAppendix=False, whackamoleAppendix=False)\n",
    "\n",
    "res.create_brief_report_pdf(filename=\"tutorial_files/Example_briefB.pdf\", verbosity=2, confidenceLevel=None)\n",
    "\n",
    "res.create_presentation_pdf(filename=\"tutorial_files/Example_slidesB.pdf\", verbosity=2, confidenceLevel=None,\n",
    "                         debugAidsAppendix=False, pixelPlotAppendix=False, whackamoleAppendix=False)\n",
    "\n",
    "res.create_presentation_ppt(filename=\"tutorial_files/Example_slidesB.ppt\", verbosity=2, confidenceLevel=None,\n",
    "                         debugAidsAppendix=False, pixelPlotAppendix=False, whackamoleAppendix=False)"
   ]
  },
  {
   "cell_type": "code",
   "execution_count": 5,
   "metadata": {
    "collapsed": false,
    "scrolled": true
   },
   "outputs": [
    {
     "name": "stdout",
     "output_type": "stream",
     "text": [
      "*** Generating tables ***\n",
      "Generating targetSpamTable table...\n",
      "Generating targetGatesTable table...\n",
      "Generating datasetOverviewTable table...\n",
      "Generating bestGatesetSpamTable table...\n",
      "Generating bestGatesetSpamParametersTable table...\n",
      "Generating bestGatesetGatesTable table...\n",
      "Generating bestGatesetChoiTable table...\n",
      "Generating bestGatesetDecompTable table...\n",
      "Generating bestGatesetRotnAxisTable table...\n",
      "Generating bestGatesetClosestUnitaryTable table...\n",
      "Generating bestGatesetVsTargetTable table...\n",
      "Generating bestGatesetErrorGenTable table...\n",
      "Generating fiducialListTable table...\n",
      "Generating rhoStrListTable table...\n",
      "Generating EStrListTable table...\n",
      "Generating germListTable table...\n",
      "Generating chi2ProgressTable table...\n",
      "--- Gauge Optimization to a target (L-BFGS-B) ---\n",
      "The resulting Frobenius-norm distance is: 0.0387306\n",
      "  frobenius norm diff of Gi = 0.172389\n",
      "  frobenius norm diff of Gx = 0.17194\n",
      "  frobenius norm diff of Gy = 0.17524\n",
      "  frobenius norm diff of rho0 = 0.0022892\n",
      "  frobenius norm diff of E0 = 0.00137844\n",
      "--- Gauge Optimization to a target (L-BFGS-B) ---\n",
      "The resulting Frobenius-norm distance is: 0.00855174\n",
      "  frobenius norm diff of Gi = 0.172389\n",
      "  frobenius norm diff of Gx = 0.171957\n",
      "  frobenius norm diff of Gy = 0.175347\n",
      "  frobenius norm diff of rho0 = 0.00133517\n",
      "  frobenius norm diff of E0 = 0.000590199\n",
      "--- Gauge Optimization to a target (L-BFGS-B) ---\n",
      "The resulting Frobenius-norm distance is: 0.0432432\n",
      "  frobenius norm diff of Gi = 0.172389\n",
      "  frobenius norm diff of Gx = 0.171934\n",
      "  frobenius norm diff of Gy = 0.175231\n",
      "  frobenius norm diff of rho0 = 0.00325149\n",
      "  frobenius norm diff of E0 = 0.00198241\n",
      "--- Gauge Optimization to CPTP and target w/valid SPAM (L-BFGS-B) ---\n",
      "The resulting CPTP and target penalty is: -5.82288\n",
      "*** Generating plots ***\n",
      " -- Chi2 plots (10):  1  2  3  Generating estimateForLIndex1ColorBoxPlot figure...\n",
      "4  Generating estimateForLIndex2ColorBoxPlot figure...\n",
      "5  Generating estimateForLIndex3ColorBoxPlot figure...\n",
      "6  Generating estimateForLIndex4ColorBoxPlot figure...\n",
      "7  Generating estimateForLIndex5ColorBoxPlot figure...\n",
      "8  Generating estimateForLIndex6ColorBoxPlot figure...\n",
      "9  Generating estimateForLIndex7ColorBoxPlot figure...\n",
      "10  Generating estimateForLIndex8ColorBoxPlot figure...\n",
      "\n",
      " -- Direct-X plots  (2):\n",
      " 1 Generating directLongSeqGSTColorBoxPlot figure...\n",
      " 2 Generating directLongSeqGSTDeviationColorBoxPlot figure...\n",
      "\n",
      " -- Error rate plots...\n",
      "Generating smallEigvalErrRateColorBoxPlot figure...\n",
      " -- Whack-a-mole plots (6):  1  Generating whackGxMoleBoxes figure...\n",
      "2  Generating whackGyMoleBoxes figure...\n",
      "3  Generating whackGiMoleBoxes figure...\n",
      "4  Generating whackGxMoleBoxesSummed figure...\n",
      "5  Generating whackGyMoleBoxesSummed figure...\n",
      "6  Generating whackGiMoleBoxesSummed figure...\n",
      "\n",
      "*** Merging into template file ***\n",
      "Latex file(s) successfully generated.  Attempting to compile with pdflatex...\n",
      "Initial output PDF tutorial_files/Example_report.pdf successfully generated.\n",
      "Final output PDF tutorial_files/Example_report.pdf successfully generated. Cleaning up .aux and .log files.\n",
      "*** Generating tables ***\n",
      "*** Generating plots ***\n",
      "*** Merging into template file ***\n",
      "Latex file(s) successfully generated.  Attempting to compile with pdflatex...\n",
      "Initial output PDF tutorial_files/Example_brief.pdf successfully generated.\n",
      "Final output PDF tutorial_files/Example_brief.pdf successfully generated. Cleaning up .aux and .log files.\n",
      "*** Generating tables ***\n",
      "*** Generating plots ***\n",
      " -- Chi2 plots (9):  1  2  3  4  5  6  7  8  9  \n",
      " -- Direct-X plots (2)  1  2 \n",
      " -- Error rate plots...\n",
      " -- Whack-a-mole plots (6):  1  2  3  4  5  6  \n",
      "*** Merging into template file ***\n",
      "Latex file(s) successfully generated.  Attempting to compile with pdflatex...\n",
      "Initial output PDF tutorial_files/Example_slides.pdf successfully generated.\n",
      "Final output PDF tutorial_files/Example_slides.pdf successfully generated. Cleaning up .aux and .log files.\n",
      "*** Generating tables ***\n",
      "*** Generating plots ***\n",
      " -- Chi2 plots (9):  1  2  3  4  5  6  7  8  9  \n",
      " -- Direct-X plots (2)  1  2 \n",
      " -- Error rate plots...\n",
      " -- Whack-a-mole plots (6):  1  2  3  4  5  6  \n",
      "*** Assembling PPT file ***\n",
      "Latexing progressTable table...\n",
      "Latexing bestGatesetVsTargetTable table...\n",
      "Latexing bestGatesetErrorGenTable table...\n",
      "Latexing bestGatesetDecompTable table...\n",
      "Latexing bestGatesetRotnAxisTable table...\n",
      "Latexing bestGatesetGatesTable table...\n",
      "Latexing bestGatesetSpamTable table...\n",
      "Latexing bestGatesetSpamParametersTable table...\n",
      "Latexing bestGatesetChoiTable table...\n",
      "Latexing targetSpamTable table...\n",
      "Latexing targetGatesTable table...\n",
      "Latexing fiducialListTable table...\n",
      "Latexing germListTable table...\n",
      "Latexing datasetOverviewTable table...\n",
      "Final output PPT tutorial_files/Example_slides.pptx successfully generated.\n"
     ]
    }
   ],
   "source": [
    "#Make large reports (with appendices and confidence regions)\n",
    "res.create_full_report_pdf(filename=\"tutorial_files/Example_report.pdf\", verbosity=2, confidenceLevel=95,\n",
    "                        debugAidsAppendix=True, gaugeOptAppendix=True,\n",
    "                        pixelPlotAppendix=True, whackamoleAppendix=True)\n",
    "\n",
    "res.create_brief_report_pdf(filename=\"tutorial_files/Example_brief.pdf\", verbosity=2, confidenceLevel=95)\n",
    "\n",
    "res.create_presentation_pdf(filename=\"tutorial_files/Example_slides.pdf\", verbosity=2, confidenceLevel=95,\n",
    "                         debugAidsAppendix=True, pixelPlotAppendix=True, whackamoleAppendix=True)\n",
    "\n",
    "res.create_presentation_ppt(filename=\"tutorial_files/Example_slides.ppt\", verbosity=2, confidenceLevel=95,\n",
    "                         debugAidsAppendix=True, pixelPlotAppendix=True, whackamoleAppendix=True)"
   ]
  },
  {
   "cell_type": "code",
   "execution_count": 6,
   "metadata": {
    "collapsed": false
   },
   "outputs": [
    {
     "data": {
      "text/plain": [
       "'1\\\\e{30}'"
      ]
     },
     "execution_count": 6,
     "metadata": {},
     "output_type": "execute_result"
    }
   ],
   "source": [
    "import pygsti.report.latex as LU\n",
    "reload(LU)\n",
    "LU.latex_value(1.2e30,2)"
   ]
  },
  {
   "cell_type": "code",
   "execution_count": null,
   "metadata": {
    "collapsed": false
   },
   "outputs": [],
   "source": []
  }
 ],
 "metadata": {
  "kernelspec": {
   "display_name": "Python 2",
   "language": "python",
   "name": "python2"
  },
  "language_info": {
   "codemirror_mode": {
    "name": "ipython",
    "version": 2
   },
   "file_extension": ".py",
   "mimetype": "text/x-python",
   "name": "python",
   "nbconvert_exporter": "python",
   "pygments_lexer": "ipython2",
   "version": "2.7.3"
  }
 },
 "nbformat": 4,
 "nbformat_minor": 0
}
