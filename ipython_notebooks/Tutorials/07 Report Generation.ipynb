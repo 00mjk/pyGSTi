{
 "cells": [
  {
   "cell_type": "markdown",
   "metadata": {},
   "source": [
    "As noted in Tutorial 00, `pygsti` can provide many reports or presentation slides.\n",
    "\n",
    "In this tutorial, we look at how to customize some of the output of `pygsti`'s report generating module."
   ]
  },
  {
   "cell_type": "code",
   "execution_count": 1,
   "metadata": {
    "collapsed": false
   },
   "outputs": [],
   "source": [
    "#Import the GST module -- you probably want this at the beginning of every notebook\n",
    "import pygsti\n",
    "import json"
   ]
  },
  {
   "cell_type": "markdown",
   "metadata": {},
   "source": [
    "Creating reports is a method of the `pygsti.report.Results` object. Below, we create such an object, and then initialize it with the appropriate fiducials, germs, maximum lengths, etc.\n",
    "\n",
    "It's important to note that the `pygsti.report.Results` object requires an argument to indicate which objective function you wish to score the estimate using. It's recommended that, if you ran MC2GST, you use the `\"chi2\"` argument, while if you ran MLGST, you use `\"logL\"`. Otherwise, you will score your estimate based on an objective function you weren't optimizing over, so your scores may be rather weird!"
   ]
  },
  {
   "cell_type": "markdown",
   "metadata": {},
   "source": [
    "Creating reports is a method of the `pygsti.report.Results` object. Below, we create such an object, and then initialize it with the appropriate fiducials, germs, maximum lengths, etc.\n",
    "\n",
    "It's important to note that the `pygsti.report.Results` object requires an argument to indicate which objective function you wish to score the estimate using. It's recommended that, if you ran MC2GST, you use the `\"chi2\"` argument, while if you ran MLGST, you use `\"logL\"`. Otherwise, you will score your estimate based on an objective function you weren't optimizing over, so your scores may be rather weird!"
   ]
  },
  {
   "cell_type": "markdown",
   "metadata": {},
   "source": [
    "First, we'll make smaller reports that don't contain any confidence intervals for the estimates,\n",
    "nor any appendices.\n",
    "\n",
    "NOTE: In order for you to create PowerPoint files, you'll have to have `python-pptx` installed on your system."
   ]
  },
  {
   "cell_type": "code",
   "execution_count": 2,
   "metadata": {
    "collapsed": false,
    "scrolled": false
   },
   "outputs": [
    {
     "name": "stdout",
     "output_type": "stream",
     "text": [
      "Loading from cache file:  tutorial_files/Example_Dataset.txt.cache\n",
      "  --- Iterative MC2GST: Iter 0 of 9  92 gate strings ---: \n",
      "  --- Minimum Chi^2 GST ---\n",
      "    Sum of Chi^2 = 48.2156 (92 data params - 40 model params = expected mean of 52; p-value = 0.623489)\n",
      "  --- Iterative MC2GST: Iter 1 of 9  92 gate strings ---: \n",
      "  --- Minimum Chi^2 GST ---\n",
      "    Sum of Chi^2 = 48.2156 (92 data params - 40 model params = expected mean of 52; p-value = 0.623489)\n",
      "  --- Iterative MC2GST: Iter 2 of 9  168 gate strings ---: \n",
      "  --- Minimum Chi^2 GST ---\n",
      "    Sum of Chi^2 = 130.576 (168 data params - 40 model params = expected mean of 128; p-value = 0.420138)\n",
      "  --- Iterative MC2GST: Iter 3 of 9  441 gate strings ---: \n",
      "  --- Minimum Chi^2 GST ---\n",
      "    Sum of Chi^2 = 422.58 (441 data params - 40 model params = expected mean of 401; p-value = 0.22)\n",
      "  --- Iterative MC2GST: Iter 4 of 9  817 gate strings ---: \n",
      "  --- Minimum Chi^2 GST ---\n",
      "    Sum of Chi^2 = 768.626 (817 data params - 40 model params = expected mean of 777; p-value = 0.577802)\n",
      "  --- Iterative MC2GST: Iter 5 of 9  1201 gate strings ---: \n",
      "  --- Minimum Chi^2 GST ---\n",
      "    Sum of Chi^2 = 1153.92 (1201 data params - 40 model params = expected mean of 1161; p-value = 0.553031)\n",
      "  --- Iterative MC2GST: Iter 6 of 9  1585 gate strings ---: \n",
      "  --- Minimum Chi^2 GST ---\n",
      "    Sum of Chi^2 = 1605.8 (1585 data params - 40 model params = expected mean of 1545; p-value = 0.137497)\n",
      "  --- Iterative MC2GST: Iter 7 of 9  1969 gate strings ---: \n",
      "  --- Minimum Chi^2 GST ---\n",
      "    Sum of Chi^2 = 2041.45 (1969 data params - 40 model params = expected mean of 1929; p-value = 0.0369653)\n",
      "  --- Iterative MC2GST: Iter 8 of 9  2353 gate strings ---: \n",
      "  --- Minimum Chi^2 GST ---\n",
      "    Sum of Chi^2 = 2430 (2353 data params - 40 model params = expected mean of 2313; p-value = 0.0444015)\n",
      "  --- Iterative MC2GST: Iter 9 of 9  2737 gate strings ---: \n",
      "  --- Minimum Chi^2 GST ---\n",
      "    Sum of Chi^2 = 2799.71 (2737 data params - 40 model params = expected mean of 2697; p-value = 0.082232)\n"
     ]
    }
   ],
   "source": [
    "# Follow Algorithm tutorial to generate LSGST gatesets\n",
    "gs_target = pygsti.io.load_gateset(\"tutorial_files/Example_Gateset.txt\")\n",
    "gs_target.set_basis(\"gm\",2)\n",
    "ds = pygsti.io.load_dataset(\"tutorial_files/Example_Dataset.txt\", cache=True)\n",
    "fiducialList = pygsti.io.load_gatestring_list(\"tutorial_files/Example_FiducialList.txt\")\n",
    "\n",
    "#Run LGST to get an initial estimate for the gates in gs_target based on the data in ds\n",
    "specs = pygsti.construction.build_spam_specs(fiducialGateStrings=fiducialList)\n",
    "gs_lgst = pygsti.do_lgst(ds, specs, targetGateset=gs_target, svdTruncateTo=4, verbosity=1)\n",
    "\n",
    "#Gauge optimize the result to match the target gateset\n",
    "gs_lgst_after_gauge_opt = pygsti.optimize_gauge(gs_lgst, \"target\", targetGateset=gs_target)\n",
    "\n",
    "#Contract the result to CPTP\n",
    "gs_clgst = pygsti.contract(gs_lgst_after_gauge_opt, \"CPTP\")\n",
    "\n",
    "#Get lists of gate strings for successive iterations of MC2GST to use\n",
    "specs  = pygsti.construction.build_spam_specs(fiducialGateStrings=fiducialList)\n",
    "germList = pygsti.io.load_gatestring_list(\"tutorial_files/Example_GermsList.txt\")\n",
    "maxLengthList = json.load(open(\"tutorial_files/Example_maxLengths.json\",\"r\"))\n",
    "lsgstListOfLists = [ pygsti.io.load_gatestring_list(\"tutorial_files/Example_LSGSTlist%d.txt\" % l) for l in maxLengthList]\n",
    "        \n",
    "gs_lsgst_list = pygsti.do_iterative_mc2gst(ds, gs_clgst, lsgstListOfLists, verbosity=2,\n",
    "                                         minProbClipForWeighting=1e-6, probClipInterval=(-1e6,1e6),\n",
    "                                         returnAll=True )\n",
    "\n",
    "go_gatesets = [ pygsti.optimize_gauge(gs, \"target\", targetGateset=gs_target, gateWeight=1, spamWeight=0.001) for gs in gs_lsgst_list]"
   ]
  },
  {
   "cell_type": "code",
   "execution_count": 3,
   "metadata": {
    "collapsed": false
   },
   "outputs": [],
   "source": [
    "res = pygsti.report.Results()\n",
    "res.init_Ls_and_germs(\"chi2\", gs_target, ds, gs_clgst, maxLengthList, germList,\n",
    "                    go_gatesets, lsgstListOfLists, fiducialList, fiducialList, \n",
    "                    pygsti.construction.repeat_with_max_length, False)"
   ]
  },
  {
   "cell_type": "code",
   "execution_count": 4,
   "metadata": {
    "collapsed": false,
    "scrolled": false
   },
   "outputs": [
    {
     "name": "stdout",
     "output_type": "stream",
     "text": [
      "  *** Generating tables ***\n",
      "   Iter 00 of 16 :   Generating table: targetSpamTable\n",
      "   Iter 01 of 16 :   Generating table: targetGatesTable\n",
      "   Iter 02 of 16 :   Generating table: datasetOverviewTable\n",
      "   Iter 03 of 16 :   Generating table: bestGatesetSpamTable\n",
      "   Iter 04 of 16 :   Generating table: bestGatesetSpamParametersTable\n",
      "   Iter 05 of 16 :   Generating table: bestGatesetGatesTable\n",
      "   Iter 06 of 16 :   Generating table: bestGatesetChoiTable\n",
      "   Iter 07 of 16 :   Generating table: bestGatesetDecompTable\n",
      "   Iter 08 of 16 :   Generating table: bestGatesetRotnAxisTable\n",
      "   Iter 09 of 16 :   Generating table: bestGatesetClosestUnitaryTable\n"
     ]
    },
    {
     "name": "stderr",
     "output_type": "stream",
     "text": [
      "/home/lsaldyt/.local/lib/python3.5/site-packages/numpy/lib/twodim_base.py:233: VisibleDeprecationWarning: using a non-integer number instead of an integer will result in an error in the future\n",
      "  m = zeros((N, M), dtype=dtype)\n",
      "/home/lsaldyt/.local/lib/python3.5/site-packages/numpy/lib/twodim_base.py:240: VisibleDeprecationWarning: using a non-integer number instead of an integer will result in an error in the future\n",
      "  m[:M-k].flat[i::M+1] = 1\n"
     ]
    },
    {
     "name": "stdout",
     "output_type": "stream",
     "text": [
      "   Iter 10 of 16 :   Generating table: bestGatesetVsTargetTable\n",
      "   Iter 11 of 16 :   Generating table: bestGatesetErrorGenTable\n",
      "   Iter 12 of 16 :   Generating table: fiducialListTable\n",
      "   Iter 13 of 16 :   Generating table: prepStrListTable\n",
      "   Iter 14 of 16 :   Generating table: effectStrListTable\n",
      "   Iter 15 of 16 :   Generating table: germListTable\n",
      "   Iter 16 of 16 :   Generating table: progressTable\n",
      "  *** Generating plots ***\n",
      "  Chi2 plots (2): \n",
      "   Iter 0 of 1 :   Generating figure: bestEstimateColorBoxPlot\n",
      "   Iter 1 of 1 :   Generating figure: invertedBestEstimateColorBoxPlot\n",
      "  \n",
      "  *** Merging into template file ***\n",
      "  Latex file(s) successfully generated.  Attempting to compile with pdflatex...\n",
      "\n",
      "ERROR: pdflatex returned code 256. Check Example_reportB.log to see details\n",
      "  *** Generating tables ***\n",
      "  Retrieving cached table: bestGatesetSpamTable\n",
      "  Retrieving cached table: bestGatesetSpamParametersTable\n",
      "  Retrieving cached table: bestGatesetGatesTable\n",
      "  Retrieving cached table: bestGatesetDecompTable\n",
      "  Retrieving cached table: bestGatesetRotnAxisTable\n",
      "  Retrieving cached table: bestGatesetVsTargetTable\n",
      "  Retrieving cached table: bestGatesetErrorGenTable\n",
      "  Retrieving cached table: progressTable\n",
      "  *** Generating plots ***\n",
      "  *** Merging into template file ***\n",
      "  Latex file(s) successfully generated.  Attempting to compile with pdflatex...\n",
      "\n",
      "ERROR: Error: pdflatex returned code 256. Check Example_briefB.log to see details\n",
      "  *** Generating tables ***\n",
      "  Retrieving cached table: targetSpamTable\n",
      "  Retrieving cached table: targetGatesTable\n",
      "  Retrieving cached table: datasetOverviewTable\n",
      "  Retrieving cached table: bestGatesetSpamTable\n",
      "  Retrieving cached table: bestGatesetSpamParametersTable\n",
      "  Retrieving cached table: bestGatesetGatesTable\n",
      "  Retrieving cached table: bestGatesetChoiTable\n",
      "  Retrieving cached table: bestGatesetDecompTable\n",
      "  Retrieving cached table: bestGatesetRotnAxisTable\n",
      "  Retrieving cached table: bestGatesetVsTargetTable\n",
      "  Retrieving cached table: bestGatesetErrorGenTable\n",
      "  Retrieving cached table: fiducialListTable\n",
      "  Retrieving cached table: prepStrListTable\n",
      "  Retrieving cached table: effectStrListTable\n",
      "  Retrieving cached table: germListTable\n",
      "  Retrieving cached table: progressTable\n",
      "  *** Generating plots ***\n",
      "   -- Chi2 plots (1):    Iter 0 of 0 :   Retrieving cached figure: bestEstimateColorBoxPlot\n",
      "  \n",
      "  *** Merging into template file ***\n",
      "  Latex file(s) successfully generated.  Attempting to compile with pdflatex...\n",
      "\n",
      "ERROR: Error: pdflatex returned code 256. Check Example_slidesB.log to see details\n",
      "  *** Generating tables ***\n",
      "   Iter 00 of 15 :   Retrieving cached table: targetSpamTable\n",
      "   Iter 01 of 15 :   Retrieving cached table: targetGatesTable\n",
      "   Iter 02 of 15 :   Retrieving cached table: datasetOverviewTable\n",
      "   Iter 03 of 15 :   Retrieving cached table: bestGatesetSpamTable\n",
      "   Iter 04 of 15 :   Retrieving cached table: bestGatesetSpamParametersTable\n",
      "   Iter 05 of 15 :   Retrieving cached table: bestGatesetGatesTable\n",
      "   Iter 06 of 15 :   Retrieving cached table: bestGatesetChoiTable\n",
      "   Iter 07 of 15 :   Retrieving cached table: bestGatesetDecompTable\n",
      "   Iter 08 of 15 :   Retrieving cached table: bestGatesetRotnAxisTable\n",
      "   Iter 09 of 15 :   Retrieving cached table: bestGatesetVsTargetTable\n",
      "   Iter 10 of 15 :   Retrieving cached table: bestGatesetErrorGenTable\n",
      "   Iter 11 of 15 :   Retrieving cached table: fiducialListTable\n",
      "   Iter 12 of 15 :   Retrieving cached table: prepStrListTable\n",
      "   Iter 13 of 15 :   Retrieving cached table: effectStrListTable\n",
      "   Iter 14 of 15 :   Retrieving cached table: germListTable\n",
      "   Iter 15 of 15 :   Retrieving cached table: progressTable\n",
      "  *** Generating plots ***\n",
      "   -- Chi2 plots (1):    Iter 0 of 0 :   Retrieving cached figure: bestEstimateColorBoxPlot\n",
      "  \n",
      "  *** Assembling PPT file ***\n",
      "  Latexing progressTable table...\n"
     ]
    },
    {
     "ename": "ValueError",
     "evalue": "pdflatex failed to render standalone progressTable",
     "output_type": "error",
     "traceback": [
      "\u001b[1;31m---------------------------------------------------------------------------\u001b[0m",
      "\u001b[1;31mValueError\u001b[0m                                Traceback (most recent call last)",
      "\u001b[1;32m/home/lsaldyt/pyGSTi/packages/pygsti/report/results.py\u001b[0m in \u001b[0;36mdraw_table_latex\u001b[1;34m(shapes, key, left, top, width, height, ptSize)\u001b[0m\n\u001b[0;32m   3034\u001b[0m                     \u001b[0m_os\u001b[0m\u001b[1;33m.\u001b[0m\u001b[0mremove\u001b[0m\u001b[1;33m(\u001b[0m \u001b[1;34m\"%s.aux\"\u001b[0m \u001b[1;33m%\u001b[0m \u001b[0mkey\u001b[0m \u001b[1;33m)\u001b[0m\u001b[1;33m\u001b[0m\u001b[0m\n\u001b[1;32m-> 3035\u001b[1;33m                 \u001b[1;32melse\u001b[0m\u001b[1;33m:\u001b[0m \u001b[1;32mraise\u001b[0m \u001b[0mValueError\u001b[0m\u001b[1;33m(\u001b[0m\u001b[1;34m\"pdflatex returned code %d trying to render standalone %s\"\u001b[0m \u001b[1;33m%\u001b[0m \u001b[1;33m(\u001b[0m\u001b[0mret\u001b[0m\u001b[1;33m,\u001b[0m\u001b[0mkey\u001b[0m\u001b[1;33m)\u001b[0m\u001b[1;33m)\u001b[0m\u001b[1;33m\u001b[0m\u001b[0m\n\u001b[0m\u001b[0;32m   3036\u001b[0m             \u001b[1;32mexcept\u001b[0m\u001b[1;33m:\u001b[0m\u001b[1;33m\u001b[0m\u001b[0m\n",
      "\u001b[1;31mValueError\u001b[0m: pdflatex returned code 256 trying to render standalone progressTable",
      "\nDuring handling of the above exception, another exception occurred:\n",
      "\u001b[1;31mValueError\u001b[0m                                Traceback (most recent call last)",
      "\u001b[1;32m<ipython-input-4-d508bd7d5225>\u001b[0m in \u001b[0;36m<module>\u001b[1;34m()\u001b[0m\n\u001b[0;32m     10\u001b[0m \u001b[1;33m\u001b[0m\u001b[0m\n\u001b[0;32m     11\u001b[0m res.create_presentation_ppt(filename=\"tutorial_files/Example_slidesB.ppt\", verbosity=2, confidenceLevel=None,\n\u001b[1;32m---> 12\u001b[1;33m                          debugAidsAppendix=False, pixelPlotAppendix=False, whackamoleAppendix=False)\n\u001b[0m",
      "\u001b[1;32m/home/lsaldyt/pyGSTi/packages/pygsti/report/results.py\u001b[0m in \u001b[0;36mcreate_presentation_ppt\u001b[1;34m(self, confidenceLevel, filename, title, datasetLabel, suffix, debugAidsAppendix, pixelPlotAppendix, whackamoleAppendix, m, M, verbosity, pptTables, comm)\u001b[0m\n\u001b[0;32m   3100\u001b[0m             \u001b[1;31m#body_shape = slide.shapes.placeholders[1]; tf = body_shape.text_frame\u001b[0m\u001b[1;33m\u001b[0m\u001b[1;33m\u001b[0m\u001b[0m\n\u001b[0;32m   3101\u001b[0m             \u001b[0madd_text_list\u001b[0m\u001b[1;33m(\u001b[0m\u001b[0mslide\u001b[0m\u001b[1;33m.\u001b[0m\u001b[0mshapes\u001b[0m\u001b[1;33m,\u001b[0m \u001b[1;36m1\u001b[0m\u001b[1;33m,\u001b[0m \u001b[1;36m2\u001b[0m\u001b[1;33m,\u001b[0m \u001b[1;36m8\u001b[0m\u001b[1;33m,\u001b[0m \u001b[1;36m2\u001b[0m\u001b[1;33m,\u001b[0m \u001b[1;33m[\u001b[0m\u001b[1;34m'Ns is the number of gate strings'\u001b[0m\u001b[1;33m,\u001b[0m \u001b[1;34m'Np is the number of parameters'\u001b[0m\u001b[1;33m]\u001b[0m\u001b[1;33m,\u001b[0m \u001b[1;36m15\u001b[0m\u001b[1;33m)\u001b[0m\u001b[1;33m\u001b[0m\u001b[0m\n\u001b[1;32m-> 3102\u001b[1;33m             \u001b[0mdrawTable\u001b[0m\u001b[1;33m(\u001b[0m\u001b[0mslide\u001b[0m\u001b[1;33m.\u001b[0m\u001b[0mshapes\u001b[0m\u001b[1;33m,\u001b[0m \u001b[1;34m'progressTable'\u001b[0m\u001b[1;33m,\u001b[0m \u001b[1;36m1\u001b[0m\u001b[1;33m,\u001b[0m \u001b[1;36m3\u001b[0m\u001b[1;33m,\u001b[0m \u001b[1;36m8.5\u001b[0m\u001b[1;33m,\u001b[0m \u001b[1;36m4\u001b[0m\u001b[1;33m,\u001b[0m \u001b[0mptSize\u001b[0m\u001b[1;33m=\u001b[0m\u001b[1;36m10\u001b[0m\u001b[1;33m)\u001b[0m\u001b[1;33m\u001b[0m\u001b[0m\n\u001b[0m\u001b[0;32m   3103\u001b[0m \u001b[1;33m\u001b[0m\u001b[0m\n\u001b[0;32m   3104\u001b[0m             \u001b[0mslide\u001b[0m \u001b[1;33m=\u001b[0m \u001b[0madd_slide\u001b[0m\u001b[1;33m(\u001b[0m\u001b[0mSLD_LAYOUT_TITLE_NO_CONTENT\u001b[0m\u001b[1;33m,\u001b[0m \u001b[1;34m\"Detailed %s Analysis\"\u001b[0m \u001b[1;33m%\u001b[0m \u001b[0mplotFnName\u001b[0m\u001b[1;33m)\u001b[0m\u001b[1;33m\u001b[0m\u001b[0m\n",
      "\u001b[1;32m/home/lsaldyt/pyGSTi/packages/pygsti/report/results.py\u001b[0m in \u001b[0;36mdraw_table_latex\u001b[1;34m(shapes, key, left, top, width, height, ptSize)\u001b[0m\n\u001b[0;32m   3035\u001b[0m                 \u001b[1;32melse\u001b[0m\u001b[1;33m:\u001b[0m \u001b[1;32mraise\u001b[0m \u001b[0mValueError\u001b[0m\u001b[1;33m(\u001b[0m\u001b[1;34m\"pdflatex returned code %d trying to render standalone %s\"\u001b[0m \u001b[1;33m%\u001b[0m \u001b[1;33m(\u001b[0m\u001b[0mret\u001b[0m\u001b[1;33m,\u001b[0m\u001b[0mkey\u001b[0m\u001b[1;33m)\u001b[0m\u001b[1;33m)\u001b[0m\u001b[1;33m\u001b[0m\u001b[0m\n\u001b[0;32m   3036\u001b[0m             \u001b[1;32mexcept\u001b[0m\u001b[1;33m:\u001b[0m\u001b[1;33m\u001b[0m\u001b[0m\n\u001b[1;32m-> 3037\u001b[1;33m                 \u001b[1;32mraise\u001b[0m \u001b[0mValueError\u001b[0m\u001b[1;33m(\u001b[0m\u001b[1;34m\"pdflatex failed to render standalone %s\"\u001b[0m \u001b[1;33m%\u001b[0m \u001b[0mkey\u001b[0m\u001b[1;33m)\u001b[0m\u001b[1;33m\u001b[0m\u001b[0m\n\u001b[0m\u001b[0;32m   3038\u001b[0m             \u001b[1;32mfinally\u001b[0m\u001b[1;33m:\u001b[0m\u001b[1;33m\u001b[0m\u001b[0m\n\u001b[0;32m   3039\u001b[0m                 \u001b[0m_os\u001b[0m\u001b[1;33m.\u001b[0m\u001b[0mchdir\u001b[0m\u001b[1;33m(\u001b[0m\u001b[0mcwd\u001b[0m\u001b[1;33m)\u001b[0m\u001b[1;33m\u001b[0m\u001b[0m\n",
      "\u001b[1;31mValueError\u001b[0m: pdflatex failed to render standalone progressTable"
     ]
    }
   ],
   "source": [
    "#Make smaller reports (no confidence intervals or appendicies)\n",
    "res.create_full_report_pdf(filename=\"tutorial_files/Example_reportB.pdf\", verbosity=2, confidenceLevel=None,\n",
    "                        debugAidsAppendix=False, gaugeOptAppendix=False,\n",
    "                        pixelPlotAppendix=False, whackamoleAppendix=False)\n",
    "\n",
    "res.create_brief_report_pdf(filename=\"tutorial_files/Example_briefB.pdf\", verbosity=2, confidenceLevel=None)\n",
    "\n",
    "res.create_presentation_pdf(filename=\"tutorial_files/Example_slidesB.pdf\", verbosity=2, confidenceLevel=None,\n",
    "                         debugAidsAppendix=False, pixelPlotAppendix=False, whackamoleAppendix=False)\n",
    "\n",
    "res.create_presentation_ppt(filename=\"tutorial_files/Example_slidesB.ppt\", verbosity=2, confidenceLevel=None,\n",
    "                         debugAidsAppendix=False, pixelPlotAppendix=False, whackamoleAppendix=False)"
   ]
  },
  {
   "cell_type": "code",
   "execution_count": null,
   "metadata": {
    "collapsed": false,
    "scrolled": true
   },
   "outputs": [],
   "source": [
    "res.create_full_report_pdf(filename=\"tutorial_files/Example_report.pdf\", verbosity=2, confidenceLevel=95,\n",
    "                        debugAidsAppendix=True, gaugeOptAppendix=True,\n",
    "                        pixelPlotAppendix=True, whackamoleAppendix=True)\n",
    "\n",
    "res.create_brief_report_pdf(filename=\"tutorial_files/Example_brief.pdf\", verbosity=2, confidenceLevel=95)\n",
    "\n",
    "res.create_presentation_pdf(filename=\"tutorial_files/Example_slides.pdf\", verbosity=2, confidenceLevel=95,\n",
    "                         debugAidsAppendix=True, pixelPlotAppendix=True, whackamoleAppendix=True)\n",
    "\n",
    "res.create_presentation_ppt(filename=\"tutorial_files/Example_slides.ppt\", verbosity=2, confidenceLevel=95,\n",
    "                         debugAidsAppendix=True, pixelPlotAppendix=True, whackamoleAppendix=True)"
   ]
  },
  {
   "cell_type": "code",
   "execution_count": null,
   "metadata": {
    "collapsed": false
   },
   "outputs": [],
   "source": [
    "import pygsti.report.latex as LU\n",
    "reload(LU)\n",
    "LU.latex_value(1.2e30,2)"
   ]
  },
  {
   "cell_type": "code",
   "execution_count": null,
   "metadata": {
    "collapsed": false
   },
   "outputs": [],
   "source": []
  }
 ],
 "metadata": {
  "kernelspec": {
   "display_name": "Python 3",
   "language": "python",
   "name": "python3"
  },
  "language_info": {
   "codemirror_mode": {
    "name": "ipython",
    "version": 3
   },
   "file_extension": ".py",
   "mimetype": "text/x-python",
   "name": "python",
   "nbconvert_exporter": "python",
   "pygments_lexer": "ipython3",
   "version": "3.5.1+"
  }
 },
 "nbformat": 4,
 "nbformat_minor": 0
}
