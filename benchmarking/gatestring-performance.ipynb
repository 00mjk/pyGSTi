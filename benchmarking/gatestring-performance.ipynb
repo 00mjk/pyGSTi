{
 "cells": [
  {
   "cell_type": "code",
   "execution_count": 40,
   "metadata": {
    "collapsed": true
   },
   "outputs": [],
   "source": [
    "from pygsti.objects import gatestring as _gs\n",
    "from pygsti.construction import list_all_gatestrings_onelen, list_all_gatestrings\n",
    "from pygsti.construction import gen_all_gatestrings_onelen, gen_all_gatestrings\n",
    "import itertools as _itertools"
   ]
  },
  {
   "cell_type": "code",
   "execution_count": 41,
   "metadata": {
    "collapsed": true
   },
   "outputs": [],
   "source": [
    "def itertools_onelen(gateLabels, length):\n",
    "    gateTuples = _itertools.product(gateLabels, repeat=length)\n",
    "    return list(map(_gs.GateString, gateTuples))"
   ]
  },
  {
   "cell_type": "code",
   "execution_count": 42,
   "metadata": {
    "collapsed": true
   },
   "outputs": [],
   "source": [
    "myGates = [ 'Gx', 'Gy' ]"
   ]
  },
  {
   "cell_type": "markdown",
   "metadata": {},
   "source": [
    "## Performance"
   ]
  },
  {
   "cell_type": "markdown",
   "metadata": {},
   "source": [
    "Check to see which implementation performs faster."
   ]
  },
  {
   "cell_type": "markdown",
   "metadata": {},
   "source": [
    "### Long sequences"
   ]
  },
  {
   "cell_type": "code",
   "execution_count": 43,
   "metadata": {
    "collapsed": false,
    "scrolled": false
   },
   "outputs": [
    {
     "name": "stdout",
     "output_type": "stream",
     "text": [
      "10 loops, best of 3: 44.9 ms per loop\n"
     ]
    }
   ],
   "source": [
    "%timeit -n 10 list_all_gatestrings_onelen(myGates, 15)"
   ]
  },
  {
   "cell_type": "code",
   "execution_count": 44,
   "metadata": {
    "collapsed": false,
    "scrolled": true
   },
   "outputs": [
    {
     "name": "stdout",
     "output_type": "stream",
     "text": [
      "10 loops, best of 3: 44.1 ms per loop\n"
     ]
    }
   ],
   "source": [
    "%timeit -n 10 itertools_onelen(myGates, 15)"
   ]
  },
  {
   "cell_type": "markdown",
   "metadata": {},
   "source": [
    "### Short sequences"
   ]
  },
  {
   "cell_type": "code",
   "execution_count": 45,
   "metadata": {
    "collapsed": false,
    "scrolled": false
   },
   "outputs": [
    {
     "name": "stdout",
     "output_type": "stream",
     "text": [
      "10 loops, best of 3: 46.7 µs per loop\n"
     ]
    }
   ],
   "source": [
    "%timeit -n 10 list_all_gatestrings_onelen(myGates, 5)"
   ]
  },
  {
   "cell_type": "code",
   "execution_count": 46,
   "metadata": {
    "collapsed": false
   },
   "outputs": [
    {
     "name": "stdout",
     "output_type": "stream",
     "text": [
      "10 loops, best of 3: 46.5 µs per loop\n"
     ]
    }
   ],
   "source": [
    "%timeit -n 10 itertools_onelen(myGates, 5)"
   ]
  },
  {
   "cell_type": "markdown",
   "metadata": {},
   "source": [
    "## Correctness"
   ]
  },
  {
   "cell_type": "markdown",
   "metadata": {},
   "source": [
    "Make sure the new implementation gives the same results."
   ]
  },
  {
   "cell_type": "code",
   "execution_count": 47,
   "metadata": {
    "collapsed": false
   },
   "outputs": [
    {
     "data": {
      "text/plain": [
       "True"
      ]
     },
     "execution_count": 47,
     "metadata": {},
     "output_type": "execute_result"
    }
   ],
   "source": [
    "all([list_all_gatestrings_onelen(myGates, length) == itertools_onelen(myGates, length)\n",
    "     for length in range(15)])"
   ]
  },
  {
   "cell_type": "markdown",
   "metadata": {},
   "source": [
    "The implementation using itertools seems to perform correctly and about 4x as quickly\n",
    "as the current implementation."
   ]
  },
  {
   "cell_type": "markdown",
   "metadata": {
    "collapsed": true
   },
   "source": [
    "## All gatestrings"
   ]
  },
  {
   "cell_type": "code",
   "execution_count": 48,
   "metadata": {
    "collapsed": true
   },
   "outputs": [],
   "source": [
    "def iter_list_all_gatestrings(gateLabels, minlength, maxlength):\n",
    "    gateTuples = _itertools.chain(*[_itertools.product(gateLabels, repeat=N)\n",
    "                                    for N in range(minlength, maxlength + 1)])\n",
    "    return list(map(_gs.GateString, gateTuples))"
   ]
  },
  {
   "cell_type": "code",
   "execution_count": 49,
   "metadata": {
    "collapsed": false
   },
   "outputs": [
    {
     "data": {
      "text/plain": [
       "True"
      ]
     },
     "execution_count": 49,
     "metadata": {},
     "output_type": "execute_result"
    }
   ],
   "source": [
    "all([list_all_gatestrings(myGates, minlength, maxlength) ==\n",
    "     iter_list_all_gatestrings(myGates, minlength, maxlength)\n",
    "     for minlength, maxlength in\n",
    "     list(_itertools.chain(*[_itertools.product(range(N + 1), [N]) for N in range(15)]))])"
   ]
  },
  {
   "cell_type": "code",
   "execution_count": 50,
   "metadata": {
    "collapsed": false
   },
   "outputs": [
    {
     "name": "stdout",
     "output_type": "stream",
     "text": [
      "10 loops, best of 3: 94.4 ms per loop\n"
     ]
    }
   ],
   "source": [
    "%timeit -n 10 list_all_gatestrings(myGates, 0, 15)"
   ]
  },
  {
   "cell_type": "code",
   "execution_count": 51,
   "metadata": {
    "collapsed": false
   },
   "outputs": [
    {
     "name": "stdout",
     "output_type": "stream",
     "text": [
      "10 loops, best of 3: 104 ms per loop\n"
     ]
    }
   ],
   "source": [
    "%timeit -n 10 iter_list_all_gatestrings(myGates, 0, 15)"
   ]
  },
  {
   "cell_type": "code",
   "execution_count": 52,
   "metadata": {
    "collapsed": true
   },
   "outputs": [],
   "source": [
    "def iter_gen_onelen(gateLabels, length):\n",
    "    for gateTuple in _itertools.product(gateLabels, repeat=length):\n",
    "        yield _gs.GateString(gateTuple)"
   ]
  },
  {
   "cell_type": "code",
   "execution_count": 53,
   "metadata": {
    "collapsed": false
   },
   "outputs": [
    {
     "name": "stdout",
     "output_type": "stream",
     "text": [
      "Equal once one finished? True\n",
      "gen1 still had: \n",
      "gen2 still had:\n"
     ]
    }
   ],
   "source": [
    "gen1 = gen_all_gatestrings_onelen(myGates, 15)\n",
    "gen2 = iter_gen_onelen(myGates, 15)\n",
    "comparisons = []\n",
    "while True:\n",
    "    try:\n",
    "        comparisons.append(gen1.next() == gen2.next())\n",
    "    except StopIteration:\n",
    "        break\n",
    "print 'Equal once one finished?', all(comparisons)\n",
    "try:\n",
    "    print 'gen1 still had:', gen1.next()\n",
    "except StopIteration:\n",
    "    pass\n",
    "try:\n",
    "    print '\\ngen2 still had:', gen2.next()\n",
    "except StopIteration:\n",
    "    pass"
   ]
  },
  {
   "cell_type": "code",
   "execution_count": 54,
   "metadata": {
    "collapsed": true
   },
   "outputs": [],
   "source": [
    "def iter_gen_all(gateLabels, minlength, maxlength):\n",
    "    gateTuples = _itertools.chain(*[_itertools.product(gateLabels, repeat=N)\n",
    "                                    for N in range(minlength, maxlength + 1)])\n",
    "    for gateTuple in gateTuples:\n",
    "        yield _gs.GateString(gateTuple)"
   ]
  },
  {
   "cell_type": "code",
   "execution_count": 55,
   "metadata": {
    "collapsed": false
   },
   "outputs": [
    {
     "name": "stdout",
     "output_type": "stream",
     "text": [
      "Equal once one finished? True\n",
      "gen3 still had: \n",
      "gen4 still had:\n"
     ]
    }
   ],
   "source": [
    "gen3 = gen_all_gatestrings(myGates, 0, 15)\n",
    "gen4 = iter_gen_all(myGates, 0, 15)\n",
    "comparisons = []\n",
    "while True:\n",
    "    try:\n",
    "        comparisons.append(gen3.next() == gen4.next())\n",
    "    except StopIteration:\n",
    "        break\n",
    "print 'Equal once one finished?', all(comparisons)\n",
    "try:\n",
    "    print 'gen3 still had:', gen3.next()\n",
    "except StopIteration:\n",
    "    pass\n",
    "try:\n",
    "    print '\\ngen4 still had:', gen4.next()\n",
    "except StopIteration:\n",
    "    pass"
   ]
  },
  {
   "cell_type": "code",
   "execution_count": null,
   "metadata": {
    "collapsed": true
   },
   "outputs": [],
   "source": []
  }
 ],
 "metadata": {
  "kernelspec": {
   "display_name": "Python 2",
   "language": "python",
   "name": "python2"
  },
  "language_info": {
   "codemirror_mode": {
    "name": "ipython",
    "version": 2
   },
   "file_extension": ".py",
   "mimetype": "text/x-python",
   "name": "python",
   "nbconvert_exporter": "python",
   "pygments_lexer": "ipython2",
   "version": "2.7.11"
  }
 },
 "nbformat": 4,
 "nbformat_minor": 0
}
