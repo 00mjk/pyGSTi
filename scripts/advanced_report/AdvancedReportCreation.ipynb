{
 "cells": [
  {
   "cell_type": "markdown",
   "metadata": {},
   "source": [
    "# Advanced Report Creation\n",
    "\n",
    "Pygsti can now create jupyter notebooks from python, using a custom `Notebook` object, which has convenience methods built around a `json` representation of a jupyter notebook."
   ]
  },
  {
   "cell_type": "markdown",
   "metadata": {},
   "source": [
    "## Hello World\n",
    "The simplest functions for manipulating the `Notebook` object are `add_markdown` and `add_code`, which can be used to put python strings into notebook cells:"
   ]
  },
  {
   "cell_type": "code",
   "execution_count": 9,
   "metadata": {
    "collapsed": false
   },
   "outputs": [
    {
     "name": "stdout",
     "output_type": "stream",
     "text": [
      "Hello world notebook creation and launch took 0.008192 seconds\n",
      "\n"
     ]
    }
   ],
   "source": [
    "from pygsti.report import Notebook\n",
    "from pygsti.tools  import timed_block\n",
    "\n",
    "with timed_block('Hello world notebook creation and launch'):\n",
    "    nb = Notebook()\n",
    "    nb.add_markdown('''\n",
    "# Hello World Notebook\n",
    "This notebook prints \"Hello, World\":''')\n",
    "    nb.add_code('''print('Hello, World')''')\n",
    "    nb.launch_as('HelloWorld.ipynb')"
   ]
  },
  {
   "cell_type": "markdown",
   "metadata": {},
   "source": [
    "## File loading\n",
    "However, hard-coding strings in python can be a pain, especially as the size of the report increases.  \n",
    "Also, docstrings are easily messed up by indentation (see cell above).  \n",
    "To get around this, code and markdown can also be loaded from file. For the purposes of this tutorial, two files have been created in this directory: `lorem.md` and `lorem.py`"
   ]
  },
  {
   "cell_type": "code",
   "execution_count": 10,
   "metadata": {
    "collapsed": false
   },
   "outputs": [
    {
     "name": "stdout",
     "output_type": "stream",
     "text": [
      "Simple notebook file loading took 0.009266 seconds\n",
      "\n"
     ]
    }
   ],
   "source": [
    "with timed_block('Simple notebook file loading'):\n",
    "    nb = Notebook()\n",
    "    nb.add_markdown_file('lorem.md')\n",
    "    nb.add_code_file('lorem.py')\n",
    "    nb.launch_as('Lorem.ipynb')"
   ]
  },
  {
   "cell_type": "markdown",
   "metadata": {},
   "source": [
    "## Advanced File Loading\n",
    "`Notebook` objects can also load formatted text, or other notebooks.\n",
    "\"Formatted text\" is a file that contains both python code and markdown, separated by the special tags \"@@code\" and \"@@markdown\""
   ]
  },
  {
   "cell_type": "code",
   "execution_count": 11,
   "metadata": {
    "collapsed": false
   },
   "outputs": [
    {
     "name": "stdout",
     "output_type": "stream",
     "text": [
      "Advanced file loading took 2.4e-05 seconds\n",
      "\n"
     ]
    }
   ],
   "source": [
    "with timed_block('Advanced file loading'):\n",
    "    nb = Notebook()\n",
    "    "
   ]
  },
  {
   "cell_type": "code",
   "execution_count": null,
   "metadata": {
    "collapsed": true
   },
   "outputs": [],
   "source": [
    "# REFERENCE\n",
    "#!/usr/bin/env python3\n",
    "from pygsti.report import Notebook\n",
    "\n",
    "import time\n",
    "\n",
    "def main():\n",
    "    nb = Notebook()\n",
    "    nb.add_markdown('# Pygsti report\\n(Created on {})'.format(time.strftime(\"%B %d, %Y\")))\n",
    "    nb.add_code_file('templates/setup.py')\n",
    "    nb.add_code_file('templates/vars.py')\n",
    "    nb.add_code_file('templates/workspace.py')\n",
    "    nb.add_notebook_text_files([\n",
    "        'templates/summary.txt',\n",
    "        'templates/goodness.txt',\n",
    "        'templates/gauge_invariant.txt',\n",
    "        'templates/gauge_variant.txt',\n",
    "        'templates/data_comparison.txt',\n",
    "        'templates/input.txt',\n",
    "        'templates/meta.txt'])\n",
    "    nb.launch_as('AdvancedReport.ipynb')\n",
    "\n",
    "if __name__ == '__main__':\n",
    "    main()\n"
   ]
  }
 ],
 "metadata": {
  "kernelspec": {
   "display_name": "Python 3",
   "language": "python",
   "name": "python3"
  },
  "language_info": {
   "codemirror_mode": {
    "name": "ipython",
    "version": 3
   },
   "file_extension": ".py",
   "mimetype": "text/x-python",
   "name": "python",
   "nbconvert_exporter": "python",
   "pygments_lexer": "ipython3",
   "version": "3.5.2"
  }
 },
 "nbformat": 4,
 "nbformat_minor": 2
}
