{
 "cells": [
  {
   "cell_type": "markdown",
   "metadata": {},
   "source": [
    "# Lorem Ipsum\n",
    "## \"Neque porro quisquam est qui dolorem ipsum quia dolor sit amet, consectetur, adipisci velit...\"\n",
    "\n",
    "Lorem ipsum dolor sit amet, consectetur adipiscing elit. Mauris ut tellus in eros lobortis mollis. Sed vestibulum porttitor est, convallis varius mi efficitur non. Suspendisse tempus lectus tempus feugiat consequat. Proin quis aliquam orci. Donec sit amet turpis nec neque tempor vehicula sit amet ac arcu. Mauris congue sem ut nunc suscipit posuere. Pellentesque ante risus, auctor id consectetur ac, feugiat eu massa. Fusce tortor neque, mattis placerat enim ac, luctus commodo augue. Etiam iaculis turpis arcu. Nam ornare varius rhoncus. Curabitur sed molestie metus. Etiam eget nunc tempus est convallis aliquet vel sit amet nulla. Sed accumsan, orci vel porttitor finibus, lacus erat faucibus risus, ac ornare augue mi sed felis. Aenean vel porta orci.\n",
    "\n",
    "Donec tincidunt tempor augue. Donec suscipit, diam a tincidunt vehicula, erat ex lacinia leo, quis pharetra elit tellus et nibh. Duis eros nisi, ullamcorper sed leo in, blandit suscipit dolor. Nulla sit amet urna turpis. Sed in justo non tortor vulputate congue. Maecenas viverra consequat suscipit. Sed interdum ut magna non sodales. \n"
   ]
  },
  {
   "cell_type": "code",
   "execution_count": 1,
   "metadata": {
    "collapsed": false
   },
   "outputs": [
    {
     "name": "stdout",
     "output_type": "stream",
     "text": [
      "Lorem ipsum dolor sit amet, consectetur adipiscing elit.\n",
      " Mauris ut tellus in eros lobortis mollis.\n",
      " Sed vestibulum porttitor est, convallis varius mi efficitur non.\n",
      " Suspendisse tempus lectus tempus feugiat consequat.\n",
      " Proin quis aliquam orci.\n",
      " Donec sit amet turpis nec neque tempor vehicula sit amet ac arcu.\n",
      " Mauris congue sem ut nunc suscipit posuere.\n",
      " Pellentesque ante risus, auctor id consectetur ac, feugiat eu massa.\n",
      " Fusce tortor neque, mattis placerat enim ac, luctus\n"
     ]
    }
   ],
   "source": [
    "class Lorem(object):\n",
    "    def __init__(self):\n",
    "        pass\n",
    "\n",
    "    def show(self):\n",
    "        print('''Lorem ipsum dolor sit amet, consectetur adipiscing elit.\\n Mauris ut tellus in eros lobortis mollis.\\n Sed vestibulum porttitor est, convallis varius mi efficitur non.\\n Suspendisse tempus lectus tempus feugiat consequat.\\n Proin quis aliquam orci.\\n Donec sit amet turpis nec neque tempor vehicula sit amet ac arcu.\\n Mauris congue sem ut nunc suscipit posuere.\\n Pellentesque ante risus, auctor id consectetur ac, feugiat eu massa.\\n Fusce tortor neque, mattis placerat enim ac, luctus''')\n",
    "\n",
    "def main():\n",
    "    l = Lorem()\n",
    "    l.show()\n",
    "\n",
    "main()\n"
   ]
  },
  {
   "cell_type": "code",
   "execution_count": null,
   "metadata": {
    "collapsed": true
   },
   "outputs": [],
   "source": []
  }
 ],
 "metadata": {
  "kernelspec": {
   "display_name": "Python 3",
   "language": "python",
   "name": "python3"
  },
  "language_info": {
   "codemirror_mode": {
    "name": "ipython",
    "version": 3
   },
   "file_extension": ".py",
   "mimetype": "text/x-python",
   "name": "python",
   "nbconvert_exporter": "python",
   "pygments_lexer": "ipython3",
   "version": "3.5.2"
  }
 },
 "nbformat": 4,
 "nbformat_minor": 2
}
